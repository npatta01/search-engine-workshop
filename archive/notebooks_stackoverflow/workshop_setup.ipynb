{
 "cells": [
  {
   "cell_type": "code",
   "execution_count": null,
   "id": "92773bd8-4d3e-47d0-af4f-52216bb43465",
   "metadata": {},
   "outputs": [],
   "source": []
  },
  {
   "cell_type": "code",
   "execution_count": 1,
   "id": "55d91d10-03a4-46ad-b011-a1cfd22ab1e7",
   "metadata": {},
   "outputs": [],
   "source": [
    "from sentence_transformers import SentenceTransformer,  CrossEncoder, util\n",
    "import os"
   ]
  },
  {
   "cell_type": "code",
   "execution_count": null,
   "id": "1cd6384a-b5e3-4d82-9a07-35b821524321",
   "metadata": {},
   "outputs": [],
   "source": []
  },
  {
   "cell_type": "code",
   "execution_count": null,
   "id": "9451b070-e18c-46c3-a012-6e2878cc26f4",
   "metadata": {},
   "outputs": [],
   "source": [
    "model = SentenceTransformer('flax-sentence-embeddings/stackoverflow_mpnet-base')\n"
   ]
  },
  {
   "cell_type": "code",
   "execution_count": null,
   "id": "f414975a-3dc2-4eb6-9b3b-bd24be4d18a4",
   "metadata": {},
   "outputs": [],
   "source": []
  },
  {
   "cell_type": "code",
   "execution_count": null,
   "id": "24f40c4c-a183-4d84-b70e-4a1a86a229ee",
   "metadata": {},
   "outputs": [],
   "source": [
    "bi_encoder = SentenceTransformer('multi-qa-MiniLM-L6-cos-v1')\n"
   ]
  },
  {
   "cell_type": "code",
   "execution_count": null,
   "id": "8983c00d-214d-4df3-b024-154b2105ace5",
   "metadata": {},
   "outputs": [],
   "source": [
    "cross_encoder = CrossEncoder('cross-encoder/ms-marco-MiniLM-L-6-v2')\n"
   ]
  },
  {
   "cell_type": "code",
   "execution_count": null,
   "id": "1770345e-6eff-4761-bf39-64020967cc51",
   "metadata": {},
   "outputs": [],
   "source": []
  },
  {
   "cell_type": "code",
   "execution_count": null,
   "id": "a8834f31-56cf-4760-b0e6-c86e3b8efd39",
   "metadata": {},
   "outputs": [],
   "source": [
    "wikipedia_filepath = 'simplewiki-2020-11-01.jsonl.gz'\n",
    "\n",
    "if not os.path.exists(wikipedia_filepath):\n",
    "    util.http_get('http://sbert.net/datasets/simplewiki-2020-11-01.jsonl.gz', wikipedia_filepath)\n"
   ]
  }
 ],
 "metadata": {
  "environment": {
   "kernel": "python3",
   "name": "pytorch-gpu.1-12.m99",
   "type": "gcloud",
   "uri": "gcr.io/deeplearning-platform-release/pytorch-gpu.1-12:m99"
  },
  "kernelspec": {
   "display_name": "Python 3",
   "language": "python",
   "name": "python3"
  },
  "language_info": {
   "codemirror_mode": {
    "name": "ipython",
    "version": 3
   },
   "file_extension": ".py",
   "mimetype": "text/x-python",
   "name": "python",
   "nbconvert_exporter": "python",
   "pygments_lexer": "ipython3",
   "version": "3.7.12"
  }
 },
 "nbformat": 4,
 "nbformat_minor": 5
}
