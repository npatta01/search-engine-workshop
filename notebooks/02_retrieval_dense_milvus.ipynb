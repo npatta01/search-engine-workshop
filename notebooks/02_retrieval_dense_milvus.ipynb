{
 "cells": [
  {
   "cell_type": "code",
   "execution_count": 1,
   "id": "4e2638fb-b8d1-4b90-8481-cbc9aa09e034",
   "metadata": {},
   "outputs": [],
   "source": [
    "# import os\n",
    "# os.environ[\"TOKENIZERS_PARALLELISM\"] = \"false\""
   ]
  },
  {
   "cell_type": "code",
   "execution_count": null,
   "id": "07dc00a2-93f4-4a67-b587-949838f5b148",
   "metadata": {},
   "outputs": [],
   "source": []
  },
  {
   "cell_type": "code",
   "execution_count": 2,
   "id": "0561f049-59f5-44dd-964a-ba50eb0cf8ba",
   "metadata": {},
   "outputs": [],
   "source": [
    "import datetime\n",
    "import pickle\n",
    "import uuid\n",
    "import datetime\n",
    "import numpy as np\n",
    "import time\n",
    "import pandas as pd\n",
    "import tqdm"
   ]
  },
  {
   "cell_type": "code",
   "execution_count": null,
   "id": "19366214-a5a8-4abf-a932-c05823603eee",
   "metadata": {},
   "outputs": [],
   "source": []
  },
  {
   "cell_type": "code",
   "execution_count": null,
   "id": "33f667fd-e03f-4511-9c77-b76af92b0bbb",
   "metadata": {},
   "outputs": [],
   "source": []
  },
  {
   "cell_type": "code",
   "execution_count": 3,
   "id": "b704d0b5-01c2-4c71-8d03-c9d40a17e5b6",
   "metadata": {},
   "outputs": [
    {
     "name": "stderr",
     "output_type": "stream",
     "text": [
      "/opt/conda/envs/stackoverflow/lib/python3.8/site-packages/scipy/__init__.py:146: UserWarning: A NumPy version >=1.16.5 and <1.23.0 is required for this version of SciPy (detected version 1.23.4\n",
      "  warnings.warn(f\"A NumPy version >={np_minversion} and <{np_maxversion}\"\n"
     ]
    }
   ],
   "source": [
    "from pymilvus import (\n",
    "    connections,\n",
    "    utility,\n",
    "    FieldSchema, CollectionSchema, DataType,\n",
    "    Collection,\n",
    ")\n",
    "import pymilvus\n",
    "\n",
    "from sentence_transformers import SentenceTransformer\n"
   ]
  },
  {
   "cell_type": "code",
   "execution_count": null,
   "id": "e88f8fe6-1e6a-43c3-a045-397a9e154c54",
   "metadata": {},
   "outputs": [],
   "source": []
  },
  {
   "cell_type": "code",
   "execution_count": 4,
   "id": "4ee649e4-421e-4cec-805e-8d8a86f9639f",
   "metadata": {},
   "outputs": [],
   "source": [
    "# from pandarallel import pandarallel\n",
    "\n",
    "# pandarallel.initialize(progress_bar=True)"
   ]
  },
  {
   "cell_type": "code",
   "execution_count": null,
   "id": "92bc2a2a-734d-452f-8018-9662eb17a3c4",
   "metadata": {},
   "outputs": [],
   "source": []
  },
  {
   "cell_type": "code",
   "execution_count": null,
   "id": "4bd2cc03-4b81-44ca-84ba-ee486d2a9082",
   "metadata": {},
   "outputs": [],
   "source": []
  },
  {
   "cell_type": "code",
   "execution_count": null,
   "id": "053c84fc-f506-4d01-82ff-0862cfd42af9",
   "metadata": {},
   "outputs": [],
   "source": []
  },
  {
   "cell_type": "code",
   "execution_count": null,
   "id": "00214a3d-fe43-466c-8324-c7414bdc82ec",
   "metadata": {},
   "outputs": [],
   "source": []
  },
  {
   "cell_type": "code",
   "execution_count": 5,
   "id": "6c05d70f-52e2-4488-9ea1-659daa6f68d7",
   "metadata": {},
   "outputs": [],
   "source": [
    "path_posts = \"gs://np-training-tmp/stackoverflow/final_subset/posts.parquet\"\n",
    "path_posts_related = \"gs://np-training-tmp/stackoverflow/final_subset/related_posts.parquet\""
   ]
  },
  {
   "cell_type": "code",
   "execution_count": null,
   "id": "1e5eb107-ad34-4b17-854b-6e39efaec8e3",
   "metadata": {},
   "outputs": [],
   "source": []
  },
  {
   "cell_type": "code",
   "execution_count": null,
   "id": "8d5350d2-3f52-4042-bc94-6ad17f7a21b7",
   "metadata": {},
   "outputs": [],
   "source": []
  },
  {
   "cell_type": "code",
   "execution_count": 6,
   "id": "e2e210de-b8bd-4a4c-8caf-d6e44cacb129",
   "metadata": {},
   "outputs": [],
   "source": [
    "collection_name = \"stackoverflow\""
   ]
  },
  {
   "cell_type": "code",
   "execution_count": 7,
   "id": "2ba47df4-45c6-4a5f-8947-0b77de3986e1",
   "metadata": {},
   "outputs": [],
   "source": [
    "# def get_model():\n",
    "#     model = SentenceTransformer('flax-sentence-embeddings/stackoverflow_mpnet-base')\n",
    "#     return model\n",
    "    \n",
    "# def get_milvus_connection(collection_name):\n",
    "#     milvus_client = Collection(collection_name)\n",
    "#     return milvus_client"
   ]
  },
  {
   "cell_type": "code",
   "execution_count": null,
   "id": "3b394452-8fd1-4491-8d53-54f8b4da482a",
   "metadata": {},
   "outputs": [],
   "source": []
  },
  {
   "cell_type": "code",
   "execution_count": 8,
   "id": "de3fc2a0-0055-4ed6-847d-94b92b4c1bb0",
   "metadata": {},
   "outputs": [],
   "source": [
    "model = SentenceTransformer('flax-sentence-embeddings/stackoverflow_mpnet-base')\n"
   ]
  },
  {
   "cell_type": "code",
   "execution_count": 9,
   "id": "6fca3a6f-f795-42b3-887e-68cfc238bdb5",
   "metadata": {},
   "outputs": [],
   "source": [
    "text = \"Replace me by any question / answer you'd like.\"\n",
    "text_embbedding = model.encode(text)"
   ]
  },
  {
   "cell_type": "code",
   "execution_count": 10,
   "id": "6e873ce3-1c25-42f7-9086-e8d8ad752f45",
   "metadata": {},
   "outputs": [
    {
     "data": {
      "text/plain": [
       "(768,)"
      ]
     },
     "execution_count": 10,
     "metadata": {},
     "output_type": "execute_result"
    }
   ],
   "source": [
    "text_embbedding.shape\n"
   ]
  },
  {
   "cell_type": "markdown",
   "id": "502239a4-b5ff-4f14-be6f-478344cd8e9d",
   "metadata": {
    "tags": []
   },
   "source": [
    "model."
   ]
  },
  {
   "cell_type": "code",
   "execution_count": 11,
   "id": "1816a4fa-c8ed-4566-90bc-7d5c9705f778",
   "metadata": {},
   "outputs": [
    {
     "data": {
      "text/plain": [
       "\u001b[0;31mSignature:\u001b[0m\n",
       "\u001b[0mmodel\u001b[0m\u001b[0;34m.\u001b[0m\u001b[0mencode\u001b[0m\u001b[0;34m(\u001b[0m\u001b[0;34m\u001b[0m\n",
       "\u001b[0;34m\u001b[0m    \u001b[0msentences\u001b[0m\u001b[0;34m:\u001b[0m \u001b[0mUnion\u001b[0m\u001b[0;34m[\u001b[0m\u001b[0mstr\u001b[0m\u001b[0;34m,\u001b[0m \u001b[0mList\u001b[0m\u001b[0;34m[\u001b[0m\u001b[0mstr\u001b[0m\u001b[0;34m]\u001b[0m\u001b[0;34m]\u001b[0m\u001b[0;34m,\u001b[0m\u001b[0;34m\u001b[0m\n",
       "\u001b[0;34m\u001b[0m    \u001b[0mbatch_size\u001b[0m\u001b[0;34m:\u001b[0m \u001b[0mint\u001b[0m \u001b[0;34m=\u001b[0m \u001b[0;36m32\u001b[0m\u001b[0;34m,\u001b[0m\u001b[0;34m\u001b[0m\n",
       "\u001b[0;34m\u001b[0m    \u001b[0mshow_progress_bar\u001b[0m\u001b[0;34m:\u001b[0m \u001b[0mbool\u001b[0m \u001b[0;34m=\u001b[0m \u001b[0;32mNone\u001b[0m\u001b[0;34m,\u001b[0m\u001b[0;34m\u001b[0m\n",
       "\u001b[0;34m\u001b[0m    \u001b[0moutput_value\u001b[0m\u001b[0;34m:\u001b[0m \u001b[0mstr\u001b[0m \u001b[0;34m=\u001b[0m \u001b[0;34m'sentence_embedding'\u001b[0m\u001b[0;34m,\u001b[0m\u001b[0;34m\u001b[0m\n",
       "\u001b[0;34m\u001b[0m    \u001b[0mconvert_to_numpy\u001b[0m\u001b[0;34m:\u001b[0m \u001b[0mbool\u001b[0m \u001b[0;34m=\u001b[0m \u001b[0;32mTrue\u001b[0m\u001b[0;34m,\u001b[0m\u001b[0;34m\u001b[0m\n",
       "\u001b[0;34m\u001b[0m    \u001b[0mconvert_to_tensor\u001b[0m\u001b[0;34m:\u001b[0m \u001b[0mbool\u001b[0m \u001b[0;34m=\u001b[0m \u001b[0;32mFalse\u001b[0m\u001b[0;34m,\u001b[0m\u001b[0;34m\u001b[0m\n",
       "\u001b[0;34m\u001b[0m    \u001b[0mdevice\u001b[0m\u001b[0;34m:\u001b[0m \u001b[0mstr\u001b[0m \u001b[0;34m=\u001b[0m \u001b[0;32mNone\u001b[0m\u001b[0;34m,\u001b[0m\u001b[0;34m\u001b[0m\n",
       "\u001b[0;34m\u001b[0m    \u001b[0mnormalize_embeddings\u001b[0m\u001b[0;34m:\u001b[0m \u001b[0mbool\u001b[0m \u001b[0;34m=\u001b[0m \u001b[0;32mFalse\u001b[0m\u001b[0;34m,\u001b[0m\u001b[0;34m\u001b[0m\n",
       "\u001b[0;34m\u001b[0m\u001b[0;34m)\u001b[0m \u001b[0;34m->\u001b[0m \u001b[0mUnion\u001b[0m\u001b[0;34m[\u001b[0m\u001b[0mList\u001b[0m\u001b[0;34m[\u001b[0m\u001b[0mtorch\u001b[0m\u001b[0;34m.\u001b[0m\u001b[0mTensor\u001b[0m\u001b[0;34m]\u001b[0m\u001b[0;34m,\u001b[0m \u001b[0mnumpy\u001b[0m\u001b[0;34m.\u001b[0m\u001b[0mndarray\u001b[0m\u001b[0;34m,\u001b[0m \u001b[0mtorch\u001b[0m\u001b[0;34m.\u001b[0m\u001b[0mTensor\u001b[0m\u001b[0;34m]\u001b[0m\u001b[0;34m\u001b[0m\u001b[0;34m\u001b[0m\u001b[0m\n",
       "\u001b[0;31mDocstring:\u001b[0m\n",
       "Computes sentence embeddings\n",
       "\n",
       ":param sentences: the sentences to embed\n",
       ":param batch_size: the batch size used for the computation\n",
       ":param show_progress_bar: Output a progress bar when encode sentences\n",
       ":param output_value:  Default sentence_embedding, to get sentence embeddings. Can be set to token_embeddings to get wordpiece token embeddings. Set to None, to get all output values\n",
       ":param convert_to_numpy: If true, the output is a list of numpy vectors. Else, it is a list of pytorch tensors.\n",
       ":param convert_to_tensor: If true, you get one large tensor as return. Overwrites any setting from convert_to_numpy\n",
       ":param device: Which torch.device to use for the computation\n",
       ":param normalize_embeddings: If set to true, returned vectors will have length 1. In that case, the faster dot-product (util.dot_score) instead of cosine similarity can be used.\n",
       "\n",
       ":return:\n",
       "   By default, a list of tensors is returned. If convert_to_tensor, a stacked tensor is returned. If convert_to_numpy, a numpy matrix is returned.\n",
       "\u001b[0;31mFile:\u001b[0m      /opt/conda/envs/stackoverflow/lib/python3.8/site-packages/sentence_transformers/SentenceTransformer.py\n",
       "\u001b[0;31mType:\u001b[0m      method\n"
      ]
     },
     "metadata": {},
     "output_type": "display_data"
    }
   ],
   "source": [
    "?model.encode"
   ]
  },
  {
   "cell_type": "code",
   "execution_count": null,
   "id": "4575957e-f818-4c49-96dc-ed17f3c11370",
   "metadata": {},
   "outputs": [],
   "source": []
  },
  {
   "cell_type": "code",
   "execution_count": 12,
   "id": "a4be7451-a553-4862-816f-6e482f0a604d",
   "metadata": {},
   "outputs": [],
   "source": [
    "dim = model.get_sentence_embedding_dimension()\n"
   ]
  },
  {
   "cell_type": "code",
   "execution_count": null,
   "id": "599187d9-33ac-44e3-a600-4a203619921b",
   "metadata": {},
   "outputs": [],
   "source": []
  },
  {
   "cell_type": "code",
   "execution_count": 13,
   "id": "39dfdc9d-efcd-4c98-99c4-c710b9fd3cb6",
   "metadata": {},
   "outputs": [],
   "source": [
    "df = pd.read_parquet(path_posts)\n",
    "df['Tags']  = df['Tags'].apply(lambda x: \" \".join( x.tolist()))"
   ]
  },
  {
   "cell_type": "code",
   "execution_count": 14,
   "id": "b922a349-53ca-4ae5-adb8-4406d60aead8",
   "metadata": {},
   "outputs": [
    {
     "data": {
      "text/plain": [
       "219841"
      ]
     },
     "execution_count": 14,
     "metadata": {},
     "output_type": "execute_result"
    }
   ],
   "source": [
    "len(df)"
   ]
  },
  {
   "cell_type": "code",
   "execution_count": null,
   "id": "3ff00cec-1a73-40f5-bbc9-53fab4edd507",
   "metadata": {},
   "outputs": [],
   "source": []
  },
  {
   "cell_type": "code",
   "execution_count": null,
   "id": "a95f34e2-865e-4897-a883-aaa877e08e44",
   "metadata": {},
   "outputs": [],
   "source": []
  },
  {
   "cell_type": "code",
   "execution_count": null,
   "id": "0c3e8b1e-49e6-4371-b841-2a1d90124631",
   "metadata": {},
   "outputs": [],
   "source": []
  },
  {
   "cell_type": "code",
   "execution_count": 15,
   "id": "7c1043d6-d045-41d6-ab23-56ba7c790f01",
   "metadata": {},
   "outputs": [],
   "source": [
    "connections.connect(\"default\", host=\"localhost\", port=\"19530\")\n"
   ]
  },
  {
   "cell_type": "code",
   "execution_count": 16,
   "id": "8ed3c6db-ece8-449e-933e-75390d233e14",
   "metadata": {},
   "outputs": [
    {
     "data": {
      "text/plain": [
       "['stackoverflow', 'hello_milvus']"
      ]
     },
     "execution_count": 16,
     "metadata": {},
     "output_type": "execute_result"
    }
   ],
   "source": [
    "utility.list_collections()"
   ]
  },
  {
   "cell_type": "code",
   "execution_count": 17,
   "id": "5df1e596-aed9-4ab5-96d0-7b43739b48c2",
   "metadata": {},
   "outputs": [],
   "source": [
    "if collection_name in utility.list_collections():\n",
    "    utility.drop_collection(collection_name)"
   ]
  },
  {
   "cell_type": "code",
   "execution_count": 18,
   "id": "da516024-87c8-477b-9363-6ca61cbe5e55",
   "metadata": {},
   "outputs": [
    {
     "data": {
      "text/plain": [
       "\u001b[0;31mInit signature:\u001b[0m \u001b[0mCollection\u001b[0m\u001b[0;34m(\u001b[0m\u001b[0mname\u001b[0m\u001b[0;34m,\u001b[0m \u001b[0mschema\u001b[0m\u001b[0;34m=\u001b[0m\u001b[0;32mNone\u001b[0m\u001b[0;34m,\u001b[0m \u001b[0musing\u001b[0m\u001b[0;34m=\u001b[0m\u001b[0;34m'default'\u001b[0m\u001b[0;34m,\u001b[0m \u001b[0mshards_num\u001b[0m\u001b[0;34m=\u001b[0m\u001b[0;36m2\u001b[0m\u001b[0;34m,\u001b[0m \u001b[0;34m**\u001b[0m\u001b[0mkwargs\u001b[0m\u001b[0;34m)\u001b[0m\u001b[0;34m\u001b[0m\u001b[0;34m\u001b[0m\u001b[0m\n",
       "\u001b[0;31mDocstring:\u001b[0m      This is a class corresponding to collection in milvus. \n",
       "\u001b[0;31mInit docstring:\u001b[0m\n",
       "Constructs a collection by name, schema and other parameters.\n",
       "Connection information is contained in kwargs.\n",
       "\n",
       ":param name: the name of collection\n",
       ":type name: str\n",
       "\n",
       ":param schema: the schema of collection\n",
       ":type schema: class `schema.CollectionSchema`\n",
       "\n",
       ":param using: Milvus link of create collection\n",
       ":type using: str\n",
       "\n",
       ":param shards_num: How wide to scale collection. Corresponds to how many active datanodes\n",
       "                can be used on insert.\n",
       ":type shards_num: int\n",
       "\n",
       ":param kwargs:\n",
       "    * *consistency_level* (``str/int``) --\n",
       "    Which consistency level to use when searching in the collection. For details, see\n",
       "    https://github.com/milvus-io/milvus/blob/master/docs/developer_guides/how-guarantee-ts-works.md.\n",
       "    Options of consistency level: Strong, Bounded, Eventually, Session, Customized.\n",
       "    Note: this parameter can be overwritten by the same parameter specified in search.\n",
       "\n",
       ":example:\n",
       "    >>> from pymilvus import connections, Collection, FieldSchema, CollectionSchema, DataType\n",
       "    >>> connections.connect()\n",
       "    <pymilvus.client.stub.Milvus object at 0x7f9a190ca898>\n",
       "    >>> fields = [\n",
       "    ...     FieldSchema(\"film_id\", DataType.INT64, is_primary=True),\n",
       "    ...     FieldSchema(\"films\", dtype=DataType.FLOAT_VECTOR, dim=128)\n",
       "    ... ]\n",
       "    >>> description=\"This is a new collection description.\"\n",
       "    >>> schema = CollectionSchema(fields=fields, description=description)\n",
       "    >>> collection = Collection(name=\"test_collection_init\", schema=schema)\n",
       "    >>> collection.name\n",
       "    'test_collection_init'\n",
       "    >>> collection.description\n",
       "    'This is a new collection description.'\n",
       "    >>> collection.is_empty\n",
       "    True\n",
       "    >>> collection.num_entities\n",
       "    0\n",
       "\u001b[0;31mFile:\u001b[0m           /opt/conda/envs/stackoverflow/lib/python3.8/site-packages/pymilvus/orm/collection.py\n",
       "\u001b[0;31mType:\u001b[0m           type\n",
       "\u001b[0;31mSubclasses:\u001b[0m     \n"
      ]
     },
     "metadata": {},
     "output_type": "display_data"
    }
   ],
   "source": [
    "?Collection"
   ]
  },
  {
   "cell_type": "code",
   "execution_count": 19,
   "id": "9158d7ea-ca15-4d9f-86c2-f66bf6cb4440",
   "metadata": {},
   "outputs": [],
   "source": [
    "fields = [\n",
    "    FieldSchema(name=\"Id\", dtype=DataType.INT64, is_primary=True, auto_id=False),\n",
    "    FieldSchema(name=\"AcceptedAnswerId\", dtype=DataType.INT64),\n",
    "    FieldSchema(name=\"Title\", dtype=DataType.VARCHAR, max_length=500),\n",
    "    FieldSchema(name=\"QuestionBody\", dtype=DataType.VARCHAR, max_length=50_000),\n",
    "    FieldSchema(name=\"Tags\", dtype=DataType.VARCHAR, max_length=5000),\n",
    "    FieldSchema(name=\"ViewCount\", dtype=DataType.INT64),\n",
    "    FieldSchema(name=\"AnswerCount\", dtype=DataType.INT64),\n",
    "    FieldSchema(name=\"CommentCount\", dtype=DataType.INT64),\n",
    "    FieldSchema(name=\"Score\", dtype=DataType.INT64),\n",
    "    FieldSchema(name=\"AnswerId\", dtype=DataType.INT64),\n",
    "    FieldSchema(name=\"AcceptedAnswerBody\", dtype=DataType.VARCHAR, max_length=50_000),\n",
    "    FieldSchema(name=\"embedding\", dtype=DataType.FLOAT_VECTOR, dim=dim) ,\n",
    "    \n",
    "    #FieldSchema(name=\"CreationDate\", dtype=DataType.VARCHAR),\n",
    "\n",
    "]\n",
    "\n",
    "schema = CollectionSchema(fields, \"collection containing stackoverflow\")\n",
    "\n",
    "stackoverflow_milvus = Collection(collection_name, schema, consistency_level=\"Strong\")"
   ]
  },
  {
   "cell_type": "code",
   "execution_count": 20,
   "id": "43633cf7-fde4-4ff2-b18d-88d21e098630",
   "metadata": {},
   "outputs": [
    {
     "data": {
      "text/plain": [
       "{\n",
       "  auto_id: False\n",
       "  description: collection containing stackoverflow\n",
       "  fields: [{\n",
       "    name: Id\n",
       "    description: \n",
       "    type: 5\n",
       "    is_primary: True\n",
       "    auto_id: False\n",
       "  }, {\n",
       "    name: AcceptedAnswerId\n",
       "    description: \n",
       "    type: 5\n",
       "  }, {\n",
       "    name: Title\n",
       "    description: \n",
       "    type: 21\n",
       "    params: {'max_length': 500}\n",
       "  }, {\n",
       "    name: QuestionBody\n",
       "    description: \n",
       "    type: 21\n",
       "    params: {'max_length': 50000}\n",
       "  }, {\n",
       "    name: Tags\n",
       "    description: \n",
       "    type: 21\n",
       "    params: {'max_length': 5000}\n",
       "  }, {\n",
       "    name: ViewCount\n",
       "    description: \n",
       "    type: 5\n",
       "  }, {\n",
       "    name: AnswerCount\n",
       "    description: \n",
       "    type: 5\n",
       "  }, {\n",
       "    name: CommentCount\n",
       "    description: \n",
       "    type: 5\n",
       "  }, {\n",
       "    name: Score\n",
       "    description: \n",
       "    type: 5\n",
       "  }, {\n",
       "    name: AnswerId\n",
       "    description: \n",
       "    type: 5\n",
       "  }, {\n",
       "    name: AcceptedAnswerBody\n",
       "    description: \n",
       "    type: 21\n",
       "    params: {'max_length': 50000}\n",
       "  }, {\n",
       "    name: embedding\n",
       "    description: \n",
       "    type: 101\n",
       "    params: {'dim': 768}\n",
       "  }]\n",
       "}"
      ]
     },
     "execution_count": 20,
     "metadata": {},
     "output_type": "execute_result"
    }
   ],
   "source": [
    "schema"
   ]
  },
  {
   "cell_type": "code",
   "execution_count": 21,
   "id": "184387c2-bf4e-4201-bf52-0053b1be3468",
   "metadata": {},
   "outputs": [],
   "source": [
    "fields = [f.name for f in schema.fields]"
   ]
  },
  {
   "cell_type": "code",
   "execution_count": 22,
   "id": "2cfcc12c-7230-4ba8-8087-05823cdf3d29",
   "metadata": {},
   "outputs": [
    {
     "data": {
      "text/plain": [
       "['Id',\n",
       " 'AcceptedAnswerId',\n",
       " 'Title',\n",
       " 'QuestionBody',\n",
       " 'Tags',\n",
       " 'ViewCount',\n",
       " 'AnswerCount',\n",
       " 'CommentCount',\n",
       " 'Score',\n",
       " 'AnswerId',\n",
       " 'AcceptedAnswerBody',\n",
       " 'embedding']"
      ]
     },
     "execution_count": 22,
     "metadata": {},
     "output_type": "execute_result"
    }
   ],
   "source": [
    "fields"
   ]
  },
  {
   "cell_type": "code",
   "execution_count": 23,
   "id": "fe674ca5-6193-4b62-bce6-74f258a9473d",
   "metadata": {},
   "outputs": [],
   "source": [
    "\n",
    "df[['AcceptedAnswerId','AnswerId']] = df[['AcceptedAnswerId','AnswerId']].fillna(-1).astype(int)\n",
    "\n",
    "cols = ['ViewCount','AnswerCount','CommentCount' ,'Score' ]\n",
    "df[cols] = df[cols ].fillna(0).astype(int)\n",
    "\n",
    "\n",
    "df[['AcceptedAnswerBody']] = df[['AcceptedAnswerBody']].fillna(\"\")\n",
    "\n"
   ]
  },
  {
   "cell_type": "code",
   "execution_count": 24,
   "id": "3f9918f8-06bd-4bd0-ae1b-65822db2373c",
   "metadata": {},
   "outputs": [
    {
     "data": {
      "text/html": [
       "<div>\n",
       "<style scoped>\n",
       "    .dataframe tbody tr th:only-of-type {\n",
       "        vertical-align: middle;\n",
       "    }\n",
       "\n",
       "    .dataframe tbody tr th {\n",
       "        vertical-align: top;\n",
       "    }\n",
       "\n",
       "    .dataframe thead th {\n",
       "        text-align: right;\n",
       "    }\n",
       "</style>\n",
       "<table border=\"1\" class=\"dataframe\">\n",
       "  <thead>\n",
       "    <tr style=\"text-align: right;\">\n",
       "      <th></th>\n",
       "      <th>Id</th>\n",
       "      <th>AcceptedAnswerId</th>\n",
       "      <th>Title</th>\n",
       "      <th>QuestionBody</th>\n",
       "      <th>Tags</th>\n",
       "      <th>ViewCount</th>\n",
       "      <th>AnswerCount</th>\n",
       "      <th>CommentCount</th>\n",
       "      <th>Score</th>\n",
       "      <th>CreationDate</th>\n",
       "      <th>AnswerId</th>\n",
       "      <th>AcceptedAnswerBody</th>\n",
       "    </tr>\n",
       "  </thead>\n",
       "  <tbody>\n",
       "    <tr>\n",
       "      <th>1</th>\n",
       "      <td>15020895</td>\n",
       "      <td>-1</td>\n",
       "      <td>Python int-byte efficient data structure</td>\n",
       "      <td>i am currently storing key-values of type int-...</td>\n",
       "      <td>python data-structures</td>\n",
       "      <td>155</td>\n",
       "      <td>0</td>\n",
       "      <td>3</td>\n",
       "      <td>1</td>\n",
       "      <td>2013-02-22 09:33:26.360</td>\n",
       "      <td>-1</td>\n",
       "      <td></td>\n",
       "    </tr>\n",
       "    <tr>\n",
       "      <th>9</th>\n",
       "      <td>68487902</td>\n",
       "      <td>-1</td>\n",
       "      <td>Why does the Variance of Laplace very differen...</td>\n",
       "      <td>TL;DR: How can I use skimage.filters.laplace(i...</td>\n",
       "      <td>python opencv image-processing computer-vision...</td>\n",
       "      <td>391</td>\n",
       "      <td>0</td>\n",
       "      <td>5</td>\n",
       "      <td>1</td>\n",
       "      <td>2021-07-22 15:50:34.220</td>\n",
       "      <td>-1</td>\n",
       "      <td></td>\n",
       "    </tr>\n",
       "    <tr>\n",
       "      <th>15</th>\n",
       "      <td>61391327</td>\n",
       "      <td>-1</td>\n",
       "      <td>Why input never ends</td>\n",
       "      <td>I have python 3.7 installed and I have this co...</td>\n",
       "      <td>python python-3.x input</td>\n",
       "      <td>104</td>\n",
       "      <td>1</td>\n",
       "      <td>6</td>\n",
       "      <td>3</td>\n",
       "      <td>2020-04-23 15:43:03.497</td>\n",
       "      <td>-1</td>\n",
       "      <td></td>\n",
       "    </tr>\n",
       "    <tr>\n",
       "      <th>27</th>\n",
       "      <td>28852710</td>\n",
       "      <td>-1</td>\n",
       "      <td>Crashes with piecewise linear objective for gu...</td>\n",
       "      <td>We have a complex optimization problem which i...</td>\n",
       "      <td>python crash gurobi piecewise</td>\n",
       "      <td>403</td>\n",
       "      <td>1</td>\n",
       "      <td>1</td>\n",
       "      <td>3</td>\n",
       "      <td>2015-03-04 10:58:16.370</td>\n",
       "      <td>-1</td>\n",
       "      <td></td>\n",
       "    </tr>\n",
       "    <tr>\n",
       "      <th>29</th>\n",
       "      <td>24043029</td>\n",
       "      <td>-1</td>\n",
       "      <td>Python TypeError: plotdatehist() got an unexpe...</td>\n",
       "      <td>apologies beforehand if this is a stupid quest...</td>\n",
       "      <td>python typeerror</td>\n",
       "      <td>419</td>\n",
       "      <td>0</td>\n",
       "      <td>7</td>\n",
       "      <td>0</td>\n",
       "      <td>2014-06-04 16:42:32.257</td>\n",
       "      <td>-1</td>\n",
       "      <td></td>\n",
       "    </tr>\n",
       "  </tbody>\n",
       "</table>\n",
       "</div>"
      ],
      "text/plain": [
       "          Id  AcceptedAnswerId  \\\n",
       "1   15020895                -1   \n",
       "9   68487902                -1   \n",
       "15  61391327                -1   \n",
       "27  28852710                -1   \n",
       "29  24043029                -1   \n",
       "\n",
       "                                                Title  \\\n",
       "1            Python int-byte efficient data structure   \n",
       "9   Why does the Variance of Laplace very differen...   \n",
       "15                               Why input never ends   \n",
       "27  Crashes with piecewise linear objective for gu...   \n",
       "29  Python TypeError: plotdatehist() got an unexpe...   \n",
       "\n",
       "                                         QuestionBody  \\\n",
       "1   i am currently storing key-values of type int-...   \n",
       "9   TL;DR: How can I use skimage.filters.laplace(i...   \n",
       "15  I have python 3.7 installed and I have this co...   \n",
       "27  We have a complex optimization problem which i...   \n",
       "29  apologies beforehand if this is a stupid quest...   \n",
       "\n",
       "                                                 Tags  ViewCount  AnswerCount  \\\n",
       "1                              python data-structures        155            0   \n",
       "9   python opencv image-processing computer-vision...        391            0   \n",
       "15                            python python-3.x input        104            1   \n",
       "27                      python crash gurobi piecewise        403            1   \n",
       "29                                   python typeerror        419            0   \n",
       "\n",
       "    CommentCount  Score            CreationDate  AnswerId AcceptedAnswerBody  \n",
       "1              3      1 2013-02-22 09:33:26.360        -1                     \n",
       "9              5      1 2021-07-22 15:50:34.220        -1                     \n",
       "15             6      3 2020-04-23 15:43:03.497        -1                     \n",
       "27             1      3 2015-03-04 10:58:16.370        -1                     \n",
       "29             7      0 2014-06-04 16:42:32.257        -1                     "
      ]
     },
     "execution_count": 24,
     "metadata": {},
     "output_type": "execute_result"
    }
   ],
   "source": [
    "df.head()"
   ]
  },
  {
   "cell_type": "code",
   "execution_count": 25,
   "id": "b99b54cb-e668-4cc8-97f1-aba23a4d5bc3",
   "metadata": {},
   "outputs": [
    {
     "data": {
      "text/plain": [
       "219841"
      ]
     },
     "execution_count": 25,
     "metadata": {},
     "output_type": "execute_result"
    }
   ],
   "source": [
    "len(df)"
   ]
  },
  {
   "cell_type": "code",
   "execution_count": 26,
   "id": "f7929d06-79d7-412e-bc55-aa615a900c3a",
   "metadata": {},
   "outputs": [],
   "source": [
    "df_subset = df.head(5_000_000).copy()"
   ]
  },
  {
   "cell_type": "code",
   "execution_count": 27,
   "id": "3b60b66b-4292-4698-b5dc-ebf17d9937ce",
   "metadata": {},
   "outputs": [],
   "source": [
    "df_subset['Title'].tolist();"
   ]
  },
  {
   "cell_type": "code",
   "execution_count": 28,
   "id": "9b6f58e7-9164-4267-81ec-79a553626d8a",
   "metadata": {},
   "outputs": [
    {
     "data": {
      "application/vnd.jupyter.widget-view+json": {
       "model_id": "2dec0caf65f2471eac1ebf30138b931b",
       "version_major": 2,
       "version_minor": 0
      },
      "text/plain": [
       "Batches:   0%|          | 0/6871 [00:00<?, ?it/s]"
      ]
     },
     "metadata": {},
     "output_type": "display_data"
    },
    {
     "ename": "KeyboardInterrupt",
     "evalue": "",
     "output_type": "error",
     "traceback": [
      "\u001b[0;31m---------------------------------------------------------------------------\u001b[0m",
      "\u001b[0;31mKeyboardInterrupt\u001b[0m                         Traceback (most recent call last)",
      "Input \u001b[0;32mIn [28]\u001b[0m, in \u001b[0;36m<cell line: 5>\u001b[0;34m()\u001b[0m\n\u001b[1;32m      1\u001b[0m \u001b[38;5;66;03m# embeddings = np.random.random((len(df_subset),dim))\u001b[39;00m\n\u001b[1;32m      2\u001b[0m \n\u001b[1;32m      3\u001b[0m \u001b[38;5;66;03m#embeddings = model.encode(df_subset['Title'], show_progress_bar=True)\u001b[39;00m\n\u001b[0;32m----> 5\u001b[0m embeddings \u001b[38;5;241m=\u001b[39m \u001b[43mmodel\u001b[49m\u001b[38;5;241;43m.\u001b[39;49m\u001b[43mencode\u001b[49m\u001b[43m(\u001b[49m\u001b[43mdf_subset\u001b[49m\u001b[43m[\u001b[49m\u001b[38;5;124;43m'\u001b[39;49m\u001b[38;5;124;43mTitle\u001b[39;49m\u001b[38;5;124;43m'\u001b[39;49m\u001b[43m]\u001b[49m\u001b[38;5;241;43m.\u001b[39;49m\u001b[43mtolist\u001b[49m\u001b[43m(\u001b[49m\u001b[43m)\u001b[49m\u001b[43m \u001b[49m\u001b[43m,\u001b[49m\u001b[43m \u001b[49m\u001b[43mshow_progress_bar\u001b[49m\u001b[38;5;241;43m=\u001b[39;49m\u001b[38;5;28;43;01mTrue\u001b[39;49;00m\u001b[43m)\u001b[49m\n",
      "File \u001b[0;32m/opt/conda/envs/stackoverflow/lib/python3.8/site-packages/sentence_transformers/SentenceTransformer.py:165\u001b[0m, in \u001b[0;36mSentenceTransformer.encode\u001b[0;34m(self, sentences, batch_size, show_progress_bar, output_value, convert_to_numpy, convert_to_tensor, device, normalize_embeddings)\u001b[0m\n\u001b[1;32m    162\u001b[0m features \u001b[38;5;241m=\u001b[39m batch_to_device(features, device)\n\u001b[1;32m    164\u001b[0m \u001b[38;5;28;01mwith\u001b[39;00m torch\u001b[38;5;241m.\u001b[39mno_grad():\n\u001b[0;32m--> 165\u001b[0m     out_features \u001b[38;5;241m=\u001b[39m \u001b[38;5;28;43mself\u001b[39;49m\u001b[38;5;241;43m.\u001b[39;49m\u001b[43mforward\u001b[49m\u001b[43m(\u001b[49m\u001b[43mfeatures\u001b[49m\u001b[43m)\u001b[49m\n\u001b[1;32m    167\u001b[0m     \u001b[38;5;28;01mif\u001b[39;00m output_value \u001b[38;5;241m==\u001b[39m \u001b[38;5;124m'\u001b[39m\u001b[38;5;124mtoken_embeddings\u001b[39m\u001b[38;5;124m'\u001b[39m:\n\u001b[1;32m    168\u001b[0m         embeddings \u001b[38;5;241m=\u001b[39m []\n",
      "File \u001b[0;32m/opt/conda/envs/stackoverflow/lib/python3.8/site-packages/torch/nn/modules/container.py:139\u001b[0m, in \u001b[0;36mSequential.forward\u001b[0;34m(self, input)\u001b[0m\n\u001b[1;32m    137\u001b[0m \u001b[38;5;28;01mdef\u001b[39;00m \u001b[38;5;21mforward\u001b[39m(\u001b[38;5;28mself\u001b[39m, \u001b[38;5;28minput\u001b[39m):\n\u001b[1;32m    138\u001b[0m     \u001b[38;5;28;01mfor\u001b[39;00m module \u001b[38;5;129;01min\u001b[39;00m \u001b[38;5;28mself\u001b[39m:\n\u001b[0;32m--> 139\u001b[0m         \u001b[38;5;28minput\u001b[39m \u001b[38;5;241m=\u001b[39m \u001b[43mmodule\u001b[49m\u001b[43m(\u001b[49m\u001b[38;5;28;43minput\u001b[39;49m\u001b[43m)\u001b[49m\n\u001b[1;32m    140\u001b[0m     \u001b[38;5;28;01mreturn\u001b[39;00m \u001b[38;5;28minput\u001b[39m\n",
      "File \u001b[0;32m/opt/conda/envs/stackoverflow/lib/python3.8/site-packages/torch/nn/modules/module.py:1130\u001b[0m, in \u001b[0;36mModule._call_impl\u001b[0;34m(self, *input, **kwargs)\u001b[0m\n\u001b[1;32m   1126\u001b[0m \u001b[38;5;66;03m# If we don't have any hooks, we want to skip the rest of the logic in\u001b[39;00m\n\u001b[1;32m   1127\u001b[0m \u001b[38;5;66;03m# this function, and just call forward.\u001b[39;00m\n\u001b[1;32m   1128\u001b[0m \u001b[38;5;28;01mif\u001b[39;00m \u001b[38;5;129;01mnot\u001b[39;00m (\u001b[38;5;28mself\u001b[39m\u001b[38;5;241m.\u001b[39m_backward_hooks \u001b[38;5;129;01mor\u001b[39;00m \u001b[38;5;28mself\u001b[39m\u001b[38;5;241m.\u001b[39m_forward_hooks \u001b[38;5;129;01mor\u001b[39;00m \u001b[38;5;28mself\u001b[39m\u001b[38;5;241m.\u001b[39m_forward_pre_hooks \u001b[38;5;129;01mor\u001b[39;00m _global_backward_hooks\n\u001b[1;32m   1129\u001b[0m         \u001b[38;5;129;01mor\u001b[39;00m _global_forward_hooks \u001b[38;5;129;01mor\u001b[39;00m _global_forward_pre_hooks):\n\u001b[0;32m-> 1130\u001b[0m     \u001b[38;5;28;01mreturn\u001b[39;00m \u001b[43mforward_call\u001b[49m\u001b[43m(\u001b[49m\u001b[38;5;241;43m*\u001b[39;49m\u001b[38;5;28;43minput\u001b[39;49m\u001b[43m,\u001b[49m\u001b[43m \u001b[49m\u001b[38;5;241;43m*\u001b[39;49m\u001b[38;5;241;43m*\u001b[39;49m\u001b[43mkwargs\u001b[49m\u001b[43m)\u001b[49m\n\u001b[1;32m   1131\u001b[0m \u001b[38;5;66;03m# Do not call functions when jit is used\u001b[39;00m\n\u001b[1;32m   1132\u001b[0m full_backward_hooks, non_full_backward_hooks \u001b[38;5;241m=\u001b[39m [], []\n",
      "File \u001b[0;32m/opt/conda/envs/stackoverflow/lib/python3.8/site-packages/sentence_transformers/models/Transformer.py:66\u001b[0m, in \u001b[0;36mTransformer.forward\u001b[0;34m(self, features)\u001b[0m\n\u001b[1;32m     63\u001b[0m \u001b[38;5;28;01mif\u001b[39;00m \u001b[38;5;124m'\u001b[39m\u001b[38;5;124mtoken_type_ids\u001b[39m\u001b[38;5;124m'\u001b[39m \u001b[38;5;129;01min\u001b[39;00m features:\n\u001b[1;32m     64\u001b[0m     trans_features[\u001b[38;5;124m'\u001b[39m\u001b[38;5;124mtoken_type_ids\u001b[39m\u001b[38;5;124m'\u001b[39m] \u001b[38;5;241m=\u001b[39m features[\u001b[38;5;124m'\u001b[39m\u001b[38;5;124mtoken_type_ids\u001b[39m\u001b[38;5;124m'\u001b[39m]\n\u001b[0;32m---> 66\u001b[0m output_states \u001b[38;5;241m=\u001b[39m \u001b[38;5;28;43mself\u001b[39;49m\u001b[38;5;241;43m.\u001b[39;49m\u001b[43mauto_model\u001b[49m\u001b[43m(\u001b[49m\u001b[38;5;241;43m*\u001b[39;49m\u001b[38;5;241;43m*\u001b[39;49m\u001b[43mtrans_features\u001b[49m\u001b[43m,\u001b[49m\u001b[43m \u001b[49m\u001b[43mreturn_dict\u001b[49m\u001b[38;5;241;43m=\u001b[39;49m\u001b[38;5;28;43;01mFalse\u001b[39;49;00m\u001b[43m)\u001b[49m\n\u001b[1;32m     67\u001b[0m output_tokens \u001b[38;5;241m=\u001b[39m output_states[\u001b[38;5;241m0\u001b[39m]\n\u001b[1;32m     69\u001b[0m features\u001b[38;5;241m.\u001b[39mupdate({\u001b[38;5;124m'\u001b[39m\u001b[38;5;124mtoken_embeddings\u001b[39m\u001b[38;5;124m'\u001b[39m: output_tokens, \u001b[38;5;124m'\u001b[39m\u001b[38;5;124mattention_mask\u001b[39m\u001b[38;5;124m'\u001b[39m: features[\u001b[38;5;124m'\u001b[39m\u001b[38;5;124mattention_mask\u001b[39m\u001b[38;5;124m'\u001b[39m]})\n",
      "File \u001b[0;32m/opt/conda/envs/stackoverflow/lib/python3.8/site-packages/torch/nn/modules/module.py:1130\u001b[0m, in \u001b[0;36mModule._call_impl\u001b[0;34m(self, *input, **kwargs)\u001b[0m\n\u001b[1;32m   1126\u001b[0m \u001b[38;5;66;03m# If we don't have any hooks, we want to skip the rest of the logic in\u001b[39;00m\n\u001b[1;32m   1127\u001b[0m \u001b[38;5;66;03m# this function, and just call forward.\u001b[39;00m\n\u001b[1;32m   1128\u001b[0m \u001b[38;5;28;01mif\u001b[39;00m \u001b[38;5;129;01mnot\u001b[39;00m (\u001b[38;5;28mself\u001b[39m\u001b[38;5;241m.\u001b[39m_backward_hooks \u001b[38;5;129;01mor\u001b[39;00m \u001b[38;5;28mself\u001b[39m\u001b[38;5;241m.\u001b[39m_forward_hooks \u001b[38;5;129;01mor\u001b[39;00m \u001b[38;5;28mself\u001b[39m\u001b[38;5;241m.\u001b[39m_forward_pre_hooks \u001b[38;5;129;01mor\u001b[39;00m _global_backward_hooks\n\u001b[1;32m   1129\u001b[0m         \u001b[38;5;129;01mor\u001b[39;00m _global_forward_hooks \u001b[38;5;129;01mor\u001b[39;00m _global_forward_pre_hooks):\n\u001b[0;32m-> 1130\u001b[0m     \u001b[38;5;28;01mreturn\u001b[39;00m \u001b[43mforward_call\u001b[49m\u001b[43m(\u001b[49m\u001b[38;5;241;43m*\u001b[39;49m\u001b[38;5;28;43minput\u001b[39;49m\u001b[43m,\u001b[49m\u001b[43m \u001b[49m\u001b[38;5;241;43m*\u001b[39;49m\u001b[38;5;241;43m*\u001b[39;49m\u001b[43mkwargs\u001b[49m\u001b[43m)\u001b[49m\n\u001b[1;32m   1131\u001b[0m \u001b[38;5;66;03m# Do not call functions when jit is used\u001b[39;00m\n\u001b[1;32m   1132\u001b[0m full_backward_hooks, non_full_backward_hooks \u001b[38;5;241m=\u001b[39m [], []\n",
      "File \u001b[0;32m/opt/conda/envs/stackoverflow/lib/python3.8/site-packages/transformers/models/mpnet/modeling_mpnet.py:554\u001b[0m, in \u001b[0;36mMPNetModel.forward\u001b[0;34m(self, input_ids, attention_mask, position_ids, head_mask, inputs_embeds, output_attentions, output_hidden_states, return_dict, **kwargs)\u001b[0m\n\u001b[1;32m    552\u001b[0m head_mask \u001b[38;5;241m=\u001b[39m \u001b[38;5;28mself\u001b[39m\u001b[38;5;241m.\u001b[39mget_head_mask(head_mask, \u001b[38;5;28mself\u001b[39m\u001b[38;5;241m.\u001b[39mconfig\u001b[38;5;241m.\u001b[39mnum_hidden_layers)\n\u001b[1;32m    553\u001b[0m embedding_output \u001b[38;5;241m=\u001b[39m \u001b[38;5;28mself\u001b[39m\u001b[38;5;241m.\u001b[39membeddings(input_ids\u001b[38;5;241m=\u001b[39minput_ids, position_ids\u001b[38;5;241m=\u001b[39mposition_ids, inputs_embeds\u001b[38;5;241m=\u001b[39minputs_embeds)\n\u001b[0;32m--> 554\u001b[0m encoder_outputs \u001b[38;5;241m=\u001b[39m \u001b[38;5;28;43mself\u001b[39;49m\u001b[38;5;241;43m.\u001b[39;49m\u001b[43mencoder\u001b[49m\u001b[43m(\u001b[49m\n\u001b[1;32m    555\u001b[0m \u001b[43m    \u001b[49m\u001b[43membedding_output\u001b[49m\u001b[43m,\u001b[49m\n\u001b[1;32m    556\u001b[0m \u001b[43m    \u001b[49m\u001b[43mattention_mask\u001b[49m\u001b[38;5;241;43m=\u001b[39;49m\u001b[43mextended_attention_mask\u001b[49m\u001b[43m,\u001b[49m\n\u001b[1;32m    557\u001b[0m \u001b[43m    \u001b[49m\u001b[43mhead_mask\u001b[49m\u001b[38;5;241;43m=\u001b[39;49m\u001b[43mhead_mask\u001b[49m\u001b[43m,\u001b[49m\n\u001b[1;32m    558\u001b[0m \u001b[43m    \u001b[49m\u001b[43moutput_attentions\u001b[49m\u001b[38;5;241;43m=\u001b[39;49m\u001b[43moutput_attentions\u001b[49m\u001b[43m,\u001b[49m\n\u001b[1;32m    559\u001b[0m \u001b[43m    \u001b[49m\u001b[43moutput_hidden_states\u001b[49m\u001b[38;5;241;43m=\u001b[39;49m\u001b[43moutput_hidden_states\u001b[49m\u001b[43m,\u001b[49m\n\u001b[1;32m    560\u001b[0m \u001b[43m    \u001b[49m\u001b[43mreturn_dict\u001b[49m\u001b[38;5;241;43m=\u001b[39;49m\u001b[43mreturn_dict\u001b[49m\u001b[43m,\u001b[49m\n\u001b[1;32m    561\u001b[0m \u001b[43m\u001b[49m\u001b[43m)\u001b[49m\n\u001b[1;32m    562\u001b[0m sequence_output \u001b[38;5;241m=\u001b[39m encoder_outputs[\u001b[38;5;241m0\u001b[39m]\n\u001b[1;32m    563\u001b[0m pooled_output \u001b[38;5;241m=\u001b[39m \u001b[38;5;28mself\u001b[39m\u001b[38;5;241m.\u001b[39mpooler(sequence_output) \u001b[38;5;28;01mif\u001b[39;00m \u001b[38;5;28mself\u001b[39m\u001b[38;5;241m.\u001b[39mpooler \u001b[38;5;129;01mis\u001b[39;00m \u001b[38;5;129;01mnot\u001b[39;00m \u001b[38;5;28;01mNone\u001b[39;00m \u001b[38;5;28;01melse\u001b[39;00m \u001b[38;5;28;01mNone\u001b[39;00m\n",
      "File \u001b[0;32m/opt/conda/envs/stackoverflow/lib/python3.8/site-packages/torch/nn/modules/module.py:1130\u001b[0m, in \u001b[0;36mModule._call_impl\u001b[0;34m(self, *input, **kwargs)\u001b[0m\n\u001b[1;32m   1126\u001b[0m \u001b[38;5;66;03m# If we don't have any hooks, we want to skip the rest of the logic in\u001b[39;00m\n\u001b[1;32m   1127\u001b[0m \u001b[38;5;66;03m# this function, and just call forward.\u001b[39;00m\n\u001b[1;32m   1128\u001b[0m \u001b[38;5;28;01mif\u001b[39;00m \u001b[38;5;129;01mnot\u001b[39;00m (\u001b[38;5;28mself\u001b[39m\u001b[38;5;241m.\u001b[39m_backward_hooks \u001b[38;5;129;01mor\u001b[39;00m \u001b[38;5;28mself\u001b[39m\u001b[38;5;241m.\u001b[39m_forward_hooks \u001b[38;5;129;01mor\u001b[39;00m \u001b[38;5;28mself\u001b[39m\u001b[38;5;241m.\u001b[39m_forward_pre_hooks \u001b[38;5;129;01mor\u001b[39;00m _global_backward_hooks\n\u001b[1;32m   1129\u001b[0m         \u001b[38;5;129;01mor\u001b[39;00m _global_forward_hooks \u001b[38;5;129;01mor\u001b[39;00m _global_forward_pre_hooks):\n\u001b[0;32m-> 1130\u001b[0m     \u001b[38;5;28;01mreturn\u001b[39;00m \u001b[43mforward_call\u001b[49m\u001b[43m(\u001b[49m\u001b[38;5;241;43m*\u001b[39;49m\u001b[38;5;28;43minput\u001b[39;49m\u001b[43m,\u001b[49m\u001b[43m \u001b[49m\u001b[38;5;241;43m*\u001b[39;49m\u001b[38;5;241;43m*\u001b[39;49m\u001b[43mkwargs\u001b[49m\u001b[43m)\u001b[49m\n\u001b[1;32m   1131\u001b[0m \u001b[38;5;66;03m# Do not call functions when jit is used\u001b[39;00m\n\u001b[1;32m   1132\u001b[0m full_backward_hooks, non_full_backward_hooks \u001b[38;5;241m=\u001b[39m [], []\n",
      "File \u001b[0;32m/opt/conda/envs/stackoverflow/lib/python3.8/site-packages/transformers/models/mpnet/modeling_mpnet.py:341\u001b[0m, in \u001b[0;36mMPNetEncoder.forward\u001b[0;34m(self, hidden_states, attention_mask, head_mask, output_attentions, output_hidden_states, return_dict, **kwargs)\u001b[0m\n\u001b[1;32m    338\u001b[0m \u001b[38;5;28;01mif\u001b[39;00m output_hidden_states:\n\u001b[1;32m    339\u001b[0m     all_hidden_states \u001b[38;5;241m=\u001b[39m all_hidden_states \u001b[38;5;241m+\u001b[39m (hidden_states,)\n\u001b[0;32m--> 341\u001b[0m layer_outputs \u001b[38;5;241m=\u001b[39m \u001b[43mlayer_module\u001b[49m\u001b[43m(\u001b[49m\n\u001b[1;32m    342\u001b[0m \u001b[43m    \u001b[49m\u001b[43mhidden_states\u001b[49m\u001b[43m,\u001b[49m\n\u001b[1;32m    343\u001b[0m \u001b[43m    \u001b[49m\u001b[43mattention_mask\u001b[49m\u001b[43m,\u001b[49m\n\u001b[1;32m    344\u001b[0m \u001b[43m    \u001b[49m\u001b[43mhead_mask\u001b[49m\u001b[43m[\u001b[49m\u001b[43mi\u001b[49m\u001b[43m]\u001b[49m\u001b[43m,\u001b[49m\n\u001b[1;32m    345\u001b[0m \u001b[43m    \u001b[49m\u001b[43mposition_bias\u001b[49m\u001b[43m,\u001b[49m\n\u001b[1;32m    346\u001b[0m \u001b[43m    \u001b[49m\u001b[43moutput_attentions\u001b[49m\u001b[38;5;241;43m=\u001b[39;49m\u001b[43moutput_attentions\u001b[49m\u001b[43m,\u001b[49m\n\u001b[1;32m    347\u001b[0m \u001b[43m    \u001b[49m\u001b[38;5;241;43m*\u001b[39;49m\u001b[38;5;241;43m*\u001b[39;49m\u001b[43mkwargs\u001b[49m\u001b[43m,\u001b[49m\n\u001b[1;32m    348\u001b[0m \u001b[43m\u001b[49m\u001b[43m)\u001b[49m\n\u001b[1;32m    349\u001b[0m hidden_states \u001b[38;5;241m=\u001b[39m layer_outputs[\u001b[38;5;241m0\u001b[39m]\n\u001b[1;32m    351\u001b[0m \u001b[38;5;28;01mif\u001b[39;00m output_attentions:\n",
      "File \u001b[0;32m/opt/conda/envs/stackoverflow/lib/python3.8/site-packages/torch/nn/modules/module.py:1130\u001b[0m, in \u001b[0;36mModule._call_impl\u001b[0;34m(self, *input, **kwargs)\u001b[0m\n\u001b[1;32m   1126\u001b[0m \u001b[38;5;66;03m# If we don't have any hooks, we want to skip the rest of the logic in\u001b[39;00m\n\u001b[1;32m   1127\u001b[0m \u001b[38;5;66;03m# this function, and just call forward.\u001b[39;00m\n\u001b[1;32m   1128\u001b[0m \u001b[38;5;28;01mif\u001b[39;00m \u001b[38;5;129;01mnot\u001b[39;00m (\u001b[38;5;28mself\u001b[39m\u001b[38;5;241m.\u001b[39m_backward_hooks \u001b[38;5;129;01mor\u001b[39;00m \u001b[38;5;28mself\u001b[39m\u001b[38;5;241m.\u001b[39m_forward_hooks \u001b[38;5;129;01mor\u001b[39;00m \u001b[38;5;28mself\u001b[39m\u001b[38;5;241m.\u001b[39m_forward_pre_hooks \u001b[38;5;129;01mor\u001b[39;00m _global_backward_hooks\n\u001b[1;32m   1129\u001b[0m         \u001b[38;5;129;01mor\u001b[39;00m _global_forward_hooks \u001b[38;5;129;01mor\u001b[39;00m _global_forward_pre_hooks):\n\u001b[0;32m-> 1130\u001b[0m     \u001b[38;5;28;01mreturn\u001b[39;00m \u001b[43mforward_call\u001b[49m\u001b[43m(\u001b[49m\u001b[38;5;241;43m*\u001b[39;49m\u001b[38;5;28;43minput\u001b[39;49m\u001b[43m,\u001b[49m\u001b[43m \u001b[49m\u001b[38;5;241;43m*\u001b[39;49m\u001b[38;5;241;43m*\u001b[39;49m\u001b[43mkwargs\u001b[49m\u001b[43m)\u001b[49m\n\u001b[1;32m   1131\u001b[0m \u001b[38;5;66;03m# Do not call functions when jit is used\u001b[39;00m\n\u001b[1;32m   1132\u001b[0m full_backward_hooks, non_full_backward_hooks \u001b[38;5;241m=\u001b[39m [], []\n",
      "File \u001b[0;32m/opt/conda/envs/stackoverflow/lib/python3.8/site-packages/transformers/models/mpnet/modeling_mpnet.py:300\u001b[0m, in \u001b[0;36mMPNetLayer.forward\u001b[0;34m(self, hidden_states, attention_mask, head_mask, position_bias, output_attentions, **kwargs)\u001b[0m\n\u001b[1;32m    291\u001b[0m \u001b[38;5;28;01mdef\u001b[39;00m \u001b[38;5;21mforward\u001b[39m(\n\u001b[1;32m    292\u001b[0m     \u001b[38;5;28mself\u001b[39m,\n\u001b[1;32m    293\u001b[0m     hidden_states,\n\u001b[0;32m   (...)\u001b[0m\n\u001b[1;32m    298\u001b[0m     \u001b[38;5;241m*\u001b[39m\u001b[38;5;241m*\u001b[39mkwargs,\n\u001b[1;32m    299\u001b[0m ):\n\u001b[0;32m--> 300\u001b[0m     self_attention_outputs \u001b[38;5;241m=\u001b[39m \u001b[38;5;28;43mself\u001b[39;49m\u001b[38;5;241;43m.\u001b[39;49m\u001b[43mattention\u001b[49m\u001b[43m(\u001b[49m\n\u001b[1;32m    301\u001b[0m \u001b[43m        \u001b[49m\u001b[43mhidden_states\u001b[49m\u001b[43m,\u001b[49m\n\u001b[1;32m    302\u001b[0m \u001b[43m        \u001b[49m\u001b[43mattention_mask\u001b[49m\u001b[43m,\u001b[49m\n\u001b[1;32m    303\u001b[0m \u001b[43m        \u001b[49m\u001b[43mhead_mask\u001b[49m\u001b[43m,\u001b[49m\n\u001b[1;32m    304\u001b[0m \u001b[43m        \u001b[49m\u001b[43mposition_bias\u001b[49m\u001b[38;5;241;43m=\u001b[39;49m\u001b[43mposition_bias\u001b[49m\u001b[43m,\u001b[49m\n\u001b[1;32m    305\u001b[0m \u001b[43m        \u001b[49m\u001b[43moutput_attentions\u001b[49m\u001b[38;5;241;43m=\u001b[39;49m\u001b[43moutput_attentions\u001b[49m\u001b[43m,\u001b[49m\n\u001b[1;32m    306\u001b[0m \u001b[43m    \u001b[49m\u001b[43m)\u001b[49m\n\u001b[1;32m    307\u001b[0m     attention_output \u001b[38;5;241m=\u001b[39m self_attention_outputs[\u001b[38;5;241m0\u001b[39m]\n\u001b[1;32m    308\u001b[0m     outputs \u001b[38;5;241m=\u001b[39m self_attention_outputs[\u001b[38;5;241m1\u001b[39m:]  \u001b[38;5;66;03m# add self attentions if we output attention weights\u001b[39;00m\n",
      "File \u001b[0;32m/opt/conda/envs/stackoverflow/lib/python3.8/site-packages/torch/nn/modules/module.py:1130\u001b[0m, in \u001b[0;36mModule._call_impl\u001b[0;34m(self, *input, **kwargs)\u001b[0m\n\u001b[1;32m   1126\u001b[0m \u001b[38;5;66;03m# If we don't have any hooks, we want to skip the rest of the logic in\u001b[39;00m\n\u001b[1;32m   1127\u001b[0m \u001b[38;5;66;03m# this function, and just call forward.\u001b[39;00m\n\u001b[1;32m   1128\u001b[0m \u001b[38;5;28;01mif\u001b[39;00m \u001b[38;5;129;01mnot\u001b[39;00m (\u001b[38;5;28mself\u001b[39m\u001b[38;5;241m.\u001b[39m_backward_hooks \u001b[38;5;129;01mor\u001b[39;00m \u001b[38;5;28mself\u001b[39m\u001b[38;5;241m.\u001b[39m_forward_hooks \u001b[38;5;129;01mor\u001b[39;00m \u001b[38;5;28mself\u001b[39m\u001b[38;5;241m.\u001b[39m_forward_pre_hooks \u001b[38;5;129;01mor\u001b[39;00m _global_backward_hooks\n\u001b[1;32m   1129\u001b[0m         \u001b[38;5;129;01mor\u001b[39;00m _global_forward_hooks \u001b[38;5;129;01mor\u001b[39;00m _global_forward_pre_hooks):\n\u001b[0;32m-> 1130\u001b[0m     \u001b[38;5;28;01mreturn\u001b[39;00m \u001b[43mforward_call\u001b[49m\u001b[43m(\u001b[49m\u001b[38;5;241;43m*\u001b[39;49m\u001b[38;5;28;43minput\u001b[39;49m\u001b[43m,\u001b[49m\u001b[43m \u001b[49m\u001b[38;5;241;43m*\u001b[39;49m\u001b[38;5;241;43m*\u001b[39;49m\u001b[43mkwargs\u001b[49m\u001b[43m)\u001b[49m\n\u001b[1;32m   1131\u001b[0m \u001b[38;5;66;03m# Do not call functions when jit is used\u001b[39;00m\n\u001b[1;32m   1132\u001b[0m full_backward_hooks, non_full_backward_hooks \u001b[38;5;241m=\u001b[39m [], []\n",
      "File \u001b[0;32m/opt/conda/envs/stackoverflow/lib/python3.8/site-packages/transformers/models/mpnet/modeling_mpnet.py:241\u001b[0m, in \u001b[0;36mMPNetAttention.forward\u001b[0;34m(self, hidden_states, attention_mask, head_mask, position_bias, output_attentions, **kwargs)\u001b[0m\n\u001b[1;32m    232\u001b[0m \u001b[38;5;28;01mdef\u001b[39;00m \u001b[38;5;21mforward\u001b[39m(\n\u001b[1;32m    233\u001b[0m     \u001b[38;5;28mself\u001b[39m,\n\u001b[1;32m    234\u001b[0m     hidden_states,\n\u001b[0;32m   (...)\u001b[0m\n\u001b[1;32m    239\u001b[0m     \u001b[38;5;241m*\u001b[39m\u001b[38;5;241m*\u001b[39mkwargs,\n\u001b[1;32m    240\u001b[0m ):\n\u001b[0;32m--> 241\u001b[0m     self_outputs \u001b[38;5;241m=\u001b[39m \u001b[38;5;28;43mself\u001b[39;49m\u001b[38;5;241;43m.\u001b[39;49m\u001b[43mattn\u001b[49m\u001b[43m(\u001b[49m\n\u001b[1;32m    242\u001b[0m \u001b[43m        \u001b[49m\u001b[43mhidden_states\u001b[49m\u001b[43m,\u001b[49m\n\u001b[1;32m    243\u001b[0m \u001b[43m        \u001b[49m\u001b[43mattention_mask\u001b[49m\u001b[43m,\u001b[49m\n\u001b[1;32m    244\u001b[0m \u001b[43m        \u001b[49m\u001b[43mhead_mask\u001b[49m\u001b[43m,\u001b[49m\n\u001b[1;32m    245\u001b[0m \u001b[43m        \u001b[49m\u001b[43mposition_bias\u001b[49m\u001b[43m,\u001b[49m\n\u001b[1;32m    246\u001b[0m \u001b[43m        \u001b[49m\u001b[43moutput_attentions\u001b[49m\u001b[38;5;241;43m=\u001b[39;49m\u001b[43moutput_attentions\u001b[49m\u001b[43m,\u001b[49m\n\u001b[1;32m    247\u001b[0m \u001b[43m    \u001b[49m\u001b[43m)\u001b[49m\n\u001b[1;32m    248\u001b[0m     attention_output \u001b[38;5;241m=\u001b[39m \u001b[38;5;28mself\u001b[39m\u001b[38;5;241m.\u001b[39mLayerNorm(\u001b[38;5;28mself\u001b[39m\u001b[38;5;241m.\u001b[39mdropout(self_outputs[\u001b[38;5;241m0\u001b[39m]) \u001b[38;5;241m+\u001b[39m hidden_states)\n\u001b[1;32m    249\u001b[0m     outputs \u001b[38;5;241m=\u001b[39m (attention_output,) \u001b[38;5;241m+\u001b[39m self_outputs[\u001b[38;5;241m1\u001b[39m:]  \u001b[38;5;66;03m# add attentions if we output them\u001b[39;00m\n",
      "File \u001b[0;32m/opt/conda/envs/stackoverflow/lib/python3.8/site-packages/torch/nn/modules/module.py:1130\u001b[0m, in \u001b[0;36mModule._call_impl\u001b[0;34m(self, *input, **kwargs)\u001b[0m\n\u001b[1;32m   1126\u001b[0m \u001b[38;5;66;03m# If we don't have any hooks, we want to skip the rest of the logic in\u001b[39;00m\n\u001b[1;32m   1127\u001b[0m \u001b[38;5;66;03m# this function, and just call forward.\u001b[39;00m\n\u001b[1;32m   1128\u001b[0m \u001b[38;5;28;01mif\u001b[39;00m \u001b[38;5;129;01mnot\u001b[39;00m (\u001b[38;5;28mself\u001b[39m\u001b[38;5;241m.\u001b[39m_backward_hooks \u001b[38;5;129;01mor\u001b[39;00m \u001b[38;5;28mself\u001b[39m\u001b[38;5;241m.\u001b[39m_forward_hooks \u001b[38;5;129;01mor\u001b[39;00m \u001b[38;5;28mself\u001b[39m\u001b[38;5;241m.\u001b[39m_forward_pre_hooks \u001b[38;5;129;01mor\u001b[39;00m _global_backward_hooks\n\u001b[1;32m   1129\u001b[0m         \u001b[38;5;129;01mor\u001b[39;00m _global_forward_hooks \u001b[38;5;129;01mor\u001b[39;00m _global_forward_pre_hooks):\n\u001b[0;32m-> 1130\u001b[0m     \u001b[38;5;28;01mreturn\u001b[39;00m \u001b[43mforward_call\u001b[49m\u001b[43m(\u001b[49m\u001b[38;5;241;43m*\u001b[39;49m\u001b[38;5;28;43minput\u001b[39;49m\u001b[43m,\u001b[49m\u001b[43m \u001b[49m\u001b[38;5;241;43m*\u001b[39;49m\u001b[38;5;241;43m*\u001b[39;49m\u001b[43mkwargs\u001b[49m\u001b[43m)\u001b[49m\n\u001b[1;32m   1131\u001b[0m \u001b[38;5;66;03m# Do not call functions when jit is used\u001b[39;00m\n\u001b[1;32m   1132\u001b[0m full_backward_hooks, non_full_backward_hooks \u001b[38;5;241m=\u001b[39m [], []\n",
      "File \u001b[0;32m/opt/conda/envs/stackoverflow/lib/python3.8/site-packages/transformers/models/mpnet/modeling_mpnet.py:168\u001b[0m, in \u001b[0;36mMPNetSelfAttention.forward\u001b[0;34m(self, hidden_states, attention_mask, head_mask, position_bias, output_attentions, **kwargs)\u001b[0m\n\u001b[1;32m    158\u001b[0m \u001b[38;5;28;01mdef\u001b[39;00m \u001b[38;5;21mforward\u001b[39m(\n\u001b[1;32m    159\u001b[0m     \u001b[38;5;28mself\u001b[39m,\n\u001b[1;32m    160\u001b[0m     hidden_states,\n\u001b[0;32m   (...)\u001b[0m\n\u001b[1;32m    165\u001b[0m     \u001b[38;5;241m*\u001b[39m\u001b[38;5;241m*\u001b[39mkwargs,\n\u001b[1;32m    166\u001b[0m ):\n\u001b[0;32m--> 168\u001b[0m     q \u001b[38;5;241m=\u001b[39m \u001b[38;5;28;43mself\u001b[39;49m\u001b[38;5;241;43m.\u001b[39;49m\u001b[43mq\u001b[49m\u001b[43m(\u001b[49m\u001b[43mhidden_states\u001b[49m\u001b[43m)\u001b[49m\n\u001b[1;32m    169\u001b[0m     k \u001b[38;5;241m=\u001b[39m \u001b[38;5;28mself\u001b[39m\u001b[38;5;241m.\u001b[39mk(hidden_states)\n\u001b[1;32m    170\u001b[0m     v \u001b[38;5;241m=\u001b[39m \u001b[38;5;28mself\u001b[39m\u001b[38;5;241m.\u001b[39mv(hidden_states)\n",
      "File \u001b[0;32m/opt/conda/envs/stackoverflow/lib/python3.8/site-packages/torch/nn/modules/module.py:1130\u001b[0m, in \u001b[0;36mModule._call_impl\u001b[0;34m(self, *input, **kwargs)\u001b[0m\n\u001b[1;32m   1126\u001b[0m \u001b[38;5;66;03m# If we don't have any hooks, we want to skip the rest of the logic in\u001b[39;00m\n\u001b[1;32m   1127\u001b[0m \u001b[38;5;66;03m# this function, and just call forward.\u001b[39;00m\n\u001b[1;32m   1128\u001b[0m \u001b[38;5;28;01mif\u001b[39;00m \u001b[38;5;129;01mnot\u001b[39;00m (\u001b[38;5;28mself\u001b[39m\u001b[38;5;241m.\u001b[39m_backward_hooks \u001b[38;5;129;01mor\u001b[39;00m \u001b[38;5;28mself\u001b[39m\u001b[38;5;241m.\u001b[39m_forward_hooks \u001b[38;5;129;01mor\u001b[39;00m \u001b[38;5;28mself\u001b[39m\u001b[38;5;241m.\u001b[39m_forward_pre_hooks \u001b[38;5;129;01mor\u001b[39;00m _global_backward_hooks\n\u001b[1;32m   1129\u001b[0m         \u001b[38;5;129;01mor\u001b[39;00m _global_forward_hooks \u001b[38;5;129;01mor\u001b[39;00m _global_forward_pre_hooks):\n\u001b[0;32m-> 1130\u001b[0m     \u001b[38;5;28;01mreturn\u001b[39;00m \u001b[43mforward_call\u001b[49m\u001b[43m(\u001b[49m\u001b[38;5;241;43m*\u001b[39;49m\u001b[38;5;28;43minput\u001b[39;49m\u001b[43m,\u001b[49m\u001b[43m \u001b[49m\u001b[38;5;241;43m*\u001b[39;49m\u001b[38;5;241;43m*\u001b[39;49m\u001b[43mkwargs\u001b[49m\u001b[43m)\u001b[49m\n\u001b[1;32m   1131\u001b[0m \u001b[38;5;66;03m# Do not call functions when jit is used\u001b[39;00m\n\u001b[1;32m   1132\u001b[0m full_backward_hooks, non_full_backward_hooks \u001b[38;5;241m=\u001b[39m [], []\n",
      "File \u001b[0;32m/opt/conda/envs/stackoverflow/lib/python3.8/site-packages/torch/nn/modules/linear.py:114\u001b[0m, in \u001b[0;36mLinear.forward\u001b[0;34m(self, input)\u001b[0m\n\u001b[1;32m    113\u001b[0m \u001b[38;5;28;01mdef\u001b[39;00m \u001b[38;5;21mforward\u001b[39m(\u001b[38;5;28mself\u001b[39m, \u001b[38;5;28minput\u001b[39m: Tensor) \u001b[38;5;241m-\u001b[39m\u001b[38;5;241m>\u001b[39m Tensor:\n\u001b[0;32m--> 114\u001b[0m     \u001b[38;5;28;01mreturn\u001b[39;00m \u001b[43mF\u001b[49m\u001b[38;5;241;43m.\u001b[39;49m\u001b[43mlinear\u001b[49m\u001b[43m(\u001b[49m\u001b[38;5;28;43minput\u001b[39;49m\u001b[43m,\u001b[49m\u001b[43m \u001b[49m\u001b[38;5;28;43mself\u001b[39;49m\u001b[38;5;241;43m.\u001b[39;49m\u001b[43mweight\u001b[49m\u001b[43m,\u001b[49m\u001b[43m \u001b[49m\u001b[38;5;28;43mself\u001b[39;49m\u001b[38;5;241;43m.\u001b[39;49m\u001b[43mbias\u001b[49m\u001b[43m)\u001b[49m\n",
      "\u001b[0;31mKeyboardInterrupt\u001b[0m: "
     ]
    }
   ],
   "source": [
    "# embeddings = np.random.random((len(df_subset),dim))\n",
    "\n",
    "#embeddings = model.encode(df_subset['Title'], show_progress_bar=True)\n",
    "\n",
    "embeddings = model.encode(df_subset['Title'].tolist() , show_progress_bar=True)"
   ]
  },
  {
   "cell_type": "code",
   "execution_count": null,
   "id": "233ae139-20cd-4033-9947-b19c7c429d53",
   "metadata": {},
   "outputs": [],
   "source": [
    "df_subset['embedding'] = embeddings.tolist()\n"
   ]
  },
  {
   "cell_type": "code",
   "execution_count": null,
   "id": "0525ded3-fb60-4849-bb35-bec228e98a4a",
   "metadata": {},
   "outputs": [],
   "source": [
    "df_subset.to_parquet(path_posts.replace(\".parquet\", \"_with_embedding.parquet\") , index=False)\n"
   ]
  },
  {
   "cell_type": "code",
   "execution_count": 29,
   "id": "1e206520-d57a-48b4-85f8-fe8afcbc3653",
   "metadata": {},
   "outputs": [],
   "source": [
    "df_subset = pd.read_parquet( path_posts.replace(\".parquet\", \"_with_embedding.parquet\") )"
   ]
  },
  {
   "cell_type": "code",
   "execution_count": 30,
   "id": "9aca4121-f5a7-42a8-a2b7-4d952a994218",
   "metadata": {},
   "outputs": [
    {
     "data": {
      "text/html": [
       "<div>\n",
       "<style scoped>\n",
       "    .dataframe tbody tr th:only-of-type {\n",
       "        vertical-align: middle;\n",
       "    }\n",
       "\n",
       "    .dataframe tbody tr th {\n",
       "        vertical-align: top;\n",
       "    }\n",
       "\n",
       "    .dataframe thead th {\n",
       "        text-align: right;\n",
       "    }\n",
       "</style>\n",
       "<table border=\"1\" class=\"dataframe\">\n",
       "  <thead>\n",
       "    <tr style=\"text-align: right;\">\n",
       "      <th></th>\n",
       "      <th>Id</th>\n",
       "      <th>AcceptedAnswerId</th>\n",
       "      <th>Title</th>\n",
       "      <th>QuestionBody</th>\n",
       "      <th>Tags</th>\n",
       "      <th>ViewCount</th>\n",
       "      <th>AnswerCount</th>\n",
       "      <th>CommentCount</th>\n",
       "      <th>Score</th>\n",
       "      <th>CreationDate</th>\n",
       "      <th>AnswerId</th>\n",
       "      <th>AcceptedAnswerBody</th>\n",
       "      <th>embedding</th>\n",
       "    </tr>\n",
       "  </thead>\n",
       "  <tbody>\n",
       "    <tr>\n",
       "      <th>0</th>\n",
       "      <td>15020895</td>\n",
       "      <td>-1</td>\n",
       "      <td>Python int-byte efficient data structure</td>\n",
       "      <td>i am currently storing key-values of type int-...</td>\n",
       "      <td>python data-structures</td>\n",
       "      <td>155</td>\n",
       "      <td>0</td>\n",
       "      <td>3</td>\n",
       "      <td>1</td>\n",
       "      <td>2013-02-22 09:33:26.360</td>\n",
       "      <td>-1</td>\n",
       "      <td></td>\n",
       "      <td>[-0.012659057974815369, -0.006133444607257843,...</td>\n",
       "    </tr>\n",
       "    <tr>\n",
       "      <th>1</th>\n",
       "      <td>68487902</td>\n",
       "      <td>-1</td>\n",
       "      <td>Why does the Variance of Laplace very differen...</td>\n",
       "      <td>TL;DR: How can I use skimage.filters.laplace(i...</td>\n",
       "      <td>python opencv image-processing computer-vision...</td>\n",
       "      <td>391</td>\n",
       "      <td>0</td>\n",
       "      <td>5</td>\n",
       "      <td>1</td>\n",
       "      <td>2021-07-22 15:50:34.220</td>\n",
       "      <td>-1</td>\n",
       "      <td></td>\n",
       "      <td>[0.06565586477518082, -0.03163431957364082, 0....</td>\n",
       "    </tr>\n",
       "    <tr>\n",
       "      <th>2</th>\n",
       "      <td>61391327</td>\n",
       "      <td>-1</td>\n",
       "      <td>Why input never ends</td>\n",
       "      <td>I have python 3.7 installed and I have this co...</td>\n",
       "      <td>python python-3.x input</td>\n",
       "      <td>104</td>\n",
       "      <td>1</td>\n",
       "      <td>6</td>\n",
       "      <td>3</td>\n",
       "      <td>2020-04-23 15:43:03.497</td>\n",
       "      <td>-1</td>\n",
       "      <td></td>\n",
       "      <td>[0.017581814900040627, -0.07531370967626572, 0...</td>\n",
       "    </tr>\n",
       "    <tr>\n",
       "      <th>3</th>\n",
       "      <td>28852710</td>\n",
       "      <td>-1</td>\n",
       "      <td>Crashes with piecewise linear objective for gu...</td>\n",
       "      <td>We have a complex optimization problem which i...</td>\n",
       "      <td>python crash gurobi piecewise</td>\n",
       "      <td>403</td>\n",
       "      <td>1</td>\n",
       "      <td>1</td>\n",
       "      <td>3</td>\n",
       "      <td>2015-03-04 10:58:16.370</td>\n",
       "      <td>-1</td>\n",
       "      <td></td>\n",
       "      <td>[0.010070842690765858, 0.06428135931491852, -0...</td>\n",
       "    </tr>\n",
       "    <tr>\n",
       "      <th>4</th>\n",
       "      <td>24043029</td>\n",
       "      <td>-1</td>\n",
       "      <td>Python TypeError: plotdatehist() got an unexpe...</td>\n",
       "      <td>apologies beforehand if this is a stupid quest...</td>\n",
       "      <td>python typeerror</td>\n",
       "      <td>419</td>\n",
       "      <td>0</td>\n",
       "      <td>7</td>\n",
       "      <td>0</td>\n",
       "      <td>2014-06-04 16:42:32.257</td>\n",
       "      <td>-1</td>\n",
       "      <td></td>\n",
       "      <td>[0.03462224081158638, 0.0662810206413269, 0.03...</td>\n",
       "    </tr>\n",
       "  </tbody>\n",
       "</table>\n",
       "</div>"
      ],
      "text/plain": [
       "         Id  AcceptedAnswerId  \\\n",
       "0  15020895                -1   \n",
       "1  68487902                -1   \n",
       "2  61391327                -1   \n",
       "3  28852710                -1   \n",
       "4  24043029                -1   \n",
       "\n",
       "                                               Title  \\\n",
       "0           Python int-byte efficient data structure   \n",
       "1  Why does the Variance of Laplace very differen...   \n",
       "2                               Why input never ends   \n",
       "3  Crashes with piecewise linear objective for gu...   \n",
       "4  Python TypeError: plotdatehist() got an unexpe...   \n",
       "\n",
       "                                        QuestionBody  \\\n",
       "0  i am currently storing key-values of type int-...   \n",
       "1  TL;DR: How can I use skimage.filters.laplace(i...   \n",
       "2  I have python 3.7 installed and I have this co...   \n",
       "3  We have a complex optimization problem which i...   \n",
       "4  apologies beforehand if this is a stupid quest...   \n",
       "\n",
       "                                                Tags  ViewCount  AnswerCount  \\\n",
       "0                             python data-structures        155            0   \n",
       "1  python opencv image-processing computer-vision...        391            0   \n",
       "2                            python python-3.x input        104            1   \n",
       "3                      python crash gurobi piecewise        403            1   \n",
       "4                                   python typeerror        419            0   \n",
       "\n",
       "   CommentCount  Score            CreationDate  AnswerId AcceptedAnswerBody  \\\n",
       "0             3      1 2013-02-22 09:33:26.360        -1                      \n",
       "1             5      1 2021-07-22 15:50:34.220        -1                      \n",
       "2             6      3 2020-04-23 15:43:03.497        -1                      \n",
       "3             1      3 2015-03-04 10:58:16.370        -1                      \n",
       "4             7      0 2014-06-04 16:42:32.257        -1                      \n",
       "\n",
       "                                           embedding  \n",
       "0  [-0.012659057974815369, -0.006133444607257843,...  \n",
       "1  [0.06565586477518082, -0.03163431957364082, 0....  \n",
       "2  [0.017581814900040627, -0.07531370967626572, 0...  \n",
       "3  [0.010070842690765858, 0.06428135931491852, -0...  \n",
       "4  [0.03462224081158638, 0.0662810206413269, 0.03...  "
      ]
     },
     "execution_count": 30,
     "metadata": {},
     "output_type": "execute_result"
    }
   ],
   "source": [
    "df_subset.head()"
   ]
  },
  {
   "cell_type": "code",
   "execution_count": 31,
   "id": "44f41a80-a6a7-4e92-98eb-e898b635f2da",
   "metadata": {},
   "outputs": [],
   "source": [
    "df_subset = df_subset [fields]"
   ]
  },
  {
   "cell_type": "code",
   "execution_count": 32,
   "id": "81276269-afe0-40bc-8de9-55fe3b197b06",
   "metadata": {
    "tags": []
   },
   "outputs": [],
   "source": [
    "df_subset.iloc[0].to_dict();"
   ]
  },
  {
   "cell_type": "code",
   "execution_count": 33,
   "id": "803fc6cb-fe38-4ee9-a89a-682e25119571",
   "metadata": {},
   "outputs": [
    {
     "data": {
      "text/plain": [
       "Id                     int64\n",
       "AcceptedAnswerId       int64\n",
       "Title                 object\n",
       "QuestionBody          object\n",
       "Tags                  object\n",
       "ViewCount              int64\n",
       "AnswerCount            int64\n",
       "CommentCount           int64\n",
       "Score                  int64\n",
       "AnswerId               int64\n",
       "AcceptedAnswerBody    object\n",
       "embedding             object\n",
       "dtype: object"
      ]
     },
     "execution_count": 33,
     "metadata": {},
     "output_type": "execute_result"
    }
   ],
   "source": [
    "df_subset.dtypes"
   ]
  },
  {
   "cell_type": "code",
   "execution_count": 34,
   "id": "87001a9e-0b4c-486f-b4ad-b2e5477fbf0a",
   "metadata": {
    "tags": []
   },
   "outputs": [],
   "source": [
    "insert_result = stackoverflow_milvus.insert( df_subset  )\n",
    "\n"
   ]
  },
  {
   "cell_type": "code",
   "execution_count": 35,
   "id": "efd3d8a5-00c4-4087-8385-87817365f667",
   "metadata": {},
   "outputs": [
    {
     "data": {
      "text/plain": [
       "(insert count: 219841, delete count: 0, upsert count: 0, timestamp: 437015477979185153, success count: 219841, err count: 0)"
      ]
     },
     "execution_count": 35,
     "metadata": {},
     "output_type": "execute_result"
    }
   ],
   "source": [
    "insert_result"
   ]
  },
  {
   "cell_type": "code",
   "execution_count": null,
   "id": "85537498-9a80-4b80-8497-3a7b7391f94d",
   "metadata": {},
   "outputs": [],
   "source": []
  },
  {
   "cell_type": "code",
   "execution_count": 36,
   "id": "bdc067de-b850-449e-b5eb-1e8e44f52c63",
   "metadata": {},
   "outputs": [
    {
     "data": {
      "text/plain": [
       "219841"
      ]
     },
     "execution_count": 36,
     "metadata": {},
     "output_type": "execute_result"
    }
   ],
   "source": [
    "stackoverflow_milvus.num_entities"
   ]
  },
  {
   "cell_type": "code",
   "execution_count": 37,
   "id": "fd902dab-1ca9-43c1-ae28-98a5293d7ec5",
   "metadata": {},
   "outputs": [
    {
     "data": {
      "text/plain": [
       "[]"
      ]
     },
     "execution_count": 37,
     "metadata": {},
     "output_type": "execute_result"
    }
   ],
   "source": [
    "stackoverflow_milvus.indexes"
   ]
  },
  {
   "cell_type": "code",
   "execution_count": null,
   "id": "4fede8ca-11ff-4bb6-9314-1f3cfbf603d7",
   "metadata": {},
   "outputs": [],
   "source": []
  },
  {
   "cell_type": "code",
   "execution_count": null,
   "id": "fdfef6af-1239-463c-9109-39a6ec72f32f",
   "metadata": {},
   "outputs": [],
   "source": []
  },
  {
   "cell_type": "markdown",
   "id": "dc1d4aa4-d056-4c3f-8732-a94169c8e8a5",
   "metadata": {},
   "source": [
    "https://milvus.io/docs/index.md"
   ]
  },
  {
   "cell_type": "code",
   "execution_count": 38,
   "id": "dd043658-6da3-473d-bf98-efa36d6aca20",
   "metadata": {},
   "outputs": [],
   "source": [
    "# index = {\n",
    "#     \"index_type\": \"IVF_FLAT\",\n",
    "#     \"metric_type\": \"L2\",\n",
    "#     \"params\": {\"nlist\": 128},\n",
    "# }\n",
    "\n",
    "index = {\n",
    "    \"index_type\": \"FLAT\",\n",
    "    \"metric_type\": \"L2\",\n",
    "    \"params\": {}\n",
    "}\n",
    "\n"
   ]
  },
  {
   "cell_type": "code",
   "execution_count": 39,
   "id": "c0035dd7-e151-4a5d-b9f1-a736aca12178",
   "metadata": {},
   "outputs": [
    {
     "data": {
      "text/plain": [
       "Status(code=0, message='Warning: It is not necessary to build index with index_type: FLAT')"
      ]
     },
     "execution_count": 39,
     "metadata": {},
     "output_type": "execute_result"
    }
   ],
   "source": [
    "stackoverflow_milvus.create_index(\"embedding\", index)"
   ]
  },
  {
   "cell_type": "code",
   "execution_count": 40,
   "id": "559dc5f7-189b-4fc0-9e37-451b3311436c",
   "metadata": {},
   "outputs": [
    {
     "data": {
      "text/plain": [
       "\u001b[0;31mSignature:\u001b[0m\n",
       "\u001b[0mstackoverflow_milvus\u001b[0m\u001b[0;34m.\u001b[0m\u001b[0mcreate_index\u001b[0m\u001b[0;34m(\u001b[0m\u001b[0;34m\u001b[0m\n",
       "\u001b[0;34m\u001b[0m    \u001b[0mfield_name\u001b[0m\u001b[0;34m,\u001b[0m\u001b[0;34m\u001b[0m\n",
       "\u001b[0;34m\u001b[0m    \u001b[0mindex_params\u001b[0m\u001b[0;34m=\u001b[0m\u001b[0;34m{\u001b[0m\u001b[0;34m}\u001b[0m\u001b[0;34m,\u001b[0m\u001b[0;34m\u001b[0m\n",
       "\u001b[0;34m\u001b[0m    \u001b[0mtimeout\u001b[0m\u001b[0;34m=\u001b[0m\u001b[0;32mNone\u001b[0m\u001b[0;34m,\u001b[0m\u001b[0;34m\u001b[0m\n",
       "\u001b[0;34m\u001b[0m    \u001b[0;34m**\u001b[0m\u001b[0mkwargs\u001b[0m\u001b[0;34m,\u001b[0m\u001b[0;34m\u001b[0m\n",
       "\u001b[0;34m\u001b[0m\u001b[0;34m)\u001b[0m \u001b[0;34m->\u001b[0m \u001b[0mpymilvus\u001b[0m\u001b[0;34m.\u001b[0m\u001b[0morm\u001b[0m\u001b[0;34m.\u001b[0m\u001b[0mindex\u001b[0m\u001b[0;34m.\u001b[0m\u001b[0mIndex\u001b[0m\u001b[0;34m\u001b[0m\u001b[0;34m\u001b[0m\u001b[0m\n",
       "\u001b[0;31mDocstring:\u001b[0m\n",
       "Creates index for a specified field. Return Index Object.\n",
       "\n",
       ":param field_name: The name of the field to create an index for.\n",
       ":type  field_name: str\n",
       "\n",
       ":param index_params: The indexing parameters.\n",
       ":type  index_params: dict\n",
       "\n",
       ":param timeout: An optional duration of time in seconds to allow for the RPC. When timeout\n",
       "                is set to None, client waits until server response or error occur\n",
       ":type  timeout: float\n",
       "\n",
       ":param kwargs:\n",
       "    * *_async* (``bool``) --\n",
       "      Indicate if invoke asynchronously. When value is true, method returns a IndexFuture object;\n",
       "      otherwise, method returns results from server.\n",
       "    * *_callback* (``function``) --\n",
       "      The callback function which is invoked after server response successfully. It only take\n",
       "      effect when _async is set to True.\n",
       "    * *index_name* (``str``) --\n",
       "      The name of index which will be created. Then you can use the index name to check the state of index.\n",
       "      If no index name is specified, the default index name is used.\n",
       "\n",
       ":raises CollectionNotExistException: If the collection does not exist.\n",
       ":raises ParamError: If the index parameters are invalid.\n",
       ":raises BaseException: If field does not exist.\n",
       ":raises BaseException: If the index has been created.\n",
       "\n",
       ":example:\n",
       "    >>> from pymilvus import connections, Collection, FieldSchema, CollectionSchema, DataType\n",
       "    >>> connections.connect()\n",
       "    >>> schema = CollectionSchema([\n",
       "    ...     FieldSchema(\"film_id\", DataType.INT64, is_primary=True),\n",
       "    ...     FieldSchema(\"films\", dtype=DataType.FLOAT_VECTOR, dim=2)\n",
       "    ... ])\n",
       "    >>> collection = Collection(\"test_collection_create_index\", schema)\n",
       "    >>> index = {\"index_type\": \"IVF_FLAT\", \"params\": {\"nlist\": 128}, \"metric_type\": \"L2\"}\n",
       "    >>> collection.create_index(\"films\", index)\n",
       "    Status(code=0, message='')\n",
       "    >>> collection.index()\n",
       "    <pymilvus.index.Index object at 0x7f44355a1460>\n",
       "\u001b[0;31mFile:\u001b[0m      /opt/conda/envs/stackoverflow/lib/python3.8/site-packages/pymilvus/orm/collection.py\n",
       "\u001b[0;31mType:\u001b[0m      method\n"
      ]
     },
     "metadata": {},
     "output_type": "display_data"
    }
   ],
   "source": [
    "?stackoverflow_milvus.create_index"
   ]
  },
  {
   "cell_type": "code",
   "execution_count": 41,
   "id": "9e9767e9-0e12-4d83-b2e5-23badcd6196b",
   "metadata": {},
   "outputs": [
    {
     "data": {
      "text/plain": [
       "[]"
      ]
     },
     "execution_count": 41,
     "metadata": {},
     "output_type": "execute_result"
    }
   ],
   "source": [
    "stackoverflow_milvus.indexes"
   ]
  },
  {
   "cell_type": "code",
   "execution_count": 42,
   "id": "9190a09c-27fe-41e2-804c-ed31f61f80df",
   "metadata": {},
   "outputs": [],
   "source": [
    "stackoverflow_milvus.load()\n"
   ]
  },
  {
   "cell_type": "code",
   "execution_count": 43,
   "id": "c4f67cbf-9c76-4a29-9e6a-1360145e0f32",
   "metadata": {},
   "outputs": [
    {
     "name": "stdout",
     "output_type": "stream",
     "text": [
      "huggingface/tokenizers: The current process just got forked, after parallelism has already been used. Disabling parallelism to avoid deadlocks...\n",
      "To disable this warning, you can either:\n",
      "\t- Avoid using `tokenizers` before the fork if possible\n",
      "\t- Explicitly set the environment variable TOKENIZERS_PARALLELISM=(true | false)\n",
      "00_data_fetch_bq.ipynb\t   01_data_subset.ipynb     faiss_document_store.db\n",
      "00_data_fetch_spark.ipynb  02_indexing_es.ipynb     old\n",
      "01_b_setup.ipynb\t   02_indexing_faiss.ipynb  test_setup.ipynb\n",
      "01_data_cleanup.ipynb\t   Untitled.ipynb\t    untitled.txt\n"
     ]
    }
   ],
   "source": [
    "!ls"
   ]
  },
  {
   "cell_type": "code",
   "execution_count": 44,
   "id": "6baf836d-31a6-41a8-a47a-96d4081a3bd5",
   "metadata": {},
   "outputs": [],
   "source": [
    "vectors_to_search = list(df_subset.iloc[0:1]['embedding'])\n",
    "\n",
    "# search_params = {\n",
    "#     \"metric_type\": \"L2\",\n",
    "#     \"params\": {\"nprobe\": 10},\n",
    "# }\n",
    "\n",
    "\n",
    "search_params = {\n",
    "    \"metric_type\": \"L2\",\n",
    "    #\"params\": {\"nprobe\": 128}\n",
    "    \n",
    "}\n",
    "\n"
   ]
  },
  {
   "cell_type": "code",
   "execution_count": 45,
   "id": "caa5188a-87e1-4940-aa3c-e43c3fdd05e1",
   "metadata": {},
   "outputs": [
    {
     "data": {
      "text/plain": [
       "(1, 768)"
      ]
     },
     "execution_count": 45,
     "metadata": {},
     "output_type": "execute_result"
    }
   ],
   "source": [
    "len(vectors_to_search) , len(vectors_to_search[0])"
   ]
  },
  {
   "cell_type": "code",
   "execution_count": 46,
   "id": "201a9a54-f503-4199-84d3-15440a1d4244",
   "metadata": {},
   "outputs": [
    {
     "name": "stdout",
     "output_type": "stream",
     "text": [
      "Object `stackoverflow_milvus.search;` not found.\n"
     ]
    }
   ],
   "source": [
    "?stackoverflow_milvus.search;"
   ]
  },
  {
   "cell_type": "code",
   "execution_count": 47,
   "id": "68b81eb7-b7ba-45c7-9b61-49a40d97c9b2",
   "metadata": {},
   "outputs": [
    {
     "data": {
      "text/plain": [
       "\u001b[0;31mDocstring:\u001b[0m\n",
       "time() -> floating point number\n",
       "\n",
       "Return the current time in seconds since the Epoch.\n",
       "Fractions of a second may be present if the system clock provides them.\n",
       "\u001b[0;31mType:\u001b[0m      builtin_function_or_method\n"
      ]
     },
     "metadata": {},
     "output_type": "display_data"
    }
   ],
   "source": [
    "?time.time"
   ]
  },
  {
   "cell_type": "code",
   "execution_count": 48,
   "id": "7a3c73d6-ab97-4d70-bb9a-98119e2a6e4f",
   "metadata": {},
   "outputs": [
    {
     "name": "stdout",
     "output_type": "stream",
     "text": [
      "0.3750486373901367\n"
     ]
    }
   ],
   "source": [
    "start_time = time.time()\n",
    "result = stackoverflow_milvus.search(data=vectors_to_search, anns_field=\"embedding\", param=search_params, limit=3\n",
    "                                     , output_fields=[\"Id\"]\n",
    "                                    \n",
    "                                    )\n",
    "end_time = time.time()\n",
    "\n",
    "# for hits in result:\n",
    "#     for hit in hits:\n",
    "#         print(f\"hit: {hit}, random field: {hit.entity.get('random')}\")\n",
    "print((end_time - start_time))"
   ]
  },
  {
   "cell_type": "code",
   "execution_count": 49,
   "id": "28639e87-8a5a-49d5-b063-8af7ec58ef6d",
   "metadata": {},
   "outputs": [
    {
     "name": "stdout",
     "output_type": "stream",
     "text": [
      "hit: (distance: 0.0, id: 15020895), score:0.0 id: 15020895 , data:{'Id': 15020895} \n",
      "hit: (distance: 0.5060367584228516, id: 25471026), score:0.5060367584228516 id: 25471026 , data:{'Id': 25471026} \n",
      "hit: (distance: 0.507915198802948, id: 46540337), score:0.507915198802948 id: 46540337 , data:{'Id': 46540337} \n"
     ]
    }
   ],
   "source": [
    "for hits in result:\n",
    "    for hit in hits:\n",
    "        print(f\"hit: {hit}, score:{hit.score} id: {hit.entity.get('Id')} , data:{hit.entity._row_data} \")"
   ]
  },
  {
   "cell_type": "code",
   "execution_count": 50,
   "id": "1342e4f0-5b58-4f55-8733-543273c7e930",
   "metadata": {},
   "outputs": [
    {
     "data": {
      "text/plain": [
       "0.507915198802948"
      ]
     },
     "execution_count": 50,
     "metadata": {},
     "output_type": "execute_result"
    }
   ],
   "source": [
    "hit.score"
   ]
  },
  {
   "cell_type": "code",
   "execution_count": 51,
   "id": "38a041be-94bf-4082-9ead-f807c405f96a",
   "metadata": {},
   "outputs": [],
   "source": [
    "def format_resp(hits, row):\n",
    "    payload = []\n",
    "    query = row['PostTitle']\n",
    "    \n",
    "    for hit in hits:\n",
    "        doc_id = int(hit.entity.get('Id'))\n",
    "        \n",
    "        r = {\n",
    "             'query': query\n",
    "             , 'query_id' : row['PostId']\n",
    "             ,'doc_id' : doc_id\n",
    "             , 'is_relevant' : doc_id in row['RelatedPostIds']\n",
    "             ,'score' : hit.score\n",
    "             ,'doc_title' : hit.entity.get('Title')\n",
    "\n",
    "\n",
    "        }\n",
    "        payload.append(r)    \n",
    "    return payload\n",
    "\n",
    "# def fetch_as_relevancy_eval(row,search_params, num_hits=10):\n",
    "    \n",
    "    \n",
    "#     vectors_to_search = [model.encode( row['PostTitle'])]\n",
    "\n",
    "    \n",
    "#     result = stackoverflow_milvus.search(data=vectors_to_search, anns_field=\"embedding\", param=search_params, limit=num_hits\n",
    "#                                      , output_fields=[\"Id\",\"Title\"]\n",
    "                                    \n",
    "#                                     )\n",
    " \n",
    "    \n",
    "#     payload = format_resp(result, row)\n",
    "    \n",
    "#     return pd.DataFrame(payload)\n",
    "    \n",
    "\n",
    "# def evaluate_relevancy_hits(df,search_params,num_hits=10):\n",
    "    \n",
    "#     payload = []\n",
    "#     for index, row in df.iterrows():\n",
    "\n",
    "#         payload_query = fetch_as_relevancy_eval(row,search_params)\n",
    "        \n",
    "#         payload.extend(payload_query.to_dict(orient='records') )\n",
    "\n",
    "    \n",
    "#     #return pd.DataFrame.from_records(payload)\n",
    "#     return pd.DataFrame(payload)\n",
    "\n",
    "\n",
    "# def evaluate_relevancy_hits2_old(df,search_params,num_hits=20):\n",
    "    \n",
    "    \n",
    "#     res = df.parallel_apply(fetch_as_relevancy_eval,num_hits=num_hits,search_params=search_params, axis = 1)\n",
    "\n",
    "#     return res\n",
    "    \n",
    "    \n",
    "def evaluate_relevancy_hits(df,search_params,num_hits=20, batch_size=10):\n",
    "    \n",
    "    payload_all = []\n",
    "    print(f\"Encoding {len(df)} vectors\")\n",
    "    \n",
    "    for pos in tqdm.trange(0, len(df), batch_size):\n",
    "        \n",
    "        df_subset = df.iloc[pos:pos + batch_size] \n",
    "    \n",
    "        vectors_to_search = model.encode( list( df_subset['PostTitle']) )\n",
    "\n",
    "        result = stackoverflow_milvus.search(data=vectors_to_search, anns_field=\"embedding\", param=search_params, limit=num_hits\n",
    "                                         , output_fields=[\"Id\",\"Title\"]\n",
    "                                        )\n",
    "\n",
    "        for hits , row in zip( result, df_subset.to_dict(orient='records') ):\n",
    "            payload = format_resp(hits, row)\n",
    "            payload_all.extend(payload)\n",
    "\n",
    "\n",
    "    print(f\"formatted response\")\n",
    "\n",
    "    df_res = pd.DataFrame(payload_all)\n",
    "    return df_res"
   ]
  },
  {
   "cell_type": "code",
   "execution_count": null,
   "id": "a4a958c8-7e3e-4e95-8456-a0ed443b6182",
   "metadata": {},
   "outputs": [],
   "source": []
  },
  {
   "cell_type": "code",
   "execution_count": null,
   "id": "48a9e7cc-c3fe-43e1-9cc6-41c7af3f8366",
   "metadata": {},
   "outputs": [],
   "source": []
  },
  {
   "cell_type": "code",
   "execution_count": 52,
   "id": "8801e7fd-1ae7-4c9a-a15a-d27168c94b17",
   "metadata": {},
   "outputs": [],
   "source": [
    "pdf_related = pd.read_parquet(path_posts_related)"
   ]
  },
  {
   "cell_type": "code",
   "execution_count": 53,
   "id": "f82f6adf-b985-47f8-a79d-112645eb17c9",
   "metadata": {},
   "outputs": [
    {
     "data": {
      "text/html": [
       "<div>\n",
       "<style scoped>\n",
       "    .dataframe tbody tr th:only-of-type {\n",
       "        vertical-align: middle;\n",
       "    }\n",
       "\n",
       "    .dataframe tbody tr th {\n",
       "        vertical-align: top;\n",
       "    }\n",
       "\n",
       "    .dataframe thead th {\n",
       "        text-align: right;\n",
       "    }\n",
       "</style>\n",
       "<table border=\"1\" class=\"dataframe\">\n",
       "  <thead>\n",
       "    <tr style=\"text-align: right;\">\n",
       "      <th></th>\n",
       "      <th>PostId</th>\n",
       "      <th>PostTitle</th>\n",
       "      <th>RelatedPostIds</th>\n",
       "      <th>RelatedPostTitles</th>\n",
       "      <th>num_candidates</th>\n",
       "    </tr>\n",
       "  </thead>\n",
       "  <tbody>\n",
       "    <tr>\n",
       "      <th>1</th>\n",
       "      <td>3494593</td>\n",
       "      <td>Shading a kernel density plot between two points.</td>\n",
       "      <td>[3494593, 14863744, 14094644, 16504452, 488531...</td>\n",
       "      <td>[Shading a kernel density plot between two poi...</td>\n",
       "      <td>16</td>\n",
       "    </tr>\n",
       "    <tr>\n",
       "      <th>2</th>\n",
       "      <td>37949409</td>\n",
       "      <td>Dictionary in a numpy array?</td>\n",
       "      <td>[37949409, 47689224, 61517741]</td>\n",
       "      <td>[Dictionary in a numpy array?, How to access t...</td>\n",
       "      <td>3</td>\n",
       "    </tr>\n",
       "    <tr>\n",
       "      <th>8</th>\n",
       "      <td>19876079</td>\n",
       "      <td>Cannot find module cv2 when using OpenCV</td>\n",
       "      <td>[19876079, 62443365, 64580641, 45606137, 60294...</td>\n",
       "      <td>[Cannot find module cv2 when using OpenCV, How...</td>\n",
       "      <td>7</td>\n",
       "    </tr>\n",
       "    <tr>\n",
       "      <th>12</th>\n",
       "      <td>35082143</td>\n",
       "      <td>Error: package or namespace load failed for ‘car’</td>\n",
       "      <td>[35082143, 65941744, 68515009, 56409535]</td>\n",
       "      <td>[Error: package or namespace load failed for ‘...</td>\n",
       "      <td>4</td>\n",
       "    </tr>\n",
       "    <tr>\n",
       "      <th>14</th>\n",
       "      <td>2673651</td>\n",
       "      <td>inheritance from str or int</td>\n",
       "      <td>[2673651, 48465797, 3120562, 15085917, 3238350...</td>\n",
       "      <td>[inheritance from str or int, Inherited class ...</td>\n",
       "      <td>15</td>\n",
       "    </tr>\n",
       "    <tr>\n",
       "      <th>...</th>\n",
       "      <td>...</td>\n",
       "      <td>...</td>\n",
       "      <td>...</td>\n",
       "      <td>...</td>\n",
       "      <td>...</td>\n",
       "    </tr>\n",
       "    <tr>\n",
       "      <th>33231</th>\n",
       "      <td>28419763</td>\n",
       "      <td>Expand Text widget to fill the entire parent F...</td>\n",
       "      <td>[28419763, 48171462]</td>\n",
       "      <td>[Expand Text widget to fill the entire parent ...</td>\n",
       "      <td>2</td>\n",
       "    </tr>\n",
       "    <tr>\n",
       "      <th>33234</th>\n",
       "      <td>40332743</td>\n",
       "      <td>Source code for str.split?</td>\n",
       "      <td>[40332743, 51355719]</td>\n",
       "      <td>[Source code for str.split?, where can I find ...</td>\n",
       "      <td>2</td>\n",
       "    </tr>\n",
       "    <tr>\n",
       "      <th>33241</th>\n",
       "      <td>27443414</td>\n",
       "      <td>Cannot perform a backup or restore operation w...</td>\n",
       "      <td>[27443414, 53216877]</td>\n",
       "      <td>[Cannot perform a backup or restore operation ...</td>\n",
       "      <td>2</td>\n",
       "    </tr>\n",
       "    <tr>\n",
       "      <th>33243</th>\n",
       "      <td>48536681</td>\n",
       "      <td>What is the exact meaning of stride's list in ...</td>\n",
       "      <td>[48536681, 47305022]</td>\n",
       "      <td>[What is the exact meaning of stride's list in...</td>\n",
       "      <td>2</td>\n",
       "    </tr>\n",
       "    <tr>\n",
       "      <th>33244</th>\n",
       "      <td>37814201</td>\n",
       "      <td>pandas time shift from utc to local</td>\n",
       "      <td>[37814201, 52390647]</td>\n",
       "      <td>[pandas time shift from utc to local, Convert ...</td>\n",
       "      <td>2</td>\n",
       "    </tr>\n",
       "  </tbody>\n",
       "</table>\n",
       "<p>6114 rows × 5 columns</p>\n",
       "</div>"
      ],
      "text/plain": [
       "         PostId                                          PostTitle  \\\n",
       "1       3494593  Shading a kernel density plot between two points.   \n",
       "2      37949409                       Dictionary in a numpy array?   \n",
       "8      19876079           Cannot find module cv2 when using OpenCV   \n",
       "12     35082143  Error: package or namespace load failed for ‘car’   \n",
       "14      2673651                        inheritance from str or int   \n",
       "...         ...                                                ...   \n",
       "33231  28419763  Expand Text widget to fill the entire parent F...   \n",
       "33234  40332743                         Source code for str.split?   \n",
       "33241  27443414  Cannot perform a backup or restore operation w...   \n",
       "33243  48536681  What is the exact meaning of stride's list in ...   \n",
       "33244  37814201                pandas time shift from utc to local   \n",
       "\n",
       "                                          RelatedPostIds  \\\n",
       "1      [3494593, 14863744, 14094644, 16504452, 488531...   \n",
       "2                         [37949409, 47689224, 61517741]   \n",
       "8      [19876079, 62443365, 64580641, 45606137, 60294...   \n",
       "12              [35082143, 65941744, 68515009, 56409535]   \n",
       "14     [2673651, 48465797, 3120562, 15085917, 3238350...   \n",
       "...                                                  ...   \n",
       "33231                               [28419763, 48171462]   \n",
       "33234                               [40332743, 51355719]   \n",
       "33241                               [27443414, 53216877]   \n",
       "33243                               [48536681, 47305022]   \n",
       "33244                               [37814201, 52390647]   \n",
       "\n",
       "                                       RelatedPostTitles  num_candidates  \n",
       "1      [Shading a kernel density plot between two poi...              16  \n",
       "2      [Dictionary in a numpy array?, How to access t...               3  \n",
       "8      [Cannot find module cv2 when using OpenCV, How...               7  \n",
       "12     [Error: package or namespace load failed for ‘...               4  \n",
       "14     [inheritance from str or int, Inherited class ...              15  \n",
       "...                                                  ...             ...  \n",
       "33231  [Expand Text widget to fill the entire parent ...               2  \n",
       "33234  [Source code for str.split?, where can I find ...               2  \n",
       "33241  [Cannot perform a backup or restore operation ...               2  \n",
       "33243  [What is the exact meaning of stride's list in...               2  \n",
       "33244  [pandas time shift from utc to local, Convert ...               2  \n",
       "\n",
       "[6114 rows x 5 columns]"
      ]
     },
     "execution_count": 53,
     "metadata": {},
     "output_type": "execute_result"
    }
   ],
   "source": [
    "pdf_related"
   ]
  },
  {
   "cell_type": "code",
   "execution_count": null,
   "id": "d2916d52-4cd9-4a7c-8aa5-cf56ea3a8ce2",
   "metadata": {},
   "outputs": [],
   "source": []
  },
  {
   "cell_type": "code",
   "execution_count": 54,
   "id": "a97bf1c6-5227-4674-a43d-8a5f7c08cc72",
   "metadata": {},
   "outputs": [],
   "source": [
    "search_params = {\n",
    "    \"metric_type\": \"L2\",\n",
    "    #\"params\": {\"nprobe\": 128}\n",
    "    \n",
    "}"
   ]
  },
  {
   "cell_type": "code",
   "execution_count": null,
   "id": "93125178-c398-436b-b3d8-57c69bba0a79",
   "metadata": {},
   "outputs": [],
   "source": []
  },
  {
   "cell_type": "code",
   "execution_count": 55,
   "id": "f255c97c-5ec3-4997-a9d1-5824dd336dcc",
   "metadata": {},
   "outputs": [],
   "source": [
    "vectors_to_search = model.encode( list( pdf_related.iloc[0:5]['PostTitle']) )\n",
    "\n",
    "    "
   ]
  },
  {
   "cell_type": "code",
   "execution_count": 56,
   "id": "6bd5b828-637f-43dd-b7e2-d220d2f0777e",
   "metadata": {},
   "outputs": [],
   "source": [
    "result = stackoverflow_milvus.search(data=vectors_to_search, anns_field=\"embedding\", param=search_params, limit=20\n",
    "                                     , output_fields=[\"Id\",\"Title\"]\n",
    "                                    )"
   ]
  },
  {
   "cell_type": "code",
   "execution_count": 57,
   "id": "a949a36b-43e3-4633-af34-1a5554af2481",
   "metadata": {},
   "outputs": [
    {
     "data": {
      "text/plain": [
       "<pymilvus.orm.search.SearchResult at 0x7f4f7284cca0>"
      ]
     },
     "execution_count": 57,
     "metadata": {},
     "output_type": "execute_result"
    }
   ],
   "source": [
    "result"
   ]
  },
  {
   "cell_type": "code",
   "execution_count": 58,
   "id": "79583dea-af60-49be-af71-dfbc8e18579f",
   "metadata": {},
   "outputs": [],
   "source": [
    "payload_all = []\n",
    "\n",
    "for hits , row in zip( result, pdf_related.iloc[0:5].to_dict(orient='records') ):\n",
    "    payload = format_resp(hits, row)\n",
    "    payload_all.extend(payload)\n",
    "\n",
    "df_res = pd.DataFrame(payload_all)\n"
   ]
  },
  {
   "cell_type": "code",
   "execution_count": 59,
   "id": "cbbcb707-585b-4049-8f21-5d7c3c9ff539",
   "metadata": {},
   "outputs": [
    {
     "data": {
      "text/html": [
       "<div>\n",
       "<style scoped>\n",
       "    .dataframe tbody tr th:only-of-type {\n",
       "        vertical-align: middle;\n",
       "    }\n",
       "\n",
       "    .dataframe tbody tr th {\n",
       "        vertical-align: top;\n",
       "    }\n",
       "\n",
       "    .dataframe thead th {\n",
       "        text-align: right;\n",
       "    }\n",
       "</style>\n",
       "<table border=\"1\" class=\"dataframe\">\n",
       "  <thead>\n",
       "    <tr style=\"text-align: right;\">\n",
       "      <th></th>\n",
       "      <th>query</th>\n",
       "      <th>query_id</th>\n",
       "      <th>doc_id</th>\n",
       "      <th>is_relevant</th>\n",
       "      <th>score</th>\n",
       "      <th>doc_title</th>\n",
       "    </tr>\n",
       "  </thead>\n",
       "  <tbody>\n",
       "    <tr>\n",
       "      <th>0</th>\n",
       "      <td>Shading a kernel density plot between two points.</td>\n",
       "      <td>3494593</td>\n",
       "      <td>3494593</td>\n",
       "      <td>True</td>\n",
       "      <td>1.281120e-12</td>\n",
       "      <td>Shading a kernel density plot between two points.</td>\n",
       "    </tr>\n",
       "    <tr>\n",
       "      <th>1</th>\n",
       "      <td>Shading a kernel density plot between two points.</td>\n",
       "      <td>3494593</td>\n",
       "      <td>27294822</td>\n",
       "      <td>False</td>\n",
       "      <td>2.057712e-01</td>\n",
       "      <td>Shading a kernel density estimate between two ...</td>\n",
       "    </tr>\n",
       "    <tr>\n",
       "      <th>2</th>\n",
       "      <td>Shading a kernel density plot between two points.</td>\n",
       "      <td>3494593</td>\n",
       "      <td>60270301</td>\n",
       "      <td>False</td>\n",
       "      <td>5.561026e-01</td>\n",
       "      <td>Kernel Density Plots and Histogram overlay</td>\n",
       "    </tr>\n",
       "    <tr>\n",
       "      <th>3</th>\n",
       "      <td>Shading a kernel density plot between two points.</td>\n",
       "      <td>3494593</td>\n",
       "      <td>7787114</td>\n",
       "      <td>True</td>\n",
       "      <td>6.285322e-01</td>\n",
       "      <td>polygon in density plot?</td>\n",
       "    </tr>\n",
       "    <tr>\n",
       "      <th>4</th>\n",
       "      <td>Shading a kernel density plot between two points.</td>\n",
       "      <td>3494593</td>\n",
       "      <td>50526344</td>\n",
       "      <td>False</td>\n",
       "      <td>6.594173e-01</td>\n",
       "      <td>Points with density gradient</td>\n",
       "    </tr>\n",
       "    <tr>\n",
       "      <th>...</th>\n",
       "      <td>...</td>\n",
       "      <td>...</td>\n",
       "      <td>...</td>\n",
       "      <td>...</td>\n",
       "      <td>...</td>\n",
       "      <td>...</td>\n",
       "    </tr>\n",
       "    <tr>\n",
       "      <th>95</th>\n",
       "      <td>inheritance from str or int</td>\n",
       "      <td>2673651</td>\n",
       "      <td>42359156</td>\n",
       "      <td>False</td>\n",
       "      <td>7.071116e-01</td>\n",
       "      <td>Class inheritance</td>\n",
       "    </tr>\n",
       "    <tr>\n",
       "      <th>96</th>\n",
       "      <td>inheritance from str or int</td>\n",
       "      <td>2673651</td>\n",
       "      <td>20604142</td>\n",
       "      <td>False</td>\n",
       "      <td>7.118336e-01</td>\n",
       "      <td>Python Inheritance With No Arguments</td>\n",
       "    </tr>\n",
       "    <tr>\n",
       "      <th>97</th>\n",
       "      <td>inheritance from str or int</td>\n",
       "      <td>2673651</td>\n",
       "      <td>65127155</td>\n",
       "      <td>False</td>\n",
       "      <td>7.207956e-01</td>\n",
       "      <td>inheritance with the extention in python</td>\n",
       "    </tr>\n",
       "    <tr>\n",
       "      <th>98</th>\n",
       "      <td>inheritance from str or int</td>\n",
       "      <td>2673651</td>\n",
       "      <td>48465797</td>\n",
       "      <td>True</td>\n",
       "      <td>7.299089e-01</td>\n",
       "      <td>Inherited class of int doesn't take additional...</td>\n",
       "    </tr>\n",
       "    <tr>\n",
       "      <th>99</th>\n",
       "      <td>inheritance from str or int</td>\n",
       "      <td>2673651</td>\n",
       "      <td>37764447</td>\n",
       "      <td>True</td>\n",
       "      <td>7.322289e-01</td>\n",
       "      <td>inheritance from int and increase in python</td>\n",
       "    </tr>\n",
       "  </tbody>\n",
       "</table>\n",
       "<p>100 rows × 6 columns</p>\n",
       "</div>"
      ],
      "text/plain": [
       "                                                query  query_id    doc_id  \\\n",
       "0   Shading a kernel density plot between two points.   3494593   3494593   \n",
       "1   Shading a kernel density plot between two points.   3494593  27294822   \n",
       "2   Shading a kernel density plot between two points.   3494593  60270301   \n",
       "3   Shading a kernel density plot between two points.   3494593   7787114   \n",
       "4   Shading a kernel density plot between two points.   3494593  50526344   \n",
       "..                                                ...       ...       ...   \n",
       "95                        inheritance from str or int   2673651  42359156   \n",
       "96                        inheritance from str or int   2673651  20604142   \n",
       "97                        inheritance from str or int   2673651  65127155   \n",
       "98                        inheritance from str or int   2673651  48465797   \n",
       "99                        inheritance from str or int   2673651  37764447   \n",
       "\n",
       "    is_relevant         score  \\\n",
       "0          True  1.281120e-12   \n",
       "1         False  2.057712e-01   \n",
       "2         False  5.561026e-01   \n",
       "3          True  6.285322e-01   \n",
       "4         False  6.594173e-01   \n",
       "..          ...           ...   \n",
       "95        False  7.071116e-01   \n",
       "96        False  7.118336e-01   \n",
       "97        False  7.207956e-01   \n",
       "98         True  7.299089e-01   \n",
       "99         True  7.322289e-01   \n",
       "\n",
       "                                            doc_title  \n",
       "0   Shading a kernel density plot between two points.  \n",
       "1   Shading a kernel density estimate between two ...  \n",
       "2          Kernel Density Plots and Histogram overlay  \n",
       "3                            polygon in density plot?  \n",
       "4                        Points with density gradient  \n",
       "..                                                ...  \n",
       "95                                  Class inheritance  \n",
       "96               Python Inheritance With No Arguments  \n",
       "97           inheritance with the extention in python  \n",
       "98  Inherited class of int doesn't take additional...  \n",
       "99        inheritance from int and increase in python  \n",
       "\n",
       "[100 rows x 6 columns]"
      ]
     },
     "execution_count": 59,
     "metadata": {},
     "output_type": "execute_result"
    }
   ],
   "source": [
    "df_res"
   ]
  },
  {
   "cell_type": "code",
   "execution_count": null,
   "id": "0b288700-4b42-48b7-a015-dfa3fb9a534e",
   "metadata": {},
   "outputs": [],
   "source": []
  },
  {
   "cell_type": "code",
   "execution_count": 60,
   "id": "203ff90e-df73-4f20-bc2d-73d25aada8d8",
   "metadata": {},
   "outputs": [
    {
     "data": {
      "text/plain": [
       "6114"
      ]
     },
     "execution_count": 60,
     "metadata": {},
     "output_type": "execute_result"
    }
   ],
   "source": [
    "len(pdf_related)\n"
   ]
  },
  {
   "cell_type": "code",
   "execution_count": 61,
   "id": "5167a840-71e1-4007-9fb4-f11593c2198b",
   "metadata": {},
   "outputs": [
    {
     "name": "stdout",
     "output_type": "stream",
     "text": [
      "Encoding 50 vectors\n"
     ]
    },
    {
     "name": "stderr",
     "output_type": "stream",
     "text": [
      "100%|██████████| 5/5 [00:02<00:00,  1.94it/s]"
     ]
    },
    {
     "name": "stdout",
     "output_type": "stream",
     "text": [
      "formatted response\n"
     ]
    },
    {
     "name": "stderr",
     "output_type": "stream",
     "text": [
      "\n"
     ]
    }
   ],
   "source": [
    "df_res = evaluate_relevancy_hits(pdf_related.iloc[0:50] , search_params=search_params)"
   ]
  },
  {
   "cell_type": "code",
   "execution_count": null,
   "id": "05407528-7fd2-4b20-939d-f2e19cff447f",
   "metadata": {},
   "outputs": [],
   "source": []
  },
  {
   "cell_type": "code",
   "execution_count": 63,
   "id": "a74d2680-2e32-4d3b-9ddd-06f42d51a60f",
   "metadata": {},
   "outputs": [
    {
     "name": "stdout",
     "output_type": "stream",
     "text": [
      "Encoding 6114 vectors\n"
     ]
    },
    {
     "name": "stderr",
     "output_type": "stream",
     "text": [
      "100%|██████████| 612/612 [04:41<00:00,  2.17it/s]"
     ]
    },
    {
     "name": "stdout",
     "output_type": "stream",
     "text": [
      "formatted response\n"
     ]
    },
    {
     "name": "stderr",
     "output_type": "stream",
     "text": [
      "\n"
     ]
    }
   ],
   "source": [
    "df_res = evaluate_relevancy_hits(pdf_related , search_params=search_params)"
   ]
  },
  {
   "cell_type": "code",
   "execution_count": null,
   "id": "114330cf-2b65-4f15-9312-8b20b7bc9d7b",
   "metadata": {},
   "outputs": [],
   "source": []
  },
  {
   "cell_type": "code",
   "execution_count": 65,
   "id": "3751c689-0e9b-48f7-8829-4ffde19be98c",
   "metadata": {},
   "outputs": [],
   "source": [
    "\n",
    "df_agg_res  = df_res.groupby(['query_id'], as_index=False).apply (lambda x: pd.Series(metrics_utils.all_metrics(x['is_relevant'])))\n"
   ]
  },
  {
   "cell_type": "code",
   "execution_count": 66,
   "id": "8e3c705e-05b8-4a05-9700-85c66b2b4585",
   "metadata": {},
   "outputs": [
    {
     "data": {
      "text/html": [
       "<div>\n",
       "<style scoped>\n",
       "    .dataframe tbody tr th:only-of-type {\n",
       "        vertical-align: middle;\n",
       "    }\n",
       "\n",
       "    .dataframe tbody tr th {\n",
       "        vertical-align: top;\n",
       "    }\n",
       "\n",
       "    .dataframe thead th {\n",
       "        text-align: right;\n",
       "    }\n",
       "</style>\n",
       "<table border=\"1\" class=\"dataframe\">\n",
       "  <thead>\n",
       "    <tr style=\"text-align: right;\">\n",
       "      <th></th>\n",
       "      <th>query_id</th>\n",
       "      <th>p@1</th>\n",
       "      <th>p@5</th>\n",
       "      <th>p@10</th>\n",
       "      <th>mrr</th>\n",
       "    </tr>\n",
       "  </thead>\n",
       "  <tbody>\n",
       "    <tr>\n",
       "      <th>0</th>\n",
       "      <td>972</td>\n",
       "      <td>1.0</td>\n",
       "      <td>0.6</td>\n",
       "      <td>0.4</td>\n",
       "      <td>1.0</td>\n",
       "    </tr>\n",
       "    <tr>\n",
       "      <th>1</th>\n",
       "      <td>8948</td>\n",
       "      <td>1.0</td>\n",
       "      <td>0.6</td>\n",
       "      <td>0.3</td>\n",
       "      <td>1.0</td>\n",
       "    </tr>\n",
       "    <tr>\n",
       "      <th>2</th>\n",
       "      <td>20794</td>\n",
       "      <td>1.0</td>\n",
       "      <td>0.4</td>\n",
       "      <td>0.2</td>\n",
       "      <td>1.0</td>\n",
       "    </tr>\n",
       "    <tr>\n",
       "      <th>3</th>\n",
       "      <td>32404</td>\n",
       "      <td>1.0</td>\n",
       "      <td>0.4</td>\n",
       "      <td>0.2</td>\n",
       "      <td>1.0</td>\n",
       "    </tr>\n",
       "    <tr>\n",
       "      <th>4</th>\n",
       "      <td>32899</td>\n",
       "      <td>1.0</td>\n",
       "      <td>0.6</td>\n",
       "      <td>0.4</td>\n",
       "      <td>1.0</td>\n",
       "    </tr>\n",
       "    <tr>\n",
       "      <th>...</th>\n",
       "      <td>...</td>\n",
       "      <td>...</td>\n",
       "      <td>...</td>\n",
       "      <td>...</td>\n",
       "      <td>...</td>\n",
       "    </tr>\n",
       "    <tr>\n",
       "      <th>6109</th>\n",
       "      <td>71792480</td>\n",
       "      <td>1.0</td>\n",
       "      <td>0.2</td>\n",
       "      <td>0.1</td>\n",
       "      <td>1.0</td>\n",
       "    </tr>\n",
       "    <tr>\n",
       "      <th>6110</th>\n",
       "      <td>71992622</td>\n",
       "      <td>1.0</td>\n",
       "      <td>0.4</td>\n",
       "      <td>0.2</td>\n",
       "      <td>1.0</td>\n",
       "    </tr>\n",
       "    <tr>\n",
       "      <th>6111</th>\n",
       "      <td>72050038</td>\n",
       "      <td>1.0</td>\n",
       "      <td>0.2</td>\n",
       "      <td>0.1</td>\n",
       "      <td>1.0</td>\n",
       "    </tr>\n",
       "    <tr>\n",
       "      <th>6112</th>\n",
       "      <td>72369460</td>\n",
       "      <td>1.0</td>\n",
       "      <td>0.2</td>\n",
       "      <td>0.2</td>\n",
       "      <td>1.0</td>\n",
       "    </tr>\n",
       "    <tr>\n",
       "      <th>6113</th>\n",
       "      <td>72407866</td>\n",
       "      <td>1.0</td>\n",
       "      <td>0.4</td>\n",
       "      <td>0.2</td>\n",
       "      <td>1.0</td>\n",
       "    </tr>\n",
       "  </tbody>\n",
       "</table>\n",
       "<p>6114 rows × 5 columns</p>\n",
       "</div>"
      ],
      "text/plain": [
       "      query_id  p@1  p@5  p@10  mrr\n",
       "0          972  1.0  0.6   0.4  1.0\n",
       "1         8948  1.0  0.6   0.3  1.0\n",
       "2        20794  1.0  0.4   0.2  1.0\n",
       "3        32404  1.0  0.4   0.2  1.0\n",
       "4        32899  1.0  0.6   0.4  1.0\n",
       "...        ...  ...  ...   ...  ...\n",
       "6109  71792480  1.0  0.2   0.1  1.0\n",
       "6110  71992622  1.0  0.4   0.2  1.0\n",
       "6111  72050038  1.0  0.2   0.1  1.0\n",
       "6112  72369460  1.0  0.2   0.2  1.0\n",
       "6113  72407866  1.0  0.4   0.2  1.0\n",
       "\n",
       "[6114 rows x 5 columns]"
      ]
     },
     "execution_count": 66,
     "metadata": {},
     "output_type": "execute_result"
    }
   ],
   "source": [
    "df_agg_res"
   ]
  },
  {
   "cell_type": "code",
   "execution_count": 67,
   "id": "1348d918-821b-4fb1-9196-78ded5a8526c",
   "metadata": {},
   "outputs": [
    {
     "data": {
      "text/plain": [
       "p@1     0.999509\n",
       "p@5     0.294799\n",
       "p@10    0.169038\n",
       "mrr     0.999755\n",
       "dtype: float64"
      ]
     },
     "execution_count": 67,
     "metadata": {},
     "output_type": "execute_result"
    }
   ],
   "source": [
    "df_agg_res.drop(columns='query_id').agg(np.mean)"
   ]
  },
  {
   "cell_type": "code",
   "execution_count": null,
   "id": "1d450a44-eb57-4d73-913d-0c1308fccd6a",
   "metadata": {},
   "outputs": [],
   "source": []
  },
  {
   "cell_type": "code",
   "execution_count": null,
   "id": "e675d29d-6035-41bc-b61c-cc4f251745b9",
   "metadata": {},
   "outputs": [],
   "source": []
  },
  {
   "cell_type": "code",
   "execution_count": 68,
   "id": "41c132b6-d50f-4044-ab31-32340938564a",
   "metadata": {},
   "outputs": [],
   "source": [
    "connections.disconnect('default')"
   ]
  },
  {
   "cell_type": "code",
   "execution_count": 74,
   "id": "dffb0b02-0fdd-49aa-a3f4-d387524ff04b",
   "metadata": {},
   "outputs": [
    {
     "data": {
      "text/plain": [
       "[('default', None)]"
      ]
     },
     "execution_count": 74,
     "metadata": {},
     "output_type": "execute_result"
    }
   ],
   "source": [
    "connections.list_connections()"
   ]
  },
  {
   "cell_type": "code",
   "execution_count": null,
   "id": "7f7eea64-8ba0-4b78-b3c7-87c1de09a5ed",
   "metadata": {},
   "outputs": [],
   "source": []
  },
  {
   "cell_type": "markdown",
   "id": "f7b02ec2-1814-4a62-b3dd-df946fd364bb",
   "metadata": {},
   "source": [
    "### Speeding up"
   ]
  },
  {
   "cell_type": "code",
   "execution_count": 75,
   "id": "804889ff-10a2-4320-a309-bc8def8352fb",
   "metadata": {},
   "outputs": [],
   "source": [
    "connections.connect(\"default\", host=\"localhost\", port=\"19530\")\n"
   ]
  },
  {
   "cell_type": "code",
   "execution_count": 76,
   "id": "d72b8637-e404-446f-9812-3228866e2aac",
   "metadata": {},
   "outputs": [],
   "source": [
    "index_ivf_flat = {\n",
    "    \"index_type\": \"IVF_FLAT\",\n",
    "    \"metric_type\": \"L2\",\n",
    "    \"params\": {\"nlist\": 128},\n",
    "}\n"
   ]
  },
  {
   "cell_type": "code",
   "execution_count": null,
   "id": "899da4cb-e209-4a59-9cbc-6d766c670f3c",
   "metadata": {},
   "outputs": [],
   "source": []
  },
  {
   "cell_type": "code",
   "execution_count": 77,
   "id": "ca2f32d9-932a-4b0b-9a19-228f5034bf6d",
   "metadata": {},
   "outputs": [
    {
     "data": {
      "text/plain": [
       "Status(code=0, message='')"
      ]
     },
     "execution_count": 77,
     "metadata": {},
     "output_type": "execute_result"
    }
   ],
   "source": [
    "stackoverflow_milvus.create_index(\"embedding\", index_ivf_flat)"
   ]
  },
  {
   "cell_type": "code",
   "execution_count": 78,
   "id": "ea6a9e81-4874-41e6-b216-ebcc4de042ea",
   "metadata": {},
   "outputs": [],
   "source": [
    "resp=stackoverflow_milvus.indexes[0]"
   ]
  },
  {
   "cell_type": "code",
   "execution_count": 79,
   "id": "393f9326-e784-4009-9362-f0524ad1d801",
   "metadata": {},
   "outputs": [
    {
     "data": {
      "text/plain": [
       "{'collection': 'stackoverflow',\n",
       " 'field': 'embedding',\n",
       " 'index_name': '_default_idx',\n",
       " 'index_param': {'index_type': 'IVF_FLAT',\n",
       "  'metric_type': 'L2',\n",
       "  'params': {'nlist': 128}}}"
      ]
     },
     "execution_count": 79,
     "metadata": {},
     "output_type": "execute_result"
    }
   ],
   "source": [
    "resp.to_dict()"
   ]
  },
  {
   "cell_type": "code",
   "execution_count": 80,
   "id": "7e1631d0-7ea4-4384-ab15-72726b22a58a",
   "metadata": {},
   "outputs": [],
   "source": [
    "stackoverflow_milvus.load()\n"
   ]
  },
  {
   "cell_type": "code",
   "execution_count": null,
   "id": "2cdc6017-54ee-4e3e-8aef-2a9b3679a509",
   "metadata": {},
   "outputs": [],
   "source": []
  },
  {
   "cell_type": "code",
   "execution_count": 81,
   "id": "a7f4eccc-1823-47cf-abfc-09e772590a06",
   "metadata": {},
   "outputs": [],
   "source": [
    "search_params_ivf_flat = {\n",
    "    \"metric_type\": \"L2\",\n",
    "    \"params\": {\"nprobe\": 1}\n",
    "    \n",
    "}"
   ]
  },
  {
   "cell_type": "code",
   "execution_count": 82,
   "id": "b39335cb-4f17-476d-b6c0-7733b73c14c0",
   "metadata": {},
   "outputs": [
    {
     "name": "stdout",
     "output_type": "stream",
     "text": [
      "Encoding 6114 vectors\n"
     ]
    },
    {
     "name": "stderr",
     "output_type": "stream",
     "text": [
      "100%|██████████| 612/612 [04:39<00:00,  2.19it/s]"
     ]
    },
    {
     "name": "stdout",
     "output_type": "stream",
     "text": [
      "formatted response\n"
     ]
    },
    {
     "name": "stderr",
     "output_type": "stream",
     "text": [
      "\n"
     ]
    }
   ],
   "source": [
    "df_res = evaluate_relevancy_hits(pdf_related , search_params=search_params_ivf_flat)"
   ]
  },
  {
   "cell_type": "code",
   "execution_count": 83,
   "id": "7f16c92e-df85-4398-aa72-f1606b6665b2",
   "metadata": {},
   "outputs": [
    {
     "data": {
      "text/plain": [
       "p@1     0.999509\n",
       "p@5     0.294799\n",
       "p@10    0.169038\n",
       "mrr     0.999755\n",
       "dtype: float64"
      ]
     },
     "execution_count": 83,
     "metadata": {},
     "output_type": "execute_result"
    }
   ],
   "source": [
    "df_agg_res.drop(columns='query_id').agg(np.mean)"
   ]
  },
  {
   "cell_type": "code",
   "execution_count": null,
   "id": "22dc8273-2930-40eb-9f50-4056e808362b",
   "metadata": {},
   "outputs": [],
   "source": []
  },
  {
   "cell_type": "code",
   "execution_count": 84,
   "id": "34b42d36-e647-478f-870e-2d045ad0702e",
   "metadata": {},
   "outputs": [
    {
     "data": {
      "text/html": [
       "<div>\n",
       "<style scoped>\n",
       "    .dataframe tbody tr th:only-of-type {\n",
       "        vertical-align: middle;\n",
       "    }\n",
       "\n",
       "    .dataframe tbody tr th {\n",
       "        vertical-align: top;\n",
       "    }\n",
       "\n",
       "    .dataframe thead th {\n",
       "        text-align: right;\n",
       "    }\n",
       "</style>\n",
       "<table border=\"1\" class=\"dataframe\">\n",
       "  <thead>\n",
       "    <tr style=\"text-align: right;\">\n",
       "      <th></th>\n",
       "      <th>query_id</th>\n",
       "      <th>p@1</th>\n",
       "      <th>p@5</th>\n",
       "      <th>p@10</th>\n",
       "      <th>mrr</th>\n",
       "    </tr>\n",
       "  </thead>\n",
       "  <tbody>\n",
       "    <tr>\n",
       "      <th>0</th>\n",
       "      <td>972</td>\n",
       "      <td>1.0</td>\n",
       "      <td>0.6</td>\n",
       "      <td>0.4</td>\n",
       "      <td>1.0</td>\n",
       "    </tr>\n",
       "    <tr>\n",
       "      <th>1</th>\n",
       "      <td>8948</td>\n",
       "      <td>1.0</td>\n",
       "      <td>0.6</td>\n",
       "      <td>0.3</td>\n",
       "      <td>1.0</td>\n",
       "    </tr>\n",
       "    <tr>\n",
       "      <th>2</th>\n",
       "      <td>20794</td>\n",
       "      <td>1.0</td>\n",
       "      <td>0.4</td>\n",
       "      <td>0.2</td>\n",
       "      <td>1.0</td>\n",
       "    </tr>\n",
       "    <tr>\n",
       "      <th>3</th>\n",
       "      <td>32404</td>\n",
       "      <td>1.0</td>\n",
       "      <td>0.4</td>\n",
       "      <td>0.2</td>\n",
       "      <td>1.0</td>\n",
       "    </tr>\n",
       "    <tr>\n",
       "      <th>4</th>\n",
       "      <td>32899</td>\n",
       "      <td>1.0</td>\n",
       "      <td>0.6</td>\n",
       "      <td>0.4</td>\n",
       "      <td>1.0</td>\n",
       "    </tr>\n",
       "  </tbody>\n",
       "</table>\n",
       "</div>"
      ],
      "text/plain": [
       "   query_id  p@1  p@5  p@10  mrr\n",
       "0       972  1.0  0.6   0.4  1.0\n",
       "1      8948  1.0  0.6   0.3  1.0\n",
       "2     20794  1.0  0.4   0.2  1.0\n",
       "3     32404  1.0  0.4   0.2  1.0\n",
       "4     32899  1.0  0.6   0.4  1.0"
      ]
     },
     "execution_count": 84,
     "metadata": {},
     "output_type": "execute_result"
    }
   ],
   "source": [
    "df_agg_res.to_parquet(\"../tmp/df_agg_res__faiss.parquet\", index=False)\n",
    "df_agg_res.head()"
   ]
  },
  {
   "cell_type": "code",
   "execution_count": 85,
   "id": "f72adb4c-c2e0-49d9-a568-aee4231fd43d",
   "metadata": {},
   "outputs": [
    {
     "data": {
      "text/html": [
       "<div>\n",
       "<style scoped>\n",
       "    .dataframe tbody tr th:only-of-type {\n",
       "        vertical-align: middle;\n",
       "    }\n",
       "\n",
       "    .dataframe tbody tr th {\n",
       "        vertical-align: top;\n",
       "    }\n",
       "\n",
       "    .dataframe thead th {\n",
       "        text-align: right;\n",
       "    }\n",
       "</style>\n",
       "<table border=\"1\" class=\"dataframe\">\n",
       "  <thead>\n",
       "    <tr style=\"text-align: right;\">\n",
       "      <th></th>\n",
       "      <th>query</th>\n",
       "      <th>query_id</th>\n",
       "      <th>doc_id</th>\n",
       "      <th>is_relevant</th>\n",
       "      <th>score</th>\n",
       "      <th>doc_title</th>\n",
       "    </tr>\n",
       "  </thead>\n",
       "  <tbody>\n",
       "    <tr>\n",
       "      <th>0</th>\n",
       "      <td>Shading a kernel density plot between two points.</td>\n",
       "      <td>3494593</td>\n",
       "      <td>3494593</td>\n",
       "      <td>True</td>\n",
       "      <td>1.383861e-12</td>\n",
       "      <td>Shading a kernel density plot between two points.</td>\n",
       "    </tr>\n",
       "    <tr>\n",
       "      <th>1</th>\n",
       "      <td>Shading a kernel density plot between two points.</td>\n",
       "      <td>3494593</td>\n",
       "      <td>27294822</td>\n",
       "      <td>False</td>\n",
       "      <td>2.057712e-01</td>\n",
       "      <td>Shading a kernel density estimate between two ...</td>\n",
       "    </tr>\n",
       "    <tr>\n",
       "      <th>2</th>\n",
       "      <td>Shading a kernel density plot between two points.</td>\n",
       "      <td>3494593</td>\n",
       "      <td>60270301</td>\n",
       "      <td>False</td>\n",
       "      <td>5.561024e-01</td>\n",
       "      <td>Kernel Density Plots and Histogram overlay</td>\n",
       "    </tr>\n",
       "    <tr>\n",
       "      <th>3</th>\n",
       "      <td>Shading a kernel density plot between two points.</td>\n",
       "      <td>3494593</td>\n",
       "      <td>7787114</td>\n",
       "      <td>True</td>\n",
       "      <td>6.285320e-01</td>\n",
       "      <td>polygon in density plot?</td>\n",
       "    </tr>\n",
       "    <tr>\n",
       "      <th>4</th>\n",
       "      <td>Shading a kernel density plot between two points.</td>\n",
       "      <td>3494593</td>\n",
       "      <td>50526344</td>\n",
       "      <td>False</td>\n",
       "      <td>6.594170e-01</td>\n",
       "      <td>Points with density gradient</td>\n",
       "    </tr>\n",
       "  </tbody>\n",
       "</table>\n",
       "</div>"
      ],
      "text/plain": [
       "                                               query  query_id    doc_id  \\\n",
       "0  Shading a kernel density plot between two points.   3494593   3494593   \n",
       "1  Shading a kernel density plot between two points.   3494593  27294822   \n",
       "2  Shading a kernel density plot between two points.   3494593  60270301   \n",
       "3  Shading a kernel density plot between two points.   3494593   7787114   \n",
       "4  Shading a kernel density plot between two points.   3494593  50526344   \n",
       "\n",
       "   is_relevant         score  \\\n",
       "0         True  1.383861e-12   \n",
       "1        False  2.057712e-01   \n",
       "2        False  5.561024e-01   \n",
       "3         True  6.285320e-01   \n",
       "4        False  6.594170e-01   \n",
       "\n",
       "                                           doc_title  \n",
       "0  Shading a kernel density plot between two points.  \n",
       "1  Shading a kernel density estimate between two ...  \n",
       "2         Kernel Density Plots and Histogram overlay  \n",
       "3                           polygon in density plot?  \n",
       "4                       Points with density gradient  "
      ]
     },
     "execution_count": 85,
     "metadata": {},
     "output_type": "execute_result"
    }
   ],
   "source": [
    "df_res.to_parquet(\"../tmp/df_res__faiss.parquet\", index=False)\n",
    "df_res.head()"
   ]
  },
  {
   "cell_type": "code",
   "execution_count": null,
   "id": "d2d62f48-542f-46dc-acd8-af084183e9fb",
   "metadata": {},
   "outputs": [],
   "source": []
  },
  {
   "cell_type": "code",
   "execution_count": null,
   "id": "78ea9071-7aec-450a-b5f6-acebbd37975a",
   "metadata": {},
   "outputs": [],
   "source": []
  },
  {
   "cell_type": "code",
   "execution_count": null,
   "id": "0c31b1f3-1b25-46e7-946f-a3a4f8b2bb3a",
   "metadata": {},
   "outputs": [],
   "source": []
  },
  {
   "cell_type": "markdown",
   "id": "7824be3a-727a-45da-b40e-c968091c9075",
   "metadata": {},
   "source": [
    "cant add new fields     \n",
    "order of fields matter    \n",
    "field size matters    "
   ]
  },
  {
   "cell_type": "code",
   "execution_count": null,
   "id": "f838c913-6d6f-4494-abe2-96fcabad252e",
   "metadata": {},
   "outputs": [],
   "source": []
  },
  {
   "cell_type": "code",
   "execution_count": null,
   "id": "6f10177b-9bbb-4cdf-888d-7fd5b3901752",
   "metadata": {},
   "outputs": [],
   "source": []
  },
  {
   "cell_type": "code",
   "execution_count": null,
   "id": "c5c26721-f105-43ee-b525-7396e7f7759b",
   "metadata": {},
   "outputs": [],
   "source": []
  },
  {
   "cell_type": "markdown",
   "id": "57d5310b-7c4a-4f63-93c4-b6d48dae04fc",
   "metadata": {},
   "source": [
    "**Can vectors with duplicate primary keys be inserted into Milvus?**    \n",
    "Yes. Milvus does not check if vector primary keys are duplicates.\n",
    "\n",
    "\n",
    "**When vectors with duplicate primary keys are inserted, does Milvus treat it as an update operation?**\n",
    "No. Milvus does not currently support update operations and does not check if entity primary keys are duplicates. You are responsible for ensuring entity primary keys are unique, and if they aren't Milvus may contain multiple entities with duplicate primary keys.\n",
    "\n",
    "If this occurs, which data copy will return when queried remains an unknown behavior. This limitation will be fixed in future releases.\n",
    "\n",
    "https://milvus.io/docs/product_faq.md#Can-vectors-with-duplicate-primary-keys-be-inserted-into-Milvus"
   ]
  },
  {
   "cell_type": "code",
   "execution_count": null,
   "id": "e7b76f8c-ef5f-45b0-b60c-a62c0dc007dd",
   "metadata": {},
   "outputs": [],
   "source": []
  },
  {
   "cell_type": "code",
   "execution_count": null,
   "id": "c5b9b9ea-521e-4ef5-ac49-f7324e984dc9",
   "metadata": {},
   "outputs": [],
   "source": []
  },
  {
   "cell_type": "code",
   "execution_count": null,
   "id": "69a9c48b-4063-496f-ba7b-3108e45f387b",
   "metadata": {},
   "outputs": [],
   "source": [
    "# reference"
   ]
  },
  {
   "cell_type": "markdown",
   "id": "78af12ed-afd5-4f1c-a8b4-09b741e1221e",
   "metadata": {},
   "source": [
    "https://github.com/milvus-io/pymilvus/blob/master/examples/hello_milvus.ipynb\n",
    "\n",
    "\n",
    "https://milvus.io/tools/sizing/"
   ]
  },
  {
   "cell_type": "code",
   "execution_count": null,
   "id": "b15849c4-1f67-4756-a6b2-dc39d6d76914",
   "metadata": {},
   "outputs": [],
   "source": []
  }
 ],
 "metadata": {
  "environment": {
   "kernel": "stackoverflow",
   "name": "pytorch-gpu.1-11.m94",
   "type": "gcloud",
   "uri": "gcr.io/deeplearning-platform-release/pytorch-gpu.1-11:m94"
  },
  "kernelspec": {
   "display_name": "Python (stackoverflow)",
   "language": "python",
   "name": "stackoverflow"
  },
  "language_info": {
   "codemirror_mode": {
    "name": "ipython",
    "version": 3
   },
   "file_extension": ".py",
   "mimetype": "text/x-python",
   "name": "python",
   "nbconvert_exporter": "python",
   "pygments_lexer": "ipython3",
   "version": "3.8.13"
  }
 },
 "nbformat": 4,
 "nbformat_minor": 5
}
