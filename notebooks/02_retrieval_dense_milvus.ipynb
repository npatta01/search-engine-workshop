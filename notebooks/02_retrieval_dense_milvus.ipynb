{
 "cells": [
  {
   "cell_type": "code",
   "execution_count": null,
   "id": "4e2638fb-b8d1-4b90-8481-cbc9aa09e034",
   "metadata": {},
   "outputs": [],
   "source": [
    "# import os\n",
    "# os.environ[\"TOKENIZERS_PARALLELISM\"] = \"false\""
   ]
  },
  {
   "cell_type": "markdown",
   "id": "3fd5e660-d629-465c-9a51-90f04add4bc8",
   "metadata": {},
   "source": [
    "# Dense Retrieval using Milvus"
   ]
  },
  {
   "cell_type": "markdown",
   "id": "22837555-c011-4c8d-85d6-528a35a4a449",
   "metadata": {},
   "source": [
    "- Understand the Python Elastic Search Client\n",
    "- Map BM25 to Elastic Search \n",
    "- Compute Evaluation metrics \n",
    "- Other users of Elastic Search"
   ]
  },
  {
   "cell_type": "code",
   "execution_count": null,
   "id": "32880383-1a8a-4224-bfe0-9ddb4530d266",
   "metadata": {},
   "outputs": [],
   "source": []
  },
  {
   "cell_type": "markdown",
   "id": "a7595154-07b0-4a3c-a37b-2f4cf33a7ccb",
   "metadata": {},
   "source": [
    "## Goals"
   ]
  },
  {
   "cell_type": "code",
   "execution_count": null,
   "id": "286d2216-4650-4baa-af56-1c10ec51205c",
   "metadata": {},
   "outputs": [],
   "source": []
  },
  {
   "cell_type": "code",
   "execution_count": 1,
   "id": "07dc00a2-93f4-4a67-b587-949838f5b148",
   "metadata": {
    "execution": {
     "iopub.execute_input": "2022-11-02T03:08:37.803141Z",
     "iopub.status.busy": "2022-11-02T03:08:37.802903Z",
     "iopub.status.idle": "2022-11-02T03:08:37.924664Z",
     "shell.execute_reply": "2022-11-02T03:08:37.923479Z",
     "shell.execute_reply.started": "2022-11-02T03:08:37.803067Z"
    },
    "tags": []
   },
   "outputs": [
    {
     "name": "stdout",
     "output_type": "stream",
     "text": [
      "00_data_fetch_bq.ipynb\t\t Untitled.ipynb\n",
      "00_data_fetch_spark.ipynb\t __pycache__\n",
      "01_b_setup.ipynb\t\t ann_benchmark_recall.ipynb\n",
      "01_data_cleanup.ipynb\t\t faiss_document_store.db\n",
      "01_data_subset.ipynb\t\t metrics_utils.py\n",
      "02_retrieval_dense_milvus.ipynb  old\n",
      "02_retrieval_sparse.ipynb\t test_setup.ipynb\n"
     ]
    }
   ],
   "source": [
    "!ls"
   ]
  },
  {
   "cell_type": "code",
   "execution_count": null,
   "id": "b6824fa4-18a8-4817-95b0-02fef5518434",
   "metadata": {},
   "outputs": [],
   "source": []
  },
  {
   "cell_type": "markdown",
   "id": "52ba77de-ea77-438d-9b6d-dd48368574c0",
   "metadata": {},
   "source": [
    "## Imports"
   ]
  },
  {
   "cell_type": "code",
   "execution_count": 2,
   "id": "0561f049-59f5-44dd-964a-ba50eb0cf8ba",
   "metadata": {
    "execution": {
     "iopub.execute_input": "2022-11-02T03:08:38.321793Z",
     "iopub.status.busy": "2022-11-02T03:08:38.320943Z",
     "iopub.status.idle": "2022-11-02T03:08:38.381918Z",
     "shell.execute_reply": "2022-11-02T03:08:38.380986Z",
     "shell.execute_reply.started": "2022-11-02T03:08:38.321748Z"
    },
    "tags": []
   },
   "outputs": [
    {
     "ename": "ModuleNotFoundError",
     "evalue": "No module named 'numpy'",
     "output_type": "error",
     "traceback": [
      "\u001b[0;31m---------------------------------------------------------------------------\u001b[0m",
      "\u001b[0;31mModuleNotFoundError\u001b[0m                       Traceback (most recent call last)",
      "\u001b[0;32m/tmp/ipykernel_31296/3176102142.py\u001b[0m in \u001b[0;36m<module>\u001b[0;34m\u001b[0m\n\u001b[1;32m      3\u001b[0m \u001b[0;32mimport\u001b[0m \u001b[0muuid\u001b[0m\u001b[0;34m\u001b[0m\u001b[0;34m\u001b[0m\u001b[0m\n\u001b[1;32m      4\u001b[0m \u001b[0;32mimport\u001b[0m \u001b[0mdatetime\u001b[0m\u001b[0;34m\u001b[0m\u001b[0;34m\u001b[0m\u001b[0m\n\u001b[0;32m----> 5\u001b[0;31m \u001b[0;32mimport\u001b[0m \u001b[0mnumpy\u001b[0m \u001b[0;32mas\u001b[0m \u001b[0mnp\u001b[0m\u001b[0;34m\u001b[0m\u001b[0;34m\u001b[0m\u001b[0m\n\u001b[0m\u001b[1;32m      6\u001b[0m \u001b[0;32mimport\u001b[0m \u001b[0mtime\u001b[0m\u001b[0;34m\u001b[0m\u001b[0;34m\u001b[0m\u001b[0m\n\u001b[1;32m      7\u001b[0m \u001b[0;32mimport\u001b[0m \u001b[0mpandas\u001b[0m \u001b[0;32mas\u001b[0m \u001b[0mpd\u001b[0m\u001b[0;34m\u001b[0m\u001b[0;34m\u001b[0m\u001b[0m\n",
      "\u001b[0;31mModuleNotFoundError\u001b[0m: No module named 'numpy'"
     ]
    }
   ],
   "source": [
    "import datetime\n",
    "import pickle\n",
    "import uuid\n",
    "import datetime\n",
    "import numpy as np\n",
    "import time\n",
    "import pandas as pd\n",
    "import tqdm\n",
    "import torch\n",
    "import metrics_utils"
   ]
  },
  {
   "cell_type": "code",
   "execution_count": null,
   "id": "19366214-a5a8-4abf-a932-c05823603eee",
   "metadata": {},
   "outputs": [],
   "source": []
  },
  {
   "cell_type": "code",
   "execution_count": null,
   "id": "33f667fd-e03f-4511-9c77-b76af92b0bbb",
   "metadata": {},
   "outputs": [],
   "source": []
  },
  {
   "cell_type": "code",
   "execution_count": null,
   "id": "b704d0b5-01c2-4c71-8d03-c9d40a17e5b6",
   "metadata": {
    "tags": []
   },
   "outputs": [],
   "source": [
    "from pymilvus import (\n",
    "    connections,\n",
    "    utility,\n",
    "    FieldSchema, CollectionSchema, DataType,\n",
    "    Collection,\n",
    ")\n",
    "import pymilvus\n",
    "\n",
    "from sentence_transformers import SentenceTransformer\n"
   ]
  },
  {
   "cell_type": "code",
   "execution_count": null,
   "id": "e88f8fe6-1e6a-43c3-a045-397a9e154c54",
   "metadata": {},
   "outputs": [],
   "source": [
    "pd.options.display.max_colwidth = 500 # increase column width"
   ]
  },
  {
   "cell_type": "code",
   "execution_count": null,
   "id": "92bc2a2a-734d-452f-8018-9662eb17a3c4",
   "metadata": {},
   "outputs": [],
   "source": []
  },
  {
   "cell_type": "code",
   "execution_count": null,
   "id": "4bd2cc03-4b81-44ca-84ba-ee486d2a9082",
   "metadata": {},
   "outputs": [],
   "source": []
  },
  {
   "cell_type": "markdown",
   "id": "608444d3-479a-46e4-ae63-afd6751451c8",
   "metadata": {},
   "source": [
    "## Data"
   ]
  },
  {
   "cell_type": "code",
   "execution_count": null,
   "id": "00214a3d-fe43-466c-8324-c7414bdc82ec",
   "metadata": {},
   "outputs": [],
   "source": []
  },
  {
   "cell_type": "code",
   "execution_count": null,
   "id": "6c05d70f-52e2-4488-9ea1-659daa6f68d7",
   "metadata": {
    "tags": []
   },
   "outputs": [],
   "source": [
    "path_posts = \"gs://np-training-tmp/stackoverflow/final_subset/posts.parquet\"\n",
    "path_posts_related = \"gs://np-training-tmp/stackoverflow/final_subset/related_posts.parquet\""
   ]
  },
  {
   "cell_type": "code",
   "execution_count": null,
   "id": "1e5eb107-ad34-4b17-854b-6e39efaec8e3",
   "metadata": {},
   "outputs": [],
   "source": []
  },
  {
   "cell_type": "code",
   "execution_count": null,
   "id": "8d5350d2-3f52-4042-bc94-6ad17f7a21b7",
   "metadata": {},
   "outputs": [],
   "source": []
  },
  {
   "cell_type": "code",
   "execution_count": null,
   "id": "e2e210de-b8bd-4a4c-8caf-d6e44cacb129",
   "metadata": {},
   "outputs": [],
   "source": [
    "collection_name = \"stackoverflow\""
   ]
  },
  {
   "cell_type": "code",
   "execution_count": null,
   "id": "2ba47df4-45c6-4a5f-8947-0b77de3986e1",
   "metadata": {},
   "outputs": [],
   "source": [
    "# def get_model():\n",
    "#     model = SentenceTransformer('flax-sentence-embeddings/stackoverflow_mpnet-base')\n",
    "#     return model\n",
    "    \n",
    "# def get_milvus_connection(collection_name):\n",
    "#     milvus_client = Collection(collection_name)\n",
    "#     return milvus_client"
   ]
  },
  {
   "cell_type": "code",
   "execution_count": null,
   "id": "3b394452-8fd1-4491-8d53-54f8b4da482a",
   "metadata": {},
   "outputs": [],
   "source": []
  },
  {
   "cell_type": "markdown",
   "id": "24ba27b4-a9c0-4334-89a9-f5e1db7838f6",
   "metadata": {},
   "source": [
    "## Model"
   ]
  },
  {
   "cell_type": "code",
   "execution_count": null,
   "id": "de3fc2a0-0055-4ed6-847d-94b92b4c1bb0",
   "metadata": {},
   "outputs": [],
   "source": [
    "model = SentenceTransformer('flax-sentence-embeddings/stackoverflow_mpnet-base')\n"
   ]
  },
  {
   "cell_type": "code",
   "execution_count": null,
   "id": "b3aeff3a-65a4-4442-bd5c-7f0b22f00c9c",
   "metadata": {
    "tags": []
   },
   "outputs": [],
   "source": [
    "print ( list(model.children()) )"
   ]
  },
  {
   "cell_type": "code",
   "execution_count": null,
   "id": "6fca3a6f-f795-42b3-887e-68cfc238bdb5",
   "metadata": {
    "tags": []
   },
   "outputs": [],
   "source": [
    "text = \"Replace me by any question / answer you'd like.\"\n",
    "text_embbedding = model.encode(text)"
   ]
  },
  {
   "cell_type": "code",
   "execution_count": null,
   "id": "6e873ce3-1c25-42f7-9086-e8d8ad752f45",
   "metadata": {
    "tags": []
   },
   "outputs": [],
   "source": [
    "text_embbedding.shape\n"
   ]
  },
  {
   "cell_type": "markdown",
   "id": "502239a4-b5ff-4f14-be6f-478344cd8e9d",
   "metadata": {
    "tags": []
   },
   "source": [
    "model."
   ]
  },
  {
   "cell_type": "code",
   "execution_count": null,
   "id": "1816a4fa-c8ed-4566-90bc-7d5c9705f778",
   "metadata": {},
   "outputs": [],
   "source": [
    "?model.encode"
   ]
  },
  {
   "cell_type": "code",
   "execution_count": null,
   "id": "4575957e-f818-4c49-96dc-ed17f3c11370",
   "metadata": {},
   "outputs": [],
   "source": []
  },
  {
   "cell_type": "code",
   "execution_count": null,
   "id": "a4be7451-a553-4862-816f-6e482f0a604d",
   "metadata": {
    "tags": []
   },
   "outputs": [],
   "source": [
    "dim = model.get_sentence_embedding_dimension()\n"
   ]
  },
  {
   "cell_type": "code",
   "execution_count": null,
   "id": "599187d9-33ac-44e3-a600-4a203619921b",
   "metadata": {},
   "outputs": [],
   "source": []
  },
  {
   "cell_type": "code",
   "execution_count": null,
   "id": "39dfdc9d-efcd-4c98-99c4-c710b9fd3cb6",
   "metadata": {
    "tags": []
   },
   "outputs": [],
   "source": [
    "df = pd.read_parquet(path_posts)\n",
    "df['Tags']  = df['Tags'].apply(lambda x: \" \".join( x.tolist()))"
   ]
  },
  {
   "cell_type": "code",
   "execution_count": null,
   "id": "b922a349-53ca-4ae5-adb8-4406d60aead8",
   "metadata": {
    "tags": []
   },
   "outputs": [],
   "source": [
    "len(df)"
   ]
  },
  {
   "cell_type": "code",
   "execution_count": null,
   "id": "3ff00cec-1a73-40f5-bbc9-53fab4edd507",
   "metadata": {},
   "outputs": [],
   "source": []
  },
  {
   "cell_type": "code",
   "execution_count": null,
   "id": "a95f34e2-865e-4897-a883-aaa877e08e44",
   "metadata": {},
   "outputs": [],
   "source": []
  },
  {
   "cell_type": "code",
   "execution_count": null,
   "id": "0c3e8b1e-49e6-4371-b841-2a1d90124631",
   "metadata": {},
   "outputs": [],
   "source": []
  },
  {
   "cell_type": "code",
   "execution_count": null,
   "id": "7c1043d6-d045-41d6-ab23-56ba7c790f01",
   "metadata": {
    "tags": []
   },
   "outputs": [],
   "source": [
    "connections.connect(\"default\", host=\"localhost\", port=\"19530\")\n"
   ]
  },
  {
   "cell_type": "code",
   "execution_count": null,
   "id": "8ed3c6db-ece8-449e-933e-75390d233e14",
   "metadata": {
    "tags": []
   },
   "outputs": [],
   "source": [
    "utility.list_collections()"
   ]
  },
  {
   "cell_type": "code",
   "execution_count": null,
   "id": "5df1e596-aed9-4ab5-96d0-7b43739b48c2",
   "metadata": {
    "tags": []
   },
   "outputs": [],
   "source": [
    "if collection_name in utility.list_collections():\n",
    "    utility.drop_collection(collection_name)"
   ]
  },
  {
   "cell_type": "code",
   "execution_count": null,
   "id": "da516024-87c8-477b-9363-6ca61cbe5e55",
   "metadata": {
    "tags": []
   },
   "outputs": [],
   "source": [
    "?Collection"
   ]
  },
  {
   "cell_type": "code",
   "execution_count": null,
   "id": "9158d7ea-ca15-4d9f-86c2-f66bf6cb4440",
   "metadata": {
    "tags": []
   },
   "outputs": [],
   "source": [
    "fields = [\n",
    "    FieldSchema(name=\"Id\", dtype=DataType.INT64, is_primary=True, auto_id=False),\n",
    "    FieldSchema(name=\"AcceptedAnswerId\", dtype=DataType.INT64),\n",
    "    FieldSchema(name=\"Title\", dtype=DataType.VARCHAR, max_length=500),\n",
    "    FieldSchema(name=\"QuestionBody\", dtype=DataType.VARCHAR, max_length=50_000),\n",
    "    FieldSchema(name=\"Tags\", dtype=DataType.VARCHAR, max_length=5000),\n",
    "    FieldSchema(name=\"ViewCount\", dtype=DataType.INT64),\n",
    "    FieldSchema(name=\"AnswerCount\", dtype=DataType.INT64),\n",
    "    FieldSchema(name=\"CommentCount\", dtype=DataType.INT64),\n",
    "    FieldSchema(name=\"Score\", dtype=DataType.INT64),\n",
    "    FieldSchema(name=\"AnswerId\", dtype=DataType.INT64),\n",
    "    FieldSchema(name=\"AcceptedAnswerBody\", dtype=DataType.VARCHAR, max_length=50_000),\n",
    "    FieldSchema(name=\"embedding\", dtype=DataType.FLOAT_VECTOR, dim=dim) ,\n",
    "    \n",
    "    #FieldSchema(name=\"CreationDate\", dtype=DataType.VARCHAR),\n",
    "\n",
    "]\n",
    "\n",
    "schema = CollectionSchema(fields, \"collection containing stackoverflow\")\n",
    "\n",
    "stackoverflow_milvus = Collection(collection_name, schema, consistency_level=\"Strong\")"
   ]
  },
  {
   "cell_type": "code",
   "execution_count": null,
   "id": "43633cf7-fde4-4ff2-b18d-88d21e098630",
   "metadata": {
    "tags": []
   },
   "outputs": [],
   "source": [
    "schema"
   ]
  },
  {
   "cell_type": "code",
   "execution_count": null,
   "id": "184387c2-bf4e-4201-bf52-0053b1be3468",
   "metadata": {
    "tags": []
   },
   "outputs": [],
   "source": [
    "fields = [f.name for f in schema.fields]"
   ]
  },
  {
   "cell_type": "code",
   "execution_count": null,
   "id": "2cfcc12c-7230-4ba8-8087-05823cdf3d29",
   "metadata": {
    "tags": []
   },
   "outputs": [],
   "source": [
    "fields"
   ]
  },
  {
   "cell_type": "code",
   "execution_count": null,
   "id": "fe674ca5-6193-4b62-bce6-74f258a9473d",
   "metadata": {
    "tags": []
   },
   "outputs": [],
   "source": [
    "\n",
    "df[['AcceptedAnswerId','AnswerId']] = df[['AcceptedAnswerId','AnswerId']].fillna(-1).astype(int)\n",
    "\n",
    "cols = ['ViewCount','AnswerCount','CommentCount' ,'Score' ]\n",
    "df[cols] = df[cols ].fillna(0).astype(int)\n",
    "\n",
    "\n",
    "df[['AcceptedAnswerBody']] = df[['AcceptedAnswerBody']].fillna(\"\")\n",
    "\n"
   ]
  },
  {
   "cell_type": "code",
   "execution_count": null,
   "id": "3f9918f8-06bd-4bd0-ae1b-65822db2373c",
   "metadata": {
    "tags": []
   },
   "outputs": [],
   "source": [
    "df.head()"
   ]
  },
  {
   "cell_type": "code",
   "execution_count": null,
   "id": "b99b54cb-e668-4cc8-97f1-aba23a4d5bc3",
   "metadata": {
    "tags": []
   },
   "outputs": [],
   "source": [
    "len(df)"
   ]
  },
  {
   "cell_type": "code",
   "execution_count": null,
   "id": "f7929d06-79d7-412e-bc55-aa615a900c3a",
   "metadata": {
    "tags": []
   },
   "outputs": [],
   "source": [
    "df_subset = df.head(5_000_000).copy()"
   ]
  },
  {
   "cell_type": "code",
   "execution_count": null,
   "id": "3b60b66b-4292-4698-b5dc-ebf17d9937ce",
   "metadata": {
    "tags": []
   },
   "outputs": [],
   "source": [
    "df_subset['Title'].tolist();"
   ]
  },
  {
   "cell_type": "code",
   "execution_count": null,
   "id": "d88d59f4-22a1-46f7-9339-5a403b31b575",
   "metadata": {
    "tags": []
   },
   "outputs": [],
   "source": [
    "?model.encode"
   ]
  },
  {
   "cell_type": "code",
   "execution_count": null,
   "id": "49cb8a7d-6fe1-463c-a240-0ead509a09fa",
   "metadata": {
    "tags": []
   },
   "outputs": [],
   "source": [
    "embeddings = model.encode(df_subset['Title'].head(1000).tolist() , show_progress_bar=True)"
   ]
  },
  {
   "cell_type": "code",
   "execution_count": null,
   "id": "9b6f58e7-9164-4267-81ec-79a553626d8a",
   "metadata": {
    "tags": []
   },
   "outputs": [],
   "source": [
    "# embeddings = np.random.random((len(df_subset),dim))\n",
    "\n",
    "#embeddings = model.encode(df_subset['Title'], show_progress_bar=True)\n",
    "\n",
    "if torch.cuda.is_available():\n",
    "    embeddings = model.encode(df_subset['Title'].tolist() , show_progress_bar=True)\n",
    "    df_subset['embedding'] = embeddings.tolist()\n",
    "    df_subset.to_parquet(path_posts.replace(\".parquet\", \"_with_embedding.parquet\") , index=False)\n"
   ]
  },
  {
   "cell_type": "code",
   "execution_count": null,
   "id": "1e206520-d57a-48b4-85f8-fe8afcbc3653",
   "metadata": {
    "tags": []
   },
   "outputs": [],
   "source": [
    "df_subset = pd.read_parquet( path_posts.replace(\".parquet\", \"_with_embedding.parquet\") )"
   ]
  },
  {
   "cell_type": "code",
   "execution_count": null,
   "id": "9aca4121-f5a7-42a8-a2b7-4d952a994218",
   "metadata": {
    "tags": []
   },
   "outputs": [],
   "source": [
    "df_subset.head()"
   ]
  },
  {
   "cell_type": "code",
   "execution_count": null,
   "id": "44f41a80-a6a7-4e92-98eb-e898b635f2da",
   "metadata": {},
   "outputs": [],
   "source": [
    "df_subset = df_subset [fields]"
   ]
  },
  {
   "cell_type": "code",
   "execution_count": null,
   "id": "81276269-afe0-40bc-8de9-55fe3b197b06",
   "metadata": {
    "tags": []
   },
   "outputs": [],
   "source": [
    "df_subset.iloc[0].to_dict();"
   ]
  },
  {
   "cell_type": "code",
   "execution_count": null,
   "id": "803fc6cb-fe38-4ee9-a89a-682e25119571",
   "metadata": {},
   "outputs": [],
   "source": [
    "df_subset.dtypes"
   ]
  },
  {
   "cell_type": "code",
   "execution_count": null,
   "id": "87001a9e-0b4c-486f-b4ad-b2e5477fbf0a",
   "metadata": {
    "tags": []
   },
   "outputs": [],
   "source": [
    "insert_result = stackoverflow_milvus.insert( df_subset  )\n",
    "\n"
   ]
  },
  {
   "cell_type": "code",
   "execution_count": null,
   "id": "efd3d8a5-00c4-4087-8385-87817365f667",
   "metadata": {},
   "outputs": [],
   "source": [
    "insert_result"
   ]
  },
  {
   "cell_type": "code",
   "execution_count": null,
   "id": "85537498-9a80-4b80-8497-3a7b7391f94d",
   "metadata": {},
   "outputs": [],
   "source": []
  },
  {
   "cell_type": "code",
   "execution_count": null,
   "id": "bdc067de-b850-449e-b5eb-1e8e44f52c63",
   "metadata": {},
   "outputs": [],
   "source": [
    "stackoverflow_milvus.num_entities"
   ]
  },
  {
   "cell_type": "code",
   "execution_count": null,
   "id": "fd902dab-1ca9-43c1-ae28-98a5293d7ec5",
   "metadata": {},
   "outputs": [],
   "source": [
    "stackoverflow_milvus.indexes"
   ]
  },
  {
   "cell_type": "code",
   "execution_count": null,
   "id": "4fede8ca-11ff-4bb6-9314-1f3cfbf603d7",
   "metadata": {},
   "outputs": [],
   "source": []
  },
  {
   "cell_type": "code",
   "execution_count": null,
   "id": "fdfef6af-1239-463c-9109-39a6ec72f32f",
   "metadata": {},
   "outputs": [],
   "source": []
  },
  {
   "cell_type": "markdown",
   "id": "dc1d4aa4-d056-4c3f-8732-a94169c8e8a5",
   "metadata": {},
   "source": [
    "https://milvus.io/docs/index.md"
   ]
  },
  {
   "cell_type": "code",
   "execution_count": null,
   "id": "dd043658-6da3-473d-bf98-efa36d6aca20",
   "metadata": {},
   "outputs": [],
   "source": [
    "# index = {\n",
    "#     \"index_type\": \"IVF_FLAT\",\n",
    "#     \"metric_type\": \"L2\",\n",
    "#     \"params\": {\"nlist\": 128},\n",
    "# }\n",
    "\n",
    "index = {\n",
    "    \"index_type\": \"FLAT\",\n",
    "    \"metric_type\": \"L2\",\n",
    "    \"params\": {}\n",
    "}\n",
    "\n"
   ]
  },
  {
   "cell_type": "code",
   "execution_count": null,
   "id": "c0035dd7-e151-4a5d-b9f1-a736aca12178",
   "metadata": {},
   "outputs": [],
   "source": [
    "stackoverflow_milvus.create_index(\"embedding\", index)"
   ]
  },
  {
   "cell_type": "code",
   "execution_count": null,
   "id": "559dc5f7-189b-4fc0-9e37-451b3311436c",
   "metadata": {},
   "outputs": [],
   "source": [
    "?stackoverflow_milvus.create_index"
   ]
  },
  {
   "cell_type": "code",
   "execution_count": null,
   "id": "9e9767e9-0e12-4d83-b2e5-23badcd6196b",
   "metadata": {},
   "outputs": [],
   "source": [
    "stackoverflow_milvus.indexes"
   ]
  },
  {
   "cell_type": "code",
   "execution_count": null,
   "id": "9190a09c-27fe-41e2-804c-ed31f61f80df",
   "metadata": {},
   "outputs": [],
   "source": [
    "stackoverflow_milvus.load()\n"
   ]
  },
  {
   "cell_type": "code",
   "execution_count": null,
   "id": "c4f67cbf-9c76-4a29-9e6a-1360145e0f32",
   "metadata": {},
   "outputs": [],
   "source": [
    "!ls"
   ]
  },
  {
   "cell_type": "code",
   "execution_count": null,
   "id": "6baf836d-31a6-41a8-a47a-96d4081a3bd5",
   "metadata": {},
   "outputs": [],
   "source": [
    "vectors_to_search = list(df_subset.iloc[0:1]['embedding'])\n",
    "\n",
    "# search_params = {\n",
    "#     \"metric_type\": \"L2\",\n",
    "#     \"params\": {\"nprobe\": 10},\n",
    "# }\n",
    "\n",
    "\n",
    "search_params = {\n",
    "    \"metric_type\": \"L2\",\n",
    "    #\"params\": {\"nprobe\": 128}\n",
    "    \n",
    "}\n",
    "\n"
   ]
  },
  {
   "cell_type": "code",
   "execution_count": null,
   "id": "caa5188a-87e1-4940-aa3c-e43c3fdd05e1",
   "metadata": {},
   "outputs": [],
   "source": [
    "len(vectors_to_search) , len(vectors_to_search[0])"
   ]
  },
  {
   "cell_type": "code",
   "execution_count": null,
   "id": "201a9a54-f503-4199-84d3-15440a1d4244",
   "metadata": {},
   "outputs": [],
   "source": [
    "?stackoverflow_milvus.search;"
   ]
  },
  {
   "cell_type": "code",
   "execution_count": null,
   "id": "68b81eb7-b7ba-45c7-9b61-49a40d97c9b2",
   "metadata": {},
   "outputs": [],
   "source": [
    "?time.time"
   ]
  },
  {
   "cell_type": "code",
   "execution_count": null,
   "id": "7a3c73d6-ab97-4d70-bb9a-98119e2a6e4f",
   "metadata": {},
   "outputs": [],
   "source": [
    "start_time = time.time()\n",
    "result = stackoverflow_milvus.search(data=vectors_to_search, anns_field=\"embedding\", param=search_params, limit=3\n",
    "                                     , output_fields=[\"Id\"]\n",
    "                                    \n",
    "                                    )\n",
    "end_time = time.time()\n",
    "\n",
    "# for hits in result:\n",
    "#     for hit in hits:\n",
    "#         print(f\"hit: {hit}, random field: {hit.entity.get('random')}\")\n",
    "print((end_time - start_time))"
   ]
  },
  {
   "cell_type": "code",
   "execution_count": null,
   "id": "28639e87-8a5a-49d5-b063-8af7ec58ef6d",
   "metadata": {},
   "outputs": [],
   "source": [
    "for hits in result:\n",
    "    for hit in hits:\n",
    "        print(f\"hit: {hit}, score:{hit.score} id: {hit.entity.get('Id')} , data:{hit.entity._row_data} \")"
   ]
  },
  {
   "cell_type": "code",
   "execution_count": null,
   "id": "1342e4f0-5b58-4f55-8733-543273c7e930",
   "metadata": {},
   "outputs": [],
   "source": [
    "hit.score"
   ]
  },
  {
   "cell_type": "code",
   "execution_count": null,
   "id": "38a041be-94bf-4082-9ead-f807c405f96a",
   "metadata": {},
   "outputs": [],
   "source": [
    "def format_resp(hits, row):\n",
    "    payload = []\n",
    "    query = row['PostTitle']\n",
    "    \n",
    "    for hit in hits:\n",
    "        doc_id = int(hit.entity.get('Id'))\n",
    "        \n",
    "        r = {\n",
    "             'query': query\n",
    "             , 'query_id' : row['PostId']\n",
    "             ,'doc_id' : doc_id\n",
    "             , 'is_relevant' : doc_id in row['RelatedPostIds']\n",
    "             ,'score' : hit.score\n",
    "             ,'doc_title' : hit.entity.get('Title')\n",
    "\n",
    "\n",
    "        }\n",
    "        payload.append(r)    \n",
    "    return payload\n",
    "\n",
    "# def fetch_as_relevancy_eval(row,search_params, num_hits=10):\n",
    "    \n",
    "    \n",
    "#     vectors_to_search = [model.encode( row['PostTitle'])]\n",
    "\n",
    "    \n",
    "#     result = stackoverflow_milvus.search(data=vectors_to_search, anns_field=\"embedding\", param=search_params, limit=num_hits\n",
    "#                                      , output_fields=[\"Id\",\"Title\"]\n",
    "                                    \n",
    "#                                     )\n",
    " \n",
    "    \n",
    "#     payload = format_resp(result, row)\n",
    "    \n",
    "#     return pd.DataFrame(payload)\n",
    "    \n",
    "\n",
    "# def evaluate_relevancy_hits(df,search_params,num_hits=10):\n",
    "    \n",
    "#     payload = []\n",
    "#     for index, row in df.iterrows():\n",
    "\n",
    "#         payload_query = fetch_as_relevancy_eval(row,search_params)\n",
    "        \n",
    "#         payload.extend(payload_query.to_dict(orient='records') )\n",
    "\n",
    "    \n",
    "#     #return pd.DataFrame.from_records(payload)\n",
    "#     return pd.DataFrame(payload)\n",
    "\n",
    "\n",
    "# def evaluate_relevancy_hits2_old(df,search_params,num_hits=20):\n",
    "    \n",
    "    \n",
    "#     res = df.parallel_apply(fetch_as_relevancy_eval,num_hits=num_hits,search_params=search_params, axis = 1)\n",
    "\n",
    "#     return res\n",
    "    \n",
    "    \n",
    "def evaluate_relevancy_hits(df,search_params,num_hits=20, batch_size=10):\n",
    "    \n",
    "    payload_all = []\n",
    "    print(f\"Encoding {len(df)} vectors\")\n",
    "    \n",
    "    for pos in tqdm.trange(0, len(df), batch_size):\n",
    "        \n",
    "        df_subset = df.iloc[pos:pos + batch_size] \n",
    "    \n",
    "        vectors_to_search = model.encode( list( df_subset['PostTitle']) )\n",
    "\n",
    "        result = stackoverflow_milvus.search(data=vectors_to_search, anns_field=\"embedding\", param=search_params, limit=num_hits\n",
    "                                         , output_fields=[\"Id\",\"Title\"]\n",
    "                                        )\n",
    "\n",
    "        for hits , row in zip( result, df_subset.to_dict(orient='records') ):\n",
    "            payload = format_resp(hits, row)\n",
    "            payload_all.extend(payload)\n",
    "\n",
    "\n",
    "    print(f\"formatted response\")\n",
    "\n",
    "    df_res = pd.DataFrame(payload_all)\n",
    "    return df_res"
   ]
  },
  {
   "cell_type": "code",
   "execution_count": null,
   "id": "a4a958c8-7e3e-4e95-8456-a0ed443b6182",
   "metadata": {},
   "outputs": [],
   "source": []
  },
  {
   "cell_type": "code",
   "execution_count": null,
   "id": "48a9e7cc-c3fe-43e1-9cc6-41c7af3f8366",
   "metadata": {},
   "outputs": [],
   "source": []
  },
  {
   "cell_type": "code",
   "execution_count": null,
   "id": "8801e7fd-1ae7-4c9a-a15a-d27168c94b17",
   "metadata": {},
   "outputs": [],
   "source": [
    "pdf_related = pd.read_parquet(path_posts_related)"
   ]
  },
  {
   "cell_type": "code",
   "execution_count": null,
   "id": "f82f6adf-b985-47f8-a79d-112645eb17c9",
   "metadata": {},
   "outputs": [],
   "source": [
    "pdf_related"
   ]
  },
  {
   "cell_type": "code",
   "execution_count": null,
   "id": "d2916d52-4cd9-4a7c-8aa5-cf56ea3a8ce2",
   "metadata": {},
   "outputs": [],
   "source": []
  },
  {
   "cell_type": "code",
   "execution_count": null,
   "id": "a97bf1c6-5227-4674-a43d-8a5f7c08cc72",
   "metadata": {},
   "outputs": [],
   "source": [
    "search_params = {\n",
    "    \"metric_type\": \"L2\",\n",
    "    #\"params\": {\"nprobe\": 128}\n",
    "    \n",
    "}"
   ]
  },
  {
   "cell_type": "code",
   "execution_count": null,
   "id": "93125178-c398-436b-b3d8-57c69bba0a79",
   "metadata": {},
   "outputs": [],
   "source": []
  },
  {
   "cell_type": "code",
   "execution_count": null,
   "id": "f255c97c-5ec3-4997-a9d1-5824dd336dcc",
   "metadata": {},
   "outputs": [],
   "source": [
    "vectors_to_search = model.encode( list( pdf_related.iloc[0:5]['PostTitle']) )\n",
    "\n",
    "    "
   ]
  },
  {
   "cell_type": "code",
   "execution_count": null,
   "id": "6bd5b828-637f-43dd-b7e2-d220d2f0777e",
   "metadata": {},
   "outputs": [],
   "source": [
    "result = stackoverflow_milvus.search(data=vectors_to_search, anns_field=\"embedding\", param=search_params, limit=20\n",
    "                                     , output_fields=[\"Id\",\"Title\"]\n",
    "                                    )"
   ]
  },
  {
   "cell_type": "code",
   "execution_count": null,
   "id": "a949a36b-43e3-4633-af34-1a5554af2481",
   "metadata": {},
   "outputs": [],
   "source": [
    "result"
   ]
  },
  {
   "cell_type": "code",
   "execution_count": null,
   "id": "79583dea-af60-49be-af71-dfbc8e18579f",
   "metadata": {},
   "outputs": [],
   "source": [
    "payload_all = []\n",
    "\n",
    "for hits , row in zip( result, pdf_related.iloc[0:5].to_dict(orient='records') ):\n",
    "    payload = format_resp(hits, row)\n",
    "    payload_all.extend(payload)\n",
    "\n",
    "df_res = pd.DataFrame(payload_all)\n"
   ]
  },
  {
   "cell_type": "code",
   "execution_count": null,
   "id": "cbbcb707-585b-4049-8f21-5d7c3c9ff539",
   "metadata": {},
   "outputs": [],
   "source": [
    "df_res"
   ]
  },
  {
   "cell_type": "code",
   "execution_count": null,
   "id": "0b288700-4b42-48b7-a015-dfa3fb9a534e",
   "metadata": {},
   "outputs": [],
   "source": []
  },
  {
   "cell_type": "code",
   "execution_count": null,
   "id": "203ff90e-df73-4f20-bc2d-73d25aada8d8",
   "metadata": {},
   "outputs": [],
   "source": [
    "len(pdf_related)\n"
   ]
  },
  {
   "cell_type": "code",
   "execution_count": null,
   "id": "5167a840-71e1-4007-9fb4-f11593c2198b",
   "metadata": {},
   "outputs": [],
   "source": [
    "df_res = evaluate_relevancy_hits(pdf_related.iloc[0:50] , search_params=search_params)"
   ]
  },
  {
   "cell_type": "code",
   "execution_count": null,
   "id": "05407528-7fd2-4b20-939d-f2e19cff447f",
   "metadata": {},
   "outputs": [],
   "source": []
  },
  {
   "cell_type": "code",
   "execution_count": null,
   "id": "a74d2680-2e32-4d3b-9ddd-06f42d51a60f",
   "metadata": {},
   "outputs": [],
   "source": [
    "df_res = evaluate_relevancy_hits(pdf_related , search_params=search_params)"
   ]
  },
  {
   "cell_type": "code",
   "execution_count": null,
   "id": "114330cf-2b65-4f15-9312-8b20b7bc9d7b",
   "metadata": {},
   "outputs": [],
   "source": []
  },
  {
   "cell_type": "code",
   "execution_count": null,
   "id": "3751c689-0e9b-48f7-8829-4ffde19be98c",
   "metadata": {
    "tags": []
   },
   "outputs": [],
   "source": [
    "\n",
    "df_agg_res  = df_res.groupby(['query_id'], as_index=False).apply (lambda x: pd.Series(metrics_utils.all_metrics(x['is_relevant'])))\n"
   ]
  },
  {
   "cell_type": "code",
   "execution_count": null,
   "id": "8e3c705e-05b8-4a05-9700-85c66b2b4585",
   "metadata": {},
   "outputs": [],
   "source": [
    "df_agg_res"
   ]
  },
  {
   "cell_type": "code",
   "execution_count": null,
   "id": "1348d918-821b-4fb1-9196-78ded5a8526c",
   "metadata": {},
   "outputs": [],
   "source": [
    "df_agg_res.drop(columns='query_id').agg(np.mean)"
   ]
  },
  {
   "cell_type": "code",
   "execution_count": null,
   "id": "1d450a44-eb57-4d73-913d-0c1308fccd6a",
   "metadata": {},
   "outputs": [],
   "source": []
  },
  {
   "cell_type": "code",
   "execution_count": null,
   "id": "e675d29d-6035-41bc-b61c-cc4f251745b9",
   "metadata": {},
   "outputs": [],
   "source": []
  },
  {
   "cell_type": "code",
   "execution_count": null,
   "id": "41c132b6-d50f-4044-ab31-32340938564a",
   "metadata": {},
   "outputs": [],
   "source": [
    "connections.disconnect('default')"
   ]
  },
  {
   "cell_type": "code",
   "execution_count": null,
   "id": "dffb0b02-0fdd-49aa-a3f4-d387524ff04b",
   "metadata": {},
   "outputs": [],
   "source": [
    "connections.list_connections()"
   ]
  },
  {
   "cell_type": "code",
   "execution_count": null,
   "id": "7f7eea64-8ba0-4b78-b3c7-87c1de09a5ed",
   "metadata": {},
   "outputs": [],
   "source": []
  },
  {
   "cell_type": "markdown",
   "id": "f7b02ec2-1814-4a62-b3dd-df946fd364bb",
   "metadata": {},
   "source": [
    "### Speeding up"
   ]
  },
  {
   "cell_type": "code",
   "execution_count": null,
   "id": "804889ff-10a2-4320-a309-bc8def8352fb",
   "metadata": {
    "tags": []
   },
   "outputs": [],
   "source": [
    "connections.connect(\"default\", host=\"localhost\", port=\"19530\")\n"
   ]
  },
  {
   "cell_type": "code",
   "execution_count": null,
   "id": "d72b8637-e404-446f-9812-3228866e2aac",
   "metadata": {
    "tags": []
   },
   "outputs": [],
   "source": [
    "index_ivf_flat = {\n",
    "    \"index_type\": \"IVF_FLAT\",\n",
    "    \"metric_type\": \"L2\",\n",
    "    \"params\": {\"nlist\": 128},\n",
    "}\n"
   ]
  },
  {
   "cell_type": "code",
   "execution_count": null,
   "id": "899da4cb-e209-4a59-9cbc-6d766c670f3c",
   "metadata": {},
   "outputs": [],
   "source": []
  },
  {
   "cell_type": "code",
   "execution_count": null,
   "id": "ca2f32d9-932a-4b0b-9a19-228f5034bf6d",
   "metadata": {
    "tags": []
   },
   "outputs": [],
   "source": [
    "stackoverflow_milvus.create_index(\"embedding\", index_ivf_flat)"
   ]
  },
  {
   "cell_type": "code",
   "execution_count": null,
   "id": "ea6a9e81-4874-41e6-b216-ebcc4de042ea",
   "metadata": {
    "tags": []
   },
   "outputs": [],
   "source": [
    "resp=stackoverflow_milvus.indexes[0]"
   ]
  },
  {
   "cell_type": "code",
   "execution_count": null,
   "id": "393f9326-e784-4009-9362-f0524ad1d801",
   "metadata": {
    "tags": []
   },
   "outputs": [],
   "source": [
    "resp.to_dict()"
   ]
  },
  {
   "cell_type": "code",
   "execution_count": null,
   "id": "7e1631d0-7ea4-4384-ab15-72726b22a58a",
   "metadata": {
    "tags": []
   },
   "outputs": [],
   "source": [
    "stackoverflow_milvus.load()\n"
   ]
  },
  {
   "cell_type": "code",
   "execution_count": null,
   "id": "2cdc6017-54ee-4e3e-8aef-2a9b3679a509",
   "metadata": {},
   "outputs": [],
   "source": []
  },
  {
   "cell_type": "code",
   "execution_count": null,
   "id": "a7f4eccc-1823-47cf-abfc-09e772590a06",
   "metadata": {
    "tags": []
   },
   "outputs": [],
   "source": [
    "search_params_ivf_flat = {\n",
    "    \"metric_type\": \"L2\",\n",
    "    \"params\": {\"nprobe\": 10000}\n",
    "    \n",
    "}"
   ]
  },
  {
   "cell_type": "code",
   "execution_count": null,
   "id": "b39335cb-4f17-476d-b6c0-7733b73c14c0",
   "metadata": {
    "tags": []
   },
   "outputs": [],
   "source": [
    "df_res = evaluate_relevancy_hits(pdf_related , search_params=search_params_ivf_flat)"
   ]
  },
  {
   "cell_type": "code",
   "execution_count": null,
   "id": "6d521e4e-aadb-4e58-865a-b159032a5150",
   "metadata": {},
   "outputs": [],
   "source": []
  },
  {
   "cell_type": "code",
   "execution_count": null,
   "id": "fefe645c-aa2f-4407-a762-13888eb914b5",
   "metadata": {},
   "outputs": [],
   "source": []
  },
  {
   "cell_type": "code",
   "execution_count": null,
   "id": "956e6d1f-264b-4b9c-ac8a-6c523355b3b7",
   "metadata": {},
   "outputs": [],
   "source": []
  },
  {
   "cell_type": "code",
   "execution_count": null,
   "id": "1fc50ca9-2f22-4428-b23a-1521f08b594c",
   "metadata": {},
   "outputs": [],
   "source": []
  },
  {
   "cell_type": "code",
   "execution_count": null,
   "id": "90d35812-4429-4cf2-a1a5-2ab00d63fcfd",
   "metadata": {},
   "outputs": [],
   "source": []
  },
  {
   "cell_type": "code",
   "execution_count": null,
   "id": "e90030e4-0d70-430e-a8ba-f7e3fbc51842",
   "metadata": {},
   "outputs": [],
   "source": []
  },
  {
   "cell_type": "code",
   "execution_count": null,
   "id": "7f16c92e-df85-4398-aa72-f1606b6665b2",
   "metadata": {
    "tags": []
   },
   "outputs": [],
   "source": [
    "df_agg_res.drop(columns='query_id').agg(np.mean)"
   ]
  },
  {
   "cell_type": "code",
   "execution_count": null,
   "id": "22dc8273-2930-40eb-9f50-4056e808362b",
   "metadata": {},
   "outputs": [],
   "source": []
  },
  {
   "cell_type": "code",
   "execution_count": null,
   "id": "34b42d36-e647-478f-870e-2d045ad0702e",
   "metadata": {},
   "outputs": [],
   "source": [
    "df_agg_res.to_parquet(\"../tmp/df_agg_res__faiss.parquet\", index=False)\n",
    "df_agg_res.head()"
   ]
  },
  {
   "cell_type": "code",
   "execution_count": null,
   "id": "f72adb4c-c2e0-49d9-a568-aee4231fd43d",
   "metadata": {},
   "outputs": [],
   "source": [
    "df_res.to_parquet(\"../tmp/df_res__faiss.parquet\", index=False)\n",
    "df_res.head()"
   ]
  },
  {
   "cell_type": "code",
   "execution_count": null,
   "id": "d2d62f48-542f-46dc-acd8-af084183e9fb",
   "metadata": {},
   "outputs": [],
   "source": []
  },
  {
   "cell_type": "code",
   "execution_count": null,
   "id": "78ea9071-7aec-450a-b5f6-acebbd37975a",
   "metadata": {},
   "outputs": [],
   "source": []
  },
  {
   "cell_type": "code",
   "execution_count": null,
   "id": "0c31b1f3-1b25-46e7-946f-a3a4f8b2bb3a",
   "metadata": {},
   "outputs": [],
   "source": []
  },
  {
   "cell_type": "markdown",
   "id": "7824be3a-727a-45da-b40e-c968091c9075",
   "metadata": {},
   "source": [
    "cant add new fields     \n",
    "order of fields matter    \n",
    "field size matters    "
   ]
  },
  {
   "cell_type": "code",
   "execution_count": null,
   "id": "f838c913-6d6f-4494-abe2-96fcabad252e",
   "metadata": {},
   "outputs": [],
   "source": []
  },
  {
   "cell_type": "code",
   "execution_count": null,
   "id": "6f10177b-9bbb-4cdf-888d-7fd5b3901752",
   "metadata": {},
   "outputs": [],
   "source": []
  },
  {
   "cell_type": "code",
   "execution_count": null,
   "id": "c5c26721-f105-43ee-b525-7396e7f7759b",
   "metadata": {},
   "outputs": [],
   "source": []
  },
  {
   "cell_type": "markdown",
   "id": "57d5310b-7c4a-4f63-93c4-b6d48dae04fc",
   "metadata": {},
   "source": [
    "**Can vectors with duplicate primary keys be inserted into Milvus?**    \n",
    "Yes. Milvus does not check if vector primary keys are duplicates.\n",
    "\n",
    "\n",
    "**When vectors with duplicate primary keys are inserted, does Milvus treat it as an update operation?**\n",
    "No. Milvus does not currently support update operations and does not check if entity primary keys are duplicates. You are responsible for ensuring entity primary keys are unique, and if they aren't Milvus may contain multiple entities with duplicate primary keys.\n",
    "\n",
    "If this occurs, which data copy will return when queried remains an unknown behavior. This limitation will be fixed in future releases.\n",
    "\n",
    "https://milvus.io/docs/product_faq.md#Can-vectors-with-duplicate-primary-keys-be-inserted-into-Milvus"
   ]
  },
  {
   "cell_type": "code",
   "execution_count": null,
   "id": "e7b76f8c-ef5f-45b0-b60c-a62c0dc007dd",
   "metadata": {},
   "outputs": [],
   "source": []
  },
  {
   "cell_type": "code",
   "execution_count": null,
   "id": "c5b9b9ea-521e-4ef5-ac49-f7324e984dc9",
   "metadata": {},
   "outputs": [],
   "source": []
  },
  {
   "cell_type": "code",
   "execution_count": null,
   "id": "69a9c48b-4063-496f-ba7b-3108e45f387b",
   "metadata": {},
   "outputs": [],
   "source": [
    "# reference"
   ]
  },
  {
   "cell_type": "markdown",
   "id": "78af12ed-afd5-4f1c-a8b4-09b741e1221e",
   "metadata": {},
   "source": [
    "https://github.com/milvus-io/pymilvus/blob/master/examples/hello_milvus.ipynb\n",
    "\n",
    "\n",
    "https://milvus.io/tools/sizing/"
   ]
  },
  {
   "cell_type": "code",
   "execution_count": null,
   "id": "b15849c4-1f67-4756-a6b2-dc39d6d76914",
   "metadata": {},
   "outputs": [],
   "source": []
  }
 ],
 "metadata": {
  "environment": {
   "kernel": "stackoverflow",
   "name": "pytorch-gpu.1-11.m94",
   "type": "gcloud",
   "uri": "gcr.io/deeplearning-platform-release/pytorch-gpu.1-11:m94"
  },
  "kernelspec": {
   "display_name": "stackoverflow",
   "language": "python",
   "name": "stackoverflow"
  },
  "language_info": {
   "codemirror_mode": {
    "name": "ipython",
    "version": 3
   },
   "file_extension": ".py",
   "mimetype": "text/x-python",
   "name": "python",
   "nbconvert_exporter": "python",
   "pygments_lexer": "ipython3",
   "version": "3.7.12"
  }
 },
 "nbformat": 4,
 "nbformat_minor": 5
}
