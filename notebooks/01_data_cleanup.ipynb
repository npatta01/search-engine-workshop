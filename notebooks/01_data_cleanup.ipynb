{
 "cells": [
  {
   "cell_type": "code",
   "execution_count": null,
   "id": "aee8fe43-e63a-4f4f-8d54-920d4cefcac7",
   "metadata": {},
   "outputs": [],
   "source": [
    "# !rm -rf ../data/df_raw/*\n",
    "# !gsutil -m cp -r gs://np-training-tmp/stackoverflow/posts_processed/*.parquet ../data/raw/"
   ]
  },
  {
   "cell_type": "code",
   "execution_count": null,
   "id": "bde44929-39d9-4ae2-a1fb-92237dade5cc",
   "metadata": {},
   "outputs": [],
   "source": []
  },
  {
   "cell_type": "code",
   "execution_count": null,
   "id": "2c6035a9-2659-4d3c-9544-df26c4288e63",
   "metadata": {},
   "outputs": [],
   "source": []
  },
  {
   "cell_type": "code",
   "execution_count": 18,
   "id": "aba15bc0-9c36-4c73-84e1-9f6e5513e740",
   "metadata": {},
   "outputs": [],
   "source": [
    "from pyspark.sql import SparkSession\n",
    "import re\n",
    "import lxml.html\n",
    "from pyspark.sql.types import StringType, ArrayType\n",
    "import pyspark.sql.functions as F\n"
   ]
  },
  {
   "cell_type": "code",
   "execution_count": null,
   "id": "115c37cd-74c8-4f25-b443-ed9260f7d649",
   "metadata": {},
   "outputs": [],
   "source": []
  },
  {
   "cell_type": "code",
   "execution_count": 2,
   "id": "c928c0f2-796d-4b59-8a49-4aa694512703",
   "metadata": {},
   "outputs": [
    {
     "name": "stderr",
     "output_type": "stream",
     "text": [
      "Setting default log level to \"WARN\".\n",
      "To adjust logging level use sc.setLogLevel(newLevel). For SparkR, use setLogLevel(newLevel).\n",
      "22/10/17 10:15:33 INFO org.apache.spark.SparkEnv: Registering MapOutputTracker\n",
      "22/10/17 10:15:34 INFO org.apache.spark.SparkEnv: Registering BlockManagerMaster\n",
      "22/10/17 10:15:34 INFO org.apache.spark.SparkEnv: Registering BlockManagerMasterHeartbeat\n",
      "22/10/17 10:15:34 INFO org.apache.spark.SparkEnv: Registering OutputCommitCoordinator\n"
     ]
    }
   ],
   "source": [
    "spark = SparkSession\\\n",
    ".builder\\\n",
    ".appName('app')\\\n",
    ".config(\"spark.default.parallelism\",200) \\\n",
    ".config(\"spark.sql.shuffle.partitions\",200) \\\n",
    ".getOrCreate()\n"
   ]
  },
  {
   "cell_type": "code",
   "execution_count": null,
   "id": "bbc797e3-30f5-483e-a06b-9c1c7451a431",
   "metadata": {},
   "outputs": [],
   "source": []
  },
  {
   "cell_type": "code",
   "execution_count": 5,
   "id": "d7cf1f38-afe2-4da2-ac98-9f83ae513119",
   "metadata": {},
   "outputs": [],
   "source": [
    "posts_path = \"gs://np-training-tmp/stackoverflow/output/posts__qn_with_top_answer/\"\n",
    "posts_link_path = \"gs://np-training-tmp/stackoverflow/output/posts__links/\"\n",
    "\n"
   ]
  },
  {
   "cell_type": "code",
   "execution_count": null,
   "id": "6f51af23-1950-4294-8fa9-019f7f6f9d33",
   "metadata": {},
   "outputs": [],
   "source": []
  },
  {
   "cell_type": "code",
   "execution_count": null,
   "id": "133f9bd5-2497-4093-b694-033c036ff820",
   "metadata": {},
   "outputs": [],
   "source": []
  },
  {
   "cell_type": "code",
   "execution_count": 6,
   "id": "9d076b96-d7ec-4424-8fc0-fa9e78f97ef3",
   "metadata": {},
   "outputs": [
    {
     "name": "stderr",
     "output_type": "stream",
     "text": [
      "                                                                                \r"
     ]
    }
   ],
   "source": [
    "df_posts = spark.read.parquet(posts_path)\n"
   ]
  },
  {
   "cell_type": "code",
   "execution_count": null,
   "id": "f205673f-ac5a-4b56-83ca-0d42024d2101",
   "metadata": {},
   "outputs": [],
   "source": []
  },
  {
   "cell_type": "code",
   "execution_count": 9,
   "id": "b90aa31e-d3f3-4549-ba6d-cec2e7dcb496",
   "metadata": {},
   "outputs": [
    {
     "name": "stderr",
     "output_type": "stream",
     "text": [
      "[Stage 2:>                                                          (0 + 1) / 1]\r"
     ]
    },
    {
     "name": "stdout",
     "output_type": "stream",
     "text": [
      "+--------+----------------+--------------------+--------------------+--------------------+---------+-----------+------------+-----+--------------------+--------+------------------+\n",
      "|      Id|AcceptedAnswerId|               Title|        QuestionBody|                Tags|ViewCount|AnswerCount|CommentCount|Score|        CreationDate|AnswerId|AcceptedAnswerBody|\n",
      "+--------+----------------+--------------------+--------------------+--------------------+---------+-----------+------------+-----+--------------------+--------+------------------+\n",
      "|39457367|            null|How to configure ...|<p>I'm trying to ...|<java><eclipse><m...|     1048|          1|           1|    0|2016-09-12 19:24:...|    null|              null|\n",
      "|52081324|            null|Apache 2.2 Cent O...|<p>I am trying to...|<apache><centos><...|       44|          0|           5|    0|2018-08-29 15:37:...|    null|              null|\n",
      "|50452353|            null|Realm Java Equiva...|<p>In iOS with Re...|<java><android><r...|      135|          0|           5|    0|2018-05-21 15:47:...|    null|              null|\n",
      "|48771754|            null|Hibernate one to ...|<p>post is long b...|<java><xml><hiber...|      325|          0|           3|    0|2018-02-13 16:50:...|    null|              null|\n",
      "|60112536|            null|How to store Memo...|<p>I want to hold...|<c#><.net-core><c...|      264|          1|           6|    0|2020-02-07 11:26:...|    null|              null|\n",
      "+--------+----------------+--------------------+--------------------+--------------------+---------+-----------+------------+-----+--------------------+--------+------------------+\n",
      "only showing top 5 rows\n",
      "\n"
     ]
    },
    {
     "name": "stderr",
     "output_type": "stream",
     "text": [
      "                                                                                \r"
     ]
    }
   ],
   "source": [
    "df_posts.show(5)"
   ]
  },
  {
   "cell_type": "code",
   "execution_count": null,
   "id": "9b3ded85-a4f0-4607-859b-fd0e1b3ff509",
   "metadata": {},
   "outputs": [],
   "source": []
  },
  {
   "cell_type": "code",
   "execution_count": 7,
   "id": "09c6448a-38ce-4921-ba2c-861114cb855c",
   "metadata": {},
   "outputs": [],
   "source": [
    "df_posts_link = spark.read.parquet(posts_link_path)"
   ]
  },
  {
   "cell_type": "code",
   "execution_count": 10,
   "id": "758f215c-6373-4884-a891-0f034173538f",
   "metadata": {},
   "outputs": [
    {
     "name": "stdout",
     "output_type": "stream",
     "text": [
      "+--------+-------------+\n",
      "|  PostId|RelatedPostId|\n",
      "+--------+-------------+\n",
      "|51490454|     30328586|\n",
      "|22248511|     29987055|\n",
      "|54632152|      3812055|\n",
      "|46755225|      2472905|\n",
      "|42799068|     22310912|\n",
      "+--------+-------------+\n",
      "only showing top 5 rows\n",
      "\n"
     ]
    }
   ],
   "source": [
    "df_posts_link.show(5)"
   ]
  },
  {
   "cell_type": "code",
   "execution_count": null,
   "id": "fb1966fe-962c-48ab-b373-c0a4071a029d",
   "metadata": {},
   "outputs": [],
   "source": []
  },
  {
   "cell_type": "code",
   "execution_count": 34,
   "id": "9cd18238-7318-44bb-8302-89232429028e",
   "metadata": {},
   "outputs": [],
   "source": [
    "regex = r\"\"\"\n",
    "\t<pre>.*?</pre>\n",
    "\t\"\"\"\n",
    "\n",
    "def clean_text(snippet:str):\n",
    "    \n",
    "    if not snippet:\n",
    "        return snippet\n",
    "    snippet = re.sub(pattern=regex, repl = '[CODE]', string = snippet,  flags = re.IGNORECASE | re.DOTALL | re.MULTILINE | re.VERBOSE )\n",
    "    \n",
    "    snippet = str(lxml.html.fromstring(snippet).text_content())\n",
    "    \n",
    "    return snippet\n",
    "\n",
    "def parse_tags(content:str):\n",
    "    return re.findall(r'<(.+?)>',content)\n",
    "\n",
    "\n",
    "udf_clean_text = F.udf(lambda x:clean_text(x),StringType() )\n",
    "udf_parse_tags = F.udf(lambda x:parse_tags(x),ArrayType (StringType() ))"
   ]
  },
  {
   "cell_type": "code",
   "execution_count": 35,
   "id": "8eda050e-3ab9-4555-9f7a-fe9cb190d824",
   "metadata": {},
   "outputs": [
    {
     "data": {
      "text/plain": [
       "'I was asked to create a singleton that will...\\n\\n[CODE]\\n\\n test \\n\\n'"
      ]
     },
     "execution_count": 35,
     "metadata": {},
     "output_type": "execute_result"
    }
   ],
   "source": [
    "clean_text(f\"\"\"\n",
    "\n",
    "<p>I was asked to create a singleton that will..</p>.\n",
    "\n",
    "<pre><code>KDF </code></pre>\n",
    "\n",
    "<p> test </p>\n",
    "\n",
    "\"\"\")"
   ]
  },
  {
   "cell_type": "code",
   "execution_count": 37,
   "id": "38f504e0-021c-4db7-9622-8549727aef55",
   "metadata": {},
   "outputs": [
    {
     "data": {
      "text/plain": [
       "''"
      ]
     },
     "execution_count": 37,
     "metadata": {},
     "output_type": "execute_result"
    }
   ],
   "source": [
    "clean_text('')"
   ]
  },
  {
   "cell_type": "code",
   "execution_count": 38,
   "id": "e8882962-e0aa-4928-8d37-1263dba50017",
   "metadata": {},
   "outputs": [],
   "source": [
    "clean_text(None)"
   ]
  },
  {
   "cell_type": "code",
   "execution_count": 51,
   "id": "8541ea82-7b3e-40d9-aaaf-32139c78cae4",
   "metadata": {},
   "outputs": [],
   "source": [
    "df_posts_processed = df_posts \\\n",
    "                        .withColumn(\"QuestionBody\",udf_clean_text(F.col(\"QuestionBody\"))) \\\n",
    "                        .withColumn(\"AcceptedAnswerBody\",udf_clean_text(F.col(\"AcceptedAnswerBody\"))) \\\n",
    "                        .withColumn(\"Tags\",udf_parse_tags(F.col(\"Tags\"))) \\\n",
    "                        .cache()\n"
   ]
  },
  {
   "cell_type": "code",
   "execution_count": 52,
   "id": "a8a4ed1a-ab18-43e9-8cc6-27412727e13b",
   "metadata": {},
   "outputs": [
    {
     "name": "stderr",
     "output_type": "stream",
     "text": [
      "[Stage 13:>                                                         (0 + 1) / 1]\r"
     ]
    },
    {
     "name": "stdout",
     "output_type": "stream",
     "text": [
      "+--------+----------------+--------------------+--------------------+--------------------+---------+-----------+------------+-----+--------------------+--------+--------------------+\n",
      "|      Id|AcceptedAnswerId|               Title|        QuestionBody|                Tags|ViewCount|AnswerCount|CommentCount|Score|        CreationDate|AnswerId|  AcceptedAnswerBody|\n",
      "+--------+----------------+--------------------+--------------------+--------------------+---------+-----------+------------+-----+--------------------+--------+--------------------+\n",
      "|70623033|        70626284|bash: cat + grep ...|Using Linux bash ...|   [bash, grep, cat]|       58|          3|           0|    1|2022-01-07 14:52:...|70626284|Here is an awk so...|\n",
      "|46776107|        46776332|Ajax getting 400 ...|I am trying to PO...|[javascript, html...|     2637|          4|           7|    0|2017-10-16 17:43:...|46776332|Since you are try...|\n",
      "|68080665|        68081670|Beautiful Soup fi...|So, I try to scra...|[python, html, we...|       46|          1|           0|    0|2021-06-22 09:06:...|68081670|It seems the prob...|\n",
      "|30853341|        31158621|In a Visual Studi...|I need my Visual ...|[visual-studio, v...|     2264|          2|           0|    8|2015-06-15 19:22:...|31158621|There is no easy ...|\n",
      "|64170771|        64203250|Update object to ...|I'm working with ...|[jpa, sql-update,...|     1018|          1|           0|    1|2020-10-02 11:29:...|64203250|I didn't realize ...|\n",
      "+--------+----------------+--------------------+--------------------+--------------------+---------+-----------+------------+-----+--------------------+--------+--------------------+\n",
      "only showing top 5 rows\n",
      "\n"
     ]
    },
    {
     "name": "stderr",
     "output_type": "stream",
     "text": [
      "                                                                                \r"
     ]
    }
   ],
   "source": [
    "df_posts_processed.where(F.col(\"AcceptedAnswerBody\").isNotNull()).show(5)"
   ]
  },
  {
   "cell_type": "code",
   "execution_count": null,
   "id": "cdce4f06-a9b0-4e8c-b5cf-820955d3ff50",
   "metadata": {},
   "outputs": [
    {
     "name": "stderr",
     "output_type": "stream",
     "text": [
      "[Stage 14:>                                                      (1 + 72) / 210]\r"
     ]
    }
   ],
   "source": [
    "pdf_top_tags = df_posts_processed\\\n",
    ".where(F.col(\"AcceptedAnswerBody\").isNotNull()) \\\n",
    ".select(F.explode(\"Tags\").alias('tag')) \\\n",
    ".groupby(['tag']) \\\n",
    ".count() \\\n",
    ".toPandas() \\\n",
    ".sort_values(['count'], ascending=False)"
   ]
  },
  {
   "cell_type": "code",
   "execution_count": null,
   "id": "2ce89f46-74a6-4c4d-8725-73530707a067",
   "metadata": {},
   "outputs": [],
   "source": [
    "pdf_top_tags"
   ]
  },
  {
   "cell_type": "code",
   "execution_count": null,
   "id": "bbeb83a1-959e-4390-ad8c-e5ded65d208a",
   "metadata": {},
   "outputs": [],
   "source": []
  },
  {
   "cell_type": "code",
   "execution_count": null,
   "id": "7d3335c5-afc1-4ec0-91b2-ebfddec33695",
   "metadata": {},
   "outputs": [],
   "source": []
  },
  {
   "cell_type": "code",
   "execution_count": null,
   "id": "0d453d5f-1abb-4357-ace3-62cf520e5031",
   "metadata": {},
   "outputs": [],
   "source": [
    "df_posts_link \\\n",
    ".join(df_posts_processed, on =[''])"
   ]
  },
  {
   "cell_type": "code",
   "execution_count": null,
   "id": "2a5bcf4f-bcbd-4c31-af77-ee96aad30197",
   "metadata": {},
   "outputs": [],
   "source": []
  },
  {
   "cell_type": "code",
   "execution_count": null,
   "id": "cd08ec3c-b4ba-4a46-bcd6-c7c059e35e82",
   "metadata": {},
   "outputs": [],
   "source": []
  },
  {
   "cell_type": "code",
   "execution_count": null,
   "id": "4fc4cbb6-3f30-43ec-97ec-2483d3b4be03",
   "metadata": {},
   "outputs": [],
   "source": []
  },
  {
   "cell_type": "code",
   "execution_count": null,
   "id": "91911a9c-6a7e-46d3-955f-f0768dea4c11",
   "metadata": {},
   "outputs": [],
   "source": [
    "df2 = df.select(df.name,explode(df.knownLanguages))\n"
   ]
  },
  {
   "cell_type": "code",
   "execution_count": null,
   "id": "99185069-8611-417a-8a08-a6eca52b826a",
   "metadata": {},
   "outputs": [],
   "source": []
  },
  {
   "cell_type": "code",
   "execution_count": 27,
   "id": "a60b2cd6-2f02-447b-99ac-2de8598bb470",
   "metadata": {},
   "outputs": [
    {
     "ename": "NameError",
     "evalue": "name 'df_raw' is not defined",
     "output_type": "error",
     "traceback": [
      "\u001b[0;31m---------------------------------------------------------------------------\u001b[0m",
      "\u001b[0;31mNameError\u001b[0m                                 Traceback (most recent call last)",
      "Input \u001b[0;32mIn [27]\u001b[0m, in \u001b[0;36m<cell line: 1>\u001b[0;34m()\u001b[0m\n\u001b[0;32m----> 1\u001b[0m df \u001b[38;5;241m=\u001b[39m \u001b[43mdf_raw\u001b[49m\n",
      "\u001b[0;31mNameError\u001b[0m: name 'df_raw' is not defined"
     ]
    }
   ],
   "source": [
    "df = df_raw"
   ]
  },
  {
   "cell_type": "code",
   "execution_count": null,
   "id": "f8fa3f43-d0c1-42ff-949c-cb7519e11454",
   "metadata": {},
   "outputs": [],
   "source": [
    "df['QuestionBody'] =  df['QuestionBody'].apply(strip_html)"
   ]
  },
  {
   "cell_type": "code",
   "execution_count": null,
   "id": "87f24e71-e119-4816-85f0-f1ccf270764a",
   "metadata": {},
   "outputs": [],
   "source": [
    "df['AnswerBody'] =  df['AnswerBody'].apply(strip_html)"
   ]
  },
  {
   "cell_type": "code",
   "execution_count": null,
   "id": "d957c0c3-aba6-451b-816a-67224b8e6578",
   "metadata": {},
   "outputs": [],
   "source": [
    "df['Tags'] = df['Tags'].apply(parse_tags)"
   ]
  },
  {
   "cell_type": "code",
   "execution_count": null,
   "id": "5ba631e1-7879-483a-b4da-e0aabd4bd18b",
   "metadata": {},
   "outputs": [],
   "source": [
    "!rm -rf ../data/df_processed/"
   ]
  },
  {
   "cell_type": "code",
   "execution_count": null,
   "id": "cb4c000b-0cd1-4d21-9de3-56589a04c40d",
   "metadata": {},
   "outputs": [],
   "source": [
    "df.to_parquet(\"../data/df_processed/\")"
   ]
  },
  {
   "cell_type": "code",
   "execution_count": null,
   "id": "ff203c04-4ed3-4cb1-b45f-38e1ce66ebc2",
   "metadata": {},
   "outputs": [],
   "source": []
  }
 ],
 "metadata": {
  "environment": {
   "kernel": "python3",
   "name": "pytorch-gpu.1-11.m94",
   "type": "gcloud",
   "uri": "gcr.io/deeplearning-platform-release/pytorch-gpu.1-11:m94"
  },
  "kernelspec": {
   "display_name": "Python 3",
   "language": "python",
   "name": "python3"
  },
  "language_info": {
   "codemirror_mode": {
    "name": "ipython",
    "version": 3
   },
   "file_extension": ".py",
   "mimetype": "text/x-python",
   "name": "python",
   "nbconvert_exporter": "python",
   "pygments_lexer": "ipython3",
   "version": "3.8.13"
  }
 },
 "nbformat": 4,
 "nbformat_minor": 5
}