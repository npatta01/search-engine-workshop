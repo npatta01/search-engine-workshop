{
 "cells": [
  {
   "cell_type": "code",
   "execution_count": null,
   "id": "aee8fe43-e63a-4f4f-8d54-920d4cefcac7",
   "metadata": {},
   "outputs": [],
   "source": [
    "!rm -rf ../data/df_raw/*\n",
    "!gsutil -m cp -r gs://np-training-tmp/stackoverflow/posts_processed/*.parquet \"../data/df_raw"
   ]
  },
  {
   "cell_type": "code",
   "execution_count": null,
   "id": "bde44929-39d9-4ae2-a1fb-92237dade5cc",
   "metadata": {},
   "outputs": [],
   "source": []
  },
  {
   "cell_type": "code",
   "execution_count": 2,
   "id": "2d9c002c-9ba7-48cb-83a5-3d2903056d43",
   "metadata": {},
   "outputs": [],
   "source": [
    "import modin.pandas as pd\n",
    "import re\n",
    "import lxml.html\n"
   ]
  },
  {
   "cell_type": "code",
   "execution_count": null,
   "id": "4abb6cc3-040d-44b5-a5a5-68161b732b9e",
   "metadata": {},
   "outputs": [],
   "source": [
    "df_raw = pd.read_parquet(\"../data/df_raw\")\n"
   ]
  },
  {
   "cell_type": "code",
   "execution_count": null,
   "id": "c56f1bbd-6195-414a-adee-1075aede6aca",
   "metadata": {},
   "outputs": [],
   "source": [
    "len(df_raw)"
   ]
  },
  {
   "cell_type": "code",
   "execution_count": null,
   "id": "9cd18238-7318-44bb-8302-89232429028e",
   "metadata": {},
   "outputs": [],
   "source": [
    "def strip_html(s:str):\n",
    "    try:\n",
    "        return str(lxml.html.fromstring(s).text_content())\n",
    "    except:\n",
    "        return ''\n",
    "\n",
    "def parse_tags(content:str):\n",
    "    return re.findall(r'<(.+?)>',content)\n"
   ]
  },
  {
   "cell_type": "code",
   "execution_count": null,
   "id": "8eda050e-3ab9-4555-9f7a-fe9cb190d824",
   "metadata": {},
   "outputs": [],
   "source": [
    "strip_html(f\"\"\"\n",
    "\n",
    "<p>I was asked to create a singleton that will...\t\n",
    "\"\"\")"
   ]
  },
  {
   "cell_type": "code",
   "execution_count": null,
   "id": "a60b2cd6-2f02-447b-99ac-2de8598bb470",
   "metadata": {},
   "outputs": [],
   "source": [
    "df = df_raw"
   ]
  },
  {
   "cell_type": "code",
   "execution_count": null,
   "id": "f8fa3f43-d0c1-42ff-949c-cb7519e11454",
   "metadata": {},
   "outputs": [],
   "source": [
    "df['Body'] =  df['Body'].apply(strip_html)"
   ]
  },
  {
   "cell_type": "code",
   "execution_count": null,
   "id": "d957c0c3-aba6-451b-816a-67224b8e6578",
   "metadata": {},
   "outputs": [],
   "source": [
    "df['Tags'] = df['Tags'].apply(parse_tags)"
   ]
  },
  {
   "cell_type": "code",
   "execution_count": null,
   "id": "cb4c000b-0cd1-4d21-9de3-56589a04c40d",
   "metadata": {},
   "outputs": [],
   "source": [
    "df_final.to_parquet(\"../data/df_processed/\")"
   ]
  }
 ],
 "metadata": {
  "environment": {
   "kernel": "stackoverflow",
   "name": "pytorch-gpu.1-11.m94",
   "type": "gcloud",
   "uri": "gcr.io/deeplearning-platform-release/pytorch-gpu.1-11:m94"
  },
  "kernelspec": {
   "display_name": "Python (stackoverflow)",
   "language": "python",
   "name": "stackoverflow"
  },
  "language_info": {
   "codemirror_mode": {
    "name": "ipython",
    "version": 3
   },
   "file_extension": ".py",
   "mimetype": "text/x-python",
   "name": "python",
   "nbconvert_exporter": "python",
   "pygments_lexer": "ipython3",
   "version": "3.7.12"
  }
 },
 "nbformat": 4,
 "nbformat_minor": 5
}
