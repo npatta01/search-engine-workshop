{
 "cells": [
  {
   "cell_type": "code",
   "execution_count": 1,
   "id": "aee8fe43-e63a-4f4f-8d54-920d4cefcac7",
   "metadata": {},
   "outputs": [],
   "source": [
    "# !rm -rf ../data/df_raw/*\n",
    "# !gsutil -m cp -r gs://np-training-tmp/stackoverflow/posts_processed/*.parquet ../data/raw/"
   ]
  },
  {
   "cell_type": "code",
   "execution_count": null,
   "id": "bde44929-39d9-4ae2-a1fb-92237dade5cc",
   "metadata": {},
   "outputs": [],
   "source": []
  },
  {
   "cell_type": "code",
   "execution_count": 2,
   "id": "2d9c002c-9ba7-48cb-83a5-3d2903056d43",
   "metadata": {},
   "outputs": [],
   "source": [
    "import modin.pandas as pd\n",
    "import re\n",
    "import lxml.html\n"
   ]
  },
  {
   "cell_type": "code",
   "execution_count": 3,
   "id": "4abb6cc3-040d-44b5-a5a5-68161b732b9e",
   "metadata": {},
   "outputs": [
    {
     "name": "stderr",
     "output_type": "stream",
     "text": [
      "UserWarning: Ray execution environment not yet initialized. Initializing...\n",
      "To remove this warning, run the following python code before doing dataframe operations:\n",
      "\n",
      "    import ray\n",
      "    ray.init()\n",
      "\n"
     ]
    }
   ],
   "source": [
    "df_raw = pd.read_parquet(\"../data/df_raw\")\n"
   ]
  },
  {
   "cell_type": "code",
   "execution_count": 4,
   "id": "df8ae5ec-c62c-463d-a9d5-c58ad5e04515",
   "metadata": {},
   "outputs": [
    {
     "data": {
      "text/html": [
       "<div>\n",
       "<style scoped>\n",
       "    .dataframe tbody tr th:only-of-type {\n",
       "        vertical-align: middle;\n",
       "    }\n",
       "\n",
       "    .dataframe tbody tr th {\n",
       "        vertical-align: top;\n",
       "    }\n",
       "\n",
       "    .dataframe thead th {\n",
       "        text-align: right;\n",
       "    }\n",
       "</style>\n",
       "<table border=\"1\" class=\"dataframe\">\n",
       "  <thead>\n",
       "    <tr style=\"text-align: right;\">\n",
       "      <th></th>\n",
       "      <th>Id</th>\n",
       "      <th>AcceptedAnswerId</th>\n",
       "      <th>Title</th>\n",
       "      <th>Body</th>\n",
       "      <th>Tags</th>\n",
       "      <th>ViewCount</th>\n",
       "      <th>AnswerCount</th>\n",
       "      <th>CommentCount</th>\n",
       "      <th>Score</th>\n",
       "      <th>CreationDate</th>\n",
       "      <th>AnswerBody</th>\n",
       "    </tr>\n",
       "  </thead>\n",
       "  <tbody>\n",
       "    <tr>\n",
       "      <th>0</th>\n",
       "      <td>19419450</td>\n",
       "      <td>19419843</td>\n",
       "      <td>How to handle encrypted URL's in rails?</td>\n",
       "      <td>&lt;p&gt;I am sending email to user, in that email o...</td>\n",
       "      <td>&lt;ruby&gt;&lt;ruby-on-rails-3&gt;&lt;ruby-on-rails-3.2&gt;&lt;rub...</td>\n",
       "      <td>1900</td>\n",
       "      <td>2</td>\n",
       "      <td>0</td>\n",
       "      <td>1</td>\n",
       "      <td>2013-10-17 06:11:50.320</td>\n",
       "      <td>&lt;p&gt;Life will be easier if you can do a slight ...</td>\n",
       "    </tr>\n",
       "    <tr>\n",
       "      <th>1</th>\n",
       "      <td>65367299</td>\n",
       "      <td>65367349</td>\n",
       "      <td>Creating html tags inside html tags using java...</td>\n",
       "      <td>&lt;p&gt;I'm trying to show data read from a JSON fi...</td>\n",
       "      <td>&lt;javascript&gt;&lt;html&gt;</td>\n",
       "      <td>52</td>\n",
       "      <td>3</td>\n",
       "      <td>1</td>\n",
       "      <td>0</td>\n",
       "      <td>2020-12-19 06:33:32.643</td>\n",
       "      <td>&lt;p&gt;Do you want something like this?&lt;/p&gt;\\n&lt;pre&gt;...</td>\n",
       "    </tr>\n",
       "    <tr>\n",
       "      <th>2</th>\n",
       "      <td>32771510</td>\n",
       "      <td>32832061</td>\n",
       "      <td>Exercises in programming style with Scala</td>\n",
       "      <td>&lt;p&gt;I've started to read the \"&lt;a href=\"https://...</td>\n",
       "      <td>&lt;scala&gt;&lt;coding-style&gt;</td>\n",
       "      <td>328</td>\n",
       "      <td>2</td>\n",
       "      <td>1</td>\n",
       "      <td>1</td>\n",
       "      <td>2015-09-24 21:50:46.677</td>\n",
       "      <td>&lt;p&gt;Sure you can abstain from introducing varia...</td>\n",
       "    </tr>\n",
       "    <tr>\n",
       "      <th>3</th>\n",
       "      <td>2392236</td>\n",
       "      <td>2392314</td>\n",
       "      <td>javascript hide code for secret keys etc</td>\n",
       "      <td>&lt;p&gt;I am using the Ribbit javascript api and tr...</td>\n",
       "      <td>&lt;javascript&gt;&lt;api&gt;&lt;secret-key&gt;</td>\n",
       "      <td>1351</td>\n",
       "      <td>1</td>\n",
       "      <td>0</td>\n",
       "      <td>3</td>\n",
       "      <td>2010-03-06 11:03:00.030</td>\n",
       "      <td>&lt;p&gt;You can't. All JS is public viewable.&lt;/p&gt;\\n...</td>\n",
       "    </tr>\n",
       "    <tr>\n",
       "      <th>4</th>\n",
       "      <td>14220966</td>\n",
       "      <td>14221209</td>\n",
       "      <td>How to pass a template to a view in Backbone</td>\n",
       "      <td>&lt;p&gt;I'm trying to pass a template to my view.  ...</td>\n",
       "      <td>&lt;backbone.js&gt;&lt;backbone-views&gt;</td>\n",
       "      <td>4559</td>\n",
       "      <td>1</td>\n",
       "      <td>0</td>\n",
       "      <td>1</td>\n",
       "      <td>2013-01-08 17:43:02.843</td>\n",
       "      <td>&lt;p&gt;The way you are doing it in &lt;code&gt;App.Views...</td>\n",
       "    </tr>\n",
       "  </tbody>\n",
       "</table>\n",
       "</div>"
      ],
      "text/plain": [
       "         Id  AcceptedAnswerId  \\\n",
       "0  19419450          19419843   \n",
       "1  65367299          65367349   \n",
       "2  32771510          32832061   \n",
       "3   2392236           2392314   \n",
       "4  14220966          14221209   \n",
       "\n",
       "                                               Title  \\\n",
       "0            How to handle encrypted URL's in rails?   \n",
       "1  Creating html tags inside html tags using java...   \n",
       "2          Exercises in programming style with Scala   \n",
       "3           javascript hide code for secret keys etc   \n",
       "4       How to pass a template to a view in Backbone   \n",
       "\n",
       "                                                Body  \\\n",
       "0  <p>I am sending email to user, in that email o...   \n",
       "1  <p>I'm trying to show data read from a JSON fi...   \n",
       "2  <p>I've started to read the \"<a href=\"https://...   \n",
       "3  <p>I am using the Ribbit javascript api and tr...   \n",
       "4  <p>I'm trying to pass a template to my view.  ...   \n",
       "\n",
       "                                                Tags  ViewCount  AnswerCount  \\\n",
       "0  <ruby><ruby-on-rails-3><ruby-on-rails-3.2><rub...       1900            2   \n",
       "1                                 <javascript><html>         52            3   \n",
       "2                              <scala><coding-style>        328            2   \n",
       "3                      <javascript><api><secret-key>       1351            1   \n",
       "4                      <backbone.js><backbone-views>       4559            1   \n",
       "\n",
       "   CommentCount  Score            CreationDate  \\\n",
       "0             0      1 2013-10-17 06:11:50.320   \n",
       "1             1      0 2020-12-19 06:33:32.643   \n",
       "2             1      1 2015-09-24 21:50:46.677   \n",
       "3             0      3 2010-03-06 11:03:00.030   \n",
       "4             0      1 2013-01-08 17:43:02.843   \n",
       "\n",
       "                                          AnswerBody  \n",
       "0  <p>Life will be easier if you can do a slight ...  \n",
       "1  <p>Do you want something like this?</p>\\n<pre>...  \n",
       "2  <p>Sure you can abstain from introducing varia...  \n",
       "3  <p>You can't. All JS is public viewable.</p>\\n...  \n",
       "4  <p>The way you are doing it in <code>App.Views...  "
      ]
     },
     "execution_count": 4,
     "metadata": {},
     "output_type": "execute_result"
    }
   ],
   "source": [
    "df_raw.head()"
   ]
  },
  {
   "cell_type": "code",
   "execution_count": 5,
   "id": "c56f1bbd-6195-414a-adee-1075aede6aca",
   "metadata": {},
   "outputs": [
    {
     "data": {
      "text/plain": [
       "11588225"
      ]
     },
     "execution_count": 5,
     "metadata": {},
     "output_type": "execute_result"
    }
   ],
   "source": [
    "len(df_raw)"
   ]
  },
  {
   "cell_type": "code",
   "execution_count": 6,
   "id": "9cd18238-7318-44bb-8302-89232429028e",
   "metadata": {},
   "outputs": [],
   "source": [
    "def strip_html(s:str):\n",
    "    try:\n",
    "        return str(lxml.html.fromstring(s).text_content())\n",
    "    except:\n",
    "        return ''\n",
    "\n",
    "def parse_tags(content:str):\n",
    "    res =  re.findall(r'<(.+?)>',content)\n",
    "    \n",
    "    return \",\".join(res)\n"
   ]
  },
  {
   "cell_type": "code",
   "execution_count": 7,
   "id": "8eda050e-3ab9-4555-9f7a-fe9cb190d824",
   "metadata": {},
   "outputs": [
    {
     "data": {
      "text/plain": [
       "'I was asked to create a singleton that will...\\t\\n'"
      ]
     },
     "execution_count": 7,
     "metadata": {},
     "output_type": "execute_result"
    }
   ],
   "source": [
    "strip_html(f\"\"\"\n",
    "\n",
    "<p>I was asked to create a singleton that will...\t\n",
    "\"\"\")"
   ]
  },
  {
   "cell_type": "code",
   "execution_count": 8,
   "id": "a60b2cd6-2f02-447b-99ac-2de8598bb470",
   "metadata": {},
   "outputs": [],
   "source": [
    "df = df_raw"
   ]
  },
  {
   "cell_type": "code",
   "execution_count": 9,
   "id": "f8fa3f43-d0c1-42ff-949c-cb7519e11454",
   "metadata": {},
   "outputs": [],
   "source": [
    "df['Body'] =  df['Body'].apply(strip_html)"
   ]
  },
  {
   "cell_type": "code",
   "execution_count": 10,
   "id": "87f24e71-e119-4816-85f0-f1ccf270764a",
   "metadata": {},
   "outputs": [],
   "source": [
    "df['AnswerBody'] =  df['AnswerBody'].apply(strip_html)"
   ]
  },
  {
   "cell_type": "code",
   "execution_count": 11,
   "id": "d957c0c3-aba6-451b-816a-67224b8e6578",
   "metadata": {},
   "outputs": [],
   "source": [
    "df['Tags'] = df['Tags'].apply(parse_tags)"
   ]
  },
  {
   "cell_type": "code",
   "execution_count": 12,
   "id": "5ba631e1-7879-483a-b4da-e0aabd4bd18b",
   "metadata": {},
   "outputs": [],
   "source": [
    "!rm -rf ../data/df_processed/"
   ]
  },
  {
   "cell_type": "code",
   "execution_count": 13,
   "id": "cb4c000b-0cd1-4d21-9de3-56589a04c40d",
   "metadata": {},
   "outputs": [],
   "source": [
    "df.to_parquet(\"../data/df_processed/\")"
   ]
  },
  {
   "cell_type": "code",
   "execution_count": null,
   "id": "ff203c04-4ed3-4cb1-b45f-38e1ce66ebc2",
   "metadata": {},
   "outputs": [],
   "source": []
  }
 ],
 "metadata": {
  "environment": {
   "kernel": "stackoverflow",
   "name": "pytorch-gpu.1-11.m94",
   "type": "gcloud",
   "uri": "gcr.io/deeplearning-platform-release/pytorch-gpu.1-11:m94"
  },
  "kernelspec": {
   "display_name": "Python (stackoverflow)",
   "language": "python",
   "name": "stackoverflow"
  },
  "language_info": {
   "codemirror_mode": {
    "name": "ipython",
    "version": 3
   },
   "file_extension": ".py",
   "mimetype": "text/x-python",
   "name": "python",
   "nbconvert_exporter": "python",
   "pygments_lexer": "ipython3",
   "version": "3.7.12"
  }
 },
 "nbformat": 4,
 "nbformat_minor": 5
}
