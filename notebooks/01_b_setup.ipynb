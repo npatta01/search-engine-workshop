{
 "cells": [
  {
   "cell_type": "code",
   "execution_count": null,
   "id": "4885264f-1d3f-4ad5-a29a-e338cf64e59c",
   "metadata": {},
   "outputs": [],
   "source": []
  },
  {
   "cell_type": "code",
   "execution_count": 1,
   "id": "2d9c002c-9ba7-48cb-83a5-3d2903056d43",
   "metadata": {},
   "outputs": [],
   "source": [
    "import modin.pandas as pd\n",
    "import re\n",
    "import lxml.html\n",
    "import re"
   ]
  },
  {
   "cell_type": "code",
   "execution_count": 2,
   "id": "ce8fc711-181c-4481-a6c5-fb580bf7e5d0",
   "metadata": {},
   "outputs": [
    {
     "name": "stderr",
     "output_type": "stream",
     "text": [
      "UserWarning: Ray execution environment not yet initialized. Initializing...\n",
      "To remove this warning, run the following python code before doing dataframe operations:\n",
      "\n",
      "    import ray\n",
      "    ray.init()\n",
      "\n",
      "\u001b[2m\u001b[33m(raylet)\u001b[0m /opt/conda/envs/stackoverflow/lib/python3.8/site-packages/ray/dashboard/agent.py:152: DeprecationWarning: distutils Version classes are deprecated. Use packaging.version instead.\n",
      "\u001b[2m\u001b[33m(raylet)\u001b[0m   if LooseVersion(aiohttp.__version__) < LooseVersion(\"4.0.0\"):\n",
      "\u001b[2m\u001b[33m(raylet)\u001b[0m /opt/conda/envs/stackoverflow/lib/python3.8/site-packages/ray/dashboard/agent.py:152: DeprecationWarning: distutils Version classes are deprecated. Use packaging.version instead.\n",
      "\u001b[2m\u001b[33m(raylet)\u001b[0m   if LooseVersion(aiohttp.__version__) < LooseVersion(\"4.0.0\"):\n",
      "\u001b[2m\u001b[33m(raylet)\u001b[0m /opt/conda/envs/stackoverflow/lib/python3.8/site-packages/ray/dashboard/agent.py:152: DeprecationWarning: distutils Version classes are deprecated. Use packaging.version instead.\n",
      "\u001b[2m\u001b[33m(raylet)\u001b[0m   if LooseVersion(aiohttp.__version__) < LooseVersion(\"4.0.0\"):\n",
      "\u001b[2m\u001b[33m(raylet)\u001b[0m /opt/conda/envs/stackoverflow/lib/python3.8/site-packages/ray/dashboard/agent.py:152: DeprecationWarning: distutils Version classes are deprecated. Use packaging.version instead.\n",
      "\u001b[2m\u001b[33m(raylet)\u001b[0m   if LooseVersion(aiohttp.__version__) < LooseVersion(\"4.0.0\"):\n",
      "\u001b[2m\u001b[33m(raylet)\u001b[0m /opt/conda/envs/stackoverflow/lib/python3.8/site-packages/ray/dashboard/agent.py:152: DeprecationWarning: distutils Version classes are deprecated. Use packaging.version instead.\n",
      "\u001b[2m\u001b[33m(raylet)\u001b[0m   if LooseVersion(aiohttp.__version__) < LooseVersion(\"4.0.0\"):\n",
      "2022-10-01 21:40:38,955\tWARNING worker.py:1257 -- (ip=10.52.136.102) The agent on node nup0013-dl failed to be restarted 5 times. There are 3 possible problems if you see this error.\n",
      "  1. The dashboard might not display correct information on this node.\n",
      "  2. Metrics on this node won't be reported.\n",
      "  3. runtime_env APIs won't work.\n",
      "Check out the `dashboard_agent.log` to see the detailed failure messages.\n"
     ]
    }
   ],
   "source": [
    "df_raw = pd.read_parquet(\"../data/df_raw/\")"
   ]
  },
  {
   "cell_type": "code",
   "execution_count": 3,
   "id": "e0a22a80-c5c6-4bd7-8546-ffe39db0b7c6",
   "metadata": {},
   "outputs": [
    {
     "data": {
      "text/plain": [
       "Index(['Id', 'AcceptedAnswerId', 'Title', 'Body', 'Tags', 'ViewCount',\n",
       "       'AnswerCount', 'CommentCount', 'Score', 'CreationDate', 'AnswerBody'],\n",
       "      dtype='object')"
      ]
     },
     "execution_count": 3,
     "metadata": {},
     "output_type": "execute_result"
    }
   ],
   "source": [
    "df_raw.columns"
   ]
  },
  {
   "cell_type": "code",
   "execution_count": 4,
   "id": "57723608-d170-419b-b1f0-85dde823485f",
   "metadata": {},
   "outputs": [
    {
     "name": "stdout",
     "output_type": "stream",
     "text": [
      "00_data_fetch_bq.ipynb\t   01_b_setup_new.ipynb   02_indexing_faiss.ipynb  old\n",
      "00_data_fetch_spark.ipynb  01_data_cleanup.ipynb  03_searching_es.ipynb\n",
      "01_b_setup.ipynb\t   02_indexing_es.ipynb   Untitled.ipynb\n"
     ]
    }
   ],
   "source": [
    "!ls"
   ]
  },
  {
   "cell_type": "code",
   "execution_count": 5,
   "id": "9d757c53-4328-4baf-a3d1-f26dffd00ca4",
   "metadata": {},
   "outputs": [
    {
     "data": {
      "text/html": [
       "<div>\n",
       "<style scoped>\n",
       "    .dataframe tbody tr th:only-of-type {\n",
       "        vertical-align: middle;\n",
       "    }\n",
       "\n",
       "    .dataframe tbody tr th {\n",
       "        vertical-align: top;\n",
       "    }\n",
       "\n",
       "    .dataframe thead th {\n",
       "        text-align: right;\n",
       "    }\n",
       "</style>\n",
       "<table border=\"1\" class=\"dataframe\">\n",
       "  <thead>\n",
       "    <tr style=\"text-align: right;\">\n",
       "      <th></th>\n",
       "      <th>Id</th>\n",
       "      <th>AcceptedAnswerId</th>\n",
       "      <th>Title</th>\n",
       "      <th>Body</th>\n",
       "      <th>Tags</th>\n",
       "      <th>ViewCount</th>\n",
       "      <th>AnswerCount</th>\n",
       "      <th>CommentCount</th>\n",
       "      <th>Score</th>\n",
       "      <th>CreationDate</th>\n",
       "      <th>AnswerBody</th>\n",
       "    </tr>\n",
       "  </thead>\n",
       "  <tbody>\n",
       "    <tr>\n",
       "      <th>0</th>\n",
       "      <td>17123652</td>\n",
       "      <td>17124724</td>\n",
       "      <td>hierarchical encryption scheme</td>\n",
       "      <td>&lt;p&gt;I am in need of the \"hierarchical\" encrypti...</td>\n",
       "      <td>&lt;cryptography&gt;&lt;key&gt;&lt;hierarchical&gt;</td>\n",
       "      <td>631</td>\n",
       "      <td>1</td>\n",
       "      <td>0</td>\n",
       "      <td>2</td>\n",
       "      <td>2013-06-15 12:29:50.987</td>\n",
       "      <td>&lt;p&gt;A partial solution.  You own the master key...</td>\n",
       "    </tr>\n",
       "    <tr>\n",
       "      <th>1</th>\n",
       "      <td>44577139</td>\n",
       "      <td>44577209</td>\n",
       "      <td>Uncaught TypeError: this.source is not a function</td>\n",
       "      <td>&lt;p&gt;I want to prelaod all the customers and giv...</td>\n",
       "      <td>&lt;ajax&gt;&lt;jquery-ui&gt;</td>\n",
       "      <td>3396</td>\n",
       "      <td>1</td>\n",
       "      <td>0</td>\n",
       "      <td>1</td>\n",
       "      <td>2017-06-15 21:14:46.990</td>\n",
       "      <td>&lt;p&gt;Initialize &lt;strong&gt;autocomplete&lt;/strong&gt; af...</td>\n",
       "    </tr>\n",
       "    <tr>\n",
       "      <th>2</th>\n",
       "      <td>45162881</td>\n",
       "      <td>45162984</td>\n",
       "      <td>Class App\\Http\\Controllers\\ does not exist</td>\n",
       "      <td>&lt;p&gt;This is my Route: &lt;/p&gt;\\n\\n&lt;pre&gt;&lt;code&gt; Route...</td>\n",
       "      <td>&lt;php&gt;&lt;laravel&gt;&lt;controller&gt;&lt;routes&gt;</td>\n",
       "      <td>32241</td>\n",
       "      <td>3</td>\n",
       "      <td>1</td>\n",
       "      <td>2</td>\n",
       "      <td>2017-07-18 09:35:26.630</td>\n",
       "      <td>&lt;p&gt;At the first of controller you do not need ...</td>\n",
       "    </tr>\n",
       "    <tr>\n",
       "      <th>3</th>\n",
       "      <td>1887841</td>\n",
       "      <td>1890092</td>\n",
       "      <td>Grails startup is slow</td>\n",
       "      <td>&lt;p&gt;Help! I'm porting a large ruby app to Grail...</td>\n",
       "      <td>&lt;grails&gt;</td>\n",
       "      <td>9592</td>\n",
       "      <td>5</td>\n",
       "      <td>0</td>\n",
       "      <td>28</td>\n",
       "      <td>2009-12-11 12:43:03.790</td>\n",
       "      <td>&lt;p&gt;Unfortunately, I am not sure too much can b...</td>\n",
       "    </tr>\n",
       "    <tr>\n",
       "      <th>4</th>\n",
       "      <td>8151129</td>\n",
       "      <td>8151158</td>\n",
       "      <td>AlertDialog - trying to understand this syntax</td>\n",
       "      <td>&lt;p&gt;This is code from the book sample:&lt;/p&gt;\\n\\n&lt;...</td>\n",
       "      <td>&lt;java&gt;&lt;android&gt;</td>\n",
       "      <td>490</td>\n",
       "      <td>5</td>\n",
       "      <td>1</td>\n",
       "      <td>2</td>\n",
       "      <td>2011-11-16 11:46:42.137</td>\n",
       "      <td>&lt;pre&gt;&lt;code&gt;// Create a builder\\nAlertDialog.Bu...</td>\n",
       "    </tr>\n",
       "  </tbody>\n",
       "</table>\n",
       "</div>"
      ],
      "text/plain": [
       "         Id  AcceptedAnswerId  \\\n",
       "0  17123652          17124724   \n",
       "1  44577139          44577209   \n",
       "2  45162881          45162984   \n",
       "3   1887841           1890092   \n",
       "4   8151129           8151158   \n",
       "\n",
       "                                               Title  \\\n",
       "0                     hierarchical encryption scheme   \n",
       "1  Uncaught TypeError: this.source is not a function   \n",
       "2         Class App\\Http\\Controllers\\ does not exist   \n",
       "3                             Grails startup is slow   \n",
       "4     AlertDialog - trying to understand this syntax   \n",
       "\n",
       "                                                Body  \\\n",
       "0  <p>I am in need of the \"hierarchical\" encrypti...   \n",
       "1  <p>I want to prelaod all the customers and giv...   \n",
       "2  <p>This is my Route: </p>\\n\\n<pre><code> Route...   \n",
       "3  <p>Help! I'm porting a large ruby app to Grail...   \n",
       "4  <p>This is code from the book sample:</p>\\n\\n<...   \n",
       "\n",
       "                                 Tags  ViewCount  AnswerCount  CommentCount  \\\n",
       "0   <cryptography><key><hierarchical>        631            1             0   \n",
       "1                   <ajax><jquery-ui>       3396            1             0   \n",
       "2  <php><laravel><controller><routes>      32241            3             1   \n",
       "3                            <grails>       9592            5             0   \n",
       "4                     <java><android>        490            5             1   \n",
       "\n",
       "   Score            CreationDate  \\\n",
       "0      2 2013-06-15 12:29:50.987   \n",
       "1      1 2017-06-15 21:14:46.990   \n",
       "2      2 2017-07-18 09:35:26.630   \n",
       "3     28 2009-12-11 12:43:03.790   \n",
       "4      2 2011-11-16 11:46:42.137   \n",
       "\n",
       "                                          AnswerBody  \n",
       "0  <p>A partial solution.  You own the master key...  \n",
       "1  <p>Initialize <strong>autocomplete</strong> af...  \n",
       "2  <p>At the first of controller you do not need ...  \n",
       "3  <p>Unfortunately, I am not sure too much can b...  \n",
       "4  <pre><code>// Create a builder\\nAlertDialog.Bu...  "
      ]
     },
     "execution_count": 5,
     "metadata": {},
     "output_type": "execute_result"
    }
   ],
   "source": [
    "df_raw.head()"
   ]
  },
  {
   "cell_type": "code",
   "execution_count": null,
   "id": "bcf8431e-c037-429f-bc53-13a8214be375",
   "metadata": {},
   "outputs": [],
   "source": []
  },
  {
   "cell_type": "code",
   "execution_count": 6,
   "id": "72644750-923e-4c69-8ba1-581e2929540d",
   "metadata": {},
   "outputs": [],
   "source": [
    "regex = r\"\"\"\n",
    "\t<pre>.*?</pre>\n",
    "\t\"\"\"\n",
    "\n",
    "def clean_text(snippet:str):\n",
    "    snippet = re.sub(pattern=regex, repl = '[CODE]', string = snippet,  flags = re.IGNORECASE | re.DOTALL | re.MULTILINE | re.VERBOSE )\n",
    "    \n",
    "    snippet = str(lxml.html.fromstring(snippet).text_content())\n",
    "    \n",
    "    return snippet\n",
    "\n",
    "def parse_tags(content:str):\n",
    "    return re.findall(r'<(.+?)>',content)"
   ]
  },
  {
   "cell_type": "code",
   "execution_count": null,
   "id": "99a5b7bf-694f-4798-bd6a-d41f4ec7dfeb",
   "metadata": {},
   "outputs": [],
   "source": [
    "\n",
    "\n"
   ]
  },
  {
   "cell_type": "code",
   "execution_count": 7,
   "id": "8eda050e-3ab9-4555-9f7a-fe9cb190d824",
   "metadata": {},
   "outputs": [
    {
     "data": {
      "text/plain": [
       "'I was asked to create a singleton that will...\\n\\n[CODE]\\n\\n test \\n\\n'"
      ]
     },
     "execution_count": 7,
     "metadata": {},
     "output_type": "execute_result"
    }
   ],
   "source": [
    "clean_text(f\"\"\"\n",
    "\n",
    "<p>I was asked to create a singleton that will..</p>.\n",
    "\n",
    "<pre><code>KDF </code></pre>\n",
    "\n",
    "<p> test </p>\n",
    "\n",
    "\"\"\")"
   ]
  },
  {
   "cell_type": "code",
   "execution_count": null,
   "id": "a9a49fef-5499-40de-9bea-01301ce4e339",
   "metadata": {},
   "outputs": [],
   "source": []
  },
  {
   "cell_type": "code",
   "execution_count": 8,
   "id": "a60b2cd6-2f02-447b-99ac-2de8598bb470",
   "metadata": {},
   "outputs": [],
   "source": [
    "df = df_raw"
   ]
  },
  {
   "cell_type": "code",
   "execution_count": 9,
   "id": "f8fa3f43-d0c1-42ff-949c-cb7519e11454",
   "metadata": {},
   "outputs": [],
   "source": [
    "df['QuestionBody'] =  df['Body'].apply(clean_text)"
   ]
  },
  {
   "cell_type": "code",
   "execution_count": 10,
   "id": "d45cc4c4-0142-4d7a-abad-7bd941a331a1",
   "metadata": {},
   "outputs": [],
   "source": [
    "df['AnswerBody'] =  df['AnswerBody'].apply(clean_text)"
   ]
  },
  {
   "cell_type": "code",
   "execution_count": 11,
   "id": "d957c0c3-aba6-451b-816a-67224b8e6578",
   "metadata": {},
   "outputs": [],
   "source": [
    "df['Tags'] = df['Tags'].apply(parse_tags)"
   ]
  },
  {
   "cell_type": "code",
   "execution_count": 12,
   "id": "cb4c000b-0cd1-4d21-9de3-56589a04c40d",
   "metadata": {},
   "outputs": [],
   "source": [
    "df.to_parquet(\"../data/df_processed/\")"
   ]
  },
  {
   "cell_type": "code",
   "execution_count": null,
   "id": "f7dc6fdc-8d41-4f9b-bffa-0d8c5274f9f1",
   "metadata": {},
   "outputs": [],
   "source": []
  },
  {
   "cell_type": "code",
   "execution_count": 13,
   "id": "bcb300a3-53cb-4454-b472-c9cc422f6cc4",
   "metadata": {},
   "outputs": [
    {
     "name": "stdout",
     "output_type": "stream",
     "text": [
      "part-0000.snappy.parquet  part-0006.snappy.parquet  part-0012.snappy.parquet\n",
      "part-0001.snappy.parquet  part-0007.snappy.parquet  part-0013.snappy.parquet\n",
      "part-0002.snappy.parquet  part-0008.snappy.parquet  part-0014.snappy.parquet\n",
      "part-0003.snappy.parquet  part-0009.snappy.parquet  part-0015.snappy.parquet\n",
      "part-0004.snappy.parquet  part-0010.snappy.parquet\n",
      "part-0005.snappy.parquet  part-0011.snappy.parquet\n"
     ]
    }
   ],
   "source": [
    "!ls ../data/df_processed/"
   ]
  },
  {
   "cell_type": "code",
   "execution_count": null,
   "id": "c722b250-f4ac-4523-adac-280b34dc3209",
   "metadata": {},
   "outputs": [],
   "source": []
  },
  {
   "cell_type": "code",
   "execution_count": null,
   "id": "0569dbf8-8a79-42a2-b854-3f0628e8275d",
   "metadata": {},
   "outputs": [],
   "source": []
  }
 ],
 "metadata": {
  "environment": {
   "kernel": "stackoverflow",
   "name": "pytorch-gpu.1-11.m94",
   "type": "gcloud",
   "uri": "gcr.io/deeplearning-platform-release/pytorch-gpu.1-11:m94"
  },
  "kernelspec": {
   "display_name": "Python 3.8.5 ('py38')",
   "language": "python",
   "name": "python3"
  },
  "language_info": {
   "codemirror_mode": {
    "name": "ipython",
    "version": 3
   },
   "file_extension": ".py",
   "mimetype": "text/x-python",
   "name": "python",
   "nbconvert_exporter": "python",
   "pygments_lexer": "ipython3",
   "version": "3.8.5"
  },
  "vscode": {
   "interpreter": {
    "hash": "aefe80b7c360a2b6e560f9a0dcb6ff028291678d8b74cab0042c4a74d0e7253b"
   }
  }
 },
 "nbformat": 4,
 "nbformat_minor": 5
}
