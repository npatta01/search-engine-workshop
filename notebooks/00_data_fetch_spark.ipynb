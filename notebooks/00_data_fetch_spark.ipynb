{
 "cells": [
  {
   "cell_type": "markdown",
   "id": "edec4b60-5f9c-4bfa-8da5-d917904fd5f1",
   "metadata": {},
   "source": [
    "uncomment the below cell to download the latest stack overflow dump and upload to gcs"
   ]
  },
  {
   "cell_type": "code",
   "execution_count": 1,
   "id": "c1f9df4d-0ac4-4619-ba09-fa99bbe7a183",
   "metadata": {},
   "outputs": [],
   "source": [
    "# %%bash\n",
    "\n",
    "# sudo apt update && sudo apt install -y p7zip-full\n",
    "\n",
    "# wget --retry-connrefused --waitretry=1 --read-timeout=20 --timeout=15 -t 0 --continue https://archive.org/download/stackexchange/stackoverflow.com-Posts.7z\n",
    "\n",
    "\n",
    "# 7z x stackoverflow.com-Posts.7z\n",
    "\n",
    "# gsutil cp Posts.xml gs://np-training-tmp/stackoverflow/raw/Posts.xml\n",
    "\n",
    "\n",
    "# wget --retry-connrefused --waitretry=1 --read-timeout=20 --timeout=15 -t 0 --continue https://archive.org/download/stackexchange/stackoverflow.com-PostLinks.7z\n",
    "\n",
    "# 7z x stackoverflow.com-PostLinks.7z\n",
    "\n",
    "# gsutil cp PostLinks.xml gs://np-training-tmp/stackoverflow/raw/PostLinks.xml\n",
    "\n",
    "# ```\n",
    "\n"
   ]
  },
  {
   "cell_type": "code",
   "execution_count": null,
   "id": "a9c26068-e824-4546-87ea-4b9d430e2d4f",
   "metadata": {},
   "outputs": [],
   "source": []
  },
  {
   "cell_type": "code",
   "execution_count": 2,
   "id": "49f87204-104f-4bc1-9dc6-003c8e87a22a",
   "metadata": {},
   "outputs": [
    {
     "name": "stdout",
     "output_type": "stream",
     "text": [
      "Requirement already satisfied: networkx==2.8.7 in /opt/conda/miniconda3/lib/python3.8/site-packages (2.8.7)\n",
      "\u001b[33mWARNING: Running pip as the 'root' user can result in broken permissions and conflicting behaviour with the system package manager. It is recommended to use a virtual environment instead: https://pip.pypa.io/warnings/venv\u001b[0m\u001b[33m\n",
      "\u001b[0m"
     ]
    }
   ],
   "source": [
    "!pip install networkx==2.8.7"
   ]
  },
  {
   "cell_type": "code",
   "execution_count": null,
   "id": "2b999328-37dd-456b-9196-924a57e5d088",
   "metadata": {},
   "outputs": [],
   "source": []
  },
  {
   "cell_type": "code",
   "execution_count": 3,
   "id": "43f6f41e",
   "metadata": {},
   "outputs": [],
   "source": [
    "import pandas as pd\n",
    "from pyspark.sql import SparkSession\n",
    "import pyspark.sql.functions as F\n",
    "import networkx as nx\n",
    "\n",
    "import pyspark.sql\n"
   ]
  },
  {
   "cell_type": "code",
   "execution_count": null,
   "id": "17a61dfa",
   "metadata": {},
   "outputs": [],
   "source": []
  },
  {
   "cell_type": "code",
   "execution_count": 4,
   "id": "cf19c8b3-2a5a-41a3-9e56-eb5ae1e407a9",
   "metadata": {},
   "outputs": [],
   "source": [
    "def cleanup_name(name:str):\n",
    "    return name[1:]"
   ]
  },
  {
   "cell_type": "code",
   "execution_count": null,
   "id": "64d0bf1e-bda8-44e2-ba46-490162b957c0",
   "metadata": {},
   "outputs": [],
   "source": []
  },
  {
   "cell_type": "code",
   "execution_count": 5,
   "id": "26fe26c8",
   "metadata": {},
   "outputs": [
    {
     "name": "stdout",
     "output_type": "stream",
     "text": [
      ":: loading settings :: url = jar:file:/usr/lib/spark/jars/ivy-2.4.0.jar!/org/apache/ivy/core/settings/ivysettings.xml\n"
     ]
    },
    {
     "name": "stderr",
     "output_type": "stream",
     "text": [
      "Ivy Default Cache set to: /root/.ivy2/cache\n",
      "The jars for the packages stored in: /root/.ivy2/jars\n",
      "com.databricks#spark-xml_2.12 added as a dependency\n",
      ":: resolving dependencies :: org.apache.spark#spark-submit-parent-40d8a075-a991-4789-bd38-b898e6787b86;1.0\n",
      "\tconfs: [default]\n",
      "\tfound com.databricks#spark-xml_2.12;0.15.0 in central\n",
      "\tfound commons-io#commons-io;2.11.0 in central\n",
      "\tfound org.glassfish.jaxb#txw2;3.0.2 in central\n",
      "\tfound org.apache.ws.xmlschema#xmlschema-core;2.3.0 in central\n",
      ":: resolution report :: resolve 265ms :: artifacts dl 5ms\n",
      "\t:: modules in use:\n",
      "\tcom.databricks#spark-xml_2.12;0.15.0 from central in [default]\n",
      "\tcommons-io#commons-io;2.11.0 from central in [default]\n",
      "\torg.apache.ws.xmlschema#xmlschema-core;2.3.0 from central in [default]\n",
      "\torg.glassfish.jaxb#txw2;3.0.2 from central in [default]\n",
      "\t---------------------------------------------------------------------\n",
      "\t|                  |            modules            ||   artifacts   |\n",
      "\t|       conf       | number| search|dwnlded|evicted|| number|dwnlded|\n",
      "\t---------------------------------------------------------------------\n",
      "\t|      default     |   4   |   0   |   0   |   0   ||   4   |   0   |\n",
      "\t---------------------------------------------------------------------\n",
      ":: retrieving :: org.apache.spark#spark-submit-parent-40d8a075-a991-4789-bd38-b898e6787b86\n",
      "\tconfs: [default]\n",
      "\t0 artifacts copied, 4 already retrieved (0kB/8ms)\n",
      "Setting default log level to \"WARN\".\n",
      "To adjust logging level use sc.setLogLevel(newLevel). For SparkR, use setLogLevel(newLevel).\n",
      "22/10/22 20:47:12 INFO org.apache.spark.SparkEnv: Registering MapOutputTracker\n",
      "22/10/22 20:47:12 INFO org.apache.spark.SparkEnv: Registering BlockManagerMaster\n",
      "22/10/22 20:47:12 INFO org.apache.spark.SparkEnv: Registering BlockManagerMasterHeartbeat\n",
      "22/10/22 20:47:12 INFO org.apache.spark.SparkEnv: Registering OutputCommitCoordinator\n",
      "22/10/22 20:47:15 WARN org.apache.spark.deploy.yarn.Client: Same path resource file:///root/.ivy2/jars/com.databricks_spark-xml_2.12-0.15.0.jar added multiple times to distributed cache.\n",
      "22/10/22 20:47:15 WARN org.apache.spark.deploy.yarn.Client: Same path resource file:///root/.ivy2/jars/commons-io_commons-io-2.11.0.jar added multiple times to distributed cache.\n",
      "22/10/22 20:47:15 WARN org.apache.spark.deploy.yarn.Client: Same path resource file:///root/.ivy2/jars/org.glassfish.jaxb_txw2-3.0.2.jar added multiple times to distributed cache.\n",
      "22/10/22 20:47:15 WARN org.apache.spark.deploy.yarn.Client: Same path resource file:///root/.ivy2/jars/org.apache.ws.xmlschema_xmlschema-core-2.3.0.jar added multiple times to distributed cache.\n"
     ]
    }
   ],
   "source": [
    "spark = SparkSession\\\n",
    ".builder\\\n",
    ".appName('app')\\\n",
    ".config('spark.jars.packages', 'com.databricks:spark-xml_2.12:0.15.0')\\\n",
    ".config(\"spark.default.parallelism\",200) \\\n",
    ".config(\"spark.sql.shuffle.partitions\",200) \\\n",
    ".getOrCreate()\n",
    "\n",
    "# .config(\"spark.sql.crossJoin.enabled\",True) \\\n"
   ]
  },
  {
   "cell_type": "code",
   "execution_count": 6,
   "id": "0028b9c1-e4b3-44f7-bd92-64a47b896d2a",
   "metadata": {},
   "outputs": [],
   "source": [
    "input_path = \"gs://np-training-tmp/stackoverflow/raw/\"\n",
    "output_path = \"gs://np-training-tmp/stackoverflow/output/\""
   ]
  },
  {
   "cell_type": "code",
   "execution_count": 7,
   "id": "308d29b6",
   "metadata": {},
   "outputs": [
    {
     "name": "stdout",
     "output_type": "stream",
     "text": [
      "985.24 MiB  2022-10-16T23:31:27Z  gs://np-training-tmp/stackoverflow/raw/PostLinks.xml#1665963087716264  metageneration=1\n",
      " 89.98 GiB  2022-10-16T23:31:27Z  gs://np-training-tmp/stackoverflow/raw/Posts.xml#1665963087770228  metageneration=1\n",
      "TOTAL: 2 objects, 97652306314 bytes (90.95 GiB)\n"
     ]
    }
   ],
   "source": [
    "!gsutil ls -lah  {input_path}"
   ]
  },
  {
   "cell_type": "code",
   "execution_count": 8,
   "id": "95112342",
   "metadata": {},
   "outputs": [
    {
     "name": "stdout",
     "output_type": "stream",
     "text": [
      "       0 B  2022-10-22T18:49:57Z  gs://np-training-tmp/stackoverflow/output/#1666464597887014  metageneration=1\n",
      "                                 gs://np-training-tmp/stackoverflow/output/df_links_parquet/\n",
      "                                 gs://np-training-tmp/stackoverflow/output/df_posts_parquet/\n",
      "                                 gs://np-training-tmp/stackoverflow/output/posts__links/\n",
      "                                 gs://np-training-tmp/stackoverflow/output/posts__qn/\n",
      "                                 gs://np-training-tmp/stackoverflow/output/posts__qn_with_top_answer/\n",
      "TOTAL: 1 objects, 0 bytes (0 B)\n"
     ]
    }
   ],
   "source": [
    "!gsutil ls -lah  {output_path}"
   ]
  },
  {
   "cell_type": "code",
   "execution_count": null,
   "id": "548dc3fd",
   "metadata": {},
   "outputs": [
    {
     "name": "stderr",
     "output_type": "stream",
     "text": [
      "                                                                                \r"
     ]
    }
   ],
   "source": [
    "df_posts_all = spark \\\n",
    "    .read \\\n",
    "    .format(\"com.databricks.spark.xml\") \\\n",
    "    .option('rowTag', 'row') \\\n",
    "    .option('samplingRatio',0.1) \\\n",
    "    .load(input_path+\"Posts.xml\") \\\n",
    "    .repartition(200)"
   ]
  },
  {
   "cell_type": "code",
   "execution_count": null,
   "id": "af1563ec",
   "metadata": {},
   "outputs": [],
   "source": []
  },
  {
   "cell_type": "code",
   "execution_count": null,
   "id": "73015720",
   "metadata": {},
   "outputs": [],
   "source": [
    "df_posts_all = df_posts_all.cache()"
   ]
  },
  {
   "cell_type": "code",
   "execution_count": null,
   "id": "6b73c6e4",
   "metadata": {},
   "outputs": [
    {
     "name": "stderr",
     "output_type": "stream",
     "text": [
      "[Stage 2:>                                                          (0 + 1) / 1]\r"
     ]
    },
    {
     "name": "stdout",
     "output_type": "stream",
     "text": [
      "+-----------------+------------+--------------------+-----------+-------------+-------------------+---------------+--------------------+--------------+-------+--------------------+--------------------+----------------------+-----------------+-----------------+------------+---------+-----------+------+--------------------+--------------------+----------+\n",
      "|_AcceptedAnswerId|_AnswerCount|               _Body|_ClosedDate|_CommentCount|_CommunityOwnedDate|_ContentLicense|       _CreationDate|_FavoriteCount|    _Id|   _LastActivityDate|       _LastEditDate|_LastEditorDisplayName|_LastEditorUserId|_OwnerDisplayName|_OwnerUserId|_ParentId|_PostTypeId|_Score|               _Tags|              _Title|_ViewCount|\n",
      "+-----------------+------------+--------------------+-----------+-------------+-------------------+---------------+--------------------+--------------+-------+--------------------+--------------------+----------------------+-----------------+-----------------+------------+---------+-----------+------+--------------------+--------------------+----------+\n",
      "|             null|        null|<p>Unable to get ...|       null|            0|               null|   CC BY-SA 3.0|2011-06-04 13:20:...|          null|6236960|2011-06-04 13:20:...|                null|                  null|             null|             null|      641166|  6169002|          2|     1|                null|                null|      null|\n",
      "|          6333701|           2|<p>I have a coupl...|       null|            2|               null|   CC BY-SA 3.0|2011-06-13 00:48:...|          null|6325729|2011-06-15 17:14:...|2011-06-15 17:14:...|                  null|            86932|             null|       86932|     null|          1|     2|   <java><hibernate>|How do you update...|      1948|\n",
      "|             null|        null|<p>While adding t...|       null|            3|               null|   CC BY-SA 3.0|2011-06-09 17:12:...|          null|6296687|2011-06-09 17:12:...|                null|                  null|             null|             null|      487372|  6296445|          2|     0|                null|                null|      null|\n",
      "|          7143890|           2|<p>My customer ha...|       null|            0|               null|   CC BY-SA 3.0|2011-06-07 09:40:...|             1|6263361|2013-01-21 23:12:...|2011-06-27 19:59:...|                  null|           649687|             null|      226958|     null|          1|     3|<ruby-on-rails><r...|Calling an Excel ...|       771|\n",
      "|             null|        null|<p>The solution i...|       null|            1|               null|   CC BY-SA 3.0|2011-06-07 15:00:...|          null|6267216|2011-06-07 15:00:...|                null|                  null|             null|             null|       34088|  6266720|          2|     5|                null|                null|      null|\n",
      "+-----------------+------------+--------------------+-----------+-------------+-------------------+---------------+--------------------+--------------+-------+--------------------+--------------------+----------------------+-----------------+-----------------+------------+---------+-----------+------+--------------------+--------------------+----------+\n",
      "only showing top 5 rows\n",
      "\n"
     ]
    },
    {
     "name": "stderr",
     "output_type": "stream",
     "text": [
      "                                                                                \r"
     ]
    }
   ],
   "source": [
    "df_posts_all.show(5)"
   ]
  },
  {
   "cell_type": "code",
   "execution_count": null,
   "id": "9309c770",
   "metadata": {},
   "outputs": [],
   "source": []
  },
  {
   "cell_type": "code",
   "execution_count": null,
   "id": "ebe76101",
   "metadata": {},
   "outputs": [
    {
     "data": {
      "text/plain": [
       "['_AcceptedAnswerId',\n",
       " '_AnswerCount',\n",
       " '_Body',\n",
       " '_ClosedDate',\n",
       " '_CommentCount',\n",
       " '_CommunityOwnedDate',\n",
       " '_ContentLicense',\n",
       " '_CreationDate',\n",
       " '_FavoriteCount',\n",
       " '_Id',\n",
       " '_LastActivityDate',\n",
       " '_LastEditDate',\n",
       " '_LastEditorDisplayName',\n",
       " '_LastEditorUserId',\n",
       " '_OwnerDisplayName',\n",
       " '_OwnerUserId',\n",
       " '_ParentId',\n",
       " '_PostTypeId',\n",
       " '_Score',\n",
       " '_Tags',\n",
       " '_Title',\n",
       " '_ViewCount']"
      ]
     },
     "execution_count": 12,
     "metadata": {},
     "output_type": "execute_result"
    }
   ],
   "source": [
    "df_posts_all.columns"
   ]
  },
  {
   "cell_type": "code",
   "execution_count": null,
   "id": "1e6b2f7c-4973-4815-91ba-d2f81a31e997",
   "metadata": {},
   "outputs": [],
   "source": []
  },
  {
   "cell_type": "code",
   "execution_count": null,
   "id": "de2afa78-90c9-41c1-a3d7-3a3f6e98ec49",
   "metadata": {},
   "outputs": [],
   "source": []
  },
  {
   "cell_type": "code",
   "execution_count": null,
   "id": "4d35b69b",
   "metadata": {},
   "outputs": [],
   "source": []
  },
  {
   "cell_type": "code",
   "execution_count": null,
   "id": "bb3aeeae",
   "metadata": {},
   "outputs": [],
   "source": [
    "column_names = [cleanup_name(name) for name in df_posts_all.columns ] "
   ]
  },
  {
   "cell_type": "code",
   "execution_count": null,
   "id": "a58caafe",
   "metadata": {},
   "outputs": [
    {
     "data": {
      "text/plain": [
       "22"
      ]
     },
     "execution_count": 14,
     "metadata": {},
     "output_type": "execute_result"
    }
   ],
   "source": [
    "len(column_names)"
   ]
  },
  {
   "cell_type": "code",
   "execution_count": null,
   "id": "ee6da290",
   "metadata": {},
   "outputs": [],
   "source": [
    "df_posts_all = df_posts_all.toDF(*column_names)\n"
   ]
  },
  {
   "cell_type": "code",
   "execution_count": null,
   "id": "b8e803ad",
   "metadata": {},
   "outputs": [
    {
     "name": "stdout",
     "output_type": "stream",
     "text": [
      "+----------------+-----------+--------------------+----------+------------+------------------+--------------+--------------------+-------------+-------+--------------------+--------------------+---------------------+----------------+----------------+-----------+--------+----------+-----+--------------------+--------------------+---------+\n",
      "|AcceptedAnswerId|AnswerCount|                Body|ClosedDate|CommentCount|CommunityOwnedDate|ContentLicense|        CreationDate|FavoriteCount|     Id|    LastActivityDate|        LastEditDate|LastEditorDisplayName|LastEditorUserId|OwnerDisplayName|OwnerUserId|ParentId|PostTypeId|Score|                Tags|               Title|ViewCount|\n",
      "+----------------+-----------+--------------------+----------+------------+------------------+--------------+--------------------+-------------+-------+--------------------+--------------------+---------------------+----------------+----------------+-----------+--------+----------+-----+--------------------+--------------------+---------+\n",
      "|            null|       null|<p>Unable to get ...|      null|           0|              null|  CC BY-SA 3.0|2011-06-04 13:20:...|         null|6236960|2011-06-04 13:20:...|                null|                 null|            null|            null|     641166| 6169002|         2|    1|                null|                null|     null|\n",
      "|         6333701|          2|<p>I have a coupl...|      null|           2|              null|  CC BY-SA 3.0|2011-06-13 00:48:...|         null|6325729|2011-06-15 17:14:...|2011-06-15 17:14:...|                 null|           86932|            null|      86932|    null|         1|    2|   <java><hibernate>|How do you update...|     1948|\n",
      "|            null|       null|<p>While adding t...|      null|           3|              null|  CC BY-SA 3.0|2011-06-09 17:12:...|         null|6296687|2011-06-09 17:12:...|                null|                 null|            null|            null|     487372| 6296445|         2|    0|                null|                null|     null|\n",
      "|         7143890|          2|<p>My customer ha...|      null|           0|              null|  CC BY-SA 3.0|2011-06-07 09:40:...|            1|6263361|2013-01-21 23:12:...|2011-06-27 19:59:...|                 null|          649687|            null|     226958|    null|         1|    3|<ruby-on-rails><r...|Calling an Excel ...|      771|\n",
      "|            null|       null|<p>The solution i...|      null|           1|              null|  CC BY-SA 3.0|2011-06-07 15:00:...|         null|6267216|2011-06-07 15:00:...|                null|                 null|            null|            null|      34088| 6266720|         2|    5|                null|                null|     null|\n",
      "+----------------+-----------+--------------------+----------+------------+------------------+--------------+--------------------+-------------+-------+--------------------+--------------------+---------------------+----------------+----------------+-----------+--------+----------+-----+--------------------+--------------------+---------+\n",
      "only showing top 5 rows\n",
      "\n"
     ]
    }
   ],
   "source": [
    "df_posts_all.show(5)"
   ]
  },
  {
   "cell_type": "code",
   "execution_count": null,
   "id": "05360840-133f-48b9-86f9-e2de84c45361",
   "metadata": {},
   "outputs": [
    {
     "name": "stderr",
     "output_type": "stream",
     "text": [
      "                                                                                \r"
     ]
    }
   ],
   "source": [
    "df_posts_all.repartition(200).write.mode(\"overwrite\").parquet(f\"{output_path}/df_posts_parquet\")"
   ]
  },
  {
   "cell_type": "code",
   "execution_count": null,
   "id": "98d4c53a-656c-4c65-8fe2-28243a34450c",
   "metadata": {},
   "outputs": [],
   "source": []
  },
  {
   "cell_type": "code",
   "execution_count": null,
   "id": "229c3de5-74f4-4be4-a02e-3e9ee705b225",
   "metadata": {},
   "outputs": [],
   "source": [
    "df_posts_all = spark.read.parquet(f\"{output_path}/df_posts_parquet\")"
   ]
  },
  {
   "cell_type": "code",
   "execution_count": null,
   "id": "c08ba9f8-d8f2-43e3-b516-7d19288a5d57",
   "metadata": {},
   "outputs": [
    {
     "name": "stderr",
     "output_type": "stream",
     "text": [
      "                                                                                \r"
     ]
    },
    {
     "data": {
      "text/plain": [
       "56264788"
      ]
     },
     "execution_count": 19,
     "metadata": {},
     "output_type": "execute_result"
    }
   ],
   "source": [
    "df_posts_all.count()"
   ]
  },
  {
   "cell_type": "code",
   "execution_count": null,
   "id": "7ccb3507-1ae4-44a9-8285-f14601e7bf01",
   "metadata": {},
   "outputs": [],
   "source": []
  },
  {
   "cell_type": "code",
   "execution_count": null,
   "id": "7a1941cf-92e2-4750-8597-9757fbd5a3ed",
   "metadata": {},
   "outputs": [],
   "source": []
  },
  {
   "cell_type": "markdown",
   "id": "91aebc4a-8f4c-45da-8b94-26fba18d30ac",
   "metadata": {},
   "source": [
    "Questions"
   ]
  },
  {
   "cell_type": "code",
   "execution_count": null,
   "id": "c75198fe",
   "metadata": {},
   "outputs": [],
   "source": [
    "df_qns = df_posts_all\\\n",
    "    .where(F.col(\"PostTypeId\")==1) \\\n",
    "    .selectExpr(\"Id\",\"AcceptedAnswerId\",\"Title\",\"Body as QuestionBody\",\"Tags\", \"ViewCount\", \"AnswerCount\",  \"CommentCount\" , \"Score\", \"CreationDate\") \\\n",
    "    .persist()"
   ]
  },
  {
   "cell_type": "code",
   "execution_count": null,
   "id": "0bdb813e",
   "metadata": {},
   "outputs": [
    {
     "name": "stderr",
     "output_type": "stream",
     "text": [
      "[Stage 14:>                                                         (0 + 1) / 1]\r"
     ]
    },
    {
     "name": "stdout",
     "output_type": "stream",
     "text": [
      "+--------+----------------+--------------------+--------------------+--------------------+---------+-----------+------------+-----+--------------------+\n",
      "|      Id|AcceptedAnswerId|               Title|        QuestionBody|                Tags|ViewCount|AnswerCount|CommentCount|Score|        CreationDate|\n",
      "+--------+----------------+--------------------+--------------------+--------------------+---------+-----------+------------+-----+--------------------+\n",
      "|45735822|        45736088|Scala java.lang.N...|<p>I am trying to...|<postgresql><scal...|     1367|          1|           0|    1|2017-08-17 13:00:...|\n",
      "|65918510|            null|Convert a HTML th...|<p>I have an HTML...|<python><html><be...|       36|          1|           0|    1|2021-01-27 11:47:...|\n",
      "|56841245|        56841350|Dates array using...|<p>Our team is ju...|<javascript><arra...|     5425|          5|           2|    1|2019-07-01 19:15:...|\n",
      "|26375136|            null|Openshift - conec...|<p>I did the rhc ...|<postgresql><open...|       92|          1|           0|    0|2014-10-15 05:33:...|\n",
      "|32579908|        32580398|mongodb substr st...|<p>I want to use ...|<javascript><mong...|     1404|          1|           3|    1|2015-09-15 07:14:...|\n",
      "+--------+----------------+--------------------+--------------------+--------------------+---------+-----------+------------+-----+--------------------+\n",
      "only showing top 5 rows\n",
      "\n"
     ]
    },
    {
     "name": "stderr",
     "output_type": "stream",
     "text": [
      "                                                                                \r"
     ]
    }
   ],
   "source": [
    "df_qns.show(5)"
   ]
  },
  {
   "cell_type": "code",
   "execution_count": null,
   "id": "ec953bcf",
   "metadata": {},
   "outputs": [
    {
     "name": "stderr",
     "output_type": "stream",
     "text": [
      "                                                                                \r"
     ]
    },
    {
     "data": {
      "text/plain": [
       "22634239"
      ]
     },
     "execution_count": 22,
     "metadata": {},
     "output_type": "execute_result"
    }
   ],
   "source": [
    "df_qns.count()"
   ]
  },
  {
   "cell_type": "code",
   "execution_count": null,
   "id": "c1852434-bf54-49d3-bf13-6075cf761bc8",
   "metadata": {},
   "outputs": [
    {
     "name": "stderr",
     "output_type": "stream",
     "text": [
      "                                                                                \r"
     ]
    }
   ],
   "source": [
    "df_qns.repartition(30).write.mode(\"overwrite\").parquet(f\"{output_path}/posts__qn\")"
   ]
  },
  {
   "cell_type": "code",
   "execution_count": null,
   "id": "40c03658-bdeb-4736-a8d5-db82c2f0e781",
   "metadata": {},
   "outputs": [],
   "source": []
  },
  {
   "cell_type": "markdown",
   "id": "d586ccae-8c43-4b06-8949-81fd15ea54ff",
   "metadata": {},
   "source": [
    "Answers"
   ]
  },
  {
   "cell_type": "code",
   "execution_count": null,
   "id": "b8f90285",
   "metadata": {},
   "outputs": [],
   "source": [
    "df_answers = df_posts_all\\\n",
    "    .where(F.col(\"PostTypeId\")==2) \\\n",
    "    .selectExpr(\"Id as AnswerId\",\"Body as AnswerBody\") \\\n",
    "    .persist()\n"
   ]
  },
  {
   "cell_type": "code",
   "execution_count": null,
   "id": "6c175d07",
   "metadata": {},
   "outputs": [
    {
     "name": "stderr",
     "output_type": "stream",
     "text": [
      "[Stage 21:>                                                         (0 + 1) / 1]\r"
     ]
    },
    {
     "name": "stdout",
     "output_type": "stream",
     "text": [
      "+--------+--------------------+\n",
      "|AnswerId|          AnswerBody|\n",
      "+--------+--------------------+\n",
      "|24802250|<p>I'm pretty sur...|\n",
      "|22825188|<p>When you are p...|\n",
      "|51626960|<p>React v15.5.x ...|\n",
      "|14828282|<p>You have sever...|\n",
      "|42739536|<p>According to :...|\n",
      "+--------+--------------------+\n",
      "only showing top 5 rows\n",
      "\n"
     ]
    },
    {
     "name": "stderr",
     "output_type": "stream",
     "text": [
      "                                                                                \r"
     ]
    }
   ],
   "source": [
    "df_answers.show(5)"
   ]
  },
  {
   "cell_type": "code",
   "execution_count": null,
   "id": "b22d4be0",
   "metadata": {},
   "outputs": [
    {
     "name": "stderr",
     "output_type": "stream",
     "text": [
      "                                                                                \r"
     ]
    },
    {
     "data": {
      "text/plain": [
       "33520483"
      ]
     },
     "execution_count": 26,
     "metadata": {},
     "output_type": "execute_result"
    }
   ],
   "source": [
    "df_answers.count()"
   ]
  },
  {
   "cell_type": "code",
   "execution_count": null,
   "id": "2da386df-b0de-4e6c-a480-be6ba7150357",
   "metadata": {},
   "outputs": [],
   "source": []
  },
  {
   "cell_type": "markdown",
   "id": "3a5007c4-4413-4cb1-a674-048eb2a6f5e6",
   "metadata": {},
   "source": [
    "Create Post + Top Answer"
   ]
  },
  {
   "cell_type": "code",
   "execution_count": null,
   "id": "fc200624",
   "metadata": {},
   "outputs": [],
   "source": [
    "# df_posts_final = df_qns.join(df_answers\n",
    "#     , on=[ \n",
    "#         df_qns.AcceptedAnswerId == df_answers.Id\n",
    "#     ]\n",
    "#     , how=\"inner\"\n",
    "#     )"
   ]
  },
  {
   "cell_type": "code",
   "execution_count": null,
   "id": "b04026c4",
   "metadata": {},
   "outputs": [],
   "source": [
    "df_posts_final = df_qns.alias(\"qn\").join(df_answers.alias(\"answer\")\n",
    "    , on=[ \n",
    "        F.col(\"qn.AcceptedAnswerId\") == F.col(\"answer.AnswerId\") \n",
    "    ]\n",
    "    , how=\"left\"\n",
    "    ) \\\n",
    "    .withColumnRenamed(\"AnswerBody\", \"AcceptedAnswerBody\")\n",
    "#     .drop(F.col(\"answer.AnswerId\")) \\\n"
   ]
  },
  {
   "cell_type": "code",
   "execution_count": null,
   "id": "64f81d85",
   "metadata": {},
   "outputs": [
    {
     "name": "stderr",
     "output_type": "stream",
     "text": [
      "[Stage 29:>                                                         (0 + 1) / 1]\r"
     ]
    },
    {
     "name": "stdout",
     "output_type": "stream",
     "text": [
      "+-----+----------------+--------------------+--------------------+--------------------+---------+-----------+------------+-----+--------------------+--------+--------------------+\n",
      "|   Id|AcceptedAnswerId|               Title|        QuestionBody|                Tags|ViewCount|AnswerCount|CommentCount|Score|        CreationDate|AnswerId|  AcceptedAnswerBody|\n",
      "+-----+----------------+--------------------+--------------------+--------------------+---------+-----------+------------+-----+--------------------+--------+--------------------+\n",
      "|   17|              26|Binary Data in MySQL|<p>How do I store...|<mysql><database>...|    83953|          9|           3|  194|2008-08-01 05:09:...|      26|<p>The answer by ...|\n",
      "| 2873|            2927|Choosing a static...|<p>I'm working on...|  <c><unix><testing>|    55970|         15|           3|   69|2008-08-05 21:19:...|    2927|<p>Don't overlook...|\n",
      "| 7224|            7225|Change the width ...|<p>Is it possible...| <vb.net><scrollbar>|    16007|          2|           0|    7|2008-08-10 15:48:...|    7225|<p>The width of t...|\n",
      "| 9228|            9233|ADO.NET Connectio...|<ul>\n",
      "  <li>What i...|<sql-server><perf...|     2441|          4|           0|    3|2008-08-12 20:48:...|    9233|<p>Connection poo...|\n",
      "|11561|           11619|What is the diffe...|<p>I've used Apac...|<java><.net><web-...|    42749|          4|           0|   23|2008-08-14 19:23:...|   11619|<p>I'd hop over t...|\n",
      "+-----+----------------+--------------------+--------------------+--------------------+---------+-----------+------------+-----+--------------------+--------+--------------------+\n",
      "only showing top 5 rows\n",
      "\n"
     ]
    },
    {
     "name": "stderr",
     "output_type": "stream",
     "text": [
      "                                                                                \r"
     ]
    }
   ],
   "source": [
    "df_posts_final.show(5)"
   ]
  },
  {
   "cell_type": "code",
   "execution_count": null,
   "id": "c989a1bc",
   "metadata": {},
   "outputs": [
    {
     "name": "stderr",
     "output_type": "stream",
     "text": [
      "                                                                                \r"
     ]
    },
    {
     "data": {
      "text/plain": [
       "22634239"
      ]
     },
     "execution_count": 30,
     "metadata": {},
     "output_type": "execute_result"
    }
   ],
   "source": [
    "df_posts_final.count()"
   ]
  },
  {
   "cell_type": "code",
   "execution_count": null,
   "id": "d24cda52-92e6-4e7d-85ca-cc27999335cf",
   "metadata": {},
   "outputs": [
    {
     "name": "stderr",
     "output_type": "stream",
     "text": [
      "                                                                                \r"
     ]
    },
    {
     "data": {
      "text/plain": [
       "11588225"
      ]
     },
     "execution_count": 31,
     "metadata": {},
     "output_type": "execute_result"
    }
   ],
   "source": [
    "df_posts_final\\\n",
    ".where(F.col(\"AnswerId\").isNotNull()) \\\n",
    ".count()"
   ]
  },
  {
   "cell_type": "code",
   "execution_count": null,
   "id": "7393b13b",
   "metadata": {},
   "outputs": [],
   "source": []
  },
  {
   "cell_type": "code",
   "execution_count": null,
   "id": "edfdb5c1",
   "metadata": {},
   "outputs": [
    {
     "name": "stderr",
     "output_type": "stream",
     "text": [
      "                                                                                \r"
     ]
    }
   ],
   "source": [
    "df_posts_final.repartition(30).write.mode(\"overwrite\").parquet(f\"{output_path}/posts__qn_with_top_answer\")"
   ]
  },
  {
   "cell_type": "code",
   "execution_count": null,
   "id": "1d9233f7-ad81-4136-96df-046316ba2cd8",
   "metadata": {},
   "outputs": [],
   "source": []
  },
  {
   "cell_type": "code",
   "execution_count": null,
   "id": "599d2c0f-5f23-46af-ba4f-28bbb7ece574",
   "metadata": {},
   "outputs": [],
   "source": []
  },
  {
   "cell_type": "markdown",
   "id": "9af899ec-f796-40b8-b5d4-02e8bedb1688",
   "metadata": {},
   "source": [
    "## Links"
   ]
  },
  {
   "cell_type": "code",
   "execution_count": null,
   "id": "c5260108",
   "metadata": {},
   "outputs": [
    {
     "name": "stderr",
     "output_type": "stream",
     "text": [
      "                                                                                \r"
     ]
    }
   ],
   "source": [
    "df_links = spark \\\n",
    "    .read \\\n",
    "    .format(\"com.databricks.spark.xml\") \\\n",
    "    .option('rowTag', 'row') \\\n",
    "    .option('samplingRatio',0.1) \\\n",
    "    .load(input_path+\"PostLinks.xml\")"
   ]
  },
  {
   "cell_type": "code",
   "execution_count": null,
   "id": "eda42997-3569-4d0e-8195-24a18f67bf49",
   "metadata": {},
   "outputs": [
    {
     "data": {
      "text/plain": [
       "['_CreationDate', '_Id', '_LinkTypeId', '_PostId', '_RelatedPostId']"
      ]
     },
     "execution_count": 34,
     "metadata": {},
     "output_type": "execute_result"
    }
   ],
   "source": [
    "df_links.columns"
   ]
  },
  {
   "cell_type": "code",
   "execution_count": null,
   "id": "93ef236a-556d-4119-a9bf-f765bd43eb15",
   "metadata": {},
   "outputs": [],
   "source": [
    "column_names = [cleanup_name(name) for name in df_links.columns ] "
   ]
  },
  {
   "cell_type": "code",
   "execution_count": null,
   "id": "6a448f91-e55e-4dd9-b032-840af6c8bced",
   "metadata": {},
   "outputs": [],
   "source": [
    "df_links = df_links.toDF(*column_names)\n"
   ]
  },
  {
   "cell_type": "code",
   "execution_count": null,
   "id": "7bbf8b35-524e-4fd1-923a-bc0928f5bb0f",
   "metadata": {},
   "outputs": [],
   "source": [
    "df_links = df_links \\\n",
    "    .where(F.col(\"LinkTypeId\")==3) \\\n",
    "    .select(\"PostId\",\"RelatedPostId\") \\\n",
    "    .persist()"
   ]
  },
  {
   "cell_type": "code",
   "execution_count": null,
   "id": "599f591f-3f46-443c-961a-8c08723955c0",
   "metadata": {},
   "outputs": [
    {
     "name": "stderr",
     "output_type": "stream",
     "text": [
      "                                                                                \r"
     ]
    },
    {
     "data": {
      "text/plain": [
       "1347017"
      ]
     },
     "execution_count": 38,
     "metadata": {},
     "output_type": "execute_result"
    }
   ],
   "source": [
    "df_links.count()"
   ]
  },
  {
   "cell_type": "code",
   "execution_count": null,
   "id": "9fb00904-cd6b-4e92-979c-2ae207c5aeab",
   "metadata": {},
   "outputs": [
    {
     "name": "stderr",
     "output_type": "stream",
     "text": [
      "                                                                                \r"
     ]
    }
   ],
   "source": [
    "df_links.repartition(30).write.mode(\"overwrite\").parquet(f\"{output_path}/df_links_parquet\")"
   ]
  },
  {
   "cell_type": "code",
   "execution_count": null,
   "id": "235be1c0-33ec-493c-a464-eb72bae52c0f",
   "metadata": {},
   "outputs": [],
   "source": [
    "df_links = spark.read.parquet(f\"{output_path}/df_links_parquet\")"
   ]
  },
  {
   "cell_type": "code",
   "execution_count": null,
   "id": "1663b62a-bd36-4c8d-b295-d9743a9d48d9",
   "metadata": {},
   "outputs": [],
   "source": []
  },
  {
   "cell_type": "code",
   "execution_count": null,
   "id": "6e2d78cb-c90d-4fc0-baae-bc35760fb4c4",
   "metadata": {},
   "outputs": [],
   "source": []
  },
  {
   "cell_type": "code",
   "execution_count": null,
   "id": "1d48db33-3931-4cd1-8b24-f4b7d0547802",
   "metadata": {},
   "outputs": [],
   "source": []
  },
  {
   "cell_type": "code",
   "execution_count": null,
   "id": "6eba17a8-ba8c-468a-85b5-f35cf1a30d1f",
   "metadata": {},
   "outputs": [],
   "source": []
  },
  {
   "cell_type": "code",
   "execution_count": null,
   "id": "54a93602-e147-4f2a-9b2c-6a48fba066e4",
   "metadata": {},
   "outputs": [],
   "source": [
    "G = nx.Graph()"
   ]
  },
  {
   "cell_type": "code",
   "execution_count": null,
   "id": "a3fd08b0-8d6c-470e-b745-eb0972f27330",
   "metadata": {},
   "outputs": [
    {
     "name": "stderr",
     "output_type": "stream",
     "text": [
      "                                                                                \r"
     ]
    }
   ],
   "source": [
    "for record in df_links.toPandas().itertuples():\n",
    "    #print (record.PostId, record.RelatedPostId)\n",
    "    G.add_edge(record.PostId, record.RelatedPostId)"
   ]
  },
  {
   "cell_type": "code",
   "execution_count": null,
   "id": "99b9e7ad-5a06-4493-b829-659b44e32b7b",
   "metadata": {},
   "outputs": [
    {
     "data": {
      "text/plain": [
       "371276"
      ]
     },
     "execution_count": 43,
     "metadata": {},
     "output_type": "execute_result"
    }
   ],
   "source": [
    "nx.number_connected_components(G)"
   ]
  },
  {
   "cell_type": "code",
   "execution_count": null,
   "id": "2faadacf-8ffe-4640-86d1-d020e4a51cf4",
   "metadata": {},
   "outputs": [
    {
     "data": {
      "text/plain": [
       "networkx.classes.graph.Graph"
      ]
     },
     "execution_count": 44,
     "metadata": {},
     "output_type": "execute_result"
    }
   ],
   "source": [
    "type(G)"
   ]
  },
  {
   "cell_type": "code",
   "execution_count": null,
   "id": "e4a54d29-86b6-49c2-8129-5340224bdedb",
   "metadata": {},
   "outputs": [],
   "source": [
    "def get_connected_component(G):\n",
    "    components = [G.subgraph(c).copy() for c in nx.connected_components(G)]\n",
    "\n",
    "    records = [] \n",
    "    for idx,g in enumerate(components,start=1):\n",
    "        #print(f\"Component {idx}: Nodes: {g.nodes()} Edges: {g.edges()}\")\n",
    "\n",
    "        records.append ( {\n",
    "            \"component_id\": idx\n",
    "            ,\"nodes\": list( g.nodes )\n",
    "        })\n",
    "    df = pd.DataFrame(records)\n",
    "\n",
    "    return df"
   ]
  },
  {
   "cell_type": "code",
   "execution_count": null,
   "id": "850f1e7e-3a21-4dea-b2a1-ae6be072f53a",
   "metadata": {},
   "outputs": [],
   "source": []
  },
  {
   "cell_type": "code",
   "execution_count": null,
   "id": "4efc68ad-99bb-491e-bb49-9c4ac7c9adb1",
   "metadata": {},
   "outputs": [],
   "source": [
    "pdf_connected_component = get_connected_component(G)\n",
    "pdf_connected_component = pdf_connected_component.explode(\"nodes\").rename(columns={'nodes':'Id'})"
   ]
  },
  {
   "cell_type": "code",
   "execution_count": null,
   "id": "0dfe4260-bc31-4bf2-8456-066881b58af2",
   "metadata": {},
   "outputs": [
    {
     "data": {
      "text/html": [
       "<div>\n",
       "<style scoped>\n",
       "    .dataframe tbody tr th:only-of-type {\n",
       "        vertical-align: middle;\n",
       "    }\n",
       "\n",
       "    .dataframe tbody tr th {\n",
       "        vertical-align: top;\n",
       "    }\n",
       "\n",
       "    .dataframe thead th {\n",
       "        text-align: right;\n",
       "    }\n",
       "</style>\n",
       "<table border=\"1\" class=\"dataframe\">\n",
       "  <thead>\n",
       "    <tr style=\"text-align: right;\">\n",
       "      <th></th>\n",
       "      <th>component_id</th>\n",
       "      <th>Id</th>\n",
       "    </tr>\n",
       "  </thead>\n",
       "  <tbody>\n",
       "    <tr>\n",
       "      <th>0</th>\n",
       "      <td>1</td>\n",
       "      <td>64927065</td>\n",
       "    </tr>\n",
       "    <tr>\n",
       "      <th>0</th>\n",
       "      <td>1</td>\n",
       "      <td>47138754</td>\n",
       "    </tr>\n",
       "    <tr>\n",
       "      <th>1</th>\n",
       "      <td>2</td>\n",
       "      <td>2102746</td>\n",
       "    </tr>\n",
       "    <tr>\n",
       "      <th>1</th>\n",
       "      <td>2</td>\n",
       "      <td>59383746</td>\n",
       "    </tr>\n",
       "    <tr>\n",
       "      <th>1</th>\n",
       "      <td>2</td>\n",
       "      <td>64921629</td>\n",
       "    </tr>\n",
       "    <tr>\n",
       "      <th>...</th>\n",
       "      <td>...</td>\n",
       "      <td>...</td>\n",
       "    </tr>\n",
       "    <tr>\n",
       "      <th>371273</th>\n",
       "      <td>371274</td>\n",
       "      <td>32526836</td>\n",
       "    </tr>\n",
       "    <tr>\n",
       "      <th>371274</th>\n",
       "      <td>371275</td>\n",
       "      <td>53434490</td>\n",
       "    </tr>\n",
       "    <tr>\n",
       "      <th>371274</th>\n",
       "      <td>371275</td>\n",
       "      <td>52309940</td>\n",
       "    </tr>\n",
       "    <tr>\n",
       "      <th>371275</th>\n",
       "      <td>371276</td>\n",
       "      <td>42031514</td>\n",
       "    </tr>\n",
       "    <tr>\n",
       "      <th>371275</th>\n",
       "      <td>371276</td>\n",
       "      <td>49154595</td>\n",
       "    </tr>\n",
       "  </tbody>\n",
       "</table>\n",
       "<p>1652946 rows × 2 columns</p>\n",
       "</div>"
      ],
      "text/plain": [
       "        component_id        Id\n",
       "0                  1  64927065\n",
       "0                  1  47138754\n",
       "1                  2   2102746\n",
       "1                  2  59383746\n",
       "1                  2  64921629\n",
       "...              ...       ...\n",
       "371273        371274  32526836\n",
       "371274        371275  53434490\n",
       "371274        371275  52309940\n",
       "371275        371276  42031514\n",
       "371275        371276  49154595\n",
       "\n",
       "[1652946 rows x 2 columns]"
      ]
     },
     "execution_count": 47,
     "metadata": {},
     "output_type": "execute_result"
    }
   ],
   "source": [
    "pdf_connected_component"
   ]
  },
  {
   "cell_type": "code",
   "execution_count": null,
   "id": "2ec62b46-a8da-4854-a598-d367bfc5224c",
   "metadata": {},
   "outputs": [],
   "source": []
  },
  {
   "cell_type": "code",
   "execution_count": null,
   "id": "37b856b2-8fab-44af-87ca-425c194dad14",
   "metadata": {},
   "outputs": [],
   "source": [
    "df_connected_component = spark.createDataFrame(pdf_connected_component) \n"
   ]
  },
  {
   "cell_type": "code",
   "execution_count": null,
   "id": "dcb7e49d-fe9b-43f4-99fb-b042a642b2de",
   "metadata": {},
   "outputs": [],
   "source": []
  },
  {
   "cell_type": "code",
   "execution_count": null,
   "id": "673cc0e6-1d45-465d-adcb-910e7a2926cd",
   "metadata": {},
   "outputs": [
    {
     "name": "stdout",
     "output_type": "stream",
     "text": [
      "+------------+--------+\n",
      "|component_id|      Id|\n",
      "+------------+--------+\n",
      "|           1|64927065|\n",
      "|           1|47138754|\n",
      "|           2| 2102746|\n",
      "|           2|59383746|\n",
      "|           2|64921629|\n",
      "+------------+--------+\n",
      "only showing top 5 rows\n",
      "\n"
     ]
    },
    {
     "name": "stderr",
     "output_type": "stream",
     "text": [
      "                                                                                \r"
     ]
    }
   ],
   "source": [
    "df_connected_component.show(5)"
   ]
  },
  {
   "cell_type": "code",
   "execution_count": null,
   "id": "132f161a-5531-44ce-a9a2-919f845425f7",
   "metadata": {},
   "outputs": [
    {
     "name": "stderr",
     "output_type": "stream",
     "text": [
      "                                                                                \r"
     ]
    },
    {
     "data": {
      "text/plain": [
       "1652946"
      ]
     },
     "execution_count": 50,
     "metadata": {},
     "output_type": "execute_result"
    }
   ],
   "source": [
    "df_connected_component.count()"
   ]
  },
  {
   "cell_type": "code",
   "execution_count": null,
   "id": "a590482e-f81b-419c-ad8a-07f33e14890d",
   "metadata": {},
   "outputs": [],
   "source": []
  },
  {
   "cell_type": "code",
   "execution_count": null,
   "id": "48b34d54-8b85-4259-bb2e-7ac6c713665c",
   "metadata": {},
   "outputs": [],
   "source": [
    "# from pyspark.sql.window import Window\n",
    "# from pyspark.sql.functions import col, row_number\n",
    "\n",
    "\n",
    "w2 = pyspark.sql.window.Window.partitionBy(\"component_id\").orderBy(F.col(\"ViewCount\").desc())\n",
    "\n",
    "\n",
    "\n",
    "\n",
    "df_top_question_in_connected_component = df_connected_component\\\n",
    "    .join(df_qns,on=[\"Id\"]) \\\n",
    "    .select(\"component_id\",\"Id\",\"Title\",\"QuestionBody\",\"ViewCount\",\"Score\") \\\n",
    "    .withColumn(\"row\",F.row_number().over(w2)) \\\n",
    "    .filter(F.col(\"row\") == 1).drop(\"row\") \\\n",
    "    .selectExpr(\"component_id\", \"Id as OtherPostId\")"
   ]
  },
  {
   "cell_type": "code",
   "execution_count": null,
   "id": "8336ea92-cf4b-4c5b-93dc-4974e806f038",
   "metadata": {},
   "outputs": [
    {
     "name": "stderr",
     "output_type": "stream",
     "text": [
      "[Stage 75:=====================================================>(298 + 2) / 300]\r"
     ]
    },
    {
     "name": "stdout",
     "output_type": "stream",
     "text": [
      "+------------+-----------+\n",
      "|component_id|OtherPostId|\n",
      "+------------+-----------+\n",
      "|          26|   19277973|\n",
      "|          29|   31126124|\n",
      "|         474|   49612412|\n",
      "|         964|   11290323|\n",
      "|        1677|   34338131|\n",
      "|        1697|   33729066|\n",
      "|        1806|     203844|\n",
      "|        1950|    1560424|\n",
      "|        2040|    9913796|\n",
      "|        2214|   63661111|\n",
      "|        2250|   10134310|\n",
      "|        2453|    2757549|\n",
      "|        2509|   53758761|\n",
      "|        2529|   60651615|\n",
      "|        2927|    2440511|\n",
      "|        3091|    4822953|\n",
      "|        3506|   12115357|\n",
      "|        3764|   50772328|\n",
      "|        4590|   32443402|\n",
      "|        4823|    2751593|\n",
      "+------------+-----------+\n",
      "only showing top 20 rows\n",
      "\n"
     ]
    },
    {
     "name": "stderr",
     "output_type": "stream",
     "text": [
      "                                                                                \r"
     ]
    }
   ],
   "source": [
    "df_top_question_in_connected_component.show()"
   ]
  },
  {
   "cell_type": "code",
   "execution_count": null,
   "id": "c258bd14-f215-4f65-88b5-f087a5c0a254",
   "metadata": {},
   "outputs": [],
   "source": [
    "df_link_top = df_connected_component\\\n",
    "    .join(df_top_question_in_connected_component, on=[\"component_id\"]) \\\n",
    "    .where (F.col(\"Id\") != F.col(\"OtherPostId\"))"
   ]
  },
  {
   "cell_type": "code",
   "execution_count": null,
   "id": "287edaae-52b8-40ca-a37e-2eaa7a1e9626",
   "metadata": {},
   "outputs": [
    {
     "name": "stderr",
     "output_type": "stream",
     "text": [
      "[Stage 87:====================================================> (293 + 7) / 300]]\r"
     ]
    },
    {
     "name": "stdout",
     "output_type": "stream",
     "text": [
      "+------------+--------+-----------+\n",
      "|component_id|      Id|OtherPostId|\n",
      "+------------+--------+-----------+\n",
      "|          26|66528713|   19277973|\n",
      "|          29|48868371|   31126124|\n",
      "|          29|48865068|   31126124|\n",
      "|          29|34256132|   31126124|\n",
      "|          29|67412386|   31126124|\n",
      "|         474|66221740|   49612412|\n",
      "|         964| 2065495|   11290323|\n",
      "|         964|68438511|   11290323|\n",
      "|        1677|41892662|   34338131|\n",
      "|        1677|64139523|   34338131|\n",
      "|        1697|65435265|   33729066|\n",
      "|        1806| 5798431|     203844|\n",
      "|        1806|34882750|     203844|\n",
      "|        1806|37013783|     203844|\n",
      "|        1806|27452694|     203844|\n",
      "|        1806|55530037|     203844|\n",
      "|        1806| 1629906|     203844|\n",
      "|        1806|37423790|     203844|\n",
      "|        1806|10666890|     203844|\n",
      "|        1806|62972874|     203844|\n",
      "+------------+--------+-----------+\n",
      "only showing top 20 rows\n",
      "\n"
     ]
    },
    {
     "name": "stderr",
     "output_type": "stream",
     "text": [
      "                                                                                \r"
     ]
    }
   ],
   "source": [
    "df_link_top.show()"
   ]
  },
  {
   "cell_type": "code",
   "execution_count": null,
   "id": "29da2331-e8a6-4d2f-869e-f26244acfee0",
   "metadata": {},
   "outputs": [
    {
     "name": "stderr",
     "output_type": "stream",
     "text": [
      "                                                                                \r"
     ]
    },
    {
     "data": {
      "text/plain": [
       "1266922"
      ]
     },
     "execution_count": 55,
     "metadata": {},
     "output_type": "execute_result"
    }
   ],
   "source": [
    "df_link_top.count()"
   ]
  },
  {
   "cell_type": "code",
   "execution_count": null,
   "id": "a01ea1b0-36c3-4282-a8a2-1da5916a1748",
   "metadata": {},
   "outputs": [
    {
     "name": "stderr",
     "output_type": "stream",
     "text": [
      "                                                                                \r"
     ]
    },
    {
     "data": {
      "text/plain": [
       "358303"
      ]
     },
     "execution_count": 56,
     "metadata": {},
     "output_type": "execute_result"
    }
   ],
   "source": [
    "df_link_top.dropDuplicates(['component_id']).count()"
   ]
  },
  {
   "cell_type": "code",
   "execution_count": 62,
   "id": "8d9eb113-de35-4c12-81d1-1c45c1e4c2b6",
   "metadata": {},
   "outputs": [
    {
     "name": "stderr",
     "output_type": "stream",
     "text": [
      "                                                                                \r"
     ]
    }
   ],
   "source": [
    "df_link_top.repartition(30).write.mode(\"overwrite\").parquet(f\"{output_path}/posts__links\")"
   ]
  },
  {
   "cell_type": "code",
   "execution_count": 63,
   "id": "a4fb4f73-2e89-4da9-9fe4-63a67112312d",
   "metadata": {},
   "outputs": [
    {
     "name": "stdout",
     "output_type": "stream",
     "text": [
      "bin\t   dev\t   home   lib64       media  proc  sbin  tmp\n",
      "boot\t   etc\t   lib\t  libx32      mnt    root  srv\t usr\n",
      "copyright  hadoop  lib32  lost+found  opt    run   sys\t var\n"
     ]
    }
   ],
   "source": [
    "!ls"
   ]
  },
  {
   "cell_type": "code",
   "execution_count": 64,
   "id": "837e94f0-3001-4279-8c50-03fc4e0c8531",
   "metadata": {},
   "outputs": [],
   "source": [
    "df_tmp = spark.read.parquet(f\"{output_path}/posts__links\")"
   ]
  },
  {
   "cell_type": "code",
   "execution_count": 65,
   "id": "f4e1e5ee-d06b-4387-9649-54d9e55f3c65",
   "metadata": {},
   "outputs": [
    {
     "name": "stdout",
     "output_type": "stream",
     "text": [
      "+------------+--------+-----------+\n",
      "|component_id|      Id|OtherPostId|\n",
      "+------------+--------+-----------+\n",
      "|       11857|48483506|   40872114|\n",
      "|      111173|26220432|   13252603|\n",
      "|       41872|24063986|      32332|\n",
      "|      248533|31704180|    1803627|\n",
      "|       49609|53596207|   53524127|\n",
      "+------------+--------+-----------+\n",
      "only showing top 5 rows\n",
      "\n"
     ]
    },
    {
     "name": "stderr",
     "output_type": "stream",
     "text": [
      "----------------------------------------\n",
      "Exception happened during processing of request from ('127.0.0.1', 58850)\n",
      "Traceback (most recent call last):\n",
      "  File \"/opt/conda/miniconda3/lib/python3.8/socketserver.py\", line 316, in _handle_request_noblock\n",
      "    self.process_request(request, client_address)\n",
      "  File \"/opt/conda/miniconda3/lib/python3.8/socketserver.py\", line 347, in process_request\n",
      "    self.finish_request(request, client_address)\n",
      "  File \"/opt/conda/miniconda3/lib/python3.8/socketserver.py\", line 360, in finish_request\n",
      "    self.RequestHandlerClass(request, client_address, self)\n",
      "  File \"/opt/conda/miniconda3/lib/python3.8/socketserver.py\", line 747, in __init__\n",
      "    self.handle()\n",
      "  File \"/usr/lib/spark/python/pyspark/accumulators.py\", line 262, in handle\n",
      "    poll(accum_updates)\n",
      "  File \"/usr/lib/spark/python/pyspark/accumulators.py\", line 235, in poll\n",
      "    if func():\n",
      "  File \"/usr/lib/spark/python/pyspark/accumulators.py\", line 239, in accum_updates\n",
      "    num_updates = read_int(self.rfile)\n",
      "  File \"/usr/lib/spark/python/pyspark/serializers.py\", line 564, in read_int\n",
      "    raise EOFError\n",
      "EOFError\n",
      "----------------------------------------\n"
     ]
    }
   ],
   "source": [
    "df_tmp.show(5)"
   ]
  },
  {
   "cell_type": "code",
   "execution_count": null,
   "id": "5f8cb6c2-b09a-46bf-a533-b94671a7f070",
   "metadata": {},
   "outputs": [],
   "source": []
  }
 ],
 "metadata": {
  "environment": {
   "kernel": "python3",
   "name": "pytorch-gpu.1-11.m94",
   "type": "gcloud",
   "uri": "gcr.io/deeplearning-platform-release/pytorch-gpu.1-11:m94"
  },
  "kernelspec": {
   "display_name": "Python 3",
   "language": "python",
   "name": "python3"
  },
  "language_info": {
   "codemirror_mode": {
    "name": "ipython",
    "version": 3
   },
   "file_extension": ".py",
   "mimetype": "text/x-python",
   "name": "python",
   "nbconvert_exporter": "python",
   "pygments_lexer": "ipython3",
   "version": "3.7.12"
  }
 },
 "nbformat": 4,
 "nbformat_minor": 5
}
