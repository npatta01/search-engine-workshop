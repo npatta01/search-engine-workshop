{
 "cells": [
  {
   "cell_type": "markdown",
   "id": "edec4b60-5f9c-4bfa-8da5-d917904fd5f1",
   "metadata": {},
   "source": [
    "uncomment the below cell to download the latest stack overflow dump and upload to gcs"
   ]
  },
  {
   "cell_type": "code",
   "execution_count": null,
   "id": "c1f9df4d-0ac4-4619-ba09-fa99bbe7a183",
   "metadata": {},
   "outputs": [],
   "source": [
    "# %%bash\n",
    "\n",
    "# sudo apt update && sudo apt install -y p7zip-full\n",
    "\n",
    "# wget --retry-connrefused --waitretry=1 --read-timeout=20 --timeout=15 -t 0 --continue https://archive.org/download/stackexchange/stackoverflow.com-Posts.7z\n",
    "\n",
    "\n",
    "# 7z x stackoverflow.com-Posts.7z\n",
    "\n",
    "# gsutil cp Posts.xml gs://np-training-tmp/stackoverflow/Posts.xml\n",
    "\n",
    "# ```\n",
    "\n"
   ]
  },
  {
   "cell_type": "code",
   "execution_count": null,
   "id": "a9c26068-e824-4546-87ea-4b9d430e2d4f",
   "metadata": {},
   "outputs": [],
   "source": []
  },
  {
   "cell_type": "code",
   "execution_count": null,
   "id": "2b999328-37dd-456b-9196-924a57e5d088",
   "metadata": {},
   "outputs": [],
   "source": []
  },
  {
   "cell_type": "code",
   "execution_count": 1,
   "id": "43f6f41e",
   "metadata": {},
   "outputs": [],
   "source": [
    "import pandas as pd\n",
    "from pyspark.sql import SparkSession\n",
    "import pyspark.sql.functions as F"
   ]
  },
  {
   "cell_type": "code",
   "execution_count": null,
   "id": "17a61dfa",
   "metadata": {},
   "outputs": [],
   "source": []
  },
  {
   "cell_type": "code",
   "execution_count": 2,
   "id": "26fe26c8",
   "metadata": {},
   "outputs": [],
   "source": [
    "spark = SparkSession\\\n",
    ".builder\\\n",
    ".appName('app')\\\n",
    ".config('spark.jars.packages', 'com.databricks:spark-xml_2.12:0.15.0')\\\n",
    ".config(\"spark.default.parallelism\",200) \\\n",
    ".config(\"spark.sql.shuffle.partitions\",200) \\\n",
    ".getOrCreate()\n",
    "\n",
    "# .config(\"spark.sql.crossJoin.enabled\",True) \\\n"
   ]
  },
  {
   "cell_type": "code",
   "execution_count": 3,
   "id": "308d29b6",
   "metadata": {},
   "outputs": [
    {
     "name": "stdout",
     "output_type": "stream",
     "text": [
      " 89.98 GiB  2022-08-01T18:23:42Z  gs://np-training-tmp/stackoverflow/Posts.xml#1659378222561946  metageneration=1\n",
      " 17.76 GiB  2022-08-01T09:47:19Z  gs://np-training-tmp/stackoverflow/stackoverflow.com-Posts.7z#1659347239504571  metageneration=1\n",
      "TOTAL: 2 objects, 115689494677 bytes (107.74 GiB)\n"
     ]
    }
   ],
   "source": [
    "!gsutil ls -lah  gs://np-training-tmp/stackoverflow/"
   ]
  },
  {
   "cell_type": "code",
   "execution_count": 28,
   "id": "95112342",
   "metadata": {},
   "outputs": [],
   "source": [
    "posts_input_path = \"gs://np-training-tmp/stackoverflow/Posts.xml\"\n",
    "posts_output_path = \"gs://np-training-tmp/stackoverflow/posts_processed/\""
   ]
  },
  {
   "cell_type": "code",
   "execution_count": 5,
   "id": "548dc3fd",
   "metadata": {},
   "outputs": [],
   "source": [
    "df = spark \\\n",
    "    .read \\\n",
    "    .format(\"com.databricks.spark.xml\") \\\n",
    "    .option('rowTag', 'row') \\\n",
    "    .option('samplingRatio',0.1) \\\n",
    "    .load(posts_input_path) \\\n",
    "    .repartition(200)"
   ]
  },
  {
   "cell_type": "code",
   "execution_count": null,
   "id": "af1563ec",
   "metadata": {},
   "outputs": [],
   "source": []
  },
  {
   "cell_type": "code",
   "execution_count": 6,
   "id": "73015720",
   "metadata": {},
   "outputs": [],
   "source": [
    "df = df.cache()"
   ]
  },
  {
   "cell_type": "code",
   "execution_count": 7,
   "id": "6b73c6e4",
   "metadata": {},
   "outputs": [
    {
     "name": "stdout",
     "output_type": "stream",
     "text": [
      "+-----------------+------------+--------------------+-----------+-------------+--------------------+---------------+--------------------+--------------+---+--------------------+--------------------+----------------------+-----------------+-----------------+------------+---------+-----------+------+--------------------+--------------------+----------+\n",
      "|_AcceptedAnswerId|_AnswerCount|               _Body|_ClosedDate|_CommentCount| _CommunityOwnedDate|_ContentLicense|       _CreationDate|_FavoriteCount|_Id|   _LastActivityDate|       _LastEditDate|_LastEditorDisplayName|_LastEditorUserId|_OwnerDisplayName|_OwnerUserId|_ParentId|_PostTypeId|_Score|               _Tags|              _Title|_ViewCount|\n",
      "+-----------------+------------+--------------------+-----------+-------------+--------------------+---------------+--------------------+--------------+---+--------------------+--------------------+----------------------+-----------------+-----------------+------------+---------+-----------+------+--------------------+--------------------+----------+\n",
      "|                7|          13|<p>I want to use ...|       null|            4|2012-10-31 16:42:...|   CC BY-SA 4.0|2008-07-31 21:42:...|            58|  4|2022-04-12 09:48:...|2021-02-26 03:31:...|                Rich B|          3072350|             null|           8|     null|          1|   763|<c#><floating-poi...|How to convert a ...|     65143|\n",
      "|               31|           7|<p>I have an abso...|       null|            0|                null|   CC BY-SA 4.0|2008-07-31 22:08:...|            13|  6|2021-01-29 18:46:...|2021-01-29 18:46:...|          user14723686|          9134576|             null|           9|     null|          1|   314|<html><css><inter...|Why did the width...|     22702|\n",
      "|             null|        null|<p>An explicit ca...|       null|            0|                null|   CC BY-SA 4.0|2008-07-31 22:17:...|          null|  7|2019-10-21 14:03:...|2019-10-21 14:03:...|                  null|          5496973|             null|           9|        4|          2|   507|                null|                null|      null|\n",
      "|             1404|          70|<p>Given a <code>...|       null|           10|2011-08-16 19:40:...|   CC BY-SA 4.0|2008-07-31 23:40:...|           487|  9|2022-03-25 01:14:...|2022-03-25 01:14:...|                Rich B|         15747757|             null|           1|     null|          1|  2120|<c#><.net><datetime>|How do I calculat...|    741405|\n",
      "|             1248|          40|<p>Given a specif...|       null|            3|2009-09-04 13:15:...|   CC BY-SA 3.0|2008-07-31 23:55:...|           551| 11|2022-04-11 13:50:...|2017-06-04 15:51:...|           user2370523|          6479704|             null|           1|     null|          1|  1617|<c#><datetime><ti...|Calculate relativ...|    190699|\n",
      "+-----------------+------------+--------------------+-----------+-------------+--------------------+---------------+--------------------+--------------+---+--------------------+--------------------+----------------------+-----------------+-----------------+------------+---------+-----------+------+--------------------+--------------------+----------+\n",
      "only showing top 5 rows\n",
      "\n"
     ]
    }
   ],
   "source": [
    "df.show(5)"
   ]
  },
  {
   "cell_type": "code",
   "execution_count": 8,
   "id": "9309c770",
   "metadata": {},
   "outputs": [
    {
     "name": "stdout",
     "output_type": "stream",
     "text": [
      "bin\t   hadoop  libx32      proc\t\t\t\t srv\n",
      "boot\t   home    lost+found  root\t\t\t\t sys\n",
      "copyright  lib\t   media       run\t\t\t\t tmp\n",
      "dev\t   lib32   mnt\t       sbin\t\t\t\t usr\n",
      "etc\t   lib64   opt\t       sparkmonitor_kernelextension.log  var\n"
     ]
    }
   ],
   "source": [
    "!ls"
   ]
  },
  {
   "cell_type": "code",
   "execution_count": 9,
   "id": "ebe76101",
   "metadata": {},
   "outputs": [
    {
     "data": {
      "text/plain": [
       "['_AcceptedAnswerId',\n",
       " '_AnswerCount',\n",
       " '_Body',\n",
       " '_ClosedDate',\n",
       " '_CommentCount',\n",
       " '_CommunityOwnedDate',\n",
       " '_ContentLicense',\n",
       " '_CreationDate',\n",
       " '_FavoriteCount',\n",
       " '_Id',\n",
       " '_LastActivityDate',\n",
       " '_LastEditDate',\n",
       " '_LastEditorDisplayName',\n",
       " '_LastEditorUserId',\n",
       " '_OwnerDisplayName',\n",
       " '_OwnerUserId',\n",
       " '_ParentId',\n",
       " '_PostTypeId',\n",
       " '_Score',\n",
       " '_Tags',\n",
       " '_Title',\n",
       " '_ViewCount']"
      ]
     },
     "execution_count": 9,
     "metadata": {},
     "output_type": "execute_result"
    }
   ],
   "source": [
    "df.columns"
   ]
  },
  {
   "cell_type": "code",
   "execution_count": 10,
   "id": "4d35b69b",
   "metadata": {},
   "outputs": [],
   "source": [
    "def cleanup_name(name:str):\n",
    "    return name[1:]"
   ]
  },
  {
   "cell_type": "code",
   "execution_count": 11,
   "id": "bb3aeeae",
   "metadata": {},
   "outputs": [],
   "source": [
    "column_names = [cleanup_name(name) for name in df.columns ] "
   ]
  },
  {
   "cell_type": "code",
   "execution_count": 12,
   "id": "a58caafe",
   "metadata": {},
   "outputs": [
    {
     "data": {
      "text/plain": [
       "22"
      ]
     },
     "execution_count": 12,
     "metadata": {},
     "output_type": "execute_result"
    }
   ],
   "source": [
    "len(column_names)"
   ]
  },
  {
   "cell_type": "code",
   "execution_count": 13,
   "id": "ee6da290",
   "metadata": {},
   "outputs": [],
   "source": [
    "df = df.toDF(*column_names)\n"
   ]
  },
  {
   "cell_type": "code",
   "execution_count": 14,
   "id": "b8e803ad",
   "metadata": {},
   "outputs": [
    {
     "name": "stdout",
     "output_type": "stream",
     "text": [
      "+----------------+-----------+--------------------+----------+------------+--------------------+--------------+--------------------+-------------+---+--------------------+--------------------+---------------------+----------------+----------------+-----------+--------+----------+-----+--------------------+--------------------+---------+\n",
      "|AcceptedAnswerId|AnswerCount|                Body|ClosedDate|CommentCount|  CommunityOwnedDate|ContentLicense|        CreationDate|FavoriteCount| Id|    LastActivityDate|        LastEditDate|LastEditorDisplayName|LastEditorUserId|OwnerDisplayName|OwnerUserId|ParentId|PostTypeId|Score|                Tags|               Title|ViewCount|\n",
      "+----------------+-----------+--------------------+----------+------------+--------------------+--------------+--------------------+-------------+---+--------------------+--------------------+---------------------+----------------+----------------+-----------+--------+----------+-----+--------------------+--------------------+---------+\n",
      "|               7|         13|<p>I want to use ...|      null|           4|2012-10-31 16:42:...|  CC BY-SA 4.0|2008-07-31 21:42:...|           58|  4|2022-04-12 09:48:...|2021-02-26 03:31:...|               Rich B|         3072350|            null|          8|    null|         1|  763|<c#><floating-poi...|How to convert a ...|    65143|\n",
      "|              31|          7|<p>I have an abso...|      null|           0|                null|  CC BY-SA 4.0|2008-07-31 22:08:...|           13|  6|2021-01-29 18:46:...|2021-01-29 18:46:...|         user14723686|         9134576|            null|          9|    null|         1|  314|<html><css><inter...|Why did the width...|    22702|\n",
      "|            null|       null|<p>An explicit ca...|      null|           0|                null|  CC BY-SA 4.0|2008-07-31 22:17:...|         null|  7|2019-10-21 14:03:...|2019-10-21 14:03:...|                 null|         5496973|            null|          9|       4|         2|  507|                null|                null|     null|\n",
      "|            1404|         70|<p>Given a <code>...|      null|          10|2011-08-16 19:40:...|  CC BY-SA 4.0|2008-07-31 23:40:...|          487|  9|2022-03-25 01:14:...|2022-03-25 01:14:...|               Rich B|        15747757|            null|          1|    null|         1| 2120|<c#><.net><datetime>|How do I calculat...|   741405|\n",
      "|            1248|         40|<p>Given a specif...|      null|           3|2009-09-04 13:15:...|  CC BY-SA 3.0|2008-07-31 23:55:...|          551| 11|2022-04-11 13:50:...|2017-06-04 15:51:...|          user2370523|         6479704|            null|          1|    null|         1| 1617|<c#><datetime><ti...|Calculate relativ...|   190699|\n",
      "+----------------+-----------+--------------------+----------+------------+--------------------+--------------+--------------------+-------------+---+--------------------+--------------------+---------------------+----------------+----------------+-----------+--------+----------+-----+--------------------+--------------------+---------+\n",
      "only showing top 5 rows\n",
      "\n"
     ]
    }
   ],
   "source": [
    "df.show(5)"
   ]
  },
  {
   "cell_type": "code",
   "execution_count": 15,
   "id": "c75198fe",
   "metadata": {},
   "outputs": [],
   "source": [
    "df_qn = df\\\n",
    "    .where(F.col(\"PostTypeId\")==1) \\\n",
    "    .selectExpr(\"Id\",\"AcceptedAnswerId\",\"Title\",\"Body as QuestionBody\",\"Tags\", \"ViewCount\", \"AnswerCount\",  \"CommentCount\" , \"Score\", \"CreationDate\") \\\n",
    "    .persist()"
   ]
  },
  {
   "cell_type": "code",
   "execution_count": 16,
   "id": "0bdb813e",
   "metadata": {},
   "outputs": [
    {
     "name": "stdout",
     "output_type": "stream",
     "text": [
      "+---+----------------+--------------------+--------------------+--------------------+---------+-----------+------------+-----+--------------------+\n",
      "| Id|AcceptedAnswerId|               Title|                Body|                Tags|ViewCount|AnswerCount|CommentCount|Score|        CreationDate|\n",
      "+---+----------------+--------------------+--------------------+--------------------+---------+-----------+------------+-----+--------------------+\n",
      "|  4|               7|How to convert a ...|<p>I want to use ...|<c#><floating-poi...|    65143|         13|           4|  763|2008-07-31 21:42:...|\n",
      "|  6|              31|Why did the width...|<p>I have an abso...|<html><css><inter...|    22702|          7|           0|  314|2008-07-31 22:08:...|\n",
      "|  9|            1404|How do I calculat...|<p>Given a <code>...|<c#><.net><datetime>|   741405|         70|          10| 2120|2008-07-31 23:40:...|\n",
      "| 11|            1248|Calculate relativ...|<p>Given a specif...|<c#><datetime><ti...|   190699|         40|           3| 1617|2008-07-31 23:55:...|\n",
      "| 13|            null|Determine a user'...|<p>Is there a sta...|<html><browser><t...|   253775|         27|          10|  677|2008-08-01 00:42:...|\n",
      "+---+----------------+--------------------+--------------------+--------------------+---------+-----------+------------+-----+--------------------+\n",
      "only showing top 5 rows\n",
      "\n"
     ]
    }
   ],
   "source": [
    "df_qn.show(5)"
   ]
  },
  {
   "cell_type": "code",
   "execution_count": null,
   "id": "ec953bcf",
   "metadata": {},
   "outputs": [
    {
     "data": {
      "text/plain": [
       "22634239"
      ]
     },
     "execution_count": 17,
     "metadata": {},
     "output_type": "execute_result"
    }
   ],
   "source": [
    "df_qn.count()"
   ]
  },
  {
   "cell_type": "code",
   "execution_count": null,
   "id": "b8f90285",
   "metadata": {},
   "outputs": [],
   "source": [
    "df_answer = df\\\n",
    "    .where(F.col(\"PostTypeId\")==2) \\\n",
    "    .selectExpr(\"Id\",\"Body as AnswerBody\") \\\n",
    "    .persist()\n"
   ]
  },
  {
   "cell_type": "code",
   "execution_count": null,
   "id": "6c175d07",
   "metadata": {},
   "outputs": [
    {
     "name": "stdout",
     "output_type": "stream",
     "text": [
      "+---+--------------------+\n",
      "| Id|          AnswerBody|\n",
      "+---+--------------------+\n",
      "|  7|<p>An explicit ca...|\n",
      "| 12|<p>Here's how I d...|\n",
      "| 18|<p>For a table li...|\n",
      "| 22|<p>The best way t...|\n",
      "| 26|<p>The answer by ...|\n",
      "+---+--------------------+\n",
      "only showing top 5 rows\n",
      "\n"
     ]
    }
   ],
   "source": [
    "df_answer.show(5)"
   ]
  },
  {
   "cell_type": "code",
   "execution_count": null,
   "id": "b22d4be0",
   "metadata": {},
   "outputs": [
    {
     "data": {
      "text/plain": [
       "33520483"
      ]
     },
     "execution_count": 20,
     "metadata": {},
     "output_type": "execute_result"
    }
   ],
   "source": [
    "df_answer.count()"
   ]
  },
  {
   "cell_type": "code",
   "execution_count": null,
   "id": "f44d9431",
   "metadata": {},
   "outputs": [],
   "source": [
    "?df_qn.join"
   ]
  },
  {
   "cell_type": "code",
   "execution_count": null,
   "id": "fc200624",
   "metadata": {},
   "outputs": [],
   "source": [
    "df_final = df_qn.join(df_answer\n",
    "    , on=[ \n",
    "        df_qn.AcceptedAnswerId == df_answer.Id\n",
    "    ]\n",
    "    , how=\"inner\"\n",
    "    )"
   ]
  },
  {
   "cell_type": "code",
   "execution_count": 34,
   "id": "b04026c4",
   "metadata": {},
   "outputs": [],
   "source": [
    "df_final = df_qn.alias(\"qn\").join(df_answer.alias(\"answer\")\n",
    "    , on=[ \n",
    "        F.col(\"qn.AcceptedAnswerId\") == F.col(\"answer.Id\") \n",
    "    ]\n",
    "    , how=\"inner\"\n",
    "    ) \\\n",
    "    .drop(F.col(\"answer.Id\"))"
   ]
  },
  {
   "cell_type": "code",
   "execution_count": 35,
   "id": "64f81d85",
   "metadata": {},
   "outputs": [
    {
     "name": "stdout",
     "output_type": "stream",
     "text": [
      "+-----+----------------+--------------------+--------------------+--------------------+---------+-----------+------------+-----+--------------------+--------------------+\n",
      "|   Id|AcceptedAnswerId|               Title|                Body|                Tags|ViewCount|AnswerCount|CommentCount|Score|        CreationDate|          AnswerBody|\n",
      "+-----+----------------+--------------------+--------------------+--------------------+---------+-----------+------------+-----+--------------------+--------------------+\n",
      "|   17|              26|Binary Data in MySQL|<p>How do I store...|<mysql><database>...|    83953|          9|           3|  194|2008-08-01 05:09:...|<p>The answer by ...|\n",
      "| 2873|            2927|Choosing a static...|<p>I'm working on...|  <c><unix><testing>|    55970|         15|           3|   69|2008-08-05 21:19:...|<p>Don't overlook...|\n",
      "| 7224|            7225|Change the width ...|<p>Is it possible...| <vb.net><scrollbar>|    16007|          2|           0|    7|2008-08-10 15:48:...|<p>The width of t...|\n",
      "| 9228|            9233|ADO.NET Connectio...|<ul>\n",
      "  <li>What i...|<sql-server><perf...|     2441|          4|           0|    3|2008-08-12 20:48:...|<p>Connection poo...|\n",
      "|11561|           11619|What is the diffe...|<p>I've used Apac...|<java><.net><web-...|    42749|          4|           0|   23|2008-08-14 19:23:...|<p>I'd hop over t...|\n",
      "+-----+----------------+--------------------+--------------------+--------------------+---------+-----------+------------+-----+--------------------+--------------------+\n",
      "only showing top 5 rows\n",
      "\n"
     ]
    }
   ],
   "source": [
    "df_final.show(5)"
   ]
  },
  {
   "cell_type": "code",
   "execution_count": 36,
   "id": "c989a1bc",
   "metadata": {},
   "outputs": [
    {
     "data": {
      "text/plain": [
       "11588225"
      ]
     },
     "execution_count": 36,
     "metadata": {},
     "output_type": "execute_result"
    }
   ],
   "source": [
    "df_final.count()"
   ]
  },
  {
   "cell_type": "code",
   "execution_count": null,
   "id": "7393b13b",
   "metadata": {},
   "outputs": [],
   "source": []
  },
  {
   "cell_type": "code",
   "execution_count": null,
   "id": "edfdb5c1",
   "metadata": {},
   "outputs": [],
   "source": [
    "df_final.repartition(30).write.mode(\"overwrite\").parquet(posts_output_path)"
   ]
  },
  {
   "cell_type": "code",
   "execution_count": 38,
   "id": "aebee8b1",
   "metadata": {},
   "outputs": [
    {
     "name": "stdout",
     "output_type": "stream",
     "text": [
      "bin\t   hadoop  libx32      proc\t\t\t\t srv\n",
      "boot\t   home    lost+found  root\t\t\t\t sys\n",
      "copyright  lib\t   media       run\t\t\t\t tmp\n",
      "dev\t   lib32   mnt\t       sbin\t\t\t\t usr\n",
      "etc\t   lib64   opt\t       sparkmonitor_kernelextension.log  var\n"
     ]
    }
   ],
   "source": [
    "!ls"
   ]
  },
  {
   "cell_type": "code",
   "execution_count": null,
   "id": "c5260108",
   "metadata": {},
   "outputs": [],
   "source": []
  }
 ],
 "metadata": {
  "environment": {
   "kernel": "python3",
   "name": "pytorch-gpu.1-11.m94",
   "type": "gcloud",
   "uri": "gcr.io/deeplearning-platform-release/pytorch-gpu.1-11:m94"
  },
  "kernelspec": {
   "display_name": "Python 3",
   "language": "python",
   "name": "python3"
  },
  "language_info": {
   "codemirror_mode": {
    "name": "ipython",
    "version": 3
   },
   "file_extension": ".py",
   "mimetype": "text/x-python",
   "name": "python",
   "nbconvert_exporter": "python",
   "pygments_lexer": "ipython3",
   "version": "3.7.12"
  }
 },
 "nbformat": 4,
 "nbformat_minor": 5
}
