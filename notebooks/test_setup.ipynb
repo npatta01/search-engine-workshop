{
 "cells": [
  {
   "cell_type": "code",
   "execution_count": 5,
   "id": "ad224cf0-176b-4460-afc0-03f0aacdfe71",
   "metadata": {},
   "outputs": [],
   "source": [
    "from datetime import datetime\n",
    "import pickle\n",
    "import uuid\n",
    "import datetime"
   ]
  },
  {
   "cell_type": "code",
   "execution_count": null,
   "id": "9d7d74e6-1472-4f92-b582-fb74683a252e",
   "metadata": {},
   "outputs": [],
   "source": []
  },
  {
   "cell_type": "markdown",
   "id": "aae437e9-d66c-44a8-ab44-4523f7abb5b1",
   "metadata": {},
   "source": [
    "# Elastic Search"
   ]
  },
  {
   "cell_type": "code",
   "execution_count": 6,
   "id": "07c82415-1cd2-43e8-a88c-626eac3dea04",
   "metadata": {},
   "outputs": [],
   "source": [
    "from elasticsearch import Elasticsearch"
   ]
  },
  {
   "cell_type": "code",
   "execution_count": 2,
   "id": "5e2563f6-5723-4aa6-a120-f4764c4d8b07",
   "metadata": {},
   "outputs": [],
   "source": [
    "es = Elasticsearch(hosts=\"http://localhost:9200\" , verify_certs=False)"
   ]
  },
  {
   "cell_type": "code",
   "execution_count": 3,
   "id": "056b1007-5cc8-4a40-ab59-ffda53e269d2",
   "metadata": {},
   "outputs": [],
   "source": [
    "doc = {\n",
    "    'author': 'kimchy',\n",
    "    'text': 'Elasticsearch: cool. bonsai cool.',\n",
    "    'timestamp': datetime.now(),\n",
    "}"
   ]
  },
  {
   "cell_type": "code",
   "execution_count": 4,
   "id": "e994e955-f3ea-47f4-95e6-994390e5403e",
   "metadata": {},
   "outputs": [],
   "source": [
    "resp = es.index(index=\"test-index\", id=1, document=doc)\n"
   ]
  },
  {
   "cell_type": "code",
   "execution_count": 5,
   "id": "6ecf186b-458a-4bf6-9ed1-ff1030b72f50",
   "metadata": {},
   "outputs": [
    {
     "name": "stdout",
     "output_type": "stream",
     "text": [
      "created\n",
      "{'author': 'kimchy', 'text': 'Elasticsearch: cool. bonsai cool.', 'timestamp': '2022-10-14T08:23:06.496072'}\n",
      "Got 1 Hits:\n",
      "2022-10-14T08:23:06.496072 kimchy: Elasticsearch: cool. bonsai cool.\n"
     ]
    }
   ],
   "source": [
    "print(resp['result'])\n",
    "\n",
    "resp = es.get(index=\"test-index\", id=1)\n",
    "print(resp['_source'])\n",
    "\n",
    "es.indices.refresh(index=\"test-index\")\n",
    "\n",
    "resp = es.search(index=\"test-index\", query={\"match_all\": {}})\n",
    "print(\"Got %d Hits:\" % resp['hits']['total']['value'])\n",
    "for hit in resp['hits']['hits']:\n",
    "    print(\"%(timestamp)s %(author)s: %(text)s\" % hit[\"_source\"])"
   ]
  },
  {
   "cell_type": "code",
   "execution_count": null,
   "id": "ec1b445b-6cc5-458d-bc9b-5b371c82d1a5",
   "metadata": {},
   "outputs": [],
   "source": []
  },
  {
   "cell_type": "markdown",
   "id": "60b56f57-6430-4749-b602-77e566bf51ad",
   "metadata": {},
   "source": [
    "# Milvus"
   ]
  },
  {
   "cell_type": "code",
   "execution_count": null,
   "id": "3b9a8da0-7d1d-4ffa-a53e-48cff8f724bb",
   "metadata": {},
   "outputs": [],
   "source": [
    "# https://raw.githubusercontent.com/milvus-io/pymilvus/v1.1.2/examples/example.py\n",
    "# This program demos how to connect to Milvus vector database, \n",
    "# create a vector collection,\n",
    "# insert 10 vectors, \n",
    "# and execute a vector similarity search.\n",
    "\n",
    "import random\n",
    "\n",
    "from milvus import Milvus, IndexType, MetricType, Status\n",
    "\n",
    "# Milvus server IP address and port.\n",
    "# You may need to change _HOST and _PORT accordingly.\n",
    "_HOST = '127.0.0.1'\n",
    "_PORT = '19530'  # default value\n",
    "# _PORT = '19121'  # default http value\n",
    "\n",
    "# Vector parameters\n",
    "_DIM = 8  # dimension of vector\n",
    "\n",
    "_INDEX_FILE_SIZE = 32  # max file size of stored index\n",
    "\n",
    "\n",
    "def milvus_test():\n",
    "    # Specify server addr when create milvus client instance\n",
    "    # milvus client instance maintain a connection pool, param\n",
    "    # `pool_size` specify the max connection num.\n",
    "    milvus = Milvus(_HOST, _PORT)\n",
    "\n",
    "    # Create collection demo_collection if it dosen't exist.\n",
    "    collection_name = 'example_collection_'\n",
    "\n",
    "    status, ok = milvus.has_collection(collection_name)\n",
    "    if not ok:\n",
    "        param = {\n",
    "            'collection_name': collection_name,\n",
    "            'dimension': _DIM,\n",
    "            'index_file_size': _INDEX_FILE_SIZE,  # optional\n",
    "            'metric_type': MetricType.L2  # optional\n",
    "        }\n",
    "\n",
    "        milvus.create_collection(param)\n",
    "\n",
    "    # Show collections in Milvus server\n",
    "    _, collections = milvus.list_collections()\n",
    "\n",
    "    # Describe demo_collection\n",
    "    _, collection = milvus.get_collection_info(collection_name)\n",
    "    print(collection)\n",
    "\n",
    "    # 10000 vectors with 128 dimension\n",
    "    # element per dimension is float32 type\n",
    "    # vectors should be a 2-D array\n",
    "    vectors = [[random.random() for _ in range(_DIM)] for _ in range(10)]\n",
    "    print(vectors)\n",
    "    # You can also use numpy to generate random vectors:\n",
    "    #   vectors = np.random.rand(10000, _DIM).astype(np.float32)\n",
    "\n",
    "    # Insert vectors into demo_collection, return status and vectors id list\n",
    "    status, ids = milvus.insert(collection_name=collection_name, records=vectors)\n",
    "    if not status.OK():\n",
    "        print(\"Insert failed: {}\".format(status))\n",
    "\n",
    "    # Flush collection  inserted data to disk.\n",
    "    milvus.flush([collection_name])\n",
    "    # Get demo_collection row count\n",
    "    status, result = milvus.count_entities(collection_name)\n",
    "\n",
    "    # present collection statistics info\n",
    "    _, info = milvus.get_collection_stats(collection_name)\n",
    "    print(info)\n",
    "\n",
    "    # Obtain raw vectors by providing vector ids\n",
    "    status, result_vectors = milvus.get_entity_by_id(collection_name, ids[:10])\n",
    "\n",
    "    # create index of vectors, search more rapidly\n",
    "    index_param = {\n",
    "        'nlist': 2048\n",
    "    }\n",
    "\n",
    "    # Create ivflat index in demo_collection\n",
    "    # You can search vectors without creating index. however, Creating index help to\n",
    "    # search faster\n",
    "    print(\"Creating index: {}\".format(index_param))\n",
    "    status = milvus.create_index(collection_name, IndexType.IVF_FLAT, index_param)\n",
    "\n",
    "    # describe index, get information of index\n",
    "    status, index = milvus.get_index_info(collection_name)\n",
    "    print(index)\n",
    "\n",
    "    # Use the top 10 vectors for similarity search\n",
    "    query_vectors = vectors[0:10]\n",
    "\n",
    "    # execute vector similarity search\n",
    "    search_param = {\n",
    "        \"nprobe\": 16\n",
    "    }\n",
    "\n",
    "    print(\"Searching ... \")\n",
    "\n",
    "    param = {\n",
    "        'collection_name': collection_name,\n",
    "        'query_records': query_vectors,\n",
    "        'top_k': 1,\n",
    "        'params': search_param,\n",
    "    }\n",
    "\n",
    "    status, results = milvus.search(**param)\n",
    "    if status.OK():\n",
    "        # indicate search result\n",
    "        # also use by:\n",
    "        #   `results.distance_array[0][0] == 0.0 or results.id_array[0][0] == ids[0]`\n",
    "        if results[0][0].distance == 0.0 or results[0][0].id == ids[0]:\n",
    "            print('Query result is correct')\n",
    "        else:\n",
    "            print('Query result isn\\'t correct')\n",
    "\n",
    "        # print results\n",
    "        print(results)\n",
    "    else:\n",
    "        print(\"Search failed. \", status)\n",
    "\n",
    "    # Delete demo_collection\n",
    "    status = milvus.drop_collection(collection_name)\n",
    "\n",
    "\n",
    "milvus_test()"
   ]
  },
  {
   "cell_type": "code",
   "execution_count": null,
   "id": "4ef6e0b5-1975-422f-9fdd-6e45f2e0917a",
   "metadata": {},
   "outputs": [],
   "source": []
  },
  {
   "cell_type": "markdown",
   "id": "493a4373-3de7-4cff-9b5f-c0b7d0288506",
   "metadata": {},
   "source": [
    "# weaviate"
   ]
  },
  {
   "cell_type": "code",
   "execution_count": 10,
   "id": "27b9d308-face-444b-bf3c-5d3bec0072bb",
   "metadata": {},
   "outputs": [
    {
     "name": "stdout",
     "output_type": "stream",
     "text": [
      "Requirement already satisfied: weaviate-client==3.8.0 in /opt/conda/lib/python3.7/site-packages (3.8.0)\n",
      "Requirement already satisfied: requests<2.28.0,>=2.23.0 in /opt/conda/lib/python3.7/site-packages (from weaviate-client==3.8.0) (2.27.1)\n",
      "Requirement already satisfied: tqdm<5.0.0,>=4.59.0 in /opt/conda/lib/python3.7/site-packages (from weaviate-client==3.8.0) (4.64.0)\n",
      "Requirement already satisfied: validators<0.19.0,>=0.18.2 in /opt/conda/lib/python3.7/site-packages (from weaviate-client==3.8.0) (0.18.2)\n",
      "Requirement already satisfied: certifi>=2017.4.17 in /opt/conda/lib/python3.7/site-packages (from requests<2.28.0,>=2.23.0->weaviate-client==3.8.0) (2022.6.15)\n",
      "Requirement already satisfied: charset-normalizer~=2.0.0 in /opt/conda/lib/python3.7/site-packages (from requests<2.28.0,>=2.23.0->weaviate-client==3.8.0) (2.0.12)\n",
      "Requirement already satisfied: idna<4,>=2.5 in /opt/conda/lib/python3.7/site-packages (from requests<2.28.0,>=2.23.0->weaviate-client==3.8.0) (3.3)\n",
      "Requirement already satisfied: urllib3<1.27,>=1.21.1 in /opt/conda/lib/python3.7/site-packages (from requests<2.28.0,>=2.23.0->weaviate-client==3.8.0) (1.26.9)\n",
      "Requirement already satisfied: six>=1.4.0 in /opt/conda/lib/python3.7/site-packages (from validators<0.19.0,>=0.18.2->weaviate-client==3.8.0) (1.16.0)\n",
      "Requirement already satisfied: decorator>=3.4.0 in /opt/conda/lib/python3.7/site-packages (from validators<0.19.0,>=0.18.2->weaviate-client==3.8.0) (5.1.1)\n"
     ]
    }
   ],
   "source": [
    "#!pip install weaviate-client==3.8.0"
   ]
  },
  {
   "cell_type": "code",
   "execution_count": 12,
   "id": "8f818cf1-ed3b-478f-bf5b-b513043ebcb1",
   "metadata": {},
   "outputs": [],
   "source": [
    "import weaviate\n"
   ]
  },
  {
   "cell_type": "code",
   "execution_count": 13,
   "id": "595ed265-609c-41be-b9f9-eadfb9820a2f",
   "metadata": {},
   "outputs": [],
   "source": [
    "def generate_uuid(class_name: str, identifier: str,\n",
    "                  test: str = 'teststrong') -> str:\n",
    "    \"\"\" Generate a uuid based on an identifier\n",
    "    :param identifier: characters used to generate the uuid\n",
    "    :type identifier: str, required\n",
    "    :param class_name: classname of the object to create a uuid for\n",
    "    :type class_name: str, required\n",
    "    \"\"\"\n",
    "    test = 'overwritten'\n",
    "    return str(uuid.uuid5(uuid.NAMESPACE_DNS, class_name + identifier))\n",
    "\n",
    "def log(i: str) -> str:\n",
    "    \"\"\" A simple logger\n",
    "    :param i: the log message\n",
    "    :type i: str\n",
    "    \"\"\"\n",
    "    now = datetime.datetime.utcnow()\n",
    "    print(now, \"| \" + str(i))"
   ]
  },
  {
   "cell_type": "code",
   "execution_count": 17,
   "id": "0cd92cf1-a8f6-4f71-ab1b-008d17e659b3",
   "metadata": {},
   "outputs": [
    {
     "name": "stdout",
     "output_type": "stream",
     "text": [
      "Client created\n"
     ]
    }
   ],
   "source": [
    "client = weaviate.Client(\"http://localhost:8081\")\n",
    "print(\"Client created\")"
   ]
  },
  {
   "cell_type": "code",
   "execution_count": 18,
   "id": "3645408d-9a51-41b9-aa02-afd549cacdc3",
   "metadata": {},
   "outputs": [],
   "source": [
    "from sentence_transformers import SentenceTransformer\n",
    "sbert_model = SentenceTransformer('bert-base-nli-mean-tokens') #, Initially load using this, then start using pickle to save time."
   ]
  },
  {
   "cell_type": "code",
   "execution_count": 19,
   "id": "b1499af5-7259-4e05-afca-117a12dfb659",
   "metadata": {},
   "outputs": [
    {
     "name": "stdout",
     "output_type": "stream",
     "text": [
      "sbert loaded\n",
      "vectors formed\n",
      "Schema class created\n",
      "Finished importing data\n"
     ]
    }
   ],
   "source": [
    "# from sentence_transformers import SentenceTransformer\n",
    "# # sbert_model = SentenceTransformer('bert-base-nli-mean-tokens'), Initially load using this, then start using pickle to save time.\n",
    "# with open(\"sbert\",'rb') as f:\n",
    "#     sbert_model = pickle.load(f)\n",
    "\n",
    "print(\"sbert loaded\")\n",
    "\n",
    "# I am adding the texts in this list,\n",
    "# We can also add sentences of a large text individually to get more precise results when we query.\n",
    "documents = [\n",
    "    '''Taj mahal is an immense mausoleum of white marble, built in Agra between 1631 and 1648 by order of the Mughal emperor Shah Jahan in memory of his favourite wife, the Taj Mahal is the jewel of Muslim art in India and one of the universally admired masterpieces of the world's heritage.''',\n",
    "    '''The Statue of Liberty is a 305-foot (93-metre) statue located on Liberty Island in Upper New York Bay, off the coast of New York City. The statue is a personification of liberty in the form of a woman. She holds a torch in her raised right hand and clutches a tablet in her left.''',\n",
    "    '''The Statue of Liberty was sculpted between 1875 and 1884 under the direction of French sculptor Frédéric-Auguste Bartholdi, who began drafting designs in 1870. Bartholdi and his team hammered roughly 31 tons of copper sheets onto a steel frame. Before being mounted on its current pedestal, the statue stood over 151 feet (46 metres) tall and weighed 225 tons.''',\n",
    "    '''Badminton is a racquet sport played using racquets to hit a shuttlecock across a net. Although it may be played with larger teams, the most common forms of the game are \"singles\" (with one player per side) and \"doubles\" (with two players per side). Badminton is often played as a casual outdoor activity in a yard or on a beach; formal games are played on a rectangular indoor court. Points are scored by striking the shuttlecock with the racquet and landing it within the opposing side's half of the court.''',\n",
    "    '''James Bond is a fictional character created by novelist Ian Fleming in 1953.''',\n",
    "    '''A British secret agent working for MI6 under the codename 007, he has been portrayed on film by actors Sean Connery, David Niven, George Lazenby, Roger Moore, Timothy Dalton, Pierce Brosnan and Daniel Craig in twenty-seven productions.'''\n",
    "]\n",
    "\n",
    "# A dictionary to store the document and its feature vector (the vector generated by SBERT)\n",
    "doc_and_vec = {}\n",
    "\n",
    "def giveVector(texts):\n",
    "    # this function returns the vector using SBERT\n",
    "    return sbert_model.encode(texts)\n",
    "\n",
    "vectors = giveVector(documents)\n",
    "\n",
    "for doc,vec in zip(documents,vectors):\n",
    "    doc_and_vec[doc] = vec\n",
    "\n",
    "print(\"vectors formed\")\n",
    "\n",
    "client.schema.delete_all()\n",
    "class_obj = {\n",
    "    \"class\": \"Post\",\n",
    "    \"vectorizer\": \"none\", # we are providing the vectors ourselves through our SBERT model, so this field is none\n",
    "    \"properties\": [{\n",
    "        \"name\": \"content\",\n",
    "        \"dataType\": [\"text\"],\n",
    "    }]\n",
    "}\n",
    "\n",
    "client.schema.create_class(class_obj)\n",
    "print(\"Schema class created\")\n",
    "\n",
    "for doc,vec in doc_and_vec.items():\n",
    "    data_obj = {\n",
    "    \"content\": doc\n",
    "    }\n",
    "    client.data_object.create(\n",
    "    data_obj,\n",
    "    \"Post\",\n",
    "    generate_uuid('Post',doc),\n",
    "    vector = vec,\n",
    "    )\n",
    "print(\"Finished importing data\")\n",
    "\n",
    "def process_query(vec):\n",
    "    nearVector = {\"vector\": vec}\n",
    "    res = client.query.get(\"Post\", [\"content\", \"_additional {certainty}\"]).with_near_vector(nearVector).do()\n",
    "    print(res)\n",
    "    print(\"------------------------------------------------------------------------------------------------\")\n",
    "    print(\"-----------------------------------Most similar text -------------------------------------------\")\n",
    "    print(res['data']['Get']['Post'][0]['content'])\n",
    "    print(\"------------------------------------------------------------------------------------------------\")\n",
    "    print(res['data']['Get']['Post'][1]['content'])\n",
    "    print(\"------------------------------------------------------------------------------------------------\")\n",
    "\n",
    "    \n"
   ]
  },
  {
   "cell_type": "code",
   "execution_count": 20,
   "id": "065e4517-d430-48c7-89ae-9cd29c3a31f3",
   "metadata": {},
   "outputs": [
    {
     "name": "stdout",
     "output_type": "stream",
     "text": [
      "{'data': {'Get': {'Post': [{'_additional': {'certainty': 0.6700640916824341}, 'content': \"Taj mahal is an immense mausoleum of white marble, built in Agra between 1631 and 1648 by order of the Mughal emperor Shah Jahan in memory of his favourite wife, the Taj Mahal is the jewel of Muslim art in India and one of the universally admired masterpieces of the world's heritage.\"}, {'_additional': {'certainty': 0.6459582149982452}, 'content': 'A British secret agent working for MI6 under the codename 007, he has been portrayed on film by actors Sean Connery, David Niven, George Lazenby, Roger Moore, Timothy Dalton, Pierce Brosnan and Daniel Craig in twenty-seven productions.'}, {'_additional': {'certainty': 0.6445140540599823}, 'content': 'James Bond is a fictional character created by novelist Ian Fleming in 1953.'}, {'_additional': {'certainty': 0.6366377472877502}, 'content': 'The Statue of Liberty is a 305-foot (93-metre) statue located on Liberty Island in Upper New York Bay, off the coast of New York City. The statue is a personification of liberty in the form of a woman. She holds a torch in her raised right hand and clutches a tablet in her left.'}, {'_additional': {'certainty': 0.6021522283554077}, 'content': 'Badminton is a racquet sport played using racquets to hit a shuttlecock across a net. Although it may be played with larger teams, the most common forms of the game are \"singles\" (with one player per side) and \"doubles\" (with two players per side). Badminton is often played as a casual outdoor activity in a yard or on a beach; formal games are played on a rectangular indoor court. Points are scored by striking the shuttlecock with the racquet and landing it within the opposing side\\'s half of the court.'}, {'_additional': {'certainty': 0.5982308983802795}, 'content': 'The Statue of Liberty was sculpted between 1875 and 1884 under the direction of French sculptor Frédéric-Auguste Bartholdi, who began drafting designs in 1870. Bartholdi and his team hammered roughly 31 tons of copper sheets onto a steel frame. Before being mounted on its current pedestal, the statue stood over 151 feet (46 metres) tall and weighed 225 tons.'}]}}}\n",
      "------------------------------------------------------------------------------------------------\n",
      "-----------------------------------Most similar text -------------------------------------------\n",
      "Taj mahal is an immense mausoleum of white marble, built in Agra between 1631 and 1648 by order of the Mughal emperor Shah Jahan in memory of his favourite wife, the Taj Mahal is the jewel of Muslim art in India and one of the universally admired masterpieces of the world's heritage.\n",
      "------------------------------------------------------------------------------------------------\n",
      "A British secret agent working for MI6 under the codename 007, he has been portrayed on film by actors Sean Connery, David Niven, George Lazenby, Roger Moore, Timothy Dalton, Pierce Brosnan and Daniel Craig in twenty-seven productions.\n",
      "------------------------------------------------------------------------------------------------\n"
     ]
    }
   ],
   "source": [
    "query =\"american tourist destination\"\n",
    "query_vec = sbert_model.encode(query)\n",
    "process_query(query_vec)\n"
   ]
  },
  {
   "cell_type": "code",
   "execution_count": null,
   "id": "1a232068-a38a-490b-a329-d5b5e773174b",
   "metadata": {},
   "outputs": [],
   "source": []
  }
 ],
 "metadata": {
  "environment": {
   "kernel": "stackoverflow",
   "name": "pytorch-gpu.1-11.m94",
   "type": "gcloud",
   "uri": "gcr.io/deeplearning-platform-release/pytorch-gpu.1-11:m94"
  },
  "kernelspec": {
   "display_name": "Python (stackoverflow)",
   "language": "python",
   "name": "stackoverflow"
  },
  "language_info": {
   "codemirror_mode": {
    "name": "ipython",
    "version": 3
   },
   "file_extension": ".py",
   "mimetype": "text/x-python",
   "name": "python",
   "nbconvert_exporter": "python",
   "pygments_lexer": "ipython3",
   "version": "3.8.13"
  }
 },
 "nbformat": 4,
 "nbformat_minor": 5
}
