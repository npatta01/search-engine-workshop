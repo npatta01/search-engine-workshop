{
 "cells": [
  {
   "cell_type": "code",
   "execution_count": 4,
   "id": "ad224cf0-176b-4460-afc0-03f0aacdfe71",
   "metadata": {},
   "outputs": [],
   "source": [
    "import datetime\n",
    "import pickle\n",
    "import uuid\n",
    "import datetime\n",
    "import numpy as np\n",
    "import time"
   ]
  },
  {
   "cell_type": "code",
   "execution_count": null,
   "id": "9d7d74e6-1472-4f92-b582-fb74683a252e",
   "metadata": {},
   "outputs": [],
   "source": []
  },
  {
   "cell_type": "markdown",
   "id": "aae437e9-d66c-44a8-ab44-4523f7abb5b1",
   "metadata": {},
   "source": [
    "# Elastic Search"
   ]
  },
  {
   "cell_type": "code",
   "execution_count": null,
   "id": "b7831c3d-d97c-4027-bfbd-26b4f672b003",
   "metadata": {},
   "outputs": [],
   "source": [
    "import elasticsearch"
   ]
  },
  {
   "cell_type": "code",
   "execution_count": null,
   "id": "69aff282-e9b0-466b-b828-87b69e3dcbc1",
   "metadata": {},
   "outputs": [],
   "source": [
    "elasticsearch.__version__"
   ]
  },
  {
   "cell_type": "code",
   "execution_count": null,
   "id": "07c82415-1cd2-43e8-a88c-626eac3dea04",
   "metadata": {},
   "outputs": [],
   "source": [
    "from elasticsearch import Elasticsearch"
   ]
  },
  {
   "cell_type": "code",
   "execution_count": null,
   "id": "5e2563f6-5723-4aa6-a120-f4764c4d8b07",
   "metadata": {},
   "outputs": [],
   "source": [
    "es = Elasticsearch(hosts=\"http://localhost:9200\" , verify_certs=False)"
   ]
  },
  {
   "cell_type": "code",
   "execution_count": null,
   "id": "4f00be9b-8c7d-4993-9a75-2ed9f5a94b37",
   "metadata": {},
   "outputs": [],
   "source": [
    "index_name = \"test-index\""
   ]
  },
  {
   "cell_type": "code",
   "execution_count": null,
   "id": "056b1007-5cc8-4a40-ab59-ffda53e269d2",
   "metadata": {},
   "outputs": [],
   "source": [
    "doc = {\n",
    "    'author': 'kimchy',\n",
    "    'text': 'Elasticsearch: cool. bonsai cool.',\n",
    "    'timestamp': datetime.datetime.now(),\n",
    "}"
   ]
  },
  {
   "cell_type": "code",
   "execution_count": null,
   "id": "e994e955-f3ea-47f4-95e6-994390e5403e",
   "metadata": {},
   "outputs": [],
   "source": [
    "resp = es.index(index=index_name, id=1, document=doc)\n"
   ]
  },
  {
   "cell_type": "code",
   "execution_count": null,
   "id": "6ecf186b-458a-4bf6-9ed1-ff1030b72f50",
   "metadata": {},
   "outputs": [],
   "source": [
    "print(resp['result'])\n",
    "\n",
    "resp = es.get(index=index_name, id=1)\n",
    "print(resp['_source'])\n",
    "\n",
    "es.indices.refresh(index=index_name)\n",
    "\n",
    "resp = es.search(index=index_name, query={\"match_all\": {}})\n",
    "print(\"Got %d Hits:\" % resp['hits']['total']['value'])\n",
    "for hit in resp['hits']['hits']:\n",
    "    print(\"%(timestamp)s %(author)s: %(text)s\" % hit[\"_source\"])"
   ]
  },
  {
   "cell_type": "code",
   "execution_count": null,
   "id": "ec1b445b-6cc5-458d-bc9b-5b371c82d1a5",
   "metadata": {},
   "outputs": [],
   "source": []
  },
  {
   "cell_type": "markdown",
   "id": "60b56f57-6430-4749-b602-77e566bf51ad",
   "metadata": {},
   "source": [
    "# Milvus v1"
   ]
  },
  {
   "cell_type": "code",
   "execution_count": null,
   "id": "3b9a8da0-7d1d-4ffa-a53e-48cff8f724bb",
   "metadata": {},
   "outputs": [],
   "source": [
    "# # https://raw.githubusercontent.com/milvus-io/pymilvus/v1.1.2/examples/example.py\n",
    "# # This program demos how to connect to Milvus vector database, \n",
    "# # create a vector collection,\n",
    "# # insert 10 vectors, \n",
    "# # and execute a vector similarity search.\n",
    "\n",
    "# import random\n",
    "\n",
    "# from milvus import Milvus, IndexType, MetricType, Status\n",
    "\n",
    "# # Milvus server IP address and port.\n",
    "# # You may need to change _HOST and _PORT accordingly.\n",
    "# _HOST = '127.0.0.1'\n",
    "# _PORT = '19530'  # default value\n",
    "# # _PORT = '19121'  # default http value\n",
    "\n",
    "# # Vector parameters\n",
    "# _DIM = 8  # dimension of vector\n",
    "\n",
    "# _INDEX_FILE_SIZE = 32  # max file size of stored index\n",
    "\n",
    "\n",
    "# def milvus_test():\n",
    "#     # Specify server addr when create milvus client instance\n",
    "#     # milvus client instance maintain a connection pool, param\n",
    "#     # `pool_size` specify the max connection num.\n",
    "#     milvus = Milvus(_HOST, _PORT)\n",
    "\n",
    "#     # Create collection demo_collection if it dosen't exist.\n",
    "#     collection_name = 'test_collection_'\n",
    "\n",
    "#     status, ok = milvus.has_collection(collection_name)\n",
    "#     if not ok:\n",
    "#         param = {\n",
    "#             'collection_name': collection_name,\n",
    "#             'dimension': _DIM,\n",
    "#             'index_file_size': _INDEX_FILE_SIZE,  # optional\n",
    "#             'metric_type': MetricType.L2  # optional\n",
    "#         }\n",
    "\n",
    "#         milvus.create_collection(param)\n",
    "\n",
    "#     # Show collections in Milvus server\n",
    "#     _, collections = milvus.list_collections()\n",
    "\n",
    "#     # Describe demo_collection\n",
    "#     _, collection = milvus.get_collection_info(collection_name)\n",
    "#     print(collection)\n",
    "\n",
    "#     # 10000 vectors with 128 dimension\n",
    "#     # element per dimension is float32 type\n",
    "#     # vectors should be a 2-D array\n",
    "#     vectors = [[random.random() for _ in range(_DIM)] for _ in range(10)]\n",
    "#     print(vectors)\n",
    "#     # You can also use numpy to generate random vectors:\n",
    "#     #   vectors = np.random.rand(10000, _DIM).astype(np.float32)\n",
    "\n",
    "#     # Insert vectors into demo_collection, return status and vectors id list\n",
    "#     status, ids = milvus.insert(collection_name=collection_name, records=vectors)\n",
    "#     if not status.OK():\n",
    "#         print(\"Insert failed: {}\".format(status))\n",
    "\n",
    "#     # Flush collection  inserted data to disk.\n",
    "#     milvus.flush([collection_name])\n",
    "#     # Get demo_collection row count\n",
    "#     status, result = milvus.count_entities(collection_name)\n",
    "\n",
    "#     # present collection statistics info\n",
    "#     _, info = milvus.get_collection_stats(collection_name)\n",
    "#     print(info)\n",
    "\n",
    "#     # Obtain raw vectors by providing vector ids\n",
    "#     status, result_vectors = milvus.get_entity_by_id(collection_name, ids[:10])\n",
    "\n",
    "#     # create index of vectors, search more rapidly\n",
    "#     index_param = {\n",
    "#         'nlist': 2048\n",
    "#     }\n",
    "\n",
    "#     # Create ivflat index in demo_collection\n",
    "#     # You can search vectors without creating index. however, Creating index help to\n",
    "#     # search faster\n",
    "#     print(\"Creating index: {}\".format(index_param))\n",
    "#     status = milvus.create_index(collection_name, IndexType.IVF_FLAT, index_param)\n",
    "\n",
    "#     # describe index, get information of index\n",
    "#     status, index = milvus.get_index_info(collection_name)\n",
    "#     print(index)\n",
    "\n",
    "#     # Use the top 10 vectors for similarity search\n",
    "#     query_vectors = vectors[0:10]\n",
    "\n",
    "#     # execute vector similarity search\n",
    "#     search_param = {\n",
    "#         \"nprobe\": 16\n",
    "#     }\n",
    "\n",
    "#     print(\"Searching ... \")\n",
    "\n",
    "#     param = {\n",
    "#         'collection_name': collection_name,\n",
    "#         'query_records': query_vectors,\n",
    "#         'top_k': 1,\n",
    "#         'params': search_param,\n",
    "#     }\n",
    "\n",
    "#     status, results = milvus.search(**param)\n",
    "#     if status.OK():\n",
    "#         # indicate search result\n",
    "#         # also use by:\n",
    "#         #   `results.distance_array[0][0] == 0.0 or results.id_array[0][0] == ids[0]`\n",
    "#         if results[0][0].distance == 0.0 or results[0][0].id == ids[0]:\n",
    "#             print('Query result is correct')\n",
    "#         else:\n",
    "#             print('Query result isn\\'t correct')\n",
    "\n",
    "#         # print results\n",
    "#         print(results)\n",
    "#     else:\n",
    "#         print(\"Search failed. \", status)\n",
    "\n",
    "#     # Delete demo_collection\n",
    "#     status = milvus.drop_collection(collection_name)\n",
    "\n",
    "\n",
    "# milvus_test()"
   ]
  },
  {
   "cell_type": "markdown",
   "id": "cf0dd18f-8fde-4a72-b226-f58ab22c4520",
   "metadata": {},
   "source": [
    "# Milvus"
   ]
  },
  {
   "cell_type": "markdown",
   "id": "53965619-9c81-472e-9110-7c4e2b1cc3a7",
   "metadata": {},
   "source": [
    "https://github.com/milvus-io/pymilvus/blob/master/examples/hello_milvus.ipynb"
   ]
  },
  {
   "cell_type": "code",
   "execution_count": 5,
   "id": "8c384da7-3a72-4b9e-bacf-4e188af6a3b4",
   "metadata": {},
   "outputs": [],
   "source": [
    "from pymilvus import (\n",
    "    connections,\n",
    "    utility,\n",
    "    FieldSchema, CollectionSchema, DataType,\n",
    "    Collection,\n",
    ")\n"
   ]
  },
  {
   "cell_type": "code",
   "execution_count": 6,
   "id": "c4c65116-21fa-46da-ba1c-231bf2a7569a",
   "metadata": {},
   "outputs": [],
   "source": [
    "num_entities, dim = 3000, 8\n"
   ]
  },
  {
   "cell_type": "code",
   "execution_count": 7,
   "id": "ee5a1a32-5735-4951-8724-9a773d036ea6",
   "metadata": {},
   "outputs": [],
   "source": [
    "collection_name=\"hello_milvus\""
   ]
  },
  {
   "cell_type": "code",
   "execution_count": 8,
   "id": "e92ce9b8-cbb3-42d2-ad8b-791d21729d3c",
   "metadata": {},
   "outputs": [
    {
     "name": "stdout",
     "output_type": "stream",
     "text": [
      "00_data_fetch_bq.ipynb\t\t02_indexing_faiss__old.ipynb\n",
      "00_data_fetch_spark.ipynb\t03_searching_es.ipynb\n",
      "01_b_setup.ipynb\t\tUntitled.ipynb\n",
      "01_data_cleanup.ipynb\t\tfaiss_document_store.db\n",
      "02_indexing_es.ipynb\t\told\n",
      "02_indexing_es__old.ipynb\ttest_setup.ipynb\n",
      "02_indexing_es_dask__old.ipynb\tuntitled.txt\n",
      "02_indexing_faiss.ipynb\n"
     ]
    }
   ],
   "source": [
    "!ls"
   ]
  },
  {
   "cell_type": "code",
   "execution_count": 9,
   "id": "55e5a4ad-9150-4b86-9cb6-f968b7fe51fd",
   "metadata": {},
   "outputs": [],
   "source": [
    "connections.connect(\"default\", host=\"localhost\", port=\"19530\")\n"
   ]
  },
  {
   "cell_type": "code",
   "execution_count": 10,
   "id": "ae3415ca-a52f-4319-b20c-d08f49bd06e7",
   "metadata": {},
   "outputs": [],
   "source": [
    "utility.drop_collection(collection_name)"
   ]
  },
  {
   "cell_type": "code",
   "execution_count": 11,
   "id": "a4324ba0-4050-4b3c-9ba6-6e591177509d",
   "metadata": {},
   "outputs": [
    {
     "data": {
      "text/plain": [
       "['stackoverflow']"
      ]
     },
     "execution_count": 11,
     "metadata": {},
     "output_type": "execute_result"
    }
   ],
   "source": [
    "utility.list_collections()"
   ]
  },
  {
   "cell_type": "markdown",
   "id": "c070eb28-fa18-43ad-a2de-1067b2476274",
   "metadata": {},
   "source": [
    "create collection"
   ]
  },
  {
   "cell_type": "code",
   "execution_count": 12,
   "id": "5e08cee9-e957-44b5-856f-c4549faa7b86",
   "metadata": {},
   "outputs": [],
   "source": [
    "fields = [\n",
    "    FieldSchema(name=\"pk\", dtype=DataType.VARCHAR, is_primary=True, auto_id=False, max_length=100),\n",
    "    FieldSchema(name=\"random\", dtype=DataType.DOUBLE),\n",
    "    FieldSchema(name=\"embeddings\", dtype=DataType.FLOAT_VECTOR, dim=dim)\n",
    "]\n",
    "\n",
    "schema = CollectionSchema(fields, \"hello_milvus is the simplest demo to introduce the APIs\")\n",
    "\n",
    "hello_milvus = Collection(collection_name, schema, consistency_level=\"Strong\")"
   ]
  },
  {
   "cell_type": "code",
   "execution_count": null,
   "id": "8eff6925-4089-46c3-ae03-00fc748c3135",
   "metadata": {},
   "outputs": [],
   "source": []
  },
  {
   "cell_type": "code",
   "execution_count": 13,
   "id": "99ee18c0-fb04-4970-8ba5-e36eca35680a",
   "metadata": {},
   "outputs": [
    {
     "name": "stdout",
     "output_type": "stream",
     "text": [
      "Number of entities in Milvus: 3000\n"
     ]
    }
   ],
   "source": [
    "rng = np.random.default_rng(seed=19530)\n",
    "entities = [\n",
    "    # provide the pk field because `auto_id` is set to False\n",
    "    [str(i) for i in range(num_entities)],\n",
    "    rng.random(num_entities).tolist(),  # field random, only supports list\n",
    "    rng.random((num_entities, dim)),    # field embeddings, supports numpy.ndarray and list\n",
    "]\n",
    "\n",
    "insert_result = hello_milvus.insert(entities)\n",
    "\n",
    "print(f\"Number of entities in Milvus: {hello_milvus.num_entities}\")  # check the num_entites"
   ]
  },
  {
   "cell_type": "code",
   "execution_count": null,
   "id": "ede3539d-e940-458d-a7d9-6c345178f357",
   "metadata": {},
   "outputs": [],
   "source": []
  },
  {
   "cell_type": "code",
   "execution_count": 14,
   "id": "c272a614-8baa-4b3f-b77d-499aa30760d7",
   "metadata": {},
   "outputs": [
    {
     "data": {
      "text/plain": [
       "Status(code=0, message='')"
      ]
     },
     "execution_count": 14,
     "metadata": {},
     "output_type": "execute_result"
    }
   ],
   "source": [
    "index = {\n",
    "    \"index_type\": \"IVF_FLAT\",\n",
    "    \"metric_type\": \"L2\",\n",
    "    \"params\": {\"nlist\": 128},\n",
    "}\n",
    "\n",
    "hello_milvus.create_index(\"embeddings\", index)"
   ]
  },
  {
   "cell_type": "code",
   "execution_count": 15,
   "id": "b2865bb6-854a-41a3-97f1-98634f9b57e4",
   "metadata": {},
   "outputs": [],
   "source": [
    "hello_milvus.load()\n"
   ]
  },
  {
   "cell_type": "code",
   "execution_count": 21,
   "id": "0e8e8b2f-a00e-49a0-bbc9-cb99fecb0e7a",
   "metadata": {},
   "outputs": [
    {
     "name": "stdout",
     "output_type": "stream",
     "text": [
      "hit: (distance: 0.0, id: 2998), random field: 0.9728033590489911\n",
      "hit: (distance: 0.08883658051490784, id: 1262), random field: 0.2978858685751561\n",
      "hit: (distance: 0.09590047597885132, id: 1265), random field: 0.3042039939240304\n",
      "hit: (distance: 0.0, id: 2999), random field: 0.02316334456872482\n",
      "hit: (distance: 0.05628091096878052, id: 1580), random field: 0.3855988746044062\n",
      "hit: (distance: 0.08096685260534286, id: 2377), random field: 0.8745922204004368\n",
      "0.14859318733215332\n"
     ]
    }
   ],
   "source": [
    "vectors_to_search = entities[-1][-2:]\n",
    "search_params = {\n",
    "    \"metric_type\": \"L2\",\n",
    "    \"params\": {\"nprobe\": 10},\n",
    "}\n",
    "\n",
    "start_time = time.time()\n",
    "result = hello_milvus.search(vectors_to_search, \"embeddings\", search_params, limit=3, output_fields=[\"random\"])\n",
    "end_time = time.time()\n",
    "\n",
    "for hits in result:\n",
    "    for hit in hits:\n",
    "        print(f\"hit: {hit}, random field: {hit.entity.get('random')}\")\n",
    "print((end_time - start_time))"
   ]
  },
  {
   "cell_type": "code",
   "execution_count": null,
   "id": "385d0057-cc9e-4ee3-834e-bec4675cbb96",
   "metadata": {},
   "outputs": [],
   "source": []
  },
  {
   "cell_type": "code",
   "execution_count": null,
   "id": "70601713-0913-4ccc-9efd-9058397d1266",
   "metadata": {},
   "outputs": [],
   "source": []
  },
  {
   "cell_type": "code",
   "execution_count": 30,
   "id": "10081da3-c407-40e9-a258-e7eb3fdeecb8",
   "metadata": {},
   "outputs": [
    {
     "data": {
      "text/plain": [
       "\u001b[0;31mSignature:\u001b[0m \u001b[0mhello_milvus\u001b[0m\u001b[0;34m.\u001b[0m\u001b[0minsert\u001b[0m\u001b[0;34m(\u001b[0m\u001b[0mdata\u001b[0m\u001b[0;34m,\u001b[0m \u001b[0mpartition_name\u001b[0m\u001b[0;34m=\u001b[0m\u001b[0;32mNone\u001b[0m\u001b[0;34m,\u001b[0m \u001b[0mtimeout\u001b[0m\u001b[0;34m=\u001b[0m\u001b[0;32mNone\u001b[0m\u001b[0;34m,\u001b[0m \u001b[0;34m**\u001b[0m\u001b[0mkwargs\u001b[0m\u001b[0;34m)\u001b[0m\u001b[0;34m\u001b[0m\u001b[0;34m\u001b[0m\u001b[0m\n",
       "\u001b[0;31mSource:\u001b[0m   \n",
       "    \u001b[0;32mdef\u001b[0m \u001b[0minsert\u001b[0m\u001b[0;34m(\u001b[0m\u001b[0mself\u001b[0m\u001b[0;34m,\u001b[0m \u001b[0mdata\u001b[0m\u001b[0;34m,\u001b[0m \u001b[0mpartition_name\u001b[0m\u001b[0;34m=\u001b[0m\u001b[0;32mNone\u001b[0m\u001b[0;34m,\u001b[0m \u001b[0mtimeout\u001b[0m\u001b[0;34m=\u001b[0m\u001b[0;32mNone\u001b[0m\u001b[0;34m,\u001b[0m \u001b[0;34m**\u001b[0m\u001b[0mkwargs\u001b[0m\u001b[0;34m)\u001b[0m\u001b[0;34m:\u001b[0m\u001b[0;34m\u001b[0m\n",
       "\u001b[0;34m\u001b[0m        \u001b[0;34m\"\"\"\u001b[0m\n",
       "\u001b[0;34m        Insert data into the collection.\u001b[0m\n",
       "\u001b[0;34m\u001b[0m\n",
       "\u001b[0;34m        :param data: The specified data to insert, the dimension of data needs to align with column\u001b[0m\n",
       "\u001b[0;34m                     number\u001b[0m\n",
       "\u001b[0;34m        :type  data: list-like(list, tuple) object or pandas.DataFrame\u001b[0m\n",
       "\u001b[0;34m        :param partition_name: The partition name which the data will be inserted to, if partition\u001b[0m\n",
       "\u001b[0;34m                               name is not passed, then the data will be inserted to \"_default\"\u001b[0m\n",
       "\u001b[0;34m                               partition\u001b[0m\n",
       "\u001b[0;34m        :type partition_name: str\u001b[0m\n",
       "\u001b[0;34m\u001b[0m\n",
       "\u001b[0;34m        :param timeout:\u001b[0m\n",
       "\u001b[0;34m            * *timeout* (``float``) --\u001b[0m\n",
       "\u001b[0;34m              An optional duration of time in seconds to allow for the RPC. If timeout\u001b[0m\n",
       "\u001b[0;34m              is set to None, the client keeps waiting until the server responds or an error occurs.\u001b[0m\n",
       "\u001b[0;34m\u001b[0m\n",
       "\u001b[0;34m        :return: A MutationResult object contains a property named `insert_count` represents how many\u001b[0m\n",
       "\u001b[0;34m        entities have been inserted into milvus and a property named `primary_keys` is a list of primary\u001b[0m\n",
       "\u001b[0;34m        keys of the inserted entities.\u001b[0m\n",
       "\u001b[0;34m        :rtype: MutationResult\u001b[0m\n",
       "\u001b[0;34m\u001b[0m\n",
       "\u001b[0;34m        :raises CollectionNotExistException: If the specified collection does not exist.\u001b[0m\n",
       "\u001b[0;34m        :raises ParamError: If input parameters are invalid.\u001b[0m\n",
       "\u001b[0;34m        :raises BaseException: If the specified partition does not exist.\u001b[0m\n",
       "\u001b[0;34m\u001b[0m\n",
       "\u001b[0;34m        :example:\u001b[0m\n",
       "\u001b[0;34m            >>> from pymilvus import connections, Collection, FieldSchema, CollectionSchema, DataType\u001b[0m\n",
       "\u001b[0;34m            >>> import random\u001b[0m\n",
       "\u001b[0;34m            >>> connections.connect()\u001b[0m\n",
       "\u001b[0;34m            <pymilvus.client.stub.Milvus object at 0x7f8579002dc0>\u001b[0m\n",
       "\u001b[0;34m            >>> schema = CollectionSchema([\u001b[0m\n",
       "\u001b[0;34m            ...     FieldSchema(\"film_id\", DataType.INT64, is_primary=True),\u001b[0m\n",
       "\u001b[0;34m            ...     FieldSchema(\"films\", dtype=DataType.FLOAT_VECTOR, dim=2)\u001b[0m\n",
       "\u001b[0;34m            ... ])\u001b[0m\n",
       "\u001b[0;34m            >>> collection = Collection(\"test_collection_insert\", schema)\u001b[0m\n",
       "\u001b[0;34m            >>> data = [\u001b[0m\n",
       "\u001b[0;34m            ...     [random.randint(1, 100) for _ in range(10)],\u001b[0m\n",
       "\u001b[0;34m            ...     [[random.random() for _ in range(2)] for _ in range(10)],\u001b[0m\n",
       "\u001b[0;34m            ... ]\u001b[0m\n",
       "\u001b[0;34m            >>> collection.insert(data)\u001b[0m\n",
       "\u001b[0;34m            >>> collection.num_entities\u001b[0m\n",
       "\u001b[0;34m            10\u001b[0m\n",
       "\u001b[0;34m        \"\"\"\u001b[0m\u001b[0;34m\u001b[0m\n",
       "\u001b[0;34m\u001b[0m        \u001b[0;32mif\u001b[0m \u001b[0mdata\u001b[0m \u001b[0;32mis\u001b[0m \u001b[0;32mNone\u001b[0m\u001b[0;34m:\u001b[0m\u001b[0;34m\u001b[0m\n",
       "\u001b[0;34m\u001b[0m            \u001b[0;32mreturn\u001b[0m \u001b[0mMutationResult\u001b[0m\u001b[0;34m(\u001b[0m\u001b[0mdata\u001b[0m\u001b[0;34m)\u001b[0m\u001b[0;34m\u001b[0m\n",
       "\u001b[0;34m\u001b[0m        \u001b[0;32mif\u001b[0m \u001b[0;32mnot\u001b[0m \u001b[0mself\u001b[0m\u001b[0;34m.\u001b[0m\u001b[0m_check_insert_data_schema\u001b[0m\u001b[0;34m(\u001b[0m\u001b[0mdata\u001b[0m\u001b[0;34m)\u001b[0m\u001b[0;34m:\u001b[0m\u001b[0;34m\u001b[0m\n",
       "\u001b[0;34m\u001b[0m            \u001b[0;32mraise\u001b[0m \u001b[0mSchemaNotReadyException\u001b[0m\u001b[0;34m(\u001b[0m\u001b[0;36m0\u001b[0m\u001b[0;34m,\u001b[0m \u001b[0mExceptionsMessage\u001b[0m\u001b[0;34m.\u001b[0m\u001b[0mTypeOfDataAndSchemaInconsistent\u001b[0m\u001b[0;34m)\u001b[0m\u001b[0;34m\u001b[0m\n",
       "\u001b[0;34m\u001b[0m        \u001b[0mconn\u001b[0m \u001b[0;34m=\u001b[0m \u001b[0mself\u001b[0m\u001b[0;34m.\u001b[0m\u001b[0m_get_connection\u001b[0m\u001b[0;34m(\u001b[0m\u001b[0;34m)\u001b[0m\u001b[0;34m\u001b[0m\n",
       "\u001b[0;34m\u001b[0m        \u001b[0mentities\u001b[0m \u001b[0;34m=\u001b[0m \u001b[0mPrepare\u001b[0m\u001b[0;34m.\u001b[0m\u001b[0mprepare_insert_data\u001b[0m\u001b[0;34m(\u001b[0m\u001b[0mdata\u001b[0m\u001b[0;34m,\u001b[0m \u001b[0mself\u001b[0m\u001b[0;34m.\u001b[0m\u001b[0m_schema\u001b[0m\u001b[0;34m)\u001b[0m\u001b[0;34m\u001b[0m\n",
       "\u001b[0;34m\u001b[0m        \u001b[0mschema_dict\u001b[0m \u001b[0;34m=\u001b[0m \u001b[0mself\u001b[0m\u001b[0;34m.\u001b[0m\u001b[0m_schema\u001b[0m\u001b[0;34m.\u001b[0m\u001b[0mto_dict\u001b[0m\u001b[0;34m(\u001b[0m\u001b[0;34m)\u001b[0m\u001b[0;34m\u001b[0m\n",
       "\u001b[0;34m\u001b[0m        \u001b[0mschema_dict\u001b[0m\u001b[0;34m[\u001b[0m\u001b[0;34m\"consistency_level\"\u001b[0m\u001b[0;34m]\u001b[0m \u001b[0;34m=\u001b[0m \u001b[0mself\u001b[0m\u001b[0;34m.\u001b[0m\u001b[0m_consistency_level\u001b[0m\u001b[0;34m\u001b[0m\n",
       "\u001b[0;34m\u001b[0m        \u001b[0mres\u001b[0m \u001b[0;34m=\u001b[0m \u001b[0mconn\u001b[0m\u001b[0;34m.\u001b[0m\u001b[0mbulk_insert\u001b[0m\u001b[0;34m(\u001b[0m\u001b[0mself\u001b[0m\u001b[0;34m.\u001b[0m\u001b[0m_name\u001b[0m\u001b[0;34m,\u001b[0m \u001b[0mentities\u001b[0m\u001b[0;34m,\u001b[0m \u001b[0mpartition_name\u001b[0m\u001b[0;34m,\u001b[0m \u001b[0mids\u001b[0m\u001b[0;34m=\u001b[0m\u001b[0;32mNone\u001b[0m\u001b[0;34m,\u001b[0m \u001b[0mtimeout\u001b[0m\u001b[0;34m=\u001b[0m\u001b[0mtimeout\u001b[0m\u001b[0;34m,\u001b[0m \u001b[0mschema\u001b[0m\u001b[0;34m=\u001b[0m\u001b[0mschema_dict\u001b[0m\u001b[0;34m,\u001b[0m \u001b[0;34m**\u001b[0m\u001b[0mkwargs\u001b[0m\u001b[0;34m)\u001b[0m\u001b[0;34m\u001b[0m\n",
       "\u001b[0;34m\u001b[0m\u001b[0;34m\u001b[0m\n",
       "\u001b[0;34m\u001b[0m        \u001b[0;32mif\u001b[0m \u001b[0mkwargs\u001b[0m\u001b[0;34m.\u001b[0m\u001b[0mget\u001b[0m\u001b[0;34m(\u001b[0m\u001b[0;34m\"_async\"\u001b[0m\u001b[0;34m,\u001b[0m \u001b[0;32mFalse\u001b[0m\u001b[0;34m)\u001b[0m\u001b[0;34m:\u001b[0m\u001b[0;34m\u001b[0m\n",
       "\u001b[0;34m\u001b[0m            \u001b[0;32mreturn\u001b[0m \u001b[0mMutationFuture\u001b[0m\u001b[0;34m(\u001b[0m\u001b[0mres\u001b[0m\u001b[0;34m)\u001b[0m\u001b[0;34m\u001b[0m\n",
       "\u001b[0;34m\u001b[0m        \u001b[0;32mreturn\u001b[0m \u001b[0mMutationResult\u001b[0m\u001b[0;34m(\u001b[0m\u001b[0mres\u001b[0m\u001b[0;34m)\u001b[0m\u001b[0;34m\u001b[0m\u001b[0;34m\u001b[0m\u001b[0m\n",
       "\u001b[0;31mFile:\u001b[0m      /opt/conda/envs/stackoverflow/lib/python3.8/site-packages/pymilvus/orm/collection.py\n",
       "\u001b[0;31mType:\u001b[0m      method\n"
      ]
     },
     "metadata": {},
     "output_type": "display_data"
    }
   ],
   "source": [
    "??hello_milvus.insert"
   ]
  },
  {
   "cell_type": "code",
   "execution_count": null,
   "id": "4ef6e0b5-1975-422f-9fdd-6e45f2e0917a",
   "metadata": {},
   "outputs": [],
   "source": []
  },
  {
   "cell_type": "markdown",
   "id": "493a4373-3de7-4cff-9b5f-c0b7d0288506",
   "metadata": {},
   "source": [
    "# weaviate"
   ]
  },
  {
   "cell_type": "code",
   "execution_count": null,
   "id": "27b9d308-face-444b-bf3c-5d3bec0072bb",
   "metadata": {},
   "outputs": [],
   "source": [
    "#!pip install weaviate-client==3.8.0"
   ]
  },
  {
   "cell_type": "code",
   "execution_count": null,
   "id": "8f818cf1-ed3b-478f-bf5b-b513043ebcb1",
   "metadata": {},
   "outputs": [],
   "source": [
    "import weaviate\n"
   ]
  },
  {
   "cell_type": "code",
   "execution_count": null,
   "id": "595ed265-609c-41be-b9f9-eadfb9820a2f",
   "metadata": {},
   "outputs": [],
   "source": [
    "def generate_uuid(class_name: str, identifier: str,\n",
    "                  test: str = 'teststrong') -> str:\n",
    "    \"\"\" Generate a uuid based on an identifier\n",
    "    :param identifier: characters used to generate the uuid\n",
    "    :type identifier: str, required\n",
    "    :param class_name: classname of the object to create a uuid for\n",
    "    :type class_name: str, required\n",
    "    \"\"\"\n",
    "    test = 'overwritten'\n",
    "    return str(uuid.uuid5(uuid.NAMESPACE_DNS, class_name + identifier))\n",
    "\n",
    "def log(i: str) -> str:\n",
    "    \"\"\" A simple logger\n",
    "    :param i: the log message\n",
    "    :type i: str\n",
    "    \"\"\"\n",
    "    now = datetime.datetime.utcnow()\n",
    "    print(now, \"| \" + str(i))"
   ]
  },
  {
   "cell_type": "code",
   "execution_count": null,
   "id": "0cd92cf1-a8f6-4f71-ab1b-008d17e659b3",
   "metadata": {},
   "outputs": [],
   "source": [
    "client = weaviate.Client(\"http://localhost:8081\")\n",
    "print(\"Client created\")"
   ]
  },
  {
   "cell_type": "code",
   "execution_count": null,
   "id": "3645408d-9a51-41b9-aa02-afd549cacdc3",
   "metadata": {},
   "outputs": [],
   "source": [
    "from sentence_transformers import SentenceTransformer\n",
    "sbert_model = SentenceTransformer('bert-base-nli-mean-tokens') #, Initially load using this, then start using pickle to save time."
   ]
  },
  {
   "cell_type": "code",
   "execution_count": null,
   "id": "b1499af5-7259-4e05-afca-117a12dfb659",
   "metadata": {},
   "outputs": [],
   "source": [
    "# from sentence_transformers import SentenceTransformer\n",
    "# # sbert_model = SentenceTransformer('bert-base-nli-mean-tokens'), Initially load using this, then start using pickle to save time.\n",
    "# with open(\"sbert\",'rb') as f:\n",
    "#     sbert_model = pickle.load(f)\n",
    "\n",
    "print(\"sbert loaded\")\n",
    "\n",
    "# I am adding the texts in this list,\n",
    "# We can also add sentences of a large text individually to get more precise results when we query.\n",
    "documents = [\n",
    "    '''Taj mahal is an immense mausoleum of white marble, built in Agra between 1631 and 1648 by order of the Mughal emperor Shah Jahan in memory of his favourite wife, the Taj Mahal is the jewel of Muslim art in India and one of the universally admired masterpieces of the world's heritage.''',\n",
    "    '''The Statue of Liberty is a 305-foot (93-metre) statue located on Liberty Island in Upper New York Bay, off the coast of New York City. The statue is a personification of liberty in the form of a woman. She holds a torch in her raised right hand and clutches a tablet in her left.''',\n",
    "    '''The Statue of Liberty was sculpted between 1875 and 1884 under the direction of French sculptor Frédéric-Auguste Bartholdi, who began drafting designs in 1870. Bartholdi and his team hammered roughly 31 tons of copper sheets onto a steel frame. Before being mounted on its current pedestal, the statue stood over 151 feet (46 metres) tall and weighed 225 tons.''',\n",
    "    '''Badminton is a racquet sport played using racquets to hit a shuttlecock across a net. Although it may be played with larger teams, the most common forms of the game are \"singles\" (with one player per side) and \"doubles\" (with two players per side). Badminton is often played as a casual outdoor activity in a yard or on a beach; formal games are played on a rectangular indoor court. Points are scored by striking the shuttlecock with the racquet and landing it within the opposing side's half of the court.''',\n",
    "    '''James Bond is a fictional character created by novelist Ian Fleming in 1953.''',\n",
    "    '''A British secret agent working for MI6 under the codename 007, he has been portrayed on film by actors Sean Connery, David Niven, George Lazenby, Roger Moore, Timothy Dalton, Pierce Brosnan and Daniel Craig in twenty-seven productions.'''\n",
    "]\n",
    "\n",
    "# A dictionary to store the document and its feature vector (the vector generated by SBERT)\n",
    "doc_and_vec = {}\n",
    "\n",
    "def giveVector(texts):\n",
    "    # this function returns the vector using SBERT\n",
    "    return sbert_model.encode(texts)\n",
    "\n",
    "vectors = giveVector(documents)\n",
    "\n",
    "for doc,vec in zip(documents,vectors):\n",
    "    doc_and_vec[doc] = vec\n",
    "\n",
    "print(\"vectors formed\")\n",
    "\n",
    "client.schema.delete_all()\n",
    "class_obj = {\n",
    "    \"class\": \"Post\",\n",
    "    \"vectorizer\": \"none\", # we are providing the vectors ourselves through our SBERT model, so this field is none\n",
    "    \"properties\": [{\n",
    "        \"name\": \"content\",\n",
    "        \"dataType\": [\"text\"],\n",
    "    }]\n",
    "}\n",
    "\n",
    "client.schema.create_class(class_obj)\n",
    "print(\"Schema class created\")\n",
    "\n",
    "for doc,vec in doc_and_vec.items():\n",
    "    data_obj = {\n",
    "    \"content\": doc\n",
    "    }\n",
    "    client.data_object.create(\n",
    "    data_obj,\n",
    "    \"Post\",\n",
    "    generate_uuid('Post',doc),\n",
    "    vector = vec,\n",
    "    )\n",
    "print(\"Finished importing data\")\n",
    "\n",
    "def process_query(vec):\n",
    "    nearVector = {\"vector\": vec}\n",
    "    res = client.query.get(\"Post\", [\"content\", \"_additional {certainty}\"]).with_near_vector(nearVector).do()\n",
    "    print(res)\n",
    "    print(\"------------------------------------------------------------------------------------------------\")\n",
    "    print(\"-----------------------------------Most similar text -------------------------------------------\")\n",
    "    print(res['data']['Get']['Post'][0]['content'])\n",
    "    print(\"------------------------------------------------------------------------------------------------\")\n",
    "    print(res['data']['Get']['Post'][1]['content'])\n",
    "    print(\"------------------------------------------------------------------------------------------------\")\n",
    "\n",
    "    \n"
   ]
  },
  {
   "cell_type": "code",
   "execution_count": null,
   "id": "065e4517-d430-48c7-89ae-9cd29c3a31f3",
   "metadata": {},
   "outputs": [],
   "source": [
    "query =\"american tourist destination\"\n",
    "query_vec = sbert_model.encode(query)\n",
    "process_query(query_vec)\n"
   ]
  },
  {
   "cell_type": "code",
   "execution_count": null,
   "id": "1a232068-a38a-490b-a329-d5b5e773174b",
   "metadata": {},
   "outputs": [],
   "source": []
  }
 ],
 "metadata": {
  "environment": {
   "kernel": "stackoverflow",
   "name": "pytorch-gpu.1-11.m94",
   "type": "gcloud",
   "uri": "gcr.io/deeplearning-platform-release/pytorch-gpu.1-11:m94"
  },
  "kernelspec": {
   "display_name": "Python (stackoverflow)",
   "language": "python",
   "name": "stackoverflow"
  },
  "language_info": {
   "codemirror_mode": {
    "name": "ipython",
    "version": 3
   },
   "file_extension": ".py",
   "mimetype": "text/x-python",
   "name": "python",
   "nbconvert_exporter": "python",
   "pygments_lexer": "ipython3",
   "version": "3.8.13"
  }
 },
 "nbformat": 4,
 "nbformat_minor": 5
}
