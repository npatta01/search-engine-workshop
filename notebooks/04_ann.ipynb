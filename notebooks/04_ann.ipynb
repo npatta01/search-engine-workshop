{
 "cells": [
  {
   "cell_type": "markdown",
   "id": "d6298118-b5f8-4250-bd82-e2a3787914ca",
   "metadata": {},
   "source": [
    "# Neural Information Retrieval Using Nearest Neighbor\n",
    "\n",
    "\n",
    "Neural retrieval for information retrieval (IR) use embeddings to search for similar items in an search space build using search corpus data.\n",
    "\n",
    "<br/>\n",
    "We will FAISS library from Facebook for our hands-on presentation. But one could look <a href=\"http://ann-benchmarks.com/\">here</a> to find other solutions and benchmark data.\n",
    "\n",
    "\n",
    "We will look at `performance` and `recall@1`"
   ]
  },
  {
   "cell_type": "markdown",
   "id": "e45e627d-9c8c-4f19-ab91-0e64ed8677d7",
   "metadata": {},
   "source": [
    "## Load the libraries"
   ]
  },
  {
   "cell_type": "code",
   "execution_count": 13,
   "id": "62298ef5-fa20-4164-8ec7-e7f43bf85c20",
   "metadata": {},
   "outputs": [],
   "source": [
    "from pathlib import Path\n",
    "import numpy as np\n",
    "import pandas as pd\n",
    "import faiss\n",
    "import datasets"
   ]
  },
  {
   "cell_type": "markdown",
   "id": "6b9a73d2-aa07-46ef-b94d-8780ca9ecb68",
   "metadata": {},
   "source": [
    "## Load the embeddings of the image corpus"
   ]
  },
  {
   "cell_type": "code",
   "execution_count": 14,
   "id": "74c3f8aa-cb27-4ae8-a9a8-0060001d357c",
   "metadata": {},
   "outputs": [],
   "source": [
    "dset = datasets.load_from_disk(\"../data/processed_embeddings\")\n",
    "## these embeddings will be used to create the search space.\n",
    "corpus = dset['embeddings']\n",
    "\n",
    "\n",
    "corpus = np.array(corpus).astype('float32')\n",
    "corpus = np.unique(corpus, axis=0)"
   ]
  },
  {
   "cell_type": "code",
   "execution_count": 15,
   "id": "94eeb2f5-88ff-428f-8e9c-5014234427b8",
   "metadata": {},
   "outputs": [
    {
     "data": {
      "text/plain": [
       "(24958, 512)"
      ]
     },
     "execution_count": 15,
     "metadata": {},
     "output_type": "execute_result"
    }
   ],
   "source": [
    "corpus.shape"
   ]
  },
  {
   "cell_type": "code",
   "execution_count": 16,
   "id": "939108fa-daf9-472c-b026-19c6d9708a77",
   "metadata": {},
   "outputs": [
    {
     "data": {
      "text/plain": [
       "array([[-0.8442147 ,  0.1623359 ,  0.3072559 , ...,  0.40091127,\n",
       "        -0.20468342, -0.11151588],\n",
       "       [-0.82529676,  0.26502204,  0.05470146, ...,  0.27426067,\n",
       "        -0.56668615, -0.08001572],\n",
       "       [-0.8063217 , -0.19098167, -0.22377765, ...,  0.2548957 ,\n",
       "        -0.12389499,  0.27585742],\n",
       "       ...,\n",
       "       [ 0.9416133 ,  0.25078115,  0.20232391, ...,  0.35934162,\n",
       "        -0.11814432, -0.4162678 ],\n",
       "       [ 0.9556082 ,  0.44172812,  0.06752564, ...,  0.00269235,\n",
       "         0.08827013, -0.36235547],\n",
       "       [ 1.0331686 ,  0.42330503, -0.11260805, ...,  0.16301963,\n",
       "         0.00906937, -0.25052726]], dtype=float32)"
      ]
     },
     "execution_count": 16,
     "metadata": {},
     "output_type": "execute_result"
    }
   ],
   "source": [
    "corpus"
   ]
  },
  {
   "cell_type": "code",
   "execution_count": null,
   "id": "63581c47-4d2a-4106-883f-3f42c9070e99",
   "metadata": {},
   "outputs": [],
   "source": []
  },
  {
   "cell_type": "code",
   "execution_count": 17,
   "id": "69bf8642-772f-4996-b3c7-910a1f38b1b2",
   "metadata": {},
   "outputs": [
    {
     "data": {
      "text/plain": [
       "512"
      ]
     },
     "execution_count": 17,
     "metadata": {},
     "output_type": "execute_result"
    }
   ],
   "source": [
    "dimension = corpus.shape[-1]\n",
    "dimension"
   ]
  },
  {
   "cell_type": "code",
   "execution_count": null,
   "id": "b5fbf481-46ac-45d3-b277-e9e19185c214",
   "metadata": {},
   "outputs": [],
   "source": []
  },
  {
   "cell_type": "code",
   "execution_count": null,
   "id": "7581eb23-2849-4d4f-ba9a-28dc6e231fe0",
   "metadata": {},
   "outputs": [],
   "source": [
    "\n"
   ]
  },
  {
   "cell_type": "code",
   "execution_count": null,
   "id": "676076ac-6188-42d0-b23f-3830b1270043",
   "metadata": {},
   "outputs": [],
   "source": []
  },
  {
   "cell_type": "markdown",
   "id": "06a59231-abcf-45f9-a69a-69149e73c2f8",
   "metadata": {},
   "source": [
    "## Create the <a href =\"https://github.com/facebookresearch/faiss\">FAISS</a> index. \n",
    "<br/>FAISS will be used to create the vector search space using the embeddings corpus.\n",
    "<br/>We are going to use FlatIndex to store the index, but <a href=\"https://github.com/facebookresearch/faiss/wiki/Faiss-indexes\">other efficient indexes</a> are also available in FAISS.\n",
    "<br/> FAISS supports both GPU and CPU based index. GPU index search is <a href=\"https://github.com/facebookresearch/faiss/wiki/Comparing-GPU-vs-CPU\">comparatively faster </a> compared to CPU as long as complete index could fit in memory."
   ]
  },
  {
   "cell_type": "code",
   "execution_count": null,
   "id": "0a1b1eb9-594c-4907-a73c-5eb65eb5e85c",
   "metadata": {},
   "outputs": [],
   "source": []
  },
  {
   "cell_type": "markdown",
   "id": "926f4977-2ee0-48bd-8f50-f13e6ed82897",
   "metadata": {},
   "source": [
    "### Flat Index"
   ]
  },
  {
   "cell_type": "code",
   "execution_count": 18,
   "id": "a447b05c-f30d-4d43-a6ed-fd29a99477a2",
   "metadata": {},
   "outputs": [],
   "source": [
    "xb = corpus\n",
    "xb.shape\n",
    "dimension = xb.shape[-1]\n",
    "#initialize the flat index for data dimension. In current example it is 512\n",
    "index = faiss.IndexFlatL2(dimension)\n"
   ]
  },
  {
   "cell_type": "code",
   "execution_count": 19,
   "id": "3c2d2c60-0afb-44cf-9cf6-5032811725a7",
   "metadata": {},
   "outputs": [
    {
     "data": {
      "text/plain": [
       "True"
      ]
     },
     "execution_count": 19,
     "metadata": {},
     "output_type": "execute_result"
    }
   ],
   "source": [
    "index.is_trained\n"
   ]
  },
  {
   "cell_type": "code",
   "execution_count": 20,
   "id": "7aa739ee-42e1-4ac5-b1d8-9876ec777129",
   "metadata": {},
   "outputs": [],
   "source": [
    "# add data to the index. This is a CPU based index.\n",
    "index.add(xb)                \n"
   ]
  },
  {
   "cell_type": "code",
   "execution_count": 21,
   "id": "e1bff8d2-30ea-4555-975d-dbbe3a0cde14",
   "metadata": {},
   "outputs": [],
   "source": [
    "xq = xb\n"
   ]
  },
  {
   "cell_type": "code",
   "execution_count": 22,
   "id": "ab9e1b45-1cf2-4e88-960c-6999ad312e22",
   "metadata": {},
   "outputs": [
    {
     "data": {
      "text/plain": [
       "24958"
      ]
     },
     "execution_count": 22,
     "metadata": {},
     "output_type": "execute_result"
    }
   ],
   "source": [
    "len(xq)\n"
   ]
  },
  {
   "cell_type": "code",
   "execution_count": null,
   "id": "bfabea5d-26bd-45d8-8b7a-97f179bc4013",
   "metadata": {},
   "outputs": [],
   "source": []
  },
  {
   "cell_type": "markdown",
   "id": "348f697d-db43-4093-aa4e-4858d4c058f0",
   "metadata": {},
   "source": [
    "number of vectors / results to retrieve"
   ]
  },
  {
   "cell_type": "code",
   "execution_count": 23,
   "id": "6200be29-b926-4847-9e42-daf90d99319d",
   "metadata": {},
   "outputs": [],
   "source": [
    "k =1"
   ]
  },
  {
   "cell_type": "markdown",
   "id": "d57e8258-b7fa-49cb-a9f7-52a62a0dda17",
   "metadata": {},
   "source": [
    "#### Index Search\n",
    "search method returns query indices (I) similar to search query vector and their euclidean distances (D) from the search query vector."
   ]
  },
  {
   "cell_type": "markdown",
   "id": "87ea66c3-ebda-4600-b5d8-34ad796cc7c2",
   "metadata": {},
   "source": [
    "search for single vector"
   ]
  },
  {
   "cell_type": "code",
   "execution_count": 24,
   "id": "306e3a89-331c-4253-b7cf-ce7a0d951b42",
   "metadata": {},
   "outputs": [
    {
     "name": "stdout",
     "output_type": "stream",
     "text": [
      "18.6 ms ± 40.9 µs per loop (mean ± std. dev. of 7 runs, 100 loops each)\n"
     ]
    }
   ],
   "source": [
    "%%timeit\n",
    "D, I = index.search(xq[:1], k)   "
   ]
  },
  {
   "cell_type": "markdown",
   "id": "a2382cf6-2718-4240-b805-c96195af51f0",
   "metadata": {},
   "source": [
    "search for all vectors in corpus"
   ]
  },
  {
   "cell_type": "code",
   "execution_count": 26,
   "id": "badcb20e-f872-4763-baf5-1876d5dd617d",
   "metadata": {},
   "outputs": [
    {
     "name": "stdout",
     "output_type": "stream",
     "text": [
      "CPU times: user 29.8 s, sys: 54.5 ms, total: 29.9 s\n",
      "Wall time: 10.3 s\n"
     ]
    }
   ],
   "source": [
    "%%time\n",
    "D, I = index.search(xq, k)     "
   ]
  },
  {
   "cell_type": "code",
   "execution_count": null,
   "id": "acf3d26f-119c-4f5c-8c24-fd28e3fccdfc",
   "metadata": {},
   "outputs": [],
   "source": []
  },
  {
   "cell_type": "markdown",
   "id": "1eac1d91-007d-4143-b0a3-ae19c763cc6c",
   "metadata": {},
   "source": [
    "distance of vector in corpus to query vector"
   ]
  },
  {
   "cell_type": "code",
   "execution_count": 27,
   "id": "0b555673-cb87-4b11-aa81-ed2ff69d513e",
   "metadata": {},
   "outputs": [
    {
     "data": {
      "text/plain": [
       "array([[0.0000000e+00],\n",
       "       [7.6293945e-05],\n",
       "       [0.0000000e+00],\n",
       "       ...,\n",
       "       [6.1035156e-05],\n",
       "       [0.0000000e+00],\n",
       "       [0.0000000e+00]], dtype=float32)"
      ]
     },
     "execution_count": 27,
     "metadata": {},
     "output_type": "execute_result"
    }
   ],
   "source": [
    "D"
   ]
  },
  {
   "cell_type": "markdown",
   "id": "c4d271c3-850a-4375-87a2-100ffab7a416",
   "metadata": {},
   "source": [
    "top vertex id \n",
    "\n"
   ]
  },
  {
   "cell_type": "code",
   "execution_count": 29,
   "id": "65310b96-aab0-4a34-a9eb-48d0dbefc0ec",
   "metadata": {},
   "outputs": [
    {
     "data": {
      "text/plain": [
       "array([[    0],\n",
       "       [    1],\n",
       "       [    2],\n",
       "       ...,\n",
       "       [24955],\n",
       "       [24956],\n",
       "       [24957]])"
      ]
     },
     "execution_count": 29,
     "metadata": {},
     "output_type": "execute_result"
    }
   ],
   "source": [
    "I"
   ]
  },
  {
   "cell_type": "markdown",
   "id": "90283075-8783-4607-bf28-e5ce9f55c08c",
   "metadata": {},
   "source": [
    "because we are using the entire corpus and the ids are sequential, the ideal recall would be sequential too"
   ]
  },
  {
   "cell_type": "code",
   "execution_count": 30,
   "id": "b3fb40a2-dd43-4676-a766-3d198943f957",
   "metadata": {},
   "outputs": [
    {
     "data": {
      "text/plain": [
       "array([ True,  True,  True, ...,  True,  True,  True])"
      ]
     },
     "execution_count": 30,
     "metadata": {},
     "output_type": "execute_result"
    }
   ],
   "source": [
    "z = I[:,0] == np.array( list(range(len(xq))))\n",
    "z"
   ]
  },
  {
   "cell_type": "code",
   "execution_count": 31,
   "id": "ec2181ae-7a70-4a3a-bc34-bd9899168fe5",
   "metadata": {},
   "outputs": [
    {
     "data": {
      "text/plain": [
       "{'recall@1': 24957, 'num_vectors': 24958, 'mismatch': 1}"
      ]
     },
     "execution_count": 31,
     "metadata": {},
     "output_type": "execute_result"
    }
   ],
   "source": [
    "{\n",
    " \"recall@1\":  z.sum()\n",
    " , \"num_vectors\":  len(z)\n",
    " , \"mismatch\":    len(z) - z.sum()\n",
    "}\n"
   ]
  },
  {
   "cell_type": "code",
   "execution_count": 32,
   "id": "3e982564-03fe-4c56-ac20-eecc543b8d99",
   "metadata": {},
   "outputs": [
    {
     "data": {
      "text/plain": [
       "array([    0,     1,     2, ..., 24955, 24956, 24957])"
      ]
     },
     "execution_count": 32,
     "metadata": {},
     "output_type": "execute_result"
    }
   ],
   "source": [
    "np.array( list(range(len(xq))))[z]"
   ]
  },
  {
   "cell_type": "code",
   "execution_count": null,
   "id": "e88e34b6-f9e0-4835-90cc-ba0e6b2c0414",
   "metadata": {},
   "outputs": [],
   "source": []
  },
  {
   "cell_type": "code",
   "execution_count": 33,
   "id": "e7a6776b-268b-4e00-8c39-ee3d24e849d1",
   "metadata": {},
   "outputs": [
    {
     "data": {
      "text/plain": [
       "array([ True,  True,  True, ...,  True,  True,  True])"
      ]
     },
     "execution_count": 33,
     "metadata": {},
     "output_type": "execute_result"
    }
   ],
   "source": [
    "z"
   ]
  },
  {
   "cell_type": "code",
   "execution_count": 34,
   "id": "27641884-4563-4c1a-9d37-1b8e61ee5322",
   "metadata": {},
   "outputs": [
    {
     "data": {
      "text/plain": [
       "(array([3766]),)"
      ]
     },
     "execution_count": 34,
     "metadata": {},
     "output_type": "execute_result"
    }
   ],
   "source": [
    "np.where(z == False)"
   ]
  },
  {
   "cell_type": "code",
   "execution_count": 35,
   "id": "662ed010-cb15-4c54-a4cf-2a46029c5f02",
   "metadata": {},
   "outputs": [
    {
     "data": {
      "text/plain": [
       "array([0.], dtype=float32)"
      ]
     },
     "execution_count": 35,
     "metadata": {},
     "output_type": "execute_result"
    }
   ],
   "source": [
    "D[3766]"
   ]
  },
  {
   "cell_type": "code",
   "execution_count": 36,
   "id": "91bf451c-d5e1-4b58-acca-eb895574b063",
   "metadata": {},
   "outputs": [
    {
     "data": {
      "text/plain": [
       "array([3765])"
      ]
     },
     "execution_count": 36,
     "metadata": {},
     "output_type": "execute_result"
    }
   ],
   "source": [
    "I[3766]"
   ]
  },
  {
   "cell_type": "code",
   "execution_count": null,
   "id": "02bac14d-9696-4a49-be12-9541beeb45a2",
   "metadata": {},
   "outputs": [],
   "source": []
  },
  {
   "cell_type": "markdown",
   "id": "7e79d4fc-8191-4151-b330-01b41a2b05d4",
   "metadata": {},
   "source": [
    "### faiss ivf"
   ]
  },
  {
   "cell_type": "markdown",
   "id": "2c6f3e4c-2cad-461c-a8b7-5ffba0a5b354",
   "metadata": {},
   "source": [
    "<img src=\"https://d33wubrfki0l68.cloudfront.net/44acb1425f25e30ca058daec92bdb209c6c47ad2/e92fc/images/faiss5.png\" width=\"500\"/>\n",
    "\n",
    "<p> Image from Pinecone Faiss Tutorial </p>\n",
    "https://www.pinecone.io/learn/faiss-tutorial/\n",
    "\n",
    "\n",
    "**Parameters**:\n",
    "- nlist : number of clusters\n",
    "- nprobe: number of clusters to search"
   ]
  },
  {
   "cell_type": "code",
   "execution_count": 37,
   "id": "342966dc-d361-4fec-8ebe-c3c67864736e",
   "metadata": {},
   "outputs": [],
   "source": [
    "nlist = 20 # number of clusters\n",
    "quantizer = faiss.IndexFlatL2(dimension)  # the other index\n",
    "index = faiss.IndexIVFFlat(quantizer, dimension, nlist, faiss.METRIC_L2)"
   ]
  },
  {
   "cell_type": "code",
   "execution_count": 38,
   "id": "fec38a91-8c3c-40fe-935d-a160474a7e4f",
   "metadata": {},
   "outputs": [],
   "source": [
    "assert not index.is_trained\n",
    "index.train(xb)\n",
    "assert index.is_trained"
   ]
  },
  {
   "cell_type": "code",
   "execution_count": 39,
   "id": "6b577199-2e7b-439f-93a4-2653c7545eef",
   "metadata": {},
   "outputs": [],
   "source": [
    "xq = xb\n",
    "# create another index for IVFFlat\n",
    "index.add(xb)         \n"
   ]
  },
  {
   "cell_type": "markdown",
   "id": "f8d0824c-0712-46fb-a5d4-16b32ee695c0",
   "metadata": {},
   "source": [
    "search for single vector"
   ]
  },
  {
   "cell_type": "code",
   "execution_count": 40,
   "id": "451988b2-0e03-4e12-92e2-8df408094526",
   "metadata": {},
   "outputs": [
    {
     "name": "stdout",
     "output_type": "stream",
     "text": [
      "1.39 ms ± 4.59 µs per loop (mean ± std. dev. of 7 runs, 1000 loops each)\n"
     ]
    }
   ],
   "source": [
    "%%timeit\n",
    "\n",
    "\n",
    "index.nprobe = 1              # default nprobe is 1\n",
    "\n",
    "D, I = index.search(xq[:1], k)     # actual search"
   ]
  },
  {
   "cell_type": "markdown",
   "id": "d8524b69-4efd-4a6d-9f10-499f299ff762",
   "metadata": {},
   "source": [
    "search for entire corpus"
   ]
  },
  {
   "cell_type": "code",
   "execution_count": 41,
   "id": "60795b88-8957-4c49-a729-22f935c4dc3f",
   "metadata": {},
   "outputs": [
    {
     "name": "stdout",
     "output_type": "stream",
     "text": [
      "CPU times: user 29.4 s, sys: 54 ms, total: 29.5 s\n",
      "Wall time: 7.48 s\n"
     ]
    }
   ],
   "source": [
    "%%time\n",
    "\n",
    "\n",
    "index.nprobe = 1              \n",
    "\n",
    "D, I = index.search(xq, k)     # actual search"
   ]
  },
  {
   "cell_type": "code",
   "execution_count": 42,
   "id": "ddbabfeb-2b27-412c-b77b-1d795b00aa29",
   "metadata": {},
   "outputs": [
    {
     "data": {
      "text/plain": [
       "{'recall@1': 24958, 'num_vectors': 24958, 'mismatch': 0}"
      ]
     },
     "execution_count": 42,
     "metadata": {},
     "output_type": "execute_result"
    }
   ],
   "source": [
    "z = I[:,0] == np.array( list(range(len(xq))))\n",
    "{\n",
    " \"recall@1\":  z.sum()\n",
    " , \"num_vectors\":  len(z)\n",
    " , \"mismatch\":    len(z) - z.sum()\n",
    "}\n"
   ]
  },
  {
   "cell_type": "code",
   "execution_count": null,
   "id": "6c9da4ac-9d1f-480a-ac9f-ea97e1d16f9d",
   "metadata": {},
   "outputs": [],
   "source": []
  },
  {
   "cell_type": "markdown",
   "id": "2b5515dc-09b7-459c-b93c-80424faac839",
   "metadata": {},
   "source": [
    "increase the number of cells that are probed"
   ]
  },
  {
   "cell_type": "code",
   "execution_count": 44,
   "id": "31c0b86b-2d5e-480d-be94-c136e7fe07d1",
   "metadata": {},
   "outputs": [
    {
     "name": "stdout",
     "output_type": "stream",
     "text": [
      "CPU times: user 2min 21s, sys: 220 ms, total: 2min 21s\n",
      "Wall time: 35.6 s\n"
     ]
    }
   ],
   "source": [
    "%%time\n",
    "index.nprobe = 5              # default nprobe is 1\n",
    "\n",
    "D, I = index.search(xq, k)    "
   ]
  },
  {
   "cell_type": "code",
   "execution_count": 45,
   "id": "fbffb654-a3a6-4d42-956f-602dab97124e",
   "metadata": {},
   "outputs": [
    {
     "data": {
      "text/plain": [
       "{'recall@1': 24958, 'num_vectors': 24958, 'mismatch': 0}"
      ]
     },
     "execution_count": 45,
     "metadata": {},
     "output_type": "execute_result"
    }
   ],
   "source": [
    "z = I[:,0] == np.array( list(range(len(xq))))\n",
    "{\n",
    " \"recall@1\":  z.sum()\n",
    " , \"num_vectors\":  len(z)\n",
    " , \"mismatch\":    len(z) - z.sum()\n",
    "}\n"
   ]
  },
  {
   "cell_type": "code",
   "execution_count": null,
   "id": "fd7e1354-2002-45dc-8732-9506ef6200cf",
   "metadata": {},
   "outputs": [],
   "source": []
  }
 ],
 "metadata": {
  "environment": {
   "kernel": "py38",
   "name": "pytorch-gpu.1-12.m99",
   "type": "gcloud",
   "uri": "gcr.io/deeplearning-platform-release/pytorch-gpu.1-12:m99"
  },
  "kernelspec": {
   "display_name": "Python [conda env:root] *",
   "language": "python",
   "name": "conda-root-py"
  },
  "language_info": {
   "codemirror_mode": {
    "name": "ipython",
    "version": 3
   },
   "file_extension": ".py",
   "mimetype": "text/x-python",
   "name": "python",
   "nbconvert_exporter": "python",
   "pygments_lexer": "ipython3",
   "version": "3.7.12"
  }
 },
 "nbformat": 4,
 "nbformat_minor": 5
}
