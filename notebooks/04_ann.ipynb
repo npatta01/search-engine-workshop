{
 "cells": [
  {
   "cell_type": "markdown",
   "id": "d6298118-b5f8-4250-bd82-e2a3787914ca",
   "metadata": {},
   "source": [
    "### Neural Information Retrieval Using Nearest Neighbor\n",
    "\n",
    "\n",
    "Neural retrieval for information retrieval (IR) use embeddings to search for similar items in an search space build using search corpus data.\n",
    "<br/>\n",
    "We will FAISS library from Facebook for our hands-on presentation. But one could look <a href=\"http://ann-benchmarks.com/\">here</a> to find other solutions and benchmark data."
   ]
  },
  {
   "cell_type": "markdown",
   "id": "e45e627d-9c8c-4f19-ab91-0e64ed8677d7",
   "metadata": {},
   "source": [
    "### Load the libraries"
   ]
  },
  {
   "cell_type": "code",
   "execution_count": 1,
   "id": "62298ef5-fa20-4164-8ec7-e7f43bf85c20",
   "metadata": {},
   "outputs": [],
   "source": [
    "from pathlib import Path\n",
    "import numpy as np\n",
    "import pandas as pd\n",
    "import faiss\n",
    "import datasets"
   ]
  },
  {
   "cell_type": "markdown",
   "id": "6b9a73d2-aa07-46ef-b94d-8780ca9ecb68",
   "metadata": {},
   "source": [
    "### Load the embeddings of the image corpus"
   ]
  },
  {
   "cell_type": "code",
   "execution_count": 2,
   "id": "74c3f8aa-cb27-4ae8-a9a8-0060001d357c",
   "metadata": {},
   "outputs": [],
   "source": [
    "dset = datasets.load_from_disk(\"../data/processed_embeddings\")\n",
    "## these embeddings will be used to create the search space.\n",
    "corpus = dset['embeddings']\n",
    "\n",
    "\n",
    "corpus = np.array(corpus).astype('float32')\n",
    "corpus = np.unique(corpus, axis=0)"
   ]
  },
  {
   "cell_type": "code",
   "execution_count": 3,
   "id": "94eeb2f5-88ff-428f-8e9c-5014234427b8",
   "metadata": {},
   "outputs": [
    {
     "data": {
      "text/plain": [
       "(24958, 512)"
      ]
     },
     "execution_count": 3,
     "metadata": {},
     "output_type": "execute_result"
    }
   ],
   "source": [
    "corpus.shape"
   ]
  },
  {
   "cell_type": "code",
   "execution_count": 4,
   "id": "939108fa-daf9-472c-b026-19c6d9708a77",
   "metadata": {},
   "outputs": [
    {
     "data": {
      "text/plain": [
       "array([[-0.8442147 ,  0.1623359 ,  0.3072559 , ...,  0.40091127,\n",
       "        -0.20468342, -0.11151588],\n",
       "       [-0.82529676,  0.26502204,  0.05470146, ...,  0.27426067,\n",
       "        -0.56668615, -0.08001572],\n",
       "       [-0.8063217 , -0.19098167, -0.22377765, ...,  0.2548957 ,\n",
       "        -0.12389499,  0.27585742],\n",
       "       ...,\n",
       "       [ 0.9416133 ,  0.25078115,  0.20232391, ...,  0.35934162,\n",
       "        -0.11814432, -0.4162678 ],\n",
       "       [ 0.9556082 ,  0.44172812,  0.06752564, ...,  0.00269235,\n",
       "         0.08827013, -0.36235547],\n",
       "       [ 1.0331686 ,  0.42330503, -0.11260805, ...,  0.16301963,\n",
       "         0.00906937, -0.25052726]], dtype=float32)"
      ]
     },
     "execution_count": 4,
     "metadata": {},
     "output_type": "execute_result"
    }
   ],
   "source": [
    "corpus"
   ]
  },
  {
   "cell_type": "code",
   "execution_count": null,
   "id": "63581c47-4d2a-4106-883f-3f42c9070e99",
   "metadata": {},
   "outputs": [],
   "source": []
  },
  {
   "cell_type": "code",
   "execution_count": null,
   "id": "69bf8642-772f-4996-b3c7-910a1f38b1b2",
   "metadata": {},
   "outputs": [],
   "source": []
  },
  {
   "cell_type": "code",
   "execution_count": null,
   "id": "b5fbf481-46ac-45d3-b277-e9e19185c214",
   "metadata": {},
   "outputs": [],
   "source": []
  },
  {
   "cell_type": "code",
   "execution_count": null,
   "id": "7581eb23-2849-4d4f-ba9a-28dc6e231fe0",
   "metadata": {},
   "outputs": [],
   "source": [
    "\n"
   ]
  },
  {
   "cell_type": "code",
   "execution_count": null,
   "id": "676076ac-6188-42d0-b23f-3830b1270043",
   "metadata": {},
   "outputs": [],
   "source": []
  },
  {
   "cell_type": "markdown",
   "id": "06a59231-abcf-45f9-a69a-69149e73c2f8",
   "metadata": {},
   "source": [
    "### Create the <a href =\"https://github.com/facebookresearch/faiss\">FAISS</a> index. \n",
    "<br/>FAISS will be used to create the vector search space using the embeddings corpus.\n",
    "<br/>We are going to use FlatIndex to store the index, but <a href=\"https://github.com/facebookresearch/faiss/wiki/Faiss-indexes\">other efficient indexes</a> are also available in FAISS.\n",
    "<br/> FAISS supports both GPU and CPU based index. GPU index search is <a href=\"https://github.com/facebookresearch/faiss/wiki/Comparing-GPU-vs-CPU\">comparatively faster </a> compared to CPU as long as complete index could fit in memory."
   ]
  },
  {
   "cell_type": "code",
   "execution_count": 35,
   "id": "a447b05c-f30d-4d43-a6ed-fd29a99477a2",
   "metadata": {},
   "outputs": [],
   "source": [
    "xb = corpus\n",
    "xb.shape\n",
    "dimension = xb.shape[-1]\n",
    "#initialize the flat index for data dimension. In current example it is 512\n",
    "index = faiss.IndexFlatL2(dimension)\n"
   ]
  },
  {
   "cell_type": "code",
   "execution_count": 10,
   "id": "3c2d2c60-0afb-44cf-9cf6-5032811725a7",
   "metadata": {},
   "outputs": [
    {
     "data": {
      "text/plain": [
       "True"
      ]
     },
     "execution_count": 10,
     "metadata": {},
     "output_type": "execute_result"
    }
   ],
   "source": [
    "index.is_trained\n"
   ]
  },
  {
   "cell_type": "code",
   "execution_count": 36,
   "id": "7aa739ee-42e1-4ac5-b1d8-9876ec777129",
   "metadata": {},
   "outputs": [],
   "source": [
    "# add data to the index. This is a CPU based index.\n",
    "index.add(xb)                \n"
   ]
  },
  {
   "cell_type": "code",
   "execution_count": 12,
   "id": "e1bff8d2-30ea-4555-975d-dbbe3a0cde14",
   "metadata": {},
   "outputs": [],
   "source": [
    "xq = xb\n"
   ]
  },
  {
   "cell_type": "code",
   "execution_count": 13,
   "id": "ab9e1b45-1cf2-4e88-960c-6999ad312e22",
   "metadata": {},
   "outputs": [
    {
     "data": {
      "text/plain": [
       "100000"
      ]
     },
     "execution_count": 13,
     "metadata": {},
     "output_type": "execute_result"
    }
   ],
   "source": [
    "len(xq)\n"
   ]
  },
  {
   "cell_type": "code",
   "execution_count": 14,
   "id": "6200be29-b926-4847-9e42-daf90d99319d",
   "metadata": {},
   "outputs": [],
   "source": [
    "k =1"
   ]
  },
  {
   "cell_type": "markdown",
   "id": "d57e8258-b7fa-49cb-a9f7-52a62a0dda17",
   "metadata": {},
   "source": [
    "### Index Search\n",
    "search method returns query indices (I) similar to search query vector and their euclidean distances (D) from the search query vector."
   ]
  },
  {
   "cell_type": "code",
   "execution_count": 15,
   "id": "306e3a89-331c-4253-b7cf-ce7a0d951b42",
   "metadata": {},
   "outputs": [
    {
     "name": "stdout",
     "output_type": "stream",
     "text": [
      "74.4 ms ± 162 µs per loop (mean ± std. dev. of 7 runs, 10 loops each)\n"
     ]
    }
   ],
   "source": [
    "%%timeit\n",
    "D, I = index.search(xq[:1], k)   "
   ]
  },
  {
   "cell_type": "code",
   "execution_count": 16,
   "id": "badcb20e-f872-4763-baf5-1876d5dd617d",
   "metadata": {},
   "outputs": [
    {
     "name": "stdout",
     "output_type": "stream",
     "text": [
      "CPU times: user 15min 42s, sys: 975 ms, total: 15min 43s\n",
      "Wall time: 3min 3s\n"
     ]
    }
   ],
   "source": [
    "%%time\n",
    "D, I = index.search(xq, k)     "
   ]
  },
  {
   "cell_type": "code",
   "execution_count": 17,
   "id": "0b555673-cb87-4b11-aa81-ed2ff69d513e",
   "metadata": {},
   "outputs": [
    {
     "data": {
      "text/plain": [
       "array([[3.0517578e-05],\n",
       "       [3.0517578e-05],\n",
       "       [0.0000000e+00],\n",
       "       ...,\n",
       "       [0.0000000e+00],\n",
       "       [6.1035156e-05],\n",
       "       [1.2207031e-04]], dtype=float32)"
      ]
     },
     "execution_count": 17,
     "metadata": {},
     "output_type": "execute_result"
    }
   ],
   "source": [
    "D"
   ]
  },
  {
   "cell_type": "code",
   "execution_count": 18,
   "id": "65310b96-aab0-4a34-a9eb-48d0dbefc0ec",
   "metadata": {},
   "outputs": [
    {
     "data": {
      "text/plain": [
       "array([[    0],\n",
       "       [    1],\n",
       "       [    2],\n",
       "       ...,\n",
       "       [99997],\n",
       "       [99998],\n",
       "       [99999]])"
      ]
     },
     "execution_count": 18,
     "metadata": {},
     "output_type": "execute_result"
    }
   ],
   "source": [
    "I"
   ]
  },
  {
   "cell_type": "code",
   "execution_count": 19,
   "id": "b3fb40a2-dd43-4676-a766-3d198943f957",
   "metadata": {},
   "outputs": [],
   "source": [
    "z = I[:,0] == np.array( list(range(len(xq))))"
   ]
  },
  {
   "cell_type": "code",
   "execution_count": 20,
   "id": "ec2181ae-7a70-4a3a-bc34-bd9899168fe5",
   "metadata": {},
   "outputs": [
    {
     "data": {
      "text/plain": [
       "(100000, 100000, 0)"
      ]
     },
     "execution_count": 20,
     "metadata": {},
     "output_type": "execute_result"
    }
   ],
   "source": [
    "z.sum() , len(z) ,  (  len(z) - z.sum())"
   ]
  },
  {
   "cell_type": "code",
   "execution_count": 21,
   "id": "3e982564-03fe-4c56-ac20-eecc543b8d99",
   "metadata": {},
   "outputs": [
    {
     "data": {
      "text/plain": [
       "array([    0,     1,     2, ..., 99997, 99998, 99999])"
      ]
     },
     "execution_count": 21,
     "metadata": {},
     "output_type": "execute_result"
    }
   ],
   "source": [
    "np.array( list(range(len(xq))))[z]"
   ]
  },
  {
   "cell_type": "code",
   "execution_count": null,
   "id": "e88e34b6-f9e0-4835-90cc-ba0e6b2c0414",
   "metadata": {},
   "outputs": [],
   "source": []
  },
  {
   "cell_type": "code",
   "execution_count": 22,
   "id": "e7a6776b-268b-4e00-8c39-ee3d24e849d1",
   "metadata": {},
   "outputs": [
    {
     "data": {
      "text/plain": [
       "array([ True,  True,  True, ...,  True,  True,  True])"
      ]
     },
     "execution_count": 22,
     "metadata": {},
     "output_type": "execute_result"
    }
   ],
   "source": [
    "z"
   ]
  },
  {
   "cell_type": "code",
   "execution_count": 23,
   "id": "27641884-4563-4c1a-9d37-1b8e61ee5322",
   "metadata": {},
   "outputs": [
    {
     "data": {
      "text/plain": [
       "(array([], dtype=int64),)"
      ]
     },
     "execution_count": 23,
     "metadata": {},
     "output_type": "execute_result"
    }
   ],
   "source": [
    "np.where(z == False)"
   ]
  },
  {
   "cell_type": "code",
   "execution_count": 24,
   "id": "662ed010-cb15-4c54-a4cf-2a46029c5f02",
   "metadata": {},
   "outputs": [
    {
     "data": {
      "text/plain": [
       "array([3.0517578e-05], dtype=float32)"
      ]
     },
     "execution_count": 24,
     "metadata": {},
     "output_type": "execute_result"
    }
   ],
   "source": [
    "D[3766]"
   ]
  },
  {
   "cell_type": "code",
   "execution_count": 25,
   "id": "91bf451c-d5e1-4b58-acca-eb895574b063",
   "metadata": {},
   "outputs": [
    {
     "data": {
      "text/plain": [
       "array([3766])"
      ]
     },
     "execution_count": 25,
     "metadata": {},
     "output_type": "execute_result"
    }
   ],
   "source": [
    "I[3766]"
   ]
  },
  {
   "cell_type": "code",
   "execution_count": null,
   "id": "02bac14d-9696-4a49-be12-9541beeb45a2",
   "metadata": {},
   "outputs": [],
   "source": []
  },
  {
   "cell_type": "markdown",
   "id": "7e79d4fc-8191-4151-b330-01b41a2b05d4",
   "metadata": {},
   "source": [
    "## faiss ivf"
   ]
  },
  {
   "cell_type": "code",
   "execution_count": 26,
   "id": "342966dc-d361-4fec-8ebe-c3c67864736e",
   "metadata": {},
   "outputs": [],
   "source": [
    "nlist = 20 # nmber of clusters\n",
    "quantizer = faiss.IndexFlatL2(d)  # the other index\n",
    "index = faiss.IndexIVFFlat(quantizer, d, nlist, faiss.METRIC_L2)"
   ]
  },
  {
   "cell_type": "code",
   "execution_count": 27,
   "id": "fec38a91-8c3c-40fe-935d-a160474a7e4f",
   "metadata": {},
   "outputs": [],
   "source": [
    "assert not index.is_trained\n",
    "index.train(xb)\n",
    "assert index.is_trained"
   ]
  },
  {
   "cell_type": "code",
   "execution_count": 37,
   "id": "6b577199-2e7b-439f-93a4-2653c7545eef",
   "metadata": {},
   "outputs": [],
   "source": [
    "xq = xb\n",
    "# create another index for IVFFlat\n",
    "index.add(xb)         \n"
   ]
  },
  {
   "cell_type": "code",
   "execution_count": 29,
   "id": "451988b2-0e03-4e12-92e2-8df408094526",
   "metadata": {},
   "outputs": [
    {
     "name": "stdout",
     "output_type": "stream",
     "text": [
      "2.57 ms ± 11.8 µs per loop (mean ± std. dev. of 7 runs, 100 loops each)\n"
     ]
    }
   ],
   "source": [
    "%%timeit\n",
    "\n",
    "\n",
    "index.nprobe = 1              # default nprobe is 1\n",
    "\n",
    "D, I = index.search(xq[:1], k)     # actual search"
   ]
  },
  {
   "cell_type": "code",
   "execution_count": 30,
   "id": "60795b88-8957-4c49-a729-22f935c4dc3f",
   "metadata": {},
   "outputs": [
    {
     "name": "stdout",
     "output_type": "stream",
     "text": [
      "CPU times: user 7min 31s, sys: 135 ms, total: 7min 32s\n",
      "Wall time: 56.6 s\n"
     ]
    }
   ],
   "source": [
    "%%time\n",
    "\n",
    "\n",
    "index.nprobe = 1              # default nprobe is 1\n",
    "\n",
    "D, I = index.search(xq, k)     # actual search"
   ]
  },
  {
   "cell_type": "code",
   "execution_count": 31,
   "id": "ddbabfeb-2b27-412c-b77b-1d795b00aa29",
   "metadata": {},
   "outputs": [
    {
     "data": {
      "text/plain": [
       "(100000, 100000, 0)"
      ]
     },
     "execution_count": 31,
     "metadata": {},
     "output_type": "execute_result"
    }
   ],
   "source": [
    "z = I[:,0] == np.array( list(range(len(xq))))\n",
    "z.sum() , len(z) ,  (  len(z) - z.sum())"
   ]
  },
  {
   "cell_type": "code",
   "execution_count": 32,
   "id": "31c0b86b-2d5e-480d-be94-c136e7fe07d1",
   "metadata": {},
   "outputs": [
    {
     "name": "stdout",
     "output_type": "stream",
     "text": [
      "CPU times: user 37min 26s, sys: 538 ms, total: 37min 27s\n",
      "Wall time: 4min 41s\n"
     ]
    }
   ],
   "source": [
    "%%time\n",
    "index.nprobe = 5              # default nprobe is 1\n",
    "\n",
    "D, I = index.search(xq, k)    "
   ]
  },
  {
   "cell_type": "code",
   "execution_count": 33,
   "id": "fbffb654-a3a6-4d42-956f-602dab97124e",
   "metadata": {},
   "outputs": [
    {
     "data": {
      "text/plain": [
       "(100000, 100000, 0)"
      ]
     },
     "execution_count": 33,
     "metadata": {},
     "output_type": "execute_result"
    }
   ],
   "source": [
    "z = I[:,0] == np.array( list(range(len(xq))))\n",
    "z.sum() , len(z) ,  (  len(z) - z.sum())"
   ]
  },
  {
   "cell_type": "code",
   "execution_count": null,
   "id": "fd7e1354-2002-45dc-8732-9506ef6200cf",
   "metadata": {},
   "outputs": [],
   "source": []
  }
 ],
 "metadata": {
  "environment": {
   "kernel": "py38",
   "name": "pytorch-gpu.1-12.m99",
   "type": "gcloud",
   "uri": "gcr.io/deeplearning-platform-release/pytorch-gpu.1-12:m99"
  },
  "kernelspec": {
   "display_name": "py38",
   "language": "python",
   "name": "py38"
  },
  "language_info": {
   "codemirror_mode": {
    "name": "ipython",
    "version": 3
   },
   "file_extension": ".py",
   "mimetype": "text/x-python",
   "name": "python",
   "nbconvert_exporter": "python",
   "pygments_lexer": "ipython3",
   "version": "3.8.13"
  }
 },
 "nbformat": 4,
 "nbformat_minor": 5
}
