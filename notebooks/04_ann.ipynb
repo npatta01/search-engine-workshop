{
 "cells": [
  {
   "cell_type": "code",
   "execution_count": null,
   "id": "a791f41b-e6e8-43d1-88ec-a77f1cb44b31",
   "metadata": {},
   "outputs": [],
   "source": [
    "!pip i"
   ]
  },
  {
   "cell_type": "code",
   "execution_count": 1,
   "id": "62298ef5-fa20-4164-8ec7-e7f43bf85c20",
   "metadata": {},
   "outputs": [],
   "source": [
    "from pathlib import Path\n",
    "import numpy as np\n",
    "import pandas as pd\n",
    "import faiss\n",
    "\n"
   ]
  },
  {
   "cell_type": "code",
   "execution_count": 2,
   "id": "f5e7ea87-c2d5-44a5-a9fa-0f751c3bee37",
   "metadata": {},
   "outputs": [],
   "source": [
    "# Set the paths\n",
    "dataset_version = \"lite\"  # choose \"lite\" or \"full\"\n",
    "unsplash_dataset_path = Path(\"unsplash-dataset\") / dataset_version\n",
    "features_path = Path(\"unsplash-dataset\") / dataset_version / \"features\"\n",
    "\n",
    "# Read the photos table\n",
    "photos = pd.read_csv(unsplash_dataset_path / \"photos.tsv000\", sep='\\t', header=0)\n",
    "\n",
    "# Load the features and the corresponding IDs\n",
    "photo_features = np.load(features_path / \"features.npy\")\n",
    "photo_ids = pd.read_csv(features_path / \"photo_ids.csv\")\n",
    "photo_ids = list(photo_ids['photo_id'])\n",
    "\n",
    "\n",
    "# 38 photos have same embeddings\n",
    "photo_features = np.unique(photo_features, axis=0)\n"
   ]
  },
  {
   "cell_type": "code",
   "execution_count": 3,
   "id": "71c34e60-d781-4511-90af-0ed6f42dceea",
   "metadata": {},
   "outputs": [
    {
     "data": {
      "text/plain": [
       "array([[-0.08344765,  0.01604631,  0.03037113, ...,  0.03962869,\n",
       "        -0.02023221, -0.01102292],\n",
       "       [-0.08083483,  0.02393946,  0.00666234, ...,  0.02837397,\n",
       "        -0.0522343 , -0.0081386 ],\n",
       "       [-0.07816768,  0.0393783 , -0.01087704, ...,  0.04282344,\n",
       "        -0.02091642, -0.01027706],\n",
       "       ...,\n",
       "       [ 0.08788611,  0.03488644, -0.01199933, ...,  0.01401449,\n",
       "         0.00184289, -0.01959554],\n",
       "       [ 0.08824386,  0.01944975,  0.01758924, ...,  0.03036399,\n",
       "        -0.00658768, -0.03173414],\n",
       "       [ 0.09195293,  0.04004934, -0.00255247, ...,  0.00362209,\n",
       "        -0.01816886, -0.04212745]], dtype=float32)"
      ]
     },
     "execution_count": 3,
     "metadata": {},
     "output_type": "execute_result"
    }
   ],
   "source": [
    "photo_features"
   ]
  },
  {
   "cell_type": "code",
   "execution_count": 4,
   "id": "63581c47-4d2a-4106-883f-3f42c9070e99",
   "metadata": {},
   "outputs": [],
   "source": [
    "#new_data = np.unique(photo_features, axis=0)\n"
   ]
  },
  {
   "cell_type": "code",
   "execution_count": 5,
   "id": "69bf8642-772f-4996-b3c7-910a1f38b1b2",
   "metadata": {},
   "outputs": [],
   "source": [
    "#len(new_data) , len(photo_features)"
   ]
  },
  {
   "cell_type": "code",
   "execution_count": null,
   "id": "b5fbf481-46ac-45d3-b277-e9e19185c214",
   "metadata": {},
   "outputs": [],
   "source": []
  },
  {
   "cell_type": "code",
   "execution_count": 6,
   "id": "73732775-197b-4111-8147-a296227d6e6e",
   "metadata": {},
   "outputs": [
    {
     "data": {
      "text/plain": [
       "['br4dnLzZlXg', 'YTB3TFbz19w', 'g-Gc-k-NPkA']"
      ]
     },
     "execution_count": 6,
     "metadata": {},
     "output_type": "execute_result"
    }
   ],
   "source": [
    "photo_ids[:3]"
   ]
  },
  {
   "cell_type": "code",
   "execution_count": 7,
   "id": "f8cec421-65c8-4fe7-ac9f-0fce588ecdf2",
   "metadata": {},
   "outputs": [],
   "source": [
    "k = 3"
   ]
  },
  {
   "cell_type": "code",
   "execution_count": 8,
   "id": "7581eb23-2849-4d4f-ba9a-28dc6e231fe0",
   "metadata": {},
   "outputs": [],
   "source": [
    "xb = photo_features.tolist()\n",
    "xb = np.array(xb).astype('float32')"
   ]
  },
  {
   "cell_type": "code",
   "execution_count": 9,
   "id": "676076ac-6188-42d0-b23f-3830b1270043",
   "metadata": {},
   "outputs": [
    {
     "data": {
      "text/plain": [
       "(24957, 512)"
      ]
     },
     "execution_count": 9,
     "metadata": {},
     "output_type": "execute_result"
    }
   ],
   "source": [
    "xb.shape\n"
   ]
  },
  {
   "cell_type": "code",
   "execution_count": 10,
   "id": "fe03067b-5c29-4227-925d-ebfa9ebc6e0e",
   "metadata": {},
   "outputs": [
    {
     "data": {
      "text/plain": [
       "512"
      ]
     },
     "execution_count": 10,
     "metadata": {},
     "output_type": "execute_result"
    }
   ],
   "source": [
    "d = xb.shape[-1]                       \n",
    "d"
   ]
  },
  {
   "cell_type": "code",
   "execution_count": 11,
   "id": "a447b05c-f30d-4d43-a6ed-fd29a99477a2",
   "metadata": {},
   "outputs": [],
   "source": [
    "index = faiss.IndexFlatL2(d)\n"
   ]
  },
  {
   "cell_type": "code",
   "execution_count": 12,
   "id": "3c2d2c60-0afb-44cf-9cf6-5032811725a7",
   "metadata": {},
   "outputs": [
    {
     "data": {
      "text/plain": [
       "True"
      ]
     },
     "execution_count": 12,
     "metadata": {},
     "output_type": "execute_result"
    }
   ],
   "source": [
    "index.is_trained\n"
   ]
  },
  {
   "cell_type": "code",
   "execution_count": 13,
   "id": "7aa739ee-42e1-4ac5-b1d8-9876ec777129",
   "metadata": {},
   "outputs": [],
   "source": [
    "index.add(xb)                \n"
   ]
  },
  {
   "cell_type": "code",
   "execution_count": 14,
   "id": "e1bff8d2-30ea-4555-975d-dbbe3a0cde14",
   "metadata": {},
   "outputs": [],
   "source": [
    "xq = xb\n"
   ]
  },
  {
   "cell_type": "code",
   "execution_count": 15,
   "id": "ab9e1b45-1cf2-4e88-960c-6999ad312e22",
   "metadata": {},
   "outputs": [
    {
     "data": {
      "text/plain": [
       "24957"
      ]
     },
     "execution_count": 15,
     "metadata": {},
     "output_type": "execute_result"
    }
   ],
   "source": [
    "len(xq)\n"
   ]
  },
  {
   "cell_type": "code",
   "execution_count": null,
   "id": "6200be29-b926-4847-9e42-daf90d99319d",
   "metadata": {},
   "outputs": [],
   "source": []
  },
  {
   "cell_type": "code",
   "execution_count": 16,
   "id": "306e3a89-331c-4253-b7cf-ce7a0d951b42",
   "metadata": {},
   "outputs": [
    {
     "name": "stdout",
     "output_type": "stream",
     "text": [
      "CPU times: user 20.7 ms, sys: 0 ns, total: 20.7 ms\n",
      "Wall time: 19 ms\n"
     ]
    }
   ],
   "source": [
    "%%time\n",
    "D, I = index.search(xq[:1], k)   "
   ]
  },
  {
   "cell_type": "code",
   "execution_count": 17,
   "id": "badcb20e-f872-4763-baf5-1876d5dd617d",
   "metadata": {},
   "outputs": [
    {
     "name": "stdout",
     "output_type": "stream",
     "text": [
      "CPU times: user 32 s, sys: 35.9 ms, total: 32 s\n",
      "Wall time: 10.7 s\n"
     ]
    }
   ],
   "source": [
    "%%time\n",
    "D, I = index.search(xq, k)     "
   ]
  },
  {
   "cell_type": "code",
   "execution_count": 18,
   "id": "0b555673-cb87-4b11-aa81-ed2ff69d513e",
   "metadata": {},
   "outputs": [
    {
     "data": {
      "text/plain": [
       "array([[0.00000000e+00, 2.62009501e-01, 2.68038988e-01],\n",
       "       [0.00000000e+00, 1.42064452e-01, 1.52374268e-01],\n",
       "       [1.19209290e-07, 1.63132429e-01, 1.83581352e-01],\n",
       "       ...,\n",
       "       [0.00000000e+00, 8.58912468e-02, 1.00482225e-01],\n",
       "       [8.34465027e-07, 2.90696144e-01, 3.25628757e-01],\n",
       "       [2.38418579e-07, 4.94306803e-01, 5.24386048e-01]], dtype=float32)"
      ]
     },
     "execution_count": 18,
     "metadata": {},
     "output_type": "execute_result"
    }
   ],
   "source": [
    "D\n"
   ]
  },
  {
   "cell_type": "code",
   "execution_count": 19,
   "id": "c61f67df-1b7a-4aa1-8d10-576810fec9a8",
   "metadata": {},
   "outputs": [
    {
     "data": {
      "text/plain": [
       "array([[0.00000000e+00, 2.62009501e-01, 2.68038988e-01],\n",
       "       [0.00000000e+00, 1.42064452e-01, 1.52374268e-01],\n",
       "       [1.19209290e-07, 1.63132429e-01, 1.83581352e-01],\n",
       "       ...,\n",
       "       [0.00000000e+00, 8.58912468e-02, 1.00482225e-01],\n",
       "       [8.34465027e-07, 2.90696144e-01, 3.25628757e-01],\n",
       "       [2.38418579e-07, 4.94306803e-01, 5.24386048e-01]], dtype=float32)"
      ]
     },
     "execution_count": 19,
     "metadata": {},
     "output_type": "execute_result"
    }
   ],
   "source": [
    "D"
   ]
  },
  {
   "cell_type": "code",
   "execution_count": 20,
   "id": "65310b96-aab0-4a34-a9eb-48d0dbefc0ec",
   "metadata": {},
   "outputs": [
    {
     "data": {
      "text/plain": [
       "array([[    0,   416,  1119],\n",
       "       [    1,   686,   133],\n",
       "       [    2,    22,   220],\n",
       "       ...,\n",
       "       [24954, 24896, 24874],\n",
       "       [24955, 15230, 13425],\n",
       "       [24956, 22310, 23279]])"
      ]
     },
     "execution_count": 20,
     "metadata": {},
     "output_type": "execute_result"
    }
   ],
   "source": [
    "I"
   ]
  },
  {
   "cell_type": "code",
   "execution_count": 21,
   "id": "b3fb40a2-dd43-4676-a766-3d198943f957",
   "metadata": {},
   "outputs": [],
   "source": [
    "z = I[:,0] == np.array( list(range(len(xq))))"
   ]
  },
  {
   "cell_type": "code",
   "execution_count": 22,
   "id": "ec2181ae-7a70-4a3a-bc34-bd9899168fe5",
   "metadata": {},
   "outputs": [
    {
     "data": {
      "text/plain": [
       "(24957, 24957, 0)"
      ]
     },
     "execution_count": 22,
     "metadata": {},
     "output_type": "execute_result"
    }
   ],
   "source": [
    "z.sum() , len(z) ,  (  len(z) - z.sum())"
   ]
  },
  {
   "cell_type": "code",
   "execution_count": null,
   "id": "3e982564-03fe-4c56-ac20-eecc543b8d99",
   "metadata": {},
   "outputs": [],
   "source": [
    "np.array( list(range(len(xq))))[z]"
   ]
  },
  {
   "cell_type": "code",
   "execution_count": null,
   "id": "e88e34b6-f9e0-4835-90cc-ba0e6b2c0414",
   "metadata": {},
   "outputs": [],
   "source": []
  },
  {
   "cell_type": "code",
   "execution_count": null,
   "id": "e7a6776b-268b-4e00-8c39-ee3d24e849d1",
   "metadata": {},
   "outputs": [],
   "source": [
    "z"
   ]
  },
  {
   "cell_type": "code",
   "execution_count": null,
   "id": "27641884-4563-4c1a-9d37-1b8e61ee5322",
   "metadata": {},
   "outputs": [],
   "source": [
    "np.where(z == False)"
   ]
  },
  {
   "cell_type": "code",
   "execution_count": null,
   "id": "662ed010-cb15-4c54-a4cf-2a46029c5f02",
   "metadata": {},
   "outputs": [],
   "source": [
    "D[18]"
   ]
  },
  {
   "cell_type": "code",
   "execution_count": null,
   "id": "91bf451c-d5e1-4b58-acca-eb895574b063",
   "metadata": {},
   "outputs": [],
   "source": [
    "I[18]"
   ]
  },
  {
   "cell_type": "code",
   "execution_count": null,
   "id": "02bac14d-9696-4a49-be12-9541beeb45a2",
   "metadata": {},
   "outputs": [],
   "source": []
  },
  {
   "cell_type": "code",
   "execution_count": 41,
   "id": "cc408285-5153-4e66-8a97-9345b31810dd",
   "metadata": {},
   "outputs": [
    {
     "data": {
      "text/plain": [
       "249.57"
      ]
     },
     "execution_count": 41,
     "metadata": {},
     "output_type": "execute_result"
    }
   ],
   "source": [
    "24957 / nlist"
   ]
  },
  {
   "cell_type": "markdown",
   "id": "7e79d4fc-8191-4151-b330-01b41a2b05d4",
   "metadata": {},
   "source": [
    "## faiss ivf"
   ]
  },
  {
   "cell_type": "code",
   "execution_count": 42,
   "id": "342966dc-d361-4fec-8ebe-c3c67864736e",
   "metadata": {},
   "outputs": [],
   "source": [
    "nlist = 20 # nmber of clusters\n",
    "\n",
    "quantizer = faiss.IndexFlatL2(d)  # the other index\n",
    "index = faiss.IndexIVFFlat(quantizer, d, nlist, faiss.METRIC_L2)"
   ]
  },
  {
   "cell_type": "code",
   "execution_count": 43,
   "id": "fec38a91-8c3c-40fe-935d-a160474a7e4f",
   "metadata": {},
   "outputs": [],
   "source": [
    "assert not index.is_trained\n",
    "index.train(xb)\n",
    "assert index.is_trained"
   ]
  },
  {
   "cell_type": "code",
   "execution_count": 44,
   "id": "6b577199-2e7b-439f-93a4-2653c7545eef",
   "metadata": {},
   "outputs": [],
   "source": [
    "xq = xb\n",
    "index.add(xb)         \n"
   ]
  },
  {
   "cell_type": "code",
   "execution_count": 45,
   "id": "451988b2-0e03-4e12-92e2-8df408094526",
   "metadata": {},
   "outputs": [
    {
     "name": "stdout",
     "output_type": "stream",
     "text": [
      "CPU times: user 0 ns, sys: 1.57 ms, total: 1.57 ms\n",
      "Wall time: 661 µs\n"
     ]
    }
   ],
   "source": [
    "%%time\n",
    "\n",
    "\n",
    "index.nprobe = 1              # default nprobe is 1\n",
    "\n",
    "D, I = index.search(xq[:1], k)     # actual search"
   ]
  },
  {
   "cell_type": "code",
   "execution_count": 46,
   "id": "60795b88-8957-4c49-a729-22f935c4dc3f",
   "metadata": {},
   "outputs": [
    {
     "name": "stdout",
     "output_type": "stream",
     "text": [
      "CPU times: user 28.3 s, sys: 548 µs, total: 28.3 s\n",
      "Wall time: 3.63 s\n"
     ]
    }
   ],
   "source": [
    "%%time\n",
    "\n",
    "\n",
    "index.nprobe = 1              # default nprobe is 1\n",
    "\n",
    "D, I = index.search(xq, k)     # actual search"
   ]
  },
  {
   "cell_type": "code",
   "execution_count": 47,
   "id": "ddbabfeb-2b27-412c-b77b-1d795b00aa29",
   "metadata": {},
   "outputs": [
    {
     "data": {
      "text/plain": [
       "(24957, 24957, 0)"
      ]
     },
     "execution_count": 47,
     "metadata": {},
     "output_type": "execute_result"
    }
   ],
   "source": [
    "z = I[:,0] == np.array( list(range(len(xq))))\n",
    "z.sum() , len(z) ,  (  len(z) - z.sum())"
   ]
  },
  {
   "cell_type": "code",
   "execution_count": null,
   "id": "fbffb654-a3a6-4d42-956f-602dab97124e",
   "metadata": {},
   "outputs": [],
   "source": []
  }
 ],
 "metadata": {
  "environment": {
   "kernel": "py38",
   "name": "pytorch-gpu.1-12.m99",
   "type": "gcloud",
   "uri": "gcr.io/deeplearning-platform-release/pytorch-gpu.1-12:m99"
  },
  "kernelspec": {
   "display_name": "py38",
   "language": "python",
   "name": "py38"
  },
  "language_info": {
   "codemirror_mode": {
    "name": "ipython",
    "version": 3
   },
   "file_extension": ".py",
   "mimetype": "text/x-python",
   "name": "python",
   "nbconvert_exporter": "python",
   "pygments_lexer": "ipython3",
   "version": "3.8.13"
  }
 },
 "nbformat": 4,
 "nbformat_minor": 5
}
