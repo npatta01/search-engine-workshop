{
 "cells": [
  {
   "cell_type": "markdown",
   "id": "e45e627d-9c8c-4f19-ab91-0e64ed8677d7",
   "metadata": {},
   "source": [
    "### Load the libraries"
   ]
  },
  {
   "cell_type": "code",
   "execution_count": 2,
   "id": "62298ef5-fa20-4164-8ec7-e7f43bf85c20",
   "metadata": {},
   "outputs": [],
   "source": [
    "from pathlib import Path\n",
    "import numpy as np\n",
    "import pandas as pd\n",
    "import faiss\n",
    "\n",
    "import datasets"
   ]
  },
  {
   "cell_type": "markdown",
   "id": "6b9a73d2-aa07-46ef-b94d-8780ca9ecb68",
   "metadata": {},
   "source": [
    "### Load the embeddings of the image corpus"
   ]
  },
  {
   "cell_type": "code",
   "execution_count": 3,
   "id": "74c3f8aa-cb27-4ae8-a9a8-0060001d357c",
   "metadata": {},
   "outputs": [],
   "source": [
    "dset = datasets.load_from_disk(\"../data/processed_embeddings\")\n",
    "corpus = dset['embeddings']\n",
    "\n",
    "corpus = np.array(corpus).astype('float32')\n",
    "corpus = np.unique(corpus, axis=0)"
   ]
  },
  {
   "cell_type": "code",
   "execution_count": 4,
   "id": "94eeb2f5-88ff-428f-8e9c-5014234427b8",
   "metadata": {},
   "outputs": [
    {
     "data": {
      "text/plain": [
       "(24958, 512)"
      ]
     },
     "execution_count": 4,
     "metadata": {},
     "output_type": "execute_result"
    }
   ],
   "source": [
    "corpus.shape"
   ]
  },
  {
   "cell_type": "code",
   "execution_count": 26,
   "id": "939108fa-daf9-472c-b026-19c6d9708a77",
   "metadata": {},
   "outputs": [],
   "source": []
  },
  {
   "cell_type": "code",
   "execution_count": 28,
   "id": "4bfe1e2f-a6ea-4a22-8269-18d78df83f62",
   "metadata": {},
   "outputs": [],
   "source": [
    "# test without corpus. # could be removed.\n",
    "dimension = 512\n",
    "corpus = np.random.rand(100_000 , dimension ).astype('float32')\n",
    "corpus = np.unique(corpus, axis=0)\n"
   ]
  },
  {
   "cell_type": "code",
   "execution_count": 4,
   "id": "71c34e60-d781-4511-90af-0ed6f42dceea",
   "metadata": {},
   "outputs": [
    {
     "data": {
      "text/plain": [
       "array([[-0.8442147 ,  0.1623359 ,  0.3072559 , ...,  0.40091127,\n",
       "        -0.20468342, -0.11151588],\n",
       "       [-0.82529676,  0.26502204,  0.05470146, ...,  0.27426067,\n",
       "        -0.56668615, -0.08001572],\n",
       "       [-0.8063217 , -0.19098167, -0.22377765, ...,  0.2548957 ,\n",
       "        -0.12389499,  0.27585742],\n",
       "       ...,\n",
       "       [ 0.9416133 ,  0.25078115,  0.20232391, ...,  0.35934162,\n",
       "        -0.11814432, -0.4162678 ],\n",
       "       [ 0.9556082 ,  0.44172812,  0.06752564, ...,  0.00269235,\n",
       "         0.08827013, -0.36235547],\n",
       "       [ 1.0331686 ,  0.42330503, -0.11260805, ...,  0.16301963,\n",
       "         0.00906937, -0.25052726]], dtype=float32)"
      ]
     },
     "execution_count": 4,
     "metadata": {},
     "output_type": "execute_result"
    }
   ],
   "source": [
    "corpus"
   ]
  },
  {
   "cell_type": "code",
   "execution_count": 5,
   "id": "63581c47-4d2a-4106-883f-3f42c9070e99",
   "metadata": {},
   "outputs": [],
   "source": [
    "#new_data = np.unique(photo_features, axis=0)\n"
   ]
  },
  {
   "cell_type": "code",
   "execution_count": null,
   "id": "69bf8642-772f-4996-b3c7-910a1f38b1b2",
   "metadata": {},
   "outputs": [],
   "source": [
    "#len(new_data) , len(photo_features)"
   ]
  },
  {
   "cell_type": "code",
   "execution_count": null,
   "id": "b5fbf481-46ac-45d3-b277-e9e19185c214",
   "metadata": {},
   "outputs": [],
   "source": []
  },
  {
   "cell_type": "code",
   "execution_count": 29,
   "id": "7581eb23-2849-4d4f-ba9a-28dc6e231fe0",
   "metadata": {},
   "outputs": [],
   "source": [
    "\n"
   ]
  },
  {
   "cell_type": "code",
   "execution_count": null,
   "id": "676076ac-6188-42d0-b23f-3830b1270043",
   "metadata": {},
   "outputs": [],
   "source": []
  },
  {
   "cell_type": "markdown",
   "id": "06a59231-abcf-45f9-a69a-69149e73c2f8",
   "metadata": {},
   "source": [
    "### Create the <a href =\"https://github.com/facebookresearch/faiss\">FAISS</a> index. \n",
    "<br/>FAISS will be used to create the vector search space using the embeddings corpus."
   ]
  },
  {
   "cell_type": "code",
   "execution_count": 32,
   "id": "a447b05c-f30d-4d43-a6ed-fd29a99477a2",
   "metadata": {},
   "outputs": [],
   "source": [
    "xb = corpus\n",
    "xb.shape\n",
    "d = xb.shape[-1]                       \n",
    "index = faiss.IndexFlatL2(d)\n"
   ]
  },
  {
   "cell_type": "code",
   "execution_count": 33,
   "id": "3c2d2c60-0afb-44cf-9cf6-5032811725a7",
   "metadata": {},
   "outputs": [
    {
     "data": {
      "text/plain": [
       "True"
      ]
     },
     "execution_count": 33,
     "metadata": {},
     "output_type": "execute_result"
    }
   ],
   "source": [
    "index.is_trained\n"
   ]
  },
  {
   "cell_type": "code",
   "execution_count": 34,
   "id": "7aa739ee-42e1-4ac5-b1d8-9876ec777129",
   "metadata": {},
   "outputs": [],
   "source": [
    "index.add(xb)                \n"
   ]
  },
  {
   "cell_type": "code",
   "execution_count": 35,
   "id": "e1bff8d2-30ea-4555-975d-dbbe3a0cde14",
   "metadata": {},
   "outputs": [],
   "source": [
    "xq = xb\n"
   ]
  },
  {
   "cell_type": "code",
   "execution_count": 36,
   "id": "ab9e1b45-1cf2-4e88-960c-6999ad312e22",
   "metadata": {},
   "outputs": [
    {
     "data": {
      "text/plain": [
       "100000"
      ]
     },
     "execution_count": 36,
     "metadata": {},
     "output_type": "execute_result"
    }
   ],
   "source": [
    "len(xq)\n"
   ]
  },
  {
   "cell_type": "code",
   "execution_count": 37,
   "id": "6200be29-b926-4847-9e42-daf90d99319d",
   "metadata": {},
   "outputs": [],
   "source": [
    "k =1"
   ]
  },
  {
   "cell_type": "code",
   "execution_count": 38,
   "id": "306e3a89-331c-4253-b7cf-ce7a0d951b42",
   "metadata": {},
   "outputs": [
    {
     "name": "stdout",
     "output_type": "stream",
     "text": [
      "73.6 ms ± 62.3 µs per loop (mean ± std. dev. of 7 runs, 10 loops each)\n"
     ]
    }
   ],
   "source": [
    "%%timeit\n",
    "D, I = index.search(xq[:1], k)   "
   ]
  },
  {
   "cell_type": "code",
   "execution_count": 39,
   "id": "badcb20e-f872-4763-baf5-1876d5dd617d",
   "metadata": {},
   "outputs": [
    {
     "name": "stdout",
     "output_type": "stream",
     "text": [
      "CPU times: user 8min 26s, sys: 399 ms, total: 8min 27s\n",
      "Wall time: 2min 53s\n"
     ]
    }
   ],
   "source": [
    "%%time\n",
    "D, I = index.search(xq, k)     "
   ]
  },
  {
   "cell_type": "code",
   "execution_count": 17,
   "id": "0b555673-cb87-4b11-aa81-ed2ff69d513e",
   "metadata": {},
   "outputs": [
    {
     "data": {
      "text/plain": [
       "array([[0.0000000e+00],\n",
       "       [7.6293945e-05],\n",
       "       [0.0000000e+00],\n",
       "       ...,\n",
       "       [6.1035156e-05],\n",
       "       [0.0000000e+00],\n",
       "       [0.0000000e+00]], dtype=float32)"
      ]
     },
     "execution_count": 17,
     "metadata": {},
     "output_type": "execute_result"
    }
   ],
   "source": [
    "D\n"
   ]
  },
  {
   "cell_type": "code",
   "execution_count": 18,
   "id": "65310b96-aab0-4a34-a9eb-48d0dbefc0ec",
   "metadata": {},
   "outputs": [
    {
     "data": {
      "text/plain": [
       "array([[    0],\n",
       "       [    1],\n",
       "       [    2],\n",
       "       ...,\n",
       "       [24955],\n",
       "       [24956],\n",
       "       [24957]])"
      ]
     },
     "execution_count": 18,
     "metadata": {},
     "output_type": "execute_result"
    }
   ],
   "source": [
    "I"
   ]
  },
  {
   "cell_type": "code",
   "execution_count": 19,
   "id": "b3fb40a2-dd43-4676-a766-3d198943f957",
   "metadata": {},
   "outputs": [],
   "source": [
    "z = I[:,0] == np.array( list(range(len(xq))))"
   ]
  },
  {
   "cell_type": "code",
   "execution_count": 20,
   "id": "ec2181ae-7a70-4a3a-bc34-bd9899168fe5",
   "metadata": {},
   "outputs": [
    {
     "data": {
      "text/plain": [
       "(24957, 24958, 1)"
      ]
     },
     "execution_count": 20,
     "metadata": {},
     "output_type": "execute_result"
    }
   ],
   "source": [
    "z.sum() , len(z) ,  (  len(z) - z.sum())"
   ]
  },
  {
   "cell_type": "code",
   "execution_count": 21,
   "id": "3e982564-03fe-4c56-ac20-eecc543b8d99",
   "metadata": {},
   "outputs": [
    {
     "data": {
      "text/plain": [
       "array([    0,     1,     2, ..., 24955, 24956, 24957])"
      ]
     },
     "execution_count": 21,
     "metadata": {},
     "output_type": "execute_result"
    }
   ],
   "source": [
    "np.array( list(range(len(xq))))[z]"
   ]
  },
  {
   "cell_type": "code",
   "execution_count": null,
   "id": "e88e34b6-f9e0-4835-90cc-ba0e6b2c0414",
   "metadata": {},
   "outputs": [],
   "source": []
  },
  {
   "cell_type": "code",
   "execution_count": null,
   "id": "e7a6776b-268b-4e00-8c39-ee3d24e849d1",
   "metadata": {},
   "outputs": [],
   "source": [
    "z"
   ]
  },
  {
   "cell_type": "code",
   "execution_count": 22,
   "id": "27641884-4563-4c1a-9d37-1b8e61ee5322",
   "metadata": {},
   "outputs": [
    {
     "data": {
      "text/plain": [
       "(array([3766]),)"
      ]
     },
     "execution_count": 22,
     "metadata": {},
     "output_type": "execute_result"
    }
   ],
   "source": [
    "np.where(z == False)"
   ]
  },
  {
   "cell_type": "code",
   "execution_count": 23,
   "id": "662ed010-cb15-4c54-a4cf-2a46029c5f02",
   "metadata": {},
   "outputs": [
    {
     "data": {
      "text/plain": [
       "array([0.], dtype=float32)"
      ]
     },
     "execution_count": 23,
     "metadata": {},
     "output_type": "execute_result"
    }
   ],
   "source": [
    "D[3766]"
   ]
  },
  {
   "cell_type": "code",
   "execution_count": 24,
   "id": "91bf451c-d5e1-4b58-acca-eb895574b063",
   "metadata": {},
   "outputs": [
    {
     "data": {
      "text/plain": [
       "array([3765])"
      ]
     },
     "execution_count": 24,
     "metadata": {},
     "output_type": "execute_result"
    }
   ],
   "source": [
    "I[3766]"
   ]
  },
  {
   "cell_type": "code",
   "execution_count": null,
   "id": "02bac14d-9696-4a49-be12-9541beeb45a2",
   "metadata": {},
   "outputs": [],
   "source": []
  },
  {
   "cell_type": "markdown",
   "id": "7e79d4fc-8191-4151-b330-01b41a2b05d4",
   "metadata": {},
   "source": [
    "## faiss ivf"
   ]
  },
  {
   "cell_type": "code",
   "execution_count": null,
   "id": "342966dc-d361-4fec-8ebe-c3c67864736e",
   "metadata": {},
   "outputs": [],
   "source": [
    "nlist = 20 # nmber of clusters\n",
    "\n",
    "quantizer = faiss.IndexFlatL2(d)  # the other index\n",
    "index = faiss.IndexIVFFlat(quantizer, d, nlist, faiss.METRIC_L2)"
   ]
  },
  {
   "cell_type": "code",
   "execution_count": null,
   "id": "fec38a91-8c3c-40fe-935d-a160474a7e4f",
   "metadata": {},
   "outputs": [],
   "source": [
    "assert not index.is_trained\n",
    "index.train(xb)\n",
    "assert index.is_trained"
   ]
  },
  {
   "cell_type": "code",
   "execution_count": null,
   "id": "6b577199-2e7b-439f-93a4-2653c7545eef",
   "metadata": {},
   "outputs": [],
   "source": [
    "xq = xb\n",
    "index.add(xb)         \n"
   ]
  },
  {
   "cell_type": "code",
   "execution_count": null,
   "id": "451988b2-0e03-4e12-92e2-8df408094526",
   "metadata": {},
   "outputs": [],
   "source": [
    "%%timeit\n",
    "\n",
    "\n",
    "index.nprobe = 1              # default nprobe is 1\n",
    "\n",
    "D, I = index.search(xq[:1], k)     # actual search"
   ]
  },
  {
   "cell_type": "code",
   "execution_count": null,
   "id": "60795b88-8957-4c49-a729-22f935c4dc3f",
   "metadata": {},
   "outputs": [],
   "source": [
    "%%time\n",
    "\n",
    "\n",
    "index.nprobe = 1              # default nprobe is 1\n",
    "\n",
    "D, I = index.search(xq, k)     # actual search"
   ]
  },
  {
   "cell_type": "code",
   "execution_count": null,
   "id": "ddbabfeb-2b27-412c-b77b-1d795b00aa29",
   "metadata": {},
   "outputs": [],
   "source": [
    "z = I[:,0] == np.array( list(range(len(xq))))\n",
    "z.sum() , len(z) ,  (  len(z) - z.sum())"
   ]
  },
  {
   "cell_type": "code",
   "execution_count": null,
   "id": "31c0b86b-2d5e-480d-be94-c136e7fe07d1",
   "metadata": {},
   "outputs": [],
   "source": [
    "%%time\n",
    "index.nprobe = 5              # default nprobe is 1\n",
    "\n",
    "D, I = index.search(xq, k)    "
   ]
  },
  {
   "cell_type": "code",
   "execution_count": null,
   "id": "fbffb654-a3a6-4d42-956f-602dab97124e",
   "metadata": {},
   "outputs": [],
   "source": [
    "z = I[:,0] == np.array( list(range(len(xq))))\n",
    "z.sum() , len(z) ,  (  len(z) - z.sum())"
   ]
  },
  {
   "cell_type": "code",
   "execution_count": null,
   "id": "fd7e1354-2002-45dc-8732-9506ef6200cf",
   "metadata": {},
   "outputs": [],
   "source": []
  }
 ],
 "metadata": {
  "environment": {
   "kernel": "py38",
   "name": "pytorch-gpu.1-12.m99",
   "type": "gcloud",
   "uri": "gcr.io/deeplearning-platform-release/pytorch-gpu.1-12:m99"
  },
  "kernelspec": {
   "display_name": "Python [conda env:root] *",
   "language": "python",
   "name": "conda-root-py"
  },
  "language_info": {
   "codemirror_mode": {
    "name": "ipython",
    "version": 3
   },
   "file_extension": ".py",
   "mimetype": "text/x-python",
   "name": "python",
   "nbconvert_exporter": "python",
   "pygments_lexer": "ipython3",
   "version": "3.7.12"
  }
 },
 "nbformat": 4,
 "nbformat_minor": 5
}
