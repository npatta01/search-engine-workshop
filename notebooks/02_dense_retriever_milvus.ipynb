{
 "cells": [
  {
   "cell_type": "code",
   "execution_count": 1,
   "id": "d8e9589b-da2c-4a36-a260-36a4f72997cf",
   "metadata": {
    "tags": []
   },
   "outputs": [],
   "source": [
    "# !pip install -U pandas pinecone-client sentence-transformers\n"
   ]
  },
  {
   "cell_type": "code",
   "execution_count": null,
   "id": "497ca438-ed72-44c4-b029-dfe40d24b697",
   "metadata": {},
   "outputs": [],
   "source": []
  },
  {
   "cell_type": "markdown",
   "id": "18269eb9-193d-491b-9a4b-13e864146fb2",
   "metadata": {},
   "source": [
    "# Dense Retriever"
   ]
  },
  {
   "cell_type": "markdown",
   "id": "ff7964ce-ee3c-4cdf-b8f2-37dcf45006ab",
   "metadata": {},
   "source": [
    "This section uses a sentence-transformers model.   \n",
    "It maps sentences & paragraphs to a 384 dimensional dense vector space and can be used for tasks like clustering or semantic search.\n",
    "\n",
    "\n",
    "\n",
    "About the model `sentence-transformers/all-MiniLM-L6-v2`\n",
    "\n",
    "The project aims to train sentence embedding models on very large sentence level datasets using a self-supervised contrastive learning objective.    \n",
    "\n",
    "We fine-tuned in on a 1B sentence pairs dataset. \n",
    "\n",
    "We use a contrastive learning objective: given a sentence from the pair, the model should predict which out of a set of randomly sampled other sentences, was actually paired with it in our dataset.\n",
    "\n",
    "\n",
    "\n",
    "\n",
    "[Doc](https://huggingface.co/sentence-transformers/all-MiniLM-L6-v2)"
   ]
  },
  {
   "cell_type": "code",
   "execution_count": null,
   "id": "c5df8d68-dc64-480c-a786-f5b9b059bddd",
   "metadata": {},
   "outputs": [],
   "source": []
  },
  {
   "cell_type": "markdown",
   "id": "f3f9dd3e-e803-41a8-8490-2a0690deefa1",
   "metadata": {},
   "source": [
    "Other models listed in this page are also great candidates\n",
    "\n",
    "https://www.sbert.net/docs/pretrained_models.html#model-overview"
   ]
  },
  {
   "cell_type": "code",
   "execution_count": null,
   "id": "63604938-8d33-44b8-9081-85c5db3a3cc8",
   "metadata": {},
   "outputs": [],
   "source": []
  },
  {
   "cell_type": "code",
   "execution_count": 2,
   "id": "b352bcd9-d1c4-4846-b3d8-efd63ae3255d",
   "metadata": {},
   "outputs": [],
   "source": [
    "from sentence_transformers import SentenceTransformer\n",
    "\n",
    "import datasets\n",
    "import rich\n",
    "from IPython.display import Image, JSON\n",
    "from IPython.core.display import HTML\n",
    "import numpy as np\n",
    "\n",
    "from transformers import AutoTokenizer\n",
    "from pymilvus import (\n",
    "    connections,\n",
    "    utility,\n",
    "    FieldSchema, CollectionSchema, DataType,\n",
    "    Collection,\n",
    ")\n",
    "import pymilvus"
   ]
  },
  {
   "cell_type": "code",
   "execution_count": null,
   "id": "a51e4d05-d325-4c8f-b184-d2aa634b7fcf",
   "metadata": {},
   "outputs": [],
   "source": []
  },
  {
   "cell_type": "code",
   "execution_count": null,
   "id": "b79a0ebd-ca41-4a8d-a700-41003fe13d27",
   "metadata": {},
   "outputs": [],
   "source": []
  },
  {
   "cell_type": "code",
   "execution_count": 3,
   "id": "58510833-873a-46d4-a364-715c4c3a53dd",
   "metadata": {},
   "outputs": [],
   "source": [
    "model_name = 'sentence-transformers/all-MiniLM-L6-v2'"
   ]
  },
  {
   "cell_type": "code",
   "execution_count": 4,
   "id": "ef7e8dff-3805-4b25-9bae-6ce925e00c6f",
   "metadata": {},
   "outputs": [
    {
     "data": {
      "text/plain": [
       "SentenceTransformer(\n",
       "  (0): Transformer({'max_seq_length': 256, 'do_lower_case': False}) with Transformer model: BertModel \n",
       "  (1): Pooling({'word_embedding_dimension': 384, 'pooling_mode_cls_token': False, 'pooling_mode_mean_tokens': True, 'pooling_mode_max_tokens': False, 'pooling_mode_mean_sqrt_len_tokens': False})\n",
       "  (2): Normalize()\n",
       ")"
      ]
     },
     "execution_count": 4,
     "metadata": {},
     "output_type": "execute_result"
    }
   ],
   "source": [
    "\n",
    "# Initialize retriever with SentenceTransformer model \n",
    "model = SentenceTransformer(model_name)\n",
    "model"
   ]
  },
  {
   "cell_type": "code",
   "execution_count": null,
   "id": "4488d1d2-1450-41ac-a8bf-704435235daf",
   "metadata": {},
   "outputs": [],
   "source": []
  },
  {
   "cell_type": "markdown",
   "id": "129a663f-223a-43ef-97b6-62d7af0ee1f3",
   "metadata": {},
   "source": [
    "## Tokenizer"
   ]
  },
  {
   "cell_type": "code",
   "execution_count": 5,
   "id": "e84a0052-9f25-4b34-8678-aaa2c964ccc6",
   "metadata": {},
   "outputs": [
    {
     "data": {
      "text/html": [
       "<pre style=\"white-space:pre;overflow-x:auto;line-height:normal;font-family:Menlo,'DejaVu Sans Mono',consolas,'Courier New',monospace\"><span style=\"font-weight: bold\">{</span>\n",
       "    <span style=\"color: #008000; text-decoration-color: #008000\">'input_ids'</span>: <span style=\"color: #800080; text-decoration-color: #800080; font-weight: bold\">tensor</span><span style=\"font-weight: bold\">([</span>  <span style=\"color: #008080; text-decoration-color: #008080; font-weight: bold\">101</span>,  <span style=\"color: #008080; text-decoration-color: #008080; font-weight: bold\">2054</span>,  <span style=\"color: #008080; text-decoration-color: #008080; font-weight: bold\">2515</span>,  <span style=\"color: #008080; text-decoration-color: #008080; font-weight: bold\">1005</span>,  <span style=\"color: #008080; text-decoration-color: #008080; font-weight: bold\">3565</span>,  <span style=\"color: #008080; text-decoration-color: #008080; font-weight: bold\">1005</span>,  <span style=\"color: #008080; text-decoration-color: #008080; font-weight: bold\">2079</span>,  <span style=\"color: #008080; text-decoration-color: #008080; font-weight: bold\">1999</span>, <span style=\"color: #008080; text-decoration-color: #008080; font-weight: bold\">18750</span>,  <span style=\"color: #008080; text-decoration-color: #008080; font-weight: bold\">1029</span>,\n",
       "         <span style=\"color: #008080; text-decoration-color: #008080; font-weight: bold\">1011</span>,  <span style=\"color: #008080; text-decoration-color: #008080; font-weight: bold\">4489</span>,  <span style=\"color: #008080; text-decoration-color: #008080; font-weight: bold\">2090</span>,  <span style=\"color: #008080; text-decoration-color: #008080; font-weight: bold\">3565</span>,  <span style=\"color: #008080; text-decoration-color: #008080; font-weight: bold\">1006</span>,  <span style=\"color: #008080; text-decoration-color: #008080; font-weight: bold\">1007</span>,  <span style=\"color: #008080; text-decoration-color: #008080; font-weight: bold\">1012</span>,  <span style=\"color: #008080; text-decoration-color: #008080; font-weight: bold\">1035</span>,  <span style=\"color: #008080; text-decoration-color: #008080; font-weight: bold\">1035</span>,  <span style=\"color: #008080; text-decoration-color: #008080; font-weight: bold\">1999</span>,\n",
       "         <span style=\"color: #008080; text-decoration-color: #008080; font-weight: bold\">4183</span>,  <span style=\"color: #008080; text-decoration-color: #008080; font-weight: bold\">1035</span>,  <span style=\"color: #008080; text-decoration-color: #008080; font-weight: bold\">1035</span>,  <span style=\"color: #008080; text-decoration-color: #008080; font-weight: bold\">1006</span>,  <span style=\"color: #008080; text-decoration-color: #008080; font-weight: bold\">1007</span>,  <span style=\"color: #008080; text-decoration-color: #008080; font-weight: bold\">1998</span>, <span style=\"color: #008080; text-decoration-color: #008080; font-weight: bold\">13216</span>,  <span style=\"color: #008080; text-decoration-color: #008080; font-weight: bold\">3565</span>, <span style=\"color: #008080; text-decoration-color: #008080; font-weight: bold\">26266</span>,  <span style=\"color: #008080; text-decoration-color: #008080; font-weight: bold\">1035</span>,\n",
       "         <span style=\"color: #008080; text-decoration-color: #008080; font-weight: bold\">1035</span>,  <span style=\"color: #008080; text-decoration-color: #008080; font-weight: bold\">1999</span>,  <span style=\"color: #008080; text-decoration-color: #008080; font-weight: bold\">4183</span>,  <span style=\"color: #008080; text-decoration-color: #008080; font-weight: bold\">1035</span>,  <span style=\"color: #008080; text-decoration-color: #008080; font-weight: bold\">1035</span>,  <span style=\"color: #008080; text-decoration-color: #008080; font-weight: bold\">1006</span>,  <span style=\"color: #008080; text-decoration-color: #008080; font-weight: bold\">1007</span>,   <span style=\"color: #008080; text-decoration-color: #008080; font-weight: bold\">102</span><span style=\"font-weight: bold\">])</span>,\n",
       "    <span style=\"color: #008000; text-decoration-color: #008000\">'token_type_ids'</span>: <span style=\"color: #800080; text-decoration-color: #800080; font-weight: bold\">tensor</span><span style=\"font-weight: bold\">([</span><span style=\"color: #008080; text-decoration-color: #008080; font-weight: bold\">0</span>, <span style=\"color: #008080; text-decoration-color: #008080; font-weight: bold\">0</span>, <span style=\"color: #008080; text-decoration-color: #008080; font-weight: bold\">0</span>, <span style=\"color: #008080; text-decoration-color: #008080; font-weight: bold\">0</span>, <span style=\"color: #008080; text-decoration-color: #008080; font-weight: bold\">0</span>, <span style=\"color: #008080; text-decoration-color: #008080; font-weight: bold\">0</span>, <span style=\"color: #008080; text-decoration-color: #008080; font-weight: bold\">0</span>, <span style=\"color: #008080; text-decoration-color: #008080; font-weight: bold\">0</span>, <span style=\"color: #008080; text-decoration-color: #008080; font-weight: bold\">0</span>, <span style=\"color: #008080; text-decoration-color: #008080; font-weight: bold\">0</span>, <span style=\"color: #008080; text-decoration-color: #008080; font-weight: bold\">0</span>, <span style=\"color: #008080; text-decoration-color: #008080; font-weight: bold\">0</span>, <span style=\"color: #008080; text-decoration-color: #008080; font-weight: bold\">0</span>, <span style=\"color: #008080; text-decoration-color: #008080; font-weight: bold\">0</span>, <span style=\"color: #008080; text-decoration-color: #008080; font-weight: bold\">0</span>, <span style=\"color: #008080; text-decoration-color: #008080; font-weight: bold\">0</span>, <span style=\"color: #008080; text-decoration-color: #008080; font-weight: bold\">0</span>, <span style=\"color: #008080; text-decoration-color: #008080; font-weight: bold\">0</span>, <span style=\"color: #008080; text-decoration-color: #008080; font-weight: bold\">0</span>, <span style=\"color: #008080; text-decoration-color: #008080; font-weight: bold\">0</span>, <span style=\"color: #008080; text-decoration-color: #008080; font-weight: bold\">0</span>, <span style=\"color: #008080; text-decoration-color: #008080; font-weight: bold\">0</span>, <span style=\"color: #008080; text-decoration-color: #008080; font-weight: bold\">0</span>, <span style=\"color: #008080; text-decoration-color: #008080; font-weight: bold\">0</span>,\n",
       "        <span style=\"color: #008080; text-decoration-color: #008080; font-weight: bold\">0</span>, <span style=\"color: #008080; text-decoration-color: #008080; font-weight: bold\">0</span>, <span style=\"color: #008080; text-decoration-color: #008080; font-weight: bold\">0</span>, <span style=\"color: #008080; text-decoration-color: #008080; font-weight: bold\">0</span>, <span style=\"color: #008080; text-decoration-color: #008080; font-weight: bold\">0</span>, <span style=\"color: #008080; text-decoration-color: #008080; font-weight: bold\">0</span>, <span style=\"color: #008080; text-decoration-color: #008080; font-weight: bold\">0</span>, <span style=\"color: #008080; text-decoration-color: #008080; font-weight: bold\">0</span>, <span style=\"color: #008080; text-decoration-color: #008080; font-weight: bold\">0</span>, <span style=\"color: #008080; text-decoration-color: #008080; font-weight: bold\">0</span>, <span style=\"color: #008080; text-decoration-color: #008080; font-weight: bold\">0</span>, <span style=\"color: #008080; text-decoration-color: #008080; font-weight: bold\">0</span>, <span style=\"color: #008080; text-decoration-color: #008080; font-weight: bold\">0</span>, <span style=\"color: #008080; text-decoration-color: #008080; font-weight: bold\">0</span><span style=\"font-weight: bold\">])</span>,\n",
       "    <span style=\"color: #008000; text-decoration-color: #008000\">'attention_mask'</span>: <span style=\"color: #800080; text-decoration-color: #800080; font-weight: bold\">tensor</span><span style=\"font-weight: bold\">([</span><span style=\"color: #008080; text-decoration-color: #008080; font-weight: bold\">1</span>, <span style=\"color: #008080; text-decoration-color: #008080; font-weight: bold\">1</span>, <span style=\"color: #008080; text-decoration-color: #008080; font-weight: bold\">1</span>, <span style=\"color: #008080; text-decoration-color: #008080; font-weight: bold\">1</span>, <span style=\"color: #008080; text-decoration-color: #008080; font-weight: bold\">1</span>, <span style=\"color: #008080; text-decoration-color: #008080; font-weight: bold\">1</span>, <span style=\"color: #008080; text-decoration-color: #008080; font-weight: bold\">1</span>, <span style=\"color: #008080; text-decoration-color: #008080; font-weight: bold\">1</span>, <span style=\"color: #008080; text-decoration-color: #008080; font-weight: bold\">1</span>, <span style=\"color: #008080; text-decoration-color: #008080; font-weight: bold\">1</span>, <span style=\"color: #008080; text-decoration-color: #008080; font-weight: bold\">1</span>, <span style=\"color: #008080; text-decoration-color: #008080; font-weight: bold\">1</span>, <span style=\"color: #008080; text-decoration-color: #008080; font-weight: bold\">1</span>, <span style=\"color: #008080; text-decoration-color: #008080; font-weight: bold\">1</span>, <span style=\"color: #008080; text-decoration-color: #008080; font-weight: bold\">1</span>, <span style=\"color: #008080; text-decoration-color: #008080; font-weight: bold\">1</span>, <span style=\"color: #008080; text-decoration-color: #008080; font-weight: bold\">1</span>, <span style=\"color: #008080; text-decoration-color: #008080; font-weight: bold\">1</span>, <span style=\"color: #008080; text-decoration-color: #008080; font-weight: bold\">1</span>, <span style=\"color: #008080; text-decoration-color: #008080; font-weight: bold\">1</span>, <span style=\"color: #008080; text-decoration-color: #008080; font-weight: bold\">1</span>, <span style=\"color: #008080; text-decoration-color: #008080; font-weight: bold\">1</span>, <span style=\"color: #008080; text-decoration-color: #008080; font-weight: bold\">1</span>, <span style=\"color: #008080; text-decoration-color: #008080; font-weight: bold\">1</span>,\n",
       "        <span style=\"color: #008080; text-decoration-color: #008080; font-weight: bold\">1</span>, <span style=\"color: #008080; text-decoration-color: #008080; font-weight: bold\">1</span>, <span style=\"color: #008080; text-decoration-color: #008080; font-weight: bold\">1</span>, <span style=\"color: #008080; text-decoration-color: #008080; font-weight: bold\">1</span>, <span style=\"color: #008080; text-decoration-color: #008080; font-weight: bold\">1</span>, <span style=\"color: #008080; text-decoration-color: #008080; font-weight: bold\">1</span>, <span style=\"color: #008080; text-decoration-color: #008080; font-weight: bold\">1</span>, <span style=\"color: #008080; text-decoration-color: #008080; font-weight: bold\">1</span>, <span style=\"color: #008080; text-decoration-color: #008080; font-weight: bold\">1</span>, <span style=\"color: #008080; text-decoration-color: #008080; font-weight: bold\">1</span>, <span style=\"color: #008080; text-decoration-color: #008080; font-weight: bold\">1</span>, <span style=\"color: #008080; text-decoration-color: #008080; font-weight: bold\">1</span>, <span style=\"color: #008080; text-decoration-color: #008080; font-weight: bold\">1</span>, <span style=\"color: #008080; text-decoration-color: #008080; font-weight: bold\">1</span><span style=\"font-weight: bold\">])</span>,\n",
       "    <span style=\"color: #008000; text-decoration-color: #008000\">'token_embeddings'</span>: <span style=\"color: #800080; text-decoration-color: #800080; font-weight: bold\">tensor</span><span style=\"font-weight: bold\">([[</span><span style=\"color: #008080; text-decoration-color: #008080; font-weight: bold\">-0.4915</span>,  <span style=\"color: #008080; text-decoration-color: #008080; font-weight: bold\">0.0079</span>,  <span style=\"color: #008080; text-decoration-color: #008080; font-weight: bold\">0.1150</span>,  <span style=\"color: #808000; text-decoration-color: #808000\">...</span>,  <span style=\"color: #008080; text-decoration-color: #008080; font-weight: bold\">0.3318</span>, <span style=\"color: #008080; text-decoration-color: #008080; font-weight: bold\">-0.1832</span>, <span style=\"color: #008080; text-decoration-color: #008080; font-weight: bold\">-0.0306</span><span style=\"font-weight: bold\">]</span>,\n",
       "        <span style=\"font-weight: bold\">[</span><span style=\"color: #008080; text-decoration-color: #008080; font-weight: bold\">-0.6559</span>,  <span style=\"color: #008080; text-decoration-color: #008080; font-weight: bold\">0.0482</span>,  <span style=\"color: #008080; text-decoration-color: #008080; font-weight: bold\">0.0829</span>,  <span style=\"color: #808000; text-decoration-color: #808000\">...</span>,  <span style=\"color: #008080; text-decoration-color: #008080; font-weight: bold\">0.3092</span>,  <span style=\"color: #008080; text-decoration-color: #008080; font-weight: bold\">0.2388</span>, <span style=\"color: #008080; text-decoration-color: #008080; font-weight: bold\">-0.0171</span><span style=\"font-weight: bold\">]</span>,\n",
       "        <span style=\"font-weight: bold\">[</span><span style=\"color: #008080; text-decoration-color: #008080; font-weight: bold\">-0.7676</span>, <span style=\"color: #008080; text-decoration-color: #008080; font-weight: bold\">-0.0600</span>,  <span style=\"color: #008080; text-decoration-color: #008080; font-weight: bold\">0.0628</span>,  <span style=\"color: #808000; text-decoration-color: #808000\">...</span>,  <span style=\"color: #008080; text-decoration-color: #008080; font-weight: bold\">0.4701</span>,  <span style=\"color: #008080; text-decoration-color: #008080; font-weight: bold\">0.5587</span>, <span style=\"color: #008080; text-decoration-color: #008080; font-weight: bold\">-0.2076</span><span style=\"font-weight: bold\">]</span>,\n",
       "        <span style=\"color: #808000; text-decoration-color: #808000\">...</span>,\n",
       "        <span style=\"font-weight: bold\">[</span><span style=\"color: #008080; text-decoration-color: #008080; font-weight: bold\">-0.5866</span>,  <span style=\"color: #008080; text-decoration-color: #008080; font-weight: bold\">0.3504</span>,  <span style=\"color: #008080; text-decoration-color: #008080; font-weight: bold\">0.1313</span>,  <span style=\"color: #808000; text-decoration-color: #808000\">...</span>,  <span style=\"color: #008080; text-decoration-color: #008080; font-weight: bold\">0.5132</span>,  <span style=\"color: #008080; text-decoration-color: #008080; font-weight: bold\">0.6868</span>,  <span style=\"color: #008080; text-decoration-color: #008080; font-weight: bold\">0.3820</span><span style=\"font-weight: bold\">]</span>,\n",
       "        <span style=\"font-weight: bold\">[</span><span style=\"color: #008080; text-decoration-color: #008080; font-weight: bold\">-0.4603</span>, <span style=\"color: #008080; text-decoration-color: #008080; font-weight: bold\">-0.0785</span>,  <span style=\"color: #008080; text-decoration-color: #008080; font-weight: bold\">0.1447</span>,  <span style=\"color: #808000; text-decoration-color: #808000\">...</span>,  <span style=\"color: #008080; text-decoration-color: #008080; font-weight: bold\">0.3814</span>,  <span style=\"color: #008080; text-decoration-color: #008080; font-weight: bold\">0.2534</span>,  <span style=\"color: #008080; text-decoration-color: #008080; font-weight: bold\">0.0358</span><span style=\"font-weight: bold\">]</span>,\n",
       "        <span style=\"font-weight: bold\">[</span><span style=\"color: #008080; text-decoration-color: #008080; font-weight: bold\">-0.6221</span>, <span style=\"color: #008080; text-decoration-color: #008080; font-weight: bold\">-0.1158</span>,  <span style=\"color: #008080; text-decoration-color: #008080; font-weight: bold\">0.1800</span>,  <span style=\"color: #808000; text-decoration-color: #808000\">...</span>,  <span style=\"color: #008080; text-decoration-color: #008080; font-weight: bold\">0.5810</span>,  <span style=\"color: #008080; text-decoration-color: #008080; font-weight: bold\">0.3475</span>, <span style=\"color: #008080; text-decoration-color: #008080; font-weight: bold\">-0.0104</span><span style=\"font-weight: bold\">]])</span>,\n",
       "    <span style=\"color: #008000; text-decoration-color: #008000\">'sentence_embedding'</span>: <span style=\"color: #800080; text-decoration-color: #800080; font-weight: bold\">tensor</span><span style=\"font-weight: bold\">([</span><span style=\"color: #008080; text-decoration-color: #008080; font-weight: bold\">-1.4246e-01</span>,  <span style=\"color: #008080; text-decoration-color: #008080; font-weight: bold\">3.0715e-03</span>,  <span style=\"color: #008080; text-decoration-color: #008080; font-weight: bold\">1.5940e-02</span>,  <span style=\"color: #008080; text-decoration-color: #008080; font-weight: bold\">2.8173e-02</span>,  <span style=\"color: #008080; text-decoration-color: #008080; font-weight: bold\">2.1864e-02</span>,\n",
       "        <span style=\"color: #008080; text-decoration-color: #008080; font-weight: bold\">-8.6956e-02</span>, <span style=\"color: #008080; text-decoration-color: #008080; font-weight: bold\">-3.7082e-02</span>,  <span style=\"color: #008080; text-decoration-color: #008080; font-weight: bold\">8.4534e-02</span>, <span style=\"color: #008080; text-decoration-color: #008080; font-weight: bold\">-8.4545e-02</span>, <span style=\"color: #008080; text-decoration-color: #008080; font-weight: bold\">-1.9203e-02</span>,\n",
       "         <span style=\"color: #008080; text-decoration-color: #008080; font-weight: bold\">1.2949e-02</span>,  <span style=\"color: #008080; text-decoration-color: #008080; font-weight: bold\">1.1646e-01</span>, <span style=\"color: #008080; text-decoration-color: #008080; font-weight: bold\">-6.2878e-03</span>,  <span style=\"color: #008080; text-decoration-color: #008080; font-weight: bold\">5.2016e-03</span>, <span style=\"color: #008080; text-decoration-color: #008080; font-weight: bold\">-4.4650e-02</span>,\n",
       "         <span style=\"color: #008080; text-decoration-color: #008080; font-weight: bold\">5.4338e-04</span>,  <span style=\"color: #008080; text-decoration-color: #008080; font-weight: bold\">1.1038e-01</span>, <span style=\"color: #008080; text-decoration-color: #008080; font-weight: bold\">-8.6887e-02</span>, <span style=\"color: #008080; text-decoration-color: #008080; font-weight: bold\">-7.3036e-02</span>, <span style=\"color: #008080; text-decoration-color: #008080; font-weight: bold\">-1.9409e-02</span>,\n",
       "         <span style=\"color: #008080; text-decoration-color: #008080; font-weight: bold\">1.4030e-01</span>, <span style=\"color: #008080; text-decoration-color: #008080; font-weight: bold\">-2.7500e-02</span>, <span style=\"color: #008080; text-decoration-color: #008080; font-weight: bold\">-6.8370e-02</span>,  <span style=\"color: #008080; text-decoration-color: #008080; font-weight: bold\">5.3648e-02</span>, <span style=\"color: #008080; text-decoration-color: #008080; font-weight: bold\">-1.0747e-02</span>,\n",
       "        <span style=\"color: #008080; text-decoration-color: #008080; font-weight: bold\">-3.9285e-02</span>, <span style=\"color: #008080; text-decoration-color: #008080; font-weight: bold\">-7.5669e-02</span>,  <span style=\"color: #008080; text-decoration-color: #008080; font-weight: bold\">2.1057e-02</span>,  <span style=\"color: #008080; text-decoration-color: #008080; font-weight: bold\">3.5978e-02</span>,  <span style=\"color: #008080; text-decoration-color: #008080; font-weight: bold\">6.1648e-02</span>,\n",
       "        <span style=\"color: #008080; text-decoration-color: #008080; font-weight: bold\">-3.6488e-02</span>,  <span style=\"color: #008080; text-decoration-color: #008080; font-weight: bold\">1.1507e-01</span>, <span style=\"color: #008080; text-decoration-color: #008080; font-weight: bold\">-4.9677e-03</span>,  <span style=\"color: #008080; text-decoration-color: #008080; font-weight: bold\">3.0514e-02</span>, <span style=\"color: #008080; text-decoration-color: #008080; font-weight: bold\">-7.8639e-02</span>,\n",
       "         <span style=\"color: #008080; text-decoration-color: #008080; font-weight: bold\">9.8421e-02</span>,  <span style=\"color: #008080; text-decoration-color: #008080; font-weight: bold\">2.5322e-02</span>, <span style=\"color: #008080; text-decoration-color: #008080; font-weight: bold\">-1.0002e-02</span>,  <span style=\"color: #008080; text-decoration-color: #008080; font-weight: bold\">4.8957e-02</span>, <span style=\"color: #008080; text-decoration-color: #008080; font-weight: bold\">-7.0812e-02</span>,\n",
       "        <span style=\"color: #008080; text-decoration-color: #008080; font-weight: bold\">-1.3952e-02</span>, <span style=\"color: #008080; text-decoration-color: #008080; font-weight: bold\">-1.9013e-02</span>, <span style=\"color: #008080; text-decoration-color: #008080; font-weight: bold\">-3.3804e-02</span>, <span style=\"color: #008080; text-decoration-color: #008080; font-weight: bold\">-1.4941e-02</span>,  <span style=\"color: #008080; text-decoration-color: #008080; font-weight: bold\">3.1447e-02</span>,\n",
       "         <span style=\"color: #008080; text-decoration-color: #008080; font-weight: bold\">4.5754e-02</span>, <span style=\"color: #008080; text-decoration-color: #008080; font-weight: bold\">-3.8936e-02</span>,  <span style=\"color: #008080; text-decoration-color: #008080; font-weight: bold\">1.0241e-02</span>, <span style=\"color: #008080; text-decoration-color: #008080; font-weight: bold\">-4.7750e-02</span>, <span style=\"color: #008080; text-decoration-color: #008080; font-weight: bold\">-7.2783e-02</span>,\n",
       "        <span style=\"color: #008080; text-decoration-color: #008080; font-weight: bold\">-1.9285e-02</span>,  <span style=\"color: #008080; text-decoration-color: #008080; font-weight: bold\">5.6163e-02</span>, <span style=\"color: #008080; text-decoration-color: #008080; font-weight: bold\">-6.3322e-03</span>,  <span style=\"color: #008080; text-decoration-color: #008080; font-weight: bold\">1.9977e-02</span>,  <span style=\"color: #008080; text-decoration-color: #008080; font-weight: bold\">2.6490e-02</span>,\n",
       "         <span style=\"color: #008080; text-decoration-color: #008080; font-weight: bold\">6.2586e-02</span>, <span style=\"color: #008080; text-decoration-color: #008080; font-weight: bold\">-1.2018e-03</span>, <span style=\"color: #008080; text-decoration-color: #008080; font-weight: bold\">-8.9426e-02</span>, <span style=\"color: #008080; text-decoration-color: #008080; font-weight: bold\">-4.6173e-02</span>, <span style=\"color: #008080; text-decoration-color: #008080; font-weight: bold\">-3.6813e-02</span>,\n",
       "        <span style=\"color: #008080; text-decoration-color: #008080; font-weight: bold\">-4.8190e-02</span>,  <span style=\"color: #008080; text-decoration-color: #008080; font-weight: bold\">2.1556e-02</span>,  <span style=\"color: #008080; text-decoration-color: #008080; font-weight: bold\">1.9962e-02</span>,  <span style=\"color: #008080; text-decoration-color: #008080; font-weight: bold\">3.5407e-02</span>,  <span style=\"color: #008080; text-decoration-color: #008080; font-weight: bold\">2.6642e-02</span>,\n",
       "        <span style=\"color: #008080; text-decoration-color: #008080; font-weight: bold\">-5.8311e-02</span>, <span style=\"color: #008080; text-decoration-color: #008080; font-weight: bold\">-1.2200e-03</span>, <span style=\"color: #008080; text-decoration-color: #008080; font-weight: bold\">-3.4401e-03</span>,  <span style=\"color: #008080; text-decoration-color: #008080; font-weight: bold\">1.7953e-02</span>,  <span style=\"color: #008080; text-decoration-color: #008080; font-weight: bold\">5.4156e-02</span>,\n",
       "        <span style=\"color: #008080; text-decoration-color: #008080; font-weight: bold\">-5.0989e-03</span>, <span style=\"color: #008080; text-decoration-color: #008080; font-weight: bold\">-2.7924e-02</span>,  <span style=\"color: #008080; text-decoration-color: #008080; font-weight: bold\">5.4463e-02</span>,  <span style=\"color: #008080; text-decoration-color: #008080; font-weight: bold\">1.1905e-01</span>,  <span style=\"color: #008080; text-decoration-color: #008080; font-weight: bold\">1.2868e-01</span>,\n",
       "        <span style=\"color: #008080; text-decoration-color: #008080; font-weight: bold\">-8.8595e-02</span>, <span style=\"color: #008080; text-decoration-color: #008080; font-weight: bold\">-1.6164e-02</span>, <span style=\"color: #008080; text-decoration-color: #008080; font-weight: bold\">-3.2878e-02</span>, <span style=\"color: #008080; text-decoration-color: #008080; font-weight: bold\">-3.5485e-02</span>, <span style=\"color: #008080; text-decoration-color: #008080; font-weight: bold\">-1.9966e-02</span>,\n",
       "         <span style=\"color: #008080; text-decoration-color: #008080; font-weight: bold\">3.9049e-02</span>, <span style=\"color: #008080; text-decoration-color: #008080; font-weight: bold\">-4.9114e-02</span>,  <span style=\"color: #008080; text-decoration-color: #008080; font-weight: bold\">4.5685e-02</span>, <span style=\"color: #008080; text-decoration-color: #008080; font-weight: bold\">-1.2991e-02</span>,  <span style=\"color: #008080; text-decoration-color: #008080; font-weight: bold\">4.6847e-02</span>,\n",
       "        <span style=\"color: #008080; text-decoration-color: #008080; font-weight: bold\">-5.6101e-02</span>,  <span style=\"color: #008080; text-decoration-color: #008080; font-weight: bold\">6.8093e-02</span>,  <span style=\"color: #008080; text-decoration-color: #008080; font-weight: bold\">2.4827e-03</span>,  <span style=\"color: #008080; text-decoration-color: #008080; font-weight: bold\">2.6495e-02</span>,  <span style=\"color: #008080; text-decoration-color: #008080; font-weight: bold\">7.6566e-02</span>,\n",
       "         <span style=\"color: #008080; text-decoration-color: #008080; font-weight: bold\">1.5663e-02</span>, <span style=\"color: #008080; text-decoration-color: #008080; font-weight: bold\">-6.9162e-02</span>, <span style=\"color: #008080; text-decoration-color: #008080; font-weight: bold\">-6.2864e-02</span>,  <span style=\"color: #008080; text-decoration-color: #008080; font-weight: bold\">2.0814e-02</span>, <span style=\"color: #008080; text-decoration-color: #008080; font-weight: bold\">-1.0910e-01</span>,\n",
       "         <span style=\"color: #008080; text-decoration-color: #008080; font-weight: bold\">2.1203e-02</span>, <span style=\"color: #008080; text-decoration-color: #008080; font-weight: bold\">-1.4046e-02</span>,  <span style=\"color: #008080; text-decoration-color: #008080; font-weight: bold\">1.5385e-02</span>, <span style=\"color: #008080; text-decoration-color: #008080; font-weight: bold\">-6.3359e-03</span>, <span style=\"color: #008080; text-decoration-color: #008080; font-weight: bold\">-2.8475e-02</span>,\n",
       "         <span style=\"color: #008080; text-decoration-color: #008080; font-weight: bold\">1.3662e-02</span>, <span style=\"color: #008080; text-decoration-color: #008080; font-weight: bold\">-1.3258e-01</span>, <span style=\"color: #008080; text-decoration-color: #008080; font-weight: bold\">-1.8202e-02</span>, <span style=\"color: #008080; text-decoration-color: #008080; font-weight: bold\">-2.1830e-02</span>,  <span style=\"color: #008080; text-decoration-color: #008080; font-weight: bold\">8.3101e-02</span>,\n",
       "        <span style=\"color: #008080; text-decoration-color: #008080; font-weight: bold\">-6.8789e-02</span>, <span style=\"color: #008080; text-decoration-color: #008080; font-weight: bold\">-9.0988e-03</span>, <span style=\"color: #008080; text-decoration-color: #008080; font-weight: bold\">-7.0356e-02</span>,  <span style=\"color: #008080; text-decoration-color: #008080; font-weight: bold\">6.2706e-02</span>, <span style=\"color: #008080; text-decoration-color: #008080; font-weight: bold\">-4.4722e-02</span>,\n",
       "        <span style=\"color: #008080; text-decoration-color: #008080; font-weight: bold\">-7.2774e-03</span>, <span style=\"color: #008080; text-decoration-color: #008080; font-weight: bold\">-1.7467e-01</span>,  <span style=\"color: #008080; text-decoration-color: #008080; font-weight: bold\">2.3604e-02</span>, <span style=\"color: #008080; text-decoration-color: #008080; font-weight: bold\">-6.0021e-02</span>, <span style=\"color: #008080; text-decoration-color: #008080; font-weight: bold\">-3.4137e-02</span>,\n",
       "         <span style=\"color: #008080; text-decoration-color: #008080; font-weight: bold\">7.4124e-02</span>,  <span style=\"color: #008080; text-decoration-color: #008080; font-weight: bold\">4.0557e-03</span>,  <span style=\"color: #008080; text-decoration-color: #008080; font-weight: bold\">5.9823e-02</span>,  <span style=\"color: #008080; text-decoration-color: #008080; font-weight: bold\">1.4841e-03</span>, <span style=\"color: #008080; text-decoration-color: #008080; font-weight: bold\">-4.6625e-03</span>,\n",
       "         <span style=\"color: #008080; text-decoration-color: #008080; font-weight: bold\">7.0497e-03</span>,  <span style=\"color: #008080; text-decoration-color: #008080; font-weight: bold\">7.7516e-02</span>,  <span style=\"color: #008080; text-decoration-color: #008080; font-weight: bold\">7.3966e-02</span>,  <span style=\"color: #008080; text-decoration-color: #008080; font-weight: bold\">3.4246e-02</span>, <span style=\"color: #008080; text-decoration-color: #008080; font-weight: bold\">-4.2010e-02</span>,\n",
       "         <span style=\"color: #008080; text-decoration-color: #008080; font-weight: bold\">8.9824e-02</span>, <span style=\"color: #008080; text-decoration-color: #008080; font-weight: bold\">-1.0567e-01</span>, <span style=\"color: #008080; text-decoration-color: #008080; font-weight: bold\">-6.4156e-33</span>, <span style=\"color: #008080; text-decoration-color: #008080; font-weight: bold\">-1.6688e-02</span>, <span style=\"color: #008080; text-decoration-color: #008080; font-weight: bold\">-3.7029e-02</span>,\n",
       "         <span style=\"color: #008080; text-decoration-color: #008080; font-weight: bold\">1.5546e-03</span>, <span style=\"color: #008080; text-decoration-color: #008080; font-weight: bold\">-1.9020e-02</span>, <span style=\"color: #008080; text-decoration-color: #008080; font-weight: bold\">-3.0639e-02</span>, <span style=\"color: #008080; text-decoration-color: #008080; font-weight: bold\">-3.2764e-02</span>,  <span style=\"color: #008080; text-decoration-color: #008080; font-weight: bold\">1.1823e-02</span>,\n",
       "         <span style=\"color: #008080; text-decoration-color: #008080; font-weight: bold\">9.7167e-03</span>,  <span style=\"color: #008080; text-decoration-color: #008080; font-weight: bold\">1.2092e-04</span>,  <span style=\"color: #008080; text-decoration-color: #008080; font-weight: bold\">7.0550e-02</span>,  <span style=\"color: #008080; text-decoration-color: #008080; font-weight: bold\">2.4579e-02</span>,  <span style=\"color: #008080; text-decoration-color: #008080; font-weight: bold\">5.7831e-02</span>,\n",
       "         <span style=\"color: #008080; text-decoration-color: #008080; font-weight: bold\">6.8307e-02</span>,  <span style=\"color: #008080; text-decoration-color: #008080; font-weight: bold\">5.6851e-02</span>,  <span style=\"color: #008080; text-decoration-color: #008080; font-weight: bold\">7.3616e-02</span>,  <span style=\"color: #008080; text-decoration-color: #008080; font-weight: bold\">2.2824e-02</span>, <span style=\"color: #008080; text-decoration-color: #008080; font-weight: bold\">-7.3005e-02</span>,\n",
       "        <span style=\"color: #008080; text-decoration-color: #008080; font-weight: bold\">-1.5891e-02</span>,  <span style=\"color: #008080; text-decoration-color: #008080; font-weight: bold\">2.0759e-02</span>, <span style=\"color: #008080; text-decoration-color: #008080; font-weight: bold\">-1.2286e-02</span>,  <span style=\"color: #008080; text-decoration-color: #008080; font-weight: bold\">6.4947e-02</span>,  <span style=\"color: #008080; text-decoration-color: #008080; font-weight: bold\">1.2431e-01</span>,\n",
       "         <span style=\"color: #008080; text-decoration-color: #008080; font-weight: bold\">1.8076e-02</span>,  <span style=\"color: #008080; text-decoration-color: #008080; font-weight: bold\">1.1093e-02</span>, <span style=\"color: #008080; text-decoration-color: #008080; font-weight: bold\">-2.1616e-04</span>, <span style=\"color: #008080; text-decoration-color: #008080; font-weight: bold\">-1.7142e-02</span>,  <span style=\"color: #008080; text-decoration-color: #008080; font-weight: bold\">1.4853e-02</span>,\n",
       "        <span style=\"color: #008080; text-decoration-color: #008080; font-weight: bold\">-1.2691e-02</span>, <span style=\"color: #008080; text-decoration-color: #008080; font-weight: bold\">-5.0507e-02</span>,  <span style=\"color: #008080; text-decoration-color: #008080; font-weight: bold\">3.7222e-02</span>, <span style=\"color: #008080; text-decoration-color: #008080; font-weight: bold\">-4.0360e-02</span>, <span style=\"color: #008080; text-decoration-color: #008080; font-weight: bold\">-7.4048e-02</span>,\n",
       "        <span style=\"color: #008080; text-decoration-color: #008080; font-weight: bold\">-1.0970e-02</span>,  <span style=\"color: #008080; text-decoration-color: #008080; font-weight: bold\">4.1702e-02</span>, <span style=\"color: #008080; text-decoration-color: #008080; font-weight: bold\">-6.8921e-02</span>,  <span style=\"color: #008080; text-decoration-color: #008080; font-weight: bold\">4.1219e-03</span>,  <span style=\"color: #008080; text-decoration-color: #008080; font-weight: bold\">1.4185e-02</span>,\n",
       "        <span style=\"color: #008080; text-decoration-color: #008080; font-weight: bold\">-7.5804e-02</span>, <span style=\"color: #008080; text-decoration-color: #008080; font-weight: bold\">-1.1405e-02</span>, <span style=\"color: #008080; text-decoration-color: #008080; font-weight: bold\">-8.4661e-02</span>, <span style=\"color: #008080; text-decoration-color: #008080; font-weight: bold\">-3.4637e-02</span>,  <span style=\"color: #008080; text-decoration-color: #008080; font-weight: bold\">4.0803e-02</span>,\n",
       "        <span style=\"color: #008080; text-decoration-color: #008080; font-weight: bold\">-1.9901e-02</span>, <span style=\"color: #008080; text-decoration-color: #008080; font-weight: bold\">-1.4428e-02</span>, <span style=\"color: #008080; text-decoration-color: #008080; font-weight: bold\">-3.2878e-02</span>, <span style=\"color: #008080; text-decoration-color: #008080; font-weight: bold\">-1.3772e-02</span>, <span style=\"color: #008080; text-decoration-color: #008080; font-weight: bold\">-1.9814e-02</span>,\n",
       "         <span style=\"color: #008080; text-decoration-color: #008080; font-weight: bold\">9.5046e-02</span>,  <span style=\"color: #008080; text-decoration-color: #008080; font-weight: bold\">9.0082e-03</span>, <span style=\"color: #008080; text-decoration-color: #008080; font-weight: bold\">-2.6932e-02</span>,  <span style=\"color: #008080; text-decoration-color: #008080; font-weight: bold\">1.6957e-02</span>, <span style=\"color: #008080; text-decoration-color: #008080; font-weight: bold\">-2.3650e-02</span>,\n",
       "         <span style=\"color: #008080; text-decoration-color: #008080; font-weight: bold\">3.9388e-02</span>,  <span style=\"color: #008080; text-decoration-color: #008080; font-weight: bold\">1.2614e-02</span>, <span style=\"color: #008080; text-decoration-color: #008080; font-weight: bold\">-1.8223e-02</span>,  <span style=\"color: #008080; text-decoration-color: #008080; font-weight: bold\">8.4496e-02</span>,  <span style=\"color: #008080; text-decoration-color: #008080; font-weight: bold\">1.0471e-01</span>,\n",
       "         <span style=\"color: #008080; text-decoration-color: #008080; font-weight: bold\">7.0581e-02</span>,  <span style=\"color: #008080; text-decoration-color: #008080; font-weight: bold\">2.9548e-02</span>, <span style=\"color: #008080; text-decoration-color: #008080; font-weight: bold\">-6.3651e-02</span>,  <span style=\"color: #008080; text-decoration-color: #008080; font-weight: bold\">5.4298e-04</span>, <span style=\"color: #008080; text-decoration-color: #008080; font-weight: bold\">-6.2097e-02</span>,\n",
       "         <span style=\"color: #008080; text-decoration-color: #008080; font-weight: bold\">1.1686e-02</span>,  <span style=\"color: #008080; text-decoration-color: #008080; font-weight: bold\">6.8007e-02</span>, <span style=\"color: #008080; text-decoration-color: #008080; font-weight: bold\">-4.1757e-02</span>,  <span style=\"color: #008080; text-decoration-color: #008080; font-weight: bold\">5.4769e-05</span>,  <span style=\"color: #008080; text-decoration-color: #008080; font-weight: bold\">7.2576e-03</span>,\n",
       "         <span style=\"color: #008080; text-decoration-color: #008080; font-weight: bold\">5.3216e-02</span>,  <span style=\"color: #008080; text-decoration-color: #008080; font-weight: bold\">3.9076e-02</span>,  <span style=\"color: #008080; text-decoration-color: #008080; font-weight: bold\">3.3343e-02</span>, <span style=\"color: #008080; text-decoration-color: #008080; font-weight: bold\">-2.3008e-02</span>,  <span style=\"color: #008080; text-decoration-color: #008080; font-weight: bold\">3.5174e-02</span>,\n",
       "        <span style=\"color: #008080; text-decoration-color: #008080; font-weight: bold\">-4.0212e-02</span>, <span style=\"color: #008080; text-decoration-color: #008080; font-weight: bold\">-1.7000e-02</span>,  <span style=\"color: #008080; text-decoration-color: #008080; font-weight: bold\">6.0849e-03</span>,  <span style=\"color: #008080; text-decoration-color: #008080; font-weight: bold\">3.7907e-02</span>,  <span style=\"color: #008080; text-decoration-color: #008080; font-weight: bold\">3.5553e-02</span>,\n",
       "        <span style=\"color: #008080; text-decoration-color: #008080; font-weight: bold\">-6.7226e-02</span>, <span style=\"color: #008080; text-decoration-color: #008080; font-weight: bold\">-4.7138e-02</span>,  <span style=\"color: #008080; text-decoration-color: #008080; font-weight: bold\">6.7798e-03</span>, <span style=\"color: #008080; text-decoration-color: #008080; font-weight: bold\">-7.1156e-02</span>,  <span style=\"color: #008080; text-decoration-color: #008080; font-weight: bold\">7.6744e-02</span>,\n",
       "         <span style=\"color: #008080; text-decoration-color: #008080; font-weight: bold\">3.7150e-02</span>, <span style=\"color: #008080; text-decoration-color: #008080; font-weight: bold\">-1.4659e-02</span>, <span style=\"color: #008080; text-decoration-color: #008080; font-weight: bold\">-7.8332e-02</span>,  <span style=\"color: #008080; text-decoration-color: #008080; font-weight: bold\">4.6545e-03</span>,  <span style=\"color: #008080; text-decoration-color: #008080; font-weight: bold\">1.6806e-02</span>,\n",
       "        <span style=\"color: #008080; text-decoration-color: #008080; font-weight: bold\">-1.1082e-02</span>,  <span style=\"color: #008080; text-decoration-color: #008080; font-weight: bold\">5.6526e-02</span>, <span style=\"color: #008080; text-decoration-color: #008080; font-weight: bold\">-7.9980e-02</span>, <span style=\"color: #008080; text-decoration-color: #008080; font-weight: bold\">-7.2967e-02</span>, <span style=\"color: #008080; text-decoration-color: #008080; font-weight: bold\">-5.7778e-02</span>,\n",
       "        <span style=\"color: #008080; text-decoration-color: #008080; font-weight: bold\">-2.5481e-03</span>, <span style=\"color: #008080; text-decoration-color: #008080; font-weight: bold\">-2.6015e-02</span>, <span style=\"color: #008080; text-decoration-color: #008080; font-weight: bold\">-2.7038e-02</span>,  <span style=\"color: #008080; text-decoration-color: #008080; font-weight: bold\">6.3896e-35</span>,  <span style=\"color: #008080; text-decoration-color: #008080; font-weight: bold\">5.4324e-02</span>,\n",
       "         <span style=\"color: #008080; text-decoration-color: #008080; font-weight: bold\">5.2883e-02</span>,  <span style=\"color: #008080; text-decoration-color: #008080; font-weight: bold\">1.8178e-02</span>,  <span style=\"color: #008080; text-decoration-color: #008080; font-weight: bold\">4.4359e-02</span>, <span style=\"color: #008080; text-decoration-color: #008080; font-weight: bold\">-9.0200e-03</span>,  <span style=\"color: #008080; text-decoration-color: #008080; font-weight: bold\">3.8994e-02</span>,\n",
       "        <span style=\"color: #008080; text-decoration-color: #008080; font-weight: bold\">-3.4364e-02</span>, <span style=\"color: #008080; text-decoration-color: #008080; font-weight: bold\">-6.9256e-02</span>,  <span style=\"color: #008080; text-decoration-color: #008080; font-weight: bold\">2.5044e-02</span>, <span style=\"color: #008080; text-decoration-color: #008080; font-weight: bold\">-4.3153e-02</span>,  <span style=\"color: #008080; text-decoration-color: #008080; font-weight: bold\">2.5592e-02</span>,\n",
       "         <span style=\"color: #008080; text-decoration-color: #008080; font-weight: bold\">3.6207e-02</span>,  <span style=\"color: #008080; text-decoration-color: #008080; font-weight: bold\">7.3959e-02</span>, <span style=\"color: #008080; text-decoration-color: #008080; font-weight: bold\">-3.4143e-02</span>,  <span style=\"color: #008080; text-decoration-color: #008080; font-weight: bold\">8.5106e-02</span>, <span style=\"color: #008080; text-decoration-color: #008080; font-weight: bold\">-5.2802e-02</span>,\n",
       "        <span style=\"color: #008080; text-decoration-color: #008080; font-weight: bold\">-1.1268e-01</span>, <span style=\"color: #008080; text-decoration-color: #008080; font-weight: bold\">-3.9600e-02</span>, <span style=\"color: #008080; text-decoration-color: #008080; font-weight: bold\">-9.2824e-03</span>, <span style=\"color: #008080; text-decoration-color: #008080; font-weight: bold\">-2.2307e-02</span>,  <span style=\"color: #008080; text-decoration-color: #008080; font-weight: bold\">1.7575e-02</span>,\n",
       "         <span style=\"color: #008080; text-decoration-color: #008080; font-weight: bold\">1.4273e-02</span>,  <span style=\"color: #008080; text-decoration-color: #008080; font-weight: bold\">1.1023e-02</span>,  <span style=\"color: #008080; text-decoration-color: #008080; font-weight: bold\">1.8959e-02</span>, <span style=\"color: #008080; text-decoration-color: #008080; font-weight: bold\">-2.1621e-02</span>, <span style=\"color: #008080; text-decoration-color: #008080; font-weight: bold\">-5.2473e-02</span>,\n",
       "        <span style=\"color: #008080; text-decoration-color: #008080; font-weight: bold\">-3.1174e-02</span>,  <span style=\"color: #008080; text-decoration-color: #008080; font-weight: bold\">4.7182e-02</span>,  <span style=\"color: #008080; text-decoration-color: #008080; font-weight: bold\">5.3034e-02</span>,  <span style=\"color: #008080; text-decoration-color: #008080; font-weight: bold\">3.2707e-02</span>,  <span style=\"color: #008080; text-decoration-color: #008080; font-weight: bold\">2.7765e-02</span>,\n",
       "         <span style=\"color: #008080; text-decoration-color: #008080; font-weight: bold\">4.6465e-02</span>, <span style=\"color: #008080; text-decoration-color: #008080; font-weight: bold\">-6.6840e-02</span>,  <span style=\"color: #008080; text-decoration-color: #008080; font-weight: bold\">7.2035e-02</span>, <span style=\"color: #008080; text-decoration-color: #008080; font-weight: bold\">-1.9092e-02</span>,  <span style=\"color: #008080; text-decoration-color: #008080; font-weight: bold\">3.4947e-02</span>,\n",
       "        <span style=\"color: #008080; text-decoration-color: #008080; font-weight: bold\">-1.9729e-02</span>, <span style=\"color: #008080; text-decoration-color: #008080; font-weight: bold\">-3.5099e-02</span>, <span style=\"color: #008080; text-decoration-color: #008080; font-weight: bold\">-3.6632e-02</span>,  <span style=\"color: #008080; text-decoration-color: #008080; font-weight: bold\">1.1696e-02</span>,  <span style=\"color: #008080; text-decoration-color: #008080; font-weight: bold\">3.6319e-02</span>,\n",
       "         <span style=\"color: #008080; text-decoration-color: #008080; font-weight: bold\">5.6143e-02</span>,  <span style=\"color: #008080; text-decoration-color: #008080; font-weight: bold\">2.3251e-03</span>,  <span style=\"color: #008080; text-decoration-color: #008080; font-weight: bold\">1.0723e-01</span>, <span style=\"color: #008080; text-decoration-color: #008080; font-weight: bold\">-1.1715e-02</span>, <span style=\"color: #008080; text-decoration-color: #008080; font-weight: bold\">-3.5454e-03</span>,\n",
       "        <span style=\"color: #008080; text-decoration-color: #008080; font-weight: bold\">-1.3971e-02</span>,  <span style=\"color: #008080; text-decoration-color: #008080; font-weight: bold\">5.2321e-03</span>,  <span style=\"color: #008080; text-decoration-color: #008080; font-weight: bold\">4.5230e-02</span>, <span style=\"color: #008080; text-decoration-color: #008080; font-weight: bold\">-5.8749e-02</span>, <span style=\"color: #008080; text-decoration-color: #008080; font-weight: bold\">-2.4461e-02</span>,\n",
       "        <span style=\"color: #008080; text-decoration-color: #008080; font-weight: bold\">-7.0650e-02</span>,  <span style=\"color: #008080; text-decoration-color: #008080; font-weight: bold\">4.5616e-02</span>,  <span style=\"color: #008080; text-decoration-color: #008080; font-weight: bold\">7.2012e-02</span>, <span style=\"color: #008080; text-decoration-color: #008080; font-weight: bold\">-3.6959e-02</span>, <span style=\"color: #008080; text-decoration-color: #008080; font-weight: bold\">-3.1838e-02</span>,\n",
       "         <span style=\"color: #008080; text-decoration-color: #008080; font-weight: bold\">4.6898e-03</span>,  <span style=\"color: #008080; text-decoration-color: #008080; font-weight: bold\">2.5908e-02</span>, <span style=\"color: #008080; text-decoration-color: #008080; font-weight: bold\">-6.0194e-02</span>, <span style=\"color: #008080; text-decoration-color: #008080; font-weight: bold\">-7.2020e-03</span>,  <span style=\"color: #008080; text-decoration-color: #008080; font-weight: bold\">6.7752e-02</span>,\n",
       "        <span style=\"color: #008080; text-decoration-color: #008080; font-weight: bold\">-7.0150e-02</span>, <span style=\"color: #008080; text-decoration-color: #008080; font-weight: bold\">-2.8524e-02</span>,  <span style=\"color: #008080; text-decoration-color: #008080; font-weight: bold\">4.0547e-03</span>, <span style=\"color: #008080; text-decoration-color: #008080; font-weight: bold\">-1.3080e-01</span>, <span style=\"color: #008080; text-decoration-color: #008080; font-weight: bold\">-1.8884e-02</span>,\n",
       "        <span style=\"color: #008080; text-decoration-color: #008080; font-weight: bold\">-7.3759e-02</span>, <span style=\"color: #008080; text-decoration-color: #008080; font-weight: bold\">-4.3154e-02</span>, <span style=\"color: #008080; text-decoration-color: #008080; font-weight: bold\">-3.0080e-02</span>, <span style=\"color: #008080; text-decoration-color: #008080; font-weight: bold\">-7.0080e-02</span>,  <span style=\"color: #008080; text-decoration-color: #008080; font-weight: bold\">4.7776e-02</span>,\n",
       "         <span style=\"color: #008080; text-decoration-color: #008080; font-weight: bold\">7.5750e-03</span>, <span style=\"color: #008080; text-decoration-color: #008080; font-weight: bold\">-4.0063e-02</span>, <span style=\"color: #008080; text-decoration-color: #008080; font-weight: bold\">-3.9337e-02</span>, <span style=\"color: #008080; text-decoration-color: #008080; font-weight: bold\">-5.5096e-02</span>,  <span style=\"color: #008080; text-decoration-color: #008080; font-weight: bold\">6.7704e-02</span>,\n",
       "         <span style=\"color: #008080; text-decoration-color: #008080; font-weight: bold\">2.3271e-02</span>, <span style=\"color: #008080; text-decoration-color: #008080; font-weight: bold\">-1.5606e-02</span>, <span style=\"color: #008080; text-decoration-color: #008080; font-weight: bold\">-3.0095e-02</span>, <span style=\"color: #008080; text-decoration-color: #008080; font-weight: bold\">-3.2230e-03</span>, <span style=\"color: #008080; text-decoration-color: #008080; font-weight: bold\">-1.1410e-01</span>,\n",
       "         <span style=\"color: #008080; text-decoration-color: #008080; font-weight: bold\">1.7479e-02</span>,  <span style=\"color: #008080; text-decoration-color: #008080; font-weight: bold\">4.1933e-03</span>,  <span style=\"color: #008080; text-decoration-color: #008080; font-weight: bold\">5.8488e-02</span>, <span style=\"color: #008080; text-decoration-color: #008080; font-weight: bold\">-3.2622e-02</span>, <span style=\"color: #008080; text-decoration-color: #008080; font-weight: bold\">-4.9827e-02</span>,\n",
       "        <span style=\"color: #008080; text-decoration-color: #008080; font-weight: bold\">-3.0930e-02</span>,  <span style=\"color: #008080; text-decoration-color: #008080; font-weight: bold\">1.0857e-01</span>,  <span style=\"color: #008080; text-decoration-color: #008080; font-weight: bold\">5.1082e-02</span>, <span style=\"color: #008080; text-decoration-color: #008080; font-weight: bold\">-9.7597e-02</span>, <span style=\"color: #008080; text-decoration-color: #008080; font-weight: bold\">-2.3989e-02</span>,\n",
       "         <span style=\"color: #008080; text-decoration-color: #008080; font-weight: bold\">7.9028e-02</span>, <span style=\"color: #008080; text-decoration-color: #008080; font-weight: bold\">-2.6031e-02</span>, <span style=\"color: #008080; text-decoration-color: #008080; font-weight: bold\">-2.9201e-02</span>, <span style=\"color: #008080; text-decoration-color: #008080; font-weight: bold\">-6.7714e-02</span>, <span style=\"color: #008080; text-decoration-color: #008080; font-weight: bold\">-2.3414e-08</span>,\n",
       "         <span style=\"color: #008080; text-decoration-color: #008080; font-weight: bold\">9.5609e-03</span>,  <span style=\"color: #008080; text-decoration-color: #008080; font-weight: bold\">3.6905e-02</span>,  <span style=\"color: #008080; text-decoration-color: #008080; font-weight: bold\">5.0259e-02</span>, <span style=\"color: #008080; text-decoration-color: #008080; font-weight: bold\">-4.0007e-03</span>,  <span style=\"color: #008080; text-decoration-color: #008080; font-weight: bold\">2.9434e-02</span>,\n",
       "        <span style=\"color: #008080; text-decoration-color: #008080; font-weight: bold\">-3.6063e-02</span>, <span style=\"color: #008080; text-decoration-color: #008080; font-weight: bold\">-4.3240e-02</span>,  <span style=\"color: #008080; text-decoration-color: #008080; font-weight: bold\">1.4415e-02</span>,  <span style=\"color: #008080; text-decoration-color: #008080; font-weight: bold\">3.7832e-02</span>,  <span style=\"color: #008080; text-decoration-color: #008080; font-weight: bold\">1.9344e-03</span>,\n",
       "        <span style=\"color: #008080; text-decoration-color: #008080; font-weight: bold\">-3.4044e-02</span>, <span style=\"color: #008080; text-decoration-color: #008080; font-weight: bold\">-2.6402e-03</span>,  <span style=\"color: #008080; text-decoration-color: #008080; font-weight: bold\">6.3724e-03</span>, <span style=\"color: #008080; text-decoration-color: #008080; font-weight: bold\">-7.5963e-02</span>,  <span style=\"color: #008080; text-decoration-color: #008080; font-weight: bold\">3.5744e-02</span>,\n",
       "         <span style=\"color: #008080; text-decoration-color: #008080; font-weight: bold\">4.8109e-02</span>, <span style=\"color: #008080; text-decoration-color: #008080; font-weight: bold\">-2.8731e-02</span>,  <span style=\"color: #008080; text-decoration-color: #008080; font-weight: bold\">5.7398e-04</span>, <span style=\"color: #008080; text-decoration-color: #008080; font-weight: bold\">-1.6240e-02</span>, <span style=\"color: #008080; text-decoration-color: #008080; font-weight: bold\">-1.9413e-02</span>,\n",
       "        <span style=\"color: #008080; text-decoration-color: #008080; font-weight: bold\">-1.0707e-01</span>, <span style=\"color: #008080; text-decoration-color: #008080; font-weight: bold\">-6.4964e-02</span>, <span style=\"color: #008080; text-decoration-color: #008080; font-weight: bold\">-1.8988e-03</span>, <span style=\"color: #008080; text-decoration-color: #008080; font-weight: bold\">-4.3588e-02</span>, <span style=\"color: #008080; text-decoration-color: #008080; font-weight: bold\">-1.3333e-01</span>,\n",
       "         <span style=\"color: #008080; text-decoration-color: #008080; font-weight: bold\">3.5273e-02</span>,  <span style=\"color: #008080; text-decoration-color: #008080; font-weight: bold\">5.5209e-02</span>, <span style=\"color: #008080; text-decoration-color: #008080; font-weight: bold\">-1.5422e-02</span>, <span style=\"color: #008080; text-decoration-color: #008080; font-weight: bold\">-2.1405e-02</span>, <span style=\"color: #008080; text-decoration-color: #008080; font-weight: bold\">-3.5556e-04</span>,\n",
       "        <span style=\"color: #008080; text-decoration-color: #008080; font-weight: bold\">-4.0583e-02</span>,  <span style=\"color: #008080; text-decoration-color: #008080; font-weight: bold\">4.0723e-02</span>, <span style=\"color: #008080; text-decoration-color: #008080; font-weight: bold\">-1.9816e-02</span>,  <span style=\"color: #008080; text-decoration-color: #008080; font-weight: bold\">4.4682e-02</span>,  <span style=\"color: #008080; text-decoration-color: #008080; font-weight: bold\">2.7648e-02</span>,\n",
       "         <span style=\"color: #008080; text-decoration-color: #008080; font-weight: bold\">8.8865e-02</span>, <span style=\"color: #008080; text-decoration-color: #008080; font-weight: bold\">-5.7460e-02</span>,  <span style=\"color: #008080; text-decoration-color: #008080; font-weight: bold\">3.9150e-02</span>,  <span style=\"color: #008080; text-decoration-color: #008080; font-weight: bold\">8.3433e-03</span>,  <span style=\"color: #008080; text-decoration-color: #008080; font-weight: bold\">5.3881e-02</span>,\n",
       "         <span style=\"color: #008080; text-decoration-color: #008080; font-weight: bold\">2.0442e-02</span>, <span style=\"color: #008080; text-decoration-color: #008080; font-weight: bold\">-1.1603e-01</span>, <span style=\"color: #008080; text-decoration-color: #008080; font-weight: bold\">-5.8360e-02</span>,  <span style=\"color: #008080; text-decoration-color: #008080; font-weight: bold\">4.1808e-03</span>, <span style=\"color: #008080; text-decoration-color: #008080; font-weight: bold\">-1.9214e-02</span>,\n",
       "         <span style=\"color: #008080; text-decoration-color: #008080; font-weight: bold\">1.3940e-02</span>, <span style=\"color: #008080; text-decoration-color: #008080; font-weight: bold\">-2.2831e-02</span>, <span style=\"color: #008080; text-decoration-color: #008080; font-weight: bold\">-1.1595e-02</span>, <span style=\"color: #008080; text-decoration-color: #008080; font-weight: bold\">-1.8103e-02</span>,  <span style=\"color: #008080; text-decoration-color: #008080; font-weight: bold\">5.2128e-02</span>,\n",
       "        <span style=\"color: #008080; text-decoration-color: #008080; font-weight: bold\">-6.6055e-02</span>,  <span style=\"color: #008080; text-decoration-color: #008080; font-weight: bold\">4.8010e-02</span>, <span style=\"color: #008080; text-decoration-color: #008080; font-weight: bold\">-5.2628e-02</span>, <span style=\"color: #008080; text-decoration-color: #008080; font-weight: bold\">-2.2247e-03</span>,  <span style=\"color: #008080; text-decoration-color: #008080; font-weight: bold\">2.1005e-02</span>,\n",
       "         <span style=\"color: #008080; text-decoration-color: #008080; font-weight: bold\">5.3376e-02</span>, <span style=\"color: #008080; text-decoration-color: #008080; font-weight: bold\">-6.9090e-02</span>, <span style=\"color: #008080; text-decoration-color: #008080; font-weight: bold\">-4.1878e-02</span>, <span style=\"color: #008080; text-decoration-color: #008080; font-weight: bold\">-6.2827e-02</span>,  <span style=\"color: #008080; text-decoration-color: #008080; font-weight: bold\">2.4870e-02</span>,\n",
       "         <span style=\"color: #008080; text-decoration-color: #008080; font-weight: bold\">3.1205e-02</span>,  <span style=\"color: #008080; text-decoration-color: #008080; font-weight: bold\">7.6650e-02</span>,  <span style=\"color: #008080; text-decoration-color: #008080; font-weight: bold\">7.1036e-02</span>,  <span style=\"color: #008080; text-decoration-color: #008080; font-weight: bold\">1.1342e-02</span><span style=\"font-weight: bold\">])</span>\n",
       "<span style=\"font-weight: bold\">}</span>\n",
       "</pre>\n"
      ],
      "text/plain": [
       "\u001b[1m{\u001b[0m\n",
       "    \u001b[32m'input_ids'\u001b[0m: \u001b[1;35mtensor\u001b[0m\u001b[1m(\u001b[0m\u001b[1m[\u001b[0m  \u001b[1;36m101\u001b[0m,  \u001b[1;36m2054\u001b[0m,  \u001b[1;36m2515\u001b[0m,  \u001b[1;36m1005\u001b[0m,  \u001b[1;36m3565\u001b[0m,  \u001b[1;36m1005\u001b[0m,  \u001b[1;36m2079\u001b[0m,  \u001b[1;36m1999\u001b[0m, \u001b[1;36m18750\u001b[0m,  \u001b[1;36m1029\u001b[0m,\n",
       "         \u001b[1;36m1011\u001b[0m,  \u001b[1;36m4489\u001b[0m,  \u001b[1;36m2090\u001b[0m,  \u001b[1;36m3565\u001b[0m,  \u001b[1;36m1006\u001b[0m,  \u001b[1;36m1007\u001b[0m,  \u001b[1;36m1012\u001b[0m,  \u001b[1;36m1035\u001b[0m,  \u001b[1;36m1035\u001b[0m,  \u001b[1;36m1999\u001b[0m,\n",
       "         \u001b[1;36m4183\u001b[0m,  \u001b[1;36m1035\u001b[0m,  \u001b[1;36m1035\u001b[0m,  \u001b[1;36m1006\u001b[0m,  \u001b[1;36m1007\u001b[0m,  \u001b[1;36m1998\u001b[0m, \u001b[1;36m13216\u001b[0m,  \u001b[1;36m3565\u001b[0m, \u001b[1;36m26266\u001b[0m,  \u001b[1;36m1035\u001b[0m,\n",
       "         \u001b[1;36m1035\u001b[0m,  \u001b[1;36m1999\u001b[0m,  \u001b[1;36m4183\u001b[0m,  \u001b[1;36m1035\u001b[0m,  \u001b[1;36m1035\u001b[0m,  \u001b[1;36m1006\u001b[0m,  \u001b[1;36m1007\u001b[0m,   \u001b[1;36m102\u001b[0m\u001b[1m]\u001b[0m\u001b[1m)\u001b[0m,\n",
       "    \u001b[32m'token_type_ids'\u001b[0m: \u001b[1;35mtensor\u001b[0m\u001b[1m(\u001b[0m\u001b[1m[\u001b[0m\u001b[1;36m0\u001b[0m, \u001b[1;36m0\u001b[0m, \u001b[1;36m0\u001b[0m, \u001b[1;36m0\u001b[0m, \u001b[1;36m0\u001b[0m, \u001b[1;36m0\u001b[0m, \u001b[1;36m0\u001b[0m, \u001b[1;36m0\u001b[0m, \u001b[1;36m0\u001b[0m, \u001b[1;36m0\u001b[0m, \u001b[1;36m0\u001b[0m, \u001b[1;36m0\u001b[0m, \u001b[1;36m0\u001b[0m, \u001b[1;36m0\u001b[0m, \u001b[1;36m0\u001b[0m, \u001b[1;36m0\u001b[0m, \u001b[1;36m0\u001b[0m, \u001b[1;36m0\u001b[0m, \u001b[1;36m0\u001b[0m, \u001b[1;36m0\u001b[0m, \u001b[1;36m0\u001b[0m, \u001b[1;36m0\u001b[0m, \u001b[1;36m0\u001b[0m, \u001b[1;36m0\u001b[0m,\n",
       "        \u001b[1;36m0\u001b[0m, \u001b[1;36m0\u001b[0m, \u001b[1;36m0\u001b[0m, \u001b[1;36m0\u001b[0m, \u001b[1;36m0\u001b[0m, \u001b[1;36m0\u001b[0m, \u001b[1;36m0\u001b[0m, \u001b[1;36m0\u001b[0m, \u001b[1;36m0\u001b[0m, \u001b[1;36m0\u001b[0m, \u001b[1;36m0\u001b[0m, \u001b[1;36m0\u001b[0m, \u001b[1;36m0\u001b[0m, \u001b[1;36m0\u001b[0m\u001b[1m]\u001b[0m\u001b[1m)\u001b[0m,\n",
       "    \u001b[32m'attention_mask'\u001b[0m: \u001b[1;35mtensor\u001b[0m\u001b[1m(\u001b[0m\u001b[1m[\u001b[0m\u001b[1;36m1\u001b[0m, \u001b[1;36m1\u001b[0m, \u001b[1;36m1\u001b[0m, \u001b[1;36m1\u001b[0m, \u001b[1;36m1\u001b[0m, \u001b[1;36m1\u001b[0m, \u001b[1;36m1\u001b[0m, \u001b[1;36m1\u001b[0m, \u001b[1;36m1\u001b[0m, \u001b[1;36m1\u001b[0m, \u001b[1;36m1\u001b[0m, \u001b[1;36m1\u001b[0m, \u001b[1;36m1\u001b[0m, \u001b[1;36m1\u001b[0m, \u001b[1;36m1\u001b[0m, \u001b[1;36m1\u001b[0m, \u001b[1;36m1\u001b[0m, \u001b[1;36m1\u001b[0m, \u001b[1;36m1\u001b[0m, \u001b[1;36m1\u001b[0m, \u001b[1;36m1\u001b[0m, \u001b[1;36m1\u001b[0m, \u001b[1;36m1\u001b[0m, \u001b[1;36m1\u001b[0m,\n",
       "        \u001b[1;36m1\u001b[0m, \u001b[1;36m1\u001b[0m, \u001b[1;36m1\u001b[0m, \u001b[1;36m1\u001b[0m, \u001b[1;36m1\u001b[0m, \u001b[1;36m1\u001b[0m, \u001b[1;36m1\u001b[0m, \u001b[1;36m1\u001b[0m, \u001b[1;36m1\u001b[0m, \u001b[1;36m1\u001b[0m, \u001b[1;36m1\u001b[0m, \u001b[1;36m1\u001b[0m, \u001b[1;36m1\u001b[0m, \u001b[1;36m1\u001b[0m\u001b[1m]\u001b[0m\u001b[1m)\u001b[0m,\n",
       "    \u001b[32m'token_embeddings'\u001b[0m: \u001b[1;35mtensor\u001b[0m\u001b[1m(\u001b[0m\u001b[1m[\u001b[0m\u001b[1m[\u001b[0m\u001b[1;36m-0.4915\u001b[0m,  \u001b[1;36m0.0079\u001b[0m,  \u001b[1;36m0.1150\u001b[0m,  \u001b[33m...\u001b[0m,  \u001b[1;36m0.3318\u001b[0m, \u001b[1;36m-0.1832\u001b[0m, \u001b[1;36m-0.0306\u001b[0m\u001b[1m]\u001b[0m,\n",
       "        \u001b[1m[\u001b[0m\u001b[1;36m-0.6559\u001b[0m,  \u001b[1;36m0.0482\u001b[0m,  \u001b[1;36m0.0829\u001b[0m,  \u001b[33m...\u001b[0m,  \u001b[1;36m0.3092\u001b[0m,  \u001b[1;36m0.2388\u001b[0m, \u001b[1;36m-0.0171\u001b[0m\u001b[1m]\u001b[0m,\n",
       "        \u001b[1m[\u001b[0m\u001b[1;36m-0.7676\u001b[0m, \u001b[1;36m-0.0600\u001b[0m,  \u001b[1;36m0.0628\u001b[0m,  \u001b[33m...\u001b[0m,  \u001b[1;36m0.4701\u001b[0m,  \u001b[1;36m0.5587\u001b[0m, \u001b[1;36m-0.2076\u001b[0m\u001b[1m]\u001b[0m,\n",
       "        \u001b[33m...\u001b[0m,\n",
       "        \u001b[1m[\u001b[0m\u001b[1;36m-0.5866\u001b[0m,  \u001b[1;36m0.3504\u001b[0m,  \u001b[1;36m0.1313\u001b[0m,  \u001b[33m...\u001b[0m,  \u001b[1;36m0.5132\u001b[0m,  \u001b[1;36m0.6868\u001b[0m,  \u001b[1;36m0.3820\u001b[0m\u001b[1m]\u001b[0m,\n",
       "        \u001b[1m[\u001b[0m\u001b[1;36m-0.4603\u001b[0m, \u001b[1;36m-0.0785\u001b[0m,  \u001b[1;36m0.1447\u001b[0m,  \u001b[33m...\u001b[0m,  \u001b[1;36m0.3814\u001b[0m,  \u001b[1;36m0.2534\u001b[0m,  \u001b[1;36m0.0358\u001b[0m\u001b[1m]\u001b[0m,\n",
       "        \u001b[1m[\u001b[0m\u001b[1;36m-0.6221\u001b[0m, \u001b[1;36m-0.1158\u001b[0m,  \u001b[1;36m0.1800\u001b[0m,  \u001b[33m...\u001b[0m,  \u001b[1;36m0.5810\u001b[0m,  \u001b[1;36m0.3475\u001b[0m, \u001b[1;36m-0.0104\u001b[0m\u001b[1m]\u001b[0m\u001b[1m]\u001b[0m\u001b[1m)\u001b[0m,\n",
       "    \u001b[32m'sentence_embedding'\u001b[0m: \u001b[1;35mtensor\u001b[0m\u001b[1m(\u001b[0m\u001b[1m[\u001b[0m\u001b[1;36m-1.4246e-01\u001b[0m,  \u001b[1;36m3.0715e-03\u001b[0m,  \u001b[1;36m1.5940e-02\u001b[0m,  \u001b[1;36m2.8173e-02\u001b[0m,  \u001b[1;36m2.1864e-02\u001b[0m,\n",
       "        \u001b[1;36m-8.6956e-02\u001b[0m, \u001b[1;36m-3.7082e-02\u001b[0m,  \u001b[1;36m8.4534e-02\u001b[0m, \u001b[1;36m-8.4545e-02\u001b[0m, \u001b[1;36m-1.9203e-02\u001b[0m,\n",
       "         \u001b[1;36m1.2949e-02\u001b[0m,  \u001b[1;36m1.1646e-01\u001b[0m, \u001b[1;36m-6.2878e-03\u001b[0m,  \u001b[1;36m5.2016e-03\u001b[0m, \u001b[1;36m-4.4650e-02\u001b[0m,\n",
       "         \u001b[1;36m5.4338e-04\u001b[0m,  \u001b[1;36m1.1038e-01\u001b[0m, \u001b[1;36m-8.6887e-02\u001b[0m, \u001b[1;36m-7.3036e-02\u001b[0m, \u001b[1;36m-1.9409e-02\u001b[0m,\n",
       "         \u001b[1;36m1.4030e-01\u001b[0m, \u001b[1;36m-2.7500e-02\u001b[0m, \u001b[1;36m-6.8370e-02\u001b[0m,  \u001b[1;36m5.3648e-02\u001b[0m, \u001b[1;36m-1.0747e-02\u001b[0m,\n",
       "        \u001b[1;36m-3.9285e-02\u001b[0m, \u001b[1;36m-7.5669e-02\u001b[0m,  \u001b[1;36m2.1057e-02\u001b[0m,  \u001b[1;36m3.5978e-02\u001b[0m,  \u001b[1;36m6.1648e-02\u001b[0m,\n",
       "        \u001b[1;36m-3.6488e-02\u001b[0m,  \u001b[1;36m1.1507e-01\u001b[0m, \u001b[1;36m-4.9677e-03\u001b[0m,  \u001b[1;36m3.0514e-02\u001b[0m, \u001b[1;36m-7.8639e-02\u001b[0m,\n",
       "         \u001b[1;36m9.8421e-02\u001b[0m,  \u001b[1;36m2.5322e-02\u001b[0m, \u001b[1;36m-1.0002e-02\u001b[0m,  \u001b[1;36m4.8957e-02\u001b[0m, \u001b[1;36m-7.0812e-02\u001b[0m,\n",
       "        \u001b[1;36m-1.3952e-02\u001b[0m, \u001b[1;36m-1.9013e-02\u001b[0m, \u001b[1;36m-3.3804e-02\u001b[0m, \u001b[1;36m-1.4941e-02\u001b[0m,  \u001b[1;36m3.1447e-02\u001b[0m,\n",
       "         \u001b[1;36m4.5754e-02\u001b[0m, \u001b[1;36m-3.8936e-02\u001b[0m,  \u001b[1;36m1.0241e-02\u001b[0m, \u001b[1;36m-4.7750e-02\u001b[0m, \u001b[1;36m-7.2783e-02\u001b[0m,\n",
       "        \u001b[1;36m-1.9285e-02\u001b[0m,  \u001b[1;36m5.6163e-02\u001b[0m, \u001b[1;36m-6.3322e-03\u001b[0m,  \u001b[1;36m1.9977e-02\u001b[0m,  \u001b[1;36m2.6490e-02\u001b[0m,\n",
       "         \u001b[1;36m6.2586e-02\u001b[0m, \u001b[1;36m-1.2018e-03\u001b[0m, \u001b[1;36m-8.9426e-02\u001b[0m, \u001b[1;36m-4.6173e-02\u001b[0m, \u001b[1;36m-3.6813e-02\u001b[0m,\n",
       "        \u001b[1;36m-4.8190e-02\u001b[0m,  \u001b[1;36m2.1556e-02\u001b[0m,  \u001b[1;36m1.9962e-02\u001b[0m,  \u001b[1;36m3.5407e-02\u001b[0m,  \u001b[1;36m2.6642e-02\u001b[0m,\n",
       "        \u001b[1;36m-5.8311e-02\u001b[0m, \u001b[1;36m-1.2200e-03\u001b[0m, \u001b[1;36m-3.4401e-03\u001b[0m,  \u001b[1;36m1.7953e-02\u001b[0m,  \u001b[1;36m5.4156e-02\u001b[0m,\n",
       "        \u001b[1;36m-5.0989e-03\u001b[0m, \u001b[1;36m-2.7924e-02\u001b[0m,  \u001b[1;36m5.4463e-02\u001b[0m,  \u001b[1;36m1.1905e-01\u001b[0m,  \u001b[1;36m1.2868e-01\u001b[0m,\n",
       "        \u001b[1;36m-8.8595e-02\u001b[0m, \u001b[1;36m-1.6164e-02\u001b[0m, \u001b[1;36m-3.2878e-02\u001b[0m, \u001b[1;36m-3.5485e-02\u001b[0m, \u001b[1;36m-1.9966e-02\u001b[0m,\n",
       "         \u001b[1;36m3.9049e-02\u001b[0m, \u001b[1;36m-4.9114e-02\u001b[0m,  \u001b[1;36m4.5685e-02\u001b[0m, \u001b[1;36m-1.2991e-02\u001b[0m,  \u001b[1;36m4.6847e-02\u001b[0m,\n",
       "        \u001b[1;36m-5.6101e-02\u001b[0m,  \u001b[1;36m6.8093e-02\u001b[0m,  \u001b[1;36m2.4827e-03\u001b[0m,  \u001b[1;36m2.6495e-02\u001b[0m,  \u001b[1;36m7.6566e-02\u001b[0m,\n",
       "         \u001b[1;36m1.5663e-02\u001b[0m, \u001b[1;36m-6.9162e-02\u001b[0m, \u001b[1;36m-6.2864e-02\u001b[0m,  \u001b[1;36m2.0814e-02\u001b[0m, \u001b[1;36m-1.0910e-01\u001b[0m,\n",
       "         \u001b[1;36m2.1203e-02\u001b[0m, \u001b[1;36m-1.4046e-02\u001b[0m,  \u001b[1;36m1.5385e-02\u001b[0m, \u001b[1;36m-6.3359e-03\u001b[0m, \u001b[1;36m-2.8475e-02\u001b[0m,\n",
       "         \u001b[1;36m1.3662e-02\u001b[0m, \u001b[1;36m-1.3258e-01\u001b[0m, \u001b[1;36m-1.8202e-02\u001b[0m, \u001b[1;36m-2.1830e-02\u001b[0m,  \u001b[1;36m8.3101e-02\u001b[0m,\n",
       "        \u001b[1;36m-6.8789e-02\u001b[0m, \u001b[1;36m-9.0988e-03\u001b[0m, \u001b[1;36m-7.0356e-02\u001b[0m,  \u001b[1;36m6.2706e-02\u001b[0m, \u001b[1;36m-4.4722e-02\u001b[0m,\n",
       "        \u001b[1;36m-7.2774e-03\u001b[0m, \u001b[1;36m-1.7467e-01\u001b[0m,  \u001b[1;36m2.3604e-02\u001b[0m, \u001b[1;36m-6.0021e-02\u001b[0m, \u001b[1;36m-3.4137e-02\u001b[0m,\n",
       "         \u001b[1;36m7.4124e-02\u001b[0m,  \u001b[1;36m4.0557e-03\u001b[0m,  \u001b[1;36m5.9823e-02\u001b[0m,  \u001b[1;36m1.4841e-03\u001b[0m, \u001b[1;36m-4.6625e-03\u001b[0m,\n",
       "         \u001b[1;36m7.0497e-03\u001b[0m,  \u001b[1;36m7.7516e-02\u001b[0m,  \u001b[1;36m7.3966e-02\u001b[0m,  \u001b[1;36m3.4246e-02\u001b[0m, \u001b[1;36m-4.2010e-02\u001b[0m,\n",
       "         \u001b[1;36m8.9824e-02\u001b[0m, \u001b[1;36m-1.0567e-01\u001b[0m, \u001b[1;36m-6.4156e-33\u001b[0m, \u001b[1;36m-1.6688e-02\u001b[0m, \u001b[1;36m-3.7029e-02\u001b[0m,\n",
       "         \u001b[1;36m1.5546e-03\u001b[0m, \u001b[1;36m-1.9020e-02\u001b[0m, \u001b[1;36m-3.0639e-02\u001b[0m, \u001b[1;36m-3.2764e-02\u001b[0m,  \u001b[1;36m1.1823e-02\u001b[0m,\n",
       "         \u001b[1;36m9.7167e-03\u001b[0m,  \u001b[1;36m1.2092e-04\u001b[0m,  \u001b[1;36m7.0550e-02\u001b[0m,  \u001b[1;36m2.4579e-02\u001b[0m,  \u001b[1;36m5.7831e-02\u001b[0m,\n",
       "         \u001b[1;36m6.8307e-02\u001b[0m,  \u001b[1;36m5.6851e-02\u001b[0m,  \u001b[1;36m7.3616e-02\u001b[0m,  \u001b[1;36m2.2824e-02\u001b[0m, \u001b[1;36m-7.3005e-02\u001b[0m,\n",
       "        \u001b[1;36m-1.5891e-02\u001b[0m,  \u001b[1;36m2.0759e-02\u001b[0m, \u001b[1;36m-1.2286e-02\u001b[0m,  \u001b[1;36m6.4947e-02\u001b[0m,  \u001b[1;36m1.2431e-01\u001b[0m,\n",
       "         \u001b[1;36m1.8076e-02\u001b[0m,  \u001b[1;36m1.1093e-02\u001b[0m, \u001b[1;36m-2.1616e-04\u001b[0m, \u001b[1;36m-1.7142e-02\u001b[0m,  \u001b[1;36m1.4853e-02\u001b[0m,\n",
       "        \u001b[1;36m-1.2691e-02\u001b[0m, \u001b[1;36m-5.0507e-02\u001b[0m,  \u001b[1;36m3.7222e-02\u001b[0m, \u001b[1;36m-4.0360e-02\u001b[0m, \u001b[1;36m-7.4048e-02\u001b[0m,\n",
       "        \u001b[1;36m-1.0970e-02\u001b[0m,  \u001b[1;36m4.1702e-02\u001b[0m, \u001b[1;36m-6.8921e-02\u001b[0m,  \u001b[1;36m4.1219e-03\u001b[0m,  \u001b[1;36m1.4185e-02\u001b[0m,\n",
       "        \u001b[1;36m-7.5804e-02\u001b[0m, \u001b[1;36m-1.1405e-02\u001b[0m, \u001b[1;36m-8.4661e-02\u001b[0m, \u001b[1;36m-3.4637e-02\u001b[0m,  \u001b[1;36m4.0803e-02\u001b[0m,\n",
       "        \u001b[1;36m-1.9901e-02\u001b[0m, \u001b[1;36m-1.4428e-02\u001b[0m, \u001b[1;36m-3.2878e-02\u001b[0m, \u001b[1;36m-1.3772e-02\u001b[0m, \u001b[1;36m-1.9814e-02\u001b[0m,\n",
       "         \u001b[1;36m9.5046e-02\u001b[0m,  \u001b[1;36m9.0082e-03\u001b[0m, \u001b[1;36m-2.6932e-02\u001b[0m,  \u001b[1;36m1.6957e-02\u001b[0m, \u001b[1;36m-2.3650e-02\u001b[0m,\n",
       "         \u001b[1;36m3.9388e-02\u001b[0m,  \u001b[1;36m1.2614e-02\u001b[0m, \u001b[1;36m-1.8223e-02\u001b[0m,  \u001b[1;36m8.4496e-02\u001b[0m,  \u001b[1;36m1.0471e-01\u001b[0m,\n",
       "         \u001b[1;36m7.0581e-02\u001b[0m,  \u001b[1;36m2.9548e-02\u001b[0m, \u001b[1;36m-6.3651e-02\u001b[0m,  \u001b[1;36m5.4298e-04\u001b[0m, \u001b[1;36m-6.2097e-02\u001b[0m,\n",
       "         \u001b[1;36m1.1686e-02\u001b[0m,  \u001b[1;36m6.8007e-02\u001b[0m, \u001b[1;36m-4.1757e-02\u001b[0m,  \u001b[1;36m5.4769e-05\u001b[0m,  \u001b[1;36m7.2576e-03\u001b[0m,\n",
       "         \u001b[1;36m5.3216e-02\u001b[0m,  \u001b[1;36m3.9076e-02\u001b[0m,  \u001b[1;36m3.3343e-02\u001b[0m, \u001b[1;36m-2.3008e-02\u001b[0m,  \u001b[1;36m3.5174e-02\u001b[0m,\n",
       "        \u001b[1;36m-4.0212e-02\u001b[0m, \u001b[1;36m-1.7000e-02\u001b[0m,  \u001b[1;36m6.0849e-03\u001b[0m,  \u001b[1;36m3.7907e-02\u001b[0m,  \u001b[1;36m3.5553e-02\u001b[0m,\n",
       "        \u001b[1;36m-6.7226e-02\u001b[0m, \u001b[1;36m-4.7138e-02\u001b[0m,  \u001b[1;36m6.7798e-03\u001b[0m, \u001b[1;36m-7.1156e-02\u001b[0m,  \u001b[1;36m7.6744e-02\u001b[0m,\n",
       "         \u001b[1;36m3.7150e-02\u001b[0m, \u001b[1;36m-1.4659e-02\u001b[0m, \u001b[1;36m-7.8332e-02\u001b[0m,  \u001b[1;36m4.6545e-03\u001b[0m,  \u001b[1;36m1.6806e-02\u001b[0m,\n",
       "        \u001b[1;36m-1.1082e-02\u001b[0m,  \u001b[1;36m5.6526e-02\u001b[0m, \u001b[1;36m-7.9980e-02\u001b[0m, \u001b[1;36m-7.2967e-02\u001b[0m, \u001b[1;36m-5.7778e-02\u001b[0m,\n",
       "        \u001b[1;36m-2.5481e-03\u001b[0m, \u001b[1;36m-2.6015e-02\u001b[0m, \u001b[1;36m-2.7038e-02\u001b[0m,  \u001b[1;36m6.3896e-35\u001b[0m,  \u001b[1;36m5.4324e-02\u001b[0m,\n",
       "         \u001b[1;36m5.2883e-02\u001b[0m,  \u001b[1;36m1.8178e-02\u001b[0m,  \u001b[1;36m4.4359e-02\u001b[0m, \u001b[1;36m-9.0200e-03\u001b[0m,  \u001b[1;36m3.8994e-02\u001b[0m,\n",
       "        \u001b[1;36m-3.4364e-02\u001b[0m, \u001b[1;36m-6.9256e-02\u001b[0m,  \u001b[1;36m2.5044e-02\u001b[0m, \u001b[1;36m-4.3153e-02\u001b[0m,  \u001b[1;36m2.5592e-02\u001b[0m,\n",
       "         \u001b[1;36m3.6207e-02\u001b[0m,  \u001b[1;36m7.3959e-02\u001b[0m, \u001b[1;36m-3.4143e-02\u001b[0m,  \u001b[1;36m8.5106e-02\u001b[0m, \u001b[1;36m-5.2802e-02\u001b[0m,\n",
       "        \u001b[1;36m-1.1268e-01\u001b[0m, \u001b[1;36m-3.9600e-02\u001b[0m, \u001b[1;36m-9.2824e-03\u001b[0m, \u001b[1;36m-2.2307e-02\u001b[0m,  \u001b[1;36m1.7575e-02\u001b[0m,\n",
       "         \u001b[1;36m1.4273e-02\u001b[0m,  \u001b[1;36m1.1023e-02\u001b[0m,  \u001b[1;36m1.8959e-02\u001b[0m, \u001b[1;36m-2.1621e-02\u001b[0m, \u001b[1;36m-5.2473e-02\u001b[0m,\n",
       "        \u001b[1;36m-3.1174e-02\u001b[0m,  \u001b[1;36m4.7182e-02\u001b[0m,  \u001b[1;36m5.3034e-02\u001b[0m,  \u001b[1;36m3.2707e-02\u001b[0m,  \u001b[1;36m2.7765e-02\u001b[0m,\n",
       "         \u001b[1;36m4.6465e-02\u001b[0m, \u001b[1;36m-6.6840e-02\u001b[0m,  \u001b[1;36m7.2035e-02\u001b[0m, \u001b[1;36m-1.9092e-02\u001b[0m,  \u001b[1;36m3.4947e-02\u001b[0m,\n",
       "        \u001b[1;36m-1.9729e-02\u001b[0m, \u001b[1;36m-3.5099e-02\u001b[0m, \u001b[1;36m-3.6632e-02\u001b[0m,  \u001b[1;36m1.1696e-02\u001b[0m,  \u001b[1;36m3.6319e-02\u001b[0m,\n",
       "         \u001b[1;36m5.6143e-02\u001b[0m,  \u001b[1;36m2.3251e-03\u001b[0m,  \u001b[1;36m1.0723e-01\u001b[0m, \u001b[1;36m-1.1715e-02\u001b[0m, \u001b[1;36m-3.5454e-03\u001b[0m,\n",
       "        \u001b[1;36m-1.3971e-02\u001b[0m,  \u001b[1;36m5.2321e-03\u001b[0m,  \u001b[1;36m4.5230e-02\u001b[0m, \u001b[1;36m-5.8749e-02\u001b[0m, \u001b[1;36m-2.4461e-02\u001b[0m,\n",
       "        \u001b[1;36m-7.0650e-02\u001b[0m,  \u001b[1;36m4.5616e-02\u001b[0m,  \u001b[1;36m7.2012e-02\u001b[0m, \u001b[1;36m-3.6959e-02\u001b[0m, \u001b[1;36m-3.1838e-02\u001b[0m,\n",
       "         \u001b[1;36m4.6898e-03\u001b[0m,  \u001b[1;36m2.5908e-02\u001b[0m, \u001b[1;36m-6.0194e-02\u001b[0m, \u001b[1;36m-7.2020e-03\u001b[0m,  \u001b[1;36m6.7752e-02\u001b[0m,\n",
       "        \u001b[1;36m-7.0150e-02\u001b[0m, \u001b[1;36m-2.8524e-02\u001b[0m,  \u001b[1;36m4.0547e-03\u001b[0m, \u001b[1;36m-1.3080e-01\u001b[0m, \u001b[1;36m-1.8884e-02\u001b[0m,\n",
       "        \u001b[1;36m-7.3759e-02\u001b[0m, \u001b[1;36m-4.3154e-02\u001b[0m, \u001b[1;36m-3.0080e-02\u001b[0m, \u001b[1;36m-7.0080e-02\u001b[0m,  \u001b[1;36m4.7776e-02\u001b[0m,\n",
       "         \u001b[1;36m7.5750e-03\u001b[0m, \u001b[1;36m-4.0063e-02\u001b[0m, \u001b[1;36m-3.9337e-02\u001b[0m, \u001b[1;36m-5.5096e-02\u001b[0m,  \u001b[1;36m6.7704e-02\u001b[0m,\n",
       "         \u001b[1;36m2.3271e-02\u001b[0m, \u001b[1;36m-1.5606e-02\u001b[0m, \u001b[1;36m-3.0095e-02\u001b[0m, \u001b[1;36m-3.2230e-03\u001b[0m, \u001b[1;36m-1.1410e-01\u001b[0m,\n",
       "         \u001b[1;36m1.7479e-02\u001b[0m,  \u001b[1;36m4.1933e-03\u001b[0m,  \u001b[1;36m5.8488e-02\u001b[0m, \u001b[1;36m-3.2622e-02\u001b[0m, \u001b[1;36m-4.9827e-02\u001b[0m,\n",
       "        \u001b[1;36m-3.0930e-02\u001b[0m,  \u001b[1;36m1.0857e-01\u001b[0m,  \u001b[1;36m5.1082e-02\u001b[0m, \u001b[1;36m-9.7597e-02\u001b[0m, \u001b[1;36m-2.3989e-02\u001b[0m,\n",
       "         \u001b[1;36m7.9028e-02\u001b[0m, \u001b[1;36m-2.6031e-02\u001b[0m, \u001b[1;36m-2.9201e-02\u001b[0m, \u001b[1;36m-6.7714e-02\u001b[0m, \u001b[1;36m-2.3414e-08\u001b[0m,\n",
       "         \u001b[1;36m9.5609e-03\u001b[0m,  \u001b[1;36m3.6905e-02\u001b[0m,  \u001b[1;36m5.0259e-02\u001b[0m, \u001b[1;36m-4.0007e-03\u001b[0m,  \u001b[1;36m2.9434e-02\u001b[0m,\n",
       "        \u001b[1;36m-3.6063e-02\u001b[0m, \u001b[1;36m-4.3240e-02\u001b[0m,  \u001b[1;36m1.4415e-02\u001b[0m,  \u001b[1;36m3.7832e-02\u001b[0m,  \u001b[1;36m1.9344e-03\u001b[0m,\n",
       "        \u001b[1;36m-3.4044e-02\u001b[0m, \u001b[1;36m-2.6402e-03\u001b[0m,  \u001b[1;36m6.3724e-03\u001b[0m, \u001b[1;36m-7.5963e-02\u001b[0m,  \u001b[1;36m3.5744e-02\u001b[0m,\n",
       "         \u001b[1;36m4.8109e-02\u001b[0m, \u001b[1;36m-2.8731e-02\u001b[0m,  \u001b[1;36m5.7398e-04\u001b[0m, \u001b[1;36m-1.6240e-02\u001b[0m, \u001b[1;36m-1.9413e-02\u001b[0m,\n",
       "        \u001b[1;36m-1.0707e-01\u001b[0m, \u001b[1;36m-6.4964e-02\u001b[0m, \u001b[1;36m-1.8988e-03\u001b[0m, \u001b[1;36m-4.3588e-02\u001b[0m, \u001b[1;36m-1.3333e-01\u001b[0m,\n",
       "         \u001b[1;36m3.5273e-02\u001b[0m,  \u001b[1;36m5.5209e-02\u001b[0m, \u001b[1;36m-1.5422e-02\u001b[0m, \u001b[1;36m-2.1405e-02\u001b[0m, \u001b[1;36m-3.5556e-04\u001b[0m,\n",
       "        \u001b[1;36m-4.0583e-02\u001b[0m,  \u001b[1;36m4.0723e-02\u001b[0m, \u001b[1;36m-1.9816e-02\u001b[0m,  \u001b[1;36m4.4682e-02\u001b[0m,  \u001b[1;36m2.7648e-02\u001b[0m,\n",
       "         \u001b[1;36m8.8865e-02\u001b[0m, \u001b[1;36m-5.7460e-02\u001b[0m,  \u001b[1;36m3.9150e-02\u001b[0m,  \u001b[1;36m8.3433e-03\u001b[0m,  \u001b[1;36m5.3881e-02\u001b[0m,\n",
       "         \u001b[1;36m2.0442e-02\u001b[0m, \u001b[1;36m-1.1603e-01\u001b[0m, \u001b[1;36m-5.8360e-02\u001b[0m,  \u001b[1;36m4.1808e-03\u001b[0m, \u001b[1;36m-1.9214e-02\u001b[0m,\n",
       "         \u001b[1;36m1.3940e-02\u001b[0m, \u001b[1;36m-2.2831e-02\u001b[0m, \u001b[1;36m-1.1595e-02\u001b[0m, \u001b[1;36m-1.8103e-02\u001b[0m,  \u001b[1;36m5.2128e-02\u001b[0m,\n",
       "        \u001b[1;36m-6.6055e-02\u001b[0m,  \u001b[1;36m4.8010e-02\u001b[0m, \u001b[1;36m-5.2628e-02\u001b[0m, \u001b[1;36m-2.2247e-03\u001b[0m,  \u001b[1;36m2.1005e-02\u001b[0m,\n",
       "         \u001b[1;36m5.3376e-02\u001b[0m, \u001b[1;36m-6.9090e-02\u001b[0m, \u001b[1;36m-4.1878e-02\u001b[0m, \u001b[1;36m-6.2827e-02\u001b[0m,  \u001b[1;36m2.4870e-02\u001b[0m,\n",
       "         \u001b[1;36m3.1205e-02\u001b[0m,  \u001b[1;36m7.6650e-02\u001b[0m,  \u001b[1;36m7.1036e-02\u001b[0m,  \u001b[1;36m1.1342e-02\u001b[0m\u001b[1m]\u001b[0m\u001b[1m)\u001b[0m\n",
       "\u001b[1m}\u001b[0m\n"
      ]
     },
     "metadata": {},
     "output_type": "display_data"
    }
   ],
   "source": [
    "text = \"What does 'super' do in Python? - difference between super().__init__() and explicit superclass __init__()\"\n",
    "#text = \"meN shoes running ran\"\n",
    "\n",
    "resp = model.encode(text, output_value=None)\n",
    "\n",
    "rich.print(resp)"
   ]
  },
  {
   "cell_type": "code",
   "execution_count": 6,
   "id": "66101a29-cf6b-460a-befb-8f1093555303",
   "metadata": {},
   "outputs": [
    {
     "data": {
      "text/plain": [
       "torch.Size([38, 384])"
      ]
     },
     "execution_count": 6,
     "metadata": {},
     "output_type": "execute_result"
    }
   ],
   "source": [
    "resp['token_embeddings'].shape # for each token, we have embedding\n"
   ]
  },
  {
   "cell_type": "code",
   "execution_count": null,
   "id": "472d06b1-c74f-40e3-a1fa-54c534575f6e",
   "metadata": {},
   "outputs": [],
   "source": []
  },
  {
   "cell_type": "code",
   "execution_count": null,
   "id": "9d721dba-5639-476e-a1f9-4ddb9212e74b",
   "metadata": {},
   "outputs": [],
   "source": []
  },
  {
   "cell_type": "code",
   "execution_count": 7,
   "id": "9cdfef33-ccbd-4a44-87bd-8d337ba7cb10",
   "metadata": {},
   "outputs": [
    {
     "data": {
      "application/vnd.jupyter.widget-view+json": {
       "model_id": "2ffaf15a5d4b41d09562cdab1a1ae251",
       "version_major": 2,
       "version_minor": 0
      },
      "text/plain": [
       "Downloading:   0%|          | 0.00/350 [00:00<?, ?B/s]"
      ]
     },
     "metadata": {},
     "output_type": "display_data"
    },
    {
     "data": {
      "application/vnd.jupyter.widget-view+json": {
       "model_id": "4851db14d68f40909100be1b64be0a59",
       "version_major": 2,
       "version_minor": 0
      },
      "text/plain": [
       "Downloading:   0%|          | 0.00/232k [00:00<?, ?B/s]"
      ]
     },
     "metadata": {},
     "output_type": "display_data"
    },
    {
     "data": {
      "application/vnd.jupyter.widget-view+json": {
       "model_id": "f1c9edb423e54723afff46a0f182b335",
       "version_major": 2,
       "version_minor": 0
      },
      "text/plain": [
       "Downloading:   0%|          | 0.00/466k [00:00<?, ?B/s]"
      ]
     },
     "metadata": {},
     "output_type": "display_data"
    },
    {
     "data": {
      "application/vnd.jupyter.widget-view+json": {
       "model_id": "427a878c1ec84854a2e8588111c8a349",
       "version_major": 2,
       "version_minor": 0
      },
      "text/plain": [
       "Downloading:   0%|          | 0.00/112 [00:00<?, ?B/s]"
      ]
     },
     "metadata": {},
     "output_type": "display_data"
    }
   ],
   "source": [
    "tokenizer = AutoTokenizer.from_pretrained(model_name)\n"
   ]
  },
  {
   "cell_type": "code",
   "execution_count": 8,
   "id": "e93b4f92-dd9d-4b60-a526-bc1370c80fa7",
   "metadata": {},
   "outputs": [
    {
     "data": {
      "text/plain": [
       "{'input_ids': [101, 2054, 2515, 1005, 3565, 1005, 2079, 1999, 18750, 1029, 1011, 4489, 2090, 3565, 1006, 1007, 1012, 1035, 1035, 1999, 4183, 1035, 1035, 1006, 1007, 1998, 13216, 3565, 26266, 1035, 1035, 1999, 4183, 1035, 1035, 1006, 1007, 102], 'token_type_ids': [0, 0, 0, 0, 0, 0, 0, 0, 0, 0, 0, 0, 0, 0, 0, 0, 0, 0, 0, 0, 0, 0, 0, 0, 0, 0, 0, 0, 0, 0, 0, 0, 0, 0, 0, 0, 0, 0], 'attention_mask': [1, 1, 1, 1, 1, 1, 1, 1, 1, 1, 1, 1, 1, 1, 1, 1, 1, 1, 1, 1, 1, 1, 1, 1, 1, 1, 1, 1, 1, 1, 1, 1, 1, 1, 1, 1, 1, 1]}"
      ]
     },
     "execution_count": 8,
     "metadata": {},
     "output_type": "execute_result"
    }
   ],
   "source": [
    "tokenizer(text)\n"
   ]
  },
  {
   "cell_type": "code",
   "execution_count": 9,
   "id": "1d976f1f-d467-4a6e-a8fb-5fa4ab3d29c0",
   "metadata": {},
   "outputs": [
    {
     "data": {
      "text/html": [
       "<pre style=\"white-space:pre;overflow-x:auto;line-height:normal;font-family:Menlo,'DejaVu Sans Mono',consolas,'Courier New',monospace\"><span style=\"font-weight: bold\">[</span>\n",
       "    <span style=\"color: #008000; text-decoration-color: #008000\">'what'</span>,\n",
       "    <span style=\"color: #008000; text-decoration-color: #008000\">'does'</span>,\n",
       "    <span style=\"color: #008000; text-decoration-color: #008000\">\"'\"</span>,\n",
       "    <span style=\"color: #008000; text-decoration-color: #008000\">'super'</span>,\n",
       "    <span style=\"color: #008000; text-decoration-color: #008000\">\"'\"</span>,\n",
       "    <span style=\"color: #008000; text-decoration-color: #008000\">'do'</span>,\n",
       "    <span style=\"color: #008000; text-decoration-color: #008000\">'in'</span>,\n",
       "    <span style=\"color: #008000; text-decoration-color: #008000\">'python'</span>,\n",
       "    <span style=\"color: #008000; text-decoration-color: #008000\">'?'</span>,\n",
       "    <span style=\"color: #008000; text-decoration-color: #008000\">'-'</span>,\n",
       "    <span style=\"color: #008000; text-decoration-color: #008000\">'difference'</span>,\n",
       "    <span style=\"color: #008000; text-decoration-color: #008000\">'between'</span>,\n",
       "    <span style=\"color: #008000; text-decoration-color: #008000\">'super'</span>,\n",
       "    <span style=\"color: #008000; text-decoration-color: #008000\">'('</span>,\n",
       "    <span style=\"color: #008000; text-decoration-color: #008000\">')'</span>,\n",
       "    <span style=\"color: #008000; text-decoration-color: #008000\">'.'</span>,\n",
       "    <span style=\"color: #008000; text-decoration-color: #008000\">'_'</span>,\n",
       "    <span style=\"color: #008000; text-decoration-color: #008000\">'_'</span>,\n",
       "    <span style=\"color: #008000; text-decoration-color: #008000\">'in'</span>,\n",
       "    <span style=\"color: #008000; text-decoration-color: #008000\">'##it'</span>,\n",
       "    <span style=\"color: #008000; text-decoration-color: #008000\">'_'</span>,\n",
       "    <span style=\"color: #008000; text-decoration-color: #008000\">'_'</span>,\n",
       "    <span style=\"color: #008000; text-decoration-color: #008000\">'('</span>,\n",
       "    <span style=\"color: #008000; text-decoration-color: #008000\">')'</span>,\n",
       "    <span style=\"color: #008000; text-decoration-color: #008000\">'and'</span>,\n",
       "    <span style=\"color: #008000; text-decoration-color: #008000\">'explicit'</span>,\n",
       "    <span style=\"color: #008000; text-decoration-color: #008000\">'super'</span>,\n",
       "    <span style=\"color: #008000; text-decoration-color: #008000\">'##class'</span>,\n",
       "    <span style=\"color: #008000; text-decoration-color: #008000\">'_'</span>,\n",
       "    <span style=\"color: #008000; text-decoration-color: #008000\">'_'</span>,\n",
       "    <span style=\"color: #008000; text-decoration-color: #008000\">'in'</span>,\n",
       "    <span style=\"color: #008000; text-decoration-color: #008000\">'##it'</span>,\n",
       "    <span style=\"color: #008000; text-decoration-color: #008000\">'_'</span>,\n",
       "    <span style=\"color: #008000; text-decoration-color: #008000\">'_'</span>,\n",
       "    <span style=\"color: #008000; text-decoration-color: #008000\">'('</span>,\n",
       "    <span style=\"color: #008000; text-decoration-color: #008000\">')'</span>\n",
       "<span style=\"font-weight: bold\">]</span>\n",
       "</pre>\n"
      ],
      "text/plain": [
       "\u001b[1m[\u001b[0m\n",
       "    \u001b[32m'what'\u001b[0m,\n",
       "    \u001b[32m'does'\u001b[0m,\n",
       "    \u001b[32m\"'\"\u001b[0m,\n",
       "    \u001b[32m'super'\u001b[0m,\n",
       "    \u001b[32m\"'\"\u001b[0m,\n",
       "    \u001b[32m'do'\u001b[0m,\n",
       "    \u001b[32m'in'\u001b[0m,\n",
       "    \u001b[32m'python'\u001b[0m,\n",
       "    \u001b[32m'?'\u001b[0m,\n",
       "    \u001b[32m'-'\u001b[0m,\n",
       "    \u001b[32m'difference'\u001b[0m,\n",
       "    \u001b[32m'between'\u001b[0m,\n",
       "    \u001b[32m'super'\u001b[0m,\n",
       "    \u001b[32m'\u001b[0m\u001b[32m(\u001b[0m\u001b[32m'\u001b[0m,\n",
       "    \u001b[32m'\u001b[0m\u001b[32m)\u001b[0m\u001b[32m'\u001b[0m,\n",
       "    \u001b[32m'.'\u001b[0m,\n",
       "    \u001b[32m'_'\u001b[0m,\n",
       "    \u001b[32m'_'\u001b[0m,\n",
       "    \u001b[32m'in'\u001b[0m,\n",
       "    \u001b[32m'##it'\u001b[0m,\n",
       "    \u001b[32m'_'\u001b[0m,\n",
       "    \u001b[32m'_'\u001b[0m,\n",
       "    \u001b[32m'\u001b[0m\u001b[32m(\u001b[0m\u001b[32m'\u001b[0m,\n",
       "    \u001b[32m'\u001b[0m\u001b[32m)\u001b[0m\u001b[32m'\u001b[0m,\n",
       "    \u001b[32m'and'\u001b[0m,\n",
       "    \u001b[32m'explicit'\u001b[0m,\n",
       "    \u001b[32m'super'\u001b[0m,\n",
       "    \u001b[32m'##class'\u001b[0m,\n",
       "    \u001b[32m'_'\u001b[0m,\n",
       "    \u001b[32m'_'\u001b[0m,\n",
       "    \u001b[32m'in'\u001b[0m,\n",
       "    \u001b[32m'##it'\u001b[0m,\n",
       "    \u001b[32m'_'\u001b[0m,\n",
       "    \u001b[32m'_'\u001b[0m,\n",
       "    \u001b[32m'\u001b[0m\u001b[32m(\u001b[0m\u001b[32m'\u001b[0m,\n",
       "    \u001b[32m'\u001b[0m\u001b[32m)\u001b[0m\u001b[32m'\u001b[0m\n",
       "\u001b[1m]\u001b[0m\n"
      ]
     },
     "metadata": {},
     "output_type": "display_data"
    }
   ],
   "source": [
    "tokens = tokenizer.tokenize(text) \n",
    "rich.print ( tokens)"
   ]
  },
  {
   "cell_type": "code",
   "execution_count": 10,
   "id": "39bf1ea7-d792-4bbd-bd78-126c86e06037",
   "metadata": {},
   "outputs": [
    {
     "data": {
      "text/plain": [
       "[2054,\n",
       " 2515,\n",
       " 1005,\n",
       " 3565,\n",
       " 1005,\n",
       " 2079,\n",
       " 1999,\n",
       " 18750,\n",
       " 1029,\n",
       " 1011,\n",
       " 4489,\n",
       " 2090,\n",
       " 3565,\n",
       " 1006,\n",
       " 1007,\n",
       " 1012,\n",
       " 1035,\n",
       " 1035,\n",
       " 1999,\n",
       " 4183,\n",
       " 1035,\n",
       " 1035,\n",
       " 1006,\n",
       " 1007,\n",
       " 1998,\n",
       " 13216,\n",
       " 3565,\n",
       " 26266,\n",
       " 1035,\n",
       " 1035,\n",
       " 1999,\n",
       " 4183,\n",
       " 1035,\n",
       " 1035,\n",
       " 1006,\n",
       " 1007]"
      ]
     },
     "execution_count": 10,
     "metadata": {},
     "output_type": "execute_result"
    }
   ],
   "source": [
    "input_ids= tokenizer.convert_tokens_to_ids(tokens)\n",
    "input_ids"
   ]
  },
  {
   "cell_type": "code",
   "execution_count": null,
   "id": "8a5a6651-7977-48ee-8c5c-3edddddcc673",
   "metadata": {},
   "outputs": [],
   "source": []
  },
  {
   "cell_type": "code",
   "execution_count": 11,
   "id": "cdc8a452-cc22-4624-84fc-472cd880cb30",
   "metadata": {},
   "outputs": [
    {
     "data": {
      "text/plain": [
       "\"what does'super'do in python? - difference between super ( ). _ _ init _ _ ( ) and explicit superclass _ _ init _ _ ( )\""
      ]
     },
     "execution_count": 11,
     "metadata": {},
     "output_type": "execute_result"
    }
   ],
   "source": [
    "decoded_string = tokenizer.decode(input_ids)\n",
    "decoded_string"
   ]
  },
  {
   "cell_type": "code",
   "execution_count": null,
   "id": "0dd2c4fb-08dc-4e71-9773-afedf84182cb",
   "metadata": {},
   "outputs": [],
   "source": []
  },
  {
   "cell_type": "code",
   "execution_count": null,
   "id": "8baa5a71-6f11-45eb-b60c-ec34bb8ec1ec",
   "metadata": {},
   "outputs": [],
   "source": []
  },
  {
   "cell_type": "code",
   "execution_count": null,
   "id": "f76d0532-719f-43e7-b06c-0aeccb45414a",
   "metadata": {},
   "outputs": [],
   "source": []
  },
  {
   "cell_type": "markdown",
   "id": "a45f27fd-b4c5-4b37-a969-ee270981770c",
   "metadata": {},
   "source": [
    "## Dataseset"
   ]
  },
  {
   "cell_type": "code",
   "execution_count": 12,
   "id": "e47911b6-c59d-4719-b32b-37a96a09c198",
   "metadata": {},
   "outputs": [],
   "source": [
    "dset = datasets.load_from_disk(\"../data/processed\")"
   ]
  },
  {
   "cell_type": "code",
   "execution_count": null,
   "id": "bc4d1745-0860-40ec-8ae1-60d880728861",
   "metadata": {},
   "outputs": [],
   "source": []
  },
  {
   "cell_type": "markdown",
   "id": "20f084db-5294-4e2f-ad57-ee82950977a2",
   "metadata": {},
   "source": [
    "compute the embeddings"
   ]
  },
  {
   "cell_type": "code",
   "execution_count": null,
   "id": "095286f3-cf28-4d9a-8e4c-4cd69045871b",
   "metadata": {},
   "outputs": [],
   "source": []
  },
  {
   "cell_type": "code",
   "execution_count": 13,
   "id": "6f6372a9-5506-46a5-af3c-9b305ceb81ee",
   "metadata": {},
   "outputs": [
    {
     "data": {
      "application/vnd.jupyter.widget-view+json": {
       "model_id": "31a7df210974494e92e3fd71049df502",
       "version_major": 2,
       "version_minor": 0
      },
      "text/plain": [
       "  0%|          | 0/782 [00:00<?, ?ba/s]"
      ]
     },
     "metadata": {},
     "output_type": "display_data"
    }
   ],
   "source": [
    "dset = dset.map(\n",
    "    lambda example: {'embedding':model.encode(example['description_final'], device='cpu', normalize_embeddings=True)}, batched=True, batch_size=32)\n"
   ]
  },
  {
   "cell_type": "markdown",
   "id": "c176382b-6947-490d-ab89-bce79c5bcfd3",
   "metadata": {},
   "source": [
    "note that how much time computing the embeddings take compared to a BM25 approach"
   ]
  },
  {
   "cell_type": "code",
   "execution_count": null,
   "id": "0417f97f-394d-47b1-85bb-f54627ec604e",
   "metadata": {},
   "outputs": [],
   "source": []
  },
  {
   "cell_type": "code",
   "execution_count": 14,
   "id": "83fa7b33-888c-4a13-866c-70c261540959",
   "metadata": {},
   "outputs": [
    {
     "data": {
      "text/plain": [
       "Dataset({\n",
       "    features: ['photo_id', 'photo_url', 'photo_image_url', 'photo_submitted_at', 'photo_featured', 'photo_width', 'photo_height', 'photo_aspect_ratio', 'photo_description', 'photographer_username', 'photographer_first_name', 'photographer_last_name', 'exif_camera_make', 'exif_camera_model', 'exif_iso', 'exif_aperture_value', 'exif_focal_length', 'exif_exposure_time', 'photo_location_name', 'photo_location_latitude', 'photo_location_longitude', 'photo_location_country', 'photo_location_city', 'stats_views', 'stats_downloads', 'ai_description', 'ai_primary_landmark_name', 'ai_primary_landmark_latitude', 'ai_primary_landmark_longitude', 'ai_primary_landmark_confidence', 'blur_hash', 'description_final', 'image', 'embedding'],\n",
       "    num_rows: 24995\n",
       "})"
      ]
     },
     "execution_count": 14,
     "metadata": {},
     "output_type": "execute_result"
    }
   ],
   "source": [
    "dset"
   ]
  },
  {
   "cell_type": "code",
   "execution_count": 15,
   "id": "a7e32a06-6c59-40f8-b572-8ec581e5dafb",
   "metadata": {},
   "outputs": [
    {
     "data": {
      "text/html": [
       "<pre style=\"white-space:pre;overflow-x:auto;line-height:normal;font-family:Menlo,'DejaVu Sans Mono',consolas,'Courier New',monospace\"><span style=\"font-weight: bold\">{</span>\n",
       "    <span style=\"color: #008000; text-decoration-color: #008000\">'photo_id'</span>: <span style=\"color: #008000; text-decoration-color: #008000\">'XMyPniM9LF0'</span>,\n",
       "    <span style=\"color: #008000; text-decoration-color: #008000\">'photo_url'</span>: <span style=\"color: #008000; text-decoration-color: #008000\">'https://unsplash.com/photos/XMyPniM9LF0'</span>,\n",
       "    <span style=\"color: #008000; text-decoration-color: #008000\">'photo_image_url'</span>: <span style=\"color: #008000; text-decoration-color: #008000\">'https://images.unsplash.com/uploads/14119492946973137ce46/f1f2ebf3'</span>,\n",
       "    <span style=\"color: #008000; text-decoration-color: #008000\">'photo_submitted_at'</span>: <span style=\"color: #008000; text-decoration-color: #008000\">'2014-09-29 00:08:38.594364'</span>,\n",
       "    <span style=\"color: #008000; text-decoration-color: #008000\">'photo_featured'</span>: <span style=\"color: #008000; text-decoration-color: #008000\">'t'</span>,\n",
       "    <span style=\"color: #008000; text-decoration-color: #008000\">'photo_width'</span>: <span style=\"color: #008080; text-decoration-color: #008080; font-weight: bold\">4272</span>,\n",
       "    <span style=\"color: #008000; text-decoration-color: #008000\">'photo_height'</span>: <span style=\"color: #008080; text-decoration-color: #008080; font-weight: bold\">2848</span>,\n",
       "    <span style=\"color: #008000; text-decoration-color: #008000\">'photo_aspect_ratio'</span>: <span style=\"color: #008080; text-decoration-color: #008080; font-weight: bold\">1.5</span>,\n",
       "    <span style=\"color: #008000; text-decoration-color: #008000\">'photo_description'</span>: <span style=\"color: #008000; text-decoration-color: #008000\">'Woman exploring a forest'</span>,\n",
       "    <span style=\"color: #008000; text-decoration-color: #008000\">'photographer_username'</span>: <span style=\"color: #008000; text-decoration-color: #008000\">'michellespencer77'</span>,\n",
       "    <span style=\"color: #008000; text-decoration-color: #008000\">'photographer_first_name'</span>: <span style=\"color: #008000; text-decoration-color: #008000\">'Michelle'</span>,\n",
       "    <span style=\"color: #008000; text-decoration-color: #008000\">'photographer_last_name'</span>: <span style=\"color: #008000; text-decoration-color: #008000\">'Spencer'</span>,\n",
       "    <span style=\"color: #008000; text-decoration-color: #008000\">'exif_camera_make'</span>: <span style=\"color: #008000; text-decoration-color: #008000\">'Canon'</span>,\n",
       "    <span style=\"color: #008000; text-decoration-color: #008000\">'exif_camera_model'</span>: <span style=\"color: #008000; text-decoration-color: #008000\">'Canon EOS REBEL T3'</span>,\n",
       "    <span style=\"color: #008000; text-decoration-color: #008000\">'exif_iso'</span>: <span style=\"color: #008080; text-decoration-color: #008080; font-weight: bold\">400.0</span>,\n",
       "    <span style=\"color: #008000; text-decoration-color: #008000\">'exif_aperture_value'</span>: <span style=\"color: #008000; text-decoration-color: #008000\">'1.8'</span>,\n",
       "    <span style=\"color: #008000; text-decoration-color: #008000\">'exif_focal_length'</span>: <span style=\"color: #008000; text-decoration-color: #008000\">'50.0'</span>,\n",
       "    <span style=\"color: #008000; text-decoration-color: #008000\">'exif_exposure_time'</span>: <span style=\"color: #008000; text-decoration-color: #008000\">'1/100'</span>,\n",
       "    <span style=\"color: #008000; text-decoration-color: #008000\">'photo_location_name'</span>: <span style=\"color: #800080; text-decoration-color: #800080; font-style: italic\">None</span>,\n",
       "    <span style=\"color: #008000; text-decoration-color: #008000\">'photo_location_latitude'</span>: <span style=\"color: #800080; text-decoration-color: #800080; font-style: italic\">None</span>,\n",
       "    <span style=\"color: #008000; text-decoration-color: #008000\">'photo_location_longitude'</span>: <span style=\"color: #800080; text-decoration-color: #800080; font-style: italic\">None</span>,\n",
       "    <span style=\"color: #008000; text-decoration-color: #008000\">'photo_location_country'</span>: <span style=\"color: #800080; text-decoration-color: #800080; font-style: italic\">None</span>,\n",
       "    <span style=\"color: #008000; text-decoration-color: #008000\">'photo_location_city'</span>: <span style=\"color: #800080; text-decoration-color: #800080; font-style: italic\">None</span>,\n",
       "    <span style=\"color: #008000; text-decoration-color: #008000\">'stats_views'</span>: <span style=\"color: #008080; text-decoration-color: #008080; font-weight: bold\">2375421</span>,\n",
       "    <span style=\"color: #008000; text-decoration-color: #008000\">'stats_downloads'</span>: <span style=\"color: #008080; text-decoration-color: #008080; font-weight: bold\">6967</span>,\n",
       "    <span style=\"color: #008000; text-decoration-color: #008000\">'ai_description'</span>: <span style=\"color: #008000; text-decoration-color: #008000\">'woman walking in the middle of forest'</span>,\n",
       "    <span style=\"color: #008000; text-decoration-color: #008000\">'ai_primary_landmark_name'</span>: <span style=\"color: #800080; text-decoration-color: #800080; font-style: italic\">None</span>,\n",
       "    <span style=\"color: #008000; text-decoration-color: #008000\">'ai_primary_landmark_latitude'</span>: <span style=\"color: #800080; text-decoration-color: #800080; font-style: italic\">None</span>,\n",
       "    <span style=\"color: #008000; text-decoration-color: #008000\">'ai_primary_landmark_longitude'</span>: <span style=\"color: #800080; text-decoration-color: #800080; font-style: italic\">None</span>,\n",
       "    <span style=\"color: #008000; text-decoration-color: #008000\">'ai_primary_landmark_confidence'</span>: <span style=\"color: #800080; text-decoration-color: #800080; font-style: italic\">None</span>,\n",
       "    <span style=\"color: #008000; text-decoration-color: #008000\">'blur_hash'</span>: <span style=\"color: #008000; text-decoration-color: #008000\">'L56bVcRRIWMh.gVunlS4SMbsRRxr'</span>,\n",
       "    <span style=\"color: #008000; text-decoration-color: #008000\">'description_final'</span>: <span style=\"color: #008000; text-decoration-color: #008000\">'Woman exploring a forest'</span>,\n",
       "    <span style=\"color: #008000; text-decoration-color: #008000\">'image'</span>: <span style=\"font-weight: bold\">&lt;</span><span style=\"color: #ff00ff; text-decoration-color: #ff00ff; font-weight: bold\">PIL.JpegImagePlugin.JpegImageFile</span><span style=\"color: #000000; text-decoration-color: #000000\"> image </span><span style=\"color: #808000; text-decoration-color: #808000\">mode</span><span style=\"color: #000000; text-decoration-color: #000000\">=</span><span style=\"color: #800080; text-decoration-color: #800080\">RGB</span><span style=\"color: #000000; text-decoration-color: #000000\"> </span><span style=\"color: #808000; text-decoration-color: #808000\">size</span><span style=\"color: #000000; text-decoration-color: #000000\">=</span><span style=\"color: #800080; text-decoration-color: #800080\">64</span><span style=\"color: #008080; text-decoration-color: #008080; font-weight: bold\">0x427</span><span style=\"color: #000000; text-decoration-color: #000000\"> at </span><span style=\"color: #008080; text-decoration-color: #008080; font-weight: bold\">0x7F1E35093E90</span><span style=\"font-weight: bold\">&gt;</span>,\n",
       "    <span style=\"color: #008000; text-decoration-color: #008000\">'embedding'</span>: <span style=\"font-weight: bold\">[</span>\n",
       "        <span style=\"color: #008080; text-decoration-color: #008080; font-weight: bold\">0.0830303356051445</span>,\n",
       "        <span style=\"color: #008080; text-decoration-color: #008080; font-weight: bold\">-0.06755103170871735</span>,\n",
       "        <span style=\"color: #008080; text-decoration-color: #008080; font-weight: bold\">0.016757920384407043</span>,\n",
       "        <span style=\"color: #008080; text-decoration-color: #008080; font-weight: bold\">0.09100781381130219</span>,\n",
       "        <span style=\"color: #008080; text-decoration-color: #008080; font-weight: bold\">0.1015830710530281</span>,\n",
       "        <span style=\"color: #008080; text-decoration-color: #008080; font-weight: bold\">0.005028548184782267</span>,\n",
       "        <span style=\"color: #008080; text-decoration-color: #008080; font-weight: bold\">-0.002600274048745632</span>,\n",
       "        <span style=\"color: #008080; text-decoration-color: #008080; font-weight: bold\">-0.019367462024092674</span>,\n",
       "        <span style=\"color: #008080; text-decoration-color: #008080; font-weight: bold\">0.010927338153123856</span>,\n",
       "        <span style=\"color: #008080; text-decoration-color: #008080; font-weight: bold\">0.07374635338783264</span>,\n",
       "        <span style=\"color: #008080; text-decoration-color: #008080; font-weight: bold\">-0.016480546444654465</span>,\n",
       "        <span style=\"color: #008080; text-decoration-color: #008080; font-weight: bold\">-0.0763317197561264</span>,\n",
       "        <span style=\"color: #008080; text-decoration-color: #008080; font-weight: bold\">-0.09966599941253662</span>,\n",
       "        <span style=\"color: #008080; text-decoration-color: #008080; font-weight: bold\">0.0214673038572073</span>,\n",
       "        <span style=\"color: #008080; text-decoration-color: #008080; font-weight: bold\">-0.009482082910835743</span>,\n",
       "        <span style=\"color: #008080; text-decoration-color: #008080; font-weight: bold\">0.12392715364694595</span>,\n",
       "        <span style=\"color: #008080; text-decoration-color: #008080; font-weight: bold\">-0.024619225412607193</span>,\n",
       "        <span style=\"color: #008080; text-decoration-color: #008080; font-weight: bold\">0.03276650235056877</span>,\n",
       "        <span style=\"color: #008080; text-decoration-color: #008080; font-weight: bold\">0.0440586619079113</span>,\n",
       "        <span style=\"color: #008080; text-decoration-color: #008080; font-weight: bold\">0.058909062296152115</span>,\n",
       "        <span style=\"color: #008080; text-decoration-color: #008080; font-weight: bold\">0.016499415040016174</span>,\n",
       "        <span style=\"color: #008080; text-decoration-color: #008080; font-weight: bold\">-0.0012818077811971307</span>,\n",
       "        <span style=\"color: #008080; text-decoration-color: #008080; font-weight: bold\">-0.0026653551030904055</span>,\n",
       "        <span style=\"color: #008080; text-decoration-color: #008080; font-weight: bold\">0.01845381036400795</span>,\n",
       "        <span style=\"color: #008080; text-decoration-color: #008080; font-weight: bold\">-0.03046848438680172</span>,\n",
       "        <span style=\"color: #008080; text-decoration-color: #008080; font-weight: bold\">-0.10237912833690643</span>,\n",
       "        <span style=\"color: #008080; text-decoration-color: #008080; font-weight: bold\">-0.07643651217222214</span>,\n",
       "        <span style=\"color: #008080; text-decoration-color: #008080; font-weight: bold\">0.041874662041664124</span>,\n",
       "        <span style=\"color: #008080; text-decoration-color: #008080; font-weight: bold\">-0.008349988609552383</span>,\n",
       "        <span style=\"color: #008080; text-decoration-color: #008080; font-weight: bold\">-0.008766187354922295</span>,\n",
       "        <span style=\"color: #008080; text-decoration-color: #008080; font-weight: bold\">-0.011281391605734825</span>,\n",
       "        <span style=\"color: #008080; text-decoration-color: #008080; font-weight: bold\">0.034102410078048706</span>,\n",
       "        <span style=\"color: #008080; text-decoration-color: #008080; font-weight: bold\">-0.018544482067227364</span>,\n",
       "        <span style=\"color: #008080; text-decoration-color: #008080; font-weight: bold\">0.06805389374494553</span>,\n",
       "        <span style=\"color: #008080; text-decoration-color: #008080; font-weight: bold\">-0.037428367882966995</span>,\n",
       "        <span style=\"color: #008080; text-decoration-color: #008080; font-weight: bold\">0.05683537572622299</span>,\n",
       "        <span style=\"color: #008080; text-decoration-color: #008080; font-weight: bold\">-0.01375594362616539</span>,\n",
       "        <span style=\"color: #008080; text-decoration-color: #008080; font-weight: bold\">-0.05500418320298195</span>,\n",
       "        <span style=\"color: #008080; text-decoration-color: #008080; font-weight: bold\">0.023737555369734764</span>,\n",
       "        <span style=\"color: #008080; text-decoration-color: #008080; font-weight: bold\">0.0351056344807148</span>,\n",
       "        <span style=\"color: #008080; text-decoration-color: #008080; font-weight: bold\">-0.09786783903837204</span>,\n",
       "        <span style=\"color: #008080; text-decoration-color: #008080; font-weight: bold\">0.019752344116568565</span>,\n",
       "        <span style=\"color: #008080; text-decoration-color: #008080; font-weight: bold\">0.0008298722095787525</span>,\n",
       "        <span style=\"color: #008080; text-decoration-color: #008080; font-weight: bold\">-0.059140708297491074</span>,\n",
       "        <span style=\"color: #008080; text-decoration-color: #008080; font-weight: bold\">-0.008947893977165222</span>,\n",
       "        <span style=\"color: #008080; text-decoration-color: #008080; font-weight: bold\">-0.04224301502108574</span>,\n",
       "        <span style=\"color: #008080; text-decoration-color: #008080; font-weight: bold\">0.03851388394832611</span>,\n",
       "        <span style=\"color: #008080; text-decoration-color: #008080; font-weight: bold\">0.07581054419279099</span>,\n",
       "        <span style=\"color: #008080; text-decoration-color: #008080; font-weight: bold\">0.019058478996157646</span>,\n",
       "        <span style=\"color: #008080; text-decoration-color: #008080; font-weight: bold\">-0.0681644007563591</span>,\n",
       "        <span style=\"color: #008080; text-decoration-color: #008080; font-weight: bold\">0.007752157282084227</span>,\n",
       "        <span style=\"color: #008080; text-decoration-color: #008080; font-weight: bold\">-0.08726644515991211</span>,\n",
       "        <span style=\"color: #008080; text-decoration-color: #008080; font-weight: bold\">-0.11505131423473358</span>,\n",
       "        <span style=\"color: #008080; text-decoration-color: #008080; font-weight: bold\">-0.06915687769651413</span>,\n",
       "        <span style=\"color: #008080; text-decoration-color: #008080; font-weight: bold\">-0.02658279426395893</span>,\n",
       "        <span style=\"color: #008080; text-decoration-color: #008080; font-weight: bold\">0.026267139241099358</span>,\n",
       "        <span style=\"color: #008080; text-decoration-color: #008080; font-weight: bold\">-0.012593045830726624</span>,\n",
       "        <span style=\"color: #008080; text-decoration-color: #008080; font-weight: bold\">-0.07244285941123962</span>,\n",
       "        <span style=\"color: #008080; text-decoration-color: #008080; font-weight: bold\">0.04744511842727661</span>,\n",
       "        <span style=\"color: #008080; text-decoration-color: #008080; font-weight: bold\">-0.002609607996419072</span>,\n",
       "        <span style=\"color: #008080; text-decoration-color: #008080; font-weight: bold\">0.09833679348230362</span>,\n",
       "        <span style=\"color: #008080; text-decoration-color: #008080; font-weight: bold\">0.060720253735780716</span>,\n",
       "        <span style=\"color: #008080; text-decoration-color: #008080; font-weight: bold\">-0.025261735543608665</span>,\n",
       "        <span style=\"color: #008080; text-decoration-color: #008080; font-weight: bold\">0.028413770720362663</span>,\n",
       "        <span style=\"color: #008080; text-decoration-color: #008080; font-weight: bold\">0.015530355274677277</span>,\n",
       "        <span style=\"color: #008080; text-decoration-color: #008080; font-weight: bold\">-0.042194437235593796</span>,\n",
       "        <span style=\"color: #008080; text-decoration-color: #008080; font-weight: bold\">-0.05775360390543938</span>,\n",
       "        <span style=\"color: #008080; text-decoration-color: #008080; font-weight: bold\">-0.005985503550618887</span>,\n",
       "        <span style=\"color: #008080; text-decoration-color: #008080; font-weight: bold\">0.12382840365171432</span>,\n",
       "        <span style=\"color: #008080; text-decoration-color: #008080; font-weight: bold\">-0.03346622735261917</span>,\n",
       "        <span style=\"color: #008080; text-decoration-color: #008080; font-weight: bold\">0.07404889166355133</span>,\n",
       "        <span style=\"color: #008080; text-decoration-color: #008080; font-weight: bold\">-0.001298645162023604</span>,\n",
       "        <span style=\"color: #008080; text-decoration-color: #008080; font-weight: bold\">-0.06490234285593033</span>,\n",
       "        <span style=\"color: #008080; text-decoration-color: #008080; font-weight: bold\">0.012131834402680397</span>,\n",
       "        <span style=\"color: #008080; text-decoration-color: #008080; font-weight: bold\">0.1120641678571701</span>,\n",
       "        <span style=\"color: #008080; text-decoration-color: #008080; font-weight: bold\">0.0022594439797103405</span>,\n",
       "        <span style=\"color: #008080; text-decoration-color: #008080; font-weight: bold\">0.00046668711001984775</span>,\n",
       "        <span style=\"color: #008080; text-decoration-color: #008080; font-weight: bold\">0.07633618265390396</span>,\n",
       "        <span style=\"color: #008080; text-decoration-color: #008080; font-weight: bold\">0.005854395683854818</span>,\n",
       "        <span style=\"color: #008080; text-decoration-color: #008080; font-weight: bold\">0.009757917374372482</span>,\n",
       "        <span style=\"color: #008080; text-decoration-color: #008080; font-weight: bold\">0.01580311916768551</span>,\n",
       "        <span style=\"color: #008080; text-decoration-color: #008080; font-weight: bold\">0.04343586787581444</span>,\n",
       "        <span style=\"color: #008080; text-decoration-color: #008080; font-weight: bold\">0.05402519553899765</span>,\n",
       "        <span style=\"color: #008080; text-decoration-color: #008080; font-weight: bold\">0.0536389984190464</span>,\n",
       "        <span style=\"color: #008080; text-decoration-color: #008080; font-weight: bold\">0.024040905758738518</span>,\n",
       "        <span style=\"color: #008080; text-decoration-color: #008080; font-weight: bold\">0.0662955790758133</span>,\n",
       "        <span style=\"color: #008080; text-decoration-color: #008080; font-weight: bold\">-0.05782591179013252</span>,\n",
       "        <span style=\"color: #008080; text-decoration-color: #008080; font-weight: bold\">0.057654544711112976</span>,\n",
       "        <span style=\"color: #008080; text-decoration-color: #008080; font-weight: bold\">0.05229165032505989</span>,\n",
       "        <span style=\"color: #008080; text-decoration-color: #008080; font-weight: bold\">-0.05528981238603592</span>,\n",
       "        <span style=\"color: #008080; text-decoration-color: #008080; font-weight: bold\">-0.02499811165034771</span>,\n",
       "        <span style=\"color: #008080; text-decoration-color: #008080; font-weight: bold\">-0.08955574035644531</span>,\n",
       "        <span style=\"color: #008080; text-decoration-color: #008080; font-weight: bold\">-0.07401490211486816</span>,\n",
       "        <span style=\"color: #008080; text-decoration-color: #008080; font-weight: bold\">0.04990017041563988</span>,\n",
       "        <span style=\"color: #008080; text-decoration-color: #008080; font-weight: bold\">-0.0714082196354866</span>,\n",
       "        <span style=\"color: #008080; text-decoration-color: #008080; font-weight: bold\">-0.04006848856806755</span>,\n",
       "        <span style=\"color: #008080; text-decoration-color: #008080; font-weight: bold\">0.05586432293057442</span>,\n",
       "        <span style=\"color: #008080; text-decoration-color: #008080; font-weight: bold\">-0.07767124474048615</span>,\n",
       "        <span style=\"color: #008080; text-decoration-color: #008080; font-weight: bold\">0.051191944628953934</span>,\n",
       "        <span style=\"color: #008080; text-decoration-color: #008080; font-weight: bold\">0.03398391976952553</span>,\n",
       "        <span style=\"color: #008080; text-decoration-color: #008080; font-weight: bold\">-0.00423899432644248</span>,\n",
       "        <span style=\"color: #008080; text-decoration-color: #008080; font-weight: bold\">0.06086177006363869</span>,\n",
       "        <span style=\"color: #008080; text-decoration-color: #008080; font-weight: bold\">-0.010651438497006893</span>,\n",
       "        <span style=\"color: #008080; text-decoration-color: #008080; font-weight: bold\">-0.006932796910405159</span>,\n",
       "        <span style=\"color: #008080; text-decoration-color: #008080; font-weight: bold\">-0.0981331318616867</span>,\n",
       "        <span style=\"color: #008080; text-decoration-color: #008080; font-weight: bold\">0.04138855263590813</span>,\n",
       "        <span style=\"color: #008080; text-decoration-color: #008080; font-weight: bold\">-0.044392019510269165</span>,\n",
       "        <span style=\"color: #008080; text-decoration-color: #008080; font-weight: bold\">0.06060381606221199</span>,\n",
       "        <span style=\"color: #008080; text-decoration-color: #008080; font-weight: bold\">0.028799688443541527</span>,\n",
       "        <span style=\"color: #008080; text-decoration-color: #008080; font-weight: bold\">0.0140379061922431</span>,\n",
       "        <span style=\"color: #008080; text-decoration-color: #008080; font-weight: bold\">0.028811078518629074</span>,\n",
       "        <span style=\"color: #008080; text-decoration-color: #008080; font-weight: bold\">0.006425206083804369</span>,\n",
       "        <span style=\"color: #008080; text-decoration-color: #008080; font-weight: bold\">-0.07866852730512619</span>,\n",
       "        <span style=\"color: #008080; text-decoration-color: #008080; font-weight: bold\">0.09037467837333679</span>,\n",
       "        <span style=\"color: #008080; text-decoration-color: #008080; font-weight: bold\">0.011841747909784317</span>,\n",
       "        <span style=\"color: #008080; text-decoration-color: #008080; font-weight: bold\">0.0018863006262108684</span>,\n",
       "        <span style=\"color: #008080; text-decoration-color: #008080; font-weight: bold\">-0.025623919442296028</span>,\n",
       "        <span style=\"color: #008080; text-decoration-color: #008080; font-weight: bold\">0.019165100529789925</span>,\n",
       "        <span style=\"color: #008080; text-decoration-color: #008080; font-weight: bold\">0.03996766358613968</span>,\n",
       "        <span style=\"color: #008080; text-decoration-color: #008080; font-weight: bold\">0.05167973414063454</span>,\n",
       "        <span style=\"color: #008080; text-decoration-color: #008080; font-weight: bold\">-0.048521142452955246</span>,\n",
       "        <span style=\"color: #008080; text-decoration-color: #008080; font-weight: bold\">-0.09722001105546951</span>,\n",
       "        <span style=\"color: #008080; text-decoration-color: #008080; font-weight: bold\">0.0300726518034935</span>,\n",
       "        <span style=\"color: #008080; text-decoration-color: #008080; font-weight: bold\">-0.05865059792995453</span>,\n",
       "        <span style=\"color: #008080; text-decoration-color: #008080; font-weight: bold\">0.08791156113147736</span>,\n",
       "        <span style=\"color: #008080; text-decoration-color: #008080; font-weight: bold\">-0.01808820106089115</span>,\n",
       "        <span style=\"color: #008080; text-decoration-color: #008080; font-weight: bold\">0.10404065996408463</span>,\n",
       "        <span style=\"color: #008080; text-decoration-color: #008080; font-weight: bold\">-5.0861660586783214e-33</span>,\n",
       "        <span style=\"color: #008080; text-decoration-color: #008080; font-weight: bold\">0.03181550279259682</span>,\n",
       "        <span style=\"color: #008080; text-decoration-color: #008080; font-weight: bold\">-0.006305542308837175</span>,\n",
       "        <span style=\"color: #008080; text-decoration-color: #008080; font-weight: bold\">0.03320857509970665</span>,\n",
       "        <span style=\"color: #008080; text-decoration-color: #008080; font-weight: bold\">0.02621566317975521</span>,\n",
       "        <span style=\"color: #008080; text-decoration-color: #008080; font-weight: bold\">0.039306435734033585</span>,\n",
       "        <span style=\"color: #008080; text-decoration-color: #008080; font-weight: bold\">-0.00336116598919034</span>,\n",
       "        <span style=\"color: #008080; text-decoration-color: #008080; font-weight: bold\">0.06016870215535164</span>,\n",
       "        <span style=\"color: #008080; text-decoration-color: #008080; font-weight: bold\">-0.029395679011940956</span>,\n",
       "        <span style=\"color: #008080; text-decoration-color: #008080; font-weight: bold\">-0.03768624737858772</span>,\n",
       "        <span style=\"color: #008080; text-decoration-color: #008080; font-weight: bold\">0.08337914198637009</span>,\n",
       "        <span style=\"color: #008080; text-decoration-color: #008080; font-weight: bold\">-0.055832020938396454</span>,\n",
       "        <span style=\"color: #008080; text-decoration-color: #008080; font-weight: bold\">0.0007532485178671777</span>,\n",
       "        <span style=\"color: #008080; text-decoration-color: #008080; font-weight: bold\">-0.1089257150888443</span>,\n",
       "        <span style=\"color: #008080; text-decoration-color: #008080; font-weight: bold\">-0.04588368162512779</span>,\n",
       "        <span style=\"color: #008080; text-decoration-color: #008080; font-weight: bold\">0.06491314619779587</span>,\n",
       "        <span style=\"color: #008080; text-decoration-color: #008080; font-weight: bold\">0.006466918159276247</span>,\n",
       "        <span style=\"color: #008080; text-decoration-color: #008080; font-weight: bold\">-0.014211448840796947</span>,\n",
       "        <span style=\"color: #008080; text-decoration-color: #008080; font-weight: bold\">0.003188343718647957</span>,\n",
       "        <span style=\"color: #008080; text-decoration-color: #008080; font-weight: bold\">-0.03221621736884117</span>,\n",
       "        <span style=\"color: #008080; text-decoration-color: #008080; font-weight: bold\">0.051945701241493225</span>,\n",
       "        <span style=\"color: #008080; text-decoration-color: #008080; font-weight: bold\">0.014306602068245411</span>,\n",
       "        <span style=\"color: #008080; text-decoration-color: #008080; font-weight: bold\">0.0010901421774178743</span>,\n",
       "        <span style=\"color: #008080; text-decoration-color: #008080; font-weight: bold\">-0.012047792784869671</span>,\n",
       "        <span style=\"color: #008080; text-decoration-color: #008080; font-weight: bold\">0.009840504266321659</span>,\n",
       "        <span style=\"color: #008080; text-decoration-color: #008080; font-weight: bold\">0.046277984976768494</span>,\n",
       "        <span style=\"color: #008080; text-decoration-color: #008080; font-weight: bold\">0.0029668721836060286</span>,\n",
       "        <span style=\"color: #008080; text-decoration-color: #008080; font-weight: bold\">0.03292899951338768</span>,\n",
       "        <span style=\"color: #008080; text-decoration-color: #008080; font-weight: bold\">0.014663889072835445</span>,\n",
       "        <span style=\"color: #008080; text-decoration-color: #008080; font-weight: bold\">-0.030969316139817238</span>,\n",
       "        <span style=\"color: #008080; text-decoration-color: #008080; font-weight: bold\">-0.014734521508216858</span>,\n",
       "        <span style=\"color: #008080; text-decoration-color: #008080; font-weight: bold\">-0.006604384630918503</span>,\n",
       "        <span style=\"color: #008080; text-decoration-color: #008080; font-weight: bold\">-0.02962682582437992</span>,\n",
       "        <span style=\"color: #008080; text-decoration-color: #008080; font-weight: bold\">-0.03723149746656418</span>,\n",
       "        <span style=\"color: #008080; text-decoration-color: #008080; font-weight: bold\">-0.09686761349439621</span>,\n",
       "        <span style=\"color: #008080; text-decoration-color: #008080; font-weight: bold\">0.05146600306034088</span>,\n",
       "        <span style=\"color: #008080; text-decoration-color: #008080; font-weight: bold\">-0.0302411075681448</span>,\n",
       "        <span style=\"color: #008080; text-decoration-color: #008080; font-weight: bold\">0.04626736417412758</span>,\n",
       "        <span style=\"color: #008080; text-decoration-color: #008080; font-weight: bold\">0.023720163851976395</span>,\n",
       "        <span style=\"color: #008080; text-decoration-color: #008080; font-weight: bold\">0.006419994868338108</span>,\n",
       "        <span style=\"color: #008080; text-decoration-color: #008080; font-weight: bold\">-0.018915604799985886</span>,\n",
       "        <span style=\"color: #008080; text-decoration-color: #008080; font-weight: bold\">-0.05308615788817406</span>,\n",
       "        <span style=\"color: #008080; text-decoration-color: #008080; font-weight: bold\">-0.011426085606217384</span>,\n",
       "        <span style=\"color: #008080; text-decoration-color: #008080; font-weight: bold\">0.0769142434000969</span>,\n",
       "        <span style=\"color: #008080; text-decoration-color: #008080; font-weight: bold\">-0.06933048367500305</span>,\n",
       "        <span style=\"color: #008080; text-decoration-color: #008080; font-weight: bold\">-0.014763694256544113</span>,\n",
       "        <span style=\"color: #008080; text-decoration-color: #008080; font-weight: bold\">0.04084983840584755</span>,\n",
       "        <span style=\"color: #008080; text-decoration-color: #008080; font-weight: bold\">0.07564499974250793</span>,\n",
       "        <span style=\"color: #008080; text-decoration-color: #008080; font-weight: bold\">0.02885134331882</span>,\n",
       "        <span style=\"color: #008080; text-decoration-color: #008080; font-weight: bold\">-0.08021530508995056</span>,\n",
       "        <span style=\"color: #008080; text-decoration-color: #008080; font-weight: bold\">0.14700420200824738</span>,\n",
       "        <span style=\"color: #008080; text-decoration-color: #008080; font-weight: bold\">-0.15142877399921417</span>,\n",
       "        <span style=\"color: #008080; text-decoration-color: #008080; font-weight: bold\">0.02379506640136242</span>,\n",
       "        <span style=\"color: #008080; text-decoration-color: #008080; font-weight: bold\">0.04449768364429474</span>,\n",
       "        <span style=\"color: #008080; text-decoration-color: #008080; font-weight: bold\">0.06876225024461746</span>,\n",
       "        <span style=\"color: #008080; text-decoration-color: #008080; font-weight: bold\">-0.006763920187950134</span>,\n",
       "        <span style=\"color: #008080; text-decoration-color: #008080; font-weight: bold\">0.01642855815589428</span>,\n",
       "        <span style=\"color: #008080; text-decoration-color: #008080; font-weight: bold\">0.04302189126610756</span>,\n",
       "        <span style=\"color: #008080; text-decoration-color: #008080; font-weight: bold\">0.015933403745293617</span>,\n",
       "        <span style=\"color: #008080; text-decoration-color: #008080; font-weight: bold\">0.029841100797057152</span>,\n",
       "        <span style=\"color: #008080; text-decoration-color: #008080; font-weight: bold\">0.006577507592737675</span>,\n",
       "        <span style=\"color: #008080; text-decoration-color: #008080; font-weight: bold\">0.02602209709584713</span>,\n",
       "        <span style=\"color: #008080; text-decoration-color: #008080; font-weight: bold\">-0.07112190872430801</span>,\n",
       "        <span style=\"color: #008080; text-decoration-color: #008080; font-weight: bold\">0.022406751289963722</span>,\n",
       "        <span style=\"color: #008080; text-decoration-color: #008080; font-weight: bold\">0.012334378436207771</span>,\n",
       "        <span style=\"color: #008080; text-decoration-color: #008080; font-weight: bold\">0.04748491942882538</span>,\n",
       "        <span style=\"color: #008080; text-decoration-color: #008080; font-weight: bold\">0.015717076137661934</span>,\n",
       "        <span style=\"color: #008080; text-decoration-color: #008080; font-weight: bold\">0.034141454845666885</span>,\n",
       "        <span style=\"color: #008080; text-decoration-color: #008080; font-weight: bold\">-0.05253664776682854</span>,\n",
       "        <span style=\"color: #008080; text-decoration-color: #008080; font-weight: bold\">0.02055049128830433</span>,\n",
       "        <span style=\"color: #008080; text-decoration-color: #008080; font-weight: bold\">0.05761394277215004</span>,\n",
       "        <span style=\"color: #008080; text-decoration-color: #008080; font-weight: bold\">-0.06116655841469765</span>,\n",
       "        <span style=\"color: #008080; text-decoration-color: #008080; font-weight: bold\">0.06248078495264053</span>,\n",
       "        <span style=\"color: #008080; text-decoration-color: #008080; font-weight: bold\">0.06453778594732285</span>,\n",
       "        <span style=\"color: #008080; text-decoration-color: #008080; font-weight: bold\">0.05763610824942589</span>,\n",
       "        <span style=\"color: #008080; text-decoration-color: #008080; font-weight: bold\">-0.021989667788147926</span>,\n",
       "        <span style=\"color: #008080; text-decoration-color: #008080; font-weight: bold\">0.003228620160371065</span>,\n",
       "        <span style=\"color: #008080; text-decoration-color: #008080; font-weight: bold\">0.04434305056929588</span>,\n",
       "        <span style=\"color: #008080; text-decoration-color: #008080; font-weight: bold\">0.04921620711684227</span>,\n",
       "        <span style=\"color: #008080; text-decoration-color: #008080; font-weight: bold\">0.031192973256111145</span>,\n",
       "        <span style=\"color: #008080; text-decoration-color: #008080; font-weight: bold\">0.013964684680104256</span>,\n",
       "        <span style=\"color: #008080; text-decoration-color: #008080; font-weight: bold\">-0.0017912834882736206</span>,\n",
       "        <span style=\"color: #008080; text-decoration-color: #008080; font-weight: bold\">0.04827840253710747</span>,\n",
       "        <span style=\"color: #008080; text-decoration-color: #008080; font-weight: bold\">0.025268886238336563</span>,\n",
       "        <span style=\"color: #008080; text-decoration-color: #008080; font-weight: bold\">0.062145642936229706</span>,\n",
       "        <span style=\"color: #008080; text-decoration-color: #008080; font-weight: bold\">0.0171399787068367</span>,\n",
       "        <span style=\"color: #008080; text-decoration-color: #008080; font-weight: bold\">-0.02933569625020027</span>,\n",
       "        <span style=\"color: #008080; text-decoration-color: #008080; font-weight: bold\">-0.061171092092990875</span>,\n",
       "        <span style=\"color: #008080; text-decoration-color: #008080; font-weight: bold\">-0.08921023458242416</span>,\n",
       "        <span style=\"color: #008080; text-decoration-color: #008080; font-weight: bold\">-0.032465603202581406</span>,\n",
       "        <span style=\"color: #008080; text-decoration-color: #008080; font-weight: bold\">0.013923877850174904</span>,\n",
       "        <span style=\"color: #008080; text-decoration-color: #008080; font-weight: bold\">0.0001662404538365081</span>,\n",
       "        <span style=\"color: #008080; text-decoration-color: #008080; font-weight: bold\">0.046470269560813904</span>,\n",
       "        <span style=\"color: #008080; text-decoration-color: #008080; font-weight: bold\">-0.036002058535814285</span>,\n",
       "        <span style=\"color: #008080; text-decoration-color: #008080; font-weight: bold\">-0.04316647723317146</span>,\n",
       "        <span style=\"color: #008080; text-decoration-color: #008080; font-weight: bold\">0.05095857381820679</span>,\n",
       "        <span style=\"color: #008080; text-decoration-color: #008080; font-weight: bold\">3.521188552442362e-33</span>,\n",
       "        <span style=\"color: #008080; text-decoration-color: #008080; font-weight: bold\">0.038127582520246506</span>,\n",
       "        <span style=\"color: #008080; text-decoration-color: #008080; font-weight: bold\">-0.09012956917285919</span>,\n",
       "        <span style=\"color: #008080; text-decoration-color: #008080; font-weight: bold\">0.11241155117750168</span>,\n",
       "        <span style=\"color: #008080; text-decoration-color: #008080; font-weight: bold\">-0.03824295103549957</span>,\n",
       "        <span style=\"color: #008080; text-decoration-color: #008080; font-weight: bold\">-0.05402998626232147</span>,\n",
       "        <span style=\"color: #008080; text-decoration-color: #008080; font-weight: bold\">0.02271988056600094</span>,\n",
       "        <span style=\"color: #008080; text-decoration-color: #008080; font-weight: bold\">0.006762765813618898</span>,\n",
       "        <span style=\"color: #008080; text-decoration-color: #008080; font-weight: bold\">-0.009673943743109703</span>,\n",
       "        <span style=\"color: #008080; text-decoration-color: #008080; font-weight: bold\">-0.0071555995382368565</span>,\n",
       "        <span style=\"color: #008080; text-decoration-color: #008080; font-weight: bold\">-0.03679386153817177</span>,\n",
       "        <span style=\"color: #008080; text-decoration-color: #008080; font-weight: bold\">0.007896444760262966</span>,\n",
       "        <span style=\"color: #008080; text-decoration-color: #008080; font-weight: bold\">0.05606478825211525</span>,\n",
       "        <span style=\"color: #008080; text-decoration-color: #008080; font-weight: bold\">0.03369989991188049</span>,\n",
       "        <span style=\"color: #008080; text-decoration-color: #008080; font-weight: bold\">0.03687126189470291</span>,\n",
       "        <span style=\"color: #008080; text-decoration-color: #008080; font-weight: bold\">0.01356537640094757</span>,\n",
       "        <span style=\"color: #008080; text-decoration-color: #008080; font-weight: bold\">-0.02970896288752556</span>,\n",
       "        <span style=\"color: #008080; text-decoration-color: #008080; font-weight: bold\">-0.006830204743891954</span>,\n",
       "        <span style=\"color: #008080; text-decoration-color: #008080; font-weight: bold\">-0.0037385979667305946</span>,\n",
       "        <span style=\"color: #008080; text-decoration-color: #008080; font-weight: bold\">-0.031238270923495293</span>,\n",
       "        <span style=\"color: #008080; text-decoration-color: #008080; font-weight: bold\">-0.015835527330636978</span>,\n",
       "        <span style=\"color: #008080; text-decoration-color: #008080; font-weight: bold\">-0.08107960224151611</span>,\n",
       "        <span style=\"color: #008080; text-decoration-color: #008080; font-weight: bold\">0.02048780396580696</span>,\n",
       "        <span style=\"color: #008080; text-decoration-color: #008080; font-weight: bold\">-0.030188748612999916</span>,\n",
       "        <span style=\"color: #008080; text-decoration-color: #008080; font-weight: bold\">-0.0746505856513977</span>,\n",
       "        <span style=\"color: #008080; text-decoration-color: #008080; font-weight: bold\">0.003996844869107008</span>,\n",
       "        <span style=\"color: #008080; text-decoration-color: #008080; font-weight: bold\">0.03426159918308258</span>,\n",
       "        <span style=\"color: #008080; text-decoration-color: #008080; font-weight: bold\">0.07997581362724304</span>,\n",
       "        <span style=\"color: #008080; text-decoration-color: #008080; font-weight: bold\">-0.02603892982006073</span>,\n",
       "        <span style=\"color: #008080; text-decoration-color: #008080; font-weight: bold\">-0.037700776010751724</span>,\n",
       "        <span style=\"color: #008080; text-decoration-color: #008080; font-weight: bold\">-0.014482297003269196</span>,\n",
       "        <span style=\"color: #008080; text-decoration-color: #008080; font-weight: bold\">0.05590815097093582</span>,\n",
       "        <span style=\"color: #008080; text-decoration-color: #008080; font-weight: bold\">0.009693938307464123</span>,\n",
       "        <span style=\"color: #008080; text-decoration-color: #008080; font-weight: bold\">0.01600758731365204</span>,\n",
       "        <span style=\"color: #008080; text-decoration-color: #008080; font-weight: bold\">-0.051363177597522736</span>,\n",
       "        <span style=\"color: #008080; text-decoration-color: #008080; font-weight: bold\">-0.014426879584789276</span>,\n",
       "        <span style=\"color: #008080; text-decoration-color: #008080; font-weight: bold\">-0.03705626726150513</span>,\n",
       "        <span style=\"color: #008080; text-decoration-color: #008080; font-weight: bold\">0.07178886234760284</span>,\n",
       "        <span style=\"color: #008080; text-decoration-color: #008080; font-weight: bold\">-0.10156846046447754</span>,\n",
       "        <span style=\"color: #008080; text-decoration-color: #008080; font-weight: bold\">-0.00792188011109829</span>,\n",
       "        <span style=\"color: #008080; text-decoration-color: #008080; font-weight: bold\">0.06422633677721024</span>,\n",
       "        <span style=\"color: #008080; text-decoration-color: #008080; font-weight: bold\">-0.033644914627075195</span>,\n",
       "        <span style=\"color: #008080; text-decoration-color: #008080; font-weight: bold\">0.11741040647029877</span>,\n",
       "        <span style=\"color: #008080; text-decoration-color: #008080; font-weight: bold\">0.016860494390130043</span>,\n",
       "        <span style=\"color: #008080; text-decoration-color: #008080; font-weight: bold\">-0.0591374933719635</span>,\n",
       "        <span style=\"color: #008080; text-decoration-color: #008080; font-weight: bold\">0.002591643948107958</span>,\n",
       "        <span style=\"color: #008080; text-decoration-color: #008080; font-weight: bold\">0.003742058528587222</span>,\n",
       "        <span style=\"color: #008080; text-decoration-color: #008080; font-weight: bold\">0.0027541855815798044</span>,\n",
       "        <span style=\"color: #008080; text-decoration-color: #008080; font-weight: bold\">0.03224682807922363</span>,\n",
       "        <span style=\"color: #008080; text-decoration-color: #008080; font-weight: bold\">0.009581003338098526</span>,\n",
       "        <span style=\"color: #008080; text-decoration-color: #008080; font-weight: bold\">0.04722880572080612</span>,\n",
       "        <span style=\"color: #008080; text-decoration-color: #008080; font-weight: bold\">0.06083419919013977</span>,\n",
       "        <span style=\"color: #008080; text-decoration-color: #008080; font-weight: bold\">-0.0026368547696620226</span>,\n",
       "        <span style=\"color: #008080; text-decoration-color: #008080; font-weight: bold\">-0.005560563877224922</span>,\n",
       "        <span style=\"color: #008080; text-decoration-color: #008080; font-weight: bold\">0.014365037903189659</span>,\n",
       "        <span style=\"color: #008080; text-decoration-color: #008080; font-weight: bold\">0.04174448549747467</span>,\n",
       "        <span style=\"color: #008080; text-decoration-color: #008080; font-weight: bold\">-0.05296311900019646</span>,\n",
       "        <span style=\"color: #008080; text-decoration-color: #008080; font-weight: bold\">0.030955830588936806</span>,\n",
       "        <span style=\"color: #008080; text-decoration-color: #008080; font-weight: bold\">-0.0005510896444320679</span>,\n",
       "        <span style=\"color: #008080; text-decoration-color: #008080; font-weight: bold\">0.08368858695030212</span>,\n",
       "        <span style=\"color: #008080; text-decoration-color: #008080; font-weight: bold\">-0.04163287580013275</span>,\n",
       "        <span style=\"color: #008080; text-decoration-color: #008080; font-weight: bold\">-0.061101142317056656</span>,\n",
       "        <span style=\"color: #008080; text-decoration-color: #008080; font-weight: bold\">0.04178505763411522</span>,\n",
       "        <span style=\"color: #008080; text-decoration-color: #008080; font-weight: bold\">-0.1597823202610016</span>,\n",
       "        <span style=\"color: #008080; text-decoration-color: #008080; font-weight: bold\">-0.026959041133522987</span>,\n",
       "        <span style=\"color: #008080; text-decoration-color: #008080; font-weight: bold\">-0.040526412427425385</span>,\n",
       "        <span style=\"color: #008080; text-decoration-color: #008080; font-weight: bold\">-0.036959923803806305</span>,\n",
       "        <span style=\"color: #008080; text-decoration-color: #008080; font-weight: bold\">-0.028592130169272423</span>,\n",
       "        <span style=\"color: #008080; text-decoration-color: #008080; font-weight: bold\">-0.011744359508156776</span>,\n",
       "        <span style=\"color: #008080; text-decoration-color: #008080; font-weight: bold\">-0.005934816785156727</span>,\n",
       "        <span style=\"color: #008080; text-decoration-color: #008080; font-weight: bold\">-0.022943057119846344</span>,\n",
       "        <span style=\"color: #008080; text-decoration-color: #008080; font-weight: bold\">-0.03045731782913208</span>,\n",
       "        <span style=\"color: #008080; text-decoration-color: #008080; font-weight: bold\">-0.03759196028113365</span>,\n",
       "        <span style=\"color: #008080; text-decoration-color: #008080; font-weight: bold\">-0.02910524792969227</span>,\n",
       "        <span style=\"color: #008080; text-decoration-color: #008080; font-weight: bold\">0.053259968757629395</span>,\n",
       "        <span style=\"color: #008080; text-decoration-color: #008080; font-weight: bold\">0.03748132660984993</span>,\n",
       "        <span style=\"color: #008080; text-decoration-color: #008080; font-weight: bold\">-0.030317604541778564</span>,\n",
       "        <span style=\"color: #008080; text-decoration-color: #008080; font-weight: bold\">0.014388138428330421</span>,\n",
       "        <span style=\"color: #008080; text-decoration-color: #008080; font-weight: bold\">-0.04639572650194168</span>,\n",
       "        <span style=\"color: #008080; text-decoration-color: #008080; font-weight: bold\">0.017047394067049026</span>,\n",
       "        <span style=\"color: #008080; text-decoration-color: #008080; font-weight: bold\">0.02540304698050022</span>,\n",
       "        <span style=\"color: #008080; text-decoration-color: #008080; font-weight: bold\">-0.030615290626883507</span>,\n",
       "        <span style=\"color: #008080; text-decoration-color: #008080; font-weight: bold\">0.015595094300806522</span>,\n",
       "        <span style=\"color: #008080; text-decoration-color: #008080; font-weight: bold\">0.029894715175032616</span>,\n",
       "        <span style=\"color: #008080; text-decoration-color: #008080; font-weight: bold\">0.006059985142201185</span>,\n",
       "        <span style=\"color: #008080; text-decoration-color: #008080; font-weight: bold\">0.09915048629045486</span>,\n",
       "        <span style=\"color: #008080; text-decoration-color: #008080; font-weight: bold\">0.12477456033229828</span>,\n",
       "        <span style=\"color: #008080; text-decoration-color: #008080; font-weight: bold\">-0.057342324405908585</span>,\n",
       "        <span style=\"color: #008080; text-decoration-color: #008080; font-weight: bold\">0.006873194128274918</span>,\n",
       "        <span style=\"color: #008080; text-decoration-color: #008080; font-weight: bold\">-0.03069245256483555</span>,\n",
       "        <span style=\"color: #008080; text-decoration-color: #008080; font-weight: bold\">-0.07161428034305573</span>,\n",
       "        <span style=\"color: #008080; text-decoration-color: #008080; font-weight: bold\">-0.004796828608959913</span>,\n",
       "        <span style=\"color: #008080; text-decoration-color: #008080; font-weight: bold\">0.019959991797804832</span>,\n",
       "        <span style=\"color: #008080; text-decoration-color: #008080; font-weight: bold\">-0.04077756404876709</span>,\n",
       "        <span style=\"color: #008080; text-decoration-color: #008080; font-weight: bold\">0.00962162483483553</span>,\n",
       "        <span style=\"color: #008080; text-decoration-color: #008080; font-weight: bold\">-0.03842578083276749</span>,\n",
       "        <span style=\"color: #008080; text-decoration-color: #008080; font-weight: bold\">-1.3513437480128232e-08</span>,\n",
       "        <span style=\"color: #008080; text-decoration-color: #008080; font-weight: bold\">-0.124087855219841</span>,\n",
       "        <span style=\"color: #008080; text-decoration-color: #008080; font-weight: bold\">0.0586170069873333</span>,\n",
       "        <span style=\"color: #008080; text-decoration-color: #008080; font-weight: bold\">0.046098873019218445</span>,\n",
       "        <span style=\"color: #008080; text-decoration-color: #008080; font-weight: bold\">-0.06754665821790695</span>,\n",
       "        <span style=\"color: #008080; text-decoration-color: #008080; font-weight: bold\">0.018404722213745117</span>,\n",
       "        <span style=\"color: #008080; text-decoration-color: #008080; font-weight: bold\">0.012403017841279507</span>,\n",
       "        <span style=\"color: #008080; text-decoration-color: #008080; font-weight: bold\">0.10156318545341492</span>,\n",
       "        <span style=\"color: #008080; text-decoration-color: #008080; font-weight: bold\">0.04085404798388481</span>,\n",
       "        <span style=\"color: #008080; text-decoration-color: #008080; font-weight: bold\">-0.08285671472549438</span>,\n",
       "        <span style=\"color: #008080; text-decoration-color: #008080; font-weight: bold\">-0.07749384641647339</span>,\n",
       "        <span style=\"color: #008080; text-decoration-color: #008080; font-weight: bold\">-0.0482947900891304</span>,\n",
       "        <span style=\"color: #008080; text-decoration-color: #008080; font-weight: bold\">-0.0023070569150149822</span>,\n",
       "        <span style=\"color: #008080; text-decoration-color: #008080; font-weight: bold\">0.0587131530046463</span>,\n",
       "        <span style=\"color: #008080; text-decoration-color: #008080; font-weight: bold\">0.09293351322412491</span>,\n",
       "        <span style=\"color: #008080; text-decoration-color: #008080; font-weight: bold\">0.07602454721927643</span>,\n",
       "        <span style=\"color: #008080; text-decoration-color: #008080; font-weight: bold\">-0.06210850551724434</span>,\n",
       "        <span style=\"color: #008080; text-decoration-color: #008080; font-weight: bold\">0.06558450311422348</span>,\n",
       "        <span style=\"color: #008080; text-decoration-color: #008080; font-weight: bold\">0.0293351411819458</span>,\n",
       "        <span style=\"color: #008080; text-decoration-color: #008080; font-weight: bold\">-0.044356804341077805</span>,\n",
       "        <span style=\"color: #008080; text-decoration-color: #008080; font-weight: bold\">0.047131773084402084</span>,\n",
       "        <span style=\"color: #008080; text-decoration-color: #008080; font-weight: bold\">0.06984245032072067</span>,\n",
       "        <span style=\"color: #008080; text-decoration-color: #008080; font-weight: bold\">-0.057965271174907684</span>,\n",
       "        <span style=\"color: #008080; text-decoration-color: #008080; font-weight: bold\">0.04195639118552208</span>,\n",
       "        <span style=\"color: #008080; text-decoration-color: #008080; font-weight: bold\">0.020849591121077538</span>,\n",
       "        <span style=\"color: #008080; text-decoration-color: #008080; font-weight: bold\">-0.014099983498454094</span>,\n",
       "        <span style=\"color: #008080; text-decoration-color: #008080; font-weight: bold\">-0.006943310610949993</span>,\n",
       "        <span style=\"color: #008080; text-decoration-color: #008080; font-weight: bold\">-0.05678821727633476</span>,\n",
       "        <span style=\"color: #008080; text-decoration-color: #008080; font-weight: bold\">0.0030817175284028053</span>,\n",
       "        <span style=\"color: #008080; text-decoration-color: #008080; font-weight: bold\">-0.006687919609248638</span>,\n",
       "        <span style=\"color: #008080; text-decoration-color: #008080; font-weight: bold\">0.006281870882958174</span>,\n",
       "        <span style=\"color: #008080; text-decoration-color: #008080; font-weight: bold\">-0.028227627277374268</span>,\n",
       "        <span style=\"color: #008080; text-decoration-color: #008080; font-weight: bold\">0.12478887289762497</span>,\n",
       "        <span style=\"color: #008080; text-decoration-color: #008080; font-weight: bold\">0.02344733104109764</span>,\n",
       "        <span style=\"color: #008080; text-decoration-color: #008080; font-weight: bold\">0.058293238282203674</span>,\n",
       "        <span style=\"color: #008080; text-decoration-color: #008080; font-weight: bold\">-0.08153949677944183</span>,\n",
       "        <span style=\"color: #008080; text-decoration-color: #008080; font-weight: bold\">0.030518531799316406</span>,\n",
       "        <span style=\"color: #008080; text-decoration-color: #008080; font-weight: bold\">0.00989929772913456</span>,\n",
       "        <span style=\"color: #008080; text-decoration-color: #008080; font-weight: bold\">0.03797334060072899</span>,\n",
       "        <span style=\"color: #008080; text-decoration-color: #008080; font-weight: bold\">-0.1363128125667572</span>,\n",
       "        <span style=\"color: #008080; text-decoration-color: #008080; font-weight: bold\">-0.022915491834282875</span>,\n",
       "        <span style=\"color: #008080; text-decoration-color: #008080; font-weight: bold\">-0.010719502344727516</span>,\n",
       "        <span style=\"color: #008080; text-decoration-color: #008080; font-weight: bold\">-0.027021052315831184</span>,\n",
       "        <span style=\"color: #008080; text-decoration-color: #008080; font-weight: bold\">0.023927198722958565</span>,\n",
       "        <span style=\"color: #008080; text-decoration-color: #008080; font-weight: bold\">0.02194446511566639</span>,\n",
       "        <span style=\"color: #008080; text-decoration-color: #008080; font-weight: bold\">-0.07846727967262268</span>,\n",
       "        <span style=\"color: #008080; text-decoration-color: #008080; font-weight: bold\">0.012228036299347878</span>,\n",
       "        <span style=\"color: #008080; text-decoration-color: #008080; font-weight: bold\">-0.0023330245167016983</span>,\n",
       "        <span style=\"color: #008080; text-decoration-color: #008080; font-weight: bold\">-0.04898259416222572</span>,\n",
       "        <span style=\"color: #008080; text-decoration-color: #008080; font-weight: bold\">0.001966628013178706</span>,\n",
       "        <span style=\"color: #008080; text-decoration-color: #008080; font-weight: bold\">-0.013061262667179108</span>,\n",
       "        <span style=\"color: #008080; text-decoration-color: #008080; font-weight: bold\">-5.321187200024724e-05</span>,\n",
       "        <span style=\"color: #008080; text-decoration-color: #008080; font-weight: bold\">-0.020841797813773155</span>,\n",
       "        <span style=\"color: #008080; text-decoration-color: #008080; font-weight: bold\">-0.011500207707285881</span>,\n",
       "        <span style=\"color: #008080; text-decoration-color: #008080; font-weight: bold\">0.0035637016408145428</span>,\n",
       "        <span style=\"color: #008080; text-decoration-color: #008080; font-weight: bold\">-0.031819697469472885</span>,\n",
       "        <span style=\"color: #008080; text-decoration-color: #008080; font-weight: bold\">-0.009969019331037998</span>,\n",
       "        <span style=\"color: #008080; text-decoration-color: #008080; font-weight: bold\">0.00286108604632318</span>,\n",
       "        <span style=\"color: #008080; text-decoration-color: #008080; font-weight: bold\">-0.048779215663671494</span>,\n",
       "        <span style=\"color: #008080; text-decoration-color: #008080; font-weight: bold\">-0.08518039435148239</span>,\n",
       "        <span style=\"color: #008080; text-decoration-color: #008080; font-weight: bold\">0.04093388840556145</span>,\n",
       "        <span style=\"color: #008080; text-decoration-color: #008080; font-weight: bold\">-0.0003686067066155374</span>,\n",
       "        <span style=\"color: #008080; text-decoration-color: #008080; font-weight: bold\">-0.09690210968255997</span>,\n",
       "        <span style=\"color: #008080; text-decoration-color: #008080; font-weight: bold\">-0.05930086970329285</span>,\n",
       "        <span style=\"color: #008080; text-decoration-color: #008080; font-weight: bold\">-0.08024732768535614</span>\n",
       "    <span style=\"font-weight: bold\">]</span>\n",
       "<span style=\"font-weight: bold\">}</span>\n",
       "</pre>\n"
      ],
      "text/plain": [
       "\u001b[1m{\u001b[0m\n",
       "    \u001b[32m'photo_id'\u001b[0m: \u001b[32m'XMyPniM9LF0'\u001b[0m,\n",
       "    \u001b[32m'photo_url'\u001b[0m: \u001b[32m'https://unsplash.com/photos/XMyPniM9LF0'\u001b[0m,\n",
       "    \u001b[32m'photo_image_url'\u001b[0m: \u001b[32m'https://images.unsplash.com/uploads/14119492946973137ce46/f1f2ebf3'\u001b[0m,\n",
       "    \u001b[32m'photo_submitted_at'\u001b[0m: \u001b[32m'2014-09-29 00:08:38.594364'\u001b[0m,\n",
       "    \u001b[32m'photo_featured'\u001b[0m: \u001b[32m't'\u001b[0m,\n",
       "    \u001b[32m'photo_width'\u001b[0m: \u001b[1;36m4272\u001b[0m,\n",
       "    \u001b[32m'photo_height'\u001b[0m: \u001b[1;36m2848\u001b[0m,\n",
       "    \u001b[32m'photo_aspect_ratio'\u001b[0m: \u001b[1;36m1.5\u001b[0m,\n",
       "    \u001b[32m'photo_description'\u001b[0m: \u001b[32m'Woman exploring a forest'\u001b[0m,\n",
       "    \u001b[32m'photographer_username'\u001b[0m: \u001b[32m'michellespencer77'\u001b[0m,\n",
       "    \u001b[32m'photographer_first_name'\u001b[0m: \u001b[32m'Michelle'\u001b[0m,\n",
       "    \u001b[32m'photographer_last_name'\u001b[0m: \u001b[32m'Spencer'\u001b[0m,\n",
       "    \u001b[32m'exif_camera_make'\u001b[0m: \u001b[32m'Canon'\u001b[0m,\n",
       "    \u001b[32m'exif_camera_model'\u001b[0m: \u001b[32m'Canon EOS REBEL T3'\u001b[0m,\n",
       "    \u001b[32m'exif_iso'\u001b[0m: \u001b[1;36m400.0\u001b[0m,\n",
       "    \u001b[32m'exif_aperture_value'\u001b[0m: \u001b[32m'1.8'\u001b[0m,\n",
       "    \u001b[32m'exif_focal_length'\u001b[0m: \u001b[32m'50.0'\u001b[0m,\n",
       "    \u001b[32m'exif_exposure_time'\u001b[0m: \u001b[32m'1/100'\u001b[0m,\n",
       "    \u001b[32m'photo_location_name'\u001b[0m: \u001b[3;35mNone\u001b[0m,\n",
       "    \u001b[32m'photo_location_latitude'\u001b[0m: \u001b[3;35mNone\u001b[0m,\n",
       "    \u001b[32m'photo_location_longitude'\u001b[0m: \u001b[3;35mNone\u001b[0m,\n",
       "    \u001b[32m'photo_location_country'\u001b[0m: \u001b[3;35mNone\u001b[0m,\n",
       "    \u001b[32m'photo_location_city'\u001b[0m: \u001b[3;35mNone\u001b[0m,\n",
       "    \u001b[32m'stats_views'\u001b[0m: \u001b[1;36m2375421\u001b[0m,\n",
       "    \u001b[32m'stats_downloads'\u001b[0m: \u001b[1;36m6967\u001b[0m,\n",
       "    \u001b[32m'ai_description'\u001b[0m: \u001b[32m'woman walking in the middle of forest'\u001b[0m,\n",
       "    \u001b[32m'ai_primary_landmark_name'\u001b[0m: \u001b[3;35mNone\u001b[0m,\n",
       "    \u001b[32m'ai_primary_landmark_latitude'\u001b[0m: \u001b[3;35mNone\u001b[0m,\n",
       "    \u001b[32m'ai_primary_landmark_longitude'\u001b[0m: \u001b[3;35mNone\u001b[0m,\n",
       "    \u001b[32m'ai_primary_landmark_confidence'\u001b[0m: \u001b[3;35mNone\u001b[0m,\n",
       "    \u001b[32m'blur_hash'\u001b[0m: \u001b[32m'L56bVcRRIWMh.gVunlS4SMbsRRxr'\u001b[0m,\n",
       "    \u001b[32m'description_final'\u001b[0m: \u001b[32m'Woman exploring a forest'\u001b[0m,\n",
       "    \u001b[32m'image'\u001b[0m: \u001b[1m<\u001b[0m\u001b[1;95mPIL.JpegImagePlugin.JpegImageFile\u001b[0m\u001b[39m image \u001b[0m\u001b[33mmode\u001b[0m\u001b[39m=\u001b[0m\u001b[35mRGB\u001b[0m\u001b[39m \u001b[0m\u001b[33msize\u001b[0m\u001b[39m=\u001b[0m\u001b[35m64\u001b[0m\u001b[1;36m0x427\u001b[0m\u001b[39m at \u001b[0m\u001b[1;36m0x7F1E35093E90\u001b[0m\u001b[1m>\u001b[0m,\n",
       "    \u001b[32m'embedding'\u001b[0m: \u001b[1m[\u001b[0m\n",
       "        \u001b[1;36m0.0830303356051445\u001b[0m,\n",
       "        \u001b[1;36m-0.06755103170871735\u001b[0m,\n",
       "        \u001b[1;36m0.016757920384407043\u001b[0m,\n",
       "        \u001b[1;36m0.09100781381130219\u001b[0m,\n",
       "        \u001b[1;36m0.1015830710530281\u001b[0m,\n",
       "        \u001b[1;36m0.005028548184782267\u001b[0m,\n",
       "        \u001b[1;36m-0.002600274048745632\u001b[0m,\n",
       "        \u001b[1;36m-0.019367462024092674\u001b[0m,\n",
       "        \u001b[1;36m0.010927338153123856\u001b[0m,\n",
       "        \u001b[1;36m0.07374635338783264\u001b[0m,\n",
       "        \u001b[1;36m-0.016480546444654465\u001b[0m,\n",
       "        \u001b[1;36m-0.0763317197561264\u001b[0m,\n",
       "        \u001b[1;36m-0.09966599941253662\u001b[0m,\n",
       "        \u001b[1;36m0.0214673038572073\u001b[0m,\n",
       "        \u001b[1;36m-0.009482082910835743\u001b[0m,\n",
       "        \u001b[1;36m0.12392715364694595\u001b[0m,\n",
       "        \u001b[1;36m-0.024619225412607193\u001b[0m,\n",
       "        \u001b[1;36m0.03276650235056877\u001b[0m,\n",
       "        \u001b[1;36m0.0440586619079113\u001b[0m,\n",
       "        \u001b[1;36m0.058909062296152115\u001b[0m,\n",
       "        \u001b[1;36m0.016499415040016174\u001b[0m,\n",
       "        \u001b[1;36m-0.0012818077811971307\u001b[0m,\n",
       "        \u001b[1;36m-0.0026653551030904055\u001b[0m,\n",
       "        \u001b[1;36m0.01845381036400795\u001b[0m,\n",
       "        \u001b[1;36m-0.03046848438680172\u001b[0m,\n",
       "        \u001b[1;36m-0.10237912833690643\u001b[0m,\n",
       "        \u001b[1;36m-0.07643651217222214\u001b[0m,\n",
       "        \u001b[1;36m0.041874662041664124\u001b[0m,\n",
       "        \u001b[1;36m-0.008349988609552383\u001b[0m,\n",
       "        \u001b[1;36m-0.008766187354922295\u001b[0m,\n",
       "        \u001b[1;36m-0.011281391605734825\u001b[0m,\n",
       "        \u001b[1;36m0.034102410078048706\u001b[0m,\n",
       "        \u001b[1;36m-0.018544482067227364\u001b[0m,\n",
       "        \u001b[1;36m0.06805389374494553\u001b[0m,\n",
       "        \u001b[1;36m-0.037428367882966995\u001b[0m,\n",
       "        \u001b[1;36m0.05683537572622299\u001b[0m,\n",
       "        \u001b[1;36m-0.01375594362616539\u001b[0m,\n",
       "        \u001b[1;36m-0.05500418320298195\u001b[0m,\n",
       "        \u001b[1;36m0.023737555369734764\u001b[0m,\n",
       "        \u001b[1;36m0.0351056344807148\u001b[0m,\n",
       "        \u001b[1;36m-0.09786783903837204\u001b[0m,\n",
       "        \u001b[1;36m0.019752344116568565\u001b[0m,\n",
       "        \u001b[1;36m0.0008298722095787525\u001b[0m,\n",
       "        \u001b[1;36m-0.059140708297491074\u001b[0m,\n",
       "        \u001b[1;36m-0.008947893977165222\u001b[0m,\n",
       "        \u001b[1;36m-0.04224301502108574\u001b[0m,\n",
       "        \u001b[1;36m0.03851388394832611\u001b[0m,\n",
       "        \u001b[1;36m0.07581054419279099\u001b[0m,\n",
       "        \u001b[1;36m0.019058478996157646\u001b[0m,\n",
       "        \u001b[1;36m-0.0681644007563591\u001b[0m,\n",
       "        \u001b[1;36m0.007752157282084227\u001b[0m,\n",
       "        \u001b[1;36m-0.08726644515991211\u001b[0m,\n",
       "        \u001b[1;36m-0.11505131423473358\u001b[0m,\n",
       "        \u001b[1;36m-0.06915687769651413\u001b[0m,\n",
       "        \u001b[1;36m-0.02658279426395893\u001b[0m,\n",
       "        \u001b[1;36m0.026267139241099358\u001b[0m,\n",
       "        \u001b[1;36m-0.012593045830726624\u001b[0m,\n",
       "        \u001b[1;36m-0.07244285941123962\u001b[0m,\n",
       "        \u001b[1;36m0.04744511842727661\u001b[0m,\n",
       "        \u001b[1;36m-0.002609607996419072\u001b[0m,\n",
       "        \u001b[1;36m0.09833679348230362\u001b[0m,\n",
       "        \u001b[1;36m0.060720253735780716\u001b[0m,\n",
       "        \u001b[1;36m-0.025261735543608665\u001b[0m,\n",
       "        \u001b[1;36m0.028413770720362663\u001b[0m,\n",
       "        \u001b[1;36m0.015530355274677277\u001b[0m,\n",
       "        \u001b[1;36m-0.042194437235593796\u001b[0m,\n",
       "        \u001b[1;36m-0.05775360390543938\u001b[0m,\n",
       "        \u001b[1;36m-0.005985503550618887\u001b[0m,\n",
       "        \u001b[1;36m0.12382840365171432\u001b[0m,\n",
       "        \u001b[1;36m-0.03346622735261917\u001b[0m,\n",
       "        \u001b[1;36m0.07404889166355133\u001b[0m,\n",
       "        \u001b[1;36m-0.001298645162023604\u001b[0m,\n",
       "        \u001b[1;36m-0.06490234285593033\u001b[0m,\n",
       "        \u001b[1;36m0.012131834402680397\u001b[0m,\n",
       "        \u001b[1;36m0.1120641678571701\u001b[0m,\n",
       "        \u001b[1;36m0.0022594439797103405\u001b[0m,\n",
       "        \u001b[1;36m0.00046668711001984775\u001b[0m,\n",
       "        \u001b[1;36m0.07633618265390396\u001b[0m,\n",
       "        \u001b[1;36m0.005854395683854818\u001b[0m,\n",
       "        \u001b[1;36m0.009757917374372482\u001b[0m,\n",
       "        \u001b[1;36m0.01580311916768551\u001b[0m,\n",
       "        \u001b[1;36m0.04343586787581444\u001b[0m,\n",
       "        \u001b[1;36m0.05402519553899765\u001b[0m,\n",
       "        \u001b[1;36m0.0536389984190464\u001b[0m,\n",
       "        \u001b[1;36m0.024040905758738518\u001b[0m,\n",
       "        \u001b[1;36m0.0662955790758133\u001b[0m,\n",
       "        \u001b[1;36m-0.05782591179013252\u001b[0m,\n",
       "        \u001b[1;36m0.057654544711112976\u001b[0m,\n",
       "        \u001b[1;36m0.05229165032505989\u001b[0m,\n",
       "        \u001b[1;36m-0.05528981238603592\u001b[0m,\n",
       "        \u001b[1;36m-0.02499811165034771\u001b[0m,\n",
       "        \u001b[1;36m-0.08955574035644531\u001b[0m,\n",
       "        \u001b[1;36m-0.07401490211486816\u001b[0m,\n",
       "        \u001b[1;36m0.04990017041563988\u001b[0m,\n",
       "        \u001b[1;36m-0.0714082196354866\u001b[0m,\n",
       "        \u001b[1;36m-0.04006848856806755\u001b[0m,\n",
       "        \u001b[1;36m0.05586432293057442\u001b[0m,\n",
       "        \u001b[1;36m-0.07767124474048615\u001b[0m,\n",
       "        \u001b[1;36m0.051191944628953934\u001b[0m,\n",
       "        \u001b[1;36m0.03398391976952553\u001b[0m,\n",
       "        \u001b[1;36m-0.00423899432644248\u001b[0m,\n",
       "        \u001b[1;36m0.06086177006363869\u001b[0m,\n",
       "        \u001b[1;36m-0.010651438497006893\u001b[0m,\n",
       "        \u001b[1;36m-0.006932796910405159\u001b[0m,\n",
       "        \u001b[1;36m-0.0981331318616867\u001b[0m,\n",
       "        \u001b[1;36m0.04138855263590813\u001b[0m,\n",
       "        \u001b[1;36m-0.044392019510269165\u001b[0m,\n",
       "        \u001b[1;36m0.06060381606221199\u001b[0m,\n",
       "        \u001b[1;36m0.028799688443541527\u001b[0m,\n",
       "        \u001b[1;36m0.0140379061922431\u001b[0m,\n",
       "        \u001b[1;36m0.028811078518629074\u001b[0m,\n",
       "        \u001b[1;36m0.006425206083804369\u001b[0m,\n",
       "        \u001b[1;36m-0.07866852730512619\u001b[0m,\n",
       "        \u001b[1;36m0.09037467837333679\u001b[0m,\n",
       "        \u001b[1;36m0.011841747909784317\u001b[0m,\n",
       "        \u001b[1;36m0.0018863006262108684\u001b[0m,\n",
       "        \u001b[1;36m-0.025623919442296028\u001b[0m,\n",
       "        \u001b[1;36m0.019165100529789925\u001b[0m,\n",
       "        \u001b[1;36m0.03996766358613968\u001b[0m,\n",
       "        \u001b[1;36m0.05167973414063454\u001b[0m,\n",
       "        \u001b[1;36m-0.048521142452955246\u001b[0m,\n",
       "        \u001b[1;36m-0.09722001105546951\u001b[0m,\n",
       "        \u001b[1;36m0.0300726518034935\u001b[0m,\n",
       "        \u001b[1;36m-0.05865059792995453\u001b[0m,\n",
       "        \u001b[1;36m0.08791156113147736\u001b[0m,\n",
       "        \u001b[1;36m-0.01808820106089115\u001b[0m,\n",
       "        \u001b[1;36m0.10404065996408463\u001b[0m,\n",
       "        \u001b[1;36m-5.0861660586783214e-33\u001b[0m,\n",
       "        \u001b[1;36m0.03181550279259682\u001b[0m,\n",
       "        \u001b[1;36m-0.006305542308837175\u001b[0m,\n",
       "        \u001b[1;36m0.03320857509970665\u001b[0m,\n",
       "        \u001b[1;36m0.02621566317975521\u001b[0m,\n",
       "        \u001b[1;36m0.039306435734033585\u001b[0m,\n",
       "        \u001b[1;36m-0.00336116598919034\u001b[0m,\n",
       "        \u001b[1;36m0.06016870215535164\u001b[0m,\n",
       "        \u001b[1;36m-0.029395679011940956\u001b[0m,\n",
       "        \u001b[1;36m-0.03768624737858772\u001b[0m,\n",
       "        \u001b[1;36m0.08337914198637009\u001b[0m,\n",
       "        \u001b[1;36m-0.055832020938396454\u001b[0m,\n",
       "        \u001b[1;36m0.0007532485178671777\u001b[0m,\n",
       "        \u001b[1;36m-0.1089257150888443\u001b[0m,\n",
       "        \u001b[1;36m-0.04588368162512779\u001b[0m,\n",
       "        \u001b[1;36m0.06491314619779587\u001b[0m,\n",
       "        \u001b[1;36m0.006466918159276247\u001b[0m,\n",
       "        \u001b[1;36m-0.014211448840796947\u001b[0m,\n",
       "        \u001b[1;36m0.003188343718647957\u001b[0m,\n",
       "        \u001b[1;36m-0.03221621736884117\u001b[0m,\n",
       "        \u001b[1;36m0.051945701241493225\u001b[0m,\n",
       "        \u001b[1;36m0.014306602068245411\u001b[0m,\n",
       "        \u001b[1;36m0.0010901421774178743\u001b[0m,\n",
       "        \u001b[1;36m-0.012047792784869671\u001b[0m,\n",
       "        \u001b[1;36m0.009840504266321659\u001b[0m,\n",
       "        \u001b[1;36m0.046277984976768494\u001b[0m,\n",
       "        \u001b[1;36m0.0029668721836060286\u001b[0m,\n",
       "        \u001b[1;36m0.03292899951338768\u001b[0m,\n",
       "        \u001b[1;36m0.014663889072835445\u001b[0m,\n",
       "        \u001b[1;36m-0.030969316139817238\u001b[0m,\n",
       "        \u001b[1;36m-0.014734521508216858\u001b[0m,\n",
       "        \u001b[1;36m-0.006604384630918503\u001b[0m,\n",
       "        \u001b[1;36m-0.02962682582437992\u001b[0m,\n",
       "        \u001b[1;36m-0.03723149746656418\u001b[0m,\n",
       "        \u001b[1;36m-0.09686761349439621\u001b[0m,\n",
       "        \u001b[1;36m0.05146600306034088\u001b[0m,\n",
       "        \u001b[1;36m-0.0302411075681448\u001b[0m,\n",
       "        \u001b[1;36m0.04626736417412758\u001b[0m,\n",
       "        \u001b[1;36m0.023720163851976395\u001b[0m,\n",
       "        \u001b[1;36m0.006419994868338108\u001b[0m,\n",
       "        \u001b[1;36m-0.018915604799985886\u001b[0m,\n",
       "        \u001b[1;36m-0.05308615788817406\u001b[0m,\n",
       "        \u001b[1;36m-0.011426085606217384\u001b[0m,\n",
       "        \u001b[1;36m0.0769142434000969\u001b[0m,\n",
       "        \u001b[1;36m-0.06933048367500305\u001b[0m,\n",
       "        \u001b[1;36m-0.014763694256544113\u001b[0m,\n",
       "        \u001b[1;36m0.04084983840584755\u001b[0m,\n",
       "        \u001b[1;36m0.07564499974250793\u001b[0m,\n",
       "        \u001b[1;36m0.02885134331882\u001b[0m,\n",
       "        \u001b[1;36m-0.08021530508995056\u001b[0m,\n",
       "        \u001b[1;36m0.14700420200824738\u001b[0m,\n",
       "        \u001b[1;36m-0.15142877399921417\u001b[0m,\n",
       "        \u001b[1;36m0.02379506640136242\u001b[0m,\n",
       "        \u001b[1;36m0.04449768364429474\u001b[0m,\n",
       "        \u001b[1;36m0.06876225024461746\u001b[0m,\n",
       "        \u001b[1;36m-0.006763920187950134\u001b[0m,\n",
       "        \u001b[1;36m0.01642855815589428\u001b[0m,\n",
       "        \u001b[1;36m0.04302189126610756\u001b[0m,\n",
       "        \u001b[1;36m0.015933403745293617\u001b[0m,\n",
       "        \u001b[1;36m0.029841100797057152\u001b[0m,\n",
       "        \u001b[1;36m0.006577507592737675\u001b[0m,\n",
       "        \u001b[1;36m0.02602209709584713\u001b[0m,\n",
       "        \u001b[1;36m-0.07112190872430801\u001b[0m,\n",
       "        \u001b[1;36m0.022406751289963722\u001b[0m,\n",
       "        \u001b[1;36m0.012334378436207771\u001b[0m,\n",
       "        \u001b[1;36m0.04748491942882538\u001b[0m,\n",
       "        \u001b[1;36m0.015717076137661934\u001b[0m,\n",
       "        \u001b[1;36m0.034141454845666885\u001b[0m,\n",
       "        \u001b[1;36m-0.05253664776682854\u001b[0m,\n",
       "        \u001b[1;36m0.02055049128830433\u001b[0m,\n",
       "        \u001b[1;36m0.05761394277215004\u001b[0m,\n",
       "        \u001b[1;36m-0.06116655841469765\u001b[0m,\n",
       "        \u001b[1;36m0.06248078495264053\u001b[0m,\n",
       "        \u001b[1;36m0.06453778594732285\u001b[0m,\n",
       "        \u001b[1;36m0.05763610824942589\u001b[0m,\n",
       "        \u001b[1;36m-0.021989667788147926\u001b[0m,\n",
       "        \u001b[1;36m0.003228620160371065\u001b[0m,\n",
       "        \u001b[1;36m0.04434305056929588\u001b[0m,\n",
       "        \u001b[1;36m0.04921620711684227\u001b[0m,\n",
       "        \u001b[1;36m0.031192973256111145\u001b[0m,\n",
       "        \u001b[1;36m0.013964684680104256\u001b[0m,\n",
       "        \u001b[1;36m-0.0017912834882736206\u001b[0m,\n",
       "        \u001b[1;36m0.04827840253710747\u001b[0m,\n",
       "        \u001b[1;36m0.025268886238336563\u001b[0m,\n",
       "        \u001b[1;36m0.062145642936229706\u001b[0m,\n",
       "        \u001b[1;36m0.0171399787068367\u001b[0m,\n",
       "        \u001b[1;36m-0.02933569625020027\u001b[0m,\n",
       "        \u001b[1;36m-0.061171092092990875\u001b[0m,\n",
       "        \u001b[1;36m-0.08921023458242416\u001b[0m,\n",
       "        \u001b[1;36m-0.032465603202581406\u001b[0m,\n",
       "        \u001b[1;36m0.013923877850174904\u001b[0m,\n",
       "        \u001b[1;36m0.0001662404538365081\u001b[0m,\n",
       "        \u001b[1;36m0.046470269560813904\u001b[0m,\n",
       "        \u001b[1;36m-0.036002058535814285\u001b[0m,\n",
       "        \u001b[1;36m-0.04316647723317146\u001b[0m,\n",
       "        \u001b[1;36m0.05095857381820679\u001b[0m,\n",
       "        \u001b[1;36m3.521188552442362e-33\u001b[0m,\n",
       "        \u001b[1;36m0.038127582520246506\u001b[0m,\n",
       "        \u001b[1;36m-0.09012956917285919\u001b[0m,\n",
       "        \u001b[1;36m0.11241155117750168\u001b[0m,\n",
       "        \u001b[1;36m-0.03824295103549957\u001b[0m,\n",
       "        \u001b[1;36m-0.05402998626232147\u001b[0m,\n",
       "        \u001b[1;36m0.02271988056600094\u001b[0m,\n",
       "        \u001b[1;36m0.006762765813618898\u001b[0m,\n",
       "        \u001b[1;36m-0.009673943743109703\u001b[0m,\n",
       "        \u001b[1;36m-0.0071555995382368565\u001b[0m,\n",
       "        \u001b[1;36m-0.03679386153817177\u001b[0m,\n",
       "        \u001b[1;36m0.007896444760262966\u001b[0m,\n",
       "        \u001b[1;36m0.05606478825211525\u001b[0m,\n",
       "        \u001b[1;36m0.03369989991188049\u001b[0m,\n",
       "        \u001b[1;36m0.03687126189470291\u001b[0m,\n",
       "        \u001b[1;36m0.01356537640094757\u001b[0m,\n",
       "        \u001b[1;36m-0.02970896288752556\u001b[0m,\n",
       "        \u001b[1;36m-0.006830204743891954\u001b[0m,\n",
       "        \u001b[1;36m-0.0037385979667305946\u001b[0m,\n",
       "        \u001b[1;36m-0.031238270923495293\u001b[0m,\n",
       "        \u001b[1;36m-0.015835527330636978\u001b[0m,\n",
       "        \u001b[1;36m-0.08107960224151611\u001b[0m,\n",
       "        \u001b[1;36m0.02048780396580696\u001b[0m,\n",
       "        \u001b[1;36m-0.030188748612999916\u001b[0m,\n",
       "        \u001b[1;36m-0.0746505856513977\u001b[0m,\n",
       "        \u001b[1;36m0.003996844869107008\u001b[0m,\n",
       "        \u001b[1;36m0.03426159918308258\u001b[0m,\n",
       "        \u001b[1;36m0.07997581362724304\u001b[0m,\n",
       "        \u001b[1;36m-0.02603892982006073\u001b[0m,\n",
       "        \u001b[1;36m-0.037700776010751724\u001b[0m,\n",
       "        \u001b[1;36m-0.014482297003269196\u001b[0m,\n",
       "        \u001b[1;36m0.05590815097093582\u001b[0m,\n",
       "        \u001b[1;36m0.009693938307464123\u001b[0m,\n",
       "        \u001b[1;36m0.01600758731365204\u001b[0m,\n",
       "        \u001b[1;36m-0.051363177597522736\u001b[0m,\n",
       "        \u001b[1;36m-0.014426879584789276\u001b[0m,\n",
       "        \u001b[1;36m-0.03705626726150513\u001b[0m,\n",
       "        \u001b[1;36m0.07178886234760284\u001b[0m,\n",
       "        \u001b[1;36m-0.10156846046447754\u001b[0m,\n",
       "        \u001b[1;36m-0.00792188011109829\u001b[0m,\n",
       "        \u001b[1;36m0.06422633677721024\u001b[0m,\n",
       "        \u001b[1;36m-0.033644914627075195\u001b[0m,\n",
       "        \u001b[1;36m0.11741040647029877\u001b[0m,\n",
       "        \u001b[1;36m0.016860494390130043\u001b[0m,\n",
       "        \u001b[1;36m-0.0591374933719635\u001b[0m,\n",
       "        \u001b[1;36m0.002591643948107958\u001b[0m,\n",
       "        \u001b[1;36m0.003742058528587222\u001b[0m,\n",
       "        \u001b[1;36m0.0027541855815798044\u001b[0m,\n",
       "        \u001b[1;36m0.03224682807922363\u001b[0m,\n",
       "        \u001b[1;36m0.009581003338098526\u001b[0m,\n",
       "        \u001b[1;36m0.04722880572080612\u001b[0m,\n",
       "        \u001b[1;36m0.06083419919013977\u001b[0m,\n",
       "        \u001b[1;36m-0.0026368547696620226\u001b[0m,\n",
       "        \u001b[1;36m-0.005560563877224922\u001b[0m,\n",
       "        \u001b[1;36m0.014365037903189659\u001b[0m,\n",
       "        \u001b[1;36m0.04174448549747467\u001b[0m,\n",
       "        \u001b[1;36m-0.05296311900019646\u001b[0m,\n",
       "        \u001b[1;36m0.030955830588936806\u001b[0m,\n",
       "        \u001b[1;36m-0.0005510896444320679\u001b[0m,\n",
       "        \u001b[1;36m0.08368858695030212\u001b[0m,\n",
       "        \u001b[1;36m-0.04163287580013275\u001b[0m,\n",
       "        \u001b[1;36m-0.061101142317056656\u001b[0m,\n",
       "        \u001b[1;36m0.04178505763411522\u001b[0m,\n",
       "        \u001b[1;36m-0.1597823202610016\u001b[0m,\n",
       "        \u001b[1;36m-0.026959041133522987\u001b[0m,\n",
       "        \u001b[1;36m-0.040526412427425385\u001b[0m,\n",
       "        \u001b[1;36m-0.036959923803806305\u001b[0m,\n",
       "        \u001b[1;36m-0.028592130169272423\u001b[0m,\n",
       "        \u001b[1;36m-0.011744359508156776\u001b[0m,\n",
       "        \u001b[1;36m-0.005934816785156727\u001b[0m,\n",
       "        \u001b[1;36m-0.022943057119846344\u001b[0m,\n",
       "        \u001b[1;36m-0.03045731782913208\u001b[0m,\n",
       "        \u001b[1;36m-0.03759196028113365\u001b[0m,\n",
       "        \u001b[1;36m-0.02910524792969227\u001b[0m,\n",
       "        \u001b[1;36m0.053259968757629395\u001b[0m,\n",
       "        \u001b[1;36m0.03748132660984993\u001b[0m,\n",
       "        \u001b[1;36m-0.030317604541778564\u001b[0m,\n",
       "        \u001b[1;36m0.014388138428330421\u001b[0m,\n",
       "        \u001b[1;36m-0.04639572650194168\u001b[0m,\n",
       "        \u001b[1;36m0.017047394067049026\u001b[0m,\n",
       "        \u001b[1;36m0.02540304698050022\u001b[0m,\n",
       "        \u001b[1;36m-0.030615290626883507\u001b[0m,\n",
       "        \u001b[1;36m0.015595094300806522\u001b[0m,\n",
       "        \u001b[1;36m0.029894715175032616\u001b[0m,\n",
       "        \u001b[1;36m0.006059985142201185\u001b[0m,\n",
       "        \u001b[1;36m0.09915048629045486\u001b[0m,\n",
       "        \u001b[1;36m0.12477456033229828\u001b[0m,\n",
       "        \u001b[1;36m-0.057342324405908585\u001b[0m,\n",
       "        \u001b[1;36m0.006873194128274918\u001b[0m,\n",
       "        \u001b[1;36m-0.03069245256483555\u001b[0m,\n",
       "        \u001b[1;36m-0.07161428034305573\u001b[0m,\n",
       "        \u001b[1;36m-0.004796828608959913\u001b[0m,\n",
       "        \u001b[1;36m0.019959991797804832\u001b[0m,\n",
       "        \u001b[1;36m-0.04077756404876709\u001b[0m,\n",
       "        \u001b[1;36m0.00962162483483553\u001b[0m,\n",
       "        \u001b[1;36m-0.03842578083276749\u001b[0m,\n",
       "        \u001b[1;36m-1.3513437480128232e-08\u001b[0m,\n",
       "        \u001b[1;36m-0.124087855219841\u001b[0m,\n",
       "        \u001b[1;36m0.0586170069873333\u001b[0m,\n",
       "        \u001b[1;36m0.046098873019218445\u001b[0m,\n",
       "        \u001b[1;36m-0.06754665821790695\u001b[0m,\n",
       "        \u001b[1;36m0.018404722213745117\u001b[0m,\n",
       "        \u001b[1;36m0.012403017841279507\u001b[0m,\n",
       "        \u001b[1;36m0.10156318545341492\u001b[0m,\n",
       "        \u001b[1;36m0.04085404798388481\u001b[0m,\n",
       "        \u001b[1;36m-0.08285671472549438\u001b[0m,\n",
       "        \u001b[1;36m-0.07749384641647339\u001b[0m,\n",
       "        \u001b[1;36m-0.0482947900891304\u001b[0m,\n",
       "        \u001b[1;36m-0.0023070569150149822\u001b[0m,\n",
       "        \u001b[1;36m0.0587131530046463\u001b[0m,\n",
       "        \u001b[1;36m0.09293351322412491\u001b[0m,\n",
       "        \u001b[1;36m0.07602454721927643\u001b[0m,\n",
       "        \u001b[1;36m-0.06210850551724434\u001b[0m,\n",
       "        \u001b[1;36m0.06558450311422348\u001b[0m,\n",
       "        \u001b[1;36m0.0293351411819458\u001b[0m,\n",
       "        \u001b[1;36m-0.044356804341077805\u001b[0m,\n",
       "        \u001b[1;36m0.047131773084402084\u001b[0m,\n",
       "        \u001b[1;36m0.06984245032072067\u001b[0m,\n",
       "        \u001b[1;36m-0.057965271174907684\u001b[0m,\n",
       "        \u001b[1;36m0.04195639118552208\u001b[0m,\n",
       "        \u001b[1;36m0.020849591121077538\u001b[0m,\n",
       "        \u001b[1;36m-0.014099983498454094\u001b[0m,\n",
       "        \u001b[1;36m-0.006943310610949993\u001b[0m,\n",
       "        \u001b[1;36m-0.05678821727633476\u001b[0m,\n",
       "        \u001b[1;36m0.0030817175284028053\u001b[0m,\n",
       "        \u001b[1;36m-0.006687919609248638\u001b[0m,\n",
       "        \u001b[1;36m0.006281870882958174\u001b[0m,\n",
       "        \u001b[1;36m-0.028227627277374268\u001b[0m,\n",
       "        \u001b[1;36m0.12478887289762497\u001b[0m,\n",
       "        \u001b[1;36m0.02344733104109764\u001b[0m,\n",
       "        \u001b[1;36m0.058293238282203674\u001b[0m,\n",
       "        \u001b[1;36m-0.08153949677944183\u001b[0m,\n",
       "        \u001b[1;36m0.030518531799316406\u001b[0m,\n",
       "        \u001b[1;36m0.00989929772913456\u001b[0m,\n",
       "        \u001b[1;36m0.03797334060072899\u001b[0m,\n",
       "        \u001b[1;36m-0.1363128125667572\u001b[0m,\n",
       "        \u001b[1;36m-0.022915491834282875\u001b[0m,\n",
       "        \u001b[1;36m-0.010719502344727516\u001b[0m,\n",
       "        \u001b[1;36m-0.027021052315831184\u001b[0m,\n",
       "        \u001b[1;36m0.023927198722958565\u001b[0m,\n",
       "        \u001b[1;36m0.02194446511566639\u001b[0m,\n",
       "        \u001b[1;36m-0.07846727967262268\u001b[0m,\n",
       "        \u001b[1;36m0.012228036299347878\u001b[0m,\n",
       "        \u001b[1;36m-0.0023330245167016983\u001b[0m,\n",
       "        \u001b[1;36m-0.04898259416222572\u001b[0m,\n",
       "        \u001b[1;36m0.001966628013178706\u001b[0m,\n",
       "        \u001b[1;36m-0.013061262667179108\u001b[0m,\n",
       "        \u001b[1;36m-5.321187200024724e-05\u001b[0m,\n",
       "        \u001b[1;36m-0.020841797813773155\u001b[0m,\n",
       "        \u001b[1;36m-0.011500207707285881\u001b[0m,\n",
       "        \u001b[1;36m0.0035637016408145428\u001b[0m,\n",
       "        \u001b[1;36m-0.031819697469472885\u001b[0m,\n",
       "        \u001b[1;36m-0.009969019331037998\u001b[0m,\n",
       "        \u001b[1;36m0.00286108604632318\u001b[0m,\n",
       "        \u001b[1;36m-0.048779215663671494\u001b[0m,\n",
       "        \u001b[1;36m-0.08518039435148239\u001b[0m,\n",
       "        \u001b[1;36m0.04093388840556145\u001b[0m,\n",
       "        \u001b[1;36m-0.0003686067066155374\u001b[0m,\n",
       "        \u001b[1;36m-0.09690210968255997\u001b[0m,\n",
       "        \u001b[1;36m-0.05930086970329285\u001b[0m,\n",
       "        \u001b[1;36m-0.08024732768535614\u001b[0m\n",
       "    \u001b[1m]\u001b[0m\n",
       "\u001b[1m}\u001b[0m\n"
      ]
     },
     "metadata": {},
     "output_type": "display_data"
    }
   ],
   "source": [
    "rich.print ( dset[0] )"
   ]
  },
  {
   "cell_type": "code",
   "execution_count": null,
   "id": "a01086bd-d78c-4467-bb62-891d0e5cfe70",
   "metadata": {},
   "outputs": [],
   "source": []
  },
  {
   "cell_type": "code",
   "execution_count": null,
   "id": "8f5208bd-580e-4ede-b5a6-fa896bdeb8eb",
   "metadata": {},
   "outputs": [],
   "source": []
  },
  {
   "cell_type": "code",
   "execution_count": 16,
   "id": "61c5f7de-d241-4d31-a138-cbdc28c67725",
   "metadata": {},
   "outputs": [],
   "source": [
    "collection_name = \"unsplash\""
   ]
  },
  {
   "cell_type": "code",
   "execution_count": null,
   "id": "56ccd78d-3120-4cb1-9180-3d246f7a81a3",
   "metadata": {},
   "outputs": [],
   "source": []
  },
  {
   "cell_type": "code",
   "execution_count": null,
   "id": "844b2473-6afa-4eb8-bb5c-12c230a1c6bb",
   "metadata": {},
   "outputs": [],
   "source": []
  },
  {
   "cell_type": "markdown",
   "id": "15ea238b-772e-4f7b-99f2-0eba9bb7e813",
   "metadata": {},
   "source": [
    "## Milvus"
   ]
  },
  {
   "cell_type": "markdown",
   "id": "92a9b0dd-1890-4fcb-bca3-064110a57f1b",
   "metadata": {},
   "source": [
    "Milvus is an open source vector database"
   ]
  },
  {
   "cell_type": "code",
   "execution_count": 17,
   "id": "3f85e030-7a01-49b0-9d9a-3b0631fe433b",
   "metadata": {},
   "outputs": [],
   "source": [
    "connections.connect(\"default\", host=\"localhost\", port=\"19530\")\n"
   ]
  },
  {
   "cell_type": "code",
   "execution_count": null,
   "id": "c1d3bed9-7cd3-4bcf-81e9-22c4cc14e085",
   "metadata": {},
   "outputs": [],
   "source": []
  },
  {
   "cell_type": "markdown",
   "id": "5b772301-5f6d-43d2-9274-806941e3fce1",
   "metadata": {},
   "source": [
    "Milvus `collections` is the same as Elastic Search concept of `indexes` / table.\n",
    "\n",
    "Each collection is meant for a seperate use case. "
   ]
  },
  {
   "cell_type": "code",
   "execution_count": 18,
   "id": "348f74c0-9496-4c35-85d8-ea39ac35c371",
   "metadata": {
    "tags": []
   },
   "outputs": [
    {
     "data": {
      "text/plain": [
       "[]"
      ]
     },
     "execution_count": 18,
     "metadata": {},
     "output_type": "execute_result"
    }
   ],
   "source": [
    "utility.list_collections()"
   ]
  },
  {
   "cell_type": "markdown",
   "id": "17238167-5e38-407b-99d8-d0e06d579b32",
   "metadata": {},
   "source": [
    "drop the collection if it already exists"
   ]
  },
  {
   "cell_type": "code",
   "execution_count": 19,
   "id": "3d826103-5586-42e9-a0ef-169d11b3820c",
   "metadata": {
    "tags": []
   },
   "outputs": [],
   "source": [
    "if collection_name in utility.list_collections():\n",
    "    utility.drop_collection(collection_name)"
   ]
  },
  {
   "cell_type": "code",
   "execution_count": 20,
   "id": "30dad66b-c163-46cc-ae36-38928f4d28f7",
   "metadata": {
    "tags": []
   },
   "outputs": [
    {
     "data": {
      "text/plain": [
       "\u001b[0;31mInit signature:\u001b[0m \u001b[0mCollection\u001b[0m\u001b[0;34m(\u001b[0m\u001b[0mname\u001b[0m\u001b[0;34m,\u001b[0m \u001b[0mschema\u001b[0m\u001b[0;34m=\u001b[0m\u001b[0;32mNone\u001b[0m\u001b[0;34m,\u001b[0m \u001b[0musing\u001b[0m\u001b[0;34m=\u001b[0m\u001b[0;34m'default'\u001b[0m\u001b[0;34m,\u001b[0m \u001b[0mshards_num\u001b[0m\u001b[0;34m=\u001b[0m\u001b[0;36m2\u001b[0m\u001b[0;34m,\u001b[0m \u001b[0;34m**\u001b[0m\u001b[0mkwargs\u001b[0m\u001b[0;34m)\u001b[0m\u001b[0;34m\u001b[0m\u001b[0;34m\u001b[0m\u001b[0m\n",
       "\u001b[0;31mDocstring:\u001b[0m      This is a class corresponding to collection in milvus. \n",
       "\u001b[0;31mInit docstring:\u001b[0m\n",
       "Constructs a collection by name, schema and other parameters.\n",
       "Connection information is contained in kwargs.\n",
       "\n",
       ":param name: the name of collection\n",
       ":type name: str\n",
       "\n",
       ":param schema: the schema of collection\n",
       ":type schema: class `schema.CollectionSchema`\n",
       "\n",
       ":param using: Milvus link of create collection\n",
       ":type using: str\n",
       "\n",
       ":param shards_num: How wide to scale collection. Corresponds to how many active datanodes\n",
       "                can be used on insert.\n",
       ":type shards_num: int\n",
       "\n",
       ":param kwargs:\n",
       "    * *consistency_level* (``str/int``) --\n",
       "    Which consistency level to use when searching in the collection. For details, see\n",
       "    https://github.com/milvus-io/milvus/blob/master/docs/developer_guides/how-guarantee-ts-works.md.\n",
       "    Options of consistency level: Strong, Bounded, Eventually, Session, Customized.\n",
       "    Note: this parameter can be overwritten by the same parameter specified in search.\n",
       "\n",
       ":example:\n",
       "    >>> from pymilvus import connections, Collection, FieldSchema, CollectionSchema, DataType\n",
       "    >>> connections.connect()\n",
       "    <pymilvus.client.stub.Milvus object at 0x7f9a190ca898>\n",
       "    >>> fields = [\n",
       "    ...     FieldSchema(\"film_id\", DataType.INT64, is_primary=True),\n",
       "    ...     FieldSchema(\"films\", dtype=DataType.FLOAT_VECTOR, dim=128)\n",
       "    ... ]\n",
       "    >>> description=\"This is a new collection description.\"\n",
       "    >>> schema = CollectionSchema(fields=fields, description=description)\n",
       "    >>> collection = Collection(name=\"test_collection_init\", schema=schema)\n",
       "    >>> collection.name\n",
       "    'test_collection_init'\n",
       "    >>> collection.description\n",
       "    'This is a new collection description.'\n",
       "    >>> collection.is_empty\n",
       "    True\n",
       "    >>> collection.num_entities\n",
       "    0\n",
       "\u001b[0;31mFile:\u001b[0m           /opt/conda/lib/python3.7/site-packages/pymilvus/orm/collection.py\n",
       "\u001b[0;31mType:\u001b[0m           type\n",
       "\u001b[0;31mSubclasses:\u001b[0m     \n"
      ]
     },
     "metadata": {},
     "output_type": "display_data"
    }
   ],
   "source": [
    "?Collection"
   ]
  },
  {
   "cell_type": "code",
   "execution_count": null,
   "id": "ac806c04-9aaa-4ec4-94e9-612711857296",
   "metadata": {},
   "outputs": [],
   "source": []
  },
  {
   "cell_type": "markdown",
   "id": "95a9b97a-3b35-40f0-b5a9-3e21f0f134e2",
   "metadata": {},
   "source": [
    "unlike Elastic Search , Milvus requires us to specify the document schema beforehand.   \n",
    "\n",
    "Currently Milvus stores the metadata for a document in MySql, hence some of the data type names"
   ]
  },
  {
   "cell_type": "code",
   "execution_count": null,
   "id": "67754c4e-1561-42e9-8c42-da8faf275ab3",
   "metadata": {},
   "outputs": [],
   "source": []
  },
  {
   "cell_type": "code",
   "execution_count": 21,
   "id": "72b27bd3-cd89-454e-ada9-9bf4a2c2dee4",
   "metadata": {},
   "outputs": [
    {
     "data": {
      "text/plain": [
       "{'photo_id': 'XMyPniM9LF0',\n",
       " 'photo_url': 'https://unsplash.com/photos/XMyPniM9LF0',\n",
       " 'photo_image_url': 'https://images.unsplash.com/uploads/14119492946973137ce46/f1f2ebf3',\n",
       " 'photo_submitted_at': '2014-09-29 00:08:38.594364',\n",
       " 'photo_featured': 't',\n",
       " 'photo_width': 4272,\n",
       " 'photo_height': 2848,\n",
       " 'photo_aspect_ratio': 1.5,\n",
       " 'photo_description': 'Woman exploring a forest',\n",
       " 'photographer_username': 'michellespencer77',\n",
       " 'photographer_first_name': 'Michelle',\n",
       " 'photographer_last_name': 'Spencer',\n",
       " 'exif_camera_make': 'Canon',\n",
       " 'exif_camera_model': 'Canon EOS REBEL T3',\n",
       " 'exif_iso': 400.0,\n",
       " 'exif_aperture_value': '1.8',\n",
       " 'exif_focal_length': '50.0',\n",
       " 'exif_exposure_time': '1/100',\n",
       " 'photo_location_name': None,\n",
       " 'photo_location_latitude': None,\n",
       " 'photo_location_longitude': None,\n",
       " 'photo_location_country': None,\n",
       " 'photo_location_city': None,\n",
       " 'stats_views': 2375421,\n",
       " 'stats_downloads': 6967,\n",
       " 'ai_description': 'woman walking in the middle of forest',\n",
       " 'ai_primary_landmark_name': None,\n",
       " 'ai_primary_landmark_latitude': None,\n",
       " 'ai_primary_landmark_longitude': None,\n",
       " 'ai_primary_landmark_confidence': None,\n",
       " 'blur_hash': 'L56bVcRRIWMh.gVunlS4SMbsRRxr',\n",
       " 'description_final': 'Woman exploring a forest',\n",
       " 'image': <PIL.JpegImagePlugin.JpegImageFile image mode=RGB size=640x427>,\n",
       " 'embedding': [0.0830303356051445,\n",
       "  -0.06755103170871735,\n",
       "  0.016757920384407043,\n",
       "  0.09100781381130219,\n",
       "  0.1015830710530281,\n",
       "  0.005028548184782267,\n",
       "  -0.002600274048745632,\n",
       "  -0.019367462024092674,\n",
       "  0.010927338153123856,\n",
       "  0.07374635338783264,\n",
       "  -0.016480546444654465,\n",
       "  -0.0763317197561264,\n",
       "  -0.09966599941253662,\n",
       "  0.0214673038572073,\n",
       "  -0.009482082910835743,\n",
       "  0.12392715364694595,\n",
       "  -0.024619225412607193,\n",
       "  0.03276650235056877,\n",
       "  0.0440586619079113,\n",
       "  0.058909062296152115,\n",
       "  0.016499415040016174,\n",
       "  -0.0012818077811971307,\n",
       "  -0.0026653551030904055,\n",
       "  0.01845381036400795,\n",
       "  -0.03046848438680172,\n",
       "  -0.10237912833690643,\n",
       "  -0.07643651217222214,\n",
       "  0.041874662041664124,\n",
       "  -0.008349988609552383,\n",
       "  -0.008766187354922295,\n",
       "  -0.011281391605734825,\n",
       "  0.034102410078048706,\n",
       "  -0.018544482067227364,\n",
       "  0.06805389374494553,\n",
       "  -0.037428367882966995,\n",
       "  0.05683537572622299,\n",
       "  -0.01375594362616539,\n",
       "  -0.05500418320298195,\n",
       "  0.023737555369734764,\n",
       "  0.0351056344807148,\n",
       "  -0.09786783903837204,\n",
       "  0.019752344116568565,\n",
       "  0.0008298722095787525,\n",
       "  -0.059140708297491074,\n",
       "  -0.008947893977165222,\n",
       "  -0.04224301502108574,\n",
       "  0.03851388394832611,\n",
       "  0.07581054419279099,\n",
       "  0.019058478996157646,\n",
       "  -0.0681644007563591,\n",
       "  0.007752157282084227,\n",
       "  -0.08726644515991211,\n",
       "  -0.11505131423473358,\n",
       "  -0.06915687769651413,\n",
       "  -0.02658279426395893,\n",
       "  0.026267139241099358,\n",
       "  -0.012593045830726624,\n",
       "  -0.07244285941123962,\n",
       "  0.04744511842727661,\n",
       "  -0.002609607996419072,\n",
       "  0.09833679348230362,\n",
       "  0.060720253735780716,\n",
       "  -0.025261735543608665,\n",
       "  0.028413770720362663,\n",
       "  0.015530355274677277,\n",
       "  -0.042194437235593796,\n",
       "  -0.05775360390543938,\n",
       "  -0.005985503550618887,\n",
       "  0.12382840365171432,\n",
       "  -0.03346622735261917,\n",
       "  0.07404889166355133,\n",
       "  -0.001298645162023604,\n",
       "  -0.06490234285593033,\n",
       "  0.012131834402680397,\n",
       "  0.1120641678571701,\n",
       "  0.0022594439797103405,\n",
       "  0.00046668711001984775,\n",
       "  0.07633618265390396,\n",
       "  0.005854395683854818,\n",
       "  0.009757917374372482,\n",
       "  0.01580311916768551,\n",
       "  0.04343586787581444,\n",
       "  0.05402519553899765,\n",
       "  0.0536389984190464,\n",
       "  0.024040905758738518,\n",
       "  0.0662955790758133,\n",
       "  -0.05782591179013252,\n",
       "  0.057654544711112976,\n",
       "  0.05229165032505989,\n",
       "  -0.05528981238603592,\n",
       "  -0.02499811165034771,\n",
       "  -0.08955574035644531,\n",
       "  -0.07401490211486816,\n",
       "  0.04990017041563988,\n",
       "  -0.0714082196354866,\n",
       "  -0.04006848856806755,\n",
       "  0.05586432293057442,\n",
       "  -0.07767124474048615,\n",
       "  0.051191944628953934,\n",
       "  0.03398391976952553,\n",
       "  -0.00423899432644248,\n",
       "  0.06086177006363869,\n",
       "  -0.010651438497006893,\n",
       "  -0.006932796910405159,\n",
       "  -0.0981331318616867,\n",
       "  0.04138855263590813,\n",
       "  -0.044392019510269165,\n",
       "  0.06060381606221199,\n",
       "  0.028799688443541527,\n",
       "  0.0140379061922431,\n",
       "  0.028811078518629074,\n",
       "  0.006425206083804369,\n",
       "  -0.07866852730512619,\n",
       "  0.09037467837333679,\n",
       "  0.011841747909784317,\n",
       "  0.0018863006262108684,\n",
       "  -0.025623919442296028,\n",
       "  0.019165100529789925,\n",
       "  0.03996766358613968,\n",
       "  0.05167973414063454,\n",
       "  -0.048521142452955246,\n",
       "  -0.09722001105546951,\n",
       "  0.0300726518034935,\n",
       "  -0.05865059792995453,\n",
       "  0.08791156113147736,\n",
       "  -0.01808820106089115,\n",
       "  0.10404065996408463,\n",
       "  -5.0861660586783214e-33,\n",
       "  0.03181550279259682,\n",
       "  -0.006305542308837175,\n",
       "  0.03320857509970665,\n",
       "  0.02621566317975521,\n",
       "  0.039306435734033585,\n",
       "  -0.00336116598919034,\n",
       "  0.06016870215535164,\n",
       "  -0.029395679011940956,\n",
       "  -0.03768624737858772,\n",
       "  0.08337914198637009,\n",
       "  -0.055832020938396454,\n",
       "  0.0007532485178671777,\n",
       "  -0.1089257150888443,\n",
       "  -0.04588368162512779,\n",
       "  0.06491314619779587,\n",
       "  0.006466918159276247,\n",
       "  -0.014211448840796947,\n",
       "  0.003188343718647957,\n",
       "  -0.03221621736884117,\n",
       "  0.051945701241493225,\n",
       "  0.014306602068245411,\n",
       "  0.0010901421774178743,\n",
       "  -0.012047792784869671,\n",
       "  0.009840504266321659,\n",
       "  0.046277984976768494,\n",
       "  0.0029668721836060286,\n",
       "  0.03292899951338768,\n",
       "  0.014663889072835445,\n",
       "  -0.030969316139817238,\n",
       "  -0.014734521508216858,\n",
       "  -0.006604384630918503,\n",
       "  -0.02962682582437992,\n",
       "  -0.03723149746656418,\n",
       "  -0.09686761349439621,\n",
       "  0.05146600306034088,\n",
       "  -0.0302411075681448,\n",
       "  0.04626736417412758,\n",
       "  0.023720163851976395,\n",
       "  0.006419994868338108,\n",
       "  -0.018915604799985886,\n",
       "  -0.05308615788817406,\n",
       "  -0.011426085606217384,\n",
       "  0.0769142434000969,\n",
       "  -0.06933048367500305,\n",
       "  -0.014763694256544113,\n",
       "  0.04084983840584755,\n",
       "  0.07564499974250793,\n",
       "  0.02885134331882,\n",
       "  -0.08021530508995056,\n",
       "  0.14700420200824738,\n",
       "  -0.15142877399921417,\n",
       "  0.02379506640136242,\n",
       "  0.04449768364429474,\n",
       "  0.06876225024461746,\n",
       "  -0.006763920187950134,\n",
       "  0.01642855815589428,\n",
       "  0.04302189126610756,\n",
       "  0.015933403745293617,\n",
       "  0.029841100797057152,\n",
       "  0.006577507592737675,\n",
       "  0.02602209709584713,\n",
       "  -0.07112190872430801,\n",
       "  0.022406751289963722,\n",
       "  0.012334378436207771,\n",
       "  0.04748491942882538,\n",
       "  0.015717076137661934,\n",
       "  0.034141454845666885,\n",
       "  -0.05253664776682854,\n",
       "  0.02055049128830433,\n",
       "  0.05761394277215004,\n",
       "  -0.06116655841469765,\n",
       "  0.06248078495264053,\n",
       "  0.06453778594732285,\n",
       "  0.05763610824942589,\n",
       "  -0.021989667788147926,\n",
       "  0.003228620160371065,\n",
       "  0.04434305056929588,\n",
       "  0.04921620711684227,\n",
       "  0.031192973256111145,\n",
       "  0.013964684680104256,\n",
       "  -0.0017912834882736206,\n",
       "  0.04827840253710747,\n",
       "  0.025268886238336563,\n",
       "  0.062145642936229706,\n",
       "  0.0171399787068367,\n",
       "  -0.02933569625020027,\n",
       "  -0.061171092092990875,\n",
       "  -0.08921023458242416,\n",
       "  -0.032465603202581406,\n",
       "  0.013923877850174904,\n",
       "  0.0001662404538365081,\n",
       "  0.046470269560813904,\n",
       "  -0.036002058535814285,\n",
       "  -0.04316647723317146,\n",
       "  0.05095857381820679,\n",
       "  3.521188552442362e-33,\n",
       "  0.038127582520246506,\n",
       "  -0.09012956917285919,\n",
       "  0.11241155117750168,\n",
       "  -0.03824295103549957,\n",
       "  -0.05402998626232147,\n",
       "  0.02271988056600094,\n",
       "  0.006762765813618898,\n",
       "  -0.009673943743109703,\n",
       "  -0.0071555995382368565,\n",
       "  -0.03679386153817177,\n",
       "  0.007896444760262966,\n",
       "  0.05606478825211525,\n",
       "  0.03369989991188049,\n",
       "  0.03687126189470291,\n",
       "  0.01356537640094757,\n",
       "  -0.02970896288752556,\n",
       "  -0.006830204743891954,\n",
       "  -0.0037385979667305946,\n",
       "  -0.031238270923495293,\n",
       "  -0.015835527330636978,\n",
       "  -0.08107960224151611,\n",
       "  0.02048780396580696,\n",
       "  -0.030188748612999916,\n",
       "  -0.0746505856513977,\n",
       "  0.003996844869107008,\n",
       "  0.03426159918308258,\n",
       "  0.07997581362724304,\n",
       "  -0.02603892982006073,\n",
       "  -0.037700776010751724,\n",
       "  -0.014482297003269196,\n",
       "  0.05590815097093582,\n",
       "  0.009693938307464123,\n",
       "  0.01600758731365204,\n",
       "  -0.051363177597522736,\n",
       "  -0.014426879584789276,\n",
       "  -0.03705626726150513,\n",
       "  0.07178886234760284,\n",
       "  -0.10156846046447754,\n",
       "  -0.00792188011109829,\n",
       "  0.06422633677721024,\n",
       "  -0.033644914627075195,\n",
       "  0.11741040647029877,\n",
       "  0.016860494390130043,\n",
       "  -0.0591374933719635,\n",
       "  0.002591643948107958,\n",
       "  0.003742058528587222,\n",
       "  0.0027541855815798044,\n",
       "  0.03224682807922363,\n",
       "  0.009581003338098526,\n",
       "  0.04722880572080612,\n",
       "  0.06083419919013977,\n",
       "  -0.0026368547696620226,\n",
       "  -0.005560563877224922,\n",
       "  0.014365037903189659,\n",
       "  0.04174448549747467,\n",
       "  -0.05296311900019646,\n",
       "  0.030955830588936806,\n",
       "  -0.0005510896444320679,\n",
       "  0.08368858695030212,\n",
       "  -0.04163287580013275,\n",
       "  -0.061101142317056656,\n",
       "  0.04178505763411522,\n",
       "  -0.1597823202610016,\n",
       "  -0.026959041133522987,\n",
       "  -0.040526412427425385,\n",
       "  -0.036959923803806305,\n",
       "  -0.028592130169272423,\n",
       "  -0.011744359508156776,\n",
       "  -0.005934816785156727,\n",
       "  -0.022943057119846344,\n",
       "  -0.03045731782913208,\n",
       "  -0.03759196028113365,\n",
       "  -0.02910524792969227,\n",
       "  0.053259968757629395,\n",
       "  0.03748132660984993,\n",
       "  -0.030317604541778564,\n",
       "  0.014388138428330421,\n",
       "  -0.04639572650194168,\n",
       "  0.017047394067049026,\n",
       "  0.02540304698050022,\n",
       "  -0.030615290626883507,\n",
       "  0.015595094300806522,\n",
       "  0.029894715175032616,\n",
       "  0.006059985142201185,\n",
       "  0.09915048629045486,\n",
       "  0.12477456033229828,\n",
       "  -0.057342324405908585,\n",
       "  0.006873194128274918,\n",
       "  -0.03069245256483555,\n",
       "  -0.07161428034305573,\n",
       "  -0.004796828608959913,\n",
       "  0.019959991797804832,\n",
       "  -0.04077756404876709,\n",
       "  0.00962162483483553,\n",
       "  -0.03842578083276749,\n",
       "  -1.3513437480128232e-08,\n",
       "  -0.124087855219841,\n",
       "  0.0586170069873333,\n",
       "  0.046098873019218445,\n",
       "  -0.06754665821790695,\n",
       "  0.018404722213745117,\n",
       "  0.012403017841279507,\n",
       "  0.10156318545341492,\n",
       "  0.04085404798388481,\n",
       "  -0.08285671472549438,\n",
       "  -0.07749384641647339,\n",
       "  -0.0482947900891304,\n",
       "  -0.0023070569150149822,\n",
       "  0.0587131530046463,\n",
       "  0.09293351322412491,\n",
       "  0.07602454721927643,\n",
       "  -0.06210850551724434,\n",
       "  0.06558450311422348,\n",
       "  0.0293351411819458,\n",
       "  -0.044356804341077805,\n",
       "  0.047131773084402084,\n",
       "  0.06984245032072067,\n",
       "  -0.057965271174907684,\n",
       "  0.04195639118552208,\n",
       "  0.020849591121077538,\n",
       "  -0.014099983498454094,\n",
       "  -0.006943310610949993,\n",
       "  -0.05678821727633476,\n",
       "  0.0030817175284028053,\n",
       "  -0.006687919609248638,\n",
       "  0.006281870882958174,\n",
       "  -0.028227627277374268,\n",
       "  0.12478887289762497,\n",
       "  0.02344733104109764,\n",
       "  0.058293238282203674,\n",
       "  -0.08153949677944183,\n",
       "  0.030518531799316406,\n",
       "  0.00989929772913456,\n",
       "  0.03797334060072899,\n",
       "  -0.1363128125667572,\n",
       "  -0.022915491834282875,\n",
       "  -0.010719502344727516,\n",
       "  -0.027021052315831184,\n",
       "  0.023927198722958565,\n",
       "  0.02194446511566639,\n",
       "  -0.07846727967262268,\n",
       "  0.012228036299347878,\n",
       "  -0.0023330245167016983,\n",
       "  -0.04898259416222572,\n",
       "  0.001966628013178706,\n",
       "  -0.013061262667179108,\n",
       "  -5.321187200024724e-05,\n",
       "  -0.020841797813773155,\n",
       "  -0.011500207707285881,\n",
       "  0.0035637016408145428,\n",
       "  -0.031819697469472885,\n",
       "  -0.009969019331037998,\n",
       "  0.00286108604632318,\n",
       "  -0.048779215663671494,\n",
       "  -0.08518039435148239,\n",
       "  0.04093388840556145,\n",
       "  -0.0003686067066155374,\n",
       "  -0.09690210968255997,\n",
       "  -0.05930086970329285,\n",
       "  -0.08024732768535614]}"
      ]
     },
     "execution_count": 21,
     "metadata": {},
     "output_type": "execute_result"
    }
   ],
   "source": [
    "dset[0]"
   ]
  },
  {
   "cell_type": "code",
   "execution_count": 22,
   "id": "e3ed51ba-e12b-4b0c-9557-db9d47b19ba8",
   "metadata": {},
   "outputs": [
    {
     "data": {
      "text/plain": [
       "384"
      ]
     },
     "execution_count": 22,
     "metadata": {},
     "output_type": "execute_result"
    }
   ],
   "source": [
    "dim = len(dset[0]['embedding'])\n",
    "dim"
   ]
  },
  {
   "cell_type": "code",
   "execution_count": null,
   "id": "b4fbefac-4424-4918-b26e-c7ed7a2430f1",
   "metadata": {},
   "outputs": [],
   "source": []
  },
  {
   "cell_type": "code",
   "execution_count": null,
   "id": "935aa1a3-8c6c-4427-b317-818f67e8846c",
   "metadata": {},
   "outputs": [],
   "source": []
  },
  {
   "cell_type": "markdown",
   "id": "5ad33d6f-b8a6-40a0-84a1-6c612d065e00",
   "metadata": {},
   "source": [
    "milvus requires us to specify the metadata of the documents we are inserting. \n",
    "\n",
    "every collection must have an id field and an embedding field\n"
   ]
  },
  {
   "cell_type": "code",
   "execution_count": 23,
   "id": "2701920b-f050-4b20-bd51-aa2bca667739",
   "metadata": {},
   "outputs": [],
   "source": [
    "fields = [\n",
    "    FieldSchema(name=\"photo_id\", dtype=DataType.VARCHAR, is_primary=True, auto_id=False, max_length=512),\n",
    "    FieldSchema(name=\"photo_url\", dtype=DataType.VARCHAR, max_length=60000),\n",
    "    FieldSchema(name=\"photo_image_url\", dtype=DataType.VARCHAR, max_length=60000),\n",
    "    FieldSchema(name=\"photographer_username\", dtype=DataType.VARCHAR, max_length=500),\n",
    "    FieldSchema(name=\"photographer_first_name\", dtype=DataType.VARCHAR, max_length=500),\n",
    "    FieldSchema(name=\"photographer_last_name\", dtype=DataType.VARCHAR, max_length=500),\n",
    "\n",
    "    FieldSchema(name=\"stats_views\", dtype=DataType.INT64),\n",
    "    FieldSchema(name=\"stats_downloads\", dtype=DataType.INT64),\n",
    "    FieldSchema(name=\"description_final\", dtype=DataType.VARCHAR, max_length=50_000),\n",
    "    FieldSchema(name=\"embedding\", dtype=DataType.FLOAT_VECTOR, dim=dim) ,\n",
    "]\n",
    "\n",
    "\n",
    "\n",
    "schema = CollectionSchema(fields, \"collection containing unsplash data\")\n",
    "\n",
    "unsplash_milvus = Collection(collection_name, schema, consistency_level=\"Strong\")"
   ]
  },
  {
   "cell_type": "code",
   "execution_count": null,
   "id": "af08e4af-8b32-4377-952c-3154b93e7746",
   "metadata": {},
   "outputs": [],
   "source": []
  },
  {
   "cell_type": "code",
   "execution_count": 24,
   "id": "92bb63d6-6231-43d2-a9cd-6af030d86b25",
   "metadata": {},
   "outputs": [
    {
     "data": {
      "text/plain": [
       "{\n",
       "  auto_id: False\n",
       "  description: collection containing unsplash data\n",
       "  fields: [{\n",
       "    name: photo_id\n",
       "    description: \n",
       "    type: 21\n",
       "    params: {'max_length': 512}\n",
       "    is_primary: True\n",
       "    auto_id: False\n",
       "  }, {\n",
       "    name: photo_url\n",
       "    description: \n",
       "    type: 21\n",
       "    params: {'max_length': 60000}\n",
       "  }, {\n",
       "    name: photo_image_url\n",
       "    description: \n",
       "    type: 21\n",
       "    params: {'max_length': 60000}\n",
       "  }, {\n",
       "    name: photographer_username\n",
       "    description: \n",
       "    type: 21\n",
       "    params: {'max_length': 500}\n",
       "  }, {\n",
       "    name: photographer_first_name\n",
       "    description: \n",
       "    type: 21\n",
       "    params: {'max_length': 500}\n",
       "  }, {\n",
       "    name: photographer_last_name\n",
       "    description: \n",
       "    type: 21\n",
       "    params: {'max_length': 500}\n",
       "  }, {\n",
       "    name: stats_views\n",
       "    description: \n",
       "    type: 5\n",
       "  }, {\n",
       "    name: stats_downloads\n",
       "    description: \n",
       "    type: 5\n",
       "  }, {\n",
       "    name: description_final\n",
       "    description: \n",
       "    type: 21\n",
       "    params: {'max_length': 50000}\n",
       "  }, {\n",
       "    name: embedding\n",
       "    description: \n",
       "    type: 101\n",
       "    params: {'dim': 384}\n",
       "  }]\n",
       "}"
      ]
     },
     "execution_count": 24,
     "metadata": {},
     "output_type": "execute_result"
    }
   ],
   "source": [
    "schema"
   ]
  },
  {
   "cell_type": "code",
   "execution_count": null,
   "id": "dd69de2a-f0af-4b27-b3bc-ed7b21fb5a38",
   "metadata": {},
   "outputs": [],
   "source": []
  },
  {
   "cell_type": "code",
   "execution_count": null,
   "id": "f2cba2c8-aefa-4380-bb2d-fb762b2c446f",
   "metadata": {},
   "outputs": [],
   "source": []
  },
  {
   "cell_type": "code",
   "execution_count": 25,
   "id": "a4b02518-4c63-414e-914c-a7bd7bf21caf",
   "metadata": {
    "tags": []
   },
   "outputs": [],
   "source": [
    "fields = [f.name for f in schema.fields]"
   ]
  },
  {
   "cell_type": "code",
   "execution_count": 26,
   "id": "3ca6fde4-0b75-4dbd-95ba-8d5bdae82dd4",
   "metadata": {
    "tags": []
   },
   "outputs": [
    {
     "data": {
      "text/plain": [
       "['photo_id',\n",
       " 'photo_url',\n",
       " 'photo_image_url',\n",
       " 'photographer_username',\n",
       " 'photographer_first_name',\n",
       " 'photographer_last_name',\n",
       " 'stats_views',\n",
       " 'stats_downloads',\n",
       " 'description_final',\n",
       " 'embedding']"
      ]
     },
     "execution_count": 26,
     "metadata": {},
     "output_type": "execute_result"
    }
   ],
   "source": [
    "fields"
   ]
  },
  {
   "cell_type": "code",
   "execution_count": null,
   "id": "28a68a41-ce72-4499-8839-7dad0b9d5526",
   "metadata": {},
   "outputs": [],
   "source": []
  },
  {
   "cell_type": "markdown",
   "id": "70ddbc2a-cfc2-4d1b-a0e5-47cd4f455938",
   "metadata": {},
   "source": [
    "replace Nan or NA columns with a default value"
   ]
  },
  {
   "cell_type": "code",
   "execution_count": 27,
   "id": "8ed9e15f-1497-41af-ab8c-916d1601568d",
   "metadata": {},
   "outputs": [],
   "source": [
    "df = dset.to_pandas()[fields]\n",
    "\n",
    "df['photographer_last_name'] = df['photographer_last_name'].fillna(\"\").astype(str) "
   ]
  },
  {
   "cell_type": "code",
   "execution_count": null,
   "id": "814213b8-53d6-48ca-aa69-13b90ffa8c13",
   "metadata": {},
   "outputs": [],
   "source": []
  },
  {
   "cell_type": "code",
   "execution_count": 28,
   "id": "61f53b8b-90d6-4b85-8b17-79716fbc7dba",
   "metadata": {},
   "outputs": [
    {
     "data": {
      "text/html": [
       "<div>\n",
       "<style scoped>\n",
       "    .dataframe tbody tr th:only-of-type {\n",
       "        vertical-align: middle;\n",
       "    }\n",
       "\n",
       "    .dataframe tbody tr th {\n",
       "        vertical-align: top;\n",
       "    }\n",
       "\n",
       "    .dataframe thead th {\n",
       "        text-align: right;\n",
       "    }\n",
       "</style>\n",
       "<table border=\"1\" class=\"dataframe\">\n",
       "  <thead>\n",
       "    <tr style=\"text-align: right;\">\n",
       "      <th></th>\n",
       "      <th>photo_id</th>\n",
       "      <th>photo_url</th>\n",
       "      <th>photo_image_url</th>\n",
       "      <th>photographer_username</th>\n",
       "      <th>photographer_first_name</th>\n",
       "      <th>photographer_last_name</th>\n",
       "      <th>stats_views</th>\n",
       "      <th>stats_downloads</th>\n",
       "      <th>description_final</th>\n",
       "      <th>embedding</th>\n",
       "    </tr>\n",
       "  </thead>\n",
       "  <tbody>\n",
       "    <tr>\n",
       "      <th>0</th>\n",
       "      <td>XMyPniM9LF0</td>\n",
       "      <td>https://unsplash.com/photos/XMyPniM9LF0</td>\n",
       "      <td>https://images.unsplash.com/uploads/1411949294...</td>\n",
       "      <td>michellespencer77</td>\n",
       "      <td>Michelle</td>\n",
       "      <td>Spencer</td>\n",
       "      <td>2375421</td>\n",
       "      <td>6967</td>\n",
       "      <td>Woman exploring a forest</td>\n",
       "      <td>[0.083030336, -0.06755103, 0.01675792, 0.09100...</td>\n",
       "    </tr>\n",
       "    <tr>\n",
       "      <th>1</th>\n",
       "      <td>rDLBArZUl1c</td>\n",
       "      <td>https://unsplash.com/photos/rDLBArZUl1c</td>\n",
       "      <td>https://images.unsplash.com/photo-141633941111...</td>\n",
       "      <td>ugmonk</td>\n",
       "      <td>Jeff</td>\n",
       "      <td>Sheldon</td>\n",
       "      <td>13784815</td>\n",
       "      <td>82141</td>\n",
       "      <td>Succulents in a terrarium</td>\n",
       "      <td>[0.09715439, 0.047049355, -0.03292772, 0.00239...</td>\n",
       "    </tr>\n",
       "    <tr>\n",
       "      <th>2</th>\n",
       "      <td>cNDGZ2sQ3Bo</td>\n",
       "      <td>https://unsplash.com/photos/cNDGZ2sQ3Bo</td>\n",
       "      <td>https://images.unsplash.com/photo-142014251503...</td>\n",
       "      <td>johnprice</td>\n",
       "      <td>John</td>\n",
       "      <td>Price</td>\n",
       "      <td>1302461</td>\n",
       "      <td>3428</td>\n",
       "      <td>Rural winter mountainside</td>\n",
       "      <td>[-0.014408472, 0.03351524, 0.005995726, 0.1200...</td>\n",
       "    </tr>\n",
       "    <tr>\n",
       "      <th>3</th>\n",
       "      <td>iuZ_D1eoq9k</td>\n",
       "      <td>https://unsplash.com/photos/iuZ_D1eoq9k</td>\n",
       "      <td>https://images.unsplash.com/photo-141487280988...</td>\n",
       "      <td>krisatomic</td>\n",
       "      <td>Kris</td>\n",
       "      <td>Atomic</td>\n",
       "      <td>2890238</td>\n",
       "      <td>33704</td>\n",
       "      <td>Poppy seeds and flowers</td>\n",
       "      <td>[-0.058240294, 0.05399318, 0.026572034, 0.0003...</td>\n",
       "    </tr>\n",
       "    <tr>\n",
       "      <th>4</th>\n",
       "      <td>BeD3vjQ8SI0</td>\n",
       "      <td>https://unsplash.com/photos/BeD3vjQ8SI0</td>\n",
       "      <td>https://images.unsplash.com/photo-141700759404...</td>\n",
       "      <td>jonaseriksson</td>\n",
       "      <td>Jonas</td>\n",
       "      <td>Eriksson</td>\n",
       "      <td>8704860</td>\n",
       "      <td>49662</td>\n",
       "      <td>Silhouette near dark trees</td>\n",
       "      <td>[0.03442972, 0.03402633, 0.02322441, 0.0585280...</td>\n",
       "    </tr>\n",
       "  </tbody>\n",
       "</table>\n",
       "</div>"
      ],
      "text/plain": [
       "      photo_id                                photo_url  \\\n",
       "0  XMyPniM9LF0  https://unsplash.com/photos/XMyPniM9LF0   \n",
       "1  rDLBArZUl1c  https://unsplash.com/photos/rDLBArZUl1c   \n",
       "2  cNDGZ2sQ3Bo  https://unsplash.com/photos/cNDGZ2sQ3Bo   \n",
       "3  iuZ_D1eoq9k  https://unsplash.com/photos/iuZ_D1eoq9k   \n",
       "4  BeD3vjQ8SI0  https://unsplash.com/photos/BeD3vjQ8SI0   \n",
       "\n",
       "                                     photo_image_url photographer_username  \\\n",
       "0  https://images.unsplash.com/uploads/1411949294...     michellespencer77   \n",
       "1  https://images.unsplash.com/photo-141633941111...                ugmonk   \n",
       "2  https://images.unsplash.com/photo-142014251503...             johnprice   \n",
       "3  https://images.unsplash.com/photo-141487280988...            krisatomic   \n",
       "4  https://images.unsplash.com/photo-141700759404...         jonaseriksson   \n",
       "\n",
       "  photographer_first_name photographer_last_name  stats_views  \\\n",
       "0                Michelle                Spencer      2375421   \n",
       "1                    Jeff                Sheldon     13784815   \n",
       "2                    John                  Price      1302461   \n",
       "3                    Kris                 Atomic      2890238   \n",
       "4                   Jonas               Eriksson      8704860   \n",
       "\n",
       "   stats_downloads           description_final  \\\n",
       "0             6967    Woman exploring a forest   \n",
       "1            82141   Succulents in a terrarium   \n",
       "2             3428   Rural winter mountainside   \n",
       "3            33704     Poppy seeds and flowers   \n",
       "4            49662  Silhouette near dark trees   \n",
       "\n",
       "                                           embedding  \n",
       "0  [0.083030336, -0.06755103, 0.01675792, 0.09100...  \n",
       "1  [0.09715439, 0.047049355, -0.03292772, 0.00239...  \n",
       "2  [-0.014408472, 0.03351524, 0.005995726, 0.1200...  \n",
       "3  [-0.058240294, 0.05399318, 0.026572034, 0.0003...  \n",
       "4  [0.03442972, 0.03402633, 0.02322441, 0.0585280...  "
      ]
     },
     "execution_count": 28,
     "metadata": {},
     "output_type": "execute_result"
    }
   ],
   "source": [
    "df.head()"
   ]
  },
  {
   "cell_type": "code",
   "execution_count": null,
   "id": "73bb47cb-bb4f-44fa-ae1a-adfaf63791de",
   "metadata": {},
   "outputs": [],
   "source": []
  },
  {
   "cell_type": "code",
   "execution_count": 29,
   "id": "046facc0-ca12-4fda-ade6-c74151bcfe27",
   "metadata": {},
   "outputs": [
    {
     "data": {
      "text/plain": [
       "photo_id                   object\n",
       "photo_url                  object\n",
       "photo_image_url            object\n",
       "photographer_username      object\n",
       "photographer_first_name    object\n",
       "photographer_last_name     object\n",
       "stats_views                 int64\n",
       "stats_downloads             int64\n",
       "description_final          object\n",
       "embedding                  object\n",
       "dtype: object"
      ]
     },
     "execution_count": 29,
     "metadata": {},
     "output_type": "execute_result"
    }
   ],
   "source": [
    "df.dtypes"
   ]
  },
  {
   "cell_type": "markdown",
   "id": "fda5f6fe-c941-4861-8b37-de6749e801ff",
   "metadata": {},
   "source": [
    "## Embedding Insertion"
   ]
  },
  {
   "cell_type": "code",
   "execution_count": 30,
   "id": "04f3a429-036b-4613-8a4e-c47fee371459",
   "metadata": {
    "tags": []
   },
   "outputs": [],
   "source": [
    "insert_result = unsplash_milvus.insert( df  )\n",
    "\n"
   ]
  },
  {
   "cell_type": "code",
   "execution_count": 31,
   "id": "a62b59a1-25d5-4a84-b0b9-41ffa644315b",
   "metadata": {},
   "outputs": [
    {
     "data": {
      "text/plain": [
       "(insert count: 24995, delete count: 0, upsert count: 0, timestamp: 437302567468531713, success count: 24995, err count: 0)"
      ]
     },
     "execution_count": 31,
     "metadata": {},
     "output_type": "execute_result"
    }
   ],
   "source": [
    "insert_result"
   ]
  },
  {
   "cell_type": "code",
   "execution_count": null,
   "id": "6316585f-b3c5-45de-b773-97b343d2aa1e",
   "metadata": {},
   "outputs": [],
   "source": []
  },
  {
   "cell_type": "code",
   "execution_count": 32,
   "id": "97fbe9f6-05d8-45bd-bbe7-ab52d2717b14",
   "metadata": {},
   "outputs": [
    {
     "data": {
      "text/plain": [
       "24995"
      ]
     },
     "execution_count": 32,
     "metadata": {},
     "output_type": "execute_result"
    }
   ],
   "source": [
    "unsplash_milvus.num_entities"
   ]
  },
  {
   "cell_type": "code",
   "execution_count": 33,
   "id": "45d06c05-0a06-45b5-9880-ff29376c3e64",
   "metadata": {},
   "outputs": [
    {
     "data": {
      "text/plain": [
       "[]"
      ]
     },
     "execution_count": 33,
     "metadata": {},
     "output_type": "execute_result"
    }
   ],
   "source": [
    "unsplash_milvus.indexes"
   ]
  },
  {
   "cell_type": "code",
   "execution_count": null,
   "id": "41b8bff0-abbf-4ec0-9355-c87b9c1335d5",
   "metadata": {},
   "outputs": [],
   "source": []
  },
  {
   "cell_type": "code",
   "execution_count": null,
   "id": "bfd86775-9e62-48e7-857b-f66d072a0426",
   "metadata": {},
   "outputs": [],
   "source": []
  },
  {
   "cell_type": "markdown",
   "id": "f8cc90da-aea7-446b-ae48-bc3d25c6045d",
   "metadata": {},
   "source": [
    "the embeddings are inserted but no index is created \n",
    "\n",
    "Milvus supports several indexes / ANN"
   ]
  },
  {
   "cell_type": "markdown",
   "id": "32fb0d5c-f1e3-48f1-a09f-7b7166672887",
   "metadata": {},
   "source": [
    "https://milvus.io/docs/index.md"
   ]
  },
  {
   "cell_type": "code",
   "execution_count": 34,
   "id": "ef99e497-097d-4165-803d-cae166ca38df",
   "metadata": {},
   "outputs": [],
   "source": [
    "index = {\n",
    "    \"index_type\": \"IVF_FLAT\",\n",
    "    \"metric_type\": \"IP\",\n",
    "    \"params\": {\"nlist\": 20},\n",
    "}\n",
    "\n",
    "# n_list = number of clusters to create\n",
    "\n",
    "# index = {\n",
    "#     \"index_type\": \"FLAT\",\n",
    "#     \"metric_type\": \"L2\",\n",
    "#     \"params\": {}\n",
    "# }\n",
    "\n"
   ]
  },
  {
   "cell_type": "code",
   "execution_count": 35,
   "id": "b0629948-2c81-4f04-8bdf-47e3ad198c15",
   "metadata": {},
   "outputs": [
    {
     "data": {
      "text/plain": [
       "\u001b[0;31mSignature:\u001b[0m\n",
       "\u001b[0munsplash_milvus\u001b[0m\u001b[0;34m.\u001b[0m\u001b[0mcreate_index\u001b[0m\u001b[0;34m(\u001b[0m\u001b[0;34m\u001b[0m\n",
       "\u001b[0;34m\u001b[0m    \u001b[0mfield_name\u001b[0m\u001b[0;34m,\u001b[0m\u001b[0;34m\u001b[0m\n",
       "\u001b[0;34m\u001b[0m    \u001b[0mindex_params\u001b[0m\u001b[0;34m=\u001b[0m\u001b[0;34m{\u001b[0m\u001b[0;34m}\u001b[0m\u001b[0;34m,\u001b[0m\u001b[0;34m\u001b[0m\n",
       "\u001b[0;34m\u001b[0m    \u001b[0mtimeout\u001b[0m\u001b[0;34m=\u001b[0m\u001b[0;32mNone\u001b[0m\u001b[0;34m,\u001b[0m\u001b[0;34m\u001b[0m\n",
       "\u001b[0;34m\u001b[0m    \u001b[0;34m**\u001b[0m\u001b[0mkwargs\u001b[0m\u001b[0;34m,\u001b[0m\u001b[0;34m\u001b[0m\n",
       "\u001b[0;34m\u001b[0m\u001b[0;34m)\u001b[0m \u001b[0;34m->\u001b[0m \u001b[0mpymilvus\u001b[0m\u001b[0;34m.\u001b[0m\u001b[0morm\u001b[0m\u001b[0;34m.\u001b[0m\u001b[0mindex\u001b[0m\u001b[0;34m.\u001b[0m\u001b[0mIndex\u001b[0m\u001b[0;34m\u001b[0m\u001b[0;34m\u001b[0m\u001b[0m\n",
       "\u001b[0;31mDocstring:\u001b[0m\n",
       "Creates index for a specified field. Return Index Object.\n",
       "\n",
       ":param field_name: The name of the field to create an index for.\n",
       ":type  field_name: str\n",
       "\n",
       ":param index_params: The indexing parameters.\n",
       ":type  index_params: dict\n",
       "\n",
       ":param timeout: An optional duration of time in seconds to allow for the RPC. When timeout\n",
       "                is set to None, client waits until server response or error occur\n",
       ":type  timeout: float\n",
       "\n",
       ":param kwargs:\n",
       "    * *_async* (``bool``) --\n",
       "      Indicate if invoke asynchronously. When value is true, method returns a IndexFuture object;\n",
       "      otherwise, method returns results from server.\n",
       "    * *_callback* (``function``) --\n",
       "      The callback function which is invoked after server response successfully. It only take\n",
       "      effect when _async is set to True.\n",
       "    * *index_name* (``str``) --\n",
       "      The name of index which will be created. Then you can use the index name to check the state of index.\n",
       "      If no index name is specified, the default index name is used.\n",
       "\n",
       ":raises CollectionNotExistException: If the collection does not exist.\n",
       ":raises ParamError: If the index parameters are invalid.\n",
       ":raises BaseException: If field does not exist.\n",
       ":raises BaseException: If the index has been created.\n",
       "\n",
       ":example:\n",
       "    >>> from pymilvus import connections, Collection, FieldSchema, CollectionSchema, DataType\n",
       "    >>> connections.connect()\n",
       "    >>> schema = CollectionSchema([\n",
       "    ...     FieldSchema(\"film_id\", DataType.INT64, is_primary=True),\n",
       "    ...     FieldSchema(\"films\", dtype=DataType.FLOAT_VECTOR, dim=2)\n",
       "    ... ])\n",
       "    >>> collection = Collection(\"test_collection_create_index\", schema)\n",
       "    >>> index = {\"index_type\": \"IVF_FLAT\", \"params\": {\"nlist\": 128}, \"metric_type\": \"L2\"}\n",
       "    >>> collection.create_index(\"films\", index)\n",
       "    Status(code=0, message='')\n",
       "    >>> collection.index()\n",
       "    <pymilvus.index.Index object at 0x7f44355a1460>\n",
       "\u001b[0;31mFile:\u001b[0m      /opt/conda/lib/python3.7/site-packages/pymilvus/orm/collection.py\n",
       "\u001b[0;31mType:\u001b[0m      method\n"
      ]
     },
     "metadata": {},
     "output_type": "display_data"
    }
   ],
   "source": [
    "?unsplash_milvus.create_index"
   ]
  },
  {
   "cell_type": "markdown",
   "id": "31a33c0e-19a3-4b9b-a4bc-1bdcdde92678",
   "metadata": {},
   "source": [
    "create the index"
   ]
  },
  {
   "cell_type": "code",
   "execution_count": 36,
   "id": "c68a6d78-4d47-4da6-8d4f-d0ee43d80ef5",
   "metadata": {},
   "outputs": [
    {
     "data": {
      "text/plain": [
       "Status(code=0, message='')"
      ]
     },
     "execution_count": 36,
     "metadata": {},
     "output_type": "execute_result"
    }
   ],
   "source": [
    "unsplash_milvus.create_index(\"embedding\", index)"
   ]
  },
  {
   "cell_type": "code",
   "execution_count": null,
   "id": "d56617a3-9a62-4272-94e7-ba20f3390947",
   "metadata": {},
   "outputs": [],
   "source": []
  },
  {
   "cell_type": "code",
   "execution_count": 37,
   "id": "5a7d498c-d3dd-477e-91e4-0cf45d96e37f",
   "metadata": {},
   "outputs": [
    {
     "data": {
      "text/plain": [
       "[<pymilvus.orm.index.Index at 0x7f1c7b845b10>]"
      ]
     },
     "execution_count": 37,
     "metadata": {},
     "output_type": "execute_result"
    }
   ],
   "source": [
    "unsplash_milvus.indexes"
   ]
  },
  {
   "cell_type": "code",
   "execution_count": null,
   "id": "8098fbe1-b2ff-4408-9475-2ae63ffcdac5",
   "metadata": {},
   "outputs": [],
   "source": []
  },
  {
   "cell_type": "markdown",
   "id": "b236533f-c9b4-4c38-b5c6-970685c41595",
   "metadata": {},
   "source": [
    "load the index into memory"
   ]
  },
  {
   "cell_type": "code",
   "execution_count": 38,
   "id": "34a644cc-5235-4e3e-97b9-b6fcfe1e223d",
   "metadata": {},
   "outputs": [],
   "source": [
    "unsplash_milvus.load()\n"
   ]
  },
  {
   "cell_type": "code",
   "execution_count": null,
   "id": "e72bb06f-fdfe-4fb6-a520-b809cdd45f45",
   "metadata": {},
   "outputs": [],
   "source": []
  },
  {
   "cell_type": "code",
   "execution_count": null,
   "id": "fea19b9f-9755-460e-a50a-11913d10e4de",
   "metadata": {},
   "outputs": [],
   "source": []
  },
  {
   "cell_type": "markdown",
   "id": "bb6218c7-9dfc-494e-b280-6762ff5521b0",
   "metadata": {},
   "source": [
    "## Embedding Retrieval"
   ]
  },
  {
   "cell_type": "code",
   "execution_count": 39,
   "id": "b891e42e-d037-438f-9efc-0edca1283d29",
   "metadata": {},
   "outputs": [],
   "source": [
    "search_params = {\n",
    "    \"metric_type\": \"IP\",\n",
    "    \"params\": {\"nprobe\": 1}\n",
    "    \n",
    "}\n",
    "# n_probe = number of clusters to search [1 , n_list]"
   ]
  },
  {
   "cell_type": "code",
   "execution_count": null,
   "id": "5587d0d5-c93b-4926-9fdb-cfb7ba6e4571",
   "metadata": {},
   "outputs": [],
   "source": []
  },
  {
   "cell_type": "code",
   "execution_count": 40,
   "id": "bfb8cd5b-ec0f-41a5-9d28-187cbc784b3c",
   "metadata": {},
   "outputs": [],
   "source": [
    "vectors_to_search = list(df.iloc[0:1]['embedding'])\n",
    "\n",
    "\n",
    "\n",
    "\n",
    "\n"
   ]
  },
  {
   "cell_type": "code",
   "execution_count": 41,
   "id": "b1ffa576-94dd-4967-aae4-1833a7bbbce9",
   "metadata": {},
   "outputs": [
    {
     "data": {
      "text/plain": [
       "'Woman exploring a forest'"
      ]
     },
     "execution_count": 41,
     "metadata": {},
     "output_type": "execute_result"
    }
   ],
   "source": [
    "df.iloc[0].to_dict()['description_final']"
   ]
  },
  {
   "cell_type": "code",
   "execution_count": 42,
   "id": "ae737327-e099-4709-bc10-27aabd3bbedc",
   "metadata": {},
   "outputs": [
    {
     "data": {
      "text/plain": [
       "(1, 384)"
      ]
     },
     "execution_count": 42,
     "metadata": {},
     "output_type": "execute_result"
    }
   ],
   "source": [
    "len(vectors_to_search) , len(vectors_to_search[0])"
   ]
  },
  {
   "cell_type": "code",
   "execution_count": 43,
   "id": "33915efe-ac24-4e06-af4e-e855b98c6744",
   "metadata": {},
   "outputs": [
    {
     "name": "stdout",
     "output_type": "stream",
     "text": [
      "CPU times: user 6.99 ms, sys: 946 µs, total: 7.93 ms\n",
      "Wall time: 206 ms\n"
     ]
    }
   ],
   "source": [
    "%%time\n",
    "result = unsplash_milvus.search(data=vectors_to_search, anns_field=\"embedding\", param=search_params, limit=3\n",
    "                                     , output_fields=[\"photo_id\",\"description_final\"]\n",
    "                                    \n",
    "                                    )\n"
   ]
  },
  {
   "cell_type": "code",
   "execution_count": 44,
   "id": "553202a4-bccc-464b-9662-c7f0f5a594dd",
   "metadata": {},
   "outputs": [
    {
     "name": "stdout",
     "output_type": "stream",
     "text": [
      "hit: (distance: 1.0, id: XMyPniM9LF0), score:1.0 id: XMyPniM9LF0 , data:{'photo_id': 'XMyPniM9LF0', 'description_final': 'Woman exploring a forest'} \n",
      "hit: (distance: 0.7896709442138672, id: RKNE63GLNAo), score:0.7896709442138672 id: RKNE63GLNAo , data:{'photo_id': 'RKNE63GLNAo', 'description_final': 'woman walking around forest'} \n",
      "hit: (distance: 0.7623971700668335, id: wPwXGGG2HyI), score:0.7623971700668335 id: wPwXGGG2HyI , data:{'photo_id': 'wPwXGGG2HyI', 'description_final': 'Woman in a shirt in a forest'} \n"
     ]
    }
   ],
   "source": [
    "for hits in result:\n",
    "    for hit in hits:\n",
    "        print(f\"hit: {hit}, score:{hit.score} id: {hit.entity.get('photo_id')} , data:{hit.entity._row_data} \")"
   ]
  },
  {
   "cell_type": "markdown",
   "id": "bd7b8bdc-1226-436c-a068-0924df98afbf",
   "metadata": {},
   "source": [
    "just like ES, we get the id , score , and the metadata when inderted"
   ]
  },
  {
   "cell_type": "code",
   "execution_count": null,
   "id": "6b99e031-9ba0-4353-8680-3241daa344bc",
   "metadata": {},
   "outputs": [],
   "source": []
  },
  {
   "cell_type": "code",
   "execution_count": null,
   "id": "e7148c4d-7f1f-43fc-8b77-fff1d4d00bd0",
   "metadata": {},
   "outputs": [],
   "source": []
  },
  {
   "cell_type": "code",
   "execution_count": null,
   "id": "73c7d15f-77cd-4c79-bbb0-5b8fc656281a",
   "metadata": {},
   "outputs": [],
   "source": []
  },
  {
   "cell_type": "code",
   "execution_count": 52,
   "id": "ff1ee9de-5b03-419f-9368-8d52b29c8f81",
   "metadata": {},
   "outputs": [],
   "source": [
    "def find_results(query:str , k =5):\n",
    "    \"\"\"\n",
    "    Prints K nearest neighbors similar to the input query.\n",
    "    Parameters\n",
    "    ------------\n",
    "    query: str\n",
    "        Input query.\n",
    "    k: int\n",
    "        Nearest neighbors to fetch.\n",
    "    \"\"\"\n",
    "    \n",
    "    # Generate the embeddings for the query.\n",
    "    query_features = model.encode(query, normalize_embeddings=True)\n",
    "    query_features =np.expand_dims(query_features, axis=0)\n",
    "    \n",
    "    \n",
    "    \n",
    "    # Perform the dot product between query embeddings and image embeddings \n",
    "    #doc_scores = query_features @ corpus.T\n",
    "    \n",
    "    result = unsplash_milvus.search(data=query_features, anns_field=\"embedding\", param=search_params, limit=3\n",
    "                                     , output_fields=[\"photo_id\",\"description_final\",\"photographer_username\",\"photographer_first_name\",\"photographer_last_name\",\"photo_image_url\"]\n",
    "                                    \n",
    "                                    )\n",
    "    \n",
    "\n",
    "    \n",
    "\n",
    "    display(HTML(f\"<h4>Query: {query} </h4>\"))\n",
    "    \n",
    "    # Iterate over the top k results\n",
    "    for hits in result:\n",
    "        for hit in hits:\n",
    "            \n",
    "            photo_data = hit.entity._row_data\n",
    "            \n",
    "            display(Image(url=photo_data[\"photo_image_url\"] + \"?w=200\"))\n",
    "            \n",
    "            # Display the attribution text\n",
    "            display(HTML(f\"\"\"\n",
    "                         Photo title: {photo_data[\"description_final\"]}   <br/>\n",
    "                         Photo by <a href=\"https://unsplash.com/@{photo_data[\"photographer_username\"]}?utm_source=SearchWorkshop&utm_medium=referral\">{photo_data[\"photographer_first_name\"]} {photo_data[\"photographer_last_name\"]}</a> on <a href=\"https://unsplash.com/?utm_source=SearchWorkshop&utm_medium=referral\">Unsplash</a> <br/>\n",
    "                         Distance: {hit.score}\n",
    "                         \"\"\"\n",
    "                                            ))\n",
    "            print()\n",
    "        \n",
    "            \n"
   ]
  },
  {
   "cell_type": "code",
   "execution_count": null,
   "id": "0ac6111b-e98c-430e-be82-ec3fd7f47539",
   "metadata": {},
   "outputs": [],
   "source": []
  },
  {
   "cell_type": "code",
   "execution_count": null,
   "id": "62d2a2c1-b17f-41e2-a158-56963552a65a",
   "metadata": {},
   "outputs": [],
   "source": []
  },
  {
   "cell_type": "code",
   "execution_count": 53,
   "id": "88fdc88e-5a8b-4098-a2c8-f0a743ef1d22",
   "metadata": {},
   "outputs": [
    {
     "data": {
      "text/html": [
       "<h4>Query: Two dogs playing in the snow </h4>"
      ],
      "text/plain": [
       "<IPython.core.display.HTML object>"
      ]
     },
     "metadata": {},
     "output_type": "display_data"
    },
    {
     "data": {
      "text/html": [
       "<img src=\"https://images.unsplash.com/photo-1577366761509-937637f02454?w=200\"/>"
      ],
      "text/plain": [
       "<IPython.core.display.Image object>"
      ]
     },
     "metadata": {},
     "output_type": "display_data"
    },
    {
     "data": {
      "text/html": [
       "\n",
       "                         Photo title: brown and black dogs running on snow   <br/>\n",
       "                         Photo by <a href=\"https://unsplash.com/@lukavovk?utm_source=SearchWorkshop&utm_medium=referral\">Luka Vovk</a> on <a href=\"https://unsplash.com/?utm_source=SearchWorkshop&utm_medium=referral\">Unsplash</a> <br/>\n",
       "                         Distance: 0.7353920340538025\n",
       "                         "
      ],
      "text/plain": [
       "<IPython.core.display.HTML object>"
      ]
     },
     "metadata": {},
     "output_type": "display_data"
    },
    {
     "name": "stdout",
     "output_type": "stream",
     "text": [
      "\n"
     ]
    },
    {
     "data": {
      "text/html": [
       "<img src=\"https://images.unsplash.com/photo-1546717689-5955401cd6b2?w=200\"/>"
      ],
      "text/plain": [
       "<IPython.core.display.Image object>"
      ]
     },
     "metadata": {},
     "output_type": "display_data"
    },
    {
     "data": {
      "text/html": [
       "\n",
       "                         Photo title: tan dog playing on snow   <br/>\n",
       "                         Photo by <a href=\"https://unsplash.com/@hitterphoto?utm_source=SearchWorkshop&utm_medium=referral\">Hitter Rudolf</a> on <a href=\"https://unsplash.com/?utm_source=SearchWorkshop&utm_medium=referral\">Unsplash</a> <br/>\n",
       "                         Distance: 0.6460988521575928\n",
       "                         "
      ],
      "text/plain": [
       "<IPython.core.display.HTML object>"
      ]
     },
     "metadata": {},
     "output_type": "display_data"
    },
    {
     "name": "stdout",
     "output_type": "stream",
     "text": [
      "\n"
     ]
    },
    {
     "data": {
      "text/html": [
       "<img src=\"https://images.unsplash.com/photo-1547494912-c69d3ad40e7f?w=200\"/>"
      ],
      "text/plain": [
       "<IPython.core.display.Image object>"
      ]
     },
     "metadata": {},
     "output_type": "display_data"
    },
    {
     "data": {
      "text/html": [
       "\n",
       "                         Photo title: white and black dog on snow field   <br/>\n",
       "                         Photo by <a href=\"https://unsplash.com/@tadekl?utm_source=SearchWorkshop&utm_medium=referral\">Tadeusz Lakota</a> on <a href=\"https://unsplash.com/?utm_source=SearchWorkshop&utm_medium=referral\">Unsplash</a> <br/>\n",
       "                         Distance: 0.6322717666625977\n",
       "                         "
      ],
      "text/plain": [
       "<IPython.core.display.HTML object>"
      ]
     },
     "metadata": {},
     "output_type": "display_data"
    },
    {
     "name": "stdout",
     "output_type": "stream",
     "text": [
      "\n"
     ]
    }
   ],
   "source": [
    "find_results( \"Two dogs playing in the snow\")"
   ]
  },
  {
   "cell_type": "code",
   "execution_count": null,
   "id": "ab75dabb-1fbc-45a4-9985-5f446898a265",
   "metadata": {},
   "outputs": [],
   "source": []
  },
  {
   "cell_type": "code",
   "execution_count": null,
   "id": "0dd22603-bdc7-4727-85c7-47b314b01326",
   "metadata": {},
   "outputs": [],
   "source": []
  },
  {
   "cell_type": "code",
   "execution_count": 54,
   "id": "e4135300-f814-4995-b22c-bc83138bfac0",
   "metadata": {},
   "outputs": [
    {
     "data": {
      "text/html": [
       "<h4>Query: boy and girl on a beach </h4>"
      ],
      "text/plain": [
       "<IPython.core.display.HTML object>"
      ]
     },
     "metadata": {},
     "output_type": "display_data"
    },
    {
     "data": {
      "text/html": [
       "<img src=\"https://images.unsplash.com/uploads/14122598645355eb0b65d/d1524764?w=200\"/>"
      ],
      "text/plain": [
       "<IPython.core.display.Image object>"
      ]
     },
     "metadata": {},
     "output_type": "display_data"
    },
    {
     "data": {
      "text/html": [
       "\n",
       "                         Photo title: children enjoying the beach   <br/>\n",
       "                         Photo by <a href=\"https://unsplash.com/@epicantus?utm_source=SearchWorkshop&utm_medium=referral\">Daria Nepriakhina</a> on <a href=\"https://unsplash.com/?utm_source=SearchWorkshop&utm_medium=referral\">Unsplash</a> <br/>\n",
       "                         Distance: 0.7077873945236206\n",
       "                         "
      ],
      "text/plain": [
       "<IPython.core.display.HTML object>"
      ]
     },
     "metadata": {},
     "output_type": "display_data"
    },
    {
     "name": "stdout",
     "output_type": "stream",
     "text": [
      "\n"
     ]
    },
    {
     "data": {
      "text/html": [
       "<img src=\"https://images.unsplash.com/photo-1432105214010-ae5e45b2cebb?w=200\"/>"
      ],
      "text/plain": [
       "<IPython.core.display.Image object>"
      ]
     },
     "metadata": {},
     "output_type": "display_data"
    },
    {
     "data": {
      "text/html": [
       "\n",
       "                         Photo title: Couple on the beach   <br/>\n",
       "                         Photo by <a href=\"https://unsplash.com/@scottwebb?utm_source=SearchWorkshop&utm_medium=referral\">Scott Webb</a> on <a href=\"https://unsplash.com/?utm_source=SearchWorkshop&utm_medium=referral\">Unsplash</a> <br/>\n",
       "                         Distance: 0.6981672048568726\n",
       "                         "
      ],
      "text/plain": [
       "<IPython.core.display.HTML object>"
      ]
     },
     "metadata": {},
     "output_type": "display_data"
    },
    {
     "name": "stdout",
     "output_type": "stream",
     "text": [
      "\n"
     ]
    },
    {
     "data": {
      "text/html": [
       "<img src=\"https://images.unsplash.com/photo-1572986349976-5b54a901b36b?w=200\"/>"
      ],
      "text/plain": [
       "<IPython.core.display.Image object>"
      ]
     },
     "metadata": {},
     "output_type": "display_data"
    },
    {
     "data": {
      "text/html": [
       "\n",
       "                         Photo title: people at beach   <br/>\n",
       "                         Photo by <a href=\"https://unsplash.com/@anton_lammert?utm_source=SearchWorkshop&utm_medium=referral\">Anton Lammert</a> on <a href=\"https://unsplash.com/?utm_source=SearchWorkshop&utm_medium=referral\">Unsplash</a> <br/>\n",
       "                         Distance: 0.6872389912605286\n",
       "                         "
      ],
      "text/plain": [
       "<IPython.core.display.HTML object>"
      ]
     },
     "metadata": {},
     "output_type": "display_data"
    },
    {
     "name": "stdout",
     "output_type": "stream",
     "text": [
      "\n"
     ]
    }
   ],
   "source": [
    "find_results( \"boy and girl on a beach\")"
   ]
  },
  {
   "cell_type": "code",
   "execution_count": null,
   "id": "2fdbe7dc-3b69-4eea-a0c9-ad7e9beefcb3",
   "metadata": {},
   "outputs": [],
   "source": []
  },
  {
   "cell_type": "code",
   "execution_count": null,
   "id": "3f014b1e-e810-4523-8717-2b9cfd1fe9ef",
   "metadata": {},
   "outputs": [],
   "source": []
  },
  {
   "cell_type": "code",
   "execution_count": null,
   "id": "7d22bd79-da3b-4442-abbf-4e469b6cfdcb",
   "metadata": {},
   "outputs": [],
   "source": []
  },
  {
   "cell_type": "code",
   "execution_count": 55,
   "id": "96b8222c-a46f-4ea2-bf48-11fde5f781ae",
   "metadata": {},
   "outputs": [
    {
     "data": {
      "text/html": [
       "<h4>Query: image of a man in a desert </h4>"
      ],
      "text/plain": [
       "<IPython.core.display.HTML object>"
      ]
     },
     "metadata": {},
     "output_type": "display_data"
    },
    {
     "data": {
      "text/html": [
       "<img src=\"https://images.unsplash.com/photo-1543182791-a5e80144e4cc?w=200\"/>"
      ],
      "text/plain": [
       "<IPython.core.display.Image object>"
      ]
     },
     "metadata": {},
     "output_type": "display_data"
    },
    {
     "data": {
      "text/html": [
       "\n",
       "                         Photo title: person on desert   <br/>\n",
       "                         Photo by <a href=\"https://unsplash.com/@jeremybishop?utm_source=SearchWorkshop&utm_medium=referral\">Jeremy Bishop</a> on <a href=\"https://unsplash.com/?utm_source=SearchWorkshop&utm_medium=referral\">Unsplash</a> <br/>\n",
       "                         Distance: 0.7813374400138855\n",
       "                         "
      ],
      "text/plain": [
       "<IPython.core.display.HTML object>"
      ]
     },
     "metadata": {},
     "output_type": "display_data"
    },
    {
     "name": "stdout",
     "output_type": "stream",
     "text": [
      "\n"
     ]
    },
    {
     "data": {
      "text/html": [
       "<img src=\"https://images.unsplash.com/photo-1551286663-102d2d654aa0?w=200\"/>"
      ],
      "text/plain": [
       "<IPython.core.display.Image object>"
      ]
     },
     "metadata": {},
     "output_type": "display_data"
    },
    {
     "data": {
      "text/html": [
       "\n",
       "                         Photo title: man standing at desert   <br/>\n",
       "                         Photo by <a href=\"https://unsplash.com/@davidmonje?utm_source=SearchWorkshop&utm_medium=referral\">David Monje</a> on <a href=\"https://unsplash.com/?utm_source=SearchWorkshop&utm_medium=referral\">Unsplash</a> <br/>\n",
       "                         Distance: 0.7386585474014282\n",
       "                         "
      ],
      "text/plain": [
       "<IPython.core.display.HTML object>"
      ]
     },
     "metadata": {},
     "output_type": "display_data"
    },
    {
     "name": "stdout",
     "output_type": "stream",
     "text": [
      "\n"
     ]
    },
    {
     "data": {
      "text/html": [
       "<img src=\"https://images.unsplash.com/photo-1567713002938-648baf71966e?w=200\"/>"
      ],
      "text/plain": [
       "<IPython.core.display.Image object>"
      ]
     },
     "metadata": {},
     "output_type": "display_data"
    },
    {
     "data": {
      "text/html": [
       "\n",
       "                         Photo title: silhouette of person standing on desert   <br/>\n",
       "                         Photo by <a href=\"https://unsplash.com/@dav_billings?utm_source=SearchWorkshop&utm_medium=referral\">David Billings</a> on <a href=\"https://unsplash.com/?utm_source=SearchWorkshop&utm_medium=referral\">Unsplash</a> <br/>\n",
       "                         Distance: 0.7260806560516357\n",
       "                         "
      ],
      "text/plain": [
       "<IPython.core.display.HTML object>"
      ]
     },
     "metadata": {},
     "output_type": "display_data"
    },
    {
     "name": "stdout",
     "output_type": "stream",
     "text": [
      "\n"
     ]
    }
   ],
   "source": [
    "find_results( \"image of a man in a desert\")"
   ]
  },
  {
   "cell_type": "code",
   "execution_count": null,
   "id": "b35efe1b-c973-432e-9fa3-47777e9ed6ed",
   "metadata": {},
   "outputs": [],
   "source": []
  },
  {
   "cell_type": "code",
   "execution_count": null,
   "id": "481c4649-02bb-4b75-80e1-b2609fca3371",
   "metadata": {},
   "outputs": [],
   "source": []
  },
  {
   "cell_type": "code",
   "execution_count": 56,
   "id": "8195f668-ea93-47eb-8ef8-c32bd8634d9d",
   "metadata": {},
   "outputs": [
    {
     "data": {
      "text/html": [
       "<h4>Query: light at the end of the tunnel </h4>"
      ],
      "text/plain": [
       "<IPython.core.display.HTML object>"
      ]
     },
     "metadata": {},
     "output_type": "display_data"
    },
    {
     "data": {
      "text/html": [
       "<img src=\"https://images.unsplash.com/photo-1573261264587-595065291d3d?w=200\"/>"
      ],
      "text/plain": [
       "<IPython.core.display.Image object>"
      ]
     },
     "metadata": {},
     "output_type": "display_data"
    },
    {
     "data": {
      "text/html": [
       "\n",
       "                         Photo title: Light Keyhole   <br/>\n",
       "                         Photo by <a href=\"https://unsplash.com/@polipond?utm_source=SearchWorkshop&utm_medium=referral\">Leon LEE</a> on <a href=\"https://unsplash.com/?utm_source=SearchWorkshop&utm_medium=referral\">Unsplash</a> <br/>\n",
       "                         Distance: 0.5932173728942871\n",
       "                         "
      ],
      "text/plain": [
       "<IPython.core.display.HTML object>"
      ]
     },
     "metadata": {},
     "output_type": "display_data"
    },
    {
     "name": "stdout",
     "output_type": "stream",
     "text": [
      "\n"
     ]
    },
    {
     "data": {
      "text/html": [
       "<img src=\"https://images.unsplash.com/photo-1582863841965-17bd0300b215?w=200\"/>"
      ],
      "text/plain": [
       "<IPython.core.display.Image object>"
      ]
     },
     "metadata": {},
     "output_type": "display_data"
    },
    {
     "data": {
      "text/html": [
       "\n",
       "                         Photo title: light direction   <br/>\n",
       "                         Photo by <a href=\"https://unsplash.com/@kennyzhang29?utm_source=SearchWorkshop&utm_medium=referral\">Zhang Kenny</a> on <a href=\"https://unsplash.com/?utm_source=SearchWorkshop&utm_medium=referral\">Unsplash</a> <br/>\n",
       "                         Distance: 0.5392670035362244\n",
       "                         "
      ],
      "text/plain": [
       "<IPython.core.display.HTML object>"
      ]
     },
     "metadata": {},
     "output_type": "display_data"
    },
    {
     "name": "stdout",
     "output_type": "stream",
     "text": [
      "\n"
     ]
    },
    {
     "data": {
      "text/html": [
       "<img src=\"https://images.unsplash.com/photo-1573805880842-0ca6a84a82ac?w=200\"/>"
      ],
      "text/plain": [
       "<IPython.core.display.Image object>"
      ]
     },
     "metadata": {},
     "output_type": "display_data"
    },
    {
     "data": {
      "text/html": [
       "\n",
       "                         Photo title: Catching the light   <br/>\n",
       "                         Photo by <a href=\"https://unsplash.com/@ingmarr?utm_source=SearchWorkshop&utm_medium=referral\">Ingmar </a> on <a href=\"https://unsplash.com/?utm_source=SearchWorkshop&utm_medium=referral\">Unsplash</a> <br/>\n",
       "                         Distance: 0.4985455870628357\n",
       "                         "
      ],
      "text/plain": [
       "<IPython.core.display.HTML object>"
      ]
     },
     "metadata": {},
     "output_type": "display_data"
    },
    {
     "name": "stdout",
     "output_type": "stream",
     "text": [
      "\n"
     ]
    }
   ],
   "source": [
    "find_results( \"light at the end of the tunnel\")"
   ]
  },
  {
   "cell_type": "code",
   "execution_count": null,
   "id": "d7a2555c-3bcd-4b4e-a8c4-5021c11ae3a7",
   "metadata": {},
   "outputs": [],
   "source": []
  },
  {
   "cell_type": "code",
   "execution_count": null,
   "id": "adeb699a-1a4a-4011-b579-99929d4b2c71",
   "metadata": {},
   "outputs": [],
   "source": []
  },
  {
   "cell_type": "markdown",
   "id": "a1c62e90-816d-4770-909b-54e447ee1dcc",
   "metadata": {},
   "source": [
    "## timing"
   ]
  },
  {
   "cell_type": "code",
   "execution_count": 57,
   "id": "03db9e5d-94c2-4385-91ff-d3e309baa968",
   "metadata": {},
   "outputs": [
    {
     "name": "stdout",
     "output_type": "stream",
     "text": [
      "200 ms ± 735 µs per loop (mean ± std. dev. of 7 runs, 1 loop each)\n"
     ]
    }
   ],
   "source": [
    "%%timeit\n",
    "search_query = \"Two dogs playing in the snow\"\n",
    "k=5\n",
    "text_features = model.encode(search_query)\n",
    "\n",
    "\n",
    "result = unsplash_milvus.search(data=[text_features], anns_field=\"embedding\", param=search_params, limit=k\n",
    "                                     , output_fields=[\"photo_id\",\"description_final\"]\n",
    "                                    \n",
    "                                    )"
   ]
  },
  {
   "cell_type": "code",
   "execution_count": null,
   "id": "3b594c9d-b5bd-4102-ba19-b0e45079cdf6",
   "metadata": {},
   "outputs": [],
   "source": []
  }
 ],
 "metadata": {
  "environment": {
   "kernel": "py38",
   "name": "pytorch-gpu.1-12.m99",
   "type": "gcloud",
   "uri": "gcr.io/deeplearning-platform-release/pytorch-gpu.1-12:m99"
  },
  "kernelspec": {
   "display_name": "Python [conda env:root] *",
   "language": "python",
   "name": "conda-root-py"
  },
  "language_info": {
   "codemirror_mode": {
    "name": "ipython",
    "version": 3
   },
   "file_extension": ".py",
   "mimetype": "text/x-python",
   "name": "python",
   "nbconvert_exporter": "python",
   "pygments_lexer": "ipython3",
   "version": "3.7.12"
  }
 },
 "nbformat": 4,
 "nbformat_minor": 5
}
