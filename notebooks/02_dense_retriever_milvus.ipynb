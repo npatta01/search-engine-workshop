{
 "cells": [
  {
   "cell_type": "code",
   "execution_count": 1,
   "id": "d8e9589b-da2c-4a36-a260-36a4f72997cf",
   "metadata": {
    "tags": []
   },
   "outputs": [],
   "source": [
    "# !pip install -U pandas pinecone-client sentence-transformers\n"
   ]
  },
  {
   "cell_type": "code",
   "execution_count": null,
   "id": "497ca438-ed72-44c4-b029-dfe40d24b697",
   "metadata": {},
   "outputs": [],
   "source": []
  },
  {
   "cell_type": "markdown",
   "id": "18269eb9-193d-491b-9a4b-13e864146fb2",
   "metadata": {},
   "source": [
    "# Dense Retriever"
   ]
  },
  {
   "cell_type": "markdown",
   "id": "ff7964ce-ee3c-4cdf-b8f2-37dcf45006ab",
   "metadata": {},
   "source": [
    "This is a sentence-transformers model: It maps sentences & paragraphs to a 384 dimensional dense vector space and can be used for tasks like clustering or semantic search.\n",
    "\n",
    "\n",
    "\n",
    "The project aims to train sentence embedding models on very large sentence level datasets using a self-supervised contrastive learning objective. We used the pretrained nreimers/MiniLM-L6-H384-uncased model and fine-tuned in on a 1B sentence pairs dataset. We use a contrastive learning objective: given a sentence from the pair, the model should predict which out of a set of randomly sampled other sentences, was actually paired with it in our dataset.\n",
    "\n",
    "\n",
    "\n",
    "\n",
    "[Doc](https://huggingface.co/sentence-transformers/all-MiniLM-L6-v2)"
   ]
  },
  {
   "cell_type": "code",
   "execution_count": null,
   "id": "63604938-8d33-44b8-9081-85c5db3a3cc8",
   "metadata": {},
   "outputs": [],
   "source": []
  },
  {
   "cell_type": "code",
   "execution_count": 2,
   "id": "b352bcd9-d1c4-4846-b3d8-efd63ae3255d",
   "metadata": {},
   "outputs": [],
   "source": [
    "from sentence_transformers import SentenceTransformer\n",
    "\n",
    "import datasets\n",
    "import rich\n",
    "from IPython.display import Image, JSON\n",
    "from IPython.core.display import HTML\n",
    "import numpy as np\n",
    "\n",
    "from transformers import AutoTokenizer\n",
    "from pymilvus import (\n",
    "    connections,\n",
    "    utility,\n",
    "    FieldSchema, CollectionSchema, DataType,\n",
    "    Collection,\n",
    ")\n",
    "import pymilvus"
   ]
  },
  {
   "cell_type": "code",
   "execution_count": null,
   "id": "a51e4d05-d325-4c8f-b184-d2aa634b7fcf",
   "metadata": {},
   "outputs": [],
   "source": []
  },
  {
   "cell_type": "code",
   "execution_count": null,
   "id": "b79a0ebd-ca41-4a8d-a700-41003fe13d27",
   "metadata": {},
   "outputs": [],
   "source": []
  },
  {
   "cell_type": "code",
   "execution_count": 3,
   "id": "58510833-873a-46d4-a364-715c4c3a53dd",
   "metadata": {},
   "outputs": [],
   "source": [
    "model_name = 'sentence-transformers/all-MiniLM-L6-v2'"
   ]
  },
  {
   "cell_type": "code",
   "execution_count": 4,
   "id": "ef7e8dff-3805-4b25-9bae-6ce925e00c6f",
   "metadata": {},
   "outputs": [
    {
     "data": {
      "text/plain": [
       "SentenceTransformer(\n",
       "  (0): Transformer({'max_seq_length': 256, 'do_lower_case': False}) with Transformer model: BertModel \n",
       "  (1): Pooling({'word_embedding_dimension': 384, 'pooling_mode_cls_token': False, 'pooling_mode_mean_tokens': True, 'pooling_mode_max_tokens': False, 'pooling_mode_mean_sqrt_len_tokens': False})\n",
       "  (2): Normalize()\n",
       ")"
      ]
     },
     "execution_count": 4,
     "metadata": {},
     "output_type": "execute_result"
    }
   ],
   "source": [
    "\n",
    "# Initialize retriever with SentenceTransformer model \n",
    "model = SentenceTransformer(model_name)\n",
    "model"
   ]
  },
  {
   "cell_type": "code",
   "execution_count": null,
   "id": "4488d1d2-1450-41ac-a8bf-704435235daf",
   "metadata": {},
   "outputs": [],
   "source": []
  },
  {
   "cell_type": "markdown",
   "id": "129a663f-223a-43ef-97b6-62d7af0ee1f3",
   "metadata": {},
   "source": [
    "## Tokenizer"
   ]
  },
  {
   "cell_type": "code",
   "execution_count": 5,
   "id": "e84a0052-9f25-4b34-8678-aaa2c964ccc6",
   "metadata": {},
   "outputs": [
    {
     "data": {
      "text/html": [
       "<pre style=\"white-space:pre;overflow-x:auto;line-height:normal;font-family:Menlo,'DejaVu Sans Mono',consolas,'Courier New',monospace\"><span style=\"font-weight: bold\">{</span>\n",
       "    <span style=\"color: #008000; text-decoration-color: #008000\">'input_ids'</span>: <span style=\"color: #800080; text-decoration-color: #800080; font-weight: bold\">tensor</span><span style=\"font-weight: bold\">([</span>  <span style=\"color: #008080; text-decoration-color: #008080; font-weight: bold\">101</span>,  <span style=\"color: #008080; text-decoration-color: #008080; font-weight: bold\">2054</span>,  <span style=\"color: #008080; text-decoration-color: #008080; font-weight: bold\">2515</span>,  <span style=\"color: #008080; text-decoration-color: #008080; font-weight: bold\">1005</span>,  <span style=\"color: #008080; text-decoration-color: #008080; font-weight: bold\">3565</span>,  <span style=\"color: #008080; text-decoration-color: #008080; font-weight: bold\">1005</span>,  <span style=\"color: #008080; text-decoration-color: #008080; font-weight: bold\">2079</span>,  <span style=\"color: #008080; text-decoration-color: #008080; font-weight: bold\">1999</span>, <span style=\"color: #008080; text-decoration-color: #008080; font-weight: bold\">18750</span>,  <span style=\"color: #008080; text-decoration-color: #008080; font-weight: bold\">1029</span>,\n",
       "         <span style=\"color: #008080; text-decoration-color: #008080; font-weight: bold\">1011</span>,  <span style=\"color: #008080; text-decoration-color: #008080; font-weight: bold\">4489</span>,  <span style=\"color: #008080; text-decoration-color: #008080; font-weight: bold\">2090</span>,  <span style=\"color: #008080; text-decoration-color: #008080; font-weight: bold\">3565</span>,  <span style=\"color: #008080; text-decoration-color: #008080; font-weight: bold\">1006</span>,  <span style=\"color: #008080; text-decoration-color: #008080; font-weight: bold\">1007</span>,  <span style=\"color: #008080; text-decoration-color: #008080; font-weight: bold\">1012</span>,  <span style=\"color: #008080; text-decoration-color: #008080; font-weight: bold\">1035</span>,  <span style=\"color: #008080; text-decoration-color: #008080; font-weight: bold\">1035</span>,  <span style=\"color: #008080; text-decoration-color: #008080; font-weight: bold\">1999</span>,\n",
       "         <span style=\"color: #008080; text-decoration-color: #008080; font-weight: bold\">4183</span>,  <span style=\"color: #008080; text-decoration-color: #008080; font-weight: bold\">1035</span>,  <span style=\"color: #008080; text-decoration-color: #008080; font-weight: bold\">1035</span>,  <span style=\"color: #008080; text-decoration-color: #008080; font-weight: bold\">1006</span>,  <span style=\"color: #008080; text-decoration-color: #008080; font-weight: bold\">1007</span>,  <span style=\"color: #008080; text-decoration-color: #008080; font-weight: bold\">1998</span>, <span style=\"color: #008080; text-decoration-color: #008080; font-weight: bold\">13216</span>,  <span style=\"color: #008080; text-decoration-color: #008080; font-weight: bold\">3565</span>, <span style=\"color: #008080; text-decoration-color: #008080; font-weight: bold\">26266</span>,  <span style=\"color: #008080; text-decoration-color: #008080; font-weight: bold\">1035</span>,\n",
       "         <span style=\"color: #008080; text-decoration-color: #008080; font-weight: bold\">1035</span>,  <span style=\"color: #008080; text-decoration-color: #008080; font-weight: bold\">1999</span>,  <span style=\"color: #008080; text-decoration-color: #008080; font-weight: bold\">4183</span>,  <span style=\"color: #008080; text-decoration-color: #008080; font-weight: bold\">1035</span>,  <span style=\"color: #008080; text-decoration-color: #008080; font-weight: bold\">1035</span>,  <span style=\"color: #008080; text-decoration-color: #008080; font-weight: bold\">1006</span>,  <span style=\"color: #008080; text-decoration-color: #008080; font-weight: bold\">1007</span>,   <span style=\"color: #008080; text-decoration-color: #008080; font-weight: bold\">102</span><span style=\"font-weight: bold\">])</span>,\n",
       "    <span style=\"color: #008000; text-decoration-color: #008000\">'token_type_ids'</span>: <span style=\"color: #800080; text-decoration-color: #800080; font-weight: bold\">tensor</span><span style=\"font-weight: bold\">([</span><span style=\"color: #008080; text-decoration-color: #008080; font-weight: bold\">0</span>, <span style=\"color: #008080; text-decoration-color: #008080; font-weight: bold\">0</span>, <span style=\"color: #008080; text-decoration-color: #008080; font-weight: bold\">0</span>, <span style=\"color: #008080; text-decoration-color: #008080; font-weight: bold\">0</span>, <span style=\"color: #008080; text-decoration-color: #008080; font-weight: bold\">0</span>, <span style=\"color: #008080; text-decoration-color: #008080; font-weight: bold\">0</span>, <span style=\"color: #008080; text-decoration-color: #008080; font-weight: bold\">0</span>, <span style=\"color: #008080; text-decoration-color: #008080; font-weight: bold\">0</span>, <span style=\"color: #008080; text-decoration-color: #008080; font-weight: bold\">0</span>, <span style=\"color: #008080; text-decoration-color: #008080; font-weight: bold\">0</span>, <span style=\"color: #008080; text-decoration-color: #008080; font-weight: bold\">0</span>, <span style=\"color: #008080; text-decoration-color: #008080; font-weight: bold\">0</span>, <span style=\"color: #008080; text-decoration-color: #008080; font-weight: bold\">0</span>, <span style=\"color: #008080; text-decoration-color: #008080; font-weight: bold\">0</span>, <span style=\"color: #008080; text-decoration-color: #008080; font-weight: bold\">0</span>, <span style=\"color: #008080; text-decoration-color: #008080; font-weight: bold\">0</span>, <span style=\"color: #008080; text-decoration-color: #008080; font-weight: bold\">0</span>, <span style=\"color: #008080; text-decoration-color: #008080; font-weight: bold\">0</span>, <span style=\"color: #008080; text-decoration-color: #008080; font-weight: bold\">0</span>, <span style=\"color: #008080; text-decoration-color: #008080; font-weight: bold\">0</span>, <span style=\"color: #008080; text-decoration-color: #008080; font-weight: bold\">0</span>, <span style=\"color: #008080; text-decoration-color: #008080; font-weight: bold\">0</span>, <span style=\"color: #008080; text-decoration-color: #008080; font-weight: bold\">0</span>, <span style=\"color: #008080; text-decoration-color: #008080; font-weight: bold\">0</span>,\n",
       "        <span style=\"color: #008080; text-decoration-color: #008080; font-weight: bold\">0</span>, <span style=\"color: #008080; text-decoration-color: #008080; font-weight: bold\">0</span>, <span style=\"color: #008080; text-decoration-color: #008080; font-weight: bold\">0</span>, <span style=\"color: #008080; text-decoration-color: #008080; font-weight: bold\">0</span>, <span style=\"color: #008080; text-decoration-color: #008080; font-weight: bold\">0</span>, <span style=\"color: #008080; text-decoration-color: #008080; font-weight: bold\">0</span>, <span style=\"color: #008080; text-decoration-color: #008080; font-weight: bold\">0</span>, <span style=\"color: #008080; text-decoration-color: #008080; font-weight: bold\">0</span>, <span style=\"color: #008080; text-decoration-color: #008080; font-weight: bold\">0</span>, <span style=\"color: #008080; text-decoration-color: #008080; font-weight: bold\">0</span>, <span style=\"color: #008080; text-decoration-color: #008080; font-weight: bold\">0</span>, <span style=\"color: #008080; text-decoration-color: #008080; font-weight: bold\">0</span>, <span style=\"color: #008080; text-decoration-color: #008080; font-weight: bold\">0</span>, <span style=\"color: #008080; text-decoration-color: #008080; font-weight: bold\">0</span><span style=\"font-weight: bold\">])</span>,\n",
       "    <span style=\"color: #008000; text-decoration-color: #008000\">'attention_mask'</span>: <span style=\"color: #800080; text-decoration-color: #800080; font-weight: bold\">tensor</span><span style=\"font-weight: bold\">([</span><span style=\"color: #008080; text-decoration-color: #008080; font-weight: bold\">1</span>, <span style=\"color: #008080; text-decoration-color: #008080; font-weight: bold\">1</span>, <span style=\"color: #008080; text-decoration-color: #008080; font-weight: bold\">1</span>, <span style=\"color: #008080; text-decoration-color: #008080; font-weight: bold\">1</span>, <span style=\"color: #008080; text-decoration-color: #008080; font-weight: bold\">1</span>, <span style=\"color: #008080; text-decoration-color: #008080; font-weight: bold\">1</span>, <span style=\"color: #008080; text-decoration-color: #008080; font-weight: bold\">1</span>, <span style=\"color: #008080; text-decoration-color: #008080; font-weight: bold\">1</span>, <span style=\"color: #008080; text-decoration-color: #008080; font-weight: bold\">1</span>, <span style=\"color: #008080; text-decoration-color: #008080; font-weight: bold\">1</span>, <span style=\"color: #008080; text-decoration-color: #008080; font-weight: bold\">1</span>, <span style=\"color: #008080; text-decoration-color: #008080; font-weight: bold\">1</span>, <span style=\"color: #008080; text-decoration-color: #008080; font-weight: bold\">1</span>, <span style=\"color: #008080; text-decoration-color: #008080; font-weight: bold\">1</span>, <span style=\"color: #008080; text-decoration-color: #008080; font-weight: bold\">1</span>, <span style=\"color: #008080; text-decoration-color: #008080; font-weight: bold\">1</span>, <span style=\"color: #008080; text-decoration-color: #008080; font-weight: bold\">1</span>, <span style=\"color: #008080; text-decoration-color: #008080; font-weight: bold\">1</span>, <span style=\"color: #008080; text-decoration-color: #008080; font-weight: bold\">1</span>, <span style=\"color: #008080; text-decoration-color: #008080; font-weight: bold\">1</span>, <span style=\"color: #008080; text-decoration-color: #008080; font-weight: bold\">1</span>, <span style=\"color: #008080; text-decoration-color: #008080; font-weight: bold\">1</span>, <span style=\"color: #008080; text-decoration-color: #008080; font-weight: bold\">1</span>, <span style=\"color: #008080; text-decoration-color: #008080; font-weight: bold\">1</span>,\n",
       "        <span style=\"color: #008080; text-decoration-color: #008080; font-weight: bold\">1</span>, <span style=\"color: #008080; text-decoration-color: #008080; font-weight: bold\">1</span>, <span style=\"color: #008080; text-decoration-color: #008080; font-weight: bold\">1</span>, <span style=\"color: #008080; text-decoration-color: #008080; font-weight: bold\">1</span>, <span style=\"color: #008080; text-decoration-color: #008080; font-weight: bold\">1</span>, <span style=\"color: #008080; text-decoration-color: #008080; font-weight: bold\">1</span>, <span style=\"color: #008080; text-decoration-color: #008080; font-weight: bold\">1</span>, <span style=\"color: #008080; text-decoration-color: #008080; font-weight: bold\">1</span>, <span style=\"color: #008080; text-decoration-color: #008080; font-weight: bold\">1</span>, <span style=\"color: #008080; text-decoration-color: #008080; font-weight: bold\">1</span>, <span style=\"color: #008080; text-decoration-color: #008080; font-weight: bold\">1</span>, <span style=\"color: #008080; text-decoration-color: #008080; font-weight: bold\">1</span>, <span style=\"color: #008080; text-decoration-color: #008080; font-weight: bold\">1</span>, <span style=\"color: #008080; text-decoration-color: #008080; font-weight: bold\">1</span><span style=\"font-weight: bold\">])</span>,\n",
       "    <span style=\"color: #008000; text-decoration-color: #008000\">'token_embeddings'</span>: <span style=\"color: #800080; text-decoration-color: #800080; font-weight: bold\">tensor</span><span style=\"font-weight: bold\">([[</span><span style=\"color: #008080; text-decoration-color: #008080; font-weight: bold\">-0.4915</span>,  <span style=\"color: #008080; text-decoration-color: #008080; font-weight: bold\">0.0079</span>,  <span style=\"color: #008080; text-decoration-color: #008080; font-weight: bold\">0.1150</span>,  <span style=\"color: #808000; text-decoration-color: #808000\">...</span>,  <span style=\"color: #008080; text-decoration-color: #008080; font-weight: bold\">0.3318</span>, <span style=\"color: #008080; text-decoration-color: #008080; font-weight: bold\">-0.1832</span>, <span style=\"color: #008080; text-decoration-color: #008080; font-weight: bold\">-0.0306</span><span style=\"font-weight: bold\">]</span>,\n",
       "        <span style=\"font-weight: bold\">[</span><span style=\"color: #008080; text-decoration-color: #008080; font-weight: bold\">-0.6559</span>,  <span style=\"color: #008080; text-decoration-color: #008080; font-weight: bold\">0.0482</span>,  <span style=\"color: #008080; text-decoration-color: #008080; font-weight: bold\">0.0829</span>,  <span style=\"color: #808000; text-decoration-color: #808000\">...</span>,  <span style=\"color: #008080; text-decoration-color: #008080; font-weight: bold\">0.3092</span>,  <span style=\"color: #008080; text-decoration-color: #008080; font-weight: bold\">0.2388</span>, <span style=\"color: #008080; text-decoration-color: #008080; font-weight: bold\">-0.0171</span><span style=\"font-weight: bold\">]</span>,\n",
       "        <span style=\"font-weight: bold\">[</span><span style=\"color: #008080; text-decoration-color: #008080; font-weight: bold\">-0.7676</span>, <span style=\"color: #008080; text-decoration-color: #008080; font-weight: bold\">-0.0600</span>,  <span style=\"color: #008080; text-decoration-color: #008080; font-weight: bold\">0.0628</span>,  <span style=\"color: #808000; text-decoration-color: #808000\">...</span>,  <span style=\"color: #008080; text-decoration-color: #008080; font-weight: bold\">0.4701</span>,  <span style=\"color: #008080; text-decoration-color: #008080; font-weight: bold\">0.5587</span>, <span style=\"color: #008080; text-decoration-color: #008080; font-weight: bold\">-0.2076</span><span style=\"font-weight: bold\">]</span>,\n",
       "        <span style=\"color: #808000; text-decoration-color: #808000\">...</span>,\n",
       "        <span style=\"font-weight: bold\">[</span><span style=\"color: #008080; text-decoration-color: #008080; font-weight: bold\">-0.5866</span>,  <span style=\"color: #008080; text-decoration-color: #008080; font-weight: bold\">0.3504</span>,  <span style=\"color: #008080; text-decoration-color: #008080; font-weight: bold\">0.1313</span>,  <span style=\"color: #808000; text-decoration-color: #808000\">...</span>,  <span style=\"color: #008080; text-decoration-color: #008080; font-weight: bold\">0.5132</span>,  <span style=\"color: #008080; text-decoration-color: #008080; font-weight: bold\">0.6868</span>,  <span style=\"color: #008080; text-decoration-color: #008080; font-weight: bold\">0.3820</span><span style=\"font-weight: bold\">]</span>,\n",
       "        <span style=\"font-weight: bold\">[</span><span style=\"color: #008080; text-decoration-color: #008080; font-weight: bold\">-0.4603</span>, <span style=\"color: #008080; text-decoration-color: #008080; font-weight: bold\">-0.0785</span>,  <span style=\"color: #008080; text-decoration-color: #008080; font-weight: bold\">0.1447</span>,  <span style=\"color: #808000; text-decoration-color: #808000\">...</span>,  <span style=\"color: #008080; text-decoration-color: #008080; font-weight: bold\">0.3814</span>,  <span style=\"color: #008080; text-decoration-color: #008080; font-weight: bold\">0.2534</span>,  <span style=\"color: #008080; text-decoration-color: #008080; font-weight: bold\">0.0358</span><span style=\"font-weight: bold\">]</span>,\n",
       "        <span style=\"font-weight: bold\">[</span><span style=\"color: #008080; text-decoration-color: #008080; font-weight: bold\">-0.6221</span>, <span style=\"color: #008080; text-decoration-color: #008080; font-weight: bold\">-0.1158</span>,  <span style=\"color: #008080; text-decoration-color: #008080; font-weight: bold\">0.1800</span>,  <span style=\"color: #808000; text-decoration-color: #808000\">...</span>,  <span style=\"color: #008080; text-decoration-color: #008080; font-weight: bold\">0.5810</span>,  <span style=\"color: #008080; text-decoration-color: #008080; font-weight: bold\">0.3475</span>, <span style=\"color: #008080; text-decoration-color: #008080; font-weight: bold\">-0.0104</span><span style=\"font-weight: bold\">]])</span>,\n",
       "    <span style=\"color: #008000; text-decoration-color: #008000\">'sentence_embedding'</span>: <span style=\"color: #800080; text-decoration-color: #800080; font-weight: bold\">tensor</span><span style=\"font-weight: bold\">([</span><span style=\"color: #008080; text-decoration-color: #008080; font-weight: bold\">-1.4246e-01</span>,  <span style=\"color: #008080; text-decoration-color: #008080; font-weight: bold\">3.0715e-03</span>,  <span style=\"color: #008080; text-decoration-color: #008080; font-weight: bold\">1.5940e-02</span>,  <span style=\"color: #008080; text-decoration-color: #008080; font-weight: bold\">2.8173e-02</span>,  <span style=\"color: #008080; text-decoration-color: #008080; font-weight: bold\">2.1864e-02</span>,\n",
       "        <span style=\"color: #008080; text-decoration-color: #008080; font-weight: bold\">-8.6956e-02</span>, <span style=\"color: #008080; text-decoration-color: #008080; font-weight: bold\">-3.7082e-02</span>,  <span style=\"color: #008080; text-decoration-color: #008080; font-weight: bold\">8.4534e-02</span>, <span style=\"color: #008080; text-decoration-color: #008080; font-weight: bold\">-8.4545e-02</span>, <span style=\"color: #008080; text-decoration-color: #008080; font-weight: bold\">-1.9203e-02</span>,\n",
       "         <span style=\"color: #008080; text-decoration-color: #008080; font-weight: bold\">1.2949e-02</span>,  <span style=\"color: #008080; text-decoration-color: #008080; font-weight: bold\">1.1646e-01</span>, <span style=\"color: #008080; text-decoration-color: #008080; font-weight: bold\">-6.2878e-03</span>,  <span style=\"color: #008080; text-decoration-color: #008080; font-weight: bold\">5.2016e-03</span>, <span style=\"color: #008080; text-decoration-color: #008080; font-weight: bold\">-4.4650e-02</span>,\n",
       "         <span style=\"color: #008080; text-decoration-color: #008080; font-weight: bold\">5.4340e-04</span>,  <span style=\"color: #008080; text-decoration-color: #008080; font-weight: bold\">1.1038e-01</span>, <span style=\"color: #008080; text-decoration-color: #008080; font-weight: bold\">-8.6887e-02</span>, <span style=\"color: #008080; text-decoration-color: #008080; font-weight: bold\">-7.3036e-02</span>, <span style=\"color: #008080; text-decoration-color: #008080; font-weight: bold\">-1.9409e-02</span>,\n",
       "         <span style=\"color: #008080; text-decoration-color: #008080; font-weight: bold\">1.4030e-01</span>, <span style=\"color: #008080; text-decoration-color: #008080; font-weight: bold\">-2.7500e-02</span>, <span style=\"color: #008080; text-decoration-color: #008080; font-weight: bold\">-6.8370e-02</span>,  <span style=\"color: #008080; text-decoration-color: #008080; font-weight: bold\">5.3648e-02</span>, <span style=\"color: #008080; text-decoration-color: #008080; font-weight: bold\">-1.0747e-02</span>,\n",
       "        <span style=\"color: #008080; text-decoration-color: #008080; font-weight: bold\">-3.9285e-02</span>, <span style=\"color: #008080; text-decoration-color: #008080; font-weight: bold\">-7.5669e-02</span>,  <span style=\"color: #008080; text-decoration-color: #008080; font-weight: bold\">2.1057e-02</span>,  <span style=\"color: #008080; text-decoration-color: #008080; font-weight: bold\">3.5978e-02</span>,  <span style=\"color: #008080; text-decoration-color: #008080; font-weight: bold\">6.1648e-02</span>,\n",
       "        <span style=\"color: #008080; text-decoration-color: #008080; font-weight: bold\">-3.6488e-02</span>,  <span style=\"color: #008080; text-decoration-color: #008080; font-weight: bold\">1.1507e-01</span>, <span style=\"color: #008080; text-decoration-color: #008080; font-weight: bold\">-4.9677e-03</span>,  <span style=\"color: #008080; text-decoration-color: #008080; font-weight: bold\">3.0514e-02</span>, <span style=\"color: #008080; text-decoration-color: #008080; font-weight: bold\">-7.8639e-02</span>,\n",
       "         <span style=\"color: #008080; text-decoration-color: #008080; font-weight: bold\">9.8421e-02</span>,  <span style=\"color: #008080; text-decoration-color: #008080; font-weight: bold\">2.5322e-02</span>, <span style=\"color: #008080; text-decoration-color: #008080; font-weight: bold\">-1.0002e-02</span>,  <span style=\"color: #008080; text-decoration-color: #008080; font-weight: bold\">4.8957e-02</span>, <span style=\"color: #008080; text-decoration-color: #008080; font-weight: bold\">-7.0811e-02</span>,\n",
       "        <span style=\"color: #008080; text-decoration-color: #008080; font-weight: bold\">-1.3952e-02</span>, <span style=\"color: #008080; text-decoration-color: #008080; font-weight: bold\">-1.9013e-02</span>, <span style=\"color: #008080; text-decoration-color: #008080; font-weight: bold\">-3.3804e-02</span>, <span style=\"color: #008080; text-decoration-color: #008080; font-weight: bold\">-1.4941e-02</span>,  <span style=\"color: #008080; text-decoration-color: #008080; font-weight: bold\">3.1447e-02</span>,\n",
       "         <span style=\"color: #008080; text-decoration-color: #008080; font-weight: bold\">4.5754e-02</span>, <span style=\"color: #008080; text-decoration-color: #008080; font-weight: bold\">-3.8936e-02</span>,  <span style=\"color: #008080; text-decoration-color: #008080; font-weight: bold\">1.0241e-02</span>, <span style=\"color: #008080; text-decoration-color: #008080; font-weight: bold\">-4.7750e-02</span>, <span style=\"color: #008080; text-decoration-color: #008080; font-weight: bold\">-7.2783e-02</span>,\n",
       "        <span style=\"color: #008080; text-decoration-color: #008080; font-weight: bold\">-1.9285e-02</span>,  <span style=\"color: #008080; text-decoration-color: #008080; font-weight: bold\">5.6163e-02</span>, <span style=\"color: #008080; text-decoration-color: #008080; font-weight: bold\">-6.3321e-03</span>,  <span style=\"color: #008080; text-decoration-color: #008080; font-weight: bold\">1.9977e-02</span>,  <span style=\"color: #008080; text-decoration-color: #008080; font-weight: bold\">2.6490e-02</span>,\n",
       "         <span style=\"color: #008080; text-decoration-color: #008080; font-weight: bold\">6.2586e-02</span>, <span style=\"color: #008080; text-decoration-color: #008080; font-weight: bold\">-1.2018e-03</span>, <span style=\"color: #008080; text-decoration-color: #008080; font-weight: bold\">-8.9426e-02</span>, <span style=\"color: #008080; text-decoration-color: #008080; font-weight: bold\">-4.6173e-02</span>, <span style=\"color: #008080; text-decoration-color: #008080; font-weight: bold\">-3.6813e-02</span>,\n",
       "        <span style=\"color: #008080; text-decoration-color: #008080; font-weight: bold\">-4.8190e-02</span>,  <span style=\"color: #008080; text-decoration-color: #008080; font-weight: bold\">2.1556e-02</span>,  <span style=\"color: #008080; text-decoration-color: #008080; font-weight: bold\">1.9962e-02</span>,  <span style=\"color: #008080; text-decoration-color: #008080; font-weight: bold\">3.5407e-02</span>,  <span style=\"color: #008080; text-decoration-color: #008080; font-weight: bold\">2.6642e-02</span>,\n",
       "        <span style=\"color: #008080; text-decoration-color: #008080; font-weight: bold\">-5.8311e-02</span>, <span style=\"color: #008080; text-decoration-color: #008080; font-weight: bold\">-1.2200e-03</span>, <span style=\"color: #008080; text-decoration-color: #008080; font-weight: bold\">-3.4401e-03</span>,  <span style=\"color: #008080; text-decoration-color: #008080; font-weight: bold\">1.7953e-02</span>,  <span style=\"color: #008080; text-decoration-color: #008080; font-weight: bold\">5.4156e-02</span>,\n",
       "        <span style=\"color: #008080; text-decoration-color: #008080; font-weight: bold\">-5.0989e-03</span>, <span style=\"color: #008080; text-decoration-color: #008080; font-weight: bold\">-2.7924e-02</span>,  <span style=\"color: #008080; text-decoration-color: #008080; font-weight: bold\">5.4463e-02</span>,  <span style=\"color: #008080; text-decoration-color: #008080; font-weight: bold\">1.1905e-01</span>,  <span style=\"color: #008080; text-decoration-color: #008080; font-weight: bold\">1.2868e-01</span>,\n",
       "        <span style=\"color: #008080; text-decoration-color: #008080; font-weight: bold\">-8.8595e-02</span>, <span style=\"color: #008080; text-decoration-color: #008080; font-weight: bold\">-1.6164e-02</span>, <span style=\"color: #008080; text-decoration-color: #008080; font-weight: bold\">-3.2878e-02</span>, <span style=\"color: #008080; text-decoration-color: #008080; font-weight: bold\">-3.5485e-02</span>, <span style=\"color: #008080; text-decoration-color: #008080; font-weight: bold\">-1.9966e-02</span>,\n",
       "         <span style=\"color: #008080; text-decoration-color: #008080; font-weight: bold\">3.9049e-02</span>, <span style=\"color: #008080; text-decoration-color: #008080; font-weight: bold\">-4.9114e-02</span>,  <span style=\"color: #008080; text-decoration-color: #008080; font-weight: bold\">4.5685e-02</span>, <span style=\"color: #008080; text-decoration-color: #008080; font-weight: bold\">-1.2991e-02</span>,  <span style=\"color: #008080; text-decoration-color: #008080; font-weight: bold\">4.6847e-02</span>,\n",
       "        <span style=\"color: #008080; text-decoration-color: #008080; font-weight: bold\">-5.6101e-02</span>,  <span style=\"color: #008080; text-decoration-color: #008080; font-weight: bold\">6.8093e-02</span>,  <span style=\"color: #008080; text-decoration-color: #008080; font-weight: bold\">2.4826e-03</span>,  <span style=\"color: #008080; text-decoration-color: #008080; font-weight: bold\">2.6495e-02</span>,  <span style=\"color: #008080; text-decoration-color: #008080; font-weight: bold\">7.6566e-02</span>,\n",
       "         <span style=\"color: #008080; text-decoration-color: #008080; font-weight: bold\">1.5663e-02</span>, <span style=\"color: #008080; text-decoration-color: #008080; font-weight: bold\">-6.9162e-02</span>, <span style=\"color: #008080; text-decoration-color: #008080; font-weight: bold\">-6.2864e-02</span>,  <span style=\"color: #008080; text-decoration-color: #008080; font-weight: bold\">2.0814e-02</span>, <span style=\"color: #008080; text-decoration-color: #008080; font-weight: bold\">-1.0910e-01</span>,\n",
       "         <span style=\"color: #008080; text-decoration-color: #008080; font-weight: bold\">2.1203e-02</span>, <span style=\"color: #008080; text-decoration-color: #008080; font-weight: bold\">-1.4046e-02</span>,  <span style=\"color: #008080; text-decoration-color: #008080; font-weight: bold\">1.5385e-02</span>, <span style=\"color: #008080; text-decoration-color: #008080; font-weight: bold\">-6.3359e-03</span>, <span style=\"color: #008080; text-decoration-color: #008080; font-weight: bold\">-2.8475e-02</span>,\n",
       "         <span style=\"color: #008080; text-decoration-color: #008080; font-weight: bold\">1.3662e-02</span>, <span style=\"color: #008080; text-decoration-color: #008080; font-weight: bold\">-1.3258e-01</span>, <span style=\"color: #008080; text-decoration-color: #008080; font-weight: bold\">-1.8202e-02</span>, <span style=\"color: #008080; text-decoration-color: #008080; font-weight: bold\">-2.1830e-02</span>,  <span style=\"color: #008080; text-decoration-color: #008080; font-weight: bold\">8.3101e-02</span>,\n",
       "        <span style=\"color: #008080; text-decoration-color: #008080; font-weight: bold\">-6.8789e-02</span>, <span style=\"color: #008080; text-decoration-color: #008080; font-weight: bold\">-9.0988e-03</span>, <span style=\"color: #008080; text-decoration-color: #008080; font-weight: bold\">-7.0356e-02</span>,  <span style=\"color: #008080; text-decoration-color: #008080; font-weight: bold\">6.2706e-02</span>, <span style=\"color: #008080; text-decoration-color: #008080; font-weight: bold\">-4.4722e-02</span>,\n",
       "        <span style=\"color: #008080; text-decoration-color: #008080; font-weight: bold\">-7.2774e-03</span>, <span style=\"color: #008080; text-decoration-color: #008080; font-weight: bold\">-1.7467e-01</span>,  <span style=\"color: #008080; text-decoration-color: #008080; font-weight: bold\">2.3604e-02</span>, <span style=\"color: #008080; text-decoration-color: #008080; font-weight: bold\">-6.0021e-02</span>, <span style=\"color: #008080; text-decoration-color: #008080; font-weight: bold\">-3.4137e-02</span>,\n",
       "         <span style=\"color: #008080; text-decoration-color: #008080; font-weight: bold\">7.4124e-02</span>,  <span style=\"color: #008080; text-decoration-color: #008080; font-weight: bold\">4.0557e-03</span>,  <span style=\"color: #008080; text-decoration-color: #008080; font-weight: bold\">5.9823e-02</span>,  <span style=\"color: #008080; text-decoration-color: #008080; font-weight: bold\">1.4840e-03</span>, <span style=\"color: #008080; text-decoration-color: #008080; font-weight: bold\">-4.6625e-03</span>,\n",
       "         <span style=\"color: #008080; text-decoration-color: #008080; font-weight: bold\">7.0497e-03</span>,  <span style=\"color: #008080; text-decoration-color: #008080; font-weight: bold\">7.7516e-02</span>,  <span style=\"color: #008080; text-decoration-color: #008080; font-weight: bold\">7.3966e-02</span>,  <span style=\"color: #008080; text-decoration-color: #008080; font-weight: bold\">3.4246e-02</span>, <span style=\"color: #008080; text-decoration-color: #008080; font-weight: bold\">-4.2010e-02</span>,\n",
       "         <span style=\"color: #008080; text-decoration-color: #008080; font-weight: bold\">8.9824e-02</span>, <span style=\"color: #008080; text-decoration-color: #008080; font-weight: bold\">-1.0567e-01</span>, <span style=\"color: #008080; text-decoration-color: #008080; font-weight: bold\">-6.4156e-33</span>, <span style=\"color: #008080; text-decoration-color: #008080; font-weight: bold\">-1.6688e-02</span>, <span style=\"color: #008080; text-decoration-color: #008080; font-weight: bold\">-3.7029e-02</span>,\n",
       "         <span style=\"color: #008080; text-decoration-color: #008080; font-weight: bold\">1.5546e-03</span>, <span style=\"color: #008080; text-decoration-color: #008080; font-weight: bold\">-1.9020e-02</span>, <span style=\"color: #008080; text-decoration-color: #008080; font-weight: bold\">-3.0639e-02</span>, <span style=\"color: #008080; text-decoration-color: #008080; font-weight: bold\">-3.2764e-02</span>,  <span style=\"color: #008080; text-decoration-color: #008080; font-weight: bold\">1.1822e-02</span>,\n",
       "         <span style=\"color: #008080; text-decoration-color: #008080; font-weight: bold\">9.7167e-03</span>,  <span style=\"color: #008080; text-decoration-color: #008080; font-weight: bold\">1.2093e-04</span>,  <span style=\"color: #008080; text-decoration-color: #008080; font-weight: bold\">7.0550e-02</span>,  <span style=\"color: #008080; text-decoration-color: #008080; font-weight: bold\">2.4579e-02</span>,  <span style=\"color: #008080; text-decoration-color: #008080; font-weight: bold\">5.7831e-02</span>,\n",
       "         <span style=\"color: #008080; text-decoration-color: #008080; font-weight: bold\">6.8307e-02</span>,  <span style=\"color: #008080; text-decoration-color: #008080; font-weight: bold\">5.6851e-02</span>,  <span style=\"color: #008080; text-decoration-color: #008080; font-weight: bold\">7.3616e-02</span>,  <span style=\"color: #008080; text-decoration-color: #008080; font-weight: bold\">2.2824e-02</span>, <span style=\"color: #008080; text-decoration-color: #008080; font-weight: bold\">-7.3005e-02</span>,\n",
       "        <span style=\"color: #008080; text-decoration-color: #008080; font-weight: bold\">-1.5891e-02</span>,  <span style=\"color: #008080; text-decoration-color: #008080; font-weight: bold\">2.0759e-02</span>, <span style=\"color: #008080; text-decoration-color: #008080; font-weight: bold\">-1.2286e-02</span>,  <span style=\"color: #008080; text-decoration-color: #008080; font-weight: bold\">6.4947e-02</span>,  <span style=\"color: #008080; text-decoration-color: #008080; font-weight: bold\">1.2431e-01</span>,\n",
       "         <span style=\"color: #008080; text-decoration-color: #008080; font-weight: bold\">1.8076e-02</span>,  <span style=\"color: #008080; text-decoration-color: #008080; font-weight: bold\">1.1093e-02</span>, <span style=\"color: #008080; text-decoration-color: #008080; font-weight: bold\">-2.1620e-04</span>, <span style=\"color: #008080; text-decoration-color: #008080; font-weight: bold\">-1.7142e-02</span>,  <span style=\"color: #008080; text-decoration-color: #008080; font-weight: bold\">1.4853e-02</span>,\n",
       "        <span style=\"color: #008080; text-decoration-color: #008080; font-weight: bold\">-1.2691e-02</span>, <span style=\"color: #008080; text-decoration-color: #008080; font-weight: bold\">-5.0507e-02</span>,  <span style=\"color: #008080; text-decoration-color: #008080; font-weight: bold\">3.7222e-02</span>, <span style=\"color: #008080; text-decoration-color: #008080; font-weight: bold\">-4.0360e-02</span>, <span style=\"color: #008080; text-decoration-color: #008080; font-weight: bold\">-7.4048e-02</span>,\n",
       "        <span style=\"color: #008080; text-decoration-color: #008080; font-weight: bold\">-1.0970e-02</span>,  <span style=\"color: #008080; text-decoration-color: #008080; font-weight: bold\">4.1702e-02</span>, <span style=\"color: #008080; text-decoration-color: #008080; font-weight: bold\">-6.8921e-02</span>,  <span style=\"color: #008080; text-decoration-color: #008080; font-weight: bold\">4.1219e-03</span>,  <span style=\"color: #008080; text-decoration-color: #008080; font-weight: bold\">1.4185e-02</span>,\n",
       "        <span style=\"color: #008080; text-decoration-color: #008080; font-weight: bold\">-7.5804e-02</span>, <span style=\"color: #008080; text-decoration-color: #008080; font-weight: bold\">-1.1405e-02</span>, <span style=\"color: #008080; text-decoration-color: #008080; font-weight: bold\">-8.4661e-02</span>, <span style=\"color: #008080; text-decoration-color: #008080; font-weight: bold\">-3.4637e-02</span>,  <span style=\"color: #008080; text-decoration-color: #008080; font-weight: bold\">4.0803e-02</span>,\n",
       "        <span style=\"color: #008080; text-decoration-color: #008080; font-weight: bold\">-1.9901e-02</span>, <span style=\"color: #008080; text-decoration-color: #008080; font-weight: bold\">-1.4428e-02</span>, <span style=\"color: #008080; text-decoration-color: #008080; font-weight: bold\">-3.2878e-02</span>, <span style=\"color: #008080; text-decoration-color: #008080; font-weight: bold\">-1.3772e-02</span>, <span style=\"color: #008080; text-decoration-color: #008080; font-weight: bold\">-1.9814e-02</span>,\n",
       "         <span style=\"color: #008080; text-decoration-color: #008080; font-weight: bold\">9.5046e-02</span>,  <span style=\"color: #008080; text-decoration-color: #008080; font-weight: bold\">9.0082e-03</span>, <span style=\"color: #008080; text-decoration-color: #008080; font-weight: bold\">-2.6932e-02</span>,  <span style=\"color: #008080; text-decoration-color: #008080; font-weight: bold\">1.6957e-02</span>, <span style=\"color: #008080; text-decoration-color: #008080; font-weight: bold\">-2.3650e-02</span>,\n",
       "         <span style=\"color: #008080; text-decoration-color: #008080; font-weight: bold\">3.9388e-02</span>,  <span style=\"color: #008080; text-decoration-color: #008080; font-weight: bold\">1.2614e-02</span>, <span style=\"color: #008080; text-decoration-color: #008080; font-weight: bold\">-1.8223e-02</span>,  <span style=\"color: #008080; text-decoration-color: #008080; font-weight: bold\">8.4496e-02</span>,  <span style=\"color: #008080; text-decoration-color: #008080; font-weight: bold\">1.0471e-01</span>,\n",
       "         <span style=\"color: #008080; text-decoration-color: #008080; font-weight: bold\">7.0581e-02</span>,  <span style=\"color: #008080; text-decoration-color: #008080; font-weight: bold\">2.9548e-02</span>, <span style=\"color: #008080; text-decoration-color: #008080; font-weight: bold\">-6.3651e-02</span>,  <span style=\"color: #008080; text-decoration-color: #008080; font-weight: bold\">5.4294e-04</span>, <span style=\"color: #008080; text-decoration-color: #008080; font-weight: bold\">-6.2097e-02</span>,\n",
       "         <span style=\"color: #008080; text-decoration-color: #008080; font-weight: bold\">1.1686e-02</span>,  <span style=\"color: #008080; text-decoration-color: #008080; font-weight: bold\">6.8007e-02</span>, <span style=\"color: #008080; text-decoration-color: #008080; font-weight: bold\">-4.1757e-02</span>,  <span style=\"color: #008080; text-decoration-color: #008080; font-weight: bold\">5.4762e-05</span>,  <span style=\"color: #008080; text-decoration-color: #008080; font-weight: bold\">7.2575e-03</span>,\n",
       "         <span style=\"color: #008080; text-decoration-color: #008080; font-weight: bold\">5.3216e-02</span>,  <span style=\"color: #008080; text-decoration-color: #008080; font-weight: bold\">3.9076e-02</span>,  <span style=\"color: #008080; text-decoration-color: #008080; font-weight: bold\">3.3343e-02</span>, <span style=\"color: #008080; text-decoration-color: #008080; font-weight: bold\">-2.3008e-02</span>,  <span style=\"color: #008080; text-decoration-color: #008080; font-weight: bold\">3.5174e-02</span>,\n",
       "        <span style=\"color: #008080; text-decoration-color: #008080; font-weight: bold\">-4.0212e-02</span>, <span style=\"color: #008080; text-decoration-color: #008080; font-weight: bold\">-1.7000e-02</span>,  <span style=\"color: #008080; text-decoration-color: #008080; font-weight: bold\">6.0849e-03</span>,  <span style=\"color: #008080; text-decoration-color: #008080; font-weight: bold\">3.7907e-02</span>,  <span style=\"color: #008080; text-decoration-color: #008080; font-weight: bold\">3.5553e-02</span>,\n",
       "        <span style=\"color: #008080; text-decoration-color: #008080; font-weight: bold\">-6.7226e-02</span>, <span style=\"color: #008080; text-decoration-color: #008080; font-weight: bold\">-4.7138e-02</span>,  <span style=\"color: #008080; text-decoration-color: #008080; font-weight: bold\">6.7798e-03</span>, <span style=\"color: #008080; text-decoration-color: #008080; font-weight: bold\">-7.1156e-02</span>,  <span style=\"color: #008080; text-decoration-color: #008080; font-weight: bold\">7.6744e-02</span>,\n",
       "         <span style=\"color: #008080; text-decoration-color: #008080; font-weight: bold\">3.7150e-02</span>, <span style=\"color: #008080; text-decoration-color: #008080; font-weight: bold\">-1.4659e-02</span>, <span style=\"color: #008080; text-decoration-color: #008080; font-weight: bold\">-7.8331e-02</span>,  <span style=\"color: #008080; text-decoration-color: #008080; font-weight: bold\">4.6545e-03</span>,  <span style=\"color: #008080; text-decoration-color: #008080; font-weight: bold\">1.6806e-02</span>,\n",
       "        <span style=\"color: #008080; text-decoration-color: #008080; font-weight: bold\">-1.1083e-02</span>,  <span style=\"color: #008080; text-decoration-color: #008080; font-weight: bold\">5.6526e-02</span>, <span style=\"color: #008080; text-decoration-color: #008080; font-weight: bold\">-7.9980e-02</span>, <span style=\"color: #008080; text-decoration-color: #008080; font-weight: bold\">-7.2967e-02</span>, <span style=\"color: #008080; text-decoration-color: #008080; font-weight: bold\">-5.7778e-02</span>,\n",
       "        <span style=\"color: #008080; text-decoration-color: #008080; font-weight: bold\">-2.5481e-03</span>, <span style=\"color: #008080; text-decoration-color: #008080; font-weight: bold\">-2.6015e-02</span>, <span style=\"color: #008080; text-decoration-color: #008080; font-weight: bold\">-2.7038e-02</span>,  <span style=\"color: #008080; text-decoration-color: #008080; font-weight: bold\">6.3895e-35</span>,  <span style=\"color: #008080; text-decoration-color: #008080; font-weight: bold\">5.4324e-02</span>,\n",
       "         <span style=\"color: #008080; text-decoration-color: #008080; font-weight: bold\">5.2883e-02</span>,  <span style=\"color: #008080; text-decoration-color: #008080; font-weight: bold\">1.8178e-02</span>,  <span style=\"color: #008080; text-decoration-color: #008080; font-weight: bold\">4.4359e-02</span>, <span style=\"color: #008080; text-decoration-color: #008080; font-weight: bold\">-9.0200e-03</span>,  <span style=\"color: #008080; text-decoration-color: #008080; font-weight: bold\">3.8994e-02</span>,\n",
       "        <span style=\"color: #008080; text-decoration-color: #008080; font-weight: bold\">-3.4364e-02</span>, <span style=\"color: #008080; text-decoration-color: #008080; font-weight: bold\">-6.9256e-02</span>,  <span style=\"color: #008080; text-decoration-color: #008080; font-weight: bold\">2.5044e-02</span>, <span style=\"color: #008080; text-decoration-color: #008080; font-weight: bold\">-4.3153e-02</span>,  <span style=\"color: #008080; text-decoration-color: #008080; font-weight: bold\">2.5592e-02</span>,\n",
       "         <span style=\"color: #008080; text-decoration-color: #008080; font-weight: bold\">3.6207e-02</span>,  <span style=\"color: #008080; text-decoration-color: #008080; font-weight: bold\">7.3959e-02</span>, <span style=\"color: #008080; text-decoration-color: #008080; font-weight: bold\">-3.4143e-02</span>,  <span style=\"color: #008080; text-decoration-color: #008080; font-weight: bold\">8.5106e-02</span>, <span style=\"color: #008080; text-decoration-color: #008080; font-weight: bold\">-5.2802e-02</span>,\n",
       "        <span style=\"color: #008080; text-decoration-color: #008080; font-weight: bold\">-1.1268e-01</span>, <span style=\"color: #008080; text-decoration-color: #008080; font-weight: bold\">-3.9601e-02</span>, <span style=\"color: #008080; text-decoration-color: #008080; font-weight: bold\">-9.2824e-03</span>, <span style=\"color: #008080; text-decoration-color: #008080; font-weight: bold\">-2.2307e-02</span>,  <span style=\"color: #008080; text-decoration-color: #008080; font-weight: bold\">1.7575e-02</span>,\n",
       "         <span style=\"color: #008080; text-decoration-color: #008080; font-weight: bold\">1.4273e-02</span>,  <span style=\"color: #008080; text-decoration-color: #008080; font-weight: bold\">1.1023e-02</span>,  <span style=\"color: #008080; text-decoration-color: #008080; font-weight: bold\">1.8959e-02</span>, <span style=\"color: #008080; text-decoration-color: #008080; font-weight: bold\">-2.1621e-02</span>, <span style=\"color: #008080; text-decoration-color: #008080; font-weight: bold\">-5.2473e-02</span>,\n",
       "        <span style=\"color: #008080; text-decoration-color: #008080; font-weight: bold\">-3.1174e-02</span>,  <span style=\"color: #008080; text-decoration-color: #008080; font-weight: bold\">4.7182e-02</span>,  <span style=\"color: #008080; text-decoration-color: #008080; font-weight: bold\">5.3034e-02</span>,  <span style=\"color: #008080; text-decoration-color: #008080; font-weight: bold\">3.2707e-02</span>,  <span style=\"color: #008080; text-decoration-color: #008080; font-weight: bold\">2.7765e-02</span>,\n",
       "         <span style=\"color: #008080; text-decoration-color: #008080; font-weight: bold\">4.6465e-02</span>, <span style=\"color: #008080; text-decoration-color: #008080; font-weight: bold\">-6.6840e-02</span>,  <span style=\"color: #008080; text-decoration-color: #008080; font-weight: bold\">7.2035e-02</span>, <span style=\"color: #008080; text-decoration-color: #008080; font-weight: bold\">-1.9091e-02</span>,  <span style=\"color: #008080; text-decoration-color: #008080; font-weight: bold\">3.4947e-02</span>,\n",
       "        <span style=\"color: #008080; text-decoration-color: #008080; font-weight: bold\">-1.9729e-02</span>, <span style=\"color: #008080; text-decoration-color: #008080; font-weight: bold\">-3.5099e-02</span>, <span style=\"color: #008080; text-decoration-color: #008080; font-weight: bold\">-3.6632e-02</span>,  <span style=\"color: #008080; text-decoration-color: #008080; font-weight: bold\">1.1696e-02</span>,  <span style=\"color: #008080; text-decoration-color: #008080; font-weight: bold\">3.6319e-02</span>,\n",
       "         <span style=\"color: #008080; text-decoration-color: #008080; font-weight: bold\">5.6143e-02</span>,  <span style=\"color: #008080; text-decoration-color: #008080; font-weight: bold\">2.3251e-03</span>,  <span style=\"color: #008080; text-decoration-color: #008080; font-weight: bold\">1.0723e-01</span>, <span style=\"color: #008080; text-decoration-color: #008080; font-weight: bold\">-1.1715e-02</span>, <span style=\"color: #008080; text-decoration-color: #008080; font-weight: bold\">-3.5454e-03</span>,\n",
       "        <span style=\"color: #008080; text-decoration-color: #008080; font-weight: bold\">-1.3971e-02</span>,  <span style=\"color: #008080; text-decoration-color: #008080; font-weight: bold\">5.2321e-03</span>,  <span style=\"color: #008080; text-decoration-color: #008080; font-weight: bold\">4.5230e-02</span>, <span style=\"color: #008080; text-decoration-color: #008080; font-weight: bold\">-5.8749e-02</span>, <span style=\"color: #008080; text-decoration-color: #008080; font-weight: bold\">-2.4461e-02</span>,\n",
       "        <span style=\"color: #008080; text-decoration-color: #008080; font-weight: bold\">-7.0650e-02</span>,  <span style=\"color: #008080; text-decoration-color: #008080; font-weight: bold\">4.5616e-02</span>,  <span style=\"color: #008080; text-decoration-color: #008080; font-weight: bold\">7.2012e-02</span>, <span style=\"color: #008080; text-decoration-color: #008080; font-weight: bold\">-3.6959e-02</span>, <span style=\"color: #008080; text-decoration-color: #008080; font-weight: bold\">-3.1838e-02</span>,\n",
       "         <span style=\"color: #008080; text-decoration-color: #008080; font-weight: bold\">4.6898e-03</span>,  <span style=\"color: #008080; text-decoration-color: #008080; font-weight: bold\">2.5908e-02</span>, <span style=\"color: #008080; text-decoration-color: #008080; font-weight: bold\">-6.0194e-02</span>, <span style=\"color: #008080; text-decoration-color: #008080; font-weight: bold\">-7.2020e-03</span>,  <span style=\"color: #008080; text-decoration-color: #008080; font-weight: bold\">6.7752e-02</span>,\n",
       "        <span style=\"color: #008080; text-decoration-color: #008080; font-weight: bold\">-7.0150e-02</span>, <span style=\"color: #008080; text-decoration-color: #008080; font-weight: bold\">-2.8524e-02</span>,  <span style=\"color: #008080; text-decoration-color: #008080; font-weight: bold\">4.0547e-03</span>, <span style=\"color: #008080; text-decoration-color: #008080; font-weight: bold\">-1.3080e-01</span>, <span style=\"color: #008080; text-decoration-color: #008080; font-weight: bold\">-1.8884e-02</span>,\n",
       "        <span style=\"color: #008080; text-decoration-color: #008080; font-weight: bold\">-7.3759e-02</span>, <span style=\"color: #008080; text-decoration-color: #008080; font-weight: bold\">-4.3154e-02</span>, <span style=\"color: #008080; text-decoration-color: #008080; font-weight: bold\">-3.0080e-02</span>, <span style=\"color: #008080; text-decoration-color: #008080; font-weight: bold\">-7.0080e-02</span>,  <span style=\"color: #008080; text-decoration-color: #008080; font-weight: bold\">4.7776e-02</span>,\n",
       "         <span style=\"color: #008080; text-decoration-color: #008080; font-weight: bold\">7.5751e-03</span>, <span style=\"color: #008080; text-decoration-color: #008080; font-weight: bold\">-4.0063e-02</span>, <span style=\"color: #008080; text-decoration-color: #008080; font-weight: bold\">-3.9337e-02</span>, <span style=\"color: #008080; text-decoration-color: #008080; font-weight: bold\">-5.5096e-02</span>,  <span style=\"color: #008080; text-decoration-color: #008080; font-weight: bold\">6.7704e-02</span>,\n",
       "         <span style=\"color: #008080; text-decoration-color: #008080; font-weight: bold\">2.3271e-02</span>, <span style=\"color: #008080; text-decoration-color: #008080; font-weight: bold\">-1.5606e-02</span>, <span style=\"color: #008080; text-decoration-color: #008080; font-weight: bold\">-3.0095e-02</span>, <span style=\"color: #008080; text-decoration-color: #008080; font-weight: bold\">-3.2230e-03</span>, <span style=\"color: #008080; text-decoration-color: #008080; font-weight: bold\">-1.1410e-01</span>,\n",
       "         <span style=\"color: #008080; text-decoration-color: #008080; font-weight: bold\">1.7479e-02</span>,  <span style=\"color: #008080; text-decoration-color: #008080; font-weight: bold\">4.1933e-03</span>,  <span style=\"color: #008080; text-decoration-color: #008080; font-weight: bold\">5.8488e-02</span>, <span style=\"color: #008080; text-decoration-color: #008080; font-weight: bold\">-3.2622e-02</span>, <span style=\"color: #008080; text-decoration-color: #008080; font-weight: bold\">-4.9826e-02</span>,\n",
       "        <span style=\"color: #008080; text-decoration-color: #008080; font-weight: bold\">-3.0930e-02</span>,  <span style=\"color: #008080; text-decoration-color: #008080; font-weight: bold\">1.0857e-01</span>,  <span style=\"color: #008080; text-decoration-color: #008080; font-weight: bold\">5.1082e-02</span>, <span style=\"color: #008080; text-decoration-color: #008080; font-weight: bold\">-9.7597e-02</span>, <span style=\"color: #008080; text-decoration-color: #008080; font-weight: bold\">-2.3989e-02</span>,\n",
       "         <span style=\"color: #008080; text-decoration-color: #008080; font-weight: bold\">7.9028e-02</span>, <span style=\"color: #008080; text-decoration-color: #008080; font-weight: bold\">-2.6031e-02</span>, <span style=\"color: #008080; text-decoration-color: #008080; font-weight: bold\">-2.9201e-02</span>, <span style=\"color: #008080; text-decoration-color: #008080; font-weight: bold\">-6.7714e-02</span>, <span style=\"color: #008080; text-decoration-color: #008080; font-weight: bold\">-2.3414e-08</span>,\n",
       "         <span style=\"color: #008080; text-decoration-color: #008080; font-weight: bold\">9.5609e-03</span>,  <span style=\"color: #008080; text-decoration-color: #008080; font-weight: bold\">3.6905e-02</span>,  <span style=\"color: #008080; text-decoration-color: #008080; font-weight: bold\">5.0259e-02</span>, <span style=\"color: #008080; text-decoration-color: #008080; font-weight: bold\">-4.0006e-03</span>,  <span style=\"color: #008080; text-decoration-color: #008080; font-weight: bold\">2.9434e-02</span>,\n",
       "        <span style=\"color: #008080; text-decoration-color: #008080; font-weight: bold\">-3.6063e-02</span>, <span style=\"color: #008080; text-decoration-color: #008080; font-weight: bold\">-4.3240e-02</span>,  <span style=\"color: #008080; text-decoration-color: #008080; font-weight: bold\">1.4415e-02</span>,  <span style=\"color: #008080; text-decoration-color: #008080; font-weight: bold\">3.7832e-02</span>,  <span style=\"color: #008080; text-decoration-color: #008080; font-weight: bold\">1.9344e-03</span>,\n",
       "        <span style=\"color: #008080; text-decoration-color: #008080; font-weight: bold\">-3.4044e-02</span>, <span style=\"color: #008080; text-decoration-color: #008080; font-weight: bold\">-2.6402e-03</span>,  <span style=\"color: #008080; text-decoration-color: #008080; font-weight: bold\">6.3723e-03</span>, <span style=\"color: #008080; text-decoration-color: #008080; font-weight: bold\">-7.5963e-02</span>,  <span style=\"color: #008080; text-decoration-color: #008080; font-weight: bold\">3.5744e-02</span>,\n",
       "         <span style=\"color: #008080; text-decoration-color: #008080; font-weight: bold\">4.8109e-02</span>, <span style=\"color: #008080; text-decoration-color: #008080; font-weight: bold\">-2.8731e-02</span>,  <span style=\"color: #008080; text-decoration-color: #008080; font-weight: bold\">5.7399e-04</span>, <span style=\"color: #008080; text-decoration-color: #008080; font-weight: bold\">-1.6240e-02</span>, <span style=\"color: #008080; text-decoration-color: #008080; font-weight: bold\">-1.9413e-02</span>,\n",
       "        <span style=\"color: #008080; text-decoration-color: #008080; font-weight: bold\">-1.0707e-01</span>, <span style=\"color: #008080; text-decoration-color: #008080; font-weight: bold\">-6.4964e-02</span>, <span style=\"color: #008080; text-decoration-color: #008080; font-weight: bold\">-1.8988e-03</span>, <span style=\"color: #008080; text-decoration-color: #008080; font-weight: bold\">-4.3588e-02</span>, <span style=\"color: #008080; text-decoration-color: #008080; font-weight: bold\">-1.3333e-01</span>,\n",
       "         <span style=\"color: #008080; text-decoration-color: #008080; font-weight: bold\">3.5273e-02</span>,  <span style=\"color: #008080; text-decoration-color: #008080; font-weight: bold\">5.5209e-02</span>, <span style=\"color: #008080; text-decoration-color: #008080; font-weight: bold\">-1.5422e-02</span>, <span style=\"color: #008080; text-decoration-color: #008080; font-weight: bold\">-2.1405e-02</span>, <span style=\"color: #008080; text-decoration-color: #008080; font-weight: bold\">-3.5562e-04</span>,\n",
       "        <span style=\"color: #008080; text-decoration-color: #008080; font-weight: bold\">-4.0583e-02</span>,  <span style=\"color: #008080; text-decoration-color: #008080; font-weight: bold\">4.0723e-02</span>, <span style=\"color: #008080; text-decoration-color: #008080; font-weight: bold\">-1.9816e-02</span>,  <span style=\"color: #008080; text-decoration-color: #008080; font-weight: bold\">4.4682e-02</span>,  <span style=\"color: #008080; text-decoration-color: #008080; font-weight: bold\">2.7648e-02</span>,\n",
       "         <span style=\"color: #008080; text-decoration-color: #008080; font-weight: bold\">8.8865e-02</span>, <span style=\"color: #008080; text-decoration-color: #008080; font-weight: bold\">-5.7460e-02</span>,  <span style=\"color: #008080; text-decoration-color: #008080; font-weight: bold\">3.9150e-02</span>,  <span style=\"color: #008080; text-decoration-color: #008080; font-weight: bold\">8.3433e-03</span>,  <span style=\"color: #008080; text-decoration-color: #008080; font-weight: bold\">5.3881e-02</span>,\n",
       "         <span style=\"color: #008080; text-decoration-color: #008080; font-weight: bold\">2.0442e-02</span>, <span style=\"color: #008080; text-decoration-color: #008080; font-weight: bold\">-1.1603e-01</span>, <span style=\"color: #008080; text-decoration-color: #008080; font-weight: bold\">-5.8360e-02</span>,  <span style=\"color: #008080; text-decoration-color: #008080; font-weight: bold\">4.1808e-03</span>, <span style=\"color: #008080; text-decoration-color: #008080; font-weight: bold\">-1.9214e-02</span>,\n",
       "         <span style=\"color: #008080; text-decoration-color: #008080; font-weight: bold\">1.3940e-02</span>, <span style=\"color: #008080; text-decoration-color: #008080; font-weight: bold\">-2.2831e-02</span>, <span style=\"color: #008080; text-decoration-color: #008080; font-weight: bold\">-1.1595e-02</span>, <span style=\"color: #008080; text-decoration-color: #008080; font-weight: bold\">-1.8103e-02</span>,  <span style=\"color: #008080; text-decoration-color: #008080; font-weight: bold\">5.2128e-02</span>,\n",
       "        <span style=\"color: #008080; text-decoration-color: #008080; font-weight: bold\">-6.6055e-02</span>,  <span style=\"color: #008080; text-decoration-color: #008080; font-weight: bold\">4.8010e-02</span>, <span style=\"color: #008080; text-decoration-color: #008080; font-weight: bold\">-5.2628e-02</span>, <span style=\"color: #008080; text-decoration-color: #008080; font-weight: bold\">-2.2247e-03</span>,  <span style=\"color: #008080; text-decoration-color: #008080; font-weight: bold\">2.1005e-02</span>,\n",
       "         <span style=\"color: #008080; text-decoration-color: #008080; font-weight: bold\">5.3376e-02</span>, <span style=\"color: #008080; text-decoration-color: #008080; font-weight: bold\">-6.9090e-02</span>, <span style=\"color: #008080; text-decoration-color: #008080; font-weight: bold\">-4.1878e-02</span>, <span style=\"color: #008080; text-decoration-color: #008080; font-weight: bold\">-6.2827e-02</span>,  <span style=\"color: #008080; text-decoration-color: #008080; font-weight: bold\">2.4870e-02</span>,\n",
       "         <span style=\"color: #008080; text-decoration-color: #008080; font-weight: bold\">3.1205e-02</span>,  <span style=\"color: #008080; text-decoration-color: #008080; font-weight: bold\">7.6650e-02</span>,  <span style=\"color: #008080; text-decoration-color: #008080; font-weight: bold\">7.1036e-02</span>,  <span style=\"color: #008080; text-decoration-color: #008080; font-weight: bold\">1.1342e-02</span><span style=\"font-weight: bold\">])</span>\n",
       "<span style=\"font-weight: bold\">}</span>\n",
       "</pre>\n"
      ],
      "text/plain": [
       "\u001b[1m{\u001b[0m\n",
       "    \u001b[32m'input_ids'\u001b[0m: \u001b[1;35mtensor\u001b[0m\u001b[1m(\u001b[0m\u001b[1m[\u001b[0m  \u001b[1;36m101\u001b[0m,  \u001b[1;36m2054\u001b[0m,  \u001b[1;36m2515\u001b[0m,  \u001b[1;36m1005\u001b[0m,  \u001b[1;36m3565\u001b[0m,  \u001b[1;36m1005\u001b[0m,  \u001b[1;36m2079\u001b[0m,  \u001b[1;36m1999\u001b[0m, \u001b[1;36m18750\u001b[0m,  \u001b[1;36m1029\u001b[0m,\n",
       "         \u001b[1;36m1011\u001b[0m,  \u001b[1;36m4489\u001b[0m,  \u001b[1;36m2090\u001b[0m,  \u001b[1;36m3565\u001b[0m,  \u001b[1;36m1006\u001b[0m,  \u001b[1;36m1007\u001b[0m,  \u001b[1;36m1012\u001b[0m,  \u001b[1;36m1035\u001b[0m,  \u001b[1;36m1035\u001b[0m,  \u001b[1;36m1999\u001b[0m,\n",
       "         \u001b[1;36m4183\u001b[0m,  \u001b[1;36m1035\u001b[0m,  \u001b[1;36m1035\u001b[0m,  \u001b[1;36m1006\u001b[0m,  \u001b[1;36m1007\u001b[0m,  \u001b[1;36m1998\u001b[0m, \u001b[1;36m13216\u001b[0m,  \u001b[1;36m3565\u001b[0m, \u001b[1;36m26266\u001b[0m,  \u001b[1;36m1035\u001b[0m,\n",
       "         \u001b[1;36m1035\u001b[0m,  \u001b[1;36m1999\u001b[0m,  \u001b[1;36m4183\u001b[0m,  \u001b[1;36m1035\u001b[0m,  \u001b[1;36m1035\u001b[0m,  \u001b[1;36m1006\u001b[0m,  \u001b[1;36m1007\u001b[0m,   \u001b[1;36m102\u001b[0m\u001b[1m]\u001b[0m\u001b[1m)\u001b[0m,\n",
       "    \u001b[32m'token_type_ids'\u001b[0m: \u001b[1;35mtensor\u001b[0m\u001b[1m(\u001b[0m\u001b[1m[\u001b[0m\u001b[1;36m0\u001b[0m, \u001b[1;36m0\u001b[0m, \u001b[1;36m0\u001b[0m, \u001b[1;36m0\u001b[0m, \u001b[1;36m0\u001b[0m, \u001b[1;36m0\u001b[0m, \u001b[1;36m0\u001b[0m, \u001b[1;36m0\u001b[0m, \u001b[1;36m0\u001b[0m, \u001b[1;36m0\u001b[0m, \u001b[1;36m0\u001b[0m, \u001b[1;36m0\u001b[0m, \u001b[1;36m0\u001b[0m, \u001b[1;36m0\u001b[0m, \u001b[1;36m0\u001b[0m, \u001b[1;36m0\u001b[0m, \u001b[1;36m0\u001b[0m, \u001b[1;36m0\u001b[0m, \u001b[1;36m0\u001b[0m, \u001b[1;36m0\u001b[0m, \u001b[1;36m0\u001b[0m, \u001b[1;36m0\u001b[0m, \u001b[1;36m0\u001b[0m, \u001b[1;36m0\u001b[0m,\n",
       "        \u001b[1;36m0\u001b[0m, \u001b[1;36m0\u001b[0m, \u001b[1;36m0\u001b[0m, \u001b[1;36m0\u001b[0m, \u001b[1;36m0\u001b[0m, \u001b[1;36m0\u001b[0m, \u001b[1;36m0\u001b[0m, \u001b[1;36m0\u001b[0m, \u001b[1;36m0\u001b[0m, \u001b[1;36m0\u001b[0m, \u001b[1;36m0\u001b[0m, \u001b[1;36m0\u001b[0m, \u001b[1;36m0\u001b[0m, \u001b[1;36m0\u001b[0m\u001b[1m]\u001b[0m\u001b[1m)\u001b[0m,\n",
       "    \u001b[32m'attention_mask'\u001b[0m: \u001b[1;35mtensor\u001b[0m\u001b[1m(\u001b[0m\u001b[1m[\u001b[0m\u001b[1;36m1\u001b[0m, \u001b[1;36m1\u001b[0m, \u001b[1;36m1\u001b[0m, \u001b[1;36m1\u001b[0m, \u001b[1;36m1\u001b[0m, \u001b[1;36m1\u001b[0m, \u001b[1;36m1\u001b[0m, \u001b[1;36m1\u001b[0m, \u001b[1;36m1\u001b[0m, \u001b[1;36m1\u001b[0m, \u001b[1;36m1\u001b[0m, \u001b[1;36m1\u001b[0m, \u001b[1;36m1\u001b[0m, \u001b[1;36m1\u001b[0m, \u001b[1;36m1\u001b[0m, \u001b[1;36m1\u001b[0m, \u001b[1;36m1\u001b[0m, \u001b[1;36m1\u001b[0m, \u001b[1;36m1\u001b[0m, \u001b[1;36m1\u001b[0m, \u001b[1;36m1\u001b[0m, \u001b[1;36m1\u001b[0m, \u001b[1;36m1\u001b[0m, \u001b[1;36m1\u001b[0m,\n",
       "        \u001b[1;36m1\u001b[0m, \u001b[1;36m1\u001b[0m, \u001b[1;36m1\u001b[0m, \u001b[1;36m1\u001b[0m, \u001b[1;36m1\u001b[0m, \u001b[1;36m1\u001b[0m, \u001b[1;36m1\u001b[0m, \u001b[1;36m1\u001b[0m, \u001b[1;36m1\u001b[0m, \u001b[1;36m1\u001b[0m, \u001b[1;36m1\u001b[0m, \u001b[1;36m1\u001b[0m, \u001b[1;36m1\u001b[0m, \u001b[1;36m1\u001b[0m\u001b[1m]\u001b[0m\u001b[1m)\u001b[0m,\n",
       "    \u001b[32m'token_embeddings'\u001b[0m: \u001b[1;35mtensor\u001b[0m\u001b[1m(\u001b[0m\u001b[1m[\u001b[0m\u001b[1m[\u001b[0m\u001b[1;36m-0.4915\u001b[0m,  \u001b[1;36m0.0079\u001b[0m,  \u001b[1;36m0.1150\u001b[0m,  \u001b[33m...\u001b[0m,  \u001b[1;36m0.3318\u001b[0m, \u001b[1;36m-0.1832\u001b[0m, \u001b[1;36m-0.0306\u001b[0m\u001b[1m]\u001b[0m,\n",
       "        \u001b[1m[\u001b[0m\u001b[1;36m-0.6559\u001b[0m,  \u001b[1;36m0.0482\u001b[0m,  \u001b[1;36m0.0829\u001b[0m,  \u001b[33m...\u001b[0m,  \u001b[1;36m0.3092\u001b[0m,  \u001b[1;36m0.2388\u001b[0m, \u001b[1;36m-0.0171\u001b[0m\u001b[1m]\u001b[0m,\n",
       "        \u001b[1m[\u001b[0m\u001b[1;36m-0.7676\u001b[0m, \u001b[1;36m-0.0600\u001b[0m,  \u001b[1;36m0.0628\u001b[0m,  \u001b[33m...\u001b[0m,  \u001b[1;36m0.4701\u001b[0m,  \u001b[1;36m0.5587\u001b[0m, \u001b[1;36m-0.2076\u001b[0m\u001b[1m]\u001b[0m,\n",
       "        \u001b[33m...\u001b[0m,\n",
       "        \u001b[1m[\u001b[0m\u001b[1;36m-0.5866\u001b[0m,  \u001b[1;36m0.3504\u001b[0m,  \u001b[1;36m0.1313\u001b[0m,  \u001b[33m...\u001b[0m,  \u001b[1;36m0.5132\u001b[0m,  \u001b[1;36m0.6868\u001b[0m,  \u001b[1;36m0.3820\u001b[0m\u001b[1m]\u001b[0m,\n",
       "        \u001b[1m[\u001b[0m\u001b[1;36m-0.4603\u001b[0m, \u001b[1;36m-0.0785\u001b[0m,  \u001b[1;36m0.1447\u001b[0m,  \u001b[33m...\u001b[0m,  \u001b[1;36m0.3814\u001b[0m,  \u001b[1;36m0.2534\u001b[0m,  \u001b[1;36m0.0358\u001b[0m\u001b[1m]\u001b[0m,\n",
       "        \u001b[1m[\u001b[0m\u001b[1;36m-0.6221\u001b[0m, \u001b[1;36m-0.1158\u001b[0m,  \u001b[1;36m0.1800\u001b[0m,  \u001b[33m...\u001b[0m,  \u001b[1;36m0.5810\u001b[0m,  \u001b[1;36m0.3475\u001b[0m, \u001b[1;36m-0.0104\u001b[0m\u001b[1m]\u001b[0m\u001b[1m]\u001b[0m\u001b[1m)\u001b[0m,\n",
       "    \u001b[32m'sentence_embedding'\u001b[0m: \u001b[1;35mtensor\u001b[0m\u001b[1m(\u001b[0m\u001b[1m[\u001b[0m\u001b[1;36m-1.4246e-01\u001b[0m,  \u001b[1;36m3.0715e-03\u001b[0m,  \u001b[1;36m1.5940e-02\u001b[0m,  \u001b[1;36m2.8173e-02\u001b[0m,  \u001b[1;36m2.1864e-02\u001b[0m,\n",
       "        \u001b[1;36m-8.6956e-02\u001b[0m, \u001b[1;36m-3.7082e-02\u001b[0m,  \u001b[1;36m8.4534e-02\u001b[0m, \u001b[1;36m-8.4545e-02\u001b[0m, \u001b[1;36m-1.9203e-02\u001b[0m,\n",
       "         \u001b[1;36m1.2949e-02\u001b[0m,  \u001b[1;36m1.1646e-01\u001b[0m, \u001b[1;36m-6.2878e-03\u001b[0m,  \u001b[1;36m5.2016e-03\u001b[0m, \u001b[1;36m-4.4650e-02\u001b[0m,\n",
       "         \u001b[1;36m5.4340e-04\u001b[0m,  \u001b[1;36m1.1038e-01\u001b[0m, \u001b[1;36m-8.6887e-02\u001b[0m, \u001b[1;36m-7.3036e-02\u001b[0m, \u001b[1;36m-1.9409e-02\u001b[0m,\n",
       "         \u001b[1;36m1.4030e-01\u001b[0m, \u001b[1;36m-2.7500e-02\u001b[0m, \u001b[1;36m-6.8370e-02\u001b[0m,  \u001b[1;36m5.3648e-02\u001b[0m, \u001b[1;36m-1.0747e-02\u001b[0m,\n",
       "        \u001b[1;36m-3.9285e-02\u001b[0m, \u001b[1;36m-7.5669e-02\u001b[0m,  \u001b[1;36m2.1057e-02\u001b[0m,  \u001b[1;36m3.5978e-02\u001b[0m,  \u001b[1;36m6.1648e-02\u001b[0m,\n",
       "        \u001b[1;36m-3.6488e-02\u001b[0m,  \u001b[1;36m1.1507e-01\u001b[0m, \u001b[1;36m-4.9677e-03\u001b[0m,  \u001b[1;36m3.0514e-02\u001b[0m, \u001b[1;36m-7.8639e-02\u001b[0m,\n",
       "         \u001b[1;36m9.8421e-02\u001b[0m,  \u001b[1;36m2.5322e-02\u001b[0m, \u001b[1;36m-1.0002e-02\u001b[0m,  \u001b[1;36m4.8957e-02\u001b[0m, \u001b[1;36m-7.0811e-02\u001b[0m,\n",
       "        \u001b[1;36m-1.3952e-02\u001b[0m, \u001b[1;36m-1.9013e-02\u001b[0m, \u001b[1;36m-3.3804e-02\u001b[0m, \u001b[1;36m-1.4941e-02\u001b[0m,  \u001b[1;36m3.1447e-02\u001b[0m,\n",
       "         \u001b[1;36m4.5754e-02\u001b[0m, \u001b[1;36m-3.8936e-02\u001b[0m,  \u001b[1;36m1.0241e-02\u001b[0m, \u001b[1;36m-4.7750e-02\u001b[0m, \u001b[1;36m-7.2783e-02\u001b[0m,\n",
       "        \u001b[1;36m-1.9285e-02\u001b[0m,  \u001b[1;36m5.6163e-02\u001b[0m, \u001b[1;36m-6.3321e-03\u001b[0m,  \u001b[1;36m1.9977e-02\u001b[0m,  \u001b[1;36m2.6490e-02\u001b[0m,\n",
       "         \u001b[1;36m6.2586e-02\u001b[0m, \u001b[1;36m-1.2018e-03\u001b[0m, \u001b[1;36m-8.9426e-02\u001b[0m, \u001b[1;36m-4.6173e-02\u001b[0m, \u001b[1;36m-3.6813e-02\u001b[0m,\n",
       "        \u001b[1;36m-4.8190e-02\u001b[0m,  \u001b[1;36m2.1556e-02\u001b[0m,  \u001b[1;36m1.9962e-02\u001b[0m,  \u001b[1;36m3.5407e-02\u001b[0m,  \u001b[1;36m2.6642e-02\u001b[0m,\n",
       "        \u001b[1;36m-5.8311e-02\u001b[0m, \u001b[1;36m-1.2200e-03\u001b[0m, \u001b[1;36m-3.4401e-03\u001b[0m,  \u001b[1;36m1.7953e-02\u001b[0m,  \u001b[1;36m5.4156e-02\u001b[0m,\n",
       "        \u001b[1;36m-5.0989e-03\u001b[0m, \u001b[1;36m-2.7924e-02\u001b[0m,  \u001b[1;36m5.4463e-02\u001b[0m,  \u001b[1;36m1.1905e-01\u001b[0m,  \u001b[1;36m1.2868e-01\u001b[0m,\n",
       "        \u001b[1;36m-8.8595e-02\u001b[0m, \u001b[1;36m-1.6164e-02\u001b[0m, \u001b[1;36m-3.2878e-02\u001b[0m, \u001b[1;36m-3.5485e-02\u001b[0m, \u001b[1;36m-1.9966e-02\u001b[0m,\n",
       "         \u001b[1;36m3.9049e-02\u001b[0m, \u001b[1;36m-4.9114e-02\u001b[0m,  \u001b[1;36m4.5685e-02\u001b[0m, \u001b[1;36m-1.2991e-02\u001b[0m,  \u001b[1;36m4.6847e-02\u001b[0m,\n",
       "        \u001b[1;36m-5.6101e-02\u001b[0m,  \u001b[1;36m6.8093e-02\u001b[0m,  \u001b[1;36m2.4826e-03\u001b[0m,  \u001b[1;36m2.6495e-02\u001b[0m,  \u001b[1;36m7.6566e-02\u001b[0m,\n",
       "         \u001b[1;36m1.5663e-02\u001b[0m, \u001b[1;36m-6.9162e-02\u001b[0m, \u001b[1;36m-6.2864e-02\u001b[0m,  \u001b[1;36m2.0814e-02\u001b[0m, \u001b[1;36m-1.0910e-01\u001b[0m,\n",
       "         \u001b[1;36m2.1203e-02\u001b[0m, \u001b[1;36m-1.4046e-02\u001b[0m,  \u001b[1;36m1.5385e-02\u001b[0m, \u001b[1;36m-6.3359e-03\u001b[0m, \u001b[1;36m-2.8475e-02\u001b[0m,\n",
       "         \u001b[1;36m1.3662e-02\u001b[0m, \u001b[1;36m-1.3258e-01\u001b[0m, \u001b[1;36m-1.8202e-02\u001b[0m, \u001b[1;36m-2.1830e-02\u001b[0m,  \u001b[1;36m8.3101e-02\u001b[0m,\n",
       "        \u001b[1;36m-6.8789e-02\u001b[0m, \u001b[1;36m-9.0988e-03\u001b[0m, \u001b[1;36m-7.0356e-02\u001b[0m,  \u001b[1;36m6.2706e-02\u001b[0m, \u001b[1;36m-4.4722e-02\u001b[0m,\n",
       "        \u001b[1;36m-7.2774e-03\u001b[0m, \u001b[1;36m-1.7467e-01\u001b[0m,  \u001b[1;36m2.3604e-02\u001b[0m, \u001b[1;36m-6.0021e-02\u001b[0m, \u001b[1;36m-3.4137e-02\u001b[0m,\n",
       "         \u001b[1;36m7.4124e-02\u001b[0m,  \u001b[1;36m4.0557e-03\u001b[0m,  \u001b[1;36m5.9823e-02\u001b[0m,  \u001b[1;36m1.4840e-03\u001b[0m, \u001b[1;36m-4.6625e-03\u001b[0m,\n",
       "         \u001b[1;36m7.0497e-03\u001b[0m,  \u001b[1;36m7.7516e-02\u001b[0m,  \u001b[1;36m7.3966e-02\u001b[0m,  \u001b[1;36m3.4246e-02\u001b[0m, \u001b[1;36m-4.2010e-02\u001b[0m,\n",
       "         \u001b[1;36m8.9824e-02\u001b[0m, \u001b[1;36m-1.0567e-01\u001b[0m, \u001b[1;36m-6.4156e-33\u001b[0m, \u001b[1;36m-1.6688e-02\u001b[0m, \u001b[1;36m-3.7029e-02\u001b[0m,\n",
       "         \u001b[1;36m1.5546e-03\u001b[0m, \u001b[1;36m-1.9020e-02\u001b[0m, \u001b[1;36m-3.0639e-02\u001b[0m, \u001b[1;36m-3.2764e-02\u001b[0m,  \u001b[1;36m1.1822e-02\u001b[0m,\n",
       "         \u001b[1;36m9.7167e-03\u001b[0m,  \u001b[1;36m1.2093e-04\u001b[0m,  \u001b[1;36m7.0550e-02\u001b[0m,  \u001b[1;36m2.4579e-02\u001b[0m,  \u001b[1;36m5.7831e-02\u001b[0m,\n",
       "         \u001b[1;36m6.8307e-02\u001b[0m,  \u001b[1;36m5.6851e-02\u001b[0m,  \u001b[1;36m7.3616e-02\u001b[0m,  \u001b[1;36m2.2824e-02\u001b[0m, \u001b[1;36m-7.3005e-02\u001b[0m,\n",
       "        \u001b[1;36m-1.5891e-02\u001b[0m,  \u001b[1;36m2.0759e-02\u001b[0m, \u001b[1;36m-1.2286e-02\u001b[0m,  \u001b[1;36m6.4947e-02\u001b[0m,  \u001b[1;36m1.2431e-01\u001b[0m,\n",
       "         \u001b[1;36m1.8076e-02\u001b[0m,  \u001b[1;36m1.1093e-02\u001b[0m, \u001b[1;36m-2.1620e-04\u001b[0m, \u001b[1;36m-1.7142e-02\u001b[0m,  \u001b[1;36m1.4853e-02\u001b[0m,\n",
       "        \u001b[1;36m-1.2691e-02\u001b[0m, \u001b[1;36m-5.0507e-02\u001b[0m,  \u001b[1;36m3.7222e-02\u001b[0m, \u001b[1;36m-4.0360e-02\u001b[0m, \u001b[1;36m-7.4048e-02\u001b[0m,\n",
       "        \u001b[1;36m-1.0970e-02\u001b[0m,  \u001b[1;36m4.1702e-02\u001b[0m, \u001b[1;36m-6.8921e-02\u001b[0m,  \u001b[1;36m4.1219e-03\u001b[0m,  \u001b[1;36m1.4185e-02\u001b[0m,\n",
       "        \u001b[1;36m-7.5804e-02\u001b[0m, \u001b[1;36m-1.1405e-02\u001b[0m, \u001b[1;36m-8.4661e-02\u001b[0m, \u001b[1;36m-3.4637e-02\u001b[0m,  \u001b[1;36m4.0803e-02\u001b[0m,\n",
       "        \u001b[1;36m-1.9901e-02\u001b[0m, \u001b[1;36m-1.4428e-02\u001b[0m, \u001b[1;36m-3.2878e-02\u001b[0m, \u001b[1;36m-1.3772e-02\u001b[0m, \u001b[1;36m-1.9814e-02\u001b[0m,\n",
       "         \u001b[1;36m9.5046e-02\u001b[0m,  \u001b[1;36m9.0082e-03\u001b[0m, \u001b[1;36m-2.6932e-02\u001b[0m,  \u001b[1;36m1.6957e-02\u001b[0m, \u001b[1;36m-2.3650e-02\u001b[0m,\n",
       "         \u001b[1;36m3.9388e-02\u001b[0m,  \u001b[1;36m1.2614e-02\u001b[0m, \u001b[1;36m-1.8223e-02\u001b[0m,  \u001b[1;36m8.4496e-02\u001b[0m,  \u001b[1;36m1.0471e-01\u001b[0m,\n",
       "         \u001b[1;36m7.0581e-02\u001b[0m,  \u001b[1;36m2.9548e-02\u001b[0m, \u001b[1;36m-6.3651e-02\u001b[0m,  \u001b[1;36m5.4294e-04\u001b[0m, \u001b[1;36m-6.2097e-02\u001b[0m,\n",
       "         \u001b[1;36m1.1686e-02\u001b[0m,  \u001b[1;36m6.8007e-02\u001b[0m, \u001b[1;36m-4.1757e-02\u001b[0m,  \u001b[1;36m5.4762e-05\u001b[0m,  \u001b[1;36m7.2575e-03\u001b[0m,\n",
       "         \u001b[1;36m5.3216e-02\u001b[0m,  \u001b[1;36m3.9076e-02\u001b[0m,  \u001b[1;36m3.3343e-02\u001b[0m, \u001b[1;36m-2.3008e-02\u001b[0m,  \u001b[1;36m3.5174e-02\u001b[0m,\n",
       "        \u001b[1;36m-4.0212e-02\u001b[0m, \u001b[1;36m-1.7000e-02\u001b[0m,  \u001b[1;36m6.0849e-03\u001b[0m,  \u001b[1;36m3.7907e-02\u001b[0m,  \u001b[1;36m3.5553e-02\u001b[0m,\n",
       "        \u001b[1;36m-6.7226e-02\u001b[0m, \u001b[1;36m-4.7138e-02\u001b[0m,  \u001b[1;36m6.7798e-03\u001b[0m, \u001b[1;36m-7.1156e-02\u001b[0m,  \u001b[1;36m7.6744e-02\u001b[0m,\n",
       "         \u001b[1;36m3.7150e-02\u001b[0m, \u001b[1;36m-1.4659e-02\u001b[0m, \u001b[1;36m-7.8331e-02\u001b[0m,  \u001b[1;36m4.6545e-03\u001b[0m,  \u001b[1;36m1.6806e-02\u001b[0m,\n",
       "        \u001b[1;36m-1.1083e-02\u001b[0m,  \u001b[1;36m5.6526e-02\u001b[0m, \u001b[1;36m-7.9980e-02\u001b[0m, \u001b[1;36m-7.2967e-02\u001b[0m, \u001b[1;36m-5.7778e-02\u001b[0m,\n",
       "        \u001b[1;36m-2.5481e-03\u001b[0m, \u001b[1;36m-2.6015e-02\u001b[0m, \u001b[1;36m-2.7038e-02\u001b[0m,  \u001b[1;36m6.3895e-35\u001b[0m,  \u001b[1;36m5.4324e-02\u001b[0m,\n",
       "         \u001b[1;36m5.2883e-02\u001b[0m,  \u001b[1;36m1.8178e-02\u001b[0m,  \u001b[1;36m4.4359e-02\u001b[0m, \u001b[1;36m-9.0200e-03\u001b[0m,  \u001b[1;36m3.8994e-02\u001b[0m,\n",
       "        \u001b[1;36m-3.4364e-02\u001b[0m, \u001b[1;36m-6.9256e-02\u001b[0m,  \u001b[1;36m2.5044e-02\u001b[0m, \u001b[1;36m-4.3153e-02\u001b[0m,  \u001b[1;36m2.5592e-02\u001b[0m,\n",
       "         \u001b[1;36m3.6207e-02\u001b[0m,  \u001b[1;36m7.3959e-02\u001b[0m, \u001b[1;36m-3.4143e-02\u001b[0m,  \u001b[1;36m8.5106e-02\u001b[0m, \u001b[1;36m-5.2802e-02\u001b[0m,\n",
       "        \u001b[1;36m-1.1268e-01\u001b[0m, \u001b[1;36m-3.9601e-02\u001b[0m, \u001b[1;36m-9.2824e-03\u001b[0m, \u001b[1;36m-2.2307e-02\u001b[0m,  \u001b[1;36m1.7575e-02\u001b[0m,\n",
       "         \u001b[1;36m1.4273e-02\u001b[0m,  \u001b[1;36m1.1023e-02\u001b[0m,  \u001b[1;36m1.8959e-02\u001b[0m, \u001b[1;36m-2.1621e-02\u001b[0m, \u001b[1;36m-5.2473e-02\u001b[0m,\n",
       "        \u001b[1;36m-3.1174e-02\u001b[0m,  \u001b[1;36m4.7182e-02\u001b[0m,  \u001b[1;36m5.3034e-02\u001b[0m,  \u001b[1;36m3.2707e-02\u001b[0m,  \u001b[1;36m2.7765e-02\u001b[0m,\n",
       "         \u001b[1;36m4.6465e-02\u001b[0m, \u001b[1;36m-6.6840e-02\u001b[0m,  \u001b[1;36m7.2035e-02\u001b[0m, \u001b[1;36m-1.9091e-02\u001b[0m,  \u001b[1;36m3.4947e-02\u001b[0m,\n",
       "        \u001b[1;36m-1.9729e-02\u001b[0m, \u001b[1;36m-3.5099e-02\u001b[0m, \u001b[1;36m-3.6632e-02\u001b[0m,  \u001b[1;36m1.1696e-02\u001b[0m,  \u001b[1;36m3.6319e-02\u001b[0m,\n",
       "         \u001b[1;36m5.6143e-02\u001b[0m,  \u001b[1;36m2.3251e-03\u001b[0m,  \u001b[1;36m1.0723e-01\u001b[0m, \u001b[1;36m-1.1715e-02\u001b[0m, \u001b[1;36m-3.5454e-03\u001b[0m,\n",
       "        \u001b[1;36m-1.3971e-02\u001b[0m,  \u001b[1;36m5.2321e-03\u001b[0m,  \u001b[1;36m4.5230e-02\u001b[0m, \u001b[1;36m-5.8749e-02\u001b[0m, \u001b[1;36m-2.4461e-02\u001b[0m,\n",
       "        \u001b[1;36m-7.0650e-02\u001b[0m,  \u001b[1;36m4.5616e-02\u001b[0m,  \u001b[1;36m7.2012e-02\u001b[0m, \u001b[1;36m-3.6959e-02\u001b[0m, \u001b[1;36m-3.1838e-02\u001b[0m,\n",
       "         \u001b[1;36m4.6898e-03\u001b[0m,  \u001b[1;36m2.5908e-02\u001b[0m, \u001b[1;36m-6.0194e-02\u001b[0m, \u001b[1;36m-7.2020e-03\u001b[0m,  \u001b[1;36m6.7752e-02\u001b[0m,\n",
       "        \u001b[1;36m-7.0150e-02\u001b[0m, \u001b[1;36m-2.8524e-02\u001b[0m,  \u001b[1;36m4.0547e-03\u001b[0m, \u001b[1;36m-1.3080e-01\u001b[0m, \u001b[1;36m-1.8884e-02\u001b[0m,\n",
       "        \u001b[1;36m-7.3759e-02\u001b[0m, \u001b[1;36m-4.3154e-02\u001b[0m, \u001b[1;36m-3.0080e-02\u001b[0m, \u001b[1;36m-7.0080e-02\u001b[0m,  \u001b[1;36m4.7776e-02\u001b[0m,\n",
       "         \u001b[1;36m7.5751e-03\u001b[0m, \u001b[1;36m-4.0063e-02\u001b[0m, \u001b[1;36m-3.9337e-02\u001b[0m, \u001b[1;36m-5.5096e-02\u001b[0m,  \u001b[1;36m6.7704e-02\u001b[0m,\n",
       "         \u001b[1;36m2.3271e-02\u001b[0m, \u001b[1;36m-1.5606e-02\u001b[0m, \u001b[1;36m-3.0095e-02\u001b[0m, \u001b[1;36m-3.2230e-03\u001b[0m, \u001b[1;36m-1.1410e-01\u001b[0m,\n",
       "         \u001b[1;36m1.7479e-02\u001b[0m,  \u001b[1;36m4.1933e-03\u001b[0m,  \u001b[1;36m5.8488e-02\u001b[0m, \u001b[1;36m-3.2622e-02\u001b[0m, \u001b[1;36m-4.9826e-02\u001b[0m,\n",
       "        \u001b[1;36m-3.0930e-02\u001b[0m,  \u001b[1;36m1.0857e-01\u001b[0m,  \u001b[1;36m5.1082e-02\u001b[0m, \u001b[1;36m-9.7597e-02\u001b[0m, \u001b[1;36m-2.3989e-02\u001b[0m,\n",
       "         \u001b[1;36m7.9028e-02\u001b[0m, \u001b[1;36m-2.6031e-02\u001b[0m, \u001b[1;36m-2.9201e-02\u001b[0m, \u001b[1;36m-6.7714e-02\u001b[0m, \u001b[1;36m-2.3414e-08\u001b[0m,\n",
       "         \u001b[1;36m9.5609e-03\u001b[0m,  \u001b[1;36m3.6905e-02\u001b[0m,  \u001b[1;36m5.0259e-02\u001b[0m, \u001b[1;36m-4.0006e-03\u001b[0m,  \u001b[1;36m2.9434e-02\u001b[0m,\n",
       "        \u001b[1;36m-3.6063e-02\u001b[0m, \u001b[1;36m-4.3240e-02\u001b[0m,  \u001b[1;36m1.4415e-02\u001b[0m,  \u001b[1;36m3.7832e-02\u001b[0m,  \u001b[1;36m1.9344e-03\u001b[0m,\n",
       "        \u001b[1;36m-3.4044e-02\u001b[0m, \u001b[1;36m-2.6402e-03\u001b[0m,  \u001b[1;36m6.3723e-03\u001b[0m, \u001b[1;36m-7.5963e-02\u001b[0m,  \u001b[1;36m3.5744e-02\u001b[0m,\n",
       "         \u001b[1;36m4.8109e-02\u001b[0m, \u001b[1;36m-2.8731e-02\u001b[0m,  \u001b[1;36m5.7399e-04\u001b[0m, \u001b[1;36m-1.6240e-02\u001b[0m, \u001b[1;36m-1.9413e-02\u001b[0m,\n",
       "        \u001b[1;36m-1.0707e-01\u001b[0m, \u001b[1;36m-6.4964e-02\u001b[0m, \u001b[1;36m-1.8988e-03\u001b[0m, \u001b[1;36m-4.3588e-02\u001b[0m, \u001b[1;36m-1.3333e-01\u001b[0m,\n",
       "         \u001b[1;36m3.5273e-02\u001b[0m,  \u001b[1;36m5.5209e-02\u001b[0m, \u001b[1;36m-1.5422e-02\u001b[0m, \u001b[1;36m-2.1405e-02\u001b[0m, \u001b[1;36m-3.5562e-04\u001b[0m,\n",
       "        \u001b[1;36m-4.0583e-02\u001b[0m,  \u001b[1;36m4.0723e-02\u001b[0m, \u001b[1;36m-1.9816e-02\u001b[0m,  \u001b[1;36m4.4682e-02\u001b[0m,  \u001b[1;36m2.7648e-02\u001b[0m,\n",
       "         \u001b[1;36m8.8865e-02\u001b[0m, \u001b[1;36m-5.7460e-02\u001b[0m,  \u001b[1;36m3.9150e-02\u001b[0m,  \u001b[1;36m8.3433e-03\u001b[0m,  \u001b[1;36m5.3881e-02\u001b[0m,\n",
       "         \u001b[1;36m2.0442e-02\u001b[0m, \u001b[1;36m-1.1603e-01\u001b[0m, \u001b[1;36m-5.8360e-02\u001b[0m,  \u001b[1;36m4.1808e-03\u001b[0m, \u001b[1;36m-1.9214e-02\u001b[0m,\n",
       "         \u001b[1;36m1.3940e-02\u001b[0m, \u001b[1;36m-2.2831e-02\u001b[0m, \u001b[1;36m-1.1595e-02\u001b[0m, \u001b[1;36m-1.8103e-02\u001b[0m,  \u001b[1;36m5.2128e-02\u001b[0m,\n",
       "        \u001b[1;36m-6.6055e-02\u001b[0m,  \u001b[1;36m4.8010e-02\u001b[0m, \u001b[1;36m-5.2628e-02\u001b[0m, \u001b[1;36m-2.2247e-03\u001b[0m,  \u001b[1;36m2.1005e-02\u001b[0m,\n",
       "         \u001b[1;36m5.3376e-02\u001b[0m, \u001b[1;36m-6.9090e-02\u001b[0m, \u001b[1;36m-4.1878e-02\u001b[0m, \u001b[1;36m-6.2827e-02\u001b[0m,  \u001b[1;36m2.4870e-02\u001b[0m,\n",
       "         \u001b[1;36m3.1205e-02\u001b[0m,  \u001b[1;36m7.6650e-02\u001b[0m,  \u001b[1;36m7.1036e-02\u001b[0m,  \u001b[1;36m1.1342e-02\u001b[0m\u001b[1m]\u001b[0m\u001b[1m)\u001b[0m\n",
       "\u001b[1m}\u001b[0m\n"
      ]
     },
     "metadata": {},
     "output_type": "display_data"
    }
   ],
   "source": [
    "text = \"What does 'super' do in Python? - difference between super().__init__() and explicit superclass __init__()\"\n",
    "#text = \"meN shoes running ran\"\n",
    "\n",
    "resp = model.encode(text, output_value=None)\n",
    "\n",
    "rich.print(resp)"
   ]
  },
  {
   "cell_type": "code",
   "execution_count": 6,
   "id": "66101a29-cf6b-460a-befb-8f1093555303",
   "metadata": {},
   "outputs": [
    {
     "data": {
      "text/plain": [
       "torch.Size([38, 384])"
      ]
     },
     "execution_count": 6,
     "metadata": {},
     "output_type": "execute_result"
    }
   ],
   "source": [
    "resp['token_embeddings'].shape # for each token, we have embedding\n"
   ]
  },
  {
   "cell_type": "code",
   "execution_count": null,
   "id": "472d06b1-c74f-40e3-a1fa-54c534575f6e",
   "metadata": {},
   "outputs": [],
   "source": []
  },
  {
   "cell_type": "code",
   "execution_count": null,
   "id": "9d721dba-5639-476e-a1f9-4ddb9212e74b",
   "metadata": {},
   "outputs": [],
   "source": []
  },
  {
   "cell_type": "code",
   "execution_count": 7,
   "id": "9cdfef33-ccbd-4a44-87bd-8d337ba7cb10",
   "metadata": {},
   "outputs": [],
   "source": [
    "tokenizer = AutoTokenizer.from_pretrained(model_name)\n"
   ]
  },
  {
   "cell_type": "code",
   "execution_count": 8,
   "id": "e93b4f92-dd9d-4b60-a526-bc1370c80fa7",
   "metadata": {},
   "outputs": [
    {
     "data": {
      "text/plain": [
       "{'input_ids': [101, 2054, 2515, 1005, 3565, 1005, 2079, 1999, 18750, 1029, 1011, 4489, 2090, 3565, 1006, 1007, 1012, 1035, 1035, 1999, 4183, 1035, 1035, 1006, 1007, 1998, 13216, 3565, 26266, 1035, 1035, 1999, 4183, 1035, 1035, 1006, 1007, 102], 'token_type_ids': [0, 0, 0, 0, 0, 0, 0, 0, 0, 0, 0, 0, 0, 0, 0, 0, 0, 0, 0, 0, 0, 0, 0, 0, 0, 0, 0, 0, 0, 0, 0, 0, 0, 0, 0, 0, 0, 0], 'attention_mask': [1, 1, 1, 1, 1, 1, 1, 1, 1, 1, 1, 1, 1, 1, 1, 1, 1, 1, 1, 1, 1, 1, 1, 1, 1, 1, 1, 1, 1, 1, 1, 1, 1, 1, 1, 1, 1, 1]}"
      ]
     },
     "execution_count": 8,
     "metadata": {},
     "output_type": "execute_result"
    }
   ],
   "source": [
    "tokenizer(text)\n"
   ]
  },
  {
   "cell_type": "code",
   "execution_count": 9,
   "id": "1d976f1f-d467-4a6e-a8fb-5fa4ab3d29c0",
   "metadata": {},
   "outputs": [
    {
     "data": {
      "text/html": [
       "<pre style=\"white-space:pre;overflow-x:auto;line-height:normal;font-family:Menlo,'DejaVu Sans Mono',consolas,'Courier New',monospace\"><span style=\"font-weight: bold\">[</span>\n",
       "    <span style=\"color: #008000; text-decoration-color: #008000\">'what'</span>,\n",
       "    <span style=\"color: #008000; text-decoration-color: #008000\">'does'</span>,\n",
       "    <span style=\"color: #008000; text-decoration-color: #008000\">\"'\"</span>,\n",
       "    <span style=\"color: #008000; text-decoration-color: #008000\">'super'</span>,\n",
       "    <span style=\"color: #008000; text-decoration-color: #008000\">\"'\"</span>,\n",
       "    <span style=\"color: #008000; text-decoration-color: #008000\">'do'</span>,\n",
       "    <span style=\"color: #008000; text-decoration-color: #008000\">'in'</span>,\n",
       "    <span style=\"color: #008000; text-decoration-color: #008000\">'python'</span>,\n",
       "    <span style=\"color: #008000; text-decoration-color: #008000\">'?'</span>,\n",
       "    <span style=\"color: #008000; text-decoration-color: #008000\">'-'</span>,\n",
       "    <span style=\"color: #008000; text-decoration-color: #008000\">'difference'</span>,\n",
       "    <span style=\"color: #008000; text-decoration-color: #008000\">'between'</span>,\n",
       "    <span style=\"color: #008000; text-decoration-color: #008000\">'super'</span>,\n",
       "    <span style=\"color: #008000; text-decoration-color: #008000\">'('</span>,\n",
       "    <span style=\"color: #008000; text-decoration-color: #008000\">')'</span>,\n",
       "    <span style=\"color: #008000; text-decoration-color: #008000\">'.'</span>,\n",
       "    <span style=\"color: #008000; text-decoration-color: #008000\">'_'</span>,\n",
       "    <span style=\"color: #008000; text-decoration-color: #008000\">'_'</span>,\n",
       "    <span style=\"color: #008000; text-decoration-color: #008000\">'in'</span>,\n",
       "    <span style=\"color: #008000; text-decoration-color: #008000\">'##it'</span>,\n",
       "    <span style=\"color: #008000; text-decoration-color: #008000\">'_'</span>,\n",
       "    <span style=\"color: #008000; text-decoration-color: #008000\">'_'</span>,\n",
       "    <span style=\"color: #008000; text-decoration-color: #008000\">'('</span>,\n",
       "    <span style=\"color: #008000; text-decoration-color: #008000\">')'</span>,\n",
       "    <span style=\"color: #008000; text-decoration-color: #008000\">'and'</span>,\n",
       "    <span style=\"color: #008000; text-decoration-color: #008000\">'explicit'</span>,\n",
       "    <span style=\"color: #008000; text-decoration-color: #008000\">'super'</span>,\n",
       "    <span style=\"color: #008000; text-decoration-color: #008000\">'##class'</span>,\n",
       "    <span style=\"color: #008000; text-decoration-color: #008000\">'_'</span>,\n",
       "    <span style=\"color: #008000; text-decoration-color: #008000\">'_'</span>,\n",
       "    <span style=\"color: #008000; text-decoration-color: #008000\">'in'</span>,\n",
       "    <span style=\"color: #008000; text-decoration-color: #008000\">'##it'</span>,\n",
       "    <span style=\"color: #008000; text-decoration-color: #008000\">'_'</span>,\n",
       "    <span style=\"color: #008000; text-decoration-color: #008000\">'_'</span>,\n",
       "    <span style=\"color: #008000; text-decoration-color: #008000\">'('</span>,\n",
       "    <span style=\"color: #008000; text-decoration-color: #008000\">')'</span>\n",
       "<span style=\"font-weight: bold\">]</span>\n",
       "</pre>\n"
      ],
      "text/plain": [
       "\u001b[1m[\u001b[0m\n",
       "    \u001b[32m'what'\u001b[0m,\n",
       "    \u001b[32m'does'\u001b[0m,\n",
       "    \u001b[32m\"'\"\u001b[0m,\n",
       "    \u001b[32m'super'\u001b[0m,\n",
       "    \u001b[32m\"'\"\u001b[0m,\n",
       "    \u001b[32m'do'\u001b[0m,\n",
       "    \u001b[32m'in'\u001b[0m,\n",
       "    \u001b[32m'python'\u001b[0m,\n",
       "    \u001b[32m'?'\u001b[0m,\n",
       "    \u001b[32m'-'\u001b[0m,\n",
       "    \u001b[32m'difference'\u001b[0m,\n",
       "    \u001b[32m'between'\u001b[0m,\n",
       "    \u001b[32m'super'\u001b[0m,\n",
       "    \u001b[32m'\u001b[0m\u001b[32m(\u001b[0m\u001b[32m'\u001b[0m,\n",
       "    \u001b[32m'\u001b[0m\u001b[32m)\u001b[0m\u001b[32m'\u001b[0m,\n",
       "    \u001b[32m'.'\u001b[0m,\n",
       "    \u001b[32m'_'\u001b[0m,\n",
       "    \u001b[32m'_'\u001b[0m,\n",
       "    \u001b[32m'in'\u001b[0m,\n",
       "    \u001b[32m'##it'\u001b[0m,\n",
       "    \u001b[32m'_'\u001b[0m,\n",
       "    \u001b[32m'_'\u001b[0m,\n",
       "    \u001b[32m'\u001b[0m\u001b[32m(\u001b[0m\u001b[32m'\u001b[0m,\n",
       "    \u001b[32m'\u001b[0m\u001b[32m)\u001b[0m\u001b[32m'\u001b[0m,\n",
       "    \u001b[32m'and'\u001b[0m,\n",
       "    \u001b[32m'explicit'\u001b[0m,\n",
       "    \u001b[32m'super'\u001b[0m,\n",
       "    \u001b[32m'##class'\u001b[0m,\n",
       "    \u001b[32m'_'\u001b[0m,\n",
       "    \u001b[32m'_'\u001b[0m,\n",
       "    \u001b[32m'in'\u001b[0m,\n",
       "    \u001b[32m'##it'\u001b[0m,\n",
       "    \u001b[32m'_'\u001b[0m,\n",
       "    \u001b[32m'_'\u001b[0m,\n",
       "    \u001b[32m'\u001b[0m\u001b[32m(\u001b[0m\u001b[32m'\u001b[0m,\n",
       "    \u001b[32m'\u001b[0m\u001b[32m)\u001b[0m\u001b[32m'\u001b[0m\n",
       "\u001b[1m]\u001b[0m\n"
      ]
     },
     "metadata": {},
     "output_type": "display_data"
    }
   ],
   "source": [
    "tokens = tokenizer.tokenize(text) \n",
    "rich.print ( tokens)"
   ]
  },
  {
   "cell_type": "code",
   "execution_count": 10,
   "id": "39bf1ea7-d792-4bbd-bd78-126c86e06037",
   "metadata": {},
   "outputs": [
    {
     "data": {
      "text/plain": [
       "[2054,\n",
       " 2515,\n",
       " 1005,\n",
       " 3565,\n",
       " 1005,\n",
       " 2079,\n",
       " 1999,\n",
       " 18750,\n",
       " 1029,\n",
       " 1011,\n",
       " 4489,\n",
       " 2090,\n",
       " 3565,\n",
       " 1006,\n",
       " 1007,\n",
       " 1012,\n",
       " 1035,\n",
       " 1035,\n",
       " 1999,\n",
       " 4183,\n",
       " 1035,\n",
       " 1035,\n",
       " 1006,\n",
       " 1007,\n",
       " 1998,\n",
       " 13216,\n",
       " 3565,\n",
       " 26266,\n",
       " 1035,\n",
       " 1035,\n",
       " 1999,\n",
       " 4183,\n",
       " 1035,\n",
       " 1035,\n",
       " 1006,\n",
       " 1007]"
      ]
     },
     "execution_count": 10,
     "metadata": {},
     "output_type": "execute_result"
    }
   ],
   "source": [
    "input_ids= tokenizer.convert_tokens_to_ids(tokens)\n",
    "input_ids"
   ]
  },
  {
   "cell_type": "code",
   "execution_count": null,
   "id": "8a5a6651-7977-48ee-8c5c-3edddddcc673",
   "metadata": {},
   "outputs": [],
   "source": []
  },
  {
   "cell_type": "code",
   "execution_count": 11,
   "id": "cdc8a452-cc22-4624-84fc-472cd880cb30",
   "metadata": {},
   "outputs": [
    {
     "data": {
      "text/plain": [
       "\"what does'super'do in python? - difference between super ( ). _ _ init _ _ ( ) and explicit superclass _ _ init _ _ ( )\""
      ]
     },
     "execution_count": 11,
     "metadata": {},
     "output_type": "execute_result"
    }
   ],
   "source": [
    "decoded_string = tokenizer.decode(input_ids)\n",
    "decoded_string"
   ]
  },
  {
   "cell_type": "code",
   "execution_count": null,
   "id": "0dd2c4fb-08dc-4e71-9773-afedf84182cb",
   "metadata": {},
   "outputs": [],
   "source": []
  },
  {
   "cell_type": "code",
   "execution_count": null,
   "id": "8baa5a71-6f11-45eb-b60c-ec34bb8ec1ec",
   "metadata": {},
   "outputs": [],
   "source": []
  },
  {
   "cell_type": "code",
   "execution_count": null,
   "id": "f76d0532-719f-43e7-b06c-0aeccb45414a",
   "metadata": {},
   "outputs": [],
   "source": []
  },
  {
   "cell_type": "markdown",
   "id": "a45f27fd-b4c5-4b37-a969-ee270981770c",
   "metadata": {},
   "source": [
    "## Dset"
   ]
  },
  {
   "cell_type": "code",
   "execution_count": 12,
   "id": "e47911b6-c59d-4719-b32b-37a96a09c198",
   "metadata": {},
   "outputs": [],
   "source": [
    "dset = datasets.load_from_disk(\"../data/processed\")"
   ]
  },
  {
   "cell_type": "code",
   "execution_count": null,
   "id": "bc4d1745-0860-40ec-8ae1-60d880728861",
   "metadata": {},
   "outputs": [],
   "source": []
  },
  {
   "cell_type": "code",
   "execution_count": 13,
   "id": "6f6372a9-5506-46a5-af3c-9b305ceb81ee",
   "metadata": {},
   "outputs": [
    {
     "data": {
      "application/vnd.jupyter.widget-view+json": {
       "model_id": "ca9f06b6ac7f4752b909ad8fb24a6927",
       "version_major": 2,
       "version_minor": 0
      },
      "text/plain": [
       "  0%|          | 0/782 [00:00<?, ?ba/s]"
      ]
     },
     "metadata": {},
     "output_type": "display_data"
    }
   ],
   "source": [
    "dset = dset.map(\n",
    "    lambda example: {'embedding':model.encode(example['description_final'], device='cpu', normalize_embeddings=True)}, batched=True, batch_size=32)\n"
   ]
  },
  {
   "cell_type": "code",
   "execution_count": null,
   "id": "0417f97f-394d-47b1-85bb-f54627ec604e",
   "metadata": {},
   "outputs": [],
   "source": []
  },
  {
   "cell_type": "code",
   "execution_count": 14,
   "id": "83fa7b33-888c-4a13-866c-70c261540959",
   "metadata": {},
   "outputs": [
    {
     "data": {
      "text/plain": [
       "Dataset({\n",
       "    features: ['photo_id', 'photo_url', 'photo_image_url', 'photo_submitted_at', 'photo_featured', 'photo_width', 'photo_height', 'photo_aspect_ratio', 'photo_description', 'photographer_username', 'photographer_first_name', 'photographer_last_name', 'exif_camera_make', 'exif_camera_model', 'exif_iso', 'exif_aperture_value', 'exif_focal_length', 'exif_exposure_time', 'photo_location_name', 'photo_location_latitude', 'photo_location_longitude', 'photo_location_country', 'photo_location_city', 'stats_views', 'stats_downloads', 'ai_description', 'ai_primary_landmark_name', 'ai_primary_landmark_latitude', 'ai_primary_landmark_longitude', 'ai_primary_landmark_confidence', 'blur_hash', 'description_final', 'image', 'embedding'],\n",
       "    num_rows: 24995\n",
       "})"
      ]
     },
     "execution_count": 14,
     "metadata": {},
     "output_type": "execute_result"
    }
   ],
   "source": [
    "dset"
   ]
  },
  {
   "cell_type": "code",
   "execution_count": 15,
   "id": "a7e32a06-6c59-40f8-b572-8ec581e5dafb",
   "metadata": {},
   "outputs": [
    {
     "data": {
      "text/html": [
       "<pre style=\"white-space:pre;overflow-x:auto;line-height:normal;font-family:Menlo,'DejaVu Sans Mono',consolas,'Courier New',monospace\"><span style=\"font-weight: bold\">{</span>\n",
       "    <span style=\"color: #008000; text-decoration-color: #008000\">'photo_id'</span>: <span style=\"color: #008000; text-decoration-color: #008000\">'XMyPniM9LF0'</span>,\n",
       "    <span style=\"color: #008000; text-decoration-color: #008000\">'photo_url'</span>: <span style=\"color: #008000; text-decoration-color: #008000\">'https://unsplash.com/photos/XMyPniM9LF0'</span>,\n",
       "    <span style=\"color: #008000; text-decoration-color: #008000\">'photo_image_url'</span>: <span style=\"color: #008000; text-decoration-color: #008000\">'https://images.unsplash.com/uploads/14119492946973137ce46/f1f2ebf3'</span>,\n",
       "    <span style=\"color: #008000; text-decoration-color: #008000\">'photo_submitted_at'</span>: <span style=\"color: #008000; text-decoration-color: #008000\">'2014-09-29 00:08:38.594364'</span>,\n",
       "    <span style=\"color: #008000; text-decoration-color: #008000\">'photo_featured'</span>: <span style=\"color: #008000; text-decoration-color: #008000\">'t'</span>,\n",
       "    <span style=\"color: #008000; text-decoration-color: #008000\">'photo_width'</span>: <span style=\"color: #008080; text-decoration-color: #008080; font-weight: bold\">4272</span>,\n",
       "    <span style=\"color: #008000; text-decoration-color: #008000\">'photo_height'</span>: <span style=\"color: #008080; text-decoration-color: #008080; font-weight: bold\">2848</span>,\n",
       "    <span style=\"color: #008000; text-decoration-color: #008000\">'photo_aspect_ratio'</span>: <span style=\"color: #008080; text-decoration-color: #008080; font-weight: bold\">1.5</span>,\n",
       "    <span style=\"color: #008000; text-decoration-color: #008000\">'photo_description'</span>: <span style=\"color: #008000; text-decoration-color: #008000\">'Woman exploring a forest'</span>,\n",
       "    <span style=\"color: #008000; text-decoration-color: #008000\">'photographer_username'</span>: <span style=\"color: #008000; text-decoration-color: #008000\">'michellespencer77'</span>,\n",
       "    <span style=\"color: #008000; text-decoration-color: #008000\">'photographer_first_name'</span>: <span style=\"color: #008000; text-decoration-color: #008000\">'Michelle'</span>,\n",
       "    <span style=\"color: #008000; text-decoration-color: #008000\">'photographer_last_name'</span>: <span style=\"color: #008000; text-decoration-color: #008000\">'Spencer'</span>,\n",
       "    <span style=\"color: #008000; text-decoration-color: #008000\">'exif_camera_make'</span>: <span style=\"color: #008000; text-decoration-color: #008000\">'Canon'</span>,\n",
       "    <span style=\"color: #008000; text-decoration-color: #008000\">'exif_camera_model'</span>: <span style=\"color: #008000; text-decoration-color: #008000\">'Canon EOS REBEL T3'</span>,\n",
       "    <span style=\"color: #008000; text-decoration-color: #008000\">'exif_iso'</span>: <span style=\"color: #008080; text-decoration-color: #008080; font-weight: bold\">400.0</span>,\n",
       "    <span style=\"color: #008000; text-decoration-color: #008000\">'exif_aperture_value'</span>: <span style=\"color: #008000; text-decoration-color: #008000\">'1.8'</span>,\n",
       "    <span style=\"color: #008000; text-decoration-color: #008000\">'exif_focal_length'</span>: <span style=\"color: #008000; text-decoration-color: #008000\">'50.0'</span>,\n",
       "    <span style=\"color: #008000; text-decoration-color: #008000\">'exif_exposure_time'</span>: <span style=\"color: #008000; text-decoration-color: #008000\">'1/100'</span>,\n",
       "    <span style=\"color: #008000; text-decoration-color: #008000\">'photo_location_name'</span>: <span style=\"color: #800080; text-decoration-color: #800080; font-style: italic\">None</span>,\n",
       "    <span style=\"color: #008000; text-decoration-color: #008000\">'photo_location_latitude'</span>: <span style=\"color: #800080; text-decoration-color: #800080; font-style: italic\">None</span>,\n",
       "    <span style=\"color: #008000; text-decoration-color: #008000\">'photo_location_longitude'</span>: <span style=\"color: #800080; text-decoration-color: #800080; font-style: italic\">None</span>,\n",
       "    <span style=\"color: #008000; text-decoration-color: #008000\">'photo_location_country'</span>: <span style=\"color: #800080; text-decoration-color: #800080; font-style: italic\">None</span>,\n",
       "    <span style=\"color: #008000; text-decoration-color: #008000\">'photo_location_city'</span>: <span style=\"color: #800080; text-decoration-color: #800080; font-style: italic\">None</span>,\n",
       "    <span style=\"color: #008000; text-decoration-color: #008000\">'stats_views'</span>: <span style=\"color: #008080; text-decoration-color: #008080; font-weight: bold\">2375421</span>,\n",
       "    <span style=\"color: #008000; text-decoration-color: #008000\">'stats_downloads'</span>: <span style=\"color: #008080; text-decoration-color: #008080; font-weight: bold\">6967</span>,\n",
       "    <span style=\"color: #008000; text-decoration-color: #008000\">'ai_description'</span>: <span style=\"color: #008000; text-decoration-color: #008000\">'woman walking in the middle of forest'</span>,\n",
       "    <span style=\"color: #008000; text-decoration-color: #008000\">'ai_primary_landmark_name'</span>: <span style=\"color: #800080; text-decoration-color: #800080; font-style: italic\">None</span>,\n",
       "    <span style=\"color: #008000; text-decoration-color: #008000\">'ai_primary_landmark_latitude'</span>: <span style=\"color: #800080; text-decoration-color: #800080; font-style: italic\">None</span>,\n",
       "    <span style=\"color: #008000; text-decoration-color: #008000\">'ai_primary_landmark_longitude'</span>: <span style=\"color: #800080; text-decoration-color: #800080; font-style: italic\">None</span>,\n",
       "    <span style=\"color: #008000; text-decoration-color: #008000\">'ai_primary_landmark_confidence'</span>: <span style=\"color: #800080; text-decoration-color: #800080; font-style: italic\">None</span>,\n",
       "    <span style=\"color: #008000; text-decoration-color: #008000\">'blur_hash'</span>: <span style=\"color: #008000; text-decoration-color: #008000\">'L56bVcRRIWMh.gVunlS4SMbsRRxr'</span>,\n",
       "    <span style=\"color: #008000; text-decoration-color: #008000\">'description_final'</span>: <span style=\"color: #008000; text-decoration-color: #008000\">'Woman exploring a forest'</span>,\n",
       "    <span style=\"color: #008000; text-decoration-color: #008000\">'image'</span>: <span style=\"font-weight: bold\">&lt;</span><span style=\"color: #ff00ff; text-decoration-color: #ff00ff; font-weight: bold\">PIL.JpegImagePlugin.JpegImageFile</span><span style=\"color: #000000; text-decoration-color: #000000\"> image </span><span style=\"color: #808000; text-decoration-color: #808000\">mode</span><span style=\"color: #000000; text-decoration-color: #000000\">=</span><span style=\"color: #800080; text-decoration-color: #800080\">RGB</span><span style=\"color: #000000; text-decoration-color: #000000\"> </span><span style=\"color: #808000; text-decoration-color: #808000\">size</span><span style=\"color: #000000; text-decoration-color: #000000\">=</span><span style=\"color: #800080; text-decoration-color: #800080\">64</span><span style=\"color: #008080; text-decoration-color: #008080; font-weight: bold\">0x427</span><span style=\"color: #000000; text-decoration-color: #000000\"> at </span><span style=\"color: #008080; text-decoration-color: #008080; font-weight: bold\">0x7F07A34117F0</span><span style=\"font-weight: bold\">&gt;</span>,\n",
       "    <span style=\"color: #008000; text-decoration-color: #008000\">'embedding'</span>: <span style=\"font-weight: bold\">[</span>\n",
       "        <span style=\"color: #008080; text-decoration-color: #008080; font-weight: bold\">0.0830303505063057</span>,\n",
       "        <span style=\"color: #008080; text-decoration-color: #008080; font-weight: bold\">-0.06755100935697556</span>,\n",
       "        <span style=\"color: #008080; text-decoration-color: #008080; font-weight: bold\">0.016757922247052193</span>,\n",
       "        <span style=\"color: #008080; text-decoration-color: #008080; font-weight: bold\">0.09100779891014099</span>,\n",
       "        <span style=\"color: #008080; text-decoration-color: #008080; font-weight: bold\">0.10158310830593109</span>,\n",
       "        <span style=\"color: #008080; text-decoration-color: #008080; font-weight: bold\">0.005028506740927696</span>,\n",
       "        <span style=\"color: #008080; text-decoration-color: #008080; font-weight: bold\">-0.002600233070552349</span>,\n",
       "        <span style=\"color: #008080; text-decoration-color: #008080; font-weight: bold\">-0.019367434084415436</span>,\n",
       "        <span style=\"color: #008080; text-decoration-color: #008080; font-weight: bold\">0.010927319526672363</span>,\n",
       "        <span style=\"color: #008080; text-decoration-color: #008080; font-weight: bold\">0.07374636828899384</span>,\n",
       "        <span style=\"color: #008080; text-decoration-color: #008080; font-weight: bold\">-0.016480574384331703</span>,\n",
       "        <span style=\"color: #008080; text-decoration-color: #008080; font-weight: bold\">-0.07633168995380402</span>,\n",
       "        <span style=\"color: #008080; text-decoration-color: #008080; font-weight: bold\">-0.0996660441160202</span>,\n",
       "        <span style=\"color: #008080; text-decoration-color: #008080; font-weight: bold\">0.021467329934239388</span>,\n",
       "        <span style=\"color: #008080; text-decoration-color: #008080; font-weight: bold\">-0.00948204006999731</span>,\n",
       "        <span style=\"color: #008080; text-decoration-color: #008080; font-weight: bold\">0.12392714619636536</span>,\n",
       "        <span style=\"color: #008080; text-decoration-color: #008080; font-weight: bold\">-0.02461921237409115</span>,\n",
       "        <span style=\"color: #008080; text-decoration-color: #008080; font-weight: bold\">0.032766517251729965</span>,\n",
       "        <span style=\"color: #008080; text-decoration-color: #008080; font-weight: bold\">0.0440586619079113</span>,\n",
       "        <span style=\"color: #008080; text-decoration-color: #008080; font-weight: bold\">0.05890907719731331</span>,\n",
       "        <span style=\"color: #008080; text-decoration-color: #008080; font-weight: bold\">0.01649940386414528</span>,\n",
       "        <span style=\"color: #008080; text-decoration-color: #008080; font-weight: bold\">-0.001281778677366674</span>,\n",
       "        <span style=\"color: #008080; text-decoration-color: #008080; font-weight: bold\">-0.002665333915501833</span>,\n",
       "        <span style=\"color: #008080; text-decoration-color: #008080; font-weight: bold\">0.018453793600201607</span>,\n",
       "        <span style=\"color: #008080; text-decoration-color: #008080; font-weight: bold\">-0.03046845644712448</span>,\n",
       "        <span style=\"color: #008080; text-decoration-color: #008080; font-weight: bold\">-0.10237908363342285</span>,\n",
       "        <span style=\"color: #008080; text-decoration-color: #008080; font-weight: bold\">-0.07643647491931915</span>,\n",
       "        <span style=\"color: #008080; text-decoration-color: #008080; font-weight: bold\">0.04187469184398651</span>,\n",
       "        <span style=\"color: #008080; text-decoration-color: #008080; font-weight: bold\">-0.008350006304681301</span>,\n",
       "        <span style=\"color: #008080; text-decoration-color: #008080; font-weight: bold\">-0.00876616034656763</span>,\n",
       "        <span style=\"color: #008080; text-decoration-color: #008080; font-weight: bold\">-0.011281387880444527</span>,\n",
       "        <span style=\"color: #008080; text-decoration-color: #008080; font-weight: bold\">0.03410236909985542</span>,\n",
       "        <span style=\"color: #008080; text-decoration-color: #008080; font-weight: bold\">-0.018544496968388557</span>,\n",
       "        <span style=\"color: #008080; text-decoration-color: #008080; font-weight: bold\">0.06805386394262314</span>,\n",
       "        <span style=\"color: #008080; text-decoration-color: #008080; font-weight: bold\">-0.03742838650941849</span>,\n",
       "        <span style=\"color: #008080; text-decoration-color: #008080; font-weight: bold\">0.05683537572622299</span>,\n",
       "        <span style=\"color: #008080; text-decoration-color: #008080; font-weight: bold\">-0.01375591941177845</span>,\n",
       "        <span style=\"color: #008080; text-decoration-color: #008080; font-weight: bold\">-0.05500423535704613</span>,\n",
       "        <span style=\"color: #008080; text-decoration-color: #008080; font-weight: bold\">0.023737551644444466</span>,\n",
       "        <span style=\"color: #008080; text-decoration-color: #008080; font-weight: bold\">0.03510565683245659</span>,\n",
       "        <span style=\"color: #008080; text-decoration-color: #008080; font-weight: bold\">-0.09786780923604965</span>,\n",
       "        <span style=\"color: #008080; text-decoration-color: #008080; font-weight: bold\">0.019752422347664833</span>,\n",
       "        <span style=\"color: #008080; text-decoration-color: #008080; font-weight: bold\">0.0008298805914819241</span>,\n",
       "        <span style=\"color: #008080; text-decoration-color: #008080; font-weight: bold\">-0.05914072319865227</span>,\n",
       "        <span style=\"color: #008080; text-decoration-color: #008080; font-weight: bold\">-0.008947904221713543</span>,\n",
       "        <span style=\"color: #008080; text-decoration-color: #008080; font-weight: bold\">-0.042243048548698425</span>,\n",
       "        <span style=\"color: #008080; text-decoration-color: #008080; font-weight: bold\">0.03851393237709999</span>,\n",
       "        <span style=\"color: #008080; text-decoration-color: #008080; font-weight: bold\">0.075810506939888</span>,\n",
       "        <span style=\"color: #008080; text-decoration-color: #008080; font-weight: bold\">0.01905851624906063</span>,\n",
       "        <span style=\"color: #008080; text-decoration-color: #008080; font-weight: bold\">-0.06816433370113373</span>,\n",
       "        <span style=\"color: #008080; text-decoration-color: #008080; font-weight: bold\">0.007752161007374525</span>,\n",
       "        <span style=\"color: #008080; text-decoration-color: #008080; font-weight: bold\">-0.0872664824128151</span>,\n",
       "        <span style=\"color: #008080; text-decoration-color: #008080; font-weight: bold\">-0.11505133658647537</span>,\n",
       "        <span style=\"color: #008080; text-decoration-color: #008080; font-weight: bold\">-0.06915692239999771</span>,\n",
       "        <span style=\"color: #008080; text-decoration-color: #008080; font-weight: bold\">-0.026582809165120125</span>,\n",
       "        <span style=\"color: #008080; text-decoration-color: #008080; font-weight: bold\">0.02626717835664749</span>,\n",
       "        <span style=\"color: #008080; text-decoration-color: #008080; font-weight: bold\">-0.012593049556016922</span>,\n",
       "        <span style=\"color: #008080; text-decoration-color: #008080; font-weight: bold\">-0.07244285941123962</span>,\n",
       "        <span style=\"color: #008080; text-decoration-color: #008080; font-weight: bold\">0.04744509235024452</span>,\n",
       "        <span style=\"color: #008080; text-decoration-color: #008080; font-weight: bold\">-0.002609628951177001</span>,\n",
       "        <span style=\"color: #008080; text-decoration-color: #008080; font-weight: bold\">0.09833682328462601</span>,\n",
       "        <span style=\"color: #008080; text-decoration-color: #008080; font-weight: bold\">0.06072022020816803</span>,\n",
       "        <span style=\"color: #008080; text-decoration-color: #008080; font-weight: bold\">-0.025261757895350456</span>,\n",
       "        <span style=\"color: #008080; text-decoration-color: #008080; font-weight: bold\">0.02841377630829811</span>,\n",
       "        <span style=\"color: #008080; text-decoration-color: #008080; font-weight: bold\">0.01553035993129015</span>,\n",
       "        <span style=\"color: #008080; text-decoration-color: #008080; font-weight: bold\">-0.0421944223344326</span>,\n",
       "        <span style=\"color: #008080; text-decoration-color: #008080; font-weight: bold\">-0.05775362625718117</span>,\n",
       "        <span style=\"color: #008080; text-decoration-color: #008080; font-weight: bold\">-0.005985558964312077</span>,\n",
       "        <span style=\"color: #008080; text-decoration-color: #008080; font-weight: bold\">0.12382839620113373</span>,\n",
       "        <span style=\"color: #008080; text-decoration-color: #008080; font-weight: bold\">-0.03346623107790947</span>,\n",
       "        <span style=\"color: #008080; text-decoration-color: #008080; font-weight: bold\">0.07404892146587372</span>,\n",
       "        <span style=\"color: #008080; text-decoration-color: #008080; font-weight: bold\">-0.0012986598303541541</span>,\n",
       "        <span style=\"color: #008080; text-decoration-color: #008080; font-weight: bold\">-0.06490236520767212</span>,\n",
       "        <span style=\"color: #008080; text-decoration-color: #008080; font-weight: bold\">0.012131811119616032</span>,\n",
       "        <span style=\"color: #008080; text-decoration-color: #008080; font-weight: bold\">0.11206416040658951</span>,\n",
       "        <span style=\"color: #008080; text-decoration-color: #008080; font-weight: bold\">0.0022594609763473272</span>,\n",
       "        <span style=\"color: #008080; text-decoration-color: #008080; font-weight: bold\">0.00046667613787576556</span>,\n",
       "        <span style=\"color: #008080; text-decoration-color: #008080; font-weight: bold\">0.07633617520332336</span>,\n",
       "        <span style=\"color: #008080; text-decoration-color: #008080; font-weight: bold\">0.005854411981999874</span>,\n",
       "        <span style=\"color: #008080; text-decoration-color: #008080; font-weight: bold\">0.009757926687598228</span>,\n",
       "        <span style=\"color: #008080; text-decoration-color: #008080; font-weight: bold\">0.0158031415194273</span>,\n",
       "        <span style=\"color: #008080; text-decoration-color: #008080; font-weight: bold\">0.043435897678136826</span>,\n",
       "        <span style=\"color: #008080; text-decoration-color: #008080; font-weight: bold\">0.05402514711022377</span>,\n",
       "        <span style=\"color: #008080; text-decoration-color: #008080; font-weight: bold\">0.05363898724317551</span>,\n",
       "        <span style=\"color: #008080; text-decoration-color: #008080; font-weight: bold\">0.02404092065989971</span>,\n",
       "        <span style=\"color: #008080; text-decoration-color: #008080; font-weight: bold\">0.06629560887813568</span>,\n",
       "        <span style=\"color: #008080; text-decoration-color: #008080; font-weight: bold\">-0.057825855910778046</span>,\n",
       "        <span style=\"color: #008080; text-decoration-color: #008080; font-weight: bold\">0.05765451490879059</span>,\n",
       "        <span style=\"color: #008080; text-decoration-color: #008080; font-weight: bold\">0.05229165032505989</span>,\n",
       "        <span style=\"color: #008080; text-decoration-color: #008080; font-weight: bold\">-0.05528979003429413</span>,\n",
       "        <span style=\"color: #008080; text-decoration-color: #008080; font-weight: bold\">-0.02499806508421898</span>,\n",
       "        <span style=\"color: #008080; text-decoration-color: #008080; font-weight: bold\">-0.08955580741167068</span>,\n",
       "        <span style=\"color: #008080; text-decoration-color: #008080; font-weight: bold\">-0.07401495426893234</span>,\n",
       "        <span style=\"color: #008080; text-decoration-color: #008080; font-weight: bold\">0.04990016669034958</span>,\n",
       "        <span style=\"color: #008080; text-decoration-color: #008080; font-weight: bold\">-0.071408212184906</span>,\n",
       "        <span style=\"color: #008080; text-decoration-color: #008080; font-weight: bold\">-0.04006853327155113</span>,\n",
       "        <span style=\"color: #008080; text-decoration-color: #008080; font-weight: bold\">0.05586433783173561</span>,\n",
       "        <span style=\"color: #008080; text-decoration-color: #008080; font-weight: bold\">-0.07767123728990555</span>,\n",
       "        <span style=\"color: #008080; text-decoration-color: #008080; font-weight: bold\">0.05119192227721214</span>,\n",
       "        <span style=\"color: #008080; text-decoration-color: #008080; font-weight: bold\">0.03398393094539642</span>,\n",
       "        <span style=\"color: #008080; text-decoration-color: #008080; font-weight: bold\">-0.004238974303007126</span>,\n",
       "        <span style=\"color: #008080; text-decoration-color: #008080; font-weight: bold\">0.06086175888776779</span>,\n",
       "        <span style=\"color: #008080; text-decoration-color: #008080; font-weight: bold\">-0.010651434771716595</span>,\n",
       "        <span style=\"color: #008080; text-decoration-color: #008080; font-weight: bold\">-0.006932792253792286</span>,\n",
       "        <span style=\"color: #008080; text-decoration-color: #008080; font-weight: bold\">-0.0981331393122673</span>,\n",
       "        <span style=\"color: #008080; text-decoration-color: #008080; font-weight: bold\">0.04138857126235962</span>,\n",
       "        <span style=\"color: #008080; text-decoration-color: #008080; font-weight: bold\">-0.04439203068614006</span>,\n",
       "        <span style=\"color: #008080; text-decoration-color: #008080; font-weight: bold\">0.060603827238082886</span>,\n",
       "        <span style=\"color: #008080; text-decoration-color: #008080; font-weight: bold\">0.0287997517734766</span>,\n",
       "        <span style=\"color: #008080; text-decoration-color: #008080; font-weight: bold\">0.014037941582500935</span>,\n",
       "        <span style=\"color: #008080; text-decoration-color: #008080; font-weight: bold\">0.028811069205403328</span>,\n",
       "        <span style=\"color: #008080; text-decoration-color: #008080; font-weight: bold\">0.00642520934343338</span>,\n",
       "        <span style=\"color: #008080; text-decoration-color: #008080; font-weight: bold\">-0.07866854220628738</span>,\n",
       "        <span style=\"color: #008080; text-decoration-color: #008080; font-weight: bold\">0.09037470817565918</span>,\n",
       "        <span style=\"color: #008080; text-decoration-color: #008080; font-weight: bold\">0.011841735802590847</span>,\n",
       "        <span style=\"color: #008080; text-decoration-color: #008080; font-weight: bold\">0.0018862943397834897</span>,\n",
       "        <span style=\"color: #008080; text-decoration-color: #008080; font-weight: bold\">-0.025623977184295654</span>,\n",
       "        <span style=\"color: #008080; text-decoration-color: #008080; font-weight: bold\">0.01916508376598358</span>,\n",
       "        <span style=\"color: #008080; text-decoration-color: #008080; font-weight: bold\">0.03996772691607475</span>,\n",
       "        <span style=\"color: #008080; text-decoration-color: #008080; font-weight: bold\">0.051679741591215134</span>,\n",
       "        <span style=\"color: #008080; text-decoration-color: #008080; font-weight: bold\">-0.04852116107940674</span>,\n",
       "        <span style=\"color: #008080; text-decoration-color: #008080; font-weight: bold\">-0.09722000360488892</span>,\n",
       "        <span style=\"color: #008080; text-decoration-color: #008080; font-weight: bold\">0.030072730034589767</span>,\n",
       "        <span style=\"color: #008080; text-decoration-color: #008080; font-weight: bold\">-0.058650579303503036</span>,\n",
       "        <span style=\"color: #008080; text-decoration-color: #008080; font-weight: bold\">0.08791159838438034</span>,\n",
       "        <span style=\"color: #008080; text-decoration-color: #008080; font-weight: bold\">-0.01808820478618145</span>,\n",
       "        <span style=\"color: #008080; text-decoration-color: #008080; font-weight: bold\">0.10404062271118164</span>,\n",
       "        <span style=\"color: #008080; text-decoration-color: #008080; font-weight: bold\">-5.086165691336337e-33</span>,\n",
       "        <span style=\"color: #008080; text-decoration-color: #008080; font-weight: bold\">0.03181545063853264</span>,\n",
       "        <span style=\"color: #008080; text-decoration-color: #008080; font-weight: bold\">-0.006305550690740347</span>,\n",
       "        <span style=\"color: #008080; text-decoration-color: #008080; font-weight: bold\">0.033208563923835754</span>,\n",
       "        <span style=\"color: #008080; text-decoration-color: #008080; font-weight: bold\">0.026215670630335808</span>,\n",
       "        <span style=\"color: #008080; text-decoration-color: #008080; font-weight: bold\">0.03930642455816269</span>,\n",
       "        <span style=\"color: #008080; text-decoration-color: #008080; font-weight: bold\">-0.0033612188417464495</span>,\n",
       "        <span style=\"color: #008080; text-decoration-color: #008080; font-weight: bold\">0.06016870215535164</span>,\n",
       "        <span style=\"color: #008080; text-decoration-color: #008080; font-weight: bold\">-0.029395662248134613</span>,\n",
       "        <span style=\"color: #008080; text-decoration-color: #008080; font-weight: bold\">-0.037686269730329514</span>,\n",
       "        <span style=\"color: #008080; text-decoration-color: #008080; font-weight: bold\">0.08337914198637009</span>,\n",
       "        <span style=\"color: #008080; text-decoration-color: #008080; font-weight: bold\">-0.05583197996020317</span>,\n",
       "        <span style=\"color: #008080; text-decoration-color: #008080; font-weight: bold\">0.0007532474701292813</span>,\n",
       "        <span style=\"color: #008080; text-decoration-color: #008080; font-weight: bold\">-0.10892569273710251</span>,\n",
       "        <span style=\"color: #008080; text-decoration-color: #008080; font-weight: bold\">-0.045883677899837494</span>,\n",
       "        <span style=\"color: #008080; text-decoration-color: #008080; font-weight: bold\">0.06491311639547348</span>,\n",
       "        <span style=\"color: #008080; text-decoration-color: #008080; font-weight: bold\">0.006466947495937347</span>,\n",
       "        <span style=\"color: #008080; text-decoration-color: #008080; font-weight: bold\">-0.014211387373507023</span>,\n",
       "        <span style=\"color: #008080; text-decoration-color: #008080; font-weight: bold\">0.0031883064657449722</span>,\n",
       "        <span style=\"color: #008080; text-decoration-color: #008080; font-weight: bold\">-0.03221617639064789</span>,\n",
       "        <span style=\"color: #008080; text-decoration-color: #008080; font-weight: bold\">0.05194566771388054</span>,\n",
       "        <span style=\"color: #008080; text-decoration-color: #008080; font-weight: bold\">0.014306597411632538</span>,\n",
       "        <span style=\"color: #008080; text-decoration-color: #008080; font-weight: bold\">0.0010901205241680145</span>,\n",
       "        <span style=\"color: #008080; text-decoration-color: #008080; font-weight: bold\">-0.012047798372805119</span>,\n",
       "        <span style=\"color: #008080; text-decoration-color: #008080; font-weight: bold\">0.00984050240367651</span>,\n",
       "        <span style=\"color: #008080; text-decoration-color: #008080; font-weight: bold\">0.046278003603219986</span>,\n",
       "        <span style=\"color: #008080; text-decoration-color: #008080; font-weight: bold\">0.0029668500646948814</span>,\n",
       "        <span style=\"color: #008080; text-decoration-color: #008080; font-weight: bold\">0.0329289473593235</span>,\n",
       "        <span style=\"color: #008080; text-decoration-color: #008080; font-weight: bold\">0.014663830399513245</span>,\n",
       "        <span style=\"color: #008080; text-decoration-color: #008080; font-weight: bold\">-0.030969299376010895</span>,\n",
       "        <span style=\"color: #008080; text-decoration-color: #008080; font-weight: bold\">-0.014734497293829918</span>,\n",
       "        <span style=\"color: #008080; text-decoration-color: #008080; font-weight: bold\">-0.006604321300983429</span>,\n",
       "        <span style=\"color: #008080; text-decoration-color: #008080; font-weight: bold\">-0.029626790434122086</span>,\n",
       "        <span style=\"color: #008080; text-decoration-color: #008080; font-weight: bold\">-0.03723148629069328</span>,\n",
       "        <span style=\"color: #008080; text-decoration-color: #008080; font-weight: bold\">-0.09686759114265442</span>,\n",
       "        <span style=\"color: #008080; text-decoration-color: #008080; font-weight: bold\">0.051465973258018494</span>,\n",
       "        <span style=\"color: #008080; text-decoration-color: #008080; font-weight: bold\">-0.030241111293435097</span>,\n",
       "        <span style=\"color: #008080; text-decoration-color: #008080; font-weight: bold\">0.04626740515232086</span>,\n",
       "        <span style=\"color: #008080; text-decoration-color: #008080; font-weight: bold\">0.023720163851976395</span>,\n",
       "        <span style=\"color: #008080; text-decoration-color: #008080; font-weight: bold\">0.0064200409688055515</span>,\n",
       "        <span style=\"color: #008080; text-decoration-color: #008080; font-weight: bold\">-0.018915565684437752</span>,\n",
       "        <span style=\"color: #008080; text-decoration-color: #008080; font-weight: bold\">-0.05308614298701286</span>,\n",
       "        <span style=\"color: #008080; text-decoration-color: #008080; font-weight: bold\">-0.011426090262830257</span>,\n",
       "        <span style=\"color: #008080; text-decoration-color: #008080; font-weight: bold\">0.07691420614719391</span>,\n",
       "        <span style=\"color: #008080; text-decoration-color: #008080; font-weight: bold\">-0.06933047622442245</span>,\n",
       "        <span style=\"color: #008080; text-decoration-color: #008080; font-weight: bold\">-0.014763692393898964</span>,\n",
       "        <span style=\"color: #008080; text-decoration-color: #008080; font-weight: bold\">0.040849801152944565</span>,\n",
       "        <span style=\"color: #008080; text-decoration-color: #008080; font-weight: bold\">0.07564499974250793</span>,\n",
       "        <span style=\"color: #008080; text-decoration-color: #008080; font-weight: bold\">0.028851313516497612</span>,\n",
       "        <span style=\"color: #008080; text-decoration-color: #008080; font-weight: bold\">-0.08021531999111176</span>,\n",
       "        <span style=\"color: #008080; text-decoration-color: #008080; font-weight: bold\">0.14700420200824738</span>,\n",
       "        <span style=\"color: #008080; text-decoration-color: #008080; font-weight: bold\">-0.15142878890037537</span>,\n",
       "        <span style=\"color: #008080; text-decoration-color: #008080; font-weight: bold\">0.023795004934072495</span>,\n",
       "        <span style=\"color: #008080; text-decoration-color: #008080; font-weight: bold\">0.04449765384197235</span>,\n",
       "        <span style=\"color: #008080; text-decoration-color: #008080; font-weight: bold\">0.06876224279403687</span>,\n",
       "        <span style=\"color: #008080; text-decoration-color: #008080; font-weight: bold\">-0.006763898767530918</span>,\n",
       "        <span style=\"color: #008080; text-decoration-color: #008080; font-weight: bold\">0.016428548842668533</span>,\n",
       "        <span style=\"color: #008080; text-decoration-color: #008080; font-weight: bold\">0.043021880090236664</span>,\n",
       "        <span style=\"color: #008080; text-decoration-color: #008080; font-weight: bold\">0.015933416783809662</span>,\n",
       "        <span style=\"color: #008080; text-decoration-color: #008080; font-weight: bold\">0.029841098934412003</span>,\n",
       "        <span style=\"color: #008080; text-decoration-color: #008080; font-weight: bold\">0.0065774619579315186</span>,\n",
       "        <span style=\"color: #008080; text-decoration-color: #008080; font-weight: bold\">0.02602207474410534</span>,\n",
       "        <span style=\"color: #008080; text-decoration-color: #008080; font-weight: bold\">-0.07112192362546921</span>,\n",
       "        <span style=\"color: #008080; text-decoration-color: #008080; font-weight: bold\">0.022406788542866707</span>,\n",
       "        <span style=\"color: #008080; text-decoration-color: #008080; font-weight: bold\">0.012334385886788368</span>,\n",
       "        <span style=\"color: #008080; text-decoration-color: #008080; font-weight: bold\">0.04748496040701866</span>,\n",
       "        <span style=\"color: #008080; text-decoration-color: #008080; font-weight: bold\">0.015717074275016785</span>,\n",
       "        <span style=\"color: #008080; text-decoration-color: #008080; font-weight: bold\">0.0341414250433445</span>,\n",
       "        <span style=\"color: #008080; text-decoration-color: #008080; font-weight: bold\">-0.05253663659095764</span>,\n",
       "        <span style=\"color: #008080; text-decoration-color: #008080; font-weight: bold\">0.020550496876239777</span>,\n",
       "        <span style=\"color: #008080; text-decoration-color: #008080; font-weight: bold\">0.057613953948020935</span>,\n",
       "        <span style=\"color: #008080; text-decoration-color: #008080; font-weight: bold\">-0.06116655468940735</span>,\n",
       "        <span style=\"color: #008080; text-decoration-color: #008080; font-weight: bold\">0.06248077005147934</span>,\n",
       "        <span style=\"color: #008080; text-decoration-color: #008080; font-weight: bold\">0.06453777849674225</span>,\n",
       "        <span style=\"color: #008080; text-decoration-color: #008080; font-weight: bold\">0.057636093348264694</span>,\n",
       "        <span style=\"color: #008080; text-decoration-color: #008080; font-weight: bold\">-0.02198965661227703</span>,\n",
       "        <span style=\"color: #008080; text-decoration-color: #008080; font-weight: bold\">0.003228610148653388</span>,\n",
       "        <span style=\"color: #008080; text-decoration-color: #008080; font-weight: bold\">0.04434305056929588</span>,\n",
       "        <span style=\"color: #008080; text-decoration-color: #008080; font-weight: bold\">0.04921619966626167</span>,\n",
       "        <span style=\"color: #008080; text-decoration-color: #008080; font-weight: bold\">0.031192967668175697</span>,\n",
       "        <span style=\"color: #008080; text-decoration-color: #008080; font-weight: bold\">0.013964674435555935</span>,\n",
       "        <span style=\"color: #008080; text-decoration-color: #008080; font-weight: bold\">-0.0017913324991241097</span>,\n",
       "        <span style=\"color: #008080; text-decoration-color: #008080; font-weight: bold\">0.04827842861413956</span>,\n",
       "        <span style=\"color: #008080; text-decoration-color: #008080; font-weight: bold\">0.025268903002142906</span>,\n",
       "        <span style=\"color: #008080; text-decoration-color: #008080; font-weight: bold\">0.06214562803506851</span>,\n",
       "        <span style=\"color: #008080; text-decoration-color: #008080; font-weight: bold\">0.017139967530965805</span>,\n",
       "        <span style=\"color: #008080; text-decoration-color: #008080; font-weight: bold\">-0.02933564968407154</span>,\n",
       "        <span style=\"color: #008080; text-decoration-color: #008080; font-weight: bold\">-0.06117108091711998</span>,\n",
       "        <span style=\"color: #008080; text-decoration-color: #008080; font-weight: bold\">-0.08921021968126297</span>,\n",
       "        <span style=\"color: #008080; text-decoration-color: #008080; font-weight: bold\">-0.03246559947729111</span>,\n",
       "        <span style=\"color: #008080; text-decoration-color: #008080; font-weight: bold\">0.013923821970820427</span>,\n",
       "        <span style=\"color: #008080; text-decoration-color: #008080; font-weight: bold\">0.00016626110300421715</span>,\n",
       "        <span style=\"color: #008080; text-decoration-color: #008080; font-weight: bold\">0.0464702807366848</span>,\n",
       "        <span style=\"color: #008080; text-decoration-color: #008080; font-weight: bold\">-0.03600211814045906</span>,\n",
       "        <span style=\"color: #008080; text-decoration-color: #008080; font-weight: bold\">-0.043166518211364746</span>,\n",
       "        <span style=\"color: #008080; text-decoration-color: #008080; font-weight: bold\">0.050958551466464996</span>,\n",
       "        <span style=\"color: #008080; text-decoration-color: #008080; font-weight: bold\">3.5211881851003774e-33</span>,\n",
       "        <span style=\"color: #008080; text-decoration-color: #008080; font-weight: bold\">0.0381275936961174</span>,\n",
       "        <span style=\"color: #008080; text-decoration-color: #008080; font-weight: bold\">-0.0901295617222786</span>,\n",
       "        <span style=\"color: #008080; text-decoration-color: #008080; font-weight: bold\">0.11241155117750168</span>,\n",
       "        <span style=\"color: #008080; text-decoration-color: #008080; font-weight: bold\">-0.038242992013692856</span>,\n",
       "        <span style=\"color: #008080; text-decoration-color: #008080; font-weight: bold\">-0.05403003469109535</span>,\n",
       "        <span style=\"color: #008080; text-decoration-color: #008080; font-weight: bold\">0.02271982468664646</span>,\n",
       "        <span style=\"color: #008080; text-decoration-color: #008080; font-weight: bold\">0.0067627388052642345</span>,\n",
       "        <span style=\"color: #008080; text-decoration-color: #008080; font-weight: bold\">-0.009673899970948696</span>,\n",
       "        <span style=\"color: #008080; text-decoration-color: #008080; font-weight: bold\">-0.0071555813774466515</span>,\n",
       "        <span style=\"color: #008080; text-decoration-color: #008080; font-weight: bold\">-0.03679385408759117</span>,\n",
       "        <span style=\"color: #008080; text-decoration-color: #008080; font-weight: bold\">0.007896442897617817</span>,\n",
       "        <span style=\"color: #008080; text-decoration-color: #008080; font-weight: bold\">0.05606476590037346</span>,\n",
       "        <span style=\"color: #008080; text-decoration-color: #008080; font-weight: bold\">0.03369995206594467</span>,\n",
       "        <span style=\"color: #008080; text-decoration-color: #008080; font-weight: bold\">0.03687127307057381</span>,\n",
       "        <span style=\"color: #008080; text-decoration-color: #008080; font-weight: bold\">0.013565363362431526</span>,\n",
       "        <span style=\"color: #008080; text-decoration-color: #008080; font-weight: bold\">-0.029708921909332275</span>,\n",
       "        <span style=\"color: #008080; text-decoration-color: #008080; font-weight: bold\">-0.006830216385424137</span>,\n",
       "        <span style=\"color: #008080; text-decoration-color: #008080; font-weight: bold\">-0.0037386256735771894</span>,\n",
       "        <span style=\"color: #008080; text-decoration-color: #008080; font-weight: bold\">-0.031238248571753502</span>,\n",
       "        <span style=\"color: #008080; text-decoration-color: #008080; font-weight: bold\">-0.015835510566830635</span>,\n",
       "        <span style=\"color: #008080; text-decoration-color: #008080; font-weight: bold\">-0.08107959479093552</span>,\n",
       "        <span style=\"color: #008080; text-decoration-color: #008080; font-weight: bold\">0.020487777888774872</span>,\n",
       "        <span style=\"color: #008080; text-decoration-color: #008080; font-weight: bold\">-0.030188675969839096</span>,\n",
       "        <span style=\"color: #008080; text-decoration-color: #008080; font-weight: bold\">-0.07465063780546188</span>,\n",
       "        <span style=\"color: #008080; text-decoration-color: #008080; font-weight: bold\">0.003996815532445908</span>,\n",
       "        <span style=\"color: #008080; text-decoration-color: #008080; font-weight: bold\">0.03426159918308258</span>,\n",
       "        <span style=\"color: #008080; text-decoration-color: #008080; font-weight: bold\">0.07997580617666245</span>,\n",
       "        <span style=\"color: #008080; text-decoration-color: #008080; font-weight: bold\">-0.026038900017738342</span>,\n",
       "        <span style=\"color: #008080; text-decoration-color: #008080; font-weight: bold\">-0.037700753659009933</span>,\n",
       "        <span style=\"color: #008080; text-decoration-color: #008080; font-weight: bold\">-0.014482301659882069</span>,\n",
       "        <span style=\"color: #008080; text-decoration-color: #008080; font-weight: bold\">0.05590815842151642</span>,\n",
       "        <span style=\"color: #008080; text-decoration-color: #008080; font-weight: bold\">0.00969398021697998</span>,\n",
       "        <span style=\"color: #008080; text-decoration-color: #008080; font-weight: bold\">0.016007617115974426</span>,\n",
       "        <span style=\"color: #008080; text-decoration-color: #008080; font-weight: bold\">-0.05136315897107124</span>,\n",
       "        <span style=\"color: #008080; text-decoration-color: #008080; font-weight: bold\">-0.01442690473049879</span>,\n",
       "        <span style=\"color: #008080; text-decoration-color: #008080; font-weight: bold\">-0.037056226283311844</span>,\n",
       "        <span style=\"color: #008080; text-decoration-color: #008080; font-weight: bold\">0.07178886979818344</span>,\n",
       "        <span style=\"color: #008080; text-decoration-color: #008080; font-weight: bold\">-0.10156847536563873</span>,\n",
       "        <span style=\"color: #008080; text-decoration-color: #008080; font-weight: bold\">-0.007921933196485043</span>,\n",
       "        <span style=\"color: #008080; text-decoration-color: #008080; font-weight: bold\">0.06422631442546844</span>,\n",
       "        <span style=\"color: #008080; text-decoration-color: #008080; font-weight: bold\">-0.03364492580294609</span>,\n",
       "        <span style=\"color: #008080; text-decoration-color: #008080; font-weight: bold\">0.11741036921739578</span>,\n",
       "        <span style=\"color: #008080; text-decoration-color: #008080; font-weight: bold\">0.016860507428646088</span>,\n",
       "        <span style=\"color: #008080; text-decoration-color: #008080; font-weight: bold\">-0.05913752317428589</span>,\n",
       "        <span style=\"color: #008080; text-decoration-color: #008080; font-weight: bold\">0.002591632306575775</span>,\n",
       "        <span style=\"color: #008080; text-decoration-color: #008080; font-weight: bold\">0.0037420245353132486</span>,\n",
       "        <span style=\"color: #008080; text-decoration-color: #008080; font-weight: bold\">0.002754200017079711</span>,\n",
       "        <span style=\"color: #008080; text-decoration-color: #008080; font-weight: bold\">0.0322469025850296</span>,\n",
       "        <span style=\"color: #008080; text-decoration-color: #008080; font-weight: bold\">0.009581015445291996</span>,\n",
       "        <span style=\"color: #008080; text-decoration-color: #008080; font-weight: bold\">0.04722880572080612</span>,\n",
       "        <span style=\"color: #008080; text-decoration-color: #008080; font-weight: bold\">0.06083422154188156</span>,\n",
       "        <span style=\"color: #008080; text-decoration-color: #008080; font-weight: bold\">-0.0026368380058556795</span>,\n",
       "        <span style=\"color: #008080; text-decoration-color: #008080; font-weight: bold\">-0.005560575984418392</span>,\n",
       "        <span style=\"color: #008080; text-decoration-color: #008080; font-weight: bold\">0.014365065842866898</span>,\n",
       "        <span style=\"color: #008080; text-decoration-color: #008080; font-weight: bold\">0.04174449294805527</span>,\n",
       "        <span style=\"color: #008080; text-decoration-color: #008080; font-weight: bold\">-0.05296310782432556</span>,\n",
       "        <span style=\"color: #008080; text-decoration-color: #008080; font-weight: bold\">0.030955832451581955</span>,\n",
       "        <span style=\"color: #008080; text-decoration-color: #008080; font-weight: bold\">-0.0005510951159521937</span>,\n",
       "        <span style=\"color: #008080; text-decoration-color: #008080; font-weight: bold\">0.08368858695030212</span>,\n",
       "        <span style=\"color: #008080; text-decoration-color: #008080; font-weight: bold\">-0.041632864624261856</span>,\n",
       "        <span style=\"color: #008080; text-decoration-color: #008080; font-weight: bold\">-0.061101119965314865</span>,\n",
       "        <span style=\"color: #008080; text-decoration-color: #008080; font-weight: bold\">0.04178500920534134</span>,\n",
       "        <span style=\"color: #008080; text-decoration-color: #008080; font-weight: bold\">-0.1597823202610016</span>,\n",
       "        <span style=\"color: #008080; text-decoration-color: #008080; font-weight: bold\">-0.02695903740823269</span>,\n",
       "        <span style=\"color: #008080; text-decoration-color: #008080; font-weight: bold\">-0.04052641987800598</span>,\n",
       "        <span style=\"color: #008080; text-decoration-color: #008080; font-weight: bold\">-0.036959871649742126</span>,\n",
       "        <span style=\"color: #008080; text-decoration-color: #008080; font-weight: bold\">-0.02859211526811123</span>,\n",
       "        <span style=\"color: #008080; text-decoration-color: #008080; font-weight: bold\">-0.011744396761059761</span>,\n",
       "        <span style=\"color: #008080; text-decoration-color: #008080; font-weight: bold\">-0.0059348177164793015</span>,\n",
       "        <span style=\"color: #008080; text-decoration-color: #008080; font-weight: bold\">-0.022943025454878807</span>,\n",
       "        <span style=\"color: #008080; text-decoration-color: #008080; font-weight: bold\">-0.03045734390616417</span>,\n",
       "        <span style=\"color: #008080; text-decoration-color: #008080; font-weight: bold\">-0.037591978907585144</span>,\n",
       "        <span style=\"color: #008080; text-decoration-color: #008080; font-weight: bold\">-0.029105210676789284</span>,\n",
       "        <span style=\"color: #008080; text-decoration-color: #008080; font-weight: bold\">0.053259946405887604</span>,\n",
       "        <span style=\"color: #008080; text-decoration-color: #008080; font-weight: bold\">0.03748132288455963</span>,\n",
       "        <span style=\"color: #008080; text-decoration-color: #008080; font-weight: bold\">-0.030317623168230057</span>,\n",
       "        <span style=\"color: #008080; text-decoration-color: #008080; font-weight: bold\">0.014388172887265682</span>,\n",
       "        <span style=\"color: #008080; text-decoration-color: #008080; font-weight: bold\">-0.04639570415019989</span>,\n",
       "        <span style=\"color: #008080; text-decoration-color: #008080; font-weight: bold\">0.017047448083758354</span>,\n",
       "        <span style=\"color: #008080; text-decoration-color: #008080; font-weight: bold\">0.025403084233403206</span>,\n",
       "        <span style=\"color: #008080; text-decoration-color: #008080; font-weight: bold\">-0.030615314841270447</span>,\n",
       "        <span style=\"color: #008080; text-decoration-color: #008080; font-weight: bold\">0.015595060773193836</span>,\n",
       "        <span style=\"color: #008080; text-decoration-color: #008080; font-weight: bold\">0.029894661158323288</span>,\n",
       "        <span style=\"color: #008080; text-decoration-color: #008080; font-weight: bold\">0.006059969309717417</span>,\n",
       "        <span style=\"color: #008080; text-decoration-color: #008080; font-weight: bold\">0.09915049374103546</span>,\n",
       "        <span style=\"color: #008080; text-decoration-color: #008080; font-weight: bold\">0.12477456033229828</span>,\n",
       "        <span style=\"color: #008080; text-decoration-color: #008080; font-weight: bold\">-0.05734235793352127</span>,\n",
       "        <span style=\"color: #008080; text-decoration-color: #008080; font-weight: bold\">0.006873185280710459</span>,\n",
       "        <span style=\"color: #008080; text-decoration-color: #008080; font-weight: bold\">-0.03069246932864189</span>,\n",
       "        <span style=\"color: #008080; text-decoration-color: #008080; font-weight: bold\">-0.07161430269479752</span>,\n",
       "        <span style=\"color: #008080; text-decoration-color: #008080; font-weight: bold\">-0.004796826746314764</span>,\n",
       "        <span style=\"color: #008080; text-decoration-color: #008080; font-weight: bold\">0.01995999552309513</span>,\n",
       "        <span style=\"color: #008080; text-decoration-color: #008080; font-weight: bold\">-0.040777578949928284</span>,\n",
       "        <span style=\"color: #008080; text-decoration-color: #008080; font-weight: bold\">0.009621608071029186</span>,\n",
       "        <span style=\"color: #008080; text-decoration-color: #008080; font-weight: bold\">-0.03842579573392868</span>,\n",
       "        <span style=\"color: #008080; text-decoration-color: #008080; font-weight: bold\">-1.3513436591949812e-08</span>,\n",
       "        <span style=\"color: #008080; text-decoration-color: #008080; font-weight: bold\">-0.12408784031867981</span>,\n",
       "        <span style=\"color: #008080; text-decoration-color: #008080; font-weight: bold\">0.05861697345972061</span>,\n",
       "        <span style=\"color: #008080; text-decoration-color: #008080; font-weight: bold\">0.04609891027212143</span>,\n",
       "        <span style=\"color: #008080; text-decoration-color: #008080; font-weight: bold\">-0.06754660606384277</span>,\n",
       "        <span style=\"color: #008080; text-decoration-color: #008080; font-weight: bold\">0.018404748290777206</span>,\n",
       "        <span style=\"color: #008080; text-decoration-color: #008080; font-weight: bold\">0.01240299828350544</span>,\n",
       "        <span style=\"color: #008080; text-decoration-color: #008080; font-weight: bold\">0.10156317800283432</span>,\n",
       "        <span style=\"color: #008080; text-decoration-color: #008080; font-weight: bold\">0.04085403308272362</span>,\n",
       "        <span style=\"color: #008080; text-decoration-color: #008080; font-weight: bold\">-0.08285672962665558</span>,\n",
       "        <span style=\"color: #008080; text-decoration-color: #008080; font-weight: bold\">-0.07749387621879578</span>,\n",
       "        <span style=\"color: #008080; text-decoration-color: #008080; font-weight: bold\">-0.04829483479261398</span>,\n",
       "        <span style=\"color: #008080; text-decoration-color: #008080; font-weight: bold\">-0.0023070808965712786</span>,\n",
       "        <span style=\"color: #008080; text-decoration-color: #008080; font-weight: bold\">0.058713171631097794</span>,\n",
       "        <span style=\"color: #008080; text-decoration-color: #008080; font-weight: bold\">0.0929335281252861</span>,\n",
       "        <span style=\"color: #008080; text-decoration-color: #008080; font-weight: bold\">0.07602450996637344</span>,\n",
       "        <span style=\"color: #008080; text-decoration-color: #008080; font-weight: bold\">-0.06210850924253464</span>,\n",
       "        <span style=\"color: #008080; text-decoration-color: #008080; font-weight: bold\">0.06558450311422348</span>,\n",
       "        <span style=\"color: #008080; text-decoration-color: #008080; font-weight: bold\">0.02933509089052677</span>,\n",
       "        <span style=\"color: #008080; text-decoration-color: #008080; font-weight: bold\">-0.044356800615787506</span>,\n",
       "        <span style=\"color: #008080; text-decoration-color: #008080; font-weight: bold\">0.0471317321062088</span>,\n",
       "        <span style=\"color: #008080; text-decoration-color: #008080; font-weight: bold\">0.0698423832654953</span>,\n",
       "        <span style=\"color: #008080; text-decoration-color: #008080; font-weight: bold\">-0.05796526372432709</span>,\n",
       "        <span style=\"color: #008080; text-decoration-color: #008080; font-weight: bold\">0.04195645824074745</span>,\n",
       "        <span style=\"color: #008080; text-decoration-color: #008080; font-weight: bold\">0.020849555730819702</span>,\n",
       "        <span style=\"color: #008080; text-decoration-color: #008080; font-weight: bold\">-0.01409994624555111</span>,\n",
       "        <span style=\"color: #008080; text-decoration-color: #008080; font-weight: bold\">-0.006943293381482363</span>,\n",
       "        <span style=\"color: #008080; text-decoration-color: #008080; font-weight: bold\">-0.05678820237517357</span>,\n",
       "        <span style=\"color: #008080; text-decoration-color: #008080; font-weight: bold\">0.003081723814830184</span>,\n",
       "        <span style=\"color: #008080; text-decoration-color: #008080; font-weight: bold\">-0.006687931250780821</span>,\n",
       "        <span style=\"color: #008080; text-decoration-color: #008080; font-weight: bold\">0.006281865760684013</span>,\n",
       "        <span style=\"color: #008080; text-decoration-color: #008080; font-weight: bold\">-0.028227679431438446</span>,\n",
       "        <span style=\"color: #008080; text-decoration-color: #008080; font-weight: bold\">0.12478890269994736</span>,\n",
       "        <span style=\"color: #008080; text-decoration-color: #008080; font-weight: bold\">0.02344733104109764</span>,\n",
       "        <span style=\"color: #008080; text-decoration-color: #008080; font-weight: bold\">0.05829319357872009</span>,\n",
       "        <span style=\"color: #008080; text-decoration-color: #008080; font-weight: bold\">-0.08153949677944183</span>,\n",
       "        <span style=\"color: #008080; text-decoration-color: #008080; font-weight: bold\">0.03051854856312275</span>,\n",
       "        <span style=\"color: #008080; text-decoration-color: #008080; font-weight: bold\">0.00989930983632803</span>,\n",
       "        <span style=\"color: #008080; text-decoration-color: #008080; font-weight: bold\">0.037973370403051376</span>,\n",
       "        <span style=\"color: #008080; text-decoration-color: #008080; font-weight: bold\">-0.13631276786327362</span>,\n",
       "        <span style=\"color: #008080; text-decoration-color: #008080; font-weight: bold\">-0.022915491834282875</span>,\n",
       "        <span style=\"color: #008080; text-decoration-color: #008080; font-weight: bold\">-0.01071949303150177</span>,\n",
       "        <span style=\"color: #008080; text-decoration-color: #008080; font-weight: bold\">-0.027021100744605064</span>,\n",
       "        <span style=\"color: #008080; text-decoration-color: #008080; font-weight: bold\">0.023927215486764908</span>,\n",
       "        <span style=\"color: #008080; text-decoration-color: #008080; font-weight: bold\">0.02194448933005333</span>,\n",
       "        <span style=\"color: #008080; text-decoration-color: #008080; font-weight: bold\">-0.07846726477146149</span>,\n",
       "        <span style=\"color: #008080; text-decoration-color: #008080; font-weight: bold\">0.012228053994476795</span>,\n",
       "        <span style=\"color: #008080; text-decoration-color: #008080; font-weight: bold\">-0.002332970267161727</span>,\n",
       "        <span style=\"color: #008080; text-decoration-color: #008080; font-weight: bold\">-0.048982590436935425</span>,\n",
       "        <span style=\"color: #008080; text-decoration-color: #008080; font-weight: bold\">0.0019666305743157864</span>,\n",
       "        <span style=\"color: #008080; text-decoration-color: #008080; font-weight: bold\">-0.013061276637017727</span>,\n",
       "        <span style=\"color: #008080; text-decoration-color: #008080; font-weight: bold\">-5.320522905094549e-05</span>,\n",
       "        <span style=\"color: #008080; text-decoration-color: #008080; font-weight: bold\">-0.02084183692932129</span>,\n",
       "        <span style=\"color: #008080; text-decoration-color: #008080; font-weight: bold\">-0.011500246822834015</span>,\n",
       "        <span style=\"color: #008080; text-decoration-color: #008080; font-weight: bold\">0.0035637200344353914</span>,\n",
       "        <span style=\"color: #008080; text-decoration-color: #008080; font-weight: bold\">-0.03181969374418259</span>,\n",
       "        <span style=\"color: #008080; text-decoration-color: #008080; font-weight: bold\">-0.00996898952871561</span>,\n",
       "        <span style=\"color: #008080; text-decoration-color: #008080; font-weight: bold\">0.00286105670966208</span>,\n",
       "        <span style=\"color: #008080; text-decoration-color: #008080; font-weight: bold\">-0.04877921938896179</span>,\n",
       "        <span style=\"color: #008080; text-decoration-color: #008080; font-weight: bold\">-0.08518042415380478</span>,\n",
       "        <span style=\"color: #008080; text-decoration-color: #008080; font-weight: bold\">0.04093388468027115</span>,\n",
       "        <span style=\"color: #008080; text-decoration-color: #008080; font-weight: bold\">-0.00036861884291283786</span>,\n",
       "        <span style=\"color: #008080; text-decoration-color: #008080; font-weight: bold\">-0.09690209478139877</span>,\n",
       "        <span style=\"color: #008080; text-decoration-color: #008080; font-weight: bold\">-0.05930088087916374</span>,\n",
       "        <span style=\"color: #008080; text-decoration-color: #008080; font-weight: bold\">-0.08024739474058151</span>\n",
       "    <span style=\"font-weight: bold\">]</span>\n",
       "<span style=\"font-weight: bold\">}</span>\n",
       "</pre>\n"
      ],
      "text/plain": [
       "\u001b[1m{\u001b[0m\n",
       "    \u001b[32m'photo_id'\u001b[0m: \u001b[32m'XMyPniM9LF0'\u001b[0m,\n",
       "    \u001b[32m'photo_url'\u001b[0m: \u001b[32m'https://unsplash.com/photos/XMyPniM9LF0'\u001b[0m,\n",
       "    \u001b[32m'photo_image_url'\u001b[0m: \u001b[32m'https://images.unsplash.com/uploads/14119492946973137ce46/f1f2ebf3'\u001b[0m,\n",
       "    \u001b[32m'photo_submitted_at'\u001b[0m: \u001b[32m'2014-09-29 00:08:38.594364'\u001b[0m,\n",
       "    \u001b[32m'photo_featured'\u001b[0m: \u001b[32m't'\u001b[0m,\n",
       "    \u001b[32m'photo_width'\u001b[0m: \u001b[1;36m4272\u001b[0m,\n",
       "    \u001b[32m'photo_height'\u001b[0m: \u001b[1;36m2848\u001b[0m,\n",
       "    \u001b[32m'photo_aspect_ratio'\u001b[0m: \u001b[1;36m1.5\u001b[0m,\n",
       "    \u001b[32m'photo_description'\u001b[0m: \u001b[32m'Woman exploring a forest'\u001b[0m,\n",
       "    \u001b[32m'photographer_username'\u001b[0m: \u001b[32m'michellespencer77'\u001b[0m,\n",
       "    \u001b[32m'photographer_first_name'\u001b[0m: \u001b[32m'Michelle'\u001b[0m,\n",
       "    \u001b[32m'photographer_last_name'\u001b[0m: \u001b[32m'Spencer'\u001b[0m,\n",
       "    \u001b[32m'exif_camera_make'\u001b[0m: \u001b[32m'Canon'\u001b[0m,\n",
       "    \u001b[32m'exif_camera_model'\u001b[0m: \u001b[32m'Canon EOS REBEL T3'\u001b[0m,\n",
       "    \u001b[32m'exif_iso'\u001b[0m: \u001b[1;36m400.0\u001b[0m,\n",
       "    \u001b[32m'exif_aperture_value'\u001b[0m: \u001b[32m'1.8'\u001b[0m,\n",
       "    \u001b[32m'exif_focal_length'\u001b[0m: \u001b[32m'50.0'\u001b[0m,\n",
       "    \u001b[32m'exif_exposure_time'\u001b[0m: \u001b[32m'1/100'\u001b[0m,\n",
       "    \u001b[32m'photo_location_name'\u001b[0m: \u001b[3;35mNone\u001b[0m,\n",
       "    \u001b[32m'photo_location_latitude'\u001b[0m: \u001b[3;35mNone\u001b[0m,\n",
       "    \u001b[32m'photo_location_longitude'\u001b[0m: \u001b[3;35mNone\u001b[0m,\n",
       "    \u001b[32m'photo_location_country'\u001b[0m: \u001b[3;35mNone\u001b[0m,\n",
       "    \u001b[32m'photo_location_city'\u001b[0m: \u001b[3;35mNone\u001b[0m,\n",
       "    \u001b[32m'stats_views'\u001b[0m: \u001b[1;36m2375421\u001b[0m,\n",
       "    \u001b[32m'stats_downloads'\u001b[0m: \u001b[1;36m6967\u001b[0m,\n",
       "    \u001b[32m'ai_description'\u001b[0m: \u001b[32m'woman walking in the middle of forest'\u001b[0m,\n",
       "    \u001b[32m'ai_primary_landmark_name'\u001b[0m: \u001b[3;35mNone\u001b[0m,\n",
       "    \u001b[32m'ai_primary_landmark_latitude'\u001b[0m: \u001b[3;35mNone\u001b[0m,\n",
       "    \u001b[32m'ai_primary_landmark_longitude'\u001b[0m: \u001b[3;35mNone\u001b[0m,\n",
       "    \u001b[32m'ai_primary_landmark_confidence'\u001b[0m: \u001b[3;35mNone\u001b[0m,\n",
       "    \u001b[32m'blur_hash'\u001b[0m: \u001b[32m'L56bVcRRIWMh.gVunlS4SMbsRRxr'\u001b[0m,\n",
       "    \u001b[32m'description_final'\u001b[0m: \u001b[32m'Woman exploring a forest'\u001b[0m,\n",
       "    \u001b[32m'image'\u001b[0m: \u001b[1m<\u001b[0m\u001b[1;95mPIL.JpegImagePlugin.JpegImageFile\u001b[0m\u001b[39m image \u001b[0m\u001b[33mmode\u001b[0m\u001b[39m=\u001b[0m\u001b[35mRGB\u001b[0m\u001b[39m \u001b[0m\u001b[33msize\u001b[0m\u001b[39m=\u001b[0m\u001b[35m64\u001b[0m\u001b[1;36m0x427\u001b[0m\u001b[39m at \u001b[0m\u001b[1;36m0x7F07A34117F0\u001b[0m\u001b[1m>\u001b[0m,\n",
       "    \u001b[32m'embedding'\u001b[0m: \u001b[1m[\u001b[0m\n",
       "        \u001b[1;36m0.0830303505063057\u001b[0m,\n",
       "        \u001b[1;36m-0.06755100935697556\u001b[0m,\n",
       "        \u001b[1;36m0.016757922247052193\u001b[0m,\n",
       "        \u001b[1;36m0.09100779891014099\u001b[0m,\n",
       "        \u001b[1;36m0.10158310830593109\u001b[0m,\n",
       "        \u001b[1;36m0.005028506740927696\u001b[0m,\n",
       "        \u001b[1;36m-0.002600233070552349\u001b[0m,\n",
       "        \u001b[1;36m-0.019367434084415436\u001b[0m,\n",
       "        \u001b[1;36m0.010927319526672363\u001b[0m,\n",
       "        \u001b[1;36m0.07374636828899384\u001b[0m,\n",
       "        \u001b[1;36m-0.016480574384331703\u001b[0m,\n",
       "        \u001b[1;36m-0.07633168995380402\u001b[0m,\n",
       "        \u001b[1;36m-0.0996660441160202\u001b[0m,\n",
       "        \u001b[1;36m0.021467329934239388\u001b[0m,\n",
       "        \u001b[1;36m-0.00948204006999731\u001b[0m,\n",
       "        \u001b[1;36m0.12392714619636536\u001b[0m,\n",
       "        \u001b[1;36m-0.02461921237409115\u001b[0m,\n",
       "        \u001b[1;36m0.032766517251729965\u001b[0m,\n",
       "        \u001b[1;36m0.0440586619079113\u001b[0m,\n",
       "        \u001b[1;36m0.05890907719731331\u001b[0m,\n",
       "        \u001b[1;36m0.01649940386414528\u001b[0m,\n",
       "        \u001b[1;36m-0.001281778677366674\u001b[0m,\n",
       "        \u001b[1;36m-0.002665333915501833\u001b[0m,\n",
       "        \u001b[1;36m0.018453793600201607\u001b[0m,\n",
       "        \u001b[1;36m-0.03046845644712448\u001b[0m,\n",
       "        \u001b[1;36m-0.10237908363342285\u001b[0m,\n",
       "        \u001b[1;36m-0.07643647491931915\u001b[0m,\n",
       "        \u001b[1;36m0.04187469184398651\u001b[0m,\n",
       "        \u001b[1;36m-0.008350006304681301\u001b[0m,\n",
       "        \u001b[1;36m-0.00876616034656763\u001b[0m,\n",
       "        \u001b[1;36m-0.011281387880444527\u001b[0m,\n",
       "        \u001b[1;36m0.03410236909985542\u001b[0m,\n",
       "        \u001b[1;36m-0.018544496968388557\u001b[0m,\n",
       "        \u001b[1;36m0.06805386394262314\u001b[0m,\n",
       "        \u001b[1;36m-0.03742838650941849\u001b[0m,\n",
       "        \u001b[1;36m0.05683537572622299\u001b[0m,\n",
       "        \u001b[1;36m-0.01375591941177845\u001b[0m,\n",
       "        \u001b[1;36m-0.05500423535704613\u001b[0m,\n",
       "        \u001b[1;36m0.023737551644444466\u001b[0m,\n",
       "        \u001b[1;36m0.03510565683245659\u001b[0m,\n",
       "        \u001b[1;36m-0.09786780923604965\u001b[0m,\n",
       "        \u001b[1;36m0.019752422347664833\u001b[0m,\n",
       "        \u001b[1;36m0.0008298805914819241\u001b[0m,\n",
       "        \u001b[1;36m-0.05914072319865227\u001b[0m,\n",
       "        \u001b[1;36m-0.008947904221713543\u001b[0m,\n",
       "        \u001b[1;36m-0.042243048548698425\u001b[0m,\n",
       "        \u001b[1;36m0.03851393237709999\u001b[0m,\n",
       "        \u001b[1;36m0.075810506939888\u001b[0m,\n",
       "        \u001b[1;36m0.01905851624906063\u001b[0m,\n",
       "        \u001b[1;36m-0.06816433370113373\u001b[0m,\n",
       "        \u001b[1;36m0.007752161007374525\u001b[0m,\n",
       "        \u001b[1;36m-0.0872664824128151\u001b[0m,\n",
       "        \u001b[1;36m-0.11505133658647537\u001b[0m,\n",
       "        \u001b[1;36m-0.06915692239999771\u001b[0m,\n",
       "        \u001b[1;36m-0.026582809165120125\u001b[0m,\n",
       "        \u001b[1;36m0.02626717835664749\u001b[0m,\n",
       "        \u001b[1;36m-0.012593049556016922\u001b[0m,\n",
       "        \u001b[1;36m-0.07244285941123962\u001b[0m,\n",
       "        \u001b[1;36m0.04744509235024452\u001b[0m,\n",
       "        \u001b[1;36m-0.002609628951177001\u001b[0m,\n",
       "        \u001b[1;36m0.09833682328462601\u001b[0m,\n",
       "        \u001b[1;36m0.06072022020816803\u001b[0m,\n",
       "        \u001b[1;36m-0.025261757895350456\u001b[0m,\n",
       "        \u001b[1;36m0.02841377630829811\u001b[0m,\n",
       "        \u001b[1;36m0.01553035993129015\u001b[0m,\n",
       "        \u001b[1;36m-0.0421944223344326\u001b[0m,\n",
       "        \u001b[1;36m-0.05775362625718117\u001b[0m,\n",
       "        \u001b[1;36m-0.005985558964312077\u001b[0m,\n",
       "        \u001b[1;36m0.12382839620113373\u001b[0m,\n",
       "        \u001b[1;36m-0.03346623107790947\u001b[0m,\n",
       "        \u001b[1;36m0.07404892146587372\u001b[0m,\n",
       "        \u001b[1;36m-0.0012986598303541541\u001b[0m,\n",
       "        \u001b[1;36m-0.06490236520767212\u001b[0m,\n",
       "        \u001b[1;36m0.012131811119616032\u001b[0m,\n",
       "        \u001b[1;36m0.11206416040658951\u001b[0m,\n",
       "        \u001b[1;36m0.0022594609763473272\u001b[0m,\n",
       "        \u001b[1;36m0.00046667613787576556\u001b[0m,\n",
       "        \u001b[1;36m0.07633617520332336\u001b[0m,\n",
       "        \u001b[1;36m0.005854411981999874\u001b[0m,\n",
       "        \u001b[1;36m0.009757926687598228\u001b[0m,\n",
       "        \u001b[1;36m0.0158031415194273\u001b[0m,\n",
       "        \u001b[1;36m0.043435897678136826\u001b[0m,\n",
       "        \u001b[1;36m0.05402514711022377\u001b[0m,\n",
       "        \u001b[1;36m0.05363898724317551\u001b[0m,\n",
       "        \u001b[1;36m0.02404092065989971\u001b[0m,\n",
       "        \u001b[1;36m0.06629560887813568\u001b[0m,\n",
       "        \u001b[1;36m-0.057825855910778046\u001b[0m,\n",
       "        \u001b[1;36m0.05765451490879059\u001b[0m,\n",
       "        \u001b[1;36m0.05229165032505989\u001b[0m,\n",
       "        \u001b[1;36m-0.05528979003429413\u001b[0m,\n",
       "        \u001b[1;36m-0.02499806508421898\u001b[0m,\n",
       "        \u001b[1;36m-0.08955580741167068\u001b[0m,\n",
       "        \u001b[1;36m-0.07401495426893234\u001b[0m,\n",
       "        \u001b[1;36m0.04990016669034958\u001b[0m,\n",
       "        \u001b[1;36m-0.071408212184906\u001b[0m,\n",
       "        \u001b[1;36m-0.04006853327155113\u001b[0m,\n",
       "        \u001b[1;36m0.05586433783173561\u001b[0m,\n",
       "        \u001b[1;36m-0.07767123728990555\u001b[0m,\n",
       "        \u001b[1;36m0.05119192227721214\u001b[0m,\n",
       "        \u001b[1;36m0.03398393094539642\u001b[0m,\n",
       "        \u001b[1;36m-0.004238974303007126\u001b[0m,\n",
       "        \u001b[1;36m0.06086175888776779\u001b[0m,\n",
       "        \u001b[1;36m-0.010651434771716595\u001b[0m,\n",
       "        \u001b[1;36m-0.006932792253792286\u001b[0m,\n",
       "        \u001b[1;36m-0.0981331393122673\u001b[0m,\n",
       "        \u001b[1;36m0.04138857126235962\u001b[0m,\n",
       "        \u001b[1;36m-0.04439203068614006\u001b[0m,\n",
       "        \u001b[1;36m0.060603827238082886\u001b[0m,\n",
       "        \u001b[1;36m0.0287997517734766\u001b[0m,\n",
       "        \u001b[1;36m0.014037941582500935\u001b[0m,\n",
       "        \u001b[1;36m0.028811069205403328\u001b[0m,\n",
       "        \u001b[1;36m0.00642520934343338\u001b[0m,\n",
       "        \u001b[1;36m-0.07866854220628738\u001b[0m,\n",
       "        \u001b[1;36m0.09037470817565918\u001b[0m,\n",
       "        \u001b[1;36m0.011841735802590847\u001b[0m,\n",
       "        \u001b[1;36m0.0018862943397834897\u001b[0m,\n",
       "        \u001b[1;36m-0.025623977184295654\u001b[0m,\n",
       "        \u001b[1;36m0.01916508376598358\u001b[0m,\n",
       "        \u001b[1;36m0.03996772691607475\u001b[0m,\n",
       "        \u001b[1;36m0.051679741591215134\u001b[0m,\n",
       "        \u001b[1;36m-0.04852116107940674\u001b[0m,\n",
       "        \u001b[1;36m-0.09722000360488892\u001b[0m,\n",
       "        \u001b[1;36m0.030072730034589767\u001b[0m,\n",
       "        \u001b[1;36m-0.058650579303503036\u001b[0m,\n",
       "        \u001b[1;36m0.08791159838438034\u001b[0m,\n",
       "        \u001b[1;36m-0.01808820478618145\u001b[0m,\n",
       "        \u001b[1;36m0.10404062271118164\u001b[0m,\n",
       "        \u001b[1;36m-5.086165691336337e-33\u001b[0m,\n",
       "        \u001b[1;36m0.03181545063853264\u001b[0m,\n",
       "        \u001b[1;36m-0.006305550690740347\u001b[0m,\n",
       "        \u001b[1;36m0.033208563923835754\u001b[0m,\n",
       "        \u001b[1;36m0.026215670630335808\u001b[0m,\n",
       "        \u001b[1;36m0.03930642455816269\u001b[0m,\n",
       "        \u001b[1;36m-0.0033612188417464495\u001b[0m,\n",
       "        \u001b[1;36m0.06016870215535164\u001b[0m,\n",
       "        \u001b[1;36m-0.029395662248134613\u001b[0m,\n",
       "        \u001b[1;36m-0.037686269730329514\u001b[0m,\n",
       "        \u001b[1;36m0.08337914198637009\u001b[0m,\n",
       "        \u001b[1;36m-0.05583197996020317\u001b[0m,\n",
       "        \u001b[1;36m0.0007532474701292813\u001b[0m,\n",
       "        \u001b[1;36m-0.10892569273710251\u001b[0m,\n",
       "        \u001b[1;36m-0.045883677899837494\u001b[0m,\n",
       "        \u001b[1;36m0.06491311639547348\u001b[0m,\n",
       "        \u001b[1;36m0.006466947495937347\u001b[0m,\n",
       "        \u001b[1;36m-0.014211387373507023\u001b[0m,\n",
       "        \u001b[1;36m0.0031883064657449722\u001b[0m,\n",
       "        \u001b[1;36m-0.03221617639064789\u001b[0m,\n",
       "        \u001b[1;36m0.05194566771388054\u001b[0m,\n",
       "        \u001b[1;36m0.014306597411632538\u001b[0m,\n",
       "        \u001b[1;36m0.0010901205241680145\u001b[0m,\n",
       "        \u001b[1;36m-0.012047798372805119\u001b[0m,\n",
       "        \u001b[1;36m0.00984050240367651\u001b[0m,\n",
       "        \u001b[1;36m0.046278003603219986\u001b[0m,\n",
       "        \u001b[1;36m0.0029668500646948814\u001b[0m,\n",
       "        \u001b[1;36m0.0329289473593235\u001b[0m,\n",
       "        \u001b[1;36m0.014663830399513245\u001b[0m,\n",
       "        \u001b[1;36m-0.030969299376010895\u001b[0m,\n",
       "        \u001b[1;36m-0.014734497293829918\u001b[0m,\n",
       "        \u001b[1;36m-0.006604321300983429\u001b[0m,\n",
       "        \u001b[1;36m-0.029626790434122086\u001b[0m,\n",
       "        \u001b[1;36m-0.03723148629069328\u001b[0m,\n",
       "        \u001b[1;36m-0.09686759114265442\u001b[0m,\n",
       "        \u001b[1;36m0.051465973258018494\u001b[0m,\n",
       "        \u001b[1;36m-0.030241111293435097\u001b[0m,\n",
       "        \u001b[1;36m0.04626740515232086\u001b[0m,\n",
       "        \u001b[1;36m0.023720163851976395\u001b[0m,\n",
       "        \u001b[1;36m0.0064200409688055515\u001b[0m,\n",
       "        \u001b[1;36m-0.018915565684437752\u001b[0m,\n",
       "        \u001b[1;36m-0.05308614298701286\u001b[0m,\n",
       "        \u001b[1;36m-0.011426090262830257\u001b[0m,\n",
       "        \u001b[1;36m0.07691420614719391\u001b[0m,\n",
       "        \u001b[1;36m-0.06933047622442245\u001b[0m,\n",
       "        \u001b[1;36m-0.014763692393898964\u001b[0m,\n",
       "        \u001b[1;36m0.040849801152944565\u001b[0m,\n",
       "        \u001b[1;36m0.07564499974250793\u001b[0m,\n",
       "        \u001b[1;36m0.028851313516497612\u001b[0m,\n",
       "        \u001b[1;36m-0.08021531999111176\u001b[0m,\n",
       "        \u001b[1;36m0.14700420200824738\u001b[0m,\n",
       "        \u001b[1;36m-0.15142878890037537\u001b[0m,\n",
       "        \u001b[1;36m0.023795004934072495\u001b[0m,\n",
       "        \u001b[1;36m0.04449765384197235\u001b[0m,\n",
       "        \u001b[1;36m0.06876224279403687\u001b[0m,\n",
       "        \u001b[1;36m-0.006763898767530918\u001b[0m,\n",
       "        \u001b[1;36m0.016428548842668533\u001b[0m,\n",
       "        \u001b[1;36m0.043021880090236664\u001b[0m,\n",
       "        \u001b[1;36m0.015933416783809662\u001b[0m,\n",
       "        \u001b[1;36m0.029841098934412003\u001b[0m,\n",
       "        \u001b[1;36m0.0065774619579315186\u001b[0m,\n",
       "        \u001b[1;36m0.02602207474410534\u001b[0m,\n",
       "        \u001b[1;36m-0.07112192362546921\u001b[0m,\n",
       "        \u001b[1;36m0.022406788542866707\u001b[0m,\n",
       "        \u001b[1;36m0.012334385886788368\u001b[0m,\n",
       "        \u001b[1;36m0.04748496040701866\u001b[0m,\n",
       "        \u001b[1;36m0.015717074275016785\u001b[0m,\n",
       "        \u001b[1;36m0.0341414250433445\u001b[0m,\n",
       "        \u001b[1;36m-0.05253663659095764\u001b[0m,\n",
       "        \u001b[1;36m0.020550496876239777\u001b[0m,\n",
       "        \u001b[1;36m0.057613953948020935\u001b[0m,\n",
       "        \u001b[1;36m-0.06116655468940735\u001b[0m,\n",
       "        \u001b[1;36m0.06248077005147934\u001b[0m,\n",
       "        \u001b[1;36m0.06453777849674225\u001b[0m,\n",
       "        \u001b[1;36m0.057636093348264694\u001b[0m,\n",
       "        \u001b[1;36m-0.02198965661227703\u001b[0m,\n",
       "        \u001b[1;36m0.003228610148653388\u001b[0m,\n",
       "        \u001b[1;36m0.04434305056929588\u001b[0m,\n",
       "        \u001b[1;36m0.04921619966626167\u001b[0m,\n",
       "        \u001b[1;36m0.031192967668175697\u001b[0m,\n",
       "        \u001b[1;36m0.013964674435555935\u001b[0m,\n",
       "        \u001b[1;36m-0.0017913324991241097\u001b[0m,\n",
       "        \u001b[1;36m0.04827842861413956\u001b[0m,\n",
       "        \u001b[1;36m0.025268903002142906\u001b[0m,\n",
       "        \u001b[1;36m0.06214562803506851\u001b[0m,\n",
       "        \u001b[1;36m0.017139967530965805\u001b[0m,\n",
       "        \u001b[1;36m-0.02933564968407154\u001b[0m,\n",
       "        \u001b[1;36m-0.06117108091711998\u001b[0m,\n",
       "        \u001b[1;36m-0.08921021968126297\u001b[0m,\n",
       "        \u001b[1;36m-0.03246559947729111\u001b[0m,\n",
       "        \u001b[1;36m0.013923821970820427\u001b[0m,\n",
       "        \u001b[1;36m0.00016626110300421715\u001b[0m,\n",
       "        \u001b[1;36m0.0464702807366848\u001b[0m,\n",
       "        \u001b[1;36m-0.03600211814045906\u001b[0m,\n",
       "        \u001b[1;36m-0.043166518211364746\u001b[0m,\n",
       "        \u001b[1;36m0.050958551466464996\u001b[0m,\n",
       "        \u001b[1;36m3.5211881851003774e-33\u001b[0m,\n",
       "        \u001b[1;36m0.0381275936961174\u001b[0m,\n",
       "        \u001b[1;36m-0.0901295617222786\u001b[0m,\n",
       "        \u001b[1;36m0.11241155117750168\u001b[0m,\n",
       "        \u001b[1;36m-0.038242992013692856\u001b[0m,\n",
       "        \u001b[1;36m-0.05403003469109535\u001b[0m,\n",
       "        \u001b[1;36m0.02271982468664646\u001b[0m,\n",
       "        \u001b[1;36m0.0067627388052642345\u001b[0m,\n",
       "        \u001b[1;36m-0.009673899970948696\u001b[0m,\n",
       "        \u001b[1;36m-0.0071555813774466515\u001b[0m,\n",
       "        \u001b[1;36m-0.03679385408759117\u001b[0m,\n",
       "        \u001b[1;36m0.007896442897617817\u001b[0m,\n",
       "        \u001b[1;36m0.05606476590037346\u001b[0m,\n",
       "        \u001b[1;36m0.03369995206594467\u001b[0m,\n",
       "        \u001b[1;36m0.03687127307057381\u001b[0m,\n",
       "        \u001b[1;36m0.013565363362431526\u001b[0m,\n",
       "        \u001b[1;36m-0.029708921909332275\u001b[0m,\n",
       "        \u001b[1;36m-0.006830216385424137\u001b[0m,\n",
       "        \u001b[1;36m-0.0037386256735771894\u001b[0m,\n",
       "        \u001b[1;36m-0.031238248571753502\u001b[0m,\n",
       "        \u001b[1;36m-0.015835510566830635\u001b[0m,\n",
       "        \u001b[1;36m-0.08107959479093552\u001b[0m,\n",
       "        \u001b[1;36m0.020487777888774872\u001b[0m,\n",
       "        \u001b[1;36m-0.030188675969839096\u001b[0m,\n",
       "        \u001b[1;36m-0.07465063780546188\u001b[0m,\n",
       "        \u001b[1;36m0.003996815532445908\u001b[0m,\n",
       "        \u001b[1;36m0.03426159918308258\u001b[0m,\n",
       "        \u001b[1;36m0.07997580617666245\u001b[0m,\n",
       "        \u001b[1;36m-0.026038900017738342\u001b[0m,\n",
       "        \u001b[1;36m-0.037700753659009933\u001b[0m,\n",
       "        \u001b[1;36m-0.014482301659882069\u001b[0m,\n",
       "        \u001b[1;36m0.05590815842151642\u001b[0m,\n",
       "        \u001b[1;36m0.00969398021697998\u001b[0m,\n",
       "        \u001b[1;36m0.016007617115974426\u001b[0m,\n",
       "        \u001b[1;36m-0.05136315897107124\u001b[0m,\n",
       "        \u001b[1;36m-0.01442690473049879\u001b[0m,\n",
       "        \u001b[1;36m-0.037056226283311844\u001b[0m,\n",
       "        \u001b[1;36m0.07178886979818344\u001b[0m,\n",
       "        \u001b[1;36m-0.10156847536563873\u001b[0m,\n",
       "        \u001b[1;36m-0.007921933196485043\u001b[0m,\n",
       "        \u001b[1;36m0.06422631442546844\u001b[0m,\n",
       "        \u001b[1;36m-0.03364492580294609\u001b[0m,\n",
       "        \u001b[1;36m0.11741036921739578\u001b[0m,\n",
       "        \u001b[1;36m0.016860507428646088\u001b[0m,\n",
       "        \u001b[1;36m-0.05913752317428589\u001b[0m,\n",
       "        \u001b[1;36m0.002591632306575775\u001b[0m,\n",
       "        \u001b[1;36m0.0037420245353132486\u001b[0m,\n",
       "        \u001b[1;36m0.002754200017079711\u001b[0m,\n",
       "        \u001b[1;36m0.0322469025850296\u001b[0m,\n",
       "        \u001b[1;36m0.009581015445291996\u001b[0m,\n",
       "        \u001b[1;36m0.04722880572080612\u001b[0m,\n",
       "        \u001b[1;36m0.06083422154188156\u001b[0m,\n",
       "        \u001b[1;36m-0.0026368380058556795\u001b[0m,\n",
       "        \u001b[1;36m-0.005560575984418392\u001b[0m,\n",
       "        \u001b[1;36m0.014365065842866898\u001b[0m,\n",
       "        \u001b[1;36m0.04174449294805527\u001b[0m,\n",
       "        \u001b[1;36m-0.05296310782432556\u001b[0m,\n",
       "        \u001b[1;36m0.030955832451581955\u001b[0m,\n",
       "        \u001b[1;36m-0.0005510951159521937\u001b[0m,\n",
       "        \u001b[1;36m0.08368858695030212\u001b[0m,\n",
       "        \u001b[1;36m-0.041632864624261856\u001b[0m,\n",
       "        \u001b[1;36m-0.061101119965314865\u001b[0m,\n",
       "        \u001b[1;36m0.04178500920534134\u001b[0m,\n",
       "        \u001b[1;36m-0.1597823202610016\u001b[0m,\n",
       "        \u001b[1;36m-0.02695903740823269\u001b[0m,\n",
       "        \u001b[1;36m-0.04052641987800598\u001b[0m,\n",
       "        \u001b[1;36m-0.036959871649742126\u001b[0m,\n",
       "        \u001b[1;36m-0.02859211526811123\u001b[0m,\n",
       "        \u001b[1;36m-0.011744396761059761\u001b[0m,\n",
       "        \u001b[1;36m-0.0059348177164793015\u001b[0m,\n",
       "        \u001b[1;36m-0.022943025454878807\u001b[0m,\n",
       "        \u001b[1;36m-0.03045734390616417\u001b[0m,\n",
       "        \u001b[1;36m-0.037591978907585144\u001b[0m,\n",
       "        \u001b[1;36m-0.029105210676789284\u001b[0m,\n",
       "        \u001b[1;36m0.053259946405887604\u001b[0m,\n",
       "        \u001b[1;36m0.03748132288455963\u001b[0m,\n",
       "        \u001b[1;36m-0.030317623168230057\u001b[0m,\n",
       "        \u001b[1;36m0.014388172887265682\u001b[0m,\n",
       "        \u001b[1;36m-0.04639570415019989\u001b[0m,\n",
       "        \u001b[1;36m0.017047448083758354\u001b[0m,\n",
       "        \u001b[1;36m0.025403084233403206\u001b[0m,\n",
       "        \u001b[1;36m-0.030615314841270447\u001b[0m,\n",
       "        \u001b[1;36m0.015595060773193836\u001b[0m,\n",
       "        \u001b[1;36m0.029894661158323288\u001b[0m,\n",
       "        \u001b[1;36m0.006059969309717417\u001b[0m,\n",
       "        \u001b[1;36m0.09915049374103546\u001b[0m,\n",
       "        \u001b[1;36m0.12477456033229828\u001b[0m,\n",
       "        \u001b[1;36m-0.05734235793352127\u001b[0m,\n",
       "        \u001b[1;36m0.006873185280710459\u001b[0m,\n",
       "        \u001b[1;36m-0.03069246932864189\u001b[0m,\n",
       "        \u001b[1;36m-0.07161430269479752\u001b[0m,\n",
       "        \u001b[1;36m-0.004796826746314764\u001b[0m,\n",
       "        \u001b[1;36m0.01995999552309513\u001b[0m,\n",
       "        \u001b[1;36m-0.040777578949928284\u001b[0m,\n",
       "        \u001b[1;36m0.009621608071029186\u001b[0m,\n",
       "        \u001b[1;36m-0.03842579573392868\u001b[0m,\n",
       "        \u001b[1;36m-1.3513436591949812e-08\u001b[0m,\n",
       "        \u001b[1;36m-0.12408784031867981\u001b[0m,\n",
       "        \u001b[1;36m0.05861697345972061\u001b[0m,\n",
       "        \u001b[1;36m0.04609891027212143\u001b[0m,\n",
       "        \u001b[1;36m-0.06754660606384277\u001b[0m,\n",
       "        \u001b[1;36m0.018404748290777206\u001b[0m,\n",
       "        \u001b[1;36m0.01240299828350544\u001b[0m,\n",
       "        \u001b[1;36m0.10156317800283432\u001b[0m,\n",
       "        \u001b[1;36m0.04085403308272362\u001b[0m,\n",
       "        \u001b[1;36m-0.08285672962665558\u001b[0m,\n",
       "        \u001b[1;36m-0.07749387621879578\u001b[0m,\n",
       "        \u001b[1;36m-0.04829483479261398\u001b[0m,\n",
       "        \u001b[1;36m-0.0023070808965712786\u001b[0m,\n",
       "        \u001b[1;36m0.058713171631097794\u001b[0m,\n",
       "        \u001b[1;36m0.0929335281252861\u001b[0m,\n",
       "        \u001b[1;36m0.07602450996637344\u001b[0m,\n",
       "        \u001b[1;36m-0.06210850924253464\u001b[0m,\n",
       "        \u001b[1;36m0.06558450311422348\u001b[0m,\n",
       "        \u001b[1;36m0.02933509089052677\u001b[0m,\n",
       "        \u001b[1;36m-0.044356800615787506\u001b[0m,\n",
       "        \u001b[1;36m0.0471317321062088\u001b[0m,\n",
       "        \u001b[1;36m0.0698423832654953\u001b[0m,\n",
       "        \u001b[1;36m-0.05796526372432709\u001b[0m,\n",
       "        \u001b[1;36m0.04195645824074745\u001b[0m,\n",
       "        \u001b[1;36m0.020849555730819702\u001b[0m,\n",
       "        \u001b[1;36m-0.01409994624555111\u001b[0m,\n",
       "        \u001b[1;36m-0.006943293381482363\u001b[0m,\n",
       "        \u001b[1;36m-0.05678820237517357\u001b[0m,\n",
       "        \u001b[1;36m0.003081723814830184\u001b[0m,\n",
       "        \u001b[1;36m-0.006687931250780821\u001b[0m,\n",
       "        \u001b[1;36m0.006281865760684013\u001b[0m,\n",
       "        \u001b[1;36m-0.028227679431438446\u001b[0m,\n",
       "        \u001b[1;36m0.12478890269994736\u001b[0m,\n",
       "        \u001b[1;36m0.02344733104109764\u001b[0m,\n",
       "        \u001b[1;36m0.05829319357872009\u001b[0m,\n",
       "        \u001b[1;36m-0.08153949677944183\u001b[0m,\n",
       "        \u001b[1;36m0.03051854856312275\u001b[0m,\n",
       "        \u001b[1;36m0.00989930983632803\u001b[0m,\n",
       "        \u001b[1;36m0.037973370403051376\u001b[0m,\n",
       "        \u001b[1;36m-0.13631276786327362\u001b[0m,\n",
       "        \u001b[1;36m-0.022915491834282875\u001b[0m,\n",
       "        \u001b[1;36m-0.01071949303150177\u001b[0m,\n",
       "        \u001b[1;36m-0.027021100744605064\u001b[0m,\n",
       "        \u001b[1;36m0.023927215486764908\u001b[0m,\n",
       "        \u001b[1;36m0.02194448933005333\u001b[0m,\n",
       "        \u001b[1;36m-0.07846726477146149\u001b[0m,\n",
       "        \u001b[1;36m0.012228053994476795\u001b[0m,\n",
       "        \u001b[1;36m-0.002332970267161727\u001b[0m,\n",
       "        \u001b[1;36m-0.048982590436935425\u001b[0m,\n",
       "        \u001b[1;36m0.0019666305743157864\u001b[0m,\n",
       "        \u001b[1;36m-0.013061276637017727\u001b[0m,\n",
       "        \u001b[1;36m-5.320522905094549e-05\u001b[0m,\n",
       "        \u001b[1;36m-0.02084183692932129\u001b[0m,\n",
       "        \u001b[1;36m-0.011500246822834015\u001b[0m,\n",
       "        \u001b[1;36m0.0035637200344353914\u001b[0m,\n",
       "        \u001b[1;36m-0.03181969374418259\u001b[0m,\n",
       "        \u001b[1;36m-0.00996898952871561\u001b[0m,\n",
       "        \u001b[1;36m0.00286105670966208\u001b[0m,\n",
       "        \u001b[1;36m-0.04877921938896179\u001b[0m,\n",
       "        \u001b[1;36m-0.08518042415380478\u001b[0m,\n",
       "        \u001b[1;36m0.04093388468027115\u001b[0m,\n",
       "        \u001b[1;36m-0.00036861884291283786\u001b[0m,\n",
       "        \u001b[1;36m-0.09690209478139877\u001b[0m,\n",
       "        \u001b[1;36m-0.05930088087916374\u001b[0m,\n",
       "        \u001b[1;36m-0.08024739474058151\u001b[0m\n",
       "    \u001b[1m]\u001b[0m\n",
       "\u001b[1m}\u001b[0m\n"
      ]
     },
     "metadata": {},
     "output_type": "display_data"
    }
   ],
   "source": [
    "rich.print ( dset[0] )"
   ]
  },
  {
   "cell_type": "code",
   "execution_count": null,
   "id": "a01086bd-d78c-4467-bb62-891d0e5cfe70",
   "metadata": {},
   "outputs": [],
   "source": []
  },
  {
   "cell_type": "code",
   "execution_count": null,
   "id": "8f5208bd-580e-4ede-b5a6-fa896bdeb8eb",
   "metadata": {},
   "outputs": [],
   "source": []
  },
  {
   "cell_type": "code",
   "execution_count": 16,
   "id": "61c5f7de-d241-4d31-a138-cbdc28c67725",
   "metadata": {},
   "outputs": [],
   "source": [
    "collection_name = \"unsplash\""
   ]
  },
  {
   "cell_type": "code",
   "execution_count": null,
   "id": "56ccd78d-3120-4cb1-9180-3d246f7a81a3",
   "metadata": {},
   "outputs": [],
   "source": []
  },
  {
   "cell_type": "code",
   "execution_count": null,
   "id": "844b2473-6afa-4eb8-bb5c-12c230a1c6bb",
   "metadata": {},
   "outputs": [],
   "source": []
  },
  {
   "cell_type": "markdown",
   "id": "15ea238b-772e-4f7b-99f2-0eba9bb7e813",
   "metadata": {},
   "source": [
    "## Milvus"
   ]
  },
  {
   "cell_type": "code",
   "execution_count": 17,
   "id": "3f85e030-7a01-49b0-9d9a-3b0631fe433b",
   "metadata": {},
   "outputs": [],
   "source": [
    "connections.connect(\"default\", host=\"localhost\", port=\"19530\")\n"
   ]
  },
  {
   "cell_type": "code",
   "execution_count": null,
   "id": "c1d3bed9-7cd3-4bcf-81e9-22c4cc14e085",
   "metadata": {},
   "outputs": [],
   "source": []
  },
  {
   "cell_type": "markdown",
   "id": "5b772301-5f6d-43d2-9274-806941e3fce1",
   "metadata": {},
   "source": [
    "Milvus `collections` is the same as Elastic Search concept of `indexes` / table.\n",
    "\n",
    "Each collection is meant for a seperate use case. "
   ]
  },
  {
   "cell_type": "code",
   "execution_count": 18,
   "id": "348f74c0-9496-4c35-85d8-ea39ac35c371",
   "metadata": {
    "tags": []
   },
   "outputs": [
    {
     "data": {
      "text/plain": [
       "['unsplash']"
      ]
     },
     "execution_count": 18,
     "metadata": {},
     "output_type": "execute_result"
    }
   ],
   "source": [
    "utility.list_collections()"
   ]
  },
  {
   "cell_type": "code",
   "execution_count": 19,
   "id": "3d826103-5586-42e9-a0ef-169d11b3820c",
   "metadata": {
    "tags": []
   },
   "outputs": [],
   "source": [
    "if collection_name in utility.list_collections():\n",
    "    utility.drop_collection(collection_name)"
   ]
  },
  {
   "cell_type": "code",
   "execution_count": 20,
   "id": "30dad66b-c163-46cc-ae36-38928f4d28f7",
   "metadata": {
    "tags": []
   },
   "outputs": [
    {
     "data": {
      "text/plain": [
       "\u001b[0;31mInit signature:\u001b[0m \u001b[0mCollection\u001b[0m\u001b[0;34m(\u001b[0m\u001b[0mname\u001b[0m\u001b[0;34m,\u001b[0m \u001b[0mschema\u001b[0m\u001b[0;34m=\u001b[0m\u001b[0;32mNone\u001b[0m\u001b[0;34m,\u001b[0m \u001b[0musing\u001b[0m\u001b[0;34m=\u001b[0m\u001b[0;34m'default'\u001b[0m\u001b[0;34m,\u001b[0m \u001b[0mshards_num\u001b[0m\u001b[0;34m=\u001b[0m\u001b[0;36m2\u001b[0m\u001b[0;34m,\u001b[0m \u001b[0;34m**\u001b[0m\u001b[0mkwargs\u001b[0m\u001b[0;34m)\u001b[0m\u001b[0;34m\u001b[0m\u001b[0;34m\u001b[0m\u001b[0m\n",
       "\u001b[0;31mDocstring:\u001b[0m      This is a class corresponding to collection in milvus. \n",
       "\u001b[0;31mInit docstring:\u001b[0m\n",
       "Constructs a collection by name, schema and other parameters.\n",
       "Connection information is contained in kwargs.\n",
       "\n",
       ":param name: the name of collection\n",
       ":type name: str\n",
       "\n",
       ":param schema: the schema of collection\n",
       ":type schema: class `schema.CollectionSchema`\n",
       "\n",
       ":param using: Milvus link of create collection\n",
       ":type using: str\n",
       "\n",
       ":param shards_num: How wide to scale collection. Corresponds to how many active datanodes\n",
       "                can be used on insert.\n",
       ":type shards_num: int\n",
       "\n",
       ":param kwargs:\n",
       "    * *consistency_level* (``str/int``) --\n",
       "    Which consistency level to use when searching in the collection. For details, see\n",
       "    https://github.com/milvus-io/milvus/blob/master/docs/developer_guides/how-guarantee-ts-works.md.\n",
       "    Options of consistency level: Strong, Bounded, Eventually, Session, Customized.\n",
       "    Note: this parameter can be overwritten by the same parameter specified in search.\n",
       "\n",
       ":example:\n",
       "    >>> from pymilvus import connections, Collection, FieldSchema, CollectionSchema, DataType\n",
       "    >>> connections.connect()\n",
       "    <pymilvus.client.stub.Milvus object at 0x7f9a190ca898>\n",
       "    >>> fields = [\n",
       "    ...     FieldSchema(\"film_id\", DataType.INT64, is_primary=True),\n",
       "    ...     FieldSchema(\"films\", dtype=DataType.FLOAT_VECTOR, dim=128)\n",
       "    ... ]\n",
       "    >>> description=\"This is a new collection description.\"\n",
       "    >>> schema = CollectionSchema(fields=fields, description=description)\n",
       "    >>> collection = Collection(name=\"test_collection_init\", schema=schema)\n",
       "    >>> collection.name\n",
       "    'test_collection_init'\n",
       "    >>> collection.description\n",
       "    'This is a new collection description.'\n",
       "    >>> collection.is_empty\n",
       "    True\n",
       "    >>> collection.num_entities\n",
       "    0\n",
       "\u001b[0;31mFile:\u001b[0m           /opt/conda/envs/py38/lib/python3.8/site-packages/pymilvus/orm/collection.py\n",
       "\u001b[0;31mType:\u001b[0m           type\n",
       "\u001b[0;31mSubclasses:\u001b[0m     \n"
      ]
     },
     "metadata": {},
     "output_type": "display_data"
    }
   ],
   "source": [
    "?Collection"
   ]
  },
  {
   "cell_type": "code",
   "execution_count": null,
   "id": "ac806c04-9aaa-4ec4-94e9-612711857296",
   "metadata": {},
   "outputs": [],
   "source": []
  },
  {
   "cell_type": "markdown",
   "id": "95a9b97a-3b35-40f0-b5a9-3e21f0f134e2",
   "metadata": {},
   "source": [
    "unlike Elastic Search , Milvus requires us to specify the document schema beforehand.   \n",
    "\n",
    "Currently Milvus stores the metadata for a document in MySql, hence some of the data type names"
   ]
  },
  {
   "cell_type": "code",
   "execution_count": null,
   "id": "67754c4e-1561-42e9-8c42-da8faf275ab3",
   "metadata": {},
   "outputs": [],
   "source": []
  },
  {
   "cell_type": "code",
   "execution_count": 21,
   "id": "72b27bd3-cd89-454e-ada9-9bf4a2c2dee4",
   "metadata": {},
   "outputs": [
    {
     "data": {
      "text/plain": [
       "{'photo_id': 'XMyPniM9LF0',\n",
       " 'photo_url': 'https://unsplash.com/photos/XMyPniM9LF0',\n",
       " 'photo_image_url': 'https://images.unsplash.com/uploads/14119492946973137ce46/f1f2ebf3',\n",
       " 'photo_submitted_at': '2014-09-29 00:08:38.594364',\n",
       " 'photo_featured': 't',\n",
       " 'photo_width': 4272,\n",
       " 'photo_height': 2848,\n",
       " 'photo_aspect_ratio': 1.5,\n",
       " 'photo_description': 'Woman exploring a forest',\n",
       " 'photographer_username': 'michellespencer77',\n",
       " 'photographer_first_name': 'Michelle',\n",
       " 'photographer_last_name': 'Spencer',\n",
       " 'exif_camera_make': 'Canon',\n",
       " 'exif_camera_model': 'Canon EOS REBEL T3',\n",
       " 'exif_iso': 400.0,\n",
       " 'exif_aperture_value': '1.8',\n",
       " 'exif_focal_length': '50.0',\n",
       " 'exif_exposure_time': '1/100',\n",
       " 'photo_location_name': None,\n",
       " 'photo_location_latitude': None,\n",
       " 'photo_location_longitude': None,\n",
       " 'photo_location_country': None,\n",
       " 'photo_location_city': None,\n",
       " 'stats_views': 2375421,\n",
       " 'stats_downloads': 6967,\n",
       " 'ai_description': 'woman walking in the middle of forest',\n",
       " 'ai_primary_landmark_name': None,\n",
       " 'ai_primary_landmark_latitude': None,\n",
       " 'ai_primary_landmark_longitude': None,\n",
       " 'ai_primary_landmark_confidence': None,\n",
       " 'blur_hash': 'L56bVcRRIWMh.gVunlS4SMbsRRxr',\n",
       " 'description_final': 'Woman exploring a forest',\n",
       " 'image': <PIL.JpegImagePlugin.JpegImageFile image mode=RGB size=640x427>,\n",
       " 'embedding': [0.0830303505063057,\n",
       "  -0.06755100935697556,\n",
       "  0.016757922247052193,\n",
       "  0.09100779891014099,\n",
       "  0.10158310830593109,\n",
       "  0.005028506740927696,\n",
       "  -0.002600233070552349,\n",
       "  -0.019367434084415436,\n",
       "  0.010927319526672363,\n",
       "  0.07374636828899384,\n",
       "  -0.016480574384331703,\n",
       "  -0.07633168995380402,\n",
       "  -0.0996660441160202,\n",
       "  0.021467329934239388,\n",
       "  -0.00948204006999731,\n",
       "  0.12392714619636536,\n",
       "  -0.02461921237409115,\n",
       "  0.032766517251729965,\n",
       "  0.0440586619079113,\n",
       "  0.05890907719731331,\n",
       "  0.01649940386414528,\n",
       "  -0.001281778677366674,\n",
       "  -0.002665333915501833,\n",
       "  0.018453793600201607,\n",
       "  -0.03046845644712448,\n",
       "  -0.10237908363342285,\n",
       "  -0.07643647491931915,\n",
       "  0.04187469184398651,\n",
       "  -0.008350006304681301,\n",
       "  -0.00876616034656763,\n",
       "  -0.011281387880444527,\n",
       "  0.03410236909985542,\n",
       "  -0.018544496968388557,\n",
       "  0.06805386394262314,\n",
       "  -0.03742838650941849,\n",
       "  0.05683537572622299,\n",
       "  -0.01375591941177845,\n",
       "  -0.05500423535704613,\n",
       "  0.023737551644444466,\n",
       "  0.03510565683245659,\n",
       "  -0.09786780923604965,\n",
       "  0.019752422347664833,\n",
       "  0.0008298805914819241,\n",
       "  -0.05914072319865227,\n",
       "  -0.008947904221713543,\n",
       "  -0.042243048548698425,\n",
       "  0.03851393237709999,\n",
       "  0.075810506939888,\n",
       "  0.01905851624906063,\n",
       "  -0.06816433370113373,\n",
       "  0.007752161007374525,\n",
       "  -0.0872664824128151,\n",
       "  -0.11505133658647537,\n",
       "  -0.06915692239999771,\n",
       "  -0.026582809165120125,\n",
       "  0.02626717835664749,\n",
       "  -0.012593049556016922,\n",
       "  -0.07244285941123962,\n",
       "  0.04744509235024452,\n",
       "  -0.002609628951177001,\n",
       "  0.09833682328462601,\n",
       "  0.06072022020816803,\n",
       "  -0.025261757895350456,\n",
       "  0.02841377630829811,\n",
       "  0.01553035993129015,\n",
       "  -0.0421944223344326,\n",
       "  -0.05775362625718117,\n",
       "  -0.005985558964312077,\n",
       "  0.12382839620113373,\n",
       "  -0.03346623107790947,\n",
       "  0.07404892146587372,\n",
       "  -0.0012986598303541541,\n",
       "  -0.06490236520767212,\n",
       "  0.012131811119616032,\n",
       "  0.11206416040658951,\n",
       "  0.0022594609763473272,\n",
       "  0.00046667613787576556,\n",
       "  0.07633617520332336,\n",
       "  0.005854411981999874,\n",
       "  0.009757926687598228,\n",
       "  0.0158031415194273,\n",
       "  0.043435897678136826,\n",
       "  0.05402514711022377,\n",
       "  0.05363898724317551,\n",
       "  0.02404092065989971,\n",
       "  0.06629560887813568,\n",
       "  -0.057825855910778046,\n",
       "  0.05765451490879059,\n",
       "  0.05229165032505989,\n",
       "  -0.05528979003429413,\n",
       "  -0.02499806508421898,\n",
       "  -0.08955580741167068,\n",
       "  -0.07401495426893234,\n",
       "  0.04990016669034958,\n",
       "  -0.071408212184906,\n",
       "  -0.04006853327155113,\n",
       "  0.05586433783173561,\n",
       "  -0.07767123728990555,\n",
       "  0.05119192227721214,\n",
       "  0.03398393094539642,\n",
       "  -0.004238974303007126,\n",
       "  0.06086175888776779,\n",
       "  -0.010651434771716595,\n",
       "  -0.006932792253792286,\n",
       "  -0.0981331393122673,\n",
       "  0.04138857126235962,\n",
       "  -0.04439203068614006,\n",
       "  0.060603827238082886,\n",
       "  0.0287997517734766,\n",
       "  0.014037941582500935,\n",
       "  0.028811069205403328,\n",
       "  0.00642520934343338,\n",
       "  -0.07866854220628738,\n",
       "  0.09037470817565918,\n",
       "  0.011841735802590847,\n",
       "  0.0018862943397834897,\n",
       "  -0.025623977184295654,\n",
       "  0.01916508376598358,\n",
       "  0.03996772691607475,\n",
       "  0.051679741591215134,\n",
       "  -0.04852116107940674,\n",
       "  -0.09722000360488892,\n",
       "  0.030072730034589767,\n",
       "  -0.058650579303503036,\n",
       "  0.08791159838438034,\n",
       "  -0.01808820478618145,\n",
       "  0.10404062271118164,\n",
       "  -5.086165691336337e-33,\n",
       "  0.03181545063853264,\n",
       "  -0.006305550690740347,\n",
       "  0.033208563923835754,\n",
       "  0.026215670630335808,\n",
       "  0.03930642455816269,\n",
       "  -0.0033612188417464495,\n",
       "  0.06016870215535164,\n",
       "  -0.029395662248134613,\n",
       "  -0.037686269730329514,\n",
       "  0.08337914198637009,\n",
       "  -0.05583197996020317,\n",
       "  0.0007532474701292813,\n",
       "  -0.10892569273710251,\n",
       "  -0.045883677899837494,\n",
       "  0.06491311639547348,\n",
       "  0.006466947495937347,\n",
       "  -0.014211387373507023,\n",
       "  0.0031883064657449722,\n",
       "  -0.03221617639064789,\n",
       "  0.05194566771388054,\n",
       "  0.014306597411632538,\n",
       "  0.0010901205241680145,\n",
       "  -0.012047798372805119,\n",
       "  0.00984050240367651,\n",
       "  0.046278003603219986,\n",
       "  0.0029668500646948814,\n",
       "  0.0329289473593235,\n",
       "  0.014663830399513245,\n",
       "  -0.030969299376010895,\n",
       "  -0.014734497293829918,\n",
       "  -0.006604321300983429,\n",
       "  -0.029626790434122086,\n",
       "  -0.03723148629069328,\n",
       "  -0.09686759114265442,\n",
       "  0.051465973258018494,\n",
       "  -0.030241111293435097,\n",
       "  0.04626740515232086,\n",
       "  0.023720163851976395,\n",
       "  0.0064200409688055515,\n",
       "  -0.018915565684437752,\n",
       "  -0.05308614298701286,\n",
       "  -0.011426090262830257,\n",
       "  0.07691420614719391,\n",
       "  -0.06933047622442245,\n",
       "  -0.014763692393898964,\n",
       "  0.040849801152944565,\n",
       "  0.07564499974250793,\n",
       "  0.028851313516497612,\n",
       "  -0.08021531999111176,\n",
       "  0.14700420200824738,\n",
       "  -0.15142878890037537,\n",
       "  0.023795004934072495,\n",
       "  0.04449765384197235,\n",
       "  0.06876224279403687,\n",
       "  -0.006763898767530918,\n",
       "  0.016428548842668533,\n",
       "  0.043021880090236664,\n",
       "  0.015933416783809662,\n",
       "  0.029841098934412003,\n",
       "  0.0065774619579315186,\n",
       "  0.02602207474410534,\n",
       "  -0.07112192362546921,\n",
       "  0.022406788542866707,\n",
       "  0.012334385886788368,\n",
       "  0.04748496040701866,\n",
       "  0.015717074275016785,\n",
       "  0.0341414250433445,\n",
       "  -0.05253663659095764,\n",
       "  0.020550496876239777,\n",
       "  0.057613953948020935,\n",
       "  -0.06116655468940735,\n",
       "  0.06248077005147934,\n",
       "  0.06453777849674225,\n",
       "  0.057636093348264694,\n",
       "  -0.02198965661227703,\n",
       "  0.003228610148653388,\n",
       "  0.04434305056929588,\n",
       "  0.04921619966626167,\n",
       "  0.031192967668175697,\n",
       "  0.013964674435555935,\n",
       "  -0.0017913324991241097,\n",
       "  0.04827842861413956,\n",
       "  0.025268903002142906,\n",
       "  0.06214562803506851,\n",
       "  0.017139967530965805,\n",
       "  -0.02933564968407154,\n",
       "  -0.06117108091711998,\n",
       "  -0.08921021968126297,\n",
       "  -0.03246559947729111,\n",
       "  0.013923821970820427,\n",
       "  0.00016626110300421715,\n",
       "  0.0464702807366848,\n",
       "  -0.03600211814045906,\n",
       "  -0.043166518211364746,\n",
       "  0.050958551466464996,\n",
       "  3.5211881851003774e-33,\n",
       "  0.0381275936961174,\n",
       "  -0.0901295617222786,\n",
       "  0.11241155117750168,\n",
       "  -0.038242992013692856,\n",
       "  -0.05403003469109535,\n",
       "  0.02271982468664646,\n",
       "  0.0067627388052642345,\n",
       "  -0.009673899970948696,\n",
       "  -0.0071555813774466515,\n",
       "  -0.03679385408759117,\n",
       "  0.007896442897617817,\n",
       "  0.05606476590037346,\n",
       "  0.03369995206594467,\n",
       "  0.03687127307057381,\n",
       "  0.013565363362431526,\n",
       "  -0.029708921909332275,\n",
       "  -0.006830216385424137,\n",
       "  -0.0037386256735771894,\n",
       "  -0.031238248571753502,\n",
       "  -0.015835510566830635,\n",
       "  -0.08107959479093552,\n",
       "  0.020487777888774872,\n",
       "  -0.030188675969839096,\n",
       "  -0.07465063780546188,\n",
       "  0.003996815532445908,\n",
       "  0.03426159918308258,\n",
       "  0.07997580617666245,\n",
       "  -0.026038900017738342,\n",
       "  -0.037700753659009933,\n",
       "  -0.014482301659882069,\n",
       "  0.05590815842151642,\n",
       "  0.00969398021697998,\n",
       "  0.016007617115974426,\n",
       "  -0.05136315897107124,\n",
       "  -0.01442690473049879,\n",
       "  -0.037056226283311844,\n",
       "  0.07178886979818344,\n",
       "  -0.10156847536563873,\n",
       "  -0.007921933196485043,\n",
       "  0.06422631442546844,\n",
       "  -0.03364492580294609,\n",
       "  0.11741036921739578,\n",
       "  0.016860507428646088,\n",
       "  -0.05913752317428589,\n",
       "  0.002591632306575775,\n",
       "  0.0037420245353132486,\n",
       "  0.002754200017079711,\n",
       "  0.0322469025850296,\n",
       "  0.009581015445291996,\n",
       "  0.04722880572080612,\n",
       "  0.06083422154188156,\n",
       "  -0.0026368380058556795,\n",
       "  -0.005560575984418392,\n",
       "  0.014365065842866898,\n",
       "  0.04174449294805527,\n",
       "  -0.05296310782432556,\n",
       "  0.030955832451581955,\n",
       "  -0.0005510951159521937,\n",
       "  0.08368858695030212,\n",
       "  -0.041632864624261856,\n",
       "  -0.061101119965314865,\n",
       "  0.04178500920534134,\n",
       "  -0.1597823202610016,\n",
       "  -0.02695903740823269,\n",
       "  -0.04052641987800598,\n",
       "  -0.036959871649742126,\n",
       "  -0.02859211526811123,\n",
       "  -0.011744396761059761,\n",
       "  -0.0059348177164793015,\n",
       "  -0.022943025454878807,\n",
       "  -0.03045734390616417,\n",
       "  -0.037591978907585144,\n",
       "  -0.029105210676789284,\n",
       "  0.053259946405887604,\n",
       "  0.03748132288455963,\n",
       "  -0.030317623168230057,\n",
       "  0.014388172887265682,\n",
       "  -0.04639570415019989,\n",
       "  0.017047448083758354,\n",
       "  0.025403084233403206,\n",
       "  -0.030615314841270447,\n",
       "  0.015595060773193836,\n",
       "  0.029894661158323288,\n",
       "  0.006059969309717417,\n",
       "  0.09915049374103546,\n",
       "  0.12477456033229828,\n",
       "  -0.05734235793352127,\n",
       "  0.006873185280710459,\n",
       "  -0.03069246932864189,\n",
       "  -0.07161430269479752,\n",
       "  -0.004796826746314764,\n",
       "  0.01995999552309513,\n",
       "  -0.040777578949928284,\n",
       "  0.009621608071029186,\n",
       "  -0.03842579573392868,\n",
       "  -1.3513436591949812e-08,\n",
       "  -0.12408784031867981,\n",
       "  0.05861697345972061,\n",
       "  0.04609891027212143,\n",
       "  -0.06754660606384277,\n",
       "  0.018404748290777206,\n",
       "  0.01240299828350544,\n",
       "  0.10156317800283432,\n",
       "  0.04085403308272362,\n",
       "  -0.08285672962665558,\n",
       "  -0.07749387621879578,\n",
       "  -0.04829483479261398,\n",
       "  -0.0023070808965712786,\n",
       "  0.058713171631097794,\n",
       "  0.0929335281252861,\n",
       "  0.07602450996637344,\n",
       "  -0.06210850924253464,\n",
       "  0.06558450311422348,\n",
       "  0.02933509089052677,\n",
       "  -0.044356800615787506,\n",
       "  0.0471317321062088,\n",
       "  0.0698423832654953,\n",
       "  -0.05796526372432709,\n",
       "  0.04195645824074745,\n",
       "  0.020849555730819702,\n",
       "  -0.01409994624555111,\n",
       "  -0.006943293381482363,\n",
       "  -0.05678820237517357,\n",
       "  0.003081723814830184,\n",
       "  -0.006687931250780821,\n",
       "  0.006281865760684013,\n",
       "  -0.028227679431438446,\n",
       "  0.12478890269994736,\n",
       "  0.02344733104109764,\n",
       "  0.05829319357872009,\n",
       "  -0.08153949677944183,\n",
       "  0.03051854856312275,\n",
       "  0.00989930983632803,\n",
       "  0.037973370403051376,\n",
       "  -0.13631276786327362,\n",
       "  -0.022915491834282875,\n",
       "  -0.01071949303150177,\n",
       "  -0.027021100744605064,\n",
       "  0.023927215486764908,\n",
       "  0.02194448933005333,\n",
       "  -0.07846726477146149,\n",
       "  0.012228053994476795,\n",
       "  -0.002332970267161727,\n",
       "  -0.048982590436935425,\n",
       "  0.0019666305743157864,\n",
       "  -0.013061276637017727,\n",
       "  -5.320522905094549e-05,\n",
       "  -0.02084183692932129,\n",
       "  -0.011500246822834015,\n",
       "  0.0035637200344353914,\n",
       "  -0.03181969374418259,\n",
       "  -0.00996898952871561,\n",
       "  0.00286105670966208,\n",
       "  -0.04877921938896179,\n",
       "  -0.08518042415380478,\n",
       "  0.04093388468027115,\n",
       "  -0.00036861884291283786,\n",
       "  -0.09690209478139877,\n",
       "  -0.05930088087916374,\n",
       "  -0.08024739474058151]}"
      ]
     },
     "execution_count": 21,
     "metadata": {},
     "output_type": "execute_result"
    }
   ],
   "source": [
    "dset[0]"
   ]
  },
  {
   "cell_type": "code",
   "execution_count": 23,
   "id": "e3ed51ba-e12b-4b0c-9557-db9d47b19ba8",
   "metadata": {},
   "outputs": [
    {
     "data": {
      "text/plain": [
       "384"
      ]
     },
     "execution_count": 23,
     "metadata": {},
     "output_type": "execute_result"
    }
   ],
   "source": [
    "dim = len(dset[0]['embedding'])\n",
    "dim"
   ]
  },
  {
   "cell_type": "code",
   "execution_count": null,
   "id": "b4fbefac-4424-4918-b26e-c7ed7a2430f1",
   "metadata": {},
   "outputs": [],
   "source": []
  },
  {
   "cell_type": "code",
   "execution_count": null,
   "id": "935aa1a3-8c6c-4427-b317-818f67e8846c",
   "metadata": {},
   "outputs": [],
   "source": []
  },
  {
   "cell_type": "code",
   "execution_count": 24,
   "id": "2701920b-f050-4b20-bd51-aa2bca667739",
   "metadata": {},
   "outputs": [],
   "source": [
    "fields = [\n",
    "    FieldSchema(name=\"photo_id\", dtype=DataType.VARCHAR, is_primary=True, auto_id=False, max_length=512),\n",
    "    FieldSchema(name=\"photo_url\", dtype=DataType.VARCHAR, max_length=60000),\n",
    "    FieldSchema(name=\"photo_image_url\", dtype=DataType.VARCHAR, max_length=60000),\n",
    "    FieldSchema(name=\"photographer_username\", dtype=DataType.VARCHAR, max_length=500),\n",
    "    FieldSchema(name=\"photographer_first_name\", dtype=DataType.VARCHAR, max_length=500),\n",
    "    FieldSchema(name=\"photographer_last_name\", dtype=DataType.VARCHAR, max_length=500),\n",
    "\n",
    "    FieldSchema(name=\"stats_views\", dtype=DataType.INT64),\n",
    "    FieldSchema(name=\"stats_downloads\", dtype=DataType.INT64),\n",
    "    FieldSchema(name=\"description_final\", dtype=DataType.VARCHAR, max_length=50_000),\n",
    "    FieldSchema(name=\"embedding\", dtype=DataType.FLOAT_VECTOR, dim=dim) ,\n",
    "]\n",
    "\n",
    "\n",
    "\n",
    "schema = CollectionSchema(fields, \"collection containing unsplash data\")\n",
    "\n",
    "unsplash_milvus = Collection(collection_name, schema, consistency_level=\"Strong\")"
   ]
  },
  {
   "cell_type": "code",
   "execution_count": null,
   "id": "af08e4af-8b32-4377-952c-3154b93e7746",
   "metadata": {},
   "outputs": [],
   "source": []
  },
  {
   "cell_type": "code",
   "execution_count": 25,
   "id": "92bb63d6-6231-43d2-a9cd-6af030d86b25",
   "metadata": {},
   "outputs": [
    {
     "data": {
      "text/plain": [
       "{\n",
       "  auto_id: False\n",
       "  description: collection containing unsplash data\n",
       "  fields: [{\n",
       "    name: photo_id\n",
       "    description: \n",
       "    type: 21\n",
       "    params: {'max_length': 512}\n",
       "    is_primary: True\n",
       "    auto_id: False\n",
       "  }, {\n",
       "    name: photo_url\n",
       "    description: \n",
       "    type: 21\n",
       "    params: {'max_length': 60000}\n",
       "  }, {\n",
       "    name: photo_image_url\n",
       "    description: \n",
       "    type: 21\n",
       "    params: {'max_length': 60000}\n",
       "  }, {\n",
       "    name: photographer_username\n",
       "    description: \n",
       "    type: 21\n",
       "    params: {'max_length': 500}\n",
       "  }, {\n",
       "    name: photographer_first_name\n",
       "    description: \n",
       "    type: 21\n",
       "    params: {'max_length': 500}\n",
       "  }, {\n",
       "    name: photographer_last_name\n",
       "    description: \n",
       "    type: 21\n",
       "    params: {'max_length': 500}\n",
       "  }, {\n",
       "    name: stats_views\n",
       "    description: \n",
       "    type: 5\n",
       "  }, {\n",
       "    name: stats_downloads\n",
       "    description: \n",
       "    type: 5\n",
       "  }, {\n",
       "    name: description_final\n",
       "    description: \n",
       "    type: 21\n",
       "    params: {'max_length': 50000}\n",
       "  }, {\n",
       "    name: embedding\n",
       "    description: \n",
       "    type: 101\n",
       "    params: {'dim': 384}\n",
       "  }]\n",
       "}"
      ]
     },
     "execution_count": 25,
     "metadata": {},
     "output_type": "execute_result"
    }
   ],
   "source": [
    "schema"
   ]
  },
  {
   "cell_type": "code",
   "execution_count": null,
   "id": "dd69de2a-f0af-4b27-b3bc-ed7b21fb5a38",
   "metadata": {},
   "outputs": [],
   "source": []
  },
  {
   "cell_type": "code",
   "execution_count": null,
   "id": "f2cba2c8-aefa-4380-bb2d-fb762b2c446f",
   "metadata": {},
   "outputs": [],
   "source": []
  },
  {
   "cell_type": "code",
   "execution_count": 26,
   "id": "a4b02518-4c63-414e-914c-a7bd7bf21caf",
   "metadata": {
    "tags": []
   },
   "outputs": [],
   "source": [
    "fields = [f.name for f in schema.fields]"
   ]
  },
  {
   "cell_type": "code",
   "execution_count": 27,
   "id": "3ca6fde4-0b75-4dbd-95ba-8d5bdae82dd4",
   "metadata": {
    "tags": []
   },
   "outputs": [
    {
     "data": {
      "text/plain": [
       "['photo_id',\n",
       " 'photo_url',\n",
       " 'photo_image_url',\n",
       " 'photographer_username',\n",
       " 'photographer_first_name',\n",
       " 'photographer_last_name',\n",
       " 'stats_views',\n",
       " 'stats_downloads',\n",
       " 'description_final',\n",
       " 'embedding']"
      ]
     },
     "execution_count": 27,
     "metadata": {},
     "output_type": "execute_result"
    }
   ],
   "source": [
    "fields"
   ]
  },
  {
   "cell_type": "code",
   "execution_count": null,
   "id": "28a68a41-ce72-4499-8839-7dad0b9d5526",
   "metadata": {},
   "outputs": [],
   "source": []
  },
  {
   "cell_type": "markdown",
   "id": "70ddbc2a-cfc2-4d1b-a0e5-47cd4f455938",
   "metadata": {},
   "source": [
    "replace Nan or NA columns with a default value"
   ]
  },
  {
   "cell_type": "code",
   "execution_count": 28,
   "id": "8ed9e15f-1497-41af-ab8c-916d1601568d",
   "metadata": {},
   "outputs": [],
   "source": [
    "df = dset.to_pandas()[fields]\n",
    "\n",
    "df['photographer_last_name'] = df['photographer_last_name'].fillna(\"\").astype(str) "
   ]
  },
  {
   "cell_type": "code",
   "execution_count": null,
   "id": "814213b8-53d6-48ca-aa69-13b90ffa8c13",
   "metadata": {},
   "outputs": [],
   "source": []
  },
  {
   "cell_type": "code",
   "execution_count": 29,
   "id": "61f53b8b-90d6-4b85-8b17-79716fbc7dba",
   "metadata": {},
   "outputs": [
    {
     "data": {
      "text/html": [
       "<div>\n",
       "<style scoped>\n",
       "    .dataframe tbody tr th:only-of-type {\n",
       "        vertical-align: middle;\n",
       "    }\n",
       "\n",
       "    .dataframe tbody tr th {\n",
       "        vertical-align: top;\n",
       "    }\n",
       "\n",
       "    .dataframe thead th {\n",
       "        text-align: right;\n",
       "    }\n",
       "</style>\n",
       "<table border=\"1\" class=\"dataframe\">\n",
       "  <thead>\n",
       "    <tr style=\"text-align: right;\">\n",
       "      <th></th>\n",
       "      <th>photo_id</th>\n",
       "      <th>photo_url</th>\n",
       "      <th>photo_image_url</th>\n",
       "      <th>photographer_username</th>\n",
       "      <th>photographer_first_name</th>\n",
       "      <th>photographer_last_name</th>\n",
       "      <th>stats_views</th>\n",
       "      <th>stats_downloads</th>\n",
       "      <th>description_final</th>\n",
       "      <th>embedding</th>\n",
       "    </tr>\n",
       "  </thead>\n",
       "  <tbody>\n",
       "    <tr>\n",
       "      <th>0</th>\n",
       "      <td>XMyPniM9LF0</td>\n",
       "      <td>https://unsplash.com/photos/XMyPniM9LF0</td>\n",
       "      <td>https://images.unsplash.com/uploads/1411949294...</td>\n",
       "      <td>michellespencer77</td>\n",
       "      <td>Michelle</td>\n",
       "      <td>Spencer</td>\n",
       "      <td>2375421</td>\n",
       "      <td>6967</td>\n",
       "      <td>Woman exploring a forest</td>\n",
       "      <td>[0.08303035, -0.06755101, 0.016757922, 0.09100...</td>\n",
       "    </tr>\n",
       "    <tr>\n",
       "      <th>1</th>\n",
       "      <td>rDLBArZUl1c</td>\n",
       "      <td>https://unsplash.com/photos/rDLBArZUl1c</td>\n",
       "      <td>https://images.unsplash.com/photo-141633941111...</td>\n",
       "      <td>ugmonk</td>\n",
       "      <td>Jeff</td>\n",
       "      <td>Sheldon</td>\n",
       "      <td>13784815</td>\n",
       "      <td>82141</td>\n",
       "      <td>Succulents in a terrarium</td>\n",
       "      <td>[0.097154394, 0.047049347, -0.032927733, 0.002...</td>\n",
       "    </tr>\n",
       "    <tr>\n",
       "      <th>2</th>\n",
       "      <td>cNDGZ2sQ3Bo</td>\n",
       "      <td>https://unsplash.com/photos/cNDGZ2sQ3Bo</td>\n",
       "      <td>https://images.unsplash.com/photo-142014251503...</td>\n",
       "      <td>johnprice</td>\n",
       "      <td>John</td>\n",
       "      <td>Price</td>\n",
       "      <td>1302461</td>\n",
       "      <td>3428</td>\n",
       "      <td>Rural winter mountainside</td>\n",
       "      <td>[-0.014408475, 0.03351519, 0.0059956918, 0.120...</td>\n",
       "    </tr>\n",
       "    <tr>\n",
       "      <th>3</th>\n",
       "      <td>iuZ_D1eoq9k</td>\n",
       "      <td>https://unsplash.com/photos/iuZ_D1eoq9k</td>\n",
       "      <td>https://images.unsplash.com/photo-141487280988...</td>\n",
       "      <td>krisatomic</td>\n",
       "      <td>Kris</td>\n",
       "      <td>Atomic</td>\n",
       "      <td>2890238</td>\n",
       "      <td>33704</td>\n",
       "      <td>Poppy seeds and flowers</td>\n",
       "      <td>[-0.058240242, 0.053993173, 0.02657202, 0.0003...</td>\n",
       "    </tr>\n",
       "    <tr>\n",
       "      <th>4</th>\n",
       "      <td>BeD3vjQ8SI0</td>\n",
       "      <td>https://unsplash.com/photos/BeD3vjQ8SI0</td>\n",
       "      <td>https://images.unsplash.com/photo-141700759404...</td>\n",
       "      <td>jonaseriksson</td>\n",
       "      <td>Jonas</td>\n",
       "      <td>Eriksson</td>\n",
       "      <td>8704860</td>\n",
       "      <td>49662</td>\n",
       "      <td>Silhouette near dark trees</td>\n",
       "      <td>[0.034429714, 0.034026287, 0.023224471, 0.0585...</td>\n",
       "    </tr>\n",
       "  </tbody>\n",
       "</table>\n",
       "</div>"
      ],
      "text/plain": [
       "      photo_id                                photo_url  \\\n",
       "0  XMyPniM9LF0  https://unsplash.com/photos/XMyPniM9LF0   \n",
       "1  rDLBArZUl1c  https://unsplash.com/photos/rDLBArZUl1c   \n",
       "2  cNDGZ2sQ3Bo  https://unsplash.com/photos/cNDGZ2sQ3Bo   \n",
       "3  iuZ_D1eoq9k  https://unsplash.com/photos/iuZ_D1eoq9k   \n",
       "4  BeD3vjQ8SI0  https://unsplash.com/photos/BeD3vjQ8SI0   \n",
       "\n",
       "                                     photo_image_url photographer_username  \\\n",
       "0  https://images.unsplash.com/uploads/1411949294...     michellespencer77   \n",
       "1  https://images.unsplash.com/photo-141633941111...                ugmonk   \n",
       "2  https://images.unsplash.com/photo-142014251503...             johnprice   \n",
       "3  https://images.unsplash.com/photo-141487280988...            krisatomic   \n",
       "4  https://images.unsplash.com/photo-141700759404...         jonaseriksson   \n",
       "\n",
       "  photographer_first_name photographer_last_name  stats_views  \\\n",
       "0                Michelle                Spencer      2375421   \n",
       "1                    Jeff                Sheldon     13784815   \n",
       "2                    John                  Price      1302461   \n",
       "3                    Kris                 Atomic      2890238   \n",
       "4                   Jonas               Eriksson      8704860   \n",
       "\n",
       "   stats_downloads           description_final  \\\n",
       "0             6967    Woman exploring a forest   \n",
       "1            82141   Succulents in a terrarium   \n",
       "2             3428   Rural winter mountainside   \n",
       "3            33704     Poppy seeds and flowers   \n",
       "4            49662  Silhouette near dark trees   \n",
       "\n",
       "                                           embedding  \n",
       "0  [0.08303035, -0.06755101, 0.016757922, 0.09100...  \n",
       "1  [0.097154394, 0.047049347, -0.032927733, 0.002...  \n",
       "2  [-0.014408475, 0.03351519, 0.0059956918, 0.120...  \n",
       "3  [-0.058240242, 0.053993173, 0.02657202, 0.0003...  \n",
       "4  [0.034429714, 0.034026287, 0.023224471, 0.0585...  "
      ]
     },
     "execution_count": 29,
     "metadata": {},
     "output_type": "execute_result"
    }
   ],
   "source": [
    "df.head()"
   ]
  },
  {
   "cell_type": "code",
   "execution_count": null,
   "id": "73bb47cb-bb4f-44fa-ae1a-adfaf63791de",
   "metadata": {},
   "outputs": [],
   "source": []
  },
  {
   "cell_type": "code",
   "execution_count": 30,
   "id": "046facc0-ca12-4fda-ade6-c74151bcfe27",
   "metadata": {},
   "outputs": [
    {
     "data": {
      "text/plain": [
       "photo_id                   object\n",
       "photo_url                  object\n",
       "photo_image_url            object\n",
       "photographer_username      object\n",
       "photographer_first_name    object\n",
       "photographer_last_name     object\n",
       "stats_views                 int64\n",
       "stats_downloads             int64\n",
       "description_final          object\n",
       "embedding                  object\n",
       "dtype: object"
      ]
     },
     "execution_count": 30,
     "metadata": {},
     "output_type": "execute_result"
    }
   ],
   "source": [
    "df.dtypes"
   ]
  },
  {
   "cell_type": "markdown",
   "id": "fda5f6fe-c941-4861-8b37-de6749e801ff",
   "metadata": {},
   "source": [
    "## Embedding Insertion"
   ]
  },
  {
   "cell_type": "code",
   "execution_count": 31,
   "id": "04f3a429-036b-4613-8a4e-c47fee371459",
   "metadata": {
    "tags": []
   },
   "outputs": [],
   "source": [
    "insert_result = unsplash_milvus.insert( df  )\n",
    "\n"
   ]
  },
  {
   "cell_type": "code",
   "execution_count": 32,
   "id": "a62b59a1-25d5-4a84-b0b9-41ffa644315b",
   "metadata": {},
   "outputs": [
    {
     "data": {
      "text/plain": [
       "(insert count: 24995, delete count: 0, upsert count: 0, timestamp: 437288611590701057, success count: 24995, err count: 0)"
      ]
     },
     "execution_count": 32,
     "metadata": {},
     "output_type": "execute_result"
    }
   ],
   "source": [
    "insert_result"
   ]
  },
  {
   "cell_type": "code",
   "execution_count": null,
   "id": "6316585f-b3c5-45de-b773-97b343d2aa1e",
   "metadata": {},
   "outputs": [],
   "source": []
  },
  {
   "cell_type": "code",
   "execution_count": 33,
   "id": "97fbe9f6-05d8-45bd-bbe7-ab52d2717b14",
   "metadata": {},
   "outputs": [
    {
     "data": {
      "text/plain": [
       "24995"
      ]
     },
     "execution_count": 33,
     "metadata": {},
     "output_type": "execute_result"
    }
   ],
   "source": [
    "unsplash_milvus.num_entities"
   ]
  },
  {
   "cell_type": "code",
   "execution_count": 34,
   "id": "45d06c05-0a06-45b5-9880-ff29376c3e64",
   "metadata": {},
   "outputs": [
    {
     "data": {
      "text/plain": [
       "[]"
      ]
     },
     "execution_count": 34,
     "metadata": {},
     "output_type": "execute_result"
    }
   ],
   "source": [
    "unsplash_milvus.indexes"
   ]
  },
  {
   "cell_type": "code",
   "execution_count": null,
   "id": "41b8bff0-abbf-4ec0-9355-c87b9c1335d5",
   "metadata": {},
   "outputs": [],
   "source": []
  },
  {
   "cell_type": "code",
   "execution_count": null,
   "id": "bfd86775-9e62-48e7-857b-f66d072a0426",
   "metadata": {},
   "outputs": [],
   "source": []
  },
  {
   "cell_type": "markdown",
   "id": "f8cc90da-aea7-446b-ae48-bc3d25c6045d",
   "metadata": {},
   "source": [
    "the embeddings are inserted but no index is created \n",
    "\n",
    "Milvus supports several indexes / ANN"
   ]
  },
  {
   "cell_type": "markdown",
   "id": "32fb0d5c-f1e3-48f1-a09f-7b7166672887",
   "metadata": {},
   "source": [
    "https://milvus.io/docs/index.md"
   ]
  },
  {
   "cell_type": "code",
   "execution_count": 35,
   "id": "ef99e497-097d-4165-803d-cae166ca38df",
   "metadata": {},
   "outputs": [],
   "source": [
    "index = {\n",
    "    \"index_type\": \"IVF_FLAT\",\n",
    "    \"metric_type\": \"IP\",\n",
    "    \"params\": {\"nlist\": 20},\n",
    "}\n",
    "\n",
    "# n_list = number of clusters to create\n",
    "\n",
    "# index = {\n",
    "#     \"index_type\": \"FLAT\",\n",
    "#     \"metric_type\": \"L2\",\n",
    "#     \"params\": {}\n",
    "# }\n",
    "\n"
   ]
  },
  {
   "cell_type": "code",
   "execution_count": 36,
   "id": "b0629948-2c81-4f04-8bdf-47e3ad198c15",
   "metadata": {},
   "outputs": [
    {
     "data": {
      "text/plain": [
       "\u001b[0;31mSignature:\u001b[0m\n",
       "\u001b[0munsplash_milvus\u001b[0m\u001b[0;34m.\u001b[0m\u001b[0mcreate_index\u001b[0m\u001b[0;34m(\u001b[0m\u001b[0;34m\u001b[0m\n",
       "\u001b[0;34m\u001b[0m    \u001b[0mfield_name\u001b[0m\u001b[0;34m,\u001b[0m\u001b[0;34m\u001b[0m\n",
       "\u001b[0;34m\u001b[0m    \u001b[0mindex_params\u001b[0m\u001b[0;34m=\u001b[0m\u001b[0;34m{\u001b[0m\u001b[0;34m}\u001b[0m\u001b[0;34m,\u001b[0m\u001b[0;34m\u001b[0m\n",
       "\u001b[0;34m\u001b[0m    \u001b[0mtimeout\u001b[0m\u001b[0;34m=\u001b[0m\u001b[0;32mNone\u001b[0m\u001b[0;34m,\u001b[0m\u001b[0;34m\u001b[0m\n",
       "\u001b[0;34m\u001b[0m    \u001b[0;34m**\u001b[0m\u001b[0mkwargs\u001b[0m\u001b[0;34m,\u001b[0m\u001b[0;34m\u001b[0m\n",
       "\u001b[0;34m\u001b[0m\u001b[0;34m)\u001b[0m \u001b[0;34m->\u001b[0m \u001b[0mpymilvus\u001b[0m\u001b[0;34m.\u001b[0m\u001b[0morm\u001b[0m\u001b[0;34m.\u001b[0m\u001b[0mindex\u001b[0m\u001b[0;34m.\u001b[0m\u001b[0mIndex\u001b[0m\u001b[0;34m\u001b[0m\u001b[0;34m\u001b[0m\u001b[0m\n",
       "\u001b[0;31mDocstring:\u001b[0m\n",
       "Creates index for a specified field. Return Index Object.\n",
       "\n",
       ":param field_name: The name of the field to create an index for.\n",
       ":type  field_name: str\n",
       "\n",
       ":param index_params: The indexing parameters.\n",
       ":type  index_params: dict\n",
       "\n",
       ":param timeout: An optional duration of time in seconds to allow for the RPC. When timeout\n",
       "                is set to None, client waits until server response or error occur\n",
       ":type  timeout: float\n",
       "\n",
       ":param kwargs:\n",
       "    * *_async* (``bool``) --\n",
       "      Indicate if invoke asynchronously. When value is true, method returns a IndexFuture object;\n",
       "      otherwise, method returns results from server.\n",
       "    * *_callback* (``function``) --\n",
       "      The callback function which is invoked after server response successfully. It only take\n",
       "      effect when _async is set to True.\n",
       "    * *index_name* (``str``) --\n",
       "      The name of index which will be created. Then you can use the index name to check the state of index.\n",
       "      If no index name is specified, the default index name is used.\n",
       "\n",
       ":raises CollectionNotExistException: If the collection does not exist.\n",
       ":raises ParamError: If the index parameters are invalid.\n",
       ":raises BaseException: If field does not exist.\n",
       ":raises BaseException: If the index has been created.\n",
       "\n",
       ":example:\n",
       "    >>> from pymilvus import connections, Collection, FieldSchema, CollectionSchema, DataType\n",
       "    >>> connections.connect()\n",
       "    >>> schema = CollectionSchema([\n",
       "    ...     FieldSchema(\"film_id\", DataType.INT64, is_primary=True),\n",
       "    ...     FieldSchema(\"films\", dtype=DataType.FLOAT_VECTOR, dim=2)\n",
       "    ... ])\n",
       "    >>> collection = Collection(\"test_collection_create_index\", schema)\n",
       "    >>> index = {\"index_type\": \"IVF_FLAT\", \"params\": {\"nlist\": 128}, \"metric_type\": \"L2\"}\n",
       "    >>> collection.create_index(\"films\", index)\n",
       "    Status(code=0, message='')\n",
       "    >>> collection.index()\n",
       "    <pymilvus.index.Index object at 0x7f44355a1460>\n",
       "\u001b[0;31mFile:\u001b[0m      /opt/conda/envs/py38/lib/python3.8/site-packages/pymilvus/orm/collection.py\n",
       "\u001b[0;31mType:\u001b[0m      method\n"
      ]
     },
     "metadata": {},
     "output_type": "display_data"
    }
   ],
   "source": [
    "?unsplash_milvus.create_index"
   ]
  },
  {
   "cell_type": "markdown",
   "id": "31a33c0e-19a3-4b9b-a4bc-1bdcdde92678",
   "metadata": {},
   "source": [
    "create the index"
   ]
  },
  {
   "cell_type": "code",
   "execution_count": 37,
   "id": "c68a6d78-4d47-4da6-8d4f-d0ee43d80ef5",
   "metadata": {},
   "outputs": [
    {
     "data": {
      "text/plain": [
       "Status(code=0, message='')"
      ]
     },
     "execution_count": 37,
     "metadata": {},
     "output_type": "execute_result"
    }
   ],
   "source": [
    "unsplash_milvus.create_index(\"embedding\", index)"
   ]
  },
  {
   "cell_type": "code",
   "execution_count": null,
   "id": "d56617a3-9a62-4272-94e7-ba20f3390947",
   "metadata": {},
   "outputs": [],
   "source": []
  },
  {
   "cell_type": "code",
   "execution_count": 38,
   "id": "5a7d498c-d3dd-477e-91e4-0cf45d96e37f",
   "metadata": {},
   "outputs": [
    {
     "data": {
      "text/plain": [
       "[<pymilvus.orm.index.Index at 0x7f06f5fb6cd0>]"
      ]
     },
     "execution_count": 38,
     "metadata": {},
     "output_type": "execute_result"
    }
   ],
   "source": [
    "unsplash_milvus.indexes"
   ]
  },
  {
   "cell_type": "code",
   "execution_count": null,
   "id": "8098fbe1-b2ff-4408-9475-2ae63ffcdac5",
   "metadata": {},
   "outputs": [],
   "source": []
  },
  {
   "cell_type": "markdown",
   "id": "b236533f-c9b4-4c38-b5c6-970685c41595",
   "metadata": {},
   "source": [
    "load the index into memory"
   ]
  },
  {
   "cell_type": "code",
   "execution_count": 39,
   "id": "34a644cc-5235-4e3e-97b9-b6fcfe1e223d",
   "metadata": {},
   "outputs": [],
   "source": [
    "unsplash_milvus.load()\n"
   ]
  },
  {
   "cell_type": "code",
   "execution_count": null,
   "id": "e72bb06f-fdfe-4fb6-a520-b809cdd45f45",
   "metadata": {},
   "outputs": [],
   "source": []
  },
  {
   "cell_type": "code",
   "execution_count": null,
   "id": "f06db797-ed3a-44a0-ac02-f605cf84591b",
   "metadata": {},
   "outputs": [],
   "source": []
  },
  {
   "cell_type": "code",
   "execution_count": null,
   "id": "680d0526-7a20-43d8-a137-e9911490139b",
   "metadata": {},
   "outputs": [],
   "source": []
  },
  {
   "cell_type": "code",
   "execution_count": null,
   "id": "c7326b30-80d2-44e1-82b2-922c49474329",
   "metadata": {},
   "outputs": [],
   "source": []
  },
  {
   "cell_type": "code",
   "execution_count": null,
   "id": "fea19b9f-9755-460e-a50a-11913d10e4de",
   "metadata": {},
   "outputs": [],
   "source": []
  },
  {
   "cell_type": "markdown",
   "id": "bb6218c7-9dfc-494e-b280-6762ff5521b0",
   "metadata": {},
   "source": [
    "## Embedding Retrieval"
   ]
  },
  {
   "cell_type": "code",
   "execution_count": 40,
   "id": "b891e42e-d037-438f-9efc-0edca1283d29",
   "metadata": {},
   "outputs": [],
   "source": [
    "search_params = {\n",
    "    \"metric_type\": \"IP\",\n",
    "    \"params\": {\"nprobe\": 1}\n",
    "    \n",
    "}\n",
    "# n_probe = number of clusters to search [1 , n_list]"
   ]
  },
  {
   "cell_type": "code",
   "execution_count": null,
   "id": "5587d0d5-c93b-4926-9fdb-cfb7ba6e4571",
   "metadata": {},
   "outputs": [],
   "source": []
  },
  {
   "cell_type": "code",
   "execution_count": 41,
   "id": "bfb8cd5b-ec0f-41a5-9d28-187cbc784b3c",
   "metadata": {},
   "outputs": [],
   "source": [
    "vectors_to_search = list(df.iloc[0:1]['embedding'])\n",
    "\n",
    "\n",
    "\n",
    "\n",
    "\n"
   ]
  },
  {
   "cell_type": "code",
   "execution_count": 42,
   "id": "b1ffa576-94dd-4967-aae4-1833a7bbbce9",
   "metadata": {},
   "outputs": [
    {
     "data": {
      "text/plain": [
       "'Woman exploring a forest'"
      ]
     },
     "execution_count": 42,
     "metadata": {},
     "output_type": "execute_result"
    }
   ],
   "source": [
    "df.iloc[0].to_dict()['description_final']"
   ]
  },
  {
   "cell_type": "code",
   "execution_count": 43,
   "id": "ae737327-e099-4709-bc10-27aabd3bbedc",
   "metadata": {},
   "outputs": [
    {
     "data": {
      "text/plain": [
       "(1, 384)"
      ]
     },
     "execution_count": 43,
     "metadata": {},
     "output_type": "execute_result"
    }
   ],
   "source": [
    "len(vectors_to_search) , len(vectors_to_search[0])"
   ]
  },
  {
   "cell_type": "code",
   "execution_count": 44,
   "id": "33915efe-ac24-4e06-af4e-e855b98c6744",
   "metadata": {},
   "outputs": [
    {
     "name": "stdout",
     "output_type": "stream",
     "text": [
      "CPU times: user 10.6 ms, sys: 84 µs, total: 10.6 ms\n",
      "Wall time: 345 ms\n"
     ]
    }
   ],
   "source": [
    "%%time\n",
    "result = unsplash_milvus.search(data=vectors_to_search, anns_field=\"embedding\", param=search_params, limit=3\n",
    "                                     , output_fields=[\"photo_id\",\"description_final\"]\n",
    "                                    \n",
    "                                    )\n"
   ]
  },
  {
   "cell_type": "code",
   "execution_count": 45,
   "id": "553202a4-bccc-464b-9662-c7f0f5a594dd",
   "metadata": {},
   "outputs": [
    {
     "name": "stdout",
     "output_type": "stream",
     "text": [
      "hit: (distance: 1.0, id: XMyPniM9LF0), score:1.0 id: XMyPniM9LF0 , data:{'photo_id': 'XMyPniM9LF0', 'description_final': 'Woman exploring a forest'} \n",
      "hit: (distance: 0.789671003818512, id: RKNE63GLNAo), score:0.789671003818512 id: RKNE63GLNAo , data:{'photo_id': 'RKNE63GLNAo', 'description_final': 'woman walking around forest'} \n",
      "hit: (distance: 0.762397050857544, id: wPwXGGG2HyI), score:0.762397050857544 id: wPwXGGG2HyI , data:{'photo_id': 'wPwXGGG2HyI', 'description_final': 'Woman in a shirt in a forest'} \n"
     ]
    }
   ],
   "source": [
    "for hits in result:\n",
    "    for hit in hits:\n",
    "        print(f\"hit: {hit}, score:{hit.score} id: {hit.entity.get('photo_id')} , data:{hit.entity._row_data} \")"
   ]
  },
  {
   "cell_type": "markdown",
   "id": "bd7b8bdc-1226-436c-a068-0924df98afbf",
   "metadata": {},
   "source": [
    "just like ES, we get the id , score , and the metadata when inderted"
   ]
  },
  {
   "cell_type": "code",
   "execution_count": null,
   "id": "6b99e031-9ba0-4353-8680-3241daa344bc",
   "metadata": {},
   "outputs": [],
   "source": []
  },
  {
   "cell_type": "code",
   "execution_count": null,
   "id": "e7148c4d-7f1f-43fc-8b77-fff1d4d00bd0",
   "metadata": {},
   "outputs": [],
   "source": []
  },
  {
   "cell_type": "code",
   "execution_count": null,
   "id": "73c7d15f-77cd-4c79-bbb0-5b8fc656281a",
   "metadata": {},
   "outputs": [],
   "source": []
  },
  {
   "cell_type": "code",
   "execution_count": 46,
   "id": "ff1ee9de-5b03-419f-9368-8d52b29c8f81",
   "metadata": {},
   "outputs": [],
   "source": [
    "def find_results(query:str , k =5):\n",
    "    \"\"\"\n",
    "    Prints K nearest neighbors similar to the input query.\n",
    "    Parameters\n",
    "    ------------\n",
    "    query: str\n",
    "        Input query.\n",
    "    k: int\n",
    "        Nearest neighbors to fetch.\n",
    "    \"\"\"\n",
    "    \n",
    "    # Generate the embeddings for the query.\n",
    "    query_features = model.encode(query, normalize_embeddings=True)\n",
    "    query_features =np.expand_dims(query_features, axis=0)\n",
    "    \n",
    "    \n",
    "    \n",
    "    # Perform the dot product between query embeddings and image embeddings \n",
    "    #doc_scores = query_features @ corpus.T\n",
    "    \n",
    "    result = unsplash_milvus.search(data=query_features, anns_field=\"embedding\", param=search_params, limit=3\n",
    "                                     , output_fields=[\"photo_id\",\"description_final\",\"photographer_username\",\"photographer_first_name\",\"photographer_last_name\",\"photo_image_url\"]\n",
    "                                    \n",
    "                                    )\n",
    "    \n",
    "\n",
    "    \n",
    "\n",
    "    display(HTML(f\"<h4>Query: {query} </h4>\"))\n",
    "    \n",
    "    # Iterate over the top k results\n",
    "    for hits in result:\n",
    "        for hit in hits:\n",
    "            \n",
    "            photo_data = hit.entity._row_data\n",
    "            \n",
    "            print(photo_data)\n",
    "            display(Image(url=photo_data[\"photo_image_url\"] + \"?w=200\"))\n",
    "            \n",
    "            # Display the attribution text\n",
    "            display(HTML(f\"\"\"\n",
    "                         Photo title: {photo_data[\"description_final\"]}   <br/>\n",
    "                         Photo by <a href=\"https://unsplash.com/@{photo_data[\"photographer_username\"]}?utm_source=SearchWorkshop&utm_medium=referral\">{photo_data[\"photographer_first_name\"]} {photo_data[\"photographer_last_name\"]}</a> on <a href=\"https://unsplash.com/?utm_source=SearchWorkshop&utm_medium=referral\">Unsplash</a> <br/>\n",
    "                         Distance: {hit.score}\n",
    "                         \"\"\"\n",
    "                                            ))\n",
    "            print()\n",
    "        \n",
    "            \n"
   ]
  },
  {
   "cell_type": "code",
   "execution_count": null,
   "id": "0ac6111b-e98c-430e-be82-ec3fd7f47539",
   "metadata": {},
   "outputs": [],
   "source": []
  },
  {
   "cell_type": "code",
   "execution_count": null,
   "id": "62d2a2c1-b17f-41e2-a158-56963552a65a",
   "metadata": {},
   "outputs": [],
   "source": []
  },
  {
   "cell_type": "code",
   "execution_count": 47,
   "id": "88fdc88e-5a8b-4098-a2c8-f0a743ef1d22",
   "metadata": {},
   "outputs": [
    {
     "data": {
      "text/html": [
       "<h4>Query: Two dogs playing in the snow </h4>"
      ],
      "text/plain": [
       "<IPython.core.display.HTML object>"
      ]
     },
     "metadata": {},
     "output_type": "display_data"
    },
    {
     "name": "stdout",
     "output_type": "stream",
     "text": [
      "{'photo_id': 'FAcSe7SjDUU', 'description_final': 'brown and black dogs running on snow', 'photographer_username': 'lukavovk', 'photographer_first_name': 'Luka', 'photographer_last_name': 'Vovk', 'photo_image_url': 'https://images.unsplash.com/photo-1577366761509-937637f02454'}\n"
     ]
    },
    {
     "data": {
      "text/html": [
       "<img src=\"https://images.unsplash.com/photo-1577366761509-937637f02454?w=200\"/>"
      ],
      "text/plain": [
       "<IPython.core.display.Image object>"
      ]
     },
     "metadata": {},
     "output_type": "display_data"
    },
    {
     "data": {
      "text/html": [
       "\n",
       "                         Photo title: brown and black dogs running on snow   <br/>\n",
       "                         Photo by <a href=\"https://unsplash.com/@lukavovk?utm_source=NaturalLanguageImageSearch&utm_medium=referral\">Luka Vovk</a> on <a href=\"https://unsplash.com/?utm_source=SearchWorkshop&utm_medium=referral\">Unsplash</a> <br/>\n",
       "                         Distance: 0.7353920936584473\n",
       "                         "
      ],
      "text/plain": [
       "<IPython.core.display.HTML object>"
      ]
     },
     "metadata": {},
     "output_type": "display_data"
    },
    {
     "name": "stdout",
     "output_type": "stream",
     "text": [
      "\n",
      "{'photo_id': 'AVUX8QXnj4Y', 'description_final': 'tan dog playing on snow', 'photographer_username': 'hitterphoto', 'photographer_first_name': 'Hitter', 'photographer_last_name': 'Rudolf', 'photo_image_url': 'https://images.unsplash.com/photo-1546717689-5955401cd6b2'}\n"
     ]
    },
    {
     "data": {
      "text/html": [
       "<img src=\"https://images.unsplash.com/photo-1546717689-5955401cd6b2?w=200\"/>"
      ],
      "text/plain": [
       "<IPython.core.display.Image object>"
      ]
     },
     "metadata": {},
     "output_type": "display_data"
    },
    {
     "data": {
      "text/html": [
       "\n",
       "                         Photo title: tan dog playing on snow   <br/>\n",
       "                         Photo by <a href=\"https://unsplash.com/@hitterphoto?utm_source=NaturalLanguageImageSearch&utm_medium=referral\">Hitter Rudolf</a> on <a href=\"https://unsplash.com/?utm_source=SearchWorkshop&utm_medium=referral\">Unsplash</a> <br/>\n",
       "                         Distance: 0.6460986137390137\n",
       "                         "
      ],
      "text/plain": [
       "<IPython.core.display.HTML object>"
      ]
     },
     "metadata": {},
     "output_type": "display_data"
    },
    {
     "name": "stdout",
     "output_type": "stream",
     "text": [
      "\n",
      "{'photo_id': 'QtxgNsmJQSs', 'description_final': 'white and black dog on snow field', 'photographer_username': 'tadekl', 'photographer_first_name': 'Tadeusz', 'photographer_last_name': 'Lakota', 'photo_image_url': 'https://images.unsplash.com/photo-1547494912-c69d3ad40e7f'}\n"
     ]
    },
    {
     "data": {
      "text/html": [
       "<img src=\"https://images.unsplash.com/photo-1547494912-c69d3ad40e7f?w=200\"/>"
      ],
      "text/plain": [
       "<IPython.core.display.Image object>"
      ]
     },
     "metadata": {},
     "output_type": "display_data"
    },
    {
     "data": {
      "text/html": [
       "\n",
       "                         Photo title: white and black dog on snow field   <br/>\n",
       "                         Photo by <a href=\"https://unsplash.com/@tadekl?utm_source=NaturalLanguageImageSearch&utm_medium=referral\">Tadeusz Lakota</a> on <a href=\"https://unsplash.com/?utm_source=SearchWorkshop&utm_medium=referral\">Unsplash</a> <br/>\n",
       "                         Distance: 0.6322717666625977\n",
       "                         "
      ],
      "text/plain": [
       "<IPython.core.display.HTML object>"
      ]
     },
     "metadata": {},
     "output_type": "display_data"
    },
    {
     "name": "stdout",
     "output_type": "stream",
     "text": [
      "\n"
     ]
    }
   ],
   "source": [
    "find_results( \"Two dogs playing in the snow\")"
   ]
  },
  {
   "cell_type": "code",
   "execution_count": null,
   "id": "ab75dabb-1fbc-45a4-9985-5f446898a265",
   "metadata": {},
   "outputs": [],
   "source": []
  },
  {
   "cell_type": "code",
   "execution_count": null,
   "id": "0dd22603-bdc7-4727-85c7-47b314b01326",
   "metadata": {},
   "outputs": [],
   "source": []
  },
  {
   "cell_type": "code",
   "execution_count": null,
   "id": "7b0a180e-d3de-4b17-9d8a-b108e0d3e5a7",
   "metadata": {},
   "outputs": [],
   "source": []
  },
  {
   "cell_type": "code",
   "execution_count": null,
   "id": "6805e108-87a5-4ec8-8b74-4ca5bf4888a9",
   "metadata": {},
   "outputs": [],
   "source": []
  },
  {
   "cell_type": "code",
   "execution_count": null,
   "id": "59dddfc3-d06e-4004-bb2f-73ec13de8c91",
   "metadata": {},
   "outputs": [],
   "source": []
  },
  {
   "cell_type": "code",
   "execution_count": null,
   "id": "53f27195-e9da-44f6-b36c-9a3798878afe",
   "metadata": {},
   "outputs": [],
   "source": []
  },
  {
   "cell_type": "code",
   "execution_count": 48,
   "id": "9c4a6fd0-9f4f-455d-86eb-02a8140387a1",
   "metadata": {},
   "outputs": [
    {
     "data": {
      "text/html": [
       "<h4>Query: Two dogs playing in the snow </h4>"
      ],
      "text/plain": [
       "<IPython.core.display.HTML object>"
      ]
     },
     "metadata": {},
     "output_type": "display_data"
    },
    {
     "name": "stdout",
     "output_type": "stream",
     "text": [
      "{'photographer_last_name': 'Vovk', 'photo_image_url': 'https://images.unsplash.com/photo-1577366761509-937637f02454', 'photo_id': 'FAcSe7SjDUU', 'description_final': 'brown and black dogs running on snow', 'photographer_username': 'lukavovk', 'photographer_first_name': 'Luka'}\n"
     ]
    },
    {
     "data": {
      "text/html": [
       "<img src=\"https://images.unsplash.com/photo-1577366761509-937637f02454?w=200\"/>"
      ],
      "text/plain": [
       "<IPython.core.display.Image object>"
      ]
     },
     "metadata": {},
     "output_type": "display_data"
    },
    {
     "data": {
      "text/html": [
       "\n",
       "                         Photo title: brown and black dogs running on snow   <br/>\n",
       "                         Photo by <a href=\"https://unsplash.com/@lukavovk?utm_source=NaturalLanguageImageSearch&utm_medium=referral\">Luka Vovk</a> on <a href=\"https://unsplash.com/?utm_source=SearchWorkshop&utm_medium=referral\">Unsplash</a> <br/>\n",
       "                         Distance: 0.7353920936584473\n",
       "                         "
      ],
      "text/plain": [
       "<IPython.core.display.HTML object>"
      ]
     },
     "metadata": {},
     "output_type": "display_data"
    },
    {
     "name": "stdout",
     "output_type": "stream",
     "text": [
      "\n",
      "{'photographer_last_name': 'Rudolf', 'photo_image_url': 'https://images.unsplash.com/photo-1546717689-5955401cd6b2', 'photo_id': 'AVUX8QXnj4Y', 'description_final': 'tan dog playing on snow', 'photographer_username': 'hitterphoto', 'photographer_first_name': 'Hitter'}\n"
     ]
    },
    {
     "data": {
      "text/html": [
       "<img src=\"https://images.unsplash.com/photo-1546717689-5955401cd6b2?w=200\"/>"
      ],
      "text/plain": [
       "<IPython.core.display.Image object>"
      ]
     },
     "metadata": {},
     "output_type": "display_data"
    },
    {
     "data": {
      "text/html": [
       "\n",
       "                         Photo title: tan dog playing on snow   <br/>\n",
       "                         Photo by <a href=\"https://unsplash.com/@hitterphoto?utm_source=NaturalLanguageImageSearch&utm_medium=referral\">Hitter Rudolf</a> on <a href=\"https://unsplash.com/?utm_source=SearchWorkshop&utm_medium=referral\">Unsplash</a> <br/>\n",
       "                         Distance: 0.6460986137390137\n",
       "                         "
      ],
      "text/plain": [
       "<IPython.core.display.HTML object>"
      ]
     },
     "metadata": {},
     "output_type": "display_data"
    },
    {
     "name": "stdout",
     "output_type": "stream",
     "text": [
      "\n",
      "{'photographer_last_name': 'Lakota', 'photo_image_url': 'https://images.unsplash.com/photo-1547494912-c69d3ad40e7f', 'photo_id': 'QtxgNsmJQSs', 'description_final': 'white and black dog on snow field', 'photographer_username': 'tadekl', 'photographer_first_name': 'Tadeusz'}\n"
     ]
    },
    {
     "data": {
      "text/html": [
       "<img src=\"https://images.unsplash.com/photo-1547494912-c69d3ad40e7f?w=200\"/>"
      ],
      "text/plain": [
       "<IPython.core.display.Image object>"
      ]
     },
     "metadata": {},
     "output_type": "display_data"
    },
    {
     "data": {
      "text/html": [
       "\n",
       "                         Photo title: white and black dog on snow field   <br/>\n",
       "                         Photo by <a href=\"https://unsplash.com/@tadekl?utm_source=NaturalLanguageImageSearch&utm_medium=referral\">Tadeusz Lakota</a> on <a href=\"https://unsplash.com/?utm_source=SearchWorkshop&utm_medium=referral\">Unsplash</a> <br/>\n",
       "                         Distance: 0.6322717666625977\n",
       "                         "
      ],
      "text/plain": [
       "<IPython.core.display.HTML object>"
      ]
     },
     "metadata": {},
     "output_type": "display_data"
    },
    {
     "name": "stdout",
     "output_type": "stream",
     "text": [
      "\n"
     ]
    }
   ],
   "source": [
    "find_results( \"Two dogs playing in the snow\")"
   ]
  },
  {
   "cell_type": "code",
   "execution_count": null,
   "id": "50fd5b84-1f6c-4ea6-935b-54d65fe48750",
   "metadata": {},
   "outputs": [],
   "source": []
  },
  {
   "cell_type": "code",
   "execution_count": null,
   "id": "47f542ed-a26f-4dee-b998-ea6ad8d6aac9",
   "metadata": {},
   "outputs": [],
   "source": []
  },
  {
   "cell_type": "code",
   "execution_count": 49,
   "id": "e4135300-f814-4995-b22c-bc83138bfac0",
   "metadata": {},
   "outputs": [
    {
     "data": {
      "text/html": [
       "<h4>Query: boy and girl on a beach </h4>"
      ],
      "text/plain": [
       "<IPython.core.display.HTML object>"
      ]
     },
     "metadata": {},
     "output_type": "display_data"
    },
    {
     "name": "stdout",
     "output_type": "stream",
     "text": [
      "{'photographer_first_name': 'Daria', 'photographer_last_name': 'Nepriakhina', 'photo_image_url': 'https://images.unsplash.com/uploads/14122598645355eb0b65d/d1524764', 'photo_id': 'pV87YnElHow', 'description_final': 'children enjoying the beach', 'photographer_username': 'epicantus'}\n"
     ]
    },
    {
     "data": {
      "text/html": [
       "<img src=\"https://images.unsplash.com/uploads/14122598645355eb0b65d/d1524764?w=200\"/>"
      ],
      "text/plain": [
       "<IPython.core.display.Image object>"
      ]
     },
     "metadata": {},
     "output_type": "display_data"
    },
    {
     "data": {
      "text/html": [
       "\n",
       "                         Photo title: children enjoying the beach   <br/>\n",
       "                         Photo by <a href=\"https://unsplash.com/@epicantus?utm_source=NaturalLanguageImageSearch&utm_medium=referral\">Daria Nepriakhina</a> on <a href=\"https://unsplash.com/?utm_source=SearchWorkshop&utm_medium=referral\">Unsplash</a> <br/>\n",
       "                         Distance: 0.7077873945236206\n",
       "                         "
      ],
      "text/plain": [
       "<IPython.core.display.HTML object>"
      ]
     },
     "metadata": {},
     "output_type": "display_data"
    },
    {
     "name": "stdout",
     "output_type": "stream",
     "text": [
      "\n",
      "{'photographer_first_name': 'Scott', 'photographer_last_name': 'Webb', 'photo_image_url': 'https://images.unsplash.com/photo-1432105214010-ae5e45b2cebb', 'photo_id': 'rl7mUDEUmVE', 'description_final': 'Couple on the beach', 'photographer_username': 'scottwebb'}\n"
     ]
    },
    {
     "data": {
      "text/html": [
       "<img src=\"https://images.unsplash.com/photo-1432105214010-ae5e45b2cebb?w=200\"/>"
      ],
      "text/plain": [
       "<IPython.core.display.Image object>"
      ]
     },
     "metadata": {},
     "output_type": "display_data"
    },
    {
     "data": {
      "text/html": [
       "\n",
       "                         Photo title: Couple on the beach   <br/>\n",
       "                         Photo by <a href=\"https://unsplash.com/@scottwebb?utm_source=NaturalLanguageImageSearch&utm_medium=referral\">Scott Webb</a> on <a href=\"https://unsplash.com/?utm_source=SearchWorkshop&utm_medium=referral\">Unsplash</a> <br/>\n",
       "                         Distance: 0.698167085647583\n",
       "                         "
      ],
      "text/plain": [
       "<IPython.core.display.HTML object>"
      ]
     },
     "metadata": {},
     "output_type": "display_data"
    },
    {
     "name": "stdout",
     "output_type": "stream",
     "text": [
      "\n",
      "{'photographer_first_name': 'Anton', 'photographer_last_name': 'Lammert', 'photo_image_url': 'https://images.unsplash.com/photo-1572986349976-5b54a901b36b', 'photo_id': 'DtHchyQtyZ8', 'description_final': 'people at beach', 'photographer_username': 'anton_lammert'}\n"
     ]
    },
    {
     "data": {
      "text/html": [
       "<img src=\"https://images.unsplash.com/photo-1572986349976-5b54a901b36b?w=200\"/>"
      ],
      "text/plain": [
       "<IPython.core.display.Image object>"
      ]
     },
     "metadata": {},
     "output_type": "display_data"
    },
    {
     "data": {
      "text/html": [
       "\n",
       "                         Photo title: people at beach   <br/>\n",
       "                         Photo by <a href=\"https://unsplash.com/@anton_lammert?utm_source=NaturalLanguageImageSearch&utm_medium=referral\">Anton Lammert</a> on <a href=\"https://unsplash.com/?utm_source=SearchWorkshop&utm_medium=referral\">Unsplash</a> <br/>\n",
       "                         Distance: 0.6872389316558838\n",
       "                         "
      ],
      "text/plain": [
       "<IPython.core.display.HTML object>"
      ]
     },
     "metadata": {},
     "output_type": "display_data"
    },
    {
     "name": "stdout",
     "output_type": "stream",
     "text": [
      "\n"
     ]
    }
   ],
   "source": [
    "find_results( \"boy and girl on a beach\")"
   ]
  },
  {
   "cell_type": "code",
   "execution_count": null,
   "id": "2fdbe7dc-3b69-4eea-a0c9-ad7e9beefcb3",
   "metadata": {},
   "outputs": [],
   "source": []
  },
  {
   "cell_type": "code",
   "execution_count": null,
   "id": "3f014b1e-e810-4523-8717-2b9cfd1fe9ef",
   "metadata": {},
   "outputs": [],
   "source": []
  },
  {
   "cell_type": "code",
   "execution_count": null,
   "id": "7d22bd79-da3b-4442-abbf-4e469b6cfdcb",
   "metadata": {},
   "outputs": [],
   "source": []
  },
  {
   "cell_type": "code",
   "execution_count": 50,
   "id": "96b8222c-a46f-4ea2-bf48-11fde5f781ae",
   "metadata": {},
   "outputs": [
    {
     "data": {
      "text/html": [
       "<h4>Query: image of a man in a desert </h4>"
      ],
      "text/plain": [
       "<IPython.core.display.HTML object>"
      ]
     },
     "metadata": {},
     "output_type": "display_data"
    },
    {
     "name": "stdout",
     "output_type": "stream",
     "text": [
      "{'photographer_first_name': 'Jeremy', 'photographer_last_name': 'Bishop', 'photo_image_url': 'https://images.unsplash.com/photo-1543182791-a5e80144e4cc', 'photo_id': 'ovXu5yiEVWc', 'description_final': 'person on desert', 'photographer_username': 'jeremybishop'}\n"
     ]
    },
    {
     "data": {
      "text/html": [
       "<img src=\"https://images.unsplash.com/photo-1543182791-a5e80144e4cc?w=200\"/>"
      ],
      "text/plain": [
       "<IPython.core.display.Image object>"
      ]
     },
     "metadata": {},
     "output_type": "display_data"
    },
    {
     "data": {
      "text/html": [
       "\n",
       "                         Photo title: person on desert   <br/>\n",
       "                         Photo by <a href=\"https://unsplash.com/@jeremybishop?utm_source=NaturalLanguageImageSearch&utm_medium=referral\">Jeremy Bishop</a> on <a href=\"https://unsplash.com/?utm_source=SearchWorkshop&utm_medium=referral\">Unsplash</a> <br/>\n",
       "                         Distance: 0.7813372015953064\n",
       "                         "
      ],
      "text/plain": [
       "<IPython.core.display.HTML object>"
      ]
     },
     "metadata": {},
     "output_type": "display_data"
    },
    {
     "name": "stdout",
     "output_type": "stream",
     "text": [
      "\n",
      "{'photographer_first_name': 'David', 'photographer_last_name': 'Monje', 'photo_image_url': 'https://images.unsplash.com/photo-1551286663-102d2d654aa0', 'photo_id': 'eUSfRwB_qY8', 'description_final': 'man standing at desert', 'photographer_username': 'davidmonje'}\n"
     ]
    },
    {
     "data": {
      "text/html": [
       "<img src=\"https://images.unsplash.com/photo-1551286663-102d2d654aa0?w=200\"/>"
      ],
      "text/plain": [
       "<IPython.core.display.Image object>"
      ]
     },
     "metadata": {},
     "output_type": "display_data"
    },
    {
     "data": {
      "text/html": [
       "\n",
       "                         Photo title: man standing at desert   <br/>\n",
       "                         Photo by <a href=\"https://unsplash.com/@davidmonje?utm_source=NaturalLanguageImageSearch&utm_medium=referral\">David Monje</a> on <a href=\"https://unsplash.com/?utm_source=SearchWorkshop&utm_medium=referral\">Unsplash</a> <br/>\n",
       "                         Distance: 0.7386582493782043\n",
       "                         "
      ],
      "text/plain": [
       "<IPython.core.display.HTML object>"
      ]
     },
     "metadata": {},
     "output_type": "display_data"
    },
    {
     "name": "stdout",
     "output_type": "stream",
     "text": [
      "\n",
      "{'photographer_first_name': 'David', 'photographer_last_name': 'Billings', 'photo_image_url': 'https://images.unsplash.com/photo-1567713002938-648baf71966e', 'photo_id': 'p8BM14LpLF0', 'description_final': 'silhouette of person standing on desert', 'photographer_username': 'dav_billings'}\n"
     ]
    },
    {
     "data": {
      "text/html": [
       "<img src=\"https://images.unsplash.com/photo-1567713002938-648baf71966e?w=200\"/>"
      ],
      "text/plain": [
       "<IPython.core.display.Image object>"
      ]
     },
     "metadata": {},
     "output_type": "display_data"
    },
    {
     "data": {
      "text/html": [
       "\n",
       "                         Photo title: silhouette of person standing on desert   <br/>\n",
       "                         Photo by <a href=\"https://unsplash.com/@dav_billings?utm_source=NaturalLanguageImageSearch&utm_medium=referral\">David Billings</a> on <a href=\"https://unsplash.com/?utm_source=SearchWorkshop&utm_medium=referral\">Unsplash</a> <br/>\n",
       "                         Distance: 0.7260804176330566\n",
       "                         "
      ],
      "text/plain": [
       "<IPython.core.display.HTML object>"
      ]
     },
     "metadata": {},
     "output_type": "display_data"
    },
    {
     "name": "stdout",
     "output_type": "stream",
     "text": [
      "\n"
     ]
    }
   ],
   "source": [
    "find_results( \"image of a man in a desert\")"
   ]
  },
  {
   "cell_type": "code",
   "execution_count": null,
   "id": "b35efe1b-c973-432e-9fa3-47777e9ed6ed",
   "metadata": {},
   "outputs": [],
   "source": []
  },
  {
   "cell_type": "code",
   "execution_count": null,
   "id": "481c4649-02bb-4b75-80e1-b2609fca3371",
   "metadata": {},
   "outputs": [],
   "source": []
  },
  {
   "cell_type": "code",
   "execution_count": null,
   "id": "8195f668-ea93-47eb-8ef8-c32bd8634d9d",
   "metadata": {},
   "outputs": [],
   "source": []
  },
  {
   "cell_type": "code",
   "execution_count": null,
   "id": "d7a2555c-3bcd-4b4e-a8c4-5021c11ae3a7",
   "metadata": {},
   "outputs": [],
   "source": []
  },
  {
   "cell_type": "code",
   "execution_count": null,
   "id": "adeb699a-1a4a-4011-b579-99929d4b2c71",
   "metadata": {},
   "outputs": [],
   "source": []
  },
  {
   "cell_type": "markdown",
   "id": "a1c62e90-816d-4770-909b-54e447ee1dcc",
   "metadata": {},
   "source": [
    "## timing"
   ]
  },
  {
   "cell_type": "code",
   "execution_count": 51,
   "id": "03db9e5d-94c2-4385-91ff-d3e309baa968",
   "metadata": {},
   "outputs": [
    {
     "name": "stdout",
     "output_type": "stream",
     "text": [
      "200 ms ± 145 µs per loop (mean ± std. dev. of 7 runs, 1 loop each)\n"
     ]
    }
   ],
   "source": [
    "%%timeit\n",
    "search_query = \"Two dogs playing in the snow\"\n",
    "k=5\n",
    "text_features = model.encode(search_query)\n",
    "\n",
    "\n",
    "result = unsplash_milvus.search(data=[text_features], anns_field=\"embedding\", param=search_params, limit=k\n",
    "                                     , output_fields=[\"photo_id\",\"description_final\"]\n",
    "                                    \n",
    "                                    )"
   ]
  },
  {
   "cell_type": "code",
   "execution_count": null,
   "id": "3b594c9d-b5bd-4102-ba19-b0e45079cdf6",
   "metadata": {},
   "outputs": [],
   "source": []
  }
 ],
 "metadata": {
  "environment": {
   "kernel": "py38",
   "name": "pytorch-gpu.1-12.m99",
   "type": "gcloud",
   "uri": "gcr.io/deeplearning-platform-release/pytorch-gpu.1-12:m99"
  },
  "kernelspec": {
   "display_name": "py38",
   "language": "python",
   "name": "py38"
  },
  "language_info": {
   "codemirror_mode": {
    "name": "ipython",
    "version": 3
   },
   "file_extension": ".py",
   "mimetype": "text/x-python",
   "name": "python",
   "nbconvert_exporter": "python",
   "pygments_lexer": "ipython3",
   "version": "3.8.13"
  }
 },
 "nbformat": 4,
 "nbformat_minor": 5
}
