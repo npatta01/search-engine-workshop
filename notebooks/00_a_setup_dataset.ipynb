{
 "cells": [
  {
   "cell_type": "markdown",
   "metadata": {},
   "source": [
    "\n",
    "# Setup the Unsplash dataset\n",
    "\n",
    "\n",
    "\n",
    "\n",
    "This notebook can be used to download all images from the Unsplash dataset: https://github.com/unsplash/datasets. \n",
    "\n",
    "There are two versions Lite (25000 images) and Full (2M images). \n",
    "\n",
    "For the Full one you will need to apply for access (see [here](https://unsplash.com/data)). This will allow you to run CLIP on the whole dataset yourself. \n",
    "\n",
    "Put the .TSV files in the folder `unsplash-dataset/full` or `unsplash-dataset/lite` or adjust the path in the cell below. "
   ]
  },
  {
   "cell_type": "code",
   "execution_count": null,
   "metadata": {},
   "outputs": [],
   "source": []
  },
  {
   "cell_type": "markdown",
   "metadata": {},
   "source": [
    "## About"
   ]
  },
  {
   "cell_type": "markdown",
   "metadata": {},
   "source": [
    "The Unsplash Dataset is made up of over 250,000+ contributing global photographers and data sourced from hundreds of millions of searches across a nearly unlimited number of uses and contexts. Due to the breadth of intent and semantics contained within the Unsplash dataset, it enables new opportunities for research and learning.\n",
    "\n",
    "\n",
    "\n",
    "The Unsplash Dataset is offered in two datasets:\n",
    "\n",
    "- the Lite dataset: available for commercial and noncommercial usage, containing 25k nature-themed Unsplash photos, 25k keywords, and 1M searches\n",
    "- the Full dataset: available for noncommercial usage, containing 3M+ high-quality Unsplash photos, 5M keywords, and over 250M searches\n",
    "\n",
    "from [Readme](https://github.com/unsplash/datasets)"
   ]
  },
  {
   "cell_type": "markdown",
   "metadata": {},
   "source": [
    "## Imports"
   ]
  },
  {
   "cell_type": "code",
   "execution_count": 1,
   "metadata": {
    "execution": {
     "iopub.execute_input": "2023-04-25T19:20:52.581113Z",
     "iopub.status.busy": "2023-04-25T19:20:52.580334Z",
     "iopub.status.idle": "2023-04-25T19:20:54.275262Z",
     "shell.execute_reply": "2023-04-25T19:20:54.274419Z",
     "shell.execute_reply.started": "2023-04-25T19:20:52.581081Z"
    }
   },
   "outputs": [],
   "source": [
    "import datasets\n",
    "import requests\n",
    "import pandas as pd\n",
    "import os\n",
    "import urllib\n",
    "import gcsfs\n",
    "\n",
    "import PIL\n",
    "from PIL import Image\n"
   ]
  },
  {
   "cell_type": "code",
   "execution_count": null,
   "metadata": {},
   "outputs": [],
   "source": []
  },
  {
   "cell_type": "code",
   "execution_count": null,
   "metadata": {},
   "outputs": [],
   "source": []
  },
  {
   "cell_type": "code",
   "execution_count": null,
   "metadata": {},
   "outputs": [],
   "source": []
  },
  {
   "cell_type": "code",
   "execution_count": 2,
   "metadata": {
    "execution": {
     "iopub.execute_input": "2023-04-25T19:20:58.030275Z",
     "iopub.status.busy": "2023-04-25T19:20:58.029310Z",
     "iopub.status.idle": "2023-04-25T19:20:58.045535Z",
     "shell.execute_reply": "2023-04-25T19:20:58.044487Z",
     "shell.execute_reply.started": "2023-04-25T19:20:58.030237Z"
    }
   },
   "outputs": [],
   "source": [
    "%%bash\n",
    "mkdir -p ../data/raw/\n",
    "cd ../data/raw\n",
    "if [ ! -f latest ]\n",
    "then\n",
    "    wget https://unsplash.com/data/lite/latest --quiet\n",
    "    unzip latest\n",
    "\n",
    "fi\n",
    "\n",
    "\n"
   ]
  },
  {
   "cell_type": "code",
   "execution_count": 3,
   "metadata": {
    "execution": {
     "iopub.execute_input": "2023-04-25T19:20:59.391509Z",
     "iopub.status.busy": "2023-04-25T19:20:59.391144Z",
     "iopub.status.idle": "2023-04-25T19:20:59.515209Z",
     "shell.execute_reply": "2023-04-25T19:20:59.514117Z",
     "shell.execute_reply.started": "2023-04-25T19:20:59.391480Z"
    }
   },
   "outputs": [
    {
     "name": "stdout",
     "output_type": "stream",
     "text": [
      "processed  processed_embeddings  raw\n"
     ]
    }
   ],
   "source": [
    "!ls ../data"
   ]
  },
  {
   "cell_type": "code",
   "execution_count": null,
   "metadata": {},
   "outputs": [],
   "source": []
  },
  {
   "cell_type": "code",
   "execution_count": null,
   "metadata": {},
   "outputs": [],
   "source": []
  },
  {
   "cell_type": "code",
   "execution_count": null,
   "metadata": {},
   "outputs": [],
   "source": []
  },
  {
   "cell_type": "code",
   "execution_count": 4,
   "metadata": {
    "execution": {
     "iopub.execute_input": "2023-04-25T19:21:00.328349Z",
     "iopub.status.busy": "2023-04-25T19:21:00.327356Z",
     "iopub.status.idle": "2023-04-25T19:21:00.881897Z",
     "shell.execute_reply": "2023-04-25T19:21:00.881039Z",
     "shell.execute_reply.started": "2023-04-25T19:21:00.328293Z"
    }
   },
   "outputs": [
    {
     "data": {
      "text/html": [
       "<div>\n",
       "<style scoped>\n",
       "    .dataframe tbody tr th:only-of-type {\n",
       "        vertical-align: middle;\n",
       "    }\n",
       "\n",
       "    .dataframe tbody tr th {\n",
       "        vertical-align: top;\n",
       "    }\n",
       "\n",
       "    .dataframe thead th {\n",
       "        text-align: right;\n",
       "    }\n",
       "</style>\n",
       "<table border=\"1\" class=\"dataframe\">\n",
       "  <thead>\n",
       "    <tr style=\"text-align: right;\">\n",
       "      <th></th>\n",
       "      <th>photo_id</th>\n",
       "      <th>photo_url</th>\n",
       "      <th>photo_image_url</th>\n",
       "      <th>photo_submitted_at</th>\n",
       "      <th>photo_featured</th>\n",
       "      <th>photo_width</th>\n",
       "      <th>photo_height</th>\n",
       "      <th>photo_aspect_ratio</th>\n",
       "      <th>photo_description</th>\n",
       "      <th>photographer_username</th>\n",
       "      <th>...</th>\n",
       "      <th>photo_location_country</th>\n",
       "      <th>photo_location_city</th>\n",
       "      <th>stats_views</th>\n",
       "      <th>stats_downloads</th>\n",
       "      <th>ai_description</th>\n",
       "      <th>ai_primary_landmark_name</th>\n",
       "      <th>ai_primary_landmark_latitude</th>\n",
       "      <th>ai_primary_landmark_longitude</th>\n",
       "      <th>ai_primary_landmark_confidence</th>\n",
       "      <th>blur_hash</th>\n",
       "    </tr>\n",
       "  </thead>\n",
       "  <tbody>\n",
       "    <tr>\n",
       "      <th>0</th>\n",
       "      <td>XMyPniM9LF0</td>\n",
       "      <td>https://unsplash.com/photos/XMyPniM9LF0</td>\n",
       "      <td>https://images.unsplash.com/uploads/1411949294...</td>\n",
       "      <td>2014-09-29 00:08:38.594364</td>\n",
       "      <td>t</td>\n",
       "      <td>4272</td>\n",
       "      <td>2848</td>\n",
       "      <td>1.50</td>\n",
       "      <td>Woman exploring a forest</td>\n",
       "      <td>michellespencer77</td>\n",
       "      <td>...</td>\n",
       "      <td>NaN</td>\n",
       "      <td>NaN</td>\n",
       "      <td>2375421</td>\n",
       "      <td>6967</td>\n",
       "      <td>woman walking in the middle of forest</td>\n",
       "      <td>NaN</td>\n",
       "      <td>NaN</td>\n",
       "      <td>NaN</td>\n",
       "      <td>NaN</td>\n",
       "      <td>L56bVcRRIWMh.gVunlS4SMbsRRxr</td>\n",
       "    </tr>\n",
       "    <tr>\n",
       "      <th>1</th>\n",
       "      <td>rDLBArZUl1c</td>\n",
       "      <td>https://unsplash.com/photos/rDLBArZUl1c</td>\n",
       "      <td>https://images.unsplash.com/photo-141633941111...</td>\n",
       "      <td>2014-11-18 19:36:57.08945</td>\n",
       "      <td>t</td>\n",
       "      <td>3000</td>\n",
       "      <td>4000</td>\n",
       "      <td>0.75</td>\n",
       "      <td>Succulents in a terrarium</td>\n",
       "      <td>ugmonk</td>\n",
       "      <td>...</td>\n",
       "      <td>NaN</td>\n",
       "      <td>NaN</td>\n",
       "      <td>13784815</td>\n",
       "      <td>82141</td>\n",
       "      <td>succulent plants in clear glass terrarium</td>\n",
       "      <td>NaN</td>\n",
       "      <td>NaN</td>\n",
       "      <td>NaN</td>\n",
       "      <td>NaN</td>\n",
       "      <td>LvI$4txu%2s:_4t6WUj]xat7RPoe</td>\n",
       "    </tr>\n",
       "    <tr>\n",
       "      <th>2</th>\n",
       "      <td>cNDGZ2sQ3Bo</td>\n",
       "      <td>https://unsplash.com/photos/cNDGZ2sQ3Bo</td>\n",
       "      <td>https://images.unsplash.com/photo-142014251503...</td>\n",
       "      <td>2015-01-01 20:02:02.097036</td>\n",
       "      <td>t</td>\n",
       "      <td>2564</td>\n",
       "      <td>1710</td>\n",
       "      <td>1.50</td>\n",
       "      <td>Rural winter mountainside</td>\n",
       "      <td>johnprice</td>\n",
       "      <td>...</td>\n",
       "      <td>NaN</td>\n",
       "      <td>NaN</td>\n",
       "      <td>1302461</td>\n",
       "      <td>3428</td>\n",
       "      <td>rocky mountain under gray sky at daytime</td>\n",
       "      <td>NaN</td>\n",
       "      <td>NaN</td>\n",
       "      <td>NaN</td>\n",
       "      <td>NaN</td>\n",
       "      <td>LhMj%NxvM{t7_4t7aeoM%2M{ozj[</td>\n",
       "    </tr>\n",
       "    <tr>\n",
       "      <th>3</th>\n",
       "      <td>iuZ_D1eoq9k</td>\n",
       "      <td>https://unsplash.com/photos/iuZ_D1eoq9k</td>\n",
       "      <td>https://images.unsplash.com/photo-141487280988...</td>\n",
       "      <td>2014-11-01 20:15:13.410073</td>\n",
       "      <td>t</td>\n",
       "      <td>2912</td>\n",
       "      <td>4368</td>\n",
       "      <td>0.67</td>\n",
       "      <td>Poppy seeds and flowers</td>\n",
       "      <td>krisatomic</td>\n",
       "      <td>...</td>\n",
       "      <td>NaN</td>\n",
       "      <td>NaN</td>\n",
       "      <td>2890238</td>\n",
       "      <td>33704</td>\n",
       "      <td>red common poppy flower selective focus phography</td>\n",
       "      <td>NaN</td>\n",
       "      <td>NaN</td>\n",
       "      <td>NaN</td>\n",
       "      <td>NaN</td>\n",
       "      <td>LSC7DirZAsX7}Br@GEWWmnoLWCnj</td>\n",
       "    </tr>\n",
       "    <tr>\n",
       "      <th>4</th>\n",
       "      <td>BeD3vjQ8SI0</td>\n",
       "      <td>https://unsplash.com/photos/BeD3vjQ8SI0</td>\n",
       "      <td>https://images.unsplash.com/photo-141700759404...</td>\n",
       "      <td>2014-11-26 13:13:50.134383</td>\n",
       "      <td>t</td>\n",
       "      <td>4896</td>\n",
       "      <td>3264</td>\n",
       "      <td>1.50</td>\n",
       "      <td>Silhouette near dark trees</td>\n",
       "      <td>jonaseriksson</td>\n",
       "      <td>...</td>\n",
       "      <td>NaN</td>\n",
       "      <td>NaN</td>\n",
       "      <td>8704860</td>\n",
       "      <td>49662</td>\n",
       "      <td>trees during night time</td>\n",
       "      <td>NaN</td>\n",
       "      <td>NaN</td>\n",
       "      <td>NaN</td>\n",
       "      <td>NaN</td>\n",
       "      <td>L25|_:V@0hxtI=W;odae0ht6=^NG</td>\n",
       "    </tr>\n",
       "  </tbody>\n",
       "</table>\n",
       "<p>5 rows × 31 columns</p>\n",
       "</div>"
      ],
      "text/plain": [
       "      photo_id                                photo_url  \\\n",
       "0  XMyPniM9LF0  https://unsplash.com/photos/XMyPniM9LF0   \n",
       "1  rDLBArZUl1c  https://unsplash.com/photos/rDLBArZUl1c   \n",
       "2  cNDGZ2sQ3Bo  https://unsplash.com/photos/cNDGZ2sQ3Bo   \n",
       "3  iuZ_D1eoq9k  https://unsplash.com/photos/iuZ_D1eoq9k   \n",
       "4  BeD3vjQ8SI0  https://unsplash.com/photos/BeD3vjQ8SI0   \n",
       "\n",
       "                                     photo_image_url  \\\n",
       "0  https://images.unsplash.com/uploads/1411949294...   \n",
       "1  https://images.unsplash.com/photo-141633941111...   \n",
       "2  https://images.unsplash.com/photo-142014251503...   \n",
       "3  https://images.unsplash.com/photo-141487280988...   \n",
       "4  https://images.unsplash.com/photo-141700759404...   \n",
       "\n",
       "           photo_submitted_at photo_featured  photo_width  photo_height  \\\n",
       "0  2014-09-29 00:08:38.594364              t         4272          2848   \n",
       "1   2014-11-18 19:36:57.08945              t         3000          4000   \n",
       "2  2015-01-01 20:02:02.097036              t         2564          1710   \n",
       "3  2014-11-01 20:15:13.410073              t         2912          4368   \n",
       "4  2014-11-26 13:13:50.134383              t         4896          3264   \n",
       "\n",
       "   photo_aspect_ratio           photo_description photographer_username  ...  \\\n",
       "0                1.50    Woman exploring a forest     michellespencer77  ...   \n",
       "1                0.75   Succulents in a terrarium                ugmonk  ...   \n",
       "2                1.50   Rural winter mountainside             johnprice  ...   \n",
       "3                0.67     Poppy seeds and flowers            krisatomic  ...   \n",
       "4                1.50  Silhouette near dark trees         jonaseriksson  ...   \n",
       "\n",
       "  photo_location_country photo_location_city stats_views stats_downloads  \\\n",
       "0                    NaN                 NaN     2375421            6967   \n",
       "1                    NaN                 NaN    13784815           82141   \n",
       "2                    NaN                 NaN     1302461            3428   \n",
       "3                    NaN                 NaN     2890238           33704   \n",
       "4                    NaN                 NaN     8704860           49662   \n",
       "\n",
       "                                      ai_description ai_primary_landmark_name  \\\n",
       "0              woman walking in the middle of forest                      NaN   \n",
       "1          succulent plants in clear glass terrarium                      NaN   \n",
       "2           rocky mountain under gray sky at daytime                      NaN   \n",
       "3  red common poppy flower selective focus phography                      NaN   \n",
       "4                            trees during night time                      NaN   \n",
       "\n",
       "  ai_primary_landmark_latitude ai_primary_landmark_longitude  \\\n",
       "0                          NaN                           NaN   \n",
       "1                          NaN                           NaN   \n",
       "2                          NaN                           NaN   \n",
       "3                          NaN                           NaN   \n",
       "4                          NaN                           NaN   \n",
       "\n",
       "  ai_primary_landmark_confidence                     blur_hash  \n",
       "0                            NaN  L56bVcRRIWMh.gVunlS4SMbsRRxr  \n",
       "1                            NaN  LvI$4txu%2s:_4t6WUj]xat7RPoe  \n",
       "2                            NaN  LhMj%NxvM{t7_4t7aeoM%2M{ozj[  \n",
       "3                            NaN  LSC7DirZAsX7}Br@GEWWmnoLWCnj  \n",
       "4                            NaN  L25|_:V@0hxtI=W;odae0ht6=^NG  \n",
       "\n",
       "[5 rows x 31 columns]"
      ]
     },
     "execution_count": 4,
     "metadata": {},
     "output_type": "execute_result"
    }
   ],
   "source": [
    "df_photos = pd.read_csv(\"../data/raw/photos.tsv000\", sep='\\t', header=0)\n",
    "df_photos.head()"
   ]
  },
  {
   "cell_type": "code",
   "execution_count": 5,
   "metadata": {
    "execution": {
     "iopub.execute_input": "2023-04-25T19:21:00.884750Z",
     "iopub.status.busy": "2023-04-25T19:21:00.883863Z",
     "iopub.status.idle": "2023-04-25T19:21:00.892294Z",
     "shell.execute_reply": "2023-04-25T19:21:00.891509Z",
     "shell.execute_reply.started": "2023-04-25T19:21:00.884707Z"
    }
   },
   "outputs": [
    {
     "data": {
      "text/plain": [
       "photo_id                                                                XMyPniM9LF0\n",
       "photo_url                                   https://unsplash.com/photos/XMyPniM9LF0\n",
       "photo_image_url                   https://images.unsplash.com/uploads/1411949294...\n",
       "photo_submitted_at                                       2014-09-29 00:08:38.594364\n",
       "photo_featured                                                                    t\n",
       "photo_width                                                                    4272\n",
       "photo_height                                                                   2848\n",
       "photo_aspect_ratio                                                              1.5\n",
       "photo_description                                          Woman exploring a forest\n",
       "photographer_username                                             michellespencer77\n",
       "photographer_first_name                                                    Michelle\n",
       "photographer_last_name                                                      Spencer\n",
       "exif_camera_make                                                              Canon\n",
       "exif_camera_model                                                Canon EOS REBEL T3\n",
       "exif_iso                                                                      400.0\n",
       "exif_aperture_value                                                             1.8\n",
       "exif_focal_length                                                              50.0\n",
       "exif_exposure_time                                                            1/100\n",
       "photo_location_name                                                             NaN\n",
       "photo_location_latitude                                                         NaN\n",
       "photo_location_longitude                                                        NaN\n",
       "photo_location_country                                                          NaN\n",
       "photo_location_city                                                             NaN\n",
       "stats_views                                                                 2375421\n",
       "stats_downloads                                                                6967\n",
       "ai_description                                woman walking in the middle of forest\n",
       "ai_primary_landmark_name                                                        NaN\n",
       "ai_primary_landmark_latitude                                                    NaN\n",
       "ai_primary_landmark_longitude                                                   NaN\n",
       "ai_primary_landmark_confidence                                                  NaN\n",
       "blur_hash                                              L56bVcRRIWMh.gVunlS4SMbsRRxr\n",
       "Name: 0, dtype: object"
      ]
     },
     "execution_count": 5,
     "metadata": {},
     "output_type": "execute_result"
    }
   ],
   "source": [
    "df_photos.iloc[0]"
   ]
  },
  {
   "cell_type": "code",
   "execution_count": null,
   "metadata": {},
   "outputs": [],
   "source": []
  },
  {
   "cell_type": "code",
   "execution_count": null,
   "metadata": {},
   "outputs": [],
   "source": []
  },
  {
   "cell_type": "code",
   "execution_count": 6,
   "metadata": {
    "execution": {
     "iopub.execute_input": "2023-04-25T19:21:02.228187Z",
     "iopub.status.busy": "2023-04-25T19:21:02.227462Z",
     "iopub.status.idle": "2023-04-25T19:21:02.262603Z",
     "shell.execute_reply": "2023-04-25T19:21:02.261781Z",
     "shell.execute_reply.started": "2023-04-25T19:21:02.228153Z"
    }
   },
   "outputs": [
    {
     "data": {
      "text/plain": [
       "False    23641\n",
       "True      1359\n",
       "Name: ai_description, dtype: int64"
      ]
     },
     "execution_count": 6,
     "metadata": {},
     "output_type": "execute_result"
    }
   ],
   "source": [
    "pd.isna(df_photos.ai_description).value_counts()"
   ]
  },
  {
   "cell_type": "code",
   "execution_count": 7,
   "metadata": {
    "execution": {
     "iopub.execute_input": "2023-04-25T19:21:02.714421Z",
     "iopub.status.busy": "2023-04-25T19:21:02.713793Z",
     "iopub.status.idle": "2023-04-25T19:21:02.722422Z",
     "shell.execute_reply": "2023-04-25T19:21:02.721578Z",
     "shell.execute_reply.started": "2023-04-25T19:21:02.714387Z"
    }
   },
   "outputs": [
    {
     "data": {
      "text/plain": [
       "True     14098\n",
       "False    10902\n",
       "Name: photo_description, dtype: int64"
      ]
     },
     "execution_count": 7,
     "metadata": {},
     "output_type": "execute_result"
    }
   ],
   "source": [
    "pd.isna(df_photos.photo_description).value_counts()"
   ]
  },
  {
   "cell_type": "code",
   "execution_count": null,
   "metadata": {},
   "outputs": [],
   "source": []
  },
  {
   "cell_type": "code",
   "execution_count": 8,
   "metadata": {
    "execution": {
     "iopub.execute_input": "2023-04-25T19:21:15.469272Z",
     "iopub.status.busy": "2023-04-25T19:21:15.468433Z",
     "iopub.status.idle": "2023-04-25T19:21:15.478448Z",
     "shell.execute_reply": "2023-04-25T19:21:15.477721Z",
     "shell.execute_reply.started": "2023-04-25T19:21:15.469239Z"
    }
   },
   "outputs": [],
   "source": [
    "df_photos['description_final'] =  df_photos.photo_description.fillna(df_photos.ai_description).fillna(\" \")"
   ]
  },
  {
   "cell_type": "code",
   "execution_count": null,
   "metadata": {},
   "outputs": [],
   "source": []
  },
  {
   "cell_type": "code",
   "execution_count": null,
   "metadata": {},
   "outputs": [],
   "source": []
  },
  {
   "cell_type": "markdown",
   "metadata": {},
   "source": [
    "## Download images"
   ]
  },
  {
   "cell_type": "code",
   "execution_count": 9,
   "metadata": {
    "execution": {
     "iopub.execute_input": "2023-04-25T19:21:26.037700Z",
     "iopub.status.busy": "2023-04-25T19:21:26.037007Z",
     "iopub.status.idle": "2023-04-25T19:21:26.058795Z",
     "shell.execute_reply": "2023-04-25T19:21:26.058098Z",
     "shell.execute_reply.started": "2023-04-25T19:21:26.037669Z"
    }
   },
   "outputs": [
    {
     "data": {
      "text/html": [
       "<div>\n",
       "<style scoped>\n",
       "    .dataframe tbody tr th:only-of-type {\n",
       "        vertical-align: middle;\n",
       "    }\n",
       "\n",
       "    .dataframe tbody tr th {\n",
       "        vertical-align: top;\n",
       "    }\n",
       "\n",
       "    .dataframe thead th {\n",
       "        text-align: right;\n",
       "    }\n",
       "</style>\n",
       "<table border=\"1\" class=\"dataframe\">\n",
       "  <thead>\n",
       "    <tr style=\"text-align: right;\">\n",
       "      <th></th>\n",
       "      <th>photo_id</th>\n",
       "      <th>photo_url</th>\n",
       "      <th>photo_image_url</th>\n",
       "      <th>photo_submitted_at</th>\n",
       "      <th>photo_featured</th>\n",
       "      <th>photo_width</th>\n",
       "      <th>photo_height</th>\n",
       "      <th>photo_aspect_ratio</th>\n",
       "      <th>photo_description</th>\n",
       "      <th>photographer_username</th>\n",
       "      <th>...</th>\n",
       "      <th>photo_location_city</th>\n",
       "      <th>stats_views</th>\n",
       "      <th>stats_downloads</th>\n",
       "      <th>ai_description</th>\n",
       "      <th>ai_primary_landmark_name</th>\n",
       "      <th>ai_primary_landmark_latitude</th>\n",
       "      <th>ai_primary_landmark_longitude</th>\n",
       "      <th>ai_primary_landmark_confidence</th>\n",
       "      <th>blur_hash</th>\n",
       "      <th>description_final</th>\n",
       "    </tr>\n",
       "  </thead>\n",
       "  <tbody>\n",
       "    <tr>\n",
       "      <th>0</th>\n",
       "      <td>XMyPniM9LF0</td>\n",
       "      <td>https://unsplash.com/photos/XMyPniM9LF0</td>\n",
       "      <td>https://images.unsplash.com/uploads/1411949294...</td>\n",
       "      <td>2014-09-29 00:08:38.594364</td>\n",
       "      <td>t</td>\n",
       "      <td>4272</td>\n",
       "      <td>2848</td>\n",
       "      <td>1.50</td>\n",
       "      <td>Woman exploring a forest</td>\n",
       "      <td>michellespencer77</td>\n",
       "      <td>...</td>\n",
       "      <td>NaN</td>\n",
       "      <td>2375421</td>\n",
       "      <td>6967</td>\n",
       "      <td>woman walking in the middle of forest</td>\n",
       "      <td>NaN</td>\n",
       "      <td>NaN</td>\n",
       "      <td>NaN</td>\n",
       "      <td>NaN</td>\n",
       "      <td>L56bVcRRIWMh.gVunlS4SMbsRRxr</td>\n",
       "      <td>Woman exploring a forest</td>\n",
       "    </tr>\n",
       "    <tr>\n",
       "      <th>1</th>\n",
       "      <td>rDLBArZUl1c</td>\n",
       "      <td>https://unsplash.com/photos/rDLBArZUl1c</td>\n",
       "      <td>https://images.unsplash.com/photo-141633941111...</td>\n",
       "      <td>2014-11-18 19:36:57.08945</td>\n",
       "      <td>t</td>\n",
       "      <td>3000</td>\n",
       "      <td>4000</td>\n",
       "      <td>0.75</td>\n",
       "      <td>Succulents in a terrarium</td>\n",
       "      <td>ugmonk</td>\n",
       "      <td>...</td>\n",
       "      <td>NaN</td>\n",
       "      <td>13784815</td>\n",
       "      <td>82141</td>\n",
       "      <td>succulent plants in clear glass terrarium</td>\n",
       "      <td>NaN</td>\n",
       "      <td>NaN</td>\n",
       "      <td>NaN</td>\n",
       "      <td>NaN</td>\n",
       "      <td>LvI$4txu%2s:_4t6WUj]xat7RPoe</td>\n",
       "      <td>Succulents in a terrarium</td>\n",
       "    </tr>\n",
       "    <tr>\n",
       "      <th>2</th>\n",
       "      <td>cNDGZ2sQ3Bo</td>\n",
       "      <td>https://unsplash.com/photos/cNDGZ2sQ3Bo</td>\n",
       "      <td>https://images.unsplash.com/photo-142014251503...</td>\n",
       "      <td>2015-01-01 20:02:02.097036</td>\n",
       "      <td>t</td>\n",
       "      <td>2564</td>\n",
       "      <td>1710</td>\n",
       "      <td>1.50</td>\n",
       "      <td>Rural winter mountainside</td>\n",
       "      <td>johnprice</td>\n",
       "      <td>...</td>\n",
       "      <td>NaN</td>\n",
       "      <td>1302461</td>\n",
       "      <td>3428</td>\n",
       "      <td>rocky mountain under gray sky at daytime</td>\n",
       "      <td>NaN</td>\n",
       "      <td>NaN</td>\n",
       "      <td>NaN</td>\n",
       "      <td>NaN</td>\n",
       "      <td>LhMj%NxvM{t7_4t7aeoM%2M{ozj[</td>\n",
       "      <td>Rural winter mountainside</td>\n",
       "    </tr>\n",
       "    <tr>\n",
       "      <th>3</th>\n",
       "      <td>iuZ_D1eoq9k</td>\n",
       "      <td>https://unsplash.com/photos/iuZ_D1eoq9k</td>\n",
       "      <td>https://images.unsplash.com/photo-141487280988...</td>\n",
       "      <td>2014-11-01 20:15:13.410073</td>\n",
       "      <td>t</td>\n",
       "      <td>2912</td>\n",
       "      <td>4368</td>\n",
       "      <td>0.67</td>\n",
       "      <td>Poppy seeds and flowers</td>\n",
       "      <td>krisatomic</td>\n",
       "      <td>...</td>\n",
       "      <td>NaN</td>\n",
       "      <td>2890238</td>\n",
       "      <td>33704</td>\n",
       "      <td>red common poppy flower selective focus phography</td>\n",
       "      <td>NaN</td>\n",
       "      <td>NaN</td>\n",
       "      <td>NaN</td>\n",
       "      <td>NaN</td>\n",
       "      <td>LSC7DirZAsX7}Br@GEWWmnoLWCnj</td>\n",
       "      <td>Poppy seeds and flowers</td>\n",
       "    </tr>\n",
       "    <tr>\n",
       "      <th>4</th>\n",
       "      <td>BeD3vjQ8SI0</td>\n",
       "      <td>https://unsplash.com/photos/BeD3vjQ8SI0</td>\n",
       "      <td>https://images.unsplash.com/photo-141700759404...</td>\n",
       "      <td>2014-11-26 13:13:50.134383</td>\n",
       "      <td>t</td>\n",
       "      <td>4896</td>\n",
       "      <td>3264</td>\n",
       "      <td>1.50</td>\n",
       "      <td>Silhouette near dark trees</td>\n",
       "      <td>jonaseriksson</td>\n",
       "      <td>...</td>\n",
       "      <td>NaN</td>\n",
       "      <td>8704860</td>\n",
       "      <td>49662</td>\n",
       "      <td>trees during night time</td>\n",
       "      <td>NaN</td>\n",
       "      <td>NaN</td>\n",
       "      <td>NaN</td>\n",
       "      <td>NaN</td>\n",
       "      <td>L25|_:V@0hxtI=W;odae0ht6=^NG</td>\n",
       "      <td>Silhouette near dark trees</td>\n",
       "    </tr>\n",
       "  </tbody>\n",
       "</table>\n",
       "<p>5 rows × 32 columns</p>\n",
       "</div>"
      ],
      "text/plain": [
       "      photo_id                                photo_url  \\\n",
       "0  XMyPniM9LF0  https://unsplash.com/photos/XMyPniM9LF0   \n",
       "1  rDLBArZUl1c  https://unsplash.com/photos/rDLBArZUl1c   \n",
       "2  cNDGZ2sQ3Bo  https://unsplash.com/photos/cNDGZ2sQ3Bo   \n",
       "3  iuZ_D1eoq9k  https://unsplash.com/photos/iuZ_D1eoq9k   \n",
       "4  BeD3vjQ8SI0  https://unsplash.com/photos/BeD3vjQ8SI0   \n",
       "\n",
       "                                     photo_image_url  \\\n",
       "0  https://images.unsplash.com/uploads/1411949294...   \n",
       "1  https://images.unsplash.com/photo-141633941111...   \n",
       "2  https://images.unsplash.com/photo-142014251503...   \n",
       "3  https://images.unsplash.com/photo-141487280988...   \n",
       "4  https://images.unsplash.com/photo-141700759404...   \n",
       "\n",
       "           photo_submitted_at photo_featured  photo_width  photo_height  \\\n",
       "0  2014-09-29 00:08:38.594364              t         4272          2848   \n",
       "1   2014-11-18 19:36:57.08945              t         3000          4000   \n",
       "2  2015-01-01 20:02:02.097036              t         2564          1710   \n",
       "3  2014-11-01 20:15:13.410073              t         2912          4368   \n",
       "4  2014-11-26 13:13:50.134383              t         4896          3264   \n",
       "\n",
       "   photo_aspect_ratio           photo_description photographer_username  ...  \\\n",
       "0                1.50    Woman exploring a forest     michellespencer77  ...   \n",
       "1                0.75   Succulents in a terrarium                ugmonk  ...   \n",
       "2                1.50   Rural winter mountainside             johnprice  ...   \n",
       "3                0.67     Poppy seeds and flowers            krisatomic  ...   \n",
       "4                1.50  Silhouette near dark trees         jonaseriksson  ...   \n",
       "\n",
       "  photo_location_city stats_views stats_downloads  \\\n",
       "0                 NaN     2375421            6967   \n",
       "1                 NaN    13784815           82141   \n",
       "2                 NaN     1302461            3428   \n",
       "3                 NaN     2890238           33704   \n",
       "4                 NaN     8704860           49662   \n",
       "\n",
       "                                      ai_description  \\\n",
       "0              woman walking in the middle of forest   \n",
       "1          succulent plants in clear glass terrarium   \n",
       "2           rocky mountain under gray sky at daytime   \n",
       "3  red common poppy flower selective focus phography   \n",
       "4                            trees during night time   \n",
       "\n",
       "   ai_primary_landmark_name ai_primary_landmark_latitude  \\\n",
       "0                       NaN                          NaN   \n",
       "1                       NaN                          NaN   \n",
       "2                       NaN                          NaN   \n",
       "3                       NaN                          NaN   \n",
       "4                       NaN                          NaN   \n",
       "\n",
       "  ai_primary_landmark_longitude ai_primary_landmark_confidence  \\\n",
       "0                           NaN                            NaN   \n",
       "1                           NaN                            NaN   \n",
       "2                           NaN                            NaN   \n",
       "3                           NaN                            NaN   \n",
       "4                           NaN                            NaN   \n",
       "\n",
       "                      blur_hash           description_final  \n",
       "0  L56bVcRRIWMh.gVunlS4SMbsRRxr    Woman exploring a forest  \n",
       "1  LvI$4txu%2s:_4t6WUj]xat7RPoe   Succulents in a terrarium  \n",
       "2  LhMj%NxvM{t7_4t7aeoM%2M{ozj[   Rural winter mountainside  \n",
       "3  LSC7DirZAsX7}Br@GEWWmnoLWCnj     Poppy seeds and flowers  \n",
       "4  L25|_:V@0hxtI=W;odae0ht6=^NG  Silhouette near dark trees  \n",
       "\n",
       "[5 rows x 32 columns]"
      ]
     },
     "execution_count": 9,
     "metadata": {},
     "output_type": "execute_result"
    }
   ],
   "source": [
    "df_photos.head()"
   ]
  },
  {
   "cell_type": "code",
   "execution_count": null,
   "metadata": {},
   "outputs": [],
   "source": []
  },
  {
   "cell_type": "code",
   "execution_count": null,
   "metadata": {},
   "outputs": [],
   "source": []
  },
  {
   "cell_type": "code",
   "execution_count": null,
   "metadata": {
    "execution": {
     "iopub.execute_input": "2023-04-25T19:21:29.766013Z",
     "iopub.status.busy": "2023-04-25T19:21:29.765221Z",
     "iopub.status.idle": "2023-04-25T19:21:29.769772Z",
     "shell.execute_reply": "2023-04-25T19:21:29.768990Z",
     "shell.execute_reply.started": "2023-04-25T19:21:29.765961Z"
    }
   },
   "outputs": [],
   "source": [
    "image_path = \"../data/raw/images\"\n",
    "os.makedirs(image_path , exist_ok=True)"
   ]
  },
  {
   "cell_type": "code",
   "execution_count": null,
   "metadata": {},
   "outputs": [],
   "source": []
  },
  {
   "cell_type": "code",
   "execution_count": 11,
   "metadata": {
    "execution": {
     "iopub.execute_input": "2023-04-25T19:21:30.873604Z",
     "iopub.status.busy": "2023-04-25T19:21:30.872798Z",
     "iopub.status.idle": "2023-04-25T19:21:30.878929Z",
     "shell.execute_reply": "2023-04-25T19:21:30.878175Z",
     "shell.execute_reply.started": "2023-04-25T19:21:30.873568Z"
    }
   },
   "outputs": [],
   "source": [
    "def download_image(row):\n",
    "    \n",
    "    photo_id = row['photo_id']\n",
    "\n",
    "    photo_url = row['photo_image_url'] + \"?w=640\"\n",
    "\n",
    "    photo_path = f\"{image_path}/{photo_id}.jpg\"\n",
    "\n",
    "    image = None\n",
    "    # Only download a photo if it doesn't exist\n",
    "    if not os.path.exists(photo_path):\n",
    "        try:\n",
    "            urllib.request.urlretrieve(photo_url, photo_path)\n",
    "            image = Image.open(photo_path)\n",
    "        except Exception as e:\n",
    "            # Catch the exception if the download fails for some reason\n",
    "            print(f\"Cannot download {photo_url} ; {e}\")\n",
    "            pass\n",
    "    else:\n",
    "        image = PIL.Image.open(photo_path)\n",
    "        \n",
    "        \n",
    "    row['image'] = image\n",
    "    row['image_path_local'] = photo_path\n",
    "    return row\n",
    "        "
   ]
  },
  {
   "cell_type": "code",
   "execution_count": null,
   "metadata": {},
   "outputs": [],
   "source": []
  },
  {
   "cell_type": "code",
   "execution_count": 12,
   "metadata": {
    "execution": {
     "iopub.execute_input": "2023-04-25T19:21:31.904820Z",
     "iopub.status.busy": "2023-04-25T19:21:31.904038Z",
     "iopub.status.idle": "2023-04-25T19:21:32.068949Z",
     "shell.execute_reply": "2023-04-25T19:21:32.067990Z",
     "shell.execute_reply.started": "2023-04-25T19:21:31.904788Z"
    }
   },
   "outputs": [],
   "source": [
    "dset = datasets.Dataset.from_pandas(df_photos)"
   ]
  },
  {
   "cell_type": "code",
   "execution_count": 13,
   "metadata": {
    "execution": {
     "iopub.execute_input": "2023-04-25T19:21:32.279668Z",
     "iopub.status.busy": "2023-04-25T19:21:32.278791Z",
     "iopub.status.idle": "2023-04-25T19:21:32.285179Z",
     "shell.execute_reply": "2023-04-25T19:21:32.284227Z",
     "shell.execute_reply.started": "2023-04-25T19:21:32.279633Z"
    }
   },
   "outputs": [
    {
     "data": {
      "text/plain": [
       "Dataset({\n",
       "    features: ['photo_id', 'photo_url', 'photo_image_url', 'photo_submitted_at', 'photo_featured', 'photo_width', 'photo_height', 'photo_aspect_ratio', 'photo_description', 'photographer_username', 'photographer_first_name', 'photographer_last_name', 'exif_camera_make', 'exif_camera_model', 'exif_iso', 'exif_aperture_value', 'exif_focal_length', 'exif_exposure_time', 'photo_location_name', 'photo_location_latitude', 'photo_location_longitude', 'photo_location_country', 'photo_location_city', 'stats_views', 'stats_downloads', 'ai_description', 'ai_primary_landmark_name', 'ai_primary_landmark_latitude', 'ai_primary_landmark_longitude', 'ai_primary_landmark_confidence', 'blur_hash', 'description_final'],\n",
       "    num_rows: 25000\n",
       "})"
      ]
     },
     "execution_count": 13,
     "metadata": {},
     "output_type": "execute_result"
    }
   ],
   "source": [
    "dset"
   ]
  },
  {
   "cell_type": "code",
   "execution_count": 14,
   "metadata": {
    "execution": {
     "iopub.execute_input": "2023-04-25T19:21:32.890116Z",
     "iopub.status.busy": "2023-04-25T19:21:32.889165Z",
     "iopub.status.idle": "2023-04-25T19:21:59.989560Z",
     "shell.execute_reply": "2023-04-25T19:21:59.988524Z",
     "shell.execute_reply.started": "2023-04-25T19:21:32.890075Z"
    },
    "tags": []
   },
   "outputs": [
    {
     "name": "stdout",
     "output_type": "stream",
     "text": [
      "         "
     ]
    },
    {
     "data": {
      "application/vnd.jupyter.widget-view+json": {
       "model_id": "60bfc89452194a2396f6a86d6b899a3b",
       "version_major": 2,
       "version_minor": 0
      },
      "text/plain": [
       "#0:   0%|          | 0/3125 [00:00<?, ?ex/s]"
      ]
     },
     "metadata": {},
     "output_type": "display_data"
    },
    {
     "name": "stdout",
     "output_type": "stream",
     "text": [
      " "
     ]
    },
    {
     "data": {
      "application/vnd.jupyter.widget-view+json": {
       "model_id": "4377c6b381a34eaaa39ed462c2305f92",
       "version_major": 2,
       "version_minor": 0
      },
      "text/plain": [
       "#1:   0%|          | 0/3125 [00:00<?, ?ex/s]"
      ]
     },
     "metadata": {},
     "output_type": "display_data"
    },
    {
     "name": "stdout",
     "output_type": "stream",
     "text": [
      " "
     ]
    },
    {
     "data": {
      "application/vnd.jupyter.widget-view+json": {
       "model_id": "55c7e6f7850b4fa397b68d54af4bb872",
       "version_major": 2,
       "version_minor": 0
      },
      "text/plain": [
       "#2:   0%|          | 0/3125 [00:00<?, ?ex/s]"
      ]
     },
     "metadata": {},
     "output_type": "display_data"
    },
    {
     "name": "stdout",
     "output_type": "stream",
     "text": [
      " "
     ]
    },
    {
     "data": {
      "application/vnd.jupyter.widget-view+json": {
       "model_id": "78ea8640baa54038bc3e73cb24cb1c1a",
       "version_major": 2,
       "version_minor": 0
      },
      "text/plain": [
       "#3:   0%|          | 0/3125 [00:00<?, ?ex/s]"
      ]
     },
     "metadata": {},
     "output_type": "display_data"
    },
    {
     "name": "stdout",
     "output_type": "stream",
     "text": [
      " "
     ]
    },
    {
     "data": {
      "application/vnd.jupyter.widget-view+json": {
       "model_id": "cd49dbfc867f4a60bed9683bae960226",
       "version_major": 2,
       "version_minor": 0
      },
      "text/plain": [
       "#4:   0%|          | 0/3125 [00:00<?, ?ex/s]"
      ]
     },
     "metadata": {},
     "output_type": "display_data"
    },
    {
     "name": "stdout",
     "output_type": "stream",
     "text": [
      " "
     ]
    },
    {
     "data": {
      "application/vnd.jupyter.widget-view+json": {
       "model_id": "641cd94558bc47dcbaa3034a8bb0318d",
       "version_major": 2,
       "version_minor": 0
      },
      "text/plain": [
       "#5:   0%|          | 0/3125 [00:00<?, ?ex/s]"
      ]
     },
     "metadata": {},
     "output_type": "display_data"
    },
    {
     "name": "stdout",
     "output_type": "stream",
     "text": [
      " "
     ]
    },
    {
     "data": {
      "application/vnd.jupyter.widget-view+json": {
       "model_id": "dbbeff4f814f4f89a42d7bd240fdfb95",
       "version_major": 2,
       "version_minor": 0
      },
      "text/plain": [
       "#6:   0%|          | 0/3125 [00:00<?, ?ex/s]"
      ]
     },
     "metadata": {},
     "output_type": "display_data"
    },
    {
     "name": "stdout",
     "output_type": "stream",
     "text": [
      " "
     ]
    },
    {
     "data": {
      "application/vnd.jupyter.widget-view+json": {
       "model_id": "941fd95190f542a98d96145fa645e7ca",
       "version_major": 2,
       "version_minor": 0
      },
      "text/plain": [
       "#7:   0%|          | 0/3125 [00:00<?, ?ex/s]"
      ]
     },
     "metadata": {},
     "output_type": "display_data"
    },
    {
     "name": "stdout",
     "output_type": "stream",
     "text": [
      "Cannot download https://images.unsplash.com/photo-1498144846853-60ca2d43853b?w=640 ; HTTP Error 404: Not Found\n",
      "Cannot download https://images.unsplash.com/photo-1578166671353-7978081a6f9c?w=640 ; HTTP Error 404: Not Found\n",
      "Cannot download https://images.unsplash.com-grass-sun.jpg?w=640 ; <urlopen error [Errno -2] Name or service not known>\n",
      "Cannot download https://images.unsplash.com/photo-1578411246981-e0394f597159?w=640 ; HTTP Error 404: Not Found\n",
      "Cannot download https://images.unsplash.company%20by%20Alessandro%20Desantis%20-%20Downloaded%20from%20500px_jpg.jpg?w=640 ; URL can't contain control characters. 'images.unsplash.company by Alessandro Desantis - Downloaded from 500px_jpg.jpg' (found at least ' ')\n",
      "Cannot download https://images.unsplash.com/photo-1583307709837-2d0e3a82be15?w=640 ; HTTP Error 404: Not Found\n",
      "Cannot download https://images.unsplash.com_TheBeach.jpg?w=640 ; <urlopen error [Errno -2] Name or service not known>\n",
      "Cannot download https://images.unsplash.com/photo-1573486145949-182147241fa6?w=640 ; HTTP Error 404: Not Found\n"
     ]
    }
   ],
   "source": [
    "dset = dset.map(download_image, num_proc =8)"
   ]
  },
  {
   "cell_type": "code",
   "execution_count": 15,
   "metadata": {
    "execution": {
     "iopub.execute_input": "2023-04-25T19:21:59.991848Z",
     "iopub.status.busy": "2023-04-25T19:21:59.991573Z",
     "iopub.status.idle": "2023-04-25T19:21:59.997771Z",
     "shell.execute_reply": "2023-04-25T19:21:59.996874Z",
     "shell.execute_reply.started": "2023-04-25T19:21:59.991822Z"
    }
   },
   "outputs": [
    {
     "data": {
      "text/plain": [
       "Dataset({\n",
       "    features: ['photo_id', 'photo_url', 'photo_image_url', 'photo_submitted_at', 'photo_featured', 'photo_width', 'photo_height', 'photo_aspect_ratio', 'photo_description', 'photographer_username', 'photographer_first_name', 'photographer_last_name', 'exif_camera_make', 'exif_camera_model', 'exif_iso', 'exif_aperture_value', 'exif_focal_length', 'exif_exposure_time', 'photo_location_name', 'photo_location_latitude', 'photo_location_longitude', 'photo_location_country', 'photo_location_city', 'stats_views', 'stats_downloads', 'ai_description', 'ai_primary_landmark_name', 'ai_primary_landmark_latitude', 'ai_primary_landmark_longitude', 'ai_primary_landmark_confidence', 'blur_hash', 'description_final', 'image', 'image_path_local'],\n",
       "    num_rows: 25000\n",
       "})"
      ]
     },
     "execution_count": 15,
     "metadata": {},
     "output_type": "execute_result"
    }
   ],
   "source": [
    "dset"
   ]
  },
  {
   "cell_type": "code",
   "execution_count": 17,
   "metadata": {
    "execution": {
     "iopub.execute_input": "2023-04-25T19:22:03.614907Z",
     "iopub.status.busy": "2023-04-25T19:22:03.614028Z",
     "iopub.status.idle": "2023-04-25T19:22:03.628539Z",
     "shell.execute_reply": "2023-04-25T19:22:03.627775Z",
     "shell.execute_reply.started": "2023-04-25T19:22:03.614871Z"
    },
    "tags": []
   },
   "outputs": [
    {
     "data": {
      "text/plain": [
       "{'photo_id': 'XMyPniM9LF0',\n",
       " 'photo_url': 'https://unsplash.com/photos/XMyPniM9LF0',\n",
       " 'photo_image_url': 'https://images.unsplash.com/uploads/14119492946973137ce46/f1f2ebf3',\n",
       " 'photo_submitted_at': '2014-09-29 00:08:38.594364',\n",
       " 'photo_featured': 't',\n",
       " 'photo_width': 4272,\n",
       " 'photo_height': 2848,\n",
       " 'photo_aspect_ratio': 1.5,\n",
       " 'photo_description': 'Woman exploring a forest',\n",
       " 'photographer_username': 'michellespencer77',\n",
       " 'photographer_first_name': 'Michelle',\n",
       " 'photographer_last_name': 'Spencer',\n",
       " 'exif_camera_make': 'Canon',\n",
       " 'exif_camera_model': 'Canon EOS REBEL T3',\n",
       " 'exif_iso': 400.0,\n",
       " 'exif_aperture_value': '1.8',\n",
       " 'exif_focal_length': '50.0',\n",
       " 'exif_exposure_time': '1/100',\n",
       " 'photo_location_name': None,\n",
       " 'photo_location_latitude': None,\n",
       " 'photo_location_longitude': None,\n",
       " 'photo_location_country': None,\n",
       " 'photo_location_city': None,\n",
       " 'stats_views': 2375421,\n",
       " 'stats_downloads': 6967,\n",
       " 'ai_description': 'woman walking in the middle of forest',\n",
       " 'ai_primary_landmark_name': None,\n",
       " 'ai_primary_landmark_latitude': None,\n",
       " 'ai_primary_landmark_longitude': None,\n",
       " 'ai_primary_landmark_confidence': None,\n",
       " 'blur_hash': 'L56bVcRRIWMh.gVunlS4SMbsRRxr',\n",
       " 'description_final': 'Woman exploring a forest',\n",
       " 'image': <PIL.JpegImagePlugin.JpegImageFile image mode=RGB size=640x427>,\n",
       " 'image_path_local': '../data/raw/images/XMyPniM9LF0.jpg'}"
      ]
     },
     "execution_count": 17,
     "metadata": {},
     "output_type": "execute_result"
    }
   ],
   "source": [
    "dset[0]"
   ]
  },
  {
   "cell_type": "code",
   "execution_count": null,
   "metadata": {},
   "outputs": [],
   "source": []
  },
  {
   "cell_type": "code",
   "execution_count": 18,
   "metadata": {
    "execution": {
     "iopub.execute_input": "2023-04-25T19:22:06.253702Z",
     "iopub.status.busy": "2023-04-25T19:22:06.252998Z",
     "iopub.status.idle": "2023-04-25T19:22:06.257466Z",
     "shell.execute_reply": "2023-04-25T19:22:06.256494Z",
     "shell.execute_reply.started": "2023-04-25T19:22:06.253665Z"
    }
   },
   "outputs": [],
   "source": [
    "# storage_options={\"project\": \"np-public-training\"}\n",
    "# fs = gcsfs.GCSFileSystem(storage_options )"
   ]
  },
  {
   "cell_type": "markdown",
   "metadata": {},
   "source": [
    "remove missing images"
   ]
  },
  {
   "cell_type": "code",
   "execution_count": 19,
   "metadata": {
    "execution": {
     "iopub.execute_input": "2023-04-25T19:22:06.854584Z",
     "iopub.status.busy": "2023-04-25T19:22:06.854150Z",
     "iopub.status.idle": "2023-04-25T19:22:41.380167Z",
     "shell.execute_reply": "2023-04-25T19:22:41.379261Z",
     "shell.execute_reply.started": "2023-04-25T19:22:06.854523Z"
    },
    "tags": []
   },
   "outputs": [
    {
     "name": "stdout",
     "output_type": "stream",
     "text": [
      "         "
     ]
    },
    {
     "data": {
      "application/vnd.jupyter.widget-view+json": {
       "model_id": "7d1383bfbd8c4386adcac0eed81cb353",
       "version_major": 2,
       "version_minor": 0
      },
      "text/plain": [
       "#0:   0%|          | 0/4 [00:00<?, ?ba/s]"
      ]
     },
     "metadata": {},
     "output_type": "display_data"
    },
    {
     "name": "stdout",
     "output_type": "stream",
     "text": [
      " "
     ]
    },
    {
     "data": {
      "application/vnd.jupyter.widget-view+json": {
       "model_id": "b8dcb4b7ea1d4ac6846d9bf3cbc0aec8",
       "version_major": 2,
       "version_minor": 0
      },
      "text/plain": [
       "#1:   0%|          | 0/4 [00:00<?, ?ba/s]"
      ]
     },
     "metadata": {},
     "output_type": "display_data"
    },
    {
     "name": "stdout",
     "output_type": "stream",
     "text": [
      " "
     ]
    },
    {
     "data": {
      "application/vnd.jupyter.widget-view+json": {
       "model_id": "40c503af006149d582def58104e1d485",
       "version_major": 2,
       "version_minor": 0
      },
      "text/plain": [
       "#2:   0%|          | 0/4 [00:00<?, ?ba/s]"
      ]
     },
     "metadata": {},
     "output_type": "display_data"
    },
    {
     "name": "stdout",
     "output_type": "stream",
     "text": [
      " "
     ]
    },
    {
     "data": {
      "application/vnd.jupyter.widget-view+json": {
       "model_id": "22ab30a19c9847a386ef4f8ae848bc8c",
       "version_major": 2,
       "version_minor": 0
      },
      "text/plain": [
       "#3:   0%|          | 0/4 [00:00<?, ?ba/s]"
      ]
     },
     "metadata": {},
     "output_type": "display_data"
    },
    {
     "name": "stdout",
     "output_type": "stream",
     "text": [
      " "
     ]
    },
    {
     "data": {
      "application/vnd.jupyter.widget-view+json": {
       "model_id": "3d7a7ae7fe3441db9992e3702331360a",
       "version_major": 2,
       "version_minor": 0
      },
      "text/plain": [
       "#4:   0%|          | 0/4 [00:00<?, ?ba/s]"
      ]
     },
     "metadata": {},
     "output_type": "display_data"
    },
    {
     "name": "stdout",
     "output_type": "stream",
     "text": [
      " "
     ]
    },
    {
     "data": {
      "application/vnd.jupyter.widget-view+json": {
       "model_id": "3587b5c32c3a4317b730b9ce8d0ab04f",
       "version_major": 2,
       "version_minor": 0
      },
      "text/plain": [
       "#5:   0%|          | 0/4 [00:00<?, ?ba/s]"
      ]
     },
     "metadata": {},
     "output_type": "display_data"
    },
    {
     "name": "stdout",
     "output_type": "stream",
     "text": [
      " "
     ]
    },
    {
     "data": {
      "application/vnd.jupyter.widget-view+json": {
       "model_id": "9965184dcf624cf7b2da6ac6765d4e93",
       "version_major": 2,
       "version_minor": 0
      },
      "text/plain": [
       "#6:   0%|          | 0/4 [00:00<?, ?ba/s]"
      ]
     },
     "metadata": {},
     "output_type": "display_data"
    },
    {
     "name": "stdout",
     "output_type": "stream",
     "text": [
      " "
     ]
    },
    {
     "data": {
      "application/vnd.jupyter.widget-view+json": {
       "model_id": "e0cd559fdc064d9ebd92e4cad5357d57",
       "version_major": 2,
       "version_minor": 0
      },
      "text/plain": [
       "#7:   0%|          | 0/4 [00:00<?, ?ba/s]"
      ]
     },
     "metadata": {},
     "output_type": "display_data"
    }
   ],
   "source": [
    "dset = dset.filter(lambda x: x['image']!=None, num_proc =8)"
   ]
  },
  {
   "cell_type": "code",
   "execution_count": null,
   "metadata": {},
   "outputs": [],
   "source": []
  },
  {
   "cell_type": "code",
   "execution_count": null,
   "metadata": {},
   "outputs": [],
   "source": []
  },
  {
   "cell_type": "code",
   "execution_count": null,
   "metadata": {},
   "outputs": [],
   "source": [
    "#!rm -rf ../data/processed/*"
   ]
  },
  {
   "cell_type": "code",
   "execution_count": 20,
   "metadata": {
    "execution": {
     "iopub.execute_input": "2023-04-25T19:22:45.355398Z",
     "iopub.status.busy": "2023-04-25T19:22:45.354587Z",
     "iopub.status.idle": "2023-04-25T19:22:47.986520Z",
     "shell.execute_reply": "2023-04-25T19:22:47.985667Z",
     "shell.execute_reply.started": "2023-04-25T19:22:45.355363Z"
    }
   },
   "outputs": [
    {
     "data": {
      "application/vnd.jupyter.widget-view+json": {
       "model_id": "0065549b8b9a4478b4cfd1edf57be7f1",
       "version_major": 2,
       "version_minor": 0
      },
      "text/plain": [
       "Flattening the indices:   0%|          | 0/25 [00:00<?, ?ba/s]"
      ]
     },
     "metadata": {},
     "output_type": "display_data"
    }
   ],
   "source": [
    "dset.save_to_disk(\"../data/processed\")\n"
   ]
  },
  {
   "cell_type": "code",
   "execution_count": null,
   "metadata": {},
   "outputs": [],
   "source": []
  },
  {
   "cell_type": "code",
   "execution_count": null,
   "metadata": {},
   "outputs": [],
   "source": []
  },
  {
   "cell_type": "code",
   "execution_count": 21,
   "metadata": {
    "execution": {
     "iopub.execute_input": "2023-04-25T19:22:47.988286Z",
     "iopub.status.busy": "2023-04-25T19:22:47.987935Z",
     "iopub.status.idle": "2023-04-25T19:22:47.998306Z",
     "shell.execute_reply": "2023-04-25T19:22:47.997587Z",
     "shell.execute_reply.started": "2023-04-25T19:22:47.988261Z"
    }
   },
   "outputs": [],
   "source": [
    "dset = datasets.load_from_disk(\"../data/processed\")"
   ]
  },
  {
   "cell_type": "code",
   "execution_count": 22,
   "metadata": {
    "execution": {
     "iopub.execute_input": "2023-04-25T19:22:48.919816Z",
     "iopub.status.busy": "2023-04-25T19:22:48.918983Z",
     "iopub.status.idle": "2023-04-25T19:22:48.932704Z",
     "shell.execute_reply": "2023-04-25T19:22:48.931992Z",
     "shell.execute_reply.started": "2023-04-25T19:22:48.919779Z"
    }
   },
   "outputs": [
    {
     "data": {
      "text/plain": [
       "{'photo_id': 'XMyPniM9LF0',\n",
       " 'photo_url': 'https://unsplash.com/photos/XMyPniM9LF0',\n",
       " 'photo_image_url': 'https://images.unsplash.com/uploads/14119492946973137ce46/f1f2ebf3',\n",
       " 'photo_submitted_at': '2014-09-29 00:08:38.594364',\n",
       " 'photo_featured': 't',\n",
       " 'photo_width': 4272,\n",
       " 'photo_height': 2848,\n",
       " 'photo_aspect_ratio': 1.5,\n",
       " 'photo_description': 'Woman exploring a forest',\n",
       " 'photographer_username': 'michellespencer77',\n",
       " 'photographer_first_name': 'Michelle',\n",
       " 'photographer_last_name': 'Spencer',\n",
       " 'exif_camera_make': 'Canon',\n",
       " 'exif_camera_model': 'Canon EOS REBEL T3',\n",
       " 'exif_iso': 400.0,\n",
       " 'exif_aperture_value': '1.8',\n",
       " 'exif_focal_length': '50.0',\n",
       " 'exif_exposure_time': '1/100',\n",
       " 'photo_location_name': None,\n",
       " 'photo_location_latitude': None,\n",
       " 'photo_location_longitude': None,\n",
       " 'photo_location_country': None,\n",
       " 'photo_location_city': None,\n",
       " 'stats_views': 2375421,\n",
       " 'stats_downloads': 6967,\n",
       " 'ai_description': 'woman walking in the middle of forest',\n",
       " 'ai_primary_landmark_name': None,\n",
       " 'ai_primary_landmark_latitude': None,\n",
       " 'ai_primary_landmark_longitude': None,\n",
       " 'ai_primary_landmark_confidence': None,\n",
       " 'blur_hash': 'L56bVcRRIWMh.gVunlS4SMbsRRxr',\n",
       " 'description_final': 'Woman exploring a forest',\n",
       " 'image': <PIL.JpegImagePlugin.JpegImageFile image mode=RGB size=640x427>,\n",
       " 'image_path_local': '../data/raw/images/XMyPniM9LF0.jpg'}"
      ]
     },
     "execution_count": 22,
     "metadata": {},
     "output_type": "execute_result"
    }
   ],
   "source": [
    "dset[0]"
   ]
  },
  {
   "cell_type": "code",
   "execution_count": 23,
   "metadata": {
    "execution": {
     "iopub.execute_input": "2023-04-25T19:22:49.378523Z",
     "iopub.status.busy": "2023-04-25T19:22:49.377567Z",
     "iopub.status.idle": "2023-04-25T19:22:49.383598Z",
     "shell.execute_reply": "2023-04-25T19:22:49.382817Z",
     "shell.execute_reply.started": "2023-04-25T19:22:49.378472Z"
    }
   },
   "outputs": [
    {
     "data": {
      "text/plain": [
       "Dataset({\n",
       "    features: ['photo_id', 'photo_url', 'photo_image_url', 'photo_submitted_at', 'photo_featured', 'photo_width', 'photo_height', 'photo_aspect_ratio', 'photo_description', 'photographer_username', 'photographer_first_name', 'photographer_last_name', 'exif_camera_make', 'exif_camera_model', 'exif_iso', 'exif_aperture_value', 'exif_focal_length', 'exif_exposure_time', 'photo_location_name', 'photo_location_latitude', 'photo_location_longitude', 'photo_location_country', 'photo_location_city', 'stats_views', 'stats_downloads', 'ai_description', 'ai_primary_landmark_name', 'ai_primary_landmark_latitude', 'ai_primary_landmark_longitude', 'ai_primary_landmark_confidence', 'blur_hash', 'description_final', 'image', 'image_path_local'],\n",
       "    num_rows: 24992\n",
       "})"
      ]
     },
     "execution_count": 23,
     "metadata": {},
     "output_type": "execute_result"
    }
   ],
   "source": [
    "dset"
   ]
  },
  {
   "cell_type": "code",
   "execution_count": null,
   "metadata": {},
   "outputs": [],
   "source": []
  }
 ],
 "metadata": {
  "environment": {
   "kernel": "workshop",
   "name": "pytorch-gpu.1-13.m107",
   "type": "gcloud",
   "uri": "gcr.io/deeplearning-platform-release/pytorch-gpu.1-13:m107"
  },
  "kernelspec": {
   "display_name": "workshop",
   "language": "python",
   "name": "workshop"
  },
  "language_info": {
   "codemirror_mode": {
    "name": "ipython",
    "version": 3
   },
   "file_extension": ".py",
   "mimetype": "text/x-python",
   "name": "python",
   "nbconvert_exporter": "python",
   "pygments_lexer": "ipython3",
   "version": "3.7.12"
  }
 },
 "nbformat": 4,
 "nbformat_minor": 4
}
