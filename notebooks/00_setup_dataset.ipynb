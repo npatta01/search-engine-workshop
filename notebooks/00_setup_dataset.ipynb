{
 "cells": [
  {
   "cell_type": "markdown",
   "metadata": {},
   "source": [
    "\n",
    "# Setup the Unsplash dataset\n",
    "\n",
    "\n",
    "\n",
    "\n",
    "This notebook can be used to download all images from the Unsplash dataset: https://github.com/unsplash/datasets. There are two versions Lite (25000 images) and Full (2M images). For the Full one you will need to apply for access (see [here](https://unsplash.com/data)). This will allow you to run CLIP on the whole dataset yourself. \n",
    "\n",
    "Put the .TSV files in the folder `unsplash-dataset/full` or `unsplash-dataset/lite` or adjust the path in the cell below. "
   ]
  },
  {
   "cell_type": "code",
   "execution_count": null,
   "metadata": {},
   "outputs": [],
   "source": []
  },
  {
   "cell_type": "markdown",
   "metadata": {},
   "source": [
    "## About"
   ]
  },
  {
   "cell_type": "markdown",
   "metadata": {},
   "source": [
    "The Unsplash Dataset is made up of over 250,000+ contributing global photographers and data sourced from hundreds of millions of searches across a nearly unlimited number of uses and contexts. Due to the breadth of intent and semantics contained within the Unsplash dataset, it enables new opportunities for research and learning.\n",
    "\n",
    "\n",
    "\n",
    "The Unsplash Dataset is offered in two datasets:\n",
    "\n",
    "- the Lite dataset: available for commercial and noncommercial usage, containing 25k nature-themed Unsplash photos, 25k keywords, and 1M searches\n",
    "- the Full dataset: available for noncommercial usage, containing 3M+ high-quality Unsplash photos, 5M keywords, and over 250M searches\n",
    "\n",
    "from [Readme](https://github.com/unsplash/datasets)"
   ]
  },
  {
   "cell_type": "markdown",
   "metadata": {},
   "source": [
    "## Imports"
   ]
  },
  {
   "cell_type": "code",
   "execution_count": 1,
   "metadata": {},
   "outputs": [],
   "source": [
    "import requests\n",
    "import pandas as pd\n",
    "import os\n",
    "import datasets\n",
    "import urllib\n",
    "import gcsfs\n",
    "\n",
    "import PIL"
   ]
  },
  {
   "cell_type": "code",
   "execution_count": null,
   "metadata": {},
   "outputs": [],
   "source": []
  },
  {
   "cell_type": "code",
   "execution_count": null,
   "metadata": {},
   "outputs": [],
   "source": []
  },
  {
   "cell_type": "code",
   "execution_count": null,
   "metadata": {},
   "outputs": [],
   "source": []
  },
  {
   "cell_type": "code",
   "execution_count": 2,
   "metadata": {},
   "outputs": [],
   "source": [
    "%%bash\n",
    "mkdir -p ../data/raw/\n",
    "cd ../data/raw\n",
    "if [ ! -f latest ]\n",
    "then\n",
    "    wget https://unsplash.com/data/lite/latest --quiet\n",
    "    unzip latest\n",
    "\n",
    "fi\n",
    "\n",
    "\n"
   ]
  },
  {
   "cell_type": "code",
   "execution_count": 3,
   "metadata": {},
   "outputs": [
    {
     "name": "stdout",
     "output_type": "stream",
     "text": [
      "processed  raw\n"
     ]
    }
   ],
   "source": [
    "!ls ../data"
   ]
  },
  {
   "cell_type": "code",
   "execution_count": null,
   "metadata": {},
   "outputs": [],
   "source": []
  },
  {
   "cell_type": "code",
   "execution_count": null,
   "metadata": {},
   "outputs": [],
   "source": []
  },
  {
   "cell_type": "code",
   "execution_count": null,
   "metadata": {},
   "outputs": [],
   "source": []
  },
  {
   "cell_type": "code",
   "execution_count": 4,
   "metadata": {},
   "outputs": [
    {
     "data": {
      "text/html": [
       "<div>\n",
       "<style scoped>\n",
       "    .dataframe tbody tr th:only-of-type {\n",
       "        vertical-align: middle;\n",
       "    }\n",
       "\n",
       "    .dataframe tbody tr th {\n",
       "        vertical-align: top;\n",
       "    }\n",
       "\n",
       "    .dataframe thead th {\n",
       "        text-align: right;\n",
       "    }\n",
       "</style>\n",
       "<table border=\"1\" class=\"dataframe\">\n",
       "  <thead>\n",
       "    <tr style=\"text-align: right;\">\n",
       "      <th></th>\n",
       "      <th>photo_id</th>\n",
       "      <th>photo_url</th>\n",
       "      <th>photo_image_url</th>\n",
       "      <th>photo_submitted_at</th>\n",
       "      <th>photo_featured</th>\n",
       "      <th>photo_width</th>\n",
       "      <th>photo_height</th>\n",
       "      <th>photo_aspect_ratio</th>\n",
       "      <th>photo_description</th>\n",
       "      <th>photographer_username</th>\n",
       "      <th>...</th>\n",
       "      <th>photo_location_country</th>\n",
       "      <th>photo_location_city</th>\n",
       "      <th>stats_views</th>\n",
       "      <th>stats_downloads</th>\n",
       "      <th>ai_description</th>\n",
       "      <th>ai_primary_landmark_name</th>\n",
       "      <th>ai_primary_landmark_latitude</th>\n",
       "      <th>ai_primary_landmark_longitude</th>\n",
       "      <th>ai_primary_landmark_confidence</th>\n",
       "      <th>blur_hash</th>\n",
       "    </tr>\n",
       "  </thead>\n",
       "  <tbody>\n",
       "    <tr>\n",
       "      <th>0</th>\n",
       "      <td>XMyPniM9LF0</td>\n",
       "      <td>https://unsplash.com/photos/XMyPniM9LF0</td>\n",
       "      <td>https://images.unsplash.com/uploads/1411949294...</td>\n",
       "      <td>2014-09-29 00:08:38.594364</td>\n",
       "      <td>t</td>\n",
       "      <td>4272</td>\n",
       "      <td>2848</td>\n",
       "      <td>1.50</td>\n",
       "      <td>Woman exploring a forest</td>\n",
       "      <td>michellespencer77</td>\n",
       "      <td>...</td>\n",
       "      <td>NaN</td>\n",
       "      <td>NaN</td>\n",
       "      <td>2375421</td>\n",
       "      <td>6967</td>\n",
       "      <td>woman walking in the middle of forest</td>\n",
       "      <td>NaN</td>\n",
       "      <td>NaN</td>\n",
       "      <td>NaN</td>\n",
       "      <td>NaN</td>\n",
       "      <td>L56bVcRRIWMh.gVunlS4SMbsRRxr</td>\n",
       "    </tr>\n",
       "    <tr>\n",
       "      <th>1</th>\n",
       "      <td>rDLBArZUl1c</td>\n",
       "      <td>https://unsplash.com/photos/rDLBArZUl1c</td>\n",
       "      <td>https://images.unsplash.com/photo-141633941111...</td>\n",
       "      <td>2014-11-18 19:36:57.08945</td>\n",
       "      <td>t</td>\n",
       "      <td>3000</td>\n",
       "      <td>4000</td>\n",
       "      <td>0.75</td>\n",
       "      <td>Succulents in a terrarium</td>\n",
       "      <td>ugmonk</td>\n",
       "      <td>...</td>\n",
       "      <td>NaN</td>\n",
       "      <td>NaN</td>\n",
       "      <td>13784815</td>\n",
       "      <td>82141</td>\n",
       "      <td>succulent plants in clear glass terrarium</td>\n",
       "      <td>NaN</td>\n",
       "      <td>NaN</td>\n",
       "      <td>NaN</td>\n",
       "      <td>NaN</td>\n",
       "      <td>LvI$4txu%2s:_4t6WUj]xat7RPoe</td>\n",
       "    </tr>\n",
       "    <tr>\n",
       "      <th>2</th>\n",
       "      <td>cNDGZ2sQ3Bo</td>\n",
       "      <td>https://unsplash.com/photos/cNDGZ2sQ3Bo</td>\n",
       "      <td>https://images.unsplash.com/photo-142014251503...</td>\n",
       "      <td>2015-01-01 20:02:02.097036</td>\n",
       "      <td>t</td>\n",
       "      <td>2564</td>\n",
       "      <td>1710</td>\n",
       "      <td>1.50</td>\n",
       "      <td>Rural winter mountainside</td>\n",
       "      <td>johnprice</td>\n",
       "      <td>...</td>\n",
       "      <td>NaN</td>\n",
       "      <td>NaN</td>\n",
       "      <td>1302461</td>\n",
       "      <td>3428</td>\n",
       "      <td>rocky mountain under gray sky at daytime</td>\n",
       "      <td>NaN</td>\n",
       "      <td>NaN</td>\n",
       "      <td>NaN</td>\n",
       "      <td>NaN</td>\n",
       "      <td>LhMj%NxvM{t7_4t7aeoM%2M{ozj[</td>\n",
       "    </tr>\n",
       "    <tr>\n",
       "      <th>3</th>\n",
       "      <td>iuZ_D1eoq9k</td>\n",
       "      <td>https://unsplash.com/photos/iuZ_D1eoq9k</td>\n",
       "      <td>https://images.unsplash.com/photo-141487280988...</td>\n",
       "      <td>2014-11-01 20:15:13.410073</td>\n",
       "      <td>t</td>\n",
       "      <td>2912</td>\n",
       "      <td>4368</td>\n",
       "      <td>0.67</td>\n",
       "      <td>Poppy seeds and flowers</td>\n",
       "      <td>krisatomic</td>\n",
       "      <td>...</td>\n",
       "      <td>NaN</td>\n",
       "      <td>NaN</td>\n",
       "      <td>2890238</td>\n",
       "      <td>33704</td>\n",
       "      <td>red common poppy flower selective focus phography</td>\n",
       "      <td>NaN</td>\n",
       "      <td>NaN</td>\n",
       "      <td>NaN</td>\n",
       "      <td>NaN</td>\n",
       "      <td>LSC7DirZAsX7}Br@GEWWmnoLWCnj</td>\n",
       "    </tr>\n",
       "    <tr>\n",
       "      <th>4</th>\n",
       "      <td>BeD3vjQ8SI0</td>\n",
       "      <td>https://unsplash.com/photos/BeD3vjQ8SI0</td>\n",
       "      <td>https://images.unsplash.com/photo-141700759404...</td>\n",
       "      <td>2014-11-26 13:13:50.134383</td>\n",
       "      <td>t</td>\n",
       "      <td>4896</td>\n",
       "      <td>3264</td>\n",
       "      <td>1.50</td>\n",
       "      <td>Silhouette near dark trees</td>\n",
       "      <td>jonaseriksson</td>\n",
       "      <td>...</td>\n",
       "      <td>NaN</td>\n",
       "      <td>NaN</td>\n",
       "      <td>8704860</td>\n",
       "      <td>49662</td>\n",
       "      <td>trees during night time</td>\n",
       "      <td>NaN</td>\n",
       "      <td>NaN</td>\n",
       "      <td>NaN</td>\n",
       "      <td>NaN</td>\n",
       "      <td>L25|_:V@0hxtI=W;odae0ht6=^NG</td>\n",
       "    </tr>\n",
       "  </tbody>\n",
       "</table>\n",
       "<p>5 rows × 31 columns</p>\n",
       "</div>"
      ],
      "text/plain": [
       "      photo_id                                photo_url  \\\n",
       "0  XMyPniM9LF0  https://unsplash.com/photos/XMyPniM9LF0   \n",
       "1  rDLBArZUl1c  https://unsplash.com/photos/rDLBArZUl1c   \n",
       "2  cNDGZ2sQ3Bo  https://unsplash.com/photos/cNDGZ2sQ3Bo   \n",
       "3  iuZ_D1eoq9k  https://unsplash.com/photos/iuZ_D1eoq9k   \n",
       "4  BeD3vjQ8SI0  https://unsplash.com/photos/BeD3vjQ8SI0   \n",
       "\n",
       "                                     photo_image_url  \\\n",
       "0  https://images.unsplash.com/uploads/1411949294...   \n",
       "1  https://images.unsplash.com/photo-141633941111...   \n",
       "2  https://images.unsplash.com/photo-142014251503...   \n",
       "3  https://images.unsplash.com/photo-141487280988...   \n",
       "4  https://images.unsplash.com/photo-141700759404...   \n",
       "\n",
       "           photo_submitted_at photo_featured  photo_width  photo_height  \\\n",
       "0  2014-09-29 00:08:38.594364              t         4272          2848   \n",
       "1   2014-11-18 19:36:57.08945              t         3000          4000   \n",
       "2  2015-01-01 20:02:02.097036              t         2564          1710   \n",
       "3  2014-11-01 20:15:13.410073              t         2912          4368   \n",
       "4  2014-11-26 13:13:50.134383              t         4896          3264   \n",
       "\n",
       "   photo_aspect_ratio           photo_description photographer_username  ...  \\\n",
       "0                1.50    Woman exploring a forest     michellespencer77  ...   \n",
       "1                0.75   Succulents in a terrarium                ugmonk  ...   \n",
       "2                1.50   Rural winter mountainside             johnprice  ...   \n",
       "3                0.67     Poppy seeds and flowers            krisatomic  ...   \n",
       "4                1.50  Silhouette near dark trees         jonaseriksson  ...   \n",
       "\n",
       "  photo_location_country photo_location_city stats_views stats_downloads  \\\n",
       "0                    NaN                 NaN     2375421            6967   \n",
       "1                    NaN                 NaN    13784815           82141   \n",
       "2                    NaN                 NaN     1302461            3428   \n",
       "3                    NaN                 NaN     2890238           33704   \n",
       "4                    NaN                 NaN     8704860           49662   \n",
       "\n",
       "                                      ai_description ai_primary_landmark_name  \\\n",
       "0              woman walking in the middle of forest                      NaN   \n",
       "1          succulent plants in clear glass terrarium                      NaN   \n",
       "2           rocky mountain under gray sky at daytime                      NaN   \n",
       "3  red common poppy flower selective focus phography                      NaN   \n",
       "4                            trees during night time                      NaN   \n",
       "\n",
       "  ai_primary_landmark_latitude ai_primary_landmark_longitude  \\\n",
       "0                          NaN                           NaN   \n",
       "1                          NaN                           NaN   \n",
       "2                          NaN                           NaN   \n",
       "3                          NaN                           NaN   \n",
       "4                          NaN                           NaN   \n",
       "\n",
       "  ai_primary_landmark_confidence                     blur_hash  \n",
       "0                            NaN  L56bVcRRIWMh.gVunlS4SMbsRRxr  \n",
       "1                            NaN  LvI$4txu%2s:_4t6WUj]xat7RPoe  \n",
       "2                            NaN  LhMj%NxvM{t7_4t7aeoM%2M{ozj[  \n",
       "3                            NaN  LSC7DirZAsX7}Br@GEWWmnoLWCnj  \n",
       "4                            NaN  L25|_:V@0hxtI=W;odae0ht6=^NG  \n",
       "\n",
       "[5 rows x 31 columns]"
      ]
     },
     "execution_count": 4,
     "metadata": {},
     "output_type": "execute_result"
    }
   ],
   "source": [
    "df_photos = pd.read_csv(\"../data/raw/photos.tsv000\", sep='\\t', header=0)\n",
    "df_photos.head()"
   ]
  },
  {
   "cell_type": "code",
   "execution_count": 5,
   "metadata": {},
   "outputs": [
    {
     "data": {
      "text/plain": [
       "photo_id                                                                XMyPniM9LF0\n",
       "photo_url                                   https://unsplash.com/photos/XMyPniM9LF0\n",
       "photo_image_url                   https://images.unsplash.com/uploads/1411949294...\n",
       "photo_submitted_at                                       2014-09-29 00:08:38.594364\n",
       "photo_featured                                                                    t\n",
       "photo_width                                                                    4272\n",
       "photo_height                                                                   2848\n",
       "photo_aspect_ratio                                                              1.5\n",
       "photo_description                                          Woman exploring a forest\n",
       "photographer_username                                             michellespencer77\n",
       "photographer_first_name                                                    Michelle\n",
       "photographer_last_name                                                      Spencer\n",
       "exif_camera_make                                                              Canon\n",
       "exif_camera_model                                                Canon EOS REBEL T3\n",
       "exif_iso                                                                      400.0\n",
       "exif_aperture_value                                                             1.8\n",
       "exif_focal_length                                                              50.0\n",
       "exif_exposure_time                                                            1/100\n",
       "photo_location_name                                                             NaN\n",
       "photo_location_latitude                                                         NaN\n",
       "photo_location_longitude                                                        NaN\n",
       "photo_location_country                                                          NaN\n",
       "photo_location_city                                                             NaN\n",
       "stats_views                                                                 2375421\n",
       "stats_downloads                                                                6967\n",
       "ai_description                                woman walking in the middle of forest\n",
       "ai_primary_landmark_name                                                        NaN\n",
       "ai_primary_landmark_latitude                                                    NaN\n",
       "ai_primary_landmark_longitude                                                   NaN\n",
       "ai_primary_landmark_confidence                                                  NaN\n",
       "blur_hash                                              L56bVcRRIWMh.gVunlS4SMbsRRxr\n",
       "Name: 0, dtype: object"
      ]
     },
     "execution_count": 5,
     "metadata": {},
     "output_type": "execute_result"
    }
   ],
   "source": [
    "df_photos.iloc[0]"
   ]
  },
  {
   "cell_type": "code",
   "execution_count": null,
   "metadata": {},
   "outputs": [],
   "source": []
  },
  {
   "cell_type": "code",
   "execution_count": null,
   "metadata": {},
   "outputs": [],
   "source": []
  },
  {
   "cell_type": "code",
   "execution_count": 6,
   "metadata": {},
   "outputs": [
    {
     "data": {
      "text/plain": [
       "False    23641\n",
       "True      1359\n",
       "Name: ai_description, dtype: int64"
      ]
     },
     "execution_count": 6,
     "metadata": {},
     "output_type": "execute_result"
    }
   ],
   "source": [
    "pd.isna(df_photos.ai_description).value_counts()"
   ]
  },
  {
   "cell_type": "code",
   "execution_count": 7,
   "metadata": {},
   "outputs": [
    {
     "data": {
      "text/plain": [
       "True     14098\n",
       "False    10902\n",
       "Name: photo_description, dtype: int64"
      ]
     },
     "execution_count": 7,
     "metadata": {},
     "output_type": "execute_result"
    }
   ],
   "source": [
    "pd.isna(df_photos.photo_description).value_counts()"
   ]
  },
  {
   "cell_type": "code",
   "execution_count": null,
   "metadata": {},
   "outputs": [],
   "source": []
  },
  {
   "cell_type": "code",
   "execution_count": 8,
   "metadata": {},
   "outputs": [],
   "source": [
    "df_photos['description_final'] =  df_photos.photo_description.fillna(df_photos.ai_description).fillna(\" \")"
   ]
  },
  {
   "cell_type": "code",
   "execution_count": null,
   "metadata": {},
   "outputs": [],
   "source": []
  },
  {
   "cell_type": "code",
   "execution_count": null,
   "metadata": {},
   "outputs": [],
   "source": []
  },
  {
   "cell_type": "markdown",
   "metadata": {},
   "source": [
    "## Download images"
   ]
  },
  {
   "cell_type": "code",
   "execution_count": 9,
   "metadata": {},
   "outputs": [
    {
     "data": {
      "text/html": [
       "<div>\n",
       "<style scoped>\n",
       "    .dataframe tbody tr th:only-of-type {\n",
       "        vertical-align: middle;\n",
       "    }\n",
       "\n",
       "    .dataframe tbody tr th {\n",
       "        vertical-align: top;\n",
       "    }\n",
       "\n",
       "    .dataframe thead th {\n",
       "        text-align: right;\n",
       "    }\n",
       "</style>\n",
       "<table border=\"1\" class=\"dataframe\">\n",
       "  <thead>\n",
       "    <tr style=\"text-align: right;\">\n",
       "      <th></th>\n",
       "      <th>photo_id</th>\n",
       "      <th>photo_url</th>\n",
       "      <th>photo_image_url</th>\n",
       "      <th>photo_submitted_at</th>\n",
       "      <th>photo_featured</th>\n",
       "      <th>photo_width</th>\n",
       "      <th>photo_height</th>\n",
       "      <th>photo_aspect_ratio</th>\n",
       "      <th>photo_description</th>\n",
       "      <th>photographer_username</th>\n",
       "      <th>...</th>\n",
       "      <th>photo_location_city</th>\n",
       "      <th>stats_views</th>\n",
       "      <th>stats_downloads</th>\n",
       "      <th>ai_description</th>\n",
       "      <th>ai_primary_landmark_name</th>\n",
       "      <th>ai_primary_landmark_latitude</th>\n",
       "      <th>ai_primary_landmark_longitude</th>\n",
       "      <th>ai_primary_landmark_confidence</th>\n",
       "      <th>blur_hash</th>\n",
       "      <th>description_final</th>\n",
       "    </tr>\n",
       "  </thead>\n",
       "  <tbody>\n",
       "    <tr>\n",
       "      <th>0</th>\n",
       "      <td>XMyPniM9LF0</td>\n",
       "      <td>https://unsplash.com/photos/XMyPniM9LF0</td>\n",
       "      <td>https://images.unsplash.com/uploads/1411949294...</td>\n",
       "      <td>2014-09-29 00:08:38.594364</td>\n",
       "      <td>t</td>\n",
       "      <td>4272</td>\n",
       "      <td>2848</td>\n",
       "      <td>1.50</td>\n",
       "      <td>Woman exploring a forest</td>\n",
       "      <td>michellespencer77</td>\n",
       "      <td>...</td>\n",
       "      <td>NaN</td>\n",
       "      <td>2375421</td>\n",
       "      <td>6967</td>\n",
       "      <td>woman walking in the middle of forest</td>\n",
       "      <td>NaN</td>\n",
       "      <td>NaN</td>\n",
       "      <td>NaN</td>\n",
       "      <td>NaN</td>\n",
       "      <td>L56bVcRRIWMh.gVunlS4SMbsRRxr</td>\n",
       "      <td>Woman exploring a forest</td>\n",
       "    </tr>\n",
       "    <tr>\n",
       "      <th>1</th>\n",
       "      <td>rDLBArZUl1c</td>\n",
       "      <td>https://unsplash.com/photos/rDLBArZUl1c</td>\n",
       "      <td>https://images.unsplash.com/photo-141633941111...</td>\n",
       "      <td>2014-11-18 19:36:57.08945</td>\n",
       "      <td>t</td>\n",
       "      <td>3000</td>\n",
       "      <td>4000</td>\n",
       "      <td>0.75</td>\n",
       "      <td>Succulents in a terrarium</td>\n",
       "      <td>ugmonk</td>\n",
       "      <td>...</td>\n",
       "      <td>NaN</td>\n",
       "      <td>13784815</td>\n",
       "      <td>82141</td>\n",
       "      <td>succulent plants in clear glass terrarium</td>\n",
       "      <td>NaN</td>\n",
       "      <td>NaN</td>\n",
       "      <td>NaN</td>\n",
       "      <td>NaN</td>\n",
       "      <td>LvI$4txu%2s:_4t6WUj]xat7RPoe</td>\n",
       "      <td>Succulents in a terrarium</td>\n",
       "    </tr>\n",
       "    <tr>\n",
       "      <th>2</th>\n",
       "      <td>cNDGZ2sQ3Bo</td>\n",
       "      <td>https://unsplash.com/photos/cNDGZ2sQ3Bo</td>\n",
       "      <td>https://images.unsplash.com/photo-142014251503...</td>\n",
       "      <td>2015-01-01 20:02:02.097036</td>\n",
       "      <td>t</td>\n",
       "      <td>2564</td>\n",
       "      <td>1710</td>\n",
       "      <td>1.50</td>\n",
       "      <td>Rural winter mountainside</td>\n",
       "      <td>johnprice</td>\n",
       "      <td>...</td>\n",
       "      <td>NaN</td>\n",
       "      <td>1302461</td>\n",
       "      <td>3428</td>\n",
       "      <td>rocky mountain under gray sky at daytime</td>\n",
       "      <td>NaN</td>\n",
       "      <td>NaN</td>\n",
       "      <td>NaN</td>\n",
       "      <td>NaN</td>\n",
       "      <td>LhMj%NxvM{t7_4t7aeoM%2M{ozj[</td>\n",
       "      <td>Rural winter mountainside</td>\n",
       "    </tr>\n",
       "    <tr>\n",
       "      <th>3</th>\n",
       "      <td>iuZ_D1eoq9k</td>\n",
       "      <td>https://unsplash.com/photos/iuZ_D1eoq9k</td>\n",
       "      <td>https://images.unsplash.com/photo-141487280988...</td>\n",
       "      <td>2014-11-01 20:15:13.410073</td>\n",
       "      <td>t</td>\n",
       "      <td>2912</td>\n",
       "      <td>4368</td>\n",
       "      <td>0.67</td>\n",
       "      <td>Poppy seeds and flowers</td>\n",
       "      <td>krisatomic</td>\n",
       "      <td>...</td>\n",
       "      <td>NaN</td>\n",
       "      <td>2890238</td>\n",
       "      <td>33704</td>\n",
       "      <td>red common poppy flower selective focus phography</td>\n",
       "      <td>NaN</td>\n",
       "      <td>NaN</td>\n",
       "      <td>NaN</td>\n",
       "      <td>NaN</td>\n",
       "      <td>LSC7DirZAsX7}Br@GEWWmnoLWCnj</td>\n",
       "      <td>Poppy seeds and flowers</td>\n",
       "    </tr>\n",
       "    <tr>\n",
       "      <th>4</th>\n",
       "      <td>BeD3vjQ8SI0</td>\n",
       "      <td>https://unsplash.com/photos/BeD3vjQ8SI0</td>\n",
       "      <td>https://images.unsplash.com/photo-141700759404...</td>\n",
       "      <td>2014-11-26 13:13:50.134383</td>\n",
       "      <td>t</td>\n",
       "      <td>4896</td>\n",
       "      <td>3264</td>\n",
       "      <td>1.50</td>\n",
       "      <td>Silhouette near dark trees</td>\n",
       "      <td>jonaseriksson</td>\n",
       "      <td>...</td>\n",
       "      <td>NaN</td>\n",
       "      <td>8704860</td>\n",
       "      <td>49662</td>\n",
       "      <td>trees during night time</td>\n",
       "      <td>NaN</td>\n",
       "      <td>NaN</td>\n",
       "      <td>NaN</td>\n",
       "      <td>NaN</td>\n",
       "      <td>L25|_:V@0hxtI=W;odae0ht6=^NG</td>\n",
       "      <td>Silhouette near dark trees</td>\n",
       "    </tr>\n",
       "  </tbody>\n",
       "</table>\n",
       "<p>5 rows × 32 columns</p>\n",
       "</div>"
      ],
      "text/plain": [
       "      photo_id                                photo_url  \\\n",
       "0  XMyPniM9LF0  https://unsplash.com/photos/XMyPniM9LF0   \n",
       "1  rDLBArZUl1c  https://unsplash.com/photos/rDLBArZUl1c   \n",
       "2  cNDGZ2sQ3Bo  https://unsplash.com/photos/cNDGZ2sQ3Bo   \n",
       "3  iuZ_D1eoq9k  https://unsplash.com/photos/iuZ_D1eoq9k   \n",
       "4  BeD3vjQ8SI0  https://unsplash.com/photos/BeD3vjQ8SI0   \n",
       "\n",
       "                                     photo_image_url  \\\n",
       "0  https://images.unsplash.com/uploads/1411949294...   \n",
       "1  https://images.unsplash.com/photo-141633941111...   \n",
       "2  https://images.unsplash.com/photo-142014251503...   \n",
       "3  https://images.unsplash.com/photo-141487280988...   \n",
       "4  https://images.unsplash.com/photo-141700759404...   \n",
       "\n",
       "           photo_submitted_at photo_featured  photo_width  photo_height  \\\n",
       "0  2014-09-29 00:08:38.594364              t         4272          2848   \n",
       "1   2014-11-18 19:36:57.08945              t         3000          4000   \n",
       "2  2015-01-01 20:02:02.097036              t         2564          1710   \n",
       "3  2014-11-01 20:15:13.410073              t         2912          4368   \n",
       "4  2014-11-26 13:13:50.134383              t         4896          3264   \n",
       "\n",
       "   photo_aspect_ratio           photo_description photographer_username  ...  \\\n",
       "0                1.50    Woman exploring a forest     michellespencer77  ...   \n",
       "1                0.75   Succulents in a terrarium                ugmonk  ...   \n",
       "2                1.50   Rural winter mountainside             johnprice  ...   \n",
       "3                0.67     Poppy seeds and flowers            krisatomic  ...   \n",
       "4                1.50  Silhouette near dark trees         jonaseriksson  ...   \n",
       "\n",
       "  photo_location_city stats_views stats_downloads  \\\n",
       "0                 NaN     2375421            6967   \n",
       "1                 NaN    13784815           82141   \n",
       "2                 NaN     1302461            3428   \n",
       "3                 NaN     2890238           33704   \n",
       "4                 NaN     8704860           49662   \n",
       "\n",
       "                                      ai_description  \\\n",
       "0              woman walking in the middle of forest   \n",
       "1          succulent plants in clear glass terrarium   \n",
       "2           rocky mountain under gray sky at daytime   \n",
       "3  red common poppy flower selective focus phography   \n",
       "4                            trees during night time   \n",
       "\n",
       "   ai_primary_landmark_name ai_primary_landmark_latitude  \\\n",
       "0                       NaN                          NaN   \n",
       "1                       NaN                          NaN   \n",
       "2                       NaN                          NaN   \n",
       "3                       NaN                          NaN   \n",
       "4                       NaN                          NaN   \n",
       "\n",
       "  ai_primary_landmark_longitude ai_primary_landmark_confidence  \\\n",
       "0                           NaN                            NaN   \n",
       "1                           NaN                            NaN   \n",
       "2                           NaN                            NaN   \n",
       "3                           NaN                            NaN   \n",
       "4                           NaN                            NaN   \n",
       "\n",
       "                      blur_hash           description_final  \n",
       "0  L56bVcRRIWMh.gVunlS4SMbsRRxr    Woman exploring a forest  \n",
       "1  LvI$4txu%2s:_4t6WUj]xat7RPoe   Succulents in a terrarium  \n",
       "2  LhMj%NxvM{t7_4t7aeoM%2M{ozj[   Rural winter mountainside  \n",
       "3  LSC7DirZAsX7}Br@GEWWmnoLWCnj     Poppy seeds and flowers  \n",
       "4  L25|_:V@0hxtI=W;odae0ht6=^NG  Silhouette near dark trees  \n",
       "\n",
       "[5 rows x 32 columns]"
      ]
     },
     "execution_count": 9,
     "metadata": {},
     "output_type": "execute_result"
    }
   ],
   "source": [
    "df_photos.head()"
   ]
  },
  {
   "cell_type": "code",
   "execution_count": null,
   "metadata": {},
   "outputs": [],
   "source": []
  },
  {
   "cell_type": "code",
   "execution_count": null,
   "metadata": {},
   "outputs": [],
   "source": []
  },
  {
   "cell_type": "code",
   "execution_count": 10,
   "metadata": {},
   "outputs": [],
   "source": [
    "image_path = \"../data/raw/images\"\n",
    "os.makedirs(image_path , exist_ok=True)"
   ]
  },
  {
   "cell_type": "code",
   "execution_count": null,
   "metadata": {},
   "outputs": [],
   "source": []
  },
  {
   "cell_type": "code",
   "execution_count": 11,
   "metadata": {},
   "outputs": [],
   "source": [
    "def download_image(row):\n",
    "    \n",
    "    photo_id = row['photo_id']\n",
    "\n",
    "    photo_url = row['photo_image_url'] + \"?w=640\"\n",
    "\n",
    "    photo_path = f\"{image_path}/{photo_id}.jpg\"\n",
    "\n",
    "    image = None\n",
    "    # Only download a photo if it doesn't exist\n",
    "    if not os.path.exists(photo_path):\n",
    "        try:\n",
    "            urllib.request.urlretrieve(photo_url, photo_path)\n",
    "            image = PIL.Image.open(photo_path)\n",
    "        except Exception as e:\n",
    "            # Catch the exception if the download fails for some reason\n",
    "            print(f\"Cannot download {photo_url} ; {e}\")\n",
    "            pass\n",
    "    else:\n",
    "        image = PIL.Image.open(photo_path)\n",
    "        \n",
    "        \n",
    "    row['image'] = image\n",
    "    return row\n",
    "        "
   ]
  },
  {
   "cell_type": "code",
   "execution_count": null,
   "metadata": {},
   "outputs": [],
   "source": []
  },
  {
   "cell_type": "code",
   "execution_count": 12,
   "metadata": {},
   "outputs": [],
   "source": [
    "dset = datasets.Dataset.from_pandas(df_photos)"
   ]
  },
  {
   "cell_type": "code",
   "execution_count": 13,
   "metadata": {},
   "outputs": [
    {
     "data": {
      "text/plain": [
       "Dataset({\n",
       "    features: ['photo_id', 'photo_url', 'photo_image_url', 'photo_submitted_at', 'photo_featured', 'photo_width', 'photo_height', 'photo_aspect_ratio', 'photo_description', 'photographer_username', 'photographer_first_name', 'photographer_last_name', 'exif_camera_make', 'exif_camera_model', 'exif_iso', 'exif_aperture_value', 'exif_focal_length', 'exif_exposure_time', 'photo_location_name', 'photo_location_latitude', 'photo_location_longitude', 'photo_location_country', 'photo_location_city', 'stats_views', 'stats_downloads', 'ai_description', 'ai_primary_landmark_name', 'ai_primary_landmark_latitude', 'ai_primary_landmark_longitude', 'ai_primary_landmark_confidence', 'blur_hash', 'description_final'],\n",
       "    num_rows: 25000\n",
       "})"
      ]
     },
     "execution_count": 13,
     "metadata": {},
     "output_type": "execute_result"
    }
   ],
   "source": [
    "dset"
   ]
  },
  {
   "cell_type": "code",
   "execution_count": 14,
   "metadata": {},
   "outputs": [
    {
     "name": "stdout",
     "output_type": "stream",
     "text": [
      "         "
     ]
    },
    {
     "data": {
      "application/vnd.jupyter.widget-view+json": {
       "model_id": "2d2968620b9f4867a4c1938ce4ce3999",
       "version_major": 2,
       "version_minor": 0
      },
      "text/plain": [
       "#0:   0%|          | 0/3125 [00:00<?, ?ex/s]"
      ]
     },
     "metadata": {},
     "output_type": "display_data"
    },
    {
     "name": "stdout",
     "output_type": "stream",
     "text": [
      " "
     ]
    },
    {
     "data": {
      "application/vnd.jupyter.widget-view+json": {
       "model_id": "43413a279b5a43d99c38cb3b5ab52170",
       "version_major": 2,
       "version_minor": 0
      },
      "text/plain": [
       "#1:   0%|          | 0/3125 [00:00<?, ?ex/s]"
      ]
     },
     "metadata": {},
     "output_type": "display_data"
    },
    {
     "name": "stdout",
     "output_type": "stream",
     "text": [
      " "
     ]
    },
    {
     "data": {
      "application/vnd.jupyter.widget-view+json": {
       "model_id": "0d9b064874ee415aaf3e6586780567e6",
       "version_major": 2,
       "version_minor": 0
      },
      "text/plain": [
       "#2:   0%|          | 0/3125 [00:00<?, ?ex/s]"
      ]
     },
     "metadata": {},
     "output_type": "display_data"
    },
    {
     "name": "stdout",
     "output_type": "stream",
     "text": [
      " "
     ]
    },
    {
     "data": {
      "application/vnd.jupyter.widget-view+json": {
       "model_id": "6182ccdcb07c4c3680aa19209bbf1ccc",
       "version_major": 2,
       "version_minor": 0
      },
      "text/plain": [
       "#3:   0%|          | 0/3125 [00:00<?, ?ex/s]"
      ]
     },
     "metadata": {},
     "output_type": "display_data"
    },
    {
     "name": "stdout",
     "output_type": "stream",
     "text": [
      "  "
     ]
    },
    {
     "data": {
      "application/vnd.jupyter.widget-view+json": {
       "model_id": "452e57b74af4469ab132ff80dc0a8c83",
       "version_major": 2,
       "version_minor": 0
      },
      "text/plain": [
       "#4:   0%|          | 0/3125 [00:00<?, ?ex/s]"
      ]
     },
     "metadata": {},
     "output_type": "display_data"
    },
    {
     "name": "stdout",
     "output_type": "stream",
     "text": [
      " "
     ]
    },
    {
     "data": {
      "application/vnd.jupyter.widget-view+json": {
       "model_id": "0e25099bb0fa4c0bb5cde89b0b174426",
       "version_major": 2,
       "version_minor": 0
      },
      "text/plain": [
       "#5:   0%|          | 0/3125 [00:00<?, ?ex/s]"
      ]
     },
     "metadata": {},
     "output_type": "display_data"
    },
    {
     "name": "stdout",
     "output_type": "stream",
     "text": [
      " "
     ]
    },
    {
     "data": {
      "application/vnd.jupyter.widget-view+json": {
       "model_id": "1bf009fe464147be864e0412e7f6f5ff",
       "version_major": 2,
       "version_minor": 0
      },
      "text/plain": [
       "#6:   0%|          | 0/3125 [00:00<?, ?ex/s]"
      ]
     },
     "metadata": {},
     "output_type": "display_data"
    },
    {
     "data": {
      "application/vnd.jupyter.widget-view+json": {
       "model_id": "d1679516cbf24a09885cdee5c3585d6d",
       "version_major": 2,
       "version_minor": 0
      },
      "text/plain": [
       "#7:   0%|          | 0/3125 [00:00<?, ?ex/s]"
      ]
     },
     "metadata": {},
     "output_type": "display_data"
    },
    {
     "name": "stdout",
     "output_type": "stream",
     "text": [
      "Cannot download https://images.unsplash.company%20by%20Alessandro%20Desantis%20-%20Downloaded%20from%20500px_jpg.jpg?w=640 ; URL can't contain control characters. 'images.unsplash.company by Alessandro Desantis - Downloaded from 500px_jpg.jpg' (found at least ' ')\n",
      "Cannot download https://images.unsplash.com/photo-1578411246981-e0394f597159?w=640 ; HTTP Error 404: Not Found\n",
      "Cannot download https://images.unsplash.com-grass-sun.jpg?w=640 ; <urlopen error [Errno -2] Name or service not known>\n",
      "Cannot download https://images.unsplash.com_TheBeach.jpg?w=640 ; <urlopen error [Errno -2] Name or service not known>\n",
      "Cannot download https://images.unsplash.com/photo-1481930079977-24a345fcae85?w=640 ; HTTP Error 422: Unprocessable Entity\n"
     ]
    }
   ],
   "source": [
    "dset = dset.map(download_image, num_proc =8)"
   ]
  },
  {
   "cell_type": "code",
   "execution_count": 15,
   "metadata": {},
   "outputs": [
    {
     "data": {
      "text/plain": [
       "Dataset({\n",
       "    features: ['photo_id', 'photo_url', 'photo_image_url', 'photo_submitted_at', 'photo_featured', 'photo_width', 'photo_height', 'photo_aspect_ratio', 'photo_description', 'photographer_username', 'photographer_first_name', 'photographer_last_name', 'exif_camera_make', 'exif_camera_model', 'exif_iso', 'exif_aperture_value', 'exif_focal_length', 'exif_exposure_time', 'photo_location_name', 'photo_location_latitude', 'photo_location_longitude', 'photo_location_country', 'photo_location_city', 'stats_views', 'stats_downloads', 'ai_description', 'ai_primary_landmark_name', 'ai_primary_landmark_latitude', 'ai_primary_landmark_longitude', 'ai_primary_landmark_confidence', 'blur_hash', 'description_final', 'image'],\n",
       "    num_rows: 25000\n",
       "})"
      ]
     },
     "execution_count": 15,
     "metadata": {},
     "output_type": "execute_result"
    }
   ],
   "source": [
    "dset"
   ]
  },
  {
   "cell_type": "code",
   "execution_count": 16,
   "metadata": {},
   "outputs": [
    {
     "data": {
      "text/plain": [
       "{'photo_id': 'XMyPniM9LF0',\n",
       " 'photo_url': 'https://unsplash.com/photos/XMyPniM9LF0',\n",
       " 'photo_image_url': 'https://images.unsplash.com/uploads/14119492946973137ce46/f1f2ebf3',\n",
       " 'photo_submitted_at': '2014-09-29 00:08:38.594364',\n",
       " 'photo_featured': 't',\n",
       " 'photo_width': 4272,\n",
       " 'photo_height': 2848,\n",
       " 'photo_aspect_ratio': 1.5,\n",
       " 'photo_description': 'Woman exploring a forest',\n",
       " 'photographer_username': 'michellespencer77',\n",
       " 'photographer_first_name': 'Michelle',\n",
       " 'photographer_last_name': 'Spencer',\n",
       " 'exif_camera_make': 'Canon',\n",
       " 'exif_camera_model': 'Canon EOS REBEL T3',\n",
       " 'exif_iso': 400.0,\n",
       " 'exif_aperture_value': '1.8',\n",
       " 'exif_focal_length': '50.0',\n",
       " 'exif_exposure_time': '1/100',\n",
       " 'photo_location_name': None,\n",
       " 'photo_location_latitude': None,\n",
       " 'photo_location_longitude': None,\n",
       " 'photo_location_country': None,\n",
       " 'photo_location_city': None,\n",
       " 'stats_views': 2375421,\n",
       " 'stats_downloads': 6967,\n",
       " 'ai_description': 'woman walking in the middle of forest',\n",
       " 'ai_primary_landmark_name': None,\n",
       " 'ai_primary_landmark_latitude': None,\n",
       " 'ai_primary_landmark_longitude': None,\n",
       " 'ai_primary_landmark_confidence': None,\n",
       " 'blur_hash': 'L56bVcRRIWMh.gVunlS4SMbsRRxr',\n",
       " 'description_final': 'Woman exploring a forest',\n",
       " 'image': <PIL.JpegImagePlugin.JpegImageFile image mode=RGB size=640x427>}"
      ]
     },
     "execution_count": 16,
     "metadata": {},
     "output_type": "execute_result"
    }
   ],
   "source": [
    "dset[0]"
   ]
  },
  {
   "cell_type": "code",
   "execution_count": null,
   "metadata": {},
   "outputs": [],
   "source": []
  },
  {
   "cell_type": "code",
   "execution_count": 17,
   "metadata": {},
   "outputs": [],
   "source": [
    "# storage_options={\"project\": \"np-public-training\"}\n",
    "# fs = gcsfs.GCSFileSystem(storage_options )"
   ]
  },
  {
   "cell_type": "markdown",
   "metadata": {},
   "source": [
    "remove missing images"
   ]
  },
  {
   "cell_type": "code",
   "execution_count": 18,
   "metadata": {},
   "outputs": [
    {
     "name": "stdout",
     "output_type": "stream",
     "text": [
      "         "
     ]
    },
    {
     "data": {
      "application/vnd.jupyter.widget-view+json": {
       "model_id": "3f59a6a0d4204b41823d2b028c07936f",
       "version_major": 2,
       "version_minor": 0
      },
      "text/plain": [
       "#0:   0%|          | 0/4 [00:00<?, ?ba/s]"
      ]
     },
     "metadata": {},
     "output_type": "display_data"
    },
    {
     "name": "stdout",
     "output_type": "stream",
     "text": [
      " "
     ]
    },
    {
     "data": {
      "application/vnd.jupyter.widget-view+json": {
       "model_id": "caf835e763dd40eb87d4ddfe3f889f85",
       "version_major": 2,
       "version_minor": 0
      },
      "text/plain": [
       "#1:   0%|          | 0/4 [00:00<?, ?ba/s]"
      ]
     },
     "metadata": {},
     "output_type": "display_data"
    },
    {
     "name": "stdout",
     "output_type": "stream",
     "text": [
      " "
     ]
    },
    {
     "data": {
      "application/vnd.jupyter.widget-view+json": {
       "model_id": "3139b7957dac488a875ee3642416a86d",
       "version_major": 2,
       "version_minor": 0
      },
      "text/plain": [
       "#2:   0%|          | 0/4 [00:00<?, ?ba/s]"
      ]
     },
     "metadata": {},
     "output_type": "display_data"
    },
    {
     "name": "stdout",
     "output_type": "stream",
     "text": [
      " "
     ]
    },
    {
     "data": {
      "application/vnd.jupyter.widget-view+json": {
       "model_id": "e7482781b2044786b39cb35c43a821da",
       "version_major": 2,
       "version_minor": 0
      },
      "text/plain": [
       "#3:   0%|          | 0/4 [00:00<?, ?ba/s]"
      ]
     },
     "metadata": {},
     "output_type": "display_data"
    },
    {
     "name": "stdout",
     "output_type": "stream",
     "text": [
      " "
     ]
    },
    {
     "data": {
      "application/vnd.jupyter.widget-view+json": {
       "model_id": "d8b11ab13d884e7598f8ebca8b92b21d",
       "version_major": 2,
       "version_minor": 0
      },
      "text/plain": [
       "#4:   0%|          | 0/4 [00:00<?, ?ba/s]"
      ]
     },
     "metadata": {},
     "output_type": "display_data"
    },
    {
     "name": "stdout",
     "output_type": "stream",
     "text": [
      " "
     ]
    },
    {
     "data": {
      "application/vnd.jupyter.widget-view+json": {
       "model_id": "96b8646129e84c6aaacfe4af699ac8f2",
       "version_major": 2,
       "version_minor": 0
      },
      "text/plain": [
       "#5:   0%|          | 0/4 [00:00<?, ?ba/s]"
      ]
     },
     "metadata": {},
     "output_type": "display_data"
    },
    {
     "name": "stdout",
     "output_type": "stream",
     "text": [
      " "
     ]
    },
    {
     "data": {
      "application/vnd.jupyter.widget-view+json": {
       "model_id": "033f2b18ebe34db1905a265758051d87",
       "version_major": 2,
       "version_minor": 0
      },
      "text/plain": [
       "#6:   0%|          | 0/4 [00:00<?, ?ba/s]"
      ]
     },
     "metadata": {},
     "output_type": "display_data"
    },
    {
     "name": "stdout",
     "output_type": "stream",
     "text": [
      " "
     ]
    },
    {
     "data": {
      "application/vnd.jupyter.widget-view+json": {
       "model_id": "91edde46a99d4853a8f9652ca52c798a",
       "version_major": 2,
       "version_minor": 0
      },
      "text/plain": [
       "#7:   0%|          | 0/4 [00:00<?, ?ba/s]"
      ]
     },
     "metadata": {},
     "output_type": "display_data"
    }
   ],
   "source": [
    "dset = dset.filter(lambda x: x['image']!=None, num_proc =8)"
   ]
  },
  {
   "cell_type": "code",
   "execution_count": null,
   "metadata": {},
   "outputs": [],
   "source": []
  },
  {
   "cell_type": "code",
   "execution_count": null,
   "metadata": {},
   "outputs": [],
   "source": []
  },
  {
   "cell_type": "code",
   "execution_count": 19,
   "metadata": {},
   "outputs": [],
   "source": [
    "#!rm -rf ../data/processed/*"
   ]
  },
  {
   "cell_type": "code",
   "execution_count": 20,
   "metadata": {},
   "outputs": [
    {
     "data": {
      "application/vnd.jupyter.widget-view+json": {
       "model_id": "9d2712f23d524108b5b65695facf402e",
       "version_major": 2,
       "version_minor": 0
      },
      "text/plain": [
       "Flattening the indices:   0%|          | 0/25 [00:00<?, ?ba/s]"
      ]
     },
     "metadata": {},
     "output_type": "display_data"
    }
   ],
   "source": [
    "dset.save_to_disk(\"../data/processed\")\n"
   ]
  },
  {
   "cell_type": "code",
   "execution_count": null,
   "metadata": {},
   "outputs": [],
   "source": []
  },
  {
   "cell_type": "code",
   "execution_count": null,
   "metadata": {},
   "outputs": [],
   "source": []
  },
  {
   "cell_type": "code",
   "execution_count": 21,
   "metadata": {},
   "outputs": [],
   "source": [
    "dset = datasets.load_from_disk(\"../data/processed\")"
   ]
  },
  {
   "cell_type": "code",
   "execution_count": 22,
   "metadata": {},
   "outputs": [
    {
     "data": {
      "text/plain": [
       "{'photo_id': 'XMyPniM9LF0',\n",
       " 'photo_url': 'https://unsplash.com/photos/XMyPniM9LF0',\n",
       " 'photo_image_url': 'https://images.unsplash.com/uploads/14119492946973137ce46/f1f2ebf3',\n",
       " 'photo_submitted_at': '2014-09-29 00:08:38.594364',\n",
       " 'photo_featured': 't',\n",
       " 'photo_width': 4272,\n",
       " 'photo_height': 2848,\n",
       " 'photo_aspect_ratio': 1.5,\n",
       " 'photo_description': 'Woman exploring a forest',\n",
       " 'photographer_username': 'michellespencer77',\n",
       " 'photographer_first_name': 'Michelle',\n",
       " 'photographer_last_name': 'Spencer',\n",
       " 'exif_camera_make': 'Canon',\n",
       " 'exif_camera_model': 'Canon EOS REBEL T3',\n",
       " 'exif_iso': 400.0,\n",
       " 'exif_aperture_value': '1.8',\n",
       " 'exif_focal_length': '50.0',\n",
       " 'exif_exposure_time': '1/100',\n",
       " 'photo_location_name': None,\n",
       " 'photo_location_latitude': None,\n",
       " 'photo_location_longitude': None,\n",
       " 'photo_location_country': None,\n",
       " 'photo_location_city': None,\n",
       " 'stats_views': 2375421,\n",
       " 'stats_downloads': 6967,\n",
       " 'ai_description': 'woman walking in the middle of forest',\n",
       " 'ai_primary_landmark_name': None,\n",
       " 'ai_primary_landmark_latitude': None,\n",
       " 'ai_primary_landmark_longitude': None,\n",
       " 'ai_primary_landmark_confidence': None,\n",
       " 'blur_hash': 'L56bVcRRIWMh.gVunlS4SMbsRRxr',\n",
       " 'description_final': 'Woman exploring a forest',\n",
       " 'image': <PIL.JpegImagePlugin.JpegImageFile image mode=RGB size=640x427>}"
      ]
     },
     "execution_count": 22,
     "metadata": {},
     "output_type": "execute_result"
    }
   ],
   "source": [
    "dset[0]"
   ]
  },
  {
   "cell_type": "code",
   "execution_count": 23,
   "metadata": {},
   "outputs": [
    {
     "data": {
      "text/plain": [
       "Dataset({\n",
       "    features: ['photo_id', 'photo_url', 'photo_image_url', 'photo_submitted_at', 'photo_featured', 'photo_width', 'photo_height', 'photo_aspect_ratio', 'photo_description', 'photographer_username', 'photographer_first_name', 'photographer_last_name', 'exif_camera_make', 'exif_camera_model', 'exif_iso', 'exif_aperture_value', 'exif_focal_length', 'exif_exposure_time', 'photo_location_name', 'photo_location_latitude', 'photo_location_longitude', 'photo_location_country', 'photo_location_city', 'stats_views', 'stats_downloads', 'ai_description', 'ai_primary_landmark_name', 'ai_primary_landmark_latitude', 'ai_primary_landmark_longitude', 'ai_primary_landmark_confidence', 'blur_hash', 'description_final', 'image'],\n",
       "    num_rows: 24995\n",
       "})"
      ]
     },
     "execution_count": 23,
     "metadata": {},
     "output_type": "execute_result"
    }
   ],
   "source": [
    "dset"
   ]
  },
  {
   "cell_type": "code",
   "execution_count": null,
   "metadata": {},
   "outputs": [],
   "source": []
  }
 ],
 "metadata": {
  "environment": {
   "kernel": "py38",
   "name": "pytorch-gpu.1-12.m99",
   "type": "gcloud",
   "uri": "gcr.io/deeplearning-platform-release/pytorch-gpu.1-12:m99"
  },
  "kernelspec": {
   "display_name": "py38",
   "language": "python",
   "name": "py38"
  },
  "language_info": {
   "codemirror_mode": {
    "name": "ipython",
    "version": 3
   },
   "file_extension": ".py",
   "mimetype": "text/x-python",
   "name": "python",
   "nbconvert_exporter": "python",
   "pygments_lexer": "ipython3",
   "version": "3.8.13"
  }
 },
 "nbformat": 4,
 "nbformat_minor": 4
}
