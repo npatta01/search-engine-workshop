{
 "cells": [
  {
   "cell_type": "code",
   "execution_count": 2,
   "id": "724dc187-f812-4c97-81dd-ad527f9d8338",
   "metadata": {},
   "outputs": [],
   "source": [
    "import pandas as pd\n",
    "from IPython.display import JSON\n",
    "import metrics_utils"
   ]
  },
  {
   "cell_type": "code",
   "execution_count": null,
   "id": "37b1ba40-6527-4ec3-8180-7db66fc9d808",
   "metadata": {},
   "outputs": [],
   "source": []
  },
  {
   "cell_type": "code",
   "execution_count": 11,
   "id": "dfeca3c8-2684-44a1-8497-1bf4c4c89c9d",
   "metadata": {},
   "outputs": [
    {
     "name": "stdout",
     "output_type": "stream",
     "text": [
      "  1.35 GiB  2022-11-02T08:48:12Z  gs://np-public-training-temp/stackoverflow/final/posts.parquet\n",
      "  5.26 MiB  2022-11-02T08:48:12Z  gs://np-public-training-temp/stackoverflow/final/related_posts.parquet\n",
      "115.09 MiB  2022-11-02T08:48:12Z  gs://np-public-training-temp/stackoverflow/final_subset/posts.parquet\n",
      "  1.08 GiB  2022-11-02T11:42:53Z  gs://np-public-training-temp/stackoverflow/final_subset/posts_with_embedding.parquet\n",
      "   1.4 MiB  2022-11-02T08:48:12Z  gs://np-public-training-temp/stackoverflow/final_subset/related_posts.parquet\n",
      "TOTAL: 5 objects, 2736956352 bytes (2.55 GiB)\n"
     ]
    }
   ],
   "source": [
    "!gsutil ls -lh gs://np-public-training-temp/stackoverflow/**"
   ]
  },
  {
   "cell_type": "code",
   "execution_count": 2,
   "id": "e218afd6-edcb-46cc-8263-94611d54ffeb",
   "metadata": {},
   "outputs": [],
   "source": [
    "path_posts = \"gs://np-public-training-temp/stackoverflow/final_subset/posts.parquet\"\n",
    "path_posts_related = \"gs://np-public-training-temp/stackoverflow/final_subset/related_posts.parquet\"\n"
   ]
  },
  {
   "cell_type": "code",
   "execution_count": 4,
   "id": "431537d1-2701-4d8e-a3fc-22d877cd14bb",
   "metadata": {},
   "outputs": [
    {
     "data": {
      "text/html": [
       "<div>\n",
       "<style scoped>\n",
       "    .dataframe tbody tr th:only-of-type {\n",
       "        vertical-align: middle;\n",
       "    }\n",
       "\n",
       "    .dataframe tbody tr th {\n",
       "        vertical-align: top;\n",
       "    }\n",
       "\n",
       "    .dataframe thead th {\n",
       "        text-align: right;\n",
       "    }\n",
       "</style>\n",
       "<table border=\"1\" class=\"dataframe\">\n",
       "  <thead>\n",
       "    <tr style=\"text-align: right;\">\n",
       "      <th></th>\n",
       "      <th>Id</th>\n",
       "      <th>AcceptedAnswerId</th>\n",
       "      <th>Title</th>\n",
       "      <th>QuestionBody</th>\n",
       "      <th>Tags</th>\n",
       "      <th>ViewCount</th>\n",
       "      <th>AnswerCount</th>\n",
       "      <th>CommentCount</th>\n",
       "      <th>Score</th>\n",
       "      <th>CreationDate</th>\n",
       "      <th>AnswerId</th>\n",
       "      <th>AcceptedAnswerBody</th>\n",
       "    </tr>\n",
       "  </thead>\n",
       "  <tbody>\n",
       "    <tr>\n",
       "      <th>1</th>\n",
       "      <td>15020895</td>\n",
       "      <td>NaN</td>\n",
       "      <td>Python int-byte efficient data structure</td>\n",
       "      <td>i am currently storing key-values of type int-...</td>\n",
       "      <td>[python, data-structures]</td>\n",
       "      <td>155</td>\n",
       "      <td>0</td>\n",
       "      <td>3</td>\n",
       "      <td>1</td>\n",
       "      <td>2013-02-22 09:33:26.360</td>\n",
       "      <td>NaN</td>\n",
       "      <td>None</td>\n",
       "    </tr>\n",
       "    <tr>\n",
       "      <th>9</th>\n",
       "      <td>68487902</td>\n",
       "      <td>NaN</td>\n",
       "      <td>Why does the Variance of Laplace very differen...</td>\n",
       "      <td>TL;DR: How can I use skimage.filters.laplace(i...</td>\n",
       "      <td>[python, opencv, image-processing, computer-vi...</td>\n",
       "      <td>391</td>\n",
       "      <td>0</td>\n",
       "      <td>5</td>\n",
       "      <td>1</td>\n",
       "      <td>2021-07-22 15:50:34.220</td>\n",
       "      <td>NaN</td>\n",
       "      <td>None</td>\n",
       "    </tr>\n",
       "    <tr>\n",
       "      <th>15</th>\n",
       "      <td>61391327</td>\n",
       "      <td>NaN</td>\n",
       "      <td>Why input never ends</td>\n",
       "      <td>I have python 3.7 installed and I have this co...</td>\n",
       "      <td>[python, python-3.x, input]</td>\n",
       "      <td>104</td>\n",
       "      <td>1</td>\n",
       "      <td>6</td>\n",
       "      <td>3</td>\n",
       "      <td>2020-04-23 15:43:03.497</td>\n",
       "      <td>NaN</td>\n",
       "      <td>None</td>\n",
       "    </tr>\n",
       "    <tr>\n",
       "      <th>27</th>\n",
       "      <td>28852710</td>\n",
       "      <td>NaN</td>\n",
       "      <td>Crashes with piecewise linear objective for gu...</td>\n",
       "      <td>We have a complex optimization problem which i...</td>\n",
       "      <td>[python, crash, gurobi, piecewise]</td>\n",
       "      <td>403</td>\n",
       "      <td>1</td>\n",
       "      <td>1</td>\n",
       "      <td>3</td>\n",
       "      <td>2015-03-04 10:58:16.370</td>\n",
       "      <td>NaN</td>\n",
       "      <td>None</td>\n",
       "    </tr>\n",
       "    <tr>\n",
       "      <th>29</th>\n",
       "      <td>24043029</td>\n",
       "      <td>NaN</td>\n",
       "      <td>Python TypeError: plotdatehist() got an unexpe...</td>\n",
       "      <td>apologies beforehand if this is a stupid quest...</td>\n",
       "      <td>[python, typeerror]</td>\n",
       "      <td>419</td>\n",
       "      <td>0</td>\n",
       "      <td>7</td>\n",
       "      <td>0</td>\n",
       "      <td>2014-06-04 16:42:32.257</td>\n",
       "      <td>NaN</td>\n",
       "      <td>None</td>\n",
       "    </tr>\n",
       "    <tr>\n",
       "      <th>...</th>\n",
       "      <td>...</td>\n",
       "      <td>...</td>\n",
       "      <td>...</td>\n",
       "      <td>...</td>\n",
       "      <td>...</td>\n",
       "      <td>...</td>\n",
       "      <td>...</td>\n",
       "      <td>...</td>\n",
       "      <td>...</td>\n",
       "      <td>...</td>\n",
       "      <td>...</td>\n",
       "      <td>...</td>\n",
       "    </tr>\n",
       "    <tr>\n",
       "      <th>2661376</th>\n",
       "      <td>55431749</td>\n",
       "      <td>55431832.0</td>\n",
       "      <td>Handling exception returned by a method</td>\n",
       "      <td>I am calling a method that throws Valuerror ex...</td>\n",
       "      <td>[python-3.x]</td>\n",
       "      <td>26</td>\n",
       "      <td>1</td>\n",
       "      <td>2</td>\n",
       "      <td>1</td>\n",
       "      <td>2019-03-30 13:07:07.893</td>\n",
       "      <td>55431832.0</td>\n",
       "      <td>You need to place call to sanitize method in t...</td>\n",
       "    </tr>\n",
       "    <tr>\n",
       "      <th>2661378</th>\n",
       "      <td>13794532</td>\n",
       "      <td>13794740.0</td>\n",
       "      <td>Python regular expression for Beautiful Soup</td>\n",
       "      <td>I am using Beautiful Soup to pull out specific...</td>\n",
       "      <td>[python, regex, beautifulsoup]</td>\n",
       "      <td>10723</td>\n",
       "      <td>1</td>\n",
       "      <td>3</td>\n",
       "      <td>5</td>\n",
       "      <td>2012-12-10 03:18:14.743</td>\n",
       "      <td>13794740.0</td>\n",
       "      <td>I think I've got it:\\n\\n[CODE]\\n\\nNotice that,...</td>\n",
       "    </tr>\n",
       "    <tr>\n",
       "      <th>2661390</th>\n",
       "      <td>25083943</td>\n",
       "      <td>25084142.0</td>\n",
       "      <td>Search has no attribute teaser</td>\n",
       "      <td>I am trying to access teaser. I tried many dif...</td>\n",
       "      <td>[python, regex, json, python-3.x]</td>\n",
       "      <td>62</td>\n",
       "      <td>1</td>\n",
       "      <td>2</td>\n",
       "      <td>-2</td>\n",
       "      <td>2014-08-01 15:45:26.733</td>\n",
       "      <td>25084142.0</td>\n",
       "      <td>Not exactly sure what you are trying to do but...</td>\n",
       "    </tr>\n",
       "    <tr>\n",
       "      <th>2661401</th>\n",
       "      <td>8221324</td>\n",
       "      <td>8221764.0</td>\n",
       "      <td>Is there a reason the SQLAlchemy ORM tutorial ...</td>\n",
       "      <td>The SQLAlchemy ORM tutorial uses this class:\\n...</td>\n",
       "      <td>[python, sqlalchemy]</td>\n",
       "      <td>834</td>\n",
       "      <td>3</td>\n",
       "      <td>1</td>\n",
       "      <td>4</td>\n",
       "      <td>2011-11-22 02:42:24.157</td>\n",
       "      <td>8221764.0</td>\n",
       "      <td>Bear in mind that eval is not used too much; c...</td>\n",
       "    </tr>\n",
       "    <tr>\n",
       "      <th>2661415</th>\n",
       "      <td>57679429</td>\n",
       "      <td>57679695.0</td>\n",
       "      <td>How can I turn a list of column names into a p...</td>\n",
       "      <td>I have a list of pandas column names (consisti...</td>\n",
       "      <td>[python, string, list, patsy]</td>\n",
       "      <td>106</td>\n",
       "      <td>1</td>\n",
       "      <td>0</td>\n",
       "      <td>0</td>\n",
       "      <td>2019-08-27 17:11:24.390</td>\n",
       "      <td>57679695.0</td>\n",
       "      <td>[CODE]\\n\\n[CODE]\\n</td>\n",
       "    </tr>\n",
       "  </tbody>\n",
       "</table>\n",
       "<p>219841 rows × 12 columns</p>\n",
       "</div>"
      ],
      "text/plain": [
       "               Id  AcceptedAnswerId  \\\n",
       "1        15020895               NaN   \n",
       "9        68487902               NaN   \n",
       "15       61391327               NaN   \n",
       "27       28852710               NaN   \n",
       "29       24043029               NaN   \n",
       "...           ...               ...   \n",
       "2661376  55431749        55431832.0   \n",
       "2661378  13794532        13794740.0   \n",
       "2661390  25083943        25084142.0   \n",
       "2661401   8221324         8221764.0   \n",
       "2661415  57679429        57679695.0   \n",
       "\n",
       "                                                     Title  \\\n",
       "1                 Python int-byte efficient data structure   \n",
       "9        Why does the Variance of Laplace very differen...   \n",
       "15                                    Why input never ends   \n",
       "27       Crashes with piecewise linear objective for gu...   \n",
       "29       Python TypeError: plotdatehist() got an unexpe...   \n",
       "...                                                    ...   \n",
       "2661376            Handling exception returned by a method   \n",
       "2661378       Python regular expression for Beautiful Soup   \n",
       "2661390                     Search has no attribute teaser   \n",
       "2661401  Is there a reason the SQLAlchemy ORM tutorial ...   \n",
       "2661415  How can I turn a list of column names into a p...   \n",
       "\n",
       "                                              QuestionBody  \\\n",
       "1        i am currently storing key-values of type int-...   \n",
       "9        TL;DR: How can I use skimage.filters.laplace(i...   \n",
       "15       I have python 3.7 installed and I have this co...   \n",
       "27       We have a complex optimization problem which i...   \n",
       "29       apologies beforehand if this is a stupid quest...   \n",
       "...                                                    ...   \n",
       "2661376  I am calling a method that throws Valuerror ex...   \n",
       "2661378  I am using Beautiful Soup to pull out specific...   \n",
       "2661390  I am trying to access teaser. I tried many dif...   \n",
       "2661401  The SQLAlchemy ORM tutorial uses this class:\\n...   \n",
       "2661415  I have a list of pandas column names (consisti...   \n",
       "\n",
       "                                                      Tags  ViewCount  \\\n",
       "1                                [python, data-structures]        155   \n",
       "9        [python, opencv, image-processing, computer-vi...        391   \n",
       "15                             [python, python-3.x, input]        104   \n",
       "27                      [python, crash, gurobi, piecewise]        403   \n",
       "29                                     [python, typeerror]        419   \n",
       "...                                                    ...        ...   \n",
       "2661376                                       [python-3.x]         26   \n",
       "2661378                     [python, regex, beautifulsoup]      10723   \n",
       "2661390                  [python, regex, json, python-3.x]         62   \n",
       "2661401                               [python, sqlalchemy]        834   \n",
       "2661415                      [python, string, list, patsy]        106   \n",
       "\n",
       "         AnswerCount  CommentCount  Score            CreationDate    AnswerId  \\\n",
       "1                  0             3      1 2013-02-22 09:33:26.360         NaN   \n",
       "9                  0             5      1 2021-07-22 15:50:34.220         NaN   \n",
       "15                 1             6      3 2020-04-23 15:43:03.497         NaN   \n",
       "27                 1             1      3 2015-03-04 10:58:16.370         NaN   \n",
       "29                 0             7      0 2014-06-04 16:42:32.257         NaN   \n",
       "...              ...           ...    ...                     ...         ...   \n",
       "2661376            1             2      1 2019-03-30 13:07:07.893  55431832.0   \n",
       "2661378            1             3      5 2012-12-10 03:18:14.743  13794740.0   \n",
       "2661390            1             2     -2 2014-08-01 15:45:26.733  25084142.0   \n",
       "2661401            3             1      4 2011-11-22 02:42:24.157   8221764.0   \n",
       "2661415            1             0      0 2019-08-27 17:11:24.390  57679695.0   \n",
       "\n",
       "                                        AcceptedAnswerBody  \n",
       "1                                                     None  \n",
       "9                                                     None  \n",
       "15                                                    None  \n",
       "27                                                    None  \n",
       "29                                                    None  \n",
       "...                                                    ...  \n",
       "2661376  You need to place call to sanitize method in t...  \n",
       "2661378  I think I've got it:\\n\\n[CODE]\\n\\nNotice that,...  \n",
       "2661390  Not exactly sure what you are trying to do but...  \n",
       "2661401  Bear in mind that eval is not used too much; c...  \n",
       "2661415                                 [CODE]\\n\\n[CODE]\\n  \n",
       "\n",
       "[219841 rows x 12 columns]"
      ]
     },
     "execution_count": 4,
     "metadata": {},
     "output_type": "execute_result"
    }
   ],
   "source": [
    "df_posts = pd.read_parquet(path_posts)\n",
    "df_posts"
   ]
  },
  {
   "cell_type": "code",
   "execution_count": null,
   "id": "bd200fc0-da3e-4a72-8fd2-2004d540691a",
   "metadata": {},
   "outputs": [],
   "source": []
  },
  {
   "cell_type": "code",
   "execution_count": null,
   "id": "d557f519-6249-4a00-ba28-0948db54405a",
   "metadata": {},
   "outputs": [],
   "source": []
  },
  {
   "cell_type": "code",
   "execution_count": 5,
   "id": "72242ee8-cc09-4ddd-ab0d-89f7ea0d1b78",
   "metadata": {},
   "outputs": [
    {
     "data": {
      "text/html": [
       "<div>\n",
       "<style scoped>\n",
       "    .dataframe tbody tr th:only-of-type {\n",
       "        vertical-align: middle;\n",
       "    }\n",
       "\n",
       "    .dataframe tbody tr th {\n",
       "        vertical-align: top;\n",
       "    }\n",
       "\n",
       "    .dataframe thead th {\n",
       "        text-align: right;\n",
       "    }\n",
       "</style>\n",
       "<table border=\"1\" class=\"dataframe\">\n",
       "  <thead>\n",
       "    <tr style=\"text-align: right;\">\n",
       "      <th></th>\n",
       "      <th>PostId</th>\n",
       "      <th>PostTitle</th>\n",
       "      <th>RelatedPostIds</th>\n",
       "      <th>RelatedPostTitles</th>\n",
       "      <th>num_candidates</th>\n",
       "    </tr>\n",
       "  </thead>\n",
       "  <tbody>\n",
       "    <tr>\n",
       "      <th>1</th>\n",
       "      <td>3494593</td>\n",
       "      <td>Shading a kernel density plot between two points.</td>\n",
       "      <td>[3494593, 14863744, 14094644, 16504452, 488531...</td>\n",
       "      <td>[Shading a kernel density plot between two poi...</td>\n",
       "      <td>16</td>\n",
       "    </tr>\n",
       "    <tr>\n",
       "      <th>2</th>\n",
       "      <td>37949409</td>\n",
       "      <td>Dictionary in a numpy array?</td>\n",
       "      <td>[37949409, 47689224, 61517741]</td>\n",
       "      <td>[Dictionary in a numpy array?, How to access t...</td>\n",
       "      <td>3</td>\n",
       "    </tr>\n",
       "    <tr>\n",
       "      <th>8</th>\n",
       "      <td>19876079</td>\n",
       "      <td>Cannot find module cv2 when using OpenCV</td>\n",
       "      <td>[19876079, 62443365, 64580641, 45606137, 60294...</td>\n",
       "      <td>[Cannot find module cv2 when using OpenCV, How...</td>\n",
       "      <td>7</td>\n",
       "    </tr>\n",
       "    <tr>\n",
       "      <th>12</th>\n",
       "      <td>35082143</td>\n",
       "      <td>Error: package or namespace load failed for ‘car’</td>\n",
       "      <td>[35082143, 65941744, 68515009, 56409535]</td>\n",
       "      <td>[Error: package or namespace load failed for ‘...</td>\n",
       "      <td>4</td>\n",
       "    </tr>\n",
       "    <tr>\n",
       "      <th>14</th>\n",
       "      <td>2673651</td>\n",
       "      <td>inheritance from str or int</td>\n",
       "      <td>[2673651, 48465797, 3120562, 15085917, 3238350...</td>\n",
       "      <td>[inheritance from str or int, Inherited class ...</td>\n",
       "      <td>15</td>\n",
       "    </tr>\n",
       "    <tr>\n",
       "      <th>...</th>\n",
       "      <td>...</td>\n",
       "      <td>...</td>\n",
       "      <td>...</td>\n",
       "      <td>...</td>\n",
       "      <td>...</td>\n",
       "    </tr>\n",
       "    <tr>\n",
       "      <th>33231</th>\n",
       "      <td>28419763</td>\n",
       "      <td>Expand Text widget to fill the entire parent F...</td>\n",
       "      <td>[28419763, 48171462]</td>\n",
       "      <td>[Expand Text widget to fill the entire parent ...</td>\n",
       "      <td>2</td>\n",
       "    </tr>\n",
       "    <tr>\n",
       "      <th>33234</th>\n",
       "      <td>40332743</td>\n",
       "      <td>Source code for str.split?</td>\n",
       "      <td>[40332743, 51355719]</td>\n",
       "      <td>[Source code for str.split?, where can I find ...</td>\n",
       "      <td>2</td>\n",
       "    </tr>\n",
       "    <tr>\n",
       "      <th>33241</th>\n",
       "      <td>27443414</td>\n",
       "      <td>Cannot perform a backup or restore operation w...</td>\n",
       "      <td>[27443414, 53216877]</td>\n",
       "      <td>[Cannot perform a backup or restore operation ...</td>\n",
       "      <td>2</td>\n",
       "    </tr>\n",
       "    <tr>\n",
       "      <th>33243</th>\n",
       "      <td>48536681</td>\n",
       "      <td>What is the exact meaning of stride's list in ...</td>\n",
       "      <td>[48536681, 47305022]</td>\n",
       "      <td>[What is the exact meaning of stride's list in...</td>\n",
       "      <td>2</td>\n",
       "    </tr>\n",
       "    <tr>\n",
       "      <th>33244</th>\n",
       "      <td>37814201</td>\n",
       "      <td>pandas time shift from utc to local</td>\n",
       "      <td>[37814201, 52390647]</td>\n",
       "      <td>[pandas time shift from utc to local, Convert ...</td>\n",
       "      <td>2</td>\n",
       "    </tr>\n",
       "  </tbody>\n",
       "</table>\n",
       "<p>6114 rows × 5 columns</p>\n",
       "</div>"
      ],
      "text/plain": [
       "         PostId                                          PostTitle  \\\n",
       "1       3494593  Shading a kernel density plot between two points.   \n",
       "2      37949409                       Dictionary in a numpy array?   \n",
       "8      19876079           Cannot find module cv2 when using OpenCV   \n",
       "12     35082143  Error: package or namespace load failed for ‘car’   \n",
       "14      2673651                        inheritance from str or int   \n",
       "...         ...                                                ...   \n",
       "33231  28419763  Expand Text widget to fill the entire parent F...   \n",
       "33234  40332743                         Source code for str.split?   \n",
       "33241  27443414  Cannot perform a backup or restore operation w...   \n",
       "33243  48536681  What is the exact meaning of stride's list in ...   \n",
       "33244  37814201                pandas time shift from utc to local   \n",
       "\n",
       "                                          RelatedPostIds  \\\n",
       "1      [3494593, 14863744, 14094644, 16504452, 488531...   \n",
       "2                         [37949409, 47689224, 61517741]   \n",
       "8      [19876079, 62443365, 64580641, 45606137, 60294...   \n",
       "12              [35082143, 65941744, 68515009, 56409535]   \n",
       "14     [2673651, 48465797, 3120562, 15085917, 3238350...   \n",
       "...                                                  ...   \n",
       "33231                               [28419763, 48171462]   \n",
       "33234                               [40332743, 51355719]   \n",
       "33241                               [27443414, 53216877]   \n",
       "33243                               [48536681, 47305022]   \n",
       "33244                               [37814201, 52390647]   \n",
       "\n",
       "                                       RelatedPostTitles  num_candidates  \n",
       "1      [Shading a kernel density plot between two poi...              16  \n",
       "2      [Dictionary in a numpy array?, How to access t...               3  \n",
       "8      [Cannot find module cv2 when using OpenCV, How...               7  \n",
       "12     [Error: package or namespace load failed for ‘...               4  \n",
       "14     [inheritance from str or int, Inherited class ...              15  \n",
       "...                                                  ...             ...  \n",
       "33231  [Expand Text widget to fill the entire parent ...               2  \n",
       "33234  [Source code for str.split?, where can I find ...               2  \n",
       "33241  [Cannot perform a backup or restore operation ...               2  \n",
       "33243  [What is the exact meaning of stride's list in...               2  \n",
       "33244  [pandas time shift from utc to local, Convert ...               2  \n",
       "\n",
       "[6114 rows x 5 columns]"
      ]
     },
     "execution_count": 5,
     "metadata": {},
     "output_type": "execute_result"
    }
   ],
   "source": [
    "df_posts = pd.read_parquet(path_posts_related)\n",
    "df_posts"
   ]
  },
  {
   "cell_type": "code",
   "execution_count": 8,
   "id": "ba0dc292-3101-457f-b80c-5ce061118c09",
   "metadata": {},
   "outputs": [
    {
     "data": {
      "application/json": {
       "PostId": 3494593,
       "PostTitle": "Shading a kernel density plot between two points.",
       "RelatedPostIds": [
        3494593,
        14863744,
        14094644,
        16504452,
        48853178,
        36948624,
        47308146,
        34029811,
        31215748,
        29499914,
        41484896,
        7787114,
        27189453,
        23680729,
        36224394,
        18742693
       ],
       "RelatedPostTitles": [
        "Shading a kernel density plot between two points.",
        "adding percentile lines to a density plot",
        "draw the following shaded area in R",
        "color a portion of the normal distribution",
        "How can I shade the area under a curve?",
        "Shade area under a curve",
        "Shading a region under a PDF",
        "Fill different colors for each quantile in geom_density() of ggplot",
        "How to shade part of a density curve in ggplot (with no y axis data)",
        "r density plot - fill area under curve",
        "Fill negative value area below geom_line",
        "polygon in density plot?",
        "Shade (fill or color) area under density curve by quantile",
        "Partially fill density plot for area of interest",
        "Shade density plot to the left of vline?",
        "Shade an area in a R plot"
       ],
       "num_candidates": 16
      },
      "text/plain": [
       "<IPython.core.display.JSON object>"
      ]
     },
     "execution_count": 8,
     "metadata": {
      "application/json": {
       "expanded": false,
       "root": "root"
      }
     },
     "output_type": "execute_result"
    }
   ],
   "source": [
    "JSON ( df_posts.iloc[0].to_dict() )"
   ]
  },
  {
   "cell_type": "code",
   "execution_count": null,
   "id": "9fb7ab6f-08fa-4099-939d-edcb7beca230",
   "metadata": {},
   "outputs": [],
   "source": []
  },
  {
   "cell_type": "code",
   "execution_count": null,
   "id": "473e7e29-7a27-4030-aad3-c60c89dc19bd",
   "metadata": {},
   "outputs": [],
   "source": []
  },
  {
   "cell_type": "code",
   "execution_count": null,
   "id": "ce7fc618-3b9c-450e-a89f-576d47fba15e",
   "metadata": {},
   "outputs": [],
   "source": []
  },
  {
   "cell_type": "code",
   "execution_count": null,
   "id": "30a57006-3696-4a2d-82ca-726ee7c5b6b3",
   "metadata": {},
   "outputs": [],
   "source": []
  },
  {
   "cell_type": "markdown",
   "id": "29ebbeec-f1de-4d07-b603-917e5aa3928b",
   "metadata": {},
   "source": [
    "## Metrics"
   ]
  },
  {
   "cell_type": "code",
   "execution_count": 4,
   "id": "3c824225-1fe7-488a-a291-f8ade3f82a82",
   "metadata": {},
   "outputs": [
    {
     "data": {
      "text/plain": [
       "\u001b[0;31mType:\u001b[0m        module\n",
       "\u001b[0;31mString form:\u001b[0m <module 'metrics_utils' from '/home/jupyter/projects/search-engine-workshop/notebooks/metrics_utils.py'>\n",
       "\u001b[0;31mFile:\u001b[0m        ~/projects/search-engine-workshop/notebooks/metrics_utils.py\n",
       "\u001b[0;31mSource:\u001b[0m     \n",
       "\u001b[0;32mimport\u001b[0m \u001b[0mnumpy\u001b[0m \u001b[0;32mas\u001b[0m \u001b[0mnp\u001b[0m\u001b[0;34m\u001b[0m\n",
       "\u001b[0;34m\u001b[0m\u001b[0;34m\u001b[0m\n",
       "\u001b[0;34m\u001b[0m\u001b[0;32mdef\u001b[0m \u001b[0mprecision_at_k\u001b[0m\u001b[0;34m(\u001b[0m\u001b[0mr\u001b[0m\u001b[0;34m,\u001b[0m \u001b[0mk\u001b[0m\u001b[0;34m)\u001b[0m\u001b[0;34m:\u001b[0m\u001b[0;34m\u001b[0m\n",
       "\u001b[0;34m\u001b[0m    \u001b[0;34m\u001b[0m\n",
       "\u001b[0;34m\u001b[0m    \u001b[0mr\u001b[0m \u001b[0;34m=\u001b[0m \u001b[0mr\u001b[0m\u001b[0;34m[\u001b[0m\u001b[0;34m:\u001b[0m\u001b[0mk\u001b[0m\u001b[0;34m]\u001b[0m\u001b[0;34m\u001b[0m\n",
       "\u001b[0;34m\u001b[0m    \u001b[0;34m\u001b[0m\n",
       "\u001b[0;34m\u001b[0m    \u001b[0;32mreturn\u001b[0m \u001b[0msum\u001b[0m\u001b[0;34m(\u001b[0m\u001b[0mr\u001b[0m\u001b[0;34m)\u001b[0m \u001b[0;34m/\u001b[0m \u001b[0mk\u001b[0m \u001b[0;34m\u001b[0m\n",
       "\u001b[0;34m\u001b[0m    \u001b[0;34m\u001b[0m\n",
       "\u001b[0;34m\u001b[0m\u001b[0;34m\u001b[0m\n",
       "\u001b[0;34m\u001b[0m\u001b[0;32mdef\u001b[0m \u001b[0mmean_reciprocal_rank\u001b[0m\u001b[0;34m(\u001b[0m\u001b[0mr\u001b[0m\u001b[0;34m)\u001b[0m\u001b[0;34m:\u001b[0m\u001b[0;34m\u001b[0m\n",
       "\u001b[0;34m\u001b[0m    \u001b[0mmrr\u001b[0m \u001b[0;34m=\u001b[0m \u001b[0;36m0\u001b[0m\u001b[0;34m\u001b[0m\n",
       "\u001b[0;34m\u001b[0m    \u001b[0;34m\u001b[0m\n",
       "\u001b[0;34m\u001b[0m    \u001b[0;32mtry\u001b[0m\u001b[0;34m:\u001b[0m\u001b[0;34m\u001b[0m\n",
       "\u001b[0;34m\u001b[0m        \u001b[0mfirst_index\u001b[0m \u001b[0;34m=\u001b[0m \u001b[0mr\u001b[0m\u001b[0;34m.\u001b[0m\u001b[0mindex\u001b[0m\u001b[0;34m(\u001b[0m\u001b[0;32mTrue\u001b[0m\u001b[0;34m)\u001b[0m\u001b[0;34m\u001b[0m\n",
       "\u001b[0;34m\u001b[0m        \u001b[0mmrr\u001b[0m \u001b[0;34m=\u001b[0m \u001b[0;36m1\u001b[0m \u001b[0;34m/\u001b[0m  \u001b[0;34m(\u001b[0m\u001b[0mfirst_index\u001b[0m \u001b[0;34m+\u001b[0m \u001b[0;36m1\u001b[0m\u001b[0;34m)\u001b[0m\u001b[0;34m\u001b[0m\n",
       "\u001b[0;34m\u001b[0m    \u001b[0;32mexcept\u001b[0m\u001b[0;34m:\u001b[0m\u001b[0;34m\u001b[0m\n",
       "\u001b[0;34m\u001b[0m        \u001b[0;32mpass\u001b[0m\u001b[0;34m\u001b[0m\n",
       "\u001b[0;34m\u001b[0m    \u001b[0;34m\u001b[0m\n",
       "\u001b[0;34m\u001b[0m    \u001b[0;32mreturn\u001b[0m \u001b[0mmrr\u001b[0m\u001b[0;34m\u001b[0m\n",
       "\u001b[0;34m\u001b[0m\u001b[0;34m\u001b[0m\n",
       "\u001b[0;34m\u001b[0m\u001b[0;32mdef\u001b[0m \u001b[0maverage_precision\u001b[0m\u001b[0;34m(\u001b[0m\u001b[0mr\u001b[0m\u001b[0;34m)\u001b[0m\u001b[0;34m:\u001b[0m\u001b[0;34m\u001b[0m\n",
       "\u001b[0;34m\u001b[0m\u001b[0;34m\u001b[0m\n",
       "\u001b[0;34m\u001b[0m    \u001b[0mout\u001b[0m \u001b[0;34m=\u001b[0m \u001b[0;34m[\u001b[0m\u001b[0;34m]\u001b[0m\u001b[0;34m\u001b[0m\n",
       "\u001b[0;34m\u001b[0m    \u001b[0;34m\u001b[0m\n",
       "\u001b[0;34m\u001b[0m    \u001b[0;32mfor\u001b[0m \u001b[0midx\u001b[0m \u001b[0;32min\u001b[0m \u001b[0mrange\u001b[0m\u001b[0;34m(\u001b[0m\u001b[0mlen\u001b[0m\u001b[0;34m(\u001b[0m\u001b[0mr\u001b[0m\u001b[0;34m)\u001b[0m\u001b[0;34m)\u001b[0m\u001b[0;34m:\u001b[0m\u001b[0;34m\u001b[0m\n",
       "\u001b[0;34m\u001b[0m        \u001b[0;34m\u001b[0m\n",
       "\u001b[0;34m\u001b[0m        \u001b[0;32mif\u001b[0m \u001b[0mr\u001b[0m\u001b[0;34m[\u001b[0m\u001b[0midx\u001b[0m\u001b[0;34m]\u001b[0m\u001b[0;34m:\u001b[0m\u001b[0;34m\u001b[0m\n",
       "\u001b[0;34m\u001b[0m            \u001b[0mout\u001b[0m\u001b[0;34m.\u001b[0m\u001b[0mappend\u001b[0m \u001b[0;34m(\u001b[0m\u001b[0mprecision_at_k\u001b[0m\u001b[0;34m(\u001b[0m\u001b[0mr\u001b[0m\u001b[0;34m,\u001b[0m \u001b[0midx\u001b[0m \u001b[0;34m+\u001b[0m \u001b[0;36m1\u001b[0m\u001b[0;34m)\u001b[0m \u001b[0;34m)\u001b[0m\u001b[0;34m\u001b[0m\n",
       "\u001b[0;34m\u001b[0m    \u001b[0;34m\u001b[0m\n",
       "\u001b[0;34m\u001b[0m    \u001b[0map\u001b[0m \u001b[0;34m=\u001b[0m \u001b[0;36m0\u001b[0m\u001b[0;34m\u001b[0m\n",
       "\u001b[0;34m\u001b[0m    \u001b[0;34m\u001b[0m\n",
       "\u001b[0;34m\u001b[0m    \u001b[0;32mif\u001b[0m \u001b[0mout\u001b[0m\u001b[0;34m:\u001b[0m\u001b[0;34m\u001b[0m\n",
       "\u001b[0;34m\u001b[0m        \u001b[0map\u001b[0m \u001b[0;34m=\u001b[0m \u001b[0msum\u001b[0m\u001b[0;34m(\u001b[0m\u001b[0mout\u001b[0m\u001b[0;34m)\u001b[0m \u001b[0;34m/\u001b[0m \u001b[0mlen\u001b[0m\u001b[0;34m(\u001b[0m\u001b[0mout\u001b[0m\u001b[0;34m)\u001b[0m\u001b[0;34m\u001b[0m\n",
       "\u001b[0;34m\u001b[0m    \u001b[0;34m\u001b[0m\n",
       "\u001b[0;34m\u001b[0m    \u001b[0;32mreturn\u001b[0m \u001b[0map\u001b[0m\u001b[0;34m\u001b[0m\n",
       "\u001b[0;34m\u001b[0m                           \u001b[0;34m\u001b[0m\n",
       "\u001b[0;34m\u001b[0m\u001b[0;34m\u001b[0m\n",
       "\u001b[0;34m\u001b[0m\u001b[0;32mdef\u001b[0m \u001b[0mall_metrics\u001b[0m\u001b[0;34m(\u001b[0m\u001b[0mresult\u001b[0m\u001b[0;34m)\u001b[0m\u001b[0;34m:\u001b[0m\u001b[0;34m\u001b[0m\n",
       "\u001b[0;34m\u001b[0m    \u001b[0;34m\u001b[0m\n",
       "\u001b[0;34m\u001b[0m    \u001b[0mresult\u001b[0m \u001b[0;34m=\u001b[0m \u001b[0mlist\u001b[0m\u001b[0;34m(\u001b[0m\u001b[0mresult\u001b[0m\u001b[0;34m)\u001b[0m \u001b[0;34m\u001b[0m\n",
       "\u001b[0;34m\u001b[0m\u001b[0;34m\u001b[0m\n",
       "\u001b[0;34m\u001b[0m    \u001b[0mres\u001b[0m\u001b[0;34m=\u001b[0m  \u001b[0;34m{\u001b[0m\u001b[0;34m\u001b[0m\n",
       "\u001b[0;34m\u001b[0m     \u001b[0;34m\"p@1\"\u001b[0m \u001b[0;34m:\u001b[0m  \u001b[0mprecision_at_k\u001b[0m\u001b[0;34m(\u001b[0m\u001b[0mresult\u001b[0m\u001b[0;34m,\u001b[0m \u001b[0;36m1\u001b[0m\u001b[0;34m)\u001b[0m\u001b[0;34m\u001b[0m\n",
       "\u001b[0;34m\u001b[0m    \u001b[0;34m,\u001b[0m \u001b[0;34m\"p@5\"\u001b[0m \u001b[0;34m:\u001b[0m  \u001b[0mprecision_at_k\u001b[0m\u001b[0;34m(\u001b[0m\u001b[0mresult\u001b[0m\u001b[0;34m,\u001b[0m \u001b[0;36m5\u001b[0m\u001b[0;34m)\u001b[0m\u001b[0;34m\u001b[0m\n",
       "\u001b[0;34m\u001b[0m    \u001b[0;34m,\u001b[0m \u001b[0;34m\"p@10\"\u001b[0m \u001b[0;34m:\u001b[0m  \u001b[0mprecision_at_k\u001b[0m\u001b[0;34m(\u001b[0m\u001b[0mresult\u001b[0m\u001b[0;34m,\u001b[0m \u001b[0;36m10\u001b[0m\u001b[0;34m)\u001b[0m\u001b[0;34m\u001b[0m\n",
       "\u001b[0;34m\u001b[0m    \u001b[0;34m,\u001b[0m  \u001b[0;34m\"mrr\"\u001b[0m \u001b[0;34m:\u001b[0m  \u001b[0mmean_reciprocal_rank\u001b[0m\u001b[0;34m(\u001b[0m\u001b[0mresult\u001b[0m\u001b[0;34m)\u001b[0m\u001b[0;34m\u001b[0m\n",
       "\u001b[0;34m\u001b[0m    \u001b[0;34m,\u001b[0m  \u001b[0;34m\"map\"\u001b[0m \u001b[0;34m:\u001b[0m \u001b[0maverage_precision\u001b[0m\u001b[0;34m(\u001b[0m\u001b[0mresult\u001b[0m\u001b[0;34m)\u001b[0m\u001b[0;34m\u001b[0m\n",
       "\u001b[0;34m\u001b[0m        \u001b[0;34m\u001b[0m\n",
       "\u001b[0;34m\u001b[0m        \u001b[0;34m\u001b[0m\n",
       "\u001b[0;34m\u001b[0m    \u001b[0;34m}\u001b[0m\u001b[0;34m\u001b[0m\n",
       "\u001b[0;34m\u001b[0m    \u001b[0;34m\u001b[0m\n",
       "\u001b[0;34m\u001b[0m    \u001b[0;32mreturn\u001b[0m \u001b[0mres\u001b[0m\u001b[0;34m\u001b[0m\u001b[0;34m\u001b[0m\u001b[0m\n"
      ]
     },
     "metadata": {},
     "output_type": "display_data"
    }
   ],
   "source": [
    "??metrics_utils"
   ]
  },
  {
   "cell_type": "code",
   "execution_count": null,
   "id": "9b37a9b9-ab34-4152-88af-22728c8758a9",
   "metadata": {},
   "outputs": [],
   "source": []
  },
  {
   "cell_type": "markdown",
   "id": "90285ffa-4312-4ea8-84a6-595199688140",
   "metadata": {},
   "source": [
    "relevant result at the end"
   ]
  },
  {
   "cell_type": "code",
   "execution_count": 11,
   "id": "356a2b4a-6f3d-42df-bf65-7796bc29c7d9",
   "metadata": {},
   "outputs": [
    {
     "data": {
      "text/plain": [
       "{'p@1': 0.0, 'p@5': 0.2, 'p@10': 0.1, 'mrr': 0.2, 'map': 0.2}"
      ]
     },
     "execution_count": 11,
     "metadata": {},
     "output_type": "execute_result"
    }
   ],
   "source": [
    "metrics_utils.all_metrics([0,0,0,0,1])"
   ]
  },
  {
   "cell_type": "markdown",
   "id": "59f9f574-e506-45e0-9c4c-c65a2b3827eb",
   "metadata": {},
   "source": [
    "relevant result at the beginning"
   ]
  },
  {
   "cell_type": "code",
   "execution_count": 12,
   "id": "8252bfbc-7184-437b-91e6-b60d166a9742",
   "metadata": {},
   "outputs": [
    {
     "data": {
      "text/plain": [
       "{'p@1': 1.0, 'p@5': 0.2, 'p@10': 0.1, 'mrr': 1.0, 'map': 1.0}"
      ]
     },
     "execution_count": 12,
     "metadata": {},
     "output_type": "execute_result"
    }
   ],
   "source": [
    "metrics_utils.all_metrics([1,0,0,0,0])"
   ]
  },
  {
   "cell_type": "code",
   "execution_count": 13,
   "id": "196acac3-a263-4307-8ef9-075e7492870c",
   "metadata": {},
   "outputs": [
    {
     "data": {
      "text/plain": [
       "0.2"
      ]
     },
     "execution_count": 13,
     "metadata": {},
     "output_type": "execute_result"
    }
   ],
   "source": []
  },
  {
   "cell_type": "markdown",
   "id": "e3b1413a-81a2-4a7d-9a46-ac6c9938b17e",
   "metadata": {},
   "source": [
    "map captures that the relevant results are shown at the beginning"
   ]
  },
  {
   "cell_type": "code",
   "execution_count": 14,
   "id": "ad52c3ad-952a-4340-87bd-d20369cb420d",
   "metadata": {},
   "outputs": [
    {
     "data": {
      "text/plain": [
       "{'p@1': 0.0,\n",
       " 'p@5': 0.4,\n",
       " 'p@10': 0.2,\n",
       " 'mrr': 0.3333333333333333,\n",
       " 'map': 0.41666666666666663}"
      ]
     },
     "execution_count": 14,
     "metadata": {},
     "output_type": "execute_result"
    }
   ],
   "source": [
    "metrics_utils.all_metrics([0,0,1,1,0])"
   ]
  },
  {
   "cell_type": "code",
   "execution_count": 15,
   "id": "8f61fc8e-7292-43dc-8f29-501d7fee8876",
   "metadata": {},
   "outputs": [
    {
     "data": {
      "text/plain": [
       "{'p@1': 1.0, 'p@5': 0.4, 'p@10': 0.2, 'mrr': 1.0, 'map': 1.0}"
      ]
     },
     "execution_count": 15,
     "metadata": {},
     "output_type": "execute_result"
    }
   ],
   "source": [
    "metrics_utils.all_metrics([1,1,0,0,0])"
   ]
  },
  {
   "cell_type": "code",
   "execution_count": null,
   "id": "8505c6aa-d009-4dea-9263-38ca4d9f2c4b",
   "metadata": {},
   "outputs": [],
   "source": []
  }
 ],
 "metadata": {
  "environment": {
   "kernel": "python3",
   "name": "pytorch-gpu.1-12.m99",
   "type": "gcloud",
   "uri": "gcr.io/deeplearning-platform-release/pytorch-gpu.1-12:m99"
  },
  "kernelspec": {
   "display_name": "Python 3",
   "language": "python",
   "name": "python3"
  },
  "language_info": {
   "codemirror_mode": {
    "name": "ipython",
    "version": 3
   },
   "file_extension": ".py",
   "mimetype": "text/x-python",
   "name": "python",
   "nbconvert_exporter": "python",
   "pygments_lexer": "ipython3",
   "version": "3.7.12"
  }
 },
 "nbformat": 4,
 "nbformat_minor": 5
}
