{
 "cells": [
  {
   "cell_type": "code",
   "execution_count": 8,
   "id": "f0104ea2-b74f-4e53-9247-f63cbc650b93",
   "metadata": {},
   "outputs": [],
   "source": [
    "import modin\n",
    "import modin.pandas as pd\n",
    "from haystack.nodes import BM25Retriever\n",
    "from haystack.document_stores import ElasticsearchDocumentStore\n"
   ]
  },
  {
   "cell_type": "code",
   "execution_count": null,
   "id": "a6d517e3-ba14-4eed-b60b-a17804ca591f",
   "metadata": {},
   "outputs": [],
   "source": []
  },
  {
   "cell_type": "code",
   "execution_count": 3,
   "id": "d727d71f-4680-4bb3-9693-c4400e93b3f3",
   "metadata": {},
   "outputs": [],
   "source": [
    "ELASTIC_HOST=\"np-database.c.np-training.internal\"\n",
    "ELASTIC_INDEX=\"stackoverflow\"\n",
    "ELASTIC_PORT=9200"
   ]
  },
  {
   "cell_type": "code",
   "execution_count": null,
   "id": "12517adf-c6d7-423b-ad83-d4174afb4dc3",
   "metadata": {},
   "outputs": [],
   "source": []
  },
  {
   "cell_type": "code",
   "execution_count": null,
   "id": "5f0cffb7-fbd6-4180-a17a-cd5761925c7c",
   "metadata": {},
   "outputs": [],
   "source": []
  },
  {
   "cell_type": "code",
   "execution_count": 33,
   "id": "73998162-e918-43fc-8351-d5826f26fc29",
   "metadata": {},
   "outputs": [],
   "source": [
    "def get_document_store():\n",
    "    \n",
    "    document_store = ElasticsearchDocumentStore(host=ELASTIC_HOST\n",
    "                                            , index=ELASTIC_INDEX, port=ELASTIC_PORT)\n",
    "    \n",
    "    return document_store\n",
    "\n",
    "\n",
    "def fetch_results(query:str, retriever, top_k=10):\n",
    "    candidate_documents = retriever.retrieve(\n",
    "        query=query,\n",
    "        top_k=10,\n",
    "    #filters={\"year\": [\"2015\", \"2016\", \"2017\"]}\n",
    "    )\n",
    "\n",
    "    for doc in candidate_documents:\n",
    "        print ( f\"title: {doc.meta['Title'] }\" )\n",
    "        print ( f\"score: {doc.score:.4f}; id: {doc.id} \\n\" ) \n",
    "        \n"
   ]
  },
  {
   "cell_type": "code",
   "execution_count": null,
   "id": "51653f52-eb23-47a7-a1bc-f0d34e759dfa",
   "metadata": {},
   "outputs": [],
   "source": []
  },
  {
   "cell_type": "code",
   "execution_count": null,
   "id": "9cf2b146-dc14-45b5-86c5-40efbe8f72d7",
   "metadata": {},
   "outputs": [],
   "source": []
  },
  {
   "cell_type": "code",
   "execution_count": 34,
   "id": "c1c70db1-fd54-43c7-bfa2-0bd5540177cc",
   "metadata": {},
   "outputs": [],
   "source": [
    "document_store = get_document_store()"
   ]
  },
  {
   "cell_type": "code",
   "execution_count": 35,
   "id": "ea34d589-865d-4f37-b19a-c8d27c3a0dc0",
   "metadata": {},
   "outputs": [],
   "source": [
    "retriever = BM25Retriever(document_store)\n"
   ]
  },
  {
   "cell_type": "code",
   "execution_count": 39,
   "id": "7807458d-3a62-4ace-bed0-5e84e57eddb0",
   "metadata": {},
   "outputs": [
    {
     "name": "stdout",
     "output_type": "stream",
     "text": [
      "title: Pandas vectorized operations not working on large dataset\n",
      "score: 0.9098; id: 37911994 \n",
      "\n",
      "title: How to concatenate large dataset into dataframe pandas\n",
      "score: 0.9098; id: 42955576 \n",
      "\n",
      "title: Downloading Large data from bigquery dataset and pandas\n",
      "score: 0.9092; id: 61847949 \n",
      "\n",
      "title: Problem running a Pandas UDF on a large dataset\n",
      "score: 0.9010; id: 59493383 \n",
      "\n",
      "title: Caclulate decile ranking in pandas for a large dataset\n",
      "score: 0.8999; id: 71433066 \n",
      "\n",
      "title: randomizing large dataset\n",
      "score: 0.8989; id: 3558665 \n",
      "\n",
      "title: Update large dataset\n",
      "score: 0.8986; id: 59763604 \n",
      "\n",
      "title: Large dataset visualisation\n",
      "score: 0.8981; id: 24695290 \n",
      "\n",
      "title: Upsample large dataset\n",
      "score: 0.8962; id: 68544998 \n",
      "\n",
      "title: Pandas: How to fill missing values in a large dataset?\n",
      "score: 0.8915; id: 61997179 \n",
      "\n"
     ]
    }
   ],
   "source": [
    "fetch_results(query=\"pandas large dataset\",retriever=retriever)"
   ]
  },
  {
   "cell_type": "code",
   "execution_count": 41,
   "id": "3eff3762-a849-46ab-8611-b4a438fb67d5",
   "metadata": {},
   "outputs": [
    {
     "name": "stdout",
     "output_type": "stream",
     "text": [
      "title: PySpark 2.x: Programmatically adding Maven JAR Coordinates to Spark\n",
      "score: 0.9606; id: 54227744 \n",
      "\n",
      "title: Maven: specify the outputDirectory only for packaging a jar?\n",
      "score: 0.9167; id: 4757426 \n",
      "\n",
      "title: How to specify JVM argument for Maven built executable JAR\n",
      "score: 0.9086; id: 193483 \n",
      "\n",
      "title: Specify Parquet properties pyspark\n",
      "score: 0.9024; id: 38236892 \n",
      "\n",
      "title: Provided Maven Coordinates must be in the form 'groupId:artifactId:version' PySpark and Kafka\n",
      "score: 0.9021; id: 62347237 \n",
      "\n",
      "title: Gradle - how to specify javadoc location jar file for maven dependency?\n",
      "score: 0.9013; id: 18518020 \n",
      "\n",
      "title: Maven release JAR\n",
      "score: 0.9011; id: 2334302 \n",
      "\n",
      "title: Overwrite JAR Maven\n",
      "score: 0.9009; id: 27648227 \n",
      "\n",
      "title: Maven Jar Classifiers\n",
      "score: 0.9008; id: 14628251 \n",
      "\n",
      "title: How to specify --main-class and --module-version in maven-jar-plugin?\n",
      "score: 0.8925; id: 43671410 \n",
      "\n"
     ]
    }
   ],
   "source": [
    "fetch_results(query=\"pyspark specify jar maven coordinates\",retriever=retriever)"
   ]
  },
  {
   "cell_type": "code",
   "execution_count": null,
   "id": "0a266b9a-92b8-4598-a617-3c2c97a7bb06",
   "metadata": {},
   "outputs": [],
   "source": []
  }
 ],
 "metadata": {
  "environment": {
   "kernel": "stackoverflow",
   "name": "pytorch-gpu.1-11.m94",
   "type": "gcloud",
   "uri": "gcr.io/deeplearning-platform-release/pytorch-gpu.1-11:m94"
  },
  "kernelspec": {
   "display_name": "Python (stackoverflow)",
   "language": "python",
   "name": "stackoverflow"
  },
  "language_info": {
   "codemirror_mode": {
    "name": "ipython",
    "version": 3
   },
   "file_extension": ".py",
   "mimetype": "text/x-python",
   "name": "python",
   "nbconvert_exporter": "python",
   "pygments_lexer": "ipython3",
   "version": "3.8.13"
  }
 },
 "nbformat": 4,
 "nbformat_minor": 5
}
