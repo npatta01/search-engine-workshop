{
 "cells": [
  {
   "cell_type": "code",
   "execution_count": 1,
   "id": "09851f8b-1507-4326-9f9b-c06636539d18",
   "metadata": {},
   "outputs": [],
   "source": [
    "import modin"
   ]
  },
  {
   "cell_type": "code",
   "execution_count": 2,
   "id": "094b579e-4e68-4779-9d58-d7e440819a11",
   "metadata": {},
   "outputs": [
    {
     "data": {
      "text/plain": [
       "'0.15.2'"
      ]
     },
     "execution_count": 2,
     "metadata": {},
     "output_type": "execute_result"
    }
   ],
   "source": [
    "modin.__version__"
   ]
  },
  {
   "cell_type": "code",
   "execution_count": 3,
   "id": "ae71008e-fd17-4ddb-bd64-85609a416bdd",
   "metadata": {},
   "outputs": [],
   "source": [
    "import modin.pandas as pd\n",
    "import pandas\n",
    "from modin.distributed.dataframe.pandas import unwrap_partitions, from_partitions\n",
    "import haystack\n",
    "from haystack.document_stores import ElasticsearchDocumentStore\n",
    "from haystack.nodes import BM25Retriever\n",
    "import tqdm\n",
    "import ray\n",
    "from modin.experimental.batch import PandasQueryPipeline\n",
    "import numpy as np\n",
    "import glob\n",
    "import concurrent.futures\n",
    "import multiprocessing\n",
    "import requests"
   ]
  },
  {
   "cell_type": "code",
   "execution_count": null,
   "id": "bbc97fd0-50f2-43dd-b1ce-238fef7d0318",
   "metadata": {},
   "outputs": [],
   "source": []
  },
  {
   "cell_type": "code",
   "execution_count": null,
   "id": "af8f0cb1-032e-45d8-91c7-d9181eb8238b",
   "metadata": {},
   "outputs": [],
   "source": []
  },
  {
   "cell_type": "code",
   "execution_count": 4,
   "id": "c6e9b837-2c38-45fa-9132-0e1188abec5a",
   "metadata": {},
   "outputs": [],
   "source": [
    "#ray.init(log_to_driver=False)"
   ]
  },
  {
   "cell_type": "code",
   "execution_count": 5,
   "id": "77a91672-00a7-472c-81cd-b503e2255d2a",
   "metadata": {},
   "outputs": [
    {
     "name": "stdout",
     "output_type": "stream",
     "text": [
      "Posts.xml     df_raw\t      stackoverflow.com-Posts.7z\n",
      "df_processed  df_raw.parquet  start.sh\n"
     ]
    }
   ],
   "source": [
    "!ls ../data"
   ]
  },
  {
   "cell_type": "code",
   "execution_count": null,
   "id": "e3b9c88b-dde1-496c-8853-70831386f035",
   "metadata": {},
   "outputs": [],
   "source": []
  },
  {
   "cell_type": "code",
   "execution_count": 6,
   "id": "9e87164c-cd93-4984-8412-f6ff398bf822",
   "metadata": {},
   "outputs": [],
   "source": [
    "ELASTIC_HOST=\"np-database.c.np-training.internal\"\n",
    "ELASTIC_HOST=\"localhost\"\n",
    "ELASTIC_INDEX=\"stackoverflow\"\n",
    "ELASTIC_PORT=9200"
   ]
  },
  {
   "cell_type": "code",
   "execution_count": null,
   "id": "0a83ea3a-d8d6-419d-9c0c-e6c2123f605a",
   "metadata": {},
   "outputs": [],
   "source": []
  },
  {
   "cell_type": "code",
   "execution_count": 8,
   "id": "dbbc830d-10c7-452d-ad25-03a3212c8983",
   "metadata": {},
   "outputs": [
    {
     "data": {
      "text/plain": [
       "{'acknowledged': True}"
      ]
     },
     "execution_count": 8,
     "metadata": {},
     "output_type": "execute_result"
    }
   ],
   "source": [
    "requests.put(f\"http://{ELASTIC_HOST}:{ELASTIC_PORT}/_template/index_defaults\", json = \n",
    "    {\n",
    "      \"index_patterns\": \"*\", \n",
    "      \"settings\": {\n",
    "        \"number_of_shards\": 20\n",
    "      }\n",
    "    } \n",
    ").json()\n",
    "\n",
    "\n",
    "\n"
   ]
  },
  {
   "cell_type": "code",
   "execution_count": 18,
   "id": "e7d34ae8-f7aa-4bb6-a33b-d81f825e7a36",
   "metadata": {},
   "outputs": [
    {
     "data": {
      "text/plain": [
       "{'acknowledged': True}"
      ]
     },
     "execution_count": 18,
     "metadata": {},
     "output_type": "execute_result"
    }
   ],
   "source": [
    "requests.delete(f\"http://{ELASTIC_HOST}:{ELASTIC_PORT}/{ELASTIC_INDEX}\").json()"
   ]
  },
  {
   "cell_type": "code",
   "execution_count": 10,
   "id": "df24b51d-4886-4939-97df-4b5e4d1fb0a2",
   "metadata": {},
   "outputs": [],
   "source": [
    "# requests.put(f\"http://{ELASTIC_HOST}:{ELASTIC_PORT}/{ELASTIC_INDEX}\", json = \n",
    "#     {\n",
    "#         \"settings\": {\n",
    "#             \"number_of_shards\": 25,\n",
    "#             \"number_of_replicas\": 2\n",
    "#       }\n",
    "#     } \n",
    "#     ) .json()\n",
    "\n",
    "\n",
    "\n"
   ]
  },
  {
   "cell_type": "code",
   "execution_count": 19,
   "id": "2a7f52ce-389d-4114-a8c2-9a530197f353",
   "metadata": {},
   "outputs": [
    {
     "data": {
      "text/plain": [
       "{'label': {'settings': {'index': {'routing': {'allocation': {'include': {'_tier_preference': 'data_content'}}},\n",
       "    'number_of_shards': '1',\n",
       "    'provided_name': 'label',\n",
       "    'creation_date': '1659433835030',\n",
       "    'number_of_replicas': '1',\n",
       "    'uuid': '6cnzMQhoSbuJys0jMoyqsQ',\n",
       "    'version': {'created': '8030399'}}}}}"
      ]
     },
     "execution_count": 19,
     "metadata": {},
     "output_type": "execute_result"
    }
   ],
   "source": [
    "requests.get(f\"http://{ELASTIC_HOST}:{ELASTIC_PORT}/_all/_settings\").json()"
   ]
  },
  {
   "cell_type": "code",
   "execution_count": null,
   "id": "4c489cc1-aed7-40c6-bdca-60fd37ca3497",
   "metadata": {},
   "outputs": [],
   "source": []
  },
  {
   "cell_type": "code",
   "execution_count": 12,
   "id": "6660acef-e840-4daa-be3c-d727e613921d",
   "metadata": {},
   "outputs": [
    {
     "data": {
      "text/plain": [
       "['../data/df_processed/part-0004.snappy.parquet',\n",
       " '../data/df_processed/part-0011.snappy.parquet',\n",
       " '../data/df_processed/part-0015.snappy.parquet',\n",
       " '../data/df_processed/part-0021.snappy.parquet',\n",
       " '../data/df_processed/part-0024.snappy.parquet',\n",
       " '../data/df_processed/part-0001.snappy.parquet',\n",
       " '../data/df_processed/part-0012.snappy.parquet',\n",
       " '../data/df_processed/part-0010.snappy.parquet',\n",
       " '../data/df_processed/part-0018.snappy.parquet',\n",
       " '../data/df_processed/part-0008.snappy.parquet',\n",
       " '../data/df_processed/part-0028.snappy.parquet',\n",
       " '../data/df_processed/part-0009.snappy.parquet',\n",
       " '../data/df_processed/part-0006.snappy.parquet',\n",
       " '../data/df_processed/part-0022.snappy.parquet',\n",
       " '../data/df_processed/part-0016.snappy.parquet',\n",
       " '../data/df_processed/part-0003.snappy.parquet',\n",
       " '../data/df_processed/part-0013.snappy.parquet',\n",
       " '../data/df_processed/part-0027.snappy.parquet',\n",
       " '../data/df_processed/part-0014.snappy.parquet',\n",
       " '../data/df_processed/part-0025.snappy.parquet',\n",
       " '../data/df_processed/part-0029.snappy.parquet',\n",
       " '../data/df_processed/part-0000.snappy.parquet',\n",
       " '../data/df_processed/part-0007.snappy.parquet',\n",
       " '../data/df_processed/part-0031.snappy.parquet',\n",
       " '../data/df_processed/part-0005.snappy.parquet',\n",
       " '../data/df_processed/part-0017.snappy.parquet',\n",
       " '../data/df_processed/part-0019.snappy.parquet',\n",
       " '../data/df_processed/part-0023.snappy.parquet',\n",
       " '../data/df_processed/part-0002.snappy.parquet',\n",
       " '../data/df_processed/part-0030.snappy.parquet',\n",
       " '../data/df_processed/part-0026.snappy.parquet',\n",
       " '../data/df_processed/part-0020.snappy.parquet']"
      ]
     },
     "execution_count": 12,
     "metadata": {},
     "output_type": "execute_result"
    }
   ],
   "source": [
    "files = glob.glob(\"../data/df_processed/*.parquet\")\n",
    "files"
   ]
  },
  {
   "cell_type": "code",
   "execution_count": null,
   "id": "fa07c569-eb91-4b02-9825-609565cce028",
   "metadata": {},
   "outputs": [],
   "source": [
    "ds = ray.data.read_parquet(\"../data/df_processed\")\n"
   ]
  },
  {
   "cell_type": "code",
   "execution_count": null,
   "id": "624493b9-ce8b-4737-8c82-f333a3c3315c",
   "metadata": {},
   "outputs": [],
   "source": [
    "ds"
   ]
  },
  {
   "cell_type": "code",
   "execution_count": null,
   "id": "21491548-df54-4c00-b13c-9a2aa3a4fde6",
   "metadata": {},
   "outputs": [],
   "source": [
    "ds.take(1)"
   ]
  },
  {
   "cell_type": "code",
   "execution_count": null,
   "id": "47cf260f-644a-494d-8fe5-bb8396bb1392",
   "metadata": {},
   "outputs": [],
   "source": [
    "df = pd.read_parquet(\"../data/df_processed\")"
   ]
  },
  {
   "cell_type": "code",
   "execution_count": null,
   "id": "0a6f160d-6521-445d-9b2d-7ae7d008aaaf",
   "metadata": {},
   "outputs": [],
   "source": [
    "df.head()"
   ]
  },
  {
   "cell_type": "code",
   "execution_count": null,
   "id": "e934beef-9c7c-4420-ab69-61afbe717c14",
   "metadata": {},
   "outputs": [],
   "source": [
    "#df.shape"
   ]
  },
  {
   "cell_type": "code",
   "execution_count": null,
   "id": "c84662c2-8a1f-4622-bb68-d8f4c28bfc10",
   "metadata": {},
   "outputs": [],
   "source": [
    "#df.head(5)"
   ]
  },
  {
   "cell_type": "code",
   "execution_count": 16,
   "id": "88deb758-c958-4eff-836a-1b5e83cc9a74",
   "metadata": {},
   "outputs": [],
   "source": [
    "def convert_to_document_dict(row):\n",
    "    d = row.to_dict()\n",
    "    #d['content']=d['Title'] + \"\\n\" + d['Body']\n",
    "    \n",
    "    d['content']=d['Title']\n",
    "    d['id']= d['Id']\n",
    "    d['Tags'] = d['Tags'].split(\",\")\n",
    "    del d['Id']\n",
    "    del d['Body']\n",
    "    del d['AnswerBody']\n",
    "    d_doc = haystack.schema.Document.from_dict(d)\n",
    "    \n",
    "    return d_doc\n",
    "\n",
    "\n",
    "def fetch_results(query:str, retriever, top_k=10):\n",
    "    candidate_documents = retriever.retrieve(\n",
    "        query=query,\n",
    "        top_k=10,\n",
    "    #filters={\"year\": [\"2015\", \"2016\", \"2017\"]}\n",
    "    )\n",
    "\n",
    "    for doc in candidate_documents:\n",
    "        print (doc.meta['Title'], doc.score, doc.id )\n",
    "        \n",
    "        \n",
    "def index_df(df, document_store):\n",
    "    docs = df.apply(convert_to_document_dict, axis=1).to_numpy().flatten().tolist()\n",
    "    \n",
    "    document_store.write_documents(docs, batch_size=1_000)\n",
    "    \n",
    "def index_individual_df(df, document_store):\n",
    "    \n",
    "    docs = df.apply(convert_to_document_dict, axis=1)\\\n",
    "            .apply(lambda x: document_store.write_documents ( [doc]))\n",
    "    \n",
    "    \n",
    "    \n",
    "def get_document_store():\n",
    "    \n",
    "    document_store = ElasticsearchDocumentStore(host=ELASTIC_HOST\n",
    "                                            , index=ELASTIC_INDEX, port=ELASTIC_PORT)\n",
    "    \n",
    "    return document_store\n",
    "\n",
    "\n",
    "def transform_batch(df: pd.DataFrame) -> pd.DataFrame:\n",
    "    \n",
    "    document_store = get_document_store()\n",
    "    index_df(df,document_store)\n",
    "    \n",
    "    return df\n",
    "\n",
    "\n",
    "def transform_batch2(df: pd.DataFrame) -> pd.DataFrame:\n",
    "    \n",
    "    document_store = ElasticsearchDocumentStore(host=ELASTIC_HOST\n",
    "                                            , index=ELASTIC_INDEX, port=ELASTIC_PORT)\n",
    "    \n",
    "    \n",
    "    index_df(df,document_store)\n",
    "    \n",
    "    return df\n",
    "\n",
    "\n",
    "\n",
    "def transform_file_batch(path: str) -> pd.DataFrame:\n",
    "    \n",
    "    df = pandas.read_parquet(path)\n",
    "    document_store = get_document_store()\n",
    "    \n",
    "    \n",
    "    index_df(df,document_store)\n",
    "    \n",
    "    return len(df)\n",
    "\n"
   ]
  },
  {
   "cell_type": "code",
   "execution_count": 17,
   "id": "081d948b-72bc-435d-98ec-6907851b02fe",
   "metadata": {},
   "outputs": [],
   "source": [
    "cores = multiprocessing.cpu_count()-2"
   ]
  },
  {
   "cell_type": "code",
   "execution_count": 20,
   "id": "62b622c9-aeb1-46a3-be9d-d63e6d3291de",
   "metadata": {},
   "outputs": [
    {
     "name": "stderr",
     "output_type": "stream",
     "text": [
      "WARNING:elasticsearch:PUT http://np-database.c.np-training.internal:9200/stackoverflow [status:400 request:0.019s]\n",
      "WARNING:elasticsearch:PUT http://np-database.c.np-training.internal:9200/stackoverflow [status:400 request:0.004s]\n"
     ]
    },
    {
     "name": "stdout",
     "output_type": "stream",
     "text": [
      "path:../data/df_processed/part-0004.snappy.parquet; records:362133\n",
      "path:../data/df_processed/part-0011.snappy.parquet; records:362133\n",
      "path:../data/df_processed/part-0015.snappy.parquet; records:362133\n",
      "path:../data/df_processed/part-0021.snappy.parquet; records:362133\n",
      "path:../data/df_processed/part-0024.snappy.parquet; records:362133\n",
      "path:../data/df_processed/part-0001.snappy.parquet; records:362133\n",
      "path:../data/df_processed/part-0012.snappy.parquet; records:362133\n",
      "path:../data/df_processed/part-0010.snappy.parquet; records:362133\n",
      "path:../data/df_processed/part-0018.snappy.parquet; records:362133\n",
      "path:../data/df_processed/part-0008.snappy.parquet; records:362133\n",
      "path:../data/df_processed/part-0028.snappy.parquet; records:362133\n",
      "path:../data/df_processed/part-0009.snappy.parquet; records:362133\n",
      "path:../data/df_processed/part-0006.snappy.parquet; records:362133\n",
      "path:../data/df_processed/part-0022.snappy.parquet; records:362133\n",
      "path:../data/df_processed/part-0016.snappy.parquet; records:362133\n",
      "path:../data/df_processed/part-0003.snappy.parquet; records:362133\n",
      "path:../data/df_processed/part-0013.snappy.parquet; records:362133\n",
      "path:../data/df_processed/part-0027.snappy.parquet; records:362133\n",
      "path:../data/df_processed/part-0014.snappy.parquet; records:362133\n",
      "path:../data/df_processed/part-0025.snappy.parquet; records:362133\n",
      "path:../data/df_processed/part-0029.snappy.parquet; records:362133\n",
      "path:../data/df_processed/part-0000.snappy.parquet; records:362133\n",
      "path:../data/df_processed/part-0007.snappy.parquet; records:362133\n",
      "path:../data/df_processed/part-0031.snappy.parquet; records:362102\n",
      "path:../data/df_processed/part-0005.snappy.parquet; records:362133\n",
      "path:../data/df_processed/part-0017.snappy.parquet; records:362133\n",
      "path:../data/df_processed/part-0019.snappy.parquet; records:362133\n",
      "path:../data/df_processed/part-0023.snappy.parquet; records:362133\n",
      "path:../data/df_processed/part-0002.snappy.parquet; records:362133\n",
      "path:../data/df_processed/part-0030.snappy.parquet; records:362133\n",
      "path:../data/df_processed/part-0026.snappy.parquet; records:362133\n",
      "path:../data/df_processed/part-0020.snappy.parquet; records:362133\n"
     ]
    }
   ],
   "source": [
    "# max_workers=10\n",
    "with concurrent.futures.ProcessPoolExecutor(max_workers = cores) as executor:\n",
    "    for file_path, num_records in zip(files, executor.map(transform_file_batch, files)):\n",
    "        print(f\"path:{file_path}; records:{num_records}\")"
   ]
  },
  {
   "cell_type": "code",
   "execution_count": null,
   "id": "3048e639-da5b-40a8-a7ef-aad64c411193",
   "metadata": {},
   "outputs": [],
   "source": []
  },
  {
   "cell_type": "code",
   "execution_count": null,
   "id": "f9e0a263-805e-4a52-bc43-8f895fe067cd",
   "metadata": {},
   "outputs": [],
   "source": [
    "#curl http://localhost:9200/_cat/indices?v"
   ]
  },
  {
   "cell_type": "code",
   "execution_count": null,
   "id": "40a85239-95c6-41ca-819b-0e234c614638",
   "metadata": {},
   "outputs": [],
   "source": [
    "!ls"
   ]
  },
  {
   "cell_type": "code",
   "execution_count": null,
   "id": "16d9e81e-35ee-4cf7-9c35-0e096ae9caea",
   "metadata": {},
   "outputs": [],
   "source": []
  },
  {
   "cell_type": "code",
   "execution_count": null,
   "id": "bf5c2139-b8be-4ca7-a3d0-5bfa58b71414",
   "metadata": {},
   "outputs": [],
   "source": [
    "df.head()"
   ]
  },
  {
   "cell_type": "code",
   "execution_count": null,
   "id": "d474102b-db25-4d35-9db8-1334579088a1",
   "metadata": {},
   "outputs": [],
   "source": [
    "pipeline = PandasQueryPipeline(df) \n",
    "pipeline.add_query(transform_batch, is_output=True)\n",
    "result_dfs = pipeline.compute_batch() # Begin batch processing."
   ]
  },
  {
   "cell_type": "code",
   "execution_count": null,
   "id": "3fe89eb1-6a6f-481b-9aae-f8c7c76cc430",
   "metadata": {},
   "outputs": [],
   "source": [
    "!ls"
   ]
  },
  {
   "cell_type": "code",
   "execution_count": null,
   "id": "fc7efea7-6ec3-4907-98aa-747d92c82f12",
   "metadata": {},
   "outputs": [],
   "source": [
    "result_dfs"
   ]
  },
  {
   "cell_type": "code",
   "execution_count": null,
   "id": "cd1ee80a-e650-4fb5-97d5-658095751612",
   "metadata": {},
   "outputs": [],
   "source": []
  },
  {
   "cell_type": "code",
   "execution_count": null,
   "id": "3376f3df-5a69-4f91-b5a2-3bca1b193f2b",
   "metadata": {},
   "outputs": [],
   "source": []
  },
  {
   "cell_type": "code",
   "execution_count": null,
   "id": "e1b1b2d1-9d7a-4142-af00-7a13bdd5adaf",
   "metadata": {},
   "outputs": [],
   "source": [
    "ds."
   ]
  },
  {
   "cell_type": "code",
   "execution_count": null,
   "id": "08441897-8936-47c2-9319-bcebf2c79c46",
   "metadata": {},
   "outputs": [],
   "source": [
    "ds.limit(1000).map_batches(transform_batch)"
   ]
  },
  {
   "cell_type": "code",
   "execution_count": null,
   "id": "3981b0cb-24aa-4223-bad9-13de93aa9834",
   "metadata": {},
   "outputs": [],
   "source": [
    "transformed_ds = ds.map_batches(transform_batch)\n"
   ]
  },
  {
   "cell_type": "code",
   "execution_count": null,
   "id": "d2142481-6e36-4d6c-827a-1a9a50a91a5b",
   "metadata": {},
   "outputs": [],
   "source": [
    "transformed_ds.show()\n"
   ]
  },
  {
   "cell_type": "code",
   "execution_count": null,
   "id": "55866560-319f-44f9-a81e-d5b8fae82945",
   "metadata": {},
   "outputs": [],
   "source": [
    "#convert_to_document_dict ( df.iloc[0] )"
   ]
  },
  {
   "cell_type": "code",
   "execution_count": null,
   "id": "0746f5f0-8351-4781-b857-f95d112487c5",
   "metadata": {},
   "outputs": [],
   "source": [
    "#df.head(5).apply(convert_to_document_dict, axis=1)"
   ]
  },
  {
   "cell_type": "code",
   "execution_count": null,
   "id": "12364ce5-daa4-491b-a8ca-b051be985522",
   "metadata": {},
   "outputs": [],
   "source": []
  },
  {
   "cell_type": "code",
   "execution_count": null,
   "id": "4fd12e86-33aa-4997-a83d-0b899a1bfd19",
   "metadata": {},
   "outputs": [],
   "source": [
    "\n",
    "\n"
   ]
  },
  {
   "cell_type": "code",
   "execution_count": null,
   "id": "65b71330-fca7-49e9-ad08-b0841e11b875",
   "metadata": {},
   "outputs": [],
   "source": [
    "document_store.delete_documents()"
   ]
  },
  {
   "cell_type": "code",
   "execution_count": null,
   "id": "a80650bd-7c97-4fe6-a937-837ca1f51bb2",
   "metadata": {},
   "outputs": [],
   "source": []
  },
  {
   "cell_type": "code",
   "execution_count": null,
   "id": "ee994145-9e4d-46f9-89f7-ac730d7a96c6",
   "metadata": {},
   "outputs": [],
   "source": []
  },
  {
   "cell_type": "code",
   "execution_count": null,
   "id": "02766228-6060-4150-b602-ae114c531ab6",
   "metadata": {},
   "outputs": [],
   "source": [
    "def apply_func(df):\n",
    "    print ( len (df))\n",
    "\n"
   ]
  },
  {
   "cell_type": "code",
   "execution_count": null,
   "id": "d3a2b538-19a8-40eb-9c74-ed766db03893",
   "metadata": {},
   "outputs": [],
   "source": [
    "df.apply(lambda s: apply_func(s.to_frame()), axis=1)"
   ]
  },
  {
   "cell_type": "code",
   "execution_count": null,
   "id": "c9c4bfd0-8779-425b-856e-6416ad3aaf73",
   "metadata": {},
   "outputs": [],
   "source": []
  },
  {
   "cell_type": "code",
   "execution_count": null,
   "id": "2ac9ed45-6759-4391-8e69-567c3444a62b",
   "metadata": {},
   "outputs": [],
   "source": [
    "@ray.remote\n",
    "def index_df_with_remote(partition):\n",
    "    df_subset = from_partitions( [ partitions ] ,axis=0)\n",
    "      \n",
    "    #docs = df_subset.apply(convert_to_document_dict, axis=1).to_numpy().flatten().tolist()\n",
    "    \n",
    "    #return  len (docs)\n",
    "     \n",
    "    return 5"
   ]
  },
  {
   "cell_type": "code",
   "execution_count": null,
   "id": "93af83a7-caac-472a-9eff-5c68168ba0b1",
   "metadata": {},
   "outputs": [],
   "source": []
  },
  {
   "cell_type": "code",
   "execution_count": null,
   "id": "381a4199-add7-441d-a842-e6053ec91313",
   "metadata": {},
   "outputs": [],
   "source": [
    "partitions = unwrap_partitions(df, axis=0, get_ip=True)\n"
   ]
  },
  {
   "cell_type": "code",
   "execution_count": null,
   "id": "72a4aa6c-c3b5-44c0-8307-20ca84fa447d",
   "metadata": {},
   "outputs": [],
   "source": [
    "futures = [index_df_with_remote.remote(partition) for partition in partitions]\n"
   ]
  },
  {
   "cell_type": "code",
   "execution_count": null,
   "id": "9fe327ef-4b62-4c10-ae59-724c681aee17",
   "metadata": {},
   "outputs": [],
   "source": [
    "print(ray.get(futures)) # [0, 1, 4, 9]\n"
   ]
  },
  {
   "cell_type": "code",
   "execution_count": null,
   "id": "1705bc6f-53af-4668-a9e8-109dfb1f66b4",
   "metadata": {},
   "outputs": [],
   "source": []
  },
  {
   "cell_type": "code",
   "execution_count": null,
   "id": "d5830ca8-6562-4b73-8354-7fa681ac5899",
   "metadata": {},
   "outputs": [],
   "source": [
    "?document_store.write_documents"
   ]
  },
  {
   "cell_type": "code",
   "execution_count": null,
   "id": "9bbacdf7-e650-4ecb-a1a2-9d8fc157efc2",
   "metadata": {},
   "outputs": [],
   "source": []
  },
  {
   "cell_type": "code",
   "execution_count": null,
   "id": "af3bf302-2221-44f5-b6a3-011f9ad62fbc",
   "metadata": {},
   "outputs": [],
   "source": []
  },
  {
   "cell_type": "code",
   "execution_count": null,
   "id": "f0302e50-2e68-4523-a260-c7db1182c900",
   "metadata": {},
   "outputs": [],
   "source": []
  },
  {
   "cell_type": "code",
   "execution_count": null,
   "id": "ed9dfb5e-805c-4837-883e-9bd74200c114",
   "metadata": {},
   "outputs": [],
   "source": [
    "\n"
   ]
  },
  {
   "cell_type": "code",
   "execution_count": null,
   "id": "59e96650-eae5-45c0-825e-3d7509fbb722",
   "metadata": {},
   "outputs": [],
   "source": [
    "index_df(df, document_store)"
   ]
  },
  {
   "cell_type": "code",
   "execution_count": null,
   "id": "50ee8831-e309-4252-8fe1-8a7259d6b5ba",
   "metadata": {},
   "outputs": [],
   "source": [
    "# index_individual_df(df, document_store)"
   ]
  },
  {
   "cell_type": "code",
   "execution_count": null,
   "id": "baba668e-0417-4023-8425-adce246b64a5",
   "metadata": {},
   "outputs": [],
   "source": [
    "!ls"
   ]
  },
  {
   "cell_type": "code",
   "execution_count": null,
   "id": "8274d5c3-45fc-4831-932c-b393f8b520fd",
   "metadata": {},
   "outputs": [],
   "source": [
    "#partitions = unwrap_partitions(df.head(500))\n",
    "\n"
   ]
  },
  {
   "cell_type": "code",
   "execution_count": null,
   "id": "d28895c5-6585-46f0-9885-6477f0b2c054",
   "metadata": {},
   "outputs": [],
   "source": [
    "\n",
    "# partitions = unwrap_partitions(df, axis=0, get_ip=True)\n",
    "\n",
    "# for i in tqdm.tqdm (range(len (partitions))):\n",
    "    \n",
    "#     df_subset = from_partitions(partitions[i:i+1],axis=0)\n",
    "    \n",
    "#     docs = df_subset.apply(convert_to_document_dict, axis=1).to_numpy().flatten().tolist()\n",
    "    \n",
    "#     document_store.write_documents(docs)"
   ]
  },
  {
   "cell_type": "code",
   "execution_count": null,
   "id": "4fb58dd6-4cd8-4428-9d21-4b257fe3ec31",
   "metadata": {},
   "outputs": [],
   "source": [
    "document_store.write_documents(docs)"
   ]
  },
  {
   "cell_type": "code",
   "execution_count": null,
   "id": "45fae193-47d4-4550-8848-4ee0f43f0aa4",
   "metadata": {},
   "outputs": [],
   "source": [
    "document_store.get_document_count()"
   ]
  },
  {
   "cell_type": "code",
   "execution_count": null,
   "id": "7248e6e7-9240-4cce-a9f5-24bd25aa0470",
   "metadata": {},
   "outputs": [],
   "source": []
  },
  {
   "cell_type": "code",
   "execution_count": null,
   "id": "dc2e9b09-ae46-4fa9-b6a5-9e085f22643d",
   "metadata": {},
   "outputs": [],
   "source": []
  },
  {
   "cell_type": "code",
   "execution_count": null,
   "id": "3f438a59-7293-4158-a4a2-81da38de12b7",
   "metadata": {},
   "outputs": [],
   "source": [
    "fetch_results(query=\"encrypted URL\", retriever=retriever)"
   ]
  },
  {
   "cell_type": "code",
   "execution_count": null,
   "id": "4b2833a7-1f62-4dfe-93e5-51d64c0f9cb5",
   "metadata": {},
   "outputs": [],
   "source": []
  }
 ],
 "metadata": {
  "environment": {
   "kernel": "python3",
   "name": "pytorch-gpu.1-11.m94",
   "type": "gcloud",
   "uri": "gcr.io/deeplearning-platform-release/pytorch-gpu.1-11:m94"
  },
  "kernelspec": {
   "display_name": "Python 3",
   "language": "python",
   "name": "python3"
  },
  "language_info": {
   "codemirror_mode": {
    "name": "ipython",
    "version": 3
   },
   "file_extension": ".py",
   "mimetype": "text/x-python",
   "name": "python",
   "nbconvert_exporter": "python",
   "pygments_lexer": "ipython3",
   "version": "3.7.12"
  }
 },
 "nbformat": 4,
 "nbformat_minor": 5
}
