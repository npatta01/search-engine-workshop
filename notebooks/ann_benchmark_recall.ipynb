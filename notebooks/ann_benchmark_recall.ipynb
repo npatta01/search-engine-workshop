{
 "cells": [
  {
   "cell_type": "markdown",
   "id": "a36fa029-39d5-422b-bd37-0c233cf87022",
   "metadata": {},
   "source": [
    "https://github.com/facebookresearch/faiss/blob/main/tutorial/python/2-IVFFlat.py"
   ]
  },
  {
   "cell_type": "code",
   "execution_count": null,
   "id": "124caaf2-e6a9-4bd3-add9-b73e0ba46d4d",
   "metadata": {},
   "outputs": [],
   "source": []
  }
 ],
 "metadata": {
  "environment": {
   "kernel": "stackoverflow",
   "name": "pytorch-gpu.1-11.m94",
   "type": "gcloud",
   "uri": "gcr.io/deeplearning-platform-release/pytorch-gpu.1-11:m94"
  },
  "kernelspec": {
   "display_name": "Python (stackoverflow)",
   "language": "python",
   "name": "stackoverflow"
  },
  "language_info": {
   "codemirror_mode": {
    "name": "ipython",
    "version": 3
   },
   "file_extension": ".py",
   "mimetype": "text/x-python",
   "name": "python",
   "nbconvert_exporter": "python",
   "pygments_lexer": "ipython3",
   "version": "3.8.13"
  }
 },
 "nbformat": 4,
 "nbformat_minor": 5
}
