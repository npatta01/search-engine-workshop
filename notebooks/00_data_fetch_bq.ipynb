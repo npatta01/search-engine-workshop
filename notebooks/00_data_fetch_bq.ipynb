{
 "cells": [
  {
   "cell_type": "code",
   "execution_count": 2,
   "id": "2d9c002c-9ba7-48cb-83a5-3d2903056d43",
   "metadata": {},
   "outputs": [],
   "source": [
    "import modin.pandas as pd\n",
    "import re\n",
    "import lxml.html\n"
   ]
  },
  {
   "cell_type": "code",
   "execution_count": 3,
   "id": "05461bbb-02f3-4749-b6ca-dba3a02bf1e8",
   "metadata": {},
   "outputs": [
    {
     "name": "stderr",
     "output_type": "stream",
     "text": [
      "UserWarning: Ray execution environment not yet initialized. Initializing...\n",
      "To remove this warning, run the following python code before doing dataframe operations:\n",
      "\n",
      "    import ray\n",
      "    ray.init()\n",
      "\n",
      "UserWarning: `read_gbq` defaulting to pandas implementation.\n",
      "To request implementation, send an email to feature_requests@modin.org.\n"
     ]
    },
    {
     "data": {
      "text/html": [
       "<div>\n",
       "<style scoped>\n",
       "    .dataframe tbody tr th:only-of-type {\n",
       "        vertical-align: middle;\n",
       "    }\n",
       "\n",
       "    .dataframe tbody tr th {\n",
       "        vertical-align: top;\n",
       "    }\n",
       "\n",
       "    .dataframe thead th {\n",
       "        text-align: right;\n",
       "    }\n",
       "</style>\n",
       "<table border=\"1\" class=\"dataframe\">\n",
       "  <thead>\n",
       "    <tr style=\"text-align: right;\">\n",
       "      <th></th>\n",
       "      <th>Id</th>\n",
       "      <th>Type</th>\n",
       "    </tr>\n",
       "  </thead>\n",
       "  <tbody>\n",
       "    <tr>\n",
       "      <th>0</th>\n",
       "      <td>1</td>\n",
       "      <td>Question</td>\n",
       "    </tr>\n",
       "    <tr>\n",
       "      <th>1</th>\n",
       "      <td>2</td>\n",
       "      <td>Answer</td>\n",
       "    </tr>\n",
       "    <tr>\n",
       "      <th>2</th>\n",
       "      <td>3</td>\n",
       "      <td>Wiki</td>\n",
       "    </tr>\n",
       "    <tr>\n",
       "      <th>3</th>\n",
       "      <td>4</td>\n",
       "      <td>TagWikiExcerpt</td>\n",
       "    </tr>\n",
       "    <tr>\n",
       "      <th>4</th>\n",
       "      <td>5</td>\n",
       "      <td>TagWiki</td>\n",
       "    </tr>\n",
       "    <tr>\n",
       "      <th>5</th>\n",
       "      <td>6</td>\n",
       "      <td>ModeratorNomination</td>\n",
       "    </tr>\n",
       "    <tr>\n",
       "      <th>6</th>\n",
       "      <td>7</td>\n",
       "      <td>WikiPlaceholder</td>\n",
       "    </tr>\n",
       "    <tr>\n",
       "      <th>7</th>\n",
       "      <td>8</td>\n",
       "      <td>PrivilegeWiki</td>\n",
       "    </tr>\n",
       "  </tbody>\n",
       "</table>\n",
       "</div>"
      ],
      "text/plain": [
       "   Id                 Type\n",
       "0   1             Question\n",
       "1   2               Answer\n",
       "2   3                 Wiki\n",
       "3   4       TagWikiExcerpt\n",
       "4   5              TagWiki\n",
       "5   6  ModeratorNomination\n",
       "6   7      WikiPlaceholder\n",
       "7   8        PrivilegeWiki"
      ]
     },
     "execution_count": 3,
     "metadata": {},
     "output_type": "execute_result"
    }
   ],
   "source": [
    "pd.read_gbq(f\"\"\"\n",
    "select *\n",
    "FROM`sotorrent-org.2020_12_31.PostType`\n",
    "\n",
    "\"\"\", use_bqstorage_api=True)"
   ]
  },
  {
   "cell_type": "code",
   "execution_count": 4,
   "id": "df33775c-cdb8-4fe2-8457-e8642c8265c5",
   "metadata": {},
   "outputs": [
    {
     "name": "stderr",
     "output_type": "stream",
     "text": [
      "UserWarning: `read_gbq` defaulting to pandas implementation.\n"
     ]
    }
   ],
   "source": [
    "df_raw = pd.read_gbq (f\"\"\"\n",
    "\n",
    "with qn as (\n",
    " select Id , AcceptedAnswerId, Title, Body as QuestionBody, Tags , ViewCount, AnswerCount,   CommentCount , Score, CreationDate\n",
    " FROM `sotorrent-org.2020_12_31.Posts` \n",
    " where PostTypeId = 1\n",
    "),\n",
    "ans as (\n",
    " select Id , Body as AnswerBody\n",
    " FROM `sotorrent-org.2020_12_31.Posts` \n",
    " where PostTypeId = 2\n",
    ")\n",
    "\n",
    "\n",
    "SELECT qn.*, ans.AnswerBody\n",
    "From qn \n",
    "inner join ans \n",
    "on qn.AcceptedAnswerId = ans.Id\n",
    "\n",
    "\"\"\", use_bqstorage_api=True)\n"
   ]
  },
  {
   "cell_type": "code",
   "execution_count": 5,
   "id": "51c4dd43-b3be-4253-8b1c-76eb854d4668",
   "metadata": {},
   "outputs": [
    {
     "data": {
      "text/html": [
       "<div>\n",
       "<style scoped>\n",
       "    .dataframe tbody tr th:only-of-type {\n",
       "        vertical-align: middle;\n",
       "    }\n",
       "\n",
       "    .dataframe tbody tr th {\n",
       "        vertical-align: top;\n",
       "    }\n",
       "\n",
       "    .dataframe thead th {\n",
       "        text-align: right;\n",
       "    }\n",
       "</style>\n",
       "<table border=\"1\" class=\"dataframe\">\n",
       "  <thead>\n",
       "    <tr style=\"text-align: right;\">\n",
       "      <th></th>\n",
       "      <th>Id</th>\n",
       "      <th>AcceptedAnswerId</th>\n",
       "      <th>Title</th>\n",
       "      <th>QuestionBody</th>\n",
       "      <th>Tags</th>\n",
       "      <th>ViewCount</th>\n",
       "      <th>AnswerCount</th>\n",
       "      <th>CommentCount</th>\n",
       "      <th>Score</th>\n",
       "      <th>CreationDate</th>\n",
       "      <th>AnswerBody</th>\n",
       "    </tr>\n",
       "  </thead>\n",
       "  <tbody>\n",
       "    <tr>\n",
       "      <th>0</th>\n",
       "      <td>22486469</td>\n",
       "      <td>22488014</td>\n",
       "      <td>Memory Mapping Large File Haskell</td>\n",
       "      <td>&lt;p&gt;I am experimenting with the Haskell mmap pa...</td>\n",
       "      <td>&lt;haskell&gt;</td>\n",
       "      <td>566</td>\n",
       "      <td>1</td>\n",
       "      <td>1</td>\n",
       "      <td>10</td>\n",
       "      <td>2014-03-18 17:18:08</td>\n",
       "      <td>&lt;p&gt;Looks like a typo. If I replace this:&lt;/p&gt;\\n...</td>\n",
       "    </tr>\n",
       "    <tr>\n",
       "      <th>1</th>\n",
       "      <td>20902775</td>\n",
       "      <td>20902933</td>\n",
       "      <td>How to check if auto-rotate screen setting is ...</td>\n",
       "      <td>&lt;p&gt;I think each android device has an abitily ...</td>\n",
       "      <td>&lt;java&gt;&lt;android&gt;</td>\n",
       "      <td>11201</td>\n",
       "      <td>3</td>\n",
       "      <td>3</td>\n",
       "      <td>12</td>\n",
       "      <td>2014-01-03 11:37:35</td>\n",
       "      <td>&lt;p&gt;Hope this code snippet helps you out:-&lt;/p&gt;\\...</td>\n",
       "    </tr>\n",
       "    <tr>\n",
       "      <th>2</th>\n",
       "      <td>39613023</td>\n",
       "      <td>39623807</td>\n",
       "      <td>Understanding the FFT output</td>\n",
       "      <td>&lt;p&gt;I'm currently occupied in a practicum and m...</td>\n",
       "      <td>&lt;java&gt;&lt;fft&gt;</td>\n",
       "      <td>277</td>\n",
       "      <td>1</td>\n",
       "      <td>0</td>\n",
       "      <td>-4</td>\n",
       "      <td>2016-09-21 09:46:43</td>\n",
       "      <td>&lt;p&gt;Computing a 512-point fourier transform aft...</td>\n",
       "    </tr>\n",
       "    <tr>\n",
       "      <th>3</th>\n",
       "      <td>2770630</td>\n",
       "      <td>2771563</td>\n",
       "      <td>PDO::fetchAll vs. PDO::fetch in a loop</td>\n",
       "      <td>&lt;p&gt;Just a quick question.&lt;/p&gt;\\n\\n&lt;p&gt;Is there a...</td>\n",
       "      <td>&lt;php&gt;&lt;mysql&gt;&lt;pdo&gt;&lt;fetch&gt;</td>\n",
       "      <td>86006</td>\n",
       "      <td>7</td>\n",
       "      <td>1</td>\n",
       "      <td>72</td>\n",
       "      <td>2010-05-05 04:31:40</td>\n",
       "      <td>&lt;p&gt;Little benchmark with 200k random records. ...</td>\n",
       "    </tr>\n",
       "    <tr>\n",
       "      <th>4</th>\n",
       "      <td>31725206</td>\n",
       "      <td>40180517</td>\n",
       "      <td>Unable to Flash eMMC from SD Card BeagleBone B...</td>\n",
       "      <td>&lt;p&gt;I am working on BeagleBone Black and Debian...</td>\n",
       "      <td>&lt;debian&gt;&lt;beagleboneblack&gt;</td>\n",
       "      <td>31664</td>\n",
       "      <td>8</td>\n",
       "      <td>3</td>\n",
       "      <td>17</td>\n",
       "      <td>2015-07-30 13:30:39</td>\n",
       "      <td>&lt;p&gt;Did you remember to remove the \"#\" at the b...</td>\n",
       "    </tr>\n",
       "  </tbody>\n",
       "</table>\n",
       "</div>"
      ],
      "text/plain": [
       "         Id  AcceptedAnswerId  \\\n",
       "0  22486469          22488014   \n",
       "1  20902775          20902933   \n",
       "2  39613023          39623807   \n",
       "3   2770630           2771563   \n",
       "4  31725206          40180517   \n",
       "\n",
       "                                               Title  \\\n",
       "0                  Memory Mapping Large File Haskell   \n",
       "1  How to check if auto-rotate screen setting is ...   \n",
       "2                       Understanding the FFT output   \n",
       "3             PDO::fetchAll vs. PDO::fetch in a loop   \n",
       "4  Unable to Flash eMMC from SD Card BeagleBone B...   \n",
       "\n",
       "                                        QuestionBody  \\\n",
       "0  <p>I am experimenting with the Haskell mmap pa...   \n",
       "1  <p>I think each android device has an abitily ...   \n",
       "2  <p>I'm currently occupied in a practicum and m...   \n",
       "3  <p>Just a quick question.</p>\\n\\n<p>Is there a...   \n",
       "4  <p>I am working on BeagleBone Black and Debian...   \n",
       "\n",
       "                        Tags  ViewCount  AnswerCount  CommentCount  Score  \\\n",
       "0                  <haskell>        566            1             1     10   \n",
       "1            <java><android>      11201            3             3     12   \n",
       "2                <java><fft>        277            1             0     -4   \n",
       "3   <php><mysql><pdo><fetch>      86006            7             1     72   \n",
       "4  <debian><beagleboneblack>      31664            8             3     17   \n",
       "\n",
       "         CreationDate                                         AnswerBody  \n",
       "0 2014-03-18 17:18:08  <p>Looks like a typo. If I replace this:</p>\\n...  \n",
       "1 2014-01-03 11:37:35  <p>Hope this code snippet helps you out:-</p>\\...  \n",
       "2 2016-09-21 09:46:43  <p>Computing a 512-point fourier transform aft...  \n",
       "3 2010-05-05 04:31:40  <p>Little benchmark with 200k random records. ...  \n",
       "4 2015-07-30 13:30:39  <p>Did you remember to remove the \"#\" at the b...  "
      ]
     },
     "execution_count": 5,
     "metadata": {},
     "output_type": "execute_result"
    }
   ],
   "source": [
    "df_raw.head()"
   ]
  },
  {
   "cell_type": "code",
   "execution_count": null,
   "id": "8546ce34-5cce-45e1-8b90-e178e98e7415",
   "metadata": {},
   "outputs": [],
   "source": [
    "df_raw.to_parquet(\"../data/df_raw\",index=False)"
   ]
  },
  {
   "cell_type": "code",
   "execution_count": null,
   "id": "4abb6cc3-040d-44b5-a5a5-68161b732b9e",
   "metadata": {},
   "outputs": [],
   "source": [
    "df_raw = pd.read_parquet(\"../data/df_raw\")"
   ]
  },
  {
   "cell_type": "code",
   "execution_count": null,
   "id": "c56f1bbd-6195-414a-adee-1075aede6aca",
   "metadata": {},
   "outputs": [],
   "source": [
    "len(df_raw)"
   ]
  },
  {
   "cell_type": "code",
   "execution_count": null,
   "id": "9cd18238-7318-44bb-8302-89232429028e",
   "metadata": {},
   "outputs": [],
   "source": [
    "def strip_html(s:str):\n",
    "    try:\n",
    "        return str(lxml.html.fromstring(s).text_content())\n",
    "    except:\n",
    "        return ''\n",
    "\n",
    "def parse_tags(content:str):\n",
    "    return re.findall(r'<(.+?)>',content)\n"
   ]
  },
  {
   "cell_type": "code",
   "execution_count": null,
   "id": "8eda050e-3ab9-4555-9f7a-fe9cb190d824",
   "metadata": {},
   "outputs": [],
   "source": [
    "strip_html(f\"\"\"\n",
    "\n",
    "<p>I was asked to create a singleton that will...\t\n",
    "\"\"\")"
   ]
  },
  {
   "cell_type": "code",
   "execution_count": null,
   "id": "a60b2cd6-2f02-447b-99ac-2de8598bb470",
   "metadata": {},
   "outputs": [],
   "source": [
    "df = df_raw"
   ]
  },
  {
   "cell_type": "code",
   "execution_count": null,
   "id": "f8fa3f43-d0c1-42ff-949c-cb7519e11454",
   "metadata": {},
   "outputs": [],
   "source": [
    "df['Body'] =  df['Body'].apply(strip_html)"
   ]
  },
  {
   "cell_type": "code",
   "execution_count": null,
   "id": "d957c0c3-aba6-451b-816a-67224b8e6578",
   "metadata": {},
   "outputs": [],
   "source": [
    "df['Tags'] = df['Tags'].apply(parse_tags)"
   ]
  },
  {
   "cell_type": "code",
   "execution_count": null,
   "id": "cb4c000b-0cd1-4d21-9de3-56589a04c40d",
   "metadata": {},
   "outputs": [],
   "source": [
    "df_final.to_parquet(\"../data/df_processed/\")"
   ]
  }
 ],
 "metadata": {
  "environment": {
   "kernel": "stackoverflow",
   "name": "pytorch-gpu.1-11.m94",
   "type": "gcloud",
   "uri": "gcr.io/deeplearning-platform-release/pytorch-gpu.1-11:m94"
  },
  "kernelspec": {
   "display_name": "Python (stackoverflow)",
   "language": "python",
   "name": "stackoverflow"
  },
  "language_info": {
   "codemirror_mode": {
    "name": "ipython",
    "version": 3
   },
   "file_extension": ".py",
   "mimetype": "text/x-python",
   "name": "python",
   "nbconvert_exporter": "python",
   "pygments_lexer": "ipython3",
   "version": "3.7.12"
  }
 },
 "nbformat": 4,
 "nbformat_minor": 5
}
