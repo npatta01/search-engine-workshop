{
 "cells": [
  {
   "cell_type": "markdown",
   "id": "e87968a1-46d4-4446-ac03-efdd1c97b2f6",
   "metadata": {},
   "source": [
    "# Information Retrieval with Okapi BM25\n",
    "### In this notebook we will do follows:\n",
    "- Create a text corpus by using descriptions of images\n",
    "- Write a tokenizer (stopping, stemming, lemmatization)\n",
    "- Use bm25 to rank documents for given queries"
   ]
  },
  {
   "cell_type": "markdown",
   "id": "fd222dd6-7620-40e0-92dc-3a37aaca7fe0",
   "metadata": {},
   "source": [
    "# Imports"
   ]
  },
  {
   "cell_type": "code",
   "execution_count": null,
   "id": "358cd5a4-0e74-49c7-8017-f908113866df",
   "metadata": {},
   "outputs": [],
   "source": [
    "import pandas as pd\n",
    "from pathlib import Path\n",
    "import datasets\n",
    "\n",
    "from IPython.display import Image, JSON\n",
    "from IPython.core.display import HTML\n",
    "import rich\n",
    "import re\n",
    "\n",
    "import requests\n",
    "import tqdm.auto\n",
    "\n",
    "\n",
    "#from nltk.corpus import stopwords\n",
    "from elasticsearch import Elasticsearch\n",
    "from elasticsearch.helpers import streaming_bulk"
   ]
  },
  {
   "cell_type": "markdown",
   "id": "f1f90274-c89e-4587-b3eb-cd7a380fea6c",
   "metadata": {},
   "source": [
    "##### NLTK is a natural language processing toolkit that we will use removing stopwords, stemming and tokenization"
   ]
  },
  {
   "cell_type": "markdown",
   "id": "790d9b8b-c8b5-4ef2-b3ce-432a54503790",
   "metadata": {},
   "source": [
    "##### We load the dataset"
   ]
  },
  {
   "cell_type": "code",
   "execution_count": null,
   "id": "1fb8e04c-56de-4ec5-a296-e7aba0d75750",
   "metadata": {},
   "outputs": [],
   "source": [
    "dset = datasets.load_from_disk(\"../data/processed\")"
   ]
  },
  {
   "cell_type": "markdown",
   "id": "4d5c6a5c-fcea-4130-bb20-ca34a9c8191f",
   "metadata": {},
   "source": [
    "##### Dataset consists of 24995 rows and each row has columns that contains information about the photo like \"photo description\", \"size\", etc.."
   ]
  },
  {
   "cell_type": "code",
   "execution_count": null,
   "id": "3b125e2a-b54d-44fc-b068-3de279d7d2c7",
   "metadata": {},
   "outputs": [],
   "source": [
    "dset"
   ]
  },
  {
   "cell_type": "markdown",
   "id": "2766a7bf-4279-4561-911d-3b24a85b695c",
   "metadata": {},
   "source": [
    "##### We use \"description_final\" field of the photos to create a text corpus"
   ]
  },
  {
   "cell_type": "code",
   "execution_count": null,
   "id": "072fd640-9393-4cfb-8eb2-cab705ec6c01",
   "metadata": {},
   "outputs": [],
   "source": [
    "dset['description_final'][:5]"
   ]
  },
  {
   "cell_type": "code",
   "execution_count": null,
   "id": "b982dc8d-fba8-4f68-b45e-3f630e4777b1",
   "metadata": {},
   "outputs": [],
   "source": []
  },
  {
   "cell_type": "code",
   "execution_count": null,
   "id": "62f2f898-bad8-45b5-bed0-b4d8109fe4b5",
   "metadata": {},
   "outputs": [],
   "source": [
    "dset[0]"
   ]
  },
  {
   "cell_type": "code",
   "execution_count": null,
   "id": "81af1a68-e3ad-4281-a547-5f9c96e7ca8d",
   "metadata": {},
   "outputs": [],
   "source": []
  },
  {
   "cell_type": "code",
   "execution_count": null,
   "id": "9db8ce66-e522-4567-ade2-8c22cc573d81",
   "metadata": {},
   "outputs": [],
   "source": []
  },
  {
   "cell_type": "code",
   "execution_count": null,
   "id": "7dbf4773-4f90-43f0-b732-8d6edc8e93bb",
   "metadata": {},
   "outputs": [],
   "source": [
    "ELASTIC_HOST=\"localhost\"\n",
    "ELASTIC_INDEX=\"unsplash\"\n",
    "ELASTIC_PORT=9200\n",
    "\n",
    "ELASTIC_FULL_URL =f\"http://{ELASTIC_HOST}:{ELASTIC_PORT}\""
   ]
  },
  {
   "cell_type": "code",
   "execution_count": null,
   "id": "9de785ae-1d53-491c-a1cd-6bf04e52f46e",
   "metadata": {},
   "outputs": [],
   "source": []
  },
  {
   "cell_type": "markdown",
   "id": "220a4932-8bb0-4678-b7dc-5948f39b63b6",
   "metadata": {
    "tags": []
   },
   "source": [
    "## Elastic Search Default Analyzers and Tokenizers"
   ]
  },
  {
   "cell_type": "markdown",
   "id": "b98c88a6-f24a-4db5-996b-84081e9f2196",
   "metadata": {
    "tags": []
   },
   "source": [
    "### Elastic Search Analyzer"
   ]
  },
  {
   "cell_type": "markdown",
   "id": "19fbee4d-a2ce-4b86-9f1f-38de3460b4c3",
   "metadata": {},
   "source": [
    "ElasticSearch has many default analyzer.\n",
    "\n",
    "Analyzers are composed of `tokenizers` and `normalizers`.\n",
    "\n",
    "tokenization: breaking a text down into smaller chunks \n",
    "\n",
    "normalizers: format the token\n",
    "\n",
    "[ElasticDoc](https://www.elastic.co/guide/en/elasticsearch/reference/current/analysis-overview.html)\n",
    "\n",
    "[Documentation for analyzers](https://www.elastic.co/guide/en/elasticsearch/reference/current/analysis-analyzers.html)"
   ]
  },
  {
   "cell_type": "code",
   "execution_count": null,
   "id": "a3be4bca-480b-4127-8066-12675a171e2e",
   "metadata": {},
   "outputs": [],
   "source": []
  },
  {
   "cell_type": "markdown",
   "id": "e08ec2e6-da80-4350-9a9e-6f675fafcf97",
   "metadata": {
    "tags": []
   },
   "source": [
    "### Built in tokenizers"
   ]
  },
  {
   "cell_type": "code",
   "execution_count": null,
   "id": "6da5298a-94d0-448b-a740-66a3f342f2c9",
   "metadata": {},
   "outputs": [],
   "source": [
    "def elastic_tokenize(tokenizer,  text, url = ELASTIC_FULL_URL+\"/_analyze\"):\n",
    "    r =requests.post(url, \n",
    "              json =\n",
    "                    {\n",
    "                      \"tokenizer\": tokenizer ,\n",
    "                      \"text\": text\n",
    "                    }\n",
    "    \n",
    "    \n",
    "        )\n",
    "\n",
    "    rich.print (r.json() )\n",
    "    \n",
    "    \n",
    "    "
   ]
  },
  {
   "cell_type": "code",
   "execution_count": null,
   "id": "89b6db9b-005e-4374-b5de-5e662b8d5ec5",
   "metadata": {},
   "outputs": [],
   "source": [
    "sentence = \"<p> ELASTICSEARCH is built on top of the open-source <b>Apache Lucene</b>. </p>\""
   ]
  },
  {
   "cell_type": "markdown",
   "id": "6fad38f7-7370-461d-86c0-57cf32de8eac",
   "metadata": {},
   "source": [
    "whitespace tokenizer"
   ]
  },
  {
   "cell_type": "code",
   "execution_count": null,
   "id": "1495b666-4e9f-46d8-b15d-bceadd7f0009",
   "metadata": {},
   "outputs": [],
   "source": [
    "elastic_tokenize (tokenizer= \"whitespace\",  text= sentence)"
   ]
  },
  {
   "cell_type": "markdown",
   "id": "313fa801-15e1-4c13-b06b-62722f6c78c3",
   "metadata": {},
   "source": [
    "standard tokenizer"
   ]
  },
  {
   "cell_type": "code",
   "execution_count": null,
   "id": "bab0571a-6e1e-42e3-be14-db54855d1b08",
   "metadata": {},
   "outputs": [],
   "source": [
    "elastic_tokenize (tokenizer= \"standard\",  text= sentence)"
   ]
  },
  {
   "cell_type": "markdown",
   "id": "d31a8e8e-46e0-4b4a-8cb8-9b6bf2513d3b",
   "metadata": {},
   "source": [
    "ngram tokenizer"
   ]
  },
  {
   "cell_type": "code",
   "execution_count": null,
   "id": "ad01a29f-5e1b-44a4-b024-e7909576ae01",
   "metadata": {},
   "outputs": [],
   "source": [
    "elastic_tokenize (tokenizer= \"ngram\",  text= \"Quick\")"
   ]
  },
  {
   "cell_type": "code",
   "execution_count": null,
   "id": "c88fef79-661d-4e6b-a923-55730513df72",
   "metadata": {},
   "outputs": [],
   "source": []
  },
  {
   "cell_type": "markdown",
   "id": "8b7fd6e1-53c2-402a-b4c9-319a2ce52433",
   "metadata": {
    "tags": []
   },
   "source": [
    "### Analyzers"
   ]
  },
  {
   "cell_type": "code",
   "execution_count": null,
   "id": "2a08a9a4-d02a-472c-8df3-68d05c8ae221",
   "metadata": {},
   "outputs": [],
   "source": [
    "def elastic_analyze(analyzer,  text, url = ELASTIC_FULL_URL+\"/_analyze\"):\n",
    "    r =requests.post(url, \n",
    "              json =\n",
    "                    {\n",
    "                      \"analyzer\": analyzer ,\n",
    "                      \"text\": text, \n",
    "                    }\n",
    "        )\n",
    "\n",
    "    rich.print (r.json() )\n",
    "    "
   ]
  },
  {
   "cell_type": "markdown",
   "id": "a95c07c1-40f9-4459-83d9-428ab1d316b4",
   "metadata": {},
   "source": [
    "**whitespace analyzer**\n",
    "\n",
    "The whitespace analyzer breaks text into terms whenever it encounters a whitespace character.\n",
    "\n"
   ]
  },
  {
   "cell_type": "code",
   "execution_count": null,
   "id": "a2dc2105-626a-440e-b7c6-e2faaf84f108",
   "metadata": {},
   "outputs": [],
   "source": [
    "elastic_analyze(analyzer = \"whitespace\", text = sentence )"
   ]
  },
  {
   "cell_type": "markdown",
   "id": "a46e729c-16f3-4e95-aa89-bbeaceeda1f6",
   "metadata": {},
   "source": [
    "**stop analyzer**\n",
    "\n",
    "breaks text into tokens at any non-letter character    \n",
    "changes uppercase to lowercase.\n",
    "also uses _english_ stop words."
   ]
  },
  {
   "cell_type": "code",
   "execution_count": null,
   "id": "4ea1b281-23f0-4dc4-96dd-f5c4e077af56",
   "metadata": {},
   "outputs": [],
   "source": [
    "elastic_analyze(analyzer = \"stop\", text = sentence )"
   ]
  },
  {
   "cell_type": "markdown",
   "id": "c8d541c7-2025-49d6-80a9-bfe177aa9906",
   "metadata": {},
   "source": [
    "**standard analyzer**\n",
    "\n",
    "default analyzer       \n",
    "grammar based tokenization\n",
    "stopword disabled\n",
    "\n"
   ]
  },
  {
   "cell_type": "code",
   "execution_count": null,
   "id": "ef1b97ac-b33f-4f93-97cd-f8cb16d4e77b",
   "metadata": {},
   "outputs": [],
   "source": [
    "elastic_analyze(analyzer = \"standard\", text = sentence )"
   ]
  },
  {
   "cell_type": "code",
   "execution_count": null,
   "id": "1ffd3135-e083-4bad-b3af-5a4f168c7914",
   "metadata": {},
   "outputs": [],
   "source": []
  },
  {
   "cell_type": "code",
   "execution_count": null,
   "id": "6197cf69-f484-4aeb-9689-d9c1f059bc62",
   "metadata": {},
   "outputs": [],
   "source": [
    "sentence = \"Two dogs playing in the snow\""
   ]
  },
  {
   "cell_type": "code",
   "execution_count": null,
   "id": "3b9e9679-41d6-4da8-bcbc-a46956268da0",
   "metadata": {},
   "outputs": [],
   "source": [
    "elastic_analyze(analyzer = \"whitespace\", text = sentence )"
   ]
  },
  {
   "cell_type": "code",
   "execution_count": null,
   "id": "efd74663-8fe0-4ea0-9a97-b9bd8a4120f0",
   "metadata": {},
   "outputs": [],
   "source": [
    "elastic_analyze(analyzer = \"stop\", text = sentence )"
   ]
  },
  {
   "cell_type": "code",
   "execution_count": null,
   "id": "241579fa-dc8b-4af5-8c1f-6276486dd6fc",
   "metadata": {},
   "outputs": [],
   "source": [
    "elastic_analyze(analyzer = \"standard\", text = sentence )"
   ]
  },
  {
   "cell_type": "code",
   "execution_count": null,
   "id": "bb9a708f-122c-4b33-88c3-2ddc39befc7a",
   "metadata": {},
   "outputs": [],
   "source": [
    "elastic_analyze(analyzer = \"simple\", text = sentence )"
   ]
  },
  {
   "cell_type": "code",
   "execution_count": null,
   "id": "e7791f11-7669-480b-b224-9549baa741d3",
   "metadata": {},
   "outputs": [],
   "source": [
    "elastic_analyze(analyzer = \"english\", text = sentence )"
   ]
  },
  {
   "cell_type": "code",
   "execution_count": null,
   "id": "f7630993-e6e1-404d-82a6-b4fba2e78adf",
   "metadata": {},
   "outputs": [],
   "source": []
  },
  {
   "cell_type": "markdown",
   "id": "bb7d7329-959c-4d1c-80ae-3fac0656d3ab",
   "metadata": {
    "jp-MarkdownHeadingCollapsed": true,
    "tags": []
   },
   "source": [
    "## Elastic Search Indexing"
   ]
  },
  {
   "cell_type": "markdown",
   "id": "796b3acd-93ed-4774-a0d3-64f2da5f7596",
   "metadata": {},
   "source": [
    "### Helper Code"
   ]
  },
  {
   "cell_type": "code",
   "execution_count": null,
   "id": "0548ee61-fff2-4994-959d-0d9b2d072e34",
   "metadata": {},
   "outputs": [],
   "source": [
    "def create_index(client,index:str, num_shards=3):\n",
    "    \"\"\"Creates an index in Elasticsearch. Delete old index.\"\"\"\n",
    "    \n",
    "    if client.indices.exists(index=index):\n",
    "        client.indices.delete(index=index)\n",
    "    \n",
    "    client.indices.create(\n",
    "        index=index\n",
    "        ,settings = {\"number_of_shards\": num_shards}\n",
    "            # \"mappings\": {\n",
    "            #     \"properties\": {\n",
    "            #         \"name\": {\"type\": \"text\"},\n",
    "            #         \"borough\": {\"type\": \"keyword\"},\n",
    "            #         \"cuisine\": {\"type\": \"keyword\"},\n",
    "            #         \"grade\": {\"type\": \"keyword\"},\n",
    "            #         \"location\": {\"type\": \"geo_point\"},\n",
    "            #     }\n",
    "            # },\n",
    "       \n",
    "        #,ignore=400\n",
    "    )\n",
    "\n",
    "\n",
    "def generate_docs(df:pd.DataFrame):\n",
    "    \"\"\"\n",
    "    Given a datframe containing posts data, yields a generator of dicitionary \n",
    "    \"\"\"\n",
    "    \n",
    "    # iterate over dataframe contains posts with metadata\n",
    "    for index, row in df.iterrows():\n",
    "        doc = {**row} \n",
    "        \n",
    "        # use PostId as document id\n",
    "        doc['_id'] = doc[\"photo_id\"]\n",
    "        \n",
    "        for k in list(doc.keys()):\n",
    "            # don't insert nan fields\n",
    "            if type(doc[k]) !=list and (doc[k] ==None or  ( pd.isna( doc[k] )  )) :\n",
    "                del doc[k]\n",
    "        \n",
    "        yield doc\n",
    "        \n",
    "\n",
    "\n",
    "def fetch_results(client:Elasticsearch, query:str,  num_hits=5, fields = [\"description_final\"], analyzer =\"stop\"):\n",
    "    \"\"\"\n",
    "    With the passed elastic search client, return documents that contain the passed `query` in the fields specified by `fields`\n",
    "\n",
    "    If the fields is empty, it will search all text fields\n",
    "    \n",
    "    We are using mult-match, which by default uses `or`\n",
    "    https://www.elastic.co/guide/en/elasticsearch/reference/current/query-dsl-match-query.html\n",
    "    \"\"\"\n",
    "\n",
    "\n",
    "\n",
    "    \n",
    "    resp = client.search(\n",
    "        query= {\n",
    "                \"multi_match\": {\n",
    "                    \"query\": query,\n",
    "                    \"fields\": fields,\n",
    "                     \"analyzer\": analyzer\n",
    "                   # \"operator\": \"and\" \n",
    "                },\n",
    "               \n",
    "            }\n",
    "        ,size = num_hits\n",
    "    )\n",
    "    \n",
    "    return resp\n",
    "    \n",
    "\n",
    "        "
   ]
  },
  {
   "cell_type": "code",
   "execution_count": null,
   "id": "01c7fd33-0b84-4f30-875e-f74927c2a01a",
   "metadata": {},
   "outputs": [],
   "source": []
  },
  {
   "cell_type": "code",
   "execution_count": null,
   "id": "8567da35-60fd-46dc-993e-a5aa05597f2e",
   "metadata": {},
   "outputs": [],
   "source": []
  },
  {
   "cell_type": "code",
   "execution_count": null,
   "id": "7c84f7e4-5ec4-49cc-96ee-84d770821761",
   "metadata": {},
   "outputs": [],
   "source": []
  },
  {
   "cell_type": "markdown",
   "id": "8d2e53c5-ed4f-469c-a9c0-fd49d82b907f",
   "metadata": {},
   "source": [
    "### Index Documents\n"
   ]
  },
  {
   "cell_type": "code",
   "execution_count": null,
   "id": "0955e4d2-fe38-43c2-b3e7-baf9a2740e59",
   "metadata": {},
   "outputs": [],
   "source": []
  },
  {
   "cell_type": "code",
   "execution_count": null,
   "id": "34537a31-96e4-4845-82a9-eb2b0c5f0d69",
   "metadata": {},
   "outputs": [],
   "source": [
    "client = Elasticsearch(\n",
    "    [ELASTIC_FULL_URL]\n",
    ")"
   ]
  },
  {
   "cell_type": "markdown",
   "id": "16aa9e7c-fafa-4313-90ef-78b3ce454ec6",
   "metadata": {},
   "source": [
    "tell elastic search to create an index     \n",
    "An ES index is a collection of documents. \n",
    "\n",
    "ES suports inferring the documents without specifying the schema before hand "
   ]
  },
  {
   "cell_type": "code",
   "execution_count": null,
   "id": "c053ab03-dc02-4082-b2a1-2d823643129b",
   "metadata": {},
   "outputs": [],
   "source": [
    "create_index(client, index= ELASTIC_INDEX, num_shards=1)"
   ]
  },
  {
   "cell_type": "code",
   "execution_count": null,
   "id": "b70400ce-b0b0-49b2-8e8a-6635c4c1a157",
   "metadata": {},
   "outputs": [],
   "source": []
  },
  {
   "cell_type": "code",
   "execution_count": null,
   "id": "642685c2-cbea-4936-a40e-901421bfecb0",
   "metadata": {},
   "outputs": [],
   "source": []
  },
  {
   "cell_type": "code",
   "execution_count": null,
   "id": "d04f11cb-1024-4879-a328-bac28d0d6d31",
   "metadata": {},
   "outputs": [],
   "source": [
    "?client.indices.create"
   ]
  },
  {
   "cell_type": "code",
   "execution_count": null,
   "id": "37cebde7-107c-4294-bb1a-b0113f23283f",
   "metadata": {},
   "outputs": [],
   "source": [
    "requests.get(f\"{ELASTIC_FULL_URL}/_all/_settings\").json()"
   ]
  },
  {
   "cell_type": "markdown",
   "id": "3d19a623-ad97-4576-b2f4-fb949528e0f4",
   "metadata": {},
   "source": [
    "The index we created is composed of `3` shards and `1` replica.   \n",
    "\n",
    "When searching , ES queries each shard independantly and combines it"
   ]
  },
  {
   "cell_type": "code",
   "execution_count": null,
   "id": "9ee355a2-e370-4ea6-86c1-d0592a4e5bf3",
   "metadata": {},
   "outputs": [],
   "source": [
    "len(dset)"
   ]
  },
  {
   "cell_type": "code",
   "execution_count": null,
   "id": "ee2a36b9-d2db-4cd9-9ae2-bf259b9d0dd6",
   "metadata": {},
   "outputs": [],
   "source": [
    "df_subset = dset.to_pandas()\n",
    "number_of_docs = len(df_subset)"
   ]
  },
  {
   "cell_type": "markdown",
   "id": "5d241790-bb82-4efa-b4b1-40007bf6b91e",
   "metadata": {},
   "source": [
    "Bulk insert all of our documents"
   ]
  },
  {
   "cell_type": "code",
   "execution_count": null,
   "id": "340b6fc0-cd99-48e4-a8d6-71e3b8ce69f4",
   "metadata": {},
   "outputs": [],
   "source": [
    "df_subset"
   ]
  },
  {
   "cell_type": "code",
   "execution_count": null,
   "id": "bc893ce3-6a3b-4f43-b8b5-476bca5a87aa",
   "metadata": {},
   "outputs": [],
   "source": [
    "df_subset.iloc[0].to_dict()"
   ]
  },
  {
   "cell_type": "code",
   "execution_count": null,
   "id": "91490c0d-a49c-4b21-bf27-29ce7d259693",
   "metadata": {},
   "outputs": [],
   "source": [
    "with tqdm.auto.tqdm(total=number_of_docs , unit=\"docs\" ) as pbar:\n",
    "    successes = 0\n",
    "\n",
    "\n",
    "    for ok, action in streaming_bulk(\n",
    "            client=client, index=ELASTIC_INDEX, actions=generate_docs(df_subset) ,\n",
    "        ):\n",
    "        pbar.update(1)\n",
    "        successes += ok\n"
   ]
  },
  {
   "cell_type": "markdown",
   "id": "a02fb180-d608-4ee8-8610-ecea82fd628d",
   "metadata": {},
   "source": [
    "Inserting `20k` documents at `3000` docs/sec on a single node is pretty good"
   ]
  },
  {
   "cell_type": "code",
   "execution_count": null,
   "id": "a8aeb431-c5e1-4f0b-b9dc-84e2dde45bcb",
   "metadata": {},
   "outputs": [],
   "source": [
    "rich.print (\n",
    "    requests.get(f\"{ELASTIC_FULL_URL}/_cat/shards/{ELASTIC_INDEX}?v=true\").content.decode()\n",
    "    \n",
    ")"
   ]
  },
  {
   "cell_type": "code",
   "execution_count": null,
   "id": "08b189f0-481a-495d-a4f0-04b93b486c9b",
   "metadata": {},
   "outputs": [],
   "source": [
    "rich.print (\n",
    "    requests.get(f\"{ELASTIC_FULL_URL}/_cat/nodes?v=true\").content.decode()\n",
    "    \n",
    ")"
   ]
  },
  {
   "cell_type": "code",
   "execution_count": null,
   "id": "712315c7-1cf6-4d77-8575-df429f8e155b",
   "metadata": {},
   "outputs": [],
   "source": [
    "rich.print (\n",
    "    requests.get(f\"{ELASTIC_FULL_URL}/{ELASTIC_INDEX}/_mapping\").json()\n",
    "    \n",
    ")"
   ]
  },
  {
   "cell_type": "markdown",
   "id": "a9a9ee23-bce2-4b56-be22-9ec7d7ccd342",
   "metadata": {},
   "source": [
    "note that by default, the default schema for text content stored content as full text and keywords.      \n",
    "It is ignored as keyword, if the length is greater than 256 tokens\n",
    "\n",
    "[ignore_above reference](https://www.elastic.co/guide/en/elasticsearch/reference/current/ignore-above.html)"
   ]
  },
  {
   "cell_type": "code",
   "execution_count": null,
   "id": "4de6ad08-3c8d-4406-9475-3d8c89caec3a",
   "metadata": {},
   "outputs": [],
   "source": []
  },
  {
   "cell_type": "code",
   "execution_count": null,
   "id": "2bc60f8a-d78f-4e50-8407-fd307975a0c3",
   "metadata": {},
   "outputs": [],
   "source": []
  },
  {
   "cell_type": "code",
   "execution_count": null,
   "id": "e00f9947-e165-4a03-961e-5eb11f09a7c3",
   "metadata": {},
   "outputs": [],
   "source": []
  },
  {
   "cell_type": "markdown",
   "id": "77bda2d9-f179-497b-9383-dd0e4de489bb",
   "metadata": {},
   "source": [
    "## Evaluate"
   ]
  },
  {
   "cell_type": "code",
   "execution_count": null,
   "id": "d10c594b-8de8-4847-811e-51d5bcefb167",
   "metadata": {
    "tags": []
   },
   "outputs": [],
   "source": [
    "?client.get"
   ]
  },
  {
   "cell_type": "code",
   "execution_count": null,
   "id": "ee3c814b-a6d4-41ed-8499-c71851d31d02",
   "metadata": {},
   "outputs": [],
   "source": []
  },
  {
   "cell_type": "markdown",
   "id": "de93a098-26ae-4af5-8411-f889121a5823",
   "metadata": {},
   "source": [
    "getting a specific document by their id"
   ]
  },
  {
   "cell_type": "code",
   "execution_count": null,
   "id": "1926dcec-bcd1-41ca-99e8-8781ca0f5c29",
   "metadata": {},
   "outputs": [],
   "source": [
    "resp = client.get(index=ELASTIC_INDEX, id=\"XMyPniM9LF0\")\n",
    "resp.body"
   ]
  },
  {
   "cell_type": "code",
   "execution_count": null,
   "id": "e3bdfbff-0b73-4fc2-ac4c-8cd485c1b099",
   "metadata": {},
   "outputs": [],
   "source": []
  },
  {
   "cell_type": "code",
   "execution_count": null,
   "id": "32af85d1-e6cc-4690-af43-c352add1dd9e",
   "metadata": {},
   "outputs": [],
   "source": []
  },
  {
   "cell_type": "markdown",
   "id": "5dba76ce-8926-47ed-9c45-680a85450a0e",
   "metadata": {},
   "source": [
    "retrieve a document with a query"
   ]
  },
  {
   "cell_type": "code",
   "execution_count": null,
   "id": "16ee2249-8ea0-44ac-a841-5fc39e3b342d",
   "metadata": {},
   "outputs": [],
   "source": []
  },
  {
   "cell_type": "code",
   "execution_count": null,
   "id": "c6ae0b74-83b9-4649-b2df-08cae31f6831",
   "metadata": {},
   "outputs": [],
   "source": [
    "query = \"Two dogs playing in the snow\""
   ]
  },
  {
   "cell_type": "code",
   "execution_count": null,
   "id": "6d5dcaa3-9093-458a-b777-7a86d5f770d9",
   "metadata": {},
   "outputs": [],
   "source": [
    "# https://stackoverflow.com/questions/34147471/elasticsearch-how-to-search-for-a-value-in-any-field-across-all-types-in-one\n",
    "\n",
    "\n",
    "resp = client.search(\n",
    "    query = {\n",
    "            \"multi_match\": {\n",
    "                \"query\": query,\n",
    "                # \"fields\": [\"Title\", \"QuestionBody\"],\n",
    "                            }\n",
    "            }\n",
    "    , size=5\n",
    "    , explain=False\n",
    ")"
   ]
  },
  {
   "cell_type": "code",
   "execution_count": null,
   "id": "605e49ae-b070-4c93-b025-6c1b6bd7a0d4",
   "metadata": {},
   "outputs": [],
   "source": [
    "JSON(resp.body, expanded = True)"
   ]
  },
  {
   "cell_type": "code",
   "execution_count": null,
   "id": "b40330f1-3135-477d-81cb-617a97a39761",
   "metadata": {},
   "outputs": [],
   "source": []
  },
  {
   "cell_type": "markdown",
   "id": "cce80547-c969-4525-957b-cf45e88115e6",
   "metadata": {},
   "source": [
    "### Explain the score"
   ]
  },
  {
   "cell_type": "code",
   "execution_count": null,
   "id": "843d016d-008e-4111-a6a1-e772550da704",
   "metadata": {},
   "outputs": [],
   "source": [
    "query"
   ]
  },
  {
   "cell_type": "code",
   "execution_count": null,
   "id": "7c257c23-542c-4663-8447-79aa989a11dc",
   "metadata": {},
   "outputs": [],
   "source": [
    "resp = client.search(\n",
    "    query = {\n",
    "            \"multi_match\": {\n",
    "                \"query\": query,\n",
    "                 \"fields\": [\"description_final\"],\n",
    "                            }\n",
    "            }\n",
    "    , size=2\n",
    "    , explain=True\n",
    "    , source = [\"description_final\"]\n",
    ")"
   ]
  },
  {
   "cell_type": "code",
   "execution_count": null,
   "id": "7b41936d-7609-4909-af31-713b267e57a6",
   "metadata": {},
   "outputs": [],
   "source": [
    "JSON (resp.body , expanded=True)\n",
    "\n",
    "#print ( json.dumps(resp.body, indent=2) )"
   ]
  },
  {
   "cell_type": "markdown",
   "id": "dac42ccd-585a-44ee-91a0-bbc8e863b79a",
   "metadata": {},
   "source": [
    "in the `hits.hits['idx']['_expanation']` , we see individual score computed for each of the components that make BM25\n",
    "```\n",
    "weight(Title:pandas in 35543) [PerFieldSimilarity], result of:\"\n",
    "```"
   ]
  },
  {
   "cell_type": "code",
   "execution_count": null,
   "id": "737e4fad-1615-490c-9637-6eaa197d3f3b",
   "metadata": {},
   "outputs": [],
   "source": [
    "# resp = client.search(\n",
    "#     query = {\n",
    "#         \"bool\" : {\n",
    "#           \"must\" : {\n",
    "#             \"multi_match\" : { \"query\" : query, \"fields\": [\"Title\"] }\n",
    "#           },\n",
    "#           \"filter\": {\n",
    "#             \"term\" : { \"_id\" : \"55047745\" }\n",
    "#           }\n",
    "#         }\n",
    "#       }\n",
    "\n",
    "#     , size=2\n",
    "#     , explain=True\n",
    "#     , source = [\"Title\"]\n",
    "# )"
   ]
  },
  {
   "cell_type": "code",
   "execution_count": null,
   "id": "7b870b5e-04a9-4949-a034-55ac14b94502",
   "metadata": {},
   "outputs": [],
   "source": []
  },
  {
   "cell_type": "markdown",
   "id": "7066871e-4dae-4220-8727-d5397f353464",
   "metadata": {
    "tags": []
   },
   "source": [
    "### Distributed tf-idf"
   ]
  },
  {
   "cell_type": "markdown",
   "id": "e5957c0b-2497-4d52-aa3f-06641746decb",
   "metadata": {},
   "source": [
    "we are running an elastic search cluster with three shards.\n",
    "\n",
    "ES has two ways to compute the distributed term frequencies\n",
    "\n",
    "\n",
    "\n",
    "`query_then_fetch`     \n",
    "(Default) Distributed term frequencies are calculated locally for each shard running the search.    \n",
    "\n",
    "We recommend this option for faster searches with potentially less accurate scoring.\n",
    "\n",
    "`dfs_query_then_fetch`    \n",
    "Distributed term frequencies are calculated globally, using information gathered from all shards running the search.   \n",
    "While this option increases the accuracy of scoring, it adds a round-trip to each shard, which can result in slower searches.\n",
    "\n",
    "taken from ES [docs](https://www.elastic.co/guide/en/elasticsearch/reference/8.4/search-search.html)"
   ]
  },
  {
   "cell_type": "code",
   "execution_count": null,
   "id": "93dd724d-de7a-463a-a6e2-64cb981584d6",
   "metadata": {},
   "outputs": [],
   "source": []
  },
  {
   "cell_type": "markdown",
   "id": "19827c91-66be-4f6d-9842-ee1555614732",
   "metadata": {},
   "source": [
    "searching with the default mode"
   ]
  },
  {
   "cell_type": "code",
   "execution_count": null,
   "id": "ada31079-047e-4d1c-a4ca-30f59e142a1e",
   "metadata": {},
   "outputs": [],
   "source": [
    "resp = client.search(\n",
    "    query = {\n",
    "            \"multi_match\": {\n",
    "                \"query\": query,\n",
    "                 \"fields\": [\"description_final\"],\n",
    "                            }\n",
    "            }\n",
    "    , size=2\n",
    "    #, explain=True\n",
    "    , source = [\"description_final\"]\n",
    "    , search_type = \"query_then_fetch\"\n",
    ")"
   ]
  },
  {
   "cell_type": "code",
   "execution_count": null,
   "id": "308aaab1-228d-4c74-a811-745d12f77f06",
   "metadata": {},
   "outputs": [],
   "source": [
    "JSON (resp.body , expanded=True)\n"
   ]
  },
  {
   "cell_type": "code",
   "execution_count": null,
   "id": "b03a90d7-5b7b-4010-8e6a-86bd353aec51",
   "metadata": {},
   "outputs": [],
   "source": []
  },
  {
   "cell_type": "markdown",
   "id": "8ef264d1-136e-49ac-9f1c-691af5c5a0b8",
   "metadata": {},
   "source": [
    "searching with the global dfs mode"
   ]
  },
  {
   "cell_type": "code",
   "execution_count": null,
   "id": "eaf23bd9-8079-438d-be3f-318e5f1b19ab",
   "metadata": {},
   "outputs": [],
   "source": [
    "resp = client.search(\n",
    "    query = {\n",
    "            \"multi_match\": {\n",
    "                \"query\": query,\n",
    "                 \"fields\": [\"description_final\"],\n",
    "                            }\n",
    "            }\n",
    "    , size=2\n",
    "    #, explain=True\n",
    "    , source = [\"description_final\"]\n",
    "    , search_type = \"dfs_query_then_fetch\"\n",
    ")"
   ]
  },
  {
   "cell_type": "code",
   "execution_count": null,
   "id": "0043720f-72d6-43cb-be68-1ad15afdbfd4",
   "metadata": {},
   "outputs": [],
   "source": [
    "JSON (resp.body , expanded=True)\n"
   ]
  },
  {
   "cell_type": "markdown",
   "id": "5b76d354-c48c-49aa-a260-b0fb2df1ff92",
   "metadata": {},
   "source": [
    "score difference between the different search types\n",
    "\n",
    "before: 14.775831, 13.5637\n",
    "    \n",
    "after:  14.706409, 13.708656"
   ]
  },
  {
   "cell_type": "code",
   "execution_count": null,
   "id": "712fbc24-bee4-4ab8-ab29-3373aa561b5e",
   "metadata": {},
   "outputs": [],
   "source": []
  },
  {
   "cell_type": "code",
   "execution_count": null,
   "id": "ca8797fa-ed9b-4595-b513-b4595cb7db71",
   "metadata": {},
   "outputs": [],
   "source": []
  },
  {
   "cell_type": "code",
   "execution_count": null,
   "id": "5e00ac71-e029-4a3a-bd0e-b3a3a9782fde",
   "metadata": {},
   "outputs": [],
   "source": []
  },
  {
   "cell_type": "code",
   "execution_count": null,
   "id": "22895c00-51e0-4c67-bfa5-a756cc30c939",
   "metadata": {},
   "outputs": [],
   "source": []
  },
  {
   "cell_type": "code",
   "execution_count": null,
   "id": "a4ceb031-74a9-4028-9ac3-4d84d11d2308",
   "metadata": {},
   "outputs": [],
   "source": []
  },
  {
   "cell_type": "code",
   "execution_count": null,
   "id": "daa729bd-30b6-4ec5-8116-b7d69cc5a95c",
   "metadata": {},
   "outputs": [],
   "source": []
  },
  {
   "cell_type": "code",
   "execution_count": null,
   "id": "77adec2d-dce6-4201-b239-295251e1eb3b",
   "metadata": {},
   "outputs": [],
   "source": []
  },
  {
   "cell_type": "code",
   "execution_count": null,
   "id": "17cd58c2-c23d-40fa-9dd7-544fecbf52bd",
   "metadata": {},
   "outputs": [],
   "source": []
  },
  {
   "cell_type": "code",
   "execution_count": null,
   "id": "a800f1e1-9c52-4373-8c45-7bce21cf4f96",
   "metadata": {},
   "outputs": [],
   "source": []
  },
  {
   "cell_type": "code",
   "execution_count": null,
   "id": "5eaca044-83e7-4432-ac37-e12cfd7f8dd4",
   "metadata": {},
   "outputs": [],
   "source": []
  },
  {
   "cell_type": "code",
   "execution_count": null,
   "id": "890a8140-e0da-4bc6-b137-22994006ba0d",
   "metadata": {},
   "outputs": [],
   "source": []
  },
  {
   "cell_type": "code",
   "execution_count": null,
   "id": "ee539a4f-bef3-4878-9683-38439f223511",
   "metadata": {},
   "outputs": [],
   "source": []
  },
  {
   "cell_type": "code",
   "execution_count": null,
   "id": "8ea7ddc8-5960-4ef1-a5ad-4f0cf8341322",
   "metadata": {},
   "outputs": [],
   "source": []
  },
  {
   "cell_type": "code",
   "execution_count": null,
   "id": "09a8cbc7-837c-42be-b7b4-5900710e0779",
   "metadata": {},
   "outputs": [],
   "source": []
  },
  {
   "cell_type": "code",
   "execution_count": null,
   "id": "c205b1d1-8531-4cb8-98f8-1ef698eef590",
   "metadata": {},
   "outputs": [],
   "source": []
  },
  {
   "cell_type": "code",
   "execution_count": null,
   "id": "dd4f17e4-dd10-4622-9d35-c85b9798ecf6",
   "metadata": {},
   "outputs": [],
   "source": []
  },
  {
   "cell_type": "code",
   "execution_count": null,
   "id": "0dcf9ab5-132a-4ec2-bee1-03a70c71db3e",
   "metadata": {},
   "outputs": [],
   "source": []
  },
  {
   "cell_type": "code",
   "execution_count": null,
   "id": "10ad187a-fc44-4ee8-8157-485ac0421547",
   "metadata": {},
   "outputs": [],
   "source": []
  },
  {
   "cell_type": "code",
   "execution_count": null,
   "id": "d443c6bd-72d6-401f-bec6-b62015a8786c",
   "metadata": {},
   "outputs": [],
   "source": []
  },
  {
   "cell_type": "markdown",
   "id": "65ee6a3a-2278-4e4f-a245-754faad7252a",
   "metadata": {},
   "source": [
    "##### Lets go over the method below. It gets the search query and k value that is the recall limit.\n",
    "- Stop, stem and tokenize the query\n",
    "- Get bm25 scores of the documents\n",
    "- Sort the documents by bm25 scores and get top k"
   ]
  },
  {
   "cell_type": "code",
   "execution_count": null,
   "id": "5bb6762f-d339-49dd-bc18-0a18f9de5880",
   "metadata": {},
   "outputs": [],
   "source": [
    "def fetch_results(client:Elasticsearch, query:str,  num_hits=5, fields = [\"description_final\"], analyzer =\"stop\"):\n",
    "    \"\"\"\n",
    "    With the passed elastic search client, return documents that contain the passed `query` in the fields specified by `fields`\n",
    "\n",
    "    If the fields is empty, it will search all text fields\n",
    "    \n",
    "    We are using mult-match, which by default uses `or`\n",
    "    https://www.elastic.co/guide/en/elasticsearch/reference/current/query-dsl-match-query.html\n",
    "    \"\"\"\n",
    "\n",
    "\n",
    "\n",
    "    \n",
    "    resp = client.search(\n",
    "        query= {\n",
    "                \"multi_match\": {\n",
    "                    \"query\": query,\n",
    "                    \"fields\": fields,\n",
    "                     \"analyzer\": analyzer,\n",
    "                 #  \"operator\": \"and\" \n",
    "                },\n",
    "               \n",
    "            }\n",
    "        ,size = num_hits\n",
    "    )\n",
    "    \n",
    "    return resp\n",
    "    "
   ]
  },
  {
   "cell_type": "code",
   "execution_count": null,
   "id": "4b9a00bb-9c3a-4e4d-8107-ef4493d3aeab",
   "metadata": {
    "tags": []
   },
   "outputs": [],
   "source": [
    "def find_results(query:str , k =5, analyzer=\"english\"):\n",
    "    \n",
    "    \n",
    "    top_items = fetch_results(client,query=query,num_hits=k, analyzer=analyzer)\n",
    "    \n",
    "    \n",
    "\n",
    "    display(HTML(f\"<h1>Query: {query} </h1>\"))\n",
    "    \n",
    "    # Iterate over the top k results\n",
    "    for hit in top_items['hits']['hits']:\n",
    "        doc_id = hit['_id']\n",
    "        \n",
    "        photo_data = hit[\"_source\"]\n",
    "        \n",
    "        # Display the photo\n",
    "        display(Image(url=photo_data[\"photo_image_url\"] + \"?w=200\"))\n",
    "\n",
    "        # Display the attribution text\n",
    "        display(HTML(f\"\"\"\n",
    "                     Photo title: {photo_data[\"description_final\"]}   <br/>\n",
    "                     Photo by <a href=\"https://unsplash.com/@{photo_data[\"photographer_username\"]}?utm_source=SearchWorkshop&utm_medium=referral\">{photo_data[\"photographer_first_name\"]} {photo_data.get(\"photographer_last_name\",\"\")}</a> on <a href=\"https://unsplash.com/?utm_source=SearchWorkshop&utm_medium=referral\">Unsplash</a> <br/>\n",
    "                     Distance: {hit['_score']}\n",
    "                     \"\"\"\n",
    "                                        ))\n",
    "        print()"
   ]
  },
  {
   "cell_type": "code",
   "execution_count": null,
   "id": "0de51515-7432-467c-a7b5-c30e7db5ef24",
   "metadata": {},
   "outputs": [],
   "source": []
  },
  {
   "cell_type": "code",
   "execution_count": null,
   "id": "cede1452-8590-4138-ac6a-cb9e999473e4",
   "metadata": {},
   "outputs": [],
   "source": [
    "find_results( \"Two dogs playing in the snow\", analyzer=\"english\")"
   ]
  },
  {
   "cell_type": "code",
   "execution_count": null,
   "id": "1ca5669c-8b6c-4f7c-b342-05bc638838b9",
   "metadata": {},
   "outputs": [],
   "source": [
    "find_results( \"Two dogs playing in the snow\", analyzer=\"whitespace\")"
   ]
  },
  {
   "cell_type": "code",
   "execution_count": null,
   "id": "38612188-40c0-4a73-aa0f-e4cc47e9c091",
   "metadata": {},
   "outputs": [],
   "source": []
  },
  {
   "cell_type": "code",
   "execution_count": null,
   "id": "41427cd9-b8ba-498b-a1b1-d4cac800f34c",
   "metadata": {},
   "outputs": [],
   "source": []
  },
  {
   "cell_type": "code",
   "execution_count": null,
   "id": "e37f28be-5c92-49ea-8e99-c95e8d7d722a",
   "metadata": {},
   "outputs": [],
   "source": []
  },
  {
   "cell_type": "code",
   "execution_count": null,
   "id": "29a3a191-da36-4a29-821f-6ccc3d7710e3",
   "metadata": {},
   "outputs": [],
   "source": []
  },
  {
   "cell_type": "code",
   "execution_count": null,
   "id": "dd0c1c6f-87d7-4fb2-93dd-ae43f5f132ae",
   "metadata": {},
   "outputs": [],
   "source": [
    "find_results( \"boy and girl on a beach\")"
   ]
  },
  {
   "cell_type": "code",
   "execution_count": null,
   "id": "d07b6862-0fb4-415e-8748-c85db7047cf3",
   "metadata": {},
   "outputs": [],
   "source": []
  },
  {
   "cell_type": "code",
   "execution_count": null,
   "id": "e5f7f71c-3eb5-4bc2-baff-f28e743ea856",
   "metadata": {},
   "outputs": [],
   "source": []
  },
  {
   "cell_type": "code",
   "execution_count": null,
   "id": "ef78dbad-956e-486b-83c9-0241bbcdec1c",
   "metadata": {},
   "outputs": [],
   "source": [
    "find_results( \"image of a man in a desert\")"
   ]
  },
  {
   "cell_type": "code",
   "execution_count": null,
   "id": "d3bbacdc-4dc3-437b-8a72-d7d2f6ce4cf5",
   "metadata": {},
   "outputs": [],
   "source": []
  },
  {
   "cell_type": "code",
   "execution_count": null,
   "id": "0dbc785c-d6c3-4073-a14b-b61c500d9212",
   "metadata": {},
   "outputs": [],
   "source": [
    "find_results( \"light at the end of the tunnel\")\n",
    "\n"
   ]
  },
  {
   "cell_type": "code",
   "execution_count": null,
   "id": "9de0b531-7895-41fe-86e9-bd78022fdc2f",
   "metadata": {},
   "outputs": [],
   "source": []
  },
  {
   "cell_type": "code",
   "execution_count": null,
   "id": "1ca361fe-c0d8-445a-af59-db1e2c8322f5",
   "metadata": {},
   "outputs": [],
   "source": []
  },
  {
   "cell_type": "code",
   "execution_count": null,
   "id": "dd2646c1-0e3c-4dac-b0db-cd5ed05b34b5",
   "metadata": {},
   "outputs": [],
   "source": [
    "%%timeit\n",
    "search_query = \"Two dogs playing in the snow\"\n",
    "k =5 \n",
    "top_items = fetch_results(client,query=query,num_hits=k)\n",
    "\n"
   ]
  },
  {
   "cell_type": "code",
   "execution_count": null,
   "id": "cc151777-7d58-4da6-b70f-9c5bbe00d156",
   "metadata": {},
   "outputs": [],
   "source": []
  },
  {
   "cell_type": "code",
   "execution_count": null,
   "id": "ba1b523e-13b9-40db-9e68-2e078e4c772f",
   "metadata": {},
   "outputs": [],
   "source": []
  },
  {
   "cell_type": "code",
   "execution_count": null,
   "id": "bd1446d1-258b-4db2-92f9-0683651b2909",
   "metadata": {},
   "outputs": [],
   "source": []
  },
  {
   "cell_type": "code",
   "execution_count": null,
   "id": "69ed9542-1ae0-4703-a0a9-fcbdcf558fb5",
   "metadata": {},
   "outputs": [],
   "source": []
  }
 ],
 "metadata": {
  "environment": {
   "kernel": "workshop",
   "name": "pytorch-gpu.1-13.m107",
   "type": "gcloud",
   "uri": "gcr.io/deeplearning-platform-release/pytorch-gpu.1-13:m107"
  },
  "kernelspec": {
   "display_name": "workshop",
   "language": "python",
   "name": "workshop"
  },
  "language_info": {
   "codemirror_mode": {
    "name": "ipython",
    "version": 3
   },
   "file_extension": ".py",
   "mimetype": "text/x-python",
   "name": "python",
   "nbconvert_exporter": "python",
   "pygments_lexer": "ipython3",
   "version": "3.7.12"
  }
 },
 "nbformat": 4,
 "nbformat_minor": 5
}
