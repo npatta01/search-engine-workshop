{
 "cells": [
  {
   "cell_type": "code",
   "execution_count": 1,
   "id": "6e32ff73-2e04-4deb-b120-0b2dd544c9c9",
   "metadata": {},
   "outputs": [],
   "source": [
    "\"\"\"Script that downloads a public dataset and streams it to an Elasticsearch cluster\"\"\"\n",
    "\n",
    "import csv\n",
    "from os.path import abspath, join, dirname, exists\n",
    "import tqdm\n",
    "import urllib3\n",
    "from elasticsearch import Elasticsearch\n",
    "from elasticsearch.helpers import streaming_bulk"
   ]
  },
  {
   "cell_type": "code",
   "execution_count": 4,
   "id": "ea3601ee-d56f-43c1-b91b-b4e9e52a0a50",
   "metadata": {},
   "outputs": [],
   "source": [
    "\n",
    "NYC_RESTAURANTS = (\n",
    "    \"https://data.cityofnewyork.us/api/views/43nn-pn8j/rows.csv?accessType=DOWNLOAD\"\n",
    ")\n",
    "DATASET_PATH = join(\"../data/\", \"nyc-restaurants.csv\")\n",
    "CHUNK_SIZE = 16384\n",
    "\n"
   ]
  },
  {
   "cell_type": "code",
   "execution_count": 5,
   "id": "28fd8eea-7c48-4395-b803-cd3df13e503c",
   "metadata": {},
   "outputs": [],
   "source": [
    "\n",
    "def download_dataset():\n",
    "    \"\"\"Downloads the public dataset if not locally downlaoded\n",
    "    and returns the number of rows are in the .csv file.\n",
    "    \"\"\"\n",
    "    if not exists(DATASET_PATH):\n",
    "        http = urllib3.PoolManager()\n",
    "        resp = http.request(\"GET\", NYC_RESTAURANTS, preload_content=False)\n",
    "\n",
    "        if resp.status != 200:\n",
    "            raise RuntimeError(\"Could not download dataset\")\n",
    "\n",
    "        with open(DATASET_PATH, mode=\"wb\") as f:\n",
    "            chunk = resp.read(CHUNK_SIZE)\n",
    "            while chunk:\n",
    "                f.write(chunk)\n",
    "                chunk = resp.read(CHUNK_SIZE)\n",
    "\n",
    "    with open(DATASET_PATH) as f:\n",
    "        return sum([1 for _ in f]) - 1\n",
    "\n",
    "\n",
    "def create_index(client):\n",
    "    \"\"\"Creates an index in Elasticsearch if one isn't already there.\"\"\"\n",
    "    client.indices.create(\n",
    "        index=\"nyc-restaurants\",\n",
    "        body={\n",
    "            \"settings\": {\"number_of_shards\": 1},\n",
    "            \"mappings\": {\n",
    "                \"properties\": {\n",
    "                    \"name\": {\"type\": \"text\"},\n",
    "                    \"borough\": {\"type\": \"keyword\"},\n",
    "                    \"cuisine\": {\"type\": \"keyword\"},\n",
    "                    \"grade\": {\"type\": \"keyword\"},\n",
    "                    \"location\": {\"type\": \"geo_point\"},\n",
    "                }\n",
    "            },\n",
    "        },\n",
    "        ignore=400,\n",
    "    )\n",
    "\n",
    "\n",
    "def generate_actions():\n",
    "    \"\"\"Reads the file through csv.DictReader() and for each row\n",
    "    yields a single document. This function is passed into the bulk()\n",
    "    helper to create many documents in sequence.\n",
    "    \"\"\"\n",
    "    with open(DATASET_PATH, mode=\"r\") as f:\n",
    "        reader = csv.DictReader(f)\n",
    "\n",
    "        for row in reader:\n",
    "            doc = {\n",
    "                \"_id\": row[\"CAMIS\"],\n",
    "                \"name\": row[\"DBA\"],\n",
    "                \"borough\": row[\"BORO\"],\n",
    "                \"cuisine\": row[\"CUISINE DESCRIPTION\"],\n",
    "                \"grade\": row[\"GRADE\"] or None,\n",
    "            }\n",
    "\n",
    "            lat = row[\"Latitude\"]\n",
    "            lon = row[\"Longitude\"]\n",
    "            if lat not in (\"\", \"0\") and lon not in (\"\", \"0\"):\n",
    "                doc[\"location\"] = {\"lat\": float(lat), \"lon\": float(lon)}\n",
    "            yield doc\n",
    "\n",
    "\n"
   ]
  },
  {
   "cell_type": "code",
   "execution_count": 6,
   "id": "74ef7663-9bca-47e0-9cea-90c7eebb5e63",
   "metadata": {},
   "outputs": [],
   "source": [
    "def main():\n",
    "    print(\"Loading dataset...\")\n",
    "    number_of_docs = download_dataset()\n",
    "\n",
    "    client = Elasticsearch(\n",
    "        # Add your cluster configuration here!\n",
    "    )\n",
    "    print(\"Creating an index...\")\n",
    "    create_index(client)\n",
    "\n",
    "    print(\"Indexing documents...\")\n",
    "    progress = tqdm.tqdm(unit=\"docs\", total=number_of_docs)\n",
    "    successes = 0\n",
    "    for ok, action in streaming_bulk(\n",
    "        client=client, index=\"nyc-restaurants\", actions=generate_actions(),\n",
    "    ):\n",
    "        progress.update(1)\n",
    "        successes += ok\n",
    "    print(\"Indexed %d/%d documents\" % (successes, number_of_docs))"
   ]
  },
  {
   "cell_type": "code",
   "execution_count": 7,
   "id": "f80c1d0a-58cd-41a9-bb8a-4a97f73b7bbc",
   "metadata": {},
   "outputs": [
    {
     "name": "stdout",
     "output_type": "stream",
     "text": [
      "Loading dataset...\n",
      "Creating an index...\n",
      "Indexing documents...\n"
     ]
    },
    {
     "name": "stderr",
     "output_type": "stream",
     "text": [
      "100%|██████████| 238408/238408 [00:21<00:00, 11087.17docs/s]"
     ]
    },
    {
     "name": "stdout",
     "output_type": "stream",
     "text": [
      "Indexed 238408/238408 documents\n"
     ]
    },
    {
     "name": "stderr",
     "output_type": "stream",
     "text": [
      "\n"
     ]
    }
   ],
   "source": [
    "main()"
   ]
  },
  {
   "cell_type": "code",
   "execution_count": null,
   "id": "fafb807e-b51b-4400-94ee-8866241e7b76",
   "metadata": {},
   "outputs": [],
   "source": []
  }
 ],
 "metadata": {
  "environment": {
   "kernel": "stackoverflow",
   "name": "pytorch-gpu.1-11.m94",
   "type": "gcloud",
   "uri": "gcr.io/deeplearning-platform-release/pytorch-gpu.1-11:m94"
  },
  "kernelspec": {
   "display_name": "Python (stackoverflow)",
   "language": "python",
   "name": "stackoverflow"
  },
  "language_info": {
   "codemirror_mode": {
    "name": "ipython",
    "version": 3
   },
   "file_extension": ".py",
   "mimetype": "text/x-python",
   "name": "python",
   "nbconvert_exporter": "python",
   "pygments_lexer": "ipython3",
   "version": "3.8.13"
  }
 },
 "nbformat": 4,
 "nbformat_minor": 5
}
