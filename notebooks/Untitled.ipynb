{
 "cells": [
  {
   "cell_type": "code",
   "execution_count": 1,
   "id": "edb8fbce-fe3c-4748-9427-c10c2fb53902",
   "metadata": {},
   "outputs": [],
   "source": [
    "from transformers import CLIPProcessor, CLIPModel\n",
    "from PIL import Image\n",
    "import requests\n"
   ]
  },
  {
   "cell_type": "code",
   "execution_count": 2,
   "id": "8bf97128-4dc2-4f50-8495-325063fd9972",
   "metadata": {},
   "outputs": [
    {
     "data": {
      "application/vnd.jupyter.widget-view+json": {
       "model_id": "8d884bf2a41749c6b6abd8542736b8fc",
       "version_major": 2,
       "version_minor": 0
      },
      "text/plain": [
       "Downloading:   0%|          | 0.00/4.19k [00:00<?, ?B/s]"
      ]
     },
     "metadata": {},
     "output_type": "display_data"
    },
    {
     "data": {
      "application/vnd.jupyter.widget-view+json": {
       "model_id": "ef4c82718f844ab5b9476591e3db657a",
       "version_major": 2,
       "version_minor": 0
      },
      "text/plain": [
       "Downloading:   0%|          | 0.00/605M [00:00<?, ?B/s]"
      ]
     },
     "metadata": {},
     "output_type": "display_data"
    },
    {
     "data": {
      "application/vnd.jupyter.widget-view+json": {
       "model_id": "a45a51fc59f643a0a877b749b6c9978d",
       "version_major": 2,
       "version_minor": 0
      },
      "text/plain": [
       "Downloading:   0%|          | 0.00/316 [00:00<?, ?B/s]"
      ]
     },
     "metadata": {},
     "output_type": "display_data"
    },
    {
     "data": {
      "application/vnd.jupyter.widget-view+json": {
       "model_id": "65d07ee2b461474898b57b0d2ab7ac58",
       "version_major": 2,
       "version_minor": 0
      },
      "text/plain": [
       "Downloading:   0%|          | 0.00/568 [00:00<?, ?B/s]"
      ]
     },
     "metadata": {},
     "output_type": "display_data"
    },
    {
     "data": {
      "application/vnd.jupyter.widget-view+json": {
       "model_id": "841d3311df674cc7b25ef3d967562f1a",
       "version_major": 2,
       "version_minor": 0
      },
      "text/plain": [
       "Downloading:   0%|          | 0.00/862k [00:00<?, ?B/s]"
      ]
     },
     "metadata": {},
     "output_type": "display_data"
    },
    {
     "data": {
      "application/vnd.jupyter.widget-view+json": {
       "model_id": "0737ee7d84a4406e828d68d5ff27d40e",
       "version_major": 2,
       "version_minor": 0
      },
      "text/plain": [
       "Downloading:   0%|          | 0.00/525k [00:00<?, ?B/s]"
      ]
     },
     "metadata": {},
     "output_type": "display_data"
    },
    {
     "data": {
      "application/vnd.jupyter.widget-view+json": {
       "model_id": "0ca6a3bcfde24dba82f725b9c9b32c38",
       "version_major": 2,
       "version_minor": 0
      },
      "text/plain": [
       "Downloading:   0%|          | 0.00/2.22M [00:00<?, ?B/s]"
      ]
     },
     "metadata": {},
     "output_type": "display_data"
    },
    {
     "data": {
      "application/vnd.jupyter.widget-view+json": {
       "model_id": "94ef478f5a4e42a496d6452a9c4ed338",
       "version_major": 2,
       "version_minor": 0
      },
      "text/plain": [
       "Downloading:   0%|          | 0.00/389 [00:00<?, ?B/s]"
      ]
     },
     "metadata": {},
     "output_type": "display_data"
    }
   ],
   "source": [
    "model = CLIPModel.from_pretrained(\"openai/clip-vit-base-patch32\")\n",
    "processor = CLIPProcessor.from_pretrained(\"openai/clip-vit-base-patch32\")\n",
    "\n",
    "url = \"http://images.cocodataset.org/val2017/000000039769.jpg\"\n",
    "image = Image.open(requests.get(url, stream=True).raw)\n",
    "\n",
    "inputs = processor(text=[\"a photo of a cat\", \"a photo of a dog\"], images=image, return_tensors=\"pt\", padding=True)\n",
    "\n",
    "outputs = model(**inputs)\n",
    "logits_per_image = outputs.logits_per_image # this is the image-text similarity score\n",
    "probs = logits_per_image.softmax(dim=1) # we can take the softmax to get the label probabilities"
   ]
  },
  {
   "cell_type": "code",
   "execution_count": 3,
   "id": "7f29dc21-315a-4fbc-b7c7-354fa86a8751",
   "metadata": {},
   "outputs": [
    {
     "data": {
      "text/plain": [
       "tensor([[0.9949, 0.0051]], grad_fn=<SoftmaxBackward>)"
      ]
     },
     "execution_count": 3,
     "metadata": {},
     "output_type": "execute_result"
    }
   ],
   "source": [
    "probs"
   ]
  },
  {
   "cell_type": "code",
   "execution_count": 5,
   "id": "3a6ee53e-b8da-4fa6-9791-62900572e0d1",
   "metadata": {},
   "outputs": [
    {
     "data": {
      "text/plain": [
       "\u001b[0;31mType:\u001b[0m        CLIPOutput\n",
       "\u001b[0;31mString form:\u001b[0m\n",
       "CLIPOutput(loss=None, logits_per_image=tensor([[24.5701, 19.3049]], grad_fn=<TBackward>), logits_ <...> ,  1.0862e+00]],\n",
       "           grad_fn=<NativeLayerNormBackward>), hidden_states=None, attentions=None))\n",
       "\u001b[0;31mLength:\u001b[0m      6\n",
       "\u001b[0;31mFile:\u001b[0m        /opt/conda/envs/py38/lib/python3.8/site-packages/transformers/models/clip/modeling_clip.py\n",
       "\u001b[0;31mDocstring:\u001b[0m  \n",
       "Args:\n",
       "    loss (`torch.FloatTensor` of shape `(1,)`, *optional*, returned when `return_loss` is `True`):\n",
       "        Contrastive loss for image-text similarity.\n",
       "    logits_per_image:(`torch.FloatTensor` of shape `(image_batch_size, text_batch_size)`):\n",
       "        The scaled dot product scores between `image_embeds` and `text_embeds`. This represents the image-text\n",
       "        similarity scores.\n",
       "    logits_per_text:(`torch.FloatTensor` of shape `(text_batch_size, image_batch_size)`):\n",
       "        The scaled dot product scores between `text_embeds` and `image_embeds`. This represents the text-image\n",
       "        similarity scores.\n",
       "    text_embeds(`torch.FloatTensor` of shape `(batch_size, output_dim`):\n",
       "        The text embeddings obtained by applying the projection layer to the pooled output of [`CLIPTextModel`].\n",
       "    image_embeds(`torch.FloatTensor` of shape `(batch_size, output_dim`):\n",
       "        The image embeddings obtained by applying the projection layer to the pooled output of [`CLIPVisionModel`].\n",
       "    text_model_output(`BaseModelOutputWithPooling`):\n",
       "        The output of the [`CLIPTextModel`].\n",
       "    vision_model_output(`BaseModelOutputWithPooling`):\n",
       "        The output of the [`CLIPVisionModel`].\n"
      ]
     },
     "metadata": {},
     "output_type": "display_data"
    }
   ],
   "source": [
    "?outputs"
   ]
  },
  {
   "cell_type": "code",
   "execution_count": null,
   "id": "21f8c708-fbfd-4180-b278-10d1fb4173c6",
   "metadata": {},
   "outputs": [],
   "source": []
  }
 ],
 "metadata": {
  "environment": {
   "kernel": "py38",
   "name": "pytorch-gpu.1-12.m99",
   "type": "gcloud",
   "uri": "gcr.io/deeplearning-platform-release/pytorch-gpu.1-12:m99"
  },
  "kernelspec": {
   "display_name": "py38",
   "language": "python",
   "name": "py38"
  },
  "language_info": {
   "codemirror_mode": {
    "name": "ipython",
    "version": 3
   },
   "file_extension": ".py",
   "mimetype": "text/x-python",
   "name": "python",
   "nbconvert_exporter": "python",
   "pygments_lexer": "ipython3",
   "version": "3.8.13"
  }
 },
 "nbformat": 4,
 "nbformat_minor": 5
}
