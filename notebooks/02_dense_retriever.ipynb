{
 "cells": [
  {
   "cell_type": "code",
   "execution_count": 1,
   "id": "d8e9589b-da2c-4a36-a260-36a4f72997cf",
   "metadata": {
    "tags": []
   },
   "outputs": [],
   "source": [
    "# !pip install -U pandas pinecone-client sentence-transformers\n"
   ]
  },
  {
   "cell_type": "code",
   "execution_count": null,
   "id": "497ca438-ed72-44c4-b029-dfe40d24b697",
   "metadata": {},
   "outputs": [],
   "source": []
  },
  {
   "cell_type": "markdown",
   "id": "18269eb9-193d-491b-9a4b-13e864146fb2",
   "metadata": {},
   "source": [
    "# Dense Retriever"
   ]
  },
  {
   "cell_type": "markdown",
   "id": "ff7964ce-ee3c-4cdf-b8f2-37dcf45006ab",
   "metadata": {},
   "source": [
    "This is a sentence-transformers model: It maps sentences & paragraphs to a 384 dimensional dense vector space and can be used for tasks like clustering or semantic search.\n",
    "\n",
    "\n",
    "\n",
    "The project aims to train sentence embedding models on very large sentence level datasets using a self-supervised contrastive learning objective. We used the pretrained nreimers/MiniLM-L6-H384-uncased model and fine-tuned in on a 1B sentence pairs dataset. We use a contrastive learning objective: given a sentence from the pair, the model should predict which out of a set of randomly sampled other sentences, was actually paired with it in our dataset.\n",
    "\n",
    "\n",
    "\n",
    "\n",
    "[Doc](https://huggingface.co/sentence-transformers/all-MiniLM-L6-v2)"
   ]
  },
  {
   "cell_type": "code",
   "execution_count": null,
   "id": "63604938-8d33-44b8-9081-85c5db3a3cc8",
   "metadata": {},
   "outputs": [],
   "source": []
  },
  {
   "cell_type": "code",
   "execution_count": 2,
   "id": "b352bcd9-d1c4-4846-b3d8-efd63ae3255d",
   "metadata": {},
   "outputs": [],
   "source": [
    "from sentence_transformers import SentenceTransformer\n",
    "\n",
    "import datasets\n",
    "import rich\n",
    "from IPython.display import Image, JSON\n",
    "from IPython.core.display import HTML\n",
    "import numpy as np\n",
    "\n",
    "from transformers import AutoTokenizer\n"
   ]
  },
  {
   "cell_type": "code",
   "execution_count": null,
   "id": "a51e4d05-d325-4c8f-b184-d2aa634b7fcf",
   "metadata": {},
   "outputs": [],
   "source": []
  },
  {
   "cell_type": "code",
   "execution_count": null,
   "id": "b79a0ebd-ca41-4a8d-a700-41003fe13d27",
   "metadata": {},
   "outputs": [],
   "source": []
  },
  {
   "cell_type": "code",
   "execution_count": 3,
   "id": "58510833-873a-46d4-a364-715c4c3a53dd",
   "metadata": {},
   "outputs": [],
   "source": [
    "model_name = 'sentence-transformers/all-MiniLM-L6-v2'"
   ]
  },
  {
   "cell_type": "code",
   "execution_count": 4,
   "id": "ef7e8dff-3805-4b25-9bae-6ce925e00c6f",
   "metadata": {},
   "outputs": [
    {
     "data": {
      "text/plain": [
       "SentenceTransformer(\n",
       "  (0): Transformer({'max_seq_length': 256, 'do_lower_case': False}) with Transformer model: BertModel \n",
       "  (1): Pooling({'word_embedding_dimension': 384, 'pooling_mode_cls_token': False, 'pooling_mode_mean_tokens': True, 'pooling_mode_max_tokens': False, 'pooling_mode_mean_sqrt_len_tokens': False})\n",
       "  (2): Normalize()\n",
       ")"
      ]
     },
     "execution_count": 4,
     "metadata": {},
     "output_type": "execute_result"
    }
   ],
   "source": [
    "\n",
    "# Initialize retriever with SentenceTransformer model \n",
    "model = SentenceTransformer(model_name)\n",
    "model"
   ]
  },
  {
   "cell_type": "code",
   "execution_count": null,
   "id": "4488d1d2-1450-41ac-a8bf-704435235daf",
   "metadata": {},
   "outputs": [],
   "source": []
  },
  {
   "cell_type": "markdown",
   "id": "129a663f-223a-43ef-97b6-62d7af0ee1f3",
   "metadata": {},
   "source": [
    "## Tokenizer"
   ]
  },
  {
   "cell_type": "code",
   "execution_count": 5,
   "id": "e84a0052-9f25-4b34-8678-aaa2c964ccc6",
   "metadata": {},
   "outputs": [
    {
     "data": {
      "text/html": [
       "<pre style=\"white-space:pre;overflow-x:auto;line-height:normal;font-family:Menlo,'DejaVu Sans Mono',consolas,'Courier New',monospace\"><span style=\"font-weight: bold\">{</span>\n",
       "    <span style=\"color: #008000; text-decoration-color: #008000\">'input_ids'</span>: <span style=\"color: #800080; text-decoration-color: #800080; font-weight: bold\">tensor</span><span style=\"font-weight: bold\">([</span>  <span style=\"color: #008080; text-decoration-color: #008080; font-weight: bold\">101</span>,  <span style=\"color: #008080; text-decoration-color: #008080; font-weight: bold\">2054</span>,  <span style=\"color: #008080; text-decoration-color: #008080; font-weight: bold\">2515</span>,  <span style=\"color: #008080; text-decoration-color: #008080; font-weight: bold\">1005</span>,  <span style=\"color: #008080; text-decoration-color: #008080; font-weight: bold\">3565</span>,  <span style=\"color: #008080; text-decoration-color: #008080; font-weight: bold\">1005</span>,  <span style=\"color: #008080; text-decoration-color: #008080; font-weight: bold\">2079</span>,  <span style=\"color: #008080; text-decoration-color: #008080; font-weight: bold\">1999</span>, <span style=\"color: #008080; text-decoration-color: #008080; font-weight: bold\">18750</span>,  <span style=\"color: #008080; text-decoration-color: #008080; font-weight: bold\">1029</span>,\n",
       "         <span style=\"color: #008080; text-decoration-color: #008080; font-weight: bold\">1011</span>,  <span style=\"color: #008080; text-decoration-color: #008080; font-weight: bold\">4489</span>,  <span style=\"color: #008080; text-decoration-color: #008080; font-weight: bold\">2090</span>,  <span style=\"color: #008080; text-decoration-color: #008080; font-weight: bold\">3565</span>,  <span style=\"color: #008080; text-decoration-color: #008080; font-weight: bold\">1006</span>,  <span style=\"color: #008080; text-decoration-color: #008080; font-weight: bold\">1007</span>,  <span style=\"color: #008080; text-decoration-color: #008080; font-weight: bold\">1012</span>,  <span style=\"color: #008080; text-decoration-color: #008080; font-weight: bold\">1035</span>,  <span style=\"color: #008080; text-decoration-color: #008080; font-weight: bold\">1035</span>,  <span style=\"color: #008080; text-decoration-color: #008080; font-weight: bold\">1999</span>,\n",
       "         <span style=\"color: #008080; text-decoration-color: #008080; font-weight: bold\">4183</span>,  <span style=\"color: #008080; text-decoration-color: #008080; font-weight: bold\">1035</span>,  <span style=\"color: #008080; text-decoration-color: #008080; font-weight: bold\">1035</span>,  <span style=\"color: #008080; text-decoration-color: #008080; font-weight: bold\">1006</span>,  <span style=\"color: #008080; text-decoration-color: #008080; font-weight: bold\">1007</span>,  <span style=\"color: #008080; text-decoration-color: #008080; font-weight: bold\">1998</span>, <span style=\"color: #008080; text-decoration-color: #008080; font-weight: bold\">13216</span>,  <span style=\"color: #008080; text-decoration-color: #008080; font-weight: bold\">3565</span>, <span style=\"color: #008080; text-decoration-color: #008080; font-weight: bold\">26266</span>,  <span style=\"color: #008080; text-decoration-color: #008080; font-weight: bold\">1035</span>,\n",
       "         <span style=\"color: #008080; text-decoration-color: #008080; font-weight: bold\">1035</span>,  <span style=\"color: #008080; text-decoration-color: #008080; font-weight: bold\">1999</span>,  <span style=\"color: #008080; text-decoration-color: #008080; font-weight: bold\">4183</span>,  <span style=\"color: #008080; text-decoration-color: #008080; font-weight: bold\">1035</span>,  <span style=\"color: #008080; text-decoration-color: #008080; font-weight: bold\">1035</span>,  <span style=\"color: #008080; text-decoration-color: #008080; font-weight: bold\">1006</span>,  <span style=\"color: #008080; text-decoration-color: #008080; font-weight: bold\">1007</span>,   <span style=\"color: #008080; text-decoration-color: #008080; font-weight: bold\">102</span><span style=\"font-weight: bold\">])</span>,\n",
       "    <span style=\"color: #008000; text-decoration-color: #008000\">'token_type_ids'</span>: <span style=\"color: #800080; text-decoration-color: #800080; font-weight: bold\">tensor</span><span style=\"font-weight: bold\">([</span><span style=\"color: #008080; text-decoration-color: #008080; font-weight: bold\">0</span>, <span style=\"color: #008080; text-decoration-color: #008080; font-weight: bold\">0</span>, <span style=\"color: #008080; text-decoration-color: #008080; font-weight: bold\">0</span>, <span style=\"color: #008080; text-decoration-color: #008080; font-weight: bold\">0</span>, <span style=\"color: #008080; text-decoration-color: #008080; font-weight: bold\">0</span>, <span style=\"color: #008080; text-decoration-color: #008080; font-weight: bold\">0</span>, <span style=\"color: #008080; text-decoration-color: #008080; font-weight: bold\">0</span>, <span style=\"color: #008080; text-decoration-color: #008080; font-weight: bold\">0</span>, <span style=\"color: #008080; text-decoration-color: #008080; font-weight: bold\">0</span>, <span style=\"color: #008080; text-decoration-color: #008080; font-weight: bold\">0</span>, <span style=\"color: #008080; text-decoration-color: #008080; font-weight: bold\">0</span>, <span style=\"color: #008080; text-decoration-color: #008080; font-weight: bold\">0</span>, <span style=\"color: #008080; text-decoration-color: #008080; font-weight: bold\">0</span>, <span style=\"color: #008080; text-decoration-color: #008080; font-weight: bold\">0</span>, <span style=\"color: #008080; text-decoration-color: #008080; font-weight: bold\">0</span>, <span style=\"color: #008080; text-decoration-color: #008080; font-weight: bold\">0</span>, <span style=\"color: #008080; text-decoration-color: #008080; font-weight: bold\">0</span>, <span style=\"color: #008080; text-decoration-color: #008080; font-weight: bold\">0</span>, <span style=\"color: #008080; text-decoration-color: #008080; font-weight: bold\">0</span>, <span style=\"color: #008080; text-decoration-color: #008080; font-weight: bold\">0</span>, <span style=\"color: #008080; text-decoration-color: #008080; font-weight: bold\">0</span>, <span style=\"color: #008080; text-decoration-color: #008080; font-weight: bold\">0</span>, <span style=\"color: #008080; text-decoration-color: #008080; font-weight: bold\">0</span>, <span style=\"color: #008080; text-decoration-color: #008080; font-weight: bold\">0</span>,\n",
       "        <span style=\"color: #008080; text-decoration-color: #008080; font-weight: bold\">0</span>, <span style=\"color: #008080; text-decoration-color: #008080; font-weight: bold\">0</span>, <span style=\"color: #008080; text-decoration-color: #008080; font-weight: bold\">0</span>, <span style=\"color: #008080; text-decoration-color: #008080; font-weight: bold\">0</span>, <span style=\"color: #008080; text-decoration-color: #008080; font-weight: bold\">0</span>, <span style=\"color: #008080; text-decoration-color: #008080; font-weight: bold\">0</span>, <span style=\"color: #008080; text-decoration-color: #008080; font-weight: bold\">0</span>, <span style=\"color: #008080; text-decoration-color: #008080; font-weight: bold\">0</span>, <span style=\"color: #008080; text-decoration-color: #008080; font-weight: bold\">0</span>, <span style=\"color: #008080; text-decoration-color: #008080; font-weight: bold\">0</span>, <span style=\"color: #008080; text-decoration-color: #008080; font-weight: bold\">0</span>, <span style=\"color: #008080; text-decoration-color: #008080; font-weight: bold\">0</span>, <span style=\"color: #008080; text-decoration-color: #008080; font-weight: bold\">0</span>, <span style=\"color: #008080; text-decoration-color: #008080; font-weight: bold\">0</span><span style=\"font-weight: bold\">])</span>,\n",
       "    <span style=\"color: #008000; text-decoration-color: #008000\">'attention_mask'</span>: <span style=\"color: #800080; text-decoration-color: #800080; font-weight: bold\">tensor</span><span style=\"font-weight: bold\">([</span><span style=\"color: #008080; text-decoration-color: #008080; font-weight: bold\">1</span>, <span style=\"color: #008080; text-decoration-color: #008080; font-weight: bold\">1</span>, <span style=\"color: #008080; text-decoration-color: #008080; font-weight: bold\">1</span>, <span style=\"color: #008080; text-decoration-color: #008080; font-weight: bold\">1</span>, <span style=\"color: #008080; text-decoration-color: #008080; font-weight: bold\">1</span>, <span style=\"color: #008080; text-decoration-color: #008080; font-weight: bold\">1</span>, <span style=\"color: #008080; text-decoration-color: #008080; font-weight: bold\">1</span>, <span style=\"color: #008080; text-decoration-color: #008080; font-weight: bold\">1</span>, <span style=\"color: #008080; text-decoration-color: #008080; font-weight: bold\">1</span>, <span style=\"color: #008080; text-decoration-color: #008080; font-weight: bold\">1</span>, <span style=\"color: #008080; text-decoration-color: #008080; font-weight: bold\">1</span>, <span style=\"color: #008080; text-decoration-color: #008080; font-weight: bold\">1</span>, <span style=\"color: #008080; text-decoration-color: #008080; font-weight: bold\">1</span>, <span style=\"color: #008080; text-decoration-color: #008080; font-weight: bold\">1</span>, <span style=\"color: #008080; text-decoration-color: #008080; font-weight: bold\">1</span>, <span style=\"color: #008080; text-decoration-color: #008080; font-weight: bold\">1</span>, <span style=\"color: #008080; text-decoration-color: #008080; font-weight: bold\">1</span>, <span style=\"color: #008080; text-decoration-color: #008080; font-weight: bold\">1</span>, <span style=\"color: #008080; text-decoration-color: #008080; font-weight: bold\">1</span>, <span style=\"color: #008080; text-decoration-color: #008080; font-weight: bold\">1</span>, <span style=\"color: #008080; text-decoration-color: #008080; font-weight: bold\">1</span>, <span style=\"color: #008080; text-decoration-color: #008080; font-weight: bold\">1</span>, <span style=\"color: #008080; text-decoration-color: #008080; font-weight: bold\">1</span>, <span style=\"color: #008080; text-decoration-color: #008080; font-weight: bold\">1</span>,\n",
       "        <span style=\"color: #008080; text-decoration-color: #008080; font-weight: bold\">1</span>, <span style=\"color: #008080; text-decoration-color: #008080; font-weight: bold\">1</span>, <span style=\"color: #008080; text-decoration-color: #008080; font-weight: bold\">1</span>, <span style=\"color: #008080; text-decoration-color: #008080; font-weight: bold\">1</span>, <span style=\"color: #008080; text-decoration-color: #008080; font-weight: bold\">1</span>, <span style=\"color: #008080; text-decoration-color: #008080; font-weight: bold\">1</span>, <span style=\"color: #008080; text-decoration-color: #008080; font-weight: bold\">1</span>, <span style=\"color: #008080; text-decoration-color: #008080; font-weight: bold\">1</span>, <span style=\"color: #008080; text-decoration-color: #008080; font-weight: bold\">1</span>, <span style=\"color: #008080; text-decoration-color: #008080; font-weight: bold\">1</span>, <span style=\"color: #008080; text-decoration-color: #008080; font-weight: bold\">1</span>, <span style=\"color: #008080; text-decoration-color: #008080; font-weight: bold\">1</span>, <span style=\"color: #008080; text-decoration-color: #008080; font-weight: bold\">1</span>, <span style=\"color: #008080; text-decoration-color: #008080; font-weight: bold\">1</span><span style=\"font-weight: bold\">])</span>,\n",
       "    <span style=\"color: #008000; text-decoration-color: #008000\">'token_embeddings'</span>: <span style=\"color: #800080; text-decoration-color: #800080; font-weight: bold\">tensor</span><span style=\"font-weight: bold\">([[</span><span style=\"color: #008080; text-decoration-color: #008080; font-weight: bold\">-0.4915</span>,  <span style=\"color: #008080; text-decoration-color: #008080; font-weight: bold\">0.0079</span>,  <span style=\"color: #008080; text-decoration-color: #008080; font-weight: bold\">0.1150</span>,  <span style=\"color: #808000; text-decoration-color: #808000\">...</span>,  <span style=\"color: #008080; text-decoration-color: #008080; font-weight: bold\">0.3318</span>, <span style=\"color: #008080; text-decoration-color: #008080; font-weight: bold\">-0.1832</span>, <span style=\"color: #008080; text-decoration-color: #008080; font-weight: bold\">-0.0306</span><span style=\"font-weight: bold\">]</span>,\n",
       "        <span style=\"font-weight: bold\">[</span><span style=\"color: #008080; text-decoration-color: #008080; font-weight: bold\">-0.6559</span>,  <span style=\"color: #008080; text-decoration-color: #008080; font-weight: bold\">0.0482</span>,  <span style=\"color: #008080; text-decoration-color: #008080; font-weight: bold\">0.0829</span>,  <span style=\"color: #808000; text-decoration-color: #808000\">...</span>,  <span style=\"color: #008080; text-decoration-color: #008080; font-weight: bold\">0.3092</span>,  <span style=\"color: #008080; text-decoration-color: #008080; font-weight: bold\">0.2388</span>, <span style=\"color: #008080; text-decoration-color: #008080; font-weight: bold\">-0.0171</span><span style=\"font-weight: bold\">]</span>,\n",
       "        <span style=\"font-weight: bold\">[</span><span style=\"color: #008080; text-decoration-color: #008080; font-weight: bold\">-0.7676</span>, <span style=\"color: #008080; text-decoration-color: #008080; font-weight: bold\">-0.0600</span>,  <span style=\"color: #008080; text-decoration-color: #008080; font-weight: bold\">0.0628</span>,  <span style=\"color: #808000; text-decoration-color: #808000\">...</span>,  <span style=\"color: #008080; text-decoration-color: #008080; font-weight: bold\">0.4701</span>,  <span style=\"color: #008080; text-decoration-color: #008080; font-weight: bold\">0.5587</span>, <span style=\"color: #008080; text-decoration-color: #008080; font-weight: bold\">-0.2076</span><span style=\"font-weight: bold\">]</span>,\n",
       "        <span style=\"color: #808000; text-decoration-color: #808000\">...</span>,\n",
       "        <span style=\"font-weight: bold\">[</span><span style=\"color: #008080; text-decoration-color: #008080; font-weight: bold\">-0.5866</span>,  <span style=\"color: #008080; text-decoration-color: #008080; font-weight: bold\">0.3504</span>,  <span style=\"color: #008080; text-decoration-color: #008080; font-weight: bold\">0.1313</span>,  <span style=\"color: #808000; text-decoration-color: #808000\">...</span>,  <span style=\"color: #008080; text-decoration-color: #008080; font-weight: bold\">0.5132</span>,  <span style=\"color: #008080; text-decoration-color: #008080; font-weight: bold\">0.6868</span>,  <span style=\"color: #008080; text-decoration-color: #008080; font-weight: bold\">0.3820</span><span style=\"font-weight: bold\">]</span>,\n",
       "        <span style=\"font-weight: bold\">[</span><span style=\"color: #008080; text-decoration-color: #008080; font-weight: bold\">-0.4603</span>, <span style=\"color: #008080; text-decoration-color: #008080; font-weight: bold\">-0.0785</span>,  <span style=\"color: #008080; text-decoration-color: #008080; font-weight: bold\">0.1447</span>,  <span style=\"color: #808000; text-decoration-color: #808000\">...</span>,  <span style=\"color: #008080; text-decoration-color: #008080; font-weight: bold\">0.3814</span>,  <span style=\"color: #008080; text-decoration-color: #008080; font-weight: bold\">0.2534</span>,  <span style=\"color: #008080; text-decoration-color: #008080; font-weight: bold\">0.0358</span><span style=\"font-weight: bold\">]</span>,\n",
       "        <span style=\"font-weight: bold\">[</span><span style=\"color: #008080; text-decoration-color: #008080; font-weight: bold\">-0.6221</span>, <span style=\"color: #008080; text-decoration-color: #008080; font-weight: bold\">-0.1158</span>,  <span style=\"color: #008080; text-decoration-color: #008080; font-weight: bold\">0.1800</span>,  <span style=\"color: #808000; text-decoration-color: #808000\">...</span>,  <span style=\"color: #008080; text-decoration-color: #008080; font-weight: bold\">0.5810</span>,  <span style=\"color: #008080; text-decoration-color: #008080; font-weight: bold\">0.3475</span>, <span style=\"color: #008080; text-decoration-color: #008080; font-weight: bold\">-0.0104</span><span style=\"font-weight: bold\">]])</span>,\n",
       "    <span style=\"color: #008000; text-decoration-color: #008000\">'sentence_embedding'</span>: <span style=\"color: #800080; text-decoration-color: #800080; font-weight: bold\">tensor</span><span style=\"font-weight: bold\">([</span><span style=\"color: #008080; text-decoration-color: #008080; font-weight: bold\">-1.4246e-01</span>,  <span style=\"color: #008080; text-decoration-color: #008080; font-weight: bold\">3.0715e-03</span>,  <span style=\"color: #008080; text-decoration-color: #008080; font-weight: bold\">1.5940e-02</span>,  <span style=\"color: #008080; text-decoration-color: #008080; font-weight: bold\">2.8173e-02</span>,  <span style=\"color: #008080; text-decoration-color: #008080; font-weight: bold\">2.1864e-02</span>,\n",
       "        <span style=\"color: #008080; text-decoration-color: #008080; font-weight: bold\">-8.6956e-02</span>, <span style=\"color: #008080; text-decoration-color: #008080; font-weight: bold\">-3.7082e-02</span>,  <span style=\"color: #008080; text-decoration-color: #008080; font-weight: bold\">8.4534e-02</span>, <span style=\"color: #008080; text-decoration-color: #008080; font-weight: bold\">-8.4545e-02</span>, <span style=\"color: #008080; text-decoration-color: #008080; font-weight: bold\">-1.9203e-02</span>,\n",
       "         <span style=\"color: #008080; text-decoration-color: #008080; font-weight: bold\">1.2949e-02</span>,  <span style=\"color: #008080; text-decoration-color: #008080; font-weight: bold\">1.1646e-01</span>, <span style=\"color: #008080; text-decoration-color: #008080; font-weight: bold\">-6.2878e-03</span>,  <span style=\"color: #008080; text-decoration-color: #008080; font-weight: bold\">5.2016e-03</span>, <span style=\"color: #008080; text-decoration-color: #008080; font-weight: bold\">-4.4650e-02</span>,\n",
       "         <span style=\"color: #008080; text-decoration-color: #008080; font-weight: bold\">5.4340e-04</span>,  <span style=\"color: #008080; text-decoration-color: #008080; font-weight: bold\">1.1038e-01</span>, <span style=\"color: #008080; text-decoration-color: #008080; font-weight: bold\">-8.6887e-02</span>, <span style=\"color: #008080; text-decoration-color: #008080; font-weight: bold\">-7.3036e-02</span>, <span style=\"color: #008080; text-decoration-color: #008080; font-weight: bold\">-1.9409e-02</span>,\n",
       "         <span style=\"color: #008080; text-decoration-color: #008080; font-weight: bold\">1.4030e-01</span>, <span style=\"color: #008080; text-decoration-color: #008080; font-weight: bold\">-2.7500e-02</span>, <span style=\"color: #008080; text-decoration-color: #008080; font-weight: bold\">-6.8370e-02</span>,  <span style=\"color: #008080; text-decoration-color: #008080; font-weight: bold\">5.3648e-02</span>, <span style=\"color: #008080; text-decoration-color: #008080; font-weight: bold\">-1.0747e-02</span>,\n",
       "        <span style=\"color: #008080; text-decoration-color: #008080; font-weight: bold\">-3.9285e-02</span>, <span style=\"color: #008080; text-decoration-color: #008080; font-weight: bold\">-7.5669e-02</span>,  <span style=\"color: #008080; text-decoration-color: #008080; font-weight: bold\">2.1057e-02</span>,  <span style=\"color: #008080; text-decoration-color: #008080; font-weight: bold\">3.5978e-02</span>,  <span style=\"color: #008080; text-decoration-color: #008080; font-weight: bold\">6.1648e-02</span>,\n",
       "        <span style=\"color: #008080; text-decoration-color: #008080; font-weight: bold\">-3.6488e-02</span>,  <span style=\"color: #008080; text-decoration-color: #008080; font-weight: bold\">1.1507e-01</span>, <span style=\"color: #008080; text-decoration-color: #008080; font-weight: bold\">-4.9677e-03</span>,  <span style=\"color: #008080; text-decoration-color: #008080; font-weight: bold\">3.0514e-02</span>, <span style=\"color: #008080; text-decoration-color: #008080; font-weight: bold\">-7.8639e-02</span>,\n",
       "         <span style=\"color: #008080; text-decoration-color: #008080; font-weight: bold\">9.8421e-02</span>,  <span style=\"color: #008080; text-decoration-color: #008080; font-weight: bold\">2.5322e-02</span>, <span style=\"color: #008080; text-decoration-color: #008080; font-weight: bold\">-1.0002e-02</span>,  <span style=\"color: #008080; text-decoration-color: #008080; font-weight: bold\">4.8957e-02</span>, <span style=\"color: #008080; text-decoration-color: #008080; font-weight: bold\">-7.0811e-02</span>,\n",
       "        <span style=\"color: #008080; text-decoration-color: #008080; font-weight: bold\">-1.3952e-02</span>, <span style=\"color: #008080; text-decoration-color: #008080; font-weight: bold\">-1.9013e-02</span>, <span style=\"color: #008080; text-decoration-color: #008080; font-weight: bold\">-3.3804e-02</span>, <span style=\"color: #008080; text-decoration-color: #008080; font-weight: bold\">-1.4941e-02</span>,  <span style=\"color: #008080; text-decoration-color: #008080; font-weight: bold\">3.1447e-02</span>,\n",
       "         <span style=\"color: #008080; text-decoration-color: #008080; font-weight: bold\">4.5754e-02</span>, <span style=\"color: #008080; text-decoration-color: #008080; font-weight: bold\">-3.8936e-02</span>,  <span style=\"color: #008080; text-decoration-color: #008080; font-weight: bold\">1.0241e-02</span>, <span style=\"color: #008080; text-decoration-color: #008080; font-weight: bold\">-4.7750e-02</span>, <span style=\"color: #008080; text-decoration-color: #008080; font-weight: bold\">-7.2783e-02</span>,\n",
       "        <span style=\"color: #008080; text-decoration-color: #008080; font-weight: bold\">-1.9285e-02</span>,  <span style=\"color: #008080; text-decoration-color: #008080; font-weight: bold\">5.6163e-02</span>, <span style=\"color: #008080; text-decoration-color: #008080; font-weight: bold\">-6.3321e-03</span>,  <span style=\"color: #008080; text-decoration-color: #008080; font-weight: bold\">1.9977e-02</span>,  <span style=\"color: #008080; text-decoration-color: #008080; font-weight: bold\">2.6490e-02</span>,\n",
       "         <span style=\"color: #008080; text-decoration-color: #008080; font-weight: bold\">6.2586e-02</span>, <span style=\"color: #008080; text-decoration-color: #008080; font-weight: bold\">-1.2018e-03</span>, <span style=\"color: #008080; text-decoration-color: #008080; font-weight: bold\">-8.9426e-02</span>, <span style=\"color: #008080; text-decoration-color: #008080; font-weight: bold\">-4.6173e-02</span>, <span style=\"color: #008080; text-decoration-color: #008080; font-weight: bold\">-3.6813e-02</span>,\n",
       "        <span style=\"color: #008080; text-decoration-color: #008080; font-weight: bold\">-4.8190e-02</span>,  <span style=\"color: #008080; text-decoration-color: #008080; font-weight: bold\">2.1556e-02</span>,  <span style=\"color: #008080; text-decoration-color: #008080; font-weight: bold\">1.9962e-02</span>,  <span style=\"color: #008080; text-decoration-color: #008080; font-weight: bold\">3.5407e-02</span>,  <span style=\"color: #008080; text-decoration-color: #008080; font-weight: bold\">2.6642e-02</span>,\n",
       "        <span style=\"color: #008080; text-decoration-color: #008080; font-weight: bold\">-5.8311e-02</span>, <span style=\"color: #008080; text-decoration-color: #008080; font-weight: bold\">-1.2200e-03</span>, <span style=\"color: #008080; text-decoration-color: #008080; font-weight: bold\">-3.4401e-03</span>,  <span style=\"color: #008080; text-decoration-color: #008080; font-weight: bold\">1.7953e-02</span>,  <span style=\"color: #008080; text-decoration-color: #008080; font-weight: bold\">5.4156e-02</span>,\n",
       "        <span style=\"color: #008080; text-decoration-color: #008080; font-weight: bold\">-5.0989e-03</span>, <span style=\"color: #008080; text-decoration-color: #008080; font-weight: bold\">-2.7924e-02</span>,  <span style=\"color: #008080; text-decoration-color: #008080; font-weight: bold\">5.4463e-02</span>,  <span style=\"color: #008080; text-decoration-color: #008080; font-weight: bold\">1.1905e-01</span>,  <span style=\"color: #008080; text-decoration-color: #008080; font-weight: bold\">1.2868e-01</span>,\n",
       "        <span style=\"color: #008080; text-decoration-color: #008080; font-weight: bold\">-8.8595e-02</span>, <span style=\"color: #008080; text-decoration-color: #008080; font-weight: bold\">-1.6164e-02</span>, <span style=\"color: #008080; text-decoration-color: #008080; font-weight: bold\">-3.2878e-02</span>, <span style=\"color: #008080; text-decoration-color: #008080; font-weight: bold\">-3.5485e-02</span>, <span style=\"color: #008080; text-decoration-color: #008080; font-weight: bold\">-1.9966e-02</span>,\n",
       "         <span style=\"color: #008080; text-decoration-color: #008080; font-weight: bold\">3.9049e-02</span>, <span style=\"color: #008080; text-decoration-color: #008080; font-weight: bold\">-4.9114e-02</span>,  <span style=\"color: #008080; text-decoration-color: #008080; font-weight: bold\">4.5685e-02</span>, <span style=\"color: #008080; text-decoration-color: #008080; font-weight: bold\">-1.2991e-02</span>,  <span style=\"color: #008080; text-decoration-color: #008080; font-weight: bold\">4.6847e-02</span>,\n",
       "        <span style=\"color: #008080; text-decoration-color: #008080; font-weight: bold\">-5.6101e-02</span>,  <span style=\"color: #008080; text-decoration-color: #008080; font-weight: bold\">6.8093e-02</span>,  <span style=\"color: #008080; text-decoration-color: #008080; font-weight: bold\">2.4826e-03</span>,  <span style=\"color: #008080; text-decoration-color: #008080; font-weight: bold\">2.6495e-02</span>,  <span style=\"color: #008080; text-decoration-color: #008080; font-weight: bold\">7.6566e-02</span>,\n",
       "         <span style=\"color: #008080; text-decoration-color: #008080; font-weight: bold\">1.5663e-02</span>, <span style=\"color: #008080; text-decoration-color: #008080; font-weight: bold\">-6.9162e-02</span>, <span style=\"color: #008080; text-decoration-color: #008080; font-weight: bold\">-6.2864e-02</span>,  <span style=\"color: #008080; text-decoration-color: #008080; font-weight: bold\">2.0814e-02</span>, <span style=\"color: #008080; text-decoration-color: #008080; font-weight: bold\">-1.0910e-01</span>,\n",
       "         <span style=\"color: #008080; text-decoration-color: #008080; font-weight: bold\">2.1203e-02</span>, <span style=\"color: #008080; text-decoration-color: #008080; font-weight: bold\">-1.4046e-02</span>,  <span style=\"color: #008080; text-decoration-color: #008080; font-weight: bold\">1.5385e-02</span>, <span style=\"color: #008080; text-decoration-color: #008080; font-weight: bold\">-6.3359e-03</span>, <span style=\"color: #008080; text-decoration-color: #008080; font-weight: bold\">-2.8475e-02</span>,\n",
       "         <span style=\"color: #008080; text-decoration-color: #008080; font-weight: bold\">1.3662e-02</span>, <span style=\"color: #008080; text-decoration-color: #008080; font-weight: bold\">-1.3258e-01</span>, <span style=\"color: #008080; text-decoration-color: #008080; font-weight: bold\">-1.8202e-02</span>, <span style=\"color: #008080; text-decoration-color: #008080; font-weight: bold\">-2.1830e-02</span>,  <span style=\"color: #008080; text-decoration-color: #008080; font-weight: bold\">8.3101e-02</span>,\n",
       "        <span style=\"color: #008080; text-decoration-color: #008080; font-weight: bold\">-6.8789e-02</span>, <span style=\"color: #008080; text-decoration-color: #008080; font-weight: bold\">-9.0988e-03</span>, <span style=\"color: #008080; text-decoration-color: #008080; font-weight: bold\">-7.0356e-02</span>,  <span style=\"color: #008080; text-decoration-color: #008080; font-weight: bold\">6.2706e-02</span>, <span style=\"color: #008080; text-decoration-color: #008080; font-weight: bold\">-4.4722e-02</span>,\n",
       "        <span style=\"color: #008080; text-decoration-color: #008080; font-weight: bold\">-7.2774e-03</span>, <span style=\"color: #008080; text-decoration-color: #008080; font-weight: bold\">-1.7467e-01</span>,  <span style=\"color: #008080; text-decoration-color: #008080; font-weight: bold\">2.3604e-02</span>, <span style=\"color: #008080; text-decoration-color: #008080; font-weight: bold\">-6.0021e-02</span>, <span style=\"color: #008080; text-decoration-color: #008080; font-weight: bold\">-3.4137e-02</span>,\n",
       "         <span style=\"color: #008080; text-decoration-color: #008080; font-weight: bold\">7.4124e-02</span>,  <span style=\"color: #008080; text-decoration-color: #008080; font-weight: bold\">4.0557e-03</span>,  <span style=\"color: #008080; text-decoration-color: #008080; font-weight: bold\">5.9823e-02</span>,  <span style=\"color: #008080; text-decoration-color: #008080; font-weight: bold\">1.4840e-03</span>, <span style=\"color: #008080; text-decoration-color: #008080; font-weight: bold\">-4.6625e-03</span>,\n",
       "         <span style=\"color: #008080; text-decoration-color: #008080; font-weight: bold\">7.0497e-03</span>,  <span style=\"color: #008080; text-decoration-color: #008080; font-weight: bold\">7.7516e-02</span>,  <span style=\"color: #008080; text-decoration-color: #008080; font-weight: bold\">7.3966e-02</span>,  <span style=\"color: #008080; text-decoration-color: #008080; font-weight: bold\">3.4246e-02</span>, <span style=\"color: #008080; text-decoration-color: #008080; font-weight: bold\">-4.2010e-02</span>,\n",
       "         <span style=\"color: #008080; text-decoration-color: #008080; font-weight: bold\">8.9824e-02</span>, <span style=\"color: #008080; text-decoration-color: #008080; font-weight: bold\">-1.0567e-01</span>, <span style=\"color: #008080; text-decoration-color: #008080; font-weight: bold\">-6.4156e-33</span>, <span style=\"color: #008080; text-decoration-color: #008080; font-weight: bold\">-1.6688e-02</span>, <span style=\"color: #008080; text-decoration-color: #008080; font-weight: bold\">-3.7029e-02</span>,\n",
       "         <span style=\"color: #008080; text-decoration-color: #008080; font-weight: bold\">1.5546e-03</span>, <span style=\"color: #008080; text-decoration-color: #008080; font-weight: bold\">-1.9020e-02</span>, <span style=\"color: #008080; text-decoration-color: #008080; font-weight: bold\">-3.0639e-02</span>, <span style=\"color: #008080; text-decoration-color: #008080; font-weight: bold\">-3.2764e-02</span>,  <span style=\"color: #008080; text-decoration-color: #008080; font-weight: bold\">1.1822e-02</span>,\n",
       "         <span style=\"color: #008080; text-decoration-color: #008080; font-weight: bold\">9.7167e-03</span>,  <span style=\"color: #008080; text-decoration-color: #008080; font-weight: bold\">1.2093e-04</span>,  <span style=\"color: #008080; text-decoration-color: #008080; font-weight: bold\">7.0550e-02</span>,  <span style=\"color: #008080; text-decoration-color: #008080; font-weight: bold\">2.4579e-02</span>,  <span style=\"color: #008080; text-decoration-color: #008080; font-weight: bold\">5.7831e-02</span>,\n",
       "         <span style=\"color: #008080; text-decoration-color: #008080; font-weight: bold\">6.8307e-02</span>,  <span style=\"color: #008080; text-decoration-color: #008080; font-weight: bold\">5.6851e-02</span>,  <span style=\"color: #008080; text-decoration-color: #008080; font-weight: bold\">7.3616e-02</span>,  <span style=\"color: #008080; text-decoration-color: #008080; font-weight: bold\">2.2824e-02</span>, <span style=\"color: #008080; text-decoration-color: #008080; font-weight: bold\">-7.3005e-02</span>,\n",
       "        <span style=\"color: #008080; text-decoration-color: #008080; font-weight: bold\">-1.5891e-02</span>,  <span style=\"color: #008080; text-decoration-color: #008080; font-weight: bold\">2.0759e-02</span>, <span style=\"color: #008080; text-decoration-color: #008080; font-weight: bold\">-1.2286e-02</span>,  <span style=\"color: #008080; text-decoration-color: #008080; font-weight: bold\">6.4947e-02</span>,  <span style=\"color: #008080; text-decoration-color: #008080; font-weight: bold\">1.2431e-01</span>,\n",
       "         <span style=\"color: #008080; text-decoration-color: #008080; font-weight: bold\">1.8076e-02</span>,  <span style=\"color: #008080; text-decoration-color: #008080; font-weight: bold\">1.1093e-02</span>, <span style=\"color: #008080; text-decoration-color: #008080; font-weight: bold\">-2.1620e-04</span>, <span style=\"color: #008080; text-decoration-color: #008080; font-weight: bold\">-1.7142e-02</span>,  <span style=\"color: #008080; text-decoration-color: #008080; font-weight: bold\">1.4853e-02</span>,\n",
       "        <span style=\"color: #008080; text-decoration-color: #008080; font-weight: bold\">-1.2691e-02</span>, <span style=\"color: #008080; text-decoration-color: #008080; font-weight: bold\">-5.0507e-02</span>,  <span style=\"color: #008080; text-decoration-color: #008080; font-weight: bold\">3.7222e-02</span>, <span style=\"color: #008080; text-decoration-color: #008080; font-weight: bold\">-4.0360e-02</span>, <span style=\"color: #008080; text-decoration-color: #008080; font-weight: bold\">-7.4048e-02</span>,\n",
       "        <span style=\"color: #008080; text-decoration-color: #008080; font-weight: bold\">-1.0970e-02</span>,  <span style=\"color: #008080; text-decoration-color: #008080; font-weight: bold\">4.1702e-02</span>, <span style=\"color: #008080; text-decoration-color: #008080; font-weight: bold\">-6.8921e-02</span>,  <span style=\"color: #008080; text-decoration-color: #008080; font-weight: bold\">4.1219e-03</span>,  <span style=\"color: #008080; text-decoration-color: #008080; font-weight: bold\">1.4185e-02</span>,\n",
       "        <span style=\"color: #008080; text-decoration-color: #008080; font-weight: bold\">-7.5804e-02</span>, <span style=\"color: #008080; text-decoration-color: #008080; font-weight: bold\">-1.1405e-02</span>, <span style=\"color: #008080; text-decoration-color: #008080; font-weight: bold\">-8.4661e-02</span>, <span style=\"color: #008080; text-decoration-color: #008080; font-weight: bold\">-3.4637e-02</span>,  <span style=\"color: #008080; text-decoration-color: #008080; font-weight: bold\">4.0803e-02</span>,\n",
       "        <span style=\"color: #008080; text-decoration-color: #008080; font-weight: bold\">-1.9901e-02</span>, <span style=\"color: #008080; text-decoration-color: #008080; font-weight: bold\">-1.4428e-02</span>, <span style=\"color: #008080; text-decoration-color: #008080; font-weight: bold\">-3.2878e-02</span>, <span style=\"color: #008080; text-decoration-color: #008080; font-weight: bold\">-1.3772e-02</span>, <span style=\"color: #008080; text-decoration-color: #008080; font-weight: bold\">-1.9814e-02</span>,\n",
       "         <span style=\"color: #008080; text-decoration-color: #008080; font-weight: bold\">9.5046e-02</span>,  <span style=\"color: #008080; text-decoration-color: #008080; font-weight: bold\">9.0082e-03</span>, <span style=\"color: #008080; text-decoration-color: #008080; font-weight: bold\">-2.6932e-02</span>,  <span style=\"color: #008080; text-decoration-color: #008080; font-weight: bold\">1.6957e-02</span>, <span style=\"color: #008080; text-decoration-color: #008080; font-weight: bold\">-2.3650e-02</span>,\n",
       "         <span style=\"color: #008080; text-decoration-color: #008080; font-weight: bold\">3.9388e-02</span>,  <span style=\"color: #008080; text-decoration-color: #008080; font-weight: bold\">1.2614e-02</span>, <span style=\"color: #008080; text-decoration-color: #008080; font-weight: bold\">-1.8223e-02</span>,  <span style=\"color: #008080; text-decoration-color: #008080; font-weight: bold\">8.4496e-02</span>,  <span style=\"color: #008080; text-decoration-color: #008080; font-weight: bold\">1.0471e-01</span>,\n",
       "         <span style=\"color: #008080; text-decoration-color: #008080; font-weight: bold\">7.0581e-02</span>,  <span style=\"color: #008080; text-decoration-color: #008080; font-weight: bold\">2.9548e-02</span>, <span style=\"color: #008080; text-decoration-color: #008080; font-weight: bold\">-6.3651e-02</span>,  <span style=\"color: #008080; text-decoration-color: #008080; font-weight: bold\">5.4294e-04</span>, <span style=\"color: #008080; text-decoration-color: #008080; font-weight: bold\">-6.2097e-02</span>,\n",
       "         <span style=\"color: #008080; text-decoration-color: #008080; font-weight: bold\">1.1686e-02</span>,  <span style=\"color: #008080; text-decoration-color: #008080; font-weight: bold\">6.8007e-02</span>, <span style=\"color: #008080; text-decoration-color: #008080; font-weight: bold\">-4.1757e-02</span>,  <span style=\"color: #008080; text-decoration-color: #008080; font-weight: bold\">5.4762e-05</span>,  <span style=\"color: #008080; text-decoration-color: #008080; font-weight: bold\">7.2575e-03</span>,\n",
       "         <span style=\"color: #008080; text-decoration-color: #008080; font-weight: bold\">5.3216e-02</span>,  <span style=\"color: #008080; text-decoration-color: #008080; font-weight: bold\">3.9076e-02</span>,  <span style=\"color: #008080; text-decoration-color: #008080; font-weight: bold\">3.3343e-02</span>, <span style=\"color: #008080; text-decoration-color: #008080; font-weight: bold\">-2.3008e-02</span>,  <span style=\"color: #008080; text-decoration-color: #008080; font-weight: bold\">3.5174e-02</span>,\n",
       "        <span style=\"color: #008080; text-decoration-color: #008080; font-weight: bold\">-4.0212e-02</span>, <span style=\"color: #008080; text-decoration-color: #008080; font-weight: bold\">-1.7000e-02</span>,  <span style=\"color: #008080; text-decoration-color: #008080; font-weight: bold\">6.0849e-03</span>,  <span style=\"color: #008080; text-decoration-color: #008080; font-weight: bold\">3.7907e-02</span>,  <span style=\"color: #008080; text-decoration-color: #008080; font-weight: bold\">3.5553e-02</span>,\n",
       "        <span style=\"color: #008080; text-decoration-color: #008080; font-weight: bold\">-6.7226e-02</span>, <span style=\"color: #008080; text-decoration-color: #008080; font-weight: bold\">-4.7138e-02</span>,  <span style=\"color: #008080; text-decoration-color: #008080; font-weight: bold\">6.7798e-03</span>, <span style=\"color: #008080; text-decoration-color: #008080; font-weight: bold\">-7.1156e-02</span>,  <span style=\"color: #008080; text-decoration-color: #008080; font-weight: bold\">7.6744e-02</span>,\n",
       "         <span style=\"color: #008080; text-decoration-color: #008080; font-weight: bold\">3.7150e-02</span>, <span style=\"color: #008080; text-decoration-color: #008080; font-weight: bold\">-1.4659e-02</span>, <span style=\"color: #008080; text-decoration-color: #008080; font-weight: bold\">-7.8331e-02</span>,  <span style=\"color: #008080; text-decoration-color: #008080; font-weight: bold\">4.6545e-03</span>,  <span style=\"color: #008080; text-decoration-color: #008080; font-weight: bold\">1.6806e-02</span>,\n",
       "        <span style=\"color: #008080; text-decoration-color: #008080; font-weight: bold\">-1.1083e-02</span>,  <span style=\"color: #008080; text-decoration-color: #008080; font-weight: bold\">5.6526e-02</span>, <span style=\"color: #008080; text-decoration-color: #008080; font-weight: bold\">-7.9980e-02</span>, <span style=\"color: #008080; text-decoration-color: #008080; font-weight: bold\">-7.2967e-02</span>, <span style=\"color: #008080; text-decoration-color: #008080; font-weight: bold\">-5.7778e-02</span>,\n",
       "        <span style=\"color: #008080; text-decoration-color: #008080; font-weight: bold\">-2.5481e-03</span>, <span style=\"color: #008080; text-decoration-color: #008080; font-weight: bold\">-2.6015e-02</span>, <span style=\"color: #008080; text-decoration-color: #008080; font-weight: bold\">-2.7038e-02</span>,  <span style=\"color: #008080; text-decoration-color: #008080; font-weight: bold\">6.3895e-35</span>,  <span style=\"color: #008080; text-decoration-color: #008080; font-weight: bold\">5.4324e-02</span>,\n",
       "         <span style=\"color: #008080; text-decoration-color: #008080; font-weight: bold\">5.2883e-02</span>,  <span style=\"color: #008080; text-decoration-color: #008080; font-weight: bold\">1.8178e-02</span>,  <span style=\"color: #008080; text-decoration-color: #008080; font-weight: bold\">4.4359e-02</span>, <span style=\"color: #008080; text-decoration-color: #008080; font-weight: bold\">-9.0200e-03</span>,  <span style=\"color: #008080; text-decoration-color: #008080; font-weight: bold\">3.8994e-02</span>,\n",
       "        <span style=\"color: #008080; text-decoration-color: #008080; font-weight: bold\">-3.4364e-02</span>, <span style=\"color: #008080; text-decoration-color: #008080; font-weight: bold\">-6.9256e-02</span>,  <span style=\"color: #008080; text-decoration-color: #008080; font-weight: bold\">2.5044e-02</span>, <span style=\"color: #008080; text-decoration-color: #008080; font-weight: bold\">-4.3153e-02</span>,  <span style=\"color: #008080; text-decoration-color: #008080; font-weight: bold\">2.5592e-02</span>,\n",
       "         <span style=\"color: #008080; text-decoration-color: #008080; font-weight: bold\">3.6207e-02</span>,  <span style=\"color: #008080; text-decoration-color: #008080; font-weight: bold\">7.3959e-02</span>, <span style=\"color: #008080; text-decoration-color: #008080; font-weight: bold\">-3.4143e-02</span>,  <span style=\"color: #008080; text-decoration-color: #008080; font-weight: bold\">8.5106e-02</span>, <span style=\"color: #008080; text-decoration-color: #008080; font-weight: bold\">-5.2802e-02</span>,\n",
       "        <span style=\"color: #008080; text-decoration-color: #008080; font-weight: bold\">-1.1268e-01</span>, <span style=\"color: #008080; text-decoration-color: #008080; font-weight: bold\">-3.9601e-02</span>, <span style=\"color: #008080; text-decoration-color: #008080; font-weight: bold\">-9.2824e-03</span>, <span style=\"color: #008080; text-decoration-color: #008080; font-weight: bold\">-2.2307e-02</span>,  <span style=\"color: #008080; text-decoration-color: #008080; font-weight: bold\">1.7575e-02</span>,\n",
       "         <span style=\"color: #008080; text-decoration-color: #008080; font-weight: bold\">1.4273e-02</span>,  <span style=\"color: #008080; text-decoration-color: #008080; font-weight: bold\">1.1023e-02</span>,  <span style=\"color: #008080; text-decoration-color: #008080; font-weight: bold\">1.8959e-02</span>, <span style=\"color: #008080; text-decoration-color: #008080; font-weight: bold\">-2.1621e-02</span>, <span style=\"color: #008080; text-decoration-color: #008080; font-weight: bold\">-5.2473e-02</span>,\n",
       "        <span style=\"color: #008080; text-decoration-color: #008080; font-weight: bold\">-3.1174e-02</span>,  <span style=\"color: #008080; text-decoration-color: #008080; font-weight: bold\">4.7182e-02</span>,  <span style=\"color: #008080; text-decoration-color: #008080; font-weight: bold\">5.3034e-02</span>,  <span style=\"color: #008080; text-decoration-color: #008080; font-weight: bold\">3.2707e-02</span>,  <span style=\"color: #008080; text-decoration-color: #008080; font-weight: bold\">2.7765e-02</span>,\n",
       "         <span style=\"color: #008080; text-decoration-color: #008080; font-weight: bold\">4.6465e-02</span>, <span style=\"color: #008080; text-decoration-color: #008080; font-weight: bold\">-6.6840e-02</span>,  <span style=\"color: #008080; text-decoration-color: #008080; font-weight: bold\">7.2035e-02</span>, <span style=\"color: #008080; text-decoration-color: #008080; font-weight: bold\">-1.9091e-02</span>,  <span style=\"color: #008080; text-decoration-color: #008080; font-weight: bold\">3.4947e-02</span>,\n",
       "        <span style=\"color: #008080; text-decoration-color: #008080; font-weight: bold\">-1.9729e-02</span>, <span style=\"color: #008080; text-decoration-color: #008080; font-weight: bold\">-3.5099e-02</span>, <span style=\"color: #008080; text-decoration-color: #008080; font-weight: bold\">-3.6632e-02</span>,  <span style=\"color: #008080; text-decoration-color: #008080; font-weight: bold\">1.1696e-02</span>,  <span style=\"color: #008080; text-decoration-color: #008080; font-weight: bold\">3.6319e-02</span>,\n",
       "         <span style=\"color: #008080; text-decoration-color: #008080; font-weight: bold\">5.6143e-02</span>,  <span style=\"color: #008080; text-decoration-color: #008080; font-weight: bold\">2.3251e-03</span>,  <span style=\"color: #008080; text-decoration-color: #008080; font-weight: bold\">1.0723e-01</span>, <span style=\"color: #008080; text-decoration-color: #008080; font-weight: bold\">-1.1715e-02</span>, <span style=\"color: #008080; text-decoration-color: #008080; font-weight: bold\">-3.5454e-03</span>,\n",
       "        <span style=\"color: #008080; text-decoration-color: #008080; font-weight: bold\">-1.3971e-02</span>,  <span style=\"color: #008080; text-decoration-color: #008080; font-weight: bold\">5.2321e-03</span>,  <span style=\"color: #008080; text-decoration-color: #008080; font-weight: bold\">4.5230e-02</span>, <span style=\"color: #008080; text-decoration-color: #008080; font-weight: bold\">-5.8749e-02</span>, <span style=\"color: #008080; text-decoration-color: #008080; font-weight: bold\">-2.4461e-02</span>,\n",
       "        <span style=\"color: #008080; text-decoration-color: #008080; font-weight: bold\">-7.0650e-02</span>,  <span style=\"color: #008080; text-decoration-color: #008080; font-weight: bold\">4.5616e-02</span>,  <span style=\"color: #008080; text-decoration-color: #008080; font-weight: bold\">7.2012e-02</span>, <span style=\"color: #008080; text-decoration-color: #008080; font-weight: bold\">-3.6959e-02</span>, <span style=\"color: #008080; text-decoration-color: #008080; font-weight: bold\">-3.1838e-02</span>,\n",
       "         <span style=\"color: #008080; text-decoration-color: #008080; font-weight: bold\">4.6898e-03</span>,  <span style=\"color: #008080; text-decoration-color: #008080; font-weight: bold\">2.5908e-02</span>, <span style=\"color: #008080; text-decoration-color: #008080; font-weight: bold\">-6.0194e-02</span>, <span style=\"color: #008080; text-decoration-color: #008080; font-weight: bold\">-7.2020e-03</span>,  <span style=\"color: #008080; text-decoration-color: #008080; font-weight: bold\">6.7752e-02</span>,\n",
       "        <span style=\"color: #008080; text-decoration-color: #008080; font-weight: bold\">-7.0150e-02</span>, <span style=\"color: #008080; text-decoration-color: #008080; font-weight: bold\">-2.8524e-02</span>,  <span style=\"color: #008080; text-decoration-color: #008080; font-weight: bold\">4.0547e-03</span>, <span style=\"color: #008080; text-decoration-color: #008080; font-weight: bold\">-1.3080e-01</span>, <span style=\"color: #008080; text-decoration-color: #008080; font-weight: bold\">-1.8884e-02</span>,\n",
       "        <span style=\"color: #008080; text-decoration-color: #008080; font-weight: bold\">-7.3759e-02</span>, <span style=\"color: #008080; text-decoration-color: #008080; font-weight: bold\">-4.3154e-02</span>, <span style=\"color: #008080; text-decoration-color: #008080; font-weight: bold\">-3.0080e-02</span>, <span style=\"color: #008080; text-decoration-color: #008080; font-weight: bold\">-7.0080e-02</span>,  <span style=\"color: #008080; text-decoration-color: #008080; font-weight: bold\">4.7776e-02</span>,\n",
       "         <span style=\"color: #008080; text-decoration-color: #008080; font-weight: bold\">7.5751e-03</span>, <span style=\"color: #008080; text-decoration-color: #008080; font-weight: bold\">-4.0063e-02</span>, <span style=\"color: #008080; text-decoration-color: #008080; font-weight: bold\">-3.9337e-02</span>, <span style=\"color: #008080; text-decoration-color: #008080; font-weight: bold\">-5.5096e-02</span>,  <span style=\"color: #008080; text-decoration-color: #008080; font-weight: bold\">6.7704e-02</span>,\n",
       "         <span style=\"color: #008080; text-decoration-color: #008080; font-weight: bold\">2.3271e-02</span>, <span style=\"color: #008080; text-decoration-color: #008080; font-weight: bold\">-1.5606e-02</span>, <span style=\"color: #008080; text-decoration-color: #008080; font-weight: bold\">-3.0095e-02</span>, <span style=\"color: #008080; text-decoration-color: #008080; font-weight: bold\">-3.2230e-03</span>, <span style=\"color: #008080; text-decoration-color: #008080; font-weight: bold\">-1.1410e-01</span>,\n",
       "         <span style=\"color: #008080; text-decoration-color: #008080; font-weight: bold\">1.7479e-02</span>,  <span style=\"color: #008080; text-decoration-color: #008080; font-weight: bold\">4.1933e-03</span>,  <span style=\"color: #008080; text-decoration-color: #008080; font-weight: bold\">5.8488e-02</span>, <span style=\"color: #008080; text-decoration-color: #008080; font-weight: bold\">-3.2622e-02</span>, <span style=\"color: #008080; text-decoration-color: #008080; font-weight: bold\">-4.9826e-02</span>,\n",
       "        <span style=\"color: #008080; text-decoration-color: #008080; font-weight: bold\">-3.0930e-02</span>,  <span style=\"color: #008080; text-decoration-color: #008080; font-weight: bold\">1.0857e-01</span>,  <span style=\"color: #008080; text-decoration-color: #008080; font-weight: bold\">5.1082e-02</span>, <span style=\"color: #008080; text-decoration-color: #008080; font-weight: bold\">-9.7597e-02</span>, <span style=\"color: #008080; text-decoration-color: #008080; font-weight: bold\">-2.3989e-02</span>,\n",
       "         <span style=\"color: #008080; text-decoration-color: #008080; font-weight: bold\">7.9028e-02</span>, <span style=\"color: #008080; text-decoration-color: #008080; font-weight: bold\">-2.6031e-02</span>, <span style=\"color: #008080; text-decoration-color: #008080; font-weight: bold\">-2.9201e-02</span>, <span style=\"color: #008080; text-decoration-color: #008080; font-weight: bold\">-6.7714e-02</span>, <span style=\"color: #008080; text-decoration-color: #008080; font-weight: bold\">-2.3414e-08</span>,\n",
       "         <span style=\"color: #008080; text-decoration-color: #008080; font-weight: bold\">9.5609e-03</span>,  <span style=\"color: #008080; text-decoration-color: #008080; font-weight: bold\">3.6905e-02</span>,  <span style=\"color: #008080; text-decoration-color: #008080; font-weight: bold\">5.0259e-02</span>, <span style=\"color: #008080; text-decoration-color: #008080; font-weight: bold\">-4.0006e-03</span>,  <span style=\"color: #008080; text-decoration-color: #008080; font-weight: bold\">2.9434e-02</span>,\n",
       "        <span style=\"color: #008080; text-decoration-color: #008080; font-weight: bold\">-3.6063e-02</span>, <span style=\"color: #008080; text-decoration-color: #008080; font-weight: bold\">-4.3240e-02</span>,  <span style=\"color: #008080; text-decoration-color: #008080; font-weight: bold\">1.4415e-02</span>,  <span style=\"color: #008080; text-decoration-color: #008080; font-weight: bold\">3.7832e-02</span>,  <span style=\"color: #008080; text-decoration-color: #008080; font-weight: bold\">1.9344e-03</span>,\n",
       "        <span style=\"color: #008080; text-decoration-color: #008080; font-weight: bold\">-3.4044e-02</span>, <span style=\"color: #008080; text-decoration-color: #008080; font-weight: bold\">-2.6402e-03</span>,  <span style=\"color: #008080; text-decoration-color: #008080; font-weight: bold\">6.3723e-03</span>, <span style=\"color: #008080; text-decoration-color: #008080; font-weight: bold\">-7.5963e-02</span>,  <span style=\"color: #008080; text-decoration-color: #008080; font-weight: bold\">3.5744e-02</span>,\n",
       "         <span style=\"color: #008080; text-decoration-color: #008080; font-weight: bold\">4.8109e-02</span>, <span style=\"color: #008080; text-decoration-color: #008080; font-weight: bold\">-2.8731e-02</span>,  <span style=\"color: #008080; text-decoration-color: #008080; font-weight: bold\">5.7399e-04</span>, <span style=\"color: #008080; text-decoration-color: #008080; font-weight: bold\">-1.6240e-02</span>, <span style=\"color: #008080; text-decoration-color: #008080; font-weight: bold\">-1.9413e-02</span>,\n",
       "        <span style=\"color: #008080; text-decoration-color: #008080; font-weight: bold\">-1.0707e-01</span>, <span style=\"color: #008080; text-decoration-color: #008080; font-weight: bold\">-6.4964e-02</span>, <span style=\"color: #008080; text-decoration-color: #008080; font-weight: bold\">-1.8988e-03</span>, <span style=\"color: #008080; text-decoration-color: #008080; font-weight: bold\">-4.3588e-02</span>, <span style=\"color: #008080; text-decoration-color: #008080; font-weight: bold\">-1.3333e-01</span>,\n",
       "         <span style=\"color: #008080; text-decoration-color: #008080; font-weight: bold\">3.5273e-02</span>,  <span style=\"color: #008080; text-decoration-color: #008080; font-weight: bold\">5.5209e-02</span>, <span style=\"color: #008080; text-decoration-color: #008080; font-weight: bold\">-1.5422e-02</span>, <span style=\"color: #008080; text-decoration-color: #008080; font-weight: bold\">-2.1405e-02</span>, <span style=\"color: #008080; text-decoration-color: #008080; font-weight: bold\">-3.5562e-04</span>,\n",
       "        <span style=\"color: #008080; text-decoration-color: #008080; font-weight: bold\">-4.0583e-02</span>,  <span style=\"color: #008080; text-decoration-color: #008080; font-weight: bold\">4.0723e-02</span>, <span style=\"color: #008080; text-decoration-color: #008080; font-weight: bold\">-1.9816e-02</span>,  <span style=\"color: #008080; text-decoration-color: #008080; font-weight: bold\">4.4682e-02</span>,  <span style=\"color: #008080; text-decoration-color: #008080; font-weight: bold\">2.7648e-02</span>,\n",
       "         <span style=\"color: #008080; text-decoration-color: #008080; font-weight: bold\">8.8865e-02</span>, <span style=\"color: #008080; text-decoration-color: #008080; font-weight: bold\">-5.7460e-02</span>,  <span style=\"color: #008080; text-decoration-color: #008080; font-weight: bold\">3.9150e-02</span>,  <span style=\"color: #008080; text-decoration-color: #008080; font-weight: bold\">8.3433e-03</span>,  <span style=\"color: #008080; text-decoration-color: #008080; font-weight: bold\">5.3881e-02</span>,\n",
       "         <span style=\"color: #008080; text-decoration-color: #008080; font-weight: bold\">2.0442e-02</span>, <span style=\"color: #008080; text-decoration-color: #008080; font-weight: bold\">-1.1603e-01</span>, <span style=\"color: #008080; text-decoration-color: #008080; font-weight: bold\">-5.8360e-02</span>,  <span style=\"color: #008080; text-decoration-color: #008080; font-weight: bold\">4.1808e-03</span>, <span style=\"color: #008080; text-decoration-color: #008080; font-weight: bold\">-1.9214e-02</span>,\n",
       "         <span style=\"color: #008080; text-decoration-color: #008080; font-weight: bold\">1.3940e-02</span>, <span style=\"color: #008080; text-decoration-color: #008080; font-weight: bold\">-2.2831e-02</span>, <span style=\"color: #008080; text-decoration-color: #008080; font-weight: bold\">-1.1595e-02</span>, <span style=\"color: #008080; text-decoration-color: #008080; font-weight: bold\">-1.8103e-02</span>,  <span style=\"color: #008080; text-decoration-color: #008080; font-weight: bold\">5.2128e-02</span>,\n",
       "        <span style=\"color: #008080; text-decoration-color: #008080; font-weight: bold\">-6.6055e-02</span>,  <span style=\"color: #008080; text-decoration-color: #008080; font-weight: bold\">4.8010e-02</span>, <span style=\"color: #008080; text-decoration-color: #008080; font-weight: bold\">-5.2628e-02</span>, <span style=\"color: #008080; text-decoration-color: #008080; font-weight: bold\">-2.2247e-03</span>,  <span style=\"color: #008080; text-decoration-color: #008080; font-weight: bold\">2.1005e-02</span>,\n",
       "         <span style=\"color: #008080; text-decoration-color: #008080; font-weight: bold\">5.3376e-02</span>, <span style=\"color: #008080; text-decoration-color: #008080; font-weight: bold\">-6.9090e-02</span>, <span style=\"color: #008080; text-decoration-color: #008080; font-weight: bold\">-4.1878e-02</span>, <span style=\"color: #008080; text-decoration-color: #008080; font-weight: bold\">-6.2827e-02</span>,  <span style=\"color: #008080; text-decoration-color: #008080; font-weight: bold\">2.4870e-02</span>,\n",
       "         <span style=\"color: #008080; text-decoration-color: #008080; font-weight: bold\">3.1205e-02</span>,  <span style=\"color: #008080; text-decoration-color: #008080; font-weight: bold\">7.6650e-02</span>,  <span style=\"color: #008080; text-decoration-color: #008080; font-weight: bold\">7.1036e-02</span>,  <span style=\"color: #008080; text-decoration-color: #008080; font-weight: bold\">1.1342e-02</span><span style=\"font-weight: bold\">])</span>\n",
       "<span style=\"font-weight: bold\">}</span>\n",
       "</pre>\n"
      ],
      "text/plain": [
       "\u001b[1m{\u001b[0m\n",
       "    \u001b[32m'input_ids'\u001b[0m: \u001b[1;35mtensor\u001b[0m\u001b[1m(\u001b[0m\u001b[1m[\u001b[0m  \u001b[1;36m101\u001b[0m,  \u001b[1;36m2054\u001b[0m,  \u001b[1;36m2515\u001b[0m,  \u001b[1;36m1005\u001b[0m,  \u001b[1;36m3565\u001b[0m,  \u001b[1;36m1005\u001b[0m,  \u001b[1;36m2079\u001b[0m,  \u001b[1;36m1999\u001b[0m, \u001b[1;36m18750\u001b[0m,  \u001b[1;36m1029\u001b[0m,\n",
       "         \u001b[1;36m1011\u001b[0m,  \u001b[1;36m4489\u001b[0m,  \u001b[1;36m2090\u001b[0m,  \u001b[1;36m3565\u001b[0m,  \u001b[1;36m1006\u001b[0m,  \u001b[1;36m1007\u001b[0m,  \u001b[1;36m1012\u001b[0m,  \u001b[1;36m1035\u001b[0m,  \u001b[1;36m1035\u001b[0m,  \u001b[1;36m1999\u001b[0m,\n",
       "         \u001b[1;36m4183\u001b[0m,  \u001b[1;36m1035\u001b[0m,  \u001b[1;36m1035\u001b[0m,  \u001b[1;36m1006\u001b[0m,  \u001b[1;36m1007\u001b[0m,  \u001b[1;36m1998\u001b[0m, \u001b[1;36m13216\u001b[0m,  \u001b[1;36m3565\u001b[0m, \u001b[1;36m26266\u001b[0m,  \u001b[1;36m1035\u001b[0m,\n",
       "         \u001b[1;36m1035\u001b[0m,  \u001b[1;36m1999\u001b[0m,  \u001b[1;36m4183\u001b[0m,  \u001b[1;36m1035\u001b[0m,  \u001b[1;36m1035\u001b[0m,  \u001b[1;36m1006\u001b[0m,  \u001b[1;36m1007\u001b[0m,   \u001b[1;36m102\u001b[0m\u001b[1m]\u001b[0m\u001b[1m)\u001b[0m,\n",
       "    \u001b[32m'token_type_ids'\u001b[0m: \u001b[1;35mtensor\u001b[0m\u001b[1m(\u001b[0m\u001b[1m[\u001b[0m\u001b[1;36m0\u001b[0m, \u001b[1;36m0\u001b[0m, \u001b[1;36m0\u001b[0m, \u001b[1;36m0\u001b[0m, \u001b[1;36m0\u001b[0m, \u001b[1;36m0\u001b[0m, \u001b[1;36m0\u001b[0m, \u001b[1;36m0\u001b[0m, \u001b[1;36m0\u001b[0m, \u001b[1;36m0\u001b[0m, \u001b[1;36m0\u001b[0m, \u001b[1;36m0\u001b[0m, \u001b[1;36m0\u001b[0m, \u001b[1;36m0\u001b[0m, \u001b[1;36m0\u001b[0m, \u001b[1;36m0\u001b[0m, \u001b[1;36m0\u001b[0m, \u001b[1;36m0\u001b[0m, \u001b[1;36m0\u001b[0m, \u001b[1;36m0\u001b[0m, \u001b[1;36m0\u001b[0m, \u001b[1;36m0\u001b[0m, \u001b[1;36m0\u001b[0m, \u001b[1;36m0\u001b[0m,\n",
       "        \u001b[1;36m0\u001b[0m, \u001b[1;36m0\u001b[0m, \u001b[1;36m0\u001b[0m, \u001b[1;36m0\u001b[0m, \u001b[1;36m0\u001b[0m, \u001b[1;36m0\u001b[0m, \u001b[1;36m0\u001b[0m, \u001b[1;36m0\u001b[0m, \u001b[1;36m0\u001b[0m, \u001b[1;36m0\u001b[0m, \u001b[1;36m0\u001b[0m, \u001b[1;36m0\u001b[0m, \u001b[1;36m0\u001b[0m, \u001b[1;36m0\u001b[0m\u001b[1m]\u001b[0m\u001b[1m)\u001b[0m,\n",
       "    \u001b[32m'attention_mask'\u001b[0m: \u001b[1;35mtensor\u001b[0m\u001b[1m(\u001b[0m\u001b[1m[\u001b[0m\u001b[1;36m1\u001b[0m, \u001b[1;36m1\u001b[0m, \u001b[1;36m1\u001b[0m, \u001b[1;36m1\u001b[0m, \u001b[1;36m1\u001b[0m, \u001b[1;36m1\u001b[0m, \u001b[1;36m1\u001b[0m, \u001b[1;36m1\u001b[0m, \u001b[1;36m1\u001b[0m, \u001b[1;36m1\u001b[0m, \u001b[1;36m1\u001b[0m, \u001b[1;36m1\u001b[0m, \u001b[1;36m1\u001b[0m, \u001b[1;36m1\u001b[0m, \u001b[1;36m1\u001b[0m, \u001b[1;36m1\u001b[0m, \u001b[1;36m1\u001b[0m, \u001b[1;36m1\u001b[0m, \u001b[1;36m1\u001b[0m, \u001b[1;36m1\u001b[0m, \u001b[1;36m1\u001b[0m, \u001b[1;36m1\u001b[0m, \u001b[1;36m1\u001b[0m, \u001b[1;36m1\u001b[0m,\n",
       "        \u001b[1;36m1\u001b[0m, \u001b[1;36m1\u001b[0m, \u001b[1;36m1\u001b[0m, \u001b[1;36m1\u001b[0m, \u001b[1;36m1\u001b[0m, \u001b[1;36m1\u001b[0m, \u001b[1;36m1\u001b[0m, \u001b[1;36m1\u001b[0m, \u001b[1;36m1\u001b[0m, \u001b[1;36m1\u001b[0m, \u001b[1;36m1\u001b[0m, \u001b[1;36m1\u001b[0m, \u001b[1;36m1\u001b[0m, \u001b[1;36m1\u001b[0m\u001b[1m]\u001b[0m\u001b[1m)\u001b[0m,\n",
       "    \u001b[32m'token_embeddings'\u001b[0m: \u001b[1;35mtensor\u001b[0m\u001b[1m(\u001b[0m\u001b[1m[\u001b[0m\u001b[1m[\u001b[0m\u001b[1;36m-0.4915\u001b[0m,  \u001b[1;36m0.0079\u001b[0m,  \u001b[1;36m0.1150\u001b[0m,  \u001b[33m...\u001b[0m,  \u001b[1;36m0.3318\u001b[0m, \u001b[1;36m-0.1832\u001b[0m, \u001b[1;36m-0.0306\u001b[0m\u001b[1m]\u001b[0m,\n",
       "        \u001b[1m[\u001b[0m\u001b[1;36m-0.6559\u001b[0m,  \u001b[1;36m0.0482\u001b[0m,  \u001b[1;36m0.0829\u001b[0m,  \u001b[33m...\u001b[0m,  \u001b[1;36m0.3092\u001b[0m,  \u001b[1;36m0.2388\u001b[0m, \u001b[1;36m-0.0171\u001b[0m\u001b[1m]\u001b[0m,\n",
       "        \u001b[1m[\u001b[0m\u001b[1;36m-0.7676\u001b[0m, \u001b[1;36m-0.0600\u001b[0m,  \u001b[1;36m0.0628\u001b[0m,  \u001b[33m...\u001b[0m,  \u001b[1;36m0.4701\u001b[0m,  \u001b[1;36m0.5587\u001b[0m, \u001b[1;36m-0.2076\u001b[0m\u001b[1m]\u001b[0m,\n",
       "        \u001b[33m...\u001b[0m,\n",
       "        \u001b[1m[\u001b[0m\u001b[1;36m-0.5866\u001b[0m,  \u001b[1;36m0.3504\u001b[0m,  \u001b[1;36m0.1313\u001b[0m,  \u001b[33m...\u001b[0m,  \u001b[1;36m0.5132\u001b[0m,  \u001b[1;36m0.6868\u001b[0m,  \u001b[1;36m0.3820\u001b[0m\u001b[1m]\u001b[0m,\n",
       "        \u001b[1m[\u001b[0m\u001b[1;36m-0.4603\u001b[0m, \u001b[1;36m-0.0785\u001b[0m,  \u001b[1;36m0.1447\u001b[0m,  \u001b[33m...\u001b[0m,  \u001b[1;36m0.3814\u001b[0m,  \u001b[1;36m0.2534\u001b[0m,  \u001b[1;36m0.0358\u001b[0m\u001b[1m]\u001b[0m,\n",
       "        \u001b[1m[\u001b[0m\u001b[1;36m-0.6221\u001b[0m, \u001b[1;36m-0.1158\u001b[0m,  \u001b[1;36m0.1800\u001b[0m,  \u001b[33m...\u001b[0m,  \u001b[1;36m0.5810\u001b[0m,  \u001b[1;36m0.3475\u001b[0m, \u001b[1;36m-0.0104\u001b[0m\u001b[1m]\u001b[0m\u001b[1m]\u001b[0m\u001b[1m)\u001b[0m,\n",
       "    \u001b[32m'sentence_embedding'\u001b[0m: \u001b[1;35mtensor\u001b[0m\u001b[1m(\u001b[0m\u001b[1m[\u001b[0m\u001b[1;36m-1.4246e-01\u001b[0m,  \u001b[1;36m3.0715e-03\u001b[0m,  \u001b[1;36m1.5940e-02\u001b[0m,  \u001b[1;36m2.8173e-02\u001b[0m,  \u001b[1;36m2.1864e-02\u001b[0m,\n",
       "        \u001b[1;36m-8.6956e-02\u001b[0m, \u001b[1;36m-3.7082e-02\u001b[0m,  \u001b[1;36m8.4534e-02\u001b[0m, \u001b[1;36m-8.4545e-02\u001b[0m, \u001b[1;36m-1.9203e-02\u001b[0m,\n",
       "         \u001b[1;36m1.2949e-02\u001b[0m,  \u001b[1;36m1.1646e-01\u001b[0m, \u001b[1;36m-6.2878e-03\u001b[0m,  \u001b[1;36m5.2016e-03\u001b[0m, \u001b[1;36m-4.4650e-02\u001b[0m,\n",
       "         \u001b[1;36m5.4340e-04\u001b[0m,  \u001b[1;36m1.1038e-01\u001b[0m, \u001b[1;36m-8.6887e-02\u001b[0m, \u001b[1;36m-7.3036e-02\u001b[0m, \u001b[1;36m-1.9409e-02\u001b[0m,\n",
       "         \u001b[1;36m1.4030e-01\u001b[0m, \u001b[1;36m-2.7500e-02\u001b[0m, \u001b[1;36m-6.8370e-02\u001b[0m,  \u001b[1;36m5.3648e-02\u001b[0m, \u001b[1;36m-1.0747e-02\u001b[0m,\n",
       "        \u001b[1;36m-3.9285e-02\u001b[0m, \u001b[1;36m-7.5669e-02\u001b[0m,  \u001b[1;36m2.1057e-02\u001b[0m,  \u001b[1;36m3.5978e-02\u001b[0m,  \u001b[1;36m6.1648e-02\u001b[0m,\n",
       "        \u001b[1;36m-3.6488e-02\u001b[0m,  \u001b[1;36m1.1507e-01\u001b[0m, \u001b[1;36m-4.9677e-03\u001b[0m,  \u001b[1;36m3.0514e-02\u001b[0m, \u001b[1;36m-7.8639e-02\u001b[0m,\n",
       "         \u001b[1;36m9.8421e-02\u001b[0m,  \u001b[1;36m2.5322e-02\u001b[0m, \u001b[1;36m-1.0002e-02\u001b[0m,  \u001b[1;36m4.8957e-02\u001b[0m, \u001b[1;36m-7.0811e-02\u001b[0m,\n",
       "        \u001b[1;36m-1.3952e-02\u001b[0m, \u001b[1;36m-1.9013e-02\u001b[0m, \u001b[1;36m-3.3804e-02\u001b[0m, \u001b[1;36m-1.4941e-02\u001b[0m,  \u001b[1;36m3.1447e-02\u001b[0m,\n",
       "         \u001b[1;36m4.5754e-02\u001b[0m, \u001b[1;36m-3.8936e-02\u001b[0m,  \u001b[1;36m1.0241e-02\u001b[0m, \u001b[1;36m-4.7750e-02\u001b[0m, \u001b[1;36m-7.2783e-02\u001b[0m,\n",
       "        \u001b[1;36m-1.9285e-02\u001b[0m,  \u001b[1;36m5.6163e-02\u001b[0m, \u001b[1;36m-6.3321e-03\u001b[0m,  \u001b[1;36m1.9977e-02\u001b[0m,  \u001b[1;36m2.6490e-02\u001b[0m,\n",
       "         \u001b[1;36m6.2586e-02\u001b[0m, \u001b[1;36m-1.2018e-03\u001b[0m, \u001b[1;36m-8.9426e-02\u001b[0m, \u001b[1;36m-4.6173e-02\u001b[0m, \u001b[1;36m-3.6813e-02\u001b[0m,\n",
       "        \u001b[1;36m-4.8190e-02\u001b[0m,  \u001b[1;36m2.1556e-02\u001b[0m,  \u001b[1;36m1.9962e-02\u001b[0m,  \u001b[1;36m3.5407e-02\u001b[0m,  \u001b[1;36m2.6642e-02\u001b[0m,\n",
       "        \u001b[1;36m-5.8311e-02\u001b[0m, \u001b[1;36m-1.2200e-03\u001b[0m, \u001b[1;36m-3.4401e-03\u001b[0m,  \u001b[1;36m1.7953e-02\u001b[0m,  \u001b[1;36m5.4156e-02\u001b[0m,\n",
       "        \u001b[1;36m-5.0989e-03\u001b[0m, \u001b[1;36m-2.7924e-02\u001b[0m,  \u001b[1;36m5.4463e-02\u001b[0m,  \u001b[1;36m1.1905e-01\u001b[0m,  \u001b[1;36m1.2868e-01\u001b[0m,\n",
       "        \u001b[1;36m-8.8595e-02\u001b[0m, \u001b[1;36m-1.6164e-02\u001b[0m, \u001b[1;36m-3.2878e-02\u001b[0m, \u001b[1;36m-3.5485e-02\u001b[0m, \u001b[1;36m-1.9966e-02\u001b[0m,\n",
       "         \u001b[1;36m3.9049e-02\u001b[0m, \u001b[1;36m-4.9114e-02\u001b[0m,  \u001b[1;36m4.5685e-02\u001b[0m, \u001b[1;36m-1.2991e-02\u001b[0m,  \u001b[1;36m4.6847e-02\u001b[0m,\n",
       "        \u001b[1;36m-5.6101e-02\u001b[0m,  \u001b[1;36m6.8093e-02\u001b[0m,  \u001b[1;36m2.4826e-03\u001b[0m,  \u001b[1;36m2.6495e-02\u001b[0m,  \u001b[1;36m7.6566e-02\u001b[0m,\n",
       "         \u001b[1;36m1.5663e-02\u001b[0m, \u001b[1;36m-6.9162e-02\u001b[0m, \u001b[1;36m-6.2864e-02\u001b[0m,  \u001b[1;36m2.0814e-02\u001b[0m, \u001b[1;36m-1.0910e-01\u001b[0m,\n",
       "         \u001b[1;36m2.1203e-02\u001b[0m, \u001b[1;36m-1.4046e-02\u001b[0m,  \u001b[1;36m1.5385e-02\u001b[0m, \u001b[1;36m-6.3359e-03\u001b[0m, \u001b[1;36m-2.8475e-02\u001b[0m,\n",
       "         \u001b[1;36m1.3662e-02\u001b[0m, \u001b[1;36m-1.3258e-01\u001b[0m, \u001b[1;36m-1.8202e-02\u001b[0m, \u001b[1;36m-2.1830e-02\u001b[0m,  \u001b[1;36m8.3101e-02\u001b[0m,\n",
       "        \u001b[1;36m-6.8789e-02\u001b[0m, \u001b[1;36m-9.0988e-03\u001b[0m, \u001b[1;36m-7.0356e-02\u001b[0m,  \u001b[1;36m6.2706e-02\u001b[0m, \u001b[1;36m-4.4722e-02\u001b[0m,\n",
       "        \u001b[1;36m-7.2774e-03\u001b[0m, \u001b[1;36m-1.7467e-01\u001b[0m,  \u001b[1;36m2.3604e-02\u001b[0m, \u001b[1;36m-6.0021e-02\u001b[0m, \u001b[1;36m-3.4137e-02\u001b[0m,\n",
       "         \u001b[1;36m7.4124e-02\u001b[0m,  \u001b[1;36m4.0557e-03\u001b[0m,  \u001b[1;36m5.9823e-02\u001b[0m,  \u001b[1;36m1.4840e-03\u001b[0m, \u001b[1;36m-4.6625e-03\u001b[0m,\n",
       "         \u001b[1;36m7.0497e-03\u001b[0m,  \u001b[1;36m7.7516e-02\u001b[0m,  \u001b[1;36m7.3966e-02\u001b[0m,  \u001b[1;36m3.4246e-02\u001b[0m, \u001b[1;36m-4.2010e-02\u001b[0m,\n",
       "         \u001b[1;36m8.9824e-02\u001b[0m, \u001b[1;36m-1.0567e-01\u001b[0m, \u001b[1;36m-6.4156e-33\u001b[0m, \u001b[1;36m-1.6688e-02\u001b[0m, \u001b[1;36m-3.7029e-02\u001b[0m,\n",
       "         \u001b[1;36m1.5546e-03\u001b[0m, \u001b[1;36m-1.9020e-02\u001b[0m, \u001b[1;36m-3.0639e-02\u001b[0m, \u001b[1;36m-3.2764e-02\u001b[0m,  \u001b[1;36m1.1822e-02\u001b[0m,\n",
       "         \u001b[1;36m9.7167e-03\u001b[0m,  \u001b[1;36m1.2093e-04\u001b[0m,  \u001b[1;36m7.0550e-02\u001b[0m,  \u001b[1;36m2.4579e-02\u001b[0m,  \u001b[1;36m5.7831e-02\u001b[0m,\n",
       "         \u001b[1;36m6.8307e-02\u001b[0m,  \u001b[1;36m5.6851e-02\u001b[0m,  \u001b[1;36m7.3616e-02\u001b[0m,  \u001b[1;36m2.2824e-02\u001b[0m, \u001b[1;36m-7.3005e-02\u001b[0m,\n",
       "        \u001b[1;36m-1.5891e-02\u001b[0m,  \u001b[1;36m2.0759e-02\u001b[0m, \u001b[1;36m-1.2286e-02\u001b[0m,  \u001b[1;36m6.4947e-02\u001b[0m,  \u001b[1;36m1.2431e-01\u001b[0m,\n",
       "         \u001b[1;36m1.8076e-02\u001b[0m,  \u001b[1;36m1.1093e-02\u001b[0m, \u001b[1;36m-2.1620e-04\u001b[0m, \u001b[1;36m-1.7142e-02\u001b[0m,  \u001b[1;36m1.4853e-02\u001b[0m,\n",
       "        \u001b[1;36m-1.2691e-02\u001b[0m, \u001b[1;36m-5.0507e-02\u001b[0m,  \u001b[1;36m3.7222e-02\u001b[0m, \u001b[1;36m-4.0360e-02\u001b[0m, \u001b[1;36m-7.4048e-02\u001b[0m,\n",
       "        \u001b[1;36m-1.0970e-02\u001b[0m,  \u001b[1;36m4.1702e-02\u001b[0m, \u001b[1;36m-6.8921e-02\u001b[0m,  \u001b[1;36m4.1219e-03\u001b[0m,  \u001b[1;36m1.4185e-02\u001b[0m,\n",
       "        \u001b[1;36m-7.5804e-02\u001b[0m, \u001b[1;36m-1.1405e-02\u001b[0m, \u001b[1;36m-8.4661e-02\u001b[0m, \u001b[1;36m-3.4637e-02\u001b[0m,  \u001b[1;36m4.0803e-02\u001b[0m,\n",
       "        \u001b[1;36m-1.9901e-02\u001b[0m, \u001b[1;36m-1.4428e-02\u001b[0m, \u001b[1;36m-3.2878e-02\u001b[0m, \u001b[1;36m-1.3772e-02\u001b[0m, \u001b[1;36m-1.9814e-02\u001b[0m,\n",
       "         \u001b[1;36m9.5046e-02\u001b[0m,  \u001b[1;36m9.0082e-03\u001b[0m, \u001b[1;36m-2.6932e-02\u001b[0m,  \u001b[1;36m1.6957e-02\u001b[0m, \u001b[1;36m-2.3650e-02\u001b[0m,\n",
       "         \u001b[1;36m3.9388e-02\u001b[0m,  \u001b[1;36m1.2614e-02\u001b[0m, \u001b[1;36m-1.8223e-02\u001b[0m,  \u001b[1;36m8.4496e-02\u001b[0m,  \u001b[1;36m1.0471e-01\u001b[0m,\n",
       "         \u001b[1;36m7.0581e-02\u001b[0m,  \u001b[1;36m2.9548e-02\u001b[0m, \u001b[1;36m-6.3651e-02\u001b[0m,  \u001b[1;36m5.4294e-04\u001b[0m, \u001b[1;36m-6.2097e-02\u001b[0m,\n",
       "         \u001b[1;36m1.1686e-02\u001b[0m,  \u001b[1;36m6.8007e-02\u001b[0m, \u001b[1;36m-4.1757e-02\u001b[0m,  \u001b[1;36m5.4762e-05\u001b[0m,  \u001b[1;36m7.2575e-03\u001b[0m,\n",
       "         \u001b[1;36m5.3216e-02\u001b[0m,  \u001b[1;36m3.9076e-02\u001b[0m,  \u001b[1;36m3.3343e-02\u001b[0m, \u001b[1;36m-2.3008e-02\u001b[0m,  \u001b[1;36m3.5174e-02\u001b[0m,\n",
       "        \u001b[1;36m-4.0212e-02\u001b[0m, \u001b[1;36m-1.7000e-02\u001b[0m,  \u001b[1;36m6.0849e-03\u001b[0m,  \u001b[1;36m3.7907e-02\u001b[0m,  \u001b[1;36m3.5553e-02\u001b[0m,\n",
       "        \u001b[1;36m-6.7226e-02\u001b[0m, \u001b[1;36m-4.7138e-02\u001b[0m,  \u001b[1;36m6.7798e-03\u001b[0m, \u001b[1;36m-7.1156e-02\u001b[0m,  \u001b[1;36m7.6744e-02\u001b[0m,\n",
       "         \u001b[1;36m3.7150e-02\u001b[0m, \u001b[1;36m-1.4659e-02\u001b[0m, \u001b[1;36m-7.8331e-02\u001b[0m,  \u001b[1;36m4.6545e-03\u001b[0m,  \u001b[1;36m1.6806e-02\u001b[0m,\n",
       "        \u001b[1;36m-1.1083e-02\u001b[0m,  \u001b[1;36m5.6526e-02\u001b[0m, \u001b[1;36m-7.9980e-02\u001b[0m, \u001b[1;36m-7.2967e-02\u001b[0m, \u001b[1;36m-5.7778e-02\u001b[0m,\n",
       "        \u001b[1;36m-2.5481e-03\u001b[0m, \u001b[1;36m-2.6015e-02\u001b[0m, \u001b[1;36m-2.7038e-02\u001b[0m,  \u001b[1;36m6.3895e-35\u001b[0m,  \u001b[1;36m5.4324e-02\u001b[0m,\n",
       "         \u001b[1;36m5.2883e-02\u001b[0m,  \u001b[1;36m1.8178e-02\u001b[0m,  \u001b[1;36m4.4359e-02\u001b[0m, \u001b[1;36m-9.0200e-03\u001b[0m,  \u001b[1;36m3.8994e-02\u001b[0m,\n",
       "        \u001b[1;36m-3.4364e-02\u001b[0m, \u001b[1;36m-6.9256e-02\u001b[0m,  \u001b[1;36m2.5044e-02\u001b[0m, \u001b[1;36m-4.3153e-02\u001b[0m,  \u001b[1;36m2.5592e-02\u001b[0m,\n",
       "         \u001b[1;36m3.6207e-02\u001b[0m,  \u001b[1;36m7.3959e-02\u001b[0m, \u001b[1;36m-3.4143e-02\u001b[0m,  \u001b[1;36m8.5106e-02\u001b[0m, \u001b[1;36m-5.2802e-02\u001b[0m,\n",
       "        \u001b[1;36m-1.1268e-01\u001b[0m, \u001b[1;36m-3.9601e-02\u001b[0m, \u001b[1;36m-9.2824e-03\u001b[0m, \u001b[1;36m-2.2307e-02\u001b[0m,  \u001b[1;36m1.7575e-02\u001b[0m,\n",
       "         \u001b[1;36m1.4273e-02\u001b[0m,  \u001b[1;36m1.1023e-02\u001b[0m,  \u001b[1;36m1.8959e-02\u001b[0m, \u001b[1;36m-2.1621e-02\u001b[0m, \u001b[1;36m-5.2473e-02\u001b[0m,\n",
       "        \u001b[1;36m-3.1174e-02\u001b[0m,  \u001b[1;36m4.7182e-02\u001b[0m,  \u001b[1;36m5.3034e-02\u001b[0m,  \u001b[1;36m3.2707e-02\u001b[0m,  \u001b[1;36m2.7765e-02\u001b[0m,\n",
       "         \u001b[1;36m4.6465e-02\u001b[0m, \u001b[1;36m-6.6840e-02\u001b[0m,  \u001b[1;36m7.2035e-02\u001b[0m, \u001b[1;36m-1.9091e-02\u001b[0m,  \u001b[1;36m3.4947e-02\u001b[0m,\n",
       "        \u001b[1;36m-1.9729e-02\u001b[0m, \u001b[1;36m-3.5099e-02\u001b[0m, \u001b[1;36m-3.6632e-02\u001b[0m,  \u001b[1;36m1.1696e-02\u001b[0m,  \u001b[1;36m3.6319e-02\u001b[0m,\n",
       "         \u001b[1;36m5.6143e-02\u001b[0m,  \u001b[1;36m2.3251e-03\u001b[0m,  \u001b[1;36m1.0723e-01\u001b[0m, \u001b[1;36m-1.1715e-02\u001b[0m, \u001b[1;36m-3.5454e-03\u001b[0m,\n",
       "        \u001b[1;36m-1.3971e-02\u001b[0m,  \u001b[1;36m5.2321e-03\u001b[0m,  \u001b[1;36m4.5230e-02\u001b[0m, \u001b[1;36m-5.8749e-02\u001b[0m, \u001b[1;36m-2.4461e-02\u001b[0m,\n",
       "        \u001b[1;36m-7.0650e-02\u001b[0m,  \u001b[1;36m4.5616e-02\u001b[0m,  \u001b[1;36m7.2012e-02\u001b[0m, \u001b[1;36m-3.6959e-02\u001b[0m, \u001b[1;36m-3.1838e-02\u001b[0m,\n",
       "         \u001b[1;36m4.6898e-03\u001b[0m,  \u001b[1;36m2.5908e-02\u001b[0m, \u001b[1;36m-6.0194e-02\u001b[0m, \u001b[1;36m-7.2020e-03\u001b[0m,  \u001b[1;36m6.7752e-02\u001b[0m,\n",
       "        \u001b[1;36m-7.0150e-02\u001b[0m, \u001b[1;36m-2.8524e-02\u001b[0m,  \u001b[1;36m4.0547e-03\u001b[0m, \u001b[1;36m-1.3080e-01\u001b[0m, \u001b[1;36m-1.8884e-02\u001b[0m,\n",
       "        \u001b[1;36m-7.3759e-02\u001b[0m, \u001b[1;36m-4.3154e-02\u001b[0m, \u001b[1;36m-3.0080e-02\u001b[0m, \u001b[1;36m-7.0080e-02\u001b[0m,  \u001b[1;36m4.7776e-02\u001b[0m,\n",
       "         \u001b[1;36m7.5751e-03\u001b[0m, \u001b[1;36m-4.0063e-02\u001b[0m, \u001b[1;36m-3.9337e-02\u001b[0m, \u001b[1;36m-5.5096e-02\u001b[0m,  \u001b[1;36m6.7704e-02\u001b[0m,\n",
       "         \u001b[1;36m2.3271e-02\u001b[0m, \u001b[1;36m-1.5606e-02\u001b[0m, \u001b[1;36m-3.0095e-02\u001b[0m, \u001b[1;36m-3.2230e-03\u001b[0m, \u001b[1;36m-1.1410e-01\u001b[0m,\n",
       "         \u001b[1;36m1.7479e-02\u001b[0m,  \u001b[1;36m4.1933e-03\u001b[0m,  \u001b[1;36m5.8488e-02\u001b[0m, \u001b[1;36m-3.2622e-02\u001b[0m, \u001b[1;36m-4.9826e-02\u001b[0m,\n",
       "        \u001b[1;36m-3.0930e-02\u001b[0m,  \u001b[1;36m1.0857e-01\u001b[0m,  \u001b[1;36m5.1082e-02\u001b[0m, \u001b[1;36m-9.7597e-02\u001b[0m, \u001b[1;36m-2.3989e-02\u001b[0m,\n",
       "         \u001b[1;36m7.9028e-02\u001b[0m, \u001b[1;36m-2.6031e-02\u001b[0m, \u001b[1;36m-2.9201e-02\u001b[0m, \u001b[1;36m-6.7714e-02\u001b[0m, \u001b[1;36m-2.3414e-08\u001b[0m,\n",
       "         \u001b[1;36m9.5609e-03\u001b[0m,  \u001b[1;36m3.6905e-02\u001b[0m,  \u001b[1;36m5.0259e-02\u001b[0m, \u001b[1;36m-4.0006e-03\u001b[0m,  \u001b[1;36m2.9434e-02\u001b[0m,\n",
       "        \u001b[1;36m-3.6063e-02\u001b[0m, \u001b[1;36m-4.3240e-02\u001b[0m,  \u001b[1;36m1.4415e-02\u001b[0m,  \u001b[1;36m3.7832e-02\u001b[0m,  \u001b[1;36m1.9344e-03\u001b[0m,\n",
       "        \u001b[1;36m-3.4044e-02\u001b[0m, \u001b[1;36m-2.6402e-03\u001b[0m,  \u001b[1;36m6.3723e-03\u001b[0m, \u001b[1;36m-7.5963e-02\u001b[0m,  \u001b[1;36m3.5744e-02\u001b[0m,\n",
       "         \u001b[1;36m4.8109e-02\u001b[0m, \u001b[1;36m-2.8731e-02\u001b[0m,  \u001b[1;36m5.7399e-04\u001b[0m, \u001b[1;36m-1.6240e-02\u001b[0m, \u001b[1;36m-1.9413e-02\u001b[0m,\n",
       "        \u001b[1;36m-1.0707e-01\u001b[0m, \u001b[1;36m-6.4964e-02\u001b[0m, \u001b[1;36m-1.8988e-03\u001b[0m, \u001b[1;36m-4.3588e-02\u001b[0m, \u001b[1;36m-1.3333e-01\u001b[0m,\n",
       "         \u001b[1;36m3.5273e-02\u001b[0m,  \u001b[1;36m5.5209e-02\u001b[0m, \u001b[1;36m-1.5422e-02\u001b[0m, \u001b[1;36m-2.1405e-02\u001b[0m, \u001b[1;36m-3.5562e-04\u001b[0m,\n",
       "        \u001b[1;36m-4.0583e-02\u001b[0m,  \u001b[1;36m4.0723e-02\u001b[0m, \u001b[1;36m-1.9816e-02\u001b[0m,  \u001b[1;36m4.4682e-02\u001b[0m,  \u001b[1;36m2.7648e-02\u001b[0m,\n",
       "         \u001b[1;36m8.8865e-02\u001b[0m, \u001b[1;36m-5.7460e-02\u001b[0m,  \u001b[1;36m3.9150e-02\u001b[0m,  \u001b[1;36m8.3433e-03\u001b[0m,  \u001b[1;36m5.3881e-02\u001b[0m,\n",
       "         \u001b[1;36m2.0442e-02\u001b[0m, \u001b[1;36m-1.1603e-01\u001b[0m, \u001b[1;36m-5.8360e-02\u001b[0m,  \u001b[1;36m4.1808e-03\u001b[0m, \u001b[1;36m-1.9214e-02\u001b[0m,\n",
       "         \u001b[1;36m1.3940e-02\u001b[0m, \u001b[1;36m-2.2831e-02\u001b[0m, \u001b[1;36m-1.1595e-02\u001b[0m, \u001b[1;36m-1.8103e-02\u001b[0m,  \u001b[1;36m5.2128e-02\u001b[0m,\n",
       "        \u001b[1;36m-6.6055e-02\u001b[0m,  \u001b[1;36m4.8010e-02\u001b[0m, \u001b[1;36m-5.2628e-02\u001b[0m, \u001b[1;36m-2.2247e-03\u001b[0m,  \u001b[1;36m2.1005e-02\u001b[0m,\n",
       "         \u001b[1;36m5.3376e-02\u001b[0m, \u001b[1;36m-6.9090e-02\u001b[0m, \u001b[1;36m-4.1878e-02\u001b[0m, \u001b[1;36m-6.2827e-02\u001b[0m,  \u001b[1;36m2.4870e-02\u001b[0m,\n",
       "         \u001b[1;36m3.1205e-02\u001b[0m,  \u001b[1;36m7.6650e-02\u001b[0m,  \u001b[1;36m7.1036e-02\u001b[0m,  \u001b[1;36m1.1342e-02\u001b[0m\u001b[1m]\u001b[0m\u001b[1m)\u001b[0m\n",
       "\u001b[1m}\u001b[0m\n"
      ]
     },
     "metadata": {},
     "output_type": "display_data"
    }
   ],
   "source": [
    "text = \"What does 'super' do in Python? - difference between super().__init__() and explicit superclass __init__()\"\n",
    "#text = \"meN shoes running ran\"\n",
    "\n",
    "resp = model.encode(text, output_value=None)\n",
    "\n",
    "rich.print(resp)"
   ]
  },
  {
   "cell_type": "code",
   "execution_count": 6,
   "id": "66101a29-cf6b-460a-befb-8f1093555303",
   "metadata": {},
   "outputs": [
    {
     "data": {
      "text/plain": [
       "torch.Size([38, 384])"
      ]
     },
     "execution_count": 6,
     "metadata": {},
     "output_type": "execute_result"
    }
   ],
   "source": [
    "resp['token_embeddings'].shape # for each token, we have embedding\n"
   ]
  },
  {
   "cell_type": "code",
   "execution_count": null,
   "id": "472d06b1-c74f-40e3-a1fa-54c534575f6e",
   "metadata": {},
   "outputs": [],
   "source": []
  },
  {
   "cell_type": "code",
   "execution_count": null,
   "id": "9d721dba-5639-476e-a1f9-4ddb9212e74b",
   "metadata": {},
   "outputs": [],
   "source": []
  },
  {
   "cell_type": "code",
   "execution_count": 7,
   "id": "9cdfef33-ccbd-4a44-87bd-8d337ba7cb10",
   "metadata": {},
   "outputs": [],
   "source": [
    "tokenizer = AutoTokenizer.from_pretrained(model_name)\n"
   ]
  },
  {
   "cell_type": "code",
   "execution_count": 8,
   "id": "e93b4f92-dd9d-4b60-a526-bc1370c80fa7",
   "metadata": {},
   "outputs": [
    {
     "data": {
      "text/plain": [
       "{'input_ids': [101, 2054, 2515, 1005, 3565, 1005, 2079, 1999, 18750, 1029, 1011, 4489, 2090, 3565, 1006, 1007, 1012, 1035, 1035, 1999, 4183, 1035, 1035, 1006, 1007, 1998, 13216, 3565, 26266, 1035, 1035, 1999, 4183, 1035, 1035, 1006, 1007, 102], 'token_type_ids': [0, 0, 0, 0, 0, 0, 0, 0, 0, 0, 0, 0, 0, 0, 0, 0, 0, 0, 0, 0, 0, 0, 0, 0, 0, 0, 0, 0, 0, 0, 0, 0, 0, 0, 0, 0, 0, 0], 'attention_mask': [1, 1, 1, 1, 1, 1, 1, 1, 1, 1, 1, 1, 1, 1, 1, 1, 1, 1, 1, 1, 1, 1, 1, 1, 1, 1, 1, 1, 1, 1, 1, 1, 1, 1, 1, 1, 1, 1]}"
      ]
     },
     "execution_count": 8,
     "metadata": {},
     "output_type": "execute_result"
    }
   ],
   "source": [
    "tokenizer(text)\n"
   ]
  },
  {
   "cell_type": "code",
   "execution_count": 9,
   "id": "1d976f1f-d467-4a6e-a8fb-5fa4ab3d29c0",
   "metadata": {},
   "outputs": [
    {
     "data": {
      "text/html": [
       "<pre style=\"white-space:pre;overflow-x:auto;line-height:normal;font-family:Menlo,'DejaVu Sans Mono',consolas,'Courier New',monospace\"><span style=\"font-weight: bold\">[</span>\n",
       "    <span style=\"color: #008000; text-decoration-color: #008000\">'what'</span>,\n",
       "    <span style=\"color: #008000; text-decoration-color: #008000\">'does'</span>,\n",
       "    <span style=\"color: #008000; text-decoration-color: #008000\">\"'\"</span>,\n",
       "    <span style=\"color: #008000; text-decoration-color: #008000\">'super'</span>,\n",
       "    <span style=\"color: #008000; text-decoration-color: #008000\">\"'\"</span>,\n",
       "    <span style=\"color: #008000; text-decoration-color: #008000\">'do'</span>,\n",
       "    <span style=\"color: #008000; text-decoration-color: #008000\">'in'</span>,\n",
       "    <span style=\"color: #008000; text-decoration-color: #008000\">'python'</span>,\n",
       "    <span style=\"color: #008000; text-decoration-color: #008000\">'?'</span>,\n",
       "    <span style=\"color: #008000; text-decoration-color: #008000\">'-'</span>,\n",
       "    <span style=\"color: #008000; text-decoration-color: #008000\">'difference'</span>,\n",
       "    <span style=\"color: #008000; text-decoration-color: #008000\">'between'</span>,\n",
       "    <span style=\"color: #008000; text-decoration-color: #008000\">'super'</span>,\n",
       "    <span style=\"color: #008000; text-decoration-color: #008000\">'('</span>,\n",
       "    <span style=\"color: #008000; text-decoration-color: #008000\">')'</span>,\n",
       "    <span style=\"color: #008000; text-decoration-color: #008000\">'.'</span>,\n",
       "    <span style=\"color: #008000; text-decoration-color: #008000\">'_'</span>,\n",
       "    <span style=\"color: #008000; text-decoration-color: #008000\">'_'</span>,\n",
       "    <span style=\"color: #008000; text-decoration-color: #008000\">'in'</span>,\n",
       "    <span style=\"color: #008000; text-decoration-color: #008000\">'##it'</span>,\n",
       "    <span style=\"color: #008000; text-decoration-color: #008000\">'_'</span>,\n",
       "    <span style=\"color: #008000; text-decoration-color: #008000\">'_'</span>,\n",
       "    <span style=\"color: #008000; text-decoration-color: #008000\">'('</span>,\n",
       "    <span style=\"color: #008000; text-decoration-color: #008000\">')'</span>,\n",
       "    <span style=\"color: #008000; text-decoration-color: #008000\">'and'</span>,\n",
       "    <span style=\"color: #008000; text-decoration-color: #008000\">'explicit'</span>,\n",
       "    <span style=\"color: #008000; text-decoration-color: #008000\">'super'</span>,\n",
       "    <span style=\"color: #008000; text-decoration-color: #008000\">'##class'</span>,\n",
       "    <span style=\"color: #008000; text-decoration-color: #008000\">'_'</span>,\n",
       "    <span style=\"color: #008000; text-decoration-color: #008000\">'_'</span>,\n",
       "    <span style=\"color: #008000; text-decoration-color: #008000\">'in'</span>,\n",
       "    <span style=\"color: #008000; text-decoration-color: #008000\">'##it'</span>,\n",
       "    <span style=\"color: #008000; text-decoration-color: #008000\">'_'</span>,\n",
       "    <span style=\"color: #008000; text-decoration-color: #008000\">'_'</span>,\n",
       "    <span style=\"color: #008000; text-decoration-color: #008000\">'('</span>,\n",
       "    <span style=\"color: #008000; text-decoration-color: #008000\">')'</span>\n",
       "<span style=\"font-weight: bold\">]</span>\n",
       "</pre>\n"
      ],
      "text/plain": [
       "\u001b[1m[\u001b[0m\n",
       "    \u001b[32m'what'\u001b[0m,\n",
       "    \u001b[32m'does'\u001b[0m,\n",
       "    \u001b[32m\"'\"\u001b[0m,\n",
       "    \u001b[32m'super'\u001b[0m,\n",
       "    \u001b[32m\"'\"\u001b[0m,\n",
       "    \u001b[32m'do'\u001b[0m,\n",
       "    \u001b[32m'in'\u001b[0m,\n",
       "    \u001b[32m'python'\u001b[0m,\n",
       "    \u001b[32m'?'\u001b[0m,\n",
       "    \u001b[32m'-'\u001b[0m,\n",
       "    \u001b[32m'difference'\u001b[0m,\n",
       "    \u001b[32m'between'\u001b[0m,\n",
       "    \u001b[32m'super'\u001b[0m,\n",
       "    \u001b[32m'\u001b[0m\u001b[32m(\u001b[0m\u001b[32m'\u001b[0m,\n",
       "    \u001b[32m'\u001b[0m\u001b[32m)\u001b[0m\u001b[32m'\u001b[0m,\n",
       "    \u001b[32m'.'\u001b[0m,\n",
       "    \u001b[32m'_'\u001b[0m,\n",
       "    \u001b[32m'_'\u001b[0m,\n",
       "    \u001b[32m'in'\u001b[0m,\n",
       "    \u001b[32m'##it'\u001b[0m,\n",
       "    \u001b[32m'_'\u001b[0m,\n",
       "    \u001b[32m'_'\u001b[0m,\n",
       "    \u001b[32m'\u001b[0m\u001b[32m(\u001b[0m\u001b[32m'\u001b[0m,\n",
       "    \u001b[32m'\u001b[0m\u001b[32m)\u001b[0m\u001b[32m'\u001b[0m,\n",
       "    \u001b[32m'and'\u001b[0m,\n",
       "    \u001b[32m'explicit'\u001b[0m,\n",
       "    \u001b[32m'super'\u001b[0m,\n",
       "    \u001b[32m'##class'\u001b[0m,\n",
       "    \u001b[32m'_'\u001b[0m,\n",
       "    \u001b[32m'_'\u001b[0m,\n",
       "    \u001b[32m'in'\u001b[0m,\n",
       "    \u001b[32m'##it'\u001b[0m,\n",
       "    \u001b[32m'_'\u001b[0m,\n",
       "    \u001b[32m'_'\u001b[0m,\n",
       "    \u001b[32m'\u001b[0m\u001b[32m(\u001b[0m\u001b[32m'\u001b[0m,\n",
       "    \u001b[32m'\u001b[0m\u001b[32m)\u001b[0m\u001b[32m'\u001b[0m\n",
       "\u001b[1m]\u001b[0m\n"
      ]
     },
     "metadata": {},
     "output_type": "display_data"
    }
   ],
   "source": [
    "tokens = tokenizer.tokenize(text) \n",
    "rich.print ( tokens)"
   ]
  },
  {
   "cell_type": "code",
   "execution_count": 10,
   "id": "39bf1ea7-d792-4bbd-bd78-126c86e06037",
   "metadata": {},
   "outputs": [
    {
     "data": {
      "text/plain": [
       "[2054,\n",
       " 2515,\n",
       " 1005,\n",
       " 3565,\n",
       " 1005,\n",
       " 2079,\n",
       " 1999,\n",
       " 18750,\n",
       " 1029,\n",
       " 1011,\n",
       " 4489,\n",
       " 2090,\n",
       " 3565,\n",
       " 1006,\n",
       " 1007,\n",
       " 1012,\n",
       " 1035,\n",
       " 1035,\n",
       " 1999,\n",
       " 4183,\n",
       " 1035,\n",
       " 1035,\n",
       " 1006,\n",
       " 1007,\n",
       " 1998,\n",
       " 13216,\n",
       " 3565,\n",
       " 26266,\n",
       " 1035,\n",
       " 1035,\n",
       " 1999,\n",
       " 4183,\n",
       " 1035,\n",
       " 1035,\n",
       " 1006,\n",
       " 1007]"
      ]
     },
     "execution_count": 10,
     "metadata": {},
     "output_type": "execute_result"
    }
   ],
   "source": [
    "input_ids= tokenizer.convert_tokens_to_ids(tokens)\n",
    "input_ids"
   ]
  },
  {
   "cell_type": "code",
   "execution_count": null,
   "id": "8a5a6651-7977-48ee-8c5c-3edddddcc673",
   "metadata": {},
   "outputs": [],
   "source": []
  },
  {
   "cell_type": "code",
   "execution_count": 11,
   "id": "cdc8a452-cc22-4624-84fc-472cd880cb30",
   "metadata": {},
   "outputs": [
    {
     "data": {
      "text/plain": [
       "\"what does'super'do in python? - difference between super ( ). _ _ init _ _ ( ) and explicit superclass _ _ init _ _ ( )\""
      ]
     },
     "execution_count": 11,
     "metadata": {},
     "output_type": "execute_result"
    }
   ],
   "source": [
    "decoded_string = tokenizer.decode(input_ids)\n",
    "decoded_string"
   ]
  },
  {
   "cell_type": "code",
   "execution_count": null,
   "id": "0dd2c4fb-08dc-4e71-9773-afedf84182cb",
   "metadata": {},
   "outputs": [],
   "source": []
  },
  {
   "cell_type": "code",
   "execution_count": null,
   "id": "8baa5a71-6f11-45eb-b60c-ec34bb8ec1ec",
   "metadata": {},
   "outputs": [],
   "source": []
  },
  {
   "cell_type": "code",
   "execution_count": null,
   "id": "f76d0532-719f-43e7-b06c-0aeccb45414a",
   "metadata": {},
   "outputs": [],
   "source": []
  },
  {
   "cell_type": "markdown",
   "id": "a45f27fd-b4c5-4b37-a969-ee270981770c",
   "metadata": {},
   "source": [
    "## Dset"
   ]
  },
  {
   "cell_type": "code",
   "execution_count": 12,
   "id": "e47911b6-c59d-4719-b32b-37a96a09c198",
   "metadata": {},
   "outputs": [],
   "source": [
    "dset = datasets.load_from_disk(\"../data/processed\")"
   ]
  },
  {
   "cell_type": "code",
   "execution_count": null,
   "id": "0417f97f-394d-47b1-85bb-f54627ec604e",
   "metadata": {},
   "outputs": [],
   "source": []
  },
  {
   "cell_type": "code",
   "execution_count": 13,
   "id": "83fa7b33-888c-4a13-866c-70c261540959",
   "metadata": {},
   "outputs": [
    {
     "data": {
      "text/plain": [
       "Dataset({\n",
       "    features: ['photo_id', 'photo_url', 'photo_image_url', 'photo_submitted_at', 'photo_featured', 'photo_width', 'photo_height', 'photo_aspect_ratio', 'photo_description', 'photographer_username', 'photographer_first_name', 'photographer_last_name', 'exif_camera_make', 'exif_camera_model', 'exif_iso', 'exif_aperture_value', 'exif_focal_length', 'exif_exposure_time', 'photo_location_name', 'photo_location_latitude', 'photo_location_longitude', 'photo_location_country', 'photo_location_city', 'stats_views', 'stats_downloads', 'ai_description', 'ai_primary_landmark_name', 'ai_primary_landmark_latitude', 'ai_primary_landmark_longitude', 'ai_primary_landmark_confidence', 'blur_hash', 'description_final', 'image'],\n",
       "    num_rows: 24995\n",
       "})"
      ]
     },
     "execution_count": 13,
     "metadata": {},
     "output_type": "execute_result"
    }
   ],
   "source": [
    "dset"
   ]
  },
  {
   "cell_type": "code",
   "execution_count": 14,
   "id": "a7e32a06-6c59-40f8-b572-8ec581e5dafb",
   "metadata": {},
   "outputs": [
    {
     "data": {
      "text/html": [
       "<pre style=\"white-space:pre;overflow-x:auto;line-height:normal;font-family:Menlo,'DejaVu Sans Mono',consolas,'Courier New',monospace\"><span style=\"font-weight: bold\">{</span>\n",
       "    <span style=\"color: #008000; text-decoration-color: #008000\">'photo_id'</span>: <span style=\"color: #008000; text-decoration-color: #008000\">'XMyPniM9LF0'</span>,\n",
       "    <span style=\"color: #008000; text-decoration-color: #008000\">'photo_url'</span>: <span style=\"color: #008000; text-decoration-color: #008000\">'https://unsplash.com/photos/XMyPniM9LF0'</span>,\n",
       "    <span style=\"color: #008000; text-decoration-color: #008000\">'photo_image_url'</span>: <span style=\"color: #008000; text-decoration-color: #008000\">'https://images.unsplash.com/uploads/14119492946973137ce46/f1f2ebf3'</span>,\n",
       "    <span style=\"color: #008000; text-decoration-color: #008000\">'photo_submitted_at'</span>: <span style=\"color: #008000; text-decoration-color: #008000\">'2014-09-29 00:08:38.594364'</span>,\n",
       "    <span style=\"color: #008000; text-decoration-color: #008000\">'photo_featured'</span>: <span style=\"color: #008000; text-decoration-color: #008000\">'t'</span>,\n",
       "    <span style=\"color: #008000; text-decoration-color: #008000\">'photo_width'</span>: <span style=\"color: #008080; text-decoration-color: #008080; font-weight: bold\">4272</span>,\n",
       "    <span style=\"color: #008000; text-decoration-color: #008000\">'photo_height'</span>: <span style=\"color: #008080; text-decoration-color: #008080; font-weight: bold\">2848</span>,\n",
       "    <span style=\"color: #008000; text-decoration-color: #008000\">'photo_aspect_ratio'</span>: <span style=\"color: #008080; text-decoration-color: #008080; font-weight: bold\">1.5</span>,\n",
       "    <span style=\"color: #008000; text-decoration-color: #008000\">'photo_description'</span>: <span style=\"color: #008000; text-decoration-color: #008000\">'Woman exploring a forest'</span>,\n",
       "    <span style=\"color: #008000; text-decoration-color: #008000\">'photographer_username'</span>: <span style=\"color: #008000; text-decoration-color: #008000\">'michellespencer77'</span>,\n",
       "    <span style=\"color: #008000; text-decoration-color: #008000\">'photographer_first_name'</span>: <span style=\"color: #008000; text-decoration-color: #008000\">'Michelle'</span>,\n",
       "    <span style=\"color: #008000; text-decoration-color: #008000\">'photographer_last_name'</span>: <span style=\"color: #008000; text-decoration-color: #008000\">'Spencer'</span>,\n",
       "    <span style=\"color: #008000; text-decoration-color: #008000\">'exif_camera_make'</span>: <span style=\"color: #008000; text-decoration-color: #008000\">'Canon'</span>,\n",
       "    <span style=\"color: #008000; text-decoration-color: #008000\">'exif_camera_model'</span>: <span style=\"color: #008000; text-decoration-color: #008000\">'Canon EOS REBEL T3'</span>,\n",
       "    <span style=\"color: #008000; text-decoration-color: #008000\">'exif_iso'</span>: <span style=\"color: #008080; text-decoration-color: #008080; font-weight: bold\">400.0</span>,\n",
       "    <span style=\"color: #008000; text-decoration-color: #008000\">'exif_aperture_value'</span>: <span style=\"color: #008000; text-decoration-color: #008000\">'1.8'</span>,\n",
       "    <span style=\"color: #008000; text-decoration-color: #008000\">'exif_focal_length'</span>: <span style=\"color: #008000; text-decoration-color: #008000\">'50.0'</span>,\n",
       "    <span style=\"color: #008000; text-decoration-color: #008000\">'exif_exposure_time'</span>: <span style=\"color: #008000; text-decoration-color: #008000\">'1/100'</span>,\n",
       "    <span style=\"color: #008000; text-decoration-color: #008000\">'photo_location_name'</span>: <span style=\"color: #800080; text-decoration-color: #800080; font-style: italic\">None</span>,\n",
       "    <span style=\"color: #008000; text-decoration-color: #008000\">'photo_location_latitude'</span>: <span style=\"color: #800080; text-decoration-color: #800080; font-style: italic\">None</span>,\n",
       "    <span style=\"color: #008000; text-decoration-color: #008000\">'photo_location_longitude'</span>: <span style=\"color: #800080; text-decoration-color: #800080; font-style: italic\">None</span>,\n",
       "    <span style=\"color: #008000; text-decoration-color: #008000\">'photo_location_country'</span>: <span style=\"color: #800080; text-decoration-color: #800080; font-style: italic\">None</span>,\n",
       "    <span style=\"color: #008000; text-decoration-color: #008000\">'photo_location_city'</span>: <span style=\"color: #800080; text-decoration-color: #800080; font-style: italic\">None</span>,\n",
       "    <span style=\"color: #008000; text-decoration-color: #008000\">'stats_views'</span>: <span style=\"color: #008080; text-decoration-color: #008080; font-weight: bold\">2375421</span>,\n",
       "    <span style=\"color: #008000; text-decoration-color: #008000\">'stats_downloads'</span>: <span style=\"color: #008080; text-decoration-color: #008080; font-weight: bold\">6967</span>,\n",
       "    <span style=\"color: #008000; text-decoration-color: #008000\">'ai_description'</span>: <span style=\"color: #008000; text-decoration-color: #008000\">'woman walking in the middle of forest'</span>,\n",
       "    <span style=\"color: #008000; text-decoration-color: #008000\">'ai_primary_landmark_name'</span>: <span style=\"color: #800080; text-decoration-color: #800080; font-style: italic\">None</span>,\n",
       "    <span style=\"color: #008000; text-decoration-color: #008000\">'ai_primary_landmark_latitude'</span>: <span style=\"color: #800080; text-decoration-color: #800080; font-style: italic\">None</span>,\n",
       "    <span style=\"color: #008000; text-decoration-color: #008000\">'ai_primary_landmark_longitude'</span>: <span style=\"color: #800080; text-decoration-color: #800080; font-style: italic\">None</span>,\n",
       "    <span style=\"color: #008000; text-decoration-color: #008000\">'ai_primary_landmark_confidence'</span>: <span style=\"color: #800080; text-decoration-color: #800080; font-style: italic\">None</span>,\n",
       "    <span style=\"color: #008000; text-decoration-color: #008000\">'blur_hash'</span>: <span style=\"color: #008000; text-decoration-color: #008000\">'L56bVcRRIWMh.gVunlS4SMbsRRxr'</span>,\n",
       "    <span style=\"color: #008000; text-decoration-color: #008000\">'description_final'</span>: <span style=\"color: #008000; text-decoration-color: #008000\">'Woman exploring a forest'</span>,\n",
       "    <span style=\"color: #008000; text-decoration-color: #008000\">'image'</span>: <span style=\"font-weight: bold\">&lt;</span><span style=\"color: #ff00ff; text-decoration-color: #ff00ff; font-weight: bold\">PIL.JpegImagePlugin.JpegImageFile</span><span style=\"color: #000000; text-decoration-color: #000000\"> image </span><span style=\"color: #808000; text-decoration-color: #808000\">mode</span><span style=\"color: #000000; text-decoration-color: #000000\">=</span><span style=\"color: #800080; text-decoration-color: #800080\">RGB</span><span style=\"color: #000000; text-decoration-color: #000000\"> </span><span style=\"color: #808000; text-decoration-color: #808000\">size</span><span style=\"color: #000000; text-decoration-color: #000000\">=</span><span style=\"color: #800080; text-decoration-color: #800080\">64</span><span style=\"color: #008080; text-decoration-color: #008080; font-weight: bold\">0x427</span><span style=\"color: #000000; text-decoration-color: #000000\"> at </span><span style=\"color: #008080; text-decoration-color: #008080; font-weight: bold\">0x7FA46B477370</span><span style=\"font-weight: bold\">&gt;</span>\n",
       "<span style=\"font-weight: bold\">}</span>\n",
       "</pre>\n"
      ],
      "text/plain": [
       "\u001b[1m{\u001b[0m\n",
       "    \u001b[32m'photo_id'\u001b[0m: \u001b[32m'XMyPniM9LF0'\u001b[0m,\n",
       "    \u001b[32m'photo_url'\u001b[0m: \u001b[32m'https://unsplash.com/photos/XMyPniM9LF0'\u001b[0m,\n",
       "    \u001b[32m'photo_image_url'\u001b[0m: \u001b[32m'https://images.unsplash.com/uploads/14119492946973137ce46/f1f2ebf3'\u001b[0m,\n",
       "    \u001b[32m'photo_submitted_at'\u001b[0m: \u001b[32m'2014-09-29 00:08:38.594364'\u001b[0m,\n",
       "    \u001b[32m'photo_featured'\u001b[0m: \u001b[32m't'\u001b[0m,\n",
       "    \u001b[32m'photo_width'\u001b[0m: \u001b[1;36m4272\u001b[0m,\n",
       "    \u001b[32m'photo_height'\u001b[0m: \u001b[1;36m2848\u001b[0m,\n",
       "    \u001b[32m'photo_aspect_ratio'\u001b[0m: \u001b[1;36m1.5\u001b[0m,\n",
       "    \u001b[32m'photo_description'\u001b[0m: \u001b[32m'Woman exploring a forest'\u001b[0m,\n",
       "    \u001b[32m'photographer_username'\u001b[0m: \u001b[32m'michellespencer77'\u001b[0m,\n",
       "    \u001b[32m'photographer_first_name'\u001b[0m: \u001b[32m'Michelle'\u001b[0m,\n",
       "    \u001b[32m'photographer_last_name'\u001b[0m: \u001b[32m'Spencer'\u001b[0m,\n",
       "    \u001b[32m'exif_camera_make'\u001b[0m: \u001b[32m'Canon'\u001b[0m,\n",
       "    \u001b[32m'exif_camera_model'\u001b[0m: \u001b[32m'Canon EOS REBEL T3'\u001b[0m,\n",
       "    \u001b[32m'exif_iso'\u001b[0m: \u001b[1;36m400.0\u001b[0m,\n",
       "    \u001b[32m'exif_aperture_value'\u001b[0m: \u001b[32m'1.8'\u001b[0m,\n",
       "    \u001b[32m'exif_focal_length'\u001b[0m: \u001b[32m'50.0'\u001b[0m,\n",
       "    \u001b[32m'exif_exposure_time'\u001b[0m: \u001b[32m'1/100'\u001b[0m,\n",
       "    \u001b[32m'photo_location_name'\u001b[0m: \u001b[3;35mNone\u001b[0m,\n",
       "    \u001b[32m'photo_location_latitude'\u001b[0m: \u001b[3;35mNone\u001b[0m,\n",
       "    \u001b[32m'photo_location_longitude'\u001b[0m: \u001b[3;35mNone\u001b[0m,\n",
       "    \u001b[32m'photo_location_country'\u001b[0m: \u001b[3;35mNone\u001b[0m,\n",
       "    \u001b[32m'photo_location_city'\u001b[0m: \u001b[3;35mNone\u001b[0m,\n",
       "    \u001b[32m'stats_views'\u001b[0m: \u001b[1;36m2375421\u001b[0m,\n",
       "    \u001b[32m'stats_downloads'\u001b[0m: \u001b[1;36m6967\u001b[0m,\n",
       "    \u001b[32m'ai_description'\u001b[0m: \u001b[32m'woman walking in the middle of forest'\u001b[0m,\n",
       "    \u001b[32m'ai_primary_landmark_name'\u001b[0m: \u001b[3;35mNone\u001b[0m,\n",
       "    \u001b[32m'ai_primary_landmark_latitude'\u001b[0m: \u001b[3;35mNone\u001b[0m,\n",
       "    \u001b[32m'ai_primary_landmark_longitude'\u001b[0m: \u001b[3;35mNone\u001b[0m,\n",
       "    \u001b[32m'ai_primary_landmark_confidence'\u001b[0m: \u001b[3;35mNone\u001b[0m,\n",
       "    \u001b[32m'blur_hash'\u001b[0m: \u001b[32m'L56bVcRRIWMh.gVunlS4SMbsRRxr'\u001b[0m,\n",
       "    \u001b[32m'description_final'\u001b[0m: \u001b[32m'Woman exploring a forest'\u001b[0m,\n",
       "    \u001b[32m'image'\u001b[0m: \u001b[1m<\u001b[0m\u001b[1;95mPIL.JpegImagePlugin.JpegImageFile\u001b[0m\u001b[39m image \u001b[0m\u001b[33mmode\u001b[0m\u001b[39m=\u001b[0m\u001b[35mRGB\u001b[0m\u001b[39m \u001b[0m\u001b[33msize\u001b[0m\u001b[39m=\u001b[0m\u001b[35m64\u001b[0m\u001b[1;36m0x427\u001b[0m\u001b[39m at \u001b[0m\u001b[1;36m0x7FA46B477370\u001b[0m\u001b[1m>\u001b[0m\n",
       "\u001b[1m}\u001b[0m\n"
      ]
     },
     "metadata": {},
     "output_type": "display_data"
    }
   ],
   "source": [
    "rich.print ( dset[0] )"
   ]
  },
  {
   "cell_type": "code",
   "execution_count": null,
   "id": "a01086bd-d78c-4467-bb62-891d0e5cfe70",
   "metadata": {},
   "outputs": [],
   "source": []
  },
  {
   "cell_type": "code",
   "execution_count": 15,
   "id": "e72bde4e-9a32-4800-b434-1afac6306bb3",
   "metadata": {},
   "outputs": [],
   "source": [
    "corpus = model.encode(dset['description_final'])"
   ]
  },
  {
   "cell_type": "code",
   "execution_count": 19,
   "id": "0d3857de-e224-4233-b805-e23dc5bda7a8",
   "metadata": {},
   "outputs": [],
   "source": [
    "def find_results(query:str , k =5):\n",
    "    \n",
    "    \n",
    "    query_features = model.encode(query)\n",
    "    doc_scores = query_features @ corpus.T\n",
    "\n",
    "    top_items = doc_scores.argsort()[-k:][::-1]\n",
    "\n",
    "\n",
    "\n",
    "    degug_info = {\n",
    "         \"query_original\":  query \n",
    "         , \"query_processed\" : query_features\n",
    "        , \"doc_scores\":  doc_scores \n",
    "        , \"top_items\":  top_items \n",
    "    }\n",
    "    rich.print (degug_info )\n",
    "    \n",
    "\n",
    "    display(HTML(f\"<h1>Query: {query} </h1>\"))\n",
    "    \n",
    "    # Iterate over the top k results\n",
    "    for idx, photo_data in enumerate( dset.select(top_items)):\n",
    "\n",
    "        doc_idx = top_items[idx]\n",
    "        # Display the photo\n",
    "        display(Image(url=photo_data[\"photo_image_url\"] + \"?w=200\"))\n",
    "\n",
    "        # Display the attribution text\n",
    "        display(HTML(f\"\"\"\n",
    "                     Photo title: {photo_data[\"description_final\"]}   <br/>\n",
    "                     Photo by <a href=\"https://unsplash.com/@{photo_data[\"photographer_username\"]}?utm_source=NaturalLanguageImageSearch&utm_medium=referral\">{photo_data[\"photographer_first_name\"]} {photo_data[\"photographer_last_name\"]}</a> on <a href=\"https://unsplash.com/?utm_source=SearchWorkshop&utm_medium=referral\">Unsplash</a> <br/>\n",
    "                     Distance: {doc_scores[doc_idx]}\n",
    "                     \"\"\"\n",
    "                                        ))\n",
    "        print()"
   ]
  },
  {
   "cell_type": "code",
   "execution_count": null,
   "id": "b9415205-bccd-4700-bb40-48c0549dc28e",
   "metadata": {},
   "outputs": [],
   "source": []
  },
  {
   "cell_type": "code",
   "execution_count": 20,
   "id": "9c4a6fd0-9f4f-455d-86eb-02a8140387a1",
   "metadata": {},
   "outputs": [
    {
     "data": {
      "text/html": [
       "<pre style=\"white-space:pre;overflow-x:auto;line-height:normal;font-family:Menlo,'DejaVu Sans Mono',consolas,'Courier New',monospace\"><span style=\"font-weight: bold\">{</span>\n",
       "    <span style=\"color: #008000; text-decoration-color: #008000\">'query_original'</span>: <span style=\"color: #008000; text-decoration-color: #008000\">'Two dogs playing in the snow'</span>,\n",
       "    <span style=\"color: #008000; text-decoration-color: #008000\">'query_processed'</span>: <span style=\"color: #800080; text-decoration-color: #800080; font-weight: bold\">array</span><span style=\"font-weight: bold\">([</span><span style=\"color: #008080; text-decoration-color: #008080; font-weight: bold\">-3.45207192e-02</span>, <span style=\"color: #008080; text-decoration-color: #008080; font-weight: bold\">-5.31195141e-02</span>,  <span style=\"color: #008080; text-decoration-color: #008080; font-weight: bold\">7.89919794e-02</span>,  <span style=\"color: #008080; text-decoration-color: #008080; font-weight: bold\">3.99201699e-02</span>,\n",
       "       <span style=\"color: #008080; text-decoration-color: #008080; font-weight: bold\">-6.76747635e-02</span>,  <span style=\"color: #008080; text-decoration-color: #008080; font-weight: bold\">2.95135509e-02</span>, <span style=\"color: #008080; text-decoration-color: #008080; font-weight: bold\">-4.12319116e-02</span>,  <span style=\"color: #008080; text-decoration-color: #008080; font-weight: bold\">3.39880660e-02</span>,\n",
       "        <span style=\"color: #008080; text-decoration-color: #008080; font-weight: bold\">4.66178693e-02</span>,  <span style=\"color: #008080; text-decoration-color: #008080; font-weight: bold\">7.46874288e-02</span>, <span style=\"color: #008080; text-decoration-color: #008080; font-weight: bold\">-2.96282247e-02</span>,  <span style=\"color: #008080; text-decoration-color: #008080; font-weight: bold\">1.31358057e-02</span>,\n",
       "        <span style=\"color: #008080; text-decoration-color: #008080; font-weight: bold\">2.92284675e-02</span>,  <span style=\"color: #008080; text-decoration-color: #008080; font-weight: bold\">5.03163859e-02</span>,  <span style=\"color: #008080; text-decoration-color: #008080; font-weight: bold\">4.19280455e-02</span>,  <span style=\"color: #008080; text-decoration-color: #008080; font-weight: bold\">1.21763516e-02</span>,\n",
       "       <span style=\"color: #008080; text-decoration-color: #008080; font-weight: bold\">-7.26377368e-02</span>, <span style=\"color: #008080; text-decoration-color: #008080; font-weight: bold\">-5.97697273e-02</span>,  <span style=\"color: #008080; text-decoration-color: #008080; font-weight: bold\">1.40849371e-02</span>, <span style=\"color: #008080; text-decoration-color: #008080; font-weight: bold\">-3.02251168e-02</span>,\n",
       "       <span style=\"color: #008080; text-decoration-color: #008080; font-weight: bold\">-2.28216611e-02</span>, <span style=\"color: #008080; text-decoration-color: #008080; font-weight: bold\">-7.01758042e-02</span>, <span style=\"color: #008080; text-decoration-color: #008080; font-weight: bold\">-3.69652919e-02</span>, <span style=\"color: #008080; text-decoration-color: #008080; font-weight: bold\">-2.73013068e-03</span>,\n",
       "       <span style=\"color: #008080; text-decoration-color: #008080; font-weight: bold\">-1.33206332e-02</span>,  <span style=\"color: #008080; text-decoration-color: #008080; font-weight: bold\">8.86703376e-03</span>, <span style=\"color: #008080; text-decoration-color: #008080; font-weight: bold\">-5.50668538e-02</span>,  <span style=\"color: #008080; text-decoration-color: #008080; font-weight: bold\">3.70550007e-02</span>,\n",
       "       <span style=\"color: #008080; text-decoration-color: #008080; font-weight: bold\">-2.70354338e-02</span>,  <span style=\"color: #008080; text-decoration-color: #008080; font-weight: bold\">2.35992819e-02</span>, <span style=\"color: #008080; text-decoration-color: #008080; font-weight: bold\">-3.81438583e-02</span>, <span style=\"color: #008080; text-decoration-color: #008080; font-weight: bold\">-2.63989381e-02</span>,\n",
       "       <span style=\"color: #008080; text-decoration-color: #008080; font-weight: bold\">-8.23715888e-03</span>,  <span style=\"color: #008080; text-decoration-color: #008080; font-weight: bold\">3.31010483e-03</span>, <span style=\"color: #008080; text-decoration-color: #008080; font-weight: bold\">-3.23406383e-02</span>, <span style=\"color: #008080; text-decoration-color: #008080; font-weight: bold\">-7.06446264e-03</span>,\n",
       "        <span style=\"color: #008080; text-decoration-color: #008080; font-weight: bold\">6.74610883e-02</span>,  <span style=\"color: #008080; text-decoration-color: #008080; font-weight: bold\">3.86140160e-02</span>,  <span style=\"color: #008080; text-decoration-color: #008080; font-weight: bold\">4.72208150e-02</span>, <span style=\"color: #008080; text-decoration-color: #008080; font-weight: bold\">-4.19445857e-02</span>,\n",
       "        <span style=\"color: #008080; text-decoration-color: #008080; font-weight: bold\">1.86015014e-02</span>,  <span style=\"color: #008080; text-decoration-color: #008080; font-weight: bold\">7.76332244e-03</span>,  <span style=\"color: #008080; text-decoration-color: #008080; font-weight: bold\">9.32705414e-04</span>, <span style=\"color: #008080; text-decoration-color: #008080; font-weight: bold\">-8.11238438e-02</span>,\n",
       "       <span style=\"color: #008080; text-decoration-color: #008080; font-weight: bold\">-4.81196120e-02</span>, <span style=\"color: #008080; text-decoration-color: #008080; font-weight: bold\">-1.15978289e-02</span>, <span style=\"color: #008080; text-decoration-color: #008080; font-weight: bold\">-7.39517063e-02</span>,  <span style=\"color: #008080; text-decoration-color: #008080; font-weight: bold\">3.85072120e-02</span>,\n",
       "        <span style=\"color: #008080; text-decoration-color: #008080; font-weight: bold\">3.34395766e-02</span>,  <span style=\"color: #008080; text-decoration-color: #008080; font-weight: bold\">3.75415981e-02</span>, <span style=\"color: #008080; text-decoration-color: #008080; font-weight: bold\">-1.82045773e-02</span>,  <span style=\"color: #008080; text-decoration-color: #008080; font-weight: bold\">6.45072246e-03</span>,\n",
       "       <span style=\"color: #008080; text-decoration-color: #008080; font-weight: bold\">-5.12047634e-02</span>,  <span style=\"color: #008080; text-decoration-color: #008080; font-weight: bold\">5.35726845e-02</span>, <span style=\"color: #008080; text-decoration-color: #008080; font-weight: bold\">-5.31552732e-02</span>,  <span style=\"color: #008080; text-decoration-color: #008080; font-weight: bold\">2.76665832e-03</span>,\n",
       "       <span style=\"color: #008080; text-decoration-color: #008080; font-weight: bold\">-3.48396711e-02</span>, <span style=\"color: #008080; text-decoration-color: #008080; font-weight: bold\">-1.28425695e-02</span>, <span style=\"color: #008080; text-decoration-color: #008080; font-weight: bold\">-1.80092584e-02</span>, <span style=\"color: #008080; text-decoration-color: #008080; font-weight: bold\">-2.29026489e-02</span>,\n",
       "        <span style=\"color: #008080; text-decoration-color: #008080; font-weight: bold\">4.58910614e-02</span>,  <span style=\"color: #008080; text-decoration-color: #008080; font-weight: bold\">2.29173861e-02</span>,  <span style=\"color: #008080; text-decoration-color: #008080; font-weight: bold\">2.25099828e-02</span>,  <span style=\"color: #008080; text-decoration-color: #008080; font-weight: bold\">5.52725010e-02</span>,\n",
       "        <span style=\"color: #008080; text-decoration-color: #008080; font-weight: bold\">2.96301600e-02</span>, <span style=\"color: #008080; text-decoration-color: #008080; font-weight: bold\">-9.61857196e-03</span>, <span style=\"color: #008080; text-decoration-color: #008080; font-weight: bold\">-1.15360046e-04</span>, <span style=\"color: #008080; text-decoration-color: #008080; font-weight: bold\">-2.04836559e-02</span>,\n",
       "       <span style=\"color: #008080; text-decoration-color: #008080; font-weight: bold\">-5.97529523e-02</span>, <span style=\"color: #008080; text-decoration-color: #008080; font-weight: bold\">-3.31123061e-02</span>, <span style=\"color: #008080; text-decoration-color: #008080; font-weight: bold\">-1.68398879e-02</span>,  <span style=\"color: #008080; text-decoration-color: #008080; font-weight: bold\">5.59742525e-02</span>,\n",
       "        <span style=\"color: #008080; text-decoration-color: #008080; font-weight: bold\">4.34544086e-02</span>, <span style=\"color: #008080; text-decoration-color: #008080; font-weight: bold\">-1.03060447e-01</span>, <span style=\"color: #008080; text-decoration-color: #008080; font-weight: bold\">-2.36169714e-02</span>, <span style=\"color: #008080; text-decoration-color: #008080; font-weight: bold\">-5.89062087e-03</span>,\n",
       "       <span style=\"color: #008080; text-decoration-color: #008080; font-weight: bold\">-6.88845217e-02</span>, <span style=\"color: #008080; text-decoration-color: #008080; font-weight: bold\">-2.29419488e-02</span>,  <span style=\"color: #008080; text-decoration-color: #008080; font-weight: bold\">2.27818917e-03</span>, <span style=\"color: #008080; text-decoration-color: #008080; font-weight: bold\">-1.66133493e-02</span>,\n",
       "        <span style=\"color: #008080; text-decoration-color: #008080; font-weight: bold\">7.57169165e-03</span>, <span style=\"color: #008080; text-decoration-color: #008080; font-weight: bold\">-1.38054201e-02</span>, <span style=\"color: #008080; text-decoration-color: #008080; font-weight: bold\">-5.44165121e-03</span>,  <span style=\"color: #008080; text-decoration-color: #008080; font-weight: bold\">1.57766696e-02</span>,\n",
       "        <span style=\"color: #008080; text-decoration-color: #008080; font-weight: bold\">6.21815659e-02</span>, <span style=\"color: #008080; text-decoration-color: #008080; font-weight: bold\">-7.71509530e-03</span>,  <span style=\"color: #008080; text-decoration-color: #008080; font-weight: bold\">3.56242694e-02</span>, <span style=\"color: #008080; text-decoration-color: #008080; font-weight: bold\">-8.37733131e-03</span>,\n",
       "       <span style=\"color: #008080; text-decoration-color: #008080; font-weight: bold\">-4.72189300e-03</span>, <span style=\"color: #008080; text-decoration-color: #008080; font-weight: bold\">-7.33623058e-02</span>, <span style=\"color: #008080; text-decoration-color: #008080; font-weight: bold\">-7.27195218e-02</span>, <span style=\"color: #008080; text-decoration-color: #008080; font-weight: bold\">-9.11195949e-02</span>,\n",
       "       <span style=\"color: #008080; text-decoration-color: #008080; font-weight: bold\">-6.61582081e-03</span>,  <span style=\"color: #008080; text-decoration-color: #008080; font-weight: bold\">4.94386666e-02</span>, <span style=\"color: #008080; text-decoration-color: #008080; font-weight: bold\">-3.40759493e-02</span>, <span style=\"color: #008080; text-decoration-color: #008080; font-weight: bold\">-3.86048667e-02</span>,\n",
       "        <span style=\"color: #008080; text-decoration-color: #008080; font-weight: bold\">2.50481013e-02</span>, <span style=\"color: #008080; text-decoration-color: #008080; font-weight: bold\">-1.37743615e-02</span>,  <span style=\"color: #008080; text-decoration-color: #008080; font-weight: bold\">2.61266176e-02</span>,  <span style=\"color: #008080; text-decoration-color: #008080; font-weight: bold\">1.92103125e-02</span>,\n",
       "       <span style=\"color: #008080; text-decoration-color: #008080; font-weight: bold\">-5.63198514e-03</span>, <span style=\"color: #008080; text-decoration-color: #008080; font-weight: bold\">-7.35356733e-02</span>,  <span style=\"color: #008080; text-decoration-color: #008080; font-weight: bold\">2.19636597e-02</span>, <span style=\"color: #008080; text-decoration-color: #008080; font-weight: bold\">-2.64104847e-02</span>,\n",
       "        <span style=\"color: #008080; text-decoration-color: #008080; font-weight: bold\">1.31724998e-01</span>,  <span style=\"color: #008080; text-decoration-color: #008080; font-weight: bold\">2.08567344e-02</span>, <span style=\"color: #008080; text-decoration-color: #008080; font-weight: bold\">-8.08987319e-02</span>,  <span style=\"color: #008080; text-decoration-color: #008080; font-weight: bold\">4.44578938e-03</span>,\n",
       "        <span style=\"color: #008080; text-decoration-color: #008080; font-weight: bold\">7.32471282e-03</span>,  <span style=\"color: #008080; text-decoration-color: #008080; font-weight: bold\">4.33451012e-02</span>,  <span style=\"color: #008080; text-decoration-color: #008080; font-weight: bold\">2.01865677e-02</span>, <span style=\"color: #008080; text-decoration-color: #008080; font-weight: bold\">-2.47319136e-02</span>,\n",
       "       <span style=\"color: #008080; text-decoration-color: #008080; font-weight: bold\">-1.38191776e-02</span>,  <span style=\"color: #008080; text-decoration-color: #008080; font-weight: bold\">7.01132864e-02</span>,  <span style=\"color: #008080; text-decoration-color: #008080; font-weight: bold\">8.05389043e-03</span>,  <span style=\"color: #008080; text-decoration-color: #008080; font-weight: bold\">1.43697374e-02</span>,\n",
       "       <span style=\"color: #008080; text-decoration-color: #008080; font-weight: bold\">-4.59568799e-02</span>, <span style=\"color: #008080; text-decoration-color: #008080; font-weight: bold\">-5.13289636e-03</span>, <span style=\"color: #008080; text-decoration-color: #008080; font-weight: bold\">-3.29643637e-02</span>, <span style=\"color: #008080; text-decoration-color: #008080; font-weight: bold\">-2.43084226e-02</span>,\n",
       "        <span style=\"color: #008080; text-decoration-color: #008080; font-weight: bold\">1.00730015e-02</span>,  <span style=\"color: #008080; text-decoration-color: #008080; font-weight: bold\">8.00301731e-02</span>, <span style=\"color: #008080; text-decoration-color: #008080; font-weight: bold\">-2.46462002e-02</span>, <span style=\"color: #008080; text-decoration-color: #008080; font-weight: bold\">-2.32016146e-02</span>,\n",
       "        <span style=\"color: #008080; text-decoration-color: #008080; font-weight: bold\">8.80044103e-02</span>, <span style=\"color: #008080; text-decoration-color: #008080; font-weight: bold\">-7.34434798e-02</span>,  <span style=\"color: #008080; text-decoration-color: #008080; font-weight: bold\">9.53080039e-03</span>, <span style=\"color: #008080; text-decoration-color: #008080; font-weight: bold\">-5.51798207e-33</span>,\n",
       "        <span style=\"color: #008080; text-decoration-color: #008080; font-weight: bold\">6.67391717e-02</span>, <span style=\"color: #008080; text-decoration-color: #008080; font-weight: bold\">-8.99631009e-02</span>, <span style=\"color: #008080; text-decoration-color: #008080; font-weight: bold\">-6.39788210e-02</span>, <span style=\"color: #008080; text-decoration-color: #008080; font-weight: bold\">-4.10474762e-02</span>,\n",
       "        <span style=\"color: #008080; text-decoration-color: #008080; font-weight: bold\">2.60285083e-02</span>, <span style=\"color: #008080; text-decoration-color: #008080; font-weight: bold\">-1.71097405e-02</span>,  <span style=\"color: #008080; text-decoration-color: #008080; font-weight: bold\">7.28479400e-03</span>,  <span style=\"color: #008080; text-decoration-color: #008080; font-weight: bold\">7.89155625e-03</span>,\n",
       "        <span style=\"color: #008080; text-decoration-color: #008080; font-weight: bold\">3.16862017e-02</span>,  <span style=\"color: #008080; text-decoration-color: #008080; font-weight: bold\">6.22459641e-03</span>, <span style=\"color: #008080; text-decoration-color: #008080; font-weight: bold\">-3.96656319e-02</span>,  <span style=\"color: #008080; text-decoration-color: #008080; font-weight: bold\">8.47623721e-02</span>,\n",
       "       <span style=\"color: #008080; text-decoration-color: #008080; font-weight: bold\">-4.32999048e-04</span>, <span style=\"color: #008080; text-decoration-color: #008080; font-weight: bold\">-1.22053288e-01</span>,  <span style=\"color: #008080; text-decoration-color: #008080; font-weight: bold\">9.50080827e-02</span>, <span style=\"color: #008080; text-decoration-color: #008080; font-weight: bold\">-2.76546031e-02</span>,\n",
       "        <span style=\"color: #008080; text-decoration-color: #008080; font-weight: bold\">2.67648064e-02</span>, <span style=\"color: #008080; text-decoration-color: #008080; font-weight: bold\">-3.20277251e-02</span>,  <span style=\"color: #008080; text-decoration-color: #008080; font-weight: bold\">8.78301561e-02</span>,  <span style=\"color: #008080; text-decoration-color: #008080; font-weight: bold\">4.40087207e-02</span>,\n",
       "       <span style=\"color: #008080; text-decoration-color: #008080; font-weight: bold\">-1.33216437e-02</span>,  <span style=\"color: #008080; text-decoration-color: #008080; font-weight: bold\">7.61411563e-02</span>,  <span style=\"color: #008080; text-decoration-color: #008080; font-weight: bold\">6.68609738e-02</span>,  <span style=\"color: #008080; text-decoration-color: #008080; font-weight: bold\">6.21849410e-02</span>,\n",
       "        <span style=\"color: #008080; text-decoration-color: #008080; font-weight: bold\">4.16374058e-02</span>,  <span style=\"color: #008080; text-decoration-color: #008080; font-weight: bold\">5.30747836e-03</span>, <span style=\"color: #008080; text-decoration-color: #008080; font-weight: bold\">-2.84969024e-02</span>, <span style=\"color: #008080; text-decoration-color: #008080; font-weight: bold\">-7.92078599e-02</span>,\n",
       "       <span style=\"color: #008080; text-decoration-color: #008080; font-weight: bold\">-7.50016272e-02</span>, <span style=\"color: #008080; text-decoration-color: #008080; font-weight: bold\">-4.21432517e-02</span>,  <span style=\"color: #008080; text-decoration-color: #008080; font-weight: bold\">7.64279217e-02</span>, <span style=\"color: #008080; text-decoration-color: #008080; font-weight: bold\">-9.42026749e-02</span>,\n",
       "       <span style=\"color: #008080; text-decoration-color: #008080; font-weight: bold\">-2.36884039e-02</span>,  <span style=\"color: #008080; text-decoration-color: #008080; font-weight: bold\">7.31200054e-02</span>,  <span style=\"color: #008080; text-decoration-color: #008080; font-weight: bold\">3.73845622e-02</span>,  <span style=\"color: #008080; text-decoration-color: #008080; font-weight: bold\">3.13345715e-03</span>,\n",
       "       <span style=\"color: #008080; text-decoration-color: #008080; font-weight: bold\">-7.00921938e-03</span>, <span style=\"color: #008080; text-decoration-color: #008080; font-weight: bold\">-5.84262572e-02</span>,  <span style=\"color: #008080; text-decoration-color: #008080; font-weight: bold\">4.34534699e-02</span>, <span style=\"color: #008080; text-decoration-color: #008080; font-weight: bold\">-1.55279301e-02</span>,\n",
       "        <span style=\"color: #008080; text-decoration-color: #008080; font-weight: bold\">8.30216706e-02</span>, <span style=\"color: #008080; text-decoration-color: #008080; font-weight: bold\">-8.67197588e-02</span>,  <span style=\"color: #008080; text-decoration-color: #008080; font-weight: bold\">1.93145666e-02</span>, <span style=\"color: #008080; text-decoration-color: #008080; font-weight: bold\">-6.86870217e-02</span>,\n",
       "       <span style=\"color: #008080; text-decoration-color: #008080; font-weight: bold\">-1.71579327e-02</span>, <span style=\"color: #008080; text-decoration-color: #008080; font-weight: bold\">-4.59659733e-02</span>, <span style=\"color: #008080; text-decoration-color: #008080; font-weight: bold\">-6.00139312e-02</span>, <span style=\"color: #008080; text-decoration-color: #008080; font-weight: bold\">-1.61339119e-02</span>,\n",
       "       <span style=\"color: #008080; text-decoration-color: #008080; font-weight: bold\">-4.52781916e-02</span>, <span style=\"color: #008080; text-decoration-color: #008080; font-weight: bold\">-4.90354449e-02</span>,  <span style=\"color: #008080; text-decoration-color: #008080; font-weight: bold\">9.49769244e-02</span>,  <span style=\"color: #008080; text-decoration-color: #008080; font-weight: bold\">6.90665692e-02</span>,\n",
       "        <span style=\"color: #008080; text-decoration-color: #008080; font-weight: bold\">1.16112819e-02</span>,  <span style=\"color: #008080; text-decoration-color: #008080; font-weight: bold\">1.89545024e-02</span>,  <span style=\"color: #008080; text-decoration-color: #008080; font-weight: bold\">5.50991893e-02</span>,  <span style=\"color: #008080; text-decoration-color: #008080; font-weight: bold\">2.47586947e-02</span>,\n",
       "        <span style=\"color: #008080; text-decoration-color: #008080; font-weight: bold\">5.46792671e-02</span>, <span style=\"color: #008080; text-decoration-color: #008080; font-weight: bold\">-2.11137608e-02</span>, <span style=\"color: #008080; text-decoration-color: #008080; font-weight: bold\">-1.58346724e-02</span>,  <span style=\"color: #008080; text-decoration-color: #008080; font-weight: bold\">4.82045002e-02</span>,\n",
       "        <span style=\"color: #008080; text-decoration-color: #008080; font-weight: bold\">2.42203046e-02</span>, <span style=\"color: #008080; text-decoration-color: #008080; font-weight: bold\">-2.96652131e-02</span>,  <span style=\"color: #008080; text-decoration-color: #008080; font-weight: bold\">3.70465741e-02</span>, <span style=\"color: #008080; text-decoration-color: #008080; font-weight: bold\">-1.28934279e-01</span>,\n",
       "        <span style=\"color: #008080; text-decoration-color: #008080; font-weight: bold\">3.76302712e-02</span>, <span style=\"color: #008080; text-decoration-color: #008080; font-weight: bold\">-6.83029741e-02</span>,  <span style=\"color: #008080; text-decoration-color: #008080; font-weight: bold\">6.02344275e-02</span>,  <span style=\"color: #008080; text-decoration-color: #008080; font-weight: bold\">9.30509567e-02</span>,\n",
       "       <span style=\"color: #008080; text-decoration-color: #008080; font-weight: bold\">-5.75887412e-02</span>, <span style=\"color: #008080; text-decoration-color: #008080; font-weight: bold\">-9.55608953e-03</span>,  <span style=\"color: #008080; text-decoration-color: #008080; font-weight: bold\">8.76331478e-02</span>,  <span style=\"color: #008080; text-decoration-color: #008080; font-weight: bold\">7.40666990e-04</span>,\n",
       "        <span style=\"color: #008080; text-decoration-color: #008080; font-weight: bold\">1.05235621e-01</span>, <span style=\"color: #008080; text-decoration-color: #008080; font-weight: bold\">-7.96228871e-02</span>,  <span style=\"color: #008080; text-decoration-color: #008080; font-weight: bold\">2.33249050e-02</span>, <span style=\"color: #008080; text-decoration-color: #008080; font-weight: bold\">-1.55287990e-02</span>,\n",
       "        <span style=\"color: #008080; text-decoration-color: #008080; font-weight: bold\">3.85891423e-02</span>, <span style=\"color: #008080; text-decoration-color: #008080; font-weight: bold\">-1.05712786e-01</span>,  <span style=\"color: #008080; text-decoration-color: #008080; font-weight: bold\">8.39892998e-02</span>, <span style=\"color: #008080; text-decoration-color: #008080; font-weight: bold\">-1.91817747e-03</span>,\n",
       "        <span style=\"color: #008080; text-decoration-color: #008080; font-weight: bold\">1.38400858e-02</span>,  <span style=\"color: #008080; text-decoration-color: #008080; font-weight: bold\">6.37766859e-03</span>, <span style=\"color: #008080; text-decoration-color: #008080; font-weight: bold\">-2.96299420e-02</span>,  <span style=\"color: #008080; text-decoration-color: #008080; font-weight: bold\">4.03881632e-02</span>,\n",
       "       <span style=\"color: #008080; text-decoration-color: #008080; font-weight: bold\">-1.15844749e-01</span>,  <span style=\"color: #008080; text-decoration-color: #008080; font-weight: bold\">4.94121462e-02</span>,  <span style=\"color: #008080; text-decoration-color: #008080; font-weight: bold\">3.13218385e-02</span>,  <span style=\"color: #008080; text-decoration-color: #008080; font-weight: bold\">5.68210110e-02</span>,\n",
       "       <span style=\"color: #008080; text-decoration-color: #008080; font-weight: bold\">-4.65461202e-02</span>,  <span style=\"color: #008080; text-decoration-color: #008080; font-weight: bold\">3.63881141e-02</span>, <span style=\"color: #008080; text-decoration-color: #008080; font-weight: bold\">-7.68799186e-02</span>,  <span style=\"color: #008080; text-decoration-color: #008080; font-weight: bold\">6.37153238e-02</span>,\n",
       "       <span style=\"color: #008080; text-decoration-color: #008080; font-weight: bold\">-3.95113565e-02</span>, <span style=\"color: #008080; text-decoration-color: #008080; font-weight: bold\">-5.55347018e-02</span>,  <span style=\"color: #008080; text-decoration-color: #008080; font-weight: bold\">1.29047662e-01</span>,  <span style=\"color: #008080; text-decoration-color: #008080; font-weight: bold\">1.72900470e-33</span>,\n",
       "       <span style=\"color: #008080; text-decoration-color: #008080; font-weight: bold\">-9.37649235e-03</span>,  <span style=\"color: #008080; text-decoration-color: #008080; font-weight: bold\">1.31166335e-02</span>,  <span style=\"color: #008080; text-decoration-color: #008080; font-weight: bold\">8.39728769e-03</span>, <span style=\"color: #008080; text-decoration-color: #008080; font-weight: bold\">-1.10704927e-02</span>,\n",
       "       <span style=\"color: #008080; text-decoration-color: #008080; font-weight: bold\">-8.88169706e-02</span>,  <span style=\"color: #008080; text-decoration-color: #008080; font-weight: bold\">9.47584733e-02</span>, <span style=\"color: #008080; text-decoration-color: #008080; font-weight: bold\">-1.80842839e-02</span>,  <span style=\"color: #008080; text-decoration-color: #008080; font-weight: bold\">3.43667343e-02</span>,\n",
       "        <span style=\"color: #008080; text-decoration-color: #008080; font-weight: bold\">3.55610698e-02</span>,  <span style=\"color: #008080; text-decoration-color: #008080; font-weight: bold\">5.19114733e-02</span>, <span style=\"color: #008080; text-decoration-color: #008080; font-weight: bold\">-5.11152111e-02</span>,  <span style=\"color: #008080; text-decoration-color: #008080; font-weight: bold\">5.75074106e-02</span>,\n",
       "       <span style=\"color: #008080; text-decoration-color: #008080; font-weight: bold\">-1.23269819e-02</span>, <span style=\"color: #008080; text-decoration-color: #008080; font-weight: bold\">-1.08087640e-02</span>,  <span style=\"color: #008080; text-decoration-color: #008080; font-weight: bold\">3.69170867e-02</span>, <span style=\"color: #008080; text-decoration-color: #008080; font-weight: bold\">-3.11612356e-02</span>,\n",
       "        <span style=\"color: #008080; text-decoration-color: #008080; font-weight: bold\">1.42869279e-02</span>,  <span style=\"color: #008080; text-decoration-color: #008080; font-weight: bold\">8.80501643e-02</span>,  <span style=\"color: #008080; text-decoration-color: #008080; font-weight: bold\">8.98826122e-02</span>, <span style=\"color: #008080; text-decoration-color: #008080; font-weight: bold\">-1.03087723e-01</span>,\n",
       "       <span style=\"color: #008080; text-decoration-color: #008080; font-weight: bold\">-4.59086113e-02</span>,  <span style=\"color: #008080; text-decoration-color: #008080; font-weight: bold\">8.56980830e-02</span>,  <span style=\"color: #008080; text-decoration-color: #008080; font-weight: bold\">7.05874898e-03</span>, <span style=\"color: #008080; text-decoration-color: #008080; font-weight: bold\">-1.22562656e-02</span>,\n",
       "        <span style=\"color: #008080; text-decoration-color: #008080; font-weight: bold\">7.78391138e-02</span>,  <span style=\"color: #008080; text-decoration-color: #008080; font-weight: bold\">2.05062694e-04</span>,  <span style=\"color: #008080; text-decoration-color: #008080; font-weight: bold\">4.45738323e-02</span>,  <span style=\"color: #008080; text-decoration-color: #008080; font-weight: bold\">4.41809632e-02</span>,\n",
       "       <span style=\"color: #008080; text-decoration-color: #008080; font-weight: bold\">-3.99722941e-02</span>, <span style=\"color: #008080; text-decoration-color: #008080; font-weight: bold\">-5.93314692e-03</span>,  <span style=\"color: #008080; text-decoration-color: #008080; font-weight: bold\">4.33919877e-02</span>,  <span style=\"color: #008080; text-decoration-color: #008080; font-weight: bold\">2.82947402e-02</span>,\n",
       "        <span style=\"color: #008080; text-decoration-color: #008080; font-weight: bold\">4.01344746e-02</span>, <span style=\"color: #008080; text-decoration-color: #008080; font-weight: bold\">-6.95960745e-02</span>,  <span style=\"color: #008080; text-decoration-color: #008080; font-weight: bold\">1.91935468e-02</span>,  <span style=\"color: #008080; text-decoration-color: #008080; font-weight: bold\">5.42403106e-03</span>,\n",
       "       <span style=\"color: #008080; text-decoration-color: #008080; font-weight: bold\">-1.90091021e-02</span>, <span style=\"color: #008080; text-decoration-color: #008080; font-weight: bold\">-9.27012786e-02</span>, <span style=\"color: #008080; text-decoration-color: #008080; font-weight: bold\">-5.26437983e-02</span>, <span style=\"color: #008080; text-decoration-color: #008080; font-weight: bold\">-7.76257440e-02</span>,\n",
       "        <span style=\"color: #008080; text-decoration-color: #008080; font-weight: bold\">3.13077942e-02</span>, <span style=\"color: #008080; text-decoration-color: #008080; font-weight: bold\">-3.81089039e-02</span>, <span style=\"color: #008080; text-decoration-color: #008080; font-weight: bold\">-9.82504617e-03</span>,  <span style=\"color: #008080; text-decoration-color: #008080; font-weight: bold\">2.38694288e-02</span>,\n",
       "        <span style=\"color: #008080; text-decoration-color: #008080; font-weight: bold\">4.67698351e-02</span>,  <span style=\"color: #008080; text-decoration-color: #008080; font-weight: bold\">7.57059688e-03</span>, <span style=\"color: #008080; text-decoration-color: #008080; font-weight: bold\">-1.08822556e-02</span>, <span style=\"color: #008080; text-decoration-color: #008080; font-weight: bold\">-1.52950129e-02</span>,\n",
       "        <span style=\"color: #008080; text-decoration-color: #008080; font-weight: bold\">6.71099275e-02</span>, <span style=\"color: #008080; text-decoration-color: #008080; font-weight: bold\">-6.25166446e-02</span>,  <span style=\"color: #008080; text-decoration-color: #008080; font-weight: bold\">4.77440655e-02</span>,  <span style=\"color: #008080; text-decoration-color: #008080; font-weight: bold\">1.04817431e-02</span>,\n",
       "       <span style=\"color: #008080; text-decoration-color: #008080; font-weight: bold\">-1.19245082e-01</span>, <span style=\"color: #008080; text-decoration-color: #008080; font-weight: bold\">-7.16586411e-02</span>, <span style=\"color: #008080; text-decoration-color: #008080; font-weight: bold\">-3.44640166e-02</span>, <span style=\"color: #008080; text-decoration-color: #008080; font-weight: bold\">-3.57010290e-02</span>,\n",
       "       <span style=\"color: #008080; text-decoration-color: #008080; font-weight: bold\">-1.87617000e-02</span>,  <span style=\"color: #008080; text-decoration-color: #008080; font-weight: bold\">1.41297840e-02</span>,  <span style=\"color: #008080; text-decoration-color: #008080; font-weight: bold\">6.92301691e-02</span>, <span style=\"color: #008080; text-decoration-color: #008080; font-weight: bold\">-1.06620707e-01</span>,\n",
       "        <span style=\"color: #008080; text-decoration-color: #008080; font-weight: bold\">6.45303354e-02</span>,  <span style=\"color: #008080; text-decoration-color: #008080; font-weight: bold\">1.46213192e-02</span>, <span style=\"color: #008080; text-decoration-color: #008080; font-weight: bold\">-2.03517247e-02</span>,  <span style=\"color: #008080; text-decoration-color: #008080; font-weight: bold\">1.14549557e-02</span>,\n",
       "       <span style=\"color: #008080; text-decoration-color: #008080; font-weight: bold\">-7.86500052e-02</span>, <span style=\"color: #008080; text-decoration-color: #008080; font-weight: bold\">-2.97102910e-02</span>, <span style=\"color: #008080; text-decoration-color: #008080; font-weight: bold\">-6.20147325e-02</span>, <span style=\"color: #008080; text-decoration-color: #008080; font-weight: bold\">-4.79275361e-02</span>,\n",
       "        <span style=\"color: #008080; text-decoration-color: #008080; font-weight: bold\">1.00678548e-01</span>,  <span style=\"color: #008080; text-decoration-color: #008080; font-weight: bold\">2.25293245e-02</span>,  <span style=\"color: #008080; text-decoration-color: #008080; font-weight: bold\">2.29818057e-02</span>,  <span style=\"color: #008080; text-decoration-color: #008080; font-weight: bold\">1.13575220e-01</span>,\n",
       "        <span style=\"color: #008080; text-decoration-color: #008080; font-weight: bold\">3.97218913e-02</span>, <span style=\"color: #008080; text-decoration-color: #008080; font-weight: bold\">-1.23617321e-01</span>,  <span style=\"color: #008080; text-decoration-color: #008080; font-weight: bold\">3.69850993e-02</span>,  <span style=\"color: #008080; text-decoration-color: #008080; font-weight: bold\">4.37471606e-02</span>,\n",
       "        <span style=\"color: #008080; text-decoration-color: #008080; font-weight: bold\">2.26463359e-02</span>, <span style=\"color: #008080; text-decoration-color: #008080; font-weight: bold\">-3.53217055e-03</span>,  <span style=\"color: #008080; text-decoration-color: #008080; font-weight: bold\">5.63670881e-02</span>,  <span style=\"color: #008080; text-decoration-color: #008080; font-weight: bold\">7.82295503e-03</span>,\n",
       "       <span style=\"color: #008080; text-decoration-color: #008080; font-weight: bold\">-1.47569655e-02</span>,  <span style=\"color: #008080; text-decoration-color: #008080; font-weight: bold\">3.73702832e-02</span>,  <span style=\"color: #008080; text-decoration-color: #008080; font-weight: bold\">6.09354582e-03</span>,  <span style=\"color: #008080; text-decoration-color: #008080; font-weight: bold\">1.37363955e-01</span>,\n",
       "       <span style=\"color: #008080; text-decoration-color: #008080; font-weight: bold\">-4.19504121e-02</span>,  <span style=\"color: #008080; text-decoration-color: #008080; font-weight: bold\">2.67913658e-02</span>,  <span style=\"color: #008080; text-decoration-color: #008080; font-weight: bold\">4.65977751e-02</span>,  <span style=\"color: #008080; text-decoration-color: #008080; font-weight: bold\">1.49534652e-02</span>,\n",
       "       <span style=\"color: #008080; text-decoration-color: #008080; font-weight: bold\">-2.26298757e-02</span>, <span style=\"color: #008080; text-decoration-color: #008080; font-weight: bold\">-6.12494582e-03</span>,  <span style=\"color: #008080; text-decoration-color: #008080; font-weight: bold\">3.68085727e-02</span>,  <span style=\"color: #008080; text-decoration-color: #008080; font-weight: bold\">9.14621353e-02</span>,\n",
       "        <span style=\"color: #008080; text-decoration-color: #008080; font-weight: bold\">3.68302464e-02</span>,  <span style=\"color: #008080; text-decoration-color: #008080; font-weight: bold\">4.94275987e-02</span>, <span style=\"color: #008080; text-decoration-color: #008080; font-weight: bold\">-3.33274119e-02</span>, <span style=\"color: #008080; text-decoration-color: #008080; font-weight: bold\">-1.39485952e-08</span>,\n",
       "        <span style=\"color: #008080; text-decoration-color: #008080; font-weight: bold\">2.48132013e-02</span>,  <span style=\"color: #008080; text-decoration-color: #008080; font-weight: bold\">4.64657098e-02</span>, <span style=\"color: #008080; text-decoration-color: #008080; font-weight: bold\">-3.34487259e-02</span>,  <span style=\"color: #008080; text-decoration-color: #008080; font-weight: bold\">3.20344009e-02</span>,\n",
       "        <span style=\"color: #008080; text-decoration-color: #008080; font-weight: bold\">7.19079573e-04</span>,  <span style=\"color: #008080; text-decoration-color: #008080; font-weight: bold\">6.69205487e-02</span>, <span style=\"color: #008080; text-decoration-color: #008080; font-weight: bold\">-9.02818665e-02</span>, <span style=\"color: #008080; text-decoration-color: #008080; font-weight: bold\">-1.02831222e-01</span>,\n",
       "       <span style=\"color: #008080; text-decoration-color: #008080; font-weight: bold\">-1.29709262e-02</span>, <span style=\"color: #008080; text-decoration-color: #008080; font-weight: bold\">-3.36500928e-02</span>,  <span style=\"color: #008080; text-decoration-color: #008080; font-weight: bold\">8.48921090e-02</span>, <span style=\"color: #008080; text-decoration-color: #008080; font-weight: bold\">-3.30889300e-02</span>,\n",
       "        <span style=\"color: #008080; text-decoration-color: #008080; font-weight: bold\">1.46891354e-02</span>,  <span style=\"color: #008080; text-decoration-color: #008080; font-weight: bold\">2.31375843e-02</span>, <span style=\"color: #008080; text-decoration-color: #008080; font-weight: bold\">-1.58142652e-02</span>,  <span style=\"color: #008080; text-decoration-color: #008080; font-weight: bold\">3.08822952e-02</span>,\n",
       "        <span style=\"color: #008080; text-decoration-color: #008080; font-weight: bold\">2.12722775e-02</span>, <span style=\"color: #008080; text-decoration-color: #008080; font-weight: bold\">-1.27829928e-02</span>,  <span style=\"color: #008080; text-decoration-color: #008080; font-weight: bold\">2.31715105e-02</span>,  <span style=\"color: #008080; text-decoration-color: #008080; font-weight: bold\">4.15336601e-02</span>,\n",
       "       <span style=\"color: #008080; text-decoration-color: #008080; font-weight: bold\">-1.07557610e-01</span>,  <span style=\"color: #008080; text-decoration-color: #008080; font-weight: bold\">9.24243405e-03</span>, <span style=\"color: #008080; text-decoration-color: #008080; font-weight: bold\">-2.10333597e-02</span>,  <span style=\"color: #008080; text-decoration-color: #008080; font-weight: bold\">4.27723303e-03</span>,\n",
       "       <span style=\"color: #008080; text-decoration-color: #008080; font-weight: bold\">-7.69797340e-02</span>,  <span style=\"color: #008080; text-decoration-color: #008080; font-weight: bold\">2.01058518e-02</span>,  <span style=\"color: #008080; text-decoration-color: #008080; font-weight: bold\">5.04121818e-02</span>, <span style=\"color: #008080; text-decoration-color: #008080; font-weight: bold\">-9.04768333e-02</span>,\n",
       "        <span style=\"color: #008080; text-decoration-color: #008080; font-weight: bold\">4.68120575e-02</span>,  <span style=\"color: #008080; text-decoration-color: #008080; font-weight: bold\">5.53894714e-02</span>, <span style=\"color: #008080; text-decoration-color: #008080; font-weight: bold\">-1.25722140e-01</span>, <span style=\"color: #008080; text-decoration-color: #008080; font-weight: bold\">-2.12025233e-02</span>,\n",
       "        <span style=\"color: #008080; text-decoration-color: #008080; font-weight: bold\">6.18944019e-02</span>, <span style=\"color: #008080; text-decoration-color: #008080; font-weight: bold\">-2.81211101e-02</span>,  <span style=\"color: #008080; text-decoration-color: #008080; font-weight: bold\">9.63960066e-02</span>, <span style=\"color: #008080; text-decoration-color: #008080; font-weight: bold\">-1.03522889e-01</span>,\n",
       "        <span style=\"color: #008080; text-decoration-color: #008080; font-weight: bold\">5.23934998e-02</span>, <span style=\"color: #008080; text-decoration-color: #008080; font-weight: bold\">-2.48904619e-03</span>, <span style=\"color: #008080; text-decoration-color: #008080; font-weight: bold\">-9.74326674e-03</span>,  <span style=\"color: #008080; text-decoration-color: #008080; font-weight: bold\">1.55659311e-03</span>,\n",
       "       <span style=\"color: #008080; text-decoration-color: #008080; font-weight: bold\">-3.90002839e-02</span>,  <span style=\"color: #008080; text-decoration-color: #008080; font-weight: bold\">1.09630115e-01</span>,  <span style=\"color: #008080; text-decoration-color: #008080; font-weight: bold\">1.44026848e-02</span>, <span style=\"color: #008080; text-decoration-color: #008080; font-weight: bold\">-2.57468894e-02</span>,\n",
       "        <span style=\"color: #008080; text-decoration-color: #008080; font-weight: bold\">3.90905701e-03</span>,  <span style=\"color: #008080; text-decoration-color: #008080; font-weight: bold\">1.82375889e-02</span>,  <span style=\"color: #008080; text-decoration-color: #008080; font-weight: bold\">2.77421344e-03</span>, <span style=\"color: #008080; text-decoration-color: #008080; font-weight: bold\">-6.54181000e-03</span>,\n",
       "        <span style=\"color: #008080; text-decoration-color: #008080; font-weight: bold\">8.79083760e-03</span>,  <span style=\"color: #008080; text-decoration-color: #008080; font-weight: bold\">1.50032090e-02</span>, <span style=\"color: #008080; text-decoration-color: #008080; font-weight: bold\">-1.13661028e-01</span>,  <span style=\"color: #008080; text-decoration-color: #008080; font-weight: bold\">2.58690324e-02</span>,\n",
       "       <span style=\"color: #008080; text-decoration-color: #008080; font-weight: bold\">-4.64200601e-02</span>,  <span style=\"color: #008080; text-decoration-color: #008080; font-weight: bold\">1.33450585e-03</span>, <span style=\"color: #008080; text-decoration-color: #008080; font-weight: bold\">-7.35048726e-02</span>,  <span style=\"color: #008080; text-decoration-color: #008080; font-weight: bold\">2.18761787e-02</span>,\n",
       "       <span style=\"color: #008080; text-decoration-color: #008080; font-weight: bold\">-7.82778785e-02</span>, <span style=\"color: #008080; text-decoration-color: #008080; font-weight: bold\">-6.21260367e-02</span>, <span style=\"color: #008080; text-decoration-color: #008080; font-weight: bold\">-5.73859736e-02</span>,  <span style=\"color: #008080; text-decoration-color: #008080; font-weight: bold\">5.89579716e-02</span>,\n",
       "       <span style=\"color: #008080; text-decoration-color: #008080; font-weight: bold\">-4.82583083e-02</span>, <span style=\"color: #008080; text-decoration-color: #008080; font-weight: bold\">-6.70395745e-03</span>, <span style=\"color: #008080; text-decoration-color: #008080; font-weight: bold\">-2.79505514e-02</span>,  <span style=\"color: #008080; text-decoration-color: #008080; font-weight: bold\">4.49423641e-02</span><span style=\"font-weight: bold\">]</span>,\n",
       "      <span style=\"color: #808000; text-decoration-color: #808000\">dtype</span>=<span style=\"color: #800080; text-decoration-color: #800080\">float32</span><span style=\"font-weight: bold\">)</span>,\n",
       "    <span style=\"color: #008000; text-decoration-color: #008000\">'doc_scores'</span>: <span style=\"color: #800080; text-decoration-color: #800080; font-weight: bold\">array</span><span style=\"font-weight: bold\">([</span> <span style=\"color: #008080; text-decoration-color: #008080; font-weight: bold\">0.01727992</span>,  <span style=\"color: #008080; text-decoration-color: #008080; font-weight: bold\">0.02189344</span>,  <span style=\"color: #008080; text-decoration-color: #008080; font-weight: bold\">0.27025807</span>, <span style=\"color: #808000; text-decoration-color: #808000\">...</span>,  <span style=\"color: #008080; text-decoration-color: #008080; font-weight: bold\">0.24720877</span>,\n",
       "       <span style=\"color: #008080; text-decoration-color: #008080; font-weight: bold\">-0.05754334</span>,  <span style=\"color: #008080; text-decoration-color: #008080; font-weight: bold\">0.12901495</span><span style=\"font-weight: bold\">]</span>, <span style=\"color: #808000; text-decoration-color: #808000\">dtype</span>=<span style=\"color: #800080; text-decoration-color: #800080\">float32</span><span style=\"font-weight: bold\">)</span>,\n",
       "    <span style=\"color: #008000; text-decoration-color: #008000\">'top_items'</span>: <span style=\"color: #800080; text-decoration-color: #800080; font-weight: bold\">array</span><span style=\"font-weight: bold\">([</span><span style=\"color: #008080; text-decoration-color: #008080; font-weight: bold\">19397</span>, <span style=\"color: #008080; text-decoration-color: #008080; font-weight: bold\">13729</span>, <span style=\"color: #008080; text-decoration-color: #008080; font-weight: bold\">19988</span>,  <span style=\"color: #008080; text-decoration-color: #008080; font-weight: bold\">1975</span>, <span style=\"color: #008080; text-decoration-color: #008080; font-weight: bold\">10635</span><span style=\"font-weight: bold\">])</span>\n",
       "<span style=\"font-weight: bold\">}</span>\n",
       "</pre>\n"
      ],
      "text/plain": [
       "\u001b[1m{\u001b[0m\n",
       "    \u001b[32m'query_original'\u001b[0m: \u001b[32m'Two dogs playing in the snow'\u001b[0m,\n",
       "    \u001b[32m'query_processed'\u001b[0m: \u001b[1;35marray\u001b[0m\u001b[1m(\u001b[0m\u001b[1m[\u001b[0m\u001b[1;36m-3.45207192e-02\u001b[0m, \u001b[1;36m-5.31195141e-02\u001b[0m,  \u001b[1;36m7.89919794e-02\u001b[0m,  \u001b[1;36m3.99201699e-02\u001b[0m,\n",
       "       \u001b[1;36m-6.76747635e-02\u001b[0m,  \u001b[1;36m2.95135509e-02\u001b[0m, \u001b[1;36m-4.12319116e-02\u001b[0m,  \u001b[1;36m3.39880660e-02\u001b[0m,\n",
       "        \u001b[1;36m4.66178693e-02\u001b[0m,  \u001b[1;36m7.46874288e-02\u001b[0m, \u001b[1;36m-2.96282247e-02\u001b[0m,  \u001b[1;36m1.31358057e-02\u001b[0m,\n",
       "        \u001b[1;36m2.92284675e-02\u001b[0m,  \u001b[1;36m5.03163859e-02\u001b[0m,  \u001b[1;36m4.19280455e-02\u001b[0m,  \u001b[1;36m1.21763516e-02\u001b[0m,\n",
       "       \u001b[1;36m-7.26377368e-02\u001b[0m, \u001b[1;36m-5.97697273e-02\u001b[0m,  \u001b[1;36m1.40849371e-02\u001b[0m, \u001b[1;36m-3.02251168e-02\u001b[0m,\n",
       "       \u001b[1;36m-2.28216611e-02\u001b[0m, \u001b[1;36m-7.01758042e-02\u001b[0m, \u001b[1;36m-3.69652919e-02\u001b[0m, \u001b[1;36m-2.73013068e-03\u001b[0m,\n",
       "       \u001b[1;36m-1.33206332e-02\u001b[0m,  \u001b[1;36m8.86703376e-03\u001b[0m, \u001b[1;36m-5.50668538e-02\u001b[0m,  \u001b[1;36m3.70550007e-02\u001b[0m,\n",
       "       \u001b[1;36m-2.70354338e-02\u001b[0m,  \u001b[1;36m2.35992819e-02\u001b[0m, \u001b[1;36m-3.81438583e-02\u001b[0m, \u001b[1;36m-2.63989381e-02\u001b[0m,\n",
       "       \u001b[1;36m-8.23715888e-03\u001b[0m,  \u001b[1;36m3.31010483e-03\u001b[0m, \u001b[1;36m-3.23406383e-02\u001b[0m, \u001b[1;36m-7.06446264e-03\u001b[0m,\n",
       "        \u001b[1;36m6.74610883e-02\u001b[0m,  \u001b[1;36m3.86140160e-02\u001b[0m,  \u001b[1;36m4.72208150e-02\u001b[0m, \u001b[1;36m-4.19445857e-02\u001b[0m,\n",
       "        \u001b[1;36m1.86015014e-02\u001b[0m,  \u001b[1;36m7.76332244e-03\u001b[0m,  \u001b[1;36m9.32705414e-04\u001b[0m, \u001b[1;36m-8.11238438e-02\u001b[0m,\n",
       "       \u001b[1;36m-4.81196120e-02\u001b[0m, \u001b[1;36m-1.15978289e-02\u001b[0m, \u001b[1;36m-7.39517063e-02\u001b[0m,  \u001b[1;36m3.85072120e-02\u001b[0m,\n",
       "        \u001b[1;36m3.34395766e-02\u001b[0m,  \u001b[1;36m3.75415981e-02\u001b[0m, \u001b[1;36m-1.82045773e-02\u001b[0m,  \u001b[1;36m6.45072246e-03\u001b[0m,\n",
       "       \u001b[1;36m-5.12047634e-02\u001b[0m,  \u001b[1;36m5.35726845e-02\u001b[0m, \u001b[1;36m-5.31552732e-02\u001b[0m,  \u001b[1;36m2.76665832e-03\u001b[0m,\n",
       "       \u001b[1;36m-3.48396711e-02\u001b[0m, \u001b[1;36m-1.28425695e-02\u001b[0m, \u001b[1;36m-1.80092584e-02\u001b[0m, \u001b[1;36m-2.29026489e-02\u001b[0m,\n",
       "        \u001b[1;36m4.58910614e-02\u001b[0m,  \u001b[1;36m2.29173861e-02\u001b[0m,  \u001b[1;36m2.25099828e-02\u001b[0m,  \u001b[1;36m5.52725010e-02\u001b[0m,\n",
       "        \u001b[1;36m2.96301600e-02\u001b[0m, \u001b[1;36m-9.61857196e-03\u001b[0m, \u001b[1;36m-1.15360046e-04\u001b[0m, \u001b[1;36m-2.04836559e-02\u001b[0m,\n",
       "       \u001b[1;36m-5.97529523e-02\u001b[0m, \u001b[1;36m-3.31123061e-02\u001b[0m, \u001b[1;36m-1.68398879e-02\u001b[0m,  \u001b[1;36m5.59742525e-02\u001b[0m,\n",
       "        \u001b[1;36m4.34544086e-02\u001b[0m, \u001b[1;36m-1.03060447e-01\u001b[0m, \u001b[1;36m-2.36169714e-02\u001b[0m, \u001b[1;36m-5.89062087e-03\u001b[0m,\n",
       "       \u001b[1;36m-6.88845217e-02\u001b[0m, \u001b[1;36m-2.29419488e-02\u001b[0m,  \u001b[1;36m2.27818917e-03\u001b[0m, \u001b[1;36m-1.66133493e-02\u001b[0m,\n",
       "        \u001b[1;36m7.57169165e-03\u001b[0m, \u001b[1;36m-1.38054201e-02\u001b[0m, \u001b[1;36m-5.44165121e-03\u001b[0m,  \u001b[1;36m1.57766696e-02\u001b[0m,\n",
       "        \u001b[1;36m6.21815659e-02\u001b[0m, \u001b[1;36m-7.71509530e-03\u001b[0m,  \u001b[1;36m3.56242694e-02\u001b[0m, \u001b[1;36m-8.37733131e-03\u001b[0m,\n",
       "       \u001b[1;36m-4.72189300e-03\u001b[0m, \u001b[1;36m-7.33623058e-02\u001b[0m, \u001b[1;36m-7.27195218e-02\u001b[0m, \u001b[1;36m-9.11195949e-02\u001b[0m,\n",
       "       \u001b[1;36m-6.61582081e-03\u001b[0m,  \u001b[1;36m4.94386666e-02\u001b[0m, \u001b[1;36m-3.40759493e-02\u001b[0m, \u001b[1;36m-3.86048667e-02\u001b[0m,\n",
       "        \u001b[1;36m2.50481013e-02\u001b[0m, \u001b[1;36m-1.37743615e-02\u001b[0m,  \u001b[1;36m2.61266176e-02\u001b[0m,  \u001b[1;36m1.92103125e-02\u001b[0m,\n",
       "       \u001b[1;36m-5.63198514e-03\u001b[0m, \u001b[1;36m-7.35356733e-02\u001b[0m,  \u001b[1;36m2.19636597e-02\u001b[0m, \u001b[1;36m-2.64104847e-02\u001b[0m,\n",
       "        \u001b[1;36m1.31724998e-01\u001b[0m,  \u001b[1;36m2.08567344e-02\u001b[0m, \u001b[1;36m-8.08987319e-02\u001b[0m,  \u001b[1;36m4.44578938e-03\u001b[0m,\n",
       "        \u001b[1;36m7.32471282e-03\u001b[0m,  \u001b[1;36m4.33451012e-02\u001b[0m,  \u001b[1;36m2.01865677e-02\u001b[0m, \u001b[1;36m-2.47319136e-02\u001b[0m,\n",
       "       \u001b[1;36m-1.38191776e-02\u001b[0m,  \u001b[1;36m7.01132864e-02\u001b[0m,  \u001b[1;36m8.05389043e-03\u001b[0m,  \u001b[1;36m1.43697374e-02\u001b[0m,\n",
       "       \u001b[1;36m-4.59568799e-02\u001b[0m, \u001b[1;36m-5.13289636e-03\u001b[0m, \u001b[1;36m-3.29643637e-02\u001b[0m, \u001b[1;36m-2.43084226e-02\u001b[0m,\n",
       "        \u001b[1;36m1.00730015e-02\u001b[0m,  \u001b[1;36m8.00301731e-02\u001b[0m, \u001b[1;36m-2.46462002e-02\u001b[0m, \u001b[1;36m-2.32016146e-02\u001b[0m,\n",
       "        \u001b[1;36m8.80044103e-02\u001b[0m, \u001b[1;36m-7.34434798e-02\u001b[0m,  \u001b[1;36m9.53080039e-03\u001b[0m, \u001b[1;36m-5.51798207e-33\u001b[0m,\n",
       "        \u001b[1;36m6.67391717e-02\u001b[0m, \u001b[1;36m-8.99631009e-02\u001b[0m, \u001b[1;36m-6.39788210e-02\u001b[0m, \u001b[1;36m-4.10474762e-02\u001b[0m,\n",
       "        \u001b[1;36m2.60285083e-02\u001b[0m, \u001b[1;36m-1.71097405e-02\u001b[0m,  \u001b[1;36m7.28479400e-03\u001b[0m,  \u001b[1;36m7.89155625e-03\u001b[0m,\n",
       "        \u001b[1;36m3.16862017e-02\u001b[0m,  \u001b[1;36m6.22459641e-03\u001b[0m, \u001b[1;36m-3.96656319e-02\u001b[0m,  \u001b[1;36m8.47623721e-02\u001b[0m,\n",
       "       \u001b[1;36m-4.32999048e-04\u001b[0m, \u001b[1;36m-1.22053288e-01\u001b[0m,  \u001b[1;36m9.50080827e-02\u001b[0m, \u001b[1;36m-2.76546031e-02\u001b[0m,\n",
       "        \u001b[1;36m2.67648064e-02\u001b[0m, \u001b[1;36m-3.20277251e-02\u001b[0m,  \u001b[1;36m8.78301561e-02\u001b[0m,  \u001b[1;36m4.40087207e-02\u001b[0m,\n",
       "       \u001b[1;36m-1.33216437e-02\u001b[0m,  \u001b[1;36m7.61411563e-02\u001b[0m,  \u001b[1;36m6.68609738e-02\u001b[0m,  \u001b[1;36m6.21849410e-02\u001b[0m,\n",
       "        \u001b[1;36m4.16374058e-02\u001b[0m,  \u001b[1;36m5.30747836e-03\u001b[0m, \u001b[1;36m-2.84969024e-02\u001b[0m, \u001b[1;36m-7.92078599e-02\u001b[0m,\n",
       "       \u001b[1;36m-7.50016272e-02\u001b[0m, \u001b[1;36m-4.21432517e-02\u001b[0m,  \u001b[1;36m7.64279217e-02\u001b[0m, \u001b[1;36m-9.42026749e-02\u001b[0m,\n",
       "       \u001b[1;36m-2.36884039e-02\u001b[0m,  \u001b[1;36m7.31200054e-02\u001b[0m,  \u001b[1;36m3.73845622e-02\u001b[0m,  \u001b[1;36m3.13345715e-03\u001b[0m,\n",
       "       \u001b[1;36m-7.00921938e-03\u001b[0m, \u001b[1;36m-5.84262572e-02\u001b[0m,  \u001b[1;36m4.34534699e-02\u001b[0m, \u001b[1;36m-1.55279301e-02\u001b[0m,\n",
       "        \u001b[1;36m8.30216706e-02\u001b[0m, \u001b[1;36m-8.67197588e-02\u001b[0m,  \u001b[1;36m1.93145666e-02\u001b[0m, \u001b[1;36m-6.86870217e-02\u001b[0m,\n",
       "       \u001b[1;36m-1.71579327e-02\u001b[0m, \u001b[1;36m-4.59659733e-02\u001b[0m, \u001b[1;36m-6.00139312e-02\u001b[0m, \u001b[1;36m-1.61339119e-02\u001b[0m,\n",
       "       \u001b[1;36m-4.52781916e-02\u001b[0m, \u001b[1;36m-4.90354449e-02\u001b[0m,  \u001b[1;36m9.49769244e-02\u001b[0m,  \u001b[1;36m6.90665692e-02\u001b[0m,\n",
       "        \u001b[1;36m1.16112819e-02\u001b[0m,  \u001b[1;36m1.89545024e-02\u001b[0m,  \u001b[1;36m5.50991893e-02\u001b[0m,  \u001b[1;36m2.47586947e-02\u001b[0m,\n",
       "        \u001b[1;36m5.46792671e-02\u001b[0m, \u001b[1;36m-2.11137608e-02\u001b[0m, \u001b[1;36m-1.58346724e-02\u001b[0m,  \u001b[1;36m4.82045002e-02\u001b[0m,\n",
       "        \u001b[1;36m2.42203046e-02\u001b[0m, \u001b[1;36m-2.96652131e-02\u001b[0m,  \u001b[1;36m3.70465741e-02\u001b[0m, \u001b[1;36m-1.28934279e-01\u001b[0m,\n",
       "        \u001b[1;36m3.76302712e-02\u001b[0m, \u001b[1;36m-6.83029741e-02\u001b[0m,  \u001b[1;36m6.02344275e-02\u001b[0m,  \u001b[1;36m9.30509567e-02\u001b[0m,\n",
       "       \u001b[1;36m-5.75887412e-02\u001b[0m, \u001b[1;36m-9.55608953e-03\u001b[0m,  \u001b[1;36m8.76331478e-02\u001b[0m,  \u001b[1;36m7.40666990e-04\u001b[0m,\n",
       "        \u001b[1;36m1.05235621e-01\u001b[0m, \u001b[1;36m-7.96228871e-02\u001b[0m,  \u001b[1;36m2.33249050e-02\u001b[0m, \u001b[1;36m-1.55287990e-02\u001b[0m,\n",
       "        \u001b[1;36m3.85891423e-02\u001b[0m, \u001b[1;36m-1.05712786e-01\u001b[0m,  \u001b[1;36m8.39892998e-02\u001b[0m, \u001b[1;36m-1.91817747e-03\u001b[0m,\n",
       "        \u001b[1;36m1.38400858e-02\u001b[0m,  \u001b[1;36m6.37766859e-03\u001b[0m, \u001b[1;36m-2.96299420e-02\u001b[0m,  \u001b[1;36m4.03881632e-02\u001b[0m,\n",
       "       \u001b[1;36m-1.15844749e-01\u001b[0m,  \u001b[1;36m4.94121462e-02\u001b[0m,  \u001b[1;36m3.13218385e-02\u001b[0m,  \u001b[1;36m5.68210110e-02\u001b[0m,\n",
       "       \u001b[1;36m-4.65461202e-02\u001b[0m,  \u001b[1;36m3.63881141e-02\u001b[0m, \u001b[1;36m-7.68799186e-02\u001b[0m,  \u001b[1;36m6.37153238e-02\u001b[0m,\n",
       "       \u001b[1;36m-3.95113565e-02\u001b[0m, \u001b[1;36m-5.55347018e-02\u001b[0m,  \u001b[1;36m1.29047662e-01\u001b[0m,  \u001b[1;36m1.72900470e-33\u001b[0m,\n",
       "       \u001b[1;36m-9.37649235e-03\u001b[0m,  \u001b[1;36m1.31166335e-02\u001b[0m,  \u001b[1;36m8.39728769e-03\u001b[0m, \u001b[1;36m-1.10704927e-02\u001b[0m,\n",
       "       \u001b[1;36m-8.88169706e-02\u001b[0m,  \u001b[1;36m9.47584733e-02\u001b[0m, \u001b[1;36m-1.80842839e-02\u001b[0m,  \u001b[1;36m3.43667343e-02\u001b[0m,\n",
       "        \u001b[1;36m3.55610698e-02\u001b[0m,  \u001b[1;36m5.19114733e-02\u001b[0m, \u001b[1;36m-5.11152111e-02\u001b[0m,  \u001b[1;36m5.75074106e-02\u001b[0m,\n",
       "       \u001b[1;36m-1.23269819e-02\u001b[0m, \u001b[1;36m-1.08087640e-02\u001b[0m,  \u001b[1;36m3.69170867e-02\u001b[0m, \u001b[1;36m-3.11612356e-02\u001b[0m,\n",
       "        \u001b[1;36m1.42869279e-02\u001b[0m,  \u001b[1;36m8.80501643e-02\u001b[0m,  \u001b[1;36m8.98826122e-02\u001b[0m, \u001b[1;36m-1.03087723e-01\u001b[0m,\n",
       "       \u001b[1;36m-4.59086113e-02\u001b[0m,  \u001b[1;36m8.56980830e-02\u001b[0m,  \u001b[1;36m7.05874898e-03\u001b[0m, \u001b[1;36m-1.22562656e-02\u001b[0m,\n",
       "        \u001b[1;36m7.78391138e-02\u001b[0m,  \u001b[1;36m2.05062694e-04\u001b[0m,  \u001b[1;36m4.45738323e-02\u001b[0m,  \u001b[1;36m4.41809632e-02\u001b[0m,\n",
       "       \u001b[1;36m-3.99722941e-02\u001b[0m, \u001b[1;36m-5.93314692e-03\u001b[0m,  \u001b[1;36m4.33919877e-02\u001b[0m,  \u001b[1;36m2.82947402e-02\u001b[0m,\n",
       "        \u001b[1;36m4.01344746e-02\u001b[0m, \u001b[1;36m-6.95960745e-02\u001b[0m,  \u001b[1;36m1.91935468e-02\u001b[0m,  \u001b[1;36m5.42403106e-03\u001b[0m,\n",
       "       \u001b[1;36m-1.90091021e-02\u001b[0m, \u001b[1;36m-9.27012786e-02\u001b[0m, \u001b[1;36m-5.26437983e-02\u001b[0m, \u001b[1;36m-7.76257440e-02\u001b[0m,\n",
       "        \u001b[1;36m3.13077942e-02\u001b[0m, \u001b[1;36m-3.81089039e-02\u001b[0m, \u001b[1;36m-9.82504617e-03\u001b[0m,  \u001b[1;36m2.38694288e-02\u001b[0m,\n",
       "        \u001b[1;36m4.67698351e-02\u001b[0m,  \u001b[1;36m7.57059688e-03\u001b[0m, \u001b[1;36m-1.08822556e-02\u001b[0m, \u001b[1;36m-1.52950129e-02\u001b[0m,\n",
       "        \u001b[1;36m6.71099275e-02\u001b[0m, \u001b[1;36m-6.25166446e-02\u001b[0m,  \u001b[1;36m4.77440655e-02\u001b[0m,  \u001b[1;36m1.04817431e-02\u001b[0m,\n",
       "       \u001b[1;36m-1.19245082e-01\u001b[0m, \u001b[1;36m-7.16586411e-02\u001b[0m, \u001b[1;36m-3.44640166e-02\u001b[0m, \u001b[1;36m-3.57010290e-02\u001b[0m,\n",
       "       \u001b[1;36m-1.87617000e-02\u001b[0m,  \u001b[1;36m1.41297840e-02\u001b[0m,  \u001b[1;36m6.92301691e-02\u001b[0m, \u001b[1;36m-1.06620707e-01\u001b[0m,\n",
       "        \u001b[1;36m6.45303354e-02\u001b[0m,  \u001b[1;36m1.46213192e-02\u001b[0m, \u001b[1;36m-2.03517247e-02\u001b[0m,  \u001b[1;36m1.14549557e-02\u001b[0m,\n",
       "       \u001b[1;36m-7.86500052e-02\u001b[0m, \u001b[1;36m-2.97102910e-02\u001b[0m, \u001b[1;36m-6.20147325e-02\u001b[0m, \u001b[1;36m-4.79275361e-02\u001b[0m,\n",
       "        \u001b[1;36m1.00678548e-01\u001b[0m,  \u001b[1;36m2.25293245e-02\u001b[0m,  \u001b[1;36m2.29818057e-02\u001b[0m,  \u001b[1;36m1.13575220e-01\u001b[0m,\n",
       "        \u001b[1;36m3.97218913e-02\u001b[0m, \u001b[1;36m-1.23617321e-01\u001b[0m,  \u001b[1;36m3.69850993e-02\u001b[0m,  \u001b[1;36m4.37471606e-02\u001b[0m,\n",
       "        \u001b[1;36m2.26463359e-02\u001b[0m, \u001b[1;36m-3.53217055e-03\u001b[0m,  \u001b[1;36m5.63670881e-02\u001b[0m,  \u001b[1;36m7.82295503e-03\u001b[0m,\n",
       "       \u001b[1;36m-1.47569655e-02\u001b[0m,  \u001b[1;36m3.73702832e-02\u001b[0m,  \u001b[1;36m6.09354582e-03\u001b[0m,  \u001b[1;36m1.37363955e-01\u001b[0m,\n",
       "       \u001b[1;36m-4.19504121e-02\u001b[0m,  \u001b[1;36m2.67913658e-02\u001b[0m,  \u001b[1;36m4.65977751e-02\u001b[0m,  \u001b[1;36m1.49534652e-02\u001b[0m,\n",
       "       \u001b[1;36m-2.26298757e-02\u001b[0m, \u001b[1;36m-6.12494582e-03\u001b[0m,  \u001b[1;36m3.68085727e-02\u001b[0m,  \u001b[1;36m9.14621353e-02\u001b[0m,\n",
       "        \u001b[1;36m3.68302464e-02\u001b[0m,  \u001b[1;36m4.94275987e-02\u001b[0m, \u001b[1;36m-3.33274119e-02\u001b[0m, \u001b[1;36m-1.39485952e-08\u001b[0m,\n",
       "        \u001b[1;36m2.48132013e-02\u001b[0m,  \u001b[1;36m4.64657098e-02\u001b[0m, \u001b[1;36m-3.34487259e-02\u001b[0m,  \u001b[1;36m3.20344009e-02\u001b[0m,\n",
       "        \u001b[1;36m7.19079573e-04\u001b[0m,  \u001b[1;36m6.69205487e-02\u001b[0m, \u001b[1;36m-9.02818665e-02\u001b[0m, \u001b[1;36m-1.02831222e-01\u001b[0m,\n",
       "       \u001b[1;36m-1.29709262e-02\u001b[0m, \u001b[1;36m-3.36500928e-02\u001b[0m,  \u001b[1;36m8.48921090e-02\u001b[0m, \u001b[1;36m-3.30889300e-02\u001b[0m,\n",
       "        \u001b[1;36m1.46891354e-02\u001b[0m,  \u001b[1;36m2.31375843e-02\u001b[0m, \u001b[1;36m-1.58142652e-02\u001b[0m,  \u001b[1;36m3.08822952e-02\u001b[0m,\n",
       "        \u001b[1;36m2.12722775e-02\u001b[0m, \u001b[1;36m-1.27829928e-02\u001b[0m,  \u001b[1;36m2.31715105e-02\u001b[0m,  \u001b[1;36m4.15336601e-02\u001b[0m,\n",
       "       \u001b[1;36m-1.07557610e-01\u001b[0m,  \u001b[1;36m9.24243405e-03\u001b[0m, \u001b[1;36m-2.10333597e-02\u001b[0m,  \u001b[1;36m4.27723303e-03\u001b[0m,\n",
       "       \u001b[1;36m-7.69797340e-02\u001b[0m,  \u001b[1;36m2.01058518e-02\u001b[0m,  \u001b[1;36m5.04121818e-02\u001b[0m, \u001b[1;36m-9.04768333e-02\u001b[0m,\n",
       "        \u001b[1;36m4.68120575e-02\u001b[0m,  \u001b[1;36m5.53894714e-02\u001b[0m, \u001b[1;36m-1.25722140e-01\u001b[0m, \u001b[1;36m-2.12025233e-02\u001b[0m,\n",
       "        \u001b[1;36m6.18944019e-02\u001b[0m, \u001b[1;36m-2.81211101e-02\u001b[0m,  \u001b[1;36m9.63960066e-02\u001b[0m, \u001b[1;36m-1.03522889e-01\u001b[0m,\n",
       "        \u001b[1;36m5.23934998e-02\u001b[0m, \u001b[1;36m-2.48904619e-03\u001b[0m, \u001b[1;36m-9.74326674e-03\u001b[0m,  \u001b[1;36m1.55659311e-03\u001b[0m,\n",
       "       \u001b[1;36m-3.90002839e-02\u001b[0m,  \u001b[1;36m1.09630115e-01\u001b[0m,  \u001b[1;36m1.44026848e-02\u001b[0m, \u001b[1;36m-2.57468894e-02\u001b[0m,\n",
       "        \u001b[1;36m3.90905701e-03\u001b[0m,  \u001b[1;36m1.82375889e-02\u001b[0m,  \u001b[1;36m2.77421344e-03\u001b[0m, \u001b[1;36m-6.54181000e-03\u001b[0m,\n",
       "        \u001b[1;36m8.79083760e-03\u001b[0m,  \u001b[1;36m1.50032090e-02\u001b[0m, \u001b[1;36m-1.13661028e-01\u001b[0m,  \u001b[1;36m2.58690324e-02\u001b[0m,\n",
       "       \u001b[1;36m-4.64200601e-02\u001b[0m,  \u001b[1;36m1.33450585e-03\u001b[0m, \u001b[1;36m-7.35048726e-02\u001b[0m,  \u001b[1;36m2.18761787e-02\u001b[0m,\n",
       "       \u001b[1;36m-7.82778785e-02\u001b[0m, \u001b[1;36m-6.21260367e-02\u001b[0m, \u001b[1;36m-5.73859736e-02\u001b[0m,  \u001b[1;36m5.89579716e-02\u001b[0m,\n",
       "       \u001b[1;36m-4.82583083e-02\u001b[0m, \u001b[1;36m-6.70395745e-03\u001b[0m, \u001b[1;36m-2.79505514e-02\u001b[0m,  \u001b[1;36m4.49423641e-02\u001b[0m\u001b[1m]\u001b[0m,\n",
       "      \u001b[33mdtype\u001b[0m=\u001b[35mfloat32\u001b[0m\u001b[1m)\u001b[0m,\n",
       "    \u001b[32m'doc_scores'\u001b[0m: \u001b[1;35marray\u001b[0m\u001b[1m(\u001b[0m\u001b[1m[\u001b[0m \u001b[1;36m0.01727992\u001b[0m,  \u001b[1;36m0.02189344\u001b[0m,  \u001b[1;36m0.27025807\u001b[0m, \u001b[33m...\u001b[0m,  \u001b[1;36m0.24720877\u001b[0m,\n",
       "       \u001b[1;36m-0.05754334\u001b[0m,  \u001b[1;36m0.12901495\u001b[0m\u001b[1m]\u001b[0m, \u001b[33mdtype\u001b[0m=\u001b[35mfloat32\u001b[0m\u001b[1m)\u001b[0m,\n",
       "    \u001b[32m'top_items'\u001b[0m: \u001b[1;35marray\u001b[0m\u001b[1m(\u001b[0m\u001b[1m[\u001b[0m\u001b[1;36m19397\u001b[0m, \u001b[1;36m13729\u001b[0m, \u001b[1;36m19988\u001b[0m,  \u001b[1;36m1975\u001b[0m, \u001b[1;36m10635\u001b[0m\u001b[1m]\u001b[0m\u001b[1m)\u001b[0m\n",
       "\u001b[1m}\u001b[0m\n"
      ]
     },
     "metadata": {},
     "output_type": "display_data"
    },
    {
     "data": {
      "text/html": [
       "<h1>Query: Two dogs playing in the snow </h1>"
      ],
      "text/plain": [
       "<IPython.core.display.HTML object>"
      ]
     },
     "metadata": {},
     "output_type": "display_data"
    },
    {
     "data": {
      "text/html": [
       "<img src=\"https://images.unsplash.com/photo-1577366761509-937637f02454?w=200\"/>"
      ],
      "text/plain": [
       "<IPython.core.display.Image object>"
      ]
     },
     "metadata": {},
     "output_type": "display_data"
    },
    {
     "data": {
      "text/html": [
       "\n",
       "                     Photo title: brown and black dogs running on snow   <br/>\n",
       "                     Photo by <a href=\"https://unsplash.com/@lukavovk?utm_source=NaturalLanguageImageSearch&utm_medium=referral\">Luka Vovk</a> on <a href=\"https://unsplash.com/?utm_source=SearchWorkshop&utm_medium=referral\">Unsplash</a> <br/>\n",
       "                     Distance: 0.7353920340538025\n",
       "                     "
      ],
      "text/plain": [
       "<IPython.core.display.HTML object>"
      ]
     },
     "metadata": {},
     "output_type": "display_data"
    },
    {
     "name": "stdout",
     "output_type": "stream",
     "text": [
      "\n"
     ]
    },
    {
     "data": {
      "text/html": [
       "<img src=\"https://images.unsplash.com/photo-1547919485-0d563136eae3?w=200\"/>"
      ],
      "text/plain": [
       "<IPython.core.display.Image object>"
      ]
     },
     "metadata": {},
     "output_type": "display_data"
    },
    {
     "data": {
      "text/html": [
       "\n",
       "                     Photo title: white and black dog on snow   <br/>\n",
       "                     Photo by <a href=\"https://unsplash.com/@evanthewise?utm_source=NaturalLanguageImageSearch&utm_medium=referral\">Evan Wise</a> on <a href=\"https://unsplash.com/?utm_source=SearchWorkshop&utm_medium=referral\">Unsplash</a> <br/>\n",
       "                     Distance: 0.6821315884590149\n",
       "                     "
      ],
      "text/plain": [
       "<IPython.core.display.HTML object>"
      ]
     },
     "metadata": {},
     "output_type": "display_data"
    },
    {
     "name": "stdout",
     "output_type": "stream",
     "text": [
      "\n"
     ]
    },
    {
     "data": {
      "text/html": [
       "<img src=\"https://images.unsplash.com/photo-1545080511-0a837d1e2ac4?w=200\"/>"
      ],
      "text/plain": [
       "<IPython.core.display.Image object>"
      ]
     },
     "metadata": {},
     "output_type": "display_data"
    },
    {
     "data": {
      "text/html": [
       "\n",
       "                     Photo title: Dog in snow   <br/>\n",
       "                     Photo by <a href=\"https://unsplash.com/@christianw?utm_source=NaturalLanguageImageSearch&utm_medium=referral\">Christian Wiediger</a> on <a href=\"https://unsplash.com/?utm_source=SearchWorkshop&utm_medium=referral\">Unsplash</a> <br/>\n",
       "                     Distance: 0.6610191464424133\n",
       "                     "
      ],
      "text/plain": [
       "<IPython.core.display.HTML object>"
      ]
     },
     "metadata": {},
     "output_type": "display_data"
    },
    {
     "name": "stdout",
     "output_type": "stream",
     "text": [
      "\n"
     ]
    },
    {
     "data": {
      "text/html": [
       "<img src=\"https://images.unsplash.com/photo-1546717689-5955401cd6b2?w=200\"/>"
      ],
      "text/plain": [
       "<IPython.core.display.Image object>"
      ]
     },
     "metadata": {},
     "output_type": "display_data"
    },
    {
     "data": {
      "text/html": [
       "\n",
       "                     Photo title: tan dog playing on snow   <br/>\n",
       "                     Photo by <a href=\"https://unsplash.com/@hitterphoto?utm_source=NaturalLanguageImageSearch&utm_medium=referral\">Hitter Rudolf</a> on <a href=\"https://unsplash.com/?utm_source=SearchWorkshop&utm_medium=referral\">Unsplash</a> <br/>\n",
       "                     Distance: 0.6460987329483032\n",
       "                     "
      ],
      "text/plain": [
       "<IPython.core.display.HTML object>"
      ]
     },
     "metadata": {},
     "output_type": "display_data"
    },
    {
     "name": "stdout",
     "output_type": "stream",
     "text": [
      "\n"
     ]
    },
    {
     "data": {
      "text/html": [
       "<img src=\"https://images.unsplash.com/photo-1547494912-c69d3ad40e7f?w=200\"/>"
      ],
      "text/plain": [
       "<IPython.core.display.Image object>"
      ]
     },
     "metadata": {},
     "output_type": "display_data"
    },
    {
     "data": {
      "text/html": [
       "\n",
       "                     Photo title: white and black dog on snow field   <br/>\n",
       "                     Photo by <a href=\"https://unsplash.com/@tadekl?utm_source=NaturalLanguageImageSearch&utm_medium=referral\">Tadeusz Lakota</a> on <a href=\"https://unsplash.com/?utm_source=SearchWorkshop&utm_medium=referral\">Unsplash</a> <br/>\n",
       "                     Distance: 0.6322718858718872\n",
       "                     "
      ],
      "text/plain": [
       "<IPython.core.display.HTML object>"
      ]
     },
     "metadata": {},
     "output_type": "display_data"
    },
    {
     "name": "stdout",
     "output_type": "stream",
     "text": [
      "\n"
     ]
    }
   ],
   "source": [
    "find_results( \"Two dogs playing in the snow\")"
   ]
  },
  {
   "cell_type": "code",
   "execution_count": null,
   "id": "50fd5b84-1f6c-4ea6-935b-54d65fe48750",
   "metadata": {},
   "outputs": [],
   "source": []
  },
  {
   "cell_type": "code",
   "execution_count": null,
   "id": "47f542ed-a26f-4dee-b998-ea6ad8d6aac9",
   "metadata": {},
   "outputs": [],
   "source": []
  },
  {
   "cell_type": "code",
   "execution_count": 21,
   "id": "e4135300-f814-4995-b22c-bc83138bfac0",
   "metadata": {},
   "outputs": [
    {
     "data": {
      "text/html": [
       "<pre style=\"white-space:pre;overflow-x:auto;line-height:normal;font-family:Menlo,'DejaVu Sans Mono',consolas,'Courier New',monospace\"><span style=\"font-weight: bold\">{</span>\n",
       "    <span style=\"color: #008000; text-decoration-color: #008000\">'query_original'</span>: <span style=\"color: #008000; text-decoration-color: #008000\">'boy and girl on a beach'</span>,\n",
       "    <span style=\"color: #008000; text-decoration-color: #008000\">'query_processed'</span>: <span style=\"color: #800080; text-decoration-color: #800080; font-weight: bold\">array</span><span style=\"font-weight: bold\">([</span><span style=\"color: #008080; text-decoration-color: #008080; font-weight: bold\">-4.07104753e-02</span>,  <span style=\"color: #008080; text-decoration-color: #008080; font-weight: bold\">4.79862355e-02</span>,  <span style=\"color: #008080; text-decoration-color: #008080; font-weight: bold\">2.29214653e-02</span>, <span style=\"color: #008080; text-decoration-color: #008080; font-weight: bold\">-4.88387793e-02</span>,\n",
       "        <span style=\"color: #008080; text-decoration-color: #008080; font-weight: bold\">2.43954528e-02</span>, <span style=\"color: #008080; text-decoration-color: #008080; font-weight: bold\">-2.38477904e-02</span>,  <span style=\"color: #008080; text-decoration-color: #008080; font-weight: bold\">3.11611686e-02</span>, <span style=\"color: #008080; text-decoration-color: #008080; font-weight: bold\">-1.36817796e-02</span>,\n",
       "        <span style=\"color: #008080; text-decoration-color: #008080; font-weight: bold\">4.65978794e-02</span>, <span style=\"color: #008080; text-decoration-color: #008080; font-weight: bold\">-9.23146363e-05</span>,  <span style=\"color: #008080; text-decoration-color: #008080; font-weight: bold\">1.02531508e-01</span>, <span style=\"color: #008080; text-decoration-color: #008080; font-weight: bold\">-9.68877226e-02</span>,\n",
       "        <span style=\"color: #008080; text-decoration-color: #008080; font-weight: bold\">5.65099232e-02</span>,  <span style=\"color: #008080; text-decoration-color: #008080; font-weight: bold\">3.85042578e-02</span>,  <span style=\"color: #008080; text-decoration-color: #008080; font-weight: bold\">7.72961676e-02</span>,  <span style=\"color: #008080; text-decoration-color: #008080; font-weight: bold\">7.91627914e-02</span>,\n",
       "        <span style=\"color: #008080; text-decoration-color: #008080; font-weight: bold\">1.92165114e-02</span>, <span style=\"color: #008080; text-decoration-color: #008080; font-weight: bold\">-1.42192829e-03</span>, <span style=\"color: #008080; text-decoration-color: #008080; font-weight: bold\">-4.85068150e-02</span>, <span style=\"color: #008080; text-decoration-color: #008080; font-weight: bold\">-2.43043993e-02</span>,\n",
       "       <span style=\"color: #008080; text-decoration-color: #008080; font-weight: bold\">-9.99627635e-02</span>,  <span style=\"color: #008080; text-decoration-color: #008080; font-weight: bold\">4.58659651e-03</span>, <span style=\"color: #008080; text-decoration-color: #008080; font-weight: bold\">-7.73032233e-02</span>,  <span style=\"color: #008080; text-decoration-color: #008080; font-weight: bold\">1.18157025e-02</span>,\n",
       "       <span style=\"color: #008080; text-decoration-color: #008080; font-weight: bold\">-6.53491542e-02</span>,  <span style=\"color: #008080; text-decoration-color: #008080; font-weight: bold\">4.79752533e-02</span>,  <span style=\"color: #008080; text-decoration-color: #008080; font-weight: bold\">7.68425316e-02</span>, <span style=\"color: #008080; text-decoration-color: #008080; font-weight: bold\">-1.17027899e-02</span>,\n",
       "       <span style=\"color: #008080; text-decoration-color: #008080; font-weight: bold\">-7.49083757e-02</span>,  <span style=\"color: #008080; text-decoration-color: #008080; font-weight: bold\">4.83290516e-02</span>,  <span style=\"color: #008080; text-decoration-color: #008080; font-weight: bold\">3.65568027e-02</span>, <span style=\"color: #008080; text-decoration-color: #008080; font-weight: bold\">-3.88130769e-02</span>,\n",
       "       <span style=\"color: #008080; text-decoration-color: #008080; font-weight: bold\">-5.47474343e-03</span>, <span style=\"color: #008080; text-decoration-color: #008080; font-weight: bold\">-2.54936460e-02</span>,  <span style=\"color: #008080; text-decoration-color: #008080; font-weight: bold\">7.50967825e-04</span>,  <span style=\"color: #008080; text-decoration-color: #008080; font-weight: bold\">4.39735502e-02</span>,\n",
       "       <span style=\"color: #008080; text-decoration-color: #008080; font-weight: bold\">-5.32944538e-02</span>, <span style=\"color: #008080; text-decoration-color: #008080; font-weight: bold\">-6.88708499e-02</span>, <span style=\"color: #008080; text-decoration-color: #008080; font-weight: bold\">-2.03870647e-02</span>, <span style=\"color: #008080; text-decoration-color: #008080; font-weight: bold\">-5.97221740e-02</span>,\n",
       "       <span style=\"color: #008080; text-decoration-color: #008080; font-weight: bold\">-9.35861841e-02</span>, <span style=\"color: #008080; text-decoration-color: #008080; font-weight: bold\">-2.68354267e-02</span>,  <span style=\"color: #008080; text-decoration-color: #008080; font-weight: bold\">6.48142828e-04</span>,  <span style=\"color: #008080; text-decoration-color: #008080; font-weight: bold\">9.61101893e-03</span>,\n",
       "       <span style=\"color: #008080; text-decoration-color: #008080; font-weight: bold\">-2.36955136e-02</span>, <span style=\"color: #008080; text-decoration-color: #008080; font-weight: bold\">-6.07894473e-02</span>,  <span style=\"color: #008080; text-decoration-color: #008080; font-weight: bold\">9.62193087e-02</span>,  <span style=\"color: #008080; text-decoration-color: #008080; font-weight: bold\">4.55094837e-02</span>,\n",
       "        <span style=\"color: #008080; text-decoration-color: #008080; font-weight: bold\">8.98922458e-02</span>,  <span style=\"color: #008080; text-decoration-color: #008080; font-weight: bold\">3.65537964e-02</span>, <span style=\"color: #008080; text-decoration-color: #008080; font-weight: bold\">-3.67548363e-03</span>, <span style=\"color: #008080; text-decoration-color: #008080; font-weight: bold\">-8.01947713e-02</span>,\n",
       "       <span style=\"color: #008080; text-decoration-color: #008080; font-weight: bold\">-7.77877420e-02</span>,  <span style=\"color: #008080; text-decoration-color: #008080; font-weight: bold\">5.63851148e-02</span>, <span style=\"color: #008080; text-decoration-color: #008080; font-weight: bold\">-6.62852749e-02</span>, <span style=\"color: #008080; text-decoration-color: #008080; font-weight: bold\">-5.95939055e-04</span>,\n",
       "       <span style=\"color: #008080; text-decoration-color: #008080; font-weight: bold\">-6.77137375e-02</span>, <span style=\"color: #008080; text-decoration-color: #008080; font-weight: bold\">-6.88764304e-02</span>,  <span style=\"color: #008080; text-decoration-color: #008080; font-weight: bold\">5.58785610e-02</span>,  <span style=\"color: #008080; text-decoration-color: #008080; font-weight: bold\">3.94712426e-02</span>,\n",
       "       <span style=\"color: #008080; text-decoration-color: #008080; font-weight: bold\">-1.03117786e-02</span>,  <span style=\"color: #008080; text-decoration-color: #008080; font-weight: bold\">6.33546710e-02</span>,  <span style=\"color: #008080; text-decoration-color: #008080; font-weight: bold\">4.76702722e-03</span>,  <span style=\"color: #008080; text-decoration-color: #008080; font-weight: bold\">1.48585262e-02</span>,\n",
       "        <span style=\"color: #008080; text-decoration-color: #008080; font-weight: bold\">6.33022860e-02</span>,  <span style=\"color: #008080; text-decoration-color: #008080; font-weight: bold\">2.51070447e-02</span>,  <span style=\"color: #008080; text-decoration-color: #008080; font-weight: bold\">2.42034905e-02</span>, <span style=\"color: #008080; text-decoration-color: #008080; font-weight: bold\">-4.33537513e-02</span>,\n",
       "        <span style=\"color: #008080; text-decoration-color: #008080; font-weight: bold\">1.12408539e-02</span>,  <span style=\"color: #008080; text-decoration-color: #008080; font-weight: bold\">2.39848606e-02</span>, <span style=\"color: #008080; text-decoration-color: #008080; font-weight: bold\">-3.95492949e-02</span>,  <span style=\"color: #008080; text-decoration-color: #008080; font-weight: bold\">3.48774903e-02</span>,\n",
       "        <span style=\"color: #008080; text-decoration-color: #008080; font-weight: bold\">4.42005880e-02</span>,  <span style=\"color: #008080; text-decoration-color: #008080; font-weight: bold\">3.65096368e-02</span>, <span style=\"color: #008080; text-decoration-color: #008080; font-weight: bold\">-6.26903400e-02</span>,  <span style=\"color: #008080; text-decoration-color: #008080; font-weight: bold\">9.37430281e-03</span>,\n",
       "       <span style=\"color: #008080; text-decoration-color: #008080; font-weight: bold\">-2.34903116e-02</span>,  <span style=\"color: #008080; text-decoration-color: #008080; font-weight: bold\">6.74278364e-02</span>,  <span style=\"color: #008080; text-decoration-color: #008080; font-weight: bold\">2.77797114e-02</span>, <span style=\"color: #008080; text-decoration-color: #008080; font-weight: bold\">-9.90912020e-02</span>,\n",
       "       <span style=\"color: #008080; text-decoration-color: #008080; font-weight: bold\">-9.37623158e-02</span>, <span style=\"color: #008080; text-decoration-color: #008080; font-weight: bold\">-1.04982391e-01</span>,  <span style=\"color: #008080; text-decoration-color: #008080; font-weight: bold\">1.68256946e-02</span>,  <span style=\"color: #008080; text-decoration-color: #008080; font-weight: bold\">1.95917627e-03</span>,\n",
       "        <span style=\"color: #008080; text-decoration-color: #008080; font-weight: bold\">7.06340233e-03</span>, <span style=\"color: #008080; text-decoration-color: #008080; font-weight: bold\">-2.34424137e-02</span>, <span style=\"color: #008080; text-decoration-color: #008080; font-weight: bold\">-1.62639413e-02</span>,  <span style=\"color: #008080; text-decoration-color: #008080; font-weight: bold\">7.84643833e-03</span>,\n",
       "       <span style=\"color: #008080; text-decoration-color: #008080; font-weight: bold\">-3.76534313e-02</span>,  <span style=\"color: #008080; text-decoration-color: #008080; font-weight: bold\">5.02219982e-03</span>, <span style=\"color: #008080; text-decoration-color: #008080; font-weight: bold\">-9.07532424e-02</span>, <span style=\"color: #008080; text-decoration-color: #008080; font-weight: bold\">-2.25280821e-02</span>,\n",
       "        <span style=\"color: #008080; text-decoration-color: #008080; font-weight: bold\">3.72708589e-02</span>, <span style=\"color: #008080; text-decoration-color: #008080; font-weight: bold\">-1.27724409e-02</span>, <span style=\"color: #008080; text-decoration-color: #008080; font-weight: bold\">-1.90754998e-02</span>, <span style=\"color: #008080; text-decoration-color: #008080; font-weight: bold\">-4.87265773e-02</span>,\n",
       "       <span style=\"color: #008080; text-decoration-color: #008080; font-weight: bold\">-6.75674528e-02</span>, <span style=\"color: #008080; text-decoration-color: #008080; font-weight: bold\">-3.08920965e-02</span>, <span style=\"color: #008080; text-decoration-color: #008080; font-weight: bold\">-3.49576101e-02</span>,  <span style=\"color: #008080; text-decoration-color: #008080; font-weight: bold\">5.04678078e-02</span>,\n",
       "        <span style=\"color: #008080; text-decoration-color: #008080; font-weight: bold\">4.59770393e-03</span>,  <span style=\"color: #008080; text-decoration-color: #008080; font-weight: bold\">1.22856341e-01</span>,  <span style=\"color: #008080; text-decoration-color: #008080; font-weight: bold\">2.11283397e-02</span>,  <span style=\"color: #008080; text-decoration-color: #008080; font-weight: bold\">3.66596505e-02</span>,\n",
       "       <span style=\"color: #008080; text-decoration-color: #008080; font-weight: bold\">-6.05403446e-03</span>, <span style=\"color: #008080; text-decoration-color: #008080; font-weight: bold\">-9.67195537e-03</span>,  <span style=\"color: #008080; text-decoration-color: #008080; font-weight: bold\">2.55508162e-02</span>, <span style=\"color: #008080; text-decoration-color: #008080; font-weight: bold\">-4.37193364e-02</span>,\n",
       "        <span style=\"color: #008080; text-decoration-color: #008080; font-weight: bold\">5.63997850e-02</span>,  <span style=\"color: #008080; text-decoration-color: #008080; font-weight: bold\">2.45086905e-02</span>,  <span style=\"color: #008080; text-decoration-color: #008080; font-weight: bold\">1.04546535e-03</span>,  <span style=\"color: #008080; text-decoration-color: #008080; font-weight: bold\">1.45639889e-02</span>,\n",
       "        <span style=\"color: #008080; text-decoration-color: #008080; font-weight: bold\">2.35099848e-02</span>,  <span style=\"color: #008080; text-decoration-color: #008080; font-weight: bold\">4.33364362e-02</span>, <span style=\"color: #008080; text-decoration-color: #008080; font-weight: bold\">-7.37936199e-02</span>, <span style=\"color: #008080; text-decoration-color: #008080; font-weight: bold\">-3.24158045e-03</span>,\n",
       "        <span style=\"color: #008080; text-decoration-color: #008080; font-weight: bold\">1.17685169e-01</span>, <span style=\"color: #008080; text-decoration-color: #008080; font-weight: bold\">-5.81584238e-02</span>, <span style=\"color: #008080; text-decoration-color: #008080; font-weight: bold\">-7.67244995e-02</span>, <span style=\"color: #008080; text-decoration-color: #008080; font-weight: bold\">-4.78574112e-02</span>,\n",
       "        <span style=\"color: #008080; text-decoration-color: #008080; font-weight: bold\">3.65472287e-02</span>, <span style=\"color: #008080; text-decoration-color: #008080; font-weight: bold\">-7.93343633e-02</span>,  <span style=\"color: #008080; text-decoration-color: #008080; font-weight: bold\">1.47296023e-02</span>, <span style=\"color: #008080; text-decoration-color: #008080; font-weight: bold\">-1.09353801e-02</span>,\n",
       "       <span style=\"color: #008080; text-decoration-color: #008080; font-weight: bold\">-7.76054943e-03</span>, <span style=\"color: #008080; text-decoration-color: #008080; font-weight: bold\">-8.79522637e-02</span>,  <span style=\"color: #008080; text-decoration-color: #008080; font-weight: bold\">2.16943286e-02</span>, <span style=\"color: #008080; text-decoration-color: #008080; font-weight: bold\">-3.39482769e-33</span>,\n",
       "        <span style=\"color: #008080; text-decoration-color: #008080; font-weight: bold\">3.77268307e-02</span>, <span style=\"color: #008080; text-decoration-color: #008080; font-weight: bold\">-7.57371821e-03</span>,  <span style=\"color: #008080; text-decoration-color: #008080; font-weight: bold\">5.71781136e-02</span>,  <span style=\"color: #008080; text-decoration-color: #008080; font-weight: bold\">4.15935926e-02</span>,\n",
       "        <span style=\"color: #008080; text-decoration-color: #008080; font-weight: bold\">1.57682318e-02</span>,  <span style=\"color: #008080; text-decoration-color: #008080; font-weight: bold\">6.73608063e-03</span>,  <span style=\"color: #008080; text-decoration-color: #008080; font-weight: bold\">1.47388363e-02</span>, <span style=\"color: #008080; text-decoration-color: #008080; font-weight: bold\">-4.78137694e-02</span>,\n",
       "       <span style=\"color: #008080; text-decoration-color: #008080; font-weight: bold\">-3.16880457e-02</span>, <span style=\"color: #008080; text-decoration-color: #008080; font-weight: bold\">-4.88858297e-02</span>, <span style=\"color: #008080; text-decoration-color: #008080; font-weight: bold\">-1.14096768e-01</span>, <span style=\"color: #008080; text-decoration-color: #008080; font-weight: bold\">-9.58325639e-02</span>,\n",
       "       <span style=\"color: #008080; text-decoration-color: #008080; font-weight: bold\">-2.90886927e-02</span>, <span style=\"color: #008080; text-decoration-color: #008080; font-weight: bold\">-4.33061942e-02</span>,  <span style=\"color: #008080; text-decoration-color: #008080; font-weight: bold\">1.07437268e-01</span>, <span style=\"color: #008080; text-decoration-color: #008080; font-weight: bold\">-6.02333844e-02</span>,\n",
       "        <span style=\"color: #008080; text-decoration-color: #008080; font-weight: bold\">2.01424584e-02</span>, <span style=\"color: #008080; text-decoration-color: #008080; font-weight: bold\">-5.47444820e-02</span>, <span style=\"color: #008080; text-decoration-color: #008080; font-weight: bold\">-8.73425603e-02</span>,  <span style=\"color: #008080; text-decoration-color: #008080; font-weight: bold\">9.99743268e-02</span>,\n",
       "        <span style=\"color: #008080; text-decoration-color: #008080; font-weight: bold\">3.84692885e-02</span>,  <span style=\"color: #008080; text-decoration-color: #008080; font-weight: bold\">5.23424894e-02</span>, <span style=\"color: #008080; text-decoration-color: #008080; font-weight: bold\">-1.05295582e-02</span>, <span style=\"color: #008080; text-decoration-color: #008080; font-weight: bold\">-3.25250588e-02</span>,\n",
       "       <span style=\"color: #008080; text-decoration-color: #008080; font-weight: bold\">-3.72182956e-04</span>,  <span style=\"color: #008080; text-decoration-color: #008080; font-weight: bold\">2.35905647e-02</span>,  <span style=\"color: #008080; text-decoration-color: #008080; font-weight: bold\">1.16148070e-02</span>,  <span style=\"color: #008080; text-decoration-color: #008080; font-weight: bold\">5.49267083e-02</span>,\n",
       "        <span style=\"color: #008080; text-decoration-color: #008080; font-weight: bold\">1.59943067e-02</span>,  <span style=\"color: #008080; text-decoration-color: #008080; font-weight: bold\">1.17658200e-02</span>,  <span style=\"color: #008080; text-decoration-color: #008080; font-weight: bold\">5.73256873e-02</span>, <span style=\"color: #008080; text-decoration-color: #008080; font-weight: bold\">-4.38547134e-02</span>,\n",
       "        <span style=\"color: #008080; text-decoration-color: #008080; font-weight: bold\">5.54436026e-03</span>,  <span style=\"color: #008080; text-decoration-color: #008080; font-weight: bold\">4.54594456e-02</span>, <span style=\"color: #008080; text-decoration-color: #008080; font-weight: bold\">-4.31809295e-03</span>, <span style=\"color: #008080; text-decoration-color: #008080; font-weight: bold\">-2.07610764e-02</span>,\n",
       "        <span style=\"color: #008080; text-decoration-color: #008080; font-weight: bold\">7.72089064e-02</span>,  <span style=\"color: #008080; text-decoration-color: #008080; font-weight: bold\">6.89690467e-03</span>,  <span style=\"color: #008080; text-decoration-color: #008080; font-weight: bold\">4.05697748e-02</span>,  <span style=\"color: #008080; text-decoration-color: #008080; font-weight: bold\">1.39073851e-02</span>,\n",
       "        <span style=\"color: #008080; text-decoration-color: #008080; font-weight: bold\">3.15449685e-02</span>, <span style=\"color: #008080; text-decoration-color: #008080; font-weight: bold\">-4.53322157e-02</span>, <span style=\"color: #008080; text-decoration-color: #008080; font-weight: bold\">-3.96225788e-03</span>,  <span style=\"color: #008080; text-decoration-color: #008080; font-weight: bold\">2.50627846e-02</span>,\n",
       "       <span style=\"color: #008080; text-decoration-color: #008080; font-weight: bold\">-3.23374383e-02</span>, <span style=\"color: #008080; text-decoration-color: #008080; font-weight: bold\">-5.69311976e-02</span>,  <span style=\"color: #008080; text-decoration-color: #008080; font-weight: bold\">2.09061103e-03</span>,  <span style=\"color: #008080; text-decoration-color: #008080; font-weight: bold\">1.80730801e-02</span>,\n",
       "       <span style=\"color: #008080; text-decoration-color: #008080; font-weight: bold\">-1.88388210e-02</span>, <span style=\"color: #008080; text-decoration-color: #008080; font-weight: bold\">-1.14544496e-01</span>, <span style=\"color: #008080; text-decoration-color: #008080; font-weight: bold\">-3.08165103e-02</span>, <span style=\"color: #008080; text-decoration-color: #008080; font-weight: bold\">-2.04545911e-02</span>,\n",
       "       <span style=\"color: #008080; text-decoration-color: #008080; font-weight: bold\">-6.48095384e-02</span>,  <span style=\"color: #008080; text-decoration-color: #008080; font-weight: bold\">5.24386279e-02</span>,  <span style=\"color: #008080; text-decoration-color: #008080; font-weight: bold\">2.18987887e-04</span>,  <span style=\"color: #008080; text-decoration-color: #008080; font-weight: bold\">5.02021648e-02</span>,\n",
       "        <span style=\"color: #008080; text-decoration-color: #008080; font-weight: bold\">4.24139295e-03</span>, <span style=\"color: #008080; text-decoration-color: #008080; font-weight: bold\">-3.70574147e-02</span>, <span style=\"color: #008080; text-decoration-color: #008080; font-weight: bold\">-1.62888750e-01</span>,  <span style=\"color: #008080; text-decoration-color: #008080; font-weight: bold\">6.86493888e-03</span>,\n",
       "        <span style=\"color: #008080; text-decoration-color: #008080; font-weight: bold\">6.48717061e-02</span>, <span style=\"color: #008080; text-decoration-color: #008080; font-weight: bold\">-2.45465878e-02</span>,  <span style=\"color: #008080; text-decoration-color: #008080; font-weight: bold\">2.60955077e-02</span>, <span style=\"color: #008080; text-decoration-color: #008080; font-weight: bold\">-3.98829430e-02</span>,\n",
       "       <span style=\"color: #008080; text-decoration-color: #008080; font-weight: bold\">-4.38777395e-02</span>,  <span style=\"color: #008080; text-decoration-color: #008080; font-weight: bold\">8.39287043e-02</span>,  <span style=\"color: #008080; text-decoration-color: #008080; font-weight: bold\">1.27761319e-01</span>,  <span style=\"color: #008080; text-decoration-color: #008080; font-weight: bold\">5.83266392e-02</span>,\n",
       "       <span style=\"color: #008080; text-decoration-color: #008080; font-weight: bold\">-2.32847757e-03</span>, <span style=\"color: #008080; text-decoration-color: #008080; font-weight: bold\">-1.12390116e-01</span>, <span style=\"color: #008080; text-decoration-color: #008080; font-weight: bold\">-4.09222506e-02</span>,  <span style=\"color: #008080; text-decoration-color: #008080; font-weight: bold\">1.63831711e-02</span>,\n",
       "        <span style=\"color: #008080; text-decoration-color: #008080; font-weight: bold\">1.19267292e-01</span>, <span style=\"color: #008080; text-decoration-color: #008080; font-weight: bold\">-6.34890236e-03</span>,  <span style=\"color: #008080; text-decoration-color: #008080; font-weight: bold\">1.25049418e-02</span>,  <span style=\"color: #008080; text-decoration-color: #008080; font-weight: bold\">3.41344886e-02</span>,\n",
       "        <span style=\"color: #008080; text-decoration-color: #008080; font-weight: bold\">5.40477373e-02</span>, <span style=\"color: #008080; text-decoration-color: #008080; font-weight: bold\">-1.22568561e-02</span>, <span style=\"color: #008080; text-decoration-color: #008080; font-weight: bold\">-1.32459989e-02</span>,  <span style=\"color: #008080; text-decoration-color: #008080; font-weight: bold\">8.55198726e-02</span>,\n",
       "       <span style=\"color: #008080; text-decoration-color: #008080; font-weight: bold\">-2.82161850e-02</span>,  <span style=\"color: #008080; text-decoration-color: #008080; font-weight: bold\">3.87782604e-02</span>,  <span style=\"color: #008080; text-decoration-color: #008080; font-weight: bold\">4.70840260e-02</span>, <span style=\"color: #008080; text-decoration-color: #008080; font-weight: bold\">-9.65857282e-02</span>,\n",
       "       <span style=\"color: #008080; text-decoration-color: #008080; font-weight: bold\">-1.17331944e-01</span>, <span style=\"color: #008080; text-decoration-color: #008080; font-weight: bold\">-1.40727526e-02</span>, <span style=\"color: #008080; text-decoration-color: #008080; font-weight: bold\">-4.03313013e-03</span>, <span style=\"color: #008080; text-decoration-color: #008080; font-weight: bold\">-4.67664143e-03</span>,\n",
       "       <span style=\"color: #008080; text-decoration-color: #008080; font-weight: bold\">-2.01604478e-02</span>,  <span style=\"color: #008080; text-decoration-color: #008080; font-weight: bold\">7.27789663e-03</span>, <span style=\"color: #008080; text-decoration-color: #008080; font-weight: bold\">-7.00259805e-02</span>,  <span style=\"color: #008080; text-decoration-color: #008080; font-weight: bold\">1.32365644e-01</span>,\n",
       "        <span style=\"color: #008080; text-decoration-color: #008080; font-weight: bold\">3.61819454e-02</span>, <span style=\"color: #008080; text-decoration-color: #008080; font-weight: bold\">-4.15105000e-02</span>,  <span style=\"color: #008080; text-decoration-color: #008080; font-weight: bold\">1.06141483e-02</span>,  <span style=\"color: #008080; text-decoration-color: #008080; font-weight: bold\">1.46840068e-34</span>,\n",
       "       <span style=\"color: #008080; text-decoration-color: #008080; font-weight: bold\">-6.40277565e-02</span>, <span style=\"color: #008080; text-decoration-color: #008080; font-weight: bold\">-7.04520335e-03</span>,  <span style=\"color: #008080; text-decoration-color: #008080; font-weight: bold\">2.25775819e-02</span>, <span style=\"color: #008080; text-decoration-color: #008080; font-weight: bold\">-5.71756624e-02</span>,\n",
       "        <span style=\"color: #008080; text-decoration-color: #008080; font-weight: bold\">6.44717887e-02</span>, <span style=\"color: #008080; text-decoration-color: #008080; font-weight: bold\">-2.24323589e-02</span>,  <span style=\"color: #008080; text-decoration-color: #008080; font-weight: bold\">4.76955771e-02</span>, <span style=\"color: #008080; text-decoration-color: #008080; font-weight: bold\">-2.57228184e-02</span>,\n",
       "       <span style=\"color: #008080; text-decoration-color: #008080; font-weight: bold\">-1.24245342e-02</span>,  <span style=\"color: #008080; text-decoration-color: #008080; font-weight: bold\">7.47138355e-03</span>, <span style=\"color: #008080; text-decoration-color: #008080; font-weight: bold\">-1.72690049e-01</span>, <span style=\"color: #008080; text-decoration-color: #008080; font-weight: bold\">-9.65444669e-02</span>,\n",
       "        <span style=\"color: #008080; text-decoration-color: #008080; font-weight: bold\">4.93200794e-02</span>, <span style=\"color: #008080; text-decoration-color: #008080; font-weight: bold\">-1.09496742e-01</span>,  <span style=\"color: #008080; text-decoration-color: #008080; font-weight: bold\">6.69239983e-02</span>,  <span style=\"color: #008080; text-decoration-color: #008080; font-weight: bold\">4.87974249e-02</span>,\n",
       "        <span style=\"color: #008080; text-decoration-color: #008080; font-weight: bold\">5.60520366e-02</span>,  <span style=\"color: #008080; text-decoration-color: #008080; font-weight: bold\">4.57241246e-03</span>,  <span style=\"color: #008080; text-decoration-color: #008080; font-weight: bold\">3.92100550e-02</span>,  <span style=\"color: #008080; text-decoration-color: #008080; font-weight: bold\">1.95836090e-02</span>,\n",
       "        <span style=\"color: #008080; text-decoration-color: #008080; font-weight: bold\">5.82244545e-02</span>,  <span style=\"color: #008080; text-decoration-color: #008080; font-weight: bold\">1.59151293e-02</span>,  <span style=\"color: #008080; text-decoration-color: #008080; font-weight: bold\">1.51126580e-02</span>,  <span style=\"color: #008080; text-decoration-color: #008080; font-weight: bold\">2.30283123e-02</span>,\n",
       "        <span style=\"color: #008080; text-decoration-color: #008080; font-weight: bold\">2.21041553e-02</span>, <span style=\"color: #008080; text-decoration-color: #008080; font-weight: bold\">-2.50019878e-02</span>,  <span style=\"color: #008080; text-decoration-color: #008080; font-weight: bold\">4.54981476e-02</span>,  <span style=\"color: #008080; text-decoration-color: #008080; font-weight: bold\">2.48230323e-02</span>,\n",
       "       <span style=\"color: #008080; text-decoration-color: #008080; font-weight: bold\">-6.10074438e-02</span>,  <span style=\"color: #008080; text-decoration-color: #008080; font-weight: bold\">2.22703572e-02</span>, <span style=\"color: #008080; text-decoration-color: #008080; font-weight: bold\">-1.26548428e-02</span>,  <span style=\"color: #008080; text-decoration-color: #008080; font-weight: bold\">1.27039170e-02</span>,\n",
       "        <span style=\"color: #008080; text-decoration-color: #008080; font-weight: bold\">3.35836932e-02</span>, <span style=\"color: #008080; text-decoration-color: #008080; font-weight: bold\">-1.14106201e-02</span>, <span style=\"color: #008080; text-decoration-color: #008080; font-weight: bold\">-3.74034904e-02</span>,  <span style=\"color: #008080; text-decoration-color: #008080; font-weight: bold\">8.72631371e-03</span>,\n",
       "       <span style=\"color: #008080; text-decoration-color: #008080; font-weight: bold\">-8.83084536e-02</span>, <span style=\"color: #008080; text-decoration-color: #008080; font-weight: bold\">-4.63151410e-02</span>,  <span style=\"color: #008080; text-decoration-color: #008080; font-weight: bold\">9.88368760e-04</span>, <span style=\"color: #008080; text-decoration-color: #008080; font-weight: bold\">-8.14390311e-04</span>,\n",
       "        <span style=\"color: #008080; text-decoration-color: #008080; font-weight: bold\">4.51466106e-02</span>, <span style=\"color: #008080; text-decoration-color: #008080; font-weight: bold\">-7.33878836e-02</span>, <span style=\"color: #008080; text-decoration-color: #008080; font-weight: bold\">-3.36142406e-02</span>, <span style=\"color: #008080; text-decoration-color: #008080; font-weight: bold\">-1.12906583e-02</span>,\n",
       "       <span style=\"color: #008080; text-decoration-color: #008080; font-weight: bold\">-5.51558957e-02</span>,  <span style=\"color: #008080; text-decoration-color: #008080; font-weight: bold\">6.45281896e-02</span>,  <span style=\"color: #008080; text-decoration-color: #008080; font-weight: bold\">3.46401483e-02</span>,  <span style=\"color: #008080; text-decoration-color: #008080; font-weight: bold\">3.68407316e-04</span>,\n",
       "       <span style=\"color: #008080; text-decoration-color: #008080; font-weight: bold\">-1.19212568e-02</span>, <span style=\"color: #008080; text-decoration-color: #008080; font-weight: bold\">-6.04810677e-02</span>,  <span style=\"color: #008080; text-decoration-color: #008080; font-weight: bold\">2.13949736e-02</span>,  <span style=\"color: #008080; text-decoration-color: #008080; font-weight: bold\">3.55685428e-02</span>,\n",
       "       <span style=\"color: #008080; text-decoration-color: #008080; font-weight: bold\">-8.16264823e-02</span>, <span style=\"color: #008080; text-decoration-color: #008080; font-weight: bold\">-2.20579486e-02</span>,  <span style=\"color: #008080; text-decoration-color: #008080; font-weight: bold\">5.37311472e-02</span>, <span style=\"color: #008080; text-decoration-color: #008080; font-weight: bold\">-1.13023054e-02</span>,\n",
       "       <span style=\"color: #008080; text-decoration-color: #008080; font-weight: bold\">-2.61107069e-02</span>,  <span style=\"color: #008080; text-decoration-color: #008080; font-weight: bold\">3.44833452e-03</span>,  <span style=\"color: #008080; text-decoration-color: #008080; font-weight: bold\">7.93156549e-02</span>,  <span style=\"color: #008080; text-decoration-color: #008080; font-weight: bold\">1.07550316e-01</span>,\n",
       "        <span style=\"color: #008080; text-decoration-color: #008080; font-weight: bold\">6.86683208e-02</span>, <span style=\"color: #008080; text-decoration-color: #008080; font-weight: bold\">-2.54627783e-02</span>, <span style=\"color: #008080; text-decoration-color: #008080; font-weight: bold\">-1.05275758e-01</span>,  <span style=\"color: #008080; text-decoration-color: #008080; font-weight: bold\">6.69143796e-02</span>,\n",
       "       <span style=\"color: #008080; text-decoration-color: #008080; font-weight: bold\">-2.19518524e-02</span>,  <span style=\"color: #008080; text-decoration-color: #008080; font-weight: bold\">6.80740848e-02</span>, <span style=\"color: #008080; text-decoration-color: #008080; font-weight: bold\">-5.13849370e-02</span>,  <span style=\"color: #008080; text-decoration-color: #008080; font-weight: bold\">3.74037512e-02</span>,\n",
       "       <span style=\"color: #008080; text-decoration-color: #008080; font-weight: bold\">-3.08808088e-02</span>,  <span style=\"color: #008080; text-decoration-color: #008080; font-weight: bold\">7.04330653e-02</span>, <span style=\"color: #008080; text-decoration-color: #008080; font-weight: bold\">-2.57200375e-02</span>, <span style=\"color: #008080; text-decoration-color: #008080; font-weight: bold\">-9.27212834e-03</span>,\n",
       "        <span style=\"color: #008080; text-decoration-color: #008080; font-weight: bold\">6.14439463e-03</span>,  <span style=\"color: #008080; text-decoration-color: #008080; font-weight: bold\">2.82913260e-02</span>,  <span style=\"color: #008080; text-decoration-color: #008080; font-weight: bold\">2.76776198e-02</span>, <span style=\"color: #008080; text-decoration-color: #008080; font-weight: bold\">-1.61254667e-02</span>,\n",
       "       <span style=\"color: #008080; text-decoration-color: #008080; font-weight: bold\">-8.98178443e-02</span>,  <span style=\"color: #008080; text-decoration-color: #008080; font-weight: bold\">1.41216675e-03</span>, <span style=\"color: #008080; text-decoration-color: #008080; font-weight: bold\">-3.01212557e-02</span>,  <span style=\"color: #008080; text-decoration-color: #008080; font-weight: bold\">3.31254005e-02</span>,\n",
       "        <span style=\"color: #008080; text-decoration-color: #008080; font-weight: bold\">9.51641239e-03</span>,  <span style=\"color: #008080; text-decoration-color: #008080; font-weight: bold\">8.95252302e-02</span>, <span style=\"color: #008080; text-decoration-color: #008080; font-weight: bold\">-4.99121696e-02</span>,  <span style=\"color: #008080; text-decoration-color: #008080; font-weight: bold\">2.35204883e-02</span>,\n",
       "       <span style=\"color: #008080; text-decoration-color: #008080; font-weight: bold\">-2.95039807e-02</span>, <span style=\"color: #008080; text-decoration-color: #008080; font-weight: bold\">-2.94344081e-03</span>,  <span style=\"color: #008080; text-decoration-color: #008080; font-weight: bold\">1.72738060e-02</span>,  <span style=\"color: #008080; text-decoration-color: #008080; font-weight: bold\">3.51736159e-03</span>,\n",
       "        <span style=\"color: #008080; text-decoration-color: #008080; font-weight: bold\">1.04096020e-02</span>, <span style=\"color: #008080; text-decoration-color: #008080; font-weight: bold\">-6.64980337e-02</span>, <span style=\"color: #008080; text-decoration-color: #008080; font-weight: bold\">-2.76258308e-02</span>,  <span style=\"color: #008080; text-decoration-color: #008080; font-weight: bold\">3.22153755e-02</span>,\n",
       "       <span style=\"color: #008080; text-decoration-color: #008080; font-weight: bold\">-5.85664958e-02</span>, <span style=\"color: #008080; text-decoration-color: #008080; font-weight: bold\">-6.51706532e-02</span>, <span style=\"color: #008080; text-decoration-color: #008080; font-weight: bold\">-8.17601979e-02</span>, <span style=\"color: #008080; text-decoration-color: #008080; font-weight: bold\">-1.38517509e-08</span>,\n",
       "        <span style=\"color: #008080; text-decoration-color: #008080; font-weight: bold\">7.73376822e-02</span>,  <span style=\"color: #008080; text-decoration-color: #008080; font-weight: bold\">3.71648930e-02</span>,  <span style=\"color: #008080; text-decoration-color: #008080; font-weight: bold\">5.69352657e-02</span>, <span style=\"color: #008080; text-decoration-color: #008080; font-weight: bold\">-2.09414703e-03</span>,\n",
       "       <span style=\"color: #008080; text-decoration-color: #008080; font-weight: bold\">-4.82370928e-02</span>,  <span style=\"color: #008080; text-decoration-color: #008080; font-weight: bold\">7.18298480e-02</span>,  <span style=\"color: #008080; text-decoration-color: #008080; font-weight: bold\">1.00720949e-01</span>,  <span style=\"color: #008080; text-decoration-color: #008080; font-weight: bold\">1.46120926e-02</span>,\n",
       "        <span style=\"color: #008080; text-decoration-color: #008080; font-weight: bold\">1.17512671e-02</span>, <span style=\"color: #008080; text-decoration-color: #008080; font-weight: bold\">-4.54705805e-02</span>, <span style=\"color: #008080; text-decoration-color: #008080; font-weight: bold\">-8.40951800e-02</span>,  <span style=\"color: #008080; text-decoration-color: #008080; font-weight: bold\">4.23747413e-02</span>,\n",
       "        <span style=\"color: #008080; text-decoration-color: #008080; font-weight: bold\">4.97380197e-02</span>, <span style=\"color: #008080; text-decoration-color: #008080; font-weight: bold\">-3.47467326e-03</span>, <span style=\"color: #008080; text-decoration-color: #008080; font-weight: bold\">-1.29431523e-02</span>, <span style=\"color: #008080; text-decoration-color: #008080; font-weight: bold\">-4.86180298e-02</span>,\n",
       "        <span style=\"color: #008080; text-decoration-color: #008080; font-weight: bold\">4.03782800e-02</span>,  <span style=\"color: #008080; text-decoration-color: #008080; font-weight: bold\">2.44257897e-02</span>,  <span style=\"color: #008080; text-decoration-color: #008080; font-weight: bold\">3.64251882e-02</span>, <span style=\"color: #008080; text-decoration-color: #008080; font-weight: bold\">-1.21103702e-02</span>,\n",
       "        <span style=\"color: #008080; text-decoration-color: #008080; font-weight: bold\">6.10417239e-02</span>,  <span style=\"color: #008080; text-decoration-color: #008080; font-weight: bold\">3.76049764e-02</span>,  <span style=\"color: #008080; text-decoration-color: #008080; font-weight: bold\">2.10709143e-02</span>,  <span style=\"color: #008080; text-decoration-color: #008080; font-weight: bold\">5.47888018e-02</span>,\n",
       "       <span style=\"color: #008080; text-decoration-color: #008080; font-weight: bold\">-1.02481404e-02</span>,  <span style=\"color: #008080; text-decoration-color: #008080; font-weight: bold\">3.33572105e-02</span>, <span style=\"color: #008080; text-decoration-color: #008080; font-weight: bold\">-8.23535305e-03</span>,  <span style=\"color: #008080; text-decoration-color: #008080; font-weight: bold\">7.33619481e-02</span>,\n",
       "       <span style=\"color: #008080; text-decoration-color: #008080; font-weight: bold\">-4.55378145e-02</span>, <span style=\"color: #008080; text-decoration-color: #008080; font-weight: bold\">-4.42840299e-03</span>,  <span style=\"color: #008080; text-decoration-color: #008080; font-weight: bold\">6.09534793e-03</span>, <span style=\"color: #008080; text-decoration-color: #008080; font-weight: bold\">-6.28174692e-02</span>,\n",
       "       <span style=\"color: #008080; text-decoration-color: #008080; font-weight: bold\">-6.35345951e-02</span>,  <span style=\"color: #008080; text-decoration-color: #008080; font-weight: bold\">2.83309780e-02</span>,  <span style=\"color: #008080; text-decoration-color: #008080; font-weight: bold\">2.34069694e-02</span>, <span style=\"color: #008080; text-decoration-color: #008080; font-weight: bold\">-6.39955103e-02</span>,\n",
       "        <span style=\"color: #008080; text-decoration-color: #008080; font-weight: bold\">4.40572575e-03</span>,  <span style=\"color: #008080; text-decoration-color: #008080; font-weight: bold\">3.72459143e-02</span>,  <span style=\"color: #008080; text-decoration-color: #008080; font-weight: bold\">1.00818770e-02</span>,  <span style=\"color: #008080; text-decoration-color: #008080; font-weight: bold\">1.00002542e-01</span>,\n",
       "       <span style=\"color: #008080; text-decoration-color: #008080; font-weight: bold\">-4.17348072e-02</span>,  <span style=\"color: #008080; text-decoration-color: #008080; font-weight: bold\">3.57264988e-02</span>,  <span style=\"color: #008080; text-decoration-color: #008080; font-weight: bold\">3.43777076e-03</span>,  <span style=\"color: #008080; text-decoration-color: #008080; font-weight: bold\">2.93034688e-02</span>,\n",
       "        <span style=\"color: #008080; text-decoration-color: #008080; font-weight: bold\">3.66022289e-02</span>,  <span style=\"color: #008080; text-decoration-color: #008080; font-weight: bold\">1.07940406e-01</span>,  <span style=\"color: #008080; text-decoration-color: #008080; font-weight: bold\">2.76223924e-02</span>, <span style=\"color: #008080; text-decoration-color: #008080; font-weight: bold\">-6.53285310e-02</span>,\n",
       "        <span style=\"color: #008080; text-decoration-color: #008080; font-weight: bold\">3.88205573e-02</span>,  <span style=\"color: #008080; text-decoration-color: #008080; font-weight: bold\">8.69421512e-02</span>,  <span style=\"color: #008080; text-decoration-color: #008080; font-weight: bold\">1.74742714e-02</span>,  <span style=\"color: #008080; text-decoration-color: #008080; font-weight: bold\">1.15514584e-02</span>,\n",
       "        <span style=\"color: #008080; text-decoration-color: #008080; font-weight: bold\">1.00271022e-02</span>, <span style=\"color: #008080; text-decoration-color: #008080; font-weight: bold\">-4.25459221e-02</span>,  <span style=\"color: #008080; text-decoration-color: #008080; font-weight: bold\">1.68904589e-04</span>, <span style=\"color: #008080; text-decoration-color: #008080; font-weight: bold\">-5.84940203e-02</span>,\n",
       "       <span style=\"color: #008080; text-decoration-color: #008080; font-weight: bold\">-3.05941477e-02</span>,  <span style=\"color: #008080; text-decoration-color: #008080; font-weight: bold\">2.94224056e-03</span>, <span style=\"color: #008080; text-decoration-color: #008080; font-weight: bold\">-1.03903143e-02</span>,  <span style=\"color: #008080; text-decoration-color: #008080; font-weight: bold\">9.27211642e-02</span>,\n",
       "        <span style=\"color: #008080; text-decoration-color: #008080; font-weight: bold\">2.87151411e-02</span>,  <span style=\"color: #008080; text-decoration-color: #008080; font-weight: bold\">4.53404374e-02</span>, <span style=\"color: #008080; text-decoration-color: #008080; font-weight: bold\">-2.75075175e-02</span>, <span style=\"color: #008080; text-decoration-color: #008080; font-weight: bold\">-1.07163740e-02</span><span style=\"font-weight: bold\">]</span>,\n",
       "      <span style=\"color: #808000; text-decoration-color: #808000\">dtype</span>=<span style=\"color: #800080; text-decoration-color: #800080\">float32</span><span style=\"font-weight: bold\">)</span>,\n",
       "    <span style=\"color: #008000; text-decoration-color: #008000\">'doc_scores'</span>: <span style=\"color: #800080; text-decoration-color: #800080; font-weight: bold\">array</span><span style=\"font-weight: bold\">([</span><span style=\"color: #008080; text-decoration-color: #008080; font-weight: bold\">0.05877415</span>, <span style=\"color: #008080; text-decoration-color: #008080; font-weight: bold\">0.00799842</span>, <span style=\"color: #008080; text-decoration-color: #008080; font-weight: bold\">0.06534641</span>, <span style=\"color: #808000; text-decoration-color: #808000\">...</span>, <span style=\"color: #008080; text-decoration-color: #008080; font-weight: bold\">0.06086409</span>, <span style=\"color: #008080; text-decoration-color: #008080; font-weight: bold\">0.01787648</span>,\n",
       "       <span style=\"color: #008080; text-decoration-color: #008080; font-weight: bold\">0.073089</span>  <span style=\"font-weight: bold\">]</span>, <span style=\"color: #808000; text-decoration-color: #808000\">dtype</span>=<span style=\"color: #800080; text-decoration-color: #800080\">float32</span><span style=\"font-weight: bold\">)</span>,\n",
       "    <span style=\"color: #008000; text-decoration-color: #008000\">'top_items'</span>: <span style=\"color: #800080; text-decoration-color: #800080; font-weight: bold\">array</span><span style=\"font-weight: bold\">([</span><span style=\"color: #008080; text-decoration-color: #008080; font-weight: bold\">20799</span>, <span style=\"color: #008080; text-decoration-color: #008080; font-weight: bold\">14594</span>,  <span style=\"color: #008080; text-decoration-color: #008080; font-weight: bold\">4551</span>,  <span style=\"color: #008080; text-decoration-color: #008080; font-weight: bold\">4430</span>, <span style=\"color: #008080; text-decoration-color: #008080; font-weight: bold\">21199</span><span style=\"font-weight: bold\">])</span>\n",
       "<span style=\"font-weight: bold\">}</span>\n",
       "</pre>\n"
      ],
      "text/plain": [
       "\u001b[1m{\u001b[0m\n",
       "    \u001b[32m'query_original'\u001b[0m: \u001b[32m'boy and girl on a beach'\u001b[0m,\n",
       "    \u001b[32m'query_processed'\u001b[0m: \u001b[1;35marray\u001b[0m\u001b[1m(\u001b[0m\u001b[1m[\u001b[0m\u001b[1;36m-4.07104753e-02\u001b[0m,  \u001b[1;36m4.79862355e-02\u001b[0m,  \u001b[1;36m2.29214653e-02\u001b[0m, \u001b[1;36m-4.88387793e-02\u001b[0m,\n",
       "        \u001b[1;36m2.43954528e-02\u001b[0m, \u001b[1;36m-2.38477904e-02\u001b[0m,  \u001b[1;36m3.11611686e-02\u001b[0m, \u001b[1;36m-1.36817796e-02\u001b[0m,\n",
       "        \u001b[1;36m4.65978794e-02\u001b[0m, \u001b[1;36m-9.23146363e-05\u001b[0m,  \u001b[1;36m1.02531508e-01\u001b[0m, \u001b[1;36m-9.68877226e-02\u001b[0m,\n",
       "        \u001b[1;36m5.65099232e-02\u001b[0m,  \u001b[1;36m3.85042578e-02\u001b[0m,  \u001b[1;36m7.72961676e-02\u001b[0m,  \u001b[1;36m7.91627914e-02\u001b[0m,\n",
       "        \u001b[1;36m1.92165114e-02\u001b[0m, \u001b[1;36m-1.42192829e-03\u001b[0m, \u001b[1;36m-4.85068150e-02\u001b[0m, \u001b[1;36m-2.43043993e-02\u001b[0m,\n",
       "       \u001b[1;36m-9.99627635e-02\u001b[0m,  \u001b[1;36m4.58659651e-03\u001b[0m, \u001b[1;36m-7.73032233e-02\u001b[0m,  \u001b[1;36m1.18157025e-02\u001b[0m,\n",
       "       \u001b[1;36m-6.53491542e-02\u001b[0m,  \u001b[1;36m4.79752533e-02\u001b[0m,  \u001b[1;36m7.68425316e-02\u001b[0m, \u001b[1;36m-1.17027899e-02\u001b[0m,\n",
       "       \u001b[1;36m-7.49083757e-02\u001b[0m,  \u001b[1;36m4.83290516e-02\u001b[0m,  \u001b[1;36m3.65568027e-02\u001b[0m, \u001b[1;36m-3.88130769e-02\u001b[0m,\n",
       "       \u001b[1;36m-5.47474343e-03\u001b[0m, \u001b[1;36m-2.54936460e-02\u001b[0m,  \u001b[1;36m7.50967825e-04\u001b[0m,  \u001b[1;36m4.39735502e-02\u001b[0m,\n",
       "       \u001b[1;36m-5.32944538e-02\u001b[0m, \u001b[1;36m-6.88708499e-02\u001b[0m, \u001b[1;36m-2.03870647e-02\u001b[0m, \u001b[1;36m-5.97221740e-02\u001b[0m,\n",
       "       \u001b[1;36m-9.35861841e-02\u001b[0m, \u001b[1;36m-2.68354267e-02\u001b[0m,  \u001b[1;36m6.48142828e-04\u001b[0m,  \u001b[1;36m9.61101893e-03\u001b[0m,\n",
       "       \u001b[1;36m-2.36955136e-02\u001b[0m, \u001b[1;36m-6.07894473e-02\u001b[0m,  \u001b[1;36m9.62193087e-02\u001b[0m,  \u001b[1;36m4.55094837e-02\u001b[0m,\n",
       "        \u001b[1;36m8.98922458e-02\u001b[0m,  \u001b[1;36m3.65537964e-02\u001b[0m, \u001b[1;36m-3.67548363e-03\u001b[0m, \u001b[1;36m-8.01947713e-02\u001b[0m,\n",
       "       \u001b[1;36m-7.77877420e-02\u001b[0m,  \u001b[1;36m5.63851148e-02\u001b[0m, \u001b[1;36m-6.62852749e-02\u001b[0m, \u001b[1;36m-5.95939055e-04\u001b[0m,\n",
       "       \u001b[1;36m-6.77137375e-02\u001b[0m, \u001b[1;36m-6.88764304e-02\u001b[0m,  \u001b[1;36m5.58785610e-02\u001b[0m,  \u001b[1;36m3.94712426e-02\u001b[0m,\n",
       "       \u001b[1;36m-1.03117786e-02\u001b[0m,  \u001b[1;36m6.33546710e-02\u001b[0m,  \u001b[1;36m4.76702722e-03\u001b[0m,  \u001b[1;36m1.48585262e-02\u001b[0m,\n",
       "        \u001b[1;36m6.33022860e-02\u001b[0m,  \u001b[1;36m2.51070447e-02\u001b[0m,  \u001b[1;36m2.42034905e-02\u001b[0m, \u001b[1;36m-4.33537513e-02\u001b[0m,\n",
       "        \u001b[1;36m1.12408539e-02\u001b[0m,  \u001b[1;36m2.39848606e-02\u001b[0m, \u001b[1;36m-3.95492949e-02\u001b[0m,  \u001b[1;36m3.48774903e-02\u001b[0m,\n",
       "        \u001b[1;36m4.42005880e-02\u001b[0m,  \u001b[1;36m3.65096368e-02\u001b[0m, \u001b[1;36m-6.26903400e-02\u001b[0m,  \u001b[1;36m9.37430281e-03\u001b[0m,\n",
       "       \u001b[1;36m-2.34903116e-02\u001b[0m,  \u001b[1;36m6.74278364e-02\u001b[0m,  \u001b[1;36m2.77797114e-02\u001b[0m, \u001b[1;36m-9.90912020e-02\u001b[0m,\n",
       "       \u001b[1;36m-9.37623158e-02\u001b[0m, \u001b[1;36m-1.04982391e-01\u001b[0m,  \u001b[1;36m1.68256946e-02\u001b[0m,  \u001b[1;36m1.95917627e-03\u001b[0m,\n",
       "        \u001b[1;36m7.06340233e-03\u001b[0m, \u001b[1;36m-2.34424137e-02\u001b[0m, \u001b[1;36m-1.62639413e-02\u001b[0m,  \u001b[1;36m7.84643833e-03\u001b[0m,\n",
       "       \u001b[1;36m-3.76534313e-02\u001b[0m,  \u001b[1;36m5.02219982e-03\u001b[0m, \u001b[1;36m-9.07532424e-02\u001b[0m, \u001b[1;36m-2.25280821e-02\u001b[0m,\n",
       "        \u001b[1;36m3.72708589e-02\u001b[0m, \u001b[1;36m-1.27724409e-02\u001b[0m, \u001b[1;36m-1.90754998e-02\u001b[0m, \u001b[1;36m-4.87265773e-02\u001b[0m,\n",
       "       \u001b[1;36m-6.75674528e-02\u001b[0m, \u001b[1;36m-3.08920965e-02\u001b[0m, \u001b[1;36m-3.49576101e-02\u001b[0m,  \u001b[1;36m5.04678078e-02\u001b[0m,\n",
       "        \u001b[1;36m4.59770393e-03\u001b[0m,  \u001b[1;36m1.22856341e-01\u001b[0m,  \u001b[1;36m2.11283397e-02\u001b[0m,  \u001b[1;36m3.66596505e-02\u001b[0m,\n",
       "       \u001b[1;36m-6.05403446e-03\u001b[0m, \u001b[1;36m-9.67195537e-03\u001b[0m,  \u001b[1;36m2.55508162e-02\u001b[0m, \u001b[1;36m-4.37193364e-02\u001b[0m,\n",
       "        \u001b[1;36m5.63997850e-02\u001b[0m,  \u001b[1;36m2.45086905e-02\u001b[0m,  \u001b[1;36m1.04546535e-03\u001b[0m,  \u001b[1;36m1.45639889e-02\u001b[0m,\n",
       "        \u001b[1;36m2.35099848e-02\u001b[0m,  \u001b[1;36m4.33364362e-02\u001b[0m, \u001b[1;36m-7.37936199e-02\u001b[0m, \u001b[1;36m-3.24158045e-03\u001b[0m,\n",
       "        \u001b[1;36m1.17685169e-01\u001b[0m, \u001b[1;36m-5.81584238e-02\u001b[0m, \u001b[1;36m-7.67244995e-02\u001b[0m, \u001b[1;36m-4.78574112e-02\u001b[0m,\n",
       "        \u001b[1;36m3.65472287e-02\u001b[0m, \u001b[1;36m-7.93343633e-02\u001b[0m,  \u001b[1;36m1.47296023e-02\u001b[0m, \u001b[1;36m-1.09353801e-02\u001b[0m,\n",
       "       \u001b[1;36m-7.76054943e-03\u001b[0m, \u001b[1;36m-8.79522637e-02\u001b[0m,  \u001b[1;36m2.16943286e-02\u001b[0m, \u001b[1;36m-3.39482769e-33\u001b[0m,\n",
       "        \u001b[1;36m3.77268307e-02\u001b[0m, \u001b[1;36m-7.57371821e-03\u001b[0m,  \u001b[1;36m5.71781136e-02\u001b[0m,  \u001b[1;36m4.15935926e-02\u001b[0m,\n",
       "        \u001b[1;36m1.57682318e-02\u001b[0m,  \u001b[1;36m6.73608063e-03\u001b[0m,  \u001b[1;36m1.47388363e-02\u001b[0m, \u001b[1;36m-4.78137694e-02\u001b[0m,\n",
       "       \u001b[1;36m-3.16880457e-02\u001b[0m, \u001b[1;36m-4.88858297e-02\u001b[0m, \u001b[1;36m-1.14096768e-01\u001b[0m, \u001b[1;36m-9.58325639e-02\u001b[0m,\n",
       "       \u001b[1;36m-2.90886927e-02\u001b[0m, \u001b[1;36m-4.33061942e-02\u001b[0m,  \u001b[1;36m1.07437268e-01\u001b[0m, \u001b[1;36m-6.02333844e-02\u001b[0m,\n",
       "        \u001b[1;36m2.01424584e-02\u001b[0m, \u001b[1;36m-5.47444820e-02\u001b[0m, \u001b[1;36m-8.73425603e-02\u001b[0m,  \u001b[1;36m9.99743268e-02\u001b[0m,\n",
       "        \u001b[1;36m3.84692885e-02\u001b[0m,  \u001b[1;36m5.23424894e-02\u001b[0m, \u001b[1;36m-1.05295582e-02\u001b[0m, \u001b[1;36m-3.25250588e-02\u001b[0m,\n",
       "       \u001b[1;36m-3.72182956e-04\u001b[0m,  \u001b[1;36m2.35905647e-02\u001b[0m,  \u001b[1;36m1.16148070e-02\u001b[0m,  \u001b[1;36m5.49267083e-02\u001b[0m,\n",
       "        \u001b[1;36m1.59943067e-02\u001b[0m,  \u001b[1;36m1.17658200e-02\u001b[0m,  \u001b[1;36m5.73256873e-02\u001b[0m, \u001b[1;36m-4.38547134e-02\u001b[0m,\n",
       "        \u001b[1;36m5.54436026e-03\u001b[0m,  \u001b[1;36m4.54594456e-02\u001b[0m, \u001b[1;36m-4.31809295e-03\u001b[0m, \u001b[1;36m-2.07610764e-02\u001b[0m,\n",
       "        \u001b[1;36m7.72089064e-02\u001b[0m,  \u001b[1;36m6.89690467e-03\u001b[0m,  \u001b[1;36m4.05697748e-02\u001b[0m,  \u001b[1;36m1.39073851e-02\u001b[0m,\n",
       "        \u001b[1;36m3.15449685e-02\u001b[0m, \u001b[1;36m-4.53322157e-02\u001b[0m, \u001b[1;36m-3.96225788e-03\u001b[0m,  \u001b[1;36m2.50627846e-02\u001b[0m,\n",
       "       \u001b[1;36m-3.23374383e-02\u001b[0m, \u001b[1;36m-5.69311976e-02\u001b[0m,  \u001b[1;36m2.09061103e-03\u001b[0m,  \u001b[1;36m1.80730801e-02\u001b[0m,\n",
       "       \u001b[1;36m-1.88388210e-02\u001b[0m, \u001b[1;36m-1.14544496e-01\u001b[0m, \u001b[1;36m-3.08165103e-02\u001b[0m, \u001b[1;36m-2.04545911e-02\u001b[0m,\n",
       "       \u001b[1;36m-6.48095384e-02\u001b[0m,  \u001b[1;36m5.24386279e-02\u001b[0m,  \u001b[1;36m2.18987887e-04\u001b[0m,  \u001b[1;36m5.02021648e-02\u001b[0m,\n",
       "        \u001b[1;36m4.24139295e-03\u001b[0m, \u001b[1;36m-3.70574147e-02\u001b[0m, \u001b[1;36m-1.62888750e-01\u001b[0m,  \u001b[1;36m6.86493888e-03\u001b[0m,\n",
       "        \u001b[1;36m6.48717061e-02\u001b[0m, \u001b[1;36m-2.45465878e-02\u001b[0m,  \u001b[1;36m2.60955077e-02\u001b[0m, \u001b[1;36m-3.98829430e-02\u001b[0m,\n",
       "       \u001b[1;36m-4.38777395e-02\u001b[0m,  \u001b[1;36m8.39287043e-02\u001b[0m,  \u001b[1;36m1.27761319e-01\u001b[0m,  \u001b[1;36m5.83266392e-02\u001b[0m,\n",
       "       \u001b[1;36m-2.32847757e-03\u001b[0m, \u001b[1;36m-1.12390116e-01\u001b[0m, \u001b[1;36m-4.09222506e-02\u001b[0m,  \u001b[1;36m1.63831711e-02\u001b[0m,\n",
       "        \u001b[1;36m1.19267292e-01\u001b[0m, \u001b[1;36m-6.34890236e-03\u001b[0m,  \u001b[1;36m1.25049418e-02\u001b[0m,  \u001b[1;36m3.41344886e-02\u001b[0m,\n",
       "        \u001b[1;36m5.40477373e-02\u001b[0m, \u001b[1;36m-1.22568561e-02\u001b[0m, \u001b[1;36m-1.32459989e-02\u001b[0m,  \u001b[1;36m8.55198726e-02\u001b[0m,\n",
       "       \u001b[1;36m-2.82161850e-02\u001b[0m,  \u001b[1;36m3.87782604e-02\u001b[0m,  \u001b[1;36m4.70840260e-02\u001b[0m, \u001b[1;36m-9.65857282e-02\u001b[0m,\n",
       "       \u001b[1;36m-1.17331944e-01\u001b[0m, \u001b[1;36m-1.40727526e-02\u001b[0m, \u001b[1;36m-4.03313013e-03\u001b[0m, \u001b[1;36m-4.67664143e-03\u001b[0m,\n",
       "       \u001b[1;36m-2.01604478e-02\u001b[0m,  \u001b[1;36m7.27789663e-03\u001b[0m, \u001b[1;36m-7.00259805e-02\u001b[0m,  \u001b[1;36m1.32365644e-01\u001b[0m,\n",
       "        \u001b[1;36m3.61819454e-02\u001b[0m, \u001b[1;36m-4.15105000e-02\u001b[0m,  \u001b[1;36m1.06141483e-02\u001b[0m,  \u001b[1;36m1.46840068e-34\u001b[0m,\n",
       "       \u001b[1;36m-6.40277565e-02\u001b[0m, \u001b[1;36m-7.04520335e-03\u001b[0m,  \u001b[1;36m2.25775819e-02\u001b[0m, \u001b[1;36m-5.71756624e-02\u001b[0m,\n",
       "        \u001b[1;36m6.44717887e-02\u001b[0m, \u001b[1;36m-2.24323589e-02\u001b[0m,  \u001b[1;36m4.76955771e-02\u001b[0m, \u001b[1;36m-2.57228184e-02\u001b[0m,\n",
       "       \u001b[1;36m-1.24245342e-02\u001b[0m,  \u001b[1;36m7.47138355e-03\u001b[0m, \u001b[1;36m-1.72690049e-01\u001b[0m, \u001b[1;36m-9.65444669e-02\u001b[0m,\n",
       "        \u001b[1;36m4.93200794e-02\u001b[0m, \u001b[1;36m-1.09496742e-01\u001b[0m,  \u001b[1;36m6.69239983e-02\u001b[0m,  \u001b[1;36m4.87974249e-02\u001b[0m,\n",
       "        \u001b[1;36m5.60520366e-02\u001b[0m,  \u001b[1;36m4.57241246e-03\u001b[0m,  \u001b[1;36m3.92100550e-02\u001b[0m,  \u001b[1;36m1.95836090e-02\u001b[0m,\n",
       "        \u001b[1;36m5.82244545e-02\u001b[0m,  \u001b[1;36m1.59151293e-02\u001b[0m,  \u001b[1;36m1.51126580e-02\u001b[0m,  \u001b[1;36m2.30283123e-02\u001b[0m,\n",
       "        \u001b[1;36m2.21041553e-02\u001b[0m, \u001b[1;36m-2.50019878e-02\u001b[0m,  \u001b[1;36m4.54981476e-02\u001b[0m,  \u001b[1;36m2.48230323e-02\u001b[0m,\n",
       "       \u001b[1;36m-6.10074438e-02\u001b[0m,  \u001b[1;36m2.22703572e-02\u001b[0m, \u001b[1;36m-1.26548428e-02\u001b[0m,  \u001b[1;36m1.27039170e-02\u001b[0m,\n",
       "        \u001b[1;36m3.35836932e-02\u001b[0m, \u001b[1;36m-1.14106201e-02\u001b[0m, \u001b[1;36m-3.74034904e-02\u001b[0m,  \u001b[1;36m8.72631371e-03\u001b[0m,\n",
       "       \u001b[1;36m-8.83084536e-02\u001b[0m, \u001b[1;36m-4.63151410e-02\u001b[0m,  \u001b[1;36m9.88368760e-04\u001b[0m, \u001b[1;36m-8.14390311e-04\u001b[0m,\n",
       "        \u001b[1;36m4.51466106e-02\u001b[0m, \u001b[1;36m-7.33878836e-02\u001b[0m, \u001b[1;36m-3.36142406e-02\u001b[0m, \u001b[1;36m-1.12906583e-02\u001b[0m,\n",
       "       \u001b[1;36m-5.51558957e-02\u001b[0m,  \u001b[1;36m6.45281896e-02\u001b[0m,  \u001b[1;36m3.46401483e-02\u001b[0m,  \u001b[1;36m3.68407316e-04\u001b[0m,\n",
       "       \u001b[1;36m-1.19212568e-02\u001b[0m, \u001b[1;36m-6.04810677e-02\u001b[0m,  \u001b[1;36m2.13949736e-02\u001b[0m,  \u001b[1;36m3.55685428e-02\u001b[0m,\n",
       "       \u001b[1;36m-8.16264823e-02\u001b[0m, \u001b[1;36m-2.20579486e-02\u001b[0m,  \u001b[1;36m5.37311472e-02\u001b[0m, \u001b[1;36m-1.13023054e-02\u001b[0m,\n",
       "       \u001b[1;36m-2.61107069e-02\u001b[0m,  \u001b[1;36m3.44833452e-03\u001b[0m,  \u001b[1;36m7.93156549e-02\u001b[0m,  \u001b[1;36m1.07550316e-01\u001b[0m,\n",
       "        \u001b[1;36m6.86683208e-02\u001b[0m, \u001b[1;36m-2.54627783e-02\u001b[0m, \u001b[1;36m-1.05275758e-01\u001b[0m,  \u001b[1;36m6.69143796e-02\u001b[0m,\n",
       "       \u001b[1;36m-2.19518524e-02\u001b[0m,  \u001b[1;36m6.80740848e-02\u001b[0m, \u001b[1;36m-5.13849370e-02\u001b[0m,  \u001b[1;36m3.74037512e-02\u001b[0m,\n",
       "       \u001b[1;36m-3.08808088e-02\u001b[0m,  \u001b[1;36m7.04330653e-02\u001b[0m, \u001b[1;36m-2.57200375e-02\u001b[0m, \u001b[1;36m-9.27212834e-03\u001b[0m,\n",
       "        \u001b[1;36m6.14439463e-03\u001b[0m,  \u001b[1;36m2.82913260e-02\u001b[0m,  \u001b[1;36m2.76776198e-02\u001b[0m, \u001b[1;36m-1.61254667e-02\u001b[0m,\n",
       "       \u001b[1;36m-8.98178443e-02\u001b[0m,  \u001b[1;36m1.41216675e-03\u001b[0m, \u001b[1;36m-3.01212557e-02\u001b[0m,  \u001b[1;36m3.31254005e-02\u001b[0m,\n",
       "        \u001b[1;36m9.51641239e-03\u001b[0m,  \u001b[1;36m8.95252302e-02\u001b[0m, \u001b[1;36m-4.99121696e-02\u001b[0m,  \u001b[1;36m2.35204883e-02\u001b[0m,\n",
       "       \u001b[1;36m-2.95039807e-02\u001b[0m, \u001b[1;36m-2.94344081e-03\u001b[0m,  \u001b[1;36m1.72738060e-02\u001b[0m,  \u001b[1;36m3.51736159e-03\u001b[0m,\n",
       "        \u001b[1;36m1.04096020e-02\u001b[0m, \u001b[1;36m-6.64980337e-02\u001b[0m, \u001b[1;36m-2.76258308e-02\u001b[0m,  \u001b[1;36m3.22153755e-02\u001b[0m,\n",
       "       \u001b[1;36m-5.85664958e-02\u001b[0m, \u001b[1;36m-6.51706532e-02\u001b[0m, \u001b[1;36m-8.17601979e-02\u001b[0m, \u001b[1;36m-1.38517509e-08\u001b[0m,\n",
       "        \u001b[1;36m7.73376822e-02\u001b[0m,  \u001b[1;36m3.71648930e-02\u001b[0m,  \u001b[1;36m5.69352657e-02\u001b[0m, \u001b[1;36m-2.09414703e-03\u001b[0m,\n",
       "       \u001b[1;36m-4.82370928e-02\u001b[0m,  \u001b[1;36m7.18298480e-02\u001b[0m,  \u001b[1;36m1.00720949e-01\u001b[0m,  \u001b[1;36m1.46120926e-02\u001b[0m,\n",
       "        \u001b[1;36m1.17512671e-02\u001b[0m, \u001b[1;36m-4.54705805e-02\u001b[0m, \u001b[1;36m-8.40951800e-02\u001b[0m,  \u001b[1;36m4.23747413e-02\u001b[0m,\n",
       "        \u001b[1;36m4.97380197e-02\u001b[0m, \u001b[1;36m-3.47467326e-03\u001b[0m, \u001b[1;36m-1.29431523e-02\u001b[0m, \u001b[1;36m-4.86180298e-02\u001b[0m,\n",
       "        \u001b[1;36m4.03782800e-02\u001b[0m,  \u001b[1;36m2.44257897e-02\u001b[0m,  \u001b[1;36m3.64251882e-02\u001b[0m, \u001b[1;36m-1.21103702e-02\u001b[0m,\n",
       "        \u001b[1;36m6.10417239e-02\u001b[0m,  \u001b[1;36m3.76049764e-02\u001b[0m,  \u001b[1;36m2.10709143e-02\u001b[0m,  \u001b[1;36m5.47888018e-02\u001b[0m,\n",
       "       \u001b[1;36m-1.02481404e-02\u001b[0m,  \u001b[1;36m3.33572105e-02\u001b[0m, \u001b[1;36m-8.23535305e-03\u001b[0m,  \u001b[1;36m7.33619481e-02\u001b[0m,\n",
       "       \u001b[1;36m-4.55378145e-02\u001b[0m, \u001b[1;36m-4.42840299e-03\u001b[0m,  \u001b[1;36m6.09534793e-03\u001b[0m, \u001b[1;36m-6.28174692e-02\u001b[0m,\n",
       "       \u001b[1;36m-6.35345951e-02\u001b[0m,  \u001b[1;36m2.83309780e-02\u001b[0m,  \u001b[1;36m2.34069694e-02\u001b[0m, \u001b[1;36m-6.39955103e-02\u001b[0m,\n",
       "        \u001b[1;36m4.40572575e-03\u001b[0m,  \u001b[1;36m3.72459143e-02\u001b[0m,  \u001b[1;36m1.00818770e-02\u001b[0m,  \u001b[1;36m1.00002542e-01\u001b[0m,\n",
       "       \u001b[1;36m-4.17348072e-02\u001b[0m,  \u001b[1;36m3.57264988e-02\u001b[0m,  \u001b[1;36m3.43777076e-03\u001b[0m,  \u001b[1;36m2.93034688e-02\u001b[0m,\n",
       "        \u001b[1;36m3.66022289e-02\u001b[0m,  \u001b[1;36m1.07940406e-01\u001b[0m,  \u001b[1;36m2.76223924e-02\u001b[0m, \u001b[1;36m-6.53285310e-02\u001b[0m,\n",
       "        \u001b[1;36m3.88205573e-02\u001b[0m,  \u001b[1;36m8.69421512e-02\u001b[0m,  \u001b[1;36m1.74742714e-02\u001b[0m,  \u001b[1;36m1.15514584e-02\u001b[0m,\n",
       "        \u001b[1;36m1.00271022e-02\u001b[0m, \u001b[1;36m-4.25459221e-02\u001b[0m,  \u001b[1;36m1.68904589e-04\u001b[0m, \u001b[1;36m-5.84940203e-02\u001b[0m,\n",
       "       \u001b[1;36m-3.05941477e-02\u001b[0m,  \u001b[1;36m2.94224056e-03\u001b[0m, \u001b[1;36m-1.03903143e-02\u001b[0m,  \u001b[1;36m9.27211642e-02\u001b[0m,\n",
       "        \u001b[1;36m2.87151411e-02\u001b[0m,  \u001b[1;36m4.53404374e-02\u001b[0m, \u001b[1;36m-2.75075175e-02\u001b[0m, \u001b[1;36m-1.07163740e-02\u001b[0m\u001b[1m]\u001b[0m,\n",
       "      \u001b[33mdtype\u001b[0m=\u001b[35mfloat32\u001b[0m\u001b[1m)\u001b[0m,\n",
       "    \u001b[32m'doc_scores'\u001b[0m: \u001b[1;35marray\u001b[0m\u001b[1m(\u001b[0m\u001b[1m[\u001b[0m\u001b[1;36m0.05877415\u001b[0m, \u001b[1;36m0.00799842\u001b[0m, \u001b[1;36m0.06534641\u001b[0m, \u001b[33m...\u001b[0m, \u001b[1;36m0.06086409\u001b[0m, \u001b[1;36m0.01787648\u001b[0m,\n",
       "       \u001b[1;36m0.073089\u001b[0m  \u001b[1m]\u001b[0m, \u001b[33mdtype\u001b[0m=\u001b[35mfloat32\u001b[0m\u001b[1m)\u001b[0m,\n",
       "    \u001b[32m'top_items'\u001b[0m: \u001b[1;35marray\u001b[0m\u001b[1m(\u001b[0m\u001b[1m[\u001b[0m\u001b[1;36m20799\u001b[0m, \u001b[1;36m14594\u001b[0m,  \u001b[1;36m4551\u001b[0m,  \u001b[1;36m4430\u001b[0m, \u001b[1;36m21199\u001b[0m\u001b[1m]\u001b[0m\u001b[1m)\u001b[0m\n",
       "\u001b[1m}\u001b[0m\n"
      ]
     },
     "metadata": {},
     "output_type": "display_data"
    },
    {
     "data": {
      "text/html": [
       "<h1>Query: boy and girl on a beach </h1>"
      ],
      "text/plain": [
       "<IPython.core.display.HTML object>"
      ]
     },
     "metadata": {},
     "output_type": "display_data"
    },
    {
     "data": {
      "text/html": [
       "<img src=\"https://images.unsplash.com/uploads/14122598645355eb0b65d/d1524764?w=200\"/>"
      ],
      "text/plain": [
       "<IPython.core.display.Image object>"
      ]
     },
     "metadata": {},
     "output_type": "display_data"
    },
    {
     "data": {
      "text/html": [
       "\n",
       "                     Photo title: children enjoying the beach   <br/>\n",
       "                     Photo by <a href=\"https://unsplash.com/@epicantus?utm_source=NaturalLanguageImageSearch&utm_medium=referral\">Daria Nepriakhina</a> on <a href=\"https://unsplash.com/?utm_source=SearchWorkshop&utm_medium=referral\">Unsplash</a> <br/>\n",
       "                     Distance: 0.7077871561050415\n",
       "                     "
      ],
      "text/plain": [
       "<IPython.core.display.HTML object>"
      ]
     },
     "metadata": {},
     "output_type": "display_data"
    },
    {
     "name": "stdout",
     "output_type": "stream",
     "text": [
      "\n"
     ]
    },
    {
     "data": {
      "text/html": [
       "<img src=\"https://images.unsplash.com/photo-1432105214010-ae5e45b2cebb?w=200\"/>"
      ],
      "text/plain": [
       "<IPython.core.display.Image object>"
      ]
     },
     "metadata": {},
     "output_type": "display_data"
    },
    {
     "data": {
      "text/html": [
       "\n",
       "                     Photo title: Couple on the beach   <br/>\n",
       "                     Photo by <a href=\"https://unsplash.com/@scottwebb?utm_source=NaturalLanguageImageSearch&utm_medium=referral\">Scott Webb</a> on <a href=\"https://unsplash.com/?utm_source=SearchWorkshop&utm_medium=referral\">Unsplash</a> <br/>\n",
       "                     Distance: 0.698167085647583\n",
       "                     "
      ],
      "text/plain": [
       "<IPython.core.display.HTML object>"
      ]
     },
     "metadata": {},
     "output_type": "display_data"
    },
    {
     "name": "stdout",
     "output_type": "stream",
     "text": [
      "\n"
     ]
    },
    {
     "data": {
      "text/html": [
       "<img src=\"https://images.unsplash.com/photo-1572986349976-5b54a901b36b?w=200\"/>"
      ],
      "text/plain": [
       "<IPython.core.display.Image object>"
      ]
     },
     "metadata": {},
     "output_type": "display_data"
    },
    {
     "data": {
      "text/html": [
       "\n",
       "                     Photo title: people at beach   <br/>\n",
       "                     Photo by <a href=\"https://unsplash.com/@anton_lammert?utm_source=NaturalLanguageImageSearch&utm_medium=referral\">Anton Lammert</a> on <a href=\"https://unsplash.com/?utm_source=SearchWorkshop&utm_medium=referral\">Unsplash</a> <br/>\n",
       "                     Distance: 0.6872390508651733\n",
       "                     "
      ],
      "text/plain": [
       "<IPython.core.display.HTML object>"
      ]
     },
     "metadata": {},
     "output_type": "display_data"
    },
    {
     "name": "stdout",
     "output_type": "stream",
     "text": [
      "\n"
     ]
    },
    {
     "data": {
      "text/html": [
       "<img src=\"https://images.unsplash.com/photo-1543988675-e050c7db2a21?w=200\"/>"
      ],
      "text/plain": [
       "<IPython.core.display.Image object>"
      ]
     },
     "metadata": {},
     "output_type": "display_data"
    },
    {
     "data": {
      "text/html": [
       "\n",
       "                     Photo title: two people on beach during daytime   <br/>\n",
       "                     Photo by <a href=\"https://unsplash.com/@harryholder?utm_source=NaturalLanguageImageSearch&utm_medium=referral\">Harry Holder</a> on <a href=\"https://unsplash.com/?utm_source=SearchWorkshop&utm_medium=referral\">Unsplash</a> <br/>\n",
       "                     Distance: 0.6783232688903809\n",
       "                     "
      ],
      "text/plain": [
       "<IPython.core.display.HTML object>"
      ]
     },
     "metadata": {},
     "output_type": "display_data"
    },
    {
     "name": "stdout",
     "output_type": "stream",
     "text": [
      "\n"
     ]
    },
    {
     "data": {
      "text/html": [
       "<img src=\"https://images.unsplash.com/photo-1540752200125-09226f34a392?w=200\"/>"
      ],
      "text/plain": [
       "<IPython.core.display.Image object>"
      ]
     },
     "metadata": {},
     "output_type": "display_data"
    },
    {
     "data": {
      "text/html": [
       "\n",
       "                     Photo title: A black and white beach   <br/>\n",
       "                     Photo by <a href=\"https://unsplash.com/@onun?utm_source=NaturalLanguageImageSearch&utm_medium=referral\">Nuno Antunes</a> on <a href=\"https://unsplash.com/?utm_source=SearchWorkshop&utm_medium=referral\">Unsplash</a> <br/>\n",
       "                     Distance: 0.5991194248199463\n",
       "                     "
      ],
      "text/plain": [
       "<IPython.core.display.HTML object>"
      ]
     },
     "metadata": {},
     "output_type": "display_data"
    },
    {
     "name": "stdout",
     "output_type": "stream",
     "text": [
      "\n"
     ]
    }
   ],
   "source": [
    "find_results( \"boy and girl on a beach\")"
   ]
  },
  {
   "cell_type": "code",
   "execution_count": null,
   "id": "2fdbe7dc-3b69-4eea-a0c9-ad7e9beefcb3",
   "metadata": {},
   "outputs": [],
   "source": []
  },
  {
   "cell_type": "code",
   "execution_count": null,
   "id": "3f014b1e-e810-4523-8717-2b9cfd1fe9ef",
   "metadata": {},
   "outputs": [],
   "source": []
  },
  {
   "cell_type": "code",
   "execution_count": null,
   "id": "7d22bd79-da3b-4442-abbf-4e469b6cfdcb",
   "metadata": {},
   "outputs": [],
   "source": []
  },
  {
   "cell_type": "code",
   "execution_count": 22,
   "id": "96b8222c-a46f-4ea2-bf48-11fde5f781ae",
   "metadata": {},
   "outputs": [
    {
     "data": {
      "text/html": [
       "<pre style=\"white-space:pre;overflow-x:auto;line-height:normal;font-family:Menlo,'DejaVu Sans Mono',consolas,'Courier New',monospace\"><span style=\"font-weight: bold\">{</span>\n",
       "    <span style=\"color: #008000; text-decoration-color: #008000\">'query_original'</span>: <span style=\"color: #008000; text-decoration-color: #008000\">'image of a man in a desert'</span>,\n",
       "    <span style=\"color: #008000; text-decoration-color: #008000\">'query_processed'</span>: <span style=\"color: #800080; text-decoration-color: #800080; font-weight: bold\">array</span><span style=\"font-weight: bold\">([</span> <span style=\"color: #008080; text-decoration-color: #008080; font-weight: bold\">6.32947534e-02</span>,  <span style=\"color: #008080; text-decoration-color: #008080; font-weight: bold\">1.24192499e-01</span>, <span style=\"color: #008080; text-decoration-color: #008080; font-weight: bold\">-2.32294332e-02</span>,  <span style=\"color: #008080; text-decoration-color: #008080; font-weight: bold\">7.78998807e-03</span>,\n",
       "        <span style=\"color: #008080; text-decoration-color: #008080; font-weight: bold\">2.82716788e-02</span>, <span style=\"color: #008080; text-decoration-color: #008080; font-weight: bold\">-2.40863636e-02</span>,  <span style=\"color: #008080; text-decoration-color: #008080; font-weight: bold\">1.31348416e-01</span>, <span style=\"color: #008080; text-decoration-color: #008080; font-weight: bold\">-6.79284930e-02</span>,\n",
       "        <span style=\"color: #008080; text-decoration-color: #008080; font-weight: bold\">2.57225148e-02</span>,  <span style=\"color: #008080; text-decoration-color: #008080; font-weight: bold\">1.04728043e-02</span>,  <span style=\"color: #008080; text-decoration-color: #008080; font-weight: bold\">5.06874435e-02</span>, <span style=\"color: #008080; text-decoration-color: #008080; font-weight: bold\">-8.11643004e-02</span>,\n",
       "        <span style=\"color: #008080; text-decoration-color: #008080; font-weight: bold\">9.45465490e-02</span>,  <span style=\"color: #008080; text-decoration-color: #008080; font-weight: bold\">5.87001480e-02</span>,  <span style=\"color: #008080; text-decoration-color: #008080; font-weight: bold\">5.51839098e-02</span>, <span style=\"color: #008080; text-decoration-color: #008080; font-weight: bold\">-3.88276018e-02</span>,\n",
       "       <span style=\"color: #008080; text-decoration-color: #008080; font-weight: bold\">-3.57096419e-02</span>,  <span style=\"color: #008080; text-decoration-color: #008080; font-weight: bold\">3.80245745e-02</span>,  <span style=\"color: #008080; text-decoration-color: #008080; font-weight: bold\">3.86204235e-02</span>, <span style=\"color: #008080; text-decoration-color: #008080; font-weight: bold\">-2.83764917e-02</span>,\n",
       "       <span style=\"color: #008080; text-decoration-color: #008080; font-weight: bold\">-2.16995738e-02</span>,  <span style=\"color: #008080; text-decoration-color: #008080; font-weight: bold\">2.87901442e-02</span>,  <span style=\"color: #008080; text-decoration-color: #008080; font-weight: bold\">1.18983900e-02</span>, <span style=\"color: #008080; text-decoration-color: #008080; font-weight: bold\">-5.04343174e-02</span>,\n",
       "       <span style=\"color: #008080; text-decoration-color: #008080; font-weight: bold\">-7.90204480e-02</span>, <span style=\"color: #008080; text-decoration-color: #008080; font-weight: bold\">-2.33318489e-02</span>, <span style=\"color: #008080; text-decoration-color: #008080; font-weight: bold\">-9.52090323e-03</span>,  <span style=\"color: #008080; text-decoration-color: #008080; font-weight: bold\">5.76721951e-02</span>,\n",
       "       <span style=\"color: #008080; text-decoration-color: #008080; font-weight: bold\">-2.41583139e-02</span>, <span style=\"color: #008080; text-decoration-color: #008080; font-weight: bold\">-3.99373621e-02</span>,  <span style=\"color: #008080; text-decoration-color: #008080; font-weight: bold\">3.81454490e-02</span>,  <span style=\"color: #008080; text-decoration-color: #008080; font-weight: bold\">2.18772311e-02</span>,\n",
       "        <span style=\"color: #008080; text-decoration-color: #008080; font-weight: bold\">2.12652571e-02</span>, <span style=\"color: #008080; text-decoration-color: #008080; font-weight: bold\">-3.48423868e-02</span>,  <span style=\"color: #008080; text-decoration-color: #008080; font-weight: bold\">1.09066674e-02</span>,  <span style=\"color: #008080; text-decoration-color: #008080; font-weight: bold\">1.06592728e-02</span>,\n",
       "       <span style=\"color: #008080; text-decoration-color: #008080; font-weight: bold\">-5.02256118e-02</span>,  <span style=\"color: #008080; text-decoration-color: #008080; font-weight: bold\">3.19877379e-02</span>, <span style=\"color: #008080; text-decoration-color: #008080; font-weight: bold\">-5.95463961e-02</span>,  <span style=\"color: #008080; text-decoration-color: #008080; font-weight: bold\">4.30590175e-02</span>,\n",
       "        <span style=\"color: #008080; text-decoration-color: #008080; font-weight: bold\">2.06208210e-02</span>, <span style=\"color: #008080; text-decoration-color: #008080; font-weight: bold\">-4.87505533e-02</span>,  <span style=\"color: #008080; text-decoration-color: #008080; font-weight: bold\">5.11444099e-02</span>,  <span style=\"color: #008080; text-decoration-color: #008080; font-weight: bold\">5.83226718e-02</span>,\n",
       "        <span style=\"color: #008080; text-decoration-color: #008080; font-weight: bold\">2.46753171e-02</span>,  <span style=\"color: #008080; text-decoration-color: #008080; font-weight: bold\">6.96470886e-02</span>,  <span style=\"color: #008080; text-decoration-color: #008080; font-weight: bold\">3.27836117e-03</span>, <span style=\"color: #008080; text-decoration-color: #008080; font-weight: bold\">-1.08690711e-03</span>,\n",
       "        <span style=\"color: #008080; text-decoration-color: #008080; font-weight: bold\">1.23149894e-01</span>,  <span style=\"color: #008080; text-decoration-color: #008080; font-weight: bold\">8.28368030e-03</span>, <span style=\"color: #008080; text-decoration-color: #008080; font-weight: bold\">-8.92766044e-02</span>,  <span style=\"color: #008080; text-decoration-color: #008080; font-weight: bold\">8.87478702e-03</span>,\n",
       "       <span style=\"color: #008080; text-decoration-color: #008080; font-weight: bold\">-4.88979481e-02</span>, <span style=\"color: #008080; text-decoration-color: #008080; font-weight: bold\">-5.94949797e-02</span>,  <span style=\"color: #008080; text-decoration-color: #008080; font-weight: bold\">2.77780415e-03</span>, <span style=\"color: #008080; text-decoration-color: #008080; font-weight: bold\">-5.36132045e-02</span>,\n",
       "        <span style=\"color: #008080; text-decoration-color: #008080; font-weight: bold\">4.49112989e-02</span>, <span style=\"color: #008080; text-decoration-color: #008080; font-weight: bold\">-2.03460325e-02</span>, <span style=\"color: #008080; text-decoration-color: #008080; font-weight: bold\">-3.06635741e-02</span>, <span style=\"color: #008080; text-decoration-color: #008080; font-weight: bold\">-3.85979414e-02</span>,\n",
       "        <span style=\"color: #008080; text-decoration-color: #008080; font-weight: bold\">1.73355006e-02</span>,  <span style=\"color: #008080; text-decoration-color: #008080; font-weight: bold\">3.44189741e-02</span>, <span style=\"color: #008080; text-decoration-color: #008080; font-weight: bold\">-1.35636434e-03</span>,  <span style=\"color: #008080; text-decoration-color: #008080; font-weight: bold\">1.07655842e-05</span>,\n",
       "        <span style=\"color: #008080; text-decoration-color: #008080; font-weight: bold\">1.40614912e-01</span>, <span style=\"color: #008080; text-decoration-color: #008080; font-weight: bold\">-3.98737937e-02</span>,  <span style=\"color: #008080; text-decoration-color: #008080; font-weight: bold\">1.58259389e-03</span>, <span style=\"color: #008080; text-decoration-color: #008080; font-weight: bold\">-1.16327114e-01</span>,\n",
       "        <span style=\"color: #008080; text-decoration-color: #008080; font-weight: bold\">5.28831482e-02</span>, <span style=\"color: #008080; text-decoration-color: #008080; font-weight: bold\">-6.69457465e-02</span>, <span style=\"color: #008080; text-decoration-color: #008080; font-weight: bold\">-1.00005390e-02</span>,  <span style=\"color: #008080; text-decoration-color: #008080; font-weight: bold\">9.94998217e-03</span>,\n",
       "       <span style=\"color: #008080; text-decoration-color: #008080; font-weight: bold\">-2.71171369e-02</span>, <span style=\"color: #008080; text-decoration-color: #008080; font-weight: bold\">-8.05303901e-02</span>, <span style=\"color: #008080; text-decoration-color: #008080; font-weight: bold\">-1.15467973e-01</span>, <span style=\"color: #008080; text-decoration-color: #008080; font-weight: bold\">-1.03774965e-01</span>,\n",
       "       <span style=\"color: #008080; text-decoration-color: #008080; font-weight: bold\">-3.83616276e-02</span>,  <span style=\"color: #008080; text-decoration-color: #008080; font-weight: bold\">1.20942928e-02</span>, <span style=\"color: #008080; text-decoration-color: #008080; font-weight: bold\">-3.43221910e-02</span>, <span style=\"color: #008080; text-decoration-color: #008080; font-weight: bold\">-5.17199701e-03</span>,\n",
       "        <span style=\"color: #008080; text-decoration-color: #008080; font-weight: bold\">9.89541784e-02</span>, <span style=\"color: #008080; text-decoration-color: #008080; font-weight: bold\">-6.89451629e-03</span>,  <span style=\"color: #008080; text-decoration-color: #008080; font-weight: bold\">3.88789997e-02</span>, <span style=\"color: #008080; text-decoration-color: #008080; font-weight: bold\">-4.81113978e-02</span>,\n",
       "       <span style=\"color: #008080; text-decoration-color: #008080; font-weight: bold\">-2.26192009e-02</span>,  <span style=\"color: #008080; text-decoration-color: #008080; font-weight: bold\">1.60770249e-02</span>, <span style=\"color: #008080; text-decoration-color: #008080; font-weight: bold\">-4.23194980e-03</span>,  <span style=\"color: #008080; text-decoration-color: #008080; font-weight: bold\">1.82598026e-03</span>,\n",
       "        <span style=\"color: #008080; text-decoration-color: #008080; font-weight: bold\">2.06454583e-02</span>,  <span style=\"color: #008080; text-decoration-color: #008080; font-weight: bold\">5.77857625e-03</span>, <span style=\"color: #008080; text-decoration-color: #008080; font-weight: bold\">-4.65922542e-02</span>, <span style=\"color: #008080; text-decoration-color: #008080; font-weight: bold\">-4.71361987e-02</span>,\n",
       "       <span style=\"color: #008080; text-decoration-color: #008080; font-weight: bold\">-4.41993885e-02</span>,  <span style=\"color: #008080; text-decoration-color: #008080; font-weight: bold\">5.06741635e-04</span>, <span style=\"color: #008080; text-decoration-color: #008080; font-weight: bold\">-4.62268554e-02</span>, <span style=\"color: #008080; text-decoration-color: #008080; font-weight: bold\">-1.73499938e-02</span>,\n",
       "        <span style=\"color: #008080; text-decoration-color: #008080; font-weight: bold\">2.00978643e-03</span>, <span style=\"color: #008080; text-decoration-color: #008080; font-weight: bold\">-3.05878092e-02</span>, <span style=\"color: #008080; text-decoration-color: #008080; font-weight: bold\">-6.82516992e-02</span>,  <span style=\"color: #008080; text-decoration-color: #008080; font-weight: bold\">6.81843162e-02</span>,\n",
       "        <span style=\"color: #008080; text-decoration-color: #008080; font-weight: bold\">8.01285952e-02</span>, <span style=\"color: #008080; text-decoration-color: #008080; font-weight: bold\">-1.06879808e-01</span>,  <span style=\"color: #008080; text-decoration-color: #008080; font-weight: bold\">1.22480812e-02</span>, <span style=\"color: #008080; text-decoration-color: #008080; font-weight: bold\">-2.52861977e-02</span>,\n",
       "        <span style=\"color: #008080; text-decoration-color: #008080; font-weight: bold\">1.05119042e-01</span>, <span style=\"color: #008080; text-decoration-color: #008080; font-weight: bold\">-1.24540552e-02</span>,  <span style=\"color: #008080; text-decoration-color: #008080; font-weight: bold\">6.40390953e-03</span>,  <span style=\"color: #008080; text-decoration-color: #008080; font-weight: bold\">1.77443493e-02</span>,\n",
       "       <span style=\"color: #008080; text-decoration-color: #008080; font-weight: bold\">-3.00352704e-02</span>, <span style=\"color: #008080; text-decoration-color: #008080; font-weight: bold\">-9.96275991e-03</span>, <span style=\"color: #008080; text-decoration-color: #008080; font-weight: bold\">-3.68016362e-02</span>, <span style=\"color: #008080; text-decoration-color: #008080; font-weight: bold\">-6.61875010e-02</span>,\n",
       "       <span style=\"color: #008080; text-decoration-color: #008080; font-weight: bold\">-4.56597582e-02</span>,  <span style=\"color: #008080; text-decoration-color: #008080; font-weight: bold\">2.86053885e-02</span>,  <span style=\"color: #008080; text-decoration-color: #008080; font-weight: bold\">6.47853464e-02</span>, <span style=\"color: #008080; text-decoration-color: #008080; font-weight: bold\">-2.54829507e-02</span>,\n",
       "       <span style=\"color: #008080; text-decoration-color: #008080; font-weight: bold\">-5.31485118e-02</span>, <span style=\"color: #008080; text-decoration-color: #008080; font-weight: bold\">-6.33666813e-02</span>, <span style=\"color: #008080; text-decoration-color: #008080; font-weight: bold\">-6.67340606e-02</span>,  <span style=\"color: #008080; text-decoration-color: #008080; font-weight: bold\">1.94186717e-02</span>,\n",
       "       <span style=\"color: #008080; text-decoration-color: #008080; font-weight: bold\">-1.15128644e-02</span>,  <span style=\"color: #008080; text-decoration-color: #008080; font-weight: bold\">3.60787250e-02</span>,  <span style=\"color: #008080; text-decoration-color: #008080; font-weight: bold\">2.06134655e-02</span>,  <span style=\"color: #008080; text-decoration-color: #008080; font-weight: bold\">9.24573466e-02</span>,\n",
       "        <span style=\"color: #008080; text-decoration-color: #008080; font-weight: bold\">3.93706039e-02</span>, <span style=\"color: #008080; text-decoration-color: #008080; font-weight: bold\">-1.23830661e-02</span>,  <span style=\"color: #008080; text-decoration-color: #008080; font-weight: bold\">5.65089807e-02</span>, <span style=\"color: #008080; text-decoration-color: #008080; font-weight: bold\">-5.97997853e-33</span>,\n",
       "        <span style=\"color: #008080; text-decoration-color: #008080; font-weight: bold\">3.33683603e-02</span>,  <span style=\"color: #008080; text-decoration-color: #008080; font-weight: bold\">3.97037789e-02</span>,  <span style=\"color: #008080; text-decoration-color: #008080; font-weight: bold\">5.59407584e-02</span>,  <span style=\"color: #008080; text-decoration-color: #008080; font-weight: bold\">4.35199626e-02</span>,\n",
       "        <span style=\"color: #008080; text-decoration-color: #008080; font-weight: bold\">5.27929440e-02</span>, <span style=\"color: #008080; text-decoration-color: #008080; font-weight: bold\">-2.16232762e-02</span>,  <span style=\"color: #008080; text-decoration-color: #008080; font-weight: bold\">4.09237714e-03</span>, <span style=\"color: #008080; text-decoration-color: #008080; font-weight: bold\">-7.75826648e-02</span>,\n",
       "       <span style=\"color: #008080; text-decoration-color: #008080; font-weight: bold\">-2.97988057e-02</span>, <span style=\"color: #008080; text-decoration-color: #008080; font-weight: bold\">-7.98005462e-02</span>,  <span style=\"color: #008080; text-decoration-color: #008080; font-weight: bold\">5.02836369e-02</span>, <span style=\"color: #008080; text-decoration-color: #008080; font-weight: bold\">-1.58946309e-02</span>,\n",
       "       <span style=\"color: #008080; text-decoration-color: #008080; font-weight: bold\">-2.43129078e-02</span>,  <span style=\"color: #008080; text-decoration-color: #008080; font-weight: bold\">1.61693841e-01</span>, <span style=\"color: #008080; text-decoration-color: #008080; font-weight: bold\">-3.71846594e-02</span>, <span style=\"color: #008080; text-decoration-color: #008080; font-weight: bold\">-1.35098230e-02</span>,\n",
       "       <span style=\"color: #008080; text-decoration-color: #008080; font-weight: bold\">-4.57702111e-03</span>, <span style=\"color: #008080; text-decoration-color: #008080; font-weight: bold\">-5.40835559e-02</span>,  <span style=\"color: #008080; text-decoration-color: #008080; font-weight: bold\">1.45904589e-02</span>, <span style=\"color: #008080; text-decoration-color: #008080; font-weight: bold\">-3.94143052e-02</span>,\n",
       "       <span style=\"color: #008080; text-decoration-color: #008080; font-weight: bold\">-7.38223642e-02</span>,  <span style=\"color: #008080; text-decoration-color: #008080; font-weight: bold\">3.93503830e-02</span>, <span style=\"color: #008080; text-decoration-color: #008080; font-weight: bold\">-2.17185845e-03</span>, <span style=\"color: #008080; text-decoration-color: #008080; font-weight: bold\">-3.48750055e-02</span>,\n",
       "        <span style=\"color: #008080; text-decoration-color: #008080; font-weight: bold\">2.12167185e-02</span>,  <span style=\"color: #008080; text-decoration-color: #008080; font-weight: bold\">3.35267149e-02</span>,  <span style=\"color: #008080; text-decoration-color: #008080; font-weight: bold\">7.90317543e-03</span>, <span style=\"color: #008080; text-decoration-color: #008080; font-weight: bold\">-3.54881920e-02</span>,\n",
       "        <span style=\"color: #008080; text-decoration-color: #008080; font-weight: bold\">2.25763228e-02</span>,  <span style=\"color: #008080; text-decoration-color: #008080; font-weight: bold\">2.97231018e-03</span>, <span style=\"color: #008080; text-decoration-color: #008080; font-weight: bold\">-1.76198047e-03</span>,  <span style=\"color: #008080; text-decoration-color: #008080; font-weight: bold\">4.03513089e-02</span>,\n",
       "        <span style=\"color: #008080; text-decoration-color: #008080; font-weight: bold\">7.02505093e-03</span>, <span style=\"color: #008080; text-decoration-color: #008080; font-weight: bold\">-4.67241965e-02</span>,  <span style=\"color: #008080; text-decoration-color: #008080; font-weight: bold\">2.30240431e-02</span>, <span style=\"color: #008080; text-decoration-color: #008080; font-weight: bold\">-5.00222109e-02</span>,\n",
       "       <span style=\"color: #008080; text-decoration-color: #008080; font-weight: bold\">-5.43840006e-02</span>,  <span style=\"color: #008080; text-decoration-color: #008080; font-weight: bold\">5.41807376e-02</span>, <span style=\"color: #008080; text-decoration-color: #008080; font-weight: bold\">-7.89700523e-02</span>,  <span style=\"color: #008080; text-decoration-color: #008080; font-weight: bold\">1.95282158e-02</span>,\n",
       "        <span style=\"color: #008080; text-decoration-color: #008080; font-weight: bold\">1.05172740e-02</span>,  <span style=\"color: #008080; text-decoration-color: #008080; font-weight: bold\">2.44100019e-02</span>,  <span style=\"color: #008080; text-decoration-color: #008080; font-weight: bold\">6.15005828e-02</span>,  <span style=\"color: #008080; text-decoration-color: #008080; font-weight: bold\">2.93591619e-02</span>,\n",
       "        <span style=\"color: #008080; text-decoration-color: #008080; font-weight: bold\">2.17619725e-02</span>, <span style=\"color: #008080; text-decoration-color: #008080; font-weight: bold\">-2.54875124e-02</span>,  <span style=\"color: #008080; text-decoration-color: #008080; font-weight: bold\">5.29429801e-02</span>,  <span style=\"color: #008080; text-decoration-color: #008080; font-weight: bold\">9.41745341e-02</span>,\n",
       "       <span style=\"color: #008080; text-decoration-color: #008080; font-weight: bold\">-1.48999076e-02</span>,  <span style=\"color: #008080; text-decoration-color: #008080; font-weight: bold\">5.13313012e-03</span>, <span style=\"color: #008080; text-decoration-color: #008080; font-weight: bold\">-2.50351634e-02</span>,  <span style=\"color: #008080; text-decoration-color: #008080; font-weight: bold\">3.08064204e-02</span>,\n",
       "        <span style=\"color: #008080; text-decoration-color: #008080; font-weight: bold\">9.95937642e-03</span>, <span style=\"color: #008080; text-decoration-color: #008080; font-weight: bold\">-7.74944648e-02</span>, <span style=\"color: #008080; text-decoration-color: #008080; font-weight: bold\">-6.28233775e-02</span>, <span style=\"color: #008080; text-decoration-color: #008080; font-weight: bold\">-1.42882504e-02</span>,\n",
       "        <span style=\"color: #008080; text-decoration-color: #008080; font-weight: bold\">5.68795204e-02</span>, <span style=\"color: #008080; text-decoration-color: #008080; font-weight: bold\">-1.67584028e-02</span>, <span style=\"color: #008080; text-decoration-color: #008080; font-weight: bold\">-9.76467356e-02</span>,  <span style=\"color: #008080; text-decoration-color: #008080; font-weight: bold\">1.92010738e-02</span>,\n",
       "        <span style=\"color: #008080; text-decoration-color: #008080; font-weight: bold\">5.68931624e-02</span>, <span style=\"color: #008080; text-decoration-color: #008080; font-weight: bold\">-6.54330198e-03</span>, <span style=\"color: #008080; text-decoration-color: #008080; font-weight: bold\">-2.20090393e-02</span>,  <span style=\"color: #008080; text-decoration-color: #008080; font-weight: bold\">3.55685800e-02</span>,\n",
       "        <span style=\"color: #008080; text-decoration-color: #008080; font-weight: bold\">1.49378534e-02</span>, <span style=\"color: #008080; text-decoration-color: #008080; font-weight: bold\">-5.76085374e-02</span>, <span style=\"color: #008080; text-decoration-color: #008080; font-weight: bold\">-3.87795009e-02</span>,  <span style=\"color: #008080; text-decoration-color: #008080; font-weight: bold\">1.49252620e-02</span>,\n",
       "       <span style=\"color: #008080; text-decoration-color: #008080; font-weight: bold\">-4.35932837e-02</span>,  <span style=\"color: #008080; text-decoration-color: #008080; font-weight: bold\">1.27165858e-02</span>, <span style=\"color: #008080; text-decoration-color: #008080; font-weight: bold\">-2.35435646e-02</span>,  <span style=\"color: #008080; text-decoration-color: #008080; font-weight: bold\">3.54422703e-02</span>,\n",
       "        <span style=\"color: #008080; text-decoration-color: #008080; font-weight: bold\">7.37417191e-02</span>, <span style=\"color: #008080; text-decoration-color: #008080; font-weight: bold\">-1.69062410e-02</span>, <span style=\"color: #008080; text-decoration-color: #008080; font-weight: bold\">-5.55281751e-02</span>,  <span style=\"color: #008080; text-decoration-color: #008080; font-weight: bold\">2.36016903e-02</span>,\n",
       "        <span style=\"color: #008080; text-decoration-color: #008080; font-weight: bold\">3.10728885e-02</span>,  <span style=\"color: #008080; text-decoration-color: #008080; font-weight: bold\">9.29200370e-03</span>, <span style=\"color: #008080; text-decoration-color: #008080; font-weight: bold\">-1.39807940e-01</span>,  <span style=\"color: #008080; text-decoration-color: #008080; font-weight: bold\">6.31070510e-02</span>,\n",
       "       <span style=\"color: #008080; text-decoration-color: #008080; font-weight: bold\">-8.65007564e-02</span>,  <span style=\"color: #008080; text-decoration-color: #008080; font-weight: bold\">8.58380422e-02</span>,  <span style=\"color: #008080; text-decoration-color: #008080; font-weight: bold\">6.25926107e-02</span>, <span style=\"color: #008080; text-decoration-color: #008080; font-weight: bold\">-4.39294800e-02</span>,\n",
       "       <span style=\"color: #008080; text-decoration-color: #008080; font-weight: bold\">-1.02253087e-01</span>,  <span style=\"color: #008080; text-decoration-color: #008080; font-weight: bold\">5.38468957e-02</span>,  <span style=\"color: #008080; text-decoration-color: #008080; font-weight: bold\">4.07825597e-03</span>,  <span style=\"color: #008080; text-decoration-color: #008080; font-weight: bold\">3.05190105e-02</span>,\n",
       "        <span style=\"color: #008080; text-decoration-color: #008080; font-weight: bold\">9.74546745e-03</span>, <span style=\"color: #008080; text-decoration-color: #008080; font-weight: bold\">-1.17320176e-02</span>, <span style=\"color: #008080; text-decoration-color: #008080; font-weight: bold\">-3.04327551e-02</span>,  <span style=\"color: #008080; text-decoration-color: #008080; font-weight: bold\">5.54381870e-02</span>,\n",
       "        <span style=\"color: #008080; text-decoration-color: #008080; font-weight: bold\">4.33079042e-02</span>,  <span style=\"color: #008080; text-decoration-color: #008080; font-weight: bold\">2.31118388e-02</span>,  <span style=\"color: #008080; text-decoration-color: #008080; font-weight: bold\">3.12857889e-02</span>,  <span style=\"color: #008080; text-decoration-color: #008080; font-weight: bold\">2.09679852e-33</span>,\n",
       "        <span style=\"color: #008080; text-decoration-color: #008080; font-weight: bold\">7.60374544e-03</span>,  <span style=\"color: #008080; text-decoration-color: #008080; font-weight: bold\">5.15185334e-02</span>,  <span style=\"color: #008080; text-decoration-color: #008080; font-weight: bold\">4.01855186e-02</span>,  <span style=\"color: #008080; text-decoration-color: #008080; font-weight: bold\">9.48100444e-03</span>,\n",
       "        <span style=\"color: #008080; text-decoration-color: #008080; font-weight: bold\">4.73989844e-02</span>, <span style=\"color: #008080; text-decoration-color: #008080; font-weight: bold\">-1.81057639e-02</span>,  <span style=\"color: #008080; text-decoration-color: #008080; font-weight: bold\">7.64710307e-02</span>,  <span style=\"color: #008080; text-decoration-color: #008080; font-weight: bold\">1.02195993e-01</span>,\n",
       "       <span style=\"color: #008080; text-decoration-color: #008080; font-weight: bold\">-5.79905324e-02</span>, <span style=\"color: #008080; text-decoration-color: #008080; font-weight: bold\">-2.65575154e-03</span>, <span style=\"color: #008080; text-decoration-color: #008080; font-weight: bold\">-4.71814014e-02</span>,  <span style=\"color: #008080; text-decoration-color: #008080; font-weight: bold\">5.32130152e-02</span>,\n",
       "        <span style=\"color: #008080; text-decoration-color: #008080; font-weight: bold\">6.27186894e-02</span>, <span style=\"color: #008080; text-decoration-color: #008080; font-weight: bold\">-9.99809280e-02</span>,  <span style=\"color: #008080; text-decoration-color: #008080; font-weight: bold\">1.90209448e-02</span>, <span style=\"color: #008080; text-decoration-color: #008080; font-weight: bold\">-2.67565735e-02</span>,\n",
       "        <span style=\"color: #008080; text-decoration-color: #008080; font-weight: bold\">3.78606357e-02</span>, <span style=\"color: #008080; text-decoration-color: #008080; font-weight: bold\">-5.08669810e-03</span>, <span style=\"color: #008080; text-decoration-color: #008080; font-weight: bold\">-8.72334000e-03</span>,  <span style=\"color: #008080; text-decoration-color: #008080; font-weight: bold\">7.94105008e-02</span>,\n",
       "       <span style=\"color: #008080; text-decoration-color: #008080; font-weight: bold\">-6.68245181e-02</span>,  <span style=\"color: #008080; text-decoration-color: #008080; font-weight: bold\">3.70643362e-02</span>,  <span style=\"color: #008080; text-decoration-color: #008080; font-weight: bold\">4.84880097e-02</span>, <span style=\"color: #008080; text-decoration-color: #008080; font-weight: bold\">-7.32360184e-02</span>,\n",
       "       <span style=\"color: #008080; text-decoration-color: #008080; font-weight: bold\">-9.17537510e-02</span>,  <span style=\"color: #008080; text-decoration-color: #008080; font-weight: bold\">4.64751534e-02</span>,  <span style=\"color: #008080; text-decoration-color: #008080; font-weight: bold\">5.61707206e-02</span>, <span style=\"color: #008080; text-decoration-color: #008080; font-weight: bold\">-4.63242680e-02</span>,\n",
       "       <span style=\"color: #008080; text-decoration-color: #008080; font-weight: bold\">-8.98049250e-02</span>,  <span style=\"color: #008080; text-decoration-color: #008080; font-weight: bold\">2.12385738e-03</span>, <span style=\"color: #008080; text-decoration-color: #008080; font-weight: bold\">-3.70797999e-02</span>, <span style=\"color: #008080; text-decoration-color: #008080; font-weight: bold\">-4.60132621e-02</span>,\n",
       "       <span style=\"color: #008080; text-decoration-color: #008080; font-weight: bold\">-1.38226151e-02</span>, <span style=\"color: #008080; text-decoration-color: #008080; font-weight: bold\">-1.38695643e-03</span>, <span style=\"color: #008080; text-decoration-color: #008080; font-weight: bold\">-3.78452614e-02</span>, <span style=\"color: #008080; text-decoration-color: #008080; font-weight: bold\">-2.42636986e-02</span>,\n",
       "       <span style=\"color: #008080; text-decoration-color: #008080; font-weight: bold\">-2.64411676e-03</span>, <span style=\"color: #008080; text-decoration-color: #008080; font-weight: bold\">-4.96937186e-02</span>, <span style=\"color: #008080; text-decoration-color: #008080; font-weight: bold\">-8.95356014e-02</span>,  <span style=\"color: #008080; text-decoration-color: #008080; font-weight: bold\">5.76081984e-02</span>,\n",
       "        <span style=\"color: #008080; text-decoration-color: #008080; font-weight: bold\">6.93976060e-02</span>,  <span style=\"color: #008080; text-decoration-color: #008080; font-weight: bold\">4.04079333e-02</span>,  <span style=\"color: #008080; text-decoration-color: #008080; font-weight: bold\">4.05525789e-02</span>, <span style=\"color: #008080; text-decoration-color: #008080; font-weight: bold\">-2.23945528e-02</span>,\n",
       "        <span style=\"color: #008080; text-decoration-color: #008080; font-weight: bold\">3.27829719e-02</span>, <span style=\"color: #008080; text-decoration-color: #008080; font-weight: bold\">-3.92962098e-02</span>, <span style=\"color: #008080; text-decoration-color: #008080; font-weight: bold\">-1.66252367e-02</span>, <span style=\"color: #008080; text-decoration-color: #008080; font-weight: bold\">-2.27249432e-02</span>,\n",
       "        <span style=\"color: #008080; text-decoration-color: #008080; font-weight: bold\">8.09704792e-03</span>,  <span style=\"color: #008080; text-decoration-color: #008080; font-weight: bold\">2.45077554e-02</span>, <span style=\"color: #008080; text-decoration-color: #008080; font-weight: bold\">-1.60320941e-02</span>, <span style=\"color: #008080; text-decoration-color: #008080; font-weight: bold\">-3.77065763e-02</span>,\n",
       "       <span style=\"color: #008080; text-decoration-color: #008080; font-weight: bold\">-6.70788661e-02</span>,  <span style=\"color: #008080; text-decoration-color: #008080; font-weight: bold\">3.73998121e-03</span>,  <span style=\"color: #008080; text-decoration-color: #008080; font-weight: bold\">4.16186787e-02</span>, <span style=\"color: #008080; text-decoration-color: #008080; font-weight: bold\">-2.70918235e-02</span>,\n",
       "       <span style=\"color: #008080; text-decoration-color: #008080; font-weight: bold\">-9.03971121e-02</span>,  <span style=\"color: #008080; text-decoration-color: #008080; font-weight: bold\">6.79163709e-02</span>,  <span style=\"color: #008080; text-decoration-color: #008080; font-weight: bold\">3.88247222e-02</span>,  <span style=\"color: #008080; text-decoration-color: #008080; font-weight: bold\">7.46520013e-02</span>,\n",
       "       <span style=\"color: #008080; text-decoration-color: #008080; font-weight: bold\">-7.11278245e-02</span>,  <span style=\"color: #008080; text-decoration-color: #008080; font-weight: bold\">3.50625720e-03</span>, <span style=\"color: #008080; text-decoration-color: #008080; font-weight: bold\">-3.11305448e-02</span>, <span style=\"color: #008080; text-decoration-color: #008080; font-weight: bold\">-5.94309531e-02</span>,\n",
       "       <span style=\"color: #008080; text-decoration-color: #008080; font-weight: bold\">-2.96580121e-02</span>,  <span style=\"color: #008080; text-decoration-color: #008080; font-weight: bold\">3.78954038e-02</span>, <span style=\"color: #008080; text-decoration-color: #008080; font-weight: bold\">-8.29358026e-02</span>,  <span style=\"color: #008080; text-decoration-color: #008080; font-weight: bold\">5.49225397e-02</span>,\n",
       "       <span style=\"color: #008080; text-decoration-color: #008080; font-weight: bold\">-4.66810092e-02</span>,  <span style=\"color: #008080; text-decoration-color: #008080; font-weight: bold\">6.00267276e-02</span>,  <span style=\"color: #008080; text-decoration-color: #008080; font-weight: bold\">5.62541485e-02</span>, <span style=\"color: #008080; text-decoration-color: #008080; font-weight: bold\">-7.75002241e-02</span>,\n",
       "       <span style=\"color: #008080; text-decoration-color: #008080; font-weight: bold\">-3.32642370e-03</span>, <span style=\"color: #008080; text-decoration-color: #008080; font-weight: bold\">-1.50975864e-02</span>,  <span style=\"color: #008080; text-decoration-color: #008080; font-weight: bold\">6.70612380e-02</span>,  <span style=\"color: #008080; text-decoration-color: #008080; font-weight: bold\">2.13221693e-03</span>,\n",
       "        <span style=\"color: #008080; text-decoration-color: #008080; font-weight: bold\">1.29092615e-02</span>,  <span style=\"color: #008080; text-decoration-color: #008080; font-weight: bold\">8.42488483e-02</span>, <span style=\"color: #008080; text-decoration-color: #008080; font-weight: bold\">-5.19326469e-03</span>, <span style=\"color: #008080; text-decoration-color: #008080; font-weight: bold\">-7.05636963e-02</span>,\n",
       "       <span style=\"color: #008080; text-decoration-color: #008080; font-weight: bold\">-4.98053469e-02</span>, <span style=\"color: #008080; text-decoration-color: #008080; font-weight: bold\">-1.13784835e-01</span>, <span style=\"color: #008080; text-decoration-color: #008080; font-weight: bold\">-8.60915780e-02</span>,  <span style=\"color: #008080; text-decoration-color: #008080; font-weight: bold\">5.09652309e-02</span>,\n",
       "        <span style=\"color: #008080; text-decoration-color: #008080; font-weight: bold\">4.96884026e-02</span>,  <span style=\"color: #008080; text-decoration-color: #008080; font-weight: bold\">6.75312951e-02</span>, <span style=\"color: #008080; text-decoration-color: #008080; font-weight: bold\">-7.26879165e-02</span>, <span style=\"color: #008080; text-decoration-color: #008080; font-weight: bold\">-1.26400054e-01</span>,\n",
       "        <span style=\"color: #008080; text-decoration-color: #008080; font-weight: bold\">1.75520275e-02</span>, <span style=\"color: #008080; text-decoration-color: #008080; font-weight: bold\">-1.00494260e-02</span>,  <span style=\"color: #008080; text-decoration-color: #008080; font-weight: bold\">1.36777265e-02</span>, <span style=\"color: #008080; text-decoration-color: #008080; font-weight: bold\">-3.30408365e-02</span>,\n",
       "       <span style=\"color: #008080; text-decoration-color: #008080; font-weight: bold\">-2.00095009e-02</span>,  <span style=\"color: #008080; text-decoration-color: #008080; font-weight: bold\">1.67586133e-02</span>,  <span style=\"color: #008080; text-decoration-color: #008080; font-weight: bold\">3.57736796e-02</span>, <span style=\"color: #008080; text-decoration-color: #008080; font-weight: bold\">-1.56289701e-08</span>,\n",
       "        <span style=\"color: #008080; text-decoration-color: #008080; font-weight: bold\">6.76318957e-03</span>, <span style=\"color: #008080; text-decoration-color: #008080; font-weight: bold\">-3.70291248e-02</span>,  <span style=\"color: #008080; text-decoration-color: #008080; font-weight: bold\">8.47296882e-03</span>, <span style=\"color: #008080; text-decoration-color: #008080; font-weight: bold\">-3.79659757e-02</span>,\n",
       "        <span style=\"color: #008080; text-decoration-color: #008080; font-weight: bold\">3.71299796e-02</span>,  <span style=\"color: #008080; text-decoration-color: #008080; font-weight: bold\">2.85336077e-02</span>,  <span style=\"color: #008080; text-decoration-color: #008080; font-weight: bold\">8.09519514e-02</span>, <span style=\"color: #008080; text-decoration-color: #008080; font-weight: bold\">-7.45419711e-02</span>,\n",
       "       <span style=\"color: #008080; text-decoration-color: #008080; font-weight: bold\">-2.62241680e-02</span>,  <span style=\"color: #008080; text-decoration-color: #008080; font-weight: bold\">1.41387377e-02</span>, <span style=\"color: #008080; text-decoration-color: #008080; font-weight: bold\">-8.36387873e-02</span>,  <span style=\"color: #008080; text-decoration-color: #008080; font-weight: bold\">5.79775870e-03</span>,\n",
       "        <span style=\"color: #008080; text-decoration-color: #008080; font-weight: bold\">5.10648265e-02</span>,  <span style=\"color: #008080; text-decoration-color: #008080; font-weight: bold\">1.00697495e-01</span>, <span style=\"color: #008080; text-decoration-color: #008080; font-weight: bold\">-1.63877327e-02</span>,  <span style=\"color: #008080; text-decoration-color: #008080; font-weight: bold\">4.27417643e-02</span>,\n",
       "       <span style=\"color: #008080; text-decoration-color: #008080; font-weight: bold\">-8.57451698e-04</span>, <span style=\"color: #008080; text-decoration-color: #008080; font-weight: bold\">-6.30109524e-03</span>, <span style=\"color: #008080; text-decoration-color: #008080; font-weight: bold\">-6.67344872e-03</span>, <span style=\"color: #008080; text-decoration-color: #008080; font-weight: bold\">-3.32391821e-02</span>,\n",
       "       <span style=\"color: #008080; text-decoration-color: #008080; font-weight: bold\">-1.40663544e-02</span>, <span style=\"color: #008080; text-decoration-color: #008080; font-weight: bold\">-5.18720336e-02</span>, <span style=\"color: #008080; text-decoration-color: #008080; font-weight: bold\">-4.35877070e-02</span>,  <span style=\"color: #008080; text-decoration-color: #008080; font-weight: bold\">5.72984256e-02</span>,\n",
       "       <span style=\"color: #008080; text-decoration-color: #008080; font-weight: bold\">-7.79767334e-02</span>,  <span style=\"color: #008080; text-decoration-color: #008080; font-weight: bold\">8.40231553e-02</span>, <span style=\"color: #008080; text-decoration-color: #008080; font-weight: bold\">-7.93196484e-02</span>, <span style=\"color: #008080; text-decoration-color: #008080; font-weight: bold\">-1.85233243e-02</span>,\n",
       "        <span style=\"color: #008080; text-decoration-color: #008080; font-weight: bold\">2.63049058e-03</span>,  <span style=\"color: #008080; text-decoration-color: #008080; font-weight: bold\">2.56877411e-02</span>,  <span style=\"color: #008080; text-decoration-color: #008080; font-weight: bold\">2.07881518e-02</span>,  <span style=\"color: #008080; text-decoration-color: #008080; font-weight: bold\">2.38934699e-02</span>,\n",
       "       <span style=\"color: #008080; text-decoration-color: #008080; font-weight: bold\">-5.05169071e-02</span>, <span style=\"color: #008080; text-decoration-color: #008080; font-weight: bold\">-7.03075379e-02</span>,  <span style=\"color: #008080; text-decoration-color: #008080; font-weight: bold\">7.30674937e-02</span>,  <span style=\"color: #008080; text-decoration-color: #008080; font-weight: bold\">3.57177528e-03</span>,\n",
       "       <span style=\"color: #008080; text-decoration-color: #008080; font-weight: bold\">-9.72174015e-03</span>,  <span style=\"color: #008080; text-decoration-color: #008080; font-weight: bold\">4.50421833e-02</span>, <span style=\"color: #008080; text-decoration-color: #008080; font-weight: bold\">-6.84402958e-02</span>,  <span style=\"color: #008080; text-decoration-color: #008080; font-weight: bold\">8.81800614e-03</span>,\n",
       "       <span style=\"color: #008080; text-decoration-color: #008080; font-weight: bold\">-2.26684497e-03</span>, <span style=\"color: #008080; text-decoration-color: #008080; font-weight: bold\">-6.05719583e-03</span>,  <span style=\"color: #008080; text-decoration-color: #008080; font-weight: bold\">6.95818141e-02</span>, <span style=\"color: #008080; text-decoration-color: #008080; font-weight: bold\">-2.02234127e-02</span>,\n",
       "        <span style=\"color: #008080; text-decoration-color: #008080; font-weight: bold\">8.74792114e-02</span>,  <span style=\"color: #008080; text-decoration-color: #008080; font-weight: bold\">5.24009168e-02</span>,  <span style=\"color: #008080; text-decoration-color: #008080; font-weight: bold\">6.86456040e-02</span>, <span style=\"color: #008080; text-decoration-color: #008080; font-weight: bold\">-3.85396592e-02</span>,\n",
       "       <span style=\"color: #008080; text-decoration-color: #008080; font-weight: bold\">-5.62222674e-02</span>,  <span style=\"color: #008080; text-decoration-color: #008080; font-weight: bold\">5.88351861e-02</span>,  <span style=\"color: #008080; text-decoration-color: #008080; font-weight: bold\">3.80975045e-02</span>, <span style=\"color: #008080; text-decoration-color: #008080; font-weight: bold\">-2.02424303e-02</span>,\n",
       "        <span style=\"color: #008080; text-decoration-color: #008080; font-weight: bold\">6.01309277e-02</span>,  <span style=\"color: #008080; text-decoration-color: #008080; font-weight: bold\">7.64503479e-02</span>,  <span style=\"color: #008080; text-decoration-color: #008080; font-weight: bold\">2.15837453e-02</span>, <span style=\"color: #008080; text-decoration-color: #008080; font-weight: bold\">-9.55632776e-02</span>,\n",
       "        <span style=\"color: #008080; text-decoration-color: #008080; font-weight: bold\">1.09462813e-01</span>, <span style=\"color: #008080; text-decoration-color: #008080; font-weight: bold\">-6.69440106e-02</span>,  <span style=\"color: #008080; text-decoration-color: #008080; font-weight: bold\">3.08107976e-02</span>,  <span style=\"color: #008080; text-decoration-color: #008080; font-weight: bold\">7.32404962e-02</span>,\n",
       "        <span style=\"color: #008080; text-decoration-color: #008080; font-weight: bold\">5.03016450e-02</span>, <span style=\"color: #008080; text-decoration-color: #008080; font-weight: bold\">-4.42634001e-02</span>, <span style=\"color: #008080; text-decoration-color: #008080; font-weight: bold\">-5.95153309e-02</span>, <span style=\"color: #008080; text-decoration-color: #008080; font-weight: bold\">-2.80777346e-02</span><span style=\"font-weight: bold\">]</span>,\n",
       "      <span style=\"color: #808000; text-decoration-color: #808000\">dtype</span>=<span style=\"color: #800080; text-decoration-color: #800080\">float32</span><span style=\"font-weight: bold\">)</span>,\n",
       "    <span style=\"color: #008000; text-decoration-color: #008000\">'doc_scores'</span>: <span style=\"color: #800080; text-decoration-color: #800080; font-weight: bold\">array</span><span style=\"font-weight: bold\">([</span><span style=\"color: #008080; text-decoration-color: #008080; font-weight: bold\">0.10304008</span>, <span style=\"color: #008080; text-decoration-color: #008080; font-weight: bold\">0.130233</span>  , <span style=\"color: #008080; text-decoration-color: #008080; font-weight: bold\">0.20195282</span>, <span style=\"color: #808000; text-decoration-color: #808000\">...</span>, <span style=\"color: #008080; text-decoration-color: #008080; font-weight: bold\">0.12262188</span>, <span style=\"color: #008080; text-decoration-color: #008080; font-weight: bold\">0.12391461</span>,\n",
       "       <span style=\"color: #008080; text-decoration-color: #008080; font-weight: bold\">0.2100388</span> <span style=\"font-weight: bold\">]</span>, <span style=\"color: #808000; text-decoration-color: #808000\">dtype</span>=<span style=\"color: #800080; text-decoration-color: #800080\">float32</span><span style=\"font-weight: bold\">)</span>,\n",
       "    <span style=\"color: #008000; text-decoration-color: #008000\">'top_items'</span>: <span style=\"color: #800080; text-decoration-color: #800080; font-weight: bold\">array</span><span style=\"font-weight: bold\">([</span> <span style=\"color: #008080; text-decoration-color: #008080; font-weight: bold\">6864</span>, <span style=\"color: #008080; text-decoration-color: #008080; font-weight: bold\">12221</span>, <span style=\"color: #008080; text-decoration-color: #008080; font-weight: bold\">15746</span>, <span style=\"color: #008080; text-decoration-color: #008080; font-weight: bold\">19658</span>,  <span style=\"color: #008080; text-decoration-color: #008080; font-weight: bold\">8465</span><span style=\"font-weight: bold\">])</span>\n",
       "<span style=\"font-weight: bold\">}</span>\n",
       "</pre>\n"
      ],
      "text/plain": [
       "\u001b[1m{\u001b[0m\n",
       "    \u001b[32m'query_original'\u001b[0m: \u001b[32m'image of a man in a desert'\u001b[0m,\n",
       "    \u001b[32m'query_processed'\u001b[0m: \u001b[1;35marray\u001b[0m\u001b[1m(\u001b[0m\u001b[1m[\u001b[0m \u001b[1;36m6.32947534e-02\u001b[0m,  \u001b[1;36m1.24192499e-01\u001b[0m, \u001b[1;36m-2.32294332e-02\u001b[0m,  \u001b[1;36m7.78998807e-03\u001b[0m,\n",
       "        \u001b[1;36m2.82716788e-02\u001b[0m, \u001b[1;36m-2.40863636e-02\u001b[0m,  \u001b[1;36m1.31348416e-01\u001b[0m, \u001b[1;36m-6.79284930e-02\u001b[0m,\n",
       "        \u001b[1;36m2.57225148e-02\u001b[0m,  \u001b[1;36m1.04728043e-02\u001b[0m,  \u001b[1;36m5.06874435e-02\u001b[0m, \u001b[1;36m-8.11643004e-02\u001b[0m,\n",
       "        \u001b[1;36m9.45465490e-02\u001b[0m,  \u001b[1;36m5.87001480e-02\u001b[0m,  \u001b[1;36m5.51839098e-02\u001b[0m, \u001b[1;36m-3.88276018e-02\u001b[0m,\n",
       "       \u001b[1;36m-3.57096419e-02\u001b[0m,  \u001b[1;36m3.80245745e-02\u001b[0m,  \u001b[1;36m3.86204235e-02\u001b[0m, \u001b[1;36m-2.83764917e-02\u001b[0m,\n",
       "       \u001b[1;36m-2.16995738e-02\u001b[0m,  \u001b[1;36m2.87901442e-02\u001b[0m,  \u001b[1;36m1.18983900e-02\u001b[0m, \u001b[1;36m-5.04343174e-02\u001b[0m,\n",
       "       \u001b[1;36m-7.90204480e-02\u001b[0m, \u001b[1;36m-2.33318489e-02\u001b[0m, \u001b[1;36m-9.52090323e-03\u001b[0m,  \u001b[1;36m5.76721951e-02\u001b[0m,\n",
       "       \u001b[1;36m-2.41583139e-02\u001b[0m, \u001b[1;36m-3.99373621e-02\u001b[0m,  \u001b[1;36m3.81454490e-02\u001b[0m,  \u001b[1;36m2.18772311e-02\u001b[0m,\n",
       "        \u001b[1;36m2.12652571e-02\u001b[0m, \u001b[1;36m-3.48423868e-02\u001b[0m,  \u001b[1;36m1.09066674e-02\u001b[0m,  \u001b[1;36m1.06592728e-02\u001b[0m,\n",
       "       \u001b[1;36m-5.02256118e-02\u001b[0m,  \u001b[1;36m3.19877379e-02\u001b[0m, \u001b[1;36m-5.95463961e-02\u001b[0m,  \u001b[1;36m4.30590175e-02\u001b[0m,\n",
       "        \u001b[1;36m2.06208210e-02\u001b[0m, \u001b[1;36m-4.87505533e-02\u001b[0m,  \u001b[1;36m5.11444099e-02\u001b[0m,  \u001b[1;36m5.83226718e-02\u001b[0m,\n",
       "        \u001b[1;36m2.46753171e-02\u001b[0m,  \u001b[1;36m6.96470886e-02\u001b[0m,  \u001b[1;36m3.27836117e-03\u001b[0m, \u001b[1;36m-1.08690711e-03\u001b[0m,\n",
       "        \u001b[1;36m1.23149894e-01\u001b[0m,  \u001b[1;36m8.28368030e-03\u001b[0m, \u001b[1;36m-8.92766044e-02\u001b[0m,  \u001b[1;36m8.87478702e-03\u001b[0m,\n",
       "       \u001b[1;36m-4.88979481e-02\u001b[0m, \u001b[1;36m-5.94949797e-02\u001b[0m,  \u001b[1;36m2.77780415e-03\u001b[0m, \u001b[1;36m-5.36132045e-02\u001b[0m,\n",
       "        \u001b[1;36m4.49112989e-02\u001b[0m, \u001b[1;36m-2.03460325e-02\u001b[0m, \u001b[1;36m-3.06635741e-02\u001b[0m, \u001b[1;36m-3.85979414e-02\u001b[0m,\n",
       "        \u001b[1;36m1.73355006e-02\u001b[0m,  \u001b[1;36m3.44189741e-02\u001b[0m, \u001b[1;36m-1.35636434e-03\u001b[0m,  \u001b[1;36m1.07655842e-05\u001b[0m,\n",
       "        \u001b[1;36m1.40614912e-01\u001b[0m, \u001b[1;36m-3.98737937e-02\u001b[0m,  \u001b[1;36m1.58259389e-03\u001b[0m, \u001b[1;36m-1.16327114e-01\u001b[0m,\n",
       "        \u001b[1;36m5.28831482e-02\u001b[0m, \u001b[1;36m-6.69457465e-02\u001b[0m, \u001b[1;36m-1.00005390e-02\u001b[0m,  \u001b[1;36m9.94998217e-03\u001b[0m,\n",
       "       \u001b[1;36m-2.71171369e-02\u001b[0m, \u001b[1;36m-8.05303901e-02\u001b[0m, \u001b[1;36m-1.15467973e-01\u001b[0m, \u001b[1;36m-1.03774965e-01\u001b[0m,\n",
       "       \u001b[1;36m-3.83616276e-02\u001b[0m,  \u001b[1;36m1.20942928e-02\u001b[0m, \u001b[1;36m-3.43221910e-02\u001b[0m, \u001b[1;36m-5.17199701e-03\u001b[0m,\n",
       "        \u001b[1;36m9.89541784e-02\u001b[0m, \u001b[1;36m-6.89451629e-03\u001b[0m,  \u001b[1;36m3.88789997e-02\u001b[0m, \u001b[1;36m-4.81113978e-02\u001b[0m,\n",
       "       \u001b[1;36m-2.26192009e-02\u001b[0m,  \u001b[1;36m1.60770249e-02\u001b[0m, \u001b[1;36m-4.23194980e-03\u001b[0m,  \u001b[1;36m1.82598026e-03\u001b[0m,\n",
       "        \u001b[1;36m2.06454583e-02\u001b[0m,  \u001b[1;36m5.77857625e-03\u001b[0m, \u001b[1;36m-4.65922542e-02\u001b[0m, \u001b[1;36m-4.71361987e-02\u001b[0m,\n",
       "       \u001b[1;36m-4.41993885e-02\u001b[0m,  \u001b[1;36m5.06741635e-04\u001b[0m, \u001b[1;36m-4.62268554e-02\u001b[0m, \u001b[1;36m-1.73499938e-02\u001b[0m,\n",
       "        \u001b[1;36m2.00978643e-03\u001b[0m, \u001b[1;36m-3.05878092e-02\u001b[0m, \u001b[1;36m-6.82516992e-02\u001b[0m,  \u001b[1;36m6.81843162e-02\u001b[0m,\n",
       "        \u001b[1;36m8.01285952e-02\u001b[0m, \u001b[1;36m-1.06879808e-01\u001b[0m,  \u001b[1;36m1.22480812e-02\u001b[0m, \u001b[1;36m-2.52861977e-02\u001b[0m,\n",
       "        \u001b[1;36m1.05119042e-01\u001b[0m, \u001b[1;36m-1.24540552e-02\u001b[0m,  \u001b[1;36m6.40390953e-03\u001b[0m,  \u001b[1;36m1.77443493e-02\u001b[0m,\n",
       "       \u001b[1;36m-3.00352704e-02\u001b[0m, \u001b[1;36m-9.96275991e-03\u001b[0m, \u001b[1;36m-3.68016362e-02\u001b[0m, \u001b[1;36m-6.61875010e-02\u001b[0m,\n",
       "       \u001b[1;36m-4.56597582e-02\u001b[0m,  \u001b[1;36m2.86053885e-02\u001b[0m,  \u001b[1;36m6.47853464e-02\u001b[0m, \u001b[1;36m-2.54829507e-02\u001b[0m,\n",
       "       \u001b[1;36m-5.31485118e-02\u001b[0m, \u001b[1;36m-6.33666813e-02\u001b[0m, \u001b[1;36m-6.67340606e-02\u001b[0m,  \u001b[1;36m1.94186717e-02\u001b[0m,\n",
       "       \u001b[1;36m-1.15128644e-02\u001b[0m,  \u001b[1;36m3.60787250e-02\u001b[0m,  \u001b[1;36m2.06134655e-02\u001b[0m,  \u001b[1;36m9.24573466e-02\u001b[0m,\n",
       "        \u001b[1;36m3.93706039e-02\u001b[0m, \u001b[1;36m-1.23830661e-02\u001b[0m,  \u001b[1;36m5.65089807e-02\u001b[0m, \u001b[1;36m-5.97997853e-33\u001b[0m,\n",
       "        \u001b[1;36m3.33683603e-02\u001b[0m,  \u001b[1;36m3.97037789e-02\u001b[0m,  \u001b[1;36m5.59407584e-02\u001b[0m,  \u001b[1;36m4.35199626e-02\u001b[0m,\n",
       "        \u001b[1;36m5.27929440e-02\u001b[0m, \u001b[1;36m-2.16232762e-02\u001b[0m,  \u001b[1;36m4.09237714e-03\u001b[0m, \u001b[1;36m-7.75826648e-02\u001b[0m,\n",
       "       \u001b[1;36m-2.97988057e-02\u001b[0m, \u001b[1;36m-7.98005462e-02\u001b[0m,  \u001b[1;36m5.02836369e-02\u001b[0m, \u001b[1;36m-1.58946309e-02\u001b[0m,\n",
       "       \u001b[1;36m-2.43129078e-02\u001b[0m,  \u001b[1;36m1.61693841e-01\u001b[0m, \u001b[1;36m-3.71846594e-02\u001b[0m, \u001b[1;36m-1.35098230e-02\u001b[0m,\n",
       "       \u001b[1;36m-4.57702111e-03\u001b[0m, \u001b[1;36m-5.40835559e-02\u001b[0m,  \u001b[1;36m1.45904589e-02\u001b[0m, \u001b[1;36m-3.94143052e-02\u001b[0m,\n",
       "       \u001b[1;36m-7.38223642e-02\u001b[0m,  \u001b[1;36m3.93503830e-02\u001b[0m, \u001b[1;36m-2.17185845e-03\u001b[0m, \u001b[1;36m-3.48750055e-02\u001b[0m,\n",
       "        \u001b[1;36m2.12167185e-02\u001b[0m,  \u001b[1;36m3.35267149e-02\u001b[0m,  \u001b[1;36m7.90317543e-03\u001b[0m, \u001b[1;36m-3.54881920e-02\u001b[0m,\n",
       "        \u001b[1;36m2.25763228e-02\u001b[0m,  \u001b[1;36m2.97231018e-03\u001b[0m, \u001b[1;36m-1.76198047e-03\u001b[0m,  \u001b[1;36m4.03513089e-02\u001b[0m,\n",
       "        \u001b[1;36m7.02505093e-03\u001b[0m, \u001b[1;36m-4.67241965e-02\u001b[0m,  \u001b[1;36m2.30240431e-02\u001b[0m, \u001b[1;36m-5.00222109e-02\u001b[0m,\n",
       "       \u001b[1;36m-5.43840006e-02\u001b[0m,  \u001b[1;36m5.41807376e-02\u001b[0m, \u001b[1;36m-7.89700523e-02\u001b[0m,  \u001b[1;36m1.95282158e-02\u001b[0m,\n",
       "        \u001b[1;36m1.05172740e-02\u001b[0m,  \u001b[1;36m2.44100019e-02\u001b[0m,  \u001b[1;36m6.15005828e-02\u001b[0m,  \u001b[1;36m2.93591619e-02\u001b[0m,\n",
       "        \u001b[1;36m2.17619725e-02\u001b[0m, \u001b[1;36m-2.54875124e-02\u001b[0m,  \u001b[1;36m5.29429801e-02\u001b[0m,  \u001b[1;36m9.41745341e-02\u001b[0m,\n",
       "       \u001b[1;36m-1.48999076e-02\u001b[0m,  \u001b[1;36m5.13313012e-03\u001b[0m, \u001b[1;36m-2.50351634e-02\u001b[0m,  \u001b[1;36m3.08064204e-02\u001b[0m,\n",
       "        \u001b[1;36m9.95937642e-03\u001b[0m, \u001b[1;36m-7.74944648e-02\u001b[0m, \u001b[1;36m-6.28233775e-02\u001b[0m, \u001b[1;36m-1.42882504e-02\u001b[0m,\n",
       "        \u001b[1;36m5.68795204e-02\u001b[0m, \u001b[1;36m-1.67584028e-02\u001b[0m, \u001b[1;36m-9.76467356e-02\u001b[0m,  \u001b[1;36m1.92010738e-02\u001b[0m,\n",
       "        \u001b[1;36m5.68931624e-02\u001b[0m, \u001b[1;36m-6.54330198e-03\u001b[0m, \u001b[1;36m-2.20090393e-02\u001b[0m,  \u001b[1;36m3.55685800e-02\u001b[0m,\n",
       "        \u001b[1;36m1.49378534e-02\u001b[0m, \u001b[1;36m-5.76085374e-02\u001b[0m, \u001b[1;36m-3.87795009e-02\u001b[0m,  \u001b[1;36m1.49252620e-02\u001b[0m,\n",
       "       \u001b[1;36m-4.35932837e-02\u001b[0m,  \u001b[1;36m1.27165858e-02\u001b[0m, \u001b[1;36m-2.35435646e-02\u001b[0m,  \u001b[1;36m3.54422703e-02\u001b[0m,\n",
       "        \u001b[1;36m7.37417191e-02\u001b[0m, \u001b[1;36m-1.69062410e-02\u001b[0m, \u001b[1;36m-5.55281751e-02\u001b[0m,  \u001b[1;36m2.36016903e-02\u001b[0m,\n",
       "        \u001b[1;36m3.10728885e-02\u001b[0m,  \u001b[1;36m9.29200370e-03\u001b[0m, \u001b[1;36m-1.39807940e-01\u001b[0m,  \u001b[1;36m6.31070510e-02\u001b[0m,\n",
       "       \u001b[1;36m-8.65007564e-02\u001b[0m,  \u001b[1;36m8.58380422e-02\u001b[0m,  \u001b[1;36m6.25926107e-02\u001b[0m, \u001b[1;36m-4.39294800e-02\u001b[0m,\n",
       "       \u001b[1;36m-1.02253087e-01\u001b[0m,  \u001b[1;36m5.38468957e-02\u001b[0m,  \u001b[1;36m4.07825597e-03\u001b[0m,  \u001b[1;36m3.05190105e-02\u001b[0m,\n",
       "        \u001b[1;36m9.74546745e-03\u001b[0m, \u001b[1;36m-1.17320176e-02\u001b[0m, \u001b[1;36m-3.04327551e-02\u001b[0m,  \u001b[1;36m5.54381870e-02\u001b[0m,\n",
       "        \u001b[1;36m4.33079042e-02\u001b[0m,  \u001b[1;36m2.31118388e-02\u001b[0m,  \u001b[1;36m3.12857889e-02\u001b[0m,  \u001b[1;36m2.09679852e-33\u001b[0m,\n",
       "        \u001b[1;36m7.60374544e-03\u001b[0m,  \u001b[1;36m5.15185334e-02\u001b[0m,  \u001b[1;36m4.01855186e-02\u001b[0m,  \u001b[1;36m9.48100444e-03\u001b[0m,\n",
       "        \u001b[1;36m4.73989844e-02\u001b[0m, \u001b[1;36m-1.81057639e-02\u001b[0m,  \u001b[1;36m7.64710307e-02\u001b[0m,  \u001b[1;36m1.02195993e-01\u001b[0m,\n",
       "       \u001b[1;36m-5.79905324e-02\u001b[0m, \u001b[1;36m-2.65575154e-03\u001b[0m, \u001b[1;36m-4.71814014e-02\u001b[0m,  \u001b[1;36m5.32130152e-02\u001b[0m,\n",
       "        \u001b[1;36m6.27186894e-02\u001b[0m, \u001b[1;36m-9.99809280e-02\u001b[0m,  \u001b[1;36m1.90209448e-02\u001b[0m, \u001b[1;36m-2.67565735e-02\u001b[0m,\n",
       "        \u001b[1;36m3.78606357e-02\u001b[0m, \u001b[1;36m-5.08669810e-03\u001b[0m, \u001b[1;36m-8.72334000e-03\u001b[0m,  \u001b[1;36m7.94105008e-02\u001b[0m,\n",
       "       \u001b[1;36m-6.68245181e-02\u001b[0m,  \u001b[1;36m3.70643362e-02\u001b[0m,  \u001b[1;36m4.84880097e-02\u001b[0m, \u001b[1;36m-7.32360184e-02\u001b[0m,\n",
       "       \u001b[1;36m-9.17537510e-02\u001b[0m,  \u001b[1;36m4.64751534e-02\u001b[0m,  \u001b[1;36m5.61707206e-02\u001b[0m, \u001b[1;36m-4.63242680e-02\u001b[0m,\n",
       "       \u001b[1;36m-8.98049250e-02\u001b[0m,  \u001b[1;36m2.12385738e-03\u001b[0m, \u001b[1;36m-3.70797999e-02\u001b[0m, \u001b[1;36m-4.60132621e-02\u001b[0m,\n",
       "       \u001b[1;36m-1.38226151e-02\u001b[0m, \u001b[1;36m-1.38695643e-03\u001b[0m, \u001b[1;36m-3.78452614e-02\u001b[0m, \u001b[1;36m-2.42636986e-02\u001b[0m,\n",
       "       \u001b[1;36m-2.64411676e-03\u001b[0m, \u001b[1;36m-4.96937186e-02\u001b[0m, \u001b[1;36m-8.95356014e-02\u001b[0m,  \u001b[1;36m5.76081984e-02\u001b[0m,\n",
       "        \u001b[1;36m6.93976060e-02\u001b[0m,  \u001b[1;36m4.04079333e-02\u001b[0m,  \u001b[1;36m4.05525789e-02\u001b[0m, \u001b[1;36m-2.23945528e-02\u001b[0m,\n",
       "        \u001b[1;36m3.27829719e-02\u001b[0m, \u001b[1;36m-3.92962098e-02\u001b[0m, \u001b[1;36m-1.66252367e-02\u001b[0m, \u001b[1;36m-2.27249432e-02\u001b[0m,\n",
       "        \u001b[1;36m8.09704792e-03\u001b[0m,  \u001b[1;36m2.45077554e-02\u001b[0m, \u001b[1;36m-1.60320941e-02\u001b[0m, \u001b[1;36m-3.77065763e-02\u001b[0m,\n",
       "       \u001b[1;36m-6.70788661e-02\u001b[0m,  \u001b[1;36m3.73998121e-03\u001b[0m,  \u001b[1;36m4.16186787e-02\u001b[0m, \u001b[1;36m-2.70918235e-02\u001b[0m,\n",
       "       \u001b[1;36m-9.03971121e-02\u001b[0m,  \u001b[1;36m6.79163709e-02\u001b[0m,  \u001b[1;36m3.88247222e-02\u001b[0m,  \u001b[1;36m7.46520013e-02\u001b[0m,\n",
       "       \u001b[1;36m-7.11278245e-02\u001b[0m,  \u001b[1;36m3.50625720e-03\u001b[0m, \u001b[1;36m-3.11305448e-02\u001b[0m, \u001b[1;36m-5.94309531e-02\u001b[0m,\n",
       "       \u001b[1;36m-2.96580121e-02\u001b[0m,  \u001b[1;36m3.78954038e-02\u001b[0m, \u001b[1;36m-8.29358026e-02\u001b[0m,  \u001b[1;36m5.49225397e-02\u001b[0m,\n",
       "       \u001b[1;36m-4.66810092e-02\u001b[0m,  \u001b[1;36m6.00267276e-02\u001b[0m,  \u001b[1;36m5.62541485e-02\u001b[0m, \u001b[1;36m-7.75002241e-02\u001b[0m,\n",
       "       \u001b[1;36m-3.32642370e-03\u001b[0m, \u001b[1;36m-1.50975864e-02\u001b[0m,  \u001b[1;36m6.70612380e-02\u001b[0m,  \u001b[1;36m2.13221693e-03\u001b[0m,\n",
       "        \u001b[1;36m1.29092615e-02\u001b[0m,  \u001b[1;36m8.42488483e-02\u001b[0m, \u001b[1;36m-5.19326469e-03\u001b[0m, \u001b[1;36m-7.05636963e-02\u001b[0m,\n",
       "       \u001b[1;36m-4.98053469e-02\u001b[0m, \u001b[1;36m-1.13784835e-01\u001b[0m, \u001b[1;36m-8.60915780e-02\u001b[0m,  \u001b[1;36m5.09652309e-02\u001b[0m,\n",
       "        \u001b[1;36m4.96884026e-02\u001b[0m,  \u001b[1;36m6.75312951e-02\u001b[0m, \u001b[1;36m-7.26879165e-02\u001b[0m, \u001b[1;36m-1.26400054e-01\u001b[0m,\n",
       "        \u001b[1;36m1.75520275e-02\u001b[0m, \u001b[1;36m-1.00494260e-02\u001b[0m,  \u001b[1;36m1.36777265e-02\u001b[0m, \u001b[1;36m-3.30408365e-02\u001b[0m,\n",
       "       \u001b[1;36m-2.00095009e-02\u001b[0m,  \u001b[1;36m1.67586133e-02\u001b[0m,  \u001b[1;36m3.57736796e-02\u001b[0m, \u001b[1;36m-1.56289701e-08\u001b[0m,\n",
       "        \u001b[1;36m6.76318957e-03\u001b[0m, \u001b[1;36m-3.70291248e-02\u001b[0m,  \u001b[1;36m8.47296882e-03\u001b[0m, \u001b[1;36m-3.79659757e-02\u001b[0m,\n",
       "        \u001b[1;36m3.71299796e-02\u001b[0m,  \u001b[1;36m2.85336077e-02\u001b[0m,  \u001b[1;36m8.09519514e-02\u001b[0m, \u001b[1;36m-7.45419711e-02\u001b[0m,\n",
       "       \u001b[1;36m-2.62241680e-02\u001b[0m,  \u001b[1;36m1.41387377e-02\u001b[0m, \u001b[1;36m-8.36387873e-02\u001b[0m,  \u001b[1;36m5.79775870e-03\u001b[0m,\n",
       "        \u001b[1;36m5.10648265e-02\u001b[0m,  \u001b[1;36m1.00697495e-01\u001b[0m, \u001b[1;36m-1.63877327e-02\u001b[0m,  \u001b[1;36m4.27417643e-02\u001b[0m,\n",
       "       \u001b[1;36m-8.57451698e-04\u001b[0m, \u001b[1;36m-6.30109524e-03\u001b[0m, \u001b[1;36m-6.67344872e-03\u001b[0m, \u001b[1;36m-3.32391821e-02\u001b[0m,\n",
       "       \u001b[1;36m-1.40663544e-02\u001b[0m, \u001b[1;36m-5.18720336e-02\u001b[0m, \u001b[1;36m-4.35877070e-02\u001b[0m,  \u001b[1;36m5.72984256e-02\u001b[0m,\n",
       "       \u001b[1;36m-7.79767334e-02\u001b[0m,  \u001b[1;36m8.40231553e-02\u001b[0m, \u001b[1;36m-7.93196484e-02\u001b[0m, \u001b[1;36m-1.85233243e-02\u001b[0m,\n",
       "        \u001b[1;36m2.63049058e-03\u001b[0m,  \u001b[1;36m2.56877411e-02\u001b[0m,  \u001b[1;36m2.07881518e-02\u001b[0m,  \u001b[1;36m2.38934699e-02\u001b[0m,\n",
       "       \u001b[1;36m-5.05169071e-02\u001b[0m, \u001b[1;36m-7.03075379e-02\u001b[0m,  \u001b[1;36m7.30674937e-02\u001b[0m,  \u001b[1;36m3.57177528e-03\u001b[0m,\n",
       "       \u001b[1;36m-9.72174015e-03\u001b[0m,  \u001b[1;36m4.50421833e-02\u001b[0m, \u001b[1;36m-6.84402958e-02\u001b[0m,  \u001b[1;36m8.81800614e-03\u001b[0m,\n",
       "       \u001b[1;36m-2.26684497e-03\u001b[0m, \u001b[1;36m-6.05719583e-03\u001b[0m,  \u001b[1;36m6.95818141e-02\u001b[0m, \u001b[1;36m-2.02234127e-02\u001b[0m,\n",
       "        \u001b[1;36m8.74792114e-02\u001b[0m,  \u001b[1;36m5.24009168e-02\u001b[0m,  \u001b[1;36m6.86456040e-02\u001b[0m, \u001b[1;36m-3.85396592e-02\u001b[0m,\n",
       "       \u001b[1;36m-5.62222674e-02\u001b[0m,  \u001b[1;36m5.88351861e-02\u001b[0m,  \u001b[1;36m3.80975045e-02\u001b[0m, \u001b[1;36m-2.02424303e-02\u001b[0m,\n",
       "        \u001b[1;36m6.01309277e-02\u001b[0m,  \u001b[1;36m7.64503479e-02\u001b[0m,  \u001b[1;36m2.15837453e-02\u001b[0m, \u001b[1;36m-9.55632776e-02\u001b[0m,\n",
       "        \u001b[1;36m1.09462813e-01\u001b[0m, \u001b[1;36m-6.69440106e-02\u001b[0m,  \u001b[1;36m3.08107976e-02\u001b[0m,  \u001b[1;36m7.32404962e-02\u001b[0m,\n",
       "        \u001b[1;36m5.03016450e-02\u001b[0m, \u001b[1;36m-4.42634001e-02\u001b[0m, \u001b[1;36m-5.95153309e-02\u001b[0m, \u001b[1;36m-2.80777346e-02\u001b[0m\u001b[1m]\u001b[0m,\n",
       "      \u001b[33mdtype\u001b[0m=\u001b[35mfloat32\u001b[0m\u001b[1m)\u001b[0m,\n",
       "    \u001b[32m'doc_scores'\u001b[0m: \u001b[1;35marray\u001b[0m\u001b[1m(\u001b[0m\u001b[1m[\u001b[0m\u001b[1;36m0.10304008\u001b[0m, \u001b[1;36m0.130233\u001b[0m  , \u001b[1;36m0.20195282\u001b[0m, \u001b[33m...\u001b[0m, \u001b[1;36m0.12262188\u001b[0m, \u001b[1;36m0.12391461\u001b[0m,\n",
       "       \u001b[1;36m0.2100388\u001b[0m \u001b[1m]\u001b[0m, \u001b[33mdtype\u001b[0m=\u001b[35mfloat32\u001b[0m\u001b[1m)\u001b[0m,\n",
       "    \u001b[32m'top_items'\u001b[0m: \u001b[1;35marray\u001b[0m\u001b[1m(\u001b[0m\u001b[1m[\u001b[0m \u001b[1;36m6864\u001b[0m, \u001b[1;36m12221\u001b[0m, \u001b[1;36m15746\u001b[0m, \u001b[1;36m19658\u001b[0m,  \u001b[1;36m8465\u001b[0m\u001b[1m]\u001b[0m\u001b[1m)\u001b[0m\n",
       "\u001b[1m}\u001b[0m\n"
      ]
     },
     "metadata": {},
     "output_type": "display_data"
    },
    {
     "data": {
      "text/html": [
       "<h1>Query: image of a man in a desert </h1>"
      ],
      "text/plain": [
       "<IPython.core.display.HTML object>"
      ]
     },
     "metadata": {},
     "output_type": "display_data"
    },
    {
     "data": {
      "text/html": [
       "<img src=\"https://images.unsplash.com/photo-1543182791-a5e80144e4cc?w=200\"/>"
      ],
      "text/plain": [
       "<IPython.core.display.Image object>"
      ]
     },
     "metadata": {},
     "output_type": "display_data"
    },
    {
     "data": {
      "text/html": [
       "\n",
       "                     Photo title: person on desert   <br/>\n",
       "                     Photo by <a href=\"https://unsplash.com/@jeremybishop?utm_source=NaturalLanguageImageSearch&utm_medium=referral\">Jeremy Bishop</a> on <a href=\"https://unsplash.com/?utm_source=SearchWorkshop&utm_medium=referral\">Unsplash</a> <br/>\n",
       "                     Distance: 0.7813372015953064\n",
       "                     "
      ],
      "text/plain": [
       "<IPython.core.display.HTML object>"
      ]
     },
     "metadata": {},
     "output_type": "display_data"
    },
    {
     "name": "stdout",
     "output_type": "stream",
     "text": [
      "\n"
     ]
    },
    {
     "data": {
      "text/html": [
       "<img src=\"https://images.unsplash.com/photo-1557800525-58336b69e805?w=200\"/>"
      ],
      "text/plain": [
       "<IPython.core.display.Image object>"
      ]
     },
     "metadata": {},
     "output_type": "display_data"
    },
    {
     "data": {
      "text/html": [
       "\n",
       "                     Photo title: landscape photo of a desert   <br/>\n",
       "                     Photo by <a href=\"https://unsplash.com/@scottosbornphoto?utm_source=NaturalLanguageImageSearch&utm_medium=referral\">Scott Osborn</a> on <a href=\"https://unsplash.com/?utm_source=SearchWorkshop&utm_medium=referral\">Unsplash</a> <br/>\n",
       "                     Distance: 0.7438141107559204\n",
       "                     "
      ],
      "text/plain": [
       "<IPython.core.display.HTML object>"
      ]
     },
     "metadata": {},
     "output_type": "display_data"
    },
    {
     "name": "stdout",
     "output_type": "stream",
     "text": [
      "\n"
     ]
    },
    {
     "data": {
      "text/html": [
       "<img src=\"https://images.unsplash.com/photo-1551286663-102d2d654aa0?w=200\"/>"
      ],
      "text/plain": [
       "<IPython.core.display.Image object>"
      ]
     },
     "metadata": {},
     "output_type": "display_data"
    },
    {
     "data": {
      "text/html": [
       "\n",
       "                     Photo title: man standing at desert   <br/>\n",
       "                     Photo by <a href=\"https://unsplash.com/@davidmonje?utm_source=NaturalLanguageImageSearch&utm_medium=referral\">David Monje</a> on <a href=\"https://unsplash.com/?utm_source=SearchWorkshop&utm_medium=referral\">Unsplash</a> <br/>\n",
       "                     Distance: 0.7386584281921387\n",
       "                     "
      ],
      "text/plain": [
       "<IPython.core.display.HTML object>"
      ]
     },
     "metadata": {},
     "output_type": "display_data"
    },
    {
     "name": "stdout",
     "output_type": "stream",
     "text": [
      "\n"
     ]
    },
    {
     "data": {
      "text/html": [
       "<img src=\"https://images.unsplash.com/photo-1590244930261-c2a2e4a70b2b?w=200\"/>"
      ],
      "text/plain": [
       "<IPython.core.display.Image object>"
      ]
     },
     "metadata": {},
     "output_type": "display_data"
    },
    {
     "data": {
      "text/html": [
       "\n",
       "                     Photo title: grayscale photo of a desert   <br/>\n",
       "                     Photo by <a href=\"https://unsplash.com/@ruehab?utm_source=NaturalLanguageImageSearch&utm_medium=referral\">ruedi häberli</a> on <a href=\"https://unsplash.com/?utm_source=SearchWorkshop&utm_medium=referral\">Unsplash</a> <br/>\n",
       "                     Distance: 0.7376775145530701\n",
       "                     "
      ],
      "text/plain": [
       "<IPython.core.display.HTML object>"
      ]
     },
     "metadata": {},
     "output_type": "display_data"
    },
    {
     "name": "stdout",
     "output_type": "stream",
     "text": [
      "\n"
     ]
    },
    {
     "data": {
      "text/html": [
       "<img src=\"https://images.unsplash.com/photo-1567713002938-648baf71966e?w=200\"/>"
      ],
      "text/plain": [
       "<IPython.core.display.Image object>"
      ]
     },
     "metadata": {},
     "output_type": "display_data"
    },
    {
     "data": {
      "text/html": [
       "\n",
       "                     Photo title: silhouette of person standing on desert   <br/>\n",
       "                     Photo by <a href=\"https://unsplash.com/@dav_billings?utm_source=NaturalLanguageImageSearch&utm_medium=referral\">David Billings</a> on <a href=\"https://unsplash.com/?utm_source=SearchWorkshop&utm_medium=referral\">Unsplash</a> <br/>\n",
       "                     Distance: 0.726080596446991\n",
       "                     "
      ],
      "text/plain": [
       "<IPython.core.display.HTML object>"
      ]
     },
     "metadata": {},
     "output_type": "display_data"
    },
    {
     "name": "stdout",
     "output_type": "stream",
     "text": [
      "\n"
     ]
    }
   ],
   "source": [
    "find_results( \"image of a man in a desert\")"
   ]
  },
  {
   "cell_type": "code",
   "execution_count": null,
   "id": "b35efe1b-c973-432e-9fa3-47777e9ed6ed",
   "metadata": {},
   "outputs": [],
   "source": []
  },
  {
   "cell_type": "code",
   "execution_count": null,
   "id": "481c4649-02bb-4b75-80e1-b2609fca3371",
   "metadata": {},
   "outputs": [],
   "source": []
  },
  {
   "cell_type": "code",
   "execution_count": null,
   "id": "8195f668-ea93-47eb-8ef8-c32bd8634d9d",
   "metadata": {},
   "outputs": [],
   "source": []
  },
  {
   "cell_type": "code",
   "execution_count": null,
   "id": "d7a2555c-3bcd-4b4e-a8c4-5021c11ae3a7",
   "metadata": {},
   "outputs": [],
   "source": []
  },
  {
   "cell_type": "code",
   "execution_count": null,
   "id": "adeb699a-1a4a-4011-b579-99929d4b2c71",
   "metadata": {},
   "outputs": [],
   "source": []
  },
  {
   "cell_type": "markdown",
   "id": "a1c62e90-816d-4770-909b-54e447ee1dcc",
   "metadata": {},
   "source": [
    "## timing"
   ]
  },
  {
   "cell_type": "code",
   "execution_count": 23,
   "id": "03db9e5d-94c2-4385-91ff-d3e309baa968",
   "metadata": {},
   "outputs": [
    {
     "name": "stdout",
     "output_type": "stream",
     "text": [
      "44.6 ms ± 16.7 ms per loop (mean ± std. dev. of 7 runs, 10 loops each)\n"
     ]
    }
   ],
   "source": [
    "%%timeit\n",
    "search_query = \"Two dogs playing in the snow\"\n",
    "k=5\n",
    "text_features = model.encode(search_query)\n",
    "doc_scores = text_features @ corpus.T\n",
    "\n",
    "top_items = doc_scores.argsort()[-k:][::-1]\n"
   ]
  },
  {
   "cell_type": "code",
   "execution_count": null,
   "id": "3b594c9d-b5bd-4102-ba19-b0e45079cdf6",
   "metadata": {},
   "outputs": [],
   "source": []
  }
 ],
 "metadata": {
  "environment": {
   "kernel": "py38",
   "name": "pytorch-gpu.1-12.m99",
   "type": "gcloud",
   "uri": "gcr.io/deeplearning-platform-release/pytorch-gpu.1-12:m99"
  },
  "kernelspec": {
   "display_name": "py38",
   "language": "python",
   "name": "py38"
  },
  "language_info": {
   "codemirror_mode": {
    "name": "ipython",
    "version": 3
   },
   "file_extension": ".py",
   "mimetype": "text/x-python",
   "name": "python",
   "nbconvert_exporter": "python",
   "pygments_lexer": "ipython3",
   "version": "3.8.13"
  }
 },
 "nbformat": 4,
 "nbformat_minor": 5
}
