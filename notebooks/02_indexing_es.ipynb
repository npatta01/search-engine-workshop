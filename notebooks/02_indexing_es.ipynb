{
 "cells": [
  {
   "cell_type": "code",
   "execution_count": 1,
   "id": "09851f8b-1507-4326-9f9b-c06636539d18",
   "metadata": {},
   "outputs": [],
   "source": [
    "import modin"
   ]
  },
  {
   "cell_type": "code",
   "execution_count": 2,
   "id": "094b579e-4e68-4779-9d58-d7e440819a11",
   "metadata": {},
   "outputs": [
    {
     "data": {
      "text/plain": [
       "'0.15.2'"
      ]
     },
     "execution_count": 2,
     "metadata": {},
     "output_type": "execute_result"
    }
   ],
   "source": [
    "modin.__version__"
   ]
  },
  {
   "cell_type": "code",
   "execution_count": 3,
   "id": "ae71008e-fd17-4ddb-bd64-85609a416bdd",
   "metadata": {},
   "outputs": [],
   "source": [
    "import modin.pandas as mpd\n",
    "import pandas as pd\n",
    "from modin.distributed.dataframe.pandas import unwrap_partitions, from_partitions\n",
    "import haystack\n",
    "from haystack.document_stores import ElasticsearchDocumentStore\n",
    "from haystack.nodes import BM25Retriever\n",
    "import tqdm\n",
    "import ray"
   ]
  },
  {
   "cell_type": "code",
   "execution_count": 4,
   "id": "c6e9b837-2c38-45fa-9132-0e1188abec5a",
   "metadata": {},
   "outputs": [
    {
     "name": "stderr",
     "output_type": "stream",
     "text": [
      "2022-08-02 09:38:48,823\tINFO services.py:1374 -- View the Ray dashboard at \u001b[1m\u001b[32mhttp://127.0.0.1:8265\u001b[39m\u001b[22m\n"
     ]
    },
    {
     "data": {
      "text/plain": [
       "{'node_ip_address': '10.150.0.18',\n",
       " 'raylet_ip_address': '10.150.0.18',\n",
       " 'redis_address': '10.150.0.18:6379',\n",
       " 'object_store_address': '/tmp/ray/session_2022-08-02_09-38-46_405399_30728/sockets/plasma_store',\n",
       " 'raylet_socket_name': '/tmp/ray/session_2022-08-02_09-38-46_405399_30728/sockets/raylet',\n",
       " 'webui_url': '127.0.0.1:8265',\n",
       " 'session_dir': '/tmp/ray/session_2022-08-02_09-38-46_405399_30728',\n",
       " 'metrics_export_port': 45072,\n",
       " 'gcs_address': '10.150.0.18:46737',\n",
       " 'node_id': 'e73ce92fe06f3f88397fbab622152627a45743f1c5c95cd58409a8d6'}"
      ]
     },
     "execution_count": 4,
     "metadata": {},
     "output_type": "execute_result"
    }
   ],
   "source": [
    "ray.init(log_to_driver=False)"
   ]
  },
  {
   "cell_type": "code",
   "execution_count": 5,
   "id": "77a91672-00a7-472c-81cd-b503e2255d2a",
   "metadata": {},
   "outputs": [
    {
     "name": "stdout",
     "output_type": "stream",
     "text": [
      "Posts.xml     df_raw\t      stackoverflow.com-Posts.7z\n",
      "df_processed  df_raw.parquet  start.sh\n"
     ]
    }
   ],
   "source": [
    "!ls ../data"
   ]
  },
  {
   "cell_type": "code",
   "execution_count": null,
   "id": "e3b9c88b-dde1-496c-8853-70831386f035",
   "metadata": {},
   "outputs": [],
   "source": []
  },
  {
   "cell_type": "code",
   "execution_count": 6,
   "id": "fa07c569-eb91-4b02-9825-609565cce028",
   "metadata": {},
   "outputs": [
    {
     "name": "stderr",
     "output_type": "stream",
     "text": [
      "FutureWarning: 'ParquetDataset.pieces' attribute is deprecated as of pyarrow 5.0.0 and will be removed in a future version. Use the '.fragments' attribute instead\n",
      "FutureWarning: 'ParquetDataset.pieces' attribute is deprecated as of pyarrow 5.0.0 and will be removed in a future version. Use the '.fragments' attribute instead\n",
      "Metadata Fetch Progress: 100%|██████████| 5/5 [00:00<00:00, 13.36it/s]\n",
      "FutureWarning: 'ParquetDataset.pieces' attribute is deprecated as of pyarrow 5.0.0 and will be removed in a future version. Use the '.fragments' attribute instead\n"
     ]
    }
   ],
   "source": [
    "ds = ray.data.read_parquet(\"../data/df_processed\")\n"
   ]
  },
  {
   "cell_type": "code",
   "execution_count": 7,
   "id": "624493b9-ce8b-4737-8c82-f333a3c3315c",
   "metadata": {},
   "outputs": [
    {
     "data": {
      "text/plain": [
       "Dataset(num_blocks=32, num_rows=11588225, schema={Id: int64, AcceptedAnswerId: int64, Title: string, Body: string, Tags: string, ViewCount: int64, AnswerCount: int64, CommentCount: int64, Score: int64, CreationDate: timestamp[us], AnswerBody: string})"
      ]
     },
     "execution_count": 7,
     "metadata": {},
     "output_type": "execute_result"
    }
   ],
   "source": [
    "ds"
   ]
  },
  {
   "cell_type": "code",
   "execution_count": 11,
   "id": "21491548-df54-4c00-b13c-9a2aa3a4fde6",
   "metadata": {},
   "outputs": [
    {
     "data": {
      "text/plain": [
       "[{'Id': 19419450, 'AcceptedAnswerId': 19419843, 'Title': \"How to handle encrypted URL's in rails?\", 'Body': 'I am sending email to user, in that email one link is there to redirect that user to rails application. I want that link to be in encrypted form with domain name for example:\\n\\nhttps://www.domain_name.com?hdurstihnzdfalgfgdfhdrbnhduolsasrtyumyrtyr\\n\\nwhen user click on this link, he should directly redirect to controller method we specified in that URL which is not visible.\\n\\nController and methods given in URL may vary according to user.\\n\\nSo my question is how we can do this in rails. \\n\\nIf I encrypt controller name, method name and parameter we passed. How routes file come to know where to redirect this URL? How to decrypt this in routes file and redirect internally to decrypted URL?\\n', 'Tags': 'ruby,ruby-on-rails-3,ruby-on-rails-3.2,ruby-on-rails-3.1', 'ViewCount': 1900, 'AnswerCount': 2, 'CommentCount': 0, 'Score': 1, 'CreationDate': datetime.datetime(2013, 10, 17, 6, 11, 50, 320000), 'AnswerBody': 'Life will be easier if you can do a slight modification to your url, something like:\\n\\nhttps://www.domain_name.com/enc/hdurstihnzdfalgfgdfhdrbnhduolsasrtyumyrtyr\\n\\n\\nThen you can create a route for that path to redirect where you want.\\n\\nget \\'/enc/:encoded_path\\' => \"controller#action\"\\n\\n\\nThis would give you access to params[:encoded_path], which would equal hdurstihnzdfalgfgdfhdrbnhduolsasrtyumyrtyr in this case.  From there, you could decode in the controller and then redirect however you want.\\n'}]"
      ]
     },
     "execution_count": 11,
     "metadata": {},
     "output_type": "execute_result"
    }
   ],
   "source": [
    "ds.take(1)"
   ]
  },
  {
   "cell_type": "code",
   "execution_count": null,
   "id": "47cf260f-644a-494d-8fe5-bb8396bb1392",
   "metadata": {},
   "outputs": [],
   "source": [
    "#df = pd.read_parquet(\"../data/df_processed\")"
   ]
  },
  {
   "cell_type": "code",
   "execution_count": null,
   "id": "0a6f160d-6521-445d-9b2d-7ae7d008aaaf",
   "metadata": {},
   "outputs": [],
   "source": [
    "#df.head()"
   ]
  },
  {
   "cell_type": "code",
   "execution_count": null,
   "id": "e934beef-9c7c-4420-ab69-61afbe717c14",
   "metadata": {},
   "outputs": [],
   "source": [
    "#df.shape"
   ]
  },
  {
   "cell_type": "code",
   "execution_count": null,
   "id": "c84662c2-8a1f-4622-bb68-d8f4c28bfc10",
   "metadata": {},
   "outputs": [],
   "source": [
    "#df.head(5)"
   ]
  },
  {
   "cell_type": "code",
   "execution_count": 13,
   "id": "88deb758-c958-4eff-836a-1b5e83cc9a74",
   "metadata": {},
   "outputs": [],
   "source": [
    "def convert_to_document_dict(row):\n",
    "    d = row.to_dict()\n",
    "    #d['content']=d['Title'] + \"\\n\" + d['Body']\n",
    "    \n",
    "    d['content']=d['Title']\n",
    "    d['id']= d['Id']\n",
    "    d['Tags'] = d['Tags'].split(\",\")\n",
    "    del d['Id']\n",
    "    d_doc = haystack.schema.Document.from_dict(d)\n",
    "    \n",
    "    return d_doc\n",
    "\n",
    "\n",
    "def fetch_results(query:str, retriever, top_k=10):\n",
    "    candidate_documents = retriever.retrieve(\n",
    "        query=query,\n",
    "        top_k=10,\n",
    "    #filters={\"year\": [\"2015\", \"2016\", \"2017\"]}\n",
    "    )\n",
    "\n",
    "    for doc in candidate_documents:\n",
    "        print (doc.meta['Title'], doc.score, doc.id )\n",
    "        \n",
    "        \n",
    "def index_df(df, document_store):\n",
    "    docs = df.apply(convert_to_document_dict, axis=1).to_numpy().flatten().tolist()\n",
    "    \n",
    "    document_store.write_documents(docs, batch_size=1_000)\n",
    "    \n",
    "def index_individual_df(df, document_store):\n",
    "    \n",
    "    docs = df.apply(convert_to_document_dict, axis=1)\\\n",
    "            .apply(lambda x: document_store.write_documents ( [doc]))\n",
    "    \n",
    "    \n",
    "def transform_batch(df: pd.DataFrame) -> pd.DataFrame:\n",
    "    return len(df)"
   ]
  },
  {
   "cell_type": "code",
   "execution_count": null,
   "id": "08441897-8936-47c2-9319-bcebf2c79c46",
   "metadata": {},
   "outputs": [],
   "source": []
  },
  {
   "cell_type": "code",
   "execution_count": null,
   "id": "55866560-319f-44f9-a81e-d5b8fae82945",
   "metadata": {},
   "outputs": [],
   "source": [
    "#convert_to_document_dict ( df.iloc[0] )"
   ]
  },
  {
   "cell_type": "code",
   "execution_count": null,
   "id": "0746f5f0-8351-4781-b857-f95d112487c5",
   "metadata": {},
   "outputs": [],
   "source": [
    "#df.head(5).apply(convert_to_document_dict, axis=1)"
   ]
  },
  {
   "cell_type": "code",
   "execution_count": null,
   "id": "12364ce5-daa4-491b-a8ca-b051be985522",
   "metadata": {},
   "outputs": [],
   "source": []
  },
  {
   "cell_type": "code",
   "execution_count": null,
   "id": "4fd12e86-33aa-4997-a83d-0b899a1bfd19",
   "metadata": {},
   "outputs": [],
   "source": [
    "\n",
    "document_store = ElasticsearchDocumentStore(host=\"np-database.c.np-training.internal\"\n",
    "                                            , index=\"stackoverflow\", port=9200)\n",
    "\n",
    "\n",
    "retriever = BM25Retriever(document_store)\n"
   ]
  },
  {
   "cell_type": "code",
   "execution_count": null,
   "id": "65b71330-fca7-49e9-ad08-b0841e11b875",
   "metadata": {},
   "outputs": [],
   "source": [
    "document_store.delete_documents()"
   ]
  },
  {
   "cell_type": "code",
   "execution_count": null,
   "id": "a80650bd-7c97-4fe6-a937-837ca1f51bb2",
   "metadata": {},
   "outputs": [],
   "source": []
  },
  {
   "cell_type": "code",
   "execution_count": null,
   "id": "ee994145-9e4d-46f9-89f7-ac730d7a96c6",
   "metadata": {},
   "outputs": [],
   "source": []
  },
  {
   "cell_type": "code",
   "execution_count": null,
   "id": "02766228-6060-4150-b602-ae114c531ab6",
   "metadata": {},
   "outputs": [],
   "source": [
    "def apply_func(df):\n",
    "    print ( len (df))\n",
    "\n"
   ]
  },
  {
   "cell_type": "code",
   "execution_count": null,
   "id": "d3a2b538-19a8-40eb-9c74-ed766db03893",
   "metadata": {},
   "outputs": [],
   "source": [
    "df.apply(lambda s: apply_func(s.to_frame()), axis=1)"
   ]
  },
  {
   "cell_type": "code",
   "execution_count": null,
   "id": "c9c4bfd0-8779-425b-856e-6416ad3aaf73",
   "metadata": {},
   "outputs": [],
   "source": []
  },
  {
   "cell_type": "code",
   "execution_count": null,
   "id": "2ac9ed45-6759-4391-8e69-567c3444a62b",
   "metadata": {},
   "outputs": [],
   "source": [
    "@ray.remote\n",
    "def index_df_with_remote(partition):\n",
    "    df_subset = from_partitions( [ partitions ] ,axis=0)\n",
    "      \n",
    "    #docs = df_subset.apply(convert_to_document_dict, axis=1).to_numpy().flatten().tolist()\n",
    "    \n",
    "    #return  len (docs)\n",
    "     \n",
    "    return 5"
   ]
  },
  {
   "cell_type": "code",
   "execution_count": null,
   "id": "93af83a7-caac-472a-9eff-5c68168ba0b1",
   "metadata": {},
   "outputs": [],
   "source": []
  },
  {
   "cell_type": "code",
   "execution_count": null,
   "id": "381a4199-add7-441d-a842-e6053ec91313",
   "metadata": {},
   "outputs": [],
   "source": [
    "partitions = unwrap_partitions(df, axis=0, get_ip=True)\n"
   ]
  },
  {
   "cell_type": "code",
   "execution_count": null,
   "id": "72a4aa6c-c3b5-44c0-8307-20ca84fa447d",
   "metadata": {},
   "outputs": [],
   "source": [
    "futures = [index_df_with_remote.remote(partition) for partition in partitions]\n"
   ]
  },
  {
   "cell_type": "code",
   "execution_count": null,
   "id": "9fe327ef-4b62-4c10-ae59-724c681aee17",
   "metadata": {},
   "outputs": [],
   "source": [
    "print(ray.get(futures)) # [0, 1, 4, 9]\n"
   ]
  },
  {
   "cell_type": "code",
   "execution_count": null,
   "id": "1705bc6f-53af-4668-a9e8-109dfb1f66b4",
   "metadata": {},
   "outputs": [],
   "source": []
  },
  {
   "cell_type": "code",
   "execution_count": null,
   "id": "d5830ca8-6562-4b73-8354-7fa681ac5899",
   "metadata": {},
   "outputs": [],
   "source": [
    "?document_store.write_documents"
   ]
  },
  {
   "cell_type": "code",
   "execution_count": null,
   "id": "9bbacdf7-e650-4ecb-a1a2-9d8fc157efc2",
   "metadata": {},
   "outputs": [],
   "source": []
  },
  {
   "cell_type": "code",
   "execution_count": null,
   "id": "af3bf302-2221-44f5-b6a3-011f9ad62fbc",
   "metadata": {},
   "outputs": [],
   "source": []
  },
  {
   "cell_type": "code",
   "execution_count": null,
   "id": "f0302e50-2e68-4523-a260-c7db1182c900",
   "metadata": {},
   "outputs": [],
   "source": []
  },
  {
   "cell_type": "code",
   "execution_count": null,
   "id": "ed9dfb5e-805c-4837-883e-9bd74200c114",
   "metadata": {},
   "outputs": [],
   "source": [
    "\n"
   ]
  },
  {
   "cell_type": "code",
   "execution_count": null,
   "id": "59e96650-eae5-45c0-825e-3d7509fbb722",
   "metadata": {},
   "outputs": [],
   "source": [
    "index_df(df, document_store)"
   ]
  },
  {
   "cell_type": "code",
   "execution_count": null,
   "id": "50ee8831-e309-4252-8fe1-8a7259d6b5ba",
   "metadata": {},
   "outputs": [],
   "source": [
    "# index_individual_df(df, document_store)"
   ]
  },
  {
   "cell_type": "code",
   "execution_count": null,
   "id": "baba668e-0417-4023-8425-adce246b64a5",
   "metadata": {},
   "outputs": [],
   "source": [
    "!ls"
   ]
  },
  {
   "cell_type": "code",
   "execution_count": null,
   "id": "8274d5c3-45fc-4831-932c-b393f8b520fd",
   "metadata": {},
   "outputs": [],
   "source": [
    "#partitions = unwrap_partitions(df.head(500))\n",
    "\n"
   ]
  },
  {
   "cell_type": "code",
   "execution_count": null,
   "id": "d28895c5-6585-46f0-9885-6477f0b2c054",
   "metadata": {},
   "outputs": [],
   "source": [
    "\n",
    "# partitions = unwrap_partitions(df, axis=0, get_ip=True)\n",
    "\n",
    "# for i in tqdm.tqdm (range(len (partitions))):\n",
    "    \n",
    "#     df_subset = from_partitions(partitions[i:i+1],axis=0)\n",
    "    \n",
    "#     docs = df_subset.apply(convert_to_document_dict, axis=1).to_numpy().flatten().tolist()\n",
    "    \n",
    "#     document_store.write_documents(docs)"
   ]
  },
  {
   "cell_type": "code",
   "execution_count": null,
   "id": "4fb58dd6-4cd8-4428-9d21-4b257fe3ec31",
   "metadata": {},
   "outputs": [],
   "source": [
    "document_store.write_documents(docs)"
   ]
  },
  {
   "cell_type": "code",
   "execution_count": null,
   "id": "45fae193-47d4-4550-8848-4ee0f43f0aa4",
   "metadata": {},
   "outputs": [],
   "source": [
    "document_store.get_document_count()"
   ]
  },
  {
   "cell_type": "code",
   "execution_count": null,
   "id": "7248e6e7-9240-4cce-a9f5-24bd25aa0470",
   "metadata": {},
   "outputs": [],
   "source": []
  },
  {
   "cell_type": "code",
   "execution_count": null,
   "id": "dc2e9b09-ae46-4fa9-b6a5-9e085f22643d",
   "metadata": {},
   "outputs": [],
   "source": []
  },
  {
   "cell_type": "code",
   "execution_count": null,
   "id": "3f438a59-7293-4158-a4a2-81da38de12b7",
   "metadata": {},
   "outputs": [],
   "source": [
    "fetch_results(query=\"encrypted URL\", retriever=retriever)"
   ]
  },
  {
   "cell_type": "code",
   "execution_count": null,
   "id": "4b2833a7-1f62-4dfe-93e5-51d64c0f9cb5",
   "metadata": {},
   "outputs": [],
   "source": []
  }
 ],
 "metadata": {
  "environment": {
   "kernel": "stackoverflow",
   "name": "pytorch-gpu.1-11.m94",
   "type": "gcloud",
   "uri": "gcr.io/deeplearning-platform-release/pytorch-gpu.1-11:m94"
  },
  "kernelspec": {
   "display_name": "Python (stackoverflow)",
   "language": "python",
   "name": "stackoverflow"
  },
  "language_info": {
   "codemirror_mode": {
    "name": "ipython",
    "version": 3
   },
   "file_extension": ".py",
   "mimetype": "text/x-python",
   "name": "python",
   "nbconvert_exporter": "python",
   "pygments_lexer": "ipython3",
   "version": "3.7.12"
  }
 },
 "nbformat": 4,
 "nbformat_minor": 5
}
