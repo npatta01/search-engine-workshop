{
 "cells": [
  {
   "cell_type": "code",
   "execution_count": 1,
   "id": "ad224cf0-176b-4460-afc0-03f0aacdfe71",
   "metadata": {},
   "outputs": [],
   "source": [
    "import datetime\n",
    "import pickle\n",
    "import uuid\n",
    "import datetime\n",
    "import numpy as np\n",
    "import time"
   ]
  },
  {
   "cell_type": "code",
   "execution_count": null,
   "id": "9d7d74e6-1472-4f92-b582-fb74683a252e",
   "metadata": {},
   "outputs": [],
   "source": []
  },
  {
   "cell_type": "markdown",
   "id": "aae437e9-d66c-44a8-ab44-4523f7abb5b1",
   "metadata": {},
   "source": [
    "# Elastic Search"
   ]
  },
  {
   "cell_type": "code",
   "execution_count": null,
   "id": "b7831c3d-d97c-4027-bfbd-26b4f672b003",
   "metadata": {},
   "outputs": [],
   "source": [
    "import elasticsearch"
   ]
  },
  {
   "cell_type": "code",
   "execution_count": null,
   "id": "69aff282-e9b0-466b-b828-87b69e3dcbc1",
   "metadata": {},
   "outputs": [],
   "source": [
    "elasticsearch.__version__"
   ]
  },
  {
   "cell_type": "code",
   "execution_count": null,
   "id": "07c82415-1cd2-43e8-a88c-626eac3dea04",
   "metadata": {},
   "outputs": [],
   "source": [
    "from elasticsearch import Elasticsearch"
   ]
  },
  {
   "cell_type": "code",
   "execution_count": null,
   "id": "5e2563f6-5723-4aa6-a120-f4764c4d8b07",
   "metadata": {},
   "outputs": [],
   "source": [
    "es = Elasticsearch(hosts=\"http://localhost:9200\" , verify_certs=False)"
   ]
  },
  {
   "cell_type": "code",
   "execution_count": null,
   "id": "4f00be9b-8c7d-4993-9a75-2ed9f5a94b37",
   "metadata": {},
   "outputs": [],
   "source": [
    "index_name = \"test-index\""
   ]
  },
  {
   "cell_type": "code",
   "execution_count": null,
   "id": "056b1007-5cc8-4a40-ab59-ffda53e269d2",
   "metadata": {},
   "outputs": [],
   "source": [
    "doc = {\n",
    "    'author': 'kimchy',\n",
    "    'text': 'Elasticsearch: cool. bonsai cool.',\n",
    "    'timestamp': datetime.datetime.now(),\n",
    "}"
   ]
  },
  {
   "cell_type": "code",
   "execution_count": null,
   "id": "e994e955-f3ea-47f4-95e6-994390e5403e",
   "metadata": {},
   "outputs": [],
   "source": [
    "resp = es.index(index=index_name, id=1, document=doc)\n"
   ]
  },
  {
   "cell_type": "code",
   "execution_count": null,
   "id": "6ecf186b-458a-4bf6-9ed1-ff1030b72f50",
   "metadata": {},
   "outputs": [],
   "source": [
    "print(resp['result'])\n",
    "\n",
    "resp = es.get(index=index_name, id=1)\n",
    "print(resp['_source'])\n",
    "\n",
    "es.indices.refresh(index=index_name)\n",
    "\n",
    "resp = es.search(index=index_name, query={\"match_all\": {}})\n",
    "print(\"Got %d Hits:\" % resp['hits']['total']['value'])\n",
    "for hit in resp['hits']['hits']:\n",
    "    print(\"%(timestamp)s %(author)s: %(text)s\" % hit[\"_source\"])"
   ]
  },
  {
   "cell_type": "code",
   "execution_count": null,
   "id": "ec1b445b-6cc5-458d-bc9b-5b371c82d1a5",
   "metadata": {},
   "outputs": [],
   "source": []
  },
  {
   "cell_type": "markdown",
   "id": "cf0dd18f-8fde-4a72-b226-f58ab22c4520",
   "metadata": {},
   "source": [
    "# Milvus"
   ]
  },
  {
   "cell_type": "markdown",
   "id": "53965619-9c81-472e-9110-7c4e2b1cc3a7",
   "metadata": {},
   "source": [
    "https://github.com/milvus-io/pymilvus/blob/master/examples/hello_milvus.ipynb"
   ]
  },
  {
   "cell_type": "code",
   "execution_count": null,
   "id": "8c384da7-3a72-4b9e-bacf-4e188af6a3b4",
   "metadata": {},
   "outputs": [],
   "source": [
    "from pymilvus import (\n",
    "    connections,\n",
    "    utility,\n",
    "    FieldSchema, CollectionSchema, DataType,\n",
    "    Collection,\n",
    ")\n"
   ]
  },
  {
   "cell_type": "code",
   "execution_count": null,
   "id": "c4c65116-21fa-46da-ba1c-231bf2a7569a",
   "metadata": {},
   "outputs": [],
   "source": [
    "num_entities, dim = 3000, 8\n"
   ]
  },
  {
   "cell_type": "code",
   "execution_count": null,
   "id": "ee5a1a32-5735-4951-8724-9a773d036ea6",
   "metadata": {},
   "outputs": [],
   "source": [
    "collection_name=\"hello_milvus\""
   ]
  },
  {
   "cell_type": "code",
   "execution_count": null,
   "id": "e92ce9b8-cbb3-42d2-ad8b-791d21729d3c",
   "metadata": {},
   "outputs": [],
   "source": [
    "!ls"
   ]
  },
  {
   "cell_type": "code",
   "execution_count": null,
   "id": "55e5a4ad-9150-4b86-9cb6-f968b7fe51fd",
   "metadata": {},
   "outputs": [],
   "source": [
    "connections.connect(\"default\", host=\"localhost\", port=\"19530\")\n"
   ]
  },
  {
   "cell_type": "code",
   "execution_count": null,
   "id": "ae3415ca-a52f-4319-b20c-d08f49bd06e7",
   "metadata": {},
   "outputs": [],
   "source": [
    "if  utility.has_collection(collection_name):\n",
    "    utility.drop_collection(collection_name)"
   ]
  },
  {
   "cell_type": "code",
   "execution_count": null,
   "id": "a4324ba0-4050-4b3c-9ba6-6e591177509d",
   "metadata": {},
   "outputs": [],
   "source": [
    "utility.list_collections()"
   ]
  },
  {
   "cell_type": "markdown",
   "id": "c070eb28-fa18-43ad-a2de-1067b2476274",
   "metadata": {},
   "source": [
    "create collection"
   ]
  },
  {
   "cell_type": "code",
   "execution_count": null,
   "id": "5e08cee9-e957-44b5-856f-c4549faa7b86",
   "metadata": {},
   "outputs": [],
   "source": [
    "fields = [\n",
    "    FieldSchema(name=\"pk\", dtype=DataType.VARCHAR, is_primary=True, auto_id=False, max_length=100),\n",
    "    FieldSchema(name=\"random\", dtype=DataType.DOUBLE),\n",
    "    FieldSchema(name=\"embeddings\", dtype=DataType.FLOAT_VECTOR, dim=dim)\n",
    "]\n",
    "\n",
    "schema = CollectionSchema(fields, \"hello_milvus is the simplest demo to introduce the APIs\")\n",
    "\n",
    "hello_milvus = Collection(collection_name, schema, consistency_level=\"Strong\")"
   ]
  },
  {
   "cell_type": "code",
   "execution_count": null,
   "id": "8eff6925-4089-46c3-ae03-00fc748c3135",
   "metadata": {},
   "outputs": [],
   "source": []
  },
  {
   "cell_type": "code",
   "execution_count": null,
   "id": "99ee18c0-fb04-4970-8ba5-e36eca35680a",
   "metadata": {},
   "outputs": [],
   "source": [
    "rng = np.random.default_rng(seed=19530)\n",
    "entities = [\n",
    "    # provide the pk field because `auto_id` is set to False\n",
    "    [str(i) for i in range(num_entities)],\n",
    "    rng.random(num_entities).tolist(),  # field random, only supports list\n",
    "    rng.random((num_entities, dim)),    # field embeddings, supports numpy.ndarray and list\n",
    "]\n",
    "\n",
    "insert_result = hello_milvus.insert(entities)\n",
    "\n",
    "print(f\"Number of entities in Milvus: {hello_milvus.num_entities}\")  # check the num_entites"
   ]
  },
  {
   "cell_type": "code",
   "execution_count": null,
   "id": "ede3539d-e940-458d-a7d9-6c345178f357",
   "metadata": {},
   "outputs": [],
   "source": []
  },
  {
   "cell_type": "code",
   "execution_count": null,
   "id": "c272a614-8baa-4b3f-b77d-499aa30760d7",
   "metadata": {},
   "outputs": [],
   "source": [
    "index = {\n",
    "    \"index_type\": \"IVF_FLAT\",\n",
    "    \"metric_type\": \"L2\",\n",
    "    \"params\": {\"nlist\": 128},\n",
    "}\n",
    "\n",
    "hello_milvus.create_index(\"embeddings\", index)"
   ]
  },
  {
   "cell_type": "code",
   "execution_count": null,
   "id": "b2865bb6-854a-41a3-97f1-98634f9b57e4",
   "metadata": {},
   "outputs": [],
   "source": [
    "hello_milvus.load()\n"
   ]
  },
  {
   "cell_type": "code",
   "execution_count": null,
   "id": "0e8e8b2f-a00e-49a0-bbc9-cb99fecb0e7a",
   "metadata": {},
   "outputs": [],
   "source": [
    "vectors_to_search = entities[-1][-2:]\n",
    "search_params = {\n",
    "    \"metric_type\": \"L2\",\n",
    "    \"params\": {\"nprobe\": 10},\n",
    "}\n",
    "\n",
    "start_time = time.time()\n",
    "result = hello_milvus.search(vectors_to_search, \"embeddings\", search_params, limit=3, output_fields=[\"random\"])\n",
    "end_time = time.time()\n",
    "\n",
    "for hits in result:\n",
    "    for hit in hits:\n",
    "        print(f\"hit: {hit}, random field: {hit.entity.get('random')}\")\n",
    "print((end_time - start_time))"
   ]
  },
  {
   "cell_type": "code",
   "execution_count": null,
   "id": "385d0057-cc9e-4ee3-834e-bec4675cbb96",
   "metadata": {},
   "outputs": [],
   "source": []
  },
  {
   "cell_type": "code",
   "execution_count": null,
   "id": "70601713-0913-4ccc-9efd-9058397d1266",
   "metadata": {},
   "outputs": [],
   "source": []
  },
  {
   "cell_type": "code",
   "execution_count": null,
   "id": "4ef6e0b5-1975-422f-9fdd-6e45f2e0917a",
   "metadata": {},
   "outputs": [],
   "source": []
  },
  {
   "cell_type": "markdown",
   "id": "493a4373-3de7-4cff-9b5f-c0b7d0288506",
   "metadata": {},
   "source": [
    "# weaviate"
   ]
  },
  {
   "cell_type": "code",
   "execution_count": null,
   "id": "27b9d308-face-444b-bf3c-5d3bec0072bb",
   "metadata": {},
   "outputs": [],
   "source": [
    "#!pip install weaviate-client==3.8.0"
   ]
  },
  {
   "cell_type": "code",
   "execution_count": null,
   "id": "8f818cf1-ed3b-478f-bf5b-b513043ebcb1",
   "metadata": {},
   "outputs": [],
   "source": [
    "import weaviate\n"
   ]
  },
  {
   "cell_type": "code",
   "execution_count": null,
   "id": "595ed265-609c-41be-b9f9-eadfb9820a2f",
   "metadata": {},
   "outputs": [],
   "source": [
    "def generate_uuid(class_name: str, identifier: str,\n",
    "                  test: str = 'teststrong') -> str:\n",
    "    \"\"\" Generate a uuid based on an identifier\n",
    "    :param identifier: characters used to generate the uuid\n",
    "    :type identifier: str, required\n",
    "    :param class_name: classname of the object to create a uuid for\n",
    "    :type class_name: str, required\n",
    "    \"\"\"\n",
    "    test = 'overwritten'\n",
    "    return str(uuid.uuid5(uuid.NAMESPACE_DNS, class_name + identifier))\n",
    "\n",
    "def log(i: str) -> str:\n",
    "    \"\"\" A simple logger\n",
    "    :param i: the log message\n",
    "    :type i: str\n",
    "    \"\"\"\n",
    "    now = datetime.datetime.utcnow()\n",
    "    print(now, \"| \" + str(i))"
   ]
  },
  {
   "cell_type": "code",
   "execution_count": null,
   "id": "0cd92cf1-a8f6-4f71-ab1b-008d17e659b3",
   "metadata": {},
   "outputs": [],
   "source": [
    "client = weaviate.Client(\"http://localhost:8081\")\n",
    "print(\"Client created\")"
   ]
  },
  {
   "cell_type": "code",
   "execution_count": null,
   "id": "3645408d-9a51-41b9-aa02-afd549cacdc3",
   "metadata": {},
   "outputs": [],
   "source": [
    "from sentence_transformers import SentenceTransformer\n",
    "sbert_model = SentenceTransformer('bert-base-nli-mean-tokens') #, Initially load using this, then start using pickle to save time."
   ]
  },
  {
   "cell_type": "code",
   "execution_count": null,
   "id": "b1499af5-7259-4e05-afca-117a12dfb659",
   "metadata": {},
   "outputs": [],
   "source": [
    "# from sentence_transformers import SentenceTransformer\n",
    "# # sbert_model = SentenceTransformer('bert-base-nli-mean-tokens'), Initially load using this, then start using pickle to save time.\n",
    "# with open(\"sbert\",'rb') as f:\n",
    "#     sbert_model = pickle.load(f)\n",
    "\n",
    "print(\"sbert loaded\")\n",
    "\n",
    "# I am adding the texts in this list,\n",
    "# We can also add sentences of a large text individually to get more precise results when we query.\n",
    "documents = [\n",
    "    '''Taj mahal is an immense mausoleum of white marble, built in Agra between 1631 and 1648 by order of the Mughal emperor Shah Jahan in memory of his favourite wife, the Taj Mahal is the jewel of Muslim art in India and one of the universally admired masterpieces of the world's heritage.''',\n",
    "    '''The Statue of Liberty is a 305-foot (93-metre) statue located on Liberty Island in Upper New York Bay, off the coast of New York City. The statue is a personification of liberty in the form of a woman. She holds a torch in her raised right hand and clutches a tablet in her left.''',\n",
    "    '''The Statue of Liberty was sculpted between 1875 and 1884 under the direction of French sculptor Frédéric-Auguste Bartholdi, who began drafting designs in 1870. Bartholdi and his team hammered roughly 31 tons of copper sheets onto a steel frame. Before being mounted on its current pedestal, the statue stood over 151 feet (46 metres) tall and weighed 225 tons.''',\n",
    "    '''Badminton is a racquet sport played using racquets to hit a shuttlecock across a net. Although it may be played with larger teams, the most common forms of the game are \"singles\" (with one player per side) and \"doubles\" (with two players per side). Badminton is often played as a casual outdoor activity in a yard or on a beach; formal games are played on a rectangular indoor court. Points are scored by striking the shuttlecock with the racquet and landing it within the opposing side's half of the court.''',\n",
    "    '''James Bond is a fictional character created by novelist Ian Fleming in 1953.''',\n",
    "    '''A British secret agent working for MI6 under the codename 007, he has been portrayed on film by actors Sean Connery, David Niven, George Lazenby, Roger Moore, Timothy Dalton, Pierce Brosnan and Daniel Craig in twenty-seven productions.'''\n",
    "]\n",
    "\n",
    "# A dictionary to store the document and its feature vector (the vector generated by SBERT)\n",
    "doc_and_vec = {}\n",
    "\n",
    "def giveVector(texts):\n",
    "    # this function returns the vector using SBERT\n",
    "    return sbert_model.encode(texts)\n",
    "\n",
    "vectors = giveVector(documents)\n",
    "\n",
    "for doc,vec in zip(documents,vectors):\n",
    "    doc_and_vec[doc] = vec\n",
    "\n",
    "print(\"vectors formed\")\n",
    "\n",
    "client.schema.delete_all()\n",
    "class_obj = {\n",
    "    \"class\": \"Post\",\n",
    "    \"vectorizer\": \"none\", # we are providing the vectors ourselves through our SBERT model, so this field is none\n",
    "    \"properties\": [{\n",
    "        \"name\": \"content\",\n",
    "        \"dataType\": [\"text\"],\n",
    "    }]\n",
    "}\n",
    "\n",
    "client.schema.create_class(class_obj)\n",
    "print(\"Schema class created\")\n",
    "\n",
    "for doc,vec in doc_and_vec.items():\n",
    "    data_obj = {\n",
    "    \"content\": doc\n",
    "    }\n",
    "    client.data_object.create(\n",
    "    data_obj,\n",
    "    \"Post\",\n",
    "    generate_uuid('Post',doc),\n",
    "    vector = vec,\n",
    "    )\n",
    "print(\"Finished importing data\")\n",
    "\n",
    "def process_query(vec):\n",
    "    nearVector = {\"vector\": vec}\n",
    "    res = client.query.get(\"Post\", [\"content\", \"_additional {certainty}\"]).with_near_vector(nearVector).do()\n",
    "    print(res)\n",
    "    print(\"------------------------------------------------------------------------------------------------\")\n",
    "    print(\"-----------------------------------Most similar text -------------------------------------------\")\n",
    "    print(res['data']['Get']['Post'][0]['content'])\n",
    "    print(\"------------------------------------------------------------------------------------------------\")\n",
    "    print(res['data']['Get']['Post'][1]['content'])\n",
    "    print(\"------------------------------------------------------------------------------------------------\")\n",
    "\n",
    "    \n"
   ]
  },
  {
   "cell_type": "code",
   "execution_count": null,
   "id": "065e4517-d430-48c7-89ae-9cd29c3a31f3",
   "metadata": {},
   "outputs": [],
   "source": [
    "query =\"american tourist destination\"\n",
    "query_vec = sbert_model.encode(query)\n",
    "process_query(query_vec)\n"
   ]
  },
  {
   "cell_type": "code",
   "execution_count": null,
   "id": "1a232068-a38a-490b-a329-d5b5e773174b",
   "metadata": {},
   "outputs": [],
   "source": []
  }
 ],
 "metadata": {
  "environment": {
   "kernel": "python3",
   "name": "pytorch-gpu.1-12.m99",
   "type": "gcloud",
   "uri": "gcr.io/deeplearning-platform-release/pytorch-gpu.1-12:m99"
  },
  "kernelspec": {
   "display_name": "Python 3",
   "language": "python",
   "name": "python3"
  },
  "language_info": {
   "codemirror_mode": {
    "name": "ipython",
    "version": 3
   },
   "file_extension": ".py",
   "mimetype": "text/x-python",
   "name": "python",
   "nbconvert_exporter": "python",
   "pygments_lexer": "ipython3",
   "version": "3.7.12"
  }
 },
 "nbformat": 4,
 "nbformat_minor": 5
}
